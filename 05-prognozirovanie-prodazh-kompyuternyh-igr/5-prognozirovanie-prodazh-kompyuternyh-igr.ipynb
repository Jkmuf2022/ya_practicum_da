{
 "cells": [
  {
   "cell_type": "markdown",
   "metadata": {},
   "source": [
    "# Описание проекта"
   ]
  },
  {
   "cell_type": "markdown",
   "metadata": {},
   "source": [
    "Интернет-магазине «Стримчик» продаёт по всему миру компьютерные игры. Из открытых источников доступны исторические данные о продажах игр, оценки пользователей и экспертов, жанры и платформы (например, Xbox или PlayStation). Нужно выявить определяющие успешность игры закономерности. Это позволит сделать ставку на потенциально популярный продукт и спланировать рекламные кампании. \n",
    "\n",
    "В учебных целях анализируем данные до 2016 года. Представим, что сейчас декабрь 2016 г., и мы планируем кампанию на 2017-й."
   ]
  },
  {
   "cell_type": "markdown",
   "metadata": {},
   "source": [
    "# Описание данных"
   ]
  },
  {
   "cell_type": "markdown",
   "metadata": {},
   "source": [
    "Name — название игры  \n",
    "Platform — платформа  \n",
    "Year_of_Release — год выпуска  \n",
    "Genre — жанр игры  \n",
    "NA_sales — продажи в Северной Америке (миллионы проданных копий)  \n",
    "EU_sales — продажи в Европе (миллионы проданных копий)  \n",
    "JP_sales — продажи в Японии (миллионы проданных копий)  \n",
    "Other_sales — продажи в других странах (миллионы проданных копий)  \n",
    "Critic_Score — оценка критиков (максимум 100)  \n",
    "User_Score — оценка пользователей (максимум 10)  \n",
    "Rating — рейтинг от организации ESRB  \n",
    "(англ. Entertainment Software Rating Board).  \n",
    "Эта ассоциация определяет рейтинг компьютерных игр и присваивает им подходящую возрастную категорию."
   ]
  },
  {
   "cell_type": "code",
   "execution_count": 1,
   "metadata": {},
   "outputs": [],
   "source": [
    "import pandas as pd\n",
    "import numpy as np\n",
    "import matplotlib.pyplot as plt\n",
    "from scipy.stats import ttest_ind\n",
    "from scipy import stats as st\n",
    "import seaborn as sns"
   ]
  },
  {
   "cell_type": "code",
   "execution_count": 2,
   "metadata": {},
   "outputs": [],
   "source": [
    "games = pd.read_csv('/datasets/games.csv')"
   ]
  },
  {
   "cell_type": "code",
   "execution_count": 3,
   "metadata": {},
   "outputs": [
    {
     "data": {
      "text/html": [
       "<div>\n",
       "<style scoped>\n",
       "    .dataframe tbody tr th:only-of-type {\n",
       "        vertical-align: middle;\n",
       "    }\n",
       "\n",
       "    .dataframe tbody tr th {\n",
       "        vertical-align: top;\n",
       "    }\n",
       "\n",
       "    .dataframe thead th {\n",
       "        text-align: right;\n",
       "    }\n",
       "</style>\n",
       "<table border=\"1\" class=\"dataframe\">\n",
       "  <thead>\n",
       "    <tr style=\"text-align: right;\">\n",
       "      <th></th>\n",
       "      <th>Name</th>\n",
       "      <th>Platform</th>\n",
       "      <th>Year_of_Release</th>\n",
       "      <th>Genre</th>\n",
       "      <th>NA_sales</th>\n",
       "      <th>EU_sales</th>\n",
       "      <th>JP_sales</th>\n",
       "      <th>Other_sales</th>\n",
       "      <th>Critic_Score</th>\n",
       "      <th>User_Score</th>\n",
       "      <th>Rating</th>\n",
       "    </tr>\n",
       "  </thead>\n",
       "  <tbody>\n",
       "    <tr>\n",
       "      <td>0</td>\n",
       "      <td>Wii Sports</td>\n",
       "      <td>Wii</td>\n",
       "      <td>2006.0</td>\n",
       "      <td>Sports</td>\n",
       "      <td>41.36</td>\n",
       "      <td>28.96</td>\n",
       "      <td>3.77</td>\n",
       "      <td>8.45</td>\n",
       "      <td>76.0</td>\n",
       "      <td>8</td>\n",
       "      <td>E</td>\n",
       "    </tr>\n",
       "    <tr>\n",
       "      <td>1</td>\n",
       "      <td>Super Mario Bros.</td>\n",
       "      <td>NES</td>\n",
       "      <td>1985.0</td>\n",
       "      <td>Platform</td>\n",
       "      <td>29.08</td>\n",
       "      <td>3.58</td>\n",
       "      <td>6.81</td>\n",
       "      <td>0.77</td>\n",
       "      <td>NaN</td>\n",
       "      <td>NaN</td>\n",
       "      <td>NaN</td>\n",
       "    </tr>\n",
       "    <tr>\n",
       "      <td>2</td>\n",
       "      <td>Mario Kart Wii</td>\n",
       "      <td>Wii</td>\n",
       "      <td>2008.0</td>\n",
       "      <td>Racing</td>\n",
       "      <td>15.68</td>\n",
       "      <td>12.76</td>\n",
       "      <td>3.79</td>\n",
       "      <td>3.29</td>\n",
       "      <td>82.0</td>\n",
       "      <td>8.3</td>\n",
       "      <td>E</td>\n",
       "    </tr>\n",
       "    <tr>\n",
       "      <td>3</td>\n",
       "      <td>Wii Sports Resort</td>\n",
       "      <td>Wii</td>\n",
       "      <td>2009.0</td>\n",
       "      <td>Sports</td>\n",
       "      <td>15.61</td>\n",
       "      <td>10.93</td>\n",
       "      <td>3.28</td>\n",
       "      <td>2.95</td>\n",
       "      <td>80.0</td>\n",
       "      <td>8</td>\n",
       "      <td>E</td>\n",
       "    </tr>\n",
       "    <tr>\n",
       "      <td>4</td>\n",
       "      <td>Pokemon Red/Pokemon Blue</td>\n",
       "      <td>GB</td>\n",
       "      <td>1996.0</td>\n",
       "      <td>Role-Playing</td>\n",
       "      <td>11.27</td>\n",
       "      <td>8.89</td>\n",
       "      <td>10.22</td>\n",
       "      <td>1.00</td>\n",
       "      <td>NaN</td>\n",
       "      <td>NaN</td>\n",
       "      <td>NaN</td>\n",
       "    </tr>\n",
       "    <tr>\n",
       "      <td>5</td>\n",
       "      <td>Tetris</td>\n",
       "      <td>GB</td>\n",
       "      <td>1989.0</td>\n",
       "      <td>Puzzle</td>\n",
       "      <td>23.20</td>\n",
       "      <td>2.26</td>\n",
       "      <td>4.22</td>\n",
       "      <td>0.58</td>\n",
       "      <td>NaN</td>\n",
       "      <td>NaN</td>\n",
       "      <td>NaN</td>\n",
       "    </tr>\n",
       "    <tr>\n",
       "      <td>6</td>\n",
       "      <td>New Super Mario Bros.</td>\n",
       "      <td>DS</td>\n",
       "      <td>2006.0</td>\n",
       "      <td>Platform</td>\n",
       "      <td>11.28</td>\n",
       "      <td>9.14</td>\n",
       "      <td>6.50</td>\n",
       "      <td>2.88</td>\n",
       "      <td>89.0</td>\n",
       "      <td>8.5</td>\n",
       "      <td>E</td>\n",
       "    </tr>\n",
       "    <tr>\n",
       "      <td>7</td>\n",
       "      <td>Wii Play</td>\n",
       "      <td>Wii</td>\n",
       "      <td>2006.0</td>\n",
       "      <td>Misc</td>\n",
       "      <td>13.96</td>\n",
       "      <td>9.18</td>\n",
       "      <td>2.93</td>\n",
       "      <td>2.84</td>\n",
       "      <td>58.0</td>\n",
       "      <td>6.6</td>\n",
       "      <td>E</td>\n",
       "    </tr>\n",
       "    <tr>\n",
       "      <td>8</td>\n",
       "      <td>New Super Mario Bros. Wii</td>\n",
       "      <td>Wii</td>\n",
       "      <td>2009.0</td>\n",
       "      <td>Platform</td>\n",
       "      <td>14.44</td>\n",
       "      <td>6.94</td>\n",
       "      <td>4.70</td>\n",
       "      <td>2.24</td>\n",
       "      <td>87.0</td>\n",
       "      <td>8.4</td>\n",
       "      <td>E</td>\n",
       "    </tr>\n",
       "    <tr>\n",
       "      <td>9</td>\n",
       "      <td>Duck Hunt</td>\n",
       "      <td>NES</td>\n",
       "      <td>1984.0</td>\n",
       "      <td>Shooter</td>\n",
       "      <td>26.93</td>\n",
       "      <td>0.63</td>\n",
       "      <td>0.28</td>\n",
       "      <td>0.47</td>\n",
       "      <td>NaN</td>\n",
       "      <td>NaN</td>\n",
       "      <td>NaN</td>\n",
       "    </tr>\n",
       "  </tbody>\n",
       "</table>\n",
       "</div>"
      ],
      "text/plain": [
       "                        Name Platform  Year_of_Release         Genre  \\\n",
       "0                 Wii Sports      Wii           2006.0        Sports   \n",
       "1          Super Mario Bros.      NES           1985.0      Platform   \n",
       "2             Mario Kart Wii      Wii           2008.0        Racing   \n",
       "3          Wii Sports Resort      Wii           2009.0        Sports   \n",
       "4   Pokemon Red/Pokemon Blue       GB           1996.0  Role-Playing   \n",
       "5                     Tetris       GB           1989.0        Puzzle   \n",
       "6      New Super Mario Bros.       DS           2006.0      Platform   \n",
       "7                   Wii Play      Wii           2006.0          Misc   \n",
       "8  New Super Mario Bros. Wii      Wii           2009.0      Platform   \n",
       "9                  Duck Hunt      NES           1984.0       Shooter   \n",
       "\n",
       "   NA_sales  EU_sales  JP_sales  Other_sales  Critic_Score User_Score Rating  \n",
       "0     41.36     28.96      3.77         8.45          76.0          8      E  \n",
       "1     29.08      3.58      6.81         0.77           NaN        NaN    NaN  \n",
       "2     15.68     12.76      3.79         3.29          82.0        8.3      E  \n",
       "3     15.61     10.93      3.28         2.95          80.0          8      E  \n",
       "4     11.27      8.89     10.22         1.00           NaN        NaN    NaN  \n",
       "5     23.20      2.26      4.22         0.58           NaN        NaN    NaN  \n",
       "6     11.28      9.14      6.50         2.88          89.0        8.5      E  \n",
       "7     13.96      9.18      2.93         2.84          58.0        6.6      E  \n",
       "8     14.44      6.94      4.70         2.24          87.0        8.4      E  \n",
       "9     26.93      0.63      0.28         0.47           NaN        NaN    NaN  "
      ]
     },
     "execution_count": 3,
     "metadata": {},
     "output_type": "execute_result"
    }
   ],
   "source": [
    "games.head(10)"
   ]
  },
  {
   "cell_type": "markdown",
   "metadata": {},
   "source": [
    "# Изучение таблицы"
   ]
  },
  {
   "cell_type": "code",
   "execution_count": 4,
   "metadata": {},
   "outputs": [
    {
     "name": "stdout",
     "output_type": "stream",
     "text": [
      "<class 'pandas.core.frame.DataFrame'>\n",
      "RangeIndex: 16715 entries, 0 to 16714\n",
      "Data columns (total 11 columns):\n",
      "Name               16713 non-null object\n",
      "Platform           16715 non-null object\n",
      "Year_of_Release    16446 non-null float64\n",
      "Genre              16713 non-null object\n",
      "NA_sales           16715 non-null float64\n",
      "EU_sales           16715 non-null float64\n",
      "JP_sales           16715 non-null float64\n",
      "Other_sales        16715 non-null float64\n",
      "Critic_Score       8137 non-null float64\n",
      "User_Score         10014 non-null object\n",
      "Rating             9949 non-null object\n",
      "dtypes: float64(6), object(5)\n",
      "memory usage: 1.4+ MB\n"
     ]
    }
   ],
   "source": [
    "games.info()"
   ]
  },
  {
   "cell_type": "code",
   "execution_count": 5,
   "metadata": {},
   "outputs": [
    {
     "data": {
      "text/plain": [
       "0"
      ]
     },
     "execution_count": 5,
     "metadata": {},
     "output_type": "execute_result"
    }
   ],
   "source": [
    "games.duplicated().sum()"
   ]
  },
  {
   "cell_type": "markdown",
   "metadata": {},
   "source": [
    "Датасет состоит из 11 столбцов и 16715 строк. Дубликатов не обнаружено.\n",
    "Видим пропуски в столбцах Name, Year_of_Release, Genre, Critic_Score, User_Score, Rating.  \n",
    "Для столбца User_Score поменяем формат на числовой. "
   ]
  },
  {
   "cell_type": "markdown",
   "metadata": {},
   "source": [
    "# Подготовка данных"
   ]
  },
  {
   "cell_type": "markdown",
   "metadata": {},
   "source": [
    "Заменим названия столбцов (приведем к нижнему регистру);    \n",
    "Преобразуем данные в нужные типы;  \n",
    "Обработаем пропуски при необходимости;    \n",
    "Посчитаем суммарные продажи во всех регионах и запишем их в отдельный столбец."
   ]
  },
  {
   "cell_type": "code",
   "execution_count": 6,
   "metadata": {},
   "outputs": [
    {
     "data": {
      "text/plain": [
       "Index(['name', 'platform', 'year_of_release', 'genre', 'na_sales', 'eu_sales',\n",
       "       'jp_sales', 'other_sales', 'critic_score', 'user_score', 'rating'],\n",
       "      dtype='object')"
      ]
     },
     "execution_count": 6,
     "metadata": {},
     "output_type": "execute_result"
    }
   ],
   "source": [
    "games.columns = games.columns.str.lower()\n",
    "games.columns"
   ]
  },
  {
   "cell_type": "markdown",
   "metadata": {},
   "source": [
    "Приводим названия столбцов к нижнему регистру."
   ]
  },
  {
   "cell_type": "code",
   "execution_count": 7,
   "metadata": {},
   "outputs": [],
   "source": [
    "#games['user_score']= games['user_score'].astype('float64')"
   ]
  },
  {
   "cell_type": "markdown",
   "metadata": {},
   "source": [
    "Поменять тип данных пока не получилось из-за tbd(to be determined- быть определённым) значений. Пишется абревиатура тогда, когда игра имеет недостаточное количество отзывов, тут можно предположить, что не все пользователи игр могут оставлять отзывы на англоязычных ресурсах, а кто-то из них просто пока не оставил, поэтому меняем это значение на NAN. "
   ]
  },
  {
   "cell_type": "code",
   "execution_count": 8,
   "metadata": {},
   "outputs": [],
   "source": [
    "games['user_score'] = games['user_score'].replace('tbd', np.NaN)\n",
    "games['user_score']= games['user_score'].astype('float64')"
   ]
  },
  {
   "cell_type": "markdown",
   "metadata": {},
   "source": [
    "Меняем тип user_score на числовой дробный, подобно другим столбцам с рейтингами, так как\n",
    "для дальнейших исследований тип object помешает анализу. "
   ]
  },
  {
   "cell_type": "code",
   "execution_count": 9,
   "metadata": {},
   "outputs": [
    {
     "data": {
      "text/plain": [
       "0"
      ]
     },
     "metadata": {},
     "output_type": "display_data"
    }
   ],
   "source": [
    "display(games.loc[games['rating'] =='tbd', 'rating'].count())"
   ]
  },
  {
   "cell_type": "markdown",
   "metadata": {},
   "source": [
    " Проверяем наличие tbd в столбце rating\n"
   ]
  },
  {
   "cell_type": "markdown",
   "metadata": {},
   "source": [
    "# Пропуски"
   ]
  },
  {
   "cell_type": "code",
   "execution_count": 10,
   "metadata": {},
   "outputs": [
    {
     "data": {
      "text/html": [
       "<div>\n",
       "<style scoped>\n",
       "    .dataframe tbody tr th:only-of-type {\n",
       "        vertical-align: middle;\n",
       "    }\n",
       "\n",
       "    .dataframe tbody tr th {\n",
       "        vertical-align: top;\n",
       "    }\n",
       "\n",
       "    .dataframe thead th {\n",
       "        text-align: right;\n",
       "    }\n",
       "</style>\n",
       "<table border=\"1\" class=\"dataframe\">\n",
       "  <thead>\n",
       "    <tr style=\"text-align: right;\">\n",
       "      <th></th>\n",
       "      <th>name</th>\n",
       "      <th>platform</th>\n",
       "      <th>year_of_release</th>\n",
       "      <th>genre</th>\n",
       "      <th>na_sales</th>\n",
       "      <th>eu_sales</th>\n",
       "      <th>jp_sales</th>\n",
       "      <th>other_sales</th>\n",
       "      <th>critic_score</th>\n",
       "      <th>user_score</th>\n",
       "      <th>rating</th>\n",
       "    </tr>\n",
       "  </thead>\n",
       "  <tbody>\n",
       "    <tr>\n",
       "      <td>659</td>\n",
       "      <td>NaN</td>\n",
       "      <td>GEN</td>\n",
       "      <td>1993.0</td>\n",
       "      <td>NaN</td>\n",
       "      <td>1.78</td>\n",
       "      <td>0.53</td>\n",
       "      <td>0.00</td>\n",
       "      <td>0.08</td>\n",
       "      <td>NaN</td>\n",
       "      <td>NaN</td>\n",
       "      <td>NaN</td>\n",
       "    </tr>\n",
       "    <tr>\n",
       "      <td>14244</td>\n",
       "      <td>NaN</td>\n",
       "      <td>GEN</td>\n",
       "      <td>1993.0</td>\n",
       "      <td>NaN</td>\n",
       "      <td>0.00</td>\n",
       "      <td>0.00</td>\n",
       "      <td>0.03</td>\n",
       "      <td>0.00</td>\n",
       "      <td>NaN</td>\n",
       "      <td>NaN</td>\n",
       "      <td>NaN</td>\n",
       "    </tr>\n",
       "  </tbody>\n",
       "</table>\n",
       "</div>"
      ],
      "text/plain": [
       "      name platform  year_of_release genre  na_sales  eu_sales  jp_sales  \\\n",
       "659    NaN      GEN           1993.0   NaN      1.78      0.53      0.00   \n",
       "14244  NaN      GEN           1993.0   NaN      0.00      0.00      0.03   \n",
       "\n",
       "       other_sales  critic_score  user_score rating  \n",
       "659           0.08           NaN         NaN    NaN  \n",
       "14244         0.00           NaN         NaN    NaN  "
      ]
     },
     "execution_count": 10,
     "metadata": {},
     "output_type": "execute_result"
    }
   ],
   "source": [
    "games.loc[games['name'].isnull()]"
   ]
  },
  {
   "cell_type": "markdown",
   "metadata": {},
   "source": [
    "Проверяем пропуски в столбце Names(так совпало, что в этих строках так же пропуски в столбце Genre, поэтому заодно избавляемся от них тоже), видим что в строках пропущены поти все данные и они будут неинформативны  в дальнейшем, поэтому- удаляем и проверяем, что пропусков теперь 0:"
   ]
  },
  {
   "cell_type": "code",
   "execution_count": 11,
   "metadata": {},
   "outputs": [
    {
     "data": {
      "text/plain": [
       "0"
      ]
     },
     "execution_count": 11,
     "metadata": {},
     "output_type": "execute_result"
    }
   ],
   "source": [
    "games = games.dropna(subset=['name'])\n",
    "games['name'].isnull().sum()"
   ]
  },
  {
   "cell_type": "markdown",
   "metadata": {},
   "source": [
    "В столбце year_of_release посмотрим количество пропусков"
   ]
  },
  {
   "cell_type": "code",
   "execution_count": 12,
   "metadata": {},
   "outputs": [
    {
     "data": {
      "text/html": [
       "<div>\n",
       "<style scoped>\n",
       "    .dataframe tbody tr th:only-of-type {\n",
       "        vertical-align: middle;\n",
       "    }\n",
       "\n",
       "    .dataframe tbody tr th {\n",
       "        vertical-align: top;\n",
       "    }\n",
       "\n",
       "    .dataframe thead th {\n",
       "        text-align: right;\n",
       "    }\n",
       "</style>\n",
       "<table border=\"1\" class=\"dataframe\">\n",
       "  <thead>\n",
       "    <tr style=\"text-align: right;\">\n",
       "      <th></th>\n",
       "      <th>name</th>\n",
       "      <th>platform</th>\n",
       "      <th>year_of_release</th>\n",
       "      <th>genre</th>\n",
       "      <th>na_sales</th>\n",
       "      <th>eu_sales</th>\n",
       "      <th>jp_sales</th>\n",
       "      <th>other_sales</th>\n",
       "      <th>critic_score</th>\n",
       "      <th>user_score</th>\n",
       "      <th>rating</th>\n",
       "    </tr>\n",
       "  </thead>\n",
       "  <tbody>\n",
       "    <tr>\n",
       "      <td>183</td>\n",
       "      <td>Madden NFL 2004</td>\n",
       "      <td>PS2</td>\n",
       "      <td>NaN</td>\n",
       "      <td>Sports</td>\n",
       "      <td>4.26</td>\n",
       "      <td>0.26</td>\n",
       "      <td>0.01</td>\n",
       "      <td>0.71</td>\n",
       "      <td>94.0</td>\n",
       "      <td>8.5</td>\n",
       "      <td>E</td>\n",
       "    </tr>\n",
       "    <tr>\n",
       "      <td>377</td>\n",
       "      <td>FIFA Soccer 2004</td>\n",
       "      <td>PS2</td>\n",
       "      <td>NaN</td>\n",
       "      <td>Sports</td>\n",
       "      <td>0.59</td>\n",
       "      <td>2.36</td>\n",
       "      <td>0.04</td>\n",
       "      <td>0.51</td>\n",
       "      <td>84.0</td>\n",
       "      <td>6.4</td>\n",
       "      <td>E</td>\n",
       "    </tr>\n",
       "    <tr>\n",
       "      <td>456</td>\n",
       "      <td>LEGO Batman: The Videogame</td>\n",
       "      <td>Wii</td>\n",
       "      <td>NaN</td>\n",
       "      <td>Action</td>\n",
       "      <td>1.80</td>\n",
       "      <td>0.97</td>\n",
       "      <td>0.00</td>\n",
       "      <td>0.29</td>\n",
       "      <td>74.0</td>\n",
       "      <td>7.9</td>\n",
       "      <td>E10+</td>\n",
       "    </tr>\n",
       "    <tr>\n",
       "      <td>475</td>\n",
       "      <td>wwe Smackdown vs. Raw 2006</td>\n",
       "      <td>PS2</td>\n",
       "      <td>NaN</td>\n",
       "      <td>Fighting</td>\n",
       "      <td>1.57</td>\n",
       "      <td>1.02</td>\n",
       "      <td>0.00</td>\n",
       "      <td>0.41</td>\n",
       "      <td>NaN</td>\n",
       "      <td>NaN</td>\n",
       "      <td>NaN</td>\n",
       "    </tr>\n",
       "    <tr>\n",
       "      <td>609</td>\n",
       "      <td>Space Invaders</td>\n",
       "      <td>2600</td>\n",
       "      <td>NaN</td>\n",
       "      <td>Shooter</td>\n",
       "      <td>2.36</td>\n",
       "      <td>0.14</td>\n",
       "      <td>0.00</td>\n",
       "      <td>0.03</td>\n",
       "      <td>NaN</td>\n",
       "      <td>NaN</td>\n",
       "      <td>NaN</td>\n",
       "    </tr>\n",
       "    <tr>\n",
       "      <td>...</td>\n",
       "      <td>...</td>\n",
       "      <td>...</td>\n",
       "      <td>...</td>\n",
       "      <td>...</td>\n",
       "      <td>...</td>\n",
       "      <td>...</td>\n",
       "      <td>...</td>\n",
       "      <td>...</td>\n",
       "      <td>...</td>\n",
       "      <td>...</td>\n",
       "      <td>...</td>\n",
       "    </tr>\n",
       "    <tr>\n",
       "      <td>16373</td>\n",
       "      <td>PDC World Championship Darts 2008</td>\n",
       "      <td>PSP</td>\n",
       "      <td>NaN</td>\n",
       "      <td>Sports</td>\n",
       "      <td>0.01</td>\n",
       "      <td>0.00</td>\n",
       "      <td>0.00</td>\n",
       "      <td>0.00</td>\n",
       "      <td>43.0</td>\n",
       "      <td>NaN</td>\n",
       "      <td>E10+</td>\n",
       "    </tr>\n",
       "    <tr>\n",
       "      <td>16405</td>\n",
       "      <td>Freaky Flyers</td>\n",
       "      <td>GC</td>\n",
       "      <td>NaN</td>\n",
       "      <td>Racing</td>\n",
       "      <td>0.01</td>\n",
       "      <td>0.00</td>\n",
       "      <td>0.00</td>\n",
       "      <td>0.00</td>\n",
       "      <td>69.0</td>\n",
       "      <td>6.5</td>\n",
       "      <td>T</td>\n",
       "    </tr>\n",
       "    <tr>\n",
       "      <td>16448</td>\n",
       "      <td>Inversion</td>\n",
       "      <td>PC</td>\n",
       "      <td>NaN</td>\n",
       "      <td>Shooter</td>\n",
       "      <td>0.01</td>\n",
       "      <td>0.00</td>\n",
       "      <td>0.00</td>\n",
       "      <td>0.00</td>\n",
       "      <td>59.0</td>\n",
       "      <td>6.7</td>\n",
       "      <td>M</td>\n",
       "    </tr>\n",
       "    <tr>\n",
       "      <td>16458</td>\n",
       "      <td>Hakuouki: Shinsengumi Kitan</td>\n",
       "      <td>PS3</td>\n",
       "      <td>NaN</td>\n",
       "      <td>Adventure</td>\n",
       "      <td>0.01</td>\n",
       "      <td>0.00</td>\n",
       "      <td>0.00</td>\n",
       "      <td>0.00</td>\n",
       "      <td>NaN</td>\n",
       "      <td>NaN</td>\n",
       "      <td>NaN</td>\n",
       "    </tr>\n",
       "    <tr>\n",
       "      <td>16522</td>\n",
       "      <td>Virtua Quest</td>\n",
       "      <td>GC</td>\n",
       "      <td>NaN</td>\n",
       "      <td>Role-Playing</td>\n",
       "      <td>0.01</td>\n",
       "      <td>0.00</td>\n",
       "      <td>0.00</td>\n",
       "      <td>0.00</td>\n",
       "      <td>55.0</td>\n",
       "      <td>5.5</td>\n",
       "      <td>T</td>\n",
       "    </tr>\n",
       "  </tbody>\n",
       "</table>\n",
       "<p>269 rows × 11 columns</p>\n",
       "</div>"
      ],
      "text/plain": [
       "                                    name platform  year_of_release  \\\n",
       "183                      Madden NFL 2004      PS2              NaN   \n",
       "377                     FIFA Soccer 2004      PS2              NaN   \n",
       "456           LEGO Batman: The Videogame      Wii              NaN   \n",
       "475           wwe Smackdown vs. Raw 2006      PS2              NaN   \n",
       "609                       Space Invaders     2600              NaN   \n",
       "...                                  ...      ...              ...   \n",
       "16373  PDC World Championship Darts 2008      PSP              NaN   \n",
       "16405                      Freaky Flyers       GC              NaN   \n",
       "16448                          Inversion       PC              NaN   \n",
       "16458        Hakuouki: Shinsengumi Kitan      PS3              NaN   \n",
       "16522                       Virtua Quest       GC              NaN   \n",
       "\n",
       "              genre  na_sales  eu_sales  jp_sales  other_sales  critic_score  \\\n",
       "183          Sports      4.26      0.26      0.01         0.71          94.0   \n",
       "377          Sports      0.59      2.36      0.04         0.51          84.0   \n",
       "456          Action      1.80      0.97      0.00         0.29          74.0   \n",
       "475        Fighting      1.57      1.02      0.00         0.41           NaN   \n",
       "609         Shooter      2.36      0.14      0.00         0.03           NaN   \n",
       "...             ...       ...       ...       ...          ...           ...   \n",
       "16373        Sports      0.01      0.00      0.00         0.00          43.0   \n",
       "16405        Racing      0.01      0.00      0.00         0.00          69.0   \n",
       "16448       Shooter      0.01      0.00      0.00         0.00          59.0   \n",
       "16458     Adventure      0.01      0.00      0.00         0.00           NaN   \n",
       "16522  Role-Playing      0.01      0.00      0.00         0.00          55.0   \n",
       "\n",
       "       user_score rating  \n",
       "183           8.5      E  \n",
       "377           6.4      E  \n",
       "456           7.9   E10+  \n",
       "475           NaN    NaN  \n",
       "609           NaN    NaN  \n",
       "...           ...    ...  \n",
       "16373         NaN   E10+  \n",
       "16405         6.5      T  \n",
       "16448         6.7      M  \n",
       "16458         NaN    NaN  \n",
       "16522         5.5      T  \n",
       "\n",
       "[269 rows x 11 columns]"
      ]
     },
     "execution_count": 12,
     "metadata": {},
     "output_type": "execute_result"
    }
   ],
   "source": [
    "games.loc[games['year_of_release'].isnull()]"
   ]
  },
  {
   "cell_type": "code",
   "execution_count": 13,
   "metadata": {},
   "outputs": [
    {
     "data": {
      "text/plain": [
       "269"
      ]
     },
     "execution_count": 13,
     "metadata": {},
     "output_type": "execute_result"
    }
   ],
   "source": [
    "games['year_of_release'].isna().sum()"
   ]
  },
  {
   "cell_type": "code",
   "execution_count": 14,
   "metadata": {},
   "outputs": [
    {
     "name": "stdout",
     "output_type": "stream",
     "text": [
      "<class 'pandas.core.frame.DataFrame'>\n",
      "Int64Index: 16713 entries, 0 to 16714\n",
      "Data columns (total 11 columns):\n",
      "name               16713 non-null object\n",
      "platform           16713 non-null object\n",
      "year_of_release    16444 non-null Int64\n",
      "genre              16713 non-null object\n",
      "na_sales           16713 non-null float64\n",
      "eu_sales           16713 non-null float64\n",
      "jp_sales           16713 non-null float64\n",
      "other_sales        16713 non-null float64\n",
      "critic_score       8137 non-null float64\n",
      "user_score         7590 non-null float64\n",
      "rating             9949 non-null object\n",
      "dtypes: Int64(1), float64(6), object(4)\n",
      "memory usage: 1.5+ MB\n"
     ]
    }
   ],
   "source": [
    "games['year_of_release'] = games['year_of_release'].dropna().astype('Int64')\n",
    "games.info()"
   ]
  },
  {
   "cell_type": "code",
   "execution_count": 15,
   "metadata": {},
   "outputs": [
    {
     "data": {
      "text/plain": [
       "0"
      ]
     },
     "execution_count": 15,
     "metadata": {},
     "output_type": "execute_result"
    }
   ],
   "source": [
    "games.duplicated().sum()"
   ]
  },
  {
   "cell_type": "code",
   "execution_count": 16,
   "metadata": {},
   "outputs": [],
   "source": [
    "games['total_sales'] = games['na_sales'] + games['eu_sales'] + games['jp_sales'] + games['other_sales']"
   ]
  },
  {
   "cell_type": "markdown",
   "metadata": {},
   "source": [
    "Делаем отдельный столбец для суммарных продаж"
   ]
  },
  {
   "cell_type": "code",
   "execution_count": 17,
   "metadata": {},
   "outputs": [
    {
     "data": {
      "text/html": [
       "<div>\n",
       "<style scoped>\n",
       "    .dataframe tbody tr th:only-of-type {\n",
       "        vertical-align: middle;\n",
       "    }\n",
       "\n",
       "    .dataframe tbody tr th {\n",
       "        vertical-align: top;\n",
       "    }\n",
       "\n",
       "    .dataframe thead th {\n",
       "        text-align: right;\n",
       "    }\n",
       "</style>\n",
       "<table border=\"1\" class=\"dataframe\">\n",
       "  <thead>\n",
       "    <tr style=\"text-align: right;\">\n",
       "      <th></th>\n",
       "      <th>name</th>\n",
       "      <th>platform</th>\n",
       "      <th>year_of_release</th>\n",
       "      <th>genre</th>\n",
       "      <th>na_sales</th>\n",
       "      <th>eu_sales</th>\n",
       "      <th>jp_sales</th>\n",
       "      <th>other_sales</th>\n",
       "      <th>critic_score</th>\n",
       "      <th>user_score</th>\n",
       "      <th>rating</th>\n",
       "      <th>total_sales</th>\n",
       "    </tr>\n",
       "  </thead>\n",
       "  <tbody>\n",
       "    <tr>\n",
       "      <td>0</td>\n",
       "      <td>Wii Sports</td>\n",
       "      <td>Wii</td>\n",
       "      <td>2006</td>\n",
       "      <td>Sports</td>\n",
       "      <td>41.36</td>\n",
       "      <td>28.96</td>\n",
       "      <td>3.77</td>\n",
       "      <td>8.45</td>\n",
       "      <td>76.0</td>\n",
       "      <td>8.0</td>\n",
       "      <td>E</td>\n",
       "      <td>82.54</td>\n",
       "    </tr>\n",
       "    <tr>\n",
       "      <td>1</td>\n",
       "      <td>Super Mario Bros.</td>\n",
       "      <td>NES</td>\n",
       "      <td>1985</td>\n",
       "      <td>Platform</td>\n",
       "      <td>29.08</td>\n",
       "      <td>3.58</td>\n",
       "      <td>6.81</td>\n",
       "      <td>0.77</td>\n",
       "      <td>NaN</td>\n",
       "      <td>NaN</td>\n",
       "      <td>NaN</td>\n",
       "      <td>40.24</td>\n",
       "    </tr>\n",
       "    <tr>\n",
       "      <td>2</td>\n",
       "      <td>Mario Kart Wii</td>\n",
       "      <td>Wii</td>\n",
       "      <td>2008</td>\n",
       "      <td>Racing</td>\n",
       "      <td>15.68</td>\n",
       "      <td>12.76</td>\n",
       "      <td>3.79</td>\n",
       "      <td>3.29</td>\n",
       "      <td>82.0</td>\n",
       "      <td>8.3</td>\n",
       "      <td>E</td>\n",
       "      <td>35.52</td>\n",
       "    </tr>\n",
       "    <tr>\n",
       "      <td>3</td>\n",
       "      <td>Wii Sports Resort</td>\n",
       "      <td>Wii</td>\n",
       "      <td>2009</td>\n",
       "      <td>Sports</td>\n",
       "      <td>15.61</td>\n",
       "      <td>10.93</td>\n",
       "      <td>3.28</td>\n",
       "      <td>2.95</td>\n",
       "      <td>80.0</td>\n",
       "      <td>8.0</td>\n",
       "      <td>E</td>\n",
       "      <td>32.77</td>\n",
       "    </tr>\n",
       "    <tr>\n",
       "      <td>4</td>\n",
       "      <td>Pokemon Red/Pokemon Blue</td>\n",
       "      <td>GB</td>\n",
       "      <td>1996</td>\n",
       "      <td>Role-Playing</td>\n",
       "      <td>11.27</td>\n",
       "      <td>8.89</td>\n",
       "      <td>10.22</td>\n",
       "      <td>1.00</td>\n",
       "      <td>NaN</td>\n",
       "      <td>NaN</td>\n",
       "      <td>NaN</td>\n",
       "      <td>31.38</td>\n",
       "    </tr>\n",
       "  </tbody>\n",
       "</table>\n",
       "</div>"
      ],
      "text/plain": [
       "                       name platform  year_of_release         genre  na_sales  \\\n",
       "0                Wii Sports      Wii             2006        Sports     41.36   \n",
       "1         Super Mario Bros.      NES             1985      Platform     29.08   \n",
       "2            Mario Kart Wii      Wii             2008        Racing     15.68   \n",
       "3         Wii Sports Resort      Wii             2009        Sports     15.61   \n",
       "4  Pokemon Red/Pokemon Blue       GB             1996  Role-Playing     11.27   \n",
       "\n",
       "   eu_sales  jp_sales  other_sales  critic_score  user_score rating  \\\n",
       "0     28.96      3.77         8.45          76.0         8.0      E   \n",
       "1      3.58      6.81         0.77           NaN         NaN    NaN   \n",
       "2     12.76      3.79         3.29          82.0         8.3      E   \n",
       "3     10.93      3.28         2.95          80.0         8.0      E   \n",
       "4      8.89     10.22         1.00           NaN         NaN    NaN   \n",
       "\n",
       "   total_sales  \n",
       "0        82.54  \n",
       "1        40.24  \n",
       "2        35.52  \n",
       "3        32.77  \n",
       "4        31.38  "
      ]
     },
     "execution_count": 17,
     "metadata": {},
     "output_type": "execute_result"
    }
   ],
   "source": [
    "games.head()"
   ]
  },
  {
   "cell_type": "markdown",
   "metadata": {},
   "source": [
    "Вывод по пропускам в Critic_Score, User_Score, Rating:  \n",
    "Пока мы не будем их заменять, потому что реальные оценки могут не совпадать со средними значениями. Возможно рейтинги и оценки существовали не с самого начала выпуска игр, поэтому их может не быть."
   ]
  },
  {
   "cell_type": "code",
   "execution_count": 18,
   "metadata": {},
   "outputs": [
    {
     "data": {
      "text/plain": [
       "6764"
      ]
     },
     "execution_count": 18,
     "metadata": {},
     "output_type": "execute_result"
    }
   ],
   "source": [
    "games['rating'].isna().sum()"
   ]
  },
  {
   "cell_type": "code",
   "execution_count": 19,
   "metadata": {},
   "outputs": [
    {
     "data": {
      "text/plain": [
       "E       3990\n",
       "T       2961\n",
       "M       1563\n",
       "E10+    1420\n",
       "EC         8\n",
       "RP         3\n",
       "K-A        3\n",
       "AO         1\n",
       "Name: rating, dtype: int64"
      ]
     },
     "execution_count": 19,
     "metadata": {},
     "output_type": "execute_result"
    }
   ],
   "source": [
    "games['rating'].value_counts()"
   ]
  },
  {
   "cell_type": "code",
   "execution_count": 20,
   "metadata": {},
   "outputs": [
    {
     "data": {
      "text/plain": [
       "0"
      ]
     },
     "execution_count": 20,
     "metadata": {},
     "output_type": "execute_result"
    }
   ],
   "source": [
    "games['rating']=games['rating'].fillna(0).replace(0, 'Без рейтинга')\n",
    "games['rating'].isna().sum()"
   ]
  },
  {
   "cell_type": "code",
   "execution_count": 21,
   "metadata": {},
   "outputs": [
    {
     "data": {
      "text/plain": [
       "Без рейтинга    6764\n",
       "E               3990\n",
       "T               2961\n",
       "M               1563\n",
       "E10+            1420\n",
       "EC                 8\n",
       "RP                 3\n",
       "K-A                3\n",
       "AO                 1\n",
       "Name: rating, dtype: int64"
      ]
     },
     "execution_count": 21,
     "metadata": {},
     "output_type": "execute_result"
    }
   ],
   "source": [
    "games['rating'].value_counts()"
   ]
  },
  {
   "cell_type": "markdown",
   "metadata": {},
   "source": [
    "#  Исследовательский анализ данных "
   ]
  },
  {
   "cell_type": "markdown",
   "metadata": {},
   "source": [
    "##  Посмотрим,  сколько игр выпускалось в разные годы. Важны ли данные за все периоды?"
   ]
  },
  {
   "cell_type": "code",
   "execution_count": 22,
   "metadata": {},
   "outputs": [
    {
     "data": {
      "text/html": [
       "<div>\n",
       "<style scoped>\n",
       "    .dataframe tbody tr th:only-of-type {\n",
       "        vertical-align: middle;\n",
       "    }\n",
       "\n",
       "    .dataframe tbody tr th {\n",
       "        vertical-align: top;\n",
       "    }\n",
       "\n",
       "    .dataframe thead th {\n",
       "        text-align: right;\n",
       "    }\n",
       "</style>\n",
       "<table border=\"1\" class=\"dataframe\">\n",
       "  <thead>\n",
       "    <tr style=\"text-align: right;\">\n",
       "      <th></th>\n",
       "      <th>name</th>\n",
       "    </tr>\n",
       "    <tr>\n",
       "      <th>year_of_release</th>\n",
       "      <th></th>\n",
       "    </tr>\n",
       "  </thead>\n",
       "  <tbody>\n",
       "    <tr>\n",
       "      <td>1980</td>\n",
       "      <td>9</td>\n",
       "    </tr>\n",
       "    <tr>\n",
       "      <td>1981</td>\n",
       "      <td>46</td>\n",
       "    </tr>\n",
       "    <tr>\n",
       "      <td>1982</td>\n",
       "      <td>36</td>\n",
       "    </tr>\n",
       "    <tr>\n",
       "      <td>1983</td>\n",
       "      <td>17</td>\n",
       "    </tr>\n",
       "    <tr>\n",
       "      <td>1984</td>\n",
       "      <td>14</td>\n",
       "    </tr>\n",
       "    <tr>\n",
       "      <td>1985</td>\n",
       "      <td>14</td>\n",
       "    </tr>\n",
       "    <tr>\n",
       "      <td>1986</td>\n",
       "      <td>21</td>\n",
       "    </tr>\n",
       "    <tr>\n",
       "      <td>1987</td>\n",
       "      <td>16</td>\n",
       "    </tr>\n",
       "    <tr>\n",
       "      <td>1988</td>\n",
       "      <td>15</td>\n",
       "    </tr>\n",
       "    <tr>\n",
       "      <td>1989</td>\n",
       "      <td>17</td>\n",
       "    </tr>\n",
       "    <tr>\n",
       "      <td>1990</td>\n",
       "      <td>16</td>\n",
       "    </tr>\n",
       "    <tr>\n",
       "      <td>1991</td>\n",
       "      <td>41</td>\n",
       "    </tr>\n",
       "    <tr>\n",
       "      <td>1992</td>\n",
       "      <td>43</td>\n",
       "    </tr>\n",
       "    <tr>\n",
       "      <td>1993</td>\n",
       "      <td>60</td>\n",
       "    </tr>\n",
       "    <tr>\n",
       "      <td>1994</td>\n",
       "      <td>121</td>\n",
       "    </tr>\n",
       "    <tr>\n",
       "      <td>1995</td>\n",
       "      <td>219</td>\n",
       "    </tr>\n",
       "    <tr>\n",
       "      <td>1996</td>\n",
       "      <td>263</td>\n",
       "    </tr>\n",
       "    <tr>\n",
       "      <td>1997</td>\n",
       "      <td>289</td>\n",
       "    </tr>\n",
       "    <tr>\n",
       "      <td>1998</td>\n",
       "      <td>379</td>\n",
       "    </tr>\n",
       "    <tr>\n",
       "      <td>1999</td>\n",
       "      <td>338</td>\n",
       "    </tr>\n",
       "    <tr>\n",
       "      <td>2000</td>\n",
       "      <td>350</td>\n",
       "    </tr>\n",
       "    <tr>\n",
       "      <td>2001</td>\n",
       "      <td>482</td>\n",
       "    </tr>\n",
       "    <tr>\n",
       "      <td>2002</td>\n",
       "      <td>829</td>\n",
       "    </tr>\n",
       "    <tr>\n",
       "      <td>2003</td>\n",
       "      <td>775</td>\n",
       "    </tr>\n",
       "    <tr>\n",
       "      <td>2004</td>\n",
       "      <td>762</td>\n",
       "    </tr>\n",
       "    <tr>\n",
       "      <td>2005</td>\n",
       "      <td>939</td>\n",
       "    </tr>\n",
       "    <tr>\n",
       "      <td>2006</td>\n",
       "      <td>1006</td>\n",
       "    </tr>\n",
       "    <tr>\n",
       "      <td>2007</td>\n",
       "      <td>1197</td>\n",
       "    </tr>\n",
       "    <tr>\n",
       "      <td>2008</td>\n",
       "      <td>1427</td>\n",
       "    </tr>\n",
       "    <tr>\n",
       "      <td>2009</td>\n",
       "      <td>1426</td>\n",
       "    </tr>\n",
       "    <tr>\n",
       "      <td>2010</td>\n",
       "      <td>1255</td>\n",
       "    </tr>\n",
       "    <tr>\n",
       "      <td>2011</td>\n",
       "      <td>1136</td>\n",
       "    </tr>\n",
       "    <tr>\n",
       "      <td>2012</td>\n",
       "      <td>653</td>\n",
       "    </tr>\n",
       "    <tr>\n",
       "      <td>2013</td>\n",
       "      <td>544</td>\n",
       "    </tr>\n",
       "    <tr>\n",
       "      <td>2014</td>\n",
       "      <td>581</td>\n",
       "    </tr>\n",
       "    <tr>\n",
       "      <td>2015</td>\n",
       "      <td>606</td>\n",
       "    </tr>\n",
       "    <tr>\n",
       "      <td>2016</td>\n",
       "      <td>502</td>\n",
       "    </tr>\n",
       "  </tbody>\n",
       "</table>\n",
       "</div>"
      ],
      "text/plain": [
       "                 name\n",
       "year_of_release      \n",
       "1980                9\n",
       "1981               46\n",
       "1982               36\n",
       "1983               17\n",
       "1984               14\n",
       "1985               14\n",
       "1986               21\n",
       "1987               16\n",
       "1988               15\n",
       "1989               17\n",
       "1990               16\n",
       "1991               41\n",
       "1992               43\n",
       "1993               60\n",
       "1994              121\n",
       "1995              219\n",
       "1996              263\n",
       "1997              289\n",
       "1998              379\n",
       "1999              338\n",
       "2000              350\n",
       "2001              482\n",
       "2002              829\n",
       "2003              775\n",
       "2004              762\n",
       "2005              939\n",
       "2006             1006\n",
       "2007             1197\n",
       "2008             1427\n",
       "2009             1426\n",
       "2010             1255\n",
       "2011             1136\n",
       "2012              653\n",
       "2013              544\n",
       "2014              581\n",
       "2015              606\n",
       "2016              502"
      ]
     },
     "metadata": {},
     "output_type": "display_data"
    }
   ],
   "source": [
    "games_by_year = games.query('name != \"not_stated\"').pivot_table(index = 'year_of_release', values = 'name', aggfunc = 'count')\n",
    "display(games_by_year)"
   ]
  },
  {
   "cell_type": "code",
   "execution_count": 23,
   "metadata": {},
   "outputs": [
    {
     "data": {
      "image/png": "[encoded data removed]",
      "text/plain": [
       "<Figure size 864x432 with 1 Axes>"
      ]
     },
     "metadata": {
      "needs_background": "light"
     },
     "output_type": "display_data"
    }
   ],
   "source": [
    "games_by_year.plot(figsize=(12, 6), legend=False, title='Выпуск игр в разные годы').set(xlabel='Год выпуска', ylabel='Количество')\n",
    "plt.show()"
   ]
  },
  {
   "cell_type": "markdown",
   "metadata": {},
   "source": [
    "Из графика видно, что с 1980 года по 1993 игры выпускались мало и продаж не было, соответственно эти годы можно не учитывать. Затем идет  рост, его пик приходится на 2008-2009 гг., уровень продаж в 2016 году примерно как и в 2001."
   ]
  },
  {
   "cell_type": "markdown",
   "metadata": {},
   "source": [
    "## Посмотрим, как менялись продажи по платформам и выберем платформы с наибольшими суммарными продажами и постройте распределение по годам. "
   ]
  },
  {
   "cell_type": "code",
   "execution_count": 24,
   "metadata": {},
   "outputs": [
    {
     "data": {
      "image/png": "[encoded data removed]",
      "text/plain": [
       "<Figure size 864x432 with 1 Axes>"
      ]
     },
     "metadata": {
      "needs_background": "light"
     },
     "output_type": "display_data"
    }
   ],
   "source": [
    "sales_by_platform = games.pivot_table(index='platform', values = 'total_sales', aggfunc='sum').sort_values('total_sales', ascending=False)\n",
    "def make_bar_plot(games):\n",
    "    games.plot(kind='bar', y = 'total_sales', legend=False, title='Количество продаж по платформам', figsize=(12, 6)).set(xlabel='Платформа',ylabel='Продажи')\n",
    "    plt.show()\n",
    "make_bar_plot(sales_by_platform)"
   ]
  },
  {
   "cell_type": "code",
   "execution_count": 25,
   "metadata": {},
   "outputs": [
    {
     "data": {
      "text/plain": [
       "[Text(87.0, 0.5, 'Платформа'),\n",
       " Text(0.5, 51.0, 'Год выпуска'),\n",
       " Text(0.5, 1, 'Срок сущeствования платформ')]"
      ]
     },
     "execution_count": 25,
     "metadata": {},
     "output_type": "execute_result"
    },
    {
     "data": {
      "image/png": "[encoded data removed]",
      "text/plain": [
       "<Figure size 864x576 with 2 Axes>"
      ]
     },
     "metadata": {
      "needs_background": "light"
     },
     "output_type": "display_data"
    }
   ],
   "source": [
    "games_plat=games.pivot_table(index=\"platform\",columns = 'year_of_release',values='total_sales',aggfunc = ('sum'))\n",
    "plt.figure(figsize=(12,8))\n",
    "sns.heatmap(games_plat).set(title = 'Срок сущeствования платформ', xlabel = 'Год выпуска',ylabel='Платформа')"
   ]
  },
  {
   "cell_type": "markdown",
   "metadata": {},
   "source": [
    "Если посмотреть срок жизни всех платформ с 1980 года, то можно увидеть, как новые платформы сменяют старые, например, у ps,ps2,ps3,ps4 один производитель - Sony."
   ]
  },
  {
   "cell_type": "code",
   "execution_count": 26,
   "metadata": {},
   "outputs": [
    {
     "data": {
      "text/html": [
       "<div>\n",
       "<style scoped>\n",
       "    .dataframe tbody tr th:only-of-type {\n",
       "        vertical-align: middle;\n",
       "    }\n",
       "\n",
       "    .dataframe tbody tr th {\n",
       "        vertical-align: top;\n",
       "    }\n",
       "\n",
       "    .dataframe thead th {\n",
       "        text-align: right;\n",
       "    }\n",
       "</style>\n",
       "<table border=\"1\" class=\"dataframe\">\n",
       "  <thead>\n",
       "    <tr style=\"text-align: right;\">\n",
       "      <th></th>\n",
       "      <th>total_sales</th>\n",
       "    </tr>\n",
       "    <tr>\n",
       "      <th>platform</th>\n",
       "      <th></th>\n",
       "    </tr>\n",
       "  </thead>\n",
       "  <tbody>\n",
       "    <tr>\n",
       "      <td>PS2</td>\n",
       "      <td>1255.77</td>\n",
       "    </tr>\n",
       "    <tr>\n",
       "      <td>X360</td>\n",
       "      <td>971.42</td>\n",
       "    </tr>\n",
       "    <tr>\n",
       "      <td>PS3</td>\n",
       "      <td>939.65</td>\n",
       "    </tr>\n",
       "    <tr>\n",
       "      <td>Wii</td>\n",
       "      <td>907.51</td>\n",
       "    </tr>\n",
       "    <tr>\n",
       "      <td>DS</td>\n",
       "      <td>806.12</td>\n",
       "    </tr>\n",
       "  </tbody>\n",
       "</table>\n",
       "</div>"
      ],
      "text/plain": [
       "          total_sales\n",
       "platform             \n",
       "PS2           1255.77\n",
       "X360           971.42\n",
       "PS3            939.65\n",
       "Wii            907.51\n",
       "DS             806.12"
      ]
     },
     "execution_count": 26,
     "metadata": {},
     "output_type": "execute_result"
    }
   ],
   "source": [
    "top_5_platforms = sales_by_platform.head()\n",
    "top_5_platforms"
   ]
  },
  {
   "cell_type": "code",
   "execution_count": 27,
   "metadata": {},
   "outputs": [
    {
     "data": {
      "text/plain": [
       "[Text(69.0, 0.5, 'Платформа'),\n",
       " Text(0.5, 24.0, 'Год выпуска'),\n",
       " Text(0.5, 1, 'Срок сущeствования 5 популярных платформ')]"
      ]
     },
     "execution_count": 27,
     "metadata": {},
     "output_type": "execute_result"
    },
    {
     "data": {
      "image/png": "[encoded data removed]",
      "text/plain": [
       "<Figure size 720x360 with 2 Axes>"
      ]
     },
     "metadata": {
      "needs_background": "light"
     },
     "output_type": "display_data"
    }
   ],
   "source": [
    "games_plat=games.pivot_table(index=\"platform\",columns='year_of_release',values='total_sales',aggfunc=('sum'))\n",
    "list_platform=['PS2','PS3','Wii','X360','DS'] \n",
    "top_platform=games_plat.query('platform in @list_platform')\n",
    "plt.figure(figsize=(10,5))\n",
    "sns.heatmap(top_platform).set(title = 'Срок сущeствования 5 популярных платформ', xlabel='Год выпуска',ylabel='Платформа')"
   ]
  },
  {
   "cell_type": "markdown",
   "metadata": {},
   "source": [
    "Срок существовоания платформ согласно графику в среднем 10-11 лет. Примерно через 5 лет(в середине) происходит пик продаж. На примере PS2 видно, что на пике производитель запустил PS3, поэтому пользование PS2 теряет популярность. Исключение платформа Wii- у нее хорошие продажи были в самом начале и с 4 года службы происходит спад."
   ]
  },
  {
   "cell_type": "markdown",
   "metadata": {},
   "source": [
    "## Прогноз на 2017 год исходя из данных за предыдущие 2 года"
   ]
  },
  {
   "cell_type": "code",
   "execution_count": 28,
   "metadata": {
    "scrolled": true
   },
   "outputs": [
    {
     "data": {
      "text/plain": [
       "[Text(0, 0.5, 'Продажи'), Text(0.5, 0, 'Платформа')]"
      ]
     },
     "execution_count": 28,
     "metadata": {},
     "output_type": "execute_result"
    },
    {
     "data": {
      "image/png": "[encoded data removed]",
      "text/plain": [
       "<Figure size 720x360 with 1 Axes>"
      ]
     },
     "metadata": {
      "needs_background": "light"
     },
     "output_type": "display_data"
    }
   ],
   "source": [
    "actual_platform=games.query('year_of_release >= 2014')\n",
    "actual_platform.groupby('platform')['total_sales'].sum().sort_values(ascending=False).plot(figsize=(10,5),kind=\"bar\",title='Суммарные продажи по платформам с 2014').set(xlabel='Платформа',ylabel='Продажи')"
   ]
  },
  {
   "cell_type": "code",
   "execution_count": 29,
   "metadata": {},
   "outputs": [
    {
     "data": {
      "text/plain": [
       "[Text(69.0, 0.5, 'Платформа'),\n",
       " Text(0.5, 24.0, 'Год выпуска'),\n",
       " Text(0.5, 1, 'Срок сущeствования 5 популярных платформ c 2014 года')]"
      ]
     },
     "execution_count": 29,
     "metadata": {},
     "output_type": "execute_result"
    },
    {
     "data": {
      "image/png": "[encoded data removed]",
      "text/plain": [
       "<Figure size 720x360 with 2 Axes>"
      ]
     },
     "metadata": {
      "needs_background": "light"
     },
     "output_type": "display_data"
    }
   ],
   "source": [
    "list_platform=['3DS','PS3','PS4','X360','XOne'] # Список активных платформ \n",
    "top_platform= games_plat.query('platform in @list_platform')\n",
    "plt.figure(figsize=(10,5))\n",
    "sns.heatmap(top_platform).set(title = 'Срок сущeствования 5 популярных платформ c 2014 года', xlabel='Год выпуска',ylabel='Платформа')"
   ]
  },
  {
   "cell_type": "markdown",
   "metadata": {},
   "source": [
    "Выше представлен график активных платформ за актуальный период. По нему видно, что продажи  PS4 только-только начинают падать. Это значит, что примено через год будет выходить новая платформа.На 2016 год самые перспективные ировые платформы - PS4 и XOne, в 2017 году они могут выйти на пик продаж."
   ]
  },
  {
   "cell_type": "markdown",
   "metadata": {},
   "source": [
    "## График «ящик с усами» по глобальным продажам игр в разбивке по платформам"
   ]
  },
  {
   "cell_type": "code",
   "execution_count": 30,
   "metadata": {},
   "outputs": [
    {
     "data": {
      "text/html": [
       "<div>\n",
       "<style scoped>\n",
       "    .dataframe tbody tr th:only-of-type {\n",
       "        vertical-align: middle;\n",
       "    }\n",
       "\n",
       "    .dataframe tbody tr th {\n",
       "        vertical-align: top;\n",
       "    }\n",
       "\n",
       "    .dataframe thead th {\n",
       "        text-align: right;\n",
       "    }\n",
       "</style>\n",
       "<table border=\"1\" class=\"dataframe\">\n",
       "  <thead>\n",
       "    <tr style=\"text-align: right;\">\n",
       "      <th></th>\n",
       "      <th>name</th>\n",
       "      <th>platform</th>\n",
       "      <th>year_of_release</th>\n",
       "      <th>genre</th>\n",
       "      <th>na_sales</th>\n",
       "      <th>eu_sales</th>\n",
       "      <th>jp_sales</th>\n",
       "      <th>other_sales</th>\n",
       "      <th>critic_score</th>\n",
       "      <th>user_score</th>\n",
       "      <th>rating</th>\n",
       "      <th>total_sales</th>\n",
       "    </tr>\n",
       "  </thead>\n",
       "  <tbody>\n",
       "    <tr>\n",
       "      <td>31</td>\n",
       "      <td>Call of Duty: Black Ops 3</td>\n",
       "      <td>PS4</td>\n",
       "      <td>2015</td>\n",
       "      <td>Shooter</td>\n",
       "      <td>6.03</td>\n",
       "      <td>5.86</td>\n",
       "      <td>0.36</td>\n",
       "      <td>2.38</td>\n",
       "      <td>NaN</td>\n",
       "      <td>NaN</td>\n",
       "      <td>Без рейтинга</td>\n",
       "      <td>14.63</td>\n",
       "    </tr>\n",
       "    <tr>\n",
       "      <td>42</td>\n",
       "      <td>Grand Theft Auto V</td>\n",
       "      <td>PS4</td>\n",
       "      <td>2014</td>\n",
       "      <td>Action</td>\n",
       "      <td>3.96</td>\n",
       "      <td>6.31</td>\n",
       "      <td>0.38</td>\n",
       "      <td>1.97</td>\n",
       "      <td>97.0</td>\n",
       "      <td>8.3</td>\n",
       "      <td>M</td>\n",
       "      <td>12.62</td>\n",
       "    </tr>\n",
       "    <tr>\n",
       "      <td>47</td>\n",
       "      <td>Pokemon Omega Ruby/Pokemon Alpha Sapphire</td>\n",
       "      <td>3DS</td>\n",
       "      <td>2014</td>\n",
       "      <td>Role-Playing</td>\n",
       "      <td>4.35</td>\n",
       "      <td>3.49</td>\n",
       "      <td>3.10</td>\n",
       "      <td>0.74</td>\n",
       "      <td>NaN</td>\n",
       "      <td>NaN</td>\n",
       "      <td>Без рейтинга</td>\n",
       "      <td>11.68</td>\n",
       "    </tr>\n",
       "    <tr>\n",
       "      <td>77</td>\n",
       "      <td>FIFA 16</td>\n",
       "      <td>PS4</td>\n",
       "      <td>2015</td>\n",
       "      <td>Sports</td>\n",
       "      <td>1.12</td>\n",
       "      <td>6.12</td>\n",
       "      <td>0.06</td>\n",
       "      <td>1.28</td>\n",
       "      <td>82.0</td>\n",
       "      <td>4.3</td>\n",
       "      <td>E</td>\n",
       "      <td>8.58</td>\n",
       "    </tr>\n",
       "    <tr>\n",
       "      <td>87</td>\n",
       "      <td>Star Wars Battlefront (2015)</td>\n",
       "      <td>PS4</td>\n",
       "      <td>2015</td>\n",
       "      <td>Shooter</td>\n",
       "      <td>2.99</td>\n",
       "      <td>3.49</td>\n",
       "      <td>0.22</td>\n",
       "      <td>1.28</td>\n",
       "      <td>NaN</td>\n",
       "      <td>NaN</td>\n",
       "      <td>Без рейтинга</td>\n",
       "      <td>7.98</td>\n",
       "    </tr>\n",
       "    <tr>\n",
       "      <td>92</td>\n",
       "      <td>Call of Duty: Advanced Warfare</td>\n",
       "      <td>PS4</td>\n",
       "      <td>2014</td>\n",
       "      <td>Shooter</td>\n",
       "      <td>2.81</td>\n",
       "      <td>3.48</td>\n",
       "      <td>0.14</td>\n",
       "      <td>1.23</td>\n",
       "      <td>83.0</td>\n",
       "      <td>5.7</td>\n",
       "      <td>M</td>\n",
       "      <td>7.66</td>\n",
       "    </tr>\n",
       "    <tr>\n",
       "      <td>94</td>\n",
       "      <td>FIFA 17</td>\n",
       "      <td>PS4</td>\n",
       "      <td>2016</td>\n",
       "      <td>Sports</td>\n",
       "      <td>0.66</td>\n",
       "      <td>5.75</td>\n",
       "      <td>0.08</td>\n",
       "      <td>1.11</td>\n",
       "      <td>85.0</td>\n",
       "      <td>5.0</td>\n",
       "      <td>E</td>\n",
       "      <td>7.60</td>\n",
       "    </tr>\n",
       "    <tr>\n",
       "      <td>96</td>\n",
       "      <td>Super Smash Bros. for Wii U and 3DS</td>\n",
       "      <td>3DS</td>\n",
       "      <td>2014</td>\n",
       "      <td>Fighting</td>\n",
       "      <td>3.27</td>\n",
       "      <td>1.37</td>\n",
       "      <td>2.43</td>\n",
       "      <td>0.48</td>\n",
       "      <td>NaN</td>\n",
       "      <td>NaN</td>\n",
       "      <td>Без рейтинга</td>\n",
       "      <td>7.55</td>\n",
       "    </tr>\n",
       "    <tr>\n",
       "      <td>99</td>\n",
       "      <td>Call of Duty: Black Ops 3</td>\n",
       "      <td>XOne</td>\n",
       "      <td>2015</td>\n",
       "      <td>Shooter</td>\n",
       "      <td>4.59</td>\n",
       "      <td>2.11</td>\n",
       "      <td>0.01</td>\n",
       "      <td>0.68</td>\n",
       "      <td>NaN</td>\n",
       "      <td>NaN</td>\n",
       "      <td>Без рейтинга</td>\n",
       "      <td>7.39</td>\n",
       "    </tr>\n",
       "    <tr>\n",
       "      <td>105</td>\n",
       "      <td>Fallout 4</td>\n",
       "      <td>PS4</td>\n",
       "      <td>2015</td>\n",
       "      <td>Role-Playing</td>\n",
       "      <td>2.53</td>\n",
       "      <td>3.27</td>\n",
       "      <td>0.24</td>\n",
       "      <td>1.13</td>\n",
       "      <td>87.0</td>\n",
       "      <td>6.5</td>\n",
       "      <td>M</td>\n",
       "      <td>7.17</td>\n",
       "    </tr>\n",
       "    <tr>\n",
       "      <td>108</td>\n",
       "      <td>Pokemon Sun/Moon</td>\n",
       "      <td>3DS</td>\n",
       "      <td>2016</td>\n",
       "      <td>Role-Playing</td>\n",
       "      <td>2.98</td>\n",
       "      <td>1.45</td>\n",
       "      <td>2.26</td>\n",
       "      <td>0.45</td>\n",
       "      <td>NaN</td>\n",
       "      <td>NaN</td>\n",
       "      <td>Без рейтинга</td>\n",
       "      <td>7.14</td>\n",
       "    </tr>\n",
       "    <tr>\n",
       "      <td>143</td>\n",
       "      <td>FIFA 15</td>\n",
       "      <td>PS4</td>\n",
       "      <td>2014</td>\n",
       "      <td>Sports</td>\n",
       "      <td>0.80</td>\n",
       "      <td>4.33</td>\n",
       "      <td>0.05</td>\n",
       "      <td>0.90</td>\n",
       "      <td>82.0</td>\n",
       "      <td>5.7</td>\n",
       "      <td>E</td>\n",
       "      <td>6.08</td>\n",
       "    </tr>\n",
       "    <tr>\n",
       "      <td>154</td>\n",
       "      <td>Destiny</td>\n",
       "      <td>PS4</td>\n",
       "      <td>2014</td>\n",
       "      <td>Shooter</td>\n",
       "      <td>2.49</td>\n",
       "      <td>2.07</td>\n",
       "      <td>0.16</td>\n",
       "      <td>0.92</td>\n",
       "      <td>76.0</td>\n",
       "      <td>6.1</td>\n",
       "      <td>T</td>\n",
       "      <td>5.64</td>\n",
       "    </tr>\n",
       "    <tr>\n",
       "      <td>165</td>\n",
       "      <td>Grand Theft Auto V</td>\n",
       "      <td>XOne</td>\n",
       "      <td>2014</td>\n",
       "      <td>Action</td>\n",
       "      <td>2.81</td>\n",
       "      <td>2.19</td>\n",
       "      <td>0.00</td>\n",
       "      <td>0.47</td>\n",
       "      <td>97.0</td>\n",
       "      <td>7.9</td>\n",
       "      <td>M</td>\n",
       "      <td>5.47</td>\n",
       "    </tr>\n",
       "    <tr>\n",
       "      <td>171</td>\n",
       "      <td>Uncharted 4: A Thief's End</td>\n",
       "      <td>PS4</td>\n",
       "      <td>2016</td>\n",
       "      <td>Shooter</td>\n",
       "      <td>1.85</td>\n",
       "      <td>2.50</td>\n",
       "      <td>0.19</td>\n",
       "      <td>0.85</td>\n",
       "      <td>93.0</td>\n",
       "      <td>7.9</td>\n",
       "      <td>T</td>\n",
       "      <td>5.39</td>\n",
       "    </tr>\n",
       "  </tbody>\n",
       "</table>\n",
       "</div>"
      ],
      "text/plain": [
       "                                          name platform  year_of_release  \\\n",
       "31                   Call of Duty: Black Ops 3      PS4             2015   \n",
       "42                          Grand Theft Auto V      PS4             2014   \n",
       "47   Pokemon Omega Ruby/Pokemon Alpha Sapphire      3DS             2014   \n",
       "77                                     FIFA 16      PS4             2015   \n",
       "87                Star Wars Battlefront (2015)      PS4             2015   \n",
       "92              Call of Duty: Advanced Warfare      PS4             2014   \n",
       "94                                     FIFA 17      PS4             2016   \n",
       "96         Super Smash Bros. for Wii U and 3DS      3DS             2014   \n",
       "99                   Call of Duty: Black Ops 3     XOne             2015   \n",
       "105                                  Fallout 4      PS4             2015   \n",
       "108                           Pokemon Sun/Moon      3DS             2016   \n",
       "143                                    FIFA 15      PS4             2014   \n",
       "154                                    Destiny      PS4             2014   \n",
       "165                         Grand Theft Auto V     XOne             2014   \n",
       "171                 Uncharted 4: A Thief's End      PS4             2016   \n",
       "\n",
       "            genre  na_sales  eu_sales  jp_sales  other_sales  critic_score  \\\n",
       "31        Shooter      6.03      5.86      0.36         2.38           NaN   \n",
       "42         Action      3.96      6.31      0.38         1.97          97.0   \n",
       "47   Role-Playing      4.35      3.49      3.10         0.74           NaN   \n",
       "77         Sports      1.12      6.12      0.06         1.28          82.0   \n",
       "87        Shooter      2.99      3.49      0.22         1.28           NaN   \n",
       "92        Shooter      2.81      3.48      0.14         1.23          83.0   \n",
       "94         Sports      0.66      5.75      0.08         1.11          85.0   \n",
       "96       Fighting      3.27      1.37      2.43         0.48           NaN   \n",
       "99        Shooter      4.59      2.11      0.01         0.68           NaN   \n",
       "105  Role-Playing      2.53      3.27      0.24         1.13          87.0   \n",
       "108  Role-Playing      2.98      1.45      2.26         0.45           NaN   \n",
       "143        Sports      0.80      4.33      0.05         0.90          82.0   \n",
       "154       Shooter      2.49      2.07      0.16         0.92          76.0   \n",
       "165        Action      2.81      2.19      0.00         0.47          97.0   \n",
       "171       Shooter      1.85      2.50      0.19         0.85          93.0   \n",
       "\n",
       "     user_score        rating  total_sales  \n",
       "31          NaN  Без рейтинга        14.63  \n",
       "42          8.3             M        12.62  \n",
       "47          NaN  Без рейтинга        11.68  \n",
       "77          4.3             E         8.58  \n",
       "87          NaN  Без рейтинга         7.98  \n",
       "92          5.7             M         7.66  \n",
       "94          5.0             E         7.60  \n",
       "96          NaN  Без рейтинга         7.55  \n",
       "99          NaN  Без рейтинга         7.39  \n",
       "105         6.5             M         7.17  \n",
       "108         NaN  Без рейтинга         7.14  \n",
       "143         5.7             E         6.08  \n",
       "154         6.1             T         5.64  \n",
       "165         7.9             M         5.47  \n",
       "171         7.9             T         5.39  "
      ]
     },
     "execution_count": 30,
     "metadata": {},
     "output_type": "execute_result"
    }
   ],
   "source": [
    "actual_platform = games.query('platform in @list_platform and year_of_release >= 2014')\n",
    "#Дата сет с активными платформами и актуальным периодом\n",
    "actual_platform.head(15)"
   ]
  },
  {
   "cell_type": "code",
   "execution_count": 31,
   "metadata": {},
   "outputs": [
    {
     "data": {
      "text/plain": [
       "[Text(0, 0.5, 'Продажи'),\n",
       " Text(0.5, 0, 'Платформы'),\n",
       " Text(0.5, 1.0, 'График «ящик с усами» по глобальным продажам игр в разбивке по платформам')]"
      ]
     },
     "execution_count": 31,
     "metadata": {},
     "output_type": "execute_result"
    },
    {
     "data": {
      "image/png": "[encoded data removed]",
      "text/plain": [
       "<Figure size 864x720 with 1 Axes>"
      ]
     },
     "metadata": {
      "needs_background": "light"
     },
     "output_type": "display_data"
    }
   ],
   "source": [
    "plt.figure(figsize=(12,10))\n",
    "plt.ylim(0,3)\n",
    "sns.boxplot(x='platform',y='total_sales', data=games).set(title = 'График «ящик с усами» по глобальным продажам игр в разбивке по платформам', xlabel='Платформы',ylabel='Продажи')"
   ]
  },
  {
   "cell_type": "markdown",
   "metadata": {},
   "source": [
    "Межквартальный размах очень схож у платфором X360, PS3, PS4, PS, XOne. Все распределения платформ скошены вправо. Также у всех ящиков медина лежит левее среднего значения. У компаний, у которых пользовательский интерес ниже имеют медиану около 0.1-0.2."
   ]
  },
  {
   "cell_type": "code",
   "execution_count": 32,
   "metadata": {},
   "outputs": [
    {
     "data": {
      "text/plain": [
       "[Text(0, 0.5, 'Продажи'),\n",
       " Text(0.5, 0, 'Платформы'),\n",
       " Text(0.5, 1.0, 'График «ящик с усами» по глобальным продажам 5 популярных платформ')]"
      ]
     },
     "execution_count": 32,
     "metadata": {},
     "output_type": "execute_result"
    },
    {
     "data": {
      "image/png": "[encoded data removed]",
      "text/plain": [
       "<Figure size 864x576 with 1 Axes>"
      ]
     },
     "metadata": {
      "needs_background": "light"
     },
     "output_type": "display_data"
    }
   ],
   "source": [
    "plt.figure(figsize=(12,8))\n",
    "plt.ylim(0,2)\n",
    "sns.boxplot(x='platform',y='total_sales',data = actual_platform).set(title = 'График «ящик с усами» по глобальным продажам 5 популярных платформ', xlabel='Платформы',ylabel='Продажи')"
   ]
  },
  {
   "cell_type": "markdown",
   "metadata": {},
   "source": [
    "Кроме платформы 3DS, все ящики с усами  похожи.  У 3DS третий квартиль меньшем у остальных. Медиана схожа, боксплот платформ скошен вправо."
   ]
  },
  {
   "cell_type": "code",
   "execution_count": 33,
   "metadata": {},
   "outputs": [
    {
     "data": {
      "text/plain": [
       "platform\n",
       "PS4     0.766356\n",
       "XOne    0.615614\n",
       "X360    0.434414\n",
       "3DS     0.408868\n",
       "PS3     0.311324\n",
       "Name: total_sales, dtype: float64"
      ]
     },
     "metadata": {},
     "output_type": "display_data"
    },
    {
     "data": {
      "text/plain": [
       "platform\n",
       "XOne    0.205\n",
       "PS4     0.185\n",
       "X360    0.180\n",
       "PS3     0.110\n",
       "3DS     0.090\n",
       "Name: total_sales, dtype: float64"
      ]
     },
     "metadata": {},
     "output_type": "display_data"
    }
   ],
   "source": [
    "mean_sales = actual_platform.groupby('platform')['total_sales'].mean().sort_values(ascending=False)\n",
    "median_sales= actual_platform.groupby('platform')['total_sales'].median().sort_values(ascending=False)\n",
    "\n",
    "display(mean_sales)\n",
    "display(median_sales)"
   ]
  },
  {
   "cell_type": "markdown",
   "metadata": {},
   "source": [
    "Проверка показывает, то медианные значения 5 популярных платформ ниже средних значений."
   ]
  },
  {
   "cell_type": "markdown",
   "metadata": {},
   "source": [
    "## Влияние на продажи внутри одной популярной платформы отзывы пользователей и критиков. Диаграмма рассеяния и корреляцию между отзывами и продажами. "
   ]
  },
  {
   "cell_type": "code",
   "execution_count": 34,
   "metadata": {},
   "outputs": [
    {
     "data": {
      "text/plain": [
       "[Text(0, 0.5, 'Продажи'), Text(0.5, 0, 'Отзывы критиков')]"
      ]
     },
     "execution_count": 34,
     "metadata": {},
     "output_type": "execute_result"
    },
    {
     "data": {
      "image/png": "[encoded data removed]",
      "text/plain": [
       "<Figure size 504x360 with 1 Axes>"
      ]
     },
     "metadata": {
      "needs_background": "light"
     },
     "output_type": "display_data"
    }
   ],
   "source": [
    "actual_platform.query('platform==\"PS4\"').sort_values(by='critic_score').plot(kind='scatter',x='critic_score',y='total_sales',figsize=(7,5), title = 'Диаграмма рассеяния зависимости продаж от отзывов критиков').set(xlabel='Отзывы критиков',ylabel='Продажи')"
   ]
  },
  {
   "cell_type": "code",
   "execution_count": 35,
   "metadata": {},
   "outputs": [
    {
     "data": {
      "text/plain": [
       "[Text(0, 0.5, 'Продажи'), Text(0.5, 0, 'Отзывы пользователей')]"
      ]
     },
     "execution_count": 35,
     "metadata": {},
     "output_type": "execute_result"
    },
    {
     "data": {
      "image/png": "[encoded data removed]",
      "text/plain": [
       "<Figure size 504x360 with 1 Axes>"
      ]
     },
     "metadata": {
      "needs_background": "light"
     },
     "output_type": "display_data"
    }
   ],
   "source": [
    "actual_platform.query('platform==\"PS4\"').sort_values(by='user_score').plot(kind='scatter', x='user_score',y='total_sales',figsize=(7,5), title = 'Диаграмма рассеяния зависимости продаж от отзывов пользователей').set(xlabel='Отзывы пользователей',ylabel='Продажи')\n"
   ]
  },
  {
   "cell_type": "markdown",
   "metadata": {},
   "source": [
    "Зависимости от отзывов в продажах согласно графикам не наблюдается. Посмотрим на корреляцию:"
   ]
  },
  {
   "cell_type": "code",
   "execution_count": 36,
   "metadata": {},
   "outputs": [
    {
     "data": {
      "text/plain": [
       "-0.040131589472697356"
      ]
     },
     "metadata": {},
     "output_type": "display_data"
    },
    {
     "data": {
      "text/plain": [
       "0.40266141068104083"
      ]
     },
     "metadata": {},
     "output_type": "display_data"
    }
   ],
   "source": [
    "ps4_actual = actual_platform.query('platform==\"PS4\"')\n",
    "display(ps4_actual['total_sales'].corr(ps4_actual['user_score']))\n",
    "display(ps4_actual['total_sales'].corr(ps4_actual['critic_score']))"
   ]
  },
  {
   "cell_type": "markdown",
   "metadata": {},
   "source": [
    "Отзывы критиков больше влияют на продажи, чем отзывы пользователей. Корреляция в обоих случаях положительная, хотя у пользователей очень слабая. Тут еще имеет значение популярность, пользовательские рецензии обычно влияют на менеее раскрученные или новые игры."
   ]
  },
  {
   "cell_type": "markdown",
   "metadata": {},
   "source": [
    "## Общее распределение игр по жанрам. Что можно сказать о самых прибыльных жанрах? Выделяются ли жанры с высокими и низкими продажами?"
   ]
  },
  {
   "cell_type": "code",
   "execution_count": 37,
   "metadata": {},
   "outputs": [
    {
     "data": {
      "text/plain": [
       "[Text(0, 0.5, 'Продажи'), Text(0.5, 0, 'Жанр')]"
      ]
     },
     "execution_count": 37,
     "metadata": {},
     "output_type": "execute_result"
    },
    {
     "data": {
      "image/png": "[encoded data removed]",
      "text/plain": [
       "<Figure size 720x432 with 1 Axes>"
      ]
     },
     "metadata": {
      "needs_background": "light"
     },
     "output_type": "display_data"
    }
   ],
   "source": [
    "count_genre=actual_platform.groupby('genre')['total_sales'].count()\n",
    "count_genre=actual_platform.groupby('genre')['total_sales'].count().sort_values(ascending=False)\n",
    "count_genre.plot(y='genre',grid=True,figsize=(10,6),kind='bar',alpha=0.5,title='Распределение по жанрам и количеству продаж').set(xlabel='Жанр',ylabel='Продажи')"
   ]
  },
  {
   "cell_type": "markdown",
   "metadata": {},
   "source": [
    "Самым прибыльным жанром по миру является Action. Менее всех популярен Puzzle."
   ]
  },
  {
   "cell_type": "code",
   "execution_count": 38,
   "metadata": {},
   "outputs": [
    {
     "data": {
      "text/plain": [
       "<matplotlib.axes._subplots.AxesSubplot at 0x7f2f78833710>"
      ]
     },
     "execution_count": 38,
     "metadata": {},
     "output_type": "execute_result"
    },
    {
     "data": {
      "image/png": "[encoded data removed]",
      "text/plain": [
       "<Figure size 720x432 with 1 Axes>"
      ]
     },
     "metadata": {
      "needs_background": "light"
     },
     "output_type": "display_data"
    }
   ],
   "source": [
    "median_sale_genre=actual_platform.groupby('genre')['total_sales'].median().sort_values(ascending=False)\n",
    "median_sale_genre.plot(y='genre',grid=True,figsize=(10,6),kind='bar',title='Распределение медианных продаж по жанрам')\n"
   ]
  },
  {
   "cell_type": "markdown",
   "metadata": {},
   "source": [
    "Согласно медианным значениям самые прибыльные жанры это Shooter, Sports, Role-Playing. "
   ]
  },
  {
   "cell_type": "markdown",
   "metadata": {},
   "source": [
    "# Портрет пользователя каждого региона"
   ]
  },
  {
   "cell_type": "code",
   "execution_count": 39,
   "metadata": {},
   "outputs": [],
   "source": [
    "def profiler(index, values): \n",
    "        display(actual_platform.pivot_table(index = index, values = values, aggfunc = 'sum')\n",
    "                .sort_values(values , ascending = False)\n",
    "                             .plot(kind='bar'))\n"
   ]
  },
  {
   "cell_type": "markdown",
   "metadata": {},
   "source": [
    "5 самых популярных платформ за актуальный период:"
   ]
  },
  {
   "cell_type": "code",
   "execution_count": 40,
   "metadata": {},
   "outputs": [
    {
     "data": {
      "text/plain": [
       "<matplotlib.axes._subplots.AxesSubplot at 0x7f2f786e3410>"
      ]
     },
     "metadata": {},
     "output_type": "display_data"
    },
    {
     "data": {
      "text/plain": [
       "<matplotlib.axes._subplots.AxesSubplot at 0x7f2f786c1210>"
      ]
     },
     "metadata": {},
     "output_type": "display_data"
    },
    {
     "data": {
      "text/plain": [
       "<matplotlib.axes._subplots.AxesSubplot at 0x7f2f7862e890>"
      ]
     },
     "metadata": {},
     "output_type": "display_data"
    },
    {
     "data": {
      "image/png": "[encoded data removed]",
      "text/plain": [
       "<Figure size 432x288 with 1 Axes>"
      ]
     },
     "metadata": {
      "needs_background": "light"
     },
     "output_type": "display_data"
    },
    {
     "data": {
      "image/png": "[encoded data removed]",
      "text/plain": [
       "<Figure size 432x288 with 1 Axes>"
      ]
     },
     "metadata": {
      "needs_background": "light"
     },
     "output_type": "display_data"
    },
    {
     "data": {
      "image/png": "[encoded data removed]",
      "text/plain": [
       "<Figure size 432x288 with 1 Axes>"
      ]
     },
     "metadata": {
      "needs_background": "light"
     },
     "output_type": "display_data"
    }
   ],
   "source": [
    "profiler('platform', 'na_sales')\n",
    "profiler('platform', 'eu_sales')\n",
    "profiler('platform', 'jp_sales')"
   ]
  },
  {
   "cell_type": "markdown",
   "metadata": {},
   "source": [
    "Самая популярная платформа в США- X360, затем PS3 (c небольшой разницей), и набирает обороты PS4.  \n",
    "У Европейских пользователей лидирует PS3, затем идет Х360 и далее PS4.  \n",
    "Японские пользователи предпочитают платформу 3DS остальным, далее идет PS3, далее с большим отрывом PS4.  "
   ]
  },
  {
   "cell_type": "markdown",
   "metadata": {},
   "source": [
    "5 самых популярных жанров:"
   ]
  },
  {
   "cell_type": "code",
   "execution_count": 41,
   "metadata": {},
   "outputs": [
    {
     "data": {
      "text/plain": [
       "<matplotlib.axes._subplots.AxesSubplot at 0x7f2f7855c3d0>"
      ]
     },
     "metadata": {},
     "output_type": "display_data"
    },
    {
     "data": {
      "text/plain": [
       "<matplotlib.axes._subplots.AxesSubplot at 0x7f2f785978d0>"
      ]
     },
     "metadata": {},
     "output_type": "display_data"
    },
    {
     "data": {
      "text/plain": [
       "<matplotlib.axes._subplots.AxesSubplot at 0x7f2f785cc590>"
      ]
     },
     "metadata": {},
     "output_type": "display_data"
    },
    {
     "data": {
      "image/png": "[encoded data removed]",
      "text/plain": [
       "<Figure size 432x288 with 1 Axes>"
      ]
     },
     "metadata": {
      "needs_background": "light"
     },
     "output_type": "display_data"
    },
    {
     "data": {
      "image/png": "[encoded data removed]",
      "text/plain": [
       "<Figure size 432x288 with 1 Axes>"
      ]
     },
     "metadata": {
      "needs_background": "light"
     },
     "output_type": "display_data"
    },
    {
     "data": {
      "image/png": "[encoded data removed]",
      "text/plain": [
       "<Figure size 432x288 with 1 Axes>"
      ]
     },
     "metadata": {
      "needs_background": "light"
     },
     "output_type": "display_data"
    }
   ],
   "source": [
    "profiler('genre', 'na_sales')\n",
    "profiler('genre', 'eu_sales')\n",
    "profiler('genre', 'jp_sales')"
   ]
  },
  {
   "cell_type": "markdown",
   "metadata": {},
   "source": [
    "В США самый популярный жанр  Shooter, с небольшим отрывом Action и далее идет Sports.\n",
    "У Европейских пользователей лидирует Action, потом Shooter, и далее Sports.\n",
    "Японские пользователи опять отличаются своим выбором, наиболее частый жанр Role-Playing, далее Action и затем Fighting."
   ]
  },
  {
   "cell_type": "markdown",
   "metadata": {},
   "source": [
    "Влияние рейтинга ESRB на продажи в отдельном регионе:\n",
    "\n",
    "Entertainment Software Rating Board (ESRB) — негосударственная саморегулирующаяся организация, которая присваивает рейтинги компьютерным и видеоиграм, а также другому развлекательному программному обеспечению в США. Получение рейтинга добровольно, однако необходимо для успешных продаж на территории США.\n",
    "\n",
    "Типирование рейтинга в датасете:\n",
    "\n",
    "E -  everyone  \n",
    "EC early childhood  \n",
    "E10+ - older than 10 years old  \n",
    "K-A - kids to adults  \n",
    "T - teen  \n",
    "M - mature +17  \n",
    "AO - adults only  \n",
    "RP - rating pending  "
   ]
  },
  {
   "cell_type": "code",
   "execution_count": 42,
   "metadata": {},
   "outputs": [
    {
     "data": {
      "text/plain": [
       "<matplotlib.axes._subplots.AxesSubplot at 0x7f2f7850d910>"
      ]
     },
     "metadata": {},
     "output_type": "display_data"
    },
    {
     "data": {
      "text/plain": [
       "<matplotlib.axes._subplots.AxesSubplot at 0x7f2f785089d0>"
      ]
     },
     "metadata": {},
     "output_type": "display_data"
    },
    {
     "data": {
      "text/plain": [
       "<matplotlib.axes._subplots.AxesSubplot at 0x7f2f784708d0>"
      ]
     },
     "metadata": {},
     "output_type": "display_data"
    },
    {
     "data": {
      "image/png": "[encoded data removed]",
      "text/plain": [
       "<Figure size 432x288 with 1 Axes>"
      ]
     },
     "metadata": {
      "needs_background": "light"
     },
     "output_type": "display_data"
    },
    {
     "data": {
      "image/png": "[encoded data removed]",
      "text/plain": [
       "<Figure size 432x288 with 1 Axes>"
      ]
     },
     "metadata": {
      "needs_background": "light"
     },
     "output_type": "display_data"
    },
    {
     "data": {
      "image/png": "[encoded data removed]",
      "text/plain": [
       "<Figure size 432x288 with 1 Axes>"
      ]
     },
     "metadata": {
      "needs_background": "light"
     },
     "output_type": "display_data"
    }
   ],
   "source": [
    "profiler('rating', 'na_sales')\n",
    "profiler('rating', 'eu_sales')\n",
    "profiler('rating', 'jp_sales')"
   ]
  },
  {
   "cell_type": "markdown",
   "metadata": {},
   "source": [
    "#  Проверка гипотез"
   ]
  },
  {
   "cell_type": "markdown",
   "metadata": {},
   "source": [
    "## Проверим гипотезу о том, что средние пользовательские рейтинги платформ Xbox One и PC одинаковы.  "
   ]
  },
  {
   "cell_type": "markdown",
   "metadata": {},
   "source": [
    "**Формулируем гипотезы**  \n",
    "\n",
    "Н0 (нулевая гипотеза) - Средние пользовательские рейтинги платформ Xbox One и PC одинаковые; \n",
    "\n",
    "Н1 (альтернативная гипотеза) - Средние пользовательские рейтинги платформ Xbox One и PC отличаются между собой."
   ]
  },
  {
   "cell_type": "code",
   "execution_count": 43,
   "metadata": {},
   "outputs": [
    {
     "data": {
      "text/plain": [
       "'p-значение:'"
      ]
     },
     "metadata": {},
     "output_type": "display_data"
    },
    {
     "data": {
      "text/plain": [
       "0.21023248115132503"
      ]
     },
     "metadata": {},
     "output_type": "display_data"
    },
    {
     "data": {
      "text/plain": [
       "'Не получилось отвергнуть нулевую гипотезу'"
      ]
     },
     "metadata": {},
     "output_type": "display_data"
    }
   ],
   "source": [
    "actual_platform = games.query('platform in @list_platform or year_of_release >= 2014')\n",
    "rating_xone = actual_platform.query('platform == \"XOne\"')['user_score'].dropna() \n",
    "rating_pc = actual_platform.query('platform == \"PC\"')['user_score'].dropna() \n",
    "\n",
    "alpha = 0.05\n",
    "results = st.ttest_ind(rating_xone, rating_pc)\n",
    "display('p-значение:', results.pvalue)\n",
    "\n",
    "if results.pvalue < alpha:\n",
    "    display('Отвергаем нулевую гипотезу')\n",
    "else:\n",
    "    display('Не получилось отвергнуть нулевую гипотезу')"
   ]
  },
  {
   "cell_type": "code",
   "execution_count": 44,
   "metadata": {},
   "outputs": [
    {
     "data": {
      "text/html": [
       "<div>\n",
       "<style scoped>\n",
       "    .dataframe tbody tr th:only-of-type {\n",
       "        vertical-align: middle;\n",
       "    }\n",
       "\n",
       "    .dataframe tbody tr th {\n",
       "        vertical-align: top;\n",
       "    }\n",
       "\n",
       "    .dataframe thead tr th {\n",
       "        text-align: left;\n",
       "    }\n",
       "\n",
       "    .dataframe thead tr:last-of-type th {\n",
       "        text-align: right;\n",
       "    }\n",
       "</style>\n",
       "<table border=\"1\" class=\"dataframe\">\n",
       "  <thead>\n",
       "    <tr>\n",
       "      <th></th>\n",
       "      <th>mean</th>\n",
       "      <th>median</th>\n",
       "    </tr>\n",
       "    <tr>\n",
       "      <th></th>\n",
       "      <th>user_score</th>\n",
       "      <th>user_score</th>\n",
       "    </tr>\n",
       "    <tr>\n",
       "      <th>platform</th>\n",
       "      <th></th>\n",
       "      <th></th>\n",
       "    </tr>\n",
       "  </thead>\n",
       "  <tbody>\n",
       "    <tr>\n",
       "      <td>PC</td>\n",
       "      <td>6.30</td>\n",
       "      <td>6.8</td>\n",
       "    </tr>\n",
       "    <tr>\n",
       "      <td>XOne</td>\n",
       "      <td>6.52</td>\n",
       "      <td>6.8</td>\n",
       "    </tr>\n",
       "  </tbody>\n",
       "</table>\n",
       "</div>"
      ],
      "text/plain": [
       "               mean     median\n",
       "         user_score user_score\n",
       "platform                      \n",
       "PC             6.30        6.8\n",
       "XOne           6.52        6.8"
      ]
     },
     "execution_count": 44,
     "metadata": {},
     "output_type": "execute_result"
    }
   ],
   "source": [
    "actual_platform.query('platform ==\"XOne\" or platform ==\"PC\"').pivot_table(\n",
    "    index='platform', values='user_score', aggfunc=['mean','median']).round(2)"
   ]
  },
  {
   "cell_type": "markdown",
   "metadata": {},
   "source": [
    "Не получилось опровергнуть Нулевую гипотезу. Средние пользовательские рейтинги платформ Xbox One и PC на 11%."
   ]
  },
  {
   "cell_type": "markdown",
   "metadata": {},
   "source": [
    "## Средние пользовательские рейтинги жанров Action и Sports разные\n",
    "В данной проверке гипотезы, мы рассматриваем две генеральные совокупности - игры жанров Action и Sports"
   ]
  },
  {
   "cell_type": "markdown",
   "metadata": {},
   "source": [
    "**Формулируем гипотезы**\n",
    "\n",
    "Н0 (нулевая гипотеза)- Cостоит в том, что что средние пользовательские рейтинги жанров Action и Sports одинаковы.   \n",
    "Н1 (альтернативная гипотеза) -  Cостоит в том, средние пользовательские рейтинги жанров Action и Sports отличаются."
   ]
  },
  {
   "cell_type": "code",
   "execution_count": 45,
   "metadata": {},
   "outputs": [
    {
     "data": {
      "text/plain": [
       "'p-значение:'"
      ]
     },
     "metadata": {},
     "output_type": "display_data"
    },
    {
     "data": {
      "text/plain": [
       "2.473160735016056e-18"
      ]
     },
     "metadata": {},
     "output_type": "display_data"
    },
    {
     "data": {
      "text/plain": [
       "'Отвергаем нулевую гипотезу'"
      ]
     },
     "metadata": {},
     "output_type": "display_data"
    }
   ],
   "source": [
    "rating_action = actual_platform.query('genre == \"Action\"')['user_score'].dropna() \n",
    "rating_sports = actual_platform.query('genre == \"Sports\"')['user_score'].dropna() \n",
    "\n",
    "alpha = 0.05 \n",
    "results = st.ttest_ind(rating_action, rating_sports) \n",
    "\n",
    "display('p-значение:', results.pvalue)\n",
    "\n",
    "if results.pvalue < alpha:\n",
    "    display('Отвергаем нулевую гипотезу')\n",
    "else:\n",
    "    display('Не получилось отвергнуть нулевую гипотезу')"
   ]
  },
  {
   "cell_type": "code",
   "execution_count": 46,
   "metadata": {},
   "outputs": [
    {
     "data": {
      "text/html": [
       "<div>\n",
       "<style scoped>\n",
       "    .dataframe tbody tr th:only-of-type {\n",
       "        vertical-align: middle;\n",
       "    }\n",
       "\n",
       "    .dataframe tbody tr th {\n",
       "        vertical-align: top;\n",
       "    }\n",
       "\n",
       "    .dataframe thead tr th {\n",
       "        text-align: left;\n",
       "    }\n",
       "\n",
       "    .dataframe thead tr:last-of-type th {\n",
       "        text-align: right;\n",
       "    }\n",
       "</style>\n",
       "<table border=\"1\" class=\"dataframe\">\n",
       "  <thead>\n",
       "    <tr>\n",
       "      <th></th>\n",
       "      <th>mean</th>\n",
       "      <th>median</th>\n",
       "    </tr>\n",
       "    <tr>\n",
       "      <th></th>\n",
       "      <th>user_score</th>\n",
       "      <th>user_score</th>\n",
       "    </tr>\n",
       "    <tr>\n",
       "      <th>genre</th>\n",
       "      <th></th>\n",
       "      <th></th>\n",
       "    </tr>\n",
       "  </thead>\n",
       "  <tbody>\n",
       "    <tr>\n",
       "      <td>Action</td>\n",
       "      <td>6.85</td>\n",
       "      <td>7.1</td>\n",
       "    </tr>\n",
       "    <tr>\n",
       "      <td>Sports</td>\n",
       "      <td>6.08</td>\n",
       "      <td>6.4</td>\n",
       "    </tr>\n",
       "  </tbody>\n",
       "</table>\n",
       "</div>"
      ],
      "text/plain": [
       "             mean     median\n",
       "       user_score user_score\n",
       "genre                       \n",
       "Action       6.85        7.1\n",
       "Sports       6.08        6.4"
      ]
     },
     "execution_count": 46,
     "metadata": {},
     "output_type": "execute_result"
    }
   ],
   "source": [
    "actual_platform.query('genre == \"Action\" or genre == \"Sports\"').pivot_table(\n",
    "    index='genre', values='user_score', aggfunc=['mean','median']).round(2)"
   ]
  },
  {
   "cell_type": "markdown",
   "metadata": {},
   "source": [
    "Получив p-value, мы отвергли Нулевую гипотезу. Средние пользовательские рейтинги различаются, и практически нулевая вероятность говорит о том, что случайно получить такое отличие в значениях практически не получится, рейтинги Action намного выше."
   ]
  },
  {
   "cell_type": "markdown",
   "metadata": {},
   "source": [
    "#  Общий вывод: "
   ]
  },
  {
   "cell_type": "markdown",
   "metadata": {},
   "source": [
    " \n",
    "1) Игровая индустрия начала активно развиваться с 1994 года, до этого объем был невысоким. Жизненный цикл платформы около 10 лет, первую половину которых идет плавный рост продаж, а вторую - спад. Необходимо рассматривать не самый дальний врменной интервал для более точной оценки рынков. \n",
    "\n",
    "2)  Популярные консоли в мире принадлежат компаниям Sony и Microsoft. Среднестатические игроки Северной Америки и Европы похожи. Рынок видео игр в Японии отличается от остального мира. Они предпочитают портативные консоли и игры жанра RPG.\n",
    "\n",
    "3)  PC, PS4, PSV, XOne, WiiU, и X360 - растущие плафтормы и наиболее прибыльные в прогнозе, но если рассматривать отдельно японский рынок, целесообразно сделать ставку на платформу 3DS.   \n",
    "\n",
    "4)  Для прогнозирования успешной видеоигры необходимо изучить оценки критиков, так как есть прямая зависимость между этим параметром и объемом продаж.\n",
    "\n",
    "5)  Самые продаваемые игровые жанры - Action, Shooter, Role-Playing у японского рынка. \n",
    "\n",
    "6)  Возрастные рейтинги самых популярных игр - M(17+), Без рейтинга, E(6+).\n",
    "\n",
    "7) Средние пользовательские рейтинги платформ Xbox One и PC отличаются незначительно. Отвергаем нулевую гипотезу,  средние пользователские рейтинги для жанров Action и Sports отличаются."
   ]
  }
 ],
 "metadata": {
  "ExecuteTimeLog": [
   {
    "duration": 1134,
    "start_time": "2022-01-23T19:07:09.343Z"
   },
   {
    "duration": 39,
    "start_time": "2022-01-23T19:07:10.479Z"
   },
   {
    "duration": 22,
    "start_time": "2022-01-23T19:07:10.521Z"
   },
   {
    "duration": 17,
    "start_time": "2022-01-23T19:18:55.626Z"
   },
   {
    "duration": 6,
    "start_time": "2022-01-23T21:31:12.697Z"
   },
   {
    "duration": 1088,
    "start_time": "2022-01-23T21:53:14.475Z"
   },
   {
    "duration": 39,
    "start_time": "2022-01-23T21:53:15.565Z"
   },
   {
    "duration": 25,
    "start_time": "2022-01-23T21:53:15.606Z"
   },
   {
    "duration": 11,
    "start_time": "2022-01-23T21:53:15.633Z"
   },
   {
    "duration": 5,
    "start_time": "2022-01-23T21:53:15.645Z"
   },
   {
    "duration": 226,
    "start_time": "2022-01-23T21:53:15.652Z"
   },
   {
    "duration": 2040,
    "start_time": "2022-01-23T21:53:13.840Z"
   },
   {
    "duration": 2096,
    "start_time": "2022-01-23T21:55:46.513Z"
   },
   {
    "duration": 410,
    "start_time": "2022-01-24T09:32:06.084Z"
   },
   {
    "duration": 1564,
    "start_time": "2022-01-24T09:32:21.915Z"
   },
   {
    "duration": 46,
    "start_time": "2022-01-24T09:32:23.482Z"
   },
   {
    "duration": 27,
    "start_time": "2022-01-24T09:32:23.531Z"
   },
   {
    "duration": 14,
    "start_time": "2022-01-24T09:32:23.562Z"
   },
   {
    "duration": 7,
    "start_time": "2022-01-24T09:32:23.578Z"
   },
   {
    "duration": 46,
    "start_time": "2022-01-24T09:32:23.587Z"
   },
   {
    "duration": 11,
    "start_time": "2022-01-24T09:32:23.636Z"
   },
   {
    "duration": 11,
    "start_time": "2022-01-24T09:32:23.650Z"
   },
   {
    "duration": 22,
    "start_time": "2022-01-24T09:32:23.663Z"
   },
   {
    "duration": 7,
    "start_time": "2022-01-24T09:32:23.687Z"
   },
   {
    "duration": 15,
    "start_time": "2022-01-24T09:35:44.964Z"
   },
   {
    "duration": 33,
    "start_time": "2022-01-24T09:43:56.902Z"
   },
   {
    "duration": 35,
    "start_time": "2022-01-24T09:51:06.280Z"
   },
   {
    "duration": 26,
    "start_time": "2022-01-24T09:51:52.684Z"
   },
   {
    "duration": 1237,
    "start_time": "2022-01-24T09:52:55.940Z"
   },
   {
    "duration": 1162,
    "start_time": "2022-01-24T09:53:34.904Z"
   },
   {
    "duration": 1142,
    "start_time": "2022-01-24T09:53:46.099Z"
   },
   {
    "duration": 1132,
    "start_time": "2022-01-24T09:53:49.327Z"
   },
   {
    "duration": 1869,
    "start_time": "2022-01-24T09:54:04.585Z"
   },
   {
    "duration": 49,
    "start_time": "2022-01-24T09:54:06.457Z"
   },
   {
    "duration": 31,
    "start_time": "2022-01-24T09:54:06.510Z"
   },
   {
    "duration": 18,
    "start_time": "2022-01-24T09:54:06.544Z"
   },
   {
    "duration": 24,
    "start_time": "2022-01-24T09:54:06.565Z"
   },
   {
    "duration": 40,
    "start_time": "2022-01-24T09:54:06.592Z"
   },
   {
    "duration": 4,
    "start_time": "2022-01-24T09:54:06.635Z"
   },
   {
    "duration": 9,
    "start_time": "2022-01-24T09:54:06.644Z"
   },
   {
    "duration": 9,
    "start_time": "2022-01-24T09:54:06.656Z"
   },
   {
    "duration": 22,
    "start_time": "2022-01-24T09:54:06.668Z"
   },
   {
    "duration": 16,
    "start_time": "2022-01-24T09:54:06.734Z"
   },
   {
    "duration": 31,
    "start_time": "2022-01-24T09:54:06.753Z"
   },
   {
    "duration": 84,
    "start_time": "2022-01-24T09:54:06.787Z"
   },
   {
    "duration": 11,
    "start_time": "2022-01-24T09:54:06.874Z"
   },
   {
    "duration": 1334,
    "start_time": "2022-01-24T09:55:16.870Z"
   },
   {
    "duration": 1680,
    "start_time": "2022-01-24T09:56:26.540Z"
   },
   {
    "duration": 58,
    "start_time": "2022-01-24T09:56:28.222Z"
   },
   {
    "duration": 26,
    "start_time": "2022-01-24T09:56:28.284Z"
   },
   {
    "duration": 27,
    "start_time": "2022-01-24T09:56:28.313Z"
   },
   {
    "duration": 25,
    "start_time": "2022-01-24T09:56:28.342Z"
   },
   {
    "duration": 6,
    "start_time": "2022-01-24T09:56:28.370Z"
   },
   {
    "duration": 9,
    "start_time": "2022-01-24T09:56:28.378Z"
   },
   {
    "duration": 42,
    "start_time": "2022-01-24T09:56:28.391Z"
   },
   {
    "duration": 14,
    "start_time": "2022-01-24T09:56:28.436Z"
   },
   {
    "duration": 22,
    "start_time": "2022-01-24T09:56:28.453Z"
   },
   {
    "duration": 16,
    "start_time": "2022-01-24T09:56:28.478Z"
   },
   {
    "duration": 78,
    "start_time": "2022-01-24T09:56:28.497Z"
   },
   {
    "duration": 80,
    "start_time": "2022-01-24T09:56:28.578Z"
   },
   {
    "duration": 13,
    "start_time": "2022-01-24T09:56:28.660Z"
   },
   {
    "duration": 45,
    "start_time": "2022-01-24T09:57:36.051Z"
   },
   {
    "duration": 44,
    "start_time": "2022-01-24T09:57:37.317Z"
   },
   {
    "duration": 44,
    "start_time": "2022-01-24T09:57:38.241Z"
   },
   {
    "duration": 1961,
    "start_time": "2022-01-24T09:57:48.210Z"
   },
   {
    "duration": 63,
    "start_time": "2022-01-24T09:57:50.174Z"
   },
   {
    "duration": 37,
    "start_time": "2022-01-24T09:57:50.241Z"
   },
   {
    "duration": 27,
    "start_time": "2022-01-24T09:57:50.281Z"
   },
   {
    "duration": 42,
    "start_time": "2022-01-24T09:57:50.311Z"
   },
   {
    "duration": 7,
    "start_time": "2022-01-24T09:57:50.355Z"
   },
   {
    "duration": 10,
    "start_time": "2022-01-24T09:57:50.364Z"
   },
   {
    "duration": 13,
    "start_time": "2022-01-24T09:57:50.377Z"
   },
   {
    "duration": 43,
    "start_time": "2022-01-24T09:57:50.393Z"
   },
   {
    "duration": 29,
    "start_time": "2022-01-24T09:57:50.438Z"
   },
   {
    "duration": 14,
    "start_time": "2022-01-24T09:57:50.469Z"
   },
   {
    "duration": 56,
    "start_time": "2022-01-24T09:57:50.485Z"
   },
   {
    "duration": 56,
    "start_time": "2022-01-24T09:57:50.544Z"
   },
   {
    "duration": 12,
    "start_time": "2022-01-24T09:57:50.604Z"
   },
   {
    "duration": 18,
    "start_time": "2022-01-24T09:58:46.166Z"
   },
   {
    "duration": 17,
    "start_time": "2022-01-24T09:58:48.915Z"
   },
   {
    "duration": 18,
    "start_time": "2022-01-24T09:58:49.775Z"
   },
   {
    "duration": 20,
    "start_time": "2022-01-24T09:58:50.978Z"
   },
   {
    "duration": 1908,
    "start_time": "2022-01-24T09:59:01.445Z"
   },
   {
    "duration": 61,
    "start_time": "2022-01-24T09:59:03.356Z"
   },
   {
    "duration": 36,
    "start_time": "2022-01-24T09:59:03.421Z"
   },
   {
    "duration": 15,
    "start_time": "2022-01-24T09:59:03.461Z"
   },
   {
    "duration": 22,
    "start_time": "2022-01-24T09:59:03.479Z"
   },
   {
    "duration": 7,
    "start_time": "2022-01-24T09:59:03.531Z"
   },
   {
    "duration": 4,
    "start_time": "2022-01-24T09:59:03.541Z"
   },
   {
    "duration": 8,
    "start_time": "2022-01-24T09:59:03.549Z"
   },
   {
    "duration": 14,
    "start_time": "2022-01-24T09:59:03.560Z"
   },
   {
    "duration": 23,
    "start_time": "2022-01-24T09:59:03.577Z"
   },
   {
    "duration": 14,
    "start_time": "2022-01-24T09:59:03.633Z"
   },
   {
    "duration": 29,
    "start_time": "2022-01-24T09:59:03.649Z"
   },
   {
    "duration": 80,
    "start_time": "2022-01-24T09:59:03.680Z"
   },
   {
    "duration": 8,
    "start_time": "2022-01-24T09:59:03.763Z"
   },
   {
    "duration": 32,
    "start_time": "2022-01-24T10:02:04.112Z"
   },
   {
    "duration": 30,
    "start_time": "2022-01-24T10:02:05.487Z"
   },
   {
    "duration": 31,
    "start_time": "2022-01-24T10:02:07.048Z"
   },
   {
    "duration": 436,
    "start_time": "2022-01-24T10:02:32.225Z"
   },
   {
    "duration": 36,
    "start_time": "2022-01-24T10:03:10.716Z"
   },
   {
    "duration": 32,
    "start_time": "2022-01-24T10:14:01.680Z"
   },
   {
    "duration": 22,
    "start_time": "2022-01-24T11:17:23.955Z"
   },
   {
    "duration": 21,
    "start_time": "2022-01-24T11:17:26.364Z"
   },
   {
    "duration": 21,
    "start_time": "2022-01-24T11:17:36.953Z"
   },
   {
    "duration": 1484,
    "start_time": "2022-01-24T11:17:43.723Z"
   },
   {
    "duration": 48,
    "start_time": "2022-01-24T11:17:45.209Z"
   },
   {
    "duration": 25,
    "start_time": "2022-01-24T11:17:45.260Z"
   },
   {
    "duration": 15,
    "start_time": "2022-01-24T11:17:45.288Z"
   },
   {
    "duration": 49,
    "start_time": "2022-01-24T11:17:45.305Z"
   },
   {
    "duration": 6,
    "start_time": "2022-01-24T11:17:45.357Z"
   },
   {
    "duration": 5,
    "start_time": "2022-01-24T11:17:45.365Z"
   },
   {
    "duration": 7,
    "start_time": "2022-01-24T11:17:45.374Z"
   },
   {
    "duration": 443,
    "start_time": "2022-01-24T11:17:45.385Z"
   },
   {
    "duration": -53,
    "start_time": "2022-01-24T11:17:45.883Z"
   },
   {
    "duration": -55,
    "start_time": "2022-01-24T11:17:45.887Z"
   },
   {
    "duration": -56,
    "start_time": "2022-01-24T11:17:45.889Z"
   },
   {
    "duration": -60,
    "start_time": "2022-01-24T11:17:45.895Z"
   },
   {
    "duration": -63,
    "start_time": "2022-01-24T11:17:45.899Z"
   },
   {
    "duration": -65,
    "start_time": "2022-01-24T11:17:45.902Z"
   },
   {
    "duration": -65,
    "start_time": "2022-01-24T11:17:45.904Z"
   },
   {
    "duration": -66,
    "start_time": "2022-01-24T11:17:45.906Z"
   },
   {
    "duration": 1648,
    "start_time": "2022-01-24T11:19:12.197Z"
   },
   {
    "duration": 47,
    "start_time": "2022-01-24T11:19:13.848Z"
   },
   {
    "duration": 35,
    "start_time": "2022-01-24T11:19:13.899Z"
   },
   {
    "duration": 15,
    "start_time": "2022-01-24T11:19:13.936Z"
   },
   {
    "duration": 22,
    "start_time": "2022-01-24T11:19:13.954Z"
   },
   {
    "duration": 6,
    "start_time": "2022-01-24T11:19:13.979Z"
   },
   {
    "duration": 44,
    "start_time": "2022-01-24T11:19:13.988Z"
   },
   {
    "duration": 7,
    "start_time": "2022-01-24T11:19:14.036Z"
   },
   {
    "duration": 10,
    "start_time": "2022-01-24T11:19:14.046Z"
   },
   {
    "duration": 28,
    "start_time": "2022-01-24T11:19:14.059Z"
   },
   {
    "duration": 14,
    "start_time": "2022-01-24T11:19:14.089Z"
   },
   {
    "duration": 67,
    "start_time": "2022-01-24T11:19:14.105Z"
   },
   {
    "duration": 85,
    "start_time": "2022-01-24T11:19:14.175Z"
   },
   {
    "duration": 33,
    "start_time": "2022-01-24T11:19:14.264Z"
   },
   {
    "duration": 9,
    "start_time": "2022-01-24T11:19:14.300Z"
   },
   {
    "duration": 28,
    "start_time": "2022-01-24T11:19:14.333Z"
   },
   {
    "duration": 28,
    "start_time": "2022-01-24T11:19:14.364Z"
   },
   {
    "duration": 1271,
    "start_time": "2022-01-24T11:19:53.585Z"
   },
   {
    "duration": -35,
    "start_time": "2022-01-24T11:19:56.171Z"
   },
   {
    "duration": -29,
    "start_time": "2022-01-24T11:19:58.032Z"
   },
   {
    "duration": -29,
    "start_time": "2022-01-24T11:20:11.866Z"
   },
   {
    "duration": 1268,
    "start_time": "2022-01-24T11:20:12.558Z"
   },
   {
    "duration": 1139,
    "start_time": "2022-01-24T11:20:57.172Z"
   },
   {
    "duration": 1444,
    "start_time": "2022-01-24T11:21:04.763Z"
   },
   {
    "duration": 45,
    "start_time": "2022-01-24T11:21:06.210Z"
   },
   {
    "duration": 26,
    "start_time": "2022-01-24T11:21:06.257Z"
   },
   {
    "duration": 17,
    "start_time": "2022-01-24T11:21:06.285Z"
   },
   {
    "duration": 45,
    "start_time": "2022-01-24T11:21:06.304Z"
   },
   {
    "duration": 6,
    "start_time": "2022-01-24T11:21:06.351Z"
   },
   {
    "duration": 11,
    "start_time": "2022-01-24T11:21:06.360Z"
   },
   {
    "duration": 10,
    "start_time": "2022-01-24T11:21:06.376Z"
   },
   {
    "duration": 9,
    "start_time": "2022-01-24T11:21:06.389Z"
   },
   {
    "duration": 52,
    "start_time": "2022-01-24T11:21:06.401Z"
   },
   {
    "duration": 16,
    "start_time": "2022-01-24T11:21:06.456Z"
   },
   {
    "duration": 64,
    "start_time": "2022-01-24T11:21:06.475Z"
   },
   {
    "duration": 46,
    "start_time": "2022-01-24T11:21:06.542Z"
   },
   {
    "duration": 50,
    "start_time": "2022-01-24T11:21:06.591Z"
   },
   {
    "duration": 6,
    "start_time": "2022-01-24T11:21:06.644Z"
   },
   {
    "duration": 22,
    "start_time": "2022-01-24T11:21:06.653Z"
   },
   {
    "duration": 57,
    "start_time": "2022-01-24T11:21:06.677Z"
   },
   {
    "duration": 427,
    "start_time": "2022-01-24T11:22:55.173Z"
   },
   {
    "duration": 108,
    "start_time": "2022-01-24T11:24:13.853Z"
   },
   {
    "duration": 161,
    "start_time": "2022-01-24T11:24:33.303Z"
   },
   {
    "duration": 103,
    "start_time": "2022-01-24T11:24:41.085Z"
   },
   {
    "duration": 107,
    "start_time": "2022-01-24T11:24:42.635Z"
   },
   {
    "duration": 105,
    "start_time": "2022-01-24T11:24:43.794Z"
   },
   {
    "duration": 88,
    "start_time": "2022-01-24T11:24:52.109Z"
   },
   {
    "duration": 100,
    "start_time": "2022-01-24T11:24:52.892Z"
   },
   {
    "duration": 669,
    "start_time": "2022-01-24T11:25:01.023Z"
   },
   {
    "duration": 284,
    "start_time": "2022-01-24T11:26:20.178Z"
   },
   {
    "duration": 105,
    "start_time": "2022-01-24T11:29:22.198Z"
   },
   {
    "duration": 93,
    "start_time": "2022-01-24T11:29:23.579Z"
   },
   {
    "duration": 90,
    "start_time": "2022-01-24T11:29:34.908Z"
   },
   {
    "duration": 145,
    "start_time": "2022-01-24T11:29:36.404Z"
   },
   {
    "duration": 92,
    "start_time": "2022-01-24T11:29:44.606Z"
   },
   {
    "duration": 102,
    "start_time": "2022-01-24T11:29:45.884Z"
   },
   {
    "duration": 101,
    "start_time": "2022-01-24T11:29:51.820Z"
   },
   {
    "duration": 105,
    "start_time": "2022-01-24T11:29:52.760Z"
   },
   {
    "duration": 358,
    "start_time": "2022-01-24T11:29:59.492Z"
   },
   {
    "duration": -28,
    "start_time": "2022-01-24T11:36:18.486Z"
   },
   {
    "duration": 1863,
    "start_time": "2022-01-24T11:36:19.857Z"
   },
   {
    "duration": 1496,
    "start_time": "2022-01-24T11:36:28.092Z"
   },
   {
    "duration": 49,
    "start_time": "2022-01-24T11:36:29.591Z"
   },
   {
    "duration": 25,
    "start_time": "2022-01-24T11:36:29.643Z"
   },
   {
    "duration": 17,
    "start_time": "2022-01-24T11:36:29.671Z"
   },
   {
    "duration": 49,
    "start_time": "2022-01-24T11:36:29.690Z"
   },
   {
    "duration": 8,
    "start_time": "2022-01-24T11:36:29.743Z"
   },
   {
    "duration": 7,
    "start_time": "2022-01-24T11:36:29.753Z"
   },
   {
    "duration": 8,
    "start_time": "2022-01-24T11:36:29.762Z"
   },
   {
    "duration": 8,
    "start_time": "2022-01-24T11:36:29.774Z"
   },
   {
    "duration": 64,
    "start_time": "2022-01-24T11:36:29.785Z"
   },
   {
    "duration": 19,
    "start_time": "2022-01-24T11:36:29.852Z"
   },
   {
    "duration": 69,
    "start_time": "2022-01-24T11:36:29.874Z"
   },
   {
    "duration": 56,
    "start_time": "2022-01-24T11:36:29.946Z"
   },
   {
    "duration": 45,
    "start_time": "2022-01-24T11:36:30.005Z"
   },
   {
    "duration": 9,
    "start_time": "2022-01-24T11:36:30.053Z"
   },
   {
    "duration": 28,
    "start_time": "2022-01-24T11:36:30.064Z"
   },
   {
    "duration": 61,
    "start_time": "2022-01-24T11:36:30.094Z"
   },
   {
    "duration": 375,
    "start_time": "2022-01-24T11:39:39.457Z"
   },
   {
    "duration": 21,
    "start_time": "2022-01-24T11:40:40.345Z"
   },
   {
    "duration": 383,
    "start_time": "2022-01-24T11:40:46.365Z"
   },
   {
    "duration": 28,
    "start_time": "2022-01-24T11:41:51.602Z"
   },
   {
    "duration": 375,
    "start_time": "2022-01-24T11:41:57.039Z"
   },
   {
    "duration": 367,
    "start_time": "2022-01-24T11:46:01.246Z"
   },
   {
    "duration": 289,
    "start_time": "2022-01-24T11:46:10.077Z"
   },
   {
    "duration": 22,
    "start_time": "2022-01-24T11:47:35.016Z"
   },
   {
    "duration": 1177,
    "start_time": "2022-01-24T12:11:08.979Z"
   },
   {
    "duration": 1982,
    "start_time": "2022-01-24T12:24:41.397Z"
   },
   {
    "duration": 47,
    "start_time": "2022-01-24T12:24:43.382Z"
   },
   {
    "duration": 28,
    "start_time": "2022-01-24T12:24:43.432Z"
   },
   {
    "duration": 19,
    "start_time": "2022-01-24T12:24:43.465Z"
   },
   {
    "duration": 51,
    "start_time": "2022-01-24T12:24:43.487Z"
   },
   {
    "duration": 6,
    "start_time": "2022-01-24T12:24:43.541Z"
   },
   {
    "duration": 17,
    "start_time": "2022-01-24T12:24:43.550Z"
   },
   {
    "duration": 10,
    "start_time": "2022-01-24T12:24:43.572Z"
   },
   {
    "duration": 7,
    "start_time": "2022-01-24T12:24:43.585Z"
   },
   {
    "duration": 47,
    "start_time": "2022-01-24T12:24:43.594Z"
   },
   {
    "duration": 20,
    "start_time": "2022-01-24T12:24:43.644Z"
   },
   {
    "duration": 34,
    "start_time": "2022-01-24T12:24:43.667Z"
   },
   {
    "duration": 45,
    "start_time": "2022-01-24T12:24:43.703Z"
   },
   {
    "duration": 33,
    "start_time": "2022-01-24T12:24:43.751Z"
   },
   {
    "duration": 12,
    "start_time": "2022-01-24T12:24:43.786Z"
   },
   {
    "duration": 57,
    "start_time": "2022-01-24T12:24:43.800Z"
   },
   {
    "duration": 32,
    "start_time": "2022-01-24T12:24:43.859Z"
   },
   {
    "duration": 984,
    "start_time": "2022-01-24T12:24:43.894Z"
   },
   {
    "duration": 1515,
    "start_time": "2022-01-24T12:31:03.845Z"
   },
   {
    "duration": 49,
    "start_time": "2022-01-24T12:31:05.363Z"
   },
   {
    "duration": 33,
    "start_time": "2022-01-24T12:31:05.415Z"
   },
   {
    "duration": 18,
    "start_time": "2022-01-24T12:31:05.453Z"
   },
   {
    "duration": 23,
    "start_time": "2022-01-24T12:31:05.473Z"
   },
   {
    "duration": 8,
    "start_time": "2022-01-24T12:31:05.538Z"
   },
   {
    "duration": 5,
    "start_time": "2022-01-24T12:31:05.549Z"
   },
   {
    "duration": 12,
    "start_time": "2022-01-24T12:31:05.557Z"
   },
   {
    "duration": 11,
    "start_time": "2022-01-24T12:31:05.572Z"
   },
   {
    "duration": 22,
    "start_time": "2022-01-24T12:31:05.586Z"
   },
   {
    "duration": 43,
    "start_time": "2022-01-24T12:31:05.611Z"
   },
   {
    "duration": 32,
    "start_time": "2022-01-24T12:31:05.657Z"
   },
   {
    "duration": 81,
    "start_time": "2022-01-24T12:31:05.692Z"
   },
   {
    "duration": 23,
    "start_time": "2022-01-24T12:31:05.776Z"
   },
   {
    "duration": 9,
    "start_time": "2022-01-24T12:31:05.802Z"
   },
   {
    "duration": 50,
    "start_time": "2022-01-24T12:31:05.813Z"
   },
   {
    "duration": 591,
    "start_time": "2022-01-24T12:31:05.866Z"
   },
   {
    "duration": -16,
    "start_time": "2022-01-24T12:31:06.476Z"
   },
   {
    "duration": 42,
    "start_time": "2022-01-24T12:32:15.647Z"
   },
   {
    "duration": 1015,
    "start_time": "2022-01-24T12:32:23.037Z"
   },
   {
    "duration": 425,
    "start_time": "2022-01-24T12:34:22.038Z"
   },
   {
    "duration": 1127,
    "start_time": "2022-01-24T17:29:13.813Z"
   },
   {
    "duration": 39,
    "start_time": "2022-01-24T17:29:14.942Z"
   },
   {
    "duration": 18,
    "start_time": "2022-01-24T17:29:14.983Z"
   },
   {
    "duration": 16,
    "start_time": "2022-01-24T17:29:15.003Z"
   },
   {
    "duration": 43,
    "start_time": "2022-01-24T17:29:15.020Z"
   },
   {
    "duration": 6,
    "start_time": "2022-01-24T17:29:15.065Z"
   },
   {
    "duration": 6,
    "start_time": "2022-01-24T17:29:15.072Z"
   },
   {
    "duration": 10,
    "start_time": "2022-01-24T17:29:15.080Z"
   },
   {
    "duration": 10,
    "start_time": "2022-01-24T17:29:15.092Z"
   },
   {
    "duration": 18,
    "start_time": "2022-01-24T17:29:15.104Z"
   },
   {
    "duration": 11,
    "start_time": "2022-01-24T17:29:15.123Z"
   },
   {
    "duration": 44,
    "start_time": "2022-01-24T17:29:15.135Z"
   },
   {
    "duration": 36,
    "start_time": "2022-01-24T17:29:15.180Z"
   },
   {
    "duration": 18,
    "start_time": "2022-01-24T17:29:15.218Z"
   },
   {
    "duration": 5,
    "start_time": "2022-01-24T17:29:15.261Z"
   },
   {
    "duration": 13,
    "start_time": "2022-01-24T17:29:15.268Z"
   },
   {
    "duration": 23,
    "start_time": "2022-01-24T17:29:15.283Z"
   },
   {
    "duration": 244,
    "start_time": "2022-01-24T17:29:15.308Z"
   },
   {
    "duration": 592,
    "start_time": "2022-01-24T17:29:15.554Z"
   },
   {
    "duration": 663,
    "start_time": "2022-01-24T17:29:16.148Z"
   },
   {
    "duration": 769,
    "start_time": "2022-01-24T17:29:35.009Z"
   },
   {
    "duration": 296,
    "start_time": "2022-01-24T17:38:48.864Z"
   },
   {
    "duration": 214,
    "start_time": "2022-01-24T17:38:50.828Z"
   },
   {
    "duration": 209,
    "start_time": "2022-01-24T17:39:10.738Z"
   },
   {
    "duration": 4,
    "start_time": "2022-01-24T17:40:06.634Z"
   },
   {
    "duration": 1213,
    "start_time": "2022-01-24T17:40:12.912Z"
   },
   {
    "duration": 50,
    "start_time": "2022-01-24T17:40:14.128Z"
   },
   {
    "duration": 19,
    "start_time": "2022-01-24T17:40:14.183Z"
   },
   {
    "duration": 15,
    "start_time": "2022-01-24T17:40:14.204Z"
   },
   {
    "duration": 42,
    "start_time": "2022-01-24T17:40:14.221Z"
   },
   {
    "duration": 6,
    "start_time": "2022-01-24T17:40:14.265Z"
   },
   {
    "duration": 26,
    "start_time": "2022-01-24T17:40:14.274Z"
   },
   {
    "duration": 16,
    "start_time": "2022-01-24T17:40:14.302Z"
   },
   {
    "duration": 20,
    "start_time": "2022-01-24T17:40:14.320Z"
   },
   {
    "duration": 26,
    "start_time": "2022-01-24T17:40:14.342Z"
   },
   {
    "duration": 28,
    "start_time": "2022-01-24T17:40:14.370Z"
   },
   {
    "duration": 34,
    "start_time": "2022-01-24T17:40:14.400Z"
   },
   {
    "duration": 40,
    "start_time": "2022-01-24T17:40:14.436Z"
   },
   {
    "duration": 37,
    "start_time": "2022-01-24T17:40:14.478Z"
   },
   {
    "duration": 27,
    "start_time": "2022-01-24T17:40:14.517Z"
   },
   {
    "duration": 23,
    "start_time": "2022-01-24T17:40:14.546Z"
   },
   {
    "duration": 40,
    "start_time": "2022-01-24T17:40:14.571Z"
   },
   {
    "duration": 233,
    "start_time": "2022-01-24T17:40:14.613Z"
   },
   {
    "duration": 347,
    "start_time": "2022-01-24T17:40:14.848Z"
   },
   {
    "duration": 666,
    "start_time": "2022-01-24T17:40:15.197Z"
   },
   {
    "duration": 10,
    "start_time": "2022-01-24T17:42:24.872Z"
   },
   {
    "duration": 344,
    "start_time": "2022-01-24T17:56:11.142Z"
   },
   {
    "duration": 269,
    "start_time": "2022-01-24T17:57:24.223Z"
   },
   {
    "duration": 369,
    "start_time": "2022-01-24T17:57:50.891Z"
   },
   {
    "duration": 514,
    "start_time": "2022-01-24T17:58:00.309Z"
   },
   {
    "duration": 556,
    "start_time": "2022-01-24T17:59:59.295Z"
   },
   {
    "duration": 538,
    "start_time": "2022-01-24T18:00:12.311Z"
   },
   {
    "duration": 526,
    "start_time": "2022-01-24T18:02:43.110Z"
   },
   {
    "duration": 211,
    "start_time": "2022-01-24T18:03:38.104Z"
   },
   {
    "duration": 541,
    "start_time": "2022-01-24T18:04:11.902Z"
   },
   {
    "duration": 404,
    "start_time": "2022-01-24T18:04:46.003Z"
   },
   {
    "duration": 364,
    "start_time": "2022-01-24T18:04:55.778Z"
   },
   {
    "duration": 499,
    "start_time": "2022-01-24T18:05:04.280Z"
   },
   {
    "duration": 70,
    "start_time": "2022-01-24T18:08:20.763Z"
   },
   {
    "duration": 524,
    "start_time": "2022-01-24T18:08:36.823Z"
   },
   {
    "duration": 503,
    "start_time": "2022-01-24T18:21:33.463Z"
   },
   {
    "duration": 494,
    "start_time": "2022-01-24T18:21:41.569Z"
   },
   {
    "duration": 795,
    "start_time": "2022-01-24T18:22:21.124Z"
   },
   {
    "duration": 881,
    "start_time": "2022-01-24T18:23:56.825Z"
   },
   {
    "duration": 508,
    "start_time": "2022-01-24T18:24:24.300Z"
   },
   {
    "duration": 532,
    "start_time": "2022-01-24T18:29:02.231Z"
   },
   {
    "duration": 476,
    "start_time": "2022-01-24T18:29:23.576Z"
   },
   {
    "duration": 574,
    "start_time": "2022-01-24T18:29:49.019Z"
   },
   {
    "duration": 540,
    "start_time": "2022-01-24T18:30:12.429Z"
   },
   {
    "duration": 421,
    "start_time": "2022-01-24T18:32:32.987Z"
   },
   {
    "duration": 416,
    "start_time": "2022-01-24T18:33:02.034Z"
   },
   {
    "duration": 512,
    "start_time": "2022-01-24T18:34:29.849Z"
   },
   {
    "duration": 670,
    "start_time": "2022-01-24T18:35:20.546Z"
   },
   {
    "duration": 846,
    "start_time": "2022-01-24T18:35:41.447Z"
   },
   {
    "duration": 799,
    "start_time": "2022-01-24T18:36:18.527Z"
   },
   {
    "duration": 504,
    "start_time": "2022-01-24T18:37:33.950Z"
   },
   {
    "duration": 495,
    "start_time": "2022-01-24T18:38:09.246Z"
   },
   {
    "duration": 228,
    "start_time": "2022-01-24T18:45:41.612Z"
   },
   {
    "duration": 618,
    "start_time": "2022-01-24T18:45:51.860Z"
   },
   {
    "duration": 786,
    "start_time": "2022-01-24T18:46:10.645Z"
   },
   {
    "duration": 768,
    "start_time": "2022-01-24T18:57:40.768Z"
   },
   {
    "duration": 68,
    "start_time": "2022-01-24T19:05:41.170Z"
   },
   {
    "duration": 830,
    "start_time": "2022-01-24T19:06:03.911Z"
   },
   {
    "duration": 74,
    "start_time": "2022-01-24T19:06:15.350Z"
   },
   {
    "duration": 1333,
    "start_time": "2022-01-24T19:06:31.124Z"
   },
   {
    "duration": 51,
    "start_time": "2022-01-24T19:06:32.461Z"
   },
   {
    "duration": 21,
    "start_time": "2022-01-24T19:06:32.514Z"
   },
   {
    "duration": 41,
    "start_time": "2022-01-24T19:06:32.537Z"
   },
   {
    "duration": 41,
    "start_time": "2022-01-24T19:06:32.580Z"
   },
   {
    "duration": 20,
    "start_time": "2022-01-24T19:06:32.623Z"
   },
   {
    "duration": 32,
    "start_time": "2022-01-24T19:06:32.645Z"
   },
   {
    "duration": 24,
    "start_time": "2022-01-24T19:06:32.680Z"
   },
   {
    "duration": 33,
    "start_time": "2022-01-24T19:06:32.706Z"
   },
   {
    "duration": 46,
    "start_time": "2022-01-24T19:06:32.741Z"
   },
   {
    "duration": 40,
    "start_time": "2022-01-24T19:06:32.789Z"
   },
   {
    "duration": 42,
    "start_time": "2022-01-24T19:06:32.830Z"
   },
   {
    "duration": 45,
    "start_time": "2022-01-24T19:06:32.874Z"
   },
   {
    "duration": 16,
    "start_time": "2022-01-24T19:06:32.921Z"
   },
   {
    "duration": 10,
    "start_time": "2022-01-24T19:06:32.939Z"
   },
   {
    "duration": 41,
    "start_time": "2022-01-24T19:06:32.950Z"
   },
   {
    "duration": 51,
    "start_time": "2022-01-24T19:06:32.993Z"
   },
   {
    "duration": 216,
    "start_time": "2022-01-24T19:06:33.046Z"
   },
   {
    "duration": 334,
    "start_time": "2022-01-24T19:06:33.264Z"
   },
   {
    "duration": 1233,
    "start_time": "2022-01-24T19:06:33.600Z"
   },
   {
    "duration": 9,
    "start_time": "2022-01-24T19:06:34.835Z"
   },
   {
    "duration": 543,
    "start_time": "2022-01-24T19:06:34.845Z"
   },
   {
    "duration": 1059,
    "start_time": "2022-01-24T19:06:35.392Z"
   },
   {
    "duration": -490,
    "start_time": "2022-01-24T19:06:36.945Z"
   },
   {
    "duration": 98,
    "start_time": "2022-01-24T19:07:28.878Z"
   },
   {
    "duration": 69,
    "start_time": "2022-01-24T19:07:48.566Z"
   },
   {
    "duration": 94,
    "start_time": "2022-01-24T19:08:27.948Z"
   },
   {
    "duration": 64,
    "start_time": "2022-01-24T19:08:29.411Z"
   },
   {
    "duration": 937,
    "start_time": "2022-01-24T19:08:39.043Z"
   },
   {
    "duration": 988,
    "start_time": "2022-01-24T19:09:40.237Z"
   },
   {
    "duration": 1177,
    "start_time": "2022-01-24T19:09:49.948Z"
   },
   {
    "duration": 38,
    "start_time": "2022-01-24T19:09:51.127Z"
   },
   {
    "duration": 16,
    "start_time": "2022-01-24T19:09:51.167Z"
   },
   {
    "duration": 12,
    "start_time": "2022-01-24T19:09:51.185Z"
   },
   {
    "duration": 22,
    "start_time": "2022-01-24T19:09:51.199Z"
   },
   {
    "duration": 4,
    "start_time": "2022-01-24T19:09:51.223Z"
   },
   {
    "duration": 7,
    "start_time": "2022-01-24T19:09:51.229Z"
   },
   {
    "duration": 23,
    "start_time": "2022-01-24T19:09:51.239Z"
   },
   {
    "duration": 4,
    "start_time": "2022-01-24T19:09:51.264Z"
   },
   {
    "duration": 17,
    "start_time": "2022-01-24T19:09:51.270Z"
   },
   {
    "duration": 10,
    "start_time": "2022-01-24T19:09:51.289Z"
   },
   {
    "duration": 18,
    "start_time": "2022-01-24T19:09:51.301Z"
   },
   {
    "duration": 59,
    "start_time": "2022-01-24T19:09:51.321Z"
   },
   {
    "duration": 16,
    "start_time": "2022-01-24T19:09:51.382Z"
   },
   {
    "duration": 11,
    "start_time": "2022-01-24T19:09:51.399Z"
   },
   {
    "duration": 13,
    "start_time": "2022-01-24T19:09:51.412Z"
   },
   {
    "duration": 48,
    "start_time": "2022-01-24T19:09:51.427Z"
   },
   {
    "duration": 237,
    "start_time": "2022-01-24T19:09:51.477Z"
   },
   {
    "duration": 339,
    "start_time": "2022-01-24T19:09:51.715Z"
   },
   {
    "duration": 787,
    "start_time": "2022-01-24T19:09:52.056Z"
   },
   {
    "duration": 7,
    "start_time": "2022-01-24T19:09:52.844Z"
   },
   {
    "duration": 511,
    "start_time": "2022-01-24T19:09:52.861Z"
   },
   {
    "duration": 6,
    "start_time": "2022-01-24T19:09:53.375Z"
   },
   {
    "duration": 80,
    "start_time": "2022-01-24T19:09:53.383Z"
   },
   {
    "duration": 20,
    "start_time": "2022-01-24T19:10:17.734Z"
   },
   {
    "duration": 1242,
    "start_time": "2022-01-24T19:10:24.580Z"
   },
   {
    "duration": 39,
    "start_time": "2022-01-24T19:10:25.824Z"
   },
   {
    "duration": 17,
    "start_time": "2022-01-24T19:10:25.865Z"
   },
   {
    "duration": 17,
    "start_time": "2022-01-24T19:10:25.883Z"
   },
   {
    "duration": 26,
    "start_time": "2022-01-24T19:10:25.902Z"
   },
   {
    "duration": 5,
    "start_time": "2022-01-24T19:10:25.930Z"
   },
   {
    "duration": 15,
    "start_time": "2022-01-24T19:10:25.937Z"
   },
   {
    "duration": 16,
    "start_time": "2022-01-24T19:10:25.955Z"
   },
   {
    "duration": 15,
    "start_time": "2022-01-24T19:10:25.973Z"
   },
   {
    "duration": 21,
    "start_time": "2022-01-24T19:10:25.990Z"
   },
   {
    "duration": 9,
    "start_time": "2022-01-24T19:10:26.013Z"
   },
   {
    "duration": 19,
    "start_time": "2022-01-24T19:10:26.024Z"
   },
   {
    "duration": 52,
    "start_time": "2022-01-24T19:10:26.045Z"
   },
   {
    "duration": 17,
    "start_time": "2022-01-24T19:10:26.100Z"
   },
   {
    "duration": 9,
    "start_time": "2022-01-24T19:10:26.119Z"
   },
   {
    "duration": 31,
    "start_time": "2022-01-24T19:10:26.130Z"
   },
   {
    "duration": 21,
    "start_time": "2022-01-24T19:10:26.163Z"
   },
   {
    "duration": 236,
    "start_time": "2022-01-24T19:10:26.186Z"
   },
   {
    "duration": 349,
    "start_time": "2022-01-24T19:10:26.424Z"
   },
   {
    "duration": 792,
    "start_time": "2022-01-24T19:10:26.775Z"
   },
   {
    "duration": 7,
    "start_time": "2022-01-24T19:10:27.569Z"
   },
   {
    "duration": 587,
    "start_time": "2022-01-24T19:10:27.578Z"
   },
   {
    "duration": 8,
    "start_time": "2022-01-24T19:10:28.169Z"
   },
   {
    "duration": 71,
    "start_time": "2022-01-24T19:10:28.179Z"
   },
   {
    "duration": 8,
    "start_time": "2022-01-24T19:10:36.758Z"
   },
   {
    "duration": 7,
    "start_time": "2022-01-24T19:10:39.589Z"
   },
   {
    "duration": 7,
    "start_time": "2022-01-24T19:10:40.376Z"
   },
   {
    "duration": 6,
    "start_time": "2022-01-24T19:10:40.948Z"
   },
   {
    "duration": 6,
    "start_time": "2022-01-24T19:10:41.268Z"
   },
   {
    "duration": 6,
    "start_time": "2022-01-24T19:10:41.526Z"
   },
   {
    "duration": 6,
    "start_time": "2022-01-24T19:10:41.769Z"
   },
   {
    "duration": 7,
    "start_time": "2022-01-24T19:10:41.968Z"
   },
   {
    "duration": 7,
    "start_time": "2022-01-24T19:10:42.174Z"
   },
   {
    "duration": 7,
    "start_time": "2022-01-24T19:10:42.395Z"
   },
   {
    "duration": 6,
    "start_time": "2022-01-24T19:10:42.625Z"
   },
   {
    "duration": 7,
    "start_time": "2022-01-24T19:10:42.871Z"
   },
   {
    "duration": 22,
    "start_time": "2022-01-24T19:11:10.772Z"
   },
   {
    "duration": 1344,
    "start_time": "2022-01-24T19:11:18.626Z"
   },
   {
    "duration": 52,
    "start_time": "2022-01-24T19:11:19.972Z"
   },
   {
    "duration": 22,
    "start_time": "2022-01-24T19:11:20.033Z"
   },
   {
    "duration": 12,
    "start_time": "2022-01-24T19:11:20.057Z"
   },
   {
    "duration": 31,
    "start_time": "2022-01-24T19:11:20.072Z"
   },
   {
    "duration": 13,
    "start_time": "2022-01-24T19:11:20.104Z"
   },
   {
    "duration": 24,
    "start_time": "2022-01-24T19:11:20.119Z"
   },
   {
    "duration": 13,
    "start_time": "2022-01-24T19:11:20.145Z"
   },
   {
    "duration": 17,
    "start_time": "2022-01-24T19:11:20.160Z"
   },
   {
    "duration": 43,
    "start_time": "2022-01-24T19:11:20.179Z"
   },
   {
    "duration": 16,
    "start_time": "2022-01-24T19:11:20.224Z"
   },
   {
    "duration": 32,
    "start_time": "2022-01-24T19:11:20.242Z"
   },
   {
    "duration": 35,
    "start_time": "2022-01-24T19:11:20.275Z"
   },
   {
    "duration": 15,
    "start_time": "2022-01-24T19:11:20.312Z"
   },
   {
    "duration": 10,
    "start_time": "2022-01-24T19:11:20.329Z"
   },
   {
    "duration": 27,
    "start_time": "2022-01-24T19:11:20.341Z"
   },
   {
    "duration": 20,
    "start_time": "2022-01-24T19:11:20.370Z"
   },
   {
    "duration": 225,
    "start_time": "2022-01-24T19:11:20.392Z"
   },
   {
    "duration": 328,
    "start_time": "2022-01-24T19:11:20.618Z"
   },
   {
    "duration": 786,
    "start_time": "2022-01-24T19:11:20.948Z"
   },
   {
    "duration": 8,
    "start_time": "2022-01-24T19:11:21.736Z"
   },
   {
    "duration": 518,
    "start_time": "2022-01-24T19:11:21.761Z"
   },
   {
    "duration": 1174,
    "start_time": "2022-01-24T19:11:22.282Z"
   },
   {
    "duration": -517,
    "start_time": "2022-01-24T19:11:23.975Z"
   },
   {
    "duration": 2217,
    "start_time": "2022-01-24T19:13:22.855Z"
   },
   {
    "duration": 76,
    "start_time": "2022-01-24T19:16:49.324Z"
   },
   {
    "duration": 1378,
    "start_time": "2022-01-24T19:20:23.620Z"
   },
   {
    "duration": 2278,
    "start_time": "2022-01-24T19:20:50.915Z"
   },
   {
    "duration": 855,
    "start_time": "2022-01-24T19:23:01.899Z"
   },
   {
    "duration": 787,
    "start_time": "2022-01-24T19:23:03.217Z"
   },
   {
    "duration": 1150,
    "start_time": "2022-01-24T19:23:24.367Z"
   },
   {
    "duration": 40,
    "start_time": "2022-01-24T19:23:25.519Z"
   },
   {
    "duration": 17,
    "start_time": "2022-01-24T19:23:25.561Z"
   },
   {
    "duration": 21,
    "start_time": "2022-01-24T19:23:25.580Z"
   },
   {
    "duration": 30,
    "start_time": "2022-01-24T19:23:25.603Z"
   },
   {
    "duration": 16,
    "start_time": "2022-01-24T19:23:25.635Z"
   },
   {
    "duration": 13,
    "start_time": "2022-01-24T19:23:25.653Z"
   },
   {
    "duration": 14,
    "start_time": "2022-01-24T19:23:25.669Z"
   },
   {
    "duration": 10,
    "start_time": "2022-01-24T19:23:25.685Z"
   },
   {
    "duration": 15,
    "start_time": "2022-01-24T19:23:25.697Z"
   },
   {
    "duration": 10,
    "start_time": "2022-01-24T19:23:25.713Z"
   },
   {
    "duration": 18,
    "start_time": "2022-01-24T19:23:25.725Z"
   },
   {
    "duration": 987,
    "start_time": "2022-01-24T19:23:25.745Z"
   },
   {
    "duration": 132,
    "start_time": "2022-01-24T19:23:26.602Z"
   },
   {
    "duration": 125,
    "start_time": "2022-01-24T19:23:26.610Z"
   },
   {
    "duration": 120,
    "start_time": "2022-01-24T19:23:26.616Z"
   },
   {
    "duration": 114,
    "start_time": "2022-01-24T19:23:26.623Z"
   },
   {
    "duration": 109,
    "start_time": "2022-01-24T19:23:26.629Z"
   },
   {
    "duration": 104,
    "start_time": "2022-01-24T19:23:26.635Z"
   },
   {
    "duration": 95,
    "start_time": "2022-01-24T19:23:26.645Z"
   },
   {
    "duration": 74,
    "start_time": "2022-01-24T19:23:26.667Z"
   },
   {
    "duration": 68,
    "start_time": "2022-01-24T19:23:26.674Z"
   },
   {
    "duration": 63,
    "start_time": "2022-01-24T19:23:26.680Z"
   },
   {
    "duration": 61,
    "start_time": "2022-01-24T19:23:26.683Z"
   },
   {
    "duration": 1514,
    "start_time": "2022-01-24T19:24:11.488Z"
   },
   {
    "duration": 55,
    "start_time": "2022-01-24T19:24:13.005Z"
   },
   {
    "duration": 27,
    "start_time": "2022-01-24T19:24:13.063Z"
   },
   {
    "duration": 19,
    "start_time": "2022-01-24T19:24:13.093Z"
   },
   {
    "duration": 25,
    "start_time": "2022-01-24T19:24:13.114Z"
   },
   {
    "duration": 23,
    "start_time": "2022-01-24T19:24:13.141Z"
   },
   {
    "duration": 7,
    "start_time": "2022-01-24T19:24:13.166Z"
   },
   {
    "duration": 11,
    "start_time": "2022-01-24T19:24:13.176Z"
   },
   {
    "duration": 8,
    "start_time": "2022-01-24T19:24:13.190Z"
   },
   {
    "duration": 21,
    "start_time": "2022-01-24T19:24:13.200Z"
   },
   {
    "duration": 14,
    "start_time": "2022-01-24T19:24:13.223Z"
   },
   {
    "duration": 51,
    "start_time": "2022-01-24T19:24:13.239Z"
   },
   {
    "duration": 20,
    "start_time": "2022-01-24T19:24:13.293Z"
   },
   {
    "duration": 21,
    "start_time": "2022-01-24T19:24:13.316Z"
   },
   {
    "duration": 29,
    "start_time": "2022-01-24T19:24:13.339Z"
   },
   {
    "duration": 23,
    "start_time": "2022-01-24T19:24:13.370Z"
   },
   {
    "duration": 19,
    "start_time": "2022-01-24T19:24:13.395Z"
   },
   {
    "duration": 240,
    "start_time": "2022-01-24T19:24:13.416Z"
   },
   {
    "duration": 348,
    "start_time": "2022-01-24T19:24:13.658Z"
   },
   {
    "duration": 822,
    "start_time": "2022-01-24T19:24:14.008Z"
   },
   {
    "duration": 7,
    "start_time": "2022-01-24T19:24:14.833Z"
   },
   {
    "duration": 520,
    "start_time": "2022-01-24T19:24:14.843Z"
   },
   {
    "duration": 1485,
    "start_time": "2022-01-24T19:24:15.366Z"
   },
   {
    "duration": -61,
    "start_time": "2022-01-24T19:24:16.913Z"
   },
   {
    "duration": 816,
    "start_time": "2022-01-24T19:25:05.107Z"
   },
   {
    "duration": 67,
    "start_time": "2022-01-24T19:25:08.892Z"
   },
   {
    "duration": 225,
    "start_time": "2022-01-24T19:51:35.747Z"
   },
   {
    "duration": 208,
    "start_time": "2022-01-24T19:52:19.635Z"
   },
   {
    "duration": 246,
    "start_time": "2022-01-24T19:52:39.951Z"
   },
   {
    "duration": 223,
    "start_time": "2022-01-24T19:52:41.820Z"
   },
   {
    "duration": 255,
    "start_time": "2022-01-24T19:53:32.877Z"
   },
   {
    "duration": 1184,
    "start_time": "2022-01-24T19:53:53.463Z"
   },
   {
    "duration": 50,
    "start_time": "2022-01-24T19:53:54.649Z"
   },
   {
    "duration": 23,
    "start_time": "2022-01-24T19:53:54.702Z"
   },
   {
    "duration": 36,
    "start_time": "2022-01-24T19:53:54.727Z"
   },
   {
    "duration": 46,
    "start_time": "2022-01-24T19:53:54.766Z"
   },
   {
    "duration": 6,
    "start_time": "2022-01-24T19:53:54.814Z"
   },
   {
    "duration": 23,
    "start_time": "2022-01-24T19:53:54.822Z"
   },
   {
    "duration": 54,
    "start_time": "2022-01-24T19:53:54.847Z"
   },
   {
    "duration": 33,
    "start_time": "2022-01-24T19:53:54.904Z"
   },
   {
    "duration": 25,
    "start_time": "2022-01-24T19:53:54.939Z"
   },
   {
    "duration": 40,
    "start_time": "2022-01-24T19:53:54.966Z"
   },
   {
    "duration": 49,
    "start_time": "2022-01-24T19:53:55.008Z"
   },
   {
    "duration": 38,
    "start_time": "2022-01-24T19:53:55.059Z"
   },
   {
    "duration": 28,
    "start_time": "2022-01-24T19:53:55.099Z"
   },
   {
    "duration": 7,
    "start_time": "2022-01-24T19:53:55.129Z"
   },
   {
    "duration": 14,
    "start_time": "2022-01-24T19:53:55.138Z"
   },
   {
    "duration": 23,
    "start_time": "2022-01-24T19:53:55.154Z"
   },
   {
    "duration": 226,
    "start_time": "2022-01-24T19:53:55.180Z"
   },
   {
    "duration": 363,
    "start_time": "2022-01-24T19:53:55.408Z"
   },
   {
    "duration": 793,
    "start_time": "2022-01-24T19:53:55.772Z"
   },
   {
    "duration": 7,
    "start_time": "2022-01-24T19:53:56.567Z"
   },
   {
    "duration": 507,
    "start_time": "2022-01-24T19:53:56.575Z"
   },
   {
    "duration": 416,
    "start_time": "2022-01-24T19:53:57.085Z"
   },
   {
    "duration": 161,
    "start_time": "2022-01-24T19:53:57.342Z"
   },
   {
    "duration": 215,
    "start_time": "2022-01-24T19:55:41.901Z"
   },
   {
    "duration": 1422,
    "start_time": "2022-01-24T19:58:27.341Z"
   },
   {
    "duration": 879,
    "start_time": "2022-01-24T20:02:56.973Z"
   },
   {
    "duration": 1131,
    "start_time": "2022-01-24T20:03:09.508Z"
   },
   {
    "duration": 41,
    "start_time": "2022-01-24T20:03:10.641Z"
   },
   {
    "duration": 17,
    "start_time": "2022-01-24T20:03:10.684Z"
   },
   {
    "duration": 29,
    "start_time": "2022-01-24T20:03:10.703Z"
   },
   {
    "duration": 29,
    "start_time": "2022-01-24T20:03:10.733Z"
   },
   {
    "duration": 8,
    "start_time": "2022-01-24T20:03:10.764Z"
   },
   {
    "duration": 24,
    "start_time": "2022-01-24T20:03:10.774Z"
   },
   {
    "duration": 19,
    "start_time": "2022-01-24T20:03:10.801Z"
   },
   {
    "duration": 30,
    "start_time": "2022-01-24T20:03:10.822Z"
   },
   {
    "duration": 39,
    "start_time": "2022-01-24T20:03:10.854Z"
   },
   {
    "duration": 24,
    "start_time": "2022-01-24T20:03:10.894Z"
   },
   {
    "duration": 49,
    "start_time": "2022-01-24T20:03:10.920Z"
   },
   {
    "duration": 21,
    "start_time": "2022-01-24T20:03:10.971Z"
   },
   {
    "duration": 29,
    "start_time": "2022-01-24T20:03:10.994Z"
   },
   {
    "duration": 17,
    "start_time": "2022-01-24T20:03:11.025Z"
   },
   {
    "duration": 37,
    "start_time": "2022-01-24T20:03:11.044Z"
   },
   {
    "duration": 40,
    "start_time": "2022-01-24T20:03:11.083Z"
   },
   {
    "duration": 227,
    "start_time": "2022-01-24T20:03:11.125Z"
   },
   {
    "duration": 343,
    "start_time": "2022-01-24T20:03:11.354Z"
   },
   {
    "duration": 789,
    "start_time": "2022-01-24T20:03:11.699Z"
   },
   {
    "duration": 7,
    "start_time": "2022-01-24T20:03:12.490Z"
   },
   {
    "duration": 563,
    "start_time": "2022-01-24T20:03:12.499Z"
   },
   {
    "duration": 371,
    "start_time": "2022-01-24T20:03:13.066Z"
   },
   {
    "duration": 83,
    "start_time": "2022-01-24T20:03:13.356Z"
   },
   {
    "duration": 772,
    "start_time": "2022-01-24T20:03:38.417Z"
   },
   {
    "duration": 1176,
    "start_time": "2022-01-24T20:03:45.855Z"
   },
   {
    "duration": 41,
    "start_time": "2022-01-24T20:03:47.033Z"
   },
   {
    "duration": 21,
    "start_time": "2022-01-24T20:03:47.076Z"
   },
   {
    "duration": 37,
    "start_time": "2022-01-24T20:03:47.099Z"
   },
   {
    "duration": 38,
    "start_time": "2022-01-24T20:03:47.138Z"
   },
   {
    "duration": 26,
    "start_time": "2022-01-24T20:03:47.178Z"
   },
   {
    "duration": 21,
    "start_time": "2022-01-24T20:03:47.206Z"
   },
   {
    "duration": 37,
    "start_time": "2022-01-24T20:03:47.229Z"
   },
   {
    "duration": 35,
    "start_time": "2022-01-24T20:03:47.268Z"
   },
   {
    "duration": 44,
    "start_time": "2022-01-24T20:03:47.305Z"
   },
   {
    "duration": 29,
    "start_time": "2022-01-24T20:03:47.350Z"
   },
   {
    "duration": 44,
    "start_time": "2022-01-24T20:03:47.382Z"
   },
   {
    "duration": 38,
    "start_time": "2022-01-24T20:03:47.428Z"
   },
   {
    "duration": 30,
    "start_time": "2022-01-24T20:03:47.469Z"
   },
   {
    "duration": 25,
    "start_time": "2022-01-24T20:03:47.502Z"
   },
   {
    "duration": 40,
    "start_time": "2022-01-24T20:03:47.529Z"
   },
   {
    "duration": 43,
    "start_time": "2022-01-24T20:03:47.572Z"
   },
   {
    "duration": 220,
    "start_time": "2022-01-24T20:03:47.617Z"
   },
   {
    "duration": 344,
    "start_time": "2022-01-24T20:03:47.839Z"
   },
   {
    "duration": 777,
    "start_time": "2022-01-24T20:03:48.186Z"
   },
   {
    "duration": 7,
    "start_time": "2022-01-24T20:03:48.965Z"
   },
   {
    "duration": 609,
    "start_time": "2022-01-24T20:03:48.974Z"
   },
   {
    "duration": 347,
    "start_time": "2022-01-24T20:03:49.587Z"
   },
   {
    "duration": 187,
    "start_time": "2022-01-24T20:03:49.749Z"
   },
   {
    "duration": 1384,
    "start_time": "2022-01-24T20:07:54.571Z"
   },
   {
    "duration": 68,
    "start_time": "2022-01-24T20:10:58.588Z"
   },
   {
    "duration": 825,
    "start_time": "2022-01-24T20:12:14.715Z"
   },
   {
    "duration": 779,
    "start_time": "2022-01-24T20:12:41.248Z"
   },
   {
    "duration": 1112,
    "start_time": "2022-01-24T20:13:44.724Z"
   },
   {
    "duration": 42,
    "start_time": "2022-01-24T20:13:45.838Z"
   },
   {
    "duration": 18,
    "start_time": "2022-01-24T20:13:45.882Z"
   },
   {
    "duration": 10,
    "start_time": "2022-01-24T20:13:45.902Z"
   },
   {
    "duration": 16,
    "start_time": "2022-01-24T20:13:45.914Z"
   },
   {
    "duration": 4,
    "start_time": "2022-01-24T20:13:45.931Z"
   },
   {
    "duration": 24,
    "start_time": "2022-01-24T20:13:45.937Z"
   },
   {
    "duration": 5,
    "start_time": "2022-01-24T20:13:45.964Z"
   },
   {
    "duration": 6,
    "start_time": "2022-01-24T20:13:45.970Z"
   },
   {
    "duration": 16,
    "start_time": "2022-01-24T20:13:45.977Z"
   },
   {
    "duration": 11,
    "start_time": "2022-01-24T20:13:45.995Z"
   },
   {
    "duration": 54,
    "start_time": "2022-01-24T20:13:46.008Z"
   },
   {
    "duration": 12,
    "start_time": "2022-01-24T20:13:46.064Z"
   },
   {
    "duration": 18,
    "start_time": "2022-01-24T20:13:46.078Z"
   },
   {
    "duration": 11,
    "start_time": "2022-01-24T20:13:46.098Z"
   },
   {
    "duration": 14,
    "start_time": "2022-01-24T20:13:46.110Z"
   },
   {
    "duration": 44,
    "start_time": "2022-01-24T20:13:46.126Z"
   },
   {
    "duration": 236,
    "start_time": "2022-01-24T20:13:46.172Z"
   },
   {
    "duration": 355,
    "start_time": "2022-01-24T20:13:46.410Z"
   },
   {
    "duration": 795,
    "start_time": "2022-01-24T20:13:46.767Z"
   },
   {
    "duration": 6,
    "start_time": "2022-01-24T20:13:47.564Z"
   },
   {
    "duration": 512,
    "start_time": "2022-01-24T20:13:47.572Z"
   },
   {
    "duration": 222,
    "start_time": "2022-01-24T20:13:48.087Z"
   },
   {
    "duration": 63,
    "start_time": "2022-01-24T20:13:48.311Z"
   },
   {
    "duration": 1234,
    "start_time": "2022-01-24T20:14:31.485Z"
   },
   {
    "duration": 39,
    "start_time": "2022-01-24T20:14:32.721Z"
   },
   {
    "duration": 17,
    "start_time": "2022-01-24T20:14:32.762Z"
   },
   {
    "duration": 11,
    "start_time": "2022-01-24T20:14:32.781Z"
   },
   {
    "duration": 16,
    "start_time": "2022-01-24T20:14:32.794Z"
   },
   {
    "duration": 5,
    "start_time": "2022-01-24T20:14:32.811Z"
   },
   {
    "duration": 4,
    "start_time": "2022-01-24T20:14:32.817Z"
   },
   {
    "duration": 7,
    "start_time": "2022-01-24T20:14:32.824Z"
   },
   {
    "duration": 31,
    "start_time": "2022-01-24T20:14:32.833Z"
   },
   {
    "duration": 15,
    "start_time": "2022-01-24T20:14:32.866Z"
   },
   {
    "duration": 9,
    "start_time": "2022-01-24T20:14:32.882Z"
   },
   {
    "duration": 19,
    "start_time": "2022-01-24T20:14:32.893Z"
   },
   {
    "duration": 10,
    "start_time": "2022-01-24T20:14:32.914Z"
   },
   {
    "duration": 48,
    "start_time": "2022-01-24T20:14:32.926Z"
   },
   {
    "duration": 7,
    "start_time": "2022-01-24T20:14:32.976Z"
   },
   {
    "duration": 14,
    "start_time": "2022-01-24T20:14:32.985Z"
   },
   {
    "duration": 23,
    "start_time": "2022-01-24T20:14:33.001Z"
   },
   {
    "duration": 265,
    "start_time": "2022-01-24T20:14:33.026Z"
   },
   {
    "duration": 334,
    "start_time": "2022-01-24T20:14:33.293Z"
   },
   {
    "duration": 803,
    "start_time": "2022-01-24T20:14:33.629Z"
   },
   {
    "duration": 7,
    "start_time": "2022-01-24T20:14:34.434Z"
   },
   {
    "duration": 542,
    "start_time": "2022-01-24T20:14:34.443Z"
   },
   {
    "duration": 226,
    "start_time": "2022-01-24T20:14:34.988Z"
   },
   {
    "duration": 65,
    "start_time": "2022-01-24T20:14:35.215Z"
   },
   {
    "duration": 425,
    "start_time": "2022-01-24T20:21:01.802Z"
   },
   {
    "duration": 222,
    "start_time": "2022-01-24T20:27:22.962Z"
   },
   {
    "duration": 380,
    "start_time": "2022-01-24T20:31:54.938Z"
   },
   {
    "duration": 479,
    "start_time": "2022-01-24T20:32:03.797Z"
   },
   {
    "duration": 496,
    "start_time": "2022-01-24T20:32:34.806Z"
   },
   {
    "duration": 653,
    "start_time": "2022-01-24T20:33:15.879Z"
   },
   {
    "duration": 471,
    "start_time": "2022-01-24T20:33:24.982Z"
   },
   {
    "duration": 543,
    "start_time": "2022-01-24T20:34:11.152Z"
   },
   {
    "duration": 518,
    "start_time": "2022-01-24T20:34:50.250Z"
   },
   {
    "duration": 21,
    "start_time": "2022-01-24T20:38:28.607Z"
   },
   {
    "duration": 559,
    "start_time": "2022-01-24T20:41:48.654Z"
   },
   {
    "duration": 219,
    "start_time": "2022-01-24T20:43:23.077Z"
   },
   {
    "duration": 228,
    "start_time": "2022-01-24T20:43:28.580Z"
   },
   {
    "duration": 219,
    "start_time": "2022-01-24T20:43:31.336Z"
   },
   {
    "duration": 464,
    "start_time": "2022-01-24T20:44:10.792Z"
   },
   {
    "duration": 404,
    "start_time": "2022-01-24T20:44:26.246Z"
   },
   {
    "duration": 344,
    "start_time": "2022-01-24T20:44:28.567Z"
   },
   {
    "duration": 910,
    "start_time": "2022-01-24T20:46:04.335Z"
   },
   {
    "duration": 658,
    "start_time": "2022-01-24T20:46:21.073Z"
   },
   {
    "duration": 639,
    "start_time": "2022-01-24T20:46:34.697Z"
   },
   {
    "duration": 805,
    "start_time": "2022-01-24T20:46:43.124Z"
   },
   {
    "duration": 462,
    "start_time": "2022-01-24T20:48:58.362Z"
   },
   {
    "duration": 325,
    "start_time": "2022-01-24T20:49:10.843Z"
   },
   {
    "duration": 255,
    "start_time": "2022-01-24T20:49:49.676Z"
   },
   {
    "duration": 654,
    "start_time": "2022-01-24T20:53:36.475Z"
   },
   {
    "duration": 772,
    "start_time": "2022-01-24T20:53:50.541Z"
   },
   {
    "duration": 839,
    "start_time": "2022-01-24T20:54:01.337Z"
   },
   {
    "duration": 663,
    "start_time": "2022-01-24T20:54:13.278Z"
   },
   {
    "duration": 636,
    "start_time": "2022-01-24T20:54:27.642Z"
   },
   {
    "duration": 642,
    "start_time": "2022-01-24T20:54:41.729Z"
   },
   {
    "duration": 243,
    "start_time": "2022-01-24T20:54:52.792Z"
   },
   {
    "duration": 279,
    "start_time": "2022-01-24T20:55:04.477Z"
   },
   {
    "duration": 394,
    "start_time": "2022-01-24T20:55:52.936Z"
   },
   {
    "duration": 265,
    "start_time": "2022-01-24T20:56:15.333Z"
   },
   {
    "duration": 1179,
    "start_time": "2022-01-24T20:58:05.586Z"
   },
   {
    "duration": 214,
    "start_time": "2022-01-24T21:20:08.746Z"
   },
   {
    "duration": 7,
    "start_time": "2022-01-24T21:20:31.089Z"
   },
   {
    "duration": 7,
    "start_time": "2022-01-24T21:20:43.036Z"
   },
   {
    "duration": 11,
    "start_time": "2022-01-24T21:21:38.429Z"
   },
   {
    "duration": 12,
    "start_time": "2022-01-24T21:22:33.721Z"
   },
   {
    "duration": 239,
    "start_time": "2022-01-24T21:42:10.478Z"
   },
   {
    "duration": 351,
    "start_time": "2022-01-24T21:42:34.889Z"
   },
   {
    "duration": 320,
    "start_time": "2022-01-24T21:42:47.380Z"
   },
   {
    "duration": 332,
    "start_time": "2022-01-24T21:43:54.658Z"
   },
   {
    "duration": 312,
    "start_time": "2022-01-24T21:45:48.921Z"
   },
   {
    "duration": 258,
    "start_time": "2022-01-24T21:46:21.294Z"
   },
   {
    "duration": 319,
    "start_time": "2022-01-24T21:46:32.114Z"
   },
   {
    "duration": 334,
    "start_time": "2022-01-24T21:46:58.826Z"
   },
   {
    "duration": 348,
    "start_time": "2022-01-24T21:47:06.558Z"
   },
   {
    "duration": 376,
    "start_time": "2022-01-24T21:50:23.836Z"
   },
   {
    "duration": 329,
    "start_time": "2022-01-24T21:50:26.393Z"
   },
   {
    "duration": 373,
    "start_time": "2022-01-24T21:50:27.637Z"
   },
   {
    "duration": 358,
    "start_time": "2022-01-24T21:50:28.856Z"
   },
   {
    "duration": 306,
    "start_time": "2022-01-24T21:50:30.003Z"
   },
   {
    "duration": 352,
    "start_time": "2022-01-24T21:50:31.464Z"
   },
   {
    "duration": 337,
    "start_time": "2022-01-24T21:50:32.638Z"
   },
   {
    "duration": 295,
    "start_time": "2022-01-24T21:50:44.785Z"
   },
   {
    "duration": 318,
    "start_time": "2022-01-24T21:50:46.523Z"
   },
   {
    "duration": 319,
    "start_time": "2022-01-24T21:50:47.849Z"
   },
   {
    "duration": 340,
    "start_time": "2022-01-24T21:50:49.317Z"
   },
   {
    "duration": 288,
    "start_time": "2022-01-24T21:50:50.812Z"
   },
   {
    "duration": 293,
    "start_time": "2022-01-24T21:52:20.602Z"
   },
   {
    "duration": 335,
    "start_time": "2022-01-24T21:52:22.029Z"
   },
   {
    "duration": 308,
    "start_time": "2022-01-24T21:52:23.883Z"
   },
   {
    "duration": 307,
    "start_time": "2022-01-24T21:52:26.800Z"
   },
   {
    "duration": 337,
    "start_time": "2022-01-24T21:52:30.147Z"
   },
   {
    "duration": 286,
    "start_time": "2022-01-24T21:52:44.687Z"
   },
   {
    "duration": 297,
    "start_time": "2022-01-24T21:52:46.874Z"
   },
   {
    "duration": 552,
    "start_time": "2022-01-24T21:53:21.679Z"
   },
   {
    "duration": 227,
    "start_time": "2022-01-24T21:56:41.606Z"
   },
   {
    "duration": 10,
    "start_time": "2022-01-24T21:56:49.268Z"
   },
   {
    "duration": 12,
    "start_time": "2022-01-24T21:57:17.107Z"
   },
   {
    "duration": 70,
    "start_time": "2022-01-24T22:15:16.541Z"
   },
   {
    "duration": 61,
    "start_time": "2022-01-24T22:16:17.138Z"
   },
   {
    "duration": 59,
    "start_time": "2022-01-24T22:16:33.895Z"
   },
   {
    "duration": 68,
    "start_time": "2022-01-24T22:16:35.132Z"
   },
   {
    "duration": 72,
    "start_time": "2022-01-24T22:16:35.897Z"
   },
   {
    "duration": 63,
    "start_time": "2022-01-24T22:16:36.801Z"
   },
   {
    "duration": 242,
    "start_time": "2022-01-24T22:23:06.893Z"
   },
   {
    "duration": 104,
    "start_time": "2022-01-24T22:23:49.173Z"
   },
   {
    "duration": 233,
    "start_time": "2022-01-24T22:25:37.994Z"
   },
   {
    "duration": 1194,
    "start_time": "2022-01-25T08:31:58.746Z"
   },
   {
    "duration": 38,
    "start_time": "2022-01-25T08:31:59.942Z"
   },
   {
    "duration": 35,
    "start_time": "2022-01-25T08:31:59.982Z"
   },
   {
    "duration": 61,
    "start_time": "2022-01-25T08:32:00.019Z"
   },
   {
    "duration": 46,
    "start_time": "2022-01-25T08:32:00.082Z"
   },
   {
    "duration": 32,
    "start_time": "2022-01-25T08:32:00.130Z"
   },
   {
    "duration": 31,
    "start_time": "2022-01-25T08:32:00.164Z"
   },
   {
    "duration": 43,
    "start_time": "2022-01-25T08:32:00.198Z"
   },
   {
    "duration": 35,
    "start_time": "2022-01-25T08:32:00.244Z"
   },
   {
    "duration": 39,
    "start_time": "2022-01-25T08:32:00.281Z"
   },
   {
    "duration": 14,
    "start_time": "2022-01-25T08:32:00.323Z"
   },
   {
    "duration": 38,
    "start_time": "2022-01-25T08:32:00.339Z"
   },
   {
    "duration": 16,
    "start_time": "2022-01-25T08:32:00.379Z"
   },
   {
    "duration": 27,
    "start_time": "2022-01-25T08:32:00.397Z"
   },
   {
    "duration": 23,
    "start_time": "2022-01-25T08:32:00.426Z"
   },
   {
    "duration": 29,
    "start_time": "2022-01-25T08:32:00.451Z"
   },
   {
    "duration": 53,
    "start_time": "2022-01-25T08:32:00.482Z"
   },
   {
    "duration": 256,
    "start_time": "2022-01-25T08:32:00.537Z"
   },
   {
    "duration": 365,
    "start_time": "2022-01-25T08:32:00.795Z"
   },
   {
    "duration": 887,
    "start_time": "2022-01-25T08:32:01.162Z"
   },
   {
    "duration": 17,
    "start_time": "2022-01-25T08:32:02.050Z"
   },
   {
    "duration": 618,
    "start_time": "2022-01-25T08:32:02.070Z"
   },
   {
    "duration": 226,
    "start_time": "2022-01-25T08:32:02.692Z"
   },
   {
    "duration": 492,
    "start_time": "2022-01-25T08:32:02.920Z"
   },
   {
    "duration": 311,
    "start_time": "2022-01-25T08:32:03.103Z"
   },
   {
    "duration": 307,
    "start_time": "2022-01-25T08:32:03.108Z"
   },
   {
    "duration": 303,
    "start_time": "2022-01-25T08:32:03.113Z"
   },
   {
    "duration": 299,
    "start_time": "2022-01-25T08:32:03.118Z"
   },
   {
    "duration": 297,
    "start_time": "2022-01-25T08:32:03.121Z"
   },
   {
    "duration": 292,
    "start_time": "2022-01-25T08:32:03.127Z"
   },
   {
    "duration": 289,
    "start_time": "2022-01-25T08:32:03.131Z"
   },
   {
    "duration": 284,
    "start_time": "2022-01-25T08:32:03.136Z"
   },
   {
    "duration": 11,
    "start_time": "2022-01-25T08:34:05.756Z"
   },
   {
    "duration": 1184,
    "start_time": "2022-01-25T08:39:33.036Z"
   },
   {
    "duration": 40,
    "start_time": "2022-01-25T08:39:34.222Z"
   },
   {
    "duration": 18,
    "start_time": "2022-01-25T08:39:34.265Z"
   },
   {
    "duration": 44,
    "start_time": "2022-01-25T08:39:34.285Z"
   },
   {
    "duration": 25,
    "start_time": "2022-01-25T08:39:34.331Z"
   },
   {
    "duration": 16,
    "start_time": "2022-01-25T08:39:34.358Z"
   },
   {
    "duration": 20,
    "start_time": "2022-01-25T08:39:34.376Z"
   },
   {
    "duration": 28,
    "start_time": "2022-01-25T08:39:34.399Z"
   },
   {
    "duration": 28,
    "start_time": "2022-01-25T08:39:34.430Z"
   },
   {
    "duration": 28,
    "start_time": "2022-01-25T08:39:34.460Z"
   },
   {
    "duration": 33,
    "start_time": "2022-01-25T08:39:34.490Z"
   },
   {
    "duration": 53,
    "start_time": "2022-01-25T08:39:34.524Z"
   },
   {
    "duration": 31,
    "start_time": "2022-01-25T08:39:34.579Z"
   },
   {
    "duration": 32,
    "start_time": "2022-01-25T08:39:34.612Z"
   },
   {
    "duration": 19,
    "start_time": "2022-01-25T08:39:34.646Z"
   },
   {
    "duration": 31,
    "start_time": "2022-01-25T08:39:34.667Z"
   },
   {
    "duration": 31,
    "start_time": "2022-01-25T08:39:34.700Z"
   },
   {
    "duration": 340,
    "start_time": "2022-01-25T08:39:34.733Z"
   },
   {
    "duration": 338,
    "start_time": "2022-01-25T08:39:35.076Z"
   },
   {
    "duration": 824,
    "start_time": "2022-01-25T08:39:35.416Z"
   },
   {
    "duration": 18,
    "start_time": "2022-01-25T08:39:36.242Z"
   },
   {
    "duration": 548,
    "start_time": "2022-01-25T08:39:36.262Z"
   },
   {
    "duration": 230,
    "start_time": "2022-01-25T08:39:36.814Z"
   },
   {
    "duration": 518,
    "start_time": "2022-01-25T08:39:37.047Z"
   },
   {
    "duration": 457,
    "start_time": "2022-01-25T08:39:37.110Z"
   },
   {
    "duration": 454,
    "start_time": "2022-01-25T08:39:37.114Z"
   },
   {
    "duration": 451,
    "start_time": "2022-01-25T08:39:37.118Z"
   },
   {
    "duration": 449,
    "start_time": "2022-01-25T08:39:37.121Z"
   },
   {
    "duration": 443,
    "start_time": "2022-01-25T08:39:37.127Z"
   },
   {
    "duration": 440,
    "start_time": "2022-01-25T08:39:37.131Z"
   },
   {
    "duration": 437,
    "start_time": "2022-01-25T08:39:37.135Z"
   },
   {
    "duration": 434,
    "start_time": "2022-01-25T08:39:37.139Z"
   },
   {
    "duration": 1183,
    "start_time": "2022-01-25T08:40:29.558Z"
   },
   {
    "duration": 39,
    "start_time": "2022-01-25T08:40:30.743Z"
   },
   {
    "duration": 23,
    "start_time": "2022-01-25T08:40:30.784Z"
   },
   {
    "duration": 26,
    "start_time": "2022-01-25T08:40:30.809Z"
   },
   {
    "duration": 52,
    "start_time": "2022-01-25T08:40:30.837Z"
   },
   {
    "duration": 45,
    "start_time": "2022-01-25T08:40:30.891Z"
   },
   {
    "duration": 34,
    "start_time": "2022-01-25T08:40:30.938Z"
   },
   {
    "duration": 44,
    "start_time": "2022-01-25T08:40:30.975Z"
   },
   {
    "duration": 31,
    "start_time": "2022-01-25T08:40:31.021Z"
   },
   {
    "duration": 29,
    "start_time": "2022-01-25T08:40:31.055Z"
   },
   {
    "duration": 12,
    "start_time": "2022-01-25T08:40:31.086Z"
   },
   {
    "duration": 40,
    "start_time": "2022-01-25T08:40:31.100Z"
   },
   {
    "duration": 33,
    "start_time": "2022-01-25T08:40:31.142Z"
   },
   {
    "duration": 26,
    "start_time": "2022-01-25T08:40:31.177Z"
   },
   {
    "duration": 18,
    "start_time": "2022-01-25T08:40:31.205Z"
   },
   {
    "duration": 17,
    "start_time": "2022-01-25T08:40:31.224Z"
   },
   {
    "duration": 43,
    "start_time": "2022-01-25T08:40:31.243Z"
   },
   {
    "duration": 245,
    "start_time": "2022-01-25T08:40:31.288Z"
   },
   {
    "duration": 353,
    "start_time": "2022-01-25T08:40:31.535Z"
   },
   {
    "duration": 782,
    "start_time": "2022-01-25T08:40:31.891Z"
   },
   {
    "duration": 6,
    "start_time": "2022-01-25T08:40:32.675Z"
   },
   {
    "duration": 497,
    "start_time": "2022-01-25T08:40:32.683Z"
   },
   {
    "duration": 224,
    "start_time": "2022-01-25T08:40:33.183Z"
   },
   {
    "duration": 504,
    "start_time": "2022-01-25T08:40:33.410Z"
   },
   {
    "duration": 491,
    "start_time": "2022-01-25T08:40:33.425Z"
   },
   {
    "duration": 454,
    "start_time": "2022-01-25T08:40:33.463Z"
   },
   {
    "duration": 425,
    "start_time": "2022-01-25T08:40:33.493Z"
   },
   {
    "duration": 390,
    "start_time": "2022-01-25T08:40:33.529Z"
   },
   {
    "duration": 375,
    "start_time": "2022-01-25T08:40:33.545Z"
   },
   {
    "duration": 351,
    "start_time": "2022-01-25T08:40:33.570Z"
   },
   {
    "duration": 342,
    "start_time": "2022-01-25T08:40:33.580Z"
   },
   {
    "duration": 322,
    "start_time": "2022-01-25T08:40:33.601Z"
   },
   {
    "duration": 364,
    "start_time": "2022-01-25T08:41:29.710Z"
   },
   {
    "duration": 320,
    "start_time": "2022-01-25T08:41:37.437Z"
   },
   {
    "duration": 343,
    "start_time": "2022-01-25T08:42:33.504Z"
   },
   {
    "duration": 1115,
    "start_time": "2022-01-25T08:43:02.105Z"
   },
   {
    "duration": 38,
    "start_time": "2022-01-25T08:43:03.222Z"
   },
   {
    "duration": 17,
    "start_time": "2022-01-25T08:43:03.262Z"
   },
   {
    "duration": 15,
    "start_time": "2022-01-25T08:43:03.281Z"
   },
   {
    "duration": 15,
    "start_time": "2022-01-25T08:43:03.298Z"
   },
   {
    "duration": 4,
    "start_time": "2022-01-25T08:43:03.315Z"
   },
   {
    "duration": 6,
    "start_time": "2022-01-25T08:43:03.321Z"
   },
   {
    "duration": 6,
    "start_time": "2022-01-25T08:43:03.329Z"
   },
   {
    "duration": 25,
    "start_time": "2022-01-25T08:43:03.337Z"
   },
   {
    "duration": 17,
    "start_time": "2022-01-25T08:43:03.363Z"
   },
   {
    "duration": 10,
    "start_time": "2022-01-25T08:43:03.381Z"
   },
   {
    "duration": 20,
    "start_time": "2022-01-25T08:43:03.392Z"
   },
   {
    "duration": 11,
    "start_time": "2022-01-25T08:43:03.414Z"
   },
   {
    "duration": 44,
    "start_time": "2022-01-25T08:43:03.427Z"
   },
   {
    "duration": 8,
    "start_time": "2022-01-25T08:43:03.473Z"
   },
   {
    "duration": 13,
    "start_time": "2022-01-25T08:43:03.483Z"
   },
   {
    "duration": 20,
    "start_time": "2022-01-25T08:43:03.498Z"
   },
   {
    "duration": 263,
    "start_time": "2022-01-25T08:43:03.520Z"
   },
   {
    "duration": 335,
    "start_time": "2022-01-25T08:43:03.784Z"
   },
   {
    "duration": 850,
    "start_time": "2022-01-25T08:43:04.121Z"
   },
   {
    "duration": 7,
    "start_time": "2022-01-25T08:43:04.973Z"
   },
   {
    "duration": 482,
    "start_time": "2022-01-25T08:43:04.982Z"
   },
   {
    "duration": 244,
    "start_time": "2022-01-25T08:43:05.467Z"
   },
   {
    "duration": 517,
    "start_time": "2022-01-25T08:43:05.713Z"
   },
   {
    "duration": 521,
    "start_time": "2022-01-25T08:43:05.711Z"
   },
   {
    "duration": 513,
    "start_time": "2022-01-25T08:43:05.720Z"
   },
   {
    "duration": 506,
    "start_time": "2022-01-25T08:43:05.728Z"
   },
   {
    "duration": 501,
    "start_time": "2022-01-25T08:43:05.733Z"
   },
   {
    "duration": 498,
    "start_time": "2022-01-25T08:43:05.738Z"
   },
   {
    "duration": 495,
    "start_time": "2022-01-25T08:43:05.742Z"
   },
   {
    "duration": 490,
    "start_time": "2022-01-25T08:43:05.748Z"
   },
   {
    "duration": 487,
    "start_time": "2022-01-25T08:43:05.752Z"
   },
   {
    "duration": 1173,
    "start_time": "2022-01-25T08:43:34.762Z"
   },
   {
    "duration": 40,
    "start_time": "2022-01-25T08:43:35.937Z"
   },
   {
    "duration": 19,
    "start_time": "2022-01-25T08:43:35.979Z"
   },
   {
    "duration": 37,
    "start_time": "2022-01-25T08:43:36.000Z"
   },
   {
    "duration": 38,
    "start_time": "2022-01-25T08:43:36.039Z"
   },
   {
    "duration": 14,
    "start_time": "2022-01-25T08:43:36.078Z"
   },
   {
    "duration": 31,
    "start_time": "2022-01-25T08:43:36.094Z"
   },
   {
    "duration": 18,
    "start_time": "2022-01-25T08:43:36.128Z"
   },
   {
    "duration": 27,
    "start_time": "2022-01-25T08:43:36.149Z"
   },
   {
    "duration": 32,
    "start_time": "2022-01-25T08:43:36.178Z"
   },
   {
    "duration": 19,
    "start_time": "2022-01-25T08:43:36.212Z"
   },
   {
    "duration": 37,
    "start_time": "2022-01-25T08:43:36.233Z"
   },
   {
    "duration": 31,
    "start_time": "2022-01-25T08:43:36.273Z"
   },
   {
    "duration": 43,
    "start_time": "2022-01-25T08:43:36.306Z"
   },
   {
    "duration": 19,
    "start_time": "2022-01-25T08:43:36.351Z"
   },
   {
    "duration": 48,
    "start_time": "2022-01-25T08:43:36.372Z"
   },
   {
    "duration": 37,
    "start_time": "2022-01-25T08:43:36.423Z"
   },
   {
    "duration": 256,
    "start_time": "2022-01-25T08:43:36.462Z"
   },
   {
    "duration": 359,
    "start_time": "2022-01-25T08:43:36.720Z"
   },
   {
    "duration": 770,
    "start_time": "2022-01-25T08:43:37.081Z"
   },
   {
    "duration": 12,
    "start_time": "2022-01-25T08:43:37.853Z"
   },
   {
    "duration": 533,
    "start_time": "2022-01-25T08:43:37.866Z"
   },
   {
    "duration": 233,
    "start_time": "2022-01-25T08:43:38.402Z"
   },
   {
    "duration": 572,
    "start_time": "2022-01-25T08:43:38.637Z"
   },
   {
    "duration": 503,
    "start_time": "2022-01-25T08:43:38.708Z"
   },
   {
    "duration": 498,
    "start_time": "2022-01-25T08:43:38.714Z"
   },
   {
    "duration": 476,
    "start_time": "2022-01-25T08:43:38.737Z"
   },
   {
    "duration": 470,
    "start_time": "2022-01-25T08:43:38.744Z"
   },
   {
    "duration": 465,
    "start_time": "2022-01-25T08:43:38.750Z"
   },
   {
    "duration": 457,
    "start_time": "2022-01-25T08:43:38.758Z"
   },
   {
    "duration": 453,
    "start_time": "2022-01-25T08:43:38.763Z"
   },
   {
    "duration": 447,
    "start_time": "2022-01-25T08:43:38.770Z"
   },
   {
    "duration": 1180,
    "start_time": "2022-01-25T08:44:16.285Z"
   },
   {
    "duration": 39,
    "start_time": "2022-01-25T08:44:17.467Z"
   },
   {
    "duration": 17,
    "start_time": "2022-01-25T08:44:17.511Z"
   },
   {
    "duration": 27,
    "start_time": "2022-01-25T08:44:17.530Z"
   },
   {
    "duration": 33,
    "start_time": "2022-01-25T08:44:17.559Z"
   },
   {
    "duration": 7,
    "start_time": "2022-01-25T08:44:17.594Z"
   },
   {
    "duration": 19,
    "start_time": "2022-01-25T08:44:17.603Z"
   },
   {
    "duration": 22,
    "start_time": "2022-01-25T08:44:17.625Z"
   },
   {
    "duration": 31,
    "start_time": "2022-01-25T08:44:17.649Z"
   },
   {
    "duration": 29,
    "start_time": "2022-01-25T08:44:17.682Z"
   },
   {
    "duration": 11,
    "start_time": "2022-01-25T08:44:17.713Z"
   },
   {
    "duration": 31,
    "start_time": "2022-01-25T08:44:17.726Z"
   },
   {
    "duration": 42,
    "start_time": "2022-01-25T08:44:17.758Z"
   },
   {
    "duration": 15,
    "start_time": "2022-01-25T08:44:17.802Z"
   },
   {
    "duration": 9,
    "start_time": "2022-01-25T08:44:17.819Z"
   },
   {
    "duration": 17,
    "start_time": "2022-01-25T08:44:17.830Z"
   },
   {
    "duration": 40,
    "start_time": "2022-01-25T08:44:17.849Z"
   },
   {
    "duration": 242,
    "start_time": "2022-01-25T08:44:17.891Z"
   },
   {
    "duration": 336,
    "start_time": "2022-01-25T08:44:18.134Z"
   },
   {
    "duration": 770,
    "start_time": "2022-01-25T08:44:18.471Z"
   },
   {
    "duration": 7,
    "start_time": "2022-01-25T08:44:19.243Z"
   },
   {
    "duration": 507,
    "start_time": "2022-01-25T08:44:19.260Z"
   },
   {
    "duration": 227,
    "start_time": "2022-01-25T08:44:19.769Z"
   },
   {
    "duration": 508,
    "start_time": "2022-01-25T08:44:19.998Z"
   },
   {
    "duration": 391,
    "start_time": "2022-01-25T08:44:20.117Z"
   },
   {
    "duration": 376,
    "start_time": "2022-01-25T08:44:20.133Z"
   },
   {
    "duration": 369,
    "start_time": "2022-01-25T08:44:20.141Z"
   },
   {
    "duration": 352,
    "start_time": "2022-01-25T08:44:20.159Z"
   },
   {
    "duration": 336,
    "start_time": "2022-01-25T08:44:20.176Z"
   },
   {
    "duration": 312,
    "start_time": "2022-01-25T08:44:20.201Z"
   },
   {
    "duration": 297,
    "start_time": "2022-01-25T08:44:20.216Z"
   },
   {
    "duration": 292,
    "start_time": "2022-01-25T08:44:20.222Z"
   },
   {
    "duration": 1139,
    "start_time": "2022-01-25T08:44:56.886Z"
   },
   {
    "duration": 39,
    "start_time": "2022-01-25T08:44:58.027Z"
   },
   {
    "duration": 16,
    "start_time": "2022-01-25T08:44:58.068Z"
   },
   {
    "duration": 20,
    "start_time": "2022-01-25T08:44:58.086Z"
   },
   {
    "duration": 27,
    "start_time": "2022-01-25T08:44:58.108Z"
   },
   {
    "duration": 29,
    "start_time": "2022-01-25T08:44:58.137Z"
   },
   {
    "duration": 23,
    "start_time": "2022-01-25T08:44:58.168Z"
   },
   {
    "duration": 18,
    "start_time": "2022-01-25T08:44:58.193Z"
   },
   {
    "duration": 27,
    "start_time": "2022-01-25T08:44:58.213Z"
   },
   {
    "duration": 37,
    "start_time": "2022-01-25T08:44:58.241Z"
   },
   {
    "duration": 25,
    "start_time": "2022-01-25T08:44:58.280Z"
   },
   {
    "duration": 37,
    "start_time": "2022-01-25T08:44:58.307Z"
   },
   {
    "duration": 18,
    "start_time": "2022-01-25T08:44:58.346Z"
   },
   {
    "duration": 31,
    "start_time": "2022-01-25T08:44:58.366Z"
   },
   {
    "duration": 19,
    "start_time": "2022-01-25T08:44:58.399Z"
   },
   {
    "duration": 29,
    "start_time": "2022-01-25T08:44:58.419Z"
   },
   {
    "duration": 33,
    "start_time": "2022-01-25T08:44:58.450Z"
   },
   {
    "duration": 237,
    "start_time": "2022-01-25T08:44:58.485Z"
   },
   {
    "duration": 336,
    "start_time": "2022-01-25T08:44:58.724Z"
   },
   {
    "duration": 798,
    "start_time": "2022-01-25T08:44:59.062Z"
   },
   {
    "duration": 8,
    "start_time": "2022-01-25T08:44:59.862Z"
   },
   {
    "duration": 509,
    "start_time": "2022-01-25T08:44:59.872Z"
   },
   {
    "duration": 240,
    "start_time": "2022-01-25T08:45:00.385Z"
   },
   {
    "duration": 532,
    "start_time": "2022-01-25T08:45:00.627Z"
   },
   {
    "duration": 581,
    "start_time": "2022-01-25T08:45:00.580Z"
   },
   {
    "duration": 578,
    "start_time": "2022-01-25T08:45:00.584Z"
   },
   {
    "duration": 573,
    "start_time": "2022-01-25T08:45:00.589Z"
   },
   {
    "duration": 565,
    "start_time": "2022-01-25T08:45:00.598Z"
   },
   {
    "duration": 562,
    "start_time": "2022-01-25T08:45:00.602Z"
   },
   {
    "duration": 552,
    "start_time": "2022-01-25T08:45:00.613Z"
   },
   {
    "duration": 549,
    "start_time": "2022-01-25T08:45:00.617Z"
   },
   {
    "duration": 545,
    "start_time": "2022-01-25T08:45:00.622Z"
   },
   {
    "duration": 342,
    "start_time": "2022-01-25T08:46:52.136Z"
   },
   {
    "duration": 443,
    "start_time": "2022-01-25T08:46:53.564Z"
   },
   {
    "duration": 20,
    "start_time": "2022-01-25T08:51:11.161Z"
   },
   {
    "duration": 738,
    "start_time": "2022-01-25T08:51:19.462Z"
   },
   {
    "duration": 338,
    "start_time": "2022-01-25T08:51:28.100Z"
   },
   {
    "duration": 334,
    "start_time": "2022-01-25T08:51:35.605Z"
   },
   {
    "duration": 325,
    "start_time": "2022-01-25T08:51:43.472Z"
   },
   {
    "duration": 11,
    "start_time": "2022-01-25T08:51:54.442Z"
   },
   {
    "duration": 257,
    "start_time": "2022-01-25T08:51:56.782Z"
   },
   {
    "duration": 376,
    "start_time": "2022-01-25T09:05:52.169Z"
   },
   {
    "duration": 357,
    "start_time": "2022-01-25T09:05:55.343Z"
   },
   {
    "duration": 231,
    "start_time": "2022-01-25T09:17:34.993Z"
   },
   {
    "duration": 1174,
    "start_time": "2022-01-25T09:22:20.248Z"
   },
   {
    "duration": 39,
    "start_time": "2022-01-25T09:22:21.424Z"
   },
   {
    "duration": 17,
    "start_time": "2022-01-25T09:22:21.465Z"
   },
   {
    "duration": 26,
    "start_time": "2022-01-25T09:22:21.484Z"
   },
   {
    "duration": 26,
    "start_time": "2022-01-25T09:22:21.511Z"
   },
   {
    "duration": 16,
    "start_time": "2022-01-25T09:22:21.538Z"
   },
   {
    "duration": 21,
    "start_time": "2022-01-25T09:22:21.556Z"
   },
   {
    "duration": 41,
    "start_time": "2022-01-25T09:22:21.579Z"
   },
   {
    "duration": 20,
    "start_time": "2022-01-25T09:22:21.623Z"
   },
   {
    "duration": 52,
    "start_time": "2022-01-25T09:22:21.645Z"
   },
   {
    "duration": 16,
    "start_time": "2022-01-25T09:22:21.700Z"
   },
   {
    "duration": 43,
    "start_time": "2022-01-25T09:22:21.718Z"
   },
   {
    "duration": 23,
    "start_time": "2022-01-25T09:22:21.763Z"
   },
   {
    "duration": 32,
    "start_time": "2022-01-25T09:22:21.788Z"
   },
   {
    "duration": 25,
    "start_time": "2022-01-25T09:22:21.821Z"
   },
   {
    "duration": 17,
    "start_time": "2022-01-25T09:22:21.847Z"
   },
   {
    "duration": 39,
    "start_time": "2022-01-25T09:22:21.866Z"
   },
   {
    "duration": 257,
    "start_time": "2022-01-25T09:22:21.907Z"
   },
   {
    "duration": 239,
    "start_time": "2022-01-25T09:22:22.167Z"
   },
   {
    "duration": 346,
    "start_time": "2022-01-25T09:22:22.408Z"
   },
   {
    "duration": 1300,
    "start_time": "2022-01-25T09:22:22.756Z"
   },
   {
    "duration": 7,
    "start_time": "2022-01-25T09:22:24.061Z"
   },
   {
    "duration": 1064,
    "start_time": "2022-01-25T09:22:24.072Z"
   },
   {
    "duration": 296,
    "start_time": "2022-01-25T09:22:25.138Z"
   },
   {
    "duration": 448,
    "start_time": "2022-01-25T09:22:25.436Z"
   },
   {
    "duration": 560,
    "start_time": "2022-01-25T09:22:25.326Z"
   },
   {
    "duration": 552,
    "start_time": "2022-01-25T09:22:25.335Z"
   },
   {
    "duration": 545,
    "start_time": "2022-01-25T09:22:25.342Z"
   },
   {
    "duration": 540,
    "start_time": "2022-01-25T09:22:25.348Z"
   },
   {
    "duration": 504,
    "start_time": "2022-01-25T09:22:25.385Z"
   },
   {
    "duration": 495,
    "start_time": "2022-01-25T09:22:25.395Z"
   },
   {
    "duration": 487,
    "start_time": "2022-01-25T09:22:25.404Z"
   },
   {
    "duration": 480,
    "start_time": "2022-01-25T09:22:25.412Z"
   },
   {
    "duration": 216,
    "start_time": "2022-01-25T09:29:02.601Z"
   },
   {
    "duration": 13,
    "start_time": "2022-01-25T09:29:15.820Z"
   },
   {
    "duration": 498,
    "start_time": "2022-01-25T09:29:40.130Z"
   },
   {
    "duration": 482,
    "start_time": "2022-01-25T09:29:40.147Z"
   },
   {
    "duration": 468,
    "start_time": "2022-01-25T09:29:40.162Z"
   },
   {
    "duration": 451,
    "start_time": "2022-01-25T09:29:40.180Z"
   },
   {
    "duration": 425,
    "start_time": "2022-01-25T09:29:40.207Z"
   },
   {
    "duration": 411,
    "start_time": "2022-01-25T09:29:40.222Z"
   },
   {
    "duration": 393,
    "start_time": "2022-01-25T09:29:40.241Z"
   },
   {
    "duration": 379,
    "start_time": "2022-01-25T09:29:40.256Z"
   },
   {
    "duration": 365,
    "start_time": "2022-01-25T09:29:40.271Z"
   },
   {
    "duration": 358,
    "start_time": "2022-01-25T09:29:40.279Z"
   },
   {
    "duration": 352,
    "start_time": "2022-01-25T09:29:40.286Z"
   },
   {
    "duration": 350,
    "start_time": "2022-01-25T09:29:40.289Z"
   },
   {
    "duration": 344,
    "start_time": "2022-01-25T09:29:40.296Z"
   },
   {
    "duration": 338,
    "start_time": "2022-01-25T09:29:40.303Z"
   },
   {
    "duration": 335,
    "start_time": "2022-01-25T09:29:40.307Z"
   },
   {
    "duration": 327,
    "start_time": "2022-01-25T09:29:40.316Z"
   },
   {
    "duration": 324,
    "start_time": "2022-01-25T09:29:40.320Z"
   },
   {
    "duration": 323,
    "start_time": "2022-01-25T09:29:40.322Z"
   },
   {
    "duration": 319,
    "start_time": "2022-01-25T09:29:40.327Z"
   },
   {
    "duration": 313,
    "start_time": "2022-01-25T09:29:40.334Z"
   },
   {
    "duration": 311,
    "start_time": "2022-01-25T09:29:40.337Z"
   },
   {
    "duration": 309,
    "start_time": "2022-01-25T09:29:40.340Z"
   },
   {
    "duration": 301,
    "start_time": "2022-01-25T09:29:40.349Z"
   },
   {
    "duration": 300,
    "start_time": "2022-01-25T09:29:40.351Z"
   },
   {
    "duration": 297,
    "start_time": "2022-01-25T09:29:40.354Z"
   },
   {
    "duration": 296,
    "start_time": "2022-01-25T09:29:40.356Z"
   },
   {
    "duration": 293,
    "start_time": "2022-01-25T09:29:40.360Z"
   },
   {
    "duration": 284,
    "start_time": "2022-01-25T09:29:40.370Z"
   },
   {
    "duration": 280,
    "start_time": "2022-01-25T09:29:40.375Z"
   },
   {
    "duration": 276,
    "start_time": "2022-01-25T09:29:40.384Z"
   },
   {
    "duration": 274,
    "start_time": "2022-01-25T09:29:40.387Z"
   },
   {
    "duration": 272,
    "start_time": "2022-01-25T09:29:40.390Z"
   },
   {
    "duration": 262,
    "start_time": "2022-01-25T09:29:40.401Z"
   },
   {
    "duration": 1172,
    "start_time": "2022-01-25T09:30:12.971Z"
   },
   {
    "duration": 44,
    "start_time": "2022-01-25T09:30:14.145Z"
   },
   {
    "duration": 19,
    "start_time": "2022-01-25T09:30:14.191Z"
   },
   {
    "duration": 23,
    "start_time": "2022-01-25T09:30:14.212Z"
   },
   {
    "duration": 32,
    "start_time": "2022-01-25T09:30:14.237Z"
   },
   {
    "duration": 5,
    "start_time": "2022-01-25T09:30:14.271Z"
   },
   {
    "duration": 27,
    "start_time": "2022-01-25T09:30:14.277Z"
   },
   {
    "duration": 25,
    "start_time": "2022-01-25T09:30:14.308Z"
   },
   {
    "duration": 35,
    "start_time": "2022-01-25T09:30:14.335Z"
   },
   {
    "duration": 34,
    "start_time": "2022-01-25T09:30:14.372Z"
   },
   {
    "duration": 16,
    "start_time": "2022-01-25T09:30:14.408Z"
   },
   {
    "duration": 24,
    "start_time": "2022-01-25T09:30:14.425Z"
   },
   {
    "duration": 14,
    "start_time": "2022-01-25T09:30:14.451Z"
   },
   {
    "duration": 21,
    "start_time": "2022-01-25T09:30:14.467Z"
   },
   {
    "duration": 10,
    "start_time": "2022-01-25T09:30:14.489Z"
   },
   {
    "duration": 28,
    "start_time": "2022-01-25T09:30:14.500Z"
   },
   {
    "duration": 35,
    "start_time": "2022-01-25T09:30:14.529Z"
   },
   {
    "duration": 236,
    "start_time": "2022-01-25T09:30:14.565Z"
   },
   {
    "duration": 231,
    "start_time": "2022-01-25T09:30:14.802Z"
   },
   {
    "duration": 345,
    "start_time": "2022-01-25T09:30:15.035Z"
   },
   {
    "duration": 784,
    "start_time": "2022-01-25T09:30:15.382Z"
   },
   {
    "duration": 7,
    "start_time": "2022-01-25T09:30:16.168Z"
   },
   {
    "duration": 489,
    "start_time": "2022-01-25T09:30:16.178Z"
   },
   {
    "duration": 230,
    "start_time": "2022-01-25T09:30:16.669Z"
   },
   {
    "duration": 506,
    "start_time": "2022-01-25T09:30:16.901Z"
   },
   {
    "duration": 555,
    "start_time": "2022-01-25T09:30:16.854Z"
   },
   {
    "duration": 547,
    "start_time": "2022-01-25T09:30:16.863Z"
   },
   {
    "duration": 541,
    "start_time": "2022-01-25T09:30:16.870Z"
   },
   {
    "duration": 532,
    "start_time": "2022-01-25T09:30:16.879Z"
   },
   {
    "duration": 526,
    "start_time": "2022-01-25T09:30:16.886Z"
   },
   {
    "duration": 519,
    "start_time": "2022-01-25T09:30:16.894Z"
   },
   {
    "duration": 514,
    "start_time": "2022-01-25T09:30:16.900Z"
   },
   {
    "duration": 507,
    "start_time": "2022-01-25T09:30:16.908Z"
   },
   {
    "duration": 740,
    "start_time": "2022-01-25T09:31:54.401Z"
   },
   {
    "duration": 772,
    "start_time": "2022-01-25T09:32:47.202Z"
   },
   {
    "duration": 886,
    "start_time": "2022-01-25T09:33:01.424Z"
   },
   {
    "duration": 210,
    "start_time": "2022-01-25T09:35:17.720Z"
   },
   {
    "duration": 436,
    "start_time": "2022-01-25T09:39:24.692Z"
   },
   {
    "duration": 311,
    "start_time": "2022-01-25T09:39:26.661Z"
   },
   {
    "duration": 1144,
    "start_time": "2022-01-25T09:39:41.195Z"
   },
   {
    "duration": 40,
    "start_time": "2022-01-25T09:39:42.341Z"
   },
   {
    "duration": 17,
    "start_time": "2022-01-25T09:39:42.383Z"
   },
   {
    "duration": 16,
    "start_time": "2022-01-25T09:39:42.403Z"
   },
   {
    "duration": 18,
    "start_time": "2022-01-25T09:39:42.421Z"
   },
   {
    "duration": 23,
    "start_time": "2022-01-25T09:39:42.441Z"
   },
   {
    "duration": 7,
    "start_time": "2022-01-25T09:39:42.465Z"
   },
   {
    "duration": 9,
    "start_time": "2022-01-25T09:39:42.474Z"
   },
   {
    "duration": 11,
    "start_time": "2022-01-25T09:39:42.486Z"
   },
   {
    "duration": 23,
    "start_time": "2022-01-25T09:39:42.499Z"
   },
   {
    "duration": 23,
    "start_time": "2022-01-25T09:39:42.524Z"
   },
   {
    "duration": 26,
    "start_time": "2022-01-25T09:39:42.549Z"
   },
   {
    "duration": 18,
    "start_time": "2022-01-25T09:39:42.577Z"
   },
   {
    "duration": 17,
    "start_time": "2022-01-25T09:39:42.597Z"
   },
   {
    "duration": 5,
    "start_time": "2022-01-25T09:39:42.616Z"
   },
   {
    "duration": 39,
    "start_time": "2022-01-25T09:39:42.622Z"
   },
   {
    "duration": 19,
    "start_time": "2022-01-25T09:39:42.663Z"
   },
   {
    "duration": 243,
    "start_time": "2022-01-25T09:39:42.684Z"
   },
   {
    "duration": 236,
    "start_time": "2022-01-25T09:39:42.929Z"
   },
   {
    "duration": 339,
    "start_time": "2022-01-25T09:39:43.167Z"
   },
   {
    "duration": 787,
    "start_time": "2022-01-25T09:39:43.508Z"
   },
   {
    "duration": 7,
    "start_time": "2022-01-25T09:39:44.297Z"
   },
   {
    "duration": 528,
    "start_time": "2022-01-25T09:39:44.308Z"
   },
   {
    "duration": 241,
    "start_time": "2022-01-25T09:39:44.838Z"
   },
   {
    "duration": 548,
    "start_time": "2022-01-25T09:39:45.082Z"
   },
   {
    "duration": 493,
    "start_time": "2022-01-25T09:39:45.139Z"
   },
   {
    "duration": 484,
    "start_time": "2022-01-25T09:39:45.149Z"
   },
   {
    "duration": 478,
    "start_time": "2022-01-25T09:39:45.156Z"
   },
   {
    "duration": 472,
    "start_time": "2022-01-25T09:39:45.163Z"
   },
   {
    "duration": 467,
    "start_time": "2022-01-25T09:39:45.169Z"
   },
   {
    "duration": 460,
    "start_time": "2022-01-25T09:39:45.177Z"
   },
   {
    "duration": 453,
    "start_time": "2022-01-25T09:39:45.185Z"
   },
   {
    "duration": 389,
    "start_time": "2022-01-25T09:39:45.250Z"
   },
   {
    "duration": 391,
    "start_time": "2022-01-25T09:41:22.952Z"
   },
   {
    "duration": 229,
    "start_time": "2022-01-25T09:41:36.371Z"
   },
   {
    "duration": 87,
    "start_time": "2022-01-25T09:42:20.323Z"
   },
   {
    "duration": 68,
    "start_time": "2022-01-25T09:42:32.094Z"
   },
   {
    "duration": 65,
    "start_time": "2022-01-25T09:42:32.293Z"
   },
   {
    "duration": 75,
    "start_time": "2022-01-25T09:42:33.335Z"
   },
   {
    "duration": 100,
    "start_time": "2022-01-25T09:42:34.112Z"
   },
   {
    "duration": 82,
    "start_time": "2022-01-25T09:42:34.897Z"
   },
   {
    "duration": 216,
    "start_time": "2022-01-25T09:43:10.766Z"
   },
   {
    "duration": 1151,
    "start_time": "2022-01-25T09:43:28.530Z"
   },
   {
    "duration": 39,
    "start_time": "2022-01-25T09:43:29.683Z"
   },
   {
    "duration": 19,
    "start_time": "2022-01-25T09:43:29.724Z"
   },
   {
    "duration": 21,
    "start_time": "2022-01-25T09:43:29.745Z"
   },
   {
    "duration": 17,
    "start_time": "2022-01-25T09:43:29.768Z"
   },
   {
    "duration": 8,
    "start_time": "2022-01-25T09:43:29.787Z"
   },
   {
    "duration": 19,
    "start_time": "2022-01-25T09:43:29.796Z"
   },
   {
    "duration": 23,
    "start_time": "2022-01-25T09:43:29.817Z"
   },
   {
    "duration": 29,
    "start_time": "2022-01-25T09:43:29.842Z"
   },
   {
    "duration": 24,
    "start_time": "2022-01-25T09:43:29.873Z"
   },
   {
    "duration": 20,
    "start_time": "2022-01-25T09:43:29.899Z"
   },
   {
    "duration": 25,
    "start_time": "2022-01-25T09:43:29.920Z"
   },
   {
    "duration": 44,
    "start_time": "2022-01-25T09:43:29.946Z"
   },
   {
    "duration": 34,
    "start_time": "2022-01-25T09:43:29.992Z"
   },
   {
    "duration": 23,
    "start_time": "2022-01-25T09:43:30.029Z"
   },
   {
    "duration": 43,
    "start_time": "2022-01-25T09:43:30.054Z"
   },
   {
    "duration": 43,
    "start_time": "2022-01-25T09:43:30.098Z"
   },
   {
    "duration": 230,
    "start_time": "2022-01-25T09:43:30.143Z"
   },
   {
    "duration": 228,
    "start_time": "2022-01-25T09:43:30.375Z"
   },
   {
    "duration": 344,
    "start_time": "2022-01-25T09:43:30.605Z"
   },
   {
    "duration": 762,
    "start_time": "2022-01-25T09:43:30.951Z"
   },
   {
    "duration": 7,
    "start_time": "2022-01-25T09:43:31.715Z"
   },
   {
    "duration": 522,
    "start_time": "2022-01-25T09:43:31.726Z"
   },
   {
    "duration": 225,
    "start_time": "2022-01-25T09:43:32.250Z"
   },
   {
    "duration": 297,
    "start_time": "2022-01-25T09:43:32.476Z"
   },
   {
    "duration": 324,
    "start_time": "2022-01-25T09:43:32.451Z"
   },
   {
    "duration": 316,
    "start_time": "2022-01-25T09:43:32.460Z"
   },
   {
    "duration": 289,
    "start_time": "2022-01-25T09:43:32.488Z"
   },
   {
    "duration": 279,
    "start_time": "2022-01-25T09:43:32.499Z"
   },
   {
    "duration": 270,
    "start_time": "2022-01-25T09:43:32.510Z"
   },
   {
    "duration": 263,
    "start_time": "2022-01-25T09:43:32.518Z"
   },
   {
    "duration": 255,
    "start_time": "2022-01-25T09:43:32.526Z"
   },
   {
    "duration": 249,
    "start_time": "2022-01-25T09:43:32.534Z"
   },
   {
    "duration": 448,
    "start_time": "2022-01-25T09:46:42.530Z"
   },
   {
    "duration": 1251,
    "start_time": "2022-01-25T09:47:06.449Z"
   },
   {
    "duration": 40,
    "start_time": "2022-01-25T09:47:07.702Z"
   },
   {
    "duration": 17,
    "start_time": "2022-01-25T09:47:07.744Z"
   },
   {
    "duration": 11,
    "start_time": "2022-01-25T09:47:07.763Z"
   },
   {
    "duration": 16,
    "start_time": "2022-01-25T09:47:07.775Z"
   },
   {
    "duration": 11,
    "start_time": "2022-01-25T09:47:07.793Z"
   },
   {
    "duration": 14,
    "start_time": "2022-01-25T09:47:07.806Z"
   },
   {
    "duration": 26,
    "start_time": "2022-01-25T09:47:07.822Z"
   },
   {
    "duration": 28,
    "start_time": "2022-01-25T09:47:07.851Z"
   },
   {
    "duration": 39,
    "start_time": "2022-01-25T09:47:07.881Z"
   },
   {
    "duration": 29,
    "start_time": "2022-01-25T09:47:07.922Z"
   },
   {
    "duration": 44,
    "start_time": "2022-01-25T09:47:07.953Z"
   },
   {
    "duration": 20,
    "start_time": "2022-01-25T09:47:07.999Z"
   },
   {
    "duration": 27,
    "start_time": "2022-01-25T09:47:08.021Z"
   },
   {
    "duration": 27,
    "start_time": "2022-01-25T09:47:08.050Z"
   },
   {
    "duration": 31,
    "start_time": "2022-01-25T09:47:08.079Z"
   },
   {
    "duration": 45,
    "start_time": "2022-01-25T09:47:08.112Z"
   },
   {
    "duration": 237,
    "start_time": "2022-01-25T09:47:08.159Z"
   },
   {
    "duration": 236,
    "start_time": "2022-01-25T09:47:08.399Z"
   },
   {
    "duration": 337,
    "start_time": "2022-01-25T09:47:08.637Z"
   },
   {
    "duration": 752,
    "start_time": "2022-01-25T09:47:08.976Z"
   },
   {
    "duration": 7,
    "start_time": "2022-01-25T09:47:09.730Z"
   },
   {
    "duration": 520,
    "start_time": "2022-01-25T09:47:09.740Z"
   },
   {
    "duration": 216,
    "start_time": "2022-01-25T09:47:10.262Z"
   },
   {
    "duration": 468,
    "start_time": "2022-01-25T09:47:10.480Z"
   },
   {
    "duration": 25,
    "start_time": "2022-01-25T09:47:10.950Z"
   },
   {
    "duration": 722,
    "start_time": "2022-01-25T09:47:10.977Z"
   },
   {
    "duration": 285,
    "start_time": "2022-01-25T09:47:11.701Z"
   },
   {
    "duration": 11,
    "start_time": "2022-01-25T09:47:11.988Z"
   },
   {
    "duration": 318,
    "start_time": "2022-01-25T09:47:12.000Z"
   },
   {
    "duration": 300,
    "start_time": "2022-01-25T09:47:12.320Z"
   },
   {
    "duration": 10,
    "start_time": "2022-01-25T09:47:12.621Z"
   },
   {
    "duration": 256,
    "start_time": "2022-01-25T09:47:12.633Z"
   },
   {
    "duration": 216,
    "start_time": "2022-01-25T09:48:54.757Z"
   },
   {
    "duration": 252,
    "start_time": "2022-01-25T09:49:41.716Z"
   },
   {
    "duration": 497,
    "start_time": "2022-01-25T09:49:57.738Z"
   },
   {
    "duration": 574,
    "start_time": "2022-01-25T09:50:06.050Z"
   },
   {
    "duration": 457,
    "start_time": "2022-01-25T09:50:17.758Z"
   },
   {
    "duration": 121,
    "start_time": "2022-01-25T09:55:03.912Z"
   },
   {
    "duration": 105,
    "start_time": "2022-01-25T09:55:08.855Z"
   },
   {
    "duration": 91,
    "start_time": "2022-01-25T09:55:10.121Z"
   },
   {
    "duration": 239,
    "start_time": "2022-01-25T09:55:21.100Z"
   },
   {
    "duration": 47,
    "start_time": "2022-01-25T10:32:31.631Z"
   },
   {
    "duration": 322,
    "start_time": "2022-01-25T10:38:28.832Z"
   },
   {
    "duration": 42,
    "start_time": "2022-01-25T10:38:48.694Z"
   },
   {
    "duration": 50,
    "start_time": "2022-01-25T10:39:11.376Z"
   },
   {
    "duration": 33,
    "start_time": "2022-01-25T10:39:56.887Z"
   },
   {
    "duration": 1182,
    "start_time": "2022-01-25T10:46:06.678Z"
   },
   {
    "duration": 39,
    "start_time": "2022-01-25T10:46:07.862Z"
   },
   {
    "duration": 56,
    "start_time": "2022-01-25T10:46:07.903Z"
   },
   {
    "duration": 26,
    "start_time": "2022-01-25T10:46:07.962Z"
   },
   {
    "duration": 30,
    "start_time": "2022-01-25T10:46:07.990Z"
   },
   {
    "duration": 9,
    "start_time": "2022-01-25T10:46:08.022Z"
   },
   {
    "duration": 23,
    "start_time": "2022-01-25T10:46:08.032Z"
   },
   {
    "duration": 16,
    "start_time": "2022-01-25T10:46:08.058Z"
   },
   {
    "duration": 14,
    "start_time": "2022-01-25T10:46:08.076Z"
   },
   {
    "duration": 48,
    "start_time": "2022-01-25T10:46:08.092Z"
   },
   {
    "duration": 19,
    "start_time": "2022-01-25T10:46:08.141Z"
   },
   {
    "duration": 32,
    "start_time": "2022-01-25T10:46:08.161Z"
   },
   {
    "duration": 27,
    "start_time": "2022-01-25T10:46:08.194Z"
   },
   {
    "duration": 48,
    "start_time": "2022-01-25T10:46:08.222Z"
   },
   {
    "duration": 13,
    "start_time": "2022-01-25T10:46:08.272Z"
   },
   {
    "duration": 26,
    "start_time": "2022-01-25T10:46:08.287Z"
   },
   {
    "duration": 24,
    "start_time": "2022-01-25T10:46:08.315Z"
   },
   {
    "duration": 228,
    "start_time": "2022-01-25T10:46:08.341Z"
   },
   {
    "duration": 342,
    "start_time": "2022-01-25T10:46:08.571Z"
   },
   {
    "duration": 826,
    "start_time": "2022-01-25T10:46:08.916Z"
   },
   {
    "duration": 16,
    "start_time": "2022-01-25T10:46:09.744Z"
   },
   {
    "duration": 497,
    "start_time": "2022-01-25T10:46:09.763Z"
   },
   {
    "duration": 282,
    "start_time": "2022-01-25T10:46:10.265Z"
   },
   {
    "duration": 602,
    "start_time": "2022-01-25T10:46:10.549Z"
   },
   {
    "duration": 25,
    "start_time": "2022-01-25T10:46:11.153Z"
   },
   {
    "duration": 847,
    "start_time": "2022-01-25T10:46:11.180Z"
   },
   {
    "duration": 290,
    "start_time": "2022-01-25T10:46:12.029Z"
   },
   {
    "duration": 10,
    "start_time": "2022-01-25T10:46:12.321Z"
   },
   {
    "duration": 349,
    "start_time": "2022-01-25T10:46:12.333Z"
   },
   {
    "duration": 297,
    "start_time": "2022-01-25T10:46:12.684Z"
   },
   {
    "duration": 10,
    "start_time": "2022-01-25T10:46:12.983Z"
   },
   {
    "duration": 257,
    "start_time": "2022-01-25T10:46:12.994Z"
   },
   {
    "duration": 4,
    "start_time": "2022-01-25T10:46:13.261Z"
   },
   {
    "duration": 55,
    "start_time": "2022-01-25T10:46:13.267Z"
   },
   {
    "duration": 62,
    "start_time": "2022-01-25T10:46:13.324Z"
   },
   {
    "duration": 31,
    "start_time": "2022-01-25T10:46:13.388Z"
   },
   {
    "duration": 24,
    "start_time": "2022-01-25T10:47:31.195Z"
   },
   {
    "duration": 42,
    "start_time": "2022-01-25T10:47:33.734Z"
   },
   {
    "duration": 40,
    "start_time": "2022-01-25T10:47:46.214Z"
   },
   {
    "duration": 39,
    "start_time": "2022-01-25T10:47:47.044Z"
   },
   {
    "duration": 3,
    "start_time": "2022-01-25T10:47:48.680Z"
   },
   {
    "duration": 4,
    "start_time": "2022-01-25T10:47:49.363Z"
   },
   {
    "duration": 4,
    "start_time": "2022-01-25T10:47:49.968Z"
   },
   {
    "duration": 36,
    "start_time": "2022-01-25T10:47:54.038Z"
   },
   {
    "duration": 36,
    "start_time": "2022-01-25T10:47:54.962Z"
   },
   {
    "duration": 8,
    "start_time": "2022-01-25T10:48:09.763Z"
   },
   {
    "duration": 3,
    "start_time": "2022-01-25T10:48:10.628Z"
   },
   {
    "duration": 4,
    "start_time": "2022-01-25T10:48:10.718Z"
   },
   {
    "duration": 3,
    "start_time": "2022-01-25T10:48:26.477Z"
   },
   {
    "duration": 3,
    "start_time": "2022-01-25T10:48:28.755Z"
   },
   {
    "duration": 3,
    "start_time": "2022-01-25T10:48:29.527Z"
   },
   {
    "duration": 33,
    "start_time": "2022-01-25T10:48:30.917Z"
   },
   {
    "duration": 41,
    "start_time": "2022-01-25T10:48:41.586Z"
   },
   {
    "duration": 3,
    "start_time": "2022-01-25T10:51:33.727Z"
   },
   {
    "duration": 3,
    "start_time": "2022-01-25T10:51:36.778Z"
   },
   {
    "duration": 34,
    "start_time": "2022-01-25T10:51:43.632Z"
   },
   {
    "duration": 36,
    "start_time": "2022-01-25T10:51:44.533Z"
   },
   {
    "duration": 36,
    "start_time": "2022-01-25T10:51:45.139Z"
   },
   {
    "duration": 32,
    "start_time": "2022-01-25T10:51:45.702Z"
   },
   {
    "duration": 1177,
    "start_time": "2022-01-25T10:53:25.142Z"
   },
   {
    "duration": 41,
    "start_time": "2022-01-25T10:53:26.321Z"
   },
   {
    "duration": 27,
    "start_time": "2022-01-25T10:53:26.365Z"
   },
   {
    "duration": 35,
    "start_time": "2022-01-25T10:53:26.394Z"
   },
   {
    "duration": 19,
    "start_time": "2022-01-25T10:53:26.431Z"
   },
   {
    "duration": 12,
    "start_time": "2022-01-25T10:53:26.452Z"
   },
   {
    "duration": 15,
    "start_time": "2022-01-25T10:53:26.466Z"
   },
   {
    "duration": 18,
    "start_time": "2022-01-25T10:53:26.484Z"
   },
   {
    "duration": 27,
    "start_time": "2022-01-25T10:53:26.504Z"
   },
   {
    "duration": 34,
    "start_time": "2022-01-25T10:53:26.533Z"
   },
   {
    "duration": 16,
    "start_time": "2022-01-25T10:53:26.569Z"
   },
   {
    "duration": 41,
    "start_time": "2022-01-25T10:53:26.586Z"
   },
   {
    "duration": 33,
    "start_time": "2022-01-25T10:53:26.629Z"
   },
   {
    "duration": 31,
    "start_time": "2022-01-25T10:53:26.664Z"
   },
   {
    "duration": 17,
    "start_time": "2022-01-25T10:53:26.697Z"
   },
   {
    "duration": 20,
    "start_time": "2022-01-25T10:53:26.716Z"
   },
   {
    "duration": 31,
    "start_time": "2022-01-25T10:53:26.738Z"
   },
   {
    "duration": 257,
    "start_time": "2022-01-25T10:53:26.771Z"
   },
   {
    "duration": 342,
    "start_time": "2022-01-25T10:53:27.030Z"
   },
   {
    "duration": 737,
    "start_time": "2022-01-25T10:53:27.373Z"
   },
   {
    "duration": 8,
    "start_time": "2022-01-25T10:53:28.111Z"
   },
   {
    "duration": 496,
    "start_time": "2022-01-25T10:53:28.121Z"
   },
   {
    "duration": 266,
    "start_time": "2022-01-25T10:53:28.621Z"
   },
   {
    "duration": 547,
    "start_time": "2022-01-25T10:53:28.890Z"
   },
   {
    "duration": 34,
    "start_time": "2022-01-25T10:53:29.439Z"
   },
   {
    "duration": 757,
    "start_time": "2022-01-25T10:53:29.475Z"
   },
   {
    "duration": 300,
    "start_time": "2022-01-25T10:53:30.234Z"
   },
   {
    "duration": 11,
    "start_time": "2022-01-25T10:53:30.536Z"
   },
   {
    "duration": 369,
    "start_time": "2022-01-25T10:53:30.548Z"
   },
   {
    "duration": 345,
    "start_time": "2022-01-25T10:53:30.918Z"
   },
   {
    "duration": 13,
    "start_time": "2022-01-25T10:53:31.265Z"
   },
   {
    "duration": 267,
    "start_time": "2022-01-25T10:53:31.280Z"
   },
   {
    "duration": 11,
    "start_time": "2022-01-25T10:53:31.549Z"
   },
   {
    "duration": 68,
    "start_time": "2022-01-25T10:53:31.562Z"
   },
   {
    "duration": 38,
    "start_time": "2022-01-25T10:53:31.632Z"
   },
   {
    "duration": 35,
    "start_time": "2022-01-25T10:53:31.672Z"
   },
   {
    "duration": 3,
    "start_time": "2022-01-25T10:57:02.162Z"
   },
   {
    "duration": 35,
    "start_time": "2022-01-25T10:57:03.958Z"
   },
   {
    "duration": 4,
    "start_time": "2022-01-25T11:00:51.780Z"
   },
   {
    "duration": 32,
    "start_time": "2022-01-25T11:00:53.724Z"
   },
   {
    "duration": 34,
    "start_time": "2022-01-25T11:00:54.703Z"
   },
   {
    "duration": 39,
    "start_time": "2022-01-25T11:01:02.783Z"
   },
   {
    "duration": 33,
    "start_time": "2022-01-25T11:29:42.525Z"
   },
   {
    "duration": 518,
    "start_time": "2022-01-25T11:33:24.308Z"
   },
   {
    "duration": 34,
    "start_time": "2022-01-25T11:33:36.988Z"
   },
   {
    "duration": 71,
    "start_time": "2022-01-25T11:40:50.142Z"
   },
   {
    "duration": 77,
    "start_time": "2022-01-25T11:40:51.396Z"
   },
   {
    "duration": 210,
    "start_time": "2022-01-25T11:41:36.366Z"
   },
   {
    "duration": 828,
    "start_time": "2022-01-25T11:41:57.764Z"
   },
   {
    "duration": 311,
    "start_time": "2022-01-25T11:42:00.451Z"
   },
   {
    "duration": 212,
    "start_time": "2022-01-25T11:42:17.738Z"
   },
   {
    "duration": 310,
    "start_time": "2022-01-25T11:42:19.601Z"
   },
   {
    "duration": 71,
    "start_time": "2022-01-25T11:42:46.371Z"
   },
   {
    "duration": 66,
    "start_time": "2022-01-25T11:42:47.585Z"
   },
   {
    "duration": 71,
    "start_time": "2022-01-25T11:42:55.353Z"
   },
   {
    "duration": 67,
    "start_time": "2022-01-25T11:42:56.402Z"
   },
   {
    "duration": 76,
    "start_time": "2022-01-25T11:44:11.492Z"
   },
   {
    "duration": 65,
    "start_time": "2022-01-25T11:44:12.439Z"
   },
   {
    "duration": 73,
    "start_time": "2022-01-25T11:44:18.174Z"
   },
   {
    "duration": 68,
    "start_time": "2022-01-25T11:44:18.774Z"
   },
   {
    "duration": 71,
    "start_time": "2022-01-25T11:44:18.968Z"
   },
   {
    "duration": 74,
    "start_time": "2022-01-25T11:44:20.087Z"
   },
   {
    "duration": 76,
    "start_time": "2022-01-25T11:44:20.982Z"
   },
   {
    "duration": 68,
    "start_time": "2022-01-25T11:44:21.223Z"
   },
   {
    "duration": 828,
    "start_time": "2022-01-25T11:44:21.130Z"
   },
   {
    "duration": 69,
    "start_time": "2022-01-25T11:44:22.501Z"
   },
   {
    "duration": 94,
    "start_time": "2022-01-25T11:44:27.097Z"
   },
   {
    "duration": 71,
    "start_time": "2022-01-25T11:44:28.802Z"
   },
   {
    "duration": 67,
    "start_time": "2022-01-25T11:44:29.248Z"
   },
   {
    "duration": 64,
    "start_time": "2022-01-25T11:44:37.295Z"
   },
   {
    "duration": 69,
    "start_time": "2022-01-25T11:44:38.083Z"
   },
   {
    "duration": 1187,
    "start_time": "2022-01-25T11:44:45.448Z"
   },
   {
    "duration": 43,
    "start_time": "2022-01-25T11:44:46.637Z"
   },
   {
    "duration": 19,
    "start_time": "2022-01-25T11:44:46.683Z"
   },
   {
    "duration": 27,
    "start_time": "2022-01-25T11:44:46.705Z"
   },
   {
    "duration": 40,
    "start_time": "2022-01-25T11:44:46.734Z"
   },
   {
    "duration": 20,
    "start_time": "2022-01-25T11:44:46.776Z"
   },
   {
    "duration": 37,
    "start_time": "2022-01-25T11:44:46.797Z"
   },
   {
    "duration": 24,
    "start_time": "2022-01-25T11:44:46.837Z"
   },
   {
    "duration": 17,
    "start_time": "2022-01-25T11:44:46.864Z"
   },
   {
    "duration": 34,
    "start_time": "2022-01-25T11:44:46.884Z"
   },
   {
    "duration": 13,
    "start_time": "2022-01-25T11:44:46.920Z"
   },
   {
    "duration": 19,
    "start_time": "2022-01-25T11:44:46.935Z"
   },
   {
    "duration": 24,
    "start_time": "2022-01-25T11:44:46.956Z"
   },
   {
    "duration": 19,
    "start_time": "2022-01-25T11:44:46.982Z"
   },
   {
    "duration": 19,
    "start_time": "2022-01-25T11:44:47.003Z"
   },
   {
    "duration": 13,
    "start_time": "2022-01-25T11:44:47.024Z"
   },
   {
    "duration": 32,
    "start_time": "2022-01-25T11:44:47.039Z"
   },
   {
    "duration": 252,
    "start_time": "2022-01-25T11:44:47.073Z"
   },
   {
    "duration": 339,
    "start_time": "2022-01-25T11:44:47.326Z"
   },
   {
    "duration": 760,
    "start_time": "2022-01-25T11:44:47.667Z"
   },
   {
    "duration": 7,
    "start_time": "2022-01-25T11:44:48.429Z"
   },
   {
    "duration": 487,
    "start_time": "2022-01-25T11:44:48.438Z"
   },
   {
    "duration": 265,
    "start_time": "2022-01-25T11:44:48.928Z"
   },
   {
    "duration": 553,
    "start_time": "2022-01-25T11:44:49.195Z"
   },
   {
    "duration": 29,
    "start_time": "2022-01-25T11:44:49.750Z"
   },
   {
    "duration": 756,
    "start_time": "2022-01-25T11:44:49.781Z"
   },
   {
    "duration": 297,
    "start_time": "2022-01-25T11:44:50.539Z"
   },
   {
    "duration": 24,
    "start_time": "2022-01-25T11:44:50.838Z"
   },
   {
    "duration": 347,
    "start_time": "2022-01-25T11:44:50.863Z"
   },
   {
    "duration": 320,
    "start_time": "2022-01-25T11:44:51.212Z"
   },
   {
    "duration": 11,
    "start_time": "2022-01-25T11:44:51.534Z"
   },
   {
    "duration": 270,
    "start_time": "2022-01-25T11:44:51.547Z"
   },
   {
    "duration": 793,
    "start_time": "2022-01-25T11:44:51.026Z"
   },
   {
    "duration": 765,
    "start_time": "2022-01-25T11:44:51.054Z"
   },
   {
    "duration": 742,
    "start_time": "2022-01-25T11:44:51.078Z"
   },
   {
    "duration": 696,
    "start_time": "2022-01-25T11:44:51.125Z"
   },
   {
    "duration": 284,
    "start_time": "2022-01-25T11:45:02.233Z"
   },
   {
    "duration": 4,
    "start_time": "2022-01-25T11:45:39.439Z"
   },
   {
    "duration": 31,
    "start_time": "2022-01-25T11:45:41.227Z"
   },
   {
    "duration": 30,
    "start_time": "2022-01-25T11:45:47.212Z"
   },
   {
    "duration": 32,
    "start_time": "2022-01-25T11:45:52.761Z"
   },
   {
    "duration": 66,
    "start_time": "2022-01-25T11:46:11.967Z"
   },
   {
    "duration": 70,
    "start_time": "2022-01-25T11:46:12.868Z"
   },
   {
    "duration": 72,
    "start_time": "2022-01-25T11:46:13.947Z"
   },
   {
    "duration": 66,
    "start_time": "2022-01-25T11:46:23.886Z"
   },
   {
    "duration": 72,
    "start_time": "2022-01-25T11:46:24.887Z"
   },
   {
    "duration": 88,
    "start_time": "2022-01-25T11:46:41.391Z"
   },
   {
    "duration": 799,
    "start_time": "2022-01-25T11:47:49.797Z"
   },
   {
    "duration": 795,
    "start_time": "2022-01-25T11:47:58.644Z"
   },
   {
    "duration": 804,
    "start_time": "2022-01-25T11:48:05.045Z"
   },
   {
    "duration": 454,
    "start_time": "2022-01-25T11:48:55.721Z"
   },
   {
    "duration": 288,
    "start_time": "2022-01-25T11:50:20.222Z"
   },
   {
    "duration": 248,
    "start_time": "2022-01-25T11:50:30.994Z"
   },
   {
    "duration": 342,
    "start_time": "2022-01-25T11:52:05.467Z"
   },
   {
    "duration": 952,
    "start_time": "2022-01-25T12:00:43.069Z"
   },
   {
    "duration": 676,
    "start_time": "2022-01-25T12:02:41.758Z"
   },
   {
    "duration": 951,
    "start_time": "2022-01-25T12:02:59.370Z"
   },
   {
    "duration": 1289,
    "start_time": "2022-01-25T12:19:00.151Z"
   },
   {
    "duration": 41,
    "start_time": "2022-01-25T12:19:01.442Z"
   },
   {
    "duration": 30,
    "start_time": "2022-01-25T12:19:01.486Z"
   },
   {
    "duration": 93,
    "start_time": "2022-01-25T12:19:01.518Z"
   },
   {
    "duration": 87,
    "start_time": "2022-01-25T12:19:01.614Z"
   },
   {
    "duration": 6,
    "start_time": "2022-01-25T12:19:01.703Z"
   },
   {
    "duration": 17,
    "start_time": "2022-01-25T12:19:01.710Z"
   },
   {
    "duration": 32,
    "start_time": "2022-01-25T12:19:01.730Z"
   },
   {
    "duration": 46,
    "start_time": "2022-01-25T12:19:01.765Z"
   },
   {
    "duration": 20,
    "start_time": "2022-01-25T12:19:01.813Z"
   },
   {
    "duration": 10,
    "start_time": "2022-01-25T12:19:01.835Z"
   },
   {
    "duration": 28,
    "start_time": "2022-01-25T12:19:01.847Z"
   },
   {
    "duration": 21,
    "start_time": "2022-01-25T12:19:01.877Z"
   },
   {
    "duration": 24,
    "start_time": "2022-01-25T12:19:01.900Z"
   },
   {
    "duration": 24,
    "start_time": "2022-01-25T12:19:01.926Z"
   },
   {
    "duration": 23,
    "start_time": "2022-01-25T12:19:01.952Z"
   },
   {
    "duration": 26,
    "start_time": "2022-01-25T12:19:01.977Z"
   },
   {
    "duration": 261,
    "start_time": "2022-01-25T12:19:02.005Z"
   },
   {
    "duration": 364,
    "start_time": "2022-01-25T12:19:02.267Z"
   },
   {
    "duration": 814,
    "start_time": "2022-01-25T12:19:02.632Z"
   },
   {
    "duration": 14,
    "start_time": "2022-01-25T12:19:03.448Z"
   },
   {
    "duration": 632,
    "start_time": "2022-01-25T12:19:03.465Z"
   },
   {
    "duration": 284,
    "start_time": "2022-01-25T12:19:04.100Z"
   },
   {
    "duration": 571,
    "start_time": "2022-01-25T12:19:04.387Z"
   },
   {
    "duration": 21,
    "start_time": "2022-01-25T12:19:04.960Z"
   },
   {
    "duration": 761,
    "start_time": "2022-01-25T12:19:04.983Z"
   },
   {
    "duration": 296,
    "start_time": "2022-01-25T12:19:05.746Z"
   },
   {
    "duration": 24,
    "start_time": "2022-01-25T12:19:06.045Z"
   },
   {
    "duration": 320,
    "start_time": "2022-01-25T12:19:06.071Z"
   },
   {
    "duration": 295,
    "start_time": "2022-01-25T12:19:06.393Z"
   },
   {
    "duration": 13,
    "start_time": "2022-01-25T12:19:06.690Z"
   },
   {
    "duration": 261,
    "start_time": "2022-01-25T12:19:06.704Z"
   },
   {
    "duration": 3,
    "start_time": "2022-01-25T12:19:06.967Z"
   },
   {
    "duration": 40,
    "start_time": "2022-01-25T12:19:06.972Z"
   },
   {
    "duration": 60,
    "start_time": "2022-01-25T12:19:07.014Z"
   },
   {
    "duration": 33,
    "start_time": "2022-01-25T12:19:07.076Z"
   },
   {
    "duration": 333,
    "start_time": "2022-01-25T12:19:07.111Z"
   },
   {
    "duration": 797,
    "start_time": "2022-01-25T12:19:06.649Z"
   },
   {
    "duration": 793,
    "start_time": "2022-01-25T12:19:06.654Z"
   },
   {
    "duration": 789,
    "start_time": "2022-01-25T12:19:06.659Z"
   },
   {
    "duration": 785,
    "start_time": "2022-01-25T12:19:06.664Z"
   },
   {
    "duration": 781,
    "start_time": "2022-01-25T12:19:06.669Z"
   },
   {
    "duration": 251,
    "start_time": "2022-01-25T12:21:58.191Z"
   },
   {
    "duration": 220,
    "start_time": "2022-01-25T12:30:31.514Z"
   },
   {
    "duration": 1173,
    "start_time": "2022-01-25T12:31:35.064Z"
   },
   {
    "duration": 38,
    "start_time": "2022-01-25T12:31:36.246Z"
   },
   {
    "duration": 20,
    "start_time": "2022-01-25T12:31:36.286Z"
   },
   {
    "duration": 32,
    "start_time": "2022-01-25T12:31:36.308Z"
   },
   {
    "duration": 46,
    "start_time": "2022-01-25T12:31:36.342Z"
   },
   {
    "duration": 16,
    "start_time": "2022-01-25T12:31:36.390Z"
   },
   {
    "duration": 23,
    "start_time": "2022-01-25T12:31:36.408Z"
   },
   {
    "duration": 18,
    "start_time": "2022-01-25T12:31:36.434Z"
   },
   {
    "duration": 34,
    "start_time": "2022-01-25T12:31:36.454Z"
   },
   {
    "duration": 43,
    "start_time": "2022-01-25T12:31:36.489Z"
   },
   {
    "duration": 27,
    "start_time": "2022-01-25T12:31:36.534Z"
   },
   {
    "duration": 53,
    "start_time": "2022-01-25T12:31:36.562Z"
   },
   {
    "duration": 42,
    "start_time": "2022-01-25T12:31:36.617Z"
   },
   {
    "duration": 57,
    "start_time": "2022-01-25T12:31:36.661Z"
   },
   {
    "duration": 34,
    "start_time": "2022-01-25T12:31:36.720Z"
   },
   {
    "duration": 69,
    "start_time": "2022-01-25T12:31:36.756Z"
   },
   {
    "duration": 39,
    "start_time": "2022-01-25T12:31:36.827Z"
   },
   {
    "duration": 275,
    "start_time": "2022-01-25T12:31:36.868Z"
   },
   {
    "duration": 343,
    "start_time": "2022-01-25T12:31:37.145Z"
   },
   {
    "duration": 759,
    "start_time": "2022-01-25T12:31:37.490Z"
   },
   {
    "duration": 14,
    "start_time": "2022-01-25T12:31:38.251Z"
   },
   {
    "duration": 556,
    "start_time": "2022-01-25T12:31:38.267Z"
   },
   {
    "duration": 275,
    "start_time": "2022-01-25T12:31:38.828Z"
   },
   {
    "duration": 539,
    "start_time": "2022-01-25T12:31:39.105Z"
   },
   {
    "duration": 26,
    "start_time": "2022-01-25T12:31:39.646Z"
   },
   {
    "duration": 776,
    "start_time": "2022-01-25T12:31:39.674Z"
   },
   {
    "duration": 290,
    "start_time": "2022-01-25T12:31:40.452Z"
   },
   {
    "duration": 20,
    "start_time": "2022-01-25T12:31:40.744Z"
   },
   {
    "duration": 361,
    "start_time": "2022-01-25T12:31:40.766Z"
   },
   {
    "duration": 362,
    "start_time": "2022-01-25T12:31:41.129Z"
   },
   {
    "duration": 12,
    "start_time": "2022-01-25T12:31:41.494Z"
   },
   {
    "duration": 304,
    "start_time": "2022-01-25T12:31:41.508Z"
   },
   {
    "duration": 3,
    "start_time": "2022-01-25T12:31:41.814Z"
   },
   {
    "duration": 81,
    "start_time": "2022-01-25T12:31:41.819Z"
   },
   {
    "duration": 49,
    "start_time": "2022-01-25T12:31:41.901Z"
   },
   {
    "duration": 81,
    "start_time": "2022-01-25T12:31:41.952Z"
   },
   {
    "duration": 59,
    "start_time": "2022-01-25T12:31:42.035Z"
   },
   {
    "duration": 304,
    "start_time": "2022-01-25T12:31:42.096Z"
   },
   {
    "duration": 295,
    "start_time": "2022-01-25T12:31:42.402Z"
   },
   {
    "duration": 649,
    "start_time": "2022-01-25T12:31:42.050Z"
   },
   {
    "duration": 640,
    "start_time": "2022-01-25T12:31:42.060Z"
   },
   {
    "duration": 634,
    "start_time": "2022-01-25T12:31:42.067Z"
   },
   {
    "duration": 10,
    "start_time": "2022-01-25T12:33:25.272Z"
   },
   {
    "duration": 5,
    "start_time": "2022-01-25T12:33:34.266Z"
   },
   {
    "duration": 5,
    "start_time": "2022-01-25T12:33:35.567Z"
   },
   {
    "duration": 175,
    "start_time": "2022-01-25T16:44:13.862Z"
   },
   {
    "duration": 342,
    "start_time": "2022-01-25T16:44:16.054Z"
   },
   {
    "duration": 1561,
    "start_time": "2022-01-25T16:44:27.889Z"
   },
   {
    "duration": 60,
    "start_time": "2022-01-25T16:44:29.453Z"
   },
   {
    "duration": 36,
    "start_time": "2022-01-25T16:44:29.516Z"
   },
   {
    "duration": 21,
    "start_time": "2022-01-25T16:44:29.570Z"
   },
   {
    "duration": 23,
    "start_time": "2022-01-25T16:44:29.593Z"
   },
   {
    "duration": 6,
    "start_time": "2022-01-25T16:44:29.619Z"
   },
   {
    "duration": 5,
    "start_time": "2022-01-25T16:44:29.627Z"
   },
   {
    "duration": 6,
    "start_time": "2022-01-25T16:44:29.672Z"
   },
   {
    "duration": 7,
    "start_time": "2022-01-25T16:44:29.681Z"
   },
   {
    "duration": 24,
    "start_time": "2022-01-25T16:44:29.691Z"
   },
   {
    "duration": 59,
    "start_time": "2022-01-25T16:44:29.718Z"
   },
   {
    "duration": 37,
    "start_time": "2022-01-25T16:44:29.780Z"
   },
   {
    "duration": 49,
    "start_time": "2022-01-25T16:44:29.820Z"
   },
   {
    "duration": 24,
    "start_time": "2022-01-25T16:44:29.872Z"
   },
   {
    "duration": 10,
    "start_time": "2022-01-25T16:44:29.898Z"
   },
   {
    "duration": 20,
    "start_time": "2022-01-25T16:44:29.910Z"
   },
   {
    "duration": 62,
    "start_time": "2022-01-25T16:44:29.932Z"
   },
   {
    "duration": 488,
    "start_time": "2022-01-25T16:44:29.997Z"
   },
   {
    "duration": 603,
    "start_time": "2022-01-25T16:44:30.488Z"
   },
   {
    "duration": 1351,
    "start_time": "2022-01-25T16:44:31.093Z"
   },
   {
    "duration": 22,
    "start_time": "2022-01-25T16:44:32.447Z"
   },
   {
    "duration": 898,
    "start_time": "2022-01-25T16:44:32.471Z"
   },
   {
    "duration": 646,
    "start_time": "2022-01-25T16:44:33.376Z"
   },
   {
    "duration": 791,
    "start_time": "2022-01-25T16:44:34.025Z"
   },
   {
    "duration": 50,
    "start_time": "2022-01-25T16:44:34.819Z"
   },
   {
    "duration": 1909,
    "start_time": "2022-01-25T16:44:34.872Z"
   },
   {
    "duration": 479,
    "start_time": "2022-01-25T16:44:36.784Z"
   },
   {
    "duration": 16,
    "start_time": "2022-01-25T16:44:37.265Z"
   },
   {
    "duration": 565,
    "start_time": "2022-01-25T16:44:37.284Z"
   },
   {
    "duration": 579,
    "start_time": "2022-01-25T16:44:37.852Z"
   },
   {
    "duration": 17,
    "start_time": "2022-01-25T16:44:38.434Z"
   },
   {
    "duration": 470,
    "start_time": "2022-01-25T16:44:38.470Z"
   },
   {
    "duration": 4,
    "start_time": "2022-01-25T16:44:38.942Z"
   },
   {
    "duration": 67,
    "start_time": "2022-01-25T16:44:38.949Z"
   },
   {
    "duration": 71,
    "start_time": "2022-01-25T16:44:39.019Z"
   },
   {
    "duration": 79,
    "start_time": "2022-01-25T16:44:39.092Z"
   },
   {
    "duration": 12,
    "start_time": "2022-01-25T16:44:39.174Z"
   },
   {
    "duration": 461,
    "start_time": "2022-01-25T16:44:39.188Z"
   },
   {
    "duration": 23,
    "start_time": "2022-01-25T16:44:39.651Z"
   },
   {
    "duration": 6,
    "start_time": "2022-01-25T16:44:39.677Z"
   },
   {
    "duration": 8,
    "start_time": "2022-01-25T16:44:39.685Z"
   },
   {
    "duration": 109,
    "start_time": "2022-01-25T16:44:39.695Z"
   },
   {
    "duration": 14,
    "start_time": "2022-01-25T16:45:04.845Z"
   },
   {
    "duration": 14,
    "start_time": "2022-01-25T16:45:05.877Z"
   },
   {
    "duration": 18,
    "start_time": "2022-01-25T16:45:06.580Z"
   },
   {
    "duration": 19,
    "start_time": "2022-01-25T16:45:07.182Z"
   },
   {
    "duration": 18,
    "start_time": "2022-01-25T16:45:07.876Z"
   },
   {
    "duration": 15,
    "start_time": "2022-01-25T16:45:08.615Z"
   },
   {
    "duration": 29,
    "start_time": "2022-01-25T16:49:27.118Z"
   },
   {
    "duration": 30,
    "start_time": "2022-01-25T16:49:28.680Z"
   },
   {
    "duration": 20,
    "start_time": "2022-01-25T16:50:16.079Z"
   },
   {
    "duration": 17,
    "start_time": "2022-01-25T16:50:16.808Z"
   },
   {
    "duration": 17,
    "start_time": "2022-01-25T16:50:17.355Z"
   },
   {
    "duration": 17,
    "start_time": "2022-01-25T16:50:18.094Z"
   },
   {
    "duration": 19,
    "start_time": "2022-01-25T16:50:22.116Z"
   },
   {
    "duration": 23,
    "start_time": "2022-01-25T16:50:22.986Z"
   },
   {
    "duration": 24,
    "start_time": "2022-01-25T16:50:23.586Z"
   },
   {
    "duration": 19,
    "start_time": "2022-01-25T16:50:24.414Z"
   },
   {
    "duration": 8,
    "start_time": "2022-01-25T16:55:57.283Z"
   },
   {
    "duration": 5,
    "start_time": "2022-01-25T16:55:58.510Z"
   },
   {
    "duration": 18,
    "start_time": "2022-01-25T17:00:33.541Z"
   },
   {
    "duration": 21,
    "start_time": "2022-01-25T17:00:34.358Z"
   },
   {
    "duration": 16,
    "start_time": "2022-01-25T17:02:06.183Z"
   },
   {
    "duration": 15,
    "start_time": "2022-01-25T17:02:46.407Z"
   },
   {
    "duration": 15,
    "start_time": "2022-01-25T17:05:57.036Z"
   },
   {
    "duration": 478,
    "start_time": "2022-01-25T17:07:00.705Z"
   },
   {
    "duration": 17,
    "start_time": "2022-01-25T17:07:13.771Z"
   },
   {
    "duration": 17,
    "start_time": "2022-01-25T17:07:16.449Z"
   },
   {
    "duration": 16,
    "start_time": "2022-01-25T17:07:42.077Z"
   },
   {
    "duration": 17,
    "start_time": "2022-01-25T17:07:44.327Z"
   },
   {
    "duration": 17,
    "start_time": "2022-01-25T17:07:49.978Z"
   },
   {
    "duration": 20,
    "start_time": "2022-01-25T17:07:50.964Z"
   },
   {
    "duration": 17,
    "start_time": "2022-01-25T17:08:06.696Z"
   },
   {
    "duration": 17,
    "start_time": "2022-01-25T17:08:07.506Z"
   },
   {
    "duration": 324,
    "start_time": "2022-01-25T17:08:50.449Z"
   },
   {
    "duration": 19,
    "start_time": "2022-01-25T17:08:58.698Z"
   },
   {
    "duration": 18,
    "start_time": "2022-01-25T17:09:26.703Z"
   },
   {
    "duration": 17,
    "start_time": "2022-01-25T17:09:44.602Z"
   },
   {
    "duration": 17,
    "start_time": "2022-01-25T17:09:45.683Z"
   },
   {
    "duration": 18,
    "start_time": "2022-01-25T17:09:46.546Z"
   },
   {
    "duration": 16,
    "start_time": "2022-01-25T17:10:29.205Z"
   },
   {
    "duration": 17,
    "start_time": "2022-01-25T17:10:30.222Z"
   },
   {
    "duration": 16,
    "start_time": "2022-01-25T17:10:30.833Z"
   },
   {
    "duration": 18,
    "start_time": "2022-01-25T17:10:41.048Z"
   },
   {
    "duration": 17,
    "start_time": "2022-01-25T17:10:51.643Z"
   },
   {
    "duration": 15,
    "start_time": "2022-01-25T17:10:59.782Z"
   },
   {
    "duration": 156,
    "start_time": "2022-01-25T17:12:14.551Z"
   },
   {
    "duration": 18,
    "start_time": "2022-01-25T17:12:30.181Z"
   },
   {
    "duration": 18,
    "start_time": "2022-01-25T17:13:11.619Z"
   },
   {
    "duration": 20,
    "start_time": "2022-01-25T17:13:16.342Z"
   },
   {
    "duration": 17,
    "start_time": "2022-01-25T17:15:19.787Z"
   },
   {
    "duration": 23,
    "start_time": "2022-01-25T17:15:19.848Z"
   },
   {
    "duration": 318,
    "start_time": "2022-01-25T17:16:51.153Z"
   },
   {
    "duration": 373,
    "start_time": "2022-01-25T17:16:51.648Z"
   },
   {
    "duration": 416,
    "start_time": "2022-01-25T17:16:52.396Z"
   },
   {
    "duration": 31,
    "start_time": "2022-01-25T17:17:02.178Z"
   },
   {
    "duration": 31,
    "start_time": "2022-01-25T17:17:03.360Z"
   },
   {
    "duration": 1278,
    "start_time": "2022-01-25T17:17:54.350Z"
   },
   {
    "duration": 18,
    "start_time": "2022-01-25T17:25:15.978Z"
   },
   {
    "duration": 17,
    "start_time": "2022-01-25T17:26:05.749Z"
   },
   {
    "duration": 19,
    "start_time": "2022-01-25T17:26:06.507Z"
   },
   {
    "duration": 17,
    "start_time": "2022-01-25T17:26:07.179Z"
   },
   {
    "duration": 16,
    "start_time": "2022-01-25T17:26:08.215Z"
   },
   {
    "duration": 174,
    "start_time": "2022-01-25T17:27:28.776Z"
   },
   {
    "duration": 199,
    "start_time": "2022-01-25T17:27:36.980Z"
   },
   {
    "duration": 100,
    "start_time": "2022-01-25T17:27:38.121Z"
   },
   {
    "duration": 12,
    "start_time": "2022-01-25T17:28:56.849Z"
   },
   {
    "duration": 11,
    "start_time": "2022-01-25T17:28:58.275Z"
   },
   {
    "duration": 10,
    "start_time": "2022-01-25T17:29:09.508Z"
   },
   {
    "duration": 14,
    "start_time": "2022-01-25T17:29:52.198Z"
   },
   {
    "duration": 1556,
    "start_time": "2022-01-25T17:30:14.523Z"
   },
   {
    "duration": 51,
    "start_time": "2022-01-25T17:30:16.082Z"
   },
   {
    "duration": 35,
    "start_time": "2022-01-25T17:30:16.136Z"
   },
   {
    "duration": 20,
    "start_time": "2022-01-25T17:30:16.174Z"
   },
   {
    "duration": 25,
    "start_time": "2022-01-25T17:30:16.197Z"
   },
   {
    "duration": 46,
    "start_time": "2022-01-25T17:30:16.225Z"
   },
   {
    "duration": 8,
    "start_time": "2022-01-25T17:30:16.274Z"
   },
   {
    "duration": 8,
    "start_time": "2022-01-25T17:30:16.287Z"
   },
   {
    "duration": 7,
    "start_time": "2022-01-25T17:30:16.299Z"
   },
   {
    "duration": 25,
    "start_time": "2022-01-25T17:30:16.308Z"
   },
   {
    "duration": 47,
    "start_time": "2022-01-25T17:30:16.335Z"
   },
   {
    "duration": 31,
    "start_time": "2022-01-25T17:30:16.385Z"
   },
   {
    "duration": 50,
    "start_time": "2022-01-25T17:30:16.419Z"
   },
   {
    "duration": 22,
    "start_time": "2022-01-25T17:30:16.472Z"
   },
   {
    "duration": 10,
    "start_time": "2022-01-25T17:30:16.496Z"
   },
   {
    "duration": 20,
    "start_time": "2022-01-25T17:30:16.509Z"
   },
   {
    "duration": 60,
    "start_time": "2022-01-25T17:30:16.531Z"
   },
   {
    "duration": 399,
    "start_time": "2022-01-25T17:30:16.594Z"
   },
   {
    "duration": 564,
    "start_time": "2022-01-25T17:30:16.995Z"
   },
   {
    "duration": 1157,
    "start_time": "2022-01-25T17:30:17.561Z"
   },
   {
    "duration": 11,
    "start_time": "2022-01-25T17:30:18.720Z"
   },
   {
    "duration": 738,
    "start_time": "2022-01-25T17:30:18.733Z"
   },
   {
    "duration": 442,
    "start_time": "2022-01-25T17:30:19.477Z"
   },
   {
    "duration": 1139,
    "start_time": "2022-01-25T17:30:19.921Z"
   },
   {
    "duration": 49,
    "start_time": "2022-01-25T17:30:21.070Z"
   },
   {
    "duration": 1997,
    "start_time": "2022-01-25T17:30:21.122Z"
   },
   {
    "duration": 489,
    "start_time": "2022-01-25T17:30:23.122Z"
   },
   {
    "duration": 16,
    "start_time": "2022-01-25T17:30:23.614Z"
   },
   {
    "duration": 485,
    "start_time": "2022-01-25T17:30:23.632Z"
   },
   {
    "duration": 473,
    "start_time": "2022-01-25T17:30:24.119Z"
   },
   {
    "duration": 15,
    "start_time": "2022-01-25T17:30:24.594Z"
   },
   {
    "duration": 452,
    "start_time": "2022-01-25T17:30:24.612Z"
   },
   {
    "duration": 5,
    "start_time": "2022-01-25T17:30:25.067Z"
   },
   {
    "duration": 56,
    "start_time": "2022-01-25T17:30:25.075Z"
   },
   {
    "duration": 82,
    "start_time": "2022-01-25T17:30:25.133Z"
   },
   {
    "duration": 81,
    "start_time": "2022-01-25T17:30:25.218Z"
   },
   {
    "duration": 471,
    "start_time": "2022-01-25T17:30:25.301Z"
   },
   {
    "duration": 159,
    "start_time": "2022-01-25T17:30:25.615Z"
   },
   {
    "duration": 154,
    "start_time": "2022-01-25T17:30:25.622Z"
   },
   {
    "duration": 150,
    "start_time": "2022-01-25T17:30:25.627Z"
   },
   {
    "duration": 146,
    "start_time": "2022-01-25T17:30:25.633Z"
   },
   {
    "duration": 145,
    "start_time": "2022-01-25T17:30:25.636Z"
   },
   {
    "duration": 143,
    "start_time": "2022-01-25T17:30:25.639Z"
   },
   {
    "duration": 348,
    "start_time": "2022-01-25T17:30:40.563Z"
   },
   {
    "duration": 301,
    "start_time": "2022-01-25T17:30:46.416Z"
   },
   {
    "duration": 11,
    "start_time": "2022-01-25T17:31:37.523Z"
   },
   {
    "duration": 11,
    "start_time": "2022-01-25T17:31:38.739Z"
   },
   {
    "duration": 12,
    "start_time": "2022-01-25T17:31:40.454Z"
   },
   {
    "duration": 12,
    "start_time": "2022-01-25T17:31:41.523Z"
   },
   {
    "duration": 11,
    "start_time": "2022-01-25T17:31:46.984Z"
   },
   {
    "duration": 11,
    "start_time": "2022-01-25T17:31:47.681Z"
   },
   {
    "duration": 16,
    "start_time": "2022-01-25T17:32:38.601Z"
   },
   {
    "duration": 20,
    "start_time": "2022-01-25T17:32:39.916Z"
   },
   {
    "duration": 8,
    "start_time": "2022-01-25T17:35:11.639Z"
   },
   {
    "duration": 382,
    "start_time": "2022-01-25T17:35:14.161Z"
   },
   {
    "duration": 249,
    "start_time": "2022-01-25T17:35:17.049Z"
   },
   {
    "duration": 8,
    "start_time": "2022-01-25T17:35:40.434Z"
   },
   {
    "duration": 14,
    "start_time": "2022-01-25T17:36:40.248Z"
   },
   {
    "duration": 13,
    "start_time": "2022-01-25T17:36:41.092Z"
   },
   {
    "duration": 13,
    "start_time": "2022-01-25T17:36:41.907Z"
   },
   {
    "duration": 13,
    "start_time": "2022-01-25T17:36:47.520Z"
   },
   {
    "duration": 13,
    "start_time": "2022-01-25T17:37:24.160Z"
   },
   {
    "duration": 132,
    "start_time": "2022-01-25T17:41:18.166Z"
   },
   {
    "duration": 124,
    "start_time": "2022-01-25T17:41:18.175Z"
   },
   {
    "duration": 121,
    "start_time": "2022-01-25T17:41:18.179Z"
   },
   {
    "duration": 120,
    "start_time": "2022-01-25T17:41:18.181Z"
   },
   {
    "duration": 117,
    "start_time": "2022-01-25T17:41:18.185Z"
   },
   {
    "duration": 116,
    "start_time": "2022-01-25T17:41:18.188Z"
   },
   {
    "duration": 114,
    "start_time": "2022-01-25T17:41:18.191Z"
   },
   {
    "duration": 113,
    "start_time": "2022-01-25T17:41:18.193Z"
   },
   {
    "duration": 136,
    "start_time": "2022-01-25T17:41:18.239Z"
   },
   {
    "duration": 133,
    "start_time": "2022-01-25T17:41:18.243Z"
   },
   {
    "duration": 131,
    "start_time": "2022-01-25T17:41:18.247Z"
   },
   {
    "duration": 129,
    "start_time": "2022-01-25T17:41:18.251Z"
   },
   {
    "duration": 128,
    "start_time": "2022-01-25T17:41:18.253Z"
   },
   {
    "duration": 119,
    "start_time": "2022-01-25T17:41:18.264Z"
   },
   {
    "duration": 118,
    "start_time": "2022-01-25T17:41:18.267Z"
   },
   {
    "duration": 116,
    "start_time": "2022-01-25T17:41:18.270Z"
   },
   {
    "duration": 115,
    "start_time": "2022-01-25T17:41:18.273Z"
   },
   {
    "duration": 114,
    "start_time": "2022-01-25T17:41:18.276Z"
   },
   {
    "duration": 113,
    "start_time": "2022-01-25T17:41:18.279Z"
   },
   {
    "duration": 111,
    "start_time": "2022-01-25T17:41:18.282Z"
   },
   {
    "duration": 110,
    "start_time": "2022-01-25T17:41:18.285Z"
   },
   {
    "duration": 109,
    "start_time": "2022-01-25T17:41:18.288Z"
   },
   {
    "duration": 107,
    "start_time": "2022-01-25T17:41:18.291Z"
   },
   {
    "duration": 93,
    "start_time": "2022-01-25T17:41:18.307Z"
   },
   {
    "duration": 93,
    "start_time": "2022-01-25T17:41:18.309Z"
   },
   {
    "duration": 91,
    "start_time": "2022-01-25T17:41:18.312Z"
   },
   {
    "duration": 88,
    "start_time": "2022-01-25T17:41:18.317Z"
   },
   {
    "duration": 86,
    "start_time": "2022-01-25T17:41:18.320Z"
   },
   {
    "duration": 85,
    "start_time": "2022-01-25T17:41:18.322Z"
   },
   {
    "duration": 117,
    "start_time": "2022-01-25T17:41:18.352Z"
   },
   {
    "duration": 98,
    "start_time": "2022-01-25T17:41:18.372Z"
   },
   {
    "duration": 97,
    "start_time": "2022-01-25T17:41:18.375Z"
   },
   {
    "duration": 97,
    "start_time": "2022-01-25T17:41:18.377Z"
   },
   {
    "duration": 95,
    "start_time": "2022-01-25T17:41:18.381Z"
   },
   {
    "duration": 94,
    "start_time": "2022-01-25T17:41:18.384Z"
   },
   {
    "duration": 93,
    "start_time": "2022-01-25T17:41:18.387Z"
   },
   {
    "duration": 94,
    "start_time": "2022-01-25T17:41:18.390Z"
   },
   {
    "duration": 93,
    "start_time": "2022-01-25T17:41:18.393Z"
   },
   {
    "duration": 73,
    "start_time": "2022-01-25T17:41:18.416Z"
   },
   {
    "duration": 71,
    "start_time": "2022-01-25T17:41:18.420Z"
   },
   {
    "duration": 69,
    "start_time": "2022-01-25T17:41:18.424Z"
   },
   {
    "duration": 68,
    "start_time": "2022-01-25T17:41:18.427Z"
   },
   {
    "duration": 68,
    "start_time": "2022-01-25T17:41:18.429Z"
   },
   {
    "duration": 67,
    "start_time": "2022-01-25T17:41:18.432Z"
   },
   {
    "duration": 139,
    "start_time": "2022-01-25T17:41:18.435Z"
   },
   {
    "duration": 1586,
    "start_time": "2022-01-25T17:41:37.991Z"
   },
   {
    "duration": 53,
    "start_time": "2022-01-25T17:41:39.579Z"
   },
   {
    "duration": 26,
    "start_time": "2022-01-25T17:41:39.635Z"
   },
   {
    "duration": 15,
    "start_time": "2022-01-25T17:41:39.670Z"
   },
   {
    "duration": 26,
    "start_time": "2022-01-25T17:41:39.688Z"
   },
   {
    "duration": 8,
    "start_time": "2022-01-25T17:41:39.717Z"
   },
   {
    "duration": 3,
    "start_time": "2022-01-25T17:41:39.771Z"
   },
   {
    "duration": 10,
    "start_time": "2022-01-25T17:41:39.778Z"
   },
   {
    "duration": 7,
    "start_time": "2022-01-25T17:41:39.791Z"
   },
   {
    "duration": 22,
    "start_time": "2022-01-25T17:41:39.801Z"
   },
   {
    "duration": 54,
    "start_time": "2022-01-25T17:41:39.826Z"
   },
   {
    "duration": 32,
    "start_time": "2022-01-25T17:41:39.883Z"
   },
   {
    "duration": 61,
    "start_time": "2022-01-25T17:41:39.918Z"
   },
   {
    "duration": 23,
    "start_time": "2022-01-25T17:41:39.982Z"
   },
   {
    "duration": 16,
    "start_time": "2022-01-25T17:41:40.008Z"
   },
   {
    "duration": 47,
    "start_time": "2022-01-25T17:41:40.027Z"
   },
   {
    "duration": 37,
    "start_time": "2022-01-25T17:41:40.077Z"
   },
   {
    "duration": 411,
    "start_time": "2022-01-25T17:41:40.117Z"
   },
   {
    "duration": 559,
    "start_time": "2022-01-25T17:41:40.530Z"
   },
   {
    "duration": 1236,
    "start_time": "2022-01-25T17:41:41.091Z"
   },
   {
    "duration": 11,
    "start_time": "2022-01-25T17:41:42.330Z"
   },
   {
    "duration": 728,
    "start_time": "2022-01-25T17:41:42.344Z"
   },
   {
    "duration": 455,
    "start_time": "2022-01-25T17:41:43.082Z"
   },
   {
    "duration": 790,
    "start_time": "2022-01-25T17:41:43.540Z"
   },
   {
    "duration": 43,
    "start_time": "2022-01-25T17:41:44.333Z"
   },
   {
    "duration": 1187,
    "start_time": "2022-01-25T17:41:44.378Z"
   },
   {
    "duration": 480,
    "start_time": "2022-01-25T17:41:45.570Z"
   },
   {
    "duration": 26,
    "start_time": "2022-01-25T17:41:46.053Z"
   },
   {
    "duration": 463,
    "start_time": "2022-01-25T17:41:46.082Z"
   },
   {
    "duration": 456,
    "start_time": "2022-01-25T17:41:46.548Z"
   },
   {
    "duration": 16,
    "start_time": "2022-01-25T17:41:47.006Z"
   },
   {
    "duration": 428,
    "start_time": "2022-01-25T17:41:47.025Z"
   },
   {
    "duration": 14,
    "start_time": "2022-01-25T17:41:47.456Z"
   },
   {
    "duration": 57,
    "start_time": "2022-01-25T17:41:47.473Z"
   },
   {
    "duration": 79,
    "start_time": "2022-01-25T17:41:47.533Z"
   },
   {
    "duration": 78,
    "start_time": "2022-01-25T17:41:47.615Z"
   },
   {
    "duration": 14,
    "start_time": "2022-01-25T17:41:47.695Z"
   },
   {
    "duration": 6,
    "start_time": "2022-01-25T17:41:47.712Z"
   },
   {
    "duration": 47,
    "start_time": "2022-01-25T17:41:47.721Z"
   },
   {
    "duration": 256,
    "start_time": "2022-01-25T17:41:47.771Z"
   },
   {
    "duration": 234,
    "start_time": "2022-01-25T17:41:48.030Z"
   },
   {
    "duration": 19,
    "start_time": "2022-01-25T17:41:48.270Z"
   },
   {
    "duration": 7,
    "start_time": "2022-01-25T17:41:48.292Z"
   },
   {
    "duration": 12,
    "start_time": "2022-01-25T17:41:48.301Z"
   },
   {
    "duration": 100,
    "start_time": "2022-01-25T17:41:48.315Z"
   },
   {
    "duration": 15,
    "start_time": "2022-01-25T17:43:13.409Z"
   },
   {
    "duration": 8,
    "start_time": "2022-01-25T17:43:15.786Z"
   },
   {
    "duration": 8,
    "start_time": "2022-01-25T17:43:16.981Z"
   },
   {
    "duration": 99,
    "start_time": "2022-01-25T17:43:36.675Z"
   },
   {
    "duration": 113,
    "start_time": "2022-01-25T17:43:37.721Z"
   },
   {
    "duration": 105,
    "start_time": "2022-01-25T17:43:38.617Z"
   },
   {
    "duration": 14,
    "start_time": "2022-01-25T17:43:53.577Z"
   },
   {
    "duration": 439,
    "start_time": "2022-01-25T17:46:16.418Z"
   },
   {
    "duration": 305,
    "start_time": "2022-01-25T17:46:24.585Z"
   },
   {
    "duration": 14,
    "start_time": "2022-01-25T17:46:33.263Z"
   },
   {
    "duration": 15,
    "start_time": "2022-01-25T17:46:34.017Z"
   },
   {
    "duration": 19,
    "start_time": "2022-01-25T17:46:34.734Z"
   },
   {
    "duration": 15,
    "start_time": "2022-01-25T17:46:35.234Z"
   },
   {
    "duration": 20,
    "start_time": "2022-01-25T17:46:35.696Z"
   },
   {
    "duration": 2175,
    "start_time": "2022-01-25T17:51:35.856Z"
   },
   {
    "duration": 67,
    "start_time": "2022-01-25T17:51:38.035Z"
   },
   {
    "duration": 39,
    "start_time": "2022-01-25T17:51:38.107Z"
   },
   {
    "duration": 39,
    "start_time": "2022-01-25T17:51:38.150Z"
   },
   {
    "duration": 35,
    "start_time": "2022-01-25T17:51:38.192Z"
   },
   {
    "duration": 9,
    "start_time": "2022-01-25T17:51:38.230Z"
   },
   {
    "duration": 3,
    "start_time": "2022-01-25T17:51:38.270Z"
   },
   {
    "duration": 7,
    "start_time": "2022-01-25T17:51:38.277Z"
   },
   {
    "duration": 9,
    "start_time": "2022-01-25T17:51:38.287Z"
   },
   {
    "duration": 23,
    "start_time": "2022-01-25T17:51:38.299Z"
   },
   {
    "duration": 49,
    "start_time": "2022-01-25T17:51:38.325Z"
   },
   {
    "duration": 49,
    "start_time": "2022-01-25T17:51:38.377Z"
   },
   {
    "duration": 52,
    "start_time": "2022-01-25T17:51:38.429Z"
   },
   {
    "duration": 24,
    "start_time": "2022-01-25T17:51:38.484Z"
   },
   {
    "duration": 8,
    "start_time": "2022-01-25T17:51:38.511Z"
   },
   {
    "duration": 59,
    "start_time": "2022-01-25T17:51:38.521Z"
   },
   {
    "duration": 44,
    "start_time": "2022-01-25T17:51:38.583Z"
   },
   {
    "duration": 591,
    "start_time": "2022-01-25T17:51:38.630Z"
   },
   {
    "duration": 893,
    "start_time": "2022-01-25T17:51:39.224Z"
   },
   {
    "duration": 1426,
    "start_time": "2022-01-25T17:51:40.120Z"
   },
   {
    "duration": 10,
    "start_time": "2022-01-25T17:51:41.549Z"
   },
   {
    "duration": 942,
    "start_time": "2022-01-25T17:51:41.561Z"
   },
   {
    "duration": 453,
    "start_time": "2022-01-25T17:51:42.512Z"
   },
   {
    "duration": 766,
    "start_time": "2022-01-25T17:51:42.969Z"
   },
   {
    "duration": 47,
    "start_time": "2022-01-25T17:51:43.738Z"
   },
   {
    "duration": 1344,
    "start_time": "2022-01-25T17:51:43.787Z"
   },
   {
    "duration": 474,
    "start_time": "2022-01-25T17:51:45.133Z"
   },
   {
    "duration": 19,
    "start_time": "2022-01-25T17:51:45.610Z"
   },
   {
    "duration": 528,
    "start_time": "2022-01-25T17:51:45.632Z"
   },
   {
    "duration": 633,
    "start_time": "2022-01-25T17:51:46.170Z"
   },
   {
    "duration": 15,
    "start_time": "2022-01-25T17:51:46.805Z"
   },
   {
    "duration": 463,
    "start_time": "2022-01-25T17:51:46.823Z"
   },
   {
    "duration": 4,
    "start_time": "2022-01-25T17:51:47.290Z"
   },
   {
    "duration": 91,
    "start_time": "2022-01-25T17:51:47.297Z"
   },
   {
    "duration": 53,
    "start_time": "2022-01-25T17:51:47.391Z"
   },
   {
    "duration": 55,
    "start_time": "2022-01-25T17:51:47.470Z"
   },
   {
    "duration": 566,
    "start_time": "2022-01-25T17:51:47.527Z"
   },
   {
    "duration": 182,
    "start_time": "2022-01-25T17:51:47.915Z"
   },
   {
    "duration": 180,
    "start_time": "2022-01-25T17:51:47.919Z"
   },
   {
    "duration": 179,
    "start_time": "2022-01-25T17:51:47.922Z"
   },
   {
    "duration": 178,
    "start_time": "2022-01-25T17:51:47.925Z"
   },
   {
    "duration": 177,
    "start_time": "2022-01-25T17:51:47.928Z"
   },
   {
    "duration": 174,
    "start_time": "2022-01-25T17:51:47.933Z"
   },
   {
    "duration": 172,
    "start_time": "2022-01-25T17:51:47.937Z"
   },
   {
    "duration": 171,
    "start_time": "2022-01-25T17:51:47.940Z"
   },
   {
    "duration": 7,
    "start_time": "2022-01-25T17:52:25.712Z"
   },
   {
    "duration": 87,
    "start_time": "2022-01-25T17:52:25.721Z"
   },
   {
    "duration": 32,
    "start_time": "2022-01-25T17:52:25.811Z"
   },
   {
    "duration": 37,
    "start_time": "2022-01-25T17:52:25.845Z"
   },
   {
    "duration": 37,
    "start_time": "2022-01-25T17:52:25.885Z"
   },
   {
    "duration": 12,
    "start_time": "2022-01-25T17:52:25.925Z"
   },
   {
    "duration": 30,
    "start_time": "2022-01-25T17:52:25.940Z"
   },
   {
    "duration": 8,
    "start_time": "2022-01-25T17:52:25.973Z"
   },
   {
    "duration": 10,
    "start_time": "2022-01-25T17:52:25.985Z"
   },
   {
    "duration": 35,
    "start_time": "2022-01-25T17:52:25.998Z"
   },
   {
    "duration": 46,
    "start_time": "2022-01-25T17:52:26.037Z"
   },
   {
    "duration": 42,
    "start_time": "2022-01-25T17:52:26.086Z"
   },
   {
    "duration": 52,
    "start_time": "2022-01-25T17:52:26.131Z"
   },
   {
    "duration": 22,
    "start_time": "2022-01-25T17:52:26.187Z"
   },
   {
    "duration": 7,
    "start_time": "2022-01-25T17:52:26.212Z"
   },
   {
    "duration": 49,
    "start_time": "2022-01-25T17:52:26.222Z"
   },
   {
    "duration": 33,
    "start_time": "2022-01-25T17:52:26.274Z"
   },
   {
    "duration": 424,
    "start_time": "2022-01-25T17:52:26.311Z"
   },
   {
    "duration": 645,
    "start_time": "2022-01-25T17:52:26.738Z"
   },
   {
    "duration": 1170,
    "start_time": "2022-01-25T17:52:27.386Z"
   },
   {
    "duration": 17,
    "start_time": "2022-01-25T17:52:28.559Z"
   },
   {
    "duration": 765,
    "start_time": "2022-01-25T17:52:28.585Z"
   },
   {
    "duration": 595,
    "start_time": "2022-01-25T17:52:29.353Z"
   },
   {
    "duration": 739,
    "start_time": "2022-01-25T17:52:29.951Z"
   },
   {
    "duration": 33,
    "start_time": "2022-01-25T17:52:30.692Z"
   },
   {
    "duration": 1290,
    "start_time": "2022-01-25T17:52:30.728Z"
   },
   {
    "duration": 1515,
    "start_time": "2022-01-25T17:52:37.645Z"
   },
   {
    "duration": 53,
    "start_time": "2022-01-25T17:52:39.164Z"
   },
   {
    "duration": 28,
    "start_time": "2022-01-25T17:52:39.220Z"
   },
   {
    "duration": 29,
    "start_time": "2022-01-25T17:52:39.252Z"
   },
   {
    "duration": 24,
    "start_time": "2022-01-25T17:52:39.284Z"
   },
   {
    "duration": 8,
    "start_time": "2022-01-25T17:52:39.310Z"
   },
   {
    "duration": 48,
    "start_time": "2022-01-25T17:52:39.321Z"
   },
   {
    "duration": 11,
    "start_time": "2022-01-25T17:52:39.373Z"
   },
   {
    "duration": 9,
    "start_time": "2022-01-25T17:52:39.391Z"
   },
   {
    "duration": 32,
    "start_time": "2022-01-25T17:52:39.404Z"
   },
   {
    "duration": 18,
    "start_time": "2022-01-25T17:52:39.471Z"
   },
   {
    "duration": 48,
    "start_time": "2022-01-25T17:52:39.492Z"
   },
   {
    "duration": 24,
    "start_time": "2022-01-25T17:52:39.570Z"
   },
   {
    "duration": 21,
    "start_time": "2022-01-25T17:52:39.597Z"
   },
   {
    "duration": 11,
    "start_time": "2022-01-25T17:52:39.620Z"
   },
   {
    "duration": 22,
    "start_time": "2022-01-25T17:52:39.675Z"
   },
   {
    "duration": 29,
    "start_time": "2022-01-25T17:52:39.699Z"
   },
   {
    "duration": 421,
    "start_time": "2022-01-25T17:52:39.731Z"
   },
   {
    "duration": 572,
    "start_time": "2022-01-25T17:52:40.155Z"
   },
   {
    "duration": 1292,
    "start_time": "2022-01-25T17:52:40.731Z"
   },
   {
    "duration": 9,
    "start_time": "2022-01-25T17:52:42.026Z"
   },
   {
    "duration": 728,
    "start_time": "2022-01-25T17:52:42.037Z"
   },
   {
    "duration": 418,
    "start_time": "2022-01-25T17:52:42.769Z"
   },
   {
    "duration": 771,
    "start_time": "2022-01-25T17:52:43.189Z"
   },
   {
    "duration": 37,
    "start_time": "2022-01-25T17:52:43.963Z"
   },
   {
    "duration": 1203,
    "start_time": "2022-01-25T17:52:44.002Z"
   },
   {
    "duration": 462,
    "start_time": "2022-01-25T17:52:45.211Z"
   },
   {
    "duration": 16,
    "start_time": "2022-01-25T17:52:45.676Z"
   },
   {
    "duration": 437,
    "start_time": "2022-01-25T17:52:45.694Z"
   },
   {
    "duration": 442,
    "start_time": "2022-01-25T17:52:46.133Z"
   },
   {
    "duration": 18,
    "start_time": "2022-01-25T17:52:46.578Z"
   },
   {
    "duration": 430,
    "start_time": "2022-01-25T17:52:46.598Z"
   },
   {
    "duration": 4,
    "start_time": "2022-01-25T17:52:47.031Z"
   },
   {
    "duration": 69,
    "start_time": "2022-01-25T17:52:47.037Z"
   },
   {
    "duration": 69,
    "start_time": "2022-01-25T17:52:47.109Z"
   },
   {
    "duration": 48,
    "start_time": "2022-01-25T17:52:47.180Z"
   },
   {
    "duration": 39,
    "start_time": "2022-01-25T17:52:47.230Z"
   },
   {
    "duration": 14,
    "start_time": "2022-01-25T17:52:47.272Z"
   },
   {
    "duration": 9,
    "start_time": "2022-01-25T17:52:47.289Z"
   },
   {
    "duration": 11,
    "start_time": "2022-01-25T17:52:47.301Z"
   },
   {
    "duration": 280,
    "start_time": "2022-01-25T17:52:47.315Z"
   },
   {
    "duration": 228,
    "start_time": "2022-01-25T17:52:47.597Z"
   },
   {
    "duration": 14,
    "start_time": "2022-01-25T17:52:47.828Z"
   },
   {
    "duration": 25,
    "start_time": "2022-01-25T17:52:47.845Z"
   },
   {
    "duration": 7,
    "start_time": "2022-01-25T17:52:47.872Z"
   },
   {
    "duration": 634,
    "start_time": "2022-01-25T17:55:38.645Z"
   },
   {
    "duration": 651,
    "start_time": "2022-01-25T17:56:00.660Z"
   },
   {
    "duration": 116,
    "start_time": "2022-01-25T17:56:02.234Z"
   },
   {
    "duration": 116,
    "start_time": "2022-01-25T17:56:03.131Z"
   },
   {
    "duration": 111,
    "start_time": "2022-01-25T17:56:16.922Z"
   },
   {
    "duration": 106,
    "start_time": "2022-01-25T17:56:17.675Z"
   },
   {
    "duration": 117,
    "start_time": "2022-01-25T17:56:18.446Z"
   },
   {
    "duration": 197,
    "start_time": "2022-01-25T17:56:20.625Z"
   },
   {
    "duration": 112,
    "start_time": "2022-01-25T17:56:23.919Z"
   },
   {
    "duration": 8,
    "start_time": "2022-01-25T17:56:37.197Z"
   },
   {
    "duration": 205,
    "start_time": "2022-01-25T17:56:55.490Z"
   },
   {
    "duration": 324,
    "start_time": "2022-01-25T17:56:57.632Z"
   },
   {
    "duration": 7,
    "start_time": "2022-01-25T17:57:26.473Z"
   },
   {
    "duration": 352,
    "start_time": "2022-01-25T18:04:06.903Z"
   },
   {
    "duration": 5,
    "start_time": "2022-01-25T18:08:06.947Z"
   },
   {
    "duration": 6,
    "start_time": "2022-01-25T18:08:09.430Z"
   },
   {
    "duration": 1455,
    "start_time": "2022-01-25T18:08:16.092Z"
   },
   {
    "duration": 47,
    "start_time": "2022-01-25T18:08:17.550Z"
   },
   {
    "duration": 24,
    "start_time": "2022-01-25T18:08:17.601Z"
   },
   {
    "duration": 15,
    "start_time": "2022-01-25T18:08:17.628Z"
   },
   {
    "duration": 23,
    "start_time": "2022-01-25T18:08:17.670Z"
   },
   {
    "duration": 7,
    "start_time": "2022-01-25T18:08:17.696Z"
   },
   {
    "duration": 5,
    "start_time": "2022-01-25T18:08:17.706Z"
   },
   {
    "duration": 7,
    "start_time": "2022-01-25T18:08:17.717Z"
   },
   {
    "duration": 50,
    "start_time": "2022-01-25T18:08:17.727Z"
   },
   {
    "duration": 21,
    "start_time": "2022-01-25T18:08:17.779Z"
   },
   {
    "duration": 13,
    "start_time": "2022-01-25T18:08:17.802Z"
   },
   {
    "duration": 68,
    "start_time": "2022-01-25T18:08:17.817Z"
   },
   {
    "duration": 20,
    "start_time": "2022-01-25T18:08:17.887Z"
   },
   {
    "duration": 23,
    "start_time": "2022-01-25T18:08:17.910Z"
   },
   {
    "duration": 43,
    "start_time": "2022-01-25T18:08:17.935Z"
   },
   {
    "duration": 21,
    "start_time": "2022-01-25T18:08:17.980Z"
   },
   {
    "duration": 30,
    "start_time": "2022-01-25T18:08:18.004Z"
   },
   {
    "duration": 432,
    "start_time": "2022-01-25T18:08:18.037Z"
   },
   {
    "duration": 556,
    "start_time": "2022-01-25T18:08:18.472Z"
   },
   {
    "duration": 1160,
    "start_time": "2022-01-25T18:08:19.031Z"
   },
   {
    "duration": 10,
    "start_time": "2022-01-25T18:08:20.193Z"
   },
   {
    "duration": 748,
    "start_time": "2022-01-25T18:08:20.205Z"
   },
   {
    "duration": 430,
    "start_time": "2022-01-25T18:08:20.958Z"
   },
   {
    "duration": 774,
    "start_time": "2022-01-25T18:08:21.391Z"
   },
   {
    "duration": 36,
    "start_time": "2022-01-25T18:08:22.170Z"
   },
   {
    "duration": 1288,
    "start_time": "2022-01-25T18:08:22.209Z"
   },
   {
    "duration": 472,
    "start_time": "2022-01-25T18:08:23.500Z"
   },
   {
    "duration": 17,
    "start_time": "2022-01-25T18:08:23.974Z"
   },
   {
    "duration": 528,
    "start_time": "2022-01-25T18:08:23.994Z"
   },
   {
    "duration": 465,
    "start_time": "2022-01-25T18:08:24.525Z"
   },
   {
    "duration": 17,
    "start_time": "2022-01-25T18:08:24.993Z"
   },
   {
    "duration": 447,
    "start_time": "2022-01-25T18:08:25.013Z"
   },
   {
    "duration": 5,
    "start_time": "2022-01-25T18:08:25.470Z"
   },
   {
    "duration": 49,
    "start_time": "2022-01-25T18:08:25.479Z"
   },
   {
    "duration": 84,
    "start_time": "2022-01-25T18:08:25.531Z"
   },
   {
    "duration": 77,
    "start_time": "2022-01-25T18:08:25.618Z"
   },
   {
    "duration": 3,
    "start_time": "2022-01-25T18:08:25.697Z"
   },
   {
    "duration": 457,
    "start_time": "2022-01-25T18:08:25.703Z"
   },
   {
    "duration": 220,
    "start_time": "2022-01-25T18:08:25.942Z"
   },
   {
    "duration": 217,
    "start_time": "2022-01-25T18:08:25.946Z"
   },
   {
    "duration": 214,
    "start_time": "2022-01-25T18:08:25.951Z"
   },
   {
    "duration": 209,
    "start_time": "2022-01-25T18:08:25.958Z"
   },
   {
    "duration": 206,
    "start_time": "2022-01-25T18:08:25.962Z"
   },
   {
    "duration": 194,
    "start_time": "2022-01-25T18:08:25.976Z"
   },
   {
    "duration": 187,
    "start_time": "2022-01-25T18:08:25.984Z"
   },
   {
    "duration": 15,
    "start_time": "2022-01-25T18:09:10.225Z"
   },
   {
    "duration": 15,
    "start_time": "2022-01-25T18:09:11.478Z"
   },
   {
    "duration": 1544,
    "start_time": "2022-01-25T18:09:18.105Z"
   },
   {
    "duration": 50,
    "start_time": "2022-01-25T18:09:19.652Z"
   },
   {
    "duration": 25,
    "start_time": "2022-01-25T18:09:19.705Z"
   },
   {
    "duration": 15,
    "start_time": "2022-01-25T18:09:19.733Z"
   },
   {
    "duration": 25,
    "start_time": "2022-01-25T18:09:19.771Z"
   },
   {
    "duration": 6,
    "start_time": "2022-01-25T18:09:19.798Z"
   },
   {
    "duration": 9,
    "start_time": "2022-01-25T18:09:19.806Z"
   },
   {
    "duration": 12,
    "start_time": "2022-01-25T18:09:19.819Z"
   },
   {
    "duration": 38,
    "start_time": "2022-01-25T18:09:19.834Z"
   },
   {
    "duration": 20,
    "start_time": "2022-01-25T18:09:19.874Z"
   },
   {
    "duration": 13,
    "start_time": "2022-01-25T18:09:19.896Z"
   },
   {
    "duration": 59,
    "start_time": "2022-01-25T18:09:19.912Z"
   },
   {
    "duration": 20,
    "start_time": "2022-01-25T18:09:19.973Z"
   },
   {
    "duration": 23,
    "start_time": "2022-01-25T18:09:19.996Z"
   },
   {
    "duration": 11,
    "start_time": "2022-01-25T18:09:20.022Z"
   },
   {
    "duration": 21,
    "start_time": "2022-01-25T18:09:20.070Z"
   },
   {
    "duration": 28,
    "start_time": "2022-01-25T18:09:20.094Z"
   },
   {
    "duration": 431,
    "start_time": "2022-01-25T18:09:20.125Z"
   },
   {
    "duration": 578,
    "start_time": "2022-01-25T18:09:20.558Z"
   },
   {
    "duration": 1388,
    "start_time": "2022-01-25T18:09:21.139Z"
   },
   {
    "duration": 10,
    "start_time": "2022-01-25T18:09:22.529Z"
   },
   {
    "duration": 755,
    "start_time": "2022-01-25T18:09:22.541Z"
   },
   {
    "duration": 473,
    "start_time": "2022-01-25T18:09:23.303Z"
   },
   {
    "duration": 801,
    "start_time": "2022-01-25T18:09:23.780Z"
   },
   {
    "duration": 34,
    "start_time": "2022-01-25T18:09:24.584Z"
   },
   {
    "duration": 1271,
    "start_time": "2022-01-25T18:09:24.621Z"
   },
   {
    "duration": 508,
    "start_time": "2022-01-25T18:09:25.895Z"
   },
   {
    "duration": 16,
    "start_time": "2022-01-25T18:09:26.406Z"
   },
   {
    "duration": 501,
    "start_time": "2022-01-25T18:09:26.424Z"
   },
   {
    "duration": 458,
    "start_time": "2022-01-25T18:09:26.928Z"
   },
   {
    "duration": 14,
    "start_time": "2022-01-25T18:09:27.388Z"
   },
   {
    "duration": 430,
    "start_time": "2022-01-25T18:09:27.405Z"
   },
   {
    "duration": 4,
    "start_time": "2022-01-25T18:09:27.837Z"
   },
   {
    "duration": 72,
    "start_time": "2022-01-25T18:09:27.843Z"
   },
   {
    "duration": 67,
    "start_time": "2022-01-25T18:09:27.918Z"
   },
   {
    "duration": 50,
    "start_time": "2022-01-25T18:09:27.987Z"
   },
   {
    "duration": 31,
    "start_time": "2022-01-25T18:09:28.040Z"
   },
   {
    "duration": 17,
    "start_time": "2022-01-25T18:09:28.074Z"
   },
   {
    "duration": 7,
    "start_time": "2022-01-25T18:09:28.093Z"
   },
   {
    "duration": 7,
    "start_time": "2022-01-25T18:09:28.103Z"
   },
   {
    "duration": 281,
    "start_time": "2022-01-25T18:09:28.113Z"
   },
   {
    "duration": 221,
    "start_time": "2022-01-25T18:09:28.397Z"
   },
   {
    "duration": 13,
    "start_time": "2022-01-25T18:09:28.621Z"
   },
   {
    "duration": 19,
    "start_time": "2022-01-25T18:09:28.636Z"
   },
   {
    "duration": 21,
    "start_time": "2022-01-25T18:09:28.657Z"
   },
   {
    "duration": 2294,
    "start_time": "2022-01-25T18:10:08.088Z"
   },
   {
    "duration": 48,
    "start_time": "2022-01-25T18:10:10.385Z"
   },
   {
    "duration": 34,
    "start_time": "2022-01-25T18:10:10.437Z"
   },
   {
    "duration": 19,
    "start_time": "2022-01-25T18:10:10.474Z"
   },
   {
    "duration": 24,
    "start_time": "2022-01-25T18:10:10.495Z"
   },
   {
    "duration": 6,
    "start_time": "2022-01-25T18:10:10.521Z"
   },
   {
    "duration": 43,
    "start_time": "2022-01-25T18:10:10.530Z"
   },
   {
    "duration": 7,
    "start_time": "2022-01-25T18:10:10.577Z"
   },
   {
    "duration": 7,
    "start_time": "2022-01-25T18:10:10.588Z"
   },
   {
    "duration": 23,
    "start_time": "2022-01-25T18:10:10.597Z"
   },
   {
    "duration": 48,
    "start_time": "2022-01-25T18:10:10.623Z"
   },
   {
    "duration": 31,
    "start_time": "2022-01-25T18:10:10.673Z"
   },
   {
    "duration": 22,
    "start_time": "2022-01-25T18:10:10.707Z"
   },
   {
    "duration": 58,
    "start_time": "2022-01-25T18:10:10.731Z"
   },
   {
    "duration": 10,
    "start_time": "2022-01-25T18:10:10.791Z"
   },
   {
    "duration": 21,
    "start_time": "2022-01-25T18:10:10.803Z"
   },
   {
    "duration": 67,
    "start_time": "2022-01-25T18:10:10.826Z"
   },
   {
    "duration": 528,
    "start_time": "2022-01-25T18:10:10.895Z"
   },
   {
    "duration": 677,
    "start_time": "2022-01-25T18:10:11.426Z"
   },
   {
    "duration": 1271,
    "start_time": "2022-01-25T18:10:12.105Z"
   },
   {
    "duration": 11,
    "start_time": "2022-01-25T18:10:13.379Z"
   },
   {
    "duration": 774,
    "start_time": "2022-01-25T18:10:13.393Z"
   },
   {
    "duration": 456,
    "start_time": "2022-01-25T18:10:14.173Z"
   },
   {
    "duration": 824,
    "start_time": "2022-01-25T18:10:14.632Z"
   },
   {
    "duration": 38,
    "start_time": "2022-01-25T18:10:15.458Z"
   },
   {
    "duration": 1197,
    "start_time": "2022-01-25T18:10:15.498Z"
   },
   {
    "duration": 640,
    "start_time": "2022-01-25T18:10:16.697Z"
   },
   {
    "duration": 34,
    "start_time": "2022-01-25T18:10:17.341Z"
   },
   {
    "duration": 440,
    "start_time": "2022-01-25T18:10:17.378Z"
   },
   {
    "duration": 495,
    "start_time": "2022-01-25T18:10:17.821Z"
   },
   {
    "duration": 14,
    "start_time": "2022-01-25T18:10:18.319Z"
   },
   {
    "duration": 634,
    "start_time": "2022-01-25T18:10:18.335Z"
   },
   {
    "duration": 4,
    "start_time": "2022-01-25T18:10:18.972Z"
   },
   {
    "duration": 48,
    "start_time": "2022-01-25T18:10:18.978Z"
   },
   {
    "duration": 77,
    "start_time": "2022-01-25T18:10:19.029Z"
   },
   {
    "duration": 78,
    "start_time": "2022-01-25T18:10:19.108Z"
   },
   {
    "duration": 4,
    "start_time": "2022-01-25T18:10:19.189Z"
   },
   {
    "duration": 19,
    "start_time": "2022-01-25T18:10:19.196Z"
   },
   {
    "duration": 8,
    "start_time": "2022-01-25T18:10:19.218Z"
   },
   {
    "duration": 10,
    "start_time": "2022-01-25T18:10:19.269Z"
   },
   {
    "duration": 265,
    "start_time": "2022-01-25T18:10:19.282Z"
   },
   {
    "duration": 219,
    "start_time": "2022-01-25T18:10:19.550Z"
   },
   {
    "duration": 13,
    "start_time": "2022-01-25T18:10:19.772Z"
   },
   {
    "duration": 8,
    "start_time": "2022-01-25T18:10:19.787Z"
   },
   {
    "duration": 7,
    "start_time": "2022-01-25T18:10:19.798Z"
   },
   {
    "duration": 465,
    "start_time": "2022-01-25T18:13:29.107Z"
   },
   {
    "duration": 572,
    "start_time": "2022-01-25T18:14:05.242Z"
   },
   {
    "duration": 17,
    "start_time": "2022-01-25T18:14:20.968Z"
   },
   {
    "duration": 14,
    "start_time": "2022-01-25T18:15:05.312Z"
   },
   {
    "duration": 15,
    "start_time": "2022-01-25T18:15:06.101Z"
   },
   {
    "duration": 13,
    "start_time": "2022-01-25T18:16:51.047Z"
   },
   {
    "duration": 13,
    "start_time": "2022-01-25T18:18:16.072Z"
   },
   {
    "duration": 13,
    "start_time": "2022-01-25T18:18:16.152Z"
   },
   {
    "duration": 13,
    "start_time": "2022-01-25T18:18:17.265Z"
   },
   {
    "duration": 15,
    "start_time": "2022-01-25T18:18:17.840Z"
   },
   {
    "duration": 14,
    "start_time": "2022-01-25T18:18:18.519Z"
   },
   {
    "duration": 14,
    "start_time": "2022-01-25T18:18:19.523Z"
   },
   {
    "duration": 10,
    "start_time": "2022-01-25T18:21:14.689Z"
   },
   {
    "duration": 11,
    "start_time": "2022-01-25T18:21:15.723Z"
   },
   {
    "duration": 12,
    "start_time": "2022-01-25T18:21:16.813Z"
   },
   {
    "duration": 9,
    "start_time": "2022-01-25T18:21:17.484Z"
   },
   {
    "duration": 10,
    "start_time": "2022-01-25T18:21:18.235Z"
   },
   {
    "duration": 10,
    "start_time": "2022-01-25T18:21:18.487Z"
   },
   {
    "duration": 10,
    "start_time": "2022-01-25T18:21:18.749Z"
   },
   {
    "duration": 11,
    "start_time": "2022-01-25T18:21:19.004Z"
   },
   {
    "duration": 12,
    "start_time": "2022-01-25T18:21:19.242Z"
   },
   {
    "duration": 9,
    "start_time": "2022-01-25T18:21:19.472Z"
   },
   {
    "duration": 12,
    "start_time": "2022-01-25T18:21:19.659Z"
   },
   {
    "duration": 11,
    "start_time": "2022-01-25T18:21:19.883Z"
   },
   {
    "duration": 10,
    "start_time": "2022-01-25T18:21:26.811Z"
   },
   {
    "duration": 9,
    "start_time": "2022-01-25T18:21:34.288Z"
   },
   {
    "duration": 9,
    "start_time": "2022-01-25T18:21:34.748Z"
   },
   {
    "duration": 10,
    "start_time": "2022-01-25T18:21:35.043Z"
   },
   {
    "duration": 9,
    "start_time": "2022-01-25T18:21:35.282Z"
   },
   {
    "duration": 9,
    "start_time": "2022-01-25T18:21:35.530Z"
   },
   {
    "duration": 26,
    "start_time": "2022-01-25T18:21:35.754Z"
   },
   {
    "duration": 9,
    "start_time": "2022-01-25T18:21:36.011Z"
   },
   {
    "duration": 10,
    "start_time": "2022-01-25T18:21:36.274Z"
   },
   {
    "duration": 9,
    "start_time": "2022-01-25T18:21:36.522Z"
   },
   {
    "duration": 10,
    "start_time": "2022-01-25T18:21:36.770Z"
   },
   {
    "duration": 12,
    "start_time": "2022-01-25T18:21:48.590Z"
   },
   {
    "duration": 15,
    "start_time": "2022-01-25T18:21:54.563Z"
   },
   {
    "duration": 14,
    "start_time": "2022-01-25T18:21:55.754Z"
   },
   {
    "duration": 14,
    "start_time": "2022-01-25T18:21:56.388Z"
   },
   {
    "duration": 17,
    "start_time": "2022-01-25T18:22:46.237Z"
   },
   {
    "duration": 13,
    "start_time": "2022-01-25T18:22:47.042Z"
   },
   {
    "duration": 239,
    "start_time": "2022-01-25T21:21:59.603Z"
   },
   {
    "duration": 197,
    "start_time": "2022-01-25T21:22:57.039Z"
   },
   {
    "duration": 1161,
    "start_time": "2022-01-25T21:23:08.075Z"
   },
   {
    "duration": 39,
    "start_time": "2022-01-25T21:23:09.237Z"
   },
   {
    "duration": 33,
    "start_time": "2022-01-25T21:23:09.278Z"
   },
   {
    "duration": 35,
    "start_time": "2022-01-25T21:23:09.314Z"
   },
   {
    "duration": 54,
    "start_time": "2022-01-25T21:23:09.351Z"
   },
   {
    "duration": 33,
    "start_time": "2022-01-25T21:23:09.407Z"
   },
   {
    "duration": 29,
    "start_time": "2022-01-25T21:23:09.442Z"
   },
   {
    "duration": 33,
    "start_time": "2022-01-25T21:23:09.474Z"
   },
   {
    "duration": 28,
    "start_time": "2022-01-25T21:23:09.509Z"
   },
   {
    "duration": 43,
    "start_time": "2022-01-25T21:23:09.539Z"
   },
   {
    "duration": 27,
    "start_time": "2022-01-25T21:23:09.584Z"
   },
   {
    "duration": 42,
    "start_time": "2022-01-25T21:23:09.613Z"
   },
   {
    "duration": 22,
    "start_time": "2022-01-25T21:23:09.656Z"
   },
   {
    "duration": 21,
    "start_time": "2022-01-25T21:23:09.680Z"
   },
   {
    "duration": 23,
    "start_time": "2022-01-25T21:23:09.703Z"
   },
   {
    "duration": 31,
    "start_time": "2022-01-25T21:23:09.728Z"
   },
   {
    "duration": 50,
    "start_time": "2022-01-25T21:23:09.761Z"
   },
   {
    "duration": 251,
    "start_time": "2022-01-25T21:23:09.812Z"
   },
   {
    "duration": 330,
    "start_time": "2022-01-25T21:23:10.065Z"
   },
   {
    "duration": 765,
    "start_time": "2022-01-25T21:23:10.397Z"
   },
   {
    "duration": 6,
    "start_time": "2022-01-25T21:23:11.164Z"
   },
   {
    "duration": 507,
    "start_time": "2022-01-25T21:23:11.172Z"
   },
   {
    "duration": 267,
    "start_time": "2022-01-25T21:23:11.683Z"
   },
   {
    "duration": 594,
    "start_time": "2022-01-25T21:23:11.952Z"
   },
   {
    "duration": 24,
    "start_time": "2022-01-25T21:23:12.548Z"
   },
   {
    "duration": 689,
    "start_time": "2022-01-25T21:23:12.574Z"
   },
   {
    "duration": 288,
    "start_time": "2022-01-25T21:23:13.264Z"
   },
   {
    "duration": 16,
    "start_time": "2022-01-25T21:23:13.554Z"
   },
   {
    "duration": 321,
    "start_time": "2022-01-25T21:23:13.572Z"
   },
   {
    "duration": 297,
    "start_time": "2022-01-25T21:23:13.895Z"
   },
   {
    "duration": 11,
    "start_time": "2022-01-25T21:23:14.194Z"
   },
   {
    "duration": 269,
    "start_time": "2022-01-25T21:23:14.206Z"
   },
   {
    "duration": 3,
    "start_time": "2022-01-25T21:23:14.476Z"
   },
   {
    "duration": 52,
    "start_time": "2022-01-25T21:23:14.481Z"
   },
   {
    "duration": 51,
    "start_time": "2022-01-25T21:23:14.534Z"
   },
   {
    "duration": 36,
    "start_time": "2022-01-25T21:23:14.587Z"
   },
   {
    "duration": 29,
    "start_time": "2022-01-25T21:23:14.625Z"
   },
   {
    "duration": 286,
    "start_time": "2022-01-25T21:23:14.656Z"
   },
   {
    "duration": 372,
    "start_time": "2022-01-25T21:23:14.571Z"
   },
   {
    "duration": 368,
    "start_time": "2022-01-25T21:23:14.577Z"
   },
   {
    "duration": 360,
    "start_time": "2022-01-25T21:23:14.585Z"
   },
   {
    "duration": 356,
    "start_time": "2022-01-25T21:23:14.590Z"
   },
   {
    "duration": 339,
    "start_time": "2022-01-25T21:23:14.608Z"
   },
   {
    "duration": 333,
    "start_time": "2022-01-25T21:23:14.615Z"
   },
   {
    "duration": 328,
    "start_time": "2022-01-25T21:23:14.621Z"
   },
   {
    "duration": 72,
    "start_time": "2022-01-25T21:24:38.109Z"
   },
   {
    "duration": 210,
    "start_time": "2022-01-25T21:25:05.229Z"
   },
   {
    "duration": 199,
    "start_time": "2022-01-25T21:25:46.067Z"
   },
   {
    "duration": 205,
    "start_time": "2022-01-25T21:25:47.168Z"
   },
   {
    "duration": 9,
    "start_time": "2022-01-25T21:25:55.536Z"
   },
   {
    "duration": 589,
    "start_time": "2022-01-25T21:26:17.228Z"
   },
   {
    "duration": 207,
    "start_time": "2022-01-25T21:26:32.241Z"
   },
   {
    "duration": 196,
    "start_time": "2022-01-25T21:26:47.327Z"
   },
   {
    "duration": 235,
    "start_time": "2022-01-25T21:26:52.776Z"
   },
   {
    "duration": 256,
    "start_time": "2022-01-25T21:32:08.751Z"
   },
   {
    "duration": 263,
    "start_time": "2022-01-25T21:33:04.150Z"
   },
   {
    "duration": 338,
    "start_time": "2022-01-25T21:33:57.811Z"
   },
   {
    "duration": 352,
    "start_time": "2022-01-25T21:34:59.525Z"
   },
   {
    "duration": 108,
    "start_time": "2022-01-25T21:36:20.129Z"
   },
   {
    "duration": 360,
    "start_time": "2022-01-25T21:36:35.125Z"
   },
   {
    "duration": 316,
    "start_time": "2022-01-25T21:38:48.097Z"
   },
   {
    "duration": 338,
    "start_time": "2022-01-25T21:40:22.008Z"
   },
   {
    "duration": 466,
    "start_time": "2022-01-25T21:41:20.086Z"
   },
   {
    "duration": 512,
    "start_time": "2022-01-25T21:43:23.239Z"
   },
   {
    "duration": 498,
    "start_time": "2022-01-25T21:43:46.637Z"
   },
   {
    "duration": 331,
    "start_time": "2022-01-25T21:44:15.106Z"
   },
   {
    "duration": 321,
    "start_time": "2022-01-25T21:48:25.626Z"
   },
   {
    "duration": 490,
    "start_time": "2022-01-25T21:48:50.734Z"
   },
   {
    "duration": 702,
    "start_time": "2022-01-25T21:50:38.540Z"
   },
   {
    "duration": 702,
    "start_time": "2022-01-25T21:52:53.218Z"
   },
   {
    "duration": 561,
    "start_time": "2022-01-25T21:54:06.693Z"
   },
   {
    "duration": 750,
    "start_time": "2022-01-25T21:56:56.480Z"
   },
   {
    "duration": 13,
    "start_time": "2022-01-25T22:18:58.026Z"
   },
   {
    "duration": 25,
    "start_time": "2022-01-25T22:20:26.340Z"
   },
   {
    "duration": 143,
    "start_time": "2022-01-25T22:21:03.893Z"
   },
   {
    "duration": 124,
    "start_time": "2022-01-25T22:21:12.179Z"
   },
   {
    "duration": 12,
    "start_time": "2022-01-25T22:22:12.514Z"
   },
   {
    "duration": 12,
    "start_time": "2022-01-25T22:26:32.142Z"
   },
   {
    "duration": 10,
    "start_time": "2022-01-25T22:27:02.802Z"
   },
   {
    "duration": 25,
    "start_time": "2022-01-25T22:28:20.694Z"
   },
   {
    "duration": 1061,
    "start_time": "2022-01-26T09:03:31.461Z"
   },
   {
    "duration": 35,
    "start_time": "2022-01-26T09:03:32.524Z"
   },
   {
    "duration": 14,
    "start_time": "2022-01-26T09:03:32.561Z"
   },
   {
    "duration": 10,
    "start_time": "2022-01-26T09:03:32.577Z"
   },
   {
    "duration": 16,
    "start_time": "2022-01-26T09:03:32.588Z"
   },
   {
    "duration": 3,
    "start_time": "2022-01-26T09:03:32.606Z"
   },
   {
    "duration": 3,
    "start_time": "2022-01-26T09:03:32.611Z"
   },
   {
    "duration": 4,
    "start_time": "2022-01-26T09:03:32.627Z"
   },
   {
    "duration": 5,
    "start_time": "2022-01-26T09:03:32.633Z"
   },
   {
    "duration": 13,
    "start_time": "2022-01-26T09:03:32.639Z"
   },
   {
    "duration": 8,
    "start_time": "2022-01-26T09:03:32.653Z"
   },
   {
    "duration": 17,
    "start_time": "2022-01-26T09:03:32.663Z"
   },
   {
    "duration": 13,
    "start_time": "2022-01-26T09:03:32.681Z"
   },
   {
    "duration": 13,
    "start_time": "2022-01-26T09:03:32.727Z"
   },
   {
    "duration": 4,
    "start_time": "2022-01-26T09:03:32.742Z"
   },
   {
    "duration": 12,
    "start_time": "2022-01-26T09:03:32.748Z"
   },
   {
    "duration": 16,
    "start_time": "2022-01-26T09:03:32.761Z"
   },
   {
    "duration": 229,
    "start_time": "2022-01-26T09:03:32.779Z"
   },
   {
    "duration": 297,
    "start_time": "2022-01-26T09:03:33.010Z"
   },
   {
    "duration": 710,
    "start_time": "2022-01-26T09:03:33.309Z"
   },
   {
    "duration": 10,
    "start_time": "2022-01-26T09:03:34.021Z"
   },
   {
    "duration": 435,
    "start_time": "2022-01-26T09:03:34.033Z"
   },
   {
    "duration": 216,
    "start_time": "2022-01-26T09:03:34.471Z"
   },
   {
    "duration": 490,
    "start_time": "2022-01-26T09:03:34.689Z"
   },
   {
    "duration": 17,
    "start_time": "2022-01-26T09:03:35.181Z"
   },
   {
    "duration": 642,
    "start_time": "2022-01-26T09:03:35.200Z"
   },
   {
    "duration": 267,
    "start_time": "2022-01-26T09:03:35.843Z"
   },
   {
    "duration": 27,
    "start_time": "2022-01-26T09:03:36.111Z"
   },
   {
    "duration": 9,
    "start_time": "2022-01-26T09:03:36.139Z"
   },
   {
    "duration": 311,
    "start_time": "2022-01-26T09:03:36.150Z"
   },
   {
    "duration": 288,
    "start_time": "2022-01-26T09:03:36.462Z"
   },
   {
    "duration": 10,
    "start_time": "2022-01-26T09:03:36.752Z"
   },
   {
    "duration": 228,
    "start_time": "2022-01-26T09:03:36.763Z"
   },
   {
    "duration": 3,
    "start_time": "2022-01-26T09:03:36.992Z"
   },
   {
    "duration": 41,
    "start_time": "2022-01-26T09:03:36.996Z"
   },
   {
    "duration": 25,
    "start_time": "2022-01-26T09:03:37.039Z"
   },
   {
    "duration": 26,
    "start_time": "2022-01-26T09:03:37.065Z"
   },
   {
    "duration": 355,
    "start_time": "2022-01-26T09:03:37.093Z"
   },
   {
    "duration": -36,
    "start_time": "2022-01-26T09:03:37.485Z"
   },
   {
    "duration": -37,
    "start_time": "2022-01-26T09:03:37.487Z"
   },
   {
    "duration": -74,
    "start_time": "2022-01-26T09:03:37.525Z"
   },
   {
    "duration": 991,
    "start_time": "2022-01-26T09:07:32.367Z"
   },
   {
    "duration": 35,
    "start_time": "2022-01-26T09:07:33.359Z"
   },
   {
    "duration": 14,
    "start_time": "2022-01-26T09:07:33.395Z"
   },
   {
    "duration": 10,
    "start_time": "2022-01-26T09:07:33.411Z"
   },
   {
    "duration": 14,
    "start_time": "2022-01-26T09:07:33.426Z"
   },
   {
    "duration": 4,
    "start_time": "2022-01-26T09:07:33.441Z"
   },
   {
    "duration": 4,
    "start_time": "2022-01-26T09:07:33.446Z"
   },
   {
    "duration": 5,
    "start_time": "2022-01-26T09:07:33.452Z"
   },
   {
    "duration": 6,
    "start_time": "2022-01-26T09:07:33.458Z"
   },
   {
    "duration": 17,
    "start_time": "2022-01-26T09:07:33.465Z"
   },
   {
    "duration": 9,
    "start_time": "2022-01-26T09:07:33.483Z"
   },
   {
    "duration": 41,
    "start_time": "2022-01-26T09:07:33.494Z"
   },
   {
    "duration": 12,
    "start_time": "2022-01-26T09:07:33.537Z"
   },
   {
    "duration": 13,
    "start_time": "2022-01-26T09:07:33.551Z"
   },
   {
    "duration": 7,
    "start_time": "2022-01-26T09:07:33.565Z"
   },
   {
    "duration": 11,
    "start_time": "2022-01-26T09:07:33.574Z"
   },
   {
    "duration": 42,
    "start_time": "2022-01-26T09:07:33.586Z"
   },
   {
    "duration": 216,
    "start_time": "2022-01-26T09:07:33.630Z"
   },
   {
    "duration": 303,
    "start_time": "2022-01-26T09:07:33.848Z"
   },
   {
    "duration": 710,
    "start_time": "2022-01-26T09:07:34.153Z"
   },
   {
    "duration": 6,
    "start_time": "2022-01-26T09:07:34.865Z"
   },
   {
    "duration": 441,
    "start_time": "2022-01-26T09:07:34.872Z"
   },
   {
    "duration": 214,
    "start_time": "2022-01-26T09:07:35.315Z"
   },
   {
    "duration": 487,
    "start_time": "2022-01-26T09:07:35.531Z"
   },
   {
    "duration": 23,
    "start_time": "2022-01-26T09:07:36.020Z"
   },
   {
    "duration": 634,
    "start_time": "2022-01-26T09:07:36.045Z"
   },
   {
    "duration": 271,
    "start_time": "2022-01-26T09:07:36.680Z"
   },
   {
    "duration": 10,
    "start_time": "2022-01-26T09:07:36.953Z"
   },
   {
    "duration": 308,
    "start_time": "2022-01-26T09:07:36.964Z"
   },
   {
    "duration": 302,
    "start_time": "2022-01-26T09:07:37.273Z"
   },
   {
    "duration": 9,
    "start_time": "2022-01-26T09:07:37.577Z"
   },
   {
    "duration": 248,
    "start_time": "2022-01-26T09:07:37.587Z"
   },
   {
    "duration": 3,
    "start_time": "2022-01-26T09:07:37.836Z"
   },
   {
    "duration": 41,
    "start_time": "2022-01-26T09:07:37.841Z"
   },
   {
    "duration": 26,
    "start_time": "2022-01-26T09:07:37.884Z"
   },
   {
    "duration": 41,
    "start_time": "2022-01-26T09:07:37.911Z"
   },
   {
    "duration": 8,
    "start_time": "2022-01-26T09:07:37.953Z"
   },
   {
    "duration": 21,
    "start_time": "2022-01-26T09:07:37.963Z"
   },
   {
    "duration": 9,
    "start_time": "2022-01-26T09:07:37.986Z"
   },
   {
    "duration": 49,
    "start_time": "2022-01-26T09:07:37.996Z"
   },
   {
    "duration": 1064,
    "start_time": "2022-01-26T09:09:09.398Z"
   },
   {
    "duration": 35,
    "start_time": "2022-01-26T09:09:10.464Z"
   },
   {
    "duration": 15,
    "start_time": "2022-01-26T09:09:10.501Z"
   },
   {
    "duration": 10,
    "start_time": "2022-01-26T09:09:10.518Z"
   },
   {
    "duration": 15,
    "start_time": "2022-01-26T09:09:10.530Z"
   },
   {
    "duration": 4,
    "start_time": "2022-01-26T09:09:10.546Z"
   },
   {
    "duration": 10,
    "start_time": "2022-01-26T09:09:10.552Z"
   },
   {
    "duration": 6,
    "start_time": "2022-01-26T09:09:10.564Z"
   },
   {
    "duration": 6,
    "start_time": "2022-01-26T09:09:10.571Z"
   },
   {
    "duration": 15,
    "start_time": "2022-01-26T09:09:10.579Z"
   },
   {
    "duration": 10,
    "start_time": "2022-01-26T09:09:10.595Z"
   },
   {
    "duration": 34,
    "start_time": "2022-01-26T09:09:10.607Z"
   },
   {
    "duration": 13,
    "start_time": "2022-01-26T09:09:10.643Z"
   },
   {
    "duration": 13,
    "start_time": "2022-01-26T09:09:10.658Z"
   },
   {
    "duration": 4,
    "start_time": "2022-01-26T09:09:10.673Z"
   },
   {
    "duration": 12,
    "start_time": "2022-01-26T09:09:10.678Z"
   },
   {
    "duration": 47,
    "start_time": "2022-01-26T09:09:10.692Z"
   },
   {
    "duration": 226,
    "start_time": "2022-01-26T09:09:10.741Z"
   },
   {
    "duration": 313,
    "start_time": "2022-01-26T09:09:10.968Z"
   },
   {
    "duration": 726,
    "start_time": "2022-01-26T09:09:11.283Z"
   },
   {
    "duration": 6,
    "start_time": "2022-01-26T09:09:12.011Z"
   },
   {
    "duration": 451,
    "start_time": "2022-01-26T09:09:12.019Z"
   },
   {
    "duration": 220,
    "start_time": "2022-01-26T09:09:12.473Z"
   },
   {
    "duration": 469,
    "start_time": "2022-01-26T09:09:12.695Z"
   },
   {
    "duration": 17,
    "start_time": "2022-01-26T09:09:13.166Z"
   },
   {
    "duration": 638,
    "start_time": "2022-01-26T09:09:13.184Z"
   },
   {
    "duration": 281,
    "start_time": "2022-01-26T09:09:13.826Z"
   },
   {
    "duration": 20,
    "start_time": "2022-01-26T09:09:14.108Z"
   },
   {
    "duration": 318,
    "start_time": "2022-01-26T09:09:14.129Z"
   },
   {
    "duration": 290,
    "start_time": "2022-01-26T09:09:14.448Z"
   },
   {
    "duration": 10,
    "start_time": "2022-01-26T09:09:14.740Z"
   },
   {
    "duration": 238,
    "start_time": "2022-01-26T09:09:14.752Z"
   },
   {
    "duration": 3,
    "start_time": "2022-01-26T09:09:14.992Z"
   },
   {
    "duration": 47,
    "start_time": "2022-01-26T09:09:14.997Z"
   },
   {
    "duration": 28,
    "start_time": "2022-01-26T09:09:15.046Z"
   },
   {
    "duration": 57,
    "start_time": "2022-01-26T09:09:15.075Z"
   },
   {
    "duration": 360,
    "start_time": "2022-01-26T09:09:15.133Z"
   },
   {
    "duration": -49,
    "start_time": "2022-01-26T09:09:15.544Z"
   },
   {
    "duration": -50,
    "start_time": "2022-01-26T09:09:15.546Z"
   },
   {
    "duration": -51,
    "start_time": "2022-01-26T09:09:15.548Z"
   },
   {
    "duration": 1105,
    "start_time": "2022-01-26T09:10:16.551Z"
   },
   {
    "duration": 35,
    "start_time": "2022-01-26T09:10:17.658Z"
   },
   {
    "duration": 15,
    "start_time": "2022-01-26T09:10:17.695Z"
   },
   {
    "duration": 32,
    "start_time": "2022-01-26T09:10:17.712Z"
   },
   {
    "duration": 12,
    "start_time": "2022-01-26T09:10:17.746Z"
   },
   {
    "duration": 7,
    "start_time": "2022-01-26T09:10:17.760Z"
   },
   {
    "duration": 28,
    "start_time": "2022-01-26T09:10:17.768Z"
   },
   {
    "duration": 6,
    "start_time": "2022-01-26T09:10:17.799Z"
   },
   {
    "duration": 25,
    "start_time": "2022-01-26T09:10:17.807Z"
   },
   {
    "duration": 26,
    "start_time": "2022-01-26T09:10:17.833Z"
   },
   {
    "duration": 9,
    "start_time": "2022-01-26T09:10:17.860Z"
   },
   {
    "duration": 27,
    "start_time": "2022-01-26T09:10:17.870Z"
   },
   {
    "duration": 14,
    "start_time": "2022-01-26T09:10:17.899Z"
   },
   {
    "duration": 13,
    "start_time": "2022-01-26T09:10:17.915Z"
   },
   {
    "duration": 8,
    "start_time": "2022-01-26T09:10:17.929Z"
   },
   {
    "duration": 23,
    "start_time": "2022-01-26T09:10:17.938Z"
   },
   {
    "duration": 43,
    "start_time": "2022-01-26T09:10:17.962Z"
   },
   {
    "duration": 226,
    "start_time": "2022-01-26T09:10:18.006Z"
   },
   {
    "duration": 295,
    "start_time": "2022-01-26T09:10:18.234Z"
   },
   {
    "duration": 789,
    "start_time": "2022-01-26T09:10:18.531Z"
   },
   {
    "duration": 9,
    "start_time": "2022-01-26T09:10:19.322Z"
   },
   {
    "duration": 434,
    "start_time": "2022-01-26T09:10:19.333Z"
   },
   {
    "duration": 224,
    "start_time": "2022-01-26T09:10:19.770Z"
   },
   {
    "duration": 510,
    "start_time": "2022-01-26T09:10:19.996Z"
   },
   {
    "duration": 26,
    "start_time": "2022-01-26T09:10:20.508Z"
   },
   {
    "duration": 634,
    "start_time": "2022-01-26T09:10:20.536Z"
   },
   {
    "duration": 264,
    "start_time": "2022-01-26T09:10:21.172Z"
   },
   {
    "duration": 11,
    "start_time": "2022-01-26T09:10:21.438Z"
   },
   {
    "duration": 317,
    "start_time": "2022-01-26T09:10:21.450Z"
   },
   {
    "duration": 300,
    "start_time": "2022-01-26T09:10:21.769Z"
   },
   {
    "duration": 9,
    "start_time": "2022-01-26T09:10:22.070Z"
   },
   {
    "duration": 219,
    "start_time": "2022-01-26T09:10:22.081Z"
   },
   {
    "duration": 3,
    "start_time": "2022-01-26T09:10:22.301Z"
   },
   {
    "duration": 38,
    "start_time": "2022-01-26T09:10:22.305Z"
   },
   {
    "duration": 27,
    "start_time": "2022-01-26T09:10:22.344Z"
   },
   {
    "duration": 54,
    "start_time": "2022-01-26T09:10:22.373Z"
   },
   {
    "duration": 373,
    "start_time": "2022-01-26T09:10:22.428Z"
   },
   {
    "duration": -44,
    "start_time": "2022-01-26T09:10:22.846Z"
   },
   {
    "duration": -45,
    "start_time": "2022-01-26T09:10:22.848Z"
   },
   {
    "duration": -46,
    "start_time": "2022-01-26T09:10:22.850Z"
   },
   {
    "duration": 1093,
    "start_time": "2022-01-26T09:12:18.061Z"
   },
   {
    "duration": 35,
    "start_time": "2022-01-26T09:12:19.156Z"
   },
   {
    "duration": 14,
    "start_time": "2022-01-26T09:12:19.193Z"
   },
   {
    "duration": 9,
    "start_time": "2022-01-26T09:12:19.209Z"
   },
   {
    "duration": 16,
    "start_time": "2022-01-26T09:12:19.220Z"
   },
   {
    "duration": 4,
    "start_time": "2022-01-26T09:12:19.238Z"
   },
   {
    "duration": 5,
    "start_time": "2022-01-26T09:12:19.244Z"
   },
   {
    "duration": 6,
    "start_time": "2022-01-26T09:12:19.251Z"
   },
   {
    "duration": 4,
    "start_time": "2022-01-26T09:12:19.260Z"
   },
   {
    "duration": 14,
    "start_time": "2022-01-26T09:12:19.266Z"
   },
   {
    "duration": 10,
    "start_time": "2022-01-26T09:12:19.281Z"
   },
   {
    "duration": 52,
    "start_time": "2022-01-26T09:12:19.292Z"
   },
   {
    "duration": 14,
    "start_time": "2022-01-26T09:12:19.345Z"
   },
   {
    "duration": 12,
    "start_time": "2022-01-26T09:12:19.361Z"
   },
   {
    "duration": 5,
    "start_time": "2022-01-26T09:12:19.375Z"
   },
   {
    "duration": 12,
    "start_time": "2022-01-26T09:12:19.381Z"
   },
   {
    "duration": 46,
    "start_time": "2022-01-26T09:12:19.395Z"
   },
   {
    "duration": 228,
    "start_time": "2022-01-26T09:12:19.443Z"
   },
   {
    "duration": 328,
    "start_time": "2022-01-26T09:12:19.673Z"
   },
   {
    "duration": 739,
    "start_time": "2022-01-26T09:12:20.003Z"
   },
   {
    "duration": 7,
    "start_time": "2022-01-26T09:12:20.744Z"
   },
   {
    "duration": 445,
    "start_time": "2022-01-26T09:12:20.752Z"
   },
   {
    "duration": 217,
    "start_time": "2022-01-26T09:12:21.198Z"
   },
   {
    "duration": 503,
    "start_time": "2022-01-26T09:12:21.417Z"
   },
   {
    "duration": 22,
    "start_time": "2022-01-26T09:12:21.922Z"
   },
   {
    "duration": 645,
    "start_time": "2022-01-26T09:12:21.946Z"
   },
   {
    "duration": 264,
    "start_time": "2022-01-26T09:12:22.594Z"
   },
   {
    "duration": 9,
    "start_time": "2022-01-26T09:12:22.860Z"
   },
   {
    "duration": 302,
    "start_time": "2022-01-26T09:12:22.871Z"
   },
   {
    "duration": 290,
    "start_time": "2022-01-26T09:12:23.175Z"
   },
   {
    "duration": 9,
    "start_time": "2022-01-26T09:12:23.467Z"
   },
   {
    "duration": 227,
    "start_time": "2022-01-26T09:12:23.477Z"
   },
   {
    "duration": 3,
    "start_time": "2022-01-26T09:12:23.705Z"
   },
   {
    "duration": 38,
    "start_time": "2022-01-26T09:12:23.709Z"
   },
   {
    "duration": 26,
    "start_time": "2022-01-26T09:12:23.748Z"
   },
   {
    "duration": 53,
    "start_time": "2022-01-26T09:12:23.775Z"
   },
   {
    "duration": 12,
    "start_time": "2022-01-26T09:12:23.829Z"
   },
   {
    "duration": 348,
    "start_time": "2022-01-26T09:12:23.842Z"
   },
   {
    "duration": -41,
    "start_time": "2022-01-26T09:12:24.232Z"
   },
   {
    "duration": -42,
    "start_time": "2022-01-26T09:12:24.234Z"
   },
   {
    "duration": -43,
    "start_time": "2022-01-26T09:12:24.236Z"
   },
   {
    "duration": 1007,
    "start_time": "2022-01-26T09:13:11.348Z"
   },
   {
    "duration": 34,
    "start_time": "2022-01-26T09:13:12.357Z"
   },
   {
    "duration": 15,
    "start_time": "2022-01-26T09:13:12.393Z"
   },
   {
    "duration": 8,
    "start_time": "2022-01-26T09:13:12.410Z"
   },
   {
    "duration": 13,
    "start_time": "2022-01-26T09:13:12.427Z"
   },
   {
    "duration": 4,
    "start_time": "2022-01-26T09:13:12.442Z"
   },
   {
    "duration": 3,
    "start_time": "2022-01-26T09:13:12.447Z"
   },
   {
    "duration": 6,
    "start_time": "2022-01-26T09:13:12.452Z"
   },
   {
    "duration": 5,
    "start_time": "2022-01-26T09:13:12.459Z"
   },
   {
    "duration": 12,
    "start_time": "2022-01-26T09:13:12.466Z"
   },
   {
    "duration": 9,
    "start_time": "2022-01-26T09:13:12.479Z"
   },
   {
    "duration": 49,
    "start_time": "2022-01-26T09:13:12.489Z"
   },
   {
    "duration": 12,
    "start_time": "2022-01-26T09:13:12.539Z"
   },
   {
    "duration": 14,
    "start_time": "2022-01-26T09:13:12.552Z"
   },
   {
    "duration": 4,
    "start_time": "2022-01-26T09:13:12.568Z"
   },
   {
    "duration": 12,
    "start_time": "2022-01-26T09:13:12.573Z"
   },
   {
    "duration": 42,
    "start_time": "2022-01-26T09:13:12.586Z"
   },
   {
    "duration": 211,
    "start_time": "2022-01-26T09:13:12.630Z"
   },
   {
    "duration": 298,
    "start_time": "2022-01-26T09:13:12.843Z"
   },
   {
    "duration": 671,
    "start_time": "2022-01-26T09:13:13.142Z"
   },
   {
    "duration": 13,
    "start_time": "2022-01-26T09:13:13.815Z"
   },
   {
    "duration": 523,
    "start_time": "2022-01-26T09:13:13.829Z"
   },
   {
    "duration": 217,
    "start_time": "2022-01-26T09:13:14.355Z"
   },
   {
    "duration": 487,
    "start_time": "2022-01-26T09:13:14.575Z"
   },
   {
    "duration": 18,
    "start_time": "2022-01-26T09:13:15.063Z"
   },
   {
    "duration": 637,
    "start_time": "2022-01-26T09:13:15.083Z"
   },
   {
    "duration": 259,
    "start_time": "2022-01-26T09:13:15.722Z"
   },
   {
    "duration": 9,
    "start_time": "2022-01-26T09:13:15.983Z"
   },
   {
    "duration": 343,
    "start_time": "2022-01-26T09:13:15.994Z"
   },
   {
    "duration": 303,
    "start_time": "2022-01-26T09:13:16.339Z"
   },
   {
    "duration": 9,
    "start_time": "2022-01-26T09:13:16.644Z"
   },
   {
    "duration": 225,
    "start_time": "2022-01-26T09:13:16.655Z"
   },
   {
    "duration": 3,
    "start_time": "2022-01-26T09:13:16.882Z"
   },
   {
    "duration": 46,
    "start_time": "2022-01-26T09:13:16.886Z"
   },
   {
    "duration": 28,
    "start_time": "2022-01-26T09:13:16.934Z"
   },
   {
    "duration": 30,
    "start_time": "2022-01-26T09:13:16.963Z"
   },
   {
    "duration": 38,
    "start_time": "2022-01-26T09:13:16.994Z"
   },
   {
    "duration": 10,
    "start_time": "2022-01-26T09:13:17.033Z"
   },
   {
    "duration": 20,
    "start_time": "2022-01-26T09:13:17.044Z"
   },
   {
    "duration": 10,
    "start_time": "2022-01-26T09:13:17.065Z"
   },
   {
    "duration": 51,
    "start_time": "2022-01-26T09:13:17.077Z"
   },
   {
    "duration": 1018,
    "start_time": "2022-01-26T09:14:46.058Z"
   },
   {
    "duration": 35,
    "start_time": "2022-01-26T09:14:47.077Z"
   },
   {
    "duration": 15,
    "start_time": "2022-01-26T09:14:47.113Z"
   },
   {
    "duration": 9,
    "start_time": "2022-01-26T09:14:47.130Z"
   },
   {
    "duration": 15,
    "start_time": "2022-01-26T09:14:47.141Z"
   },
   {
    "duration": 5,
    "start_time": "2022-01-26T09:14:47.157Z"
   },
   {
    "duration": 3,
    "start_time": "2022-01-26T09:14:47.164Z"
   },
   {
    "duration": 5,
    "start_time": "2022-01-26T09:14:47.169Z"
   },
   {
    "duration": 5,
    "start_time": "2022-01-26T09:14:47.176Z"
   },
   {
    "duration": 45,
    "start_time": "2022-01-26T09:14:47.183Z"
   },
   {
    "duration": 9,
    "start_time": "2022-01-26T09:14:47.230Z"
   },
   {
    "duration": 15,
    "start_time": "2022-01-26T09:14:47.241Z"
   },
   {
    "duration": 11,
    "start_time": "2022-01-26T09:14:47.258Z"
   },
   {
    "duration": 13,
    "start_time": "2022-01-26T09:14:47.270Z"
   },
   {
    "duration": 7,
    "start_time": "2022-01-26T09:14:47.284Z"
   },
   {
    "duration": 41,
    "start_time": "2022-01-26T09:14:47.293Z"
   },
   {
    "duration": 17,
    "start_time": "2022-01-26T09:14:47.335Z"
   },
   {
    "duration": 228,
    "start_time": "2022-01-26T09:14:47.354Z"
   },
   {
    "duration": 302,
    "start_time": "2022-01-26T09:14:47.584Z"
   },
   {
    "duration": 717,
    "start_time": "2022-01-26T09:14:47.888Z"
   },
   {
    "duration": 5,
    "start_time": "2022-01-26T09:14:48.607Z"
   },
   {
    "duration": 448,
    "start_time": "2022-01-26T09:14:48.614Z"
   },
   {
    "duration": 214,
    "start_time": "2022-01-26T09:14:49.066Z"
   },
   {
    "duration": 491,
    "start_time": "2022-01-26T09:14:49.281Z"
   },
   {
    "duration": 24,
    "start_time": "2022-01-26T09:14:49.773Z"
   },
   {
    "duration": 685,
    "start_time": "2022-01-26T09:14:49.799Z"
   },
   {
    "duration": 267,
    "start_time": "2022-01-26T09:14:50.486Z"
   },
   {
    "duration": 9,
    "start_time": "2022-01-26T09:14:50.755Z"
   },
   {
    "duration": 302,
    "start_time": "2022-01-26T09:14:50.765Z"
   },
   {
    "duration": 297,
    "start_time": "2022-01-26T09:14:51.068Z"
   },
   {
    "duration": 11,
    "start_time": "2022-01-26T09:14:51.367Z"
   },
   {
    "duration": 234,
    "start_time": "2022-01-26T09:14:51.379Z"
   },
   {
    "duration": 3,
    "start_time": "2022-01-26T09:14:51.615Z"
   },
   {
    "duration": 35,
    "start_time": "2022-01-26T09:14:51.619Z"
   },
   {
    "duration": 29,
    "start_time": "2022-01-26T09:14:51.655Z"
   },
   {
    "duration": 53,
    "start_time": "2022-01-26T09:14:51.685Z"
   },
   {
    "duration": 12,
    "start_time": "2022-01-26T09:14:51.740Z"
   },
   {
    "duration": 13,
    "start_time": "2022-01-26T09:14:51.753Z"
   },
   {
    "duration": 22,
    "start_time": "2022-01-26T09:14:51.768Z"
   },
   {
    "duration": 44,
    "start_time": "2022-01-26T09:14:51.792Z"
   },
   {
    "duration": 21,
    "start_time": "2022-01-26T09:14:51.838Z"
   },
   {
    "duration": 992,
    "start_time": "2022-01-26T09:15:58.277Z"
   },
   {
    "duration": 34,
    "start_time": "2022-01-26T09:15:59.271Z"
   },
   {
    "duration": 15,
    "start_time": "2022-01-26T09:15:59.307Z"
   },
   {
    "duration": 9,
    "start_time": "2022-01-26T09:15:59.324Z"
   },
   {
    "duration": 14,
    "start_time": "2022-01-26T09:15:59.334Z"
   },
   {
    "duration": 4,
    "start_time": "2022-01-26T09:15:59.349Z"
   },
   {
    "duration": 4,
    "start_time": "2022-01-26T09:15:59.355Z"
   },
   {
    "duration": 6,
    "start_time": "2022-01-26T09:15:59.360Z"
   },
   {
    "duration": 9,
    "start_time": "2022-01-26T09:15:59.368Z"
   },
   {
    "duration": 14,
    "start_time": "2022-01-26T09:15:59.378Z"
   },
   {
    "duration": 8,
    "start_time": "2022-01-26T09:15:59.393Z"
   },
   {
    "duration": 18,
    "start_time": "2022-01-26T09:15:59.426Z"
   },
   {
    "duration": 15,
    "start_time": "2022-01-26T09:15:59.445Z"
   },
   {
    "duration": 13,
    "start_time": "2022-01-26T09:15:59.461Z"
   },
   {
    "duration": 7,
    "start_time": "2022-01-26T09:15:59.476Z"
   },
   {
    "duration": 11,
    "start_time": "2022-01-26T09:15:59.484Z"
   },
   {
    "duration": 42,
    "start_time": "2022-01-26T09:15:59.497Z"
   },
   {
    "duration": 218,
    "start_time": "2022-01-26T09:15:59.541Z"
   },
   {
    "duration": 306,
    "start_time": "2022-01-26T09:15:59.761Z"
   },
   {
    "duration": 726,
    "start_time": "2022-01-26T09:16:00.069Z"
   },
   {
    "duration": 6,
    "start_time": "2022-01-26T09:16:00.796Z"
   },
   {
    "duration": 452,
    "start_time": "2022-01-26T09:16:00.804Z"
   },
   {
    "duration": 227,
    "start_time": "2022-01-26T09:16:01.258Z"
   },
   {
    "duration": 518,
    "start_time": "2022-01-26T09:16:01.488Z"
   },
   {
    "duration": 26,
    "start_time": "2022-01-26T09:16:02.008Z"
   },
   {
    "duration": 635,
    "start_time": "2022-01-26T09:16:02.036Z"
   },
   {
    "duration": 259,
    "start_time": "2022-01-26T09:16:02.674Z"
   },
   {
    "duration": 9,
    "start_time": "2022-01-26T09:16:02.935Z"
   },
   {
    "duration": 311,
    "start_time": "2022-01-26T09:16:02.945Z"
   },
   {
    "duration": 286,
    "start_time": "2022-01-26T09:16:03.258Z"
   },
   {
    "duration": 9,
    "start_time": "2022-01-26T09:16:03.545Z"
   },
   {
    "duration": 228,
    "start_time": "2022-01-26T09:16:03.555Z"
   },
   {
    "duration": 3,
    "start_time": "2022-01-26T09:16:03.784Z"
   },
   {
    "duration": 42,
    "start_time": "2022-01-26T09:16:03.788Z"
   },
   {
    "duration": 26,
    "start_time": "2022-01-26T09:16:03.832Z"
   },
   {
    "duration": 29,
    "start_time": "2022-01-26T09:16:03.860Z"
   },
   {
    "duration": 41,
    "start_time": "2022-01-26T09:16:03.891Z"
   },
   {
    "duration": 21,
    "start_time": "2022-01-26T09:16:03.934Z"
   },
   {
    "duration": 11,
    "start_time": "2022-01-26T09:16:03.956Z"
   },
   {
    "duration": 22,
    "start_time": "2022-01-26T09:16:03.969Z"
   },
   {
    "duration": 1225,
    "start_time": "2022-01-26T09:24:06.704Z"
   },
   {
    "duration": 37,
    "start_time": "2022-01-26T09:24:07.930Z"
   },
   {
    "duration": 15,
    "start_time": "2022-01-26T09:24:07.969Z"
   },
   {
    "duration": 9,
    "start_time": "2022-01-26T09:24:07.985Z"
   },
   {
    "duration": 16,
    "start_time": "2022-01-26T09:24:07.995Z"
   },
   {
    "duration": 17,
    "start_time": "2022-01-26T09:24:08.012Z"
   },
   {
    "duration": 3,
    "start_time": "2022-01-26T09:24:08.031Z"
   },
   {
    "duration": 6,
    "start_time": "2022-01-26T09:24:08.036Z"
   },
   {
    "duration": 7,
    "start_time": "2022-01-26T09:24:08.044Z"
   },
   {
    "duration": 12,
    "start_time": "2022-01-26T09:24:08.053Z"
   },
   {
    "duration": 8,
    "start_time": "2022-01-26T09:24:08.066Z"
   },
   {
    "duration": 16,
    "start_time": "2022-01-26T09:24:08.076Z"
   },
   {
    "duration": 46,
    "start_time": "2022-01-26T09:24:08.093Z"
   },
   {
    "duration": 13,
    "start_time": "2022-01-26T09:24:08.141Z"
   },
   {
    "duration": 7,
    "start_time": "2022-01-26T09:24:08.156Z"
   },
   {
    "duration": 11,
    "start_time": "2022-01-26T09:24:08.165Z"
   },
   {
    "duration": 16,
    "start_time": "2022-01-26T09:24:08.178Z"
   },
   {
    "duration": 349,
    "start_time": "2022-01-26T09:24:08.196Z"
   },
   {
    "duration": 298,
    "start_time": "2022-01-26T09:24:08.546Z"
   },
   {
    "duration": 698,
    "start_time": "2022-01-26T09:24:08.846Z"
   },
   {
    "duration": 6,
    "start_time": "2022-01-26T09:24:09.545Z"
   },
   {
    "duration": 426,
    "start_time": "2022-01-26T09:24:09.553Z"
   },
   {
    "duration": 214,
    "start_time": "2022-01-26T09:24:09.981Z"
   },
   {
    "duration": 487,
    "start_time": "2022-01-26T09:24:10.197Z"
   },
   {
    "duration": 18,
    "start_time": "2022-01-26T09:24:10.686Z"
   },
   {
    "duration": 650,
    "start_time": "2022-01-26T09:24:10.706Z"
   },
   {
    "duration": 268,
    "start_time": "2022-01-26T09:24:11.359Z"
   },
   {
    "duration": 9,
    "start_time": "2022-01-26T09:24:11.629Z"
   },
   {
    "duration": 320,
    "start_time": "2022-01-26T09:24:11.640Z"
   },
   {
    "duration": 280,
    "start_time": "2022-01-26T09:24:11.962Z"
   },
   {
    "duration": 9,
    "start_time": "2022-01-26T09:24:12.244Z"
   },
   {
    "duration": 228,
    "start_time": "2022-01-26T09:24:12.255Z"
   },
   {
    "duration": 3,
    "start_time": "2022-01-26T09:24:12.484Z"
   },
   {
    "duration": 41,
    "start_time": "2022-01-26T09:24:12.488Z"
   },
   {
    "duration": 26,
    "start_time": "2022-01-26T09:24:12.531Z"
   },
   {
    "duration": 26,
    "start_time": "2022-01-26T09:24:12.558Z"
   },
   {
    "duration": 10,
    "start_time": "2022-01-26T09:24:12.585Z"
   },
   {
    "duration": 22,
    "start_time": "2022-01-26T09:24:12.627Z"
   },
   {
    "duration": 11,
    "start_time": "2022-01-26T09:24:12.651Z"
   },
   {
    "duration": 21,
    "start_time": "2022-01-26T09:24:12.663Z"
   },
   {
    "duration": 1116,
    "start_time": "2022-01-26T09:29:04.350Z"
   },
   {
    "duration": 38,
    "start_time": "2022-01-26T09:29:05.468Z"
   },
   {
    "duration": 19,
    "start_time": "2022-01-26T09:29:05.508Z"
   },
   {
    "duration": 10,
    "start_time": "2022-01-26T09:29:05.528Z"
   },
   {
    "duration": 14,
    "start_time": "2022-01-26T09:29:05.539Z"
   },
   {
    "duration": 4,
    "start_time": "2022-01-26T09:29:05.555Z"
   },
   {
    "duration": 4,
    "start_time": "2022-01-26T09:29:05.560Z"
   },
   {
    "duration": 6,
    "start_time": "2022-01-26T09:29:05.566Z"
   },
   {
    "duration": 7,
    "start_time": "2022-01-26T09:29:05.574Z"
   },
   {
    "duration": 14,
    "start_time": "2022-01-26T09:29:05.583Z"
   },
   {
    "duration": 36,
    "start_time": "2022-01-26T09:29:05.599Z"
   },
   {
    "duration": 18,
    "start_time": "2022-01-26T09:29:05.636Z"
   },
   {
    "duration": 13,
    "start_time": "2022-01-26T09:29:05.656Z"
   },
   {
    "duration": 14,
    "start_time": "2022-01-26T09:29:05.670Z"
   },
   {
    "duration": 5,
    "start_time": "2022-01-26T09:29:05.685Z"
   },
   {
    "duration": 41,
    "start_time": "2022-01-26T09:29:05.691Z"
   },
   {
    "duration": 17,
    "start_time": "2022-01-26T09:29:05.733Z"
   },
   {
    "duration": 228,
    "start_time": "2022-01-26T09:29:05.751Z"
   },
   {
    "duration": 300,
    "start_time": "2022-01-26T09:29:05.981Z"
   },
   {
    "duration": 736,
    "start_time": "2022-01-26T09:29:06.282Z"
   },
   {
    "duration": 12,
    "start_time": "2022-01-26T09:29:07.019Z"
   },
   {
    "duration": 460,
    "start_time": "2022-01-26T09:29:07.032Z"
   },
   {
    "duration": 213,
    "start_time": "2022-01-26T09:29:07.495Z"
   },
   {
    "duration": 524,
    "start_time": "2022-01-26T09:29:07.710Z"
   },
   {
    "duration": 17,
    "start_time": "2022-01-26T09:29:08.236Z"
   },
   {
    "duration": 655,
    "start_time": "2022-01-26T09:29:08.255Z"
   },
   {
    "duration": 270,
    "start_time": "2022-01-26T09:29:08.911Z"
   },
   {
    "duration": 10,
    "start_time": "2022-01-26T09:29:09.183Z"
   },
   {
    "duration": 353,
    "start_time": "2022-01-26T09:29:09.194Z"
   },
   {
    "duration": 294,
    "start_time": "2022-01-26T09:29:09.549Z"
   },
   {
    "duration": 9,
    "start_time": "2022-01-26T09:29:09.845Z"
   },
   {
    "duration": 228,
    "start_time": "2022-01-26T09:29:09.856Z"
   },
   {
    "duration": 2,
    "start_time": "2022-01-26T09:29:10.086Z"
   },
   {
    "duration": 38,
    "start_time": "2022-01-26T09:29:10.090Z"
   },
   {
    "duration": 25,
    "start_time": "2022-01-26T09:29:10.129Z"
   },
   {
    "duration": 26,
    "start_time": "2022-01-26T09:29:10.155Z"
   },
   {
    "duration": 10,
    "start_time": "2022-01-26T09:29:10.182Z"
   },
   {
    "duration": 52,
    "start_time": "2022-01-26T09:29:10.193Z"
   },
   {
    "duration": 11,
    "start_time": "2022-01-26T09:29:10.247Z"
   },
   {
    "duration": 20,
    "start_time": "2022-01-26T09:29:10.259Z"
   },
   {
    "duration": 1127,
    "start_time": "2022-01-26T09:41:51.432Z"
   },
   {
    "duration": 35,
    "start_time": "2022-01-26T09:41:52.561Z"
   },
   {
    "duration": 15,
    "start_time": "2022-01-26T09:41:52.598Z"
   },
   {
    "duration": 12,
    "start_time": "2022-01-26T09:41:52.615Z"
   },
   {
    "duration": 14,
    "start_time": "2022-01-26T09:41:52.628Z"
   },
   {
    "duration": 4,
    "start_time": "2022-01-26T09:41:52.643Z"
   },
   {
    "duration": 4,
    "start_time": "2022-01-26T09:41:52.648Z"
   },
   {
    "duration": 6,
    "start_time": "2022-01-26T09:41:52.654Z"
   },
   {
    "duration": 7,
    "start_time": "2022-01-26T09:41:52.662Z"
   },
   {
    "duration": 12,
    "start_time": "2022-01-26T09:41:52.670Z"
   },
   {
    "duration": 46,
    "start_time": "2022-01-26T09:41:52.684Z"
   },
   {
    "duration": 18,
    "start_time": "2022-01-26T09:41:52.732Z"
   },
   {
    "duration": 14,
    "start_time": "2022-01-26T09:41:52.752Z"
   },
   {
    "duration": 15,
    "start_time": "2022-01-26T09:41:52.767Z"
   },
   {
    "duration": 5,
    "start_time": "2022-01-26T09:41:52.784Z"
   },
   {
    "duration": 47,
    "start_time": "2022-01-26T09:41:52.790Z"
   },
   {
    "duration": 17,
    "start_time": "2022-01-26T09:41:52.839Z"
   },
   {
    "duration": 226,
    "start_time": "2022-01-26T09:41:52.857Z"
   },
   {
    "duration": 297,
    "start_time": "2022-01-26T09:41:53.084Z"
   },
   {
    "duration": 720,
    "start_time": "2022-01-26T09:41:53.383Z"
   },
   {
    "duration": 6,
    "start_time": "2022-01-26T09:41:54.105Z"
   },
   {
    "duration": 452,
    "start_time": "2022-01-26T09:41:54.112Z"
   },
   {
    "duration": 219,
    "start_time": "2022-01-26T09:41:54.567Z"
   },
   {
    "duration": 564,
    "start_time": "2022-01-26T09:41:54.787Z"
   },
   {
    "duration": -88,
    "start_time": "2022-01-26T09:41:55.441Z"
   },
   {
    "duration": -89,
    "start_time": "2022-01-26T09:41:55.443Z"
   },
   {
    "duration": -90,
    "start_time": "2022-01-26T09:41:55.445Z"
   },
   {
    "duration": -91,
    "start_time": "2022-01-26T09:41:55.446Z"
   },
   {
    "duration": -92,
    "start_time": "2022-01-26T09:41:55.448Z"
   },
   {
    "duration": -93,
    "start_time": "2022-01-26T09:41:55.450Z"
   },
   {
    "duration": -93,
    "start_time": "2022-01-26T09:41:55.451Z"
   },
   {
    "duration": -94,
    "start_time": "2022-01-26T09:41:55.453Z"
   },
   {
    "duration": -95,
    "start_time": "2022-01-26T09:41:55.455Z"
   },
   {
    "duration": -96,
    "start_time": "2022-01-26T09:41:55.456Z"
   },
   {
    "duration": -97,
    "start_time": "2022-01-26T09:41:55.458Z"
   },
   {
    "duration": -97,
    "start_time": "2022-01-26T09:41:55.459Z"
   },
   {
    "duration": -98,
    "start_time": "2022-01-26T09:41:55.461Z"
   },
   {
    "duration": -100,
    "start_time": "2022-01-26T09:41:55.463Z"
   },
   {
    "duration": -100,
    "start_time": "2022-01-26T09:41:55.464Z"
   },
   {
    "duration": -101,
    "start_time": "2022-01-26T09:41:55.466Z"
   },
   {
    "duration": -101,
    "start_time": "2022-01-26T09:41:55.467Z"
   },
   {
    "duration": 1090,
    "start_time": "2022-01-26T09:43:45.214Z"
   },
   {
    "duration": 35,
    "start_time": "2022-01-26T09:43:46.306Z"
   },
   {
    "duration": 14,
    "start_time": "2022-01-26T09:43:46.343Z"
   },
   {
    "duration": 10,
    "start_time": "2022-01-26T09:43:46.359Z"
   },
   {
    "duration": 17,
    "start_time": "2022-01-26T09:43:46.370Z"
   },
   {
    "duration": 4,
    "start_time": "2022-01-26T09:43:46.388Z"
   },
   {
    "duration": 5,
    "start_time": "2022-01-26T09:43:46.393Z"
   },
   {
    "duration": 29,
    "start_time": "2022-01-26T09:43:46.401Z"
   },
   {
    "duration": 9,
    "start_time": "2022-01-26T09:43:46.431Z"
   },
   {
    "duration": 18,
    "start_time": "2022-01-26T09:43:46.441Z"
   },
   {
    "duration": 8,
    "start_time": "2022-01-26T09:43:46.461Z"
   },
   {
    "duration": 17,
    "start_time": "2022-01-26T09:43:46.471Z"
   },
   {
    "duration": 13,
    "start_time": "2022-01-26T09:43:46.489Z"
   },
   {
    "duration": 30,
    "start_time": "2022-01-26T09:43:46.504Z"
   },
   {
    "duration": 7,
    "start_time": "2022-01-26T09:43:46.535Z"
   },
   {
    "duration": 11,
    "start_time": "2022-01-26T09:43:46.544Z"
   },
   {
    "duration": 18,
    "start_time": "2022-01-26T09:43:46.556Z"
   },
   {
    "duration": 224,
    "start_time": "2022-01-26T09:43:46.576Z"
   },
   {
    "duration": 304,
    "start_time": "2022-01-26T09:43:46.801Z"
   },
   {
    "duration": 709,
    "start_time": "2022-01-26T09:43:47.107Z"
   },
   {
    "duration": 11,
    "start_time": "2022-01-26T09:43:47.817Z"
   },
   {
    "duration": 430,
    "start_time": "2022-01-26T09:43:47.829Z"
   },
   {
    "duration": 392,
    "start_time": "2022-01-26T09:43:48.262Z"
   },
   {
    "duration": -48,
    "start_time": "2022-01-26T09:43:48.704Z"
   },
   {
    "duration": -50,
    "start_time": "2022-01-26T09:43:48.707Z"
   },
   {
    "duration": -83,
    "start_time": "2022-01-26T09:43:48.741Z"
   },
   {
    "duration": -87,
    "start_time": "2022-01-26T09:43:48.746Z"
   },
   {
    "duration": -92,
    "start_time": "2022-01-26T09:43:48.751Z"
   },
   {
    "duration": -93,
    "start_time": "2022-01-26T09:43:48.753Z"
   },
   {
    "duration": -93,
    "start_time": "2022-01-26T09:43:48.754Z"
   },
   {
    "duration": -96,
    "start_time": "2022-01-26T09:43:48.758Z"
   },
   {
    "duration": -100,
    "start_time": "2022-01-26T09:43:48.763Z"
   },
   {
    "duration": -102,
    "start_time": "2022-01-26T09:43:48.766Z"
   },
   {
    "duration": -104,
    "start_time": "2022-01-26T09:43:48.769Z"
   },
   {
    "duration": -105,
    "start_time": "2022-01-26T09:43:48.771Z"
   },
   {
    "duration": -107,
    "start_time": "2022-01-26T09:43:48.774Z"
   },
   {
    "duration": -111,
    "start_time": "2022-01-26T09:43:48.779Z"
   },
   {
    "duration": -113,
    "start_time": "2022-01-26T09:43:48.782Z"
   },
   {
    "duration": -115,
    "start_time": "2022-01-26T09:43:48.785Z"
   },
   {
    "duration": -116,
    "start_time": "2022-01-26T09:43:48.786Z"
   },
   {
    "duration": 1078,
    "start_time": "2022-01-26T09:47:37.289Z"
   },
   {
    "duration": 35,
    "start_time": "2022-01-26T09:47:38.368Z"
   },
   {
    "duration": 16,
    "start_time": "2022-01-26T09:47:38.405Z"
   },
   {
    "duration": 11,
    "start_time": "2022-01-26T09:47:38.423Z"
   },
   {
    "duration": 15,
    "start_time": "2022-01-26T09:47:38.436Z"
   },
   {
    "duration": 4,
    "start_time": "2022-01-26T09:47:38.453Z"
   },
   {
    "duration": 6,
    "start_time": "2022-01-26T09:47:38.459Z"
   },
   {
    "duration": 10,
    "start_time": "2022-01-26T09:47:38.468Z"
   },
   {
    "duration": 10,
    "start_time": "2022-01-26T09:47:38.480Z"
   },
   {
    "duration": 13,
    "start_time": "2022-01-26T09:47:38.492Z"
   },
   {
    "duration": 27,
    "start_time": "2022-01-26T09:47:38.506Z"
   },
   {
    "duration": 19,
    "start_time": "2022-01-26T09:47:38.534Z"
   },
   {
    "duration": 16,
    "start_time": "2022-01-26T09:47:38.554Z"
   },
   {
    "duration": 14,
    "start_time": "2022-01-26T09:47:38.571Z"
   },
   {
    "duration": 4,
    "start_time": "2022-01-26T09:47:38.586Z"
   },
   {
    "duration": 45,
    "start_time": "2022-01-26T09:47:38.592Z"
   },
   {
    "duration": 17,
    "start_time": "2022-01-26T09:47:38.639Z"
   },
   {
    "duration": 230,
    "start_time": "2022-01-26T09:47:38.657Z"
   },
   {
    "duration": 310,
    "start_time": "2022-01-26T09:47:38.888Z"
   },
   {
    "duration": 780,
    "start_time": "2022-01-26T09:47:39.200Z"
   },
   {
    "duration": 8,
    "start_time": "2022-01-26T09:47:39.982Z"
   },
   {
    "duration": 493,
    "start_time": "2022-01-26T09:47:39.991Z"
   },
   {
    "duration": 225,
    "start_time": "2022-01-26T09:47:40.488Z"
   },
   {
    "duration": 539,
    "start_time": "2022-01-26T09:47:40.715Z"
   },
   {
    "duration": 17,
    "start_time": "2022-01-26T09:47:41.256Z"
   },
   {
    "duration": 745,
    "start_time": "2022-01-26T09:47:41.275Z"
   },
   {
    "duration": 262,
    "start_time": "2022-01-26T09:47:42.022Z"
   },
   {
    "duration": 10,
    "start_time": "2022-01-26T09:47:42.285Z"
   },
   {
    "duration": 364,
    "start_time": "2022-01-26T09:47:42.297Z"
   },
   {
    "duration": 288,
    "start_time": "2022-01-26T09:47:42.663Z"
   },
   {
    "duration": 10,
    "start_time": "2022-01-26T09:47:42.952Z"
   },
   {
    "duration": 228,
    "start_time": "2022-01-26T09:47:42.963Z"
   },
   {
    "duration": 4,
    "start_time": "2022-01-26T09:47:43.193Z"
   },
   {
    "duration": 38,
    "start_time": "2022-01-26T09:47:43.198Z"
   },
   {
    "duration": 26,
    "start_time": "2022-01-26T09:47:43.238Z"
   },
   {
    "duration": 27,
    "start_time": "2022-01-26T09:47:43.265Z"
   },
   {
    "duration": 41,
    "start_time": "2022-01-26T09:47:43.293Z"
   },
   {
    "duration": 23,
    "start_time": "2022-01-26T09:47:43.335Z"
   },
   {
    "duration": 10,
    "start_time": "2022-01-26T09:47:43.360Z"
   },
   {
    "duration": 22,
    "start_time": "2022-01-26T09:47:43.371Z"
   },
   {
    "duration": 1153,
    "start_time": "2022-01-26T10:16:00.932Z"
   },
   {
    "duration": 35,
    "start_time": "2022-01-26T10:16:02.086Z"
   },
   {
    "duration": 16,
    "start_time": "2022-01-26T10:16:02.123Z"
   },
   {
    "duration": 16,
    "start_time": "2022-01-26T10:16:02.140Z"
   },
   {
    "duration": 33,
    "start_time": "2022-01-26T10:16:02.158Z"
   },
   {
    "duration": 4,
    "start_time": "2022-01-26T10:16:02.192Z"
   },
   {
    "duration": 6,
    "start_time": "2022-01-26T10:16:02.197Z"
   },
   {
    "duration": 10,
    "start_time": "2022-01-26T10:16:02.205Z"
   },
   {
    "duration": 10,
    "start_time": "2022-01-26T10:16:02.216Z"
   },
   {
    "duration": 16,
    "start_time": "2022-01-26T10:16:02.227Z"
   },
   {
    "duration": 9,
    "start_time": "2022-01-26T10:16:02.244Z"
   },
   {
    "duration": 20,
    "start_time": "2022-01-26T10:16:02.254Z"
   },
   {
    "duration": 12,
    "start_time": "2022-01-26T10:16:02.275Z"
   },
   {
    "duration": 15,
    "start_time": "2022-01-26T10:16:02.288Z"
   },
   {
    "duration": 25,
    "start_time": "2022-01-26T10:16:02.305Z"
   },
   {
    "duration": 13,
    "start_time": "2022-01-26T10:16:02.331Z"
   },
   {
    "duration": 18,
    "start_time": "2022-01-26T10:16:02.345Z"
   },
   {
    "duration": 224,
    "start_time": "2022-01-26T10:16:02.364Z"
   },
   {
    "duration": 298,
    "start_time": "2022-01-26T10:16:02.590Z"
   },
   {
    "duration": 724,
    "start_time": "2022-01-26T10:16:02.890Z"
   },
   {
    "duration": 12,
    "start_time": "2022-01-26T10:16:03.616Z"
   },
   {
    "duration": 432,
    "start_time": "2022-01-26T10:16:03.629Z"
   },
   {
    "duration": 221,
    "start_time": "2022-01-26T10:16:04.064Z"
   },
   {
    "duration": 542,
    "start_time": "2022-01-26T10:16:04.287Z"
   },
   {
    "duration": 18,
    "start_time": "2022-01-26T10:16:04.831Z"
   },
   {
    "duration": 641,
    "start_time": "2022-01-26T10:16:04.851Z"
   },
   {
    "duration": 268,
    "start_time": "2022-01-26T10:16:05.494Z"
   },
   {
    "duration": 10,
    "start_time": "2022-01-26T10:16:05.763Z"
   },
   {
    "duration": 326,
    "start_time": "2022-01-26T10:16:05.774Z"
   },
   {
    "duration": 345,
    "start_time": "2022-01-26T10:16:06.102Z"
   },
   {
    "duration": 9,
    "start_time": "2022-01-26T10:16:06.448Z"
   },
   {
    "duration": 225,
    "start_time": "2022-01-26T10:16:06.459Z"
   },
   {
    "duration": 3,
    "start_time": "2022-01-26T10:16:06.686Z"
   },
   {
    "duration": 42,
    "start_time": "2022-01-26T10:16:06.690Z"
   },
   {
    "duration": 25,
    "start_time": "2022-01-26T10:16:06.733Z"
   },
   {
    "duration": 26,
    "start_time": "2022-01-26T10:16:06.760Z"
   },
   {
    "duration": 10,
    "start_time": "2022-01-26T10:16:06.787Z"
   },
   {
    "duration": 48,
    "start_time": "2022-01-26T10:16:06.799Z"
   },
   {
    "duration": 12,
    "start_time": "2022-01-26T10:16:06.848Z"
   },
   {
    "duration": 21,
    "start_time": "2022-01-26T10:16:06.861Z"
   },
   {
    "duration": 1148,
    "start_time": "2022-01-26T10:17:01.020Z"
   },
   {
    "duration": 34,
    "start_time": "2022-01-26T10:17:02.170Z"
   },
   {
    "duration": 15,
    "start_time": "2022-01-26T10:17:02.206Z"
   },
   {
    "duration": 11,
    "start_time": "2022-01-26T10:17:02.222Z"
   },
   {
    "duration": 14,
    "start_time": "2022-01-26T10:17:02.235Z"
   },
   {
    "duration": 3,
    "start_time": "2022-01-26T10:17:02.251Z"
   },
   {
    "duration": 3,
    "start_time": "2022-01-26T10:17:02.256Z"
   },
   {
    "duration": 7,
    "start_time": "2022-01-26T10:17:02.261Z"
   },
   {
    "duration": 5,
    "start_time": "2022-01-26T10:17:02.270Z"
   },
   {
    "duration": 14,
    "start_time": "2022-01-26T10:17:02.276Z"
   },
   {
    "duration": 37,
    "start_time": "2022-01-26T10:17:02.291Z"
   },
   {
    "duration": 18,
    "start_time": "2022-01-26T10:17:02.329Z"
   },
   {
    "duration": 17,
    "start_time": "2022-01-26T10:17:02.348Z"
   },
   {
    "duration": 13,
    "start_time": "2022-01-26T10:17:02.367Z"
   },
   {
    "duration": 5,
    "start_time": "2022-01-26T10:17:02.381Z"
   },
   {
    "duration": 12,
    "start_time": "2022-01-26T10:17:02.387Z"
   },
   {
    "duration": 43,
    "start_time": "2022-01-26T10:17:02.401Z"
   },
   {
    "duration": 221,
    "start_time": "2022-01-26T10:17:02.445Z"
   },
   {
    "duration": 325,
    "start_time": "2022-01-26T10:17:02.667Z"
   },
   {
    "duration": 735,
    "start_time": "2022-01-26T10:17:02.994Z"
   },
   {
    "duration": 6,
    "start_time": "2022-01-26T10:17:03.731Z"
   },
   {
    "duration": 489,
    "start_time": "2022-01-26T10:17:03.739Z"
   },
   {
    "duration": 238,
    "start_time": "2022-01-26T10:17:04.232Z"
   },
   {
    "duration": 586,
    "start_time": "2022-01-26T10:17:04.472Z"
   },
   {
    "duration": 18,
    "start_time": "2022-01-26T10:17:05.059Z"
   },
   {
    "duration": 666,
    "start_time": "2022-01-26T10:17:05.079Z"
   },
   {
    "duration": 275,
    "start_time": "2022-01-26T10:17:05.747Z"
   },
   {
    "duration": 10,
    "start_time": "2022-01-26T10:17:06.027Z"
   },
   {
    "duration": 317,
    "start_time": "2022-01-26T10:17:06.039Z"
   },
   {
    "duration": 286,
    "start_time": "2022-01-26T10:17:06.358Z"
   },
   {
    "duration": 9,
    "start_time": "2022-01-26T10:17:06.646Z"
   },
   {
    "duration": 228,
    "start_time": "2022-01-26T10:17:06.657Z"
   },
   {
    "duration": 3,
    "start_time": "2022-01-26T10:17:06.886Z"
   },
   {
    "duration": 39,
    "start_time": "2022-01-26T10:17:06.890Z"
   },
   {
    "duration": 28,
    "start_time": "2022-01-26T10:17:06.930Z"
   },
   {
    "duration": 28,
    "start_time": "2022-01-26T10:17:06.960Z"
   },
   {
    "duration": 43,
    "start_time": "2022-01-26T10:17:06.989Z"
   },
   {
    "duration": 23,
    "start_time": "2022-01-26T10:17:07.034Z"
   },
   {
    "duration": 13,
    "start_time": "2022-01-26T10:17:07.058Z"
   },
   {
    "duration": 21,
    "start_time": "2022-01-26T10:17:07.073Z"
   },
   {
    "duration": 1153,
    "start_time": "2022-01-26T11:25:58.806Z"
   },
   {
    "duration": 36,
    "start_time": "2022-01-26T11:25:59.961Z"
   },
   {
    "duration": 16,
    "start_time": "2022-01-26T11:25:59.998Z"
   },
   {
    "duration": 14,
    "start_time": "2022-01-26T11:26:00.016Z"
   },
   {
    "duration": 15,
    "start_time": "2022-01-26T11:26:00.031Z"
   },
   {
    "duration": 6,
    "start_time": "2022-01-26T11:26:00.047Z"
   },
   {
    "duration": 6,
    "start_time": "2022-01-26T11:26:00.054Z"
   },
   {
    "duration": 7,
    "start_time": "2022-01-26T11:26:00.062Z"
   },
   {
    "duration": 7,
    "start_time": "2022-01-26T11:26:00.071Z"
   },
   {
    "duration": 17,
    "start_time": "2022-01-26T11:26:00.079Z"
   },
   {
    "duration": 30,
    "start_time": "2022-01-26T11:26:00.098Z"
   },
   {
    "duration": 17,
    "start_time": "2022-01-26T11:26:00.130Z"
   },
   {
    "duration": 18,
    "start_time": "2022-01-26T11:26:00.149Z"
   },
   {
    "duration": 14,
    "start_time": "2022-01-26T11:26:00.169Z"
   },
   {
    "duration": 4,
    "start_time": "2022-01-26T11:26:00.184Z"
   },
   {
    "duration": 18,
    "start_time": "2022-01-26T11:26:00.189Z"
   },
   {
    "duration": 33,
    "start_time": "2022-01-26T11:26:00.209Z"
   },
   {
    "duration": 225,
    "start_time": "2022-01-26T11:26:00.244Z"
   },
   {
    "duration": 308,
    "start_time": "2022-01-26T11:26:00.471Z"
   },
   {
    "duration": 731,
    "start_time": "2022-01-26T11:26:00.781Z"
   },
   {
    "duration": 15,
    "start_time": "2022-01-26T11:26:01.514Z"
   },
   {
    "duration": 453,
    "start_time": "2022-01-26T11:26:01.530Z"
   },
   {
    "duration": 223,
    "start_time": "2022-01-26T11:26:01.986Z"
   },
   {
    "duration": 533,
    "start_time": "2022-01-26T11:26:02.211Z"
   },
   {
    "duration": 18,
    "start_time": "2022-01-26T11:26:02.745Z"
   },
   {
    "duration": 651,
    "start_time": "2022-01-26T11:26:02.765Z"
   },
   {
    "duration": 267,
    "start_time": "2022-01-26T11:26:03.417Z"
   },
   {
    "duration": 10,
    "start_time": "2022-01-26T11:26:03.685Z"
   },
   {
    "duration": 351,
    "start_time": "2022-01-26T11:26:03.696Z"
   },
   {
    "duration": 302,
    "start_time": "2022-01-26T11:26:04.050Z"
   },
   {
    "duration": 9,
    "start_time": "2022-01-26T11:26:04.354Z"
   },
   {
    "duration": 232,
    "start_time": "2022-01-26T11:26:04.365Z"
   },
   {
    "duration": 3,
    "start_time": "2022-01-26T11:26:04.598Z"
   },
   {
    "duration": 42,
    "start_time": "2022-01-26T11:26:04.602Z"
   },
   {
    "duration": 27,
    "start_time": "2022-01-26T11:26:04.645Z"
   },
   {
    "duration": 28,
    "start_time": "2022-01-26T11:26:04.673Z"
   },
   {
    "duration": 13,
    "start_time": "2022-01-26T11:26:04.728Z"
   },
   {
    "duration": 33,
    "start_time": "2022-01-26T11:26:04.743Z"
   },
   {
    "duration": 16,
    "start_time": "2022-01-26T11:26:04.778Z"
   },
   {
    "duration": 38,
    "start_time": "2022-01-26T11:26:04.796Z"
   },
   {
    "duration": 1093,
    "start_time": "2022-01-26T11:36:56.874Z"
   },
   {
    "duration": 36,
    "start_time": "2022-01-26T11:36:57.968Z"
   },
   {
    "duration": 14,
    "start_time": "2022-01-26T11:36:58.006Z"
   },
   {
    "duration": 9,
    "start_time": "2022-01-26T11:36:58.022Z"
   },
   {
    "duration": 13,
    "start_time": "2022-01-26T11:36:58.033Z"
   },
   {
    "duration": 4,
    "start_time": "2022-01-26T11:36:58.047Z"
   },
   {
    "duration": 7,
    "start_time": "2022-01-26T11:36:58.052Z"
   },
   {
    "duration": 10,
    "start_time": "2022-01-26T11:36:58.062Z"
   },
   {
    "duration": 10,
    "start_time": "2022-01-26T11:36:58.074Z"
   },
   {
    "duration": 15,
    "start_time": "2022-01-26T11:36:58.085Z"
   },
   {
    "duration": 8,
    "start_time": "2022-01-26T11:36:58.102Z"
   },
   {
    "duration": 18,
    "start_time": "2022-01-26T11:36:58.127Z"
   },
   {
    "duration": 17,
    "start_time": "2022-01-26T11:36:58.147Z"
   },
   {
    "duration": 13,
    "start_time": "2022-01-26T11:36:58.166Z"
   },
   {
    "duration": 4,
    "start_time": "2022-01-26T11:36:58.181Z"
   },
   {
    "duration": 39,
    "start_time": "2022-01-26T11:36:58.187Z"
   },
   {
    "duration": 17,
    "start_time": "2022-01-26T11:36:58.228Z"
   },
   {
    "duration": 230,
    "start_time": "2022-01-26T11:36:58.247Z"
   },
   {
    "duration": 306,
    "start_time": "2022-01-26T11:36:58.479Z"
   },
   {
    "duration": 748,
    "start_time": "2022-01-26T11:36:58.787Z"
   },
   {
    "duration": 5,
    "start_time": "2022-01-26T11:36:59.537Z"
   },
   {
    "duration": 432,
    "start_time": "2022-01-26T11:36:59.544Z"
   },
   {
    "duration": 228,
    "start_time": "2022-01-26T11:36:59.979Z"
   },
   {
    "duration": 557,
    "start_time": "2022-01-26T11:37:00.210Z"
   },
   {
    "duration": 19,
    "start_time": "2022-01-26T11:37:00.769Z"
   },
   {
    "duration": 765,
    "start_time": "2022-01-26T11:37:00.790Z"
   },
   {
    "duration": 403,
    "start_time": "2022-01-26T11:37:01.557Z"
   },
   {
    "duration": 10,
    "start_time": "2022-01-26T11:37:01.962Z"
   },
   {
    "duration": 307,
    "start_time": "2022-01-26T11:37:01.974Z"
   },
   {
    "duration": 310,
    "start_time": "2022-01-26T11:37:02.282Z"
   },
   {
    "duration": 9,
    "start_time": "2022-01-26T11:37:02.594Z"
   },
   {
    "duration": 235,
    "start_time": "2022-01-26T11:37:02.605Z"
   },
   {
    "duration": 3,
    "start_time": "2022-01-26T11:37:02.842Z"
   },
   {
    "duration": 34,
    "start_time": "2022-01-26T11:37:02.846Z"
   },
   {
    "duration": 45,
    "start_time": "2022-01-26T11:37:02.882Z"
   },
   {
    "duration": 31,
    "start_time": "2022-01-26T11:37:02.928Z"
   },
   {
    "duration": 13,
    "start_time": "2022-01-26T11:37:02.961Z"
   },
   {
    "duration": 21,
    "start_time": "2022-01-26T11:37:02.975Z"
   },
   {
    "duration": 40,
    "start_time": "2022-01-26T11:37:02.997Z"
   },
   {
    "duration": 21,
    "start_time": "2022-01-26T11:37:03.039Z"
   },
   {
    "duration": 1160,
    "start_time": "2022-01-26T11:45:43.009Z"
   },
   {
    "duration": 36,
    "start_time": "2022-01-26T11:45:44.171Z"
   },
   {
    "duration": 20,
    "start_time": "2022-01-26T11:45:44.208Z"
   },
   {
    "duration": 9,
    "start_time": "2022-01-26T11:45:44.230Z"
   },
   {
    "duration": 19,
    "start_time": "2022-01-26T11:45:44.241Z"
   },
   {
    "duration": 5,
    "start_time": "2022-01-26T11:45:44.261Z"
   },
   {
    "duration": 10,
    "start_time": "2022-01-26T11:45:44.267Z"
   },
   {
    "duration": 8,
    "start_time": "2022-01-26T11:45:44.279Z"
   },
   {
    "duration": 11,
    "start_time": "2022-01-26T11:45:44.289Z"
   },
   {
    "duration": 27,
    "start_time": "2022-01-26T11:45:44.301Z"
   },
   {
    "duration": 8,
    "start_time": "2022-01-26T11:45:44.329Z"
   },
   {
    "duration": 16,
    "start_time": "2022-01-26T11:45:44.339Z"
   },
   {
    "duration": 12,
    "start_time": "2022-01-26T11:45:44.356Z"
   },
   {
    "duration": 13,
    "start_time": "2022-01-26T11:45:44.370Z"
   },
   {
    "duration": 4,
    "start_time": "2022-01-26T11:45:44.384Z"
   },
   {
    "duration": 42,
    "start_time": "2022-01-26T11:45:44.390Z"
   },
   {
    "duration": 17,
    "start_time": "2022-01-26T11:45:44.433Z"
   },
   {
    "duration": 215,
    "start_time": "2022-01-26T11:45:44.451Z"
   },
   {
    "duration": 297,
    "start_time": "2022-01-26T11:45:44.668Z"
   },
   {
    "duration": 698,
    "start_time": "2022-01-26T11:45:44.968Z"
   },
   {
    "duration": 7,
    "start_time": "2022-01-26T11:45:45.667Z"
   },
   {
    "duration": 469,
    "start_time": "2022-01-26T11:45:45.676Z"
   },
   {
    "duration": 223,
    "start_time": "2022-01-26T11:45:46.149Z"
   },
   {
    "duration": 516,
    "start_time": "2022-01-26T11:45:46.374Z"
   },
   {
    "duration": 19,
    "start_time": "2022-01-26T11:45:46.892Z"
   },
   {
    "duration": 660,
    "start_time": "2022-01-26T11:45:46.913Z"
   },
   {
    "duration": 267,
    "start_time": "2022-01-26T11:45:47.575Z"
   },
   {
    "duration": 11,
    "start_time": "2022-01-26T11:45:47.844Z"
   },
   {
    "duration": 309,
    "start_time": "2022-01-26T11:45:47.856Z"
   },
   {
    "duration": 299,
    "start_time": "2022-01-26T11:45:48.167Z"
   },
   {
    "duration": 9,
    "start_time": "2022-01-26T11:45:48.468Z"
   },
   {
    "duration": 230,
    "start_time": "2022-01-26T11:45:48.479Z"
   },
   {
    "duration": 3,
    "start_time": "2022-01-26T11:45:48.710Z"
   },
   {
    "duration": 44,
    "start_time": "2022-01-26T11:45:48.714Z"
   },
   {
    "duration": 27,
    "start_time": "2022-01-26T11:45:48.760Z"
   },
   {
    "duration": 50,
    "start_time": "2022-01-26T11:45:48.789Z"
   },
   {
    "duration": 9,
    "start_time": "2022-01-26T11:45:48.841Z"
   },
   {
    "duration": 22,
    "start_time": "2022-01-26T11:45:48.851Z"
   },
   {
    "duration": 15,
    "start_time": "2022-01-26T11:45:48.874Z"
   },
   {
    "duration": 51,
    "start_time": "2022-01-26T11:45:48.891Z"
   },
   {
    "duration": 1064,
    "start_time": "2022-01-26T11:46:11.489Z"
   },
   {
    "duration": 35,
    "start_time": "2022-01-26T11:46:12.554Z"
   },
   {
    "duration": 15,
    "start_time": "2022-01-26T11:46:12.590Z"
   },
   {
    "duration": 10,
    "start_time": "2022-01-26T11:46:12.607Z"
   },
   {
    "duration": 18,
    "start_time": "2022-01-26T11:46:12.618Z"
   },
   {
    "duration": 3,
    "start_time": "2022-01-26T11:46:12.638Z"
   },
   {
    "duration": 3,
    "start_time": "2022-01-26T11:46:12.643Z"
   },
   {
    "duration": 7,
    "start_time": "2022-01-26T11:46:12.648Z"
   },
   {
    "duration": 6,
    "start_time": "2022-01-26T11:46:12.657Z"
   },
   {
    "duration": 12,
    "start_time": "2022-01-26T11:46:12.664Z"
   },
   {
    "duration": 8,
    "start_time": "2022-01-26T11:46:12.677Z"
   },
   {
    "duration": 49,
    "start_time": "2022-01-26T11:46:12.686Z"
   },
   {
    "duration": 13,
    "start_time": "2022-01-26T11:46:12.736Z"
   },
   {
    "duration": 12,
    "start_time": "2022-01-26T11:46:12.751Z"
   },
   {
    "duration": 5,
    "start_time": "2022-01-26T11:46:12.764Z"
   },
   {
    "duration": 11,
    "start_time": "2022-01-26T11:46:12.770Z"
   },
   {
    "duration": 45,
    "start_time": "2022-01-26T11:46:12.782Z"
   },
   {
    "duration": 207,
    "start_time": "2022-01-26T11:46:12.828Z"
   },
   {
    "duration": 294,
    "start_time": "2022-01-26T11:46:13.037Z"
   },
   {
    "duration": 688,
    "start_time": "2022-01-26T11:46:13.333Z"
   },
   {
    "duration": 8,
    "start_time": "2022-01-26T11:46:14.023Z"
   },
   {
    "duration": 441,
    "start_time": "2022-01-26T11:46:14.032Z"
   },
   {
    "duration": 210,
    "start_time": "2022-01-26T11:46:14.475Z"
   },
   {
    "duration": 500,
    "start_time": "2022-01-26T11:46:14.687Z"
   },
   {
    "duration": 18,
    "start_time": "2022-01-26T11:46:15.188Z"
   },
   {
    "duration": 629,
    "start_time": "2022-01-26T11:46:15.208Z"
   },
   {
    "duration": 268,
    "start_time": "2022-01-26T11:46:15.840Z"
   },
   {
    "duration": 19,
    "start_time": "2022-01-26T11:46:16.110Z"
   },
   {
    "duration": 312,
    "start_time": "2022-01-26T11:46:16.131Z"
   },
   {
    "duration": 315,
    "start_time": "2022-01-26T11:46:16.444Z"
   },
   {
    "duration": 8,
    "start_time": "2022-01-26T11:46:16.761Z"
   },
   {
    "duration": 231,
    "start_time": "2022-01-26T11:46:16.771Z"
   },
   {
    "duration": 3,
    "start_time": "2022-01-26T11:46:17.004Z"
   },
   {
    "duration": 41,
    "start_time": "2022-01-26T11:46:17.008Z"
   },
   {
    "duration": 26,
    "start_time": "2022-01-26T11:46:17.051Z"
   },
   {
    "duration": 53,
    "start_time": "2022-01-26T11:46:17.079Z"
   },
   {
    "duration": 15,
    "start_time": "2022-01-26T11:46:17.133Z"
   },
   {
    "duration": 24,
    "start_time": "2022-01-26T11:46:17.149Z"
   },
   {
    "duration": 11,
    "start_time": "2022-01-26T11:46:17.174Z"
   },
   {
    "duration": 53,
    "start_time": "2022-01-26T11:46:17.187Z"
   },
   {
    "duration": 1073,
    "start_time": "2022-01-26T11:47:16.787Z"
   },
   {
    "duration": 35,
    "start_time": "2022-01-26T11:47:17.861Z"
   },
   {
    "duration": 15,
    "start_time": "2022-01-26T11:47:17.898Z"
   },
   {
    "duration": 9,
    "start_time": "2022-01-26T11:47:17.915Z"
   },
   {
    "duration": 13,
    "start_time": "2022-01-26T11:47:17.927Z"
   },
   {
    "duration": 4,
    "start_time": "2022-01-26T11:47:17.941Z"
   },
   {
    "duration": 5,
    "start_time": "2022-01-26T11:47:17.946Z"
   },
   {
    "duration": 7,
    "start_time": "2022-01-26T11:47:17.953Z"
   },
   {
    "duration": 6,
    "start_time": "2022-01-26T11:47:17.962Z"
   },
   {
    "duration": 12,
    "start_time": "2022-01-26T11:47:17.969Z"
   },
   {
    "duration": 8,
    "start_time": "2022-01-26T11:47:17.982Z"
   },
   {
    "duration": 47,
    "start_time": "2022-01-26T11:47:17.991Z"
   },
   {
    "duration": 13,
    "start_time": "2022-01-26T11:47:18.039Z"
   },
   {
    "duration": 13,
    "start_time": "2022-01-26T11:47:18.053Z"
   },
   {
    "duration": 5,
    "start_time": "2022-01-26T11:47:18.067Z"
   },
   {
    "duration": 14,
    "start_time": "2022-01-26T11:47:18.073Z"
   },
   {
    "duration": 39,
    "start_time": "2022-01-26T11:47:18.088Z"
   },
   {
    "duration": 216,
    "start_time": "2022-01-26T11:47:18.129Z"
   },
   {
    "duration": 298,
    "start_time": "2022-01-26T11:47:18.346Z"
   },
   {
    "duration": 678,
    "start_time": "2022-01-26T11:47:18.645Z"
   },
   {
    "duration": 6,
    "start_time": "2022-01-26T11:47:19.326Z"
   },
   {
    "duration": 446,
    "start_time": "2022-01-26T11:47:19.334Z"
   },
   {
    "duration": 225,
    "start_time": "2022-01-26T11:47:19.784Z"
   },
   {
    "duration": 504,
    "start_time": "2022-01-26T11:47:20.011Z"
   },
   {
    "duration": 22,
    "start_time": "2022-01-26T11:47:20.517Z"
   },
   {
    "duration": 647,
    "start_time": "2022-01-26T11:47:20.540Z"
   },
   {
    "duration": 272,
    "start_time": "2022-01-26T11:47:21.189Z"
   },
   {
    "duration": 9,
    "start_time": "2022-01-26T11:47:21.463Z"
   },
   {
    "duration": 326,
    "start_time": "2022-01-26T11:47:21.474Z"
   },
   {
    "duration": 349,
    "start_time": "2022-01-26T11:47:21.801Z"
   },
   {
    "duration": 10,
    "start_time": "2022-01-26T11:47:22.152Z"
   },
   {
    "duration": 222,
    "start_time": "2022-01-26T11:47:22.164Z"
   },
   {
    "duration": 3,
    "start_time": "2022-01-26T11:47:22.387Z"
   },
   {
    "duration": 42,
    "start_time": "2022-01-26T11:47:22.391Z"
   },
   {
    "duration": 26,
    "start_time": "2022-01-26T11:47:22.434Z"
   },
   {
    "duration": 26,
    "start_time": "2022-01-26T11:47:22.461Z"
   },
   {
    "duration": 49,
    "start_time": "2022-01-26T11:47:22.489Z"
   },
   {
    "duration": 22,
    "start_time": "2022-01-26T11:47:22.539Z"
   },
   {
    "duration": 12,
    "start_time": "2022-01-26T11:47:22.563Z"
   },
   {
    "duration": 23,
    "start_time": "2022-01-26T11:47:22.576Z"
   },
   {
    "duration": 1137,
    "start_time": "2022-01-26T12:16:04.612Z"
   },
   {
    "duration": 35,
    "start_time": "2022-01-26T12:16:05.750Z"
   },
   {
    "duration": 15,
    "start_time": "2022-01-26T12:16:05.787Z"
   },
   {
    "duration": 10,
    "start_time": "2022-01-26T12:16:05.804Z"
   },
   {
    "duration": 17,
    "start_time": "2022-01-26T12:16:05.815Z"
   },
   {
    "duration": 3,
    "start_time": "2022-01-26T12:16:05.834Z"
   },
   {
    "duration": 3,
    "start_time": "2022-01-26T12:16:05.839Z"
   },
   {
    "duration": 7,
    "start_time": "2022-01-26T12:16:05.845Z"
   },
   {
    "duration": 5,
    "start_time": "2022-01-26T12:16:05.853Z"
   },
   {
    "duration": 12,
    "start_time": "2022-01-26T12:16:05.860Z"
   },
   {
    "duration": 9,
    "start_time": "2022-01-26T12:16:05.873Z"
   },
   {
    "duration": 47,
    "start_time": "2022-01-26T12:16:05.883Z"
   },
   {
    "duration": 12,
    "start_time": "2022-01-26T12:16:05.931Z"
   },
   {
    "duration": 13,
    "start_time": "2022-01-26T12:16:05.945Z"
   },
   {
    "duration": 5,
    "start_time": "2022-01-26T12:16:05.959Z"
   },
   {
    "duration": 13,
    "start_time": "2022-01-26T12:16:05.965Z"
   },
   {
    "duration": 18,
    "start_time": "2022-01-26T12:16:05.979Z"
   },
   {
    "duration": 233,
    "start_time": "2022-01-26T12:16:05.999Z"
   },
   {
    "duration": 302,
    "start_time": "2022-01-26T12:16:06.233Z"
   },
   {
    "duration": 720,
    "start_time": "2022-01-26T12:16:06.537Z"
   },
   {
    "duration": 8,
    "start_time": "2022-01-26T12:16:07.258Z"
   },
   {
    "duration": 467,
    "start_time": "2022-01-26T12:16:07.268Z"
   },
   {
    "duration": 215,
    "start_time": "2022-01-26T12:16:07.738Z"
   },
   {
    "duration": 520,
    "start_time": "2022-01-26T12:16:07.955Z"
   },
   {
    "duration": 19,
    "start_time": "2022-01-26T12:16:08.477Z"
   },
   {
    "duration": 636,
    "start_time": "2022-01-26T12:16:08.497Z"
   },
   {
    "duration": 260,
    "start_time": "2022-01-26T12:16:09.135Z"
   },
   {
    "duration": 9,
    "start_time": "2022-01-26T12:16:09.397Z"
   },
   {
    "duration": 361,
    "start_time": "2022-01-26T12:16:09.408Z"
   },
   {
    "duration": 303,
    "start_time": "2022-01-26T12:16:09.770Z"
   },
   {
    "duration": 10,
    "start_time": "2022-01-26T12:16:10.075Z"
   },
   {
    "duration": 243,
    "start_time": "2022-01-26T12:16:10.086Z"
   },
   {
    "duration": 3,
    "start_time": "2022-01-26T12:16:10.330Z"
   },
   {
    "duration": 31,
    "start_time": "2022-01-26T12:16:10.334Z"
   },
   {
    "duration": 26,
    "start_time": "2022-01-26T12:16:10.366Z"
   },
   {
    "duration": 55,
    "start_time": "2022-01-26T12:16:10.394Z"
   },
   {
    "duration": 14,
    "start_time": "2022-01-26T12:16:10.451Z"
   },
   {
    "duration": 19,
    "start_time": "2022-01-26T12:16:10.466Z"
   },
   {
    "duration": 11,
    "start_time": "2022-01-26T12:16:10.487Z"
   },
   {
    "duration": 44,
    "start_time": "2022-01-26T12:16:10.499Z"
   },
   {
    "duration": 1030,
    "start_time": "2022-01-26T12:17:21.732Z"
   },
   {
    "duration": 34,
    "start_time": "2022-01-26T12:17:22.764Z"
   },
   {
    "duration": 14,
    "start_time": "2022-01-26T12:17:22.800Z"
   },
   {
    "duration": 12,
    "start_time": "2022-01-26T12:17:22.815Z"
   },
   {
    "duration": 15,
    "start_time": "2022-01-26T12:17:22.828Z"
   },
   {
    "duration": 4,
    "start_time": "2022-01-26T12:17:22.844Z"
   },
   {
    "duration": 4,
    "start_time": "2022-01-26T12:17:22.849Z"
   },
   {
    "duration": 7,
    "start_time": "2022-01-26T12:17:22.854Z"
   },
   {
    "duration": 6,
    "start_time": "2022-01-26T12:17:22.863Z"
   },
   {
    "duration": 12,
    "start_time": "2022-01-26T12:17:22.870Z"
   },
   {
    "duration": 8,
    "start_time": "2022-01-26T12:17:22.883Z"
   },
   {
    "duration": 47,
    "start_time": "2022-01-26T12:17:22.892Z"
   },
   {
    "duration": 14,
    "start_time": "2022-01-26T12:17:22.941Z"
   },
   {
    "duration": 12,
    "start_time": "2022-01-26T12:17:22.956Z"
   },
   {
    "duration": 8,
    "start_time": "2022-01-26T12:17:22.969Z"
   },
   {
    "duration": 10,
    "start_time": "2022-01-26T12:17:22.978Z"
   },
   {
    "duration": 38,
    "start_time": "2022-01-26T12:17:22.990Z"
   },
   {
    "duration": 212,
    "start_time": "2022-01-26T12:17:23.029Z"
   },
   {
    "duration": 289,
    "start_time": "2022-01-26T12:17:23.242Z"
   },
   {
    "duration": 709,
    "start_time": "2022-01-26T12:17:23.533Z"
   },
   {
    "duration": 6,
    "start_time": "2022-01-26T12:17:24.244Z"
   },
   {
    "duration": 431,
    "start_time": "2022-01-26T12:17:24.251Z"
   },
   {
    "duration": 215,
    "start_time": "2022-01-26T12:17:24.684Z"
   },
   {
    "duration": 492,
    "start_time": "2022-01-26T12:17:24.901Z"
   },
   {
    "duration": 19,
    "start_time": "2022-01-26T12:17:25.395Z"
   },
   {
    "duration": 690,
    "start_time": "2022-01-26T12:17:25.427Z"
   },
   {
    "duration": 256,
    "start_time": "2022-01-26T12:17:26.120Z"
   },
   {
    "duration": 9,
    "start_time": "2022-01-26T12:17:26.378Z"
   },
   {
    "duration": 347,
    "start_time": "2022-01-26T12:17:26.389Z"
   },
   {
    "duration": 298,
    "start_time": "2022-01-26T12:17:26.737Z"
   },
   {
    "duration": 9,
    "start_time": "2022-01-26T12:17:27.036Z"
   },
   {
    "duration": 220,
    "start_time": "2022-01-26T12:17:27.047Z"
   },
   {
    "duration": 2,
    "start_time": "2022-01-26T12:17:27.269Z"
   },
   {
    "duration": 28,
    "start_time": "2022-01-26T12:17:27.273Z"
   },
   {
    "duration": 43,
    "start_time": "2022-01-26T12:17:27.303Z"
   },
   {
    "duration": 25,
    "start_time": "2022-01-26T12:17:27.347Z"
   },
   {
    "duration": 16,
    "start_time": "2022-01-26T12:17:27.373Z"
   },
   {
    "duration": 48,
    "start_time": "2022-01-26T12:17:27.391Z"
   },
   {
    "duration": 11,
    "start_time": "2022-01-26T12:17:27.440Z"
   },
   {
    "duration": 21,
    "start_time": "2022-01-26T12:17:27.452Z"
   },
   {
    "duration": 1018,
    "start_time": "2022-01-26T12:48:41.833Z"
   },
   {
    "duration": 35,
    "start_time": "2022-01-26T12:48:42.853Z"
   },
   {
    "duration": 15,
    "start_time": "2022-01-26T12:48:42.890Z"
   },
   {
    "duration": 8,
    "start_time": "2022-01-26T12:48:42.907Z"
   },
   {
    "duration": 21,
    "start_time": "2022-01-26T12:48:42.917Z"
   },
   {
    "duration": 4,
    "start_time": "2022-01-26T12:48:42.939Z"
   },
   {
    "duration": 5,
    "start_time": "2022-01-26T12:48:42.945Z"
   },
   {
    "duration": 8,
    "start_time": "2022-01-26T12:48:42.951Z"
   },
   {
    "duration": 6,
    "start_time": "2022-01-26T12:48:42.962Z"
   },
   {
    "duration": 11,
    "start_time": "2022-01-26T12:48:42.970Z"
   },
   {
    "duration": 8,
    "start_time": "2022-01-26T12:48:42.983Z"
   },
   {
    "duration": 49,
    "start_time": "2022-01-26T12:48:42.992Z"
   },
   {
    "duration": 16,
    "start_time": "2022-01-26T12:48:43.043Z"
   },
   {
    "duration": 12,
    "start_time": "2022-01-26T12:48:43.061Z"
   },
   {
    "duration": 7,
    "start_time": "2022-01-26T12:48:43.074Z"
   },
   {
    "duration": 12,
    "start_time": "2022-01-26T12:48:43.082Z"
   },
   {
    "duration": 36,
    "start_time": "2022-01-26T12:48:43.095Z"
   },
   {
    "duration": 211,
    "start_time": "2022-01-26T12:48:43.132Z"
   },
   {
    "duration": 296,
    "start_time": "2022-01-26T12:48:43.344Z"
   },
   {
    "duration": 798,
    "start_time": "2022-01-26T12:48:43.641Z"
   },
   {
    "duration": 6,
    "start_time": "2022-01-26T12:48:44.440Z"
   },
   {
    "duration": 421,
    "start_time": "2022-01-26T12:48:44.448Z"
   },
   {
    "duration": 212,
    "start_time": "2022-01-26T12:48:44.871Z"
   },
   {
    "duration": 496,
    "start_time": "2022-01-26T12:48:45.085Z"
   },
   {
    "duration": 18,
    "start_time": "2022-01-26T12:48:45.583Z"
   },
   {
    "duration": 643,
    "start_time": "2022-01-26T12:48:45.603Z"
   },
   {
    "duration": 261,
    "start_time": "2022-01-26T12:48:46.250Z"
   },
   {
    "duration": 17,
    "start_time": "2022-01-26T12:48:46.513Z"
   },
   {
    "duration": 333,
    "start_time": "2022-01-26T12:48:46.531Z"
   },
   {
    "duration": 297,
    "start_time": "2022-01-26T12:48:46.865Z"
   },
   {
    "duration": 9,
    "start_time": "2022-01-26T12:48:47.163Z"
   },
   {
    "duration": 225,
    "start_time": "2022-01-26T12:48:47.174Z"
   },
   {
    "duration": 3,
    "start_time": "2022-01-26T12:48:47.402Z"
   },
   {
    "duration": 41,
    "start_time": "2022-01-26T12:48:47.407Z"
   },
   {
    "duration": 28,
    "start_time": "2022-01-26T12:48:47.449Z"
   },
   {
    "duration": 61,
    "start_time": "2022-01-26T12:48:47.479Z"
   },
   {
    "duration": 22,
    "start_time": "2022-01-26T12:48:47.542Z"
   },
   {
    "duration": 21,
    "start_time": "2022-01-26T12:48:47.566Z"
   },
   {
    "duration": 39,
    "start_time": "2022-01-26T12:48:47.588Z"
   },
   {
    "duration": 21,
    "start_time": "2022-01-26T12:48:47.628Z"
   },
   {
    "duration": 1769,
    "start_time": "2022-02-03T19:36:08.631Z"
   },
   {
    "duration": 36,
    "start_time": "2022-02-03T19:36:10.402Z"
   },
   {
    "duration": 15,
    "start_time": "2022-02-03T19:36:10.441Z"
   },
   {
    "duration": 14,
    "start_time": "2022-02-03T19:36:10.457Z"
   },
   {
    "duration": 12,
    "start_time": "2022-02-03T19:36:10.473Z"
   },
   {
    "duration": 4,
    "start_time": "2022-02-03T19:36:10.486Z"
   },
   {
    "duration": 2,
    "start_time": "2022-02-03T19:36:10.493Z"
   },
   {
    "duration": 6,
    "start_time": "2022-02-03T19:36:10.496Z"
   },
   {
    "duration": 7,
    "start_time": "2022-02-03T19:36:10.504Z"
   },
   {
    "duration": 16,
    "start_time": "2022-02-03T19:36:10.513Z"
   },
   {
    "duration": 8,
    "start_time": "2022-02-03T19:36:10.530Z"
   },
   {
    "duration": 43,
    "start_time": "2022-02-03T19:36:10.539Z"
   },
   {
    "duration": 15,
    "start_time": "2022-02-03T19:36:10.583Z"
   },
   {
    "duration": 12,
    "start_time": "2022-02-03T19:36:10.599Z"
   },
   {
    "duration": 4,
    "start_time": "2022-02-03T19:36:10.612Z"
   },
   {
    "duration": 14,
    "start_time": "2022-02-03T19:36:10.618Z"
   },
   {
    "duration": 39,
    "start_time": "2022-02-03T19:36:10.633Z"
   },
   {
    "duration": 217,
    "start_time": "2022-02-03T19:36:10.674Z"
   },
   {
    "duration": 321,
    "start_time": "2022-02-03T19:36:10.893Z"
   },
   {
    "duration": 735,
    "start_time": "2022-02-03T19:36:11.216Z"
   },
   {
    "duration": 5,
    "start_time": "2022-02-03T19:36:11.953Z"
   },
   {
    "duration": 425,
    "start_time": "2022-02-03T19:36:11.973Z"
   },
   {
    "duration": 213,
    "start_time": "2022-02-03T19:36:12.400Z"
   },
   {
    "duration": 449,
    "start_time": "2022-02-03T19:36:12.614Z"
   },
   {
    "duration": 22,
    "start_time": "2022-02-03T19:36:13.065Z"
   },
   {
    "duration": 706,
    "start_time": "2022-02-03T19:36:13.088Z"
   },
   {
    "duration": 266,
    "start_time": "2022-02-03T19:36:13.796Z"
   },
   {
    "duration": 15,
    "start_time": "2022-02-03T19:36:14.064Z"
   },
   {
    "duration": 321,
    "start_time": "2022-02-03T19:36:14.081Z"
   },
   {
    "duration": 294,
    "start_time": "2022-02-03T19:36:14.404Z"
   },
   {
    "duration": 10,
    "start_time": "2022-02-03T19:36:14.700Z"
   },
   {
    "duration": 244,
    "start_time": "2022-02-03T19:36:14.711Z"
   },
   {
    "duration": 4,
    "start_time": "2022-02-03T19:36:14.957Z"
   },
   {
    "duration": 37,
    "start_time": "2022-02-03T19:36:14.962Z"
   },
   {
    "duration": 31,
    "start_time": "2022-02-03T19:36:15.001Z"
   },
   {
    "duration": 60,
    "start_time": "2022-02-03T19:36:15.033Z"
   },
   {
    "duration": 14,
    "start_time": "2022-02-03T19:36:15.094Z"
   },
   {
    "duration": 20,
    "start_time": "2022-02-03T19:36:15.110Z"
   },
   {
    "duration": 10,
    "start_time": "2022-02-03T19:36:15.131Z"
   },
   {
    "duration": 22,
    "start_time": "2022-02-03T19:36:15.172Z"
   },
   {
    "duration": 22,
    "start_time": "2022-02-03T20:06:37.992Z"
   },
   {
    "duration": 13,
    "start_time": "2022-02-03T20:06:39.220Z"
   },
   {
    "duration": 23,
    "start_time": "2022-02-03T20:06:40.116Z"
   },
   {
    "duration": 352,
    "start_time": "2022-02-04T18:23:40.540Z"
   },
   {
    "duration": 1251,
    "start_time": "2022-02-04T18:23:55.506Z"
   },
   {
    "duration": 49,
    "start_time": "2022-02-04T18:23:56.759Z"
   },
   {
    "duration": 154,
    "start_time": "2022-02-04T18:23:56.810Z"
   },
   {
    "duration": 31,
    "start_time": "2022-02-04T18:23:56.966Z"
   },
   {
    "duration": 42,
    "start_time": "2022-02-04T18:23:56.999Z"
   },
   {
    "duration": 4,
    "start_time": "2022-02-04T18:23:57.043Z"
   },
   {
    "duration": 7,
    "start_time": "2022-02-04T18:23:57.049Z"
   },
   {
    "duration": 162,
    "start_time": "2022-02-04T18:23:57.059Z"
   },
   {
    "duration": 26,
    "start_time": "2022-02-04T18:23:57.224Z"
   },
   {
    "duration": 39,
    "start_time": "2022-02-04T18:23:57.252Z"
   },
   {
    "duration": 24,
    "start_time": "2022-02-04T18:23:57.293Z"
   },
   {
    "duration": 19,
    "start_time": "2022-02-04T18:23:57.318Z"
   },
   {
    "duration": 399,
    "start_time": "2022-02-04T18:23:57.339Z"
   },
   {
    "duration": 1134,
    "start_time": "2022-02-04T18:23:56.608Z"
   },
   {
    "duration": 1125,
    "start_time": "2022-02-04T18:23:56.618Z"
   },
   {
    "duration": 1113,
    "start_time": "2022-02-04T18:23:56.632Z"
   },
   {
    "duration": 1101,
    "start_time": "2022-02-04T18:23:56.645Z"
   },
   {
    "duration": 1089,
    "start_time": "2022-02-04T18:23:56.658Z"
   },
   {
    "duration": 1080,
    "start_time": "2022-02-04T18:23:56.668Z"
   },
   {
    "duration": 1073,
    "start_time": "2022-02-04T18:23:56.677Z"
   },
   {
    "duration": 1065,
    "start_time": "2022-02-04T18:23:56.686Z"
   },
   {
    "duration": 1057,
    "start_time": "2022-02-04T18:23:56.695Z"
   },
   {
    "duration": 1026,
    "start_time": "2022-02-04T18:23:56.727Z"
   },
   {
    "duration": 1014,
    "start_time": "2022-02-04T18:23:56.740Z"
   },
   {
    "duration": 1005,
    "start_time": "2022-02-04T18:23:56.750Z"
   },
   {
    "duration": 996,
    "start_time": "2022-02-04T18:23:56.760Z"
   },
   {
    "duration": 992,
    "start_time": "2022-02-04T18:23:56.765Z"
   },
   {
    "duration": 985,
    "start_time": "2022-02-04T18:23:56.773Z"
   },
   {
    "duration": 981,
    "start_time": "2022-02-04T18:23:56.778Z"
   },
   {
    "duration": 975,
    "start_time": "2022-02-04T18:23:56.785Z"
   },
   {
    "duration": 970,
    "start_time": "2022-02-04T18:23:56.791Z"
   },
   {
    "duration": 908,
    "start_time": "2022-02-04T18:23:56.855Z"
   },
   {
    "duration": 904,
    "start_time": "2022-02-04T18:23:56.860Z"
   },
   {
    "duration": 896,
    "start_time": "2022-02-04T18:23:56.868Z"
   },
   {
    "duration": 892,
    "start_time": "2022-02-04T18:23:56.874Z"
   },
   {
    "duration": 886,
    "start_time": "2022-02-04T18:23:56.880Z"
   },
   {
    "duration": 881,
    "start_time": "2022-02-04T18:23:56.886Z"
   },
   {
    "duration": 875,
    "start_time": "2022-02-04T18:23:56.893Z"
   },
   {
    "duration": 870,
    "start_time": "2022-02-04T18:23:56.899Z"
   },
   {
    "duration": 865,
    "start_time": "2022-02-04T18:23:56.905Z"
   },
   {
    "duration": 13,
    "start_time": "2022-02-04T18:25:17.427Z"
   },
   {
    "duration": 1061,
    "start_time": "2022-02-04T18:25:39.951Z"
   },
   {
    "duration": 40,
    "start_time": "2022-02-04T18:25:41.013Z"
   },
   {
    "duration": 17,
    "start_time": "2022-02-04T18:25:41.055Z"
   },
   {
    "duration": 10,
    "start_time": "2022-02-04T18:25:41.074Z"
   },
   {
    "duration": 14,
    "start_time": "2022-02-04T18:25:41.085Z"
   },
   {
    "duration": 4,
    "start_time": "2022-02-04T18:25:41.100Z"
   },
   {
    "duration": 4,
    "start_time": "2022-02-04T18:25:41.105Z"
   },
   {
    "duration": 6,
    "start_time": "2022-02-04T18:25:41.111Z"
   },
   {
    "duration": 30,
    "start_time": "2022-02-04T18:25:41.119Z"
   },
   {
    "duration": 36,
    "start_time": "2022-02-04T18:25:41.151Z"
   },
   {
    "duration": 26,
    "start_time": "2022-02-04T18:25:41.188Z"
   },
   {
    "duration": 37,
    "start_time": "2022-02-04T18:25:41.216Z"
   },
   {
    "duration": 30,
    "start_time": "2022-02-04T18:25:41.255Z"
   },
   {
    "duration": 27,
    "start_time": "2022-02-04T18:25:41.287Z"
   },
   {
    "duration": 10,
    "start_time": "2022-02-04T18:25:41.316Z"
   },
   {
    "duration": 42,
    "start_time": "2022-02-04T18:25:41.327Z"
   },
   {
    "duration": 20,
    "start_time": "2022-02-04T18:25:41.370Z"
   },
   {
    "duration": 238,
    "start_time": "2022-02-04T18:25:41.391Z"
   },
   {
    "duration": 315,
    "start_time": "2022-02-04T18:25:41.631Z"
   },
   {
    "duration": 721,
    "start_time": "2022-02-04T18:25:41.948Z"
   },
   {
    "duration": 6,
    "start_time": "2022-02-04T18:25:42.672Z"
   },
   {
    "duration": 494,
    "start_time": "2022-02-04T18:25:42.679Z"
   },
   {
    "duration": 227,
    "start_time": "2022-02-04T18:25:43.176Z"
   },
   {
    "duration": 555,
    "start_time": "2022-02-04T18:25:43.405Z"
   },
   {
    "duration": 21,
    "start_time": "2022-02-04T18:25:43.962Z"
   },
   {
    "duration": 659,
    "start_time": "2022-02-04T18:25:43.984Z"
   },
   {
    "duration": 277,
    "start_time": "2022-02-04T18:25:44.645Z"
   },
   {
    "duration": 10,
    "start_time": "2022-02-04T18:25:44.924Z"
   },
   {
    "duration": 375,
    "start_time": "2022-02-04T18:25:44.935Z"
   },
   {
    "duration": 300,
    "start_time": "2022-02-04T18:25:45.312Z"
   },
   {
    "duration": 9,
    "start_time": "2022-02-04T18:25:45.613Z"
   },
   {
    "duration": 228,
    "start_time": "2022-02-04T18:25:45.624Z"
   },
   {
    "duration": 3,
    "start_time": "2022-02-04T18:25:45.854Z"
   },
   {
    "duration": 36,
    "start_time": "2022-02-04T18:25:45.858Z"
   },
   {
    "duration": 27,
    "start_time": "2022-02-04T18:25:45.896Z"
   },
   {
    "duration": 51,
    "start_time": "2022-02-04T18:25:45.925Z"
   },
   {
    "duration": 17,
    "start_time": "2022-02-04T18:25:45.977Z"
   },
   {
    "duration": 21,
    "start_time": "2022-02-04T18:25:45.995Z"
   },
   {
    "duration": 12,
    "start_time": "2022-02-04T18:25:46.018Z"
   },
   {
    "duration": 53,
    "start_time": "2022-02-04T18:25:46.031Z"
   },
   {
    "duration": 10,
    "start_time": "2022-02-04T18:26:38.015Z"
   },
   {
    "duration": 1075,
    "start_time": "2022-02-04T18:26:46.035Z"
   },
   {
    "duration": 37,
    "start_time": "2022-02-04T18:26:47.112Z"
   },
   {
    "duration": 14,
    "start_time": "2022-02-04T18:26:47.151Z"
   },
   {
    "duration": 10,
    "start_time": "2022-02-04T18:26:47.167Z"
   },
   {
    "duration": 15,
    "start_time": "2022-02-04T18:26:47.178Z"
   },
   {
    "duration": 4,
    "start_time": "2022-02-04T18:26:47.194Z"
   },
   {
    "duration": 5,
    "start_time": "2022-02-04T18:26:47.200Z"
   },
   {
    "duration": 5,
    "start_time": "2022-02-04T18:26:47.207Z"
   },
   {
    "duration": 7,
    "start_time": "2022-02-04T18:26:47.214Z"
   },
   {
    "duration": 17,
    "start_time": "2022-02-04T18:26:47.223Z"
   },
   {
    "duration": 33,
    "start_time": "2022-02-04T18:26:47.241Z"
   },
   {
    "duration": 20,
    "start_time": "2022-02-04T18:26:47.276Z"
   },
   {
    "duration": 11,
    "start_time": "2022-02-04T18:26:47.297Z"
   },
   {
    "duration": 13,
    "start_time": "2022-02-04T18:26:47.309Z"
   },
   {
    "duration": 5,
    "start_time": "2022-02-04T18:26:47.324Z"
   },
   {
    "duration": 46,
    "start_time": "2022-02-04T18:26:47.331Z"
   },
   {
    "duration": 18,
    "start_time": "2022-02-04T18:26:47.379Z"
   },
   {
    "duration": 223,
    "start_time": "2022-02-04T18:26:47.398Z"
   },
   {
    "duration": 313,
    "start_time": "2022-02-04T18:26:47.623Z"
   },
   {
    "duration": 740,
    "start_time": "2022-02-04T18:26:47.938Z"
   },
   {
    "duration": 6,
    "start_time": "2022-02-04T18:26:48.680Z"
   },
   {
    "duration": 490,
    "start_time": "2022-02-04T18:26:48.687Z"
   },
   {
    "duration": 242,
    "start_time": "2022-02-04T18:26:49.180Z"
   },
   {
    "duration": 531,
    "start_time": "2022-02-04T18:26:49.424Z"
   },
   {
    "duration": 28,
    "start_time": "2022-02-04T18:26:49.957Z"
   },
   {
    "duration": 653,
    "start_time": "2022-02-04T18:26:49.986Z"
   },
   {
    "duration": 276,
    "start_time": "2022-02-04T18:26:50.641Z"
   },
   {
    "duration": 10,
    "start_time": "2022-02-04T18:26:50.919Z"
   },
   {
    "duration": 322,
    "start_time": "2022-02-04T18:26:50.931Z"
   },
   {
    "duration": 324,
    "start_time": "2022-02-04T18:26:51.255Z"
   },
   {
    "duration": 9,
    "start_time": "2022-02-04T18:26:51.581Z"
   },
   {
    "duration": 229,
    "start_time": "2022-02-04T18:26:51.592Z"
   },
   {
    "duration": 3,
    "start_time": "2022-02-04T18:26:51.823Z"
   },
   {
    "duration": 46,
    "start_time": "2022-02-04T18:26:51.828Z"
   },
   {
    "duration": 28,
    "start_time": "2022-02-04T18:26:51.875Z"
   },
   {
    "duration": 27,
    "start_time": "2022-02-04T18:26:51.905Z"
   },
   {
    "duration": 44,
    "start_time": "2022-02-04T18:26:51.934Z"
   },
   {
    "duration": 23,
    "start_time": "2022-02-04T18:26:51.980Z"
   },
   {
    "duration": 13,
    "start_time": "2022-02-04T18:26:52.005Z"
   },
   {
    "duration": 52,
    "start_time": "2022-02-04T18:26:52.020Z"
   },
   {
    "duration": 1000,
    "start_time": "2022-02-04T18:30:13.413Z"
   },
   {
    "duration": 37,
    "start_time": "2022-02-04T18:30:14.415Z"
   },
   {
    "duration": 14,
    "start_time": "2022-02-04T18:30:14.454Z"
   },
   {
    "duration": 9,
    "start_time": "2022-02-04T18:30:14.470Z"
   },
   {
    "duration": 13,
    "start_time": "2022-02-04T18:30:14.480Z"
   },
   {
    "duration": 3,
    "start_time": "2022-02-04T18:30:14.495Z"
   },
   {
    "duration": 3,
    "start_time": "2022-02-04T18:30:14.499Z"
   },
   {
    "duration": 7,
    "start_time": "2022-02-04T18:30:14.503Z"
   },
   {
    "duration": 5,
    "start_time": "2022-02-04T18:30:14.513Z"
   },
   {
    "duration": 16,
    "start_time": "2022-02-04T18:30:14.520Z"
   },
   {
    "duration": 34,
    "start_time": "2022-02-04T18:30:14.538Z"
   },
   {
    "duration": 18,
    "start_time": "2022-02-04T18:30:14.574Z"
   },
   {
    "duration": 9,
    "start_time": "2022-02-04T18:30:14.594Z"
   },
   {
    "duration": 13,
    "start_time": "2022-02-04T18:30:14.605Z"
   },
   {
    "duration": 8,
    "start_time": "2022-02-04T18:30:14.619Z"
   },
   {
    "duration": 12,
    "start_time": "2022-02-04T18:30:14.628Z"
   },
   {
    "duration": 42,
    "start_time": "2022-02-04T18:30:14.641Z"
   },
   {
    "duration": 232,
    "start_time": "2022-02-04T18:30:14.685Z"
   },
   {
    "duration": 305,
    "start_time": "2022-02-04T18:30:14.919Z"
   },
   {
    "duration": 717,
    "start_time": "2022-02-04T18:30:15.225Z"
   },
   {
    "duration": 6,
    "start_time": "2022-02-04T18:30:15.943Z"
   },
   {
    "duration": 476,
    "start_time": "2022-02-04T18:30:15.951Z"
   },
   {
    "duration": 209,
    "start_time": "2022-02-04T18:30:16.428Z"
   },
   {
    "duration": 513,
    "start_time": "2022-02-04T18:30:16.639Z"
   },
   {
    "duration": 24,
    "start_time": "2022-02-04T18:30:17.153Z"
   },
   {
    "duration": 668,
    "start_time": "2022-02-04T18:30:17.178Z"
   },
   {
    "duration": 273,
    "start_time": "2022-02-04T18:30:17.849Z"
   },
   {
    "duration": 10,
    "start_time": "2022-02-04T18:30:18.124Z"
   },
   {
    "duration": 353,
    "start_time": "2022-02-04T18:30:18.136Z"
   },
   {
    "duration": 302,
    "start_time": "2022-02-04T18:30:18.491Z"
   },
   {
    "duration": 10,
    "start_time": "2022-02-04T18:30:18.794Z"
   },
   {
    "duration": 230,
    "start_time": "2022-02-04T18:30:18.806Z"
   },
   {
    "duration": 3,
    "start_time": "2022-02-04T18:30:19.037Z"
   },
   {
    "duration": 38,
    "start_time": "2022-02-04T18:30:19.042Z"
   },
   {
    "duration": 25,
    "start_time": "2022-02-04T18:30:19.081Z"
   },
   {
    "duration": 26,
    "start_time": "2022-02-04T18:30:19.107Z"
   },
   {
    "duration": 41,
    "start_time": "2022-02-04T18:30:19.134Z"
   },
   {
    "duration": 21,
    "start_time": "2022-02-04T18:30:19.177Z"
   },
   {
    "duration": 11,
    "start_time": "2022-02-04T18:30:19.200Z"
   },
   {
    "duration": 23,
    "start_time": "2022-02-04T18:30:19.212Z"
   },
   {
    "duration": 1241,
    "start_time": "2022-02-04T18:37:49.864Z"
   },
   {
    "duration": 39,
    "start_time": "2022-02-04T18:37:51.108Z"
   },
   {
    "duration": 15,
    "start_time": "2022-02-04T18:37:51.149Z"
   },
   {
    "duration": 10,
    "start_time": "2022-02-04T18:37:51.165Z"
   },
   {
    "duration": 14,
    "start_time": "2022-02-04T18:37:51.177Z"
   },
   {
    "duration": 3,
    "start_time": "2022-02-04T18:37:51.193Z"
   },
   {
    "duration": 4,
    "start_time": "2022-02-04T18:37:51.197Z"
   },
   {
    "duration": 5,
    "start_time": "2022-02-04T18:37:51.203Z"
   },
   {
    "duration": 8,
    "start_time": "2022-02-04T18:37:51.210Z"
   },
   {
    "duration": 16,
    "start_time": "2022-02-04T18:37:51.219Z"
   },
   {
    "duration": 37,
    "start_time": "2022-02-04T18:37:51.236Z"
   },
   {
    "duration": 18,
    "start_time": "2022-02-04T18:37:51.274Z"
   },
   {
    "duration": 11,
    "start_time": "2022-02-04T18:37:51.293Z"
   },
   {
    "duration": 13,
    "start_time": "2022-02-04T18:37:51.306Z"
   },
   {
    "duration": 6,
    "start_time": "2022-02-04T18:37:51.320Z"
   },
   {
    "duration": 15,
    "start_time": "2022-02-04T18:37:51.327Z"
   },
   {
    "duration": 44,
    "start_time": "2022-02-04T18:37:51.343Z"
   },
   {
    "duration": 219,
    "start_time": "2022-02-04T18:37:51.388Z"
   },
   {
    "duration": 299,
    "start_time": "2022-02-04T18:37:51.609Z"
   },
   {
    "duration": 696,
    "start_time": "2022-02-04T18:37:51.910Z"
   },
   {
    "duration": 6,
    "start_time": "2022-02-04T18:37:52.607Z"
   },
   {
    "duration": 473,
    "start_time": "2022-02-04T18:37:52.614Z"
   },
   {
    "duration": 211,
    "start_time": "2022-02-04T18:37:53.090Z"
   },
   {
    "duration": 520,
    "start_time": "2022-02-04T18:37:53.303Z"
   },
   {
    "duration": 17,
    "start_time": "2022-02-04T18:37:53.825Z"
   },
   {
    "duration": 632,
    "start_time": "2022-02-04T18:37:53.844Z"
   },
   {
    "duration": 258,
    "start_time": "2022-02-04T18:37:54.478Z"
   },
   {
    "duration": 10,
    "start_time": "2022-02-04T18:37:54.738Z"
   },
   {
    "duration": 366,
    "start_time": "2022-02-04T18:37:54.750Z"
   },
   {
    "duration": 289,
    "start_time": "2022-02-04T18:37:55.118Z"
   },
   {
    "duration": 9,
    "start_time": "2022-02-04T18:37:55.409Z"
   },
   {
    "duration": 241,
    "start_time": "2022-02-04T18:37:55.419Z"
   },
   {
    "duration": 11,
    "start_time": "2022-02-04T18:37:55.661Z"
   },
   {
    "duration": 30,
    "start_time": "2022-02-04T18:37:55.673Z"
   },
   {
    "duration": 26,
    "start_time": "2022-02-04T18:37:55.704Z"
   },
   {
    "duration": 49,
    "start_time": "2022-02-04T18:37:55.732Z"
   },
   {
    "duration": 15,
    "start_time": "2022-02-04T18:37:55.783Z"
   },
   {
    "duration": 23,
    "start_time": "2022-02-04T18:37:55.800Z"
   },
   {
    "duration": 15,
    "start_time": "2022-02-04T18:37:55.825Z"
   },
   {
    "duration": 22,
    "start_time": "2022-02-04T18:37:55.872Z"
   },
   {
    "duration": 351,
    "start_time": "2022-02-04T18:44:36.638Z"
   },
   {
    "duration": 5,
    "start_time": "2022-02-04T18:44:53.843Z"
   },
   {
    "duration": 8,
    "start_time": "2022-02-04T18:44:56.205Z"
   },
   {
    "duration": 418,
    "start_time": "2022-02-04T18:48:32.050Z"
   },
   {
    "duration": 5,
    "start_time": "2022-02-04T18:48:58.150Z"
   },
   {
    "duration": 4,
    "start_time": "2022-02-04T18:49:01.255Z"
   },
   {
    "duration": 5,
    "start_time": "2022-02-04T18:49:02.951Z"
   },
   {
    "duration": 10,
    "start_time": "2022-02-04T18:50:56.575Z"
   },
   {
    "duration": 11,
    "start_time": "2022-02-04T18:54:56.207Z"
   },
   {
    "duration": 87,
    "start_time": "2022-02-04T18:55:06.616Z"
   },
   {
    "duration": 977,
    "start_time": "2022-02-04T18:55:05.728Z"
   },
   {
    "duration": 971,
    "start_time": "2022-02-04T18:55:05.735Z"
   },
   {
    "duration": 966,
    "start_time": "2022-02-04T18:55:05.741Z"
   },
   {
    "duration": 963,
    "start_time": "2022-02-04T18:55:05.745Z"
   },
   {
    "duration": 959,
    "start_time": "2022-02-04T18:55:05.750Z"
   },
   {
    "duration": 954,
    "start_time": "2022-02-04T18:55:05.755Z"
   },
   {
    "duration": 951,
    "start_time": "2022-02-04T18:55:05.759Z"
   },
   {
    "duration": 948,
    "start_time": "2022-02-04T18:55:05.763Z"
   },
   {
    "duration": 941,
    "start_time": "2022-02-04T18:55:05.771Z"
   },
   {
    "duration": 936,
    "start_time": "2022-02-04T18:55:05.777Z"
   },
   {
    "duration": 932,
    "start_time": "2022-02-04T18:55:05.782Z"
   },
   {
    "duration": 928,
    "start_time": "2022-02-04T18:55:05.787Z"
   },
   {
    "duration": 924,
    "start_time": "2022-02-04T18:55:05.791Z"
   },
   {
    "duration": 317,
    "start_time": "2022-02-04T18:55:06.722Z"
   },
   {
    "duration": 1132,
    "start_time": "2022-02-04T18:55:05.909Z"
   },
   {
    "duration": 1129,
    "start_time": "2022-02-04T18:55:05.914Z"
   },
   {
    "duration": 1062,
    "start_time": "2022-02-04T18:55:05.982Z"
   },
   {
    "duration": 1039,
    "start_time": "2022-02-04T18:55:06.006Z"
   },
   {
    "duration": 1035,
    "start_time": "2022-02-04T18:55:06.011Z"
   },
   {
    "duration": 1033,
    "start_time": "2022-02-04T18:55:06.014Z"
   },
   {
    "duration": 1030,
    "start_time": "2022-02-04T18:55:06.018Z"
   },
   {
    "duration": 1027,
    "start_time": "2022-02-04T18:55:06.022Z"
   },
   {
    "duration": 1024,
    "start_time": "2022-02-04T18:55:06.026Z"
   },
   {
    "duration": 1021,
    "start_time": "2022-02-04T18:55:06.030Z"
   },
   {
    "duration": 1019,
    "start_time": "2022-02-04T18:55:06.033Z"
   },
   {
    "duration": 1016,
    "start_time": "2022-02-04T18:55:06.037Z"
   },
   {
    "duration": 1014,
    "start_time": "2022-02-04T18:55:06.040Z"
   },
   {
    "duration": 1010,
    "start_time": "2022-02-04T18:55:06.045Z"
   },
   {
    "duration": 1007,
    "start_time": "2022-02-04T18:55:06.048Z"
   },
   {
    "duration": 1004,
    "start_time": "2022-02-04T18:55:06.052Z"
   },
   {
    "duration": 1002,
    "start_time": "2022-02-04T18:55:06.055Z"
   },
   {
    "duration": 999,
    "start_time": "2022-02-04T18:55:06.059Z"
   },
   {
    "duration": 985,
    "start_time": "2022-02-04T18:55:06.073Z"
   },
   {
    "duration": 980,
    "start_time": "2022-02-04T18:55:06.079Z"
   },
   {
    "duration": 977,
    "start_time": "2022-02-04T18:55:06.083Z"
   },
   {
    "duration": 972,
    "start_time": "2022-02-04T18:55:06.089Z"
   },
   {
    "duration": 970,
    "start_time": "2022-02-04T18:55:06.092Z"
   },
   {
    "duration": 966,
    "start_time": "2022-02-04T18:55:06.096Z"
   },
   {
    "duration": 964,
    "start_time": "2022-02-04T18:55:06.099Z"
   },
   {
    "duration": 961,
    "start_time": "2022-02-04T18:55:06.103Z"
   },
   {
    "duration": 958,
    "start_time": "2022-02-04T18:55:06.107Z"
   },
   {
    "duration": 955,
    "start_time": "2022-02-04T18:55:06.111Z"
   },
   {
    "duration": 953,
    "start_time": "2022-02-04T18:55:06.114Z"
   },
   {
    "duration": 1125,
    "start_time": "2022-02-04T18:55:47.767Z"
   },
   {
    "duration": 39,
    "start_time": "2022-02-04T18:55:48.894Z"
   },
   {
    "duration": 14,
    "start_time": "2022-02-04T18:55:48.935Z"
   },
   {
    "duration": 9,
    "start_time": "2022-02-04T18:55:48.951Z"
   },
   {
    "duration": 21,
    "start_time": "2022-02-04T18:55:48.962Z"
   },
   {
    "duration": 4,
    "start_time": "2022-02-04T18:55:48.985Z"
   },
   {
    "duration": 3,
    "start_time": "2022-02-04T18:55:48.991Z"
   },
   {
    "duration": 8,
    "start_time": "2022-02-04T18:55:48.995Z"
   },
   {
    "duration": 5,
    "start_time": "2022-02-04T18:55:49.006Z"
   },
   {
    "duration": 12,
    "start_time": "2022-02-04T18:55:49.014Z"
   },
   {
    "duration": 45,
    "start_time": "2022-02-04T18:55:49.028Z"
   },
   {
    "duration": 17,
    "start_time": "2022-02-04T18:55:49.075Z"
   },
   {
    "duration": 10,
    "start_time": "2022-02-04T18:55:49.093Z"
   },
   {
    "duration": 12,
    "start_time": "2022-02-04T18:55:49.104Z"
   },
   {
    "duration": 6,
    "start_time": "2022-02-04T18:55:49.118Z"
   },
   {
    "duration": 13,
    "start_time": "2022-02-04T18:55:49.125Z"
   },
   {
    "duration": 33,
    "start_time": "2022-02-04T18:55:49.140Z"
   },
   {
    "duration": 6,
    "start_time": "2022-02-04T18:55:49.175Z"
   },
   {
    "duration": 7,
    "start_time": "2022-02-04T18:55:49.183Z"
   },
   {
    "duration": 20,
    "start_time": "2022-02-04T18:55:49.191Z"
   },
   {
    "duration": 238,
    "start_time": "2022-02-04T18:55:49.212Z"
   },
   {
    "duration": 324,
    "start_time": "2022-02-04T18:55:49.451Z"
   },
   {
    "duration": 743,
    "start_time": "2022-02-04T18:55:49.776Z"
   },
   {
    "duration": 7,
    "start_time": "2022-02-04T18:55:50.521Z"
   },
   {
    "duration": 520,
    "start_time": "2022-02-04T18:55:50.529Z"
   },
   {
    "duration": 232,
    "start_time": "2022-02-04T18:55:51.051Z"
   },
   {
    "duration": 549,
    "start_time": "2022-02-04T18:55:51.286Z"
   },
   {
    "duration": 20,
    "start_time": "2022-02-04T18:55:51.838Z"
   },
   {
    "duration": 689,
    "start_time": "2022-02-04T18:55:51.860Z"
   },
   {
    "duration": 282,
    "start_time": "2022-02-04T18:55:52.550Z"
   },
   {
    "duration": 10,
    "start_time": "2022-02-04T18:55:52.834Z"
   },
   {
    "duration": 365,
    "start_time": "2022-02-04T18:55:52.845Z"
   },
   {
    "duration": 326,
    "start_time": "2022-02-04T18:55:53.212Z"
   },
   {
    "duration": 9,
    "start_time": "2022-02-04T18:55:53.540Z"
   },
   {
    "duration": 249,
    "start_time": "2022-02-04T18:55:53.551Z"
   },
   {
    "duration": 3,
    "start_time": "2022-02-04T18:55:53.802Z"
   },
   {
    "duration": 32,
    "start_time": "2022-02-04T18:55:53.806Z"
   },
   {
    "duration": 54,
    "start_time": "2022-02-04T18:55:53.840Z"
   },
   {
    "duration": 33,
    "start_time": "2022-02-04T18:55:53.895Z"
   },
   {
    "duration": 43,
    "start_time": "2022-02-04T18:55:53.929Z"
   },
   {
    "duration": 24,
    "start_time": "2022-02-04T18:55:53.974Z"
   },
   {
    "duration": 12,
    "start_time": "2022-02-04T18:55:53.999Z"
   },
   {
    "duration": 22,
    "start_time": "2022-02-04T18:55:54.012Z"
   },
   {
    "duration": 7,
    "start_time": "2022-02-04T18:57:53.294Z"
   },
   {
    "duration": 5,
    "start_time": "2022-02-04T19:04:21.247Z"
   },
   {
    "duration": 10,
    "start_time": "2022-02-04T19:04:22.978Z"
   },
   {
    "duration": 185,
    "start_time": "2022-02-04T19:07:18.535Z"
   },
   {
    "duration": 200,
    "start_time": "2022-02-04T19:07:31.024Z"
   },
   {
    "duration": 264,
    "start_time": "2022-02-04T19:08:42.224Z"
   },
   {
    "duration": 1105,
    "start_time": "2022-02-04T19:09:04.927Z"
   },
   {
    "duration": 38,
    "start_time": "2022-02-04T19:09:06.033Z"
   },
   {
    "duration": 15,
    "start_time": "2022-02-04T19:09:06.073Z"
   },
   {
    "duration": 9,
    "start_time": "2022-02-04T19:09:06.090Z"
   },
   {
    "duration": 15,
    "start_time": "2022-02-04T19:09:06.101Z"
   },
   {
    "duration": 4,
    "start_time": "2022-02-04T19:09:06.118Z"
   },
   {
    "duration": 3,
    "start_time": "2022-02-04T19:09:06.124Z"
   },
   {
    "duration": 6,
    "start_time": "2022-02-04T19:09:06.129Z"
   },
   {
    "duration": 6,
    "start_time": "2022-02-04T19:09:06.171Z"
   },
   {
    "duration": 13,
    "start_time": "2022-02-04T19:09:06.178Z"
   },
   {
    "duration": 9,
    "start_time": "2022-02-04T19:09:06.192Z"
   },
   {
    "duration": 17,
    "start_time": "2022-02-04T19:09:06.203Z"
   },
   {
    "duration": 7,
    "start_time": "2022-02-04T19:09:06.222Z"
   },
   {
    "duration": 42,
    "start_time": "2022-02-04T19:09:06.230Z"
   },
   {
    "duration": 14,
    "start_time": "2022-02-04T19:09:06.273Z"
   },
   {
    "duration": 5,
    "start_time": "2022-02-04T19:09:06.288Z"
   },
   {
    "duration": 11,
    "start_time": "2022-02-04T19:09:06.294Z"
   },
   {
    "duration": 11,
    "start_time": "2022-02-04T19:09:06.306Z"
   },
   {
    "duration": 11,
    "start_time": "2022-02-04T19:09:06.319Z"
   },
   {
    "duration": 11,
    "start_time": "2022-02-04T19:09:06.332Z"
   },
   {
    "duration": 29,
    "start_time": "2022-02-04T19:09:06.345Z"
   },
   {
    "duration": 17,
    "start_time": "2022-02-04T19:09:06.375Z"
   },
   {
    "duration": 228,
    "start_time": "2022-02-04T19:09:06.395Z"
   },
   {
    "duration": 329,
    "start_time": "2022-02-04T19:09:06.625Z"
   },
   {
    "duration": 725,
    "start_time": "2022-02-04T19:09:06.956Z"
   },
   {
    "duration": 6,
    "start_time": "2022-02-04T19:09:07.683Z"
   },
   {
    "duration": 470,
    "start_time": "2022-02-04T19:09:07.691Z"
   },
   {
    "duration": 222,
    "start_time": "2022-02-04T19:09:08.163Z"
   },
   {
    "duration": 570,
    "start_time": "2022-02-04T19:09:08.387Z"
   },
   {
    "duration": 27,
    "start_time": "2022-02-04T19:09:08.959Z"
   },
   {
    "duration": 861,
    "start_time": "2022-02-04T19:09:08.988Z"
   },
   {
    "duration": 267,
    "start_time": "2022-02-04T19:09:09.850Z"
   },
   {
    "duration": 10,
    "start_time": "2022-02-04T19:09:10.119Z"
   },
   {
    "duration": 323,
    "start_time": "2022-02-04T19:09:10.130Z"
   },
   {
    "duration": 332,
    "start_time": "2022-02-04T19:09:10.455Z"
   },
   {
    "duration": 9,
    "start_time": "2022-02-04T19:09:10.789Z"
   },
   {
    "duration": 239,
    "start_time": "2022-02-04T19:09:10.799Z"
   },
   {
    "duration": 3,
    "start_time": "2022-02-04T19:09:11.039Z"
   },
   {
    "duration": 39,
    "start_time": "2022-02-04T19:09:11.043Z"
   },
   {
    "duration": 26,
    "start_time": "2022-02-04T19:09:11.084Z"
   },
   {
    "duration": 28,
    "start_time": "2022-02-04T19:09:11.112Z"
   },
   {
    "duration": 44,
    "start_time": "2022-02-04T19:09:11.142Z"
   },
   {
    "duration": 22,
    "start_time": "2022-02-04T19:09:11.187Z"
   },
   {
    "duration": 11,
    "start_time": "2022-02-04T19:09:11.211Z"
   },
   {
    "duration": 48,
    "start_time": "2022-02-04T19:09:11.224Z"
   },
   {
    "duration": 5,
    "start_time": "2022-02-04T19:13:56.416Z"
   },
   {
    "duration": 847,
    "start_time": "2022-02-04T19:14:10.627Z"
   },
   {
    "duration": 832,
    "start_time": "2022-02-04T19:14:10.643Z"
   },
   {
    "duration": 818,
    "start_time": "2022-02-04T19:14:10.658Z"
   },
   {
    "duration": 805,
    "start_time": "2022-02-04T19:14:10.673Z"
   },
   {
    "duration": 791,
    "start_time": "2022-02-04T19:14:10.688Z"
   },
   {
    "duration": 785,
    "start_time": "2022-02-04T19:14:10.695Z"
   },
   {
    "duration": 780,
    "start_time": "2022-02-04T19:14:10.701Z"
   },
   {
    "duration": 775,
    "start_time": "2022-02-04T19:14:10.707Z"
   },
   {
    "duration": 769,
    "start_time": "2022-02-04T19:14:10.714Z"
   },
   {
    "duration": 764,
    "start_time": "2022-02-04T19:14:10.720Z"
   },
   {
    "duration": 756,
    "start_time": "2022-02-04T19:14:10.729Z"
   },
   {
    "duration": 750,
    "start_time": "2022-02-04T19:14:10.736Z"
   },
   {
    "duration": 744,
    "start_time": "2022-02-04T19:14:10.743Z"
   },
   {
    "duration": 740,
    "start_time": "2022-02-04T19:14:10.748Z"
   },
   {
    "duration": 735,
    "start_time": "2022-02-04T19:14:10.754Z"
   },
   {
    "duration": 729,
    "start_time": "2022-02-04T19:14:10.761Z"
   },
   {
    "duration": 724,
    "start_time": "2022-02-04T19:14:10.767Z"
   },
   {
    "duration": 718,
    "start_time": "2022-02-04T19:14:10.774Z"
   },
   {
    "duration": 711,
    "start_time": "2022-02-04T19:14:10.782Z"
   },
   {
    "duration": 691,
    "start_time": "2022-02-04T19:14:10.803Z"
   },
   {
    "duration": 684,
    "start_time": "2022-02-04T19:14:10.810Z"
   },
   {
    "duration": 680,
    "start_time": "2022-02-04T19:14:10.816Z"
   },
   {
    "duration": 674,
    "start_time": "2022-02-04T19:14:10.823Z"
   },
   {
    "duration": 668,
    "start_time": "2022-02-04T19:14:10.830Z"
   },
   {
    "duration": 661,
    "start_time": "2022-02-04T19:14:10.838Z"
   },
   {
    "duration": 656,
    "start_time": "2022-02-04T19:14:10.844Z"
   },
   {
    "duration": 651,
    "start_time": "2022-02-04T19:14:10.850Z"
   },
   {
    "duration": 645,
    "start_time": "2022-02-04T19:14:10.856Z"
   },
   {
    "duration": 641,
    "start_time": "2022-02-04T19:14:10.862Z"
   },
   {
    "duration": 635,
    "start_time": "2022-02-04T19:14:10.868Z"
   },
   {
    "duration": 629,
    "start_time": "2022-02-04T19:14:10.875Z"
   },
   {
    "duration": 624,
    "start_time": "2022-02-04T19:14:10.881Z"
   },
   {
    "duration": 592,
    "start_time": "2022-02-04T19:14:10.914Z"
   },
   {
    "duration": 559,
    "start_time": "2022-02-04T19:14:10.948Z"
   },
   {
    "duration": 553,
    "start_time": "2022-02-04T19:14:10.955Z"
   },
   {
    "duration": 547,
    "start_time": "2022-02-04T19:14:10.962Z"
   },
   {
    "duration": 536,
    "start_time": "2022-02-04T19:14:10.974Z"
   },
   {
    "duration": 583,
    "start_time": "2022-02-04T19:14:10.987Z"
   },
   {
    "duration": 576,
    "start_time": "2022-02-04T19:14:10.996Z"
   },
   {
    "duration": 565,
    "start_time": "2022-02-04T19:14:11.008Z"
   },
   {
    "duration": 546,
    "start_time": "2022-02-04T19:14:11.028Z"
   },
   {
    "duration": 530,
    "start_time": "2022-02-04T19:14:11.046Z"
   },
   {
    "duration": 520,
    "start_time": "2022-02-04T19:14:11.057Z"
   },
   {
    "duration": 508,
    "start_time": "2022-02-04T19:14:11.070Z"
   },
   {
    "duration": 505,
    "start_time": "2022-02-04T19:14:11.074Z"
   },
   {
    "duration": 978,
    "start_time": "2022-02-04T19:14:32.328Z"
   },
   {
    "duration": 37,
    "start_time": "2022-02-04T19:14:33.307Z"
   },
   {
    "duration": 17,
    "start_time": "2022-02-04T19:14:33.346Z"
   },
   {
    "duration": 19,
    "start_time": "2022-02-04T19:14:33.365Z"
   },
   {
    "duration": 28,
    "start_time": "2022-02-04T19:14:33.385Z"
   },
   {
    "duration": 8,
    "start_time": "2022-02-04T19:14:33.415Z"
   },
   {
    "duration": 17,
    "start_time": "2022-02-04T19:14:33.424Z"
   },
   {
    "duration": 15,
    "start_time": "2022-02-04T19:14:33.444Z"
   },
   {
    "duration": 23,
    "start_time": "2022-02-04T19:14:33.461Z"
   },
   {
    "duration": 33,
    "start_time": "2022-02-04T19:14:33.486Z"
   },
   {
    "duration": 24,
    "start_time": "2022-02-04T19:14:33.520Z"
   },
   {
    "duration": 36,
    "start_time": "2022-02-04T19:14:33.546Z"
   },
   {
    "duration": 8,
    "start_time": "2022-02-04T19:14:33.584Z"
   },
   {
    "duration": 392,
    "start_time": "2022-02-04T19:14:33.593Z"
   },
   {
    "duration": 715,
    "start_time": "2022-02-04T19:14:33.274Z"
   },
   {
    "duration": 705,
    "start_time": "2022-02-04T19:14:33.285Z"
   },
   {
    "duration": 693,
    "start_time": "2022-02-04T19:14:33.298Z"
   },
   {
    "duration": 680,
    "start_time": "2022-02-04T19:14:33.312Z"
   },
   {
    "duration": 611,
    "start_time": "2022-02-04T19:14:33.382Z"
   },
   {
    "duration": 596,
    "start_time": "2022-02-04T19:14:33.398Z"
   },
   {
    "duration": 585,
    "start_time": "2022-02-04T19:14:33.410Z"
   },
   {
    "duration": 574,
    "start_time": "2022-02-04T19:14:33.422Z"
   },
   {
    "duration": 564,
    "start_time": "2022-02-04T19:14:33.433Z"
   },
   {
    "duration": 553,
    "start_time": "2022-02-04T19:14:33.445Z"
   },
   {
    "duration": 532,
    "start_time": "2022-02-04T19:14:33.467Z"
   },
   {
    "duration": 499,
    "start_time": "2022-02-04T19:14:33.501Z"
   },
   {
    "duration": 485,
    "start_time": "2022-02-04T19:14:33.516Z"
   },
   {
    "duration": 470,
    "start_time": "2022-02-04T19:14:33.532Z"
   },
   {
    "duration": 460,
    "start_time": "2022-02-04T19:14:33.543Z"
   },
   {
    "duration": 449,
    "start_time": "2022-02-04T19:14:33.555Z"
   },
   {
    "duration": 441,
    "start_time": "2022-02-04T19:14:33.564Z"
   },
   {
    "duration": 432,
    "start_time": "2022-02-04T19:14:33.574Z"
   },
   {
    "duration": 423,
    "start_time": "2022-02-04T19:14:33.584Z"
   },
   {
    "duration": 390,
    "start_time": "2022-02-04T19:14:33.618Z"
   },
   {
    "duration": 379,
    "start_time": "2022-02-04T19:14:33.630Z"
   },
   {
    "duration": 369,
    "start_time": "2022-02-04T19:14:33.640Z"
   },
   {
    "duration": 360,
    "start_time": "2022-02-04T19:14:33.650Z"
   },
   {
    "duration": 352,
    "start_time": "2022-02-04T19:14:33.661Z"
   },
   {
    "duration": 340,
    "start_time": "2022-02-04T19:14:33.674Z"
   },
   {
    "duration": 331,
    "start_time": "2022-02-04T19:14:33.684Z"
   },
   {
    "duration": 326,
    "start_time": "2022-02-04T19:14:33.690Z"
   },
   {
    "duration": 321,
    "start_time": "2022-02-04T19:14:33.696Z"
   },
   {
    "duration": 315,
    "start_time": "2022-02-04T19:14:33.702Z"
   },
   {
    "duration": 296,
    "start_time": "2022-02-04T19:14:33.722Z"
   },
   {
    "duration": 290,
    "start_time": "2022-02-04T19:14:33.729Z"
   },
   {
    "duration": 5,
    "start_time": "2022-02-04T19:15:21.983Z"
   },
   {
    "duration": 12,
    "start_time": "2022-02-04T19:15:23.515Z"
   },
   {
    "duration": 1065,
    "start_time": "2022-02-04T19:15:49.335Z"
   },
   {
    "duration": 36,
    "start_time": "2022-02-04T19:15:50.402Z"
   },
   {
    "duration": 15,
    "start_time": "2022-02-04T19:15:50.440Z"
   },
   {
    "duration": 9,
    "start_time": "2022-02-04T19:15:50.457Z"
   },
   {
    "duration": 14,
    "start_time": "2022-02-04T19:15:50.472Z"
   },
   {
    "duration": 4,
    "start_time": "2022-02-04T19:15:50.488Z"
   },
   {
    "duration": 4,
    "start_time": "2022-02-04T19:15:50.494Z"
   },
   {
    "duration": 7,
    "start_time": "2022-02-04T19:15:50.500Z"
   },
   {
    "duration": 5,
    "start_time": "2022-02-04T19:15:50.509Z"
   },
   {
    "duration": 14,
    "start_time": "2022-02-04T19:15:50.516Z"
   },
   {
    "duration": 8,
    "start_time": "2022-02-04T19:15:50.532Z"
   },
   {
    "duration": 46,
    "start_time": "2022-02-04T19:15:50.541Z"
   },
   {
    "duration": 3,
    "start_time": "2022-02-04T19:15:50.588Z"
   },
   {
    "duration": 12,
    "start_time": "2022-02-04T19:15:50.592Z"
   },
   {
    "duration": 14,
    "start_time": "2022-02-04T19:15:50.605Z"
   },
   {
    "duration": 4,
    "start_time": "2022-02-04T19:15:50.620Z"
   },
   {
    "duration": 17,
    "start_time": "2022-02-04T19:15:50.626Z"
   },
   {
    "duration": 28,
    "start_time": "2022-02-04T19:15:50.645Z"
   },
   {
    "duration": 7,
    "start_time": "2022-02-04T19:15:50.674Z"
   },
   {
    "duration": 9,
    "start_time": "2022-02-04T19:15:50.682Z"
   },
   {
    "duration": 9,
    "start_time": "2022-02-04T19:15:50.692Z"
   },
   {
    "duration": 21,
    "start_time": "2022-02-04T19:15:50.702Z"
   },
   {
    "duration": 235,
    "start_time": "2022-02-04T19:15:50.726Z"
   },
   {
    "duration": 316,
    "start_time": "2022-02-04T19:15:50.963Z"
   },
   {
    "duration": 718,
    "start_time": "2022-02-04T19:15:51.280Z"
   },
   {
    "duration": 6,
    "start_time": "2022-02-04T19:15:52.000Z"
   },
   {
    "duration": 470,
    "start_time": "2022-02-04T19:15:52.007Z"
   },
   {
    "duration": 194,
    "start_time": "2022-02-04T19:15:52.479Z"
   },
   {
    "duration": 497,
    "start_time": "2022-02-04T19:15:52.674Z"
   },
   {
    "duration": 18,
    "start_time": "2022-02-04T19:15:53.173Z"
   },
   {
    "duration": 640,
    "start_time": "2022-02-04T19:15:53.193Z"
   },
   {
    "duration": 275,
    "start_time": "2022-02-04T19:15:53.836Z"
   },
   {
    "duration": 9,
    "start_time": "2022-02-04T19:15:54.113Z"
   },
   {
    "duration": 293,
    "start_time": "2022-02-04T19:15:54.124Z"
   },
   {
    "duration": 308,
    "start_time": "2022-02-04T19:15:54.419Z"
   },
   {
    "duration": 10,
    "start_time": "2022-02-04T19:15:54.728Z"
   },
   {
    "duration": 271,
    "start_time": "2022-02-04T19:15:54.740Z"
   },
   {
    "duration": 3,
    "start_time": "2022-02-04T19:15:55.012Z"
   },
   {
    "duration": 38,
    "start_time": "2022-02-04T19:15:55.016Z"
   },
   {
    "duration": 30,
    "start_time": "2022-02-04T19:15:55.072Z"
   },
   {
    "duration": 35,
    "start_time": "2022-02-04T19:15:55.103Z"
   },
   {
    "duration": 50,
    "start_time": "2022-02-04T19:15:55.140Z"
   },
   {
    "duration": 25,
    "start_time": "2022-02-04T19:15:55.192Z"
   },
   {
    "duration": 10,
    "start_time": "2022-02-04T19:15:55.219Z"
   },
   {
    "duration": 58,
    "start_time": "2022-02-04T19:15:55.230Z"
   },
   {
    "duration": 11,
    "start_time": "2022-02-04T19:16:20.294Z"
   },
   {
    "duration": 10,
    "start_time": "2022-02-04T19:16:22.678Z"
   },
   {
    "duration": 380,
    "start_time": "2022-02-04T19:16:47.123Z"
   },
   {
    "duration": 277,
    "start_time": "2022-02-04T19:17:05.560Z"
   },
   {
    "duration": 299,
    "start_time": "2022-02-04T19:17:07.086Z"
   },
   {
    "duration": 1221,
    "start_time": "2022-02-04T19:17:28.828Z"
   },
   {
    "duration": 279,
    "start_time": "2022-02-04T19:17:31.695Z"
   },
   {
    "duration": 318,
    "start_time": "2022-02-04T19:18:14.818Z"
   },
   {
    "duration": 11,
    "start_time": "2022-02-04T19:18:30.445Z"
   },
   {
    "duration": 12,
    "start_time": "2022-02-04T19:18:40.444Z"
   },
   {
    "duration": 1182,
    "start_time": "2022-02-04T19:18:52.067Z"
   },
   {
    "duration": 37,
    "start_time": "2022-02-04T19:18:53.251Z"
   },
   {
    "duration": 14,
    "start_time": "2022-02-04T19:18:53.290Z"
   },
   {
    "duration": 8,
    "start_time": "2022-02-04T19:18:53.306Z"
   },
   {
    "duration": 13,
    "start_time": "2022-02-04T19:18:53.316Z"
   },
   {
    "duration": 4,
    "start_time": "2022-02-04T19:18:53.330Z"
   },
   {
    "duration": 3,
    "start_time": "2022-02-04T19:18:53.336Z"
   },
   {
    "duration": 6,
    "start_time": "2022-02-04T19:18:53.341Z"
   },
   {
    "duration": 5,
    "start_time": "2022-02-04T19:18:53.373Z"
   },
   {
    "duration": 12,
    "start_time": "2022-02-04T19:18:53.380Z"
   },
   {
    "duration": 9,
    "start_time": "2022-02-04T19:18:53.394Z"
   },
   {
    "duration": 18,
    "start_time": "2022-02-04T19:18:53.404Z"
   },
   {
    "duration": 6,
    "start_time": "2022-02-04T19:18:53.424Z"
   },
   {
    "duration": 16,
    "start_time": "2022-02-04T19:18:53.432Z"
   },
   {
    "duration": 14,
    "start_time": "2022-02-04T19:18:53.472Z"
   },
   {
    "duration": 4,
    "start_time": "2022-02-04T19:18:53.488Z"
   },
   {
    "duration": 14,
    "start_time": "2022-02-04T19:18:53.493Z"
   },
   {
    "duration": 9,
    "start_time": "2022-02-04T19:18:53.509Z"
   },
   {
    "duration": 10,
    "start_time": "2022-02-04T19:18:53.519Z"
   },
   {
    "duration": 10,
    "start_time": "2022-02-04T19:18:53.531Z"
   },
   {
    "duration": 11,
    "start_time": "2022-02-04T19:18:53.542Z"
   },
   {
    "duration": 35,
    "start_time": "2022-02-04T19:18:53.554Z"
   },
   {
    "duration": 227,
    "start_time": "2022-02-04T19:18:53.590Z"
   },
   {
    "duration": 300,
    "start_time": "2022-02-04T19:18:53.819Z"
   },
   {
    "duration": 707,
    "start_time": "2022-02-04T19:18:54.121Z"
   },
   {
    "duration": 6,
    "start_time": "2022-02-04T19:18:54.829Z"
   },
   {
    "duration": 461,
    "start_time": "2022-02-04T19:18:54.838Z"
   },
   {
    "duration": 195,
    "start_time": "2022-02-04T19:18:55.301Z"
   },
   {
    "duration": 425,
    "start_time": "2022-02-04T19:18:55.497Z"
   },
   {
    "duration": 18,
    "start_time": "2022-02-04T19:18:55.924Z"
   },
   {
    "duration": 731,
    "start_time": "2022-02-04T19:18:55.944Z"
   },
   {
    "duration": 298,
    "start_time": "2022-02-04T19:18:56.676Z"
   },
   {
    "duration": 9,
    "start_time": "2022-02-04T19:18:56.976Z"
   },
   {
    "duration": 312,
    "start_time": "2022-02-04T19:18:56.987Z"
   },
   {
    "duration": 287,
    "start_time": "2022-02-04T19:18:57.300Z"
   },
   {
    "duration": 9,
    "start_time": "2022-02-04T19:18:57.588Z"
   },
   {
    "duration": 227,
    "start_time": "2022-02-04T19:18:57.599Z"
   },
   {
    "duration": 3,
    "start_time": "2022-02-04T19:18:57.827Z"
   },
   {
    "duration": 41,
    "start_time": "2022-02-04T19:18:57.831Z"
   },
   {
    "duration": 26,
    "start_time": "2022-02-04T19:18:57.873Z"
   },
   {
    "duration": 26,
    "start_time": "2022-02-04T19:18:57.900Z"
   },
   {
    "duration": 15,
    "start_time": "2022-02-04T19:18:57.928Z"
   },
   {
    "duration": 23,
    "start_time": "2022-02-04T19:18:57.971Z"
   },
   {
    "duration": 20,
    "start_time": "2022-02-04T19:18:57.995Z"
   },
   {
    "duration": 29,
    "start_time": "2022-02-04T19:18:58.017Z"
   },
   {
    "duration": 366,
    "start_time": "2022-02-04T19:19:50.476Z"
   },
   {
    "duration": 365,
    "start_time": "2022-02-04T19:19:51.968Z"
   },
   {
    "duration": 10,
    "start_time": "2022-02-04T19:20:10.490Z"
   },
   {
    "duration": 12,
    "start_time": "2022-02-04T19:20:18.240Z"
   },
   {
    "duration": 462,
    "start_time": "2022-02-04T19:26:20.356Z"
   },
   {
    "duration": 19,
    "start_time": "2022-02-04T19:31:39.052Z"
   },
   {
    "duration": 3727,
    "start_time": "2022-02-04T19:40:46.301Z"
   },
   {
    "duration": 417,
    "start_time": "2022-02-04T19:41:25.203Z"
   },
   {
    "duration": 306,
    "start_time": "2022-02-04T19:50:39.889Z"
   },
   {
    "duration": 302,
    "start_time": "2022-02-04T19:51:13.703Z"
   },
   {
    "duration": 361,
    "start_time": "2022-02-04T19:51:35.753Z"
   },
   {
    "duration": 11,
    "start_time": "2022-02-04T19:52:10.265Z"
   },
   {
    "duration": 9,
    "start_time": "2022-02-04T19:52:46.197Z"
   },
   {
    "duration": 304,
    "start_time": "2022-02-04T19:52:59.882Z"
   },
   {
    "duration": 268,
    "start_time": "2022-02-04T19:53:14.217Z"
   },
   {
    "duration": 9,
    "start_time": "2022-02-04T20:00:05.462Z"
   },
   {
    "duration": 432,
    "start_time": "2022-02-04T20:06:39.049Z"
   },
   {
    "duration": 270,
    "start_time": "2022-02-04T20:06:52.924Z"
   },
   {
    "duration": 8,
    "start_time": "2022-02-04T20:07:26.786Z"
   },
   {
    "duration": 285,
    "start_time": "2022-02-04T20:12:43.215Z"
   },
   {
    "duration": 298,
    "start_time": "2022-02-04T20:12:52.176Z"
   },
   {
    "duration": 8,
    "start_time": "2022-02-04T20:12:59.558Z"
   },
   {
    "duration": 281,
    "start_time": "2022-02-04T20:29:47.462Z"
   },
   {
    "duration": 278,
    "start_time": "2022-02-04T20:29:57.596Z"
   },
   {
    "duration": 1241,
    "start_time": "2022-02-04T20:31:38.470Z"
   },
   {
    "duration": 1242,
    "start_time": "2022-02-04T20:31:40.160Z"
   },
   {
    "duration": 1213,
    "start_time": "2022-02-04T20:31:42.479Z"
   },
   {
    "duration": 288,
    "start_time": "2022-02-04T20:31:44.787Z"
   },
   {
    "duration": 326,
    "start_time": "2022-02-04T20:35:02.034Z"
   },
   {
    "duration": 1149,
    "start_time": "2022-02-04T20:35:50.391Z"
   },
   {
    "duration": 1161,
    "start_time": "2022-02-04T20:35:53.817Z"
   },
   {
    "duration": 1096,
    "start_time": "2022-02-04T20:35:58.408Z"
   },
   {
    "duration": 1246,
    "start_time": "2022-02-04T20:36:27.023Z"
   },
   {
    "duration": 1198,
    "start_time": "2022-02-04T20:36:31.112Z"
   },
   {
    "duration": 229,
    "start_time": "2022-02-04T20:36:49.777Z"
   },
   {
    "duration": 225,
    "start_time": "2022-02-04T20:37:51.563Z"
   },
   {
    "duration": 631,
    "start_time": "2022-02-04T20:40:51.311Z"
   },
   {
    "duration": 215,
    "start_time": "2022-02-04T20:41:25.703Z"
   },
   {
    "duration": 266,
    "start_time": "2022-02-04T20:41:33.516Z"
   },
   {
    "duration": 15,
    "start_time": "2022-02-04T20:45:55.743Z"
   },
   {
    "duration": 17,
    "start_time": "2022-02-04T20:46:27.141Z"
   },
   {
    "duration": 1097,
    "start_time": "2022-02-04T20:49:04.341Z"
   },
   {
    "duration": 36,
    "start_time": "2022-02-04T20:49:05.439Z"
   },
   {
    "duration": 15,
    "start_time": "2022-02-04T20:49:05.477Z"
   },
   {
    "duration": 10,
    "start_time": "2022-02-04T20:49:05.493Z"
   },
   {
    "duration": 13,
    "start_time": "2022-02-04T20:49:05.505Z"
   },
   {
    "duration": 4,
    "start_time": "2022-02-04T20:49:05.520Z"
   },
   {
    "duration": 3,
    "start_time": "2022-02-04T20:49:05.525Z"
   },
   {
    "duration": 6,
    "start_time": "2022-02-04T20:49:05.531Z"
   },
   {
    "duration": 34,
    "start_time": "2022-02-04T20:49:05.539Z"
   },
   {
    "duration": 11,
    "start_time": "2022-02-04T20:49:05.575Z"
   },
   {
    "duration": 8,
    "start_time": "2022-02-04T20:49:05.587Z"
   },
   {
    "duration": 15,
    "start_time": "2022-02-04T20:49:05.596Z"
   },
   {
    "duration": 3,
    "start_time": "2022-02-04T20:49:05.613Z"
   },
   {
    "duration": 15,
    "start_time": "2022-02-04T20:49:05.617Z"
   },
   {
    "duration": 39,
    "start_time": "2022-02-04T20:49:05.634Z"
   },
   {
    "duration": 7,
    "start_time": "2022-02-04T20:49:05.675Z"
   },
   {
    "duration": 13,
    "start_time": "2022-02-04T20:49:05.683Z"
   },
   {
    "duration": 8,
    "start_time": "2022-02-04T20:49:05.697Z"
   },
   {
    "duration": 9,
    "start_time": "2022-02-04T20:49:05.707Z"
   },
   {
    "duration": 11,
    "start_time": "2022-02-04T20:49:05.717Z"
   },
   {
    "duration": 9,
    "start_time": "2022-02-04T20:49:05.730Z"
   },
   {
    "duration": 40,
    "start_time": "2022-02-04T20:49:05.740Z"
   },
   {
    "duration": 218,
    "start_time": "2022-02-04T20:49:05.784Z"
   },
   {
    "duration": 297,
    "start_time": "2022-02-04T20:49:06.004Z"
   },
   {
    "duration": 685,
    "start_time": "2022-02-04T20:49:06.303Z"
   },
   {
    "duration": 6,
    "start_time": "2022-02-04T20:49:06.990Z"
   },
   {
    "duration": 415,
    "start_time": "2022-02-04T20:49:06.998Z"
   },
   {
    "duration": 196,
    "start_time": "2022-02-04T20:49:07.415Z"
   },
   {
    "duration": 488,
    "start_time": "2022-02-04T20:49:07.613Z"
   },
   {
    "duration": 18,
    "start_time": "2022-02-04T20:49:08.103Z"
   },
   {
    "duration": 659,
    "start_time": "2022-02-04T20:49:08.122Z"
   },
   {
    "duration": 267,
    "start_time": "2022-02-04T20:49:08.783Z"
   },
   {
    "duration": 20,
    "start_time": "2022-02-04T20:49:09.052Z"
   },
   {
    "duration": 305,
    "start_time": "2022-02-04T20:49:09.073Z"
   },
   {
    "duration": 296,
    "start_time": "2022-02-04T20:49:09.379Z"
   },
   {
    "duration": 8,
    "start_time": "2022-02-04T20:49:09.676Z"
   },
   {
    "duration": 236,
    "start_time": "2022-02-04T20:49:09.686Z"
   },
   {
    "duration": 224,
    "start_time": "2022-02-04T20:49:09.924Z"
   },
   {
    "duration": 3,
    "start_time": "2022-02-04T20:49:10.150Z"
   },
   {
    "duration": 38,
    "start_time": "2022-02-04T20:49:10.154Z"
   },
   {
    "duration": 32,
    "start_time": "2022-02-04T20:49:10.194Z"
   },
   {
    "duration": 45,
    "start_time": "2022-02-04T20:49:10.228Z"
   },
   {
    "duration": 14,
    "start_time": "2022-02-04T20:49:10.275Z"
   },
   {
    "duration": 87,
    "start_time": "2022-02-04T20:49:10.290Z"
   },
   {
    "duration": 1074,
    "start_time": "2022-02-04T20:49:09.305Z"
   },
   {
    "duration": 1066,
    "start_time": "2022-02-04T20:49:09.314Z"
   },
   {
    "duration": 1059,
    "start_time": "2022-02-04T20:49:09.321Z"
   },
   {
    "duration": 218,
    "start_time": "2022-02-04T20:50:12.924Z"
   },
   {
    "duration": 210,
    "start_time": "2022-02-04T20:50:19.561Z"
   },
   {
    "duration": 357,
    "start_time": "2022-02-04T21:11:29.356Z"
   },
   {
    "duration": 81,
    "start_time": "2022-02-05T08:03:23.889Z"
   },
   {
    "duration": 111,
    "start_time": "2022-02-05T08:03:26.103Z"
   },
   {
    "duration": 82,
    "start_time": "2022-02-05T08:03:44.549Z"
   },
   {
    "duration": 1068,
    "start_time": "2022-02-05T08:03:44.685Z"
   },
   {
    "duration": 69,
    "start_time": "2022-02-05T08:03:47.910Z"
   },
   {
    "duration": 87,
    "start_time": "2022-02-05T08:03:48.713Z"
   },
   {
    "duration": 77,
    "start_time": "2022-02-05T08:03:49.721Z"
   },
   {
    "duration": 99,
    "start_time": "2022-02-05T08:03:50.516Z"
   },
   {
    "duration": 3,
    "start_time": "2022-02-05T08:04:07.232Z"
   },
   {
    "duration": 3,
    "start_time": "2022-02-05T08:04:08.863Z"
   },
   {
    "duration": 3,
    "start_time": "2022-02-05T08:04:20.912Z"
   },
   {
    "duration": 3,
    "start_time": "2022-02-05T08:04:21.735Z"
   },
   {
    "duration": 3,
    "start_time": "2022-02-05T08:04:22.817Z"
   },
   {
    "duration": 302,
    "start_time": "2022-02-05T08:06:08.598Z"
   },
   {
    "duration": 1158,
    "start_time": "2022-02-05T08:06:25.714Z"
   },
   {
    "duration": 36,
    "start_time": "2022-02-05T08:06:26.874Z"
   },
   {
    "duration": 17,
    "start_time": "2022-02-05T08:06:26.912Z"
   },
   {
    "duration": 9,
    "start_time": "2022-02-05T08:06:26.931Z"
   },
   {
    "duration": 15,
    "start_time": "2022-02-05T08:06:26.941Z"
   },
   {
    "duration": 5,
    "start_time": "2022-02-05T08:06:26.958Z"
   },
   {
    "duration": 3,
    "start_time": "2022-02-05T08:06:26.964Z"
   },
   {
    "duration": 6,
    "start_time": "2022-02-05T08:06:26.970Z"
   },
   {
    "duration": 36,
    "start_time": "2022-02-05T08:06:26.979Z"
   },
   {
    "duration": 13,
    "start_time": "2022-02-05T08:06:27.017Z"
   },
   {
    "duration": 9,
    "start_time": "2022-02-05T08:06:27.031Z"
   },
   {
    "duration": 19,
    "start_time": "2022-02-05T08:06:27.042Z"
   },
   {
    "duration": 4,
    "start_time": "2022-02-05T08:06:27.062Z"
   },
   {
    "duration": 46,
    "start_time": "2022-02-05T08:06:27.067Z"
   },
   {
    "duration": 16,
    "start_time": "2022-02-05T08:06:27.115Z"
   },
   {
    "duration": 5,
    "start_time": "2022-02-05T08:06:27.133Z"
   },
   {
    "duration": 14,
    "start_time": "2022-02-05T08:06:27.139Z"
   },
   {
    "duration": 6,
    "start_time": "2022-02-05T08:06:27.154Z"
   },
   {
    "duration": 8,
    "start_time": "2022-02-05T08:06:27.161Z"
   },
   {
    "duration": 6,
    "start_time": "2022-02-05T08:06:27.170Z"
   },
   {
    "duration": 7,
    "start_time": "2022-02-05T08:06:27.212Z"
   },
   {
    "duration": 20,
    "start_time": "2022-02-05T08:06:27.221Z"
   },
   {
    "duration": 269,
    "start_time": "2022-02-05T08:06:27.245Z"
   },
   {
    "duration": 355,
    "start_time": "2022-02-05T08:06:27.516Z"
   },
   {
    "duration": 818,
    "start_time": "2022-02-05T08:06:27.872Z"
   },
   {
    "duration": 6,
    "start_time": "2022-02-05T08:06:28.691Z"
   },
   {
    "duration": 493,
    "start_time": "2022-02-05T08:06:28.699Z"
   },
   {
    "duration": 226,
    "start_time": "2022-02-05T08:06:29.194Z"
   },
   {
    "duration": 568,
    "start_time": "2022-02-05T08:06:29.421Z"
   },
   {
    "duration": 25,
    "start_time": "2022-02-05T08:06:29.990Z"
   },
   {
    "duration": 772,
    "start_time": "2022-02-05T08:06:30.018Z"
   },
   {
    "duration": 304,
    "start_time": "2022-02-05T08:06:30.791Z"
   },
   {
    "duration": 18,
    "start_time": "2022-02-05T08:06:31.097Z"
   },
   {
    "duration": 339,
    "start_time": "2022-02-05T08:06:31.117Z"
   },
   {
    "duration": 307,
    "start_time": "2022-02-05T08:06:31.457Z"
   },
   {
    "duration": 9,
    "start_time": "2022-02-05T08:06:31.766Z"
   },
   {
    "duration": 272,
    "start_time": "2022-02-05T08:06:31.776Z"
   },
   {
    "duration": 271,
    "start_time": "2022-02-05T08:06:32.051Z"
   },
   {
    "duration": 4,
    "start_time": "2022-02-05T08:06:32.324Z"
   },
   {
    "duration": 508,
    "start_time": "2022-02-05T08:06:32.329Z"
   },
   {
    "duration": 1073,
    "start_time": "2022-02-05T08:06:31.766Z"
   },
   {
    "duration": 1058,
    "start_time": "2022-02-05T08:06:31.783Z"
   },
   {
    "duration": 1053,
    "start_time": "2022-02-05T08:06:31.789Z"
   },
   {
    "duration": 1050,
    "start_time": "2022-02-05T08:06:31.794Z"
   },
   {
    "duration": 1047,
    "start_time": "2022-02-05T08:06:31.798Z"
   },
   {
    "duration": 1044,
    "start_time": "2022-02-05T08:06:31.802Z"
   },
   {
    "duration": 4,
    "start_time": "2022-02-05T08:11:58.319Z"
   },
   {
    "duration": 4,
    "start_time": "2022-02-05T08:11:58.391Z"
   },
   {
    "duration": 3,
    "start_time": "2022-02-05T08:12:00.277Z"
   },
   {
    "duration": 3,
    "start_time": "2022-02-05T08:12:00.962Z"
   },
   {
    "duration": 3,
    "start_time": "2022-02-05T08:12:01.563Z"
   },
   {
    "duration": 4,
    "start_time": "2022-02-05T08:12:02.158Z"
   },
   {
    "duration": 1063,
    "start_time": "2022-02-05T08:12:08.076Z"
   },
   {
    "duration": 1026,
    "start_time": "2022-02-05T08:12:25.522Z"
   },
   {
    "duration": 1015,
    "start_time": "2022-02-05T08:12:25.534Z"
   },
   {
    "duration": 1009,
    "start_time": "2022-02-05T08:12:25.541Z"
   },
   {
    "duration": 1005,
    "start_time": "2022-02-05T08:12:25.545Z"
   },
   {
    "duration": 1003,
    "start_time": "2022-02-05T08:12:25.548Z"
   },
   {
    "duration": 1000,
    "start_time": "2022-02-05T08:12:25.552Z"
   },
   {
    "duration": 997,
    "start_time": "2022-02-05T08:12:25.556Z"
   },
   {
    "duration": 994,
    "start_time": "2022-02-05T08:12:25.560Z"
   },
   {
    "duration": 991,
    "start_time": "2022-02-05T08:12:25.564Z"
   },
   {
    "duration": 988,
    "start_time": "2022-02-05T08:12:25.568Z"
   },
   {
    "duration": 984,
    "start_time": "2022-02-05T08:12:25.572Z"
   },
   {
    "duration": 980,
    "start_time": "2022-02-05T08:12:25.577Z"
   },
   {
    "duration": 978,
    "start_time": "2022-02-05T08:12:25.580Z"
   },
   {
    "duration": 975,
    "start_time": "2022-02-05T08:12:25.584Z"
   },
   {
    "duration": 972,
    "start_time": "2022-02-05T08:12:25.588Z"
   },
   {
    "duration": 969,
    "start_time": "2022-02-05T08:12:25.592Z"
   },
   {
    "duration": 967,
    "start_time": "2022-02-05T08:12:25.595Z"
   },
   {
    "duration": 964,
    "start_time": "2022-02-05T08:12:25.599Z"
   },
   {
    "duration": 961,
    "start_time": "2022-02-05T08:12:25.603Z"
   },
   {
    "duration": 947,
    "start_time": "2022-02-05T08:12:25.618Z"
   },
   {
    "duration": 944,
    "start_time": "2022-02-05T08:12:25.622Z"
   },
   {
    "duration": 941,
    "start_time": "2022-02-05T08:12:25.626Z"
   },
   {
    "duration": 939,
    "start_time": "2022-02-05T08:12:25.629Z"
   },
   {
    "duration": 934,
    "start_time": "2022-02-05T08:12:25.634Z"
   },
   {
    "duration": 933,
    "start_time": "2022-02-05T08:12:25.637Z"
   },
   {
    "duration": 928,
    "start_time": "2022-02-05T08:12:25.642Z"
   },
   {
    "duration": 925,
    "start_time": "2022-02-05T08:12:25.646Z"
   },
   {
    "duration": 922,
    "start_time": "2022-02-05T08:12:25.650Z"
   },
   {
    "duration": 919,
    "start_time": "2022-02-05T08:12:25.654Z"
   },
   {
    "duration": 916,
    "start_time": "2022-02-05T08:12:25.658Z"
   },
   {
    "duration": 914,
    "start_time": "2022-02-05T08:12:25.661Z"
   },
   {
    "duration": 910,
    "start_time": "2022-02-05T08:12:25.665Z"
   },
   {
    "duration": 907,
    "start_time": "2022-02-05T08:12:25.669Z"
   },
   {
    "duration": 904,
    "start_time": "2022-02-05T08:12:25.673Z"
   },
   {
    "duration": 902,
    "start_time": "2022-02-05T08:12:25.676Z"
   },
   {
    "duration": 899,
    "start_time": "2022-02-05T08:12:25.680Z"
   },
   {
    "duration": 897,
    "start_time": "2022-02-05T08:12:25.683Z"
   },
   {
    "duration": 924,
    "start_time": "2022-02-05T08:12:25.688Z"
   },
   {
    "duration": 922,
    "start_time": "2022-02-05T08:12:25.691Z"
   },
   {
    "duration": 919,
    "start_time": "2022-02-05T08:12:25.695Z"
   },
   {
    "duration": 916,
    "start_time": "2022-02-05T08:12:25.699Z"
   },
   {
    "duration": 913,
    "start_time": "2022-02-05T08:12:25.703Z"
   },
   {
    "duration": 911,
    "start_time": "2022-02-05T08:12:25.706Z"
   },
   {
    "duration": 907,
    "start_time": "2022-02-05T08:12:25.711Z"
   },
   {
    "duration": 878,
    "start_time": "2022-02-05T08:12:25.741Z"
   },
   {
    "duration": 865,
    "start_time": "2022-02-05T08:12:25.755Z"
   },
   {
    "duration": 3,
    "start_time": "2022-02-05T08:12:33.467Z"
   },
   {
    "duration": 1165,
    "start_time": "2022-02-05T08:12:42.191Z"
   },
   {
    "duration": 36,
    "start_time": "2022-02-05T08:12:43.357Z"
   },
   {
    "duration": 18,
    "start_time": "2022-02-05T08:12:43.395Z"
   },
   {
    "duration": 9,
    "start_time": "2022-02-05T08:12:43.415Z"
   },
   {
    "duration": 14,
    "start_time": "2022-02-05T08:12:43.426Z"
   },
   {
    "duration": 4,
    "start_time": "2022-02-05T08:12:43.442Z"
   },
   {
    "duration": 3,
    "start_time": "2022-02-05T08:12:43.447Z"
   },
   {
    "duration": 7,
    "start_time": "2022-02-05T08:12:43.452Z"
   },
   {
    "duration": 4,
    "start_time": "2022-02-05T08:12:43.462Z"
   },
   {
    "duration": 46,
    "start_time": "2022-02-05T08:12:43.468Z"
   },
   {
    "duration": 9,
    "start_time": "2022-02-05T08:12:43.516Z"
   },
   {
    "duration": 19,
    "start_time": "2022-02-05T08:12:43.526Z"
   },
   {
    "duration": 3,
    "start_time": "2022-02-05T08:12:43.547Z"
   },
   {
    "duration": 14,
    "start_time": "2022-02-05T08:12:43.552Z"
   },
   {
    "duration": 48,
    "start_time": "2022-02-05T08:12:43.567Z"
   },
   {
    "duration": 5,
    "start_time": "2022-02-05T08:12:43.617Z"
   },
   {
    "duration": 13,
    "start_time": "2022-02-05T08:12:43.624Z"
   },
   {
    "duration": 4,
    "start_time": "2022-02-05T08:12:43.639Z"
   },
   {
    "duration": 9,
    "start_time": "2022-02-05T08:12:43.644Z"
   },
   {
    "duration": 8,
    "start_time": "2022-02-05T08:12:43.655Z"
   },
   {
    "duration": 8,
    "start_time": "2022-02-05T08:12:43.665Z"
   },
   {
    "duration": 55,
    "start_time": "2022-02-05T08:12:43.674Z"
   },
   {
    "duration": 258,
    "start_time": "2022-02-05T08:12:43.731Z"
   },
   {
    "duration": 349,
    "start_time": "2022-02-05T08:12:43.991Z"
   },
   {
    "duration": 801,
    "start_time": "2022-02-05T08:12:44.342Z"
   },
   {
    "duration": 6,
    "start_time": "2022-02-05T08:12:45.145Z"
   },
   {
    "duration": 536,
    "start_time": "2022-02-05T08:12:45.155Z"
   },
   {
    "duration": 226,
    "start_time": "2022-02-05T08:12:45.693Z"
   },
   {
    "duration": 489,
    "start_time": "2022-02-05T08:12:45.921Z"
   },
   {
    "duration": 21,
    "start_time": "2022-02-05T08:12:46.412Z"
   },
   {
    "duration": 826,
    "start_time": "2022-02-05T08:12:46.434Z"
   },
   {
    "duration": 313,
    "start_time": "2022-02-05T08:12:47.261Z"
   },
   {
    "duration": 10,
    "start_time": "2022-02-05T08:12:47.575Z"
   },
   {
    "duration": 366,
    "start_time": "2022-02-05T08:12:47.587Z"
   },
   {
    "duration": 324,
    "start_time": "2022-02-05T08:12:47.954Z"
   },
   {
    "duration": 9,
    "start_time": "2022-02-05T08:12:48.280Z"
   },
   {
    "duration": 287,
    "start_time": "2022-02-05T08:12:48.291Z"
   },
   {
    "duration": 276,
    "start_time": "2022-02-05T08:12:48.579Z"
   },
   {
    "duration": 3,
    "start_time": "2022-02-05T08:12:48.857Z"
   },
   {
    "duration": 52,
    "start_time": "2022-02-05T08:12:48.861Z"
   },
   {
    "duration": 32,
    "start_time": "2022-02-05T08:12:48.915Z"
   },
   {
    "duration": 34,
    "start_time": "2022-02-05T08:12:48.948Z"
   },
   {
    "duration": 16,
    "start_time": "2022-02-05T08:12:49.012Z"
   },
   {
    "duration": 27,
    "start_time": "2022-02-05T08:12:49.030Z"
   },
   {
    "duration": 12,
    "start_time": "2022-02-05T08:12:49.059Z"
   },
   {
    "duration": 45,
    "start_time": "2022-02-05T08:12:49.072Z"
   },
   {
    "duration": 3,
    "start_time": "2022-02-05T08:14:29.213Z"
   },
   {
    "duration": 3,
    "start_time": "2022-02-05T08:14:31.532Z"
   },
   {
    "duration": 3,
    "start_time": "2022-02-05T08:14:32.862Z"
   },
   {
    "duration": 2,
    "start_time": "2022-02-05T08:14:49.563Z"
   },
   {
    "duration": 63,
    "start_time": "2022-02-05T08:14:49.567Z"
   },
   {
    "duration": 15,
    "start_time": "2022-02-05T08:14:49.632Z"
   },
   {
    "duration": 10,
    "start_time": "2022-02-05T08:14:49.649Z"
   },
   {
    "duration": 14,
    "start_time": "2022-02-05T08:14:49.661Z"
   },
   {
    "duration": 5,
    "start_time": "2022-02-05T08:14:49.677Z"
   },
   {
    "duration": 29,
    "start_time": "2022-02-05T08:14:49.684Z"
   },
   {
    "duration": 11,
    "start_time": "2022-02-05T08:14:49.715Z"
   },
   {
    "duration": 6,
    "start_time": "2022-02-05T08:14:49.727Z"
   },
   {
    "duration": 14,
    "start_time": "2022-02-05T08:14:49.735Z"
   },
   {
    "duration": 9,
    "start_time": "2022-02-05T08:14:49.751Z"
   },
   {
    "duration": 19,
    "start_time": "2022-02-05T08:14:49.762Z"
   },
   {
    "duration": 5,
    "start_time": "2022-02-05T08:14:49.813Z"
   },
   {
    "duration": 16,
    "start_time": "2022-02-05T08:14:49.819Z"
   },
   {
    "duration": 16,
    "start_time": "2022-02-05T08:14:49.836Z"
   },
   {
    "duration": 4,
    "start_time": "2022-02-05T08:14:49.854Z"
   },
   {
    "duration": 16,
    "start_time": "2022-02-05T08:14:49.860Z"
   },
   {
    "duration": 38,
    "start_time": "2022-02-05T08:14:49.878Z"
   },
   {
    "duration": 11,
    "start_time": "2022-02-05T08:14:49.917Z"
   },
   {
    "duration": 8,
    "start_time": "2022-02-05T08:14:49.930Z"
   },
   {
    "duration": 6,
    "start_time": "2022-02-05T08:14:49.943Z"
   },
   {
    "duration": 24,
    "start_time": "2022-02-05T08:14:49.951Z"
   },
   {
    "duration": 272,
    "start_time": "2022-02-05T08:14:49.977Z"
   },
   {
    "duration": 374,
    "start_time": "2022-02-05T08:14:50.250Z"
   },
   {
    "duration": 977,
    "start_time": "2022-02-05T08:14:50.626Z"
   },
   {
    "duration": 7,
    "start_time": "2022-02-05T08:14:51.612Z"
   },
   {
    "duration": 508,
    "start_time": "2022-02-05T08:14:51.621Z"
   },
   {
    "duration": 238,
    "start_time": "2022-02-05T08:14:52.131Z"
   },
   {
    "duration": 523,
    "start_time": "2022-02-05T08:14:52.371Z"
   },
   {
    "duration": 30,
    "start_time": "2022-02-05T08:14:52.896Z"
   },
   {
    "duration": 749,
    "start_time": "2022-02-05T08:14:52.928Z"
   },
   {
    "duration": 298,
    "start_time": "2022-02-05T08:14:53.679Z"
   },
   {
    "duration": 12,
    "start_time": "2022-02-05T08:14:53.979Z"
   },
   {
    "duration": 361,
    "start_time": "2022-02-05T08:14:53.993Z"
   },
   {
    "duration": 407,
    "start_time": "2022-02-05T08:14:54.356Z"
   },
   {
    "duration": 9,
    "start_time": "2022-02-05T08:14:54.765Z"
   },
   {
    "duration": 282,
    "start_time": "2022-02-05T08:14:54.775Z"
   },
   {
    "duration": 266,
    "start_time": "2022-02-05T08:14:55.059Z"
   },
   {
    "duration": 2,
    "start_time": "2022-02-05T08:14:55.327Z"
   },
   {
    "duration": 7,
    "start_time": "2022-02-05T08:14:55.331Z"
   },
   {
    "duration": 35,
    "start_time": "2022-02-05T08:14:55.340Z"
   },
   {
    "duration": 57,
    "start_time": "2022-02-05T08:14:55.377Z"
   },
   {
    "duration": 32,
    "start_time": "2022-02-05T08:14:55.435Z"
   },
   {
    "duration": 16,
    "start_time": "2022-02-05T08:14:55.468Z"
   },
   {
    "duration": 24,
    "start_time": "2022-02-05T08:14:55.512Z"
   },
   {
    "duration": 12,
    "start_time": "2022-02-05T08:14:55.537Z"
   },
   {
    "duration": 21,
    "start_time": "2022-02-05T08:14:55.551Z"
   },
   {
    "duration": 3,
    "start_time": "2022-02-05T08:15:11.774Z"
   },
   {
    "duration": 3,
    "start_time": "2022-02-05T08:15:13.675Z"
   },
   {
    "duration": 3,
    "start_time": "2022-02-05T08:17:52.486Z"
   },
   {
    "duration": 3,
    "start_time": "2022-02-05T08:17:54.887Z"
   },
   {
    "duration": 1162,
    "start_time": "2022-02-05T08:18:01.987Z"
   },
   {
    "duration": 35,
    "start_time": "2022-02-05T08:18:03.151Z"
   },
   {
    "duration": 16,
    "start_time": "2022-02-05T08:18:03.188Z"
   },
   {
    "duration": 13,
    "start_time": "2022-02-05T08:18:03.206Z"
   },
   {
    "duration": 17,
    "start_time": "2022-02-05T08:18:03.221Z"
   },
   {
    "duration": 5,
    "start_time": "2022-02-05T08:18:03.239Z"
   },
   {
    "duration": 4,
    "start_time": "2022-02-05T08:18:03.245Z"
   },
   {
    "duration": 6,
    "start_time": "2022-02-05T08:18:03.252Z"
   },
   {
    "duration": 7,
    "start_time": "2022-02-05T08:18:03.260Z"
   },
   {
    "duration": 46,
    "start_time": "2022-02-05T08:18:03.269Z"
   },
   {
    "duration": 9,
    "start_time": "2022-02-05T08:18:03.317Z"
   },
   {
    "duration": 20,
    "start_time": "2022-02-05T08:18:03.328Z"
   },
   {
    "duration": 5,
    "start_time": "2022-02-05T08:18:03.349Z"
   },
   {
    "duration": 13,
    "start_time": "2022-02-05T08:18:03.356Z"
   },
   {
    "duration": 49,
    "start_time": "2022-02-05T08:18:03.370Z"
   },
   {
    "duration": 5,
    "start_time": "2022-02-05T08:18:03.420Z"
   },
   {
    "duration": 18,
    "start_time": "2022-02-05T08:18:03.427Z"
   },
   {
    "duration": 18,
    "start_time": "2022-02-05T08:18:03.446Z"
   },
   {
    "duration": 8,
    "start_time": "2022-02-05T08:18:03.465Z"
   },
   {
    "duration": 9,
    "start_time": "2022-02-05T08:18:03.474Z"
   },
   {
    "duration": 27,
    "start_time": "2022-02-05T08:18:03.485Z"
   },
   {
    "duration": 20,
    "start_time": "2022-02-05T08:18:03.513Z"
   },
   {
    "duration": 267,
    "start_time": "2022-02-05T08:18:03.537Z"
   },
   {
    "duration": 360,
    "start_time": "2022-02-05T08:18:03.806Z"
   },
   {
    "duration": 860,
    "start_time": "2022-02-05T08:18:04.167Z"
   },
   {
    "duration": 7,
    "start_time": "2022-02-05T08:18:05.029Z"
   },
   {
    "duration": 497,
    "start_time": "2022-02-05T08:18:05.037Z"
   },
   {
    "duration": 240,
    "start_time": "2022-02-05T08:18:05.536Z"
   },
   {
    "duration": 531,
    "start_time": "2022-02-05T08:18:05.777Z"
   },
   {
    "duration": 20,
    "start_time": "2022-02-05T08:18:06.312Z"
   },
   {
    "duration": 763,
    "start_time": "2022-02-05T08:18:06.333Z"
   },
   {
    "duration": 312,
    "start_time": "2022-02-05T08:18:07.098Z"
   },
   {
    "duration": 11,
    "start_time": "2022-02-05T08:18:07.412Z"
   },
   {
    "duration": 345,
    "start_time": "2022-02-05T08:18:07.425Z"
   },
   {
    "duration": 323,
    "start_time": "2022-02-05T08:18:07.771Z"
   },
   {
    "duration": 18,
    "start_time": "2022-02-05T08:18:08.096Z"
   },
   {
    "duration": 283,
    "start_time": "2022-02-05T08:18:08.116Z"
   },
   {
    "duration": 264,
    "start_time": "2022-02-05T08:18:08.401Z"
   },
   {
    "duration": 3,
    "start_time": "2022-02-05T08:18:08.667Z"
   },
   {
    "duration": 46,
    "start_time": "2022-02-05T08:18:08.671Z"
   },
   {
    "duration": 30,
    "start_time": "2022-02-05T08:18:08.719Z"
   },
   {
    "duration": 29,
    "start_time": "2022-02-05T08:18:08.751Z"
   },
   {
    "duration": 42,
    "start_time": "2022-02-05T08:18:08.782Z"
   },
   {
    "duration": 24,
    "start_time": "2022-02-05T08:18:08.825Z"
   },
   {
    "duration": 12,
    "start_time": "2022-02-05T08:18:08.851Z"
   },
   {
    "duration": 55,
    "start_time": "2022-02-05T08:18:08.865Z"
   },
   {
    "duration": 1074,
    "start_time": "2022-02-05T08:18:53.974Z"
   },
   {
    "duration": 33,
    "start_time": "2022-02-05T08:18:56.260Z"
   },
   {
    "duration": 34,
    "start_time": "2022-02-05T08:18:57.291Z"
   },
   {
    "duration": 1155,
    "start_time": "2022-02-05T08:19:05.904Z"
   },
   {
    "duration": 36,
    "start_time": "2022-02-05T08:19:07.060Z"
   },
   {
    "duration": 16,
    "start_time": "2022-02-05T08:19:07.098Z"
   },
   {
    "duration": 10,
    "start_time": "2022-02-05T08:19:07.116Z"
   },
   {
    "duration": 15,
    "start_time": "2022-02-05T08:19:07.128Z"
   },
   {
    "duration": 5,
    "start_time": "2022-02-05T08:19:07.144Z"
   },
   {
    "duration": 4,
    "start_time": "2022-02-05T08:19:07.150Z"
   },
   {
    "duration": 8,
    "start_time": "2022-02-05T08:19:07.155Z"
   },
   {
    "duration": 5,
    "start_time": "2022-02-05T08:19:07.166Z"
   },
   {
    "duration": 49,
    "start_time": "2022-02-05T08:19:07.173Z"
   },
   {
    "duration": 9,
    "start_time": "2022-02-05T08:19:07.224Z"
   },
   {
    "duration": 20,
    "start_time": "2022-02-05T08:19:07.235Z"
   },
   {
    "duration": 4,
    "start_time": "2022-02-05T08:19:07.257Z"
   },
   {
    "duration": 14,
    "start_time": "2022-02-05T08:19:07.262Z"
   },
   {
    "duration": 44,
    "start_time": "2022-02-05T08:19:07.278Z"
   },
   {
    "duration": 5,
    "start_time": "2022-02-05T08:19:07.324Z"
   },
   {
    "duration": 14,
    "start_time": "2022-02-05T08:19:07.331Z"
   },
   {
    "duration": 7,
    "start_time": "2022-02-05T08:19:07.347Z"
   },
   {
    "duration": 7,
    "start_time": "2022-02-05T08:19:07.355Z"
   },
   {
    "duration": 6,
    "start_time": "2022-02-05T08:19:07.364Z"
   },
   {
    "duration": 44,
    "start_time": "2022-02-05T08:19:07.372Z"
   },
   {
    "duration": 21,
    "start_time": "2022-02-05T08:19:07.418Z"
   },
   {
    "duration": 257,
    "start_time": "2022-02-05T08:19:07.440Z"
   },
   {
    "duration": 379,
    "start_time": "2022-02-05T08:19:07.698Z"
   },
   {
    "duration": 836,
    "start_time": "2022-02-05T08:19:08.079Z"
   },
   {
    "duration": 8,
    "start_time": "2022-02-05T08:19:08.917Z"
   },
   {
    "duration": 471,
    "start_time": "2022-02-05T08:19:08.930Z"
   },
   {
    "duration": 230,
    "start_time": "2022-02-05T08:19:09.403Z"
   },
   {
    "duration": 482,
    "start_time": "2022-02-05T08:19:09.635Z"
   },
   {
    "duration": 20,
    "start_time": "2022-02-05T08:19:10.119Z"
   },
   {
    "duration": 812,
    "start_time": "2022-02-05T08:19:10.141Z"
   },
   {
    "duration": 315,
    "start_time": "2022-02-05T08:19:10.955Z"
   },
   {
    "duration": 10,
    "start_time": "2022-02-05T08:19:11.272Z"
   },
   {
    "duration": 380,
    "start_time": "2022-02-05T08:19:11.284Z"
   },
   {
    "duration": 313,
    "start_time": "2022-02-05T08:19:11.665Z"
   },
   {
    "duration": 8,
    "start_time": "2022-02-05T08:19:11.980Z"
   },
   {
    "duration": 285,
    "start_time": "2022-02-05T08:19:11.990Z"
   },
   {
    "duration": 278,
    "start_time": "2022-02-05T08:19:12.277Z"
   },
   {
    "duration": 86,
    "start_time": "2022-02-05T08:19:12.557Z"
   },
   {
    "duration": 1071,
    "start_time": "2022-02-05T08:19:11.574Z"
   },
   {
    "duration": 1068,
    "start_time": "2022-02-05T08:19:11.578Z"
   },
   {
    "duration": 1065,
    "start_time": "2022-02-05T08:19:11.582Z"
   },
   {
    "duration": 1063,
    "start_time": "2022-02-05T08:19:11.585Z"
   },
   {
    "duration": 1060,
    "start_time": "2022-02-05T08:19:11.589Z"
   },
   {
    "duration": 1057,
    "start_time": "2022-02-05T08:19:11.593Z"
   },
   {
    "duration": 1054,
    "start_time": "2022-02-05T08:19:11.597Z"
   },
   {
    "duration": 3,
    "start_time": "2022-02-05T08:19:41.631Z"
   },
   {
    "duration": 3,
    "start_time": "2022-02-05T08:19:42.685Z"
   },
   {
    "duration": 3,
    "start_time": "2022-02-05T08:19:57.851Z"
   },
   {
    "duration": 57,
    "start_time": "2022-02-05T08:19:57.856Z"
   },
   {
    "duration": 15,
    "start_time": "2022-02-05T08:19:57.914Z"
   },
   {
    "duration": 11,
    "start_time": "2022-02-05T08:19:57.931Z"
   },
   {
    "duration": 16,
    "start_time": "2022-02-05T08:19:57.944Z"
   },
   {
    "duration": 5,
    "start_time": "2022-02-05T08:19:57.962Z"
   },
   {
    "duration": 43,
    "start_time": "2022-02-05T08:19:57.969Z"
   },
   {
    "duration": 7,
    "start_time": "2022-02-05T08:19:58.014Z"
   },
   {
    "duration": 7,
    "start_time": "2022-02-05T08:19:58.023Z"
   },
   {
    "duration": 19,
    "start_time": "2022-02-05T08:19:58.032Z"
   },
   {
    "duration": 9,
    "start_time": "2022-02-05T08:19:58.053Z"
   },
   {
    "duration": 18,
    "start_time": "2022-02-05T08:19:58.064Z"
   },
   {
    "duration": 31,
    "start_time": "2022-02-05T08:19:58.083Z"
   },
   {
    "duration": 16,
    "start_time": "2022-02-05T08:19:58.115Z"
   },
   {
    "duration": 16,
    "start_time": "2022-02-05T08:19:58.132Z"
   },
   {
    "duration": 4,
    "start_time": "2022-02-05T08:19:58.149Z"
   },
   {
    "duration": 14,
    "start_time": "2022-02-05T08:19:58.155Z"
   },
   {
    "duration": 6,
    "start_time": "2022-02-05T08:19:58.171Z"
   },
   {
    "duration": 36,
    "start_time": "2022-02-05T08:19:58.178Z"
   },
   {
    "duration": 7,
    "start_time": "2022-02-05T08:19:58.216Z"
   },
   {
    "duration": 6,
    "start_time": "2022-02-05T08:19:58.228Z"
   },
   {
    "duration": 21,
    "start_time": "2022-02-05T08:19:58.236Z"
   },
   {
    "duration": 269,
    "start_time": "2022-02-05T08:19:58.259Z"
   },
   {
    "duration": 359,
    "start_time": "2022-02-05T08:19:58.530Z"
   },
   {
    "duration": 814,
    "start_time": "2022-02-05T08:19:58.890Z"
   },
   {
    "duration": 12,
    "start_time": "2022-02-05T08:19:59.705Z"
   },
   {
    "duration": 503,
    "start_time": "2022-02-05T08:19:59.719Z"
   },
   {
    "duration": 223,
    "start_time": "2022-02-05T08:20:00.223Z"
   },
   {
    "duration": 471,
    "start_time": "2022-02-05T08:20:00.447Z"
   },
   {
    "duration": 21,
    "start_time": "2022-02-05T08:20:00.920Z"
   },
   {
    "duration": 871,
    "start_time": "2022-02-05T08:20:00.943Z"
   },
   {
    "duration": 301,
    "start_time": "2022-02-05T08:20:01.816Z"
   },
   {
    "duration": 12,
    "start_time": "2022-02-05T08:20:02.119Z"
   },
   {
    "duration": 336,
    "start_time": "2022-02-05T08:20:02.132Z"
   },
   {
    "duration": 324,
    "start_time": "2022-02-05T08:20:02.469Z"
   },
   {
    "duration": 18,
    "start_time": "2022-02-05T08:20:02.795Z"
   },
   {
    "duration": 283,
    "start_time": "2022-02-05T08:20:02.814Z"
   },
   {
    "duration": 332,
    "start_time": "2022-02-05T08:20:03.101Z"
   },
   {
    "duration": 3,
    "start_time": "2022-02-05T08:20:03.435Z"
   },
   {
    "duration": 581,
    "start_time": "2022-02-05T08:20:03.440Z"
   },
   {
    "duration": 807,
    "start_time": "2022-02-05T08:20:04.022Z"
   },
   {
    "duration": 534,
    "start_time": "2022-02-05T08:20:04.831Z"
   },
   {
    "duration": 19,
    "start_time": "2022-02-05T08:20:05.368Z"
   },
   {
    "duration": 43,
    "start_time": "2022-02-05T08:20:05.389Z"
   },
   {
    "duration": 14,
    "start_time": "2022-02-05T08:20:05.434Z"
   },
   {
    "duration": 25,
    "start_time": "2022-02-05T08:20:05.450Z"
   },
   {
    "duration": 933,
    "start_time": "2022-02-05T08:52:23.771Z"
   },
   {
    "duration": 805,
    "start_time": "2022-02-05T08:52:25.638Z"
   },
   {
    "duration": 812,
    "start_time": "2022-02-05T08:54:24.315Z"
   },
   {
    "duration": 71,
    "start_time": "2022-02-05T08:55:12.934Z"
   },
   {
    "duration": 146,
    "start_time": "2022-02-05T08:55:14.630Z"
   },
   {
    "duration": 1067,
    "start_time": "2022-02-05T08:55:23.391Z"
   },
   {
    "duration": 227,
    "start_time": "2022-02-05T08:55:26.314Z"
   },
   {
    "duration": 1075,
    "start_time": "2022-02-05T08:55:51.333Z"
   },
   {
    "duration": 949,
    "start_time": "2022-02-05T08:55:54.114Z"
   },
   {
    "duration": 913,
    "start_time": "2022-02-05T08:56:18.432Z"
   },
   {
    "duration": 459,
    "start_time": "2022-02-05T08:56:22.423Z"
   },
   {
    "duration": 792,
    "start_time": "2022-02-05T08:56:38.353Z"
   },
   {
    "duration": 822,
    "start_time": "2022-02-05T09:00:10.022Z"
   },
   {
    "duration": 834,
    "start_time": "2022-02-05T09:01:26.649Z"
   },
   {
    "duration": 804,
    "start_time": "2022-02-05T09:01:40.802Z"
   },
   {
    "duration": 767,
    "start_time": "2022-02-05T09:01:42.166Z"
   },
   {
    "duration": 1078,
    "start_time": "2022-02-05T09:04:06.987Z"
   },
   {
    "duration": 1065,
    "start_time": "2022-02-05T09:04:10.006Z"
   },
   {
    "duration": 230,
    "start_time": "2022-02-05T09:04:12.146Z"
   },
   {
    "duration": 280,
    "start_time": "2022-02-05T09:07:35.573Z"
   },
   {
    "duration": 236,
    "start_time": "2022-02-05T09:20:05.930Z"
   },
   {
    "duration": 4,
    "start_time": "2022-02-05T09:26:06.527Z"
   },
   {
    "duration": 3,
    "start_time": "2022-02-05T09:26:27.568Z"
   },
   {
    "duration": 737,
    "start_time": "2022-02-05T09:26:29.285Z"
   },
   {
    "duration": 607,
    "start_time": "2022-02-05T09:50:46.438Z"
   },
   {
    "duration": 1063,
    "start_time": "2022-02-05T09:52:09.614Z"
   },
   {
    "duration": 76,
    "start_time": "2022-02-05T09:52:12.420Z"
   },
   {
    "duration": 73,
    "start_time": "2022-02-05T09:52:28.578Z"
   },
   {
    "duration": 70,
    "start_time": "2022-02-05T09:52:29.731Z"
   },
   {
    "duration": 66,
    "start_time": "2022-02-05T09:52:54.707Z"
   },
   {
    "duration": 591,
    "start_time": "2022-02-05T10:00:27.117Z"
   },
   {
    "duration": 3,
    "start_time": "2022-02-05T10:02:05.424Z"
   },
   {
    "duration": 3,
    "start_time": "2022-02-05T10:02:07.393Z"
   },
   {
    "duration": 4,
    "start_time": "2022-02-05T10:02:08.071Z"
   },
   {
    "duration": 1137,
    "start_time": "2022-02-05T10:02:21.671Z"
   },
   {
    "duration": 38,
    "start_time": "2022-02-05T10:02:22.809Z"
   },
   {
    "duration": 17,
    "start_time": "2022-02-05T10:02:22.849Z"
   },
   {
    "duration": 10,
    "start_time": "2022-02-05T10:02:22.868Z"
   },
   {
    "duration": 40,
    "start_time": "2022-02-05T10:02:22.879Z"
   },
   {
    "duration": 6,
    "start_time": "2022-02-05T10:02:22.922Z"
   },
   {
    "duration": 3,
    "start_time": "2022-02-05T10:02:22.930Z"
   },
   {
    "duration": 13,
    "start_time": "2022-02-05T10:02:22.935Z"
   },
   {
    "duration": 8,
    "start_time": "2022-02-05T10:02:22.952Z"
   },
   {
    "duration": 50,
    "start_time": "2022-02-05T10:02:22.963Z"
   },
   {
    "duration": 10,
    "start_time": "2022-02-05T10:02:23.015Z"
   },
   {
    "duration": 20,
    "start_time": "2022-02-05T10:02:23.027Z"
   },
   {
    "duration": 4,
    "start_time": "2022-02-05T10:02:23.049Z"
   },
   {
    "duration": 14,
    "start_time": "2022-02-05T10:02:23.055Z"
   },
   {
    "duration": 51,
    "start_time": "2022-02-05T10:02:23.070Z"
   },
   {
    "duration": 5,
    "start_time": "2022-02-05T10:02:23.123Z"
   },
   {
    "duration": 16,
    "start_time": "2022-02-05T10:02:23.130Z"
   },
   {
    "duration": 6,
    "start_time": "2022-02-05T10:02:23.148Z"
   },
   {
    "duration": 9,
    "start_time": "2022-02-05T10:02:23.155Z"
   },
   {
    "duration": 9,
    "start_time": "2022-02-05T10:02:23.166Z"
   },
   {
    "duration": 39,
    "start_time": "2022-02-05T10:02:23.177Z"
   },
   {
    "duration": 22,
    "start_time": "2022-02-05T10:02:23.217Z"
   },
   {
    "duration": 271,
    "start_time": "2022-02-05T10:02:23.241Z"
   },
   {
    "duration": 358,
    "start_time": "2022-02-05T10:02:23.514Z"
   },
   {
    "duration": 862,
    "start_time": "2022-02-05T10:02:23.873Z"
   },
   {
    "duration": 7,
    "start_time": "2022-02-05T10:02:24.736Z"
   },
   {
    "duration": 494,
    "start_time": "2022-02-05T10:02:24.746Z"
   },
   {
    "duration": 240,
    "start_time": "2022-02-05T10:02:25.242Z"
   },
   {
    "duration": 525,
    "start_time": "2022-02-05T10:02:25.484Z"
   },
   {
    "duration": 21,
    "start_time": "2022-02-05T10:02:26.012Z"
   },
   {
    "duration": 866,
    "start_time": "2022-02-05T10:02:26.034Z"
   },
   {
    "duration": 311,
    "start_time": "2022-02-05T10:02:26.901Z"
   },
   {
    "duration": 11,
    "start_time": "2022-02-05T10:02:27.214Z"
   },
   {
    "duration": 333,
    "start_time": "2022-02-05T10:02:27.226Z"
   },
   {
    "duration": 318,
    "start_time": "2022-02-05T10:02:27.561Z"
   },
   {
    "duration": 10,
    "start_time": "2022-02-05T10:02:27.882Z"
   },
   {
    "duration": 282,
    "start_time": "2022-02-05T10:02:27.894Z"
   },
   {
    "duration": 267,
    "start_time": "2022-02-05T10:02:28.178Z"
   },
   {
    "duration": 4,
    "start_time": "2022-02-05T10:02:28.447Z"
   },
   {
    "duration": 522,
    "start_time": "2022-02-05T10:02:28.453Z"
   },
   {
    "duration": 4,
    "start_time": "2022-02-05T10:02:28.977Z"
   },
   {
    "duration": 737,
    "start_time": "2022-02-05T10:02:28.983Z"
   },
   {
    "duration": 508,
    "start_time": "2022-02-05T10:02:29.722Z"
   },
   {
    "duration": 17,
    "start_time": "2022-02-05T10:02:30.232Z"
   },
   {
    "duration": 23,
    "start_time": "2022-02-05T10:02:30.250Z"
   },
   {
    "duration": 38,
    "start_time": "2022-02-05T10:02:30.275Z"
   },
   {
    "duration": 26,
    "start_time": "2022-02-05T10:02:30.315Z"
   },
   {
    "duration": 2,
    "start_time": "2022-02-05T10:02:40.680Z"
   },
   {
    "duration": 3,
    "start_time": "2022-02-05T10:02:41.615Z"
   },
   {
    "duration": 3,
    "start_time": "2022-02-05T10:02:42.440Z"
   },
   {
    "duration": 3,
    "start_time": "2022-02-05T10:02:43.949Z"
   },
   {
    "duration": 807,
    "start_time": "2022-02-05T10:06:04.476Z"
   },
   {
    "duration": 593,
    "start_time": "2022-02-05T10:06:06.110Z"
   },
   {
    "duration": 317,
    "start_time": "2022-02-05T10:09:35.605Z"
   },
   {
    "duration": 625,
    "start_time": "2022-02-05T10:11:20.510Z"
   },
   {
    "duration": 3,
    "start_time": "2022-02-05T10:11:47.783Z"
   },
   {
    "duration": 3,
    "start_time": "2022-02-05T10:11:48.749Z"
   },
   {
    "duration": 8,
    "start_time": "2022-02-05T10:47:13.324Z"
   },
   {
    "duration": 7,
    "start_time": "2022-02-05T10:47:14.717Z"
   },
   {
    "duration": 6,
    "start_time": "2022-02-05T10:47:15.551Z"
   },
   {
    "duration": 1123,
    "start_time": "2022-02-05T10:47:24.434Z"
   },
   {
    "duration": 37,
    "start_time": "2022-02-05T10:47:25.559Z"
   },
   {
    "duration": 18,
    "start_time": "2022-02-05T10:47:25.598Z"
   },
   {
    "duration": 10,
    "start_time": "2022-02-05T10:47:25.618Z"
   },
   {
    "duration": 16,
    "start_time": "2022-02-05T10:47:25.630Z"
   },
   {
    "duration": 4,
    "start_time": "2022-02-05T10:47:25.647Z"
   },
   {
    "duration": 5,
    "start_time": "2022-02-05T10:47:25.652Z"
   },
   {
    "duration": 6,
    "start_time": "2022-02-05T10:47:25.659Z"
   },
   {
    "duration": 44,
    "start_time": "2022-02-05T10:47:25.668Z"
   },
   {
    "duration": 14,
    "start_time": "2022-02-05T10:47:25.714Z"
   },
   {
    "duration": 10,
    "start_time": "2022-02-05T10:47:25.730Z"
   },
   {
    "duration": 19,
    "start_time": "2022-02-05T10:47:25.742Z"
   },
   {
    "duration": 5,
    "start_time": "2022-02-05T10:47:25.763Z"
   },
   {
    "duration": 46,
    "start_time": "2022-02-05T10:47:25.769Z"
   },
   {
    "duration": 17,
    "start_time": "2022-02-05T10:47:25.817Z"
   },
   {
    "duration": 5,
    "start_time": "2022-02-05T10:47:25.836Z"
   },
   {
    "duration": 15,
    "start_time": "2022-02-05T10:47:25.842Z"
   },
   {
    "duration": 6,
    "start_time": "2022-02-05T10:47:25.858Z"
   },
   {
    "duration": 9,
    "start_time": "2022-02-05T10:47:25.866Z"
   },
   {
    "duration": 37,
    "start_time": "2022-02-05T10:47:25.876Z"
   },
   {
    "duration": 13,
    "start_time": "2022-02-05T10:47:25.915Z"
   },
   {
    "duration": 22,
    "start_time": "2022-02-05T10:47:25.929Z"
   },
   {
    "duration": 263,
    "start_time": "2022-02-05T10:47:25.954Z"
   },
   {
    "duration": 381,
    "start_time": "2022-02-05T10:47:26.219Z"
   },
   {
    "duration": 818,
    "start_time": "2022-02-05T10:47:26.601Z"
   },
   {
    "duration": 7,
    "start_time": "2022-02-05T10:47:27.420Z"
   },
   {
    "duration": 487,
    "start_time": "2022-02-05T10:47:27.429Z"
   },
   {
    "duration": 237,
    "start_time": "2022-02-05T10:47:27.918Z"
   },
   {
    "duration": 550,
    "start_time": "2022-02-05T10:47:28.157Z"
   },
   {
    "duration": 21,
    "start_time": "2022-02-05T10:47:28.709Z"
   },
   {
    "duration": 762,
    "start_time": "2022-02-05T10:47:28.732Z"
   },
   {
    "duration": 308,
    "start_time": "2022-02-05T10:47:29.496Z"
   },
   {
    "duration": 14,
    "start_time": "2022-02-05T10:47:29.806Z"
   },
   {
    "duration": 340,
    "start_time": "2022-02-05T10:47:29.822Z"
   },
   {
    "duration": 312,
    "start_time": "2022-02-05T10:47:30.164Z"
   },
   {
    "duration": 9,
    "start_time": "2022-02-05T10:47:30.478Z"
   },
   {
    "duration": 286,
    "start_time": "2022-02-05T10:47:30.489Z"
   },
   {
    "duration": 267,
    "start_time": "2022-02-05T10:47:30.777Z"
   },
   {
    "duration": 245,
    "start_time": "2022-02-05T10:47:31.046Z"
   },
   {
    "duration": 1054,
    "start_time": "2022-02-05T10:47:30.239Z"
   },
   {
    "duration": 1042,
    "start_time": "2022-02-05T10:47:30.252Z"
   },
   {
    "duration": 990,
    "start_time": "2022-02-05T10:47:30.306Z"
   },
   {
    "duration": 978,
    "start_time": "2022-02-05T10:47:30.319Z"
   },
   {
    "duration": 966,
    "start_time": "2022-02-05T10:47:30.333Z"
   },
   {
    "duration": 956,
    "start_time": "2022-02-05T10:47:30.345Z"
   },
   {
    "duration": 945,
    "start_time": "2022-02-05T10:47:30.357Z"
   },
   {
    "duration": 931,
    "start_time": "2022-02-05T10:47:30.373Z"
   },
   {
    "duration": 1079,
    "start_time": "2022-02-05T10:48:42.177Z"
   },
   {
    "duration": 35,
    "start_time": "2022-02-05T10:48:43.257Z"
   },
   {
    "duration": 16,
    "start_time": "2022-02-05T10:48:43.294Z"
   },
   {
    "duration": 10,
    "start_time": "2022-02-05T10:48:43.313Z"
   },
   {
    "duration": 16,
    "start_time": "2022-02-05T10:48:43.325Z"
   },
   {
    "duration": 5,
    "start_time": "2022-02-05T10:48:43.343Z"
   },
   {
    "duration": 2,
    "start_time": "2022-02-05T10:48:43.350Z"
   },
   {
    "duration": 6,
    "start_time": "2022-02-05T10:48:43.356Z"
   },
   {
    "duration": 49,
    "start_time": "2022-02-05T10:48:43.364Z"
   },
   {
    "duration": 14,
    "start_time": "2022-02-05T10:48:43.415Z"
   },
   {
    "duration": 11,
    "start_time": "2022-02-05T10:48:43.431Z"
   },
   {
    "duration": 19,
    "start_time": "2022-02-05T10:48:43.444Z"
   },
   {
    "duration": 5,
    "start_time": "2022-02-05T10:48:43.465Z"
   },
   {
    "duration": 52,
    "start_time": "2022-02-05T10:48:43.472Z"
   },
   {
    "duration": 18,
    "start_time": "2022-02-05T10:48:43.526Z"
   },
   {
    "duration": 6,
    "start_time": "2022-02-05T10:48:43.546Z"
   },
   {
    "duration": 14,
    "start_time": "2022-02-05T10:48:43.553Z"
   },
   {
    "duration": 6,
    "start_time": "2022-02-05T10:48:43.569Z"
   },
   {
    "duration": 6,
    "start_time": "2022-02-05T10:48:43.613Z"
   },
   {
    "duration": 8,
    "start_time": "2022-02-05T10:48:43.621Z"
   },
   {
    "duration": 7,
    "start_time": "2022-02-05T10:48:43.631Z"
   },
   {
    "duration": 21,
    "start_time": "2022-02-05T10:48:43.640Z"
   },
   {
    "duration": 276,
    "start_time": "2022-02-05T10:48:43.664Z"
   },
   {
    "duration": 347,
    "start_time": "2022-02-05T10:48:43.942Z"
   },
   {
    "duration": 819,
    "start_time": "2022-02-05T10:48:44.291Z"
   },
   {
    "duration": 6,
    "start_time": "2022-02-05T10:48:45.112Z"
   },
   {
    "duration": 483,
    "start_time": "2022-02-05T10:48:45.120Z"
   },
   {
    "duration": 238,
    "start_time": "2022-02-05T10:48:45.605Z"
   },
   {
    "duration": 571,
    "start_time": "2022-02-05T10:48:45.845Z"
   },
   {
    "duration": 22,
    "start_time": "2022-02-05T10:48:46.418Z"
   },
   {
    "duration": 778,
    "start_time": "2022-02-05T10:48:46.441Z"
   },
   {
    "duration": 307,
    "start_time": "2022-02-05T10:48:47.220Z"
   },
   {
    "duration": 10,
    "start_time": "2022-02-05T10:48:47.529Z"
   },
   {
    "duration": 323,
    "start_time": "2022-02-05T10:48:47.541Z"
   },
   {
    "duration": 316,
    "start_time": "2022-02-05T10:48:47.866Z"
   },
   {
    "duration": 9,
    "start_time": "2022-02-05T10:48:48.183Z"
   },
   {
    "duration": 276,
    "start_time": "2022-02-05T10:48:48.193Z"
   },
   {
    "duration": 267,
    "start_time": "2022-02-05T10:48:48.472Z"
   },
   {
    "duration": 134,
    "start_time": "2022-02-05T10:48:48.742Z"
   },
   {
    "duration": 1063,
    "start_time": "2022-02-05T10:48:47.816Z"
   },
   {
    "duration": 1052,
    "start_time": "2022-02-05T10:48:47.828Z"
   },
   {
    "duration": 1004,
    "start_time": "2022-02-05T10:48:47.877Z"
   },
   {
    "duration": 992,
    "start_time": "2022-02-05T10:48:47.891Z"
   },
   {
    "duration": 981,
    "start_time": "2022-02-05T10:48:47.903Z"
   },
   {
    "duration": 971,
    "start_time": "2022-02-05T10:48:47.914Z"
   },
   {
    "duration": 962,
    "start_time": "2022-02-05T10:48:47.925Z"
   },
   {
    "duration": 952,
    "start_time": "2022-02-05T10:48:47.936Z"
   },
   {
    "duration": 84,
    "start_time": "2022-02-05T10:49:16.415Z"
   },
   {
    "duration": 83,
    "start_time": "2022-02-05T10:49:17.364Z"
   },
   {
    "duration": 75,
    "start_time": "2022-02-05T10:49:18.058Z"
   },
   {
    "duration": 84,
    "start_time": "2022-02-05T10:49:23.221Z"
   },
   {
    "duration": 88,
    "start_time": "2022-02-05T10:49:23.972Z"
   },
   {
    "duration": 1180,
    "start_time": "2022-02-05T10:49:31.190Z"
   },
   {
    "duration": 37,
    "start_time": "2022-02-05T10:49:32.372Z"
   },
   {
    "duration": 17,
    "start_time": "2022-02-05T10:49:32.411Z"
   },
   {
    "duration": 9,
    "start_time": "2022-02-05T10:49:32.430Z"
   },
   {
    "duration": 16,
    "start_time": "2022-02-05T10:49:32.441Z"
   },
   {
    "duration": 4,
    "start_time": "2022-02-05T10:49:32.459Z"
   },
   {
    "duration": 10,
    "start_time": "2022-02-05T10:49:32.464Z"
   },
   {
    "duration": 8,
    "start_time": "2022-02-05T10:49:32.476Z"
   },
   {
    "duration": 30,
    "start_time": "2022-02-05T10:49:32.486Z"
   },
   {
    "duration": 17,
    "start_time": "2022-02-05T10:49:32.517Z"
   },
   {
    "duration": 12,
    "start_time": "2022-02-05T10:49:32.536Z"
   },
   {
    "duration": 18,
    "start_time": "2022-02-05T10:49:32.550Z"
   },
   {
    "duration": 3,
    "start_time": "2022-02-05T10:49:32.570Z"
   },
   {
    "duration": 44,
    "start_time": "2022-02-05T10:49:32.575Z"
   },
   {
    "duration": 17,
    "start_time": "2022-02-05T10:49:32.620Z"
   },
   {
    "duration": 5,
    "start_time": "2022-02-05T10:49:32.638Z"
   },
   {
    "duration": 16,
    "start_time": "2022-02-05T10:49:32.644Z"
   },
   {
    "duration": 6,
    "start_time": "2022-02-05T10:49:32.661Z"
   },
   {
    "duration": 10,
    "start_time": "2022-02-05T10:49:32.669Z"
   },
   {
    "duration": 40,
    "start_time": "2022-02-05T10:49:32.681Z"
   },
   {
    "duration": 8,
    "start_time": "2022-02-05T10:49:32.723Z"
   },
   {
    "duration": 24,
    "start_time": "2022-02-05T10:49:32.733Z"
   },
   {
    "duration": 266,
    "start_time": "2022-02-05T10:49:32.761Z"
   },
   {
    "duration": 357,
    "start_time": "2022-02-05T10:49:33.030Z"
   },
   {
    "duration": 875,
    "start_time": "2022-02-05T10:49:33.389Z"
   },
   {
    "duration": 7,
    "start_time": "2022-02-05T10:49:34.265Z"
   },
   {
    "duration": 515,
    "start_time": "2022-02-05T10:49:34.274Z"
   },
   {
    "duration": 228,
    "start_time": "2022-02-05T10:49:34.791Z"
   },
   {
    "duration": 566,
    "start_time": "2022-02-05T10:49:35.021Z"
   },
   {
    "duration": 28,
    "start_time": "2022-02-05T10:49:35.589Z"
   },
   {
    "duration": 768,
    "start_time": "2022-02-05T10:49:35.619Z"
   },
   {
    "duration": 311,
    "start_time": "2022-02-05T10:49:36.389Z"
   },
   {
    "duration": 17,
    "start_time": "2022-02-05T10:49:36.702Z"
   },
   {
    "duration": 335,
    "start_time": "2022-02-05T10:49:36.720Z"
   },
   {
    "duration": 306,
    "start_time": "2022-02-05T10:49:37.057Z"
   },
   {
    "duration": 9,
    "start_time": "2022-02-05T10:49:37.364Z"
   },
   {
    "duration": 291,
    "start_time": "2022-02-05T10:49:37.374Z"
   },
   {
    "duration": 259,
    "start_time": "2022-02-05T10:49:37.667Z"
   },
   {
    "duration": 84,
    "start_time": "2022-02-05T10:49:37.928Z"
   },
   {
    "duration": 1060,
    "start_time": "2022-02-05T10:49:36.953Z"
   },
   {
    "duration": 1053,
    "start_time": "2022-02-05T10:49:36.961Z"
   },
   {
    "duration": 1048,
    "start_time": "2022-02-05T10:49:36.967Z"
   },
   {
    "duration": 1022,
    "start_time": "2022-02-05T10:49:36.994Z"
   },
   {
    "duration": 1011,
    "start_time": "2022-02-05T10:49:37.006Z"
   },
   {
    "duration": 1006,
    "start_time": "2022-02-05T10:49:37.012Z"
   },
   {
    "duration": 1001,
    "start_time": "2022-02-05T10:49:37.018Z"
   },
   {
    "duration": 993,
    "start_time": "2022-02-05T10:49:37.027Z"
   },
   {
    "duration": 80,
    "start_time": "2022-02-05T10:50:02.248Z"
   },
   {
    "duration": 142,
    "start_time": "2022-02-05T10:50:03.356Z"
   },
   {
    "duration": 103,
    "start_time": "2022-02-05T10:50:35.950Z"
   },
   {
    "duration": 82,
    "start_time": "2022-02-05T10:50:36.830Z"
   },
   {
    "duration": 70,
    "start_time": "2022-02-05T10:50:47.643Z"
   },
   {
    "duration": 153,
    "start_time": "2022-02-05T10:50:49.329Z"
   },
   {
    "duration": 80,
    "start_time": "2022-02-05T10:50:56.560Z"
   },
   {
    "duration": 68,
    "start_time": "2022-02-05T10:50:57.760Z"
   },
   {
    "duration": 4,
    "start_time": "2022-02-05T10:51:09.276Z"
   },
   {
    "duration": 3,
    "start_time": "2022-02-05T10:51:09.379Z"
   },
   {
    "duration": 3,
    "start_time": "2022-02-05T10:51:11.050Z"
   },
   {
    "duration": 1035,
    "start_time": "2022-02-05T10:51:11.600Z"
   },
   {
    "duration": 820,
    "start_time": "2022-02-05T10:51:32.947Z"
   },
   {
    "duration": 814,
    "start_time": "2022-02-05T10:51:32.953Z"
   },
   {
    "duration": 806,
    "start_time": "2022-02-05T10:51:32.962Z"
   },
   {
    "duration": 801,
    "start_time": "2022-02-05T10:51:32.968Z"
   },
   {
    "duration": 795,
    "start_time": "2022-02-05T10:51:32.975Z"
   },
   {
    "duration": 790,
    "start_time": "2022-02-05T10:51:32.982Z"
   },
   {
    "duration": 784,
    "start_time": "2022-02-05T10:51:32.990Z"
   },
   {
    "duration": 778,
    "start_time": "2022-02-05T10:51:32.997Z"
   },
   {
    "duration": 772,
    "start_time": "2022-02-05T10:51:33.004Z"
   },
   {
    "duration": 767,
    "start_time": "2022-02-05T10:51:33.010Z"
   },
   {
    "duration": 761,
    "start_time": "2022-02-05T10:51:33.017Z"
   },
   {
    "duration": 755,
    "start_time": "2022-02-05T10:51:33.024Z"
   },
   {
    "duration": 750,
    "start_time": "2022-02-05T10:51:33.030Z"
   },
   {
    "duration": 746,
    "start_time": "2022-02-05T10:51:33.036Z"
   },
   {
    "duration": 724,
    "start_time": "2022-02-05T10:51:33.059Z"
   },
   {
    "duration": 718,
    "start_time": "2022-02-05T10:51:33.066Z"
   },
   {
    "duration": 712,
    "start_time": "2022-02-05T10:51:33.073Z"
   },
   {
    "duration": 707,
    "start_time": "2022-02-05T10:51:33.079Z"
   },
   {
    "duration": 701,
    "start_time": "2022-02-05T10:51:33.086Z"
   },
   {
    "duration": 696,
    "start_time": "2022-02-05T10:51:33.092Z"
   },
   {
    "duration": 690,
    "start_time": "2022-02-05T10:51:33.099Z"
   },
   {
    "duration": 683,
    "start_time": "2022-02-05T10:51:33.107Z"
   },
   {
    "duration": 674,
    "start_time": "2022-02-05T10:51:33.118Z"
   },
   {
    "duration": 668,
    "start_time": "2022-02-05T10:51:33.125Z"
   },
   {
    "duration": 662,
    "start_time": "2022-02-05T10:51:33.132Z"
   },
   {
    "duration": 657,
    "start_time": "2022-02-05T10:51:33.138Z"
   },
   {
    "duration": 667,
    "start_time": "2022-02-05T10:51:33.145Z"
   },
   {
    "duration": 662,
    "start_time": "2022-02-05T10:51:33.151Z"
   },
   {
    "duration": 640,
    "start_time": "2022-02-05T10:51:33.174Z"
   },
   {
    "duration": 635,
    "start_time": "2022-02-05T10:51:33.180Z"
   },
   {
    "duration": 629,
    "start_time": "2022-02-05T10:51:33.187Z"
   },
   {
    "duration": 623,
    "start_time": "2022-02-05T10:51:33.194Z"
   },
   {
    "duration": 614,
    "start_time": "2022-02-05T10:51:33.204Z"
   },
   {
    "duration": 608,
    "start_time": "2022-02-05T10:51:33.211Z"
   },
   {
    "duration": 602,
    "start_time": "2022-02-05T10:51:33.218Z"
   },
   {
    "duration": 594,
    "start_time": "2022-02-05T10:51:33.227Z"
   },
   {
    "duration": 587,
    "start_time": "2022-02-05T10:51:33.235Z"
   },
   {
    "duration": 580,
    "start_time": "2022-02-05T10:51:33.243Z"
   },
   {
    "duration": 574,
    "start_time": "2022-02-05T10:51:33.250Z"
   },
   {
    "duration": 569,
    "start_time": "2022-02-05T10:51:33.256Z"
   },
   {
    "duration": 563,
    "start_time": "2022-02-05T10:51:33.263Z"
   },
   {
    "duration": 542,
    "start_time": "2022-02-05T10:51:33.285Z"
   },
   {
    "duration": 534,
    "start_time": "2022-02-05T10:51:33.294Z"
   },
   {
    "duration": 529,
    "start_time": "2022-02-05T10:51:33.300Z"
   },
   {
    "duration": 523,
    "start_time": "2022-02-05T10:51:33.307Z"
   },
   {
    "duration": 518,
    "start_time": "2022-02-05T10:51:33.313Z"
   },
   {
    "duration": 512,
    "start_time": "2022-02-05T10:51:33.320Z"
   },
   {
    "duration": 3,
    "start_time": "2022-02-05T10:51:49.863Z"
   },
   {
    "duration": 477,
    "start_time": "2022-02-05T10:51:52.073Z"
   },
   {
    "duration": 1070,
    "start_time": "2022-02-05T10:52:08.609Z"
   },
   {
    "duration": 1061,
    "start_time": "2022-02-05T10:52:08.619Z"
   },
   {
    "duration": 1029,
    "start_time": "2022-02-05T10:52:08.652Z"
   },
   {
    "duration": 1017,
    "start_time": "2022-02-05T10:52:08.665Z"
   },
   {
    "duration": 994,
    "start_time": "2022-02-05T10:52:08.689Z"
   },
   {
    "duration": 960,
    "start_time": "2022-02-05T10:52:08.724Z"
   },
   {
    "duration": 951,
    "start_time": "2022-02-05T10:52:08.734Z"
   },
   {
    "duration": 934,
    "start_time": "2022-02-05T10:52:08.752Z"
   },
   {
    "duration": 922,
    "start_time": "2022-02-05T10:52:08.765Z"
   },
   {
    "duration": 909,
    "start_time": "2022-02-05T10:52:08.778Z"
   },
   {
    "duration": 905,
    "start_time": "2022-02-05T10:52:08.783Z"
   },
   {
    "duration": 893,
    "start_time": "2022-02-05T10:52:08.796Z"
   },
   {
    "duration": 888,
    "start_time": "2022-02-05T10:52:08.802Z"
   },
   {
    "duration": 865,
    "start_time": "2022-02-05T10:52:08.826Z"
   },
   {
    "duration": 862,
    "start_time": "2022-02-05T10:52:08.830Z"
   },
   {
    "duration": 856,
    "start_time": "2022-02-05T10:52:08.837Z"
   },
   {
    "duration": 843,
    "start_time": "2022-02-05T10:52:08.852Z"
   },
   {
    "duration": 833,
    "start_time": "2022-02-05T10:52:08.863Z"
   },
   {
    "duration": 828,
    "start_time": "2022-02-05T10:52:08.869Z"
   },
   {
    "duration": 816,
    "start_time": "2022-02-05T10:52:08.882Z"
   },
   {
    "duration": 805,
    "start_time": "2022-02-05T10:52:08.893Z"
   },
   {
    "duration": 800,
    "start_time": "2022-02-05T10:52:08.899Z"
   },
   {
    "duration": 789,
    "start_time": "2022-02-05T10:52:08.911Z"
   },
   {
    "duration": 784,
    "start_time": "2022-02-05T10:52:08.918Z"
   },
   {
    "duration": 774,
    "start_time": "2022-02-05T10:52:08.929Z"
   },
   {
    "duration": 768,
    "start_time": "2022-02-05T10:52:08.936Z"
   },
   {
    "duration": 764,
    "start_time": "2022-02-05T10:52:08.941Z"
   },
   {
    "duration": 760,
    "start_time": "2022-02-05T10:52:08.946Z"
   },
   {
    "duration": 756,
    "start_time": "2022-02-05T10:52:08.951Z"
   },
   {
    "duration": 754,
    "start_time": "2022-02-05T10:52:08.955Z"
   },
   {
    "duration": 751,
    "start_time": "2022-02-05T10:52:08.959Z"
   },
   {
    "duration": 748,
    "start_time": "2022-02-05T10:52:08.963Z"
   },
   {
    "duration": 746,
    "start_time": "2022-02-05T10:52:08.967Z"
   },
   {
    "duration": 743,
    "start_time": "2022-02-05T10:52:08.971Z"
   },
   {
    "duration": 740,
    "start_time": "2022-02-05T10:52:08.975Z"
   },
   {
    "duration": 737,
    "start_time": "2022-02-05T10:52:08.979Z"
   },
   {
    "duration": 734,
    "start_time": "2022-02-05T10:52:08.983Z"
   },
   {
    "duration": 731,
    "start_time": "2022-02-05T10:52:08.987Z"
   },
   {
    "duration": 727,
    "start_time": "2022-02-05T10:52:08.992Z"
   },
   {
    "duration": 723,
    "start_time": "2022-02-05T10:52:08.997Z"
   },
   {
    "duration": 718,
    "start_time": "2022-02-05T10:52:09.003Z"
   },
   {
    "duration": 714,
    "start_time": "2022-02-05T10:52:09.008Z"
   },
   {
    "duration": 711,
    "start_time": "2022-02-05T10:52:09.013Z"
   },
   {
    "duration": 707,
    "start_time": "2022-02-05T10:52:09.018Z"
   },
   {
    "duration": 703,
    "start_time": "2022-02-05T10:52:09.023Z"
   },
   {
    "duration": 689,
    "start_time": "2022-02-05T10:52:09.038Z"
   },
   {
    "duration": 684,
    "start_time": "2022-02-05T10:52:09.044Z"
   },
   {
    "duration": 1184,
    "start_time": "2022-02-05T10:52:22.193Z"
   },
   {
    "duration": 39,
    "start_time": "2022-02-05T10:52:23.379Z"
   },
   {
    "duration": 19,
    "start_time": "2022-02-05T10:52:23.420Z"
   },
   {
    "duration": 18,
    "start_time": "2022-02-05T10:52:23.440Z"
   },
   {
    "duration": 26,
    "start_time": "2022-02-05T10:52:23.460Z"
   },
   {
    "duration": 4,
    "start_time": "2022-02-05T10:52:23.488Z"
   },
   {
    "duration": 4,
    "start_time": "2022-02-05T10:52:23.493Z"
   },
   {
    "duration": 7,
    "start_time": "2022-02-05T10:52:23.511Z"
   },
   {
    "duration": 10,
    "start_time": "2022-02-05T10:52:23.520Z"
   },
   {
    "duration": 16,
    "start_time": "2022-02-05T10:52:23.531Z"
   },
   {
    "duration": 10,
    "start_time": "2022-02-05T10:52:23.549Z"
   },
   {
    "duration": 19,
    "start_time": "2022-02-05T10:52:23.561Z"
   },
   {
    "duration": 32,
    "start_time": "2022-02-05T10:52:23.581Z"
   },
   {
    "duration": 13,
    "start_time": "2022-02-05T10:52:23.615Z"
   },
   {
    "duration": 16,
    "start_time": "2022-02-05T10:52:23.629Z"
   },
   {
    "duration": 5,
    "start_time": "2022-02-05T10:52:23.647Z"
   },
   {
    "duration": 13,
    "start_time": "2022-02-05T10:52:23.654Z"
   },
   {
    "duration": 5,
    "start_time": "2022-02-05T10:52:23.669Z"
   },
   {
    "duration": 40,
    "start_time": "2022-02-05T10:52:23.676Z"
   },
   {
    "duration": 8,
    "start_time": "2022-02-05T10:52:23.718Z"
   },
   {
    "duration": 11,
    "start_time": "2022-02-05T10:52:23.728Z"
   },
   {
    "duration": 21,
    "start_time": "2022-02-05T10:52:23.741Z"
   },
   {
    "duration": 272,
    "start_time": "2022-02-05T10:52:23.766Z"
   },
   {
    "duration": 361,
    "start_time": "2022-02-05T10:52:24.040Z"
   },
   {
    "duration": 849,
    "start_time": "2022-02-05T10:52:24.402Z"
   },
   {
    "duration": 6,
    "start_time": "2022-02-05T10:52:25.253Z"
   },
   {
    "duration": 559,
    "start_time": "2022-02-05T10:52:25.261Z"
   },
   {
    "duration": 229,
    "start_time": "2022-02-05T10:52:25.822Z"
   },
   {
    "duration": 556,
    "start_time": "2022-02-05T10:52:26.052Z"
   },
   {
    "duration": 21,
    "start_time": "2022-02-05T10:52:26.613Z"
   },
   {
    "duration": 794,
    "start_time": "2022-02-05T10:52:26.635Z"
   },
   {
    "duration": 317,
    "start_time": "2022-02-05T10:52:27.431Z"
   },
   {
    "duration": 10,
    "start_time": "2022-02-05T10:52:27.750Z"
   },
   {
    "duration": 329,
    "start_time": "2022-02-05T10:52:27.762Z"
   },
   {
    "duration": 375,
    "start_time": "2022-02-05T10:52:28.092Z"
   },
   {
    "duration": 9,
    "start_time": "2022-02-05T10:52:28.469Z"
   },
   {
    "duration": 282,
    "start_time": "2022-02-05T10:52:28.479Z"
   },
   {
    "duration": 279,
    "start_time": "2022-02-05T10:52:28.763Z"
   },
   {
    "duration": 3,
    "start_time": "2022-02-05T10:52:29.043Z"
   },
   {
    "duration": 523,
    "start_time": "2022-02-05T10:52:29.048Z"
   },
   {
    "duration": 765,
    "start_time": "2022-02-05T10:52:29.572Z"
   },
   {
    "duration": 522,
    "start_time": "2022-02-05T10:52:30.339Z"
   },
   {
    "duration": 78,
    "start_time": "2022-02-05T10:52:30.863Z"
   },
   {
    "duration": 1022,
    "start_time": "2022-02-05T10:52:29.921Z"
   },
   {
    "duration": 1006,
    "start_time": "2022-02-05T10:52:29.938Z"
   },
   {
    "duration": 997,
    "start_time": "2022-02-05T10:52:29.948Z"
   },
   {
    "duration": 985,
    "start_time": "2022-02-05T10:52:29.961Z"
   },
   {
    "duration": 1175,
    "start_time": "2022-02-05T10:56:44.337Z"
   },
   {
    "duration": 40,
    "start_time": "2022-02-05T10:56:45.514Z"
   },
   {
    "duration": 19,
    "start_time": "2022-02-05T10:56:45.556Z"
   },
   {
    "duration": 13,
    "start_time": "2022-02-05T10:56:45.578Z"
   },
   {
    "duration": 29,
    "start_time": "2022-02-05T10:56:45.594Z"
   },
   {
    "duration": 5,
    "start_time": "2022-02-05T10:56:45.625Z"
   },
   {
    "duration": 3,
    "start_time": "2022-02-05T10:56:45.632Z"
   },
   {
    "duration": 8,
    "start_time": "2022-02-05T10:56:45.638Z"
   },
   {
    "duration": 6,
    "start_time": "2022-02-05T10:56:45.648Z"
   },
   {
    "duration": 16,
    "start_time": "2022-02-05T10:56:45.655Z"
   },
   {
    "duration": 47,
    "start_time": "2022-02-05T10:56:45.673Z"
   },
   {
    "duration": 20,
    "start_time": "2022-02-05T10:56:45.721Z"
   },
   {
    "duration": 7,
    "start_time": "2022-02-05T10:56:45.743Z"
   },
   {
    "duration": 22,
    "start_time": "2022-02-05T10:56:45.751Z"
   },
   {
    "duration": 42,
    "start_time": "2022-02-05T10:56:45.774Z"
   },
   {
    "duration": 7,
    "start_time": "2022-02-05T10:56:45.818Z"
   },
   {
    "duration": 22,
    "start_time": "2022-02-05T10:56:45.828Z"
   },
   {
    "duration": 5,
    "start_time": "2022-02-05T10:56:45.852Z"
   },
   {
    "duration": 10,
    "start_time": "2022-02-05T10:56:45.859Z"
   },
   {
    "duration": 45,
    "start_time": "2022-02-05T10:56:45.871Z"
   },
   {
    "duration": 8,
    "start_time": "2022-02-05T10:56:45.918Z"
   },
   {
    "duration": 23,
    "start_time": "2022-02-05T10:56:45.928Z"
   },
   {
    "duration": 292,
    "start_time": "2022-02-05T10:56:45.955Z"
   },
   {
    "duration": 367,
    "start_time": "2022-02-05T10:56:46.250Z"
   },
   {
    "duration": 837,
    "start_time": "2022-02-05T10:56:46.619Z"
   },
   {
    "duration": 7,
    "start_time": "2022-02-05T10:56:47.459Z"
   },
   {
    "duration": 542,
    "start_time": "2022-02-05T10:56:47.468Z"
   },
   {
    "duration": 236,
    "start_time": "2022-02-05T10:56:48.012Z"
   },
   {
    "duration": 589,
    "start_time": "2022-02-05T10:56:48.250Z"
   },
   {
    "duration": 23,
    "start_time": "2022-02-05T10:56:48.841Z"
   },
   {
    "duration": 784,
    "start_time": "2022-02-05T10:56:48.866Z"
   },
   {
    "duration": 313,
    "start_time": "2022-02-05T10:56:49.652Z"
   },
   {
    "duration": 11,
    "start_time": "2022-02-05T10:56:49.967Z"
   },
   {
    "duration": 370,
    "start_time": "2022-02-05T10:56:49.979Z"
   },
   {
    "duration": 325,
    "start_time": "2022-02-05T10:56:50.351Z"
   },
   {
    "duration": 10,
    "start_time": "2022-02-05T10:56:50.677Z"
   },
   {
    "duration": 290,
    "start_time": "2022-02-05T10:56:50.689Z"
   },
   {
    "duration": 289,
    "start_time": "2022-02-05T10:56:50.980Z"
   },
   {
    "duration": 3,
    "start_time": "2022-02-05T10:56:51.271Z"
   },
   {
    "duration": 523,
    "start_time": "2022-02-05T10:56:51.276Z"
   },
   {
    "duration": 786,
    "start_time": "2022-02-05T10:56:51.801Z"
   },
   {
    "duration": 554,
    "start_time": "2022-02-05T10:56:52.589Z"
   },
   {
    "duration": 24,
    "start_time": "2022-02-05T10:56:53.145Z"
   },
   {
    "duration": 48,
    "start_time": "2022-02-05T10:56:53.171Z"
   },
   {
    "duration": 14,
    "start_time": "2022-02-05T10:56:53.221Z"
   },
   {
    "duration": 23,
    "start_time": "2022-02-05T10:56:53.237Z"
   },
   {
    "duration": 8,
    "start_time": "2022-02-05T10:57:54.026Z"
   },
   {
    "duration": 1137,
    "start_time": "2022-02-05T10:58:00.635Z"
   },
   {
    "duration": 38,
    "start_time": "2022-02-05T10:58:01.774Z"
   },
   {
    "duration": 18,
    "start_time": "2022-02-05T10:58:01.814Z"
   },
   {
    "duration": 17,
    "start_time": "2022-02-05T10:58:01.834Z"
   },
   {
    "duration": 17,
    "start_time": "2022-02-05T10:58:01.853Z"
   },
   {
    "duration": 4,
    "start_time": "2022-02-05T10:58:01.872Z"
   },
   {
    "duration": 20,
    "start_time": "2022-02-05T10:58:01.878Z"
   },
   {
    "duration": 16,
    "start_time": "2022-02-05T10:58:01.901Z"
   },
   {
    "duration": 8,
    "start_time": "2022-02-05T10:58:01.919Z"
   },
   {
    "duration": 22,
    "start_time": "2022-02-05T10:58:01.929Z"
   },
   {
    "duration": 9,
    "start_time": "2022-02-05T10:58:01.952Z"
   },
   {
    "duration": 20,
    "start_time": "2022-02-05T10:58:01.963Z"
   },
   {
    "duration": 29,
    "start_time": "2022-02-05T10:58:01.985Z"
   },
   {
    "duration": 19,
    "start_time": "2022-02-05T10:58:02.016Z"
   },
   {
    "duration": 16,
    "start_time": "2022-02-05T10:58:02.037Z"
   },
   {
    "duration": 5,
    "start_time": "2022-02-05T10:58:02.054Z"
   },
   {
    "duration": 24,
    "start_time": "2022-02-05T10:58:02.061Z"
   },
   {
    "duration": 17,
    "start_time": "2022-02-05T10:58:02.086Z"
   },
   {
    "duration": 9,
    "start_time": "2022-02-05T10:58:02.112Z"
   },
   {
    "duration": 12,
    "start_time": "2022-02-05T10:58:02.123Z"
   },
   {
    "duration": 18,
    "start_time": "2022-02-05T10:58:02.137Z"
   },
   {
    "duration": 26,
    "start_time": "2022-02-05T10:58:02.156Z"
   },
   {
    "duration": 256,
    "start_time": "2022-02-05T10:58:02.185Z"
   },
   {
    "duration": 358,
    "start_time": "2022-02-05T10:58:02.444Z"
   },
   {
    "duration": 836,
    "start_time": "2022-02-05T10:58:02.804Z"
   },
   {
    "duration": 7,
    "start_time": "2022-02-05T10:58:03.642Z"
   },
   {
    "duration": 530,
    "start_time": "2022-02-05T10:58:03.651Z"
   },
   {
    "duration": 226,
    "start_time": "2022-02-05T10:58:04.183Z"
   },
   {
    "duration": 577,
    "start_time": "2022-02-05T10:58:04.412Z"
   },
   {
    "duration": 25,
    "start_time": "2022-02-05T10:58:04.991Z"
   },
   {
    "duration": 764,
    "start_time": "2022-02-05T10:58:05.018Z"
   },
   {
    "duration": 324,
    "start_time": "2022-02-05T10:58:05.784Z"
   },
   {
    "duration": 12,
    "start_time": "2022-02-05T10:58:06.110Z"
   },
   {
    "duration": 336,
    "start_time": "2022-02-05T10:58:06.124Z"
   },
   {
    "duration": 315,
    "start_time": "2022-02-05T10:58:06.462Z"
   },
   {
    "duration": 9,
    "start_time": "2022-02-05T10:58:06.779Z"
   },
   {
    "duration": 283,
    "start_time": "2022-02-05T10:58:06.790Z"
   },
   {
    "duration": 266,
    "start_time": "2022-02-05T10:58:07.075Z"
   },
   {
    "duration": 3,
    "start_time": "2022-02-05T10:58:07.343Z"
   },
   {
    "duration": 515,
    "start_time": "2022-02-05T10:58:07.348Z"
   },
   {
    "duration": 745,
    "start_time": "2022-02-05T10:58:07.865Z"
   },
   {
    "duration": 513,
    "start_time": "2022-02-05T10:58:08.612Z"
   },
   {
    "duration": 17,
    "start_time": "2022-02-05T10:58:09.126Z"
   },
   {
    "duration": 24,
    "start_time": "2022-02-05T10:58:09.144Z"
   },
   {
    "duration": 13,
    "start_time": "2022-02-05T10:58:09.170Z"
   },
   {
    "duration": 23,
    "start_time": "2022-02-05T10:58:09.212Z"
   },
   {
    "duration": 1167,
    "start_time": "2022-02-05T11:07:49.888Z"
   },
   {
    "duration": 37,
    "start_time": "2022-02-05T11:07:51.056Z"
   },
   {
    "duration": 18,
    "start_time": "2022-02-05T11:07:51.095Z"
   },
   {
    "duration": 9,
    "start_time": "2022-02-05T11:07:51.115Z"
   },
   {
    "duration": 15,
    "start_time": "2022-02-05T11:07:51.126Z"
   },
   {
    "duration": 4,
    "start_time": "2022-02-05T11:07:51.143Z"
   },
   {
    "duration": 6,
    "start_time": "2022-02-05T11:07:51.149Z"
   },
   {
    "duration": 12,
    "start_time": "2022-02-05T11:07:51.158Z"
   },
   {
    "duration": 7,
    "start_time": "2022-02-05T11:07:51.172Z"
   },
   {
    "duration": 40,
    "start_time": "2022-02-05T11:07:51.181Z"
   },
   {
    "duration": 9,
    "start_time": "2022-02-05T11:07:51.223Z"
   },
   {
    "duration": 18,
    "start_time": "2022-02-05T11:07:51.234Z"
   },
   {
    "duration": 4,
    "start_time": "2022-02-05T11:07:51.254Z"
   },
   {
    "duration": 13,
    "start_time": "2022-02-05T11:07:51.260Z"
   },
   {
    "duration": 49,
    "start_time": "2022-02-05T11:07:51.274Z"
   },
   {
    "duration": 5,
    "start_time": "2022-02-05T11:07:51.325Z"
   },
   {
    "duration": 14,
    "start_time": "2022-02-05T11:07:51.331Z"
   },
   {
    "duration": 5,
    "start_time": "2022-02-05T11:07:51.347Z"
   },
   {
    "duration": 10,
    "start_time": "2022-02-05T11:07:51.354Z"
   },
   {
    "duration": 10,
    "start_time": "2022-02-05T11:07:51.365Z"
   },
   {
    "duration": 39,
    "start_time": "2022-02-05T11:07:51.376Z"
   },
   {
    "duration": 20,
    "start_time": "2022-02-05T11:07:51.417Z"
   },
   {
    "duration": 271,
    "start_time": "2022-02-05T11:07:51.441Z"
   },
   {
    "duration": 363,
    "start_time": "2022-02-05T11:07:51.714Z"
   },
   {
    "duration": 821,
    "start_time": "2022-02-05T11:07:52.079Z"
   },
   {
    "duration": 16,
    "start_time": "2022-02-05T11:07:52.901Z"
   },
   {
    "duration": 485,
    "start_time": "2022-02-05T11:07:52.918Z"
   },
   {
    "duration": 229,
    "start_time": "2022-02-05T11:07:53.405Z"
   },
   {
    "duration": 564,
    "start_time": "2022-02-05T11:07:53.635Z"
   },
   {
    "duration": 26,
    "start_time": "2022-02-05T11:07:54.201Z"
   },
   {
    "duration": 766,
    "start_time": "2022-02-05T11:07:54.229Z"
   },
   {
    "duration": 309,
    "start_time": "2022-02-05T11:07:54.997Z"
   },
   {
    "duration": 10,
    "start_time": "2022-02-05T11:07:55.312Z"
   },
   {
    "duration": 333,
    "start_time": "2022-02-05T11:07:55.324Z"
   },
   {
    "duration": 315,
    "start_time": "2022-02-05T11:07:55.659Z"
   },
   {
    "duration": 11,
    "start_time": "2022-02-05T11:07:55.976Z"
   },
   {
    "duration": 311,
    "start_time": "2022-02-05T11:07:55.989Z"
   },
   {
    "duration": 266,
    "start_time": "2022-02-05T11:07:56.302Z"
   },
   {
    "duration": 3,
    "start_time": "2022-02-05T11:07:56.570Z"
   },
   {
    "duration": 515,
    "start_time": "2022-02-05T11:07:56.575Z"
   },
   {
    "duration": 735,
    "start_time": "2022-02-05T11:07:57.092Z"
   },
   {
    "duration": 514,
    "start_time": "2022-02-05T11:07:57.828Z"
   },
   {
    "duration": 16,
    "start_time": "2022-02-05T11:07:58.344Z"
   },
   {
    "duration": 22,
    "start_time": "2022-02-05T11:07:58.362Z"
   },
   {
    "duration": 39,
    "start_time": "2022-02-05T11:07:58.386Z"
   },
   {
    "duration": 23,
    "start_time": "2022-02-05T11:07:58.427Z"
   },
   {
    "duration": 4,
    "start_time": "2022-02-06T20:02:03.937Z"
   },
   {
    "duration": 631,
    "start_time": "2022-02-06T20:02:05.685Z"
   },
   {
    "duration": 1048,
    "start_time": "2022-02-06T20:02:17.887Z"
   },
   {
    "duration": 39,
    "start_time": "2022-02-06T20:02:18.937Z"
   },
   {
    "duration": 14,
    "start_time": "2022-02-06T20:02:18.978Z"
   },
   {
    "duration": 9,
    "start_time": "2022-02-06T20:02:18.994Z"
   },
   {
    "duration": 13,
    "start_time": "2022-02-06T20:02:19.004Z"
   },
   {
    "duration": 3,
    "start_time": "2022-02-06T20:02:19.019Z"
   },
   {
    "duration": 5,
    "start_time": "2022-02-06T20:02:19.024Z"
   },
   {
    "duration": 6,
    "start_time": "2022-02-06T20:02:19.031Z"
   },
   {
    "duration": 35,
    "start_time": "2022-02-06T20:02:19.038Z"
   },
   {
    "duration": 11,
    "start_time": "2022-02-06T20:02:19.074Z"
   },
   {
    "duration": 7,
    "start_time": "2022-02-06T20:02:19.087Z"
   },
   {
    "duration": 16,
    "start_time": "2022-02-06T20:02:19.096Z"
   },
   {
    "duration": 3,
    "start_time": "2022-02-06T20:02:19.113Z"
   },
   {
    "duration": 12,
    "start_time": "2022-02-06T20:02:19.118Z"
   },
   {
    "duration": 51,
    "start_time": "2022-02-06T20:02:19.131Z"
   },
   {
    "duration": 5,
    "start_time": "2022-02-06T20:02:19.183Z"
   },
   {
    "duration": 11,
    "start_time": "2022-02-06T20:02:19.189Z"
   },
   {
    "duration": 4,
    "start_time": "2022-02-06T20:02:19.202Z"
   },
   {
    "duration": 6,
    "start_time": "2022-02-06T20:02:19.207Z"
   },
   {
    "duration": 10,
    "start_time": "2022-02-06T20:02:19.214Z"
   },
   {
    "duration": 8,
    "start_time": "2022-02-06T20:02:19.225Z"
   },
   {
    "duration": 50,
    "start_time": "2022-02-06T20:02:19.234Z"
   },
   {
    "duration": 212,
    "start_time": "2022-02-06T20:02:19.287Z"
   },
   {
    "duration": 312,
    "start_time": "2022-02-06T20:02:19.501Z"
   },
   {
    "duration": 719,
    "start_time": "2022-02-06T20:02:19.815Z"
   },
   {
    "duration": 6,
    "start_time": "2022-02-06T20:02:20.536Z"
   },
   {
    "duration": 515,
    "start_time": "2022-02-06T20:02:20.544Z"
   },
   {
    "duration": 196,
    "start_time": "2022-02-06T20:02:21.061Z"
   },
   {
    "duration": 521,
    "start_time": "2022-02-06T20:02:21.259Z"
   },
   {
    "duration": 20,
    "start_time": "2022-02-06T20:02:21.782Z"
   },
   {
    "duration": 661,
    "start_time": "2022-02-06T20:02:21.804Z"
   },
   {
    "duration": 262,
    "start_time": "2022-02-06T20:02:22.467Z"
   },
   {
    "duration": 9,
    "start_time": "2022-02-06T20:02:22.731Z"
   },
   {
    "duration": 351,
    "start_time": "2022-02-06T20:02:22.741Z"
   },
   {
    "duration": 303,
    "start_time": "2022-02-06T20:02:23.093Z"
   },
   {
    "duration": 10,
    "start_time": "2022-02-06T20:02:23.397Z"
   },
   {
    "duration": 242,
    "start_time": "2022-02-06T20:02:23.409Z"
   },
   {
    "duration": 257,
    "start_time": "2022-02-06T20:02:23.652Z"
   },
   {
    "duration": 3,
    "start_time": "2022-02-06T20:02:23.911Z"
   },
   {
    "duration": 697,
    "start_time": "2022-02-06T20:02:23.916Z"
   },
   {
    "duration": 393,
    "start_time": "2022-02-06T20:02:24.223Z"
   },
   {
    "duration": 390,
    "start_time": "2022-02-06T20:02:24.227Z"
   },
   {
    "duration": 386,
    "start_time": "2022-02-06T20:02:24.232Z"
   },
   {
    "duration": 383,
    "start_time": "2022-02-06T20:02:24.236Z"
   },
   {
    "duration": 382,
    "start_time": "2022-02-06T20:02:24.239Z"
   },
   {
    "duration": 379,
    "start_time": "2022-02-06T20:02:24.243Z"
   },
   {
    "duration": 3,
    "start_time": "2022-02-06T20:08:56.751Z"
   },
   {
    "duration": 418,
    "start_time": "2022-02-06T20:08:57.974Z"
   },
   {
    "duration": 1233,
    "start_time": "2022-02-06T20:38:55.516Z"
   },
   {
    "duration": 3,
    "start_time": "2022-02-06T20:39:13.137Z"
   },
   {
    "duration": 497,
    "start_time": "2022-02-06T20:39:14.643Z"
   },
   {
    "duration": 3,
    "start_time": "2022-02-06T20:40:26.971Z"
   },
   {
    "duration": 457,
    "start_time": "2022-02-06T20:40:28.739Z"
   },
   {
    "duration": 1006,
    "start_time": "2022-02-06T20:40:54.001Z"
   },
   {
    "duration": 37,
    "start_time": "2022-02-06T20:40:55.009Z"
   },
   {
    "duration": 15,
    "start_time": "2022-02-06T20:40:55.048Z"
   },
   {
    "duration": 17,
    "start_time": "2022-02-06T20:40:55.065Z"
   },
   {
    "duration": 18,
    "start_time": "2022-02-06T20:40:55.083Z"
   },
   {
    "duration": 4,
    "start_time": "2022-02-06T20:40:55.102Z"
   },
   {
    "duration": 8,
    "start_time": "2022-02-06T20:40:55.107Z"
   },
   {
    "duration": 9,
    "start_time": "2022-02-06T20:40:55.117Z"
   },
   {
    "duration": 9,
    "start_time": "2022-02-06T20:40:55.128Z"
   },
   {
    "duration": 23,
    "start_time": "2022-02-06T20:40:55.139Z"
   },
   {
    "duration": 9,
    "start_time": "2022-02-06T20:40:55.164Z"
   },
   {
    "duration": 16,
    "start_time": "2022-02-06T20:40:55.174Z"
   },
   {
    "duration": 7,
    "start_time": "2022-02-06T20:40:55.192Z"
   },
   {
    "duration": 14,
    "start_time": "2022-02-06T20:40:55.201Z"
   },
   {
    "duration": 14,
    "start_time": "2022-02-06T20:40:55.217Z"
   },
   {
    "duration": 7,
    "start_time": "2022-02-06T20:40:55.233Z"
   },
   {
    "duration": 32,
    "start_time": "2022-02-06T20:40:55.241Z"
   },
   {
    "duration": 7,
    "start_time": "2022-02-06T20:40:55.274Z"
   },
   {
    "duration": 8,
    "start_time": "2022-02-06T20:40:55.283Z"
   },
   {
    "duration": 12,
    "start_time": "2022-02-06T20:40:55.292Z"
   },
   {
    "duration": 9,
    "start_time": "2022-02-06T20:40:55.305Z"
   },
   {
    "duration": 22,
    "start_time": "2022-02-06T20:40:55.316Z"
   },
   {
    "duration": 220,
    "start_time": "2022-02-06T20:40:55.341Z"
   },
   {
    "duration": 290,
    "start_time": "2022-02-06T20:40:55.563Z"
   },
   {
    "duration": 716,
    "start_time": "2022-02-06T20:40:55.855Z"
   },
   {
    "duration": 6,
    "start_time": "2022-02-06T20:40:56.573Z"
   },
   {
    "duration": 451,
    "start_time": "2022-02-06T20:40:56.581Z"
   },
   {
    "duration": 195,
    "start_time": "2022-02-06T20:40:57.034Z"
   },
   {
    "duration": 478,
    "start_time": "2022-02-06T20:40:57.231Z"
   },
   {
    "duration": 17,
    "start_time": "2022-02-06T20:40:57.711Z"
   },
   {
    "duration": 686,
    "start_time": "2022-02-06T20:40:57.729Z"
   },
   {
    "duration": 261,
    "start_time": "2022-02-06T20:40:58.417Z"
   },
   {
    "duration": 9,
    "start_time": "2022-02-06T20:40:58.680Z"
   },
   {
    "duration": 301,
    "start_time": "2022-02-06T20:40:58.691Z"
   },
   {
    "duration": 311,
    "start_time": "2022-02-06T20:40:58.994Z"
   },
   {
    "duration": 8,
    "start_time": "2022-02-06T20:40:59.307Z"
   },
   {
    "duration": 241,
    "start_time": "2022-02-06T20:40:59.316Z"
   },
   {
    "duration": 229,
    "start_time": "2022-02-06T20:40:59.559Z"
   },
   {
    "duration": 3,
    "start_time": "2022-02-06T20:40:59.789Z"
   },
   {
    "duration": 372,
    "start_time": "2022-02-06T20:40:59.794Z"
   },
   {
    "duration": 327,
    "start_time": "2022-02-06T20:40:59.841Z"
   },
   {
    "duration": 325,
    "start_time": "2022-02-06T20:40:59.845Z"
   },
   {
    "duration": 322,
    "start_time": "2022-02-06T20:40:59.849Z"
   },
   {
    "duration": 319,
    "start_time": "2022-02-06T20:40:59.854Z"
   },
   {
    "duration": 315,
    "start_time": "2022-02-06T20:40:59.859Z"
   },
   {
    "duration": 310,
    "start_time": "2022-02-06T20:40:59.866Z"
   },
   {
    "duration": 3,
    "start_time": "2022-02-06T20:41:23.838Z"
   },
   {
    "duration": 4,
    "start_time": "2022-02-06T20:41:30.128Z"
   },
   {
    "duration": 4,
    "start_time": "2022-02-06T20:41:30.305Z"
   },
   {
    "duration": 3,
    "start_time": "2022-02-06T20:41:30.955Z"
   },
   {
    "duration": 3,
    "start_time": "2022-02-06T20:41:31.020Z"
   },
   {
    "duration": 544,
    "start_time": "2022-02-06T20:41:33.550Z"
   },
   {
    "duration": 574,
    "start_time": "2022-02-06T20:41:34.644Z"
   },
   {
    "duration": 538,
    "start_time": "2022-02-06T20:41:35.577Z"
   },
   {
    "duration": 3,
    "start_time": "2022-02-06T20:42:01.129Z"
   },
   {
    "duration": -130,
    "start_time": "2022-02-06T20:42:05.601Z"
   },
   {
    "duration": 556,
    "start_time": "2022-02-06T20:42:07.104Z"
   },
   {
    "duration": 3,
    "start_time": "2022-02-06T20:42:35.757Z"
   },
   {
    "duration": 511,
    "start_time": "2022-02-06T20:42:37.442Z"
   },
   {
    "duration": 1182,
    "start_time": "2022-02-07T09:59:37.021Z"
   },
   {
    "duration": 41,
    "start_time": "2022-02-07T09:59:38.205Z"
   },
   {
    "duration": 18,
    "start_time": "2022-02-07T09:59:38.248Z"
   },
   {
    "duration": 11,
    "start_time": "2022-02-07T09:59:38.269Z"
   },
   {
    "duration": 39,
    "start_time": "2022-02-07T09:59:38.282Z"
   },
   {
    "duration": 5,
    "start_time": "2022-02-07T09:59:38.322Z"
   },
   {
    "duration": 13,
    "start_time": "2022-02-07T09:59:38.328Z"
   },
   {
    "duration": 9,
    "start_time": "2022-02-07T09:59:38.344Z"
   },
   {
    "duration": 12,
    "start_time": "2022-02-07T09:59:38.355Z"
   },
   {
    "duration": 17,
    "start_time": "2022-02-07T09:59:38.369Z"
   },
   {
    "duration": 10,
    "start_time": "2022-02-07T09:59:38.388Z"
   },
   {
    "duration": 36,
    "start_time": "2022-02-07T09:59:38.400Z"
   },
   {
    "duration": 4,
    "start_time": "2022-02-07T09:59:38.438Z"
   },
   {
    "duration": 19,
    "start_time": "2022-02-07T09:59:38.444Z"
   },
   {
    "duration": 17,
    "start_time": "2022-02-07T09:59:38.465Z"
   },
   {
    "duration": 34,
    "start_time": "2022-02-07T09:59:38.484Z"
   },
   {
    "duration": 15,
    "start_time": "2022-02-07T09:59:38.520Z"
   },
   {
    "duration": 8,
    "start_time": "2022-02-07T09:59:38.537Z"
   },
   {
    "duration": 16,
    "start_time": "2022-02-07T09:59:38.547Z"
   },
   {
    "duration": 12,
    "start_time": "2022-02-07T09:59:38.565Z"
   },
   {
    "duration": 13,
    "start_time": "2022-02-07T09:59:38.578Z"
   },
   {
    "duration": 37,
    "start_time": "2022-02-07T09:59:38.593Z"
   },
   {
    "duration": 259,
    "start_time": "2022-02-07T09:59:38.634Z"
   },
   {
    "duration": 447,
    "start_time": "2022-02-07T09:59:38.896Z"
   },
   {
    "duration": 776,
    "start_time": "2022-02-07T09:59:39.345Z"
   },
   {
    "duration": 6,
    "start_time": "2022-02-07T09:59:40.123Z"
   },
   {
    "duration": 500,
    "start_time": "2022-02-07T09:59:40.131Z"
   },
   {
    "duration": 229,
    "start_time": "2022-02-07T09:59:40.633Z"
   },
   {
    "duration": 557,
    "start_time": "2022-02-07T09:59:40.864Z"
   },
   {
    "duration": 22,
    "start_time": "2022-02-07T09:59:41.423Z"
   },
   {
    "duration": 780,
    "start_time": "2022-02-07T09:59:41.446Z"
   },
   {
    "duration": 321,
    "start_time": "2022-02-07T09:59:42.228Z"
   },
   {
    "duration": 11,
    "start_time": "2022-02-07T09:59:42.551Z"
   },
   {
    "duration": 361,
    "start_time": "2022-02-07T09:59:42.564Z"
   },
   {
    "duration": 327,
    "start_time": "2022-02-07T09:59:42.927Z"
   },
   {
    "duration": 11,
    "start_time": "2022-02-07T09:59:43.256Z"
   },
   {
    "duration": 277,
    "start_time": "2022-02-07T09:59:43.269Z"
   },
   {
    "duration": 259,
    "start_time": "2022-02-07T09:59:43.548Z"
   },
   {
    "duration": 3,
    "start_time": "2022-02-07T09:59:43.809Z"
   },
   {
    "duration": 486,
    "start_time": "2022-02-07T09:59:43.819Z"
   },
   {
    "duration": 747,
    "start_time": "2022-02-07T09:59:44.307Z"
   },
   {
    "duration": 625,
    "start_time": "2022-02-07T09:59:45.056Z"
   },
   {
    "duration": 69,
    "start_time": "2022-02-07T09:59:45.683Z"
   },
   {
    "duration": 158,
    "start_time": "2022-02-07T09:59:45.596Z"
   },
   {
    "duration": 152,
    "start_time": "2022-02-07T09:59:45.603Z"
   },
   {
    "duration": 145,
    "start_time": "2022-02-07T09:59:45.611Z"
   },
   {
    "duration": 128,
    "start_time": "2022-02-07T09:59:45.629Z"
   },
   {
    "duration": 1314,
    "start_time": "2022-02-07T10:00:09.190Z"
   },
   {
    "duration": 42,
    "start_time": "2022-02-07T10:00:10.507Z"
   },
   {
    "duration": 18,
    "start_time": "2022-02-07T10:00:10.552Z"
   },
   {
    "duration": 31,
    "start_time": "2022-02-07T10:00:10.572Z"
   },
   {
    "duration": 26,
    "start_time": "2022-02-07T10:00:10.605Z"
   },
   {
    "duration": 20,
    "start_time": "2022-02-07T10:00:10.633Z"
   },
   {
    "duration": 55,
    "start_time": "2022-02-07T10:00:10.655Z"
   },
   {
    "duration": 19,
    "start_time": "2022-02-07T10:00:10.713Z"
   },
   {
    "duration": 28,
    "start_time": "2022-02-07T10:00:10.735Z"
   },
   {
    "duration": 60,
    "start_time": "2022-02-07T10:00:10.765Z"
   },
   {
    "duration": 23,
    "start_time": "2022-02-07T10:00:10.827Z"
   },
   {
    "duration": 46,
    "start_time": "2022-02-07T10:00:10.852Z"
   },
   {
    "duration": 6,
    "start_time": "2022-02-07T10:00:10.900Z"
   },
   {
    "duration": 44,
    "start_time": "2022-02-07T10:00:10.908Z"
   },
   {
    "duration": 28,
    "start_time": "2022-02-07T10:00:10.954Z"
   },
   {
    "duration": 12,
    "start_time": "2022-02-07T10:00:10.985Z"
   },
   {
    "duration": 20,
    "start_time": "2022-02-07T10:00:10.999Z"
   },
   {
    "duration": 28,
    "start_time": "2022-02-07T10:00:11.021Z"
   },
   {
    "duration": 18,
    "start_time": "2022-02-07T10:00:11.051Z"
   },
   {
    "duration": 11,
    "start_time": "2022-02-07T10:00:11.071Z"
   },
   {
    "duration": 12,
    "start_time": "2022-02-07T10:00:11.084Z"
   },
   {
    "duration": 34,
    "start_time": "2022-02-07T10:00:11.098Z"
   },
   {
    "duration": 281,
    "start_time": "2022-02-07T10:00:11.136Z"
   },
   {
    "duration": 358,
    "start_time": "2022-02-07T10:00:11.420Z"
   },
   {
    "duration": 828,
    "start_time": "2022-02-07T10:00:11.781Z"
   },
   {
    "duration": 12,
    "start_time": "2022-02-07T10:00:12.611Z"
   },
   {
    "duration": 510,
    "start_time": "2022-02-07T10:00:12.624Z"
   },
   {
    "duration": 228,
    "start_time": "2022-02-07T10:00:13.136Z"
   },
   {
    "duration": 669,
    "start_time": "2022-02-07T10:00:13.366Z"
   },
   {
    "duration": 34,
    "start_time": "2022-02-07T10:00:14.037Z"
   },
   {
    "duration": 1242,
    "start_time": "2022-02-07T10:00:14.073Z"
   },
   {
    "duration": 404,
    "start_time": "2022-02-07T10:00:15.318Z"
   },
   {
    "duration": 13,
    "start_time": "2022-02-07T10:00:15.724Z"
   },
   {
    "duration": 335,
    "start_time": "2022-02-07T10:00:15.739Z"
   },
   {
    "duration": 346,
    "start_time": "2022-02-07T10:00:16.076Z"
   },
   {
    "duration": 10,
    "start_time": "2022-02-07T10:00:16.423Z"
   },
   {
    "duration": 285,
    "start_time": "2022-02-07T10:00:16.435Z"
   },
   {
    "duration": 277,
    "start_time": "2022-02-07T10:00:16.722Z"
   },
   {
    "duration": 3,
    "start_time": "2022-02-07T10:00:17.001Z"
   },
   {
    "duration": 504,
    "start_time": "2022-02-07T10:00:17.006Z"
   },
   {
    "duration": 737,
    "start_time": "2022-02-07T10:00:17.511Z"
   },
   {
    "duration": 501,
    "start_time": "2022-02-07T10:00:18.250Z"
   },
   {
    "duration": 19,
    "start_time": "2022-02-07T10:00:18.753Z"
   },
   {
    "duration": 45,
    "start_time": "2022-02-07T10:00:18.774Z"
   },
   {
    "duration": 14,
    "start_time": "2022-02-07T10:00:18.821Z"
   },
   {
    "duration": 24,
    "start_time": "2022-02-07T10:00:18.837Z"
   }
  ],
  "kernelspec": {
   "display_name": "Python 3 (ipykernel)",
   "language": "python",
   "name": "python3"
  },
  "language_info": {
   "codemirror_mode": {
    "name": "ipython",
    "version": 3
   },
   "file_extension": ".py",
   "mimetype": "text/x-python",
   "name": "python",
   "nbconvert_exporter": "python",
   "pygments_lexer": "ipython3",
   "version": "3.8.10"
  },
  "toc": {
   "base_numbering": 1,
   "nav_menu": {},
   "number_sections": true,
   "sideBar": true,
   "skip_h1_title": true,
   "title_cell": "Table of Contents",
   "title_sidebar": "Contents",
   "toc_cell": false,
   "toc_position": {},
   "toc_section_display": true,
   "toc_window_display": false
  }
 },
 "nbformat": 4,
 "nbformat_minor": 2
}
