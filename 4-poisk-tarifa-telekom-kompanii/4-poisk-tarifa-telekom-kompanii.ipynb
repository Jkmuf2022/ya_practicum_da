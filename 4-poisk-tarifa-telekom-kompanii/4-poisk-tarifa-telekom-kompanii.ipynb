{
 "cells": [
  {
   "cell_type": "markdown",
   "metadata": {},
   "source": [
    "# Определение перспективного тарифа для телеком-компании"
   ]
  },
  {
   "cell_type": "markdown",
   "metadata": {},
   "source": [
    "**Описание проекта**\n",
    "\n",
    "Анализируем данные компании «Мегалайн» — федерального оператора сотовой связи. Клиентам предлагают два тарифных плана: Смарт и Ультра. Чтобы запланировать бюджет на рекламу, коммерческий департамент хочет понять, какой тариф приносит больше денег. Нам предстоит сделать предварительный анализ тарифов на небольшой выборке клиентов. В н  ашем распоряжении данные 500 пользователей «Мегалайна»: кто они, откуда, каким тарифом пользуются, сколько звонков и сообщений каждый отправил за 2018 год. Нужно проанализировать поведение клиентов и сделать вывод — какой тариф лучше.\n",
    "\n",
    "Описание тарифов\n",
    "\n",
    "**Тариф Смарт**</font></b>:\n",
    "\n",
    "Ежемесячная плата: 550 рублей\n",
    "Включено 500 минут разговора, 50 сообщений и 15 Гб интернет-трафика\n",
    "Стоимость услуг сверх тарифного пакета:\n",
    "минута разговора: 3 рубля\n",
    "сообщение: 3 рубля\n",
    "1 Гб интернет-трафика: 200 рублей  \n",
    "\n",
    "**Тариф Ультра**</font></b>:\n",
    "\n",
    "Ежемесячная плата: 1950 рублей\n",
    "Включено 3000 минут разговора, 1000 сообщений и 30 Гб интернет-трафика\n",
    "Стоимость услуг сверх тарифного пакета:\n",
    "минута разговора: 1 рубль\n",
    "сообщение: 1 рубль\n",
    "1 Гб интернет-трафика: 150 рублей  \n",
    "\n",
    "Обратите внимание: «Мегалайн» всегда округляет вверх значения минут и мегабайтов. Если пользователь проговорил всего 1 секунду, в тарифе засчитывается целая минута."
   ]
  },
  {
   "cell_type": "code",
   "execution_count": 1,
   "metadata": {},
   "outputs": [],
   "source": [
    "import pandas as pd\n",
    "import numpy as np\n",
    "from scipy import stats as st\n",
    "import matplotlib.pyplot as plt\n",
    "import seaborn as sns"
   ]
  },
  {
   "cell_type": "code",
   "execution_count": 2,
   "metadata": {},
   "outputs": [],
   "source": [
    "calls=pd.read_csv('/datasets/calls.csv')\n",
    "internet=pd.read_csv('/datasets/internet.csv')\n",
    "messages=pd.read_csv('/datasets/messages.csv')\n",
    "tariffs=pd.read_csv('/datasets/tariffs.csv')\n",
    "users=pd.read_csv('/datasets/users.csv')"
   ]
  },
  {
   "cell_type": "markdown",
   "metadata": {},
   "source": [
    "Таблица calls (информация о звонках):\n",
    "\n",
    "id — уникальный номер звонка  \n",
    "call_date — дата звонка  \n",
    "duration — длительность звонка в минутах  \n",
    "user_id — идентификатор пользователя, сделавшего звонок  \n",
    "\n",
    "4 столбца и 202607 строк. Пропущенных значений нет."
   ]
  },
  {
   "cell_type": "code",
   "execution_count": 3,
   "metadata": {},
   "outputs": [
    {
     "name": "stdout",
     "output_type": "stream",
     "text": [
      "<class 'pandas.core.frame.DataFrame'>\n",
      "RangeIndex: 202607 entries, 0 to 202606\n",
      "Data columns (total 4 columns):\n",
      "id           202607 non-null object\n",
      "call_date    202607 non-null object\n",
      "duration     202607 non-null float64\n",
      "user_id      202607 non-null int64\n",
      "dtypes: float64(1), int64(1), object(2)\n",
      "memory usage: 6.2+ MB\n"
     ]
    },
    {
     "data": {
      "text/html": [
       "<div>\n",
       "<style scoped>\n",
       "    .dataframe tbody tr th:only-of-type {\n",
       "        vertical-align: middle;\n",
       "    }\n",
       "\n",
       "    .dataframe tbody tr th {\n",
       "        vertical-align: top;\n",
       "    }\n",
       "\n",
       "    .dataframe thead th {\n",
       "        text-align: right;\n",
       "    }\n",
       "</style>\n",
       "<table border=\"1\" class=\"dataframe\">\n",
       "  <thead>\n",
       "    <tr style=\"text-align: right;\">\n",
       "      <th></th>\n",
       "      <th>id</th>\n",
       "      <th>call_date</th>\n",
       "      <th>duration</th>\n",
       "      <th>user_id</th>\n",
       "    </tr>\n",
       "  </thead>\n",
       "  <tbody>\n",
       "    <tr>\n",
       "      <td>0</td>\n",
       "      <td>1000_0</td>\n",
       "      <td>2018-07-25</td>\n",
       "      <td>0.00</td>\n",
       "      <td>1000</td>\n",
       "    </tr>\n",
       "    <tr>\n",
       "      <td>1</td>\n",
       "      <td>1000_1</td>\n",
       "      <td>2018-08-17</td>\n",
       "      <td>0.00</td>\n",
       "      <td>1000</td>\n",
       "    </tr>\n",
       "    <tr>\n",
       "      <td>2</td>\n",
       "      <td>1000_2</td>\n",
       "      <td>2018-06-11</td>\n",
       "      <td>2.85</td>\n",
       "      <td>1000</td>\n",
       "    </tr>\n",
       "    <tr>\n",
       "      <td>3</td>\n",
       "      <td>1000_3</td>\n",
       "      <td>2018-09-21</td>\n",
       "      <td>13.80</td>\n",
       "      <td>1000</td>\n",
       "    </tr>\n",
       "    <tr>\n",
       "      <td>4</td>\n",
       "      <td>1000_4</td>\n",
       "      <td>2018-12-15</td>\n",
       "      <td>5.18</td>\n",
       "      <td>1000</td>\n",
       "    </tr>\n",
       "  </tbody>\n",
       "</table>\n",
       "</div>"
      ],
      "text/plain": [
       "       id   call_date  duration  user_id\n",
       "0  1000_0  2018-07-25      0.00     1000\n",
       "1  1000_1  2018-08-17      0.00     1000\n",
       "2  1000_2  2018-06-11      2.85     1000\n",
       "3  1000_3  2018-09-21     13.80     1000\n",
       "4  1000_4  2018-12-15      5.18     1000"
      ]
     },
     "execution_count": 3,
     "metadata": {},
     "output_type": "execute_result"
    }
   ],
   "source": [
    "calls.info()\n",
    "calls.head()"
   ]
  },
  {
   "cell_type": "markdown",
   "metadata": {},
   "source": [
    "Таблица internet (информация об интернет-сессиях):\n",
    "\n",
    "id — уникальный номер сессии  \n",
    "mb_used — объём потраченного за сессию интернет-трафика (в мегабайтах)  \n",
    "session_date — дата интернет-сессии  \n",
    "user_id — идентификатор пользователя  \n",
    "\n",
    "4 столбца и 149396 строк. Пропущенных значений нет.  "
   ]
  },
  {
   "cell_type": "code",
   "execution_count": 4,
   "metadata": {},
   "outputs": [
    {
     "name": "stdout",
     "output_type": "stream",
     "text": [
      "<class 'pandas.core.frame.DataFrame'>\n",
      "RangeIndex: 149396 entries, 0 to 149395\n",
      "Data columns (total 5 columns):\n",
      "Unnamed: 0      149396 non-null int64\n",
      "id              149396 non-null object\n",
      "mb_used         149396 non-null float64\n",
      "session_date    149396 non-null object\n",
      "user_id         149396 non-null int64\n",
      "dtypes: float64(1), int64(2), object(2)\n",
      "memory usage: 5.7+ MB\n"
     ]
    },
    {
     "data": {
      "text/html": [
       "<div>\n",
       "<style scoped>\n",
       "    .dataframe tbody tr th:only-of-type {\n",
       "        vertical-align: middle;\n",
       "    }\n",
       "\n",
       "    .dataframe tbody tr th {\n",
       "        vertical-align: top;\n",
       "    }\n",
       "\n",
       "    .dataframe thead th {\n",
       "        text-align: right;\n",
       "    }\n",
       "</style>\n",
       "<table border=\"1\" class=\"dataframe\">\n",
       "  <thead>\n",
       "    <tr style=\"text-align: right;\">\n",
       "      <th></th>\n",
       "      <th>Unnamed: 0</th>\n",
       "      <th>id</th>\n",
       "      <th>mb_used</th>\n",
       "      <th>session_date</th>\n",
       "      <th>user_id</th>\n",
       "    </tr>\n",
       "  </thead>\n",
       "  <tbody>\n",
       "    <tr>\n",
       "      <td>0</td>\n",
       "      <td>0</td>\n",
       "      <td>1000_0</td>\n",
       "      <td>112.95</td>\n",
       "      <td>2018-11-25</td>\n",
       "      <td>1000</td>\n",
       "    </tr>\n",
       "    <tr>\n",
       "      <td>1</td>\n",
       "      <td>1</td>\n",
       "      <td>1000_1</td>\n",
       "      <td>1052.81</td>\n",
       "      <td>2018-09-07</td>\n",
       "      <td>1000</td>\n",
       "    </tr>\n",
       "    <tr>\n",
       "      <td>2</td>\n",
       "      <td>2</td>\n",
       "      <td>1000_2</td>\n",
       "      <td>1197.26</td>\n",
       "      <td>2018-06-25</td>\n",
       "      <td>1000</td>\n",
       "    </tr>\n",
       "    <tr>\n",
       "      <td>3</td>\n",
       "      <td>3</td>\n",
       "      <td>1000_3</td>\n",
       "      <td>550.27</td>\n",
       "      <td>2018-08-22</td>\n",
       "      <td>1000</td>\n",
       "    </tr>\n",
       "    <tr>\n",
       "      <td>4</td>\n",
       "      <td>4</td>\n",
       "      <td>1000_4</td>\n",
       "      <td>302.56</td>\n",
       "      <td>2018-09-24</td>\n",
       "      <td>1000</td>\n",
       "    </tr>\n",
       "  </tbody>\n",
       "</table>\n",
       "</div>"
      ],
      "text/plain": [
       "   Unnamed: 0      id  mb_used session_date  user_id\n",
       "0           0  1000_0   112.95   2018-11-25     1000\n",
       "1           1  1000_1  1052.81   2018-09-07     1000\n",
       "2           2  1000_2  1197.26   2018-06-25     1000\n",
       "3           3  1000_3   550.27   2018-08-22     1000\n",
       "4           4  1000_4   302.56   2018-09-24     1000"
      ]
     },
     "execution_count": 4,
     "metadata": {},
     "output_type": "execute_result"
    }
   ],
   "source": [
    "internet.info()\n",
    "internet.head()"
   ]
  },
  {
   "cell_type": "markdown",
   "metadata": {},
   "source": [
    "Таблица messages (информация о сообщениях):\n",
    "\n",
    "id — уникальный номер сообщения  \n",
    "message_date — дата сообщения   \n",
    "user_id — идентификатор пользователя, отправившего сообщение  \n",
    "\n",
    "3 столбца и 123036 строк. Пропущенных значений нет.  "
   ]
  },
  {
   "cell_type": "code",
   "execution_count": 5,
   "metadata": {},
   "outputs": [
    {
     "name": "stdout",
     "output_type": "stream",
     "text": [
      "<class 'pandas.core.frame.DataFrame'>\n",
      "RangeIndex: 123036 entries, 0 to 123035\n",
      "Data columns (total 3 columns):\n",
      "id              123036 non-null object\n",
      "message_date    123036 non-null object\n",
      "user_id         123036 non-null int64\n",
      "dtypes: int64(1), object(2)\n",
      "memory usage: 2.8+ MB\n"
     ]
    },
    {
     "data": {
      "text/html": [
       "<div>\n",
       "<style scoped>\n",
       "    .dataframe tbody tr th:only-of-type {\n",
       "        vertical-align: middle;\n",
       "    }\n",
       "\n",
       "    .dataframe tbody tr th {\n",
       "        vertical-align: top;\n",
       "    }\n",
       "\n",
       "    .dataframe thead th {\n",
       "        text-align: right;\n",
       "    }\n",
       "</style>\n",
       "<table border=\"1\" class=\"dataframe\">\n",
       "  <thead>\n",
       "    <tr style=\"text-align: right;\">\n",
       "      <th></th>\n",
       "      <th>id</th>\n",
       "      <th>message_date</th>\n",
       "      <th>user_id</th>\n",
       "    </tr>\n",
       "  </thead>\n",
       "  <tbody>\n",
       "    <tr>\n",
       "      <td>0</td>\n",
       "      <td>1000_0</td>\n",
       "      <td>2018-06-27</td>\n",
       "      <td>1000</td>\n",
       "    </tr>\n",
       "    <tr>\n",
       "      <td>1</td>\n",
       "      <td>1000_1</td>\n",
       "      <td>2018-10-08</td>\n",
       "      <td>1000</td>\n",
       "    </tr>\n",
       "    <tr>\n",
       "      <td>2</td>\n",
       "      <td>1000_2</td>\n",
       "      <td>2018-08-04</td>\n",
       "      <td>1000</td>\n",
       "    </tr>\n",
       "    <tr>\n",
       "      <td>3</td>\n",
       "      <td>1000_3</td>\n",
       "      <td>2018-06-16</td>\n",
       "      <td>1000</td>\n",
       "    </tr>\n",
       "    <tr>\n",
       "      <td>4</td>\n",
       "      <td>1000_4</td>\n",
       "      <td>2018-12-05</td>\n",
       "      <td>1000</td>\n",
       "    </tr>\n",
       "  </tbody>\n",
       "</table>\n",
       "</div>"
      ],
      "text/plain": [
       "       id message_date  user_id\n",
       "0  1000_0   2018-06-27     1000\n",
       "1  1000_1   2018-10-08     1000\n",
       "2  1000_2   2018-08-04     1000\n",
       "3  1000_3   2018-06-16     1000\n",
       "4  1000_4   2018-12-05     1000"
      ]
     },
     "execution_count": 5,
     "metadata": {},
     "output_type": "execute_result"
    }
   ],
   "source": [
    "messages.info()\n",
    "messages.head()"
   ]
  },
  {
   "cell_type": "markdown",
   "metadata": {},
   "source": [
    "Таблица tariffs (информация о тарифах):\n",
    "\n",
    "tariff_name — название тарифа  \n",
    "rub_monthly_fee — ежемесячная абонентская плата в рублях  \n",
    "minutes_included — количество минут разговора в месяц, включённых в абонентскую плату  \n",
    "messages_included — количество сообщений в месяц, включённых в абонентскую плату  \n",
    "mb_per_month_included — объём интернет-трафика, включённого в абонентскую плату (в мегабайтах)  \n",
    "rub_per_minute — стоимость минуты разговора сверх тарифного пакета (например, если в тарифе 100 минут разговора в месяц, то со 101 минуты будет взиматься плата)  \n",
    "rub_per_message — стоимость отправки сообщения сверх тарифного пакета  \n",
    "rub_per_gb — стоимость дополнительного гигабайта интернет-трафика сверх тарифного пакета (1 гигабайт = 1024 мегабайта)  \n",
    "\n",
    " 8 столбцов и 2 строк. Пропущенных значений нет.  "
   ]
  },
  {
   "cell_type": "code",
   "execution_count": 6,
   "metadata": {},
   "outputs": [
    {
     "name": "stdout",
     "output_type": "stream",
     "text": [
      "<class 'pandas.core.frame.DataFrame'>\n",
      "RangeIndex: 2 entries, 0 to 1\n",
      "Data columns (total 8 columns):\n",
      "messages_included        2 non-null int64\n",
      "mb_per_month_included    2 non-null int64\n",
      "minutes_included         2 non-null int64\n",
      "rub_monthly_fee          2 non-null int64\n",
      "rub_per_gb               2 non-null int64\n",
      "rub_per_message          2 non-null int64\n",
      "rub_per_minute           2 non-null int64\n",
      "tariff_name              2 non-null object\n",
      "dtypes: int64(7), object(1)\n",
      "memory usage: 256.0+ bytes\n"
     ]
    },
    {
     "data": {
      "text/html": [
       "<div>\n",
       "<style scoped>\n",
       "    .dataframe tbody tr th:only-of-type {\n",
       "        vertical-align: middle;\n",
       "    }\n",
       "\n",
       "    .dataframe tbody tr th {\n",
       "        vertical-align: top;\n",
       "    }\n",
       "\n",
       "    .dataframe thead th {\n",
       "        text-align: right;\n",
       "    }\n",
       "</style>\n",
       "<table border=\"1\" class=\"dataframe\">\n",
       "  <thead>\n",
       "    <tr style=\"text-align: right;\">\n",
       "      <th></th>\n",
       "      <th>messages_included</th>\n",
       "      <th>mb_per_month_included</th>\n",
       "      <th>minutes_included</th>\n",
       "      <th>rub_monthly_fee</th>\n",
       "      <th>rub_per_gb</th>\n",
       "      <th>rub_per_message</th>\n",
       "      <th>rub_per_minute</th>\n",
       "      <th>tariff_name</th>\n",
       "    </tr>\n",
       "  </thead>\n",
       "  <tbody>\n",
       "    <tr>\n",
       "      <td>0</td>\n",
       "      <td>50</td>\n",
       "      <td>15360</td>\n",
       "      <td>500</td>\n",
       "      <td>550</td>\n",
       "      <td>200</td>\n",
       "      <td>3</td>\n",
       "      <td>3</td>\n",
       "      <td>smart</td>\n",
       "    </tr>\n",
       "    <tr>\n",
       "      <td>1</td>\n",
       "      <td>1000</td>\n",
       "      <td>30720</td>\n",
       "      <td>3000</td>\n",
       "      <td>1950</td>\n",
       "      <td>150</td>\n",
       "      <td>1</td>\n",
       "      <td>1</td>\n",
       "      <td>ultra</td>\n",
       "    </tr>\n",
       "  </tbody>\n",
       "</table>\n",
       "</div>"
      ],
      "text/plain": [
       "   messages_included  mb_per_month_included  minutes_included  \\\n",
       "0                 50                  15360               500   \n",
       "1               1000                  30720              3000   \n",
       "\n",
       "   rub_monthly_fee  rub_per_gb  rub_per_message  rub_per_minute tariff_name  \n",
       "0              550         200                3               3       smart  \n",
       "1             1950         150                1               1       ultra  "
      ]
     },
     "execution_count": 6,
     "metadata": {},
     "output_type": "execute_result"
    }
   ],
   "source": [
    "tariffs.info()\n",
    "tariffs.head()"
   ]
  },
  {
   "cell_type": "markdown",
   "metadata": {},
   "source": [
    "Таблица users (информация о пользователях):  \n",
    "\n",
    "user_id — уникальный идентификатор пользователя  \n",
    "first_name — имя пользователя  \n",
    "last_name — фамилия пользователя  \n",
    "age — возраст пользователя (годы)  \n",
    "reg_date — дата подключения тарифа (день, месяц, год)  \n",
    "churn_date — дата прекращения пользования тарифом (если значение пропущено, то тариф ещё действовал на момент выгрузки данных)  \n",
    "city — город проживания пользователя  \n",
    "tariff — название тарифного плана  \n",
    "\n",
    " 8 столбцов и 500 строк. Пропущенные значения в столбце churn_date- 462 пропуска.Это столбец с датой прекращения пользования тарифом (если значение пропущено, то тариф ещё действовал на момент выгрузки данных)."
   ]
  },
  {
   "cell_type": "code",
   "execution_count": 7,
   "metadata": {},
   "outputs": [
    {
     "name": "stdout",
     "output_type": "stream",
     "text": [
      "<class 'pandas.core.frame.DataFrame'>\n",
      "RangeIndex: 500 entries, 0 to 499\n",
      "Data columns (total 8 columns):\n",
      "user_id       500 non-null int64\n",
      "age           500 non-null int64\n",
      "churn_date    38 non-null object\n",
      "city          500 non-null object\n",
      "first_name    500 non-null object\n",
      "last_name     500 non-null object\n",
      "reg_date      500 non-null object\n",
      "tariff        500 non-null object\n",
      "dtypes: int64(2), object(6)\n",
      "memory usage: 31.4+ KB\n"
     ]
    },
    {
     "data": {
      "text/html": [
       "<div>\n",
       "<style scoped>\n",
       "    .dataframe tbody tr th:only-of-type {\n",
       "        vertical-align: middle;\n",
       "    }\n",
       "\n",
       "    .dataframe tbody tr th {\n",
       "        vertical-align: top;\n",
       "    }\n",
       "\n",
       "    .dataframe thead th {\n",
       "        text-align: right;\n",
       "    }\n",
       "</style>\n",
       "<table border=\"1\" class=\"dataframe\">\n",
       "  <thead>\n",
       "    <tr style=\"text-align: right;\">\n",
       "      <th></th>\n",
       "      <th>user_id</th>\n",
       "      <th>age</th>\n",
       "      <th>churn_date</th>\n",
       "      <th>city</th>\n",
       "      <th>first_name</th>\n",
       "      <th>last_name</th>\n",
       "      <th>reg_date</th>\n",
       "      <th>tariff</th>\n",
       "    </tr>\n",
       "  </thead>\n",
       "  <tbody>\n",
       "    <tr>\n",
       "      <td>0</td>\n",
       "      <td>1000</td>\n",
       "      <td>52</td>\n",
       "      <td>NaN</td>\n",
       "      <td>Краснодар</td>\n",
       "      <td>Рафаил</td>\n",
       "      <td>Верещагин</td>\n",
       "      <td>2018-05-25</td>\n",
       "      <td>ultra</td>\n",
       "    </tr>\n",
       "    <tr>\n",
       "      <td>1</td>\n",
       "      <td>1001</td>\n",
       "      <td>41</td>\n",
       "      <td>NaN</td>\n",
       "      <td>Москва</td>\n",
       "      <td>Иван</td>\n",
       "      <td>Ежов</td>\n",
       "      <td>2018-11-01</td>\n",
       "      <td>smart</td>\n",
       "    </tr>\n",
       "    <tr>\n",
       "      <td>2</td>\n",
       "      <td>1002</td>\n",
       "      <td>59</td>\n",
       "      <td>NaN</td>\n",
       "      <td>Стерлитамак</td>\n",
       "      <td>Евгений</td>\n",
       "      <td>Абрамович</td>\n",
       "      <td>2018-06-17</td>\n",
       "      <td>smart</td>\n",
       "    </tr>\n",
       "    <tr>\n",
       "      <td>3</td>\n",
       "      <td>1003</td>\n",
       "      <td>23</td>\n",
       "      <td>NaN</td>\n",
       "      <td>Москва</td>\n",
       "      <td>Белла</td>\n",
       "      <td>Белякова</td>\n",
       "      <td>2018-08-17</td>\n",
       "      <td>ultra</td>\n",
       "    </tr>\n",
       "    <tr>\n",
       "      <td>4</td>\n",
       "      <td>1004</td>\n",
       "      <td>68</td>\n",
       "      <td>NaN</td>\n",
       "      <td>Новокузнецк</td>\n",
       "      <td>Татьяна</td>\n",
       "      <td>Авдеенко</td>\n",
       "      <td>2018-05-14</td>\n",
       "      <td>ultra</td>\n",
       "    </tr>\n",
       "  </tbody>\n",
       "</table>\n",
       "</div>"
      ],
      "text/plain": [
       "   user_id  age churn_date         city first_name  last_name    reg_date  \\\n",
       "0     1000   52        NaN    Краснодар     Рафаил  Верещагин  2018-05-25   \n",
       "1     1001   41        NaN       Москва       Иван       Ежов  2018-11-01   \n",
       "2     1002   59        NaN  Стерлитамак    Евгений  Абрамович  2018-06-17   \n",
       "3     1003   23        NaN       Москва      Белла   Белякова  2018-08-17   \n",
       "4     1004   68        NaN  Новокузнецк    Татьяна   Авдеенко  2018-05-14   \n",
       "\n",
       "  tariff  \n",
       "0  ultra  \n",
       "1  smart  \n",
       "2  smart  \n",
       "3  ultra  \n",
       "4  ultra  "
      ]
     },
     "execution_count": 7,
     "metadata": {},
     "output_type": "execute_result"
    }
   ],
   "source": [
    "users.info()\n",
    "users.head()"
   ]
  },
  {
   "cell_type": "markdown",
   "metadata": {},
   "source": [
    "Общий вывод по данным:\n",
    "Есть некоторые проблемы. Нужно кое-где поменять типы данных. Вещественный тип в звонках, потреблении интернета и кл-ве смс перевести в целочисленный. Присутствуют пропуски в churn_date. Есть смысл их просто поменять на 0(значит смены оператора не было). В соответствии требованиями оператора округлить длительность звонка и потребление интернета до целого большего."
   ]
  },
  {
   "cell_type": "markdown",
   "metadata": {},
   "source": [
    "# Предобработка данных"
   ]
  },
  {
   "cell_type": "code",
   "execution_count": 8,
   "metadata": {},
   "outputs": [],
   "source": [
    "def fix_datetime(df, columns):\n",
    "    for column in columns:\n",
    "        df[column] = pd.to_datetime(df[column], format='%Y-%m-%d')\n",
    "        \n",
    "fix_datetime(calls, ['call_date'])\n",
    "fix_datetime(users, ['reg_date', 'churn_date'])\n",
    "fix_datetime(messages, ['message_date'])\n",
    "fix_datetime(internet, ['session_date'])"
   ]
  },
  {
   "cell_type": "markdown",
   "metadata": {},
   "source": [
    "Меняем значение столбцов на datetime"
   ]
  },
  {
   "cell_type": "code",
   "execution_count": 9,
   "metadata": {},
   "outputs": [
    {
     "data": {
      "image/png": "[encoded data removed]",
      "text/plain": [
       "<Figure size 432x288 with 1 Axes>"
      ]
     },
     "metadata": {
      "needs_background": "light"
     },
     "output_type": "display_data"
    }
   ],
   "source": [
    "calls['duration'] = calls['duration'].apply(np.ceil).astype('int64')\n",
    "calls['duration'].where(calls['duration'] > 0, 1, inplace=True)\n",
    "\n",
    "calls['duration'].plot(x='duration', bins=30, style='o-',kind='hist')\n",
    "plt.title('Длительность звонков')\n",
    "plt.xlabel('Звонки')\n",
    "plt.ylabel('Количество')\n",
    "plt.legend()\n",
    "\n",
    "plt.show()\n",
    "# строю гистограмму всех звонков"
   ]
  },
  {
   "cell_type": "markdown",
   "metadata": {},
   "source": [
    "Большe всего звонков в районе 2-х, а также 7 и 5 минут."
   ]
  },
  {
   "cell_type": "code",
   "execution_count": 10,
   "metadata": {},
   "outputs": [
    {
     "data": {
      "text/html": [
       "<div>\n",
       "<style scoped>\n",
       "    .dataframe tbody tr th:only-of-type {\n",
       "        vertical-align: middle;\n",
       "    }\n",
       "\n",
       "    .dataframe tbody tr th {\n",
       "        vertical-align: top;\n",
       "    }\n",
       "\n",
       "    .dataframe thead th {\n",
       "        text-align: right;\n",
       "    }\n",
       "</style>\n",
       "<table border=\"1\" class=\"dataframe\">\n",
       "  <thead>\n",
       "    <tr style=\"text-align: right;\">\n",
       "      <th></th>\n",
       "      <th>Unnamed: 0</th>\n",
       "      <th>id</th>\n",
       "      <th>mb_used</th>\n",
       "      <th>session_date</th>\n",
       "      <th>user_id</th>\n",
       "    </tr>\n",
       "  </thead>\n",
       "  <tbody>\n",
       "    <tr>\n",
       "      <td>0</td>\n",
       "      <td>0</td>\n",
       "      <td>1000_0</td>\n",
       "      <td>112</td>\n",
       "      <td>2018-11-25</td>\n",
       "      <td>1000</td>\n",
       "    </tr>\n",
       "    <tr>\n",
       "      <td>1</td>\n",
       "      <td>1</td>\n",
       "      <td>1000_1</td>\n",
       "      <td>1052</td>\n",
       "      <td>2018-09-07</td>\n",
       "      <td>1000</td>\n",
       "    </tr>\n",
       "    <tr>\n",
       "      <td>2</td>\n",
       "      <td>2</td>\n",
       "      <td>1000_2</td>\n",
       "      <td>1197</td>\n",
       "      <td>2018-06-25</td>\n",
       "      <td>1000</td>\n",
       "    </tr>\n",
       "    <tr>\n",
       "      <td>3</td>\n",
       "      <td>3</td>\n",
       "      <td>1000_3</td>\n",
       "      <td>550</td>\n",
       "      <td>2018-08-22</td>\n",
       "      <td>1000</td>\n",
       "    </tr>\n",
       "    <tr>\n",
       "      <td>4</td>\n",
       "      <td>4</td>\n",
       "      <td>1000_4</td>\n",
       "      <td>302</td>\n",
       "      <td>2018-09-24</td>\n",
       "      <td>1000</td>\n",
       "    </tr>\n",
       "  </tbody>\n",
       "</table>\n",
       "</div>"
      ],
      "text/plain": [
       "   Unnamed: 0      id  mb_used session_date  user_id\n",
       "0           0  1000_0      112   2018-11-25     1000\n",
       "1           1  1000_1     1052   2018-09-07     1000\n",
       "2           2  1000_2     1197   2018-06-25     1000\n",
       "3           3  1000_3      550   2018-08-22     1000\n",
       "4           4  1000_4      302   2018-09-24     1000"
      ]
     },
     "execution_count": 10,
     "metadata": {},
     "output_type": "execute_result"
    }
   ],
   "source": [
    "internet['mb_used'] = internet['mb_used'].astype('int64')\n",
    "internet.head()"
   ]
  },
  {
   "cell_type": "code",
   "execution_count": 11,
   "metadata": {},
   "outputs": [
    {
     "data": {
      "text/html": [
       "<div>\n",
       "<style scoped>\n",
       "    .dataframe tbody tr th:only-of-type {\n",
       "        vertical-align: middle;\n",
       "    }\n",
       "\n",
       "    .dataframe tbody tr th {\n",
       "        vertical-align: top;\n",
       "    }\n",
       "\n",
       "    .dataframe thead th {\n",
       "        text-align: right;\n",
       "    }\n",
       "</style>\n",
       "<table border=\"1\" class=\"dataframe\">\n",
       "  <thead>\n",
       "    <tr style=\"text-align: right;\">\n",
       "      <th></th>\n",
       "      <th>messages_included</th>\n",
       "      <th>mb_per_month_included</th>\n",
       "      <th>minutes_included</th>\n",
       "      <th>rub_monthly_fee</th>\n",
       "      <th>rub_per_gb</th>\n",
       "      <th>rub_per_message</th>\n",
       "      <th>rub_per_minute</th>\n",
       "      <th>tariff</th>\n",
       "    </tr>\n",
       "  </thead>\n",
       "  <tbody>\n",
       "    <tr>\n",
       "      <td>0</td>\n",
       "      <td>50</td>\n",
       "      <td>15360</td>\n",
       "      <td>500</td>\n",
       "      <td>550</td>\n",
       "      <td>200</td>\n",
       "      <td>3</td>\n",
       "      <td>3</td>\n",
       "      <td>smart</td>\n",
       "    </tr>\n",
       "    <tr>\n",
       "      <td>1</td>\n",
       "      <td>1000</td>\n",
       "      <td>30720</td>\n",
       "      <td>3000</td>\n",
       "      <td>1950</td>\n",
       "      <td>150</td>\n",
       "      <td>1</td>\n",
       "      <td>1</td>\n",
       "      <td>ultra</td>\n",
       "    </tr>\n",
       "  </tbody>\n",
       "</table>\n",
       "</div>"
      ],
      "text/plain": [
       "   messages_included  mb_per_month_included  minutes_included  \\\n",
       "0                 50                  15360               500   \n",
       "1               1000                  30720              3000   \n",
       "\n",
       "   rub_monthly_fee  rub_per_gb  rub_per_message  rub_per_minute tariff  \n",
       "0              550         200                3               3  smart  \n",
       "1             1950         150                1               1  ultra  "
      ]
     },
     "execution_count": 11,
     "metadata": {},
     "output_type": "execute_result"
    }
   ],
   "source": [
    "tariffs = tariffs.rename(columns={'tariff_name': 'tariff'})\n",
    "tariffs"
   ]
  },
  {
   "cell_type": "code",
   "execution_count": 12,
   "metadata": {},
   "outputs": [],
   "source": [
    "calls['month'] = pd.DatetimeIndex(calls['call_date']).month"
   ]
  },
  {
   "cell_type": "markdown",
   "metadata": {},
   "source": [
    "Создаём сводную таблицу для каждого абонента по месяцам"
   ]
  },
  {
   "cell_type": "code",
   "execution_count": 13,
   "metadata": {},
   "outputs": [],
   "source": [
    "calls_by_month = calls.pivot_table(index=['month','user_id'],\n",
    "                             values='duration',\n",
    "                             aggfunc=['count', 'sum'])"
   ]
  },
  {
   "cell_type": "markdown",
   "metadata": {},
   "source": [
    "Временная таблица для  представления массива записанных записей."
   ]
  },
  {
   "cell_type": "code",
   "execution_count": 14,
   "metadata": {},
   "outputs": [],
   "source": [
    "temp_df = pd.DataFrame(calls_by_month.to_records())"
   ]
  },
  {
   "cell_type": "markdown",
   "metadata": {},
   "source": [
    "# Данные по месяцам."
   ]
  },
  {
   "cell_type": "code",
   "execution_count": 15,
   "metadata": {},
   "outputs": [],
   "source": [
    "monthly_revenue = pd.DataFrame()"
   ]
  },
  {
   "cell_type": "code",
   "execution_count": 16,
   "metadata": {},
   "outputs": [],
   "source": [
    "monthly_revenue['user_id'] = temp_df['user_id']\n",
    "monthly_revenue['month']   = temp_df['month']\n",
    "monthly_revenue['calls']   = temp_df.iloc[:, 2]\n",
    "monthly_revenue['minutes'] = temp_df.iloc[:, 3]"
   ]
  },
  {
   "cell_type": "code",
   "execution_count": 17,
   "metadata": {},
   "outputs": [],
   "source": [
    "messages['month'] = messages['message_date'].dt.month\n",
    "messages_by_month = messages.pivot_table(\n",
    "    index=['month', 'user_id'],\n",
    "    values='id',\n",
    "    aggfunc='count')\n",
    "temp_df = pd.DataFrame(messages_by_month.to_records()).rename(columns={'id': 'messages'})\n",
    "monthly_revenue = monthly_revenue.merge(temp_df, on=['user_id', 'month'], how='outer')"
   ]
  },
  {
   "cell_type": "code",
   "execution_count": 18,
   "metadata": {},
   "outputs": [
    {
     "name": "stdout",
     "output_type": "stream",
     "text": [
      "<class 'pandas.core.frame.DataFrame'>\n",
      "Int64Index: 3214 entries, 0 to 3213\n",
      "Data columns (total 6 columns):\n",
      "user_id     3214 non-null int64\n",
      "month       3214 non-null int64\n",
      "calls       3174 non-null float64\n",
      "minutes     3174 non-null float64\n",
      "messages    2717 non-null float64\n",
      "mb_used     3203 non-null float64\n",
      "dtypes: float64(4), int64(2)\n",
      "memory usage: 175.8 KB\n"
     ]
    }
   ],
   "source": [
    "internet['month'] = internet['session_date'].dt.month\n",
    "internet_by_month = internet.pivot_table(index=['month', 'user_id'],\n",
    "                                         values='mb_used',\n",
    "                                         aggfunc='sum')\n",
    "temp_df = pd.DataFrame(internet_by_month.to_records())\n",
    "monthly_revenue = monthly_revenue.merge(temp_df, on=['user_id', 'month'], how='outer')\n",
    "monthly_revenue\n",
    "monthly_revenue.info()"
   ]
  },
  {
   "cell_type": "markdown",
   "metadata": {},
   "source": [
    "Объединяем звонки и сообщения."
   ]
  },
  {
   "cell_type": "code",
   "execution_count": 19,
   "metadata": {},
   "outputs": [
    {
     "name": "stdout",
     "output_type": "stream",
     "text": [
      "<class 'pandas.core.frame.DataFrame'>\n",
      "Int64Index: 3214 entries, 0 to 3213\n",
      "Data columns (total 17 columns):\n",
      "user_id                  3214 non-null int64\n",
      "month                    3214 non-null int64\n",
      "calls                    3214 non-null int64\n",
      "minutes                  3214 non-null int64\n",
      "messages                 3214 non-null int64\n",
      "mb_used                  3203 non-null float64\n",
      "churn_date               187 non-null datetime64[ns]\n",
      "city                     3214 non-null object\n",
      "reg_date                 3214 non-null datetime64[ns]\n",
      "tariff                   3214 non-null object\n",
      "messages_included        3214 non-null int64\n",
      "mb_per_month_included    3214 non-null int64\n",
      "minutes_included         3214 non-null int64\n",
      "rub_monthly_fee          3214 non-null int64\n",
      "rub_per_gb               3214 non-null int64\n",
      "rub_per_message          3214 non-null int64\n",
      "rub_per_minute           3214 non-null int64\n",
      "dtypes: datetime64[ns](2), float64(1), int64(12), object(2)\n",
      "memory usage: 452.0+ KB\n"
     ]
    }
   ],
   "source": [
    "fix_columns = ['calls', 'minutes', 'messages']\n",
    "\n",
    "for column in fix_columns:\n",
    "    monthly_revenue[column] = monthly_revenue[column].fillna(0).astype('int64')\n",
    "    \n",
    "#Рассчитаем помесячную выручку с каждого абонента\n",
    "\n",
    "monthly_revenue = monthly_revenue.merge(users, on='user_id', how='left').merge(tariffs, on='tariff', how='left')\n",
    "monthly_revenue = monthly_revenue.drop(['first_name', 'last_name', 'age'], axis='columns')\n",
    "monthly_revenue.info()"
   ]
  },
  {
   "cell_type": "markdown",
   "metadata": {},
   "source": [
    "Объединяем таблицу звонки-сообщения-интернет и информация о пользователях."
   ]
  },
  {
   "cell_type": "code",
   "execution_count": 20,
   "metadata": {},
   "outputs": [],
   "source": [
    "monthly_revenue['minutes_extra']  = monthly_revenue['minutes'] - monthly_revenue['minutes_included']\n",
    "monthly_revenue['messages_extra'] = monthly_revenue['messages'] - monthly_revenue['messages_included']\n",
    "monthly_revenue['mb_used_extra']  = monthly_revenue['mb_used'] - monthly_revenue['mb_per_month_included']"
   ]
  },
  {
   "cell_type": "code",
   "execution_count": 21,
   "metadata": {},
   "outputs": [],
   "source": [
    "#internet['gb_used'] = internet['gb_used'].apply(np.ceil)\n",
    "\n",
    "\n",
    "def count_monthly_revenue(row):\n",
    "    price_minutes= 0\n",
    "    price_messages = 0\n",
    "    price_mb = 0\n",
    "    \n",
    "    if row['minutes_extra'] > 0:\n",
    "        minutes_price = row['minutes_extra'] * row['rub_per_minute']\n",
    "        \n",
    "    if row['messages_extra'] > 0:\n",
    "        messages_price = row['messages_extra'] * row['rub_per_message']\n",
    "        \n",
    "    if row['mb_used_extra'] > 0:\n",
    "        price_mb = np.ceil(row['mb_used_extra'] / 1024) * row['rub_per_gb']\n",
    "        \n",
    "    return price_minutes + price_messages + price_mb"
   ]
  },
  {
   "cell_type": "code",
   "execution_count": 22,
   "metadata": {},
   "outputs": [],
   "source": [
    "monthly_revenue['rub_monthly_fee_extra'] = monthly_revenue.apply(count_monthly_revenue, axis=1)\n",
    "monthly_revenue['rub_monthly_fee_total'] = monthly_revenue['rub_monthly_fee'] + monthly_revenue['rub_monthly_fee_extra']"
   ]
  },
  {
   "cell_type": "markdown",
   "metadata": {},
   "source": [
    "Найдем количество минут, сообщений и интернет-трафика пользователей каждого тарифа в месяц"
   ]
  },
  {
   "cell_type": "code",
   "execution_count": 23,
   "metadata": {},
   "outputs": [
    {
     "data": {
      "text/plain": [
       "<matplotlib.axes._subplots.AxesSubplot at 0x7fe8d9f86390>"
      ]
     },
     "execution_count": 23,
     "metadata": {},
     "output_type": "execute_result"
    },
    {
     "data": {
      "image/png": "[encoded data removed]",
      "text/plain": [
       "<Figure size 1080x360 with 1 Axes>"
      ]
     },
     "metadata": {
      "needs_background": "light"
     },
     "output_type": "display_data"
    }
   ],
   "source": [
    "tariff_ultra=(monthly_revenue\n",
    "     .query('tariff==\"ultra\"')\n",
    "     .pivot_table(index=['tariff', 'month'],values=['minutes', 'messages', 'mb_used', 'rub_monthly_fee_extra', 'rub_monthly_fee_total'],aggfunc=('sum'))\n",
    "     .plot(y='mb_used',grid=True,figsize=(15,5), style='o-',kind='bar',label='Ультра')\n",
    ")\n",
    "\n",
    "plt.xlabel('Месяц')\n",
    "plt.ylabel('Количество')\n",
    "plt.legend()\n",
    "tariff_ultra"
   ]
  },
  {
   "cell_type": "code",
   "execution_count": 24,
   "metadata": {},
   "outputs": [
    {
     "data": {
      "text/plain": [
       "<matplotlib.axes._subplots.AxesSubplot at 0x7fe8d89bbf90>"
      ]
     },
     "execution_count": 24,
     "metadata": {},
     "output_type": "execute_result"
    },
    {
     "data": {
      "image/png": "[encoded data removed]",
      "text/plain": [
       "<Figure size 1080x360 with 1 Axes>"
      ]
     },
     "metadata": {
      "needs_background": "light"
     },
     "output_type": "display_data"
    }
   ],
   "source": [
    "tariff_smart=(monthly_revenue\n",
    "     .query('tariff==\"smart\"')\n",
    "     .pivot_table(index=['tariff', 'month'],values=['minutes', 'messages', 'mb_used', 'rub_monthly_fee_extra', 'rub_monthly_fee_total'],aggfunc=('sum'))\n",
    "     .plot(y='mb_used', grid=True,figsize=(15,5),style='o-',kind='bar',label='Смарт')\n",
    ")\n",
    "\n",
    "plt.xlabel('Месяц')\n",
    "plt.ylabel('Количество')\n",
    "plt.legend()\n",
    "tariff_smart"
   ]
  },
  {
   "cell_type": "markdown",
   "metadata": {},
   "source": [
    "Предварительно абоненты с тарифом Смарт тратят больше на дополнительные минуты/сообщения/трафик. Посмотрим по каждом параметру сравнения более детально."
   ]
  },
  {
   "cell_type": "markdown",
   "metadata": {},
   "source": [
    "# Посчитаем среднее количество, дисперсию и стандартное отклонение"
   ]
  },
  {
   "cell_type": "code",
   "execution_count": 25,
   "metadata": {},
   "outputs": [],
   "source": [
    "tariff_smart = monthly_revenue.query(\"tariff == 'smart'\")\n",
    "tariff_ultra = monthly_revenue.query(\"tariff == 'ultra'\")"
   ]
  },
  {
   "cell_type": "code",
   "execution_count": 26,
   "metadata": {},
   "outputs": [
    {
     "data": {
      "text/plain": [
       "2229"
      ]
     },
     "execution_count": 26,
     "metadata": {},
     "output_type": "execute_result"
    }
   ],
   "source": [
    "len(tariff_smart)"
   ]
  },
  {
   "cell_type": "code",
   "execution_count": 27,
   "metadata": {},
   "outputs": [
    {
     "data": {
      "text/plain": [
       "985"
      ]
     },
     "execution_count": 27,
     "metadata": {},
     "output_type": "execute_result"
    }
   ],
   "source": [
    "len(tariff_ultra)"
   ]
  },
  {
   "cell_type": "markdown",
   "metadata": {},
   "source": [
    "Выручка от пользователей с тарифом Смарт больше почти в два раза.\n",
    "\n",
    "Посмотрим характеристики разброса методом describe()"
   ]
  },
  {
   "cell_type": "code",
   "execution_count": 28,
   "metadata": {},
   "outputs": [
    {
     "data": {
      "text/plain": [
       "count    2229.000000\n",
       "mean      429.450875\n",
       "std       194.871174\n",
       "min         0.000000\n",
       "25%       291.000000\n",
       "50%       435.000000\n",
       "75%       560.000000\n",
       "max      1471.000000\n",
       "Name: minutes, dtype: float64"
      ]
     },
     "execution_count": 28,
     "metadata": {},
     "output_type": "execute_result"
    }
   ],
   "source": [
    "tariff_smart['minutes'].describe()"
   ]
  },
  {
   "cell_type": "code",
   "execution_count": 29,
   "metadata": {},
   "outputs": [
    {
     "data": {
      "text/plain": [
       "count     985.000000\n",
       "mean      540.779695\n",
       "std       325.738740\n",
       "min         0.000000\n",
       "25%       292.000000\n",
       "50%       532.000000\n",
       "75%       773.000000\n",
       "max      1727.000000\n",
       "Name: minutes, dtype: float64"
      ]
     },
     "execution_count": 29,
     "metadata": {},
     "output_type": "execute_result"
    }
   ],
   "source": [
    "tariff_ultra['minutes'].describe()"
   ]
  },
  {
   "cell_type": "code",
   "execution_count": 30,
   "metadata": {},
   "outputs": [
    {
     "data": {
      "text/plain": [
       "<matplotlib.legend.Legend at 0x7fe8d88694d0>"
      ]
     },
     "execution_count": 30,
     "metadata": {},
     "output_type": "execute_result"
    },
    {
     "data": {
      "image/png": "[encoded data removed]",
      "text/plain": [
       "<Figure size 576x432 with 1 Axes>"
      ]
     },
     "metadata": {
      "needs_background": "light"
     },
     "output_type": "display_data"
    }
   ],
   "source": [
    "ax=tariff_ultra.plot(y='minutes', bins = 30,figsize=(8,6), kind='hist', label='Тариф \"Ультра\"')\n",
    "tariff_smart.plot(y='minutes', bins = 30, figsize=(8,6), kind='hist', label='Тариф \"Смарт\"', alpha=0.5, ax=ax)\n",
    "ax.set_title('Сравнение тарифов по количеству минут')\n",
    "ax.set_xlabel('Количество') \n",
    "ax.set_ylabel('Минуты')\n",
    "ax.legend()"
   ]
  },
  {
   "cell_type": "markdown",
   "metadata": {},
   "source": [
    "График количества минут разговора по месяцам и обоим тарифам. Смарт также лидирует."
   ]
  },
  {
   "cell_type": "code",
   "execution_count": 31,
   "metadata": {},
   "outputs": [
    {
     "data": {
      "text/plain": [
       "37957.737941136875"
      ]
     },
     "metadata": {},
     "output_type": "display_data"
    },
    {
     "data": {
      "text/plain": [
       "105998.00527300368"
      ]
     },
     "metadata": {},
     "output_type": "display_data"
    }
   ],
   "source": [
    "var_smart_minutes = np.var(tariff_smart['minutes'])\n",
    "display(var_smart_minutes)\n",
    "\n",
    "var_ultra_minutes = np.var(tariff_ultra['minutes'])\n",
    "display(var_ultra_minutes)"
   ]
  },
  {
   "cell_type": "code",
   "execution_count": 32,
   "metadata": {},
   "outputs": [
    {
     "data": {
      "text/plain": [
       "count    2229.000000\n",
       "mean       33.384029\n",
       "std        28.227876\n",
       "min         0.000000\n",
       "25%        10.000000\n",
       "50%        28.000000\n",
       "75%        51.000000\n",
       "max       143.000000\n",
       "Name: messages, dtype: float64"
      ]
     },
     "execution_count": 32,
     "metadata": {},
     "output_type": "execute_result"
    }
   ],
   "source": [
    "tariff_smart['messages'].describe()"
   ]
  },
  {
   "cell_type": "code",
   "execution_count": 33,
   "metadata": {},
   "outputs": [
    {
     "data": {
      "text/plain": [
       "count    985.000000\n",
       "mean      49.363452\n",
       "std       47.804457\n",
       "min        0.000000\n",
       "25%        6.000000\n",
       "50%       38.000000\n",
       "75%       79.000000\n",
       "max      224.000000\n",
       "Name: messages, dtype: float64"
      ]
     },
     "execution_count": 33,
     "metadata": {},
     "output_type": "execute_result"
    }
   ],
   "source": [
    "tariff_ultra['messages'].describe()"
   ]
  },
  {
   "cell_type": "code",
   "execution_count": 34,
   "metadata": {},
   "outputs": [
    {
     "data": {
      "text/plain": [
       "<matplotlib.legend.Legend at 0x7fe8d87f4910>"
      ]
     },
     "execution_count": 34,
     "metadata": {},
     "output_type": "execute_result"
    },
    {
     "data": {
      "image/png": "[encoded data removed]",
      "text/plain": [
       "<Figure size 576x432 with 1 Axes>"
      ]
     },
     "metadata": {
      "needs_background": "light"
     },
     "output_type": "display_data"
    }
   ],
   "source": [
    "ax=tariff_ultra.plot(y='messages', bins = 30, figsize=(8,6), kind='hist', label='Тариф Ультра')\n",
    "tariff_smart.plot(y='messages', bins = 30, figsize=(8,6), kind='hist', label='Тариф Смарт', alpha=0.5, ax=ax)\n",
    "ax.set_title('Сравнение потраченных сообщений в разных тарифах')\n",
    "ax.set_xlabel('Количество') \n",
    "ax.set_ylabel('Сообщения')\n",
    "ax.legend()"
   ]
  },
  {
   "cell_type": "markdown",
   "metadata": {},
   "source": [
    "График количества сообщений. В целом ситуация такая же, но тариф Ультра немного стабильнее по количеству сообщений, а абоненты Смарта явно их докупают."
   ]
  },
  {
   "cell_type": "code",
   "execution_count": 35,
   "metadata": {},
   "outputs": [
    {
     "data": {
      "text/plain": [
       "796.455482917076"
      ]
     },
     "metadata": {},
     "output_type": "display_data"
    },
    {
     "data": {
      "text/plain": [
       "2282.9460753948824"
      ]
     },
     "metadata": {},
     "output_type": "display_data"
    }
   ],
   "source": [
    "var_smart_messages = np.var(tariff_smart['messages'])\n",
    "display(var_smart_messages)\n",
    "\n",
    "var_ultra_messages = np.var(tariff_ultra['messages'])\n",
    "display(var_ultra_messages)"
   ]
  },
  {
   "cell_type": "code",
   "execution_count": 36,
   "metadata": {},
   "outputs": [
    {
     "data": {
      "text/plain": [
       "count     2228.000000\n",
       "mean     16194.844255\n",
       "std       5854.702028\n",
       "min          0.000000\n",
       "25%      12630.250000\n",
       "50%      16487.500000\n",
       "75%      20017.250000\n",
       "max      38510.000000\n",
       "Name: mb_used, dtype: float64"
      ]
     },
     "execution_count": 36,
     "metadata": {},
     "output_type": "execute_result"
    }
   ],
   "source": [
    "tariff_smart['mb_used'].describe()"
   ]
  },
  {
   "cell_type": "code",
   "execution_count": 37,
   "metadata": {},
   "outputs": [
    {
     "data": {
      "text/plain": [
       "count      975.000000\n",
       "mean     19650.137436\n",
       "std       9934.019669\n",
       "min          0.000000\n",
       "25%      11998.000000\n",
       "50%      19377.000000\n",
       "75%      26871.500000\n",
       "max      49701.000000\n",
       "Name: mb_used, dtype: float64"
      ]
     },
     "execution_count": 37,
     "metadata": {},
     "output_type": "execute_result"
    }
   ],
   "source": [
    "tariff_ultra['mb_used'].describe()"
   ]
  },
  {
   "cell_type": "code",
   "execution_count": 38,
   "metadata": {},
   "outputs": [
    {
     "data": {
      "text/plain": [
       "<matplotlib.legend.Legend at 0x7fe8d7ea0590>"
      ]
     },
     "execution_count": 38,
     "metadata": {},
     "output_type": "execute_result"
    },
    {
     "data": {
      "image/png": "[encoded data removed]",
      "text/plain": [
       "<Figure size 576x432 with 1 Axes>"
      ]
     },
     "metadata": {
      "needs_background": "light"
     },
     "output_type": "display_data"
    }
   ],
   "source": [
    "ax=tariff_ultra.plot(y='mb_used', bins = 30,figsize=(8,6), kind='hist', label='Тариф \"Ультра\"')\n",
    "tariff_smart.plot(y='mb_used', bins = 30, figsize=(8,6), kind='hist', label='Тариф \"Смарт\"', alpha=0.5, ax=ax)\n",
    "ax.set_title('Сравнение потраченного интернет-трафика в разных тарифах')\n",
    "ax.set_xlabel('Количество трафика') \n",
    "ax.set_ylabel('Мегабайты')\n",
    "ax.legend()"
   ]
  },
  {
   "cell_type": "markdown",
   "metadata": {},
   "source": [
    "График количества потраченного интернета по месяцам и тарифам, Смарт впереди."
   ]
  },
  {
   "cell_type": "code",
   "execution_count": 39,
   "metadata": {},
   "outputs": [
    {
     "data": {
      "text/plain": [
       "34262150.942081"
      ]
     },
     "metadata": {},
     "output_type": "display_data"
    },
    {
     "data": {
      "text/plain": [
       "98583531.66316265"
      ]
     },
     "metadata": {},
     "output_type": "display_data"
    }
   ],
   "source": [
    "var_smart_mb_used = np.var(tariff_smart['mb_used'])\n",
    "display(var_smart_mb_used)\n",
    "\n",
    "var_ultra_mb_used = np.var(tariff_ultra['mb_used'])\n",
    "display(var_ultra_mb_used)"
   ]
  },
  {
   "cell_type": "markdown",
   "metadata": {},
   "source": [
    "Абоненты тарифа Смарт выгоднее для компании, так как им не хватает входящего пакета услуг. Они чаще переплачивают за дополнительные минуты и интернет-трафик. Также абоненты тарифа Смарт мало пользуются сообщениями.\n",
    "Абоненты тарифа Ультра, наоборот,не тратят до конца выделенные 3000 минут и 1000 сообщений."
   ]
  },
  {
   "cell_type": "markdown",
   "metadata": {},
   "source": [
    "## Проверим гипотезы"
   ]
  },
  {
   "cell_type": "markdown",
   "metadata": {},
   "source": [
    "Средняя выручка пользователей тарифов «Ультра» и «Смарт» различается. Это утверждение возьмём за нулевую гипотезу."
   ]
  },
  {
   "cell_type": "code",
   "execution_count": 40,
   "metadata": {},
   "outputs": [
    {
     "data": {
      "text/plain": [
       "1144.3472409152087"
      ]
     },
     "execution_count": 40,
     "metadata": {},
     "output_type": "execute_result"
    }
   ],
   "source": [
    "tariff_smart['rub_monthly_fee_total'].mean()"
   ]
  },
  {
   "cell_type": "code",
   "execution_count": 41,
   "metadata": {},
   "outputs": [
    {
     "data": {
      "text/plain": [
       "2069.543147208122"
      ]
     },
     "execution_count": 41,
     "metadata": {},
     "output_type": "execute_result"
    }
   ],
   "source": [
    "tariff_ultra['rub_monthly_fee_total'].mean()"
   ]
  },
  {
   "cell_type": "markdown",
   "metadata": {},
   "source": [
    "Нулевая гипотеза: Средняя выручка пользователей тарифов «Ультра» и «Смарт» различается.\n",
    "\n",
    "Альтернативная гипотеза: Средняя выручка пользователей тарифов «Ультра» и «Смарт» не различается"
   ]
  },
  {
   "cell_type": "code",
   "execution_count": 42,
   "metadata": {},
   "outputs": [
    {
     "name": "stdout",
     "output_type": "stream",
     "text": [
      "p-значение: 7.951782431600798e-255\n",
      "Не получилось отвергнуть нулевую гипотезу\n"
     ]
    }
   ],
   "source": [
    "alpha = .01\n",
    "\n",
    "results = st.ttest_ind(\n",
    "    tariff_smart['rub_monthly_fee_total'], \n",
    "    tariff_ultra['rub_monthly_fee_total'])\n",
    "\n",
    "print('p-значение:', results.pvalue)\n",
    "\n",
    "if (results.pvalue < alpha):\n",
    "    print('Не получилось отвергнуть нулевую гипотезу')\n",
    "else:\n",
    "    print('Отвергаем нулевую гипотезу')"
   ]
  },
  {
   "cell_type": "markdown",
   "metadata": {},
   "source": [
    "p-значение: 1.725353702885943e-294\n",
    "\n",
    "Результат говорит о том, что средняя выручка от тарифов различаются"
   ]
  },
  {
   "cell_type": "markdown",
   "metadata": {},
   "source": [
    "# Средняя выручка пользователей из Москвы и других регионов"
   ]
  },
  {
   "cell_type": "code",
   "execution_count": 43,
   "metadata": {},
   "outputs": [
    {
     "data": {
      "text/html": [
       "<div>\n",
       "<style scoped>\n",
       "    .dataframe tbody tr th:only-of-type {\n",
       "        vertical-align: middle;\n",
       "    }\n",
       "\n",
       "    .dataframe tbody tr th {\n",
       "        vertical-align: top;\n",
       "    }\n",
       "\n",
       "    .dataframe thead th {\n",
       "        text-align: right;\n",
       "    }\n",
       "</style>\n",
       "<table border=\"1\" class=\"dataframe\">\n",
       "  <thead>\n",
       "    <tr style=\"text-align: right;\">\n",
       "      <th></th>\n",
       "      <th>mb_used</th>\n",
       "      <th>messages</th>\n",
       "      <th>minutes</th>\n",
       "      <th>rub_monthly_fee_extra</th>\n",
       "      <th>rub_monthly_fee_total</th>\n",
       "    </tr>\n",
       "    <tr>\n",
       "      <th>city</th>\n",
       "      <th></th>\n",
       "      <th></th>\n",
       "      <th></th>\n",
       "      <th></th>\n",
       "      <th></th>\n",
       "    </tr>\n",
       "  </thead>\n",
       "  <tbody>\n",
       "    <tr>\n",
       "      <td>Другой регион</td>\n",
       "      <td>15715.795789</td>\n",
       "      <td>35.268458</td>\n",
       "      <td>424.594742</td>\n",
       "      <td>390.542318</td>\n",
       "      <td>1337.082365</td>\n",
       "    </tr>\n",
       "    <tr>\n",
       "      <td>Москва</td>\n",
       "      <td>17558.490200</td>\n",
       "      <td>33.944639</td>\n",
       "      <td>455.792652</td>\n",
       "      <td>352.508664</td>\n",
       "      <td>1447.473934</td>\n",
       "    </tr>\n",
       "  </tbody>\n",
       "</table>\n",
       "</div>"
      ],
      "text/plain": [
       "                    mb_used   messages     minutes  rub_monthly_fee_extra  \\\n",
       "city                                                                        \n",
       "Другой регион  15715.795789  35.268458  424.594742             390.542318   \n",
       "Москва         17558.490200  33.944639  455.792652             352.508664   \n",
       "\n",
       "               rub_monthly_fee_total  \n",
       "city                                  \n",
       "Другой регион            1337.082365  \n",
       "Москва                   1447.473934  "
      ]
     },
     "execution_count": 43,
     "metadata": {},
     "output_type": "execute_result"
    }
   ],
   "source": [
    "moscow_price = monthly_revenue['city'] == 'Москва'\n",
    "monthly_revenue['city'].where(moscow_price, 'Другой регион', inplace=True)\n",
    "city_monthly_price = monthly_revenue.pivot_table(\n",
    "    index = ['city', 'month'],\n",
    "    values = ['minutes', 'messages', 'mb_used', 'rub_monthly_fee_extra', 'rub_monthly_fee_total'])\n",
    "city_using = city_monthly_price.pivot_table(\n",
    "    index = 'city', \n",
    "    values = ['minutes', 'messages', 'mb_used', 'rub_monthly_fee_extra', 'rub_monthly_fee_total'])\n",
    "city_using"
   ]
  },
  {
   "cell_type": "markdown",
   "metadata": {},
   "source": [
    "Вывод\n",
    "\n",
    "В Москве абоненты потребляют больше интернет-трафика\\ минут разговора, а вот сообщений у регионов побольше. Скорее всего это связано с большей плотностью населения, чем в регионах.\n",
    "В других регионах тратят больше денег на дополнительные пакеты услуг."
   ]
  },
  {
   "cell_type": "code",
   "execution_count": 44,
   "metadata": {},
   "outputs": [
    {
     "data": {
      "text/plain": [
       "1462.1931260229132"
      ]
     },
     "metadata": {},
     "output_type": "display_data"
    },
    {
     "data": {
      "text/plain": [
       "1419.842489435267"
      ]
     },
     "metadata": {},
     "output_type": "display_data"
    }
   ],
   "source": [
    "display(monthly_revenue.query(\"city == 'Москва'\")['rub_monthly_fee_total'].mean())\n",
    "\n",
    "display(monthly_revenue.query(\"city == 'Другой регион'\")['rub_monthly_fee_total'].mean())"
   ]
  },
  {
   "cell_type": "markdown",
   "metadata": {},
   "source": [
    "Нулевая гипотеза(утверждение по условию проекта): Средняя выручка пользователей из Москвы не отличается от выручки пользователей из других регионов\n",
    "Альтернативная гипотеза: Средняя выручка пользователей из Москвы отличается от выручки пользователей из других регионов"
   ]
  },
  {
   "cell_type": "code",
   "execution_count": 45,
   "metadata": {},
   "outputs": [
    {
     "name": "stdout",
     "output_type": "stream",
     "text": [
      "p-значение: 0.22363257822604238\n",
      "Не получилось отвергнуть нулевую гипотезу\n"
     ]
    }
   ],
   "source": [
    "moscow_revenue = monthly_revenue.query(\"city == 'Москва'\")['rub_monthly_fee_total']\n",
    "other_cities_revenue = monthly_revenue.query(\"city == 'Другой регион'\")['rub_monthly_fee_total']\n",
    "\n",
    "alpha = .05\n",
    "\n",
    "results = st.ttest_ind(moscow_revenue, other_cities_revenue)\n",
    "\n",
    "print('p-значение:', results.pvalue)\n",
    "\n",
    "if (results.pvalue < alpha):\n",
    "    print(\"Отвергаем нулевую гипотезу\")\n",
    "else:\n",
    "    print(\"Не получилось отвергнуть нулевую гипотезу\")"
   ]
  },
  {
   "cell_type": "markdown",
   "metadata": {},
   "source": [
    "p-значение: (0.186928363764759)0.22363257822604238\n",
    "Не получилось отвергнуть нулевую гипотезу\n",
    "Полученное p-значение говорит: если предположим, что выручки различаются, мы ошибемся в 22% случаев, довольно приличная цифра."
   ]
  },
  {
   "cell_type": "markdown",
   "metadata": {},
   "source": [
    "# Общий вывод"
   ]
  },
  {
   "cell_type": "markdown",
   "metadata": {},
   "source": [
    "Абоненты с тарифом Смарт тратят больше на дополнительные минуты/сообщения/трафик, поэтому в итоге получается более прибыльным для Мегалайна.\n",
    "\n",
    "Тариф Ультра больше гарантирует стабильную выручку телефоной компании, так как абоненты тратят больше денег по предоплате, но зато редко выходят за рамки количества приобретенных минут/сообщений/интернет-трафика.\n",
    "\n",
    "\n",
    "В Москве абоненты потребляют больше интернет-трафика. Возможно связано с тем, что в городе больше точек с интернетом.\n",
    "В других регионах тратят больше денег на дополнительные пакеты услуг.\n",
    "\n",
    "Средняя выручка в Москве отличается от выручки пользователей из других регионов."
   ]
  }
 ],
 "metadata": {
  "ExecuteTimeLog": [
   {
    "duration": 1144,
    "start_time": "2022-01-14T21:22:09.988Z"
   },
   {
    "duration": 417,
    "start_time": "2022-01-14T21:22:11.134Z"
   },
   {
    "duration": 29,
    "start_time": "2022-01-14T21:22:11.553Z"
   },
   {
    "duration": 22,
    "start_time": "2022-01-14T21:22:11.584Z"
   },
   {
    "duration": 17,
    "start_time": "2022-01-14T21:22:11.608Z"
   },
   {
    "duration": 10,
    "start_time": "2022-01-14T21:22:11.627Z"
   },
   {
    "duration": 13,
    "start_time": "2022-01-14T21:22:11.638Z"
   },
   {
    "duration": 312,
    "start_time": "2022-01-15T16:44:05.212Z"
   },
   {
    "duration": 1528,
    "start_time": "2022-01-15T16:44:19.922Z"
   },
   {
    "duration": 532,
    "start_time": "2022-01-15T16:44:21.453Z"
   },
   {
    "duration": 40,
    "start_time": "2022-01-15T16:44:21.988Z"
   },
   {
    "duration": 45,
    "start_time": "2022-01-15T16:44:22.031Z"
   },
   {
    "duration": 27,
    "start_time": "2022-01-15T16:44:22.079Z"
   },
   {
    "duration": 57,
    "start_time": "2022-01-15T16:44:22.108Z"
   },
   {
    "duration": 28,
    "start_time": "2022-01-15T16:44:22.168Z"
   },
   {
    "duration": 116,
    "start_time": "2022-01-15T16:44:22.200Z"
   },
   {
    "duration": 393,
    "start_time": "2022-01-15T16:44:22.318Z"
   },
   {
    "duration": 842,
    "start_time": "2022-01-15T16:44:21.872Z"
   },
   {
    "duration": 806,
    "start_time": "2022-01-15T16:44:21.910Z"
   },
   {
    "duration": 799,
    "start_time": "2022-01-15T16:44:21.918Z"
   },
   {
    "duration": 790,
    "start_time": "2022-01-15T16:44:21.929Z"
   },
   {
    "duration": 778,
    "start_time": "2022-01-15T16:44:21.942Z"
   },
   {
    "duration": 275,
    "start_time": "2022-01-15T16:44:24.581Z"
   },
   {
    "duration": 62,
    "start_time": "2022-01-15T16:45:07.675Z"
   },
   {
    "duration": 820,
    "start_time": "2022-01-15T16:45:47.879Z"
   },
   {
    "duration": 257,
    "start_time": "2022-01-15T16:45:51.237Z"
   },
   {
    "duration": 45,
    "start_time": "2022-01-15T16:45:54.243Z"
   },
   {
    "duration": 837,
    "start_time": "2022-01-15T16:45:55.016Z"
   },
   {
    "duration": 273,
    "start_time": "2022-01-15T16:45:56.558Z"
   },
   {
    "duration": 26,
    "start_time": "2022-01-15T16:46:09.472Z"
   },
   {
    "duration": 25,
    "start_time": "2022-01-15T16:46:38.864Z"
   },
   {
    "duration": 25,
    "start_time": "2022-01-15T16:47:12.431Z"
   },
   {
    "duration": 23,
    "start_time": "2022-01-15T16:47:14.706Z"
   },
   {
    "duration": 26,
    "start_time": "2022-01-15T16:47:15.697Z"
   },
   {
    "duration": 90,
    "start_time": "2022-01-15T16:47:35.832Z"
   },
   {
    "duration": 832,
    "start_time": "2022-01-15T16:47:44.157Z"
   },
   {
    "duration": 271,
    "start_time": "2022-01-15T16:47:45.872Z"
   },
   {
    "duration": 273,
    "start_time": "2022-01-15T16:47:58.447Z"
   },
   {
    "duration": 314,
    "start_time": "2022-01-15T16:48:34.289Z"
   },
   {
    "duration": 252,
    "start_time": "2022-01-15T16:48:36.566Z"
   },
   {
    "duration": 366,
    "start_time": "2022-01-15T16:48:40.689Z"
   },
   {
    "duration": 253,
    "start_time": "2022-01-15T16:48:42.652Z"
   },
   {
    "duration": 23,
    "start_time": "2022-01-15T16:48:49.796Z"
   },
   {
    "duration": 33,
    "start_time": "2022-01-15T16:50:44.679Z"
   },
   {
    "duration": 53,
    "start_time": "2022-01-15T16:50:54.341Z"
   },
   {
    "duration": 78,
    "start_time": "2022-01-15T16:51:41.505Z"
   },
   {
    "duration": 45,
    "start_time": "2022-01-15T16:52:05.468Z"
   },
   {
    "duration": 45,
    "start_time": "2022-01-15T16:52:07.362Z"
   },
   {
    "duration": 45,
    "start_time": "2022-01-15T16:52:19.218Z"
   },
   {
    "duration": 48,
    "start_time": "2022-01-15T16:52:19.397Z"
   },
   {
    "duration": 48,
    "start_time": "2022-01-15T16:52:20.629Z"
   },
   {
    "duration": 48,
    "start_time": "2022-01-15T16:52:20.767Z"
   },
   {
    "duration": 49,
    "start_time": "2022-01-15T16:52:21.871Z"
   },
   {
    "duration": 49,
    "start_time": "2022-01-15T16:52:23.758Z"
   },
   {
    "duration": 47,
    "start_time": "2022-01-15T16:52:23.912Z"
   },
   {
    "duration": 46,
    "start_time": "2022-01-15T16:52:46.668Z"
   },
   {
    "duration": 52,
    "start_time": "2022-01-15T16:53:28.388Z"
   },
   {
    "duration": 29,
    "start_time": "2022-01-15T16:53:42.073Z"
   },
   {
    "duration": 79,
    "start_time": "2022-01-15T16:54:26.139Z"
   },
   {
    "duration": 348,
    "start_time": "2022-01-15T19:45:15.955Z"
   },
   {
    "duration": 294,
    "start_time": "2022-01-15T19:45:29.282Z"
   },
   {
    "duration": 294,
    "start_time": "2022-01-15T19:45:30.539Z"
   },
   {
    "duration": 295,
    "start_time": "2022-01-15T19:45:40.992Z"
   },
   {
    "duration": 1432,
    "start_time": "2022-01-15T19:45:50.464Z"
   },
   {
    "duration": 525,
    "start_time": "2022-01-15T19:45:51.899Z"
   },
   {
    "duration": 42,
    "start_time": "2022-01-15T19:45:52.427Z"
   },
   {
    "duration": 47,
    "start_time": "2022-01-15T19:45:52.472Z"
   },
   {
    "duration": 25,
    "start_time": "2022-01-15T19:45:52.522Z"
   },
   {
    "duration": 16,
    "start_time": "2022-01-15T19:45:52.550Z"
   },
   {
    "duration": 62,
    "start_time": "2022-01-15T19:45:52.569Z"
   },
   {
    "duration": 94,
    "start_time": "2022-01-15T19:45:52.635Z"
   },
   {
    "duration": 28,
    "start_time": "2022-01-15T19:45:52.731Z"
   },
   {
    "duration": 97,
    "start_time": "2022-01-15T19:45:52.762Z"
   },
   {
    "duration": 81,
    "start_time": "2022-01-15T19:45:52.861Z"
   },
   {
    "duration": 10,
    "start_time": "2022-01-15T19:45:52.944Z"
   },
   {
    "duration": 21,
    "start_time": "2022-01-15T19:45:52.956Z"
   },
   {
    "duration": 37,
    "start_time": "2022-01-15T19:46:10.848Z"
   },
   {
    "duration": 37,
    "start_time": "2022-01-15T19:46:13.727Z"
   },
   {
    "duration": 37,
    "start_time": "2022-01-15T19:46:14.774Z"
   },
   {
    "duration": 36,
    "start_time": "2022-01-15T19:46:16.633Z"
   },
   {
    "duration": 22,
    "start_time": "2022-01-15T19:46:18.991Z"
   },
   {
    "duration": 458,
    "start_time": "2022-01-15T19:47:52.226Z"
   },
   {
    "duration": 19,
    "start_time": "2022-01-15T19:48:05.355Z"
   },
   {
    "duration": 18,
    "start_time": "2022-01-15T19:48:23.828Z"
   },
   {
    "duration": 98,
    "start_time": "2022-01-15T19:53:58.941Z"
   },
   {
    "duration": 12,
    "start_time": "2022-01-15T19:54:08.674Z"
   },
   {
    "duration": 50,
    "start_time": "2022-01-15T19:57:30.340Z"
   },
   {
    "duration": 365,
    "start_time": "2022-01-15T19:59:01.284Z"
   },
   {
    "duration": 357,
    "start_time": "2022-01-15T19:59:03.709Z"
   },
   {
    "duration": 405,
    "start_time": "2022-01-15T19:59:19.665Z"
   },
   {
    "duration": 394,
    "start_time": "2022-01-15T19:59:39.387Z"
   },
   {
    "duration": 495,
    "start_time": "2022-01-15T19:59:48.291Z"
   },
   {
    "duration": 531,
    "start_time": "2022-01-15T20:00:00.325Z"
   },
   {
    "duration": 389,
    "start_time": "2022-01-15T20:00:17.311Z"
   },
   {
    "duration": 387,
    "start_time": "2022-01-15T20:00:35.822Z"
   },
   {
    "duration": 381,
    "start_time": "2022-01-15T20:00:59.422Z"
   },
   {
    "duration": 28,
    "start_time": "2022-01-15T20:28:11.410Z"
   },
   {
    "duration": 43,
    "start_time": "2022-01-15T20:29:01.413Z"
   },
   {
    "duration": 1770,
    "start_time": "2022-01-15T20:29:16.575Z"
   },
   {
    "duration": 46,
    "start_time": "2022-01-15T20:29:32.019Z"
   },
   {
    "duration": 38,
    "start_time": "2022-01-15T20:29:56.846Z"
   },
   {
    "duration": 286,
    "start_time": "2022-01-15T21:15:16.384Z"
   },
   {
    "duration": 295,
    "start_time": "2022-01-15T21:15:23.191Z"
   },
   {
    "duration": 312,
    "start_time": "2022-01-15T21:15:59.560Z"
   },
   {
    "duration": 15,
    "start_time": "2022-01-15T21:17:12.740Z"
   },
   {
    "duration": 15,
    "start_time": "2022-01-15T21:17:14.185Z"
   },
   {
    "duration": 14,
    "start_time": "2022-01-15T21:17:16.135Z"
   },
   {
    "duration": 25,
    "start_time": "2022-01-15T21:17:38.003Z"
   },
   {
    "duration": 25,
    "start_time": "2022-01-15T21:17:39.200Z"
   },
   {
    "duration": 30,
    "start_time": "2022-01-15T21:18:38.393Z"
   },
   {
    "duration": 38,
    "start_time": "2022-01-15T21:18:39.692Z"
   },
   {
    "duration": 8,
    "start_time": "2022-01-15T21:51:28.389Z"
   },
   {
    "duration": 764,
    "start_time": "2022-01-15T21:52:16.147Z"
   },
   {
    "duration": 9128,
    "start_time": "2022-01-15T21:52:18.043Z"
   },
   {
    "duration": 786,
    "start_time": "2022-01-15T21:52:26.388Z"
   },
   {
    "duration": 1657,
    "start_time": "2022-01-15T22:01:18.911Z"
   },
   {
    "duration": 548,
    "start_time": "2022-01-15T22:01:20.571Z"
   },
   {
    "duration": 45,
    "start_time": "2022-01-15T22:01:21.123Z"
   },
   {
    "duration": 58,
    "start_time": "2022-01-15T22:01:21.171Z"
   },
   {
    "duration": 26,
    "start_time": "2022-01-15T22:01:21.233Z"
   },
   {
    "duration": 17,
    "start_time": "2022-01-15T22:01:21.261Z"
   },
   {
    "duration": 56,
    "start_time": "2022-01-15T22:01:21.280Z"
   },
   {
    "duration": 45,
    "start_time": "2022-01-15T22:01:21.340Z"
   },
   {
    "duration": 54,
    "start_time": "2022-01-15T22:01:21.388Z"
   },
   {
    "duration": 81,
    "start_time": "2022-01-15T22:01:21.445Z"
   },
   {
    "duration": 46,
    "start_time": "2022-01-15T22:01:21.529Z"
   },
   {
    "duration": 41,
    "start_time": "2022-01-15T22:01:21.578Z"
   },
   {
    "duration": 19,
    "start_time": "2022-01-15T22:01:21.622Z"
   },
   {
    "duration": 468,
    "start_time": "2022-01-15T22:01:21.643Z"
   },
   {
    "duration": 55,
    "start_time": "2022-01-15T22:01:22.116Z"
   },
   {
    "duration": 91,
    "start_time": "2022-01-15T22:01:22.173Z"
   },
   {
    "duration": 15,
    "start_time": "2022-01-15T22:01:22.266Z"
   },
   {
    "duration": 45,
    "start_time": "2022-01-15T22:01:22.283Z"
   },
   {
    "duration": 7,
    "start_time": "2022-01-15T22:01:22.331Z"
   },
   {
    "duration": 793,
    "start_time": "2022-01-15T22:01:30.395Z"
   },
   {
    "duration": 792,
    "start_time": "2022-01-15T22:01:30.399Z"
   },
   {
    "duration": 8584,
    "start_time": "2022-01-15T22:01:33.024Z"
   },
   {
    "duration": 318,
    "start_time": "2022-01-15T22:05:36.227Z"
   },
   {
    "duration": 288,
    "start_time": "2022-01-15T22:29:16.832Z"
   },
   {
    "duration": 331,
    "start_time": "2022-01-15T22:42:08.175Z"
   },
   {
    "duration": 15,
    "start_time": "2022-01-15T22:42:14.338Z"
   },
   {
    "duration": 15,
    "start_time": "2022-01-15T22:42:15.218Z"
   },
   {
    "duration": 1565,
    "start_time": "2022-01-15T22:42:23.333Z"
   },
   {
    "duration": 530,
    "start_time": "2022-01-15T22:42:24.900Z"
   },
   {
    "duration": 40,
    "start_time": "2022-01-15T22:42:25.433Z"
   },
   {
    "duration": 43,
    "start_time": "2022-01-15T22:42:25.476Z"
   },
   {
    "duration": 25,
    "start_time": "2022-01-15T22:42:25.521Z"
   },
   {
    "duration": 17,
    "start_time": "2022-01-15T22:42:25.548Z"
   },
   {
    "duration": 58,
    "start_time": "2022-01-15T22:42:25.567Z"
   },
   {
    "duration": 43,
    "start_time": "2022-01-15T22:42:25.628Z"
   },
   {
    "duration": 49,
    "start_time": "2022-01-15T22:42:25.673Z"
   },
   {
    "duration": 60,
    "start_time": "2022-01-15T22:42:25.725Z"
   },
   {
    "duration": 63,
    "start_time": "2022-01-15T22:42:25.787Z"
   },
   {
    "duration": 10,
    "start_time": "2022-01-15T22:42:25.853Z"
   },
   {
    "duration": 52,
    "start_time": "2022-01-15T22:42:25.866Z"
   },
   {
    "duration": 444,
    "start_time": "2022-01-15T22:42:25.921Z"
   },
   {
    "duration": 68,
    "start_time": "2022-01-15T22:42:26.367Z"
   },
   {
    "duration": 66,
    "start_time": "2022-01-15T22:42:26.437Z"
   },
   {
    "duration": 14,
    "start_time": "2022-01-15T22:42:26.517Z"
   },
   {
    "duration": 439,
    "start_time": "2022-01-15T22:42:26.533Z"
   },
   {
    "duration": 822,
    "start_time": "2022-01-15T22:42:26.152Z"
   },
   {
    "duration": 94,
    "start_time": "2022-01-15T22:42:38.949Z"
   },
   {
    "duration": 2884,
    "start_time": "2022-01-15T22:48:23.433Z"
   },
   {
    "duration": 2998,
    "start_time": "2022-01-15T22:49:31.721Z"
   },
   {
    "duration": 27129,
    "start_time": "2022-01-15T22:50:59.500Z"
   },
   {
    "duration": 372,
    "start_time": "2022-01-16T07:35:47.558Z"
   },
   {
    "duration": 326,
    "start_time": "2022-01-16T07:35:49.638Z"
   },
   {
    "duration": 1533,
    "start_time": "2022-01-16T07:35:57.930Z"
   },
   {
    "duration": 539,
    "start_time": "2022-01-16T07:35:59.466Z"
   },
   {
    "duration": 38,
    "start_time": "2022-01-16T07:36:00.008Z"
   },
   {
    "duration": 33,
    "start_time": "2022-01-16T07:36:00.049Z"
   },
   {
    "duration": 26,
    "start_time": "2022-01-16T07:36:00.084Z"
   },
   {
    "duration": 16,
    "start_time": "2022-01-16T07:36:00.113Z"
   },
   {
    "duration": 22,
    "start_time": "2022-01-16T07:36:00.164Z"
   },
   {
    "duration": 75,
    "start_time": "2022-01-16T07:36:00.188Z"
   },
   {
    "duration": 28,
    "start_time": "2022-01-16T07:36:00.267Z"
   },
   {
    "duration": 80,
    "start_time": "2022-01-16T07:36:00.298Z"
   },
   {
    "duration": 44,
    "start_time": "2022-01-16T07:36:00.380Z"
   },
   {
    "duration": 37,
    "start_time": "2022-01-16T07:36:00.426Z"
   },
   {
    "duration": 21,
    "start_time": "2022-01-16T07:36:00.465Z"
   },
   {
    "duration": 481,
    "start_time": "2022-01-16T07:36:00.488Z"
   },
   {
    "duration": 57,
    "start_time": "2022-01-16T07:36:00.972Z"
   },
   {
    "duration": 87,
    "start_time": "2022-01-16T07:36:01.032Z"
   },
   {
    "duration": 2,
    "start_time": "2022-01-16T07:36:01.122Z"
   },
   {
    "duration": 445,
    "start_time": "2022-01-16T07:36:01.126Z"
   },
   {
    "duration": 71,
    "start_time": "2022-01-16T07:36:01.503Z"
   },
   {
    "duration": 250,
    "start_time": "2022-01-16T07:36:19.947Z"
   },
   {
    "duration": 354,
    "start_time": "2022-01-16T07:36:21.380Z"
   },
   {
    "duration": 275,
    "start_time": "2022-01-16T07:36:24.664Z"
   },
   {
    "duration": 251,
    "start_time": "2022-01-16T07:36:25.835Z"
   },
   {
    "duration": 3100,
    "start_time": "2022-01-16T07:36:54.410Z"
   },
   {
    "duration": 1438,
    "start_time": "2022-01-16T07:37:09.599Z"
   },
   {
    "duration": 595,
    "start_time": "2022-01-16T07:37:11.039Z"
   },
   {
    "duration": 40,
    "start_time": "2022-01-16T07:37:11.637Z"
   },
   {
    "duration": 31,
    "start_time": "2022-01-16T07:37:11.680Z"
   },
   {
    "duration": 51,
    "start_time": "2022-01-16T07:37:11.714Z"
   },
   {
    "duration": 16,
    "start_time": "2022-01-16T07:37:11.768Z"
   },
   {
    "duration": 20,
    "start_time": "2022-01-16T07:37:11.786Z"
   },
   {
    "duration": 81,
    "start_time": "2022-01-16T07:37:11.810Z"
   },
   {
    "duration": 28,
    "start_time": "2022-01-16T07:37:11.894Z"
   },
   {
    "duration": 81,
    "start_time": "2022-01-16T07:37:11.924Z"
   },
   {
    "duration": 57,
    "start_time": "2022-01-16T07:37:12.007Z"
   },
   {
    "duration": 11,
    "start_time": "2022-01-16T07:37:12.066Z"
   },
   {
    "duration": 40,
    "start_time": "2022-01-16T07:37:12.079Z"
   },
   {
    "duration": 463,
    "start_time": "2022-01-16T07:37:12.122Z"
   },
   {
    "duration": 54,
    "start_time": "2022-01-16T07:37:12.588Z"
   },
   {
    "duration": 85,
    "start_time": "2022-01-16T07:37:12.645Z"
   },
   {
    "duration": 2860,
    "start_time": "2022-01-16T07:37:12.733Z"
   },
   {
    "duration": 379,
    "start_time": "2022-01-16T07:37:49.390Z"
   },
   {
    "duration": 252,
    "start_time": "2022-01-16T07:37:49.527Z"
   },
   {
    "duration": 246,
    "start_time": "2022-01-16T07:37:49.534Z"
   },
   {
    "duration": 3086,
    "start_time": "2022-01-16T08:09:39.010Z"
   },
   {
    "duration": 11738,
    "start_time": "2022-01-16T08:10:19.219Z"
   },
   {
    "duration": 3045,
    "start_time": "2022-01-16T08:13:31.789Z"
   },
   {
    "duration": 6270,
    "start_time": "2022-01-16T08:13:53.763Z"
   },
   {
    "duration": 10,
    "start_time": "2022-01-16T08:14:40.992Z"
   },
   {
    "duration": 1444,
    "start_time": "2022-01-16T08:14:49.306Z"
   },
   {
    "duration": 532,
    "start_time": "2022-01-16T08:14:50.753Z"
   },
   {
    "duration": 41,
    "start_time": "2022-01-16T08:14:51.288Z"
   },
   {
    "duration": 40,
    "start_time": "2022-01-16T08:14:51.332Z"
   },
   {
    "duration": 26,
    "start_time": "2022-01-16T08:14:51.375Z"
   },
   {
    "duration": 17,
    "start_time": "2022-01-16T08:14:51.404Z"
   },
   {
    "duration": 54,
    "start_time": "2022-01-16T08:14:51.423Z"
   },
   {
    "duration": 46,
    "start_time": "2022-01-16T08:14:51.481Z"
   },
   {
    "duration": 48,
    "start_time": "2022-01-16T08:14:51.530Z"
   },
   {
    "duration": 85,
    "start_time": "2022-01-16T08:14:51.581Z"
   },
   {
    "duration": 53,
    "start_time": "2022-01-16T08:14:51.669Z"
   },
   {
    "duration": 11,
    "start_time": "2022-01-16T08:14:51.725Z"
   },
   {
    "duration": 19,
    "start_time": "2022-01-16T08:14:51.763Z"
   },
   {
    "duration": 550,
    "start_time": "2022-01-16T08:14:51.784Z"
   },
   {
    "duration": 85,
    "start_time": "2022-01-16T08:14:52.337Z"
   },
   {
    "duration": 85,
    "start_time": "2022-01-16T08:14:52.425Z"
   },
   {
    "duration": 2969,
    "start_time": "2022-01-16T08:14:52.513Z"
   },
   {
    "duration": 478,
    "start_time": "2022-01-16T08:15:36.052Z"
   },
   {
    "duration": 462,
    "start_time": "2022-01-16T08:15:36.069Z"
   },
   {
    "duration": 459,
    "start_time": "2022-01-16T08:15:36.078Z"
   },
   {
    "duration": 3205,
    "start_time": "2022-01-16T08:15:47.333Z"
   },
   {
    "duration": 262,
    "start_time": "2022-01-16T08:16:34.090Z"
   },
   {
    "duration": 257,
    "start_time": "2022-01-16T08:16:34.096Z"
   },
   {
    "duration": 8,
    "start_time": "2022-01-16T08:18:38.878Z"
   },
   {
    "duration": 0,
    "start_time": "2022-01-16T08:18:38.889Z"
   },
   {
    "duration": -9,
    "start_time": "2022-01-16T08:18:38.899Z"
   },
   {
    "duration": 3071,
    "start_time": "2022-01-16T08:19:02.943Z"
   },
   {
    "duration": 3026,
    "start_time": "2022-01-16T08:19:33.580Z"
   },
   {
    "duration": 36581,
    "start_time": "2022-01-16T08:20:46.018Z"
   },
   {
    "duration": 2891,
    "start_time": "2022-01-16T08:29:34.933Z"
   },
   {
    "duration": 103,
    "start_time": "2022-01-16T08:32:49.102Z"
   },
   {
    "duration": 58,
    "start_time": "2022-01-16T08:35:02.923Z"
   },
   {
    "duration": 20,
    "start_time": "2022-01-16T09:18:34.996Z"
   },
   {
    "duration": 94,
    "start_time": "2022-01-16T09:23:18.325Z"
   },
   {
    "duration": 96,
    "start_time": "2022-01-16T09:23:21.622Z"
   },
   {
    "duration": 21,
    "start_time": "2022-01-16T09:23:29.684Z"
   },
   {
    "duration": 71,
    "start_time": "2022-01-16T09:23:55.827Z"
   },
   {
    "duration": 8428,
    "start_time": "2022-01-16T09:25:17.616Z"
   },
   {
    "duration": 329,
    "start_time": "2022-01-16T09:32:45.924Z"
   },
   {
    "duration": 298,
    "start_time": "2022-01-16T09:33:01.454Z"
   },
   {
    "duration": 1459,
    "start_time": "2022-01-16T09:33:46.461Z"
   },
   {
    "duration": 544,
    "start_time": "2022-01-16T09:33:47.923Z"
   },
   {
    "duration": 42,
    "start_time": "2022-01-16T09:33:48.470Z"
   },
   {
    "duration": 53,
    "start_time": "2022-01-16T09:33:48.515Z"
   },
   {
    "duration": 26,
    "start_time": "2022-01-16T09:33:48.570Z"
   },
   {
    "duration": 17,
    "start_time": "2022-01-16T09:33:48.599Z"
   },
   {
    "duration": 59,
    "start_time": "2022-01-16T09:33:48.619Z"
   },
   {
    "duration": 48,
    "start_time": "2022-01-16T09:33:48.682Z"
   },
   {
    "duration": 48,
    "start_time": "2022-01-16T09:33:48.733Z"
   },
   {
    "duration": 80,
    "start_time": "2022-01-16T09:33:48.784Z"
   },
   {
    "duration": 44,
    "start_time": "2022-01-16T09:33:48.867Z"
   },
   {
    "duration": 10,
    "start_time": "2022-01-16T09:33:48.913Z"
   },
   {
    "duration": 50,
    "start_time": "2022-01-16T09:33:48.926Z"
   },
   {
    "duration": 460,
    "start_time": "2022-01-16T09:33:48.978Z"
   },
   {
    "duration": 69,
    "start_time": "2022-01-16T09:33:49.441Z"
   },
   {
    "duration": 84,
    "start_time": "2022-01-16T09:33:49.513Z"
   },
   {
    "duration": 2909,
    "start_time": "2022-01-16T09:33:49.600Z"
   },
   {
    "duration": 507,
    "start_time": "2022-01-16T09:33:52.511Z"
   },
   {
    "duration": 857,
    "start_time": "2022-01-16T09:33:52.163Z"
   },
   {
    "duration": 854,
    "start_time": "2022-01-16T09:33:52.167Z"
   },
   {
    "duration": 395,
    "start_time": "2022-01-16T09:41:10.484Z"
   },
   {
    "duration": 337,
    "start_time": "2022-01-16T10:57:01.684Z"
   },
   {
    "duration": 49,
    "start_time": "2022-01-16T10:57:10.039Z"
   },
   {
    "duration": 75,
    "start_time": "2022-01-16T10:57:39.360Z"
   },
   {
    "duration": 910,
    "start_time": "2022-01-16T10:58:25.002Z"
   },
   {
    "duration": 6894,
    "start_time": "2022-01-16T10:58:31.238Z"
   },
   {
    "duration": 914,
    "start_time": "2022-01-16T11:00:16.858Z"
   },
   {
    "duration": 1527,
    "start_time": "2022-01-16T11:00:28.139Z"
   },
   {
    "duration": 546,
    "start_time": "2022-01-16T11:00:29.669Z"
   },
   {
    "duration": 39,
    "start_time": "2022-01-16T11:00:30.218Z"
   },
   {
    "duration": 32,
    "start_time": "2022-01-16T11:00:30.260Z"
   },
   {
    "duration": 26,
    "start_time": "2022-01-16T11:00:30.294Z"
   },
   {
    "duration": 42,
    "start_time": "2022-01-16T11:00:30.322Z"
   },
   {
    "duration": 20,
    "start_time": "2022-01-16T11:00:30.366Z"
   },
   {
    "duration": 74,
    "start_time": "2022-01-16T11:00:30.391Z"
   },
   {
    "duration": 29,
    "start_time": "2022-01-16T11:00:30.468Z"
   },
   {
    "duration": 83,
    "start_time": "2022-01-16T11:00:30.499Z"
   },
   {
    "duration": 43,
    "start_time": "2022-01-16T11:00:30.585Z"
   },
   {
    "duration": 36,
    "start_time": "2022-01-16T11:00:30.631Z"
   },
   {
    "duration": 57,
    "start_time": "2022-01-16T11:00:30.671Z"
   },
   {
    "duration": 452,
    "start_time": "2022-01-16T11:00:30.731Z"
   },
   {
    "duration": 56,
    "start_time": "2022-01-16T11:00:31.186Z"
   },
   {
    "duration": 79,
    "start_time": "2022-01-16T11:00:31.245Z"
   },
   {
    "duration": 2947,
    "start_time": "2022-01-16T11:00:31.326Z"
   },
   {
    "duration": 142,
    "start_time": "2022-01-16T11:00:34.275Z"
   },
   {
    "duration": 6538,
    "start_time": "2022-01-16T11:00:34.419Z"
   },
   {
    "duration": 879,
    "start_time": "2022-01-16T11:00:40.081Z"
   },
   {
    "duration": 916,
    "start_time": "2022-01-16T11:01:21.634Z"
   },
   {
    "duration": 1407,
    "start_time": "2022-01-16T11:01:46.246Z"
   },
   {
    "duration": 615,
    "start_time": "2022-01-16T11:01:47.656Z"
   },
   {
    "duration": 40,
    "start_time": "2022-01-16T11:01:48.275Z"
   },
   {
    "duration": 49,
    "start_time": "2022-01-16T11:01:48.318Z"
   },
   {
    "duration": 27,
    "start_time": "2022-01-16T11:01:48.370Z"
   },
   {
    "duration": 17,
    "start_time": "2022-01-16T11:01:48.399Z"
   },
   {
    "duration": 61,
    "start_time": "2022-01-16T11:01:48.418Z"
   },
   {
    "duration": 54,
    "start_time": "2022-01-16T11:01:48.483Z"
   },
   {
    "duration": 41,
    "start_time": "2022-01-16T11:01:48.540Z"
   },
   {
    "duration": 59,
    "start_time": "2022-01-16T11:01:48.584Z"
   },
   {
    "duration": 60,
    "start_time": "2022-01-16T11:01:48.645Z"
   },
   {
    "duration": 10,
    "start_time": "2022-01-16T11:01:48.707Z"
   },
   {
    "duration": 52,
    "start_time": "2022-01-16T11:01:48.720Z"
   },
   {
    "duration": 441,
    "start_time": "2022-01-16T11:01:48.774Z"
   },
   {
    "duration": 75,
    "start_time": "2022-01-16T11:01:49.218Z"
   },
   {
    "duration": 81,
    "start_time": "2022-01-16T11:01:49.295Z"
   },
   {
    "duration": 3018,
    "start_time": "2022-01-16T11:01:49.379Z"
   },
   {
    "duration": 130,
    "start_time": "2022-01-16T11:01:52.399Z"
   },
   {
    "duration": 899,
    "start_time": "2022-01-16T11:01:58.940Z"
   },
   {
    "duration": 896,
    "start_time": "2022-01-16T11:01:58.945Z"
   },
   {
    "duration": 900,
    "start_time": "2022-01-16T11:02:07.107Z"
   },
   {
    "duration": 296,
    "start_time": "2022-01-16T11:02:45.691Z"
   },
   {
    "duration": 370,
    "start_time": "2022-01-16T11:03:00.609Z"
   },
   {
    "duration": 407,
    "start_time": "2022-01-16T11:03:02.305Z"
   },
   {
    "duration": 315,
    "start_time": "2022-01-16T11:03:18.880Z"
   },
   {
    "duration": 305,
    "start_time": "2022-01-16T11:04:18.195Z"
   },
   {
    "duration": 1445,
    "start_time": "2022-01-16T11:21:15.096Z"
   },
   {
    "duration": 524,
    "start_time": "2022-01-16T11:21:16.543Z"
   },
   {
    "duration": 40,
    "start_time": "2022-01-16T11:21:17.070Z"
   },
   {
    "duration": 52,
    "start_time": "2022-01-16T11:21:17.113Z"
   },
   {
    "duration": 27,
    "start_time": "2022-01-16T11:21:17.167Z"
   },
   {
    "duration": 17,
    "start_time": "2022-01-16T11:21:17.196Z"
   },
   {
    "duration": 57,
    "start_time": "2022-01-16T11:21:17.215Z"
   },
   {
    "duration": 387,
    "start_time": "2022-01-16T11:21:17.275Z"
   },
   {
    "duration": 905,
    "start_time": "2022-01-16T11:21:16.760Z"
   },
   {
    "duration": 897,
    "start_time": "2022-01-16T11:21:16.769Z"
   },
   {
    "duration": 850,
    "start_time": "2022-01-16T11:21:16.818Z"
   },
   {
    "duration": 817,
    "start_time": "2022-01-16T11:21:16.852Z"
   },
   {
    "duration": 815,
    "start_time": "2022-01-16T11:21:16.855Z"
   },
   {
    "duration": 814,
    "start_time": "2022-01-16T11:21:16.858Z"
   },
   {
    "duration": 812,
    "start_time": "2022-01-16T11:21:16.861Z"
   },
   {
    "duration": 811,
    "start_time": "2022-01-16T11:21:16.863Z"
   },
   {
    "duration": 804,
    "start_time": "2022-01-16T11:21:16.872Z"
   },
   {
    "duration": 803,
    "start_time": "2022-01-16T11:21:16.874Z"
   },
   {
    "duration": 801,
    "start_time": "2022-01-16T11:21:16.877Z"
   },
   {
    "duration": 793,
    "start_time": "2022-01-16T11:21:16.886Z"
   },
   {
    "duration": 792,
    "start_time": "2022-01-16T11:21:16.889Z"
   },
   {
    "duration": 1485,
    "start_time": "2022-01-16T11:23:55.953Z"
   },
   {
    "duration": 525,
    "start_time": "2022-01-16T11:23:57.441Z"
   },
   {
    "duration": 40,
    "start_time": "2022-01-16T11:23:57.969Z"
   },
   {
    "duration": 80,
    "start_time": "2022-01-16T11:23:58.012Z"
   },
   {
    "duration": 53,
    "start_time": "2022-01-16T11:23:58.099Z"
   },
   {
    "duration": 39,
    "start_time": "2022-01-16T11:23:58.155Z"
   },
   {
    "duration": 41,
    "start_time": "2022-01-16T11:23:58.197Z"
   },
   {
    "duration": 47,
    "start_time": "2022-01-16T11:23:58.243Z"
   },
   {
    "duration": 206,
    "start_time": "2022-01-16T11:23:58.293Z"
   },
   {
    "duration": 28,
    "start_time": "2022-01-16T11:23:58.502Z"
   },
   {
    "duration": 74,
    "start_time": "2022-01-16T11:23:58.533Z"
   },
   {
    "duration": 104,
    "start_time": "2022-01-16T11:23:58.615Z"
   },
   {
    "duration": 14,
    "start_time": "2022-01-16T11:23:58.721Z"
   },
   {
    "duration": 5,
    "start_time": "2022-01-16T11:23:58.738Z"
   },
   {
    "duration": 12,
    "start_time": "2022-01-16T11:23:58.763Z"
   },
   {
    "duration": 90,
    "start_time": "2022-01-16T11:23:58.778Z"
   },
   {
    "duration": 70,
    "start_time": "2022-01-16T11:23:58.871Z"
   },
   {
    "duration": 142,
    "start_time": "2022-01-16T11:23:58.943Z"
   },
   {
    "duration": 900,
    "start_time": "2022-01-16T11:23:58.188Z"
   },
   {
    "duration": 899,
    "start_time": "2022-01-16T11:23:58.191Z"
   },
   {
    "duration": 898,
    "start_time": "2022-01-16T11:23:58.193Z"
   },
   {
    "duration": 36,
    "start_time": "2022-01-16T11:24:15.357Z"
   },
   {
    "duration": 33,
    "start_time": "2022-01-16T11:24:36.634Z"
   },
   {
    "duration": 62,
    "start_time": "2022-01-16T11:24:38.072Z"
   },
   {
    "duration": 63,
    "start_time": "2022-01-16T11:24:52.021Z"
   },
   {
    "duration": 10,
    "start_time": "2022-01-16T11:24:53.703Z"
   },
   {
    "duration": 4,
    "start_time": "2022-01-16T11:25:00.101Z"
   },
   {
    "duration": 10,
    "start_time": "2022-01-16T11:25:02.313Z"
   },
   {
    "duration": 61,
    "start_time": "2022-01-16T11:25:03.952Z"
   },
   {
    "duration": 68,
    "start_time": "2022-01-16T11:25:11.580Z"
   },
   {
    "duration": 7359,
    "start_time": "2022-01-16T11:25:25.023Z"
   },
   {
    "duration": 884,
    "start_time": "2022-01-16T11:25:31.502Z"
   },
   {
    "duration": 883,
    "start_time": "2022-01-16T11:25:31.505Z"
   },
   {
    "duration": 35,
    "start_time": "2022-01-16T11:26:01.490Z"
   },
   {
    "duration": 16,
    "start_time": "2022-01-16T11:26:06.499Z"
   },
   {
    "duration": 7,
    "start_time": "2022-01-16T11:26:07.352Z"
   },
   {
    "duration": 9,
    "start_time": "2022-01-16T11:26:08.999Z"
   },
   {
    "duration": 6,
    "start_time": "2022-01-16T11:26:10.433Z"
   },
   {
    "duration": 266,
    "start_time": "2022-01-16T11:26:23.568Z"
   },
   {
    "duration": 210,
    "start_time": "2022-01-16T11:28:41.562Z"
   },
   {
    "duration": 19,
    "start_time": "2022-01-16T11:28:42.825Z"
   },
   {
    "duration": 12,
    "start_time": "2022-01-16T11:28:43.920Z"
   },
   {
    "duration": 12,
    "start_time": "2022-01-16T11:28:44.943Z"
   },
   {
    "duration": 35,
    "start_time": "2022-01-16T11:30:37.377Z"
   },
   {
    "duration": 7,
    "start_time": "2022-01-16T11:34:21.290Z"
   },
   {
    "duration": 54,
    "start_time": "2022-01-16T11:43:43.338Z"
   },
   {
    "duration": 58,
    "start_time": "2022-01-16T11:43:44.791Z"
   },
   {
    "duration": 66,
    "start_time": "2022-01-16T11:43:47.116Z"
   },
   {
    "duration": 27,
    "start_time": "2022-01-16T11:58:18.719Z"
   },
   {
    "duration": 604,
    "start_time": "2022-01-16T11:58:24.337Z"
   },
   {
    "duration": 19,
    "start_time": "2022-01-16T11:58:29.421Z"
   },
   {
    "duration": 1409,
    "start_time": "2022-01-16T12:07:31.514Z"
   },
   {
    "duration": 531,
    "start_time": "2022-01-16T12:07:32.925Z"
   },
   {
    "duration": 39,
    "start_time": "2022-01-16T12:07:33.459Z"
   },
   {
    "duration": 31,
    "start_time": "2022-01-16T12:07:33.501Z"
   },
   {
    "duration": 47,
    "start_time": "2022-01-16T12:07:33.534Z"
   },
   {
    "duration": 17,
    "start_time": "2022-01-16T12:07:33.583Z"
   },
   {
    "duration": 63,
    "start_time": "2022-01-16T12:07:33.603Z"
   },
   {
    "duration": 18,
    "start_time": "2022-01-16T12:07:33.672Z"
   },
   {
    "duration": 129,
    "start_time": "2022-01-16T12:07:33.695Z"
   },
   {
    "duration": 15,
    "start_time": "2022-01-16T12:07:33.827Z"
   },
   {
    "duration": 34,
    "start_time": "2022-01-16T12:07:33.862Z"
   },
   {
    "duration": 97,
    "start_time": "2022-01-16T12:07:33.899Z"
   },
   {
    "duration": 12,
    "start_time": "2022-01-16T12:07:33.998Z"
   },
   {
    "duration": 7,
    "start_time": "2022-01-16T12:07:34.012Z"
   },
   {
    "duration": 13,
    "start_time": "2022-01-16T12:07:34.021Z"
   },
   {
    "duration": 86,
    "start_time": "2022-01-16T12:07:34.037Z"
   },
   {
    "duration": 83,
    "start_time": "2022-01-16T12:07:34.125Z"
   },
   {
    "duration": 33,
    "start_time": "2022-01-16T12:07:34.211Z"
   },
   {
    "duration": 29,
    "start_time": "2022-01-16T12:07:34.246Z"
   },
   {
    "duration": 6,
    "start_time": "2022-01-16T12:07:34.277Z"
   },
   {
    "duration": 228,
    "start_time": "2022-01-16T12:07:34.285Z"
   },
   {
    "duration": 20,
    "start_time": "2022-01-16T12:07:34.515Z"
   },
   {
    "duration": 24,
    "start_time": "2022-01-16T12:07:34.540Z"
   },
   {
    "duration": 14,
    "start_time": "2022-01-16T12:07:34.567Z"
   },
   {
    "duration": 34,
    "start_time": "2022-01-16T12:07:34.585Z"
   },
   {
    "duration": 53,
    "start_time": "2022-01-16T12:07:34.622Z"
   },
   {
    "duration": 542,
    "start_time": "2022-01-16T12:07:34.678Z"
   },
   {
    "duration": 15,
    "start_time": "2022-01-16T12:07:35.223Z"
   },
   {
    "duration": 516,
    "start_time": "2022-01-16T12:07:35.241Z"
   },
   {
    "duration": 17,
    "start_time": "2022-01-16T12:07:35.759Z"
   },
   {
    "duration": 692,
    "start_time": "2022-01-16T12:07:35.779Z"
   },
   {
    "duration": 7,
    "start_time": "2022-01-16T12:07:36.474Z"
   },
   {
    "duration": 13,
    "start_time": "2022-01-16T12:07:36.483Z"
   },
   {
    "duration": 12,
    "start_time": "2022-01-16T12:07:36.498Z"
   },
   {
    "duration": 32,
    "start_time": "2022-01-16T12:07:36.512Z"
   },
   {
    "duration": 28,
    "start_time": "2022-01-16T12:07:36.547Z"
   },
   {
    "duration": 105,
    "start_time": "2022-01-16T12:07:36.578Z"
   },
   {
    "duration": 14,
    "start_time": "2022-01-16T12:23:33.775Z"
   },
   {
    "duration": 369,
    "start_time": "2022-01-16T12:38:55.566Z"
   },
   {
    "duration": 364,
    "start_time": "2022-01-16T12:39:20.086Z"
   },
   {
    "duration": 391,
    "start_time": "2022-01-16T12:39:36.286Z"
   },
   {
    "duration": 340,
    "start_time": "2022-01-16T12:39:47.202Z"
   },
   {
    "duration": 451,
    "start_time": "2022-01-16T12:40:08.243Z"
   },
   {
    "duration": 345,
    "start_time": "2022-01-16T12:40:20.434Z"
   },
   {
    "duration": 362,
    "start_time": "2022-01-16T12:41:18.065Z"
   },
   {
    "duration": 1400,
    "start_time": "2022-01-17T09:40:36.166Z"
   },
   {
    "duration": 461,
    "start_time": "2022-01-17T09:40:37.569Z"
   },
   {
    "duration": 38,
    "start_time": "2022-01-17T09:40:38.033Z"
   },
   {
    "duration": 29,
    "start_time": "2022-01-17T09:40:38.074Z"
   },
   {
    "duration": 27,
    "start_time": "2022-01-17T09:40:38.124Z"
   },
   {
    "duration": 22,
    "start_time": "2022-01-17T09:40:38.154Z"
   },
   {
    "duration": 57,
    "start_time": "2022-01-17T09:40:38.179Z"
   },
   {
    "duration": 107,
    "start_time": "2022-01-17T09:40:38.238Z"
   },
   {
    "duration": 355,
    "start_time": "2022-01-17T09:40:38.349Z"
   },
   {
    "duration": 16,
    "start_time": "2022-01-17T09:40:38.707Z"
   },
   {
    "duration": 14,
    "start_time": "2022-01-17T09:40:38.725Z"
   },
   {
    "duration": 30,
    "start_time": "2022-01-17T09:40:38.742Z"
   },
   {
    "duration": 94,
    "start_time": "2022-01-17T09:40:38.774Z"
   },
   {
    "duration": 99,
    "start_time": "2022-01-17T09:40:38.871Z"
   },
   {
    "duration": -51,
    "start_time": "2022-01-17T09:40:39.025Z"
   },
   {
    "duration": -52,
    "start_time": "2022-01-17T09:40:39.027Z"
   },
   {
    "duration": -50,
    "start_time": "2022-01-17T09:40:39.028Z"
   },
   {
    "duration": -51,
    "start_time": "2022-01-17T09:40:39.030Z"
   },
   {
    "duration": -51,
    "start_time": "2022-01-17T09:40:39.031Z"
   },
   {
    "duration": -52,
    "start_time": "2022-01-17T09:40:39.033Z"
   },
   {
    "duration": -56,
    "start_time": "2022-01-17T09:40:39.039Z"
   },
   {
    "duration": -58,
    "start_time": "2022-01-17T09:40:39.042Z"
   },
   {
    "duration": -59,
    "start_time": "2022-01-17T09:40:39.044Z"
   },
   {
    "duration": -59,
    "start_time": "2022-01-17T09:40:39.046Z"
   },
   {
    "duration": -59,
    "start_time": "2022-01-17T09:40:39.047Z"
   },
   {
    "duration": -60,
    "start_time": "2022-01-17T09:40:39.049Z"
   },
   {
    "duration": -64,
    "start_time": "2022-01-17T09:40:39.055Z"
   },
   {
    "duration": -65,
    "start_time": "2022-01-17T09:40:39.057Z"
   },
   {
    "duration": -67,
    "start_time": "2022-01-17T09:40:39.060Z"
   },
   {
    "duration": -67,
    "start_time": "2022-01-17T09:40:39.062Z"
   },
   {
    "duration": -67,
    "start_time": "2022-01-17T09:40:39.063Z"
   },
   {
    "duration": -67,
    "start_time": "2022-01-17T09:40:39.065Z"
   },
   {
    "duration": -67,
    "start_time": "2022-01-17T09:40:39.066Z"
   },
   {
    "duration": -72,
    "start_time": "2022-01-17T09:40:39.073Z"
   },
   {
    "duration": -73,
    "start_time": "2022-01-17T09:40:39.075Z"
   },
   {
    "duration": -74,
    "start_time": "2022-01-17T09:40:39.077Z"
   },
   {
    "duration": -185,
    "start_time": "2022-01-17T09:40:39.190Z"
   },
   {
    "duration": -1108,
    "start_time": "2022-01-17T09:40:40.114Z"
   },
   {
    "duration": 1428,
    "start_time": "2022-01-17T09:49:45.950Z"
   },
   {
    "duration": 505,
    "start_time": "2022-01-17T09:49:47.381Z"
   },
   {
    "duration": 43,
    "start_time": "2022-01-17T09:49:47.889Z"
   },
   {
    "duration": 31,
    "start_time": "2022-01-17T09:49:47.935Z"
   },
   {
    "duration": 56,
    "start_time": "2022-01-17T09:49:47.969Z"
   },
   {
    "duration": 19,
    "start_time": "2022-01-17T09:49:48.029Z"
   },
   {
    "duration": 35,
    "start_time": "2022-01-17T09:49:48.050Z"
   },
   {
    "duration": 164,
    "start_time": "2022-01-17T09:49:48.089Z"
   },
   {
    "duration": 438,
    "start_time": "2022-01-17T09:49:48.257Z"
   },
   {
    "duration": 10,
    "start_time": "2022-01-17T09:49:48.697Z"
   },
   {
    "duration": 14,
    "start_time": "2022-01-17T09:49:48.724Z"
   },
   {
    "duration": 39,
    "start_time": "2022-01-17T09:49:48.740Z"
   },
   {
    "duration": 94,
    "start_time": "2022-01-17T09:49:48.781Z"
   },
   {
    "duration": 11,
    "start_time": "2022-01-17T09:49:48.877Z"
   },
   {
    "duration": 6,
    "start_time": "2022-01-17T09:49:48.891Z"
   },
   {
    "duration": 24,
    "start_time": "2022-01-17T09:49:48.899Z"
   },
   {
    "duration": 68,
    "start_time": "2022-01-17T09:49:48.926Z"
   },
   {
    "duration": 87,
    "start_time": "2022-01-17T09:49:48.997Z"
   },
   {
    "duration": 47,
    "start_time": "2022-01-17T09:49:49.087Z"
   },
   {
    "duration": 13,
    "start_time": "2022-01-17T09:49:49.136Z"
   },
   {
    "duration": 6,
    "start_time": "2022-01-17T09:49:49.151Z"
   },
   {
    "duration": 224,
    "start_time": "2022-01-17T09:49:49.159Z"
   },
   {
    "duration": 22,
    "start_time": "2022-01-17T09:49:49.388Z"
   },
   {
    "duration": 12,
    "start_time": "2022-01-17T09:49:49.425Z"
   },
   {
    "duration": 20,
    "start_time": "2022-01-17T09:49:49.439Z"
   },
   {
    "duration": 35,
    "start_time": "2022-01-17T09:49:49.461Z"
   },
   {
    "duration": 44,
    "start_time": "2022-01-17T09:49:49.499Z"
   },
   {
    "duration": 542,
    "start_time": "2022-01-17T09:49:49.546Z"
   },
   {
    "duration": 15,
    "start_time": "2022-01-17T09:49:50.090Z"
   },
   {
    "duration": 567,
    "start_time": "2022-01-17T09:49:50.124Z"
   },
   {
    "duration": 32,
    "start_time": "2022-01-17T09:49:50.693Z"
   },
   {
    "duration": 576,
    "start_time": "2022-01-17T09:49:50.727Z"
   },
   {
    "duration": 18,
    "start_time": "2022-01-17T09:49:51.305Z"
   },
   {
    "duration": 9,
    "start_time": "2022-01-17T09:49:51.325Z"
   },
   {
    "duration": 7,
    "start_time": "2022-01-17T09:49:51.336Z"
   },
   {
    "duration": 22,
    "start_time": "2022-01-17T09:49:51.345Z"
   },
   {
    "duration": 39,
    "start_time": "2022-01-17T09:49:51.369Z"
   },
   {
    "duration": 1383,
    "start_time": "2022-01-17T09:52:41.276Z"
   },
   {
    "duration": 484,
    "start_time": "2022-01-17T09:52:42.662Z"
   },
   {
    "duration": 41,
    "start_time": "2022-01-17T09:52:43.150Z"
   },
   {
    "duration": 42,
    "start_time": "2022-01-17T09:52:43.195Z"
   },
   {
    "duration": 24,
    "start_time": "2022-01-17T09:52:43.239Z"
   },
   {
    "duration": 18,
    "start_time": "2022-01-17T09:52:43.266Z"
   },
   {
    "duration": 54,
    "start_time": "2022-01-17T09:52:43.286Z"
   },
   {
    "duration": 112,
    "start_time": "2022-01-17T09:52:43.344Z"
   },
   {
    "duration": 348,
    "start_time": "2022-01-17T09:52:43.459Z"
   },
   {
    "duration": 17,
    "start_time": "2022-01-17T09:52:43.810Z"
   },
   {
    "duration": 13,
    "start_time": "2022-01-17T09:52:43.829Z"
   },
   {
    "duration": 33,
    "start_time": "2022-01-17T09:52:43.844Z"
   },
   {
    "duration": 95,
    "start_time": "2022-01-17T09:52:43.880Z"
   },
   {
    "duration": 9,
    "start_time": "2022-01-17T09:52:43.977Z"
   },
   {
    "duration": 7,
    "start_time": "2022-01-17T09:52:43.988Z"
   },
   {
    "duration": 28,
    "start_time": "2022-01-17T09:52:43.997Z"
   },
   {
    "duration": 62,
    "start_time": "2022-01-17T09:52:44.028Z"
   },
   {
    "duration": 81,
    "start_time": "2022-01-17T09:52:44.092Z"
   },
   {
    "duration": 48,
    "start_time": "2022-01-17T09:52:44.176Z"
   },
   {
    "duration": 12,
    "start_time": "2022-01-17T09:52:44.227Z"
   },
   {
    "duration": 13,
    "start_time": "2022-01-17T09:52:44.241Z"
   },
   {
    "duration": 208,
    "start_time": "2022-01-17T09:52:44.257Z"
   },
   {
    "duration": 17,
    "start_time": "2022-01-17T09:52:44.470Z"
   },
   {
    "duration": 10,
    "start_time": "2022-01-17T09:52:44.490Z"
   },
   {
    "duration": 11,
    "start_time": "2022-01-17T09:52:44.522Z"
   },
   {
    "duration": 36,
    "start_time": "2022-01-17T09:52:44.536Z"
   },
   {
    "duration": 51,
    "start_time": "2022-01-17T09:52:44.574Z"
   },
   {
    "duration": 521,
    "start_time": "2022-01-17T09:52:44.628Z"
   },
   {
    "duration": 16,
    "start_time": "2022-01-17T09:52:45.152Z"
   },
   {
    "duration": 555,
    "start_time": "2022-01-17T09:52:45.170Z"
   },
   {
    "duration": 17,
    "start_time": "2022-01-17T09:52:45.728Z"
   },
   {
    "duration": 659,
    "start_time": "2022-01-17T09:52:45.748Z"
   },
   {
    "duration": 14,
    "start_time": "2022-01-17T09:52:46.409Z"
   },
   {
    "duration": 6,
    "start_time": "2022-01-17T09:52:46.426Z"
   },
   {
    "duration": 9,
    "start_time": "2022-01-17T09:52:46.435Z"
   },
   {
    "duration": 13,
    "start_time": "2022-01-17T09:52:46.447Z"
   },
   {
    "duration": 62,
    "start_time": "2022-01-17T09:52:46.463Z"
   },
   {
    "duration": 1606,
    "start_time": "2022-01-17T10:15:15.711Z"
   },
   {
    "duration": 499,
    "start_time": "2022-01-17T10:15:17.320Z"
   },
   {
    "duration": 44,
    "start_time": "2022-01-17T10:15:17.823Z"
   },
   {
    "duration": 60,
    "start_time": "2022-01-17T10:15:17.871Z"
   },
   {
    "duration": 24,
    "start_time": "2022-01-17T10:15:17.933Z"
   },
   {
    "duration": 15,
    "start_time": "2022-01-17T10:15:17.960Z"
   },
   {
    "duration": 57,
    "start_time": "2022-01-17T10:15:17.977Z"
   },
   {
    "duration": 112,
    "start_time": "2022-01-17T10:15:18.039Z"
   },
   {
    "duration": 448,
    "start_time": "2022-01-17T10:15:18.155Z"
   },
   {
    "duration": 21,
    "start_time": "2022-01-17T10:15:18.605Z"
   },
   {
    "duration": 12,
    "start_time": "2022-01-17T10:15:18.628Z"
   },
   {
    "duration": 37,
    "start_time": "2022-01-17T10:15:18.642Z"
   },
   {
    "duration": 90,
    "start_time": "2022-01-17T10:15:18.681Z"
   },
   {
    "duration": 10,
    "start_time": "2022-01-17T10:15:18.774Z"
   },
   {
    "duration": 13,
    "start_time": "2022-01-17T10:15:18.786Z"
   },
   {
    "duration": 21,
    "start_time": "2022-01-17T10:15:18.802Z"
   },
   {
    "duration": 75,
    "start_time": "2022-01-17T10:15:18.826Z"
   },
   {
    "duration": 85,
    "start_time": "2022-01-17T10:15:18.903Z"
   },
   {
    "duration": 48,
    "start_time": "2022-01-17T10:15:18.992Z"
   },
   {
    "duration": 25,
    "start_time": "2022-01-17T10:15:19.043Z"
   },
   {
    "duration": 6,
    "start_time": "2022-01-17T10:15:19.070Z"
   },
   {
    "duration": 214,
    "start_time": "2022-01-17T10:15:19.078Z"
   },
   {
    "duration": 18,
    "start_time": "2022-01-17T10:15:19.296Z"
   },
   {
    "duration": 11,
    "start_time": "2022-01-17T10:15:19.324Z"
   },
   {
    "duration": 14,
    "start_time": "2022-01-17T10:15:19.337Z"
   },
   {
    "duration": 36,
    "start_time": "2022-01-17T10:15:19.354Z"
   },
   {
    "duration": 45,
    "start_time": "2022-01-17T10:15:19.392Z"
   },
   {
    "duration": 654,
    "start_time": "2022-01-17T10:15:19.440Z"
   },
   {
    "duration": 32,
    "start_time": "2022-01-17T10:15:20.096Z"
   },
   {
    "duration": 564,
    "start_time": "2022-01-17T10:15:20.130Z"
   },
   {
    "duration": 29,
    "start_time": "2022-01-17T10:15:20.696Z"
   },
   {
    "duration": 574,
    "start_time": "2022-01-17T10:15:20.728Z"
   },
   {
    "duration": 19,
    "start_time": "2022-01-17T10:15:21.304Z"
   },
   {
    "duration": 7,
    "start_time": "2022-01-17T10:15:21.325Z"
   },
   {
    "duration": 11,
    "start_time": "2022-01-17T10:15:21.335Z"
   },
   {
    "duration": 18,
    "start_time": "2022-01-17T10:15:21.348Z"
   },
   {
    "duration": 13,
    "start_time": "2022-01-17T10:15:21.369Z"
   },
   {
    "duration": 1529,
    "start_time": "2022-01-17T10:15:55.215Z"
   },
   {
    "duration": 498,
    "start_time": "2022-01-17T10:15:56.748Z"
   },
   {
    "duration": 38,
    "start_time": "2022-01-17T10:15:57.249Z"
   },
   {
    "duration": 34,
    "start_time": "2022-01-17T10:15:57.290Z"
   },
   {
    "duration": 25,
    "start_time": "2022-01-17T10:15:57.327Z"
   },
   {
    "duration": 19,
    "start_time": "2022-01-17T10:15:57.354Z"
   },
   {
    "duration": 49,
    "start_time": "2022-01-17T10:15:57.376Z"
   },
   {
    "duration": 106,
    "start_time": "2022-01-17T10:15:57.427Z"
   },
   {
    "duration": 372,
    "start_time": "2022-01-17T10:15:57.537Z"
   },
   {
    "duration": 16,
    "start_time": "2022-01-17T10:15:57.912Z"
   },
   {
    "duration": 12,
    "start_time": "2022-01-17T10:15:57.931Z"
   },
   {
    "duration": 37,
    "start_time": "2022-01-17T10:15:57.945Z"
   },
   {
    "duration": 89,
    "start_time": "2022-01-17T10:15:57.985Z"
   },
   {
    "duration": 10,
    "start_time": "2022-01-17T10:15:58.076Z"
   },
   {
    "duration": 9,
    "start_time": "2022-01-17T10:15:58.088Z"
   },
   {
    "duration": 28,
    "start_time": "2022-01-17T10:15:58.099Z"
   },
   {
    "duration": 69,
    "start_time": "2022-01-17T10:15:58.130Z"
   },
   {
    "duration": 85,
    "start_time": "2022-01-17T10:15:58.202Z"
   },
   {
    "duration": 49,
    "start_time": "2022-01-17T10:15:58.290Z"
   },
   {
    "duration": 28,
    "start_time": "2022-01-17T10:15:58.342Z"
   },
   {
    "duration": 7,
    "start_time": "2022-01-17T10:15:58.373Z"
   },
   {
    "duration": 223,
    "start_time": "2022-01-17T10:15:58.383Z"
   },
   {
    "duration": 23,
    "start_time": "2022-01-17T10:15:58.608Z"
   },
   {
    "duration": 11,
    "start_time": "2022-01-17T10:15:58.634Z"
   },
   {
    "duration": 21,
    "start_time": "2022-01-17T10:15:58.648Z"
   },
   {
    "duration": 59,
    "start_time": "2022-01-17T10:15:58.671Z"
   },
   {
    "duration": 22,
    "start_time": "2022-01-17T10:15:58.735Z"
   },
   {
    "duration": 556,
    "start_time": "2022-01-17T10:15:58.759Z"
   },
   {
    "duration": 19,
    "start_time": "2022-01-17T10:15:59.317Z"
   },
   {
    "duration": 539,
    "start_time": "2022-01-17T10:15:59.338Z"
   },
   {
    "duration": 45,
    "start_time": "2022-01-17T10:15:59.880Z"
   },
   {
    "duration": 686,
    "start_time": "2022-01-17T10:15:59.927Z"
   },
   {
    "duration": 13,
    "start_time": "2022-01-17T10:16:00.615Z"
   },
   {
    "duration": 12,
    "start_time": "2022-01-17T10:16:00.630Z"
   },
   {
    "duration": 26,
    "start_time": "2022-01-17T10:16:00.644Z"
   },
   {
    "duration": 20,
    "start_time": "2022-01-17T10:16:00.672Z"
   },
   {
    "duration": 23,
    "start_time": "2022-01-17T10:16:00.694Z"
   },
   {
    "duration": 1467,
    "start_time": "2022-01-17T10:16:22.027Z"
   },
   {
    "duration": 504,
    "start_time": "2022-01-17T10:16:23.497Z"
   },
   {
    "duration": 38,
    "start_time": "2022-01-17T10:16:24.004Z"
   },
   {
    "duration": 32,
    "start_time": "2022-01-17T10:16:24.045Z"
   },
   {
    "duration": 54,
    "start_time": "2022-01-17T10:16:24.079Z"
   },
   {
    "duration": 16,
    "start_time": "2022-01-17T10:16:24.136Z"
   },
   {
    "duration": 20,
    "start_time": "2022-01-17T10:16:24.155Z"
   },
   {
    "duration": 136,
    "start_time": "2022-01-17T10:16:24.179Z"
   },
   {
    "duration": 377,
    "start_time": "2022-01-17T10:16:24.317Z"
   },
   {
    "duration": 10,
    "start_time": "2022-01-17T10:16:24.696Z"
   },
   {
    "duration": 14,
    "start_time": "2022-01-17T10:16:24.723Z"
   },
   {
    "duration": 49,
    "start_time": "2022-01-17T10:16:24.740Z"
   },
   {
    "duration": 81,
    "start_time": "2022-01-17T10:16:24.792Z"
   },
   {
    "duration": 10,
    "start_time": "2022-01-17T10:16:24.875Z"
   },
   {
    "duration": 9,
    "start_time": "2022-01-17T10:16:24.888Z"
   },
   {
    "duration": 26,
    "start_time": "2022-01-17T10:16:24.899Z"
   },
   {
    "duration": 63,
    "start_time": "2022-01-17T10:16:24.927Z"
   },
   {
    "duration": 87,
    "start_time": "2022-01-17T10:16:24.992Z"
   },
   {
    "duration": 43,
    "start_time": "2022-01-17T10:16:25.082Z"
   },
   {
    "duration": 12,
    "start_time": "2022-01-17T10:16:25.127Z"
   },
   {
    "duration": 5,
    "start_time": "2022-01-17T10:16:25.141Z"
   },
   {
    "duration": 212,
    "start_time": "2022-01-17T10:16:25.148Z"
   },
   {
    "duration": 18,
    "start_time": "2022-01-17T10:16:25.365Z"
   },
   {
    "duration": 10,
    "start_time": "2022-01-17T10:16:25.386Z"
   },
   {
    "duration": 33,
    "start_time": "2022-01-17T10:16:25.399Z"
   },
   {
    "duration": 34,
    "start_time": "2022-01-17T10:16:25.435Z"
   },
   {
    "duration": 21,
    "start_time": "2022-01-17T10:16:25.471Z"
   },
   {
    "duration": 511,
    "start_time": "2022-01-17T10:16:25.524Z"
   },
   {
    "duration": 15,
    "start_time": "2022-01-17T10:16:26.037Z"
   },
   {
    "duration": 552,
    "start_time": "2022-01-17T10:16:26.054Z"
   },
   {
    "duration": 26,
    "start_time": "2022-01-17T10:16:26.608Z"
   },
   {
    "duration": 590,
    "start_time": "2022-01-17T10:16:26.637Z"
   },
   {
    "duration": 7,
    "start_time": "2022-01-17T10:16:27.229Z"
   },
   {
    "duration": 8,
    "start_time": "2022-01-17T10:16:27.239Z"
   },
   {
    "duration": 8,
    "start_time": "2022-01-17T10:16:27.249Z"
   },
   {
    "duration": 14,
    "start_time": "2022-01-17T10:16:27.259Z"
   },
   {
    "duration": 61,
    "start_time": "2022-01-17T10:16:27.276Z"
   },
   {
    "duration": 1479,
    "start_time": "2022-01-17T11:38:33.411Z"
   },
   {
    "duration": 494,
    "start_time": "2022-01-17T11:38:34.892Z"
   },
   {
    "duration": 39,
    "start_time": "2022-01-17T11:38:35.390Z"
   },
   {
    "duration": 32,
    "start_time": "2022-01-17T11:38:35.431Z"
   },
   {
    "duration": 26,
    "start_time": "2022-01-17T11:38:35.465Z"
   },
   {
    "duration": 20,
    "start_time": "2022-01-17T11:38:35.522Z"
   },
   {
    "duration": 24,
    "start_time": "2022-01-17T11:38:35.545Z"
   },
   {
    "duration": 135,
    "start_time": "2022-01-17T11:38:35.574Z"
   },
   {
    "duration": 361,
    "start_time": "2022-01-17T11:38:35.723Z"
   },
   {
    "duration": 7,
    "start_time": "2022-01-17T11:38:36.086Z"
   },
   {
    "duration": 29,
    "start_time": "2022-01-17T11:38:36.096Z"
   },
   {
    "duration": 34,
    "start_time": "2022-01-17T11:38:36.128Z"
   },
   {
    "duration": 85,
    "start_time": "2022-01-17T11:38:36.164Z"
   },
   {
    "duration": 9,
    "start_time": "2022-01-17T11:38:36.251Z"
   },
   {
    "duration": 12,
    "start_time": "2022-01-17T11:38:36.263Z"
   },
   {
    "duration": 10,
    "start_time": "2022-01-17T11:38:36.277Z"
   },
   {
    "duration": 85,
    "start_time": "2022-01-17T11:38:36.289Z"
   },
   {
    "duration": 77,
    "start_time": "2022-01-17T11:38:36.376Z"
   },
   {
    "duration": 33,
    "start_time": "2022-01-17T11:38:36.456Z"
   },
   {
    "duration": 13,
    "start_time": "2022-01-17T11:38:36.492Z"
   },
   {
    "duration": 18,
    "start_time": "2022-01-17T11:38:36.507Z"
   },
   {
    "duration": 237,
    "start_time": "2022-01-17T11:38:36.527Z"
   },
   {
    "duration": 20,
    "start_time": "2022-01-17T11:38:36.768Z"
   },
   {
    "duration": 11,
    "start_time": "2022-01-17T11:38:36.790Z"
   },
   {
    "duration": 30,
    "start_time": "2022-01-17T11:38:36.803Z"
   },
   {
    "duration": 37,
    "start_time": "2022-01-17T11:38:36.835Z"
   },
   {
    "duration": 50,
    "start_time": "2022-01-17T11:38:36.875Z"
   },
   {
    "duration": 555,
    "start_time": "2022-01-17T11:38:36.928Z"
   },
   {
    "duration": 15,
    "start_time": "2022-01-17T11:38:37.486Z"
   },
   {
    "duration": 570,
    "start_time": "2022-01-17T11:38:37.504Z"
   },
   {
    "duration": 17,
    "start_time": "2022-01-17T11:38:38.076Z"
   },
   {
    "duration": 605,
    "start_time": "2022-01-17T11:38:38.096Z"
   },
   {
    "duration": 20,
    "start_time": "2022-01-17T11:38:38.704Z"
   },
   {
    "duration": 7,
    "start_time": "2022-01-17T11:38:38.726Z"
   },
   {
    "duration": 24,
    "start_time": "2022-01-17T11:38:38.735Z"
   },
   {
    "duration": 16,
    "start_time": "2022-01-17T11:38:38.761Z"
   },
   {
    "duration": 15,
    "start_time": "2022-01-17T11:38:38.779Z"
   },
   {
    "duration": 1424,
    "start_time": "2022-01-17T11:53:36.457Z"
   },
   {
    "duration": 486,
    "start_time": "2022-01-17T11:53:37.884Z"
   },
   {
    "duration": 38,
    "start_time": "2022-01-17T11:53:38.373Z"
   },
   {
    "duration": 30,
    "start_time": "2022-01-17T11:53:38.413Z"
   },
   {
    "duration": 25,
    "start_time": "2022-01-17T11:53:38.445Z"
   },
   {
    "duration": 16,
    "start_time": "2022-01-17T11:53:38.473Z"
   },
   {
    "duration": 22,
    "start_time": "2022-01-17T11:53:38.525Z"
   },
   {
    "duration": 114,
    "start_time": "2022-01-17T11:53:38.551Z"
   },
   {
    "duration": 355,
    "start_time": "2022-01-17T11:53:38.668Z"
   },
   {
    "duration": 8,
    "start_time": "2022-01-17T11:53:39.025Z"
   },
   {
    "duration": 13,
    "start_time": "2022-01-17T11:53:39.036Z"
   },
   {
    "duration": 32,
    "start_time": "2022-01-17T11:53:39.051Z"
   },
   {
    "duration": 99,
    "start_time": "2022-01-17T11:53:39.085Z"
   },
   {
    "duration": 9,
    "start_time": "2022-01-17T11:53:39.187Z"
   },
   {
    "duration": 18,
    "start_time": "2022-01-17T11:53:39.198Z"
   },
   {
    "duration": 9,
    "start_time": "2022-01-17T11:53:39.224Z"
   },
   {
    "duration": 70,
    "start_time": "2022-01-17T11:53:39.235Z"
   },
   {
    "duration": 76,
    "start_time": "2022-01-17T11:53:39.307Z"
   },
   {
    "duration": 48,
    "start_time": "2022-01-17T11:53:39.385Z"
   },
   {
    "duration": 13,
    "start_time": "2022-01-17T11:53:39.435Z"
   },
   {
    "duration": 5,
    "start_time": "2022-01-17T11:53:39.450Z"
   },
   {
    "duration": 218,
    "start_time": "2022-01-17T11:53:39.458Z"
   },
   {
    "duration": 434,
    "start_time": "2022-01-17T11:53:39.681Z"
   },
   {
    "duration": -58,
    "start_time": "2022-01-17T11:53:40.175Z"
   },
   {
    "duration": -59,
    "start_time": "2022-01-17T11:53:40.178Z"
   },
   {
    "duration": -59,
    "start_time": "2022-01-17T11:53:40.180Z"
   },
   {
    "duration": -59,
    "start_time": "2022-01-17T11:53:40.181Z"
   },
   {
    "duration": -60,
    "start_time": "2022-01-17T11:53:40.183Z"
   },
   {
    "duration": -59,
    "start_time": "2022-01-17T11:53:40.184Z"
   },
   {
    "duration": -60,
    "start_time": "2022-01-17T11:53:40.186Z"
   },
   {
    "duration": -64,
    "start_time": "2022-01-17T11:53:40.191Z"
   },
   {
    "duration": -94,
    "start_time": "2022-01-17T11:53:40.223Z"
   },
   {
    "duration": -94,
    "start_time": "2022-01-17T11:53:40.224Z"
   },
   {
    "duration": -94,
    "start_time": "2022-01-17T11:53:40.226Z"
   },
   {
    "duration": -93,
    "start_time": "2022-01-17T11:53:40.227Z"
   },
   {
    "duration": -94,
    "start_time": "2022-01-17T11:53:40.229Z"
   },
   {
    "duration": 1476,
    "start_time": "2022-01-17T11:55:55.009Z"
   },
   {
    "duration": 475,
    "start_time": "2022-01-17T11:55:56.488Z"
   },
   {
    "duration": 37,
    "start_time": "2022-01-17T11:55:56.966Z"
   },
   {
    "duration": 29,
    "start_time": "2022-01-17T11:55:57.006Z"
   },
   {
    "duration": 23,
    "start_time": "2022-01-17T11:55:57.037Z"
   },
   {
    "duration": 20,
    "start_time": "2022-01-17T11:55:57.063Z"
   },
   {
    "duration": 60,
    "start_time": "2022-01-17T11:55:57.085Z"
   },
   {
    "duration": 105,
    "start_time": "2022-01-17T11:55:57.149Z"
   },
   {
    "duration": 350,
    "start_time": "2022-01-17T11:55:57.257Z"
   },
   {
    "duration": 17,
    "start_time": "2022-01-17T11:55:57.609Z"
   },
   {
    "duration": 14,
    "start_time": "2022-01-17T11:55:57.629Z"
   },
   {
    "duration": 32,
    "start_time": "2022-01-17T11:55:57.645Z"
   },
   {
    "duration": 95,
    "start_time": "2022-01-17T11:55:57.679Z"
   },
   {
    "duration": 10,
    "start_time": "2022-01-17T11:55:57.776Z"
   },
   {
    "duration": 7,
    "start_time": "2022-01-17T11:55:57.788Z"
   },
   {
    "duration": 27,
    "start_time": "2022-01-17T11:55:57.797Z"
   },
   {
    "duration": 65,
    "start_time": "2022-01-17T11:55:57.826Z"
   },
   {
    "duration": 90,
    "start_time": "2022-01-17T11:55:57.893Z"
   },
   {
    "duration": 45,
    "start_time": "2022-01-17T11:55:57.986Z"
   },
   {
    "duration": 12,
    "start_time": "2022-01-17T11:55:58.034Z"
   },
   {
    "duration": 5,
    "start_time": "2022-01-17T11:55:58.048Z"
   },
   {
    "duration": 233,
    "start_time": "2022-01-17T11:55:58.055Z"
   },
   {
    "duration": 689,
    "start_time": "2022-01-17T11:55:58.293Z"
   },
   {
    "duration": -1299,
    "start_time": "2022-01-17T11:56:00.284Z"
   },
   {
    "duration": -1298,
    "start_time": "2022-01-17T11:56:00.285Z"
   },
   {
    "duration": -1299,
    "start_time": "2022-01-17T11:56:00.287Z"
   },
   {
    "duration": -1299,
    "start_time": "2022-01-17T11:56:00.289Z"
   },
   {
    "duration": -1300,
    "start_time": "2022-01-17T11:56:00.291Z"
   },
   {
    "duration": -1299,
    "start_time": "2022-01-17T11:56:00.292Z"
   },
   {
    "duration": -1300,
    "start_time": "2022-01-17T11:56:00.294Z"
   },
   {
    "duration": -1300,
    "start_time": "2022-01-17T11:56:00.295Z"
   },
   {
    "duration": -1301,
    "start_time": "2022-01-17T11:56:00.297Z"
   },
   {
    "duration": -1300,
    "start_time": "2022-01-17T11:56:00.298Z"
   },
   {
    "duration": -1301,
    "start_time": "2022-01-17T11:56:00.300Z"
   },
   {
    "duration": -1301,
    "start_time": "2022-01-17T11:56:00.301Z"
   },
   {
    "duration": -1300,
    "start_time": "2022-01-17T11:56:00.302Z"
   },
   {
    "duration": 1424,
    "start_time": "2022-01-17T12:00:44.773Z"
   },
   {
    "duration": 500,
    "start_time": "2022-01-17T12:00:46.199Z"
   },
   {
    "duration": 46,
    "start_time": "2022-01-17T12:00:46.703Z"
   },
   {
    "duration": 31,
    "start_time": "2022-01-17T12:00:46.752Z"
   },
   {
    "duration": 46,
    "start_time": "2022-01-17T12:00:46.785Z"
   },
   {
    "duration": 18,
    "start_time": "2022-01-17T12:00:46.833Z"
   },
   {
    "duration": 24,
    "start_time": "2022-01-17T12:00:46.853Z"
   },
   {
    "duration": 128,
    "start_time": "2022-01-17T12:00:46.881Z"
   },
   {
    "duration": 366,
    "start_time": "2022-01-17T12:00:47.012Z"
   },
   {
    "duration": 8,
    "start_time": "2022-01-17T12:00:47.380Z"
   },
   {
    "duration": 31,
    "start_time": "2022-01-17T12:00:47.391Z"
   },
   {
    "duration": 47,
    "start_time": "2022-01-17T12:00:47.425Z"
   },
   {
    "duration": 137,
    "start_time": "2022-01-17T12:00:47.486Z"
   },
   {
    "duration": 24,
    "start_time": "2022-01-17T12:00:47.627Z"
   },
   {
    "duration": 49,
    "start_time": "2022-01-17T12:00:47.655Z"
   },
   {
    "duration": 16,
    "start_time": "2022-01-17T12:00:47.707Z"
   },
   {
    "duration": 72,
    "start_time": "2022-01-17T12:00:47.726Z"
   },
   {
    "duration": 91,
    "start_time": "2022-01-17T12:00:47.801Z"
   },
   {
    "duration": 46,
    "start_time": "2022-01-17T12:00:47.895Z"
   },
   {
    "duration": 15,
    "start_time": "2022-01-17T12:00:47.943Z"
   },
   {
    "duration": 7,
    "start_time": "2022-01-17T12:00:47.960Z"
   },
   {
    "duration": 270,
    "start_time": "2022-01-17T12:00:47.969Z"
   },
   {
    "duration": 765,
    "start_time": "2022-01-17T12:00:48.245Z"
   },
   {
    "duration": -165,
    "start_time": "2022-01-17T12:00:49.180Z"
   },
   {
    "duration": -166,
    "start_time": "2022-01-17T12:00:49.183Z"
   },
   {
    "duration": -166,
    "start_time": "2022-01-17T12:00:49.185Z"
   },
   {
    "duration": -164,
    "start_time": "2022-01-17T12:00:49.186Z"
   },
   {
    "duration": -164,
    "start_time": "2022-01-17T12:00:49.188Z"
   },
   {
    "duration": -163,
    "start_time": "2022-01-17T12:00:49.189Z"
   },
   {
    "duration": -163,
    "start_time": "2022-01-17T12:00:49.192Z"
   },
   {
    "duration": -167,
    "start_time": "2022-01-17T12:00:49.197Z"
   },
   {
    "duration": -168,
    "start_time": "2022-01-17T12:00:49.200Z"
   },
   {
    "duration": -167,
    "start_time": "2022-01-17T12:00:49.201Z"
   },
   {
    "duration": -167,
    "start_time": "2022-01-17T12:00:49.203Z"
   },
   {
    "duration": -167,
    "start_time": "2022-01-17T12:00:49.204Z"
   },
   {
    "duration": -167,
    "start_time": "2022-01-17T12:00:49.206Z"
   },
   {
    "duration": 1549,
    "start_time": "2022-01-17T12:01:37.255Z"
   },
   {
    "duration": 507,
    "start_time": "2022-01-17T12:01:38.807Z"
   },
   {
    "duration": 41,
    "start_time": "2022-01-17T12:01:39.318Z"
   },
   {
    "duration": 32,
    "start_time": "2022-01-17T12:01:39.362Z"
   },
   {
    "duration": 51,
    "start_time": "2022-01-17T12:01:39.396Z"
   },
   {
    "duration": 20,
    "start_time": "2022-01-17T12:01:39.450Z"
   },
   {
    "duration": 62,
    "start_time": "2022-01-17T12:01:39.473Z"
   },
   {
    "duration": 107,
    "start_time": "2022-01-17T12:01:39.541Z"
   },
   {
    "duration": 474,
    "start_time": "2022-01-17T12:01:39.651Z"
   },
   {
    "duration": 8,
    "start_time": "2022-01-17T12:01:40.128Z"
   },
   {
    "duration": 18,
    "start_time": "2022-01-17T12:01:40.138Z"
   },
   {
    "duration": 32,
    "start_time": "2022-01-17T12:01:40.158Z"
   },
   {
    "duration": 97,
    "start_time": "2022-01-17T12:01:40.192Z"
   },
   {
    "duration": 9,
    "start_time": "2022-01-17T12:01:40.292Z"
   },
   {
    "duration": 19,
    "start_time": "2022-01-17T12:01:40.304Z"
   },
   {
    "duration": 10,
    "start_time": "2022-01-17T12:01:40.326Z"
   },
   {
    "duration": 86,
    "start_time": "2022-01-17T12:01:40.338Z"
   },
   {
    "duration": 70,
    "start_time": "2022-01-17T12:01:40.427Z"
   },
   {
    "duration": 52,
    "start_time": "2022-01-17T12:01:40.499Z"
   },
   {
    "duration": 13,
    "start_time": "2022-01-17T12:01:40.554Z"
   },
   {
    "duration": 6,
    "start_time": "2022-01-17T12:01:40.570Z"
   },
   {
    "duration": 239,
    "start_time": "2022-01-17T12:01:40.579Z"
   },
   {
    "duration": 532,
    "start_time": "2022-01-17T12:01:40.824Z"
   },
   {
    "duration": -138,
    "start_time": "2022-01-17T12:01:41.497Z"
   },
   {
    "duration": -139,
    "start_time": "2022-01-17T12:01:41.500Z"
   },
   {
    "duration": -166,
    "start_time": "2022-01-17T12:01:41.528Z"
   },
   {
    "duration": -170,
    "start_time": "2022-01-17T12:01:41.533Z"
   },
   {
    "duration": -171,
    "start_time": "2022-01-17T12:01:41.536Z"
   },
   {
    "duration": -171,
    "start_time": "2022-01-17T12:01:41.537Z"
   },
   {
    "duration": -171,
    "start_time": "2022-01-17T12:01:41.538Z"
   },
   {
    "duration": -172,
    "start_time": "2022-01-17T12:01:41.540Z"
   },
   {
    "duration": -171,
    "start_time": "2022-01-17T12:01:41.541Z"
   },
   {
    "duration": -173,
    "start_time": "2022-01-17T12:01:41.544Z"
   },
   {
    "duration": -174,
    "start_time": "2022-01-17T12:01:41.546Z"
   },
   {
    "duration": -173,
    "start_time": "2022-01-17T12:01:41.547Z"
   },
   {
    "duration": -173,
    "start_time": "2022-01-17T12:01:41.548Z"
   },
   {
    "duration": 1459,
    "start_time": "2022-01-17T12:04:08.416Z"
   },
   {
    "duration": 476,
    "start_time": "2022-01-17T12:04:09.877Z"
   },
   {
    "duration": 38,
    "start_time": "2022-01-17T12:04:10.356Z"
   },
   {
    "duration": 31,
    "start_time": "2022-01-17T12:04:10.397Z"
   },
   {
    "duration": 26,
    "start_time": "2022-01-17T12:04:10.430Z"
   },
   {
    "duration": 16,
    "start_time": "2022-01-17T12:04:10.458Z"
   },
   {
    "duration": 54,
    "start_time": "2022-01-17T12:04:10.476Z"
   },
   {
    "duration": 103,
    "start_time": "2022-01-17T12:04:10.534Z"
   },
   {
    "duration": 358,
    "start_time": "2022-01-17T12:04:10.640Z"
   },
   {
    "duration": 8,
    "start_time": "2022-01-17T12:04:11.000Z"
   },
   {
    "duration": 25,
    "start_time": "2022-01-17T12:04:11.010Z"
   },
   {
    "duration": 32,
    "start_time": "2022-01-17T12:04:11.037Z"
   },
   {
    "duration": 90,
    "start_time": "2022-01-17T12:04:11.071Z"
   },
   {
    "duration": 9,
    "start_time": "2022-01-17T12:04:11.164Z"
   },
   {
    "duration": 6,
    "start_time": "2022-01-17T12:04:11.175Z"
   },
   {
    "duration": 9,
    "start_time": "2022-01-17T12:04:11.183Z"
   },
   {
    "duration": 80,
    "start_time": "2022-01-17T12:04:11.195Z"
   },
   {
    "duration": 79,
    "start_time": "2022-01-17T12:04:11.277Z"
   },
   {
    "duration": 31,
    "start_time": "2022-01-17T12:04:11.358Z"
   },
   {
    "duration": 32,
    "start_time": "2022-01-17T12:04:11.391Z"
   },
   {
    "duration": 6,
    "start_time": "2022-01-17T12:04:11.425Z"
   },
   {
    "duration": 211,
    "start_time": "2022-01-17T12:04:11.433Z"
   },
   {
    "duration": 538,
    "start_time": "2022-01-17T12:04:11.649Z"
   },
   {
    "duration": -134,
    "start_time": "2022-01-17T12:04:12.324Z"
   },
   {
    "duration": -135,
    "start_time": "2022-01-17T12:04:12.326Z"
   },
   {
    "duration": -137,
    "start_time": "2022-01-17T12:04:12.329Z"
   },
   {
    "duration": -137,
    "start_time": "2022-01-17T12:04:12.331Z"
   },
   {
    "duration": -136,
    "start_time": "2022-01-17T12:04:12.332Z"
   },
   {
    "duration": -137,
    "start_time": "2022-01-17T12:04:12.334Z"
   },
   {
    "duration": -136,
    "start_time": "2022-01-17T12:04:12.335Z"
   },
   {
    "duration": -135,
    "start_time": "2022-01-17T12:04:12.336Z"
   },
   {
    "duration": -136,
    "start_time": "2022-01-17T12:04:12.338Z"
   },
   {
    "duration": -135,
    "start_time": "2022-01-17T12:04:12.339Z"
   },
   {
    "duration": -134,
    "start_time": "2022-01-17T12:04:12.340Z"
   },
   {
    "duration": -135,
    "start_time": "2022-01-17T12:04:12.342Z"
   },
   {
    "duration": -134,
    "start_time": "2022-01-17T12:04:12.343Z"
   },
   {
    "duration": 1445,
    "start_time": "2022-01-17T12:10:07.820Z"
   },
   {
    "duration": 469,
    "start_time": "2022-01-17T12:10:09.267Z"
   },
   {
    "duration": 38,
    "start_time": "2022-01-17T12:10:09.739Z"
   },
   {
    "duration": 29,
    "start_time": "2022-01-17T12:10:09.780Z"
   },
   {
    "duration": 32,
    "start_time": "2022-01-17T12:10:09.811Z"
   },
   {
    "duration": 17,
    "start_time": "2022-01-17T12:10:09.846Z"
   },
   {
    "duration": 59,
    "start_time": "2022-01-17T12:10:09.866Z"
   },
   {
    "duration": 116,
    "start_time": "2022-01-17T12:10:09.931Z"
   },
   {
    "duration": 356,
    "start_time": "2022-01-17T12:10:10.050Z"
   },
   {
    "duration": 18,
    "start_time": "2022-01-17T12:10:10.410Z"
   },
   {
    "duration": 13,
    "start_time": "2022-01-17T12:10:10.431Z"
   },
   {
    "duration": 33,
    "start_time": "2022-01-17T12:10:10.447Z"
   },
   {
    "duration": 97,
    "start_time": "2022-01-17T12:10:10.483Z"
   },
   {
    "duration": 10,
    "start_time": "2022-01-17T12:10:10.582Z"
   },
   {
    "duration": 35,
    "start_time": "2022-01-17T12:10:10.595Z"
   },
   {
    "duration": 21,
    "start_time": "2022-01-17T12:10:10.633Z"
   },
   {
    "duration": 83,
    "start_time": "2022-01-17T12:10:10.656Z"
   },
   {
    "duration": 69,
    "start_time": "2022-01-17T12:10:10.741Z"
   },
   {
    "duration": 38,
    "start_time": "2022-01-17T12:10:10.813Z"
   },
   {
    "duration": 13,
    "start_time": "2022-01-17T12:10:10.853Z"
   },
   {
    "duration": 6,
    "start_time": "2022-01-17T12:10:10.868Z"
   },
   {
    "duration": 231,
    "start_time": "2022-01-17T12:10:10.877Z"
   },
   {
    "duration": 151,
    "start_time": "2022-01-17T12:10:11.123Z"
   },
   {
    "duration": -50,
    "start_time": "2022-01-17T12:10:11.326Z"
   },
   {
    "duration": -51,
    "start_time": "2022-01-17T12:10:11.329Z"
   },
   {
    "duration": -51,
    "start_time": "2022-01-17T12:10:11.331Z"
   },
   {
    "duration": -51,
    "start_time": "2022-01-17T12:10:11.332Z"
   },
   {
    "duration": -58,
    "start_time": "2022-01-17T12:10:11.340Z"
   },
   {
    "duration": -59,
    "start_time": "2022-01-17T12:10:11.342Z"
   },
   {
    "duration": -61,
    "start_time": "2022-01-17T12:10:11.346Z"
   },
   {
    "duration": -61,
    "start_time": "2022-01-17T12:10:11.347Z"
   },
   {
    "duration": -62,
    "start_time": "2022-01-17T12:10:11.350Z"
   },
   {
    "duration": -67,
    "start_time": "2022-01-17T12:10:11.356Z"
   },
   {
    "duration": -68,
    "start_time": "2022-01-17T12:10:11.358Z"
   },
   {
    "duration": -69,
    "start_time": "2022-01-17T12:10:11.360Z"
   },
   {
    "duration": -69,
    "start_time": "2022-01-17T12:10:11.362Z"
   },
   {
    "duration": 1479,
    "start_time": "2022-01-17T12:11:47.076Z"
   },
   {
    "duration": 518,
    "start_time": "2022-01-17T12:11:48.559Z"
   },
   {
    "duration": 39,
    "start_time": "2022-01-17T12:11:49.080Z"
   },
   {
    "duration": 42,
    "start_time": "2022-01-17T12:11:49.123Z"
   },
   {
    "duration": 57,
    "start_time": "2022-01-17T12:11:49.167Z"
   },
   {
    "duration": 46,
    "start_time": "2022-01-17T12:11:49.226Z"
   },
   {
    "duration": 22,
    "start_time": "2022-01-17T12:11:49.275Z"
   },
   {
    "duration": 131,
    "start_time": "2022-01-17T12:11:49.300Z"
   },
   {
    "duration": 359,
    "start_time": "2022-01-17T12:11:49.434Z"
   },
   {
    "duration": 8,
    "start_time": "2022-01-17T12:11:49.796Z"
   },
   {
    "duration": 28,
    "start_time": "2022-01-17T12:11:49.806Z"
   },
   {
    "duration": 40,
    "start_time": "2022-01-17T12:11:49.836Z"
   },
   {
    "duration": 96,
    "start_time": "2022-01-17T12:11:49.878Z"
   },
   {
    "duration": 13,
    "start_time": "2022-01-17T12:11:49.977Z"
   },
   {
    "duration": 8,
    "start_time": "2022-01-17T12:11:49.992Z"
   },
   {
    "duration": 29,
    "start_time": "2022-01-17T12:11:50.003Z"
   },
   {
    "duration": 67,
    "start_time": "2022-01-17T12:11:50.035Z"
   },
   {
    "duration": 79,
    "start_time": "2022-01-17T12:11:50.105Z"
   },
   {
    "duration": 49,
    "start_time": "2022-01-17T12:11:50.188Z"
   },
   {
    "duration": 14,
    "start_time": "2022-01-17T12:11:50.240Z"
   },
   {
    "duration": 6,
    "start_time": "2022-01-17T12:11:50.256Z"
   },
   {
    "duration": 227,
    "start_time": "2022-01-17T12:11:50.265Z"
   },
   {
    "duration": 107,
    "start_time": "2022-01-17T12:11:50.498Z"
   },
   {
    "duration": -56,
    "start_time": "2022-01-17T12:11:50.664Z"
   },
   {
    "duration": -58,
    "start_time": "2022-01-17T12:11:50.667Z"
   },
   {
    "duration": -61,
    "start_time": "2022-01-17T12:11:50.672Z"
   },
   {
    "duration": -62,
    "start_time": "2022-01-17T12:11:50.674Z"
   },
   {
    "duration": -63,
    "start_time": "2022-01-17T12:11:50.676Z"
   },
   {
    "duration": -62,
    "start_time": "2022-01-17T12:11:50.677Z"
   },
   {
    "duration": -62,
    "start_time": "2022-01-17T12:11:50.679Z"
   },
   {
    "duration": -62,
    "start_time": "2022-01-17T12:11:50.680Z"
   },
   {
    "duration": -63,
    "start_time": "2022-01-17T12:11:50.682Z"
   },
   {
    "duration": -69,
    "start_time": "2022-01-17T12:11:50.689Z"
   },
   {
    "duration": -69,
    "start_time": "2022-01-17T12:11:50.691Z"
   },
   {
    "duration": -68,
    "start_time": "2022-01-17T12:11:50.692Z"
   },
   {
    "duration": -69,
    "start_time": "2022-01-17T12:11:50.694Z"
   },
   {
    "duration": 1623,
    "start_time": "2022-01-17T12:20:31.761Z"
   },
   {
    "duration": 563,
    "start_time": "2022-01-17T12:20:33.387Z"
   },
   {
    "duration": 60,
    "start_time": "2022-01-17T12:20:33.954Z"
   },
   {
    "duration": 48,
    "start_time": "2022-01-17T12:20:34.017Z"
   },
   {
    "duration": 54,
    "start_time": "2022-01-17T12:20:34.069Z"
   },
   {
    "duration": 20,
    "start_time": "2022-01-17T12:20:34.126Z"
   },
   {
    "duration": 29,
    "start_time": "2022-01-17T12:20:34.148Z"
   },
   {
    "duration": 142,
    "start_time": "2022-01-17T12:20:34.181Z"
   },
   {
    "duration": 402,
    "start_time": "2022-01-17T12:20:34.327Z"
   },
   {
    "duration": 8,
    "start_time": "2022-01-17T12:20:34.732Z"
   },
   {
    "duration": 26,
    "start_time": "2022-01-17T12:20:34.743Z"
   },
   {
    "duration": 51,
    "start_time": "2022-01-17T12:20:34.772Z"
   },
   {
    "duration": 76,
    "start_time": "2022-01-17T12:20:34.826Z"
   },
   {
    "duration": 22,
    "start_time": "2022-01-17T12:20:34.905Z"
   },
   {
    "duration": 20,
    "start_time": "2022-01-17T12:20:34.930Z"
   },
   {
    "duration": 11,
    "start_time": "2022-01-17T12:20:34.953Z"
   },
   {
    "duration": 85,
    "start_time": "2022-01-17T12:20:34.967Z"
   },
   {
    "duration": 98,
    "start_time": "2022-01-17T12:20:35.055Z"
   },
   {
    "duration": 40,
    "start_time": "2022-01-17T12:20:35.155Z"
   },
   {
    "duration": 32,
    "start_time": "2022-01-17T12:20:35.198Z"
   },
   {
    "duration": 7,
    "start_time": "2022-01-17T12:20:35.232Z"
   },
   {
    "duration": 281,
    "start_time": "2022-01-17T12:20:35.245Z"
   },
   {
    "duration": 49,
    "start_time": "2022-01-17T12:20:35.532Z"
   },
   {
    "duration": 587,
    "start_time": "2022-01-17T12:20:35.585Z"
   },
   {
    "duration": -178,
    "start_time": "2022-01-17T12:20:36.353Z"
   },
   {
    "duration": -177,
    "start_time": "2022-01-17T12:20:36.354Z"
   },
   {
    "duration": -177,
    "start_time": "2022-01-17T12:20:36.356Z"
   },
   {
    "duration": -183,
    "start_time": "2022-01-17T12:20:36.364Z"
   },
   {
    "duration": -184,
    "start_time": "2022-01-17T12:20:36.366Z"
   },
   {
    "duration": -184,
    "start_time": "2022-01-17T12:20:36.368Z"
   },
   {
    "duration": -184,
    "start_time": "2022-01-17T12:20:36.369Z"
   },
   {
    "duration": -184,
    "start_time": "2022-01-17T12:20:36.371Z"
   },
   {
    "duration": -183,
    "start_time": "2022-01-17T12:20:36.372Z"
   },
   {
    "duration": -185,
    "start_time": "2022-01-17T12:20:36.375Z"
   },
   {
    "duration": -189,
    "start_time": "2022-01-17T12:20:36.381Z"
   },
   {
    "duration": -191,
    "start_time": "2022-01-17T12:20:36.384Z"
   },
   {
    "duration": 1406,
    "start_time": "2022-01-17T12:21:42.571Z"
   },
   {
    "duration": 474,
    "start_time": "2022-01-17T12:21:43.979Z"
   },
   {
    "duration": 37,
    "start_time": "2022-01-17T12:21:44.457Z"
   },
   {
    "duration": 30,
    "start_time": "2022-01-17T12:21:44.497Z"
   },
   {
    "duration": 25,
    "start_time": "2022-01-17T12:21:44.529Z"
   },
   {
    "duration": 16,
    "start_time": "2022-01-17T12:21:44.556Z"
   },
   {
    "duration": 57,
    "start_time": "2022-01-17T12:21:44.575Z"
   },
   {
    "duration": 118,
    "start_time": "2022-01-17T12:21:44.636Z"
   },
   {
    "duration": 356,
    "start_time": "2022-01-17T12:21:44.757Z"
   },
   {
    "duration": 12,
    "start_time": "2022-01-17T12:21:45.116Z"
   },
   {
    "duration": 15,
    "start_time": "2022-01-17T12:21:45.130Z"
   },
   {
    "duration": 41,
    "start_time": "2022-01-17T12:21:45.147Z"
   },
   {
    "duration": 87,
    "start_time": "2022-01-17T12:21:45.190Z"
   },
   {
    "duration": 9,
    "start_time": "2022-01-17T12:21:45.280Z"
   },
   {
    "duration": 10,
    "start_time": "2022-01-17T12:21:45.291Z"
   },
   {
    "duration": 20,
    "start_time": "2022-01-17T12:21:45.304Z"
   },
   {
    "duration": 59,
    "start_time": "2022-01-17T12:21:45.327Z"
   },
   {
    "duration": 87,
    "start_time": "2022-01-17T12:21:45.389Z"
   },
   {
    "duration": 50,
    "start_time": "2022-01-17T12:21:45.479Z"
   },
   {
    "duration": 13,
    "start_time": "2022-01-17T12:21:45.532Z"
   },
   {
    "duration": 5,
    "start_time": "2022-01-17T12:21:45.548Z"
   },
   {
    "duration": 222,
    "start_time": "2022-01-17T12:21:45.555Z"
   },
   {
    "duration": 47,
    "start_time": "2022-01-17T12:21:45.781Z"
   },
   {
    "duration": 34,
    "start_time": "2022-01-17T12:21:45.830Z"
   },
   {
    "duration": 59,
    "start_time": "2022-01-17T12:21:45.866Z"
   },
   {
    "duration": 19,
    "start_time": "2022-01-17T12:21:45.928Z"
   },
   {
    "duration": 550,
    "start_time": "2022-01-17T12:21:45.949Z"
   },
   {
    "duration": 27,
    "start_time": "2022-01-17T12:21:46.501Z"
   },
   {
    "duration": 557,
    "start_time": "2022-01-17T12:21:46.530Z"
   },
   {
    "duration": 34,
    "start_time": "2022-01-17T12:21:47.089Z"
   },
   {
    "duration": 586,
    "start_time": "2022-01-17T12:21:47.125Z"
   },
   {
    "duration": 15,
    "start_time": "2022-01-17T12:21:47.714Z"
   },
   {
    "duration": 15,
    "start_time": "2022-01-17T12:21:47.731Z"
   },
   {
    "duration": 8,
    "start_time": "2022-01-17T12:21:47.748Z"
   },
   {
    "duration": 17,
    "start_time": "2022-01-17T12:21:47.759Z"
   },
   {
    "duration": 50,
    "start_time": "2022-01-17T12:21:47.779Z"
   },
   {
    "duration": 1448,
    "start_time": "2022-01-17T12:32:41.513Z"
   },
   {
    "duration": 476,
    "start_time": "2022-01-17T12:32:42.963Z"
   },
   {
    "duration": 37,
    "start_time": "2022-01-17T12:32:43.442Z"
   },
   {
    "duration": 29,
    "start_time": "2022-01-17T12:32:43.482Z"
   },
   {
    "duration": 33,
    "start_time": "2022-01-17T12:32:43.513Z"
   },
   {
    "duration": 16,
    "start_time": "2022-01-17T12:32:43.548Z"
   },
   {
    "duration": 21,
    "start_time": "2022-01-17T12:32:43.566Z"
   },
   {
    "duration": 144,
    "start_time": "2022-01-17T12:32:43.590Z"
   },
   {
    "duration": 347,
    "start_time": "2022-01-17T12:32:43.738Z"
   },
   {
    "duration": 11,
    "start_time": "2022-01-17T12:32:44.088Z"
   },
   {
    "duration": 33,
    "start_time": "2022-01-17T12:32:44.101Z"
   },
   {
    "duration": 31,
    "start_time": "2022-01-17T12:32:44.136Z"
   },
   {
    "duration": 88,
    "start_time": "2022-01-17T12:32:44.169Z"
   },
   {
    "duration": 10,
    "start_time": "2022-01-17T12:32:44.259Z"
   },
   {
    "duration": 9,
    "start_time": "2022-01-17T12:32:44.271Z"
   },
   {
    "duration": 11,
    "start_time": "2022-01-17T12:32:44.282Z"
   },
   {
    "duration": 81,
    "start_time": "2022-01-17T12:32:44.296Z"
   },
   {
    "duration": 76,
    "start_time": "2022-01-17T12:32:44.379Z"
   },
   {
    "duration": 31,
    "start_time": "2022-01-17T12:32:44.457Z"
   },
   {
    "duration": 32,
    "start_time": "2022-01-17T12:32:44.490Z"
   },
   {
    "duration": 5,
    "start_time": "2022-01-17T12:32:44.524Z"
   },
   {
    "duration": 203,
    "start_time": "2022-01-17T12:32:44.531Z"
   },
   {
    "duration": 33,
    "start_time": "2022-01-17T12:32:44.739Z"
   },
   {
    "duration": 52,
    "start_time": "2022-01-17T12:32:44.775Z"
   },
   {
    "duration": 33,
    "start_time": "2022-01-17T12:32:44.830Z"
   },
   {
    "duration": 19,
    "start_time": "2022-01-17T12:32:44.865Z"
   },
   {
    "duration": 523,
    "start_time": "2022-01-17T12:32:44.886Z"
   },
   {
    "duration": 22,
    "start_time": "2022-01-17T12:32:45.412Z"
   },
   {
    "duration": 543,
    "start_time": "2022-01-17T12:32:45.437Z"
   },
   {
    "duration": 15,
    "start_time": "2022-01-17T12:32:45.983Z"
   },
   {
    "duration": 554,
    "start_time": "2022-01-17T12:32:46.001Z"
   },
   {
    "duration": 9,
    "start_time": "2022-01-17T12:32:46.557Z"
   },
   {
    "duration": 9,
    "start_time": "2022-01-17T12:32:46.568Z"
   },
   {
    "duration": 7,
    "start_time": "2022-01-17T12:32:46.580Z"
   },
   {
    "duration": 12,
    "start_time": "2022-01-17T12:32:46.624Z"
   },
   {
    "duration": 15,
    "start_time": "2022-01-17T12:32:46.639Z"
   },
   {
    "duration": 1491,
    "start_time": "2022-01-17T12:46:51.697Z"
   },
   {
    "duration": 593,
    "start_time": "2022-01-17T12:46:53.191Z"
   },
   {
    "duration": 40,
    "start_time": "2022-01-17T12:46:53.787Z"
   },
   {
    "duration": 32,
    "start_time": "2022-01-17T12:46:53.829Z"
   },
   {
    "duration": 26,
    "start_time": "2022-01-17T12:46:53.863Z"
   },
   {
    "duration": 45,
    "start_time": "2022-01-17T12:46:53.891Z"
   },
   {
    "duration": 21,
    "start_time": "2022-01-17T12:46:53.939Z"
   },
   {
    "duration": 125,
    "start_time": "2022-01-17T12:46:53.964Z"
   },
   {
    "duration": 356,
    "start_time": "2022-01-17T12:46:54.092Z"
   },
   {
    "duration": 8,
    "start_time": "2022-01-17T12:46:54.451Z"
   },
   {
    "duration": 12,
    "start_time": "2022-01-17T12:46:54.462Z"
   },
   {
    "duration": 61,
    "start_time": "2022-01-17T12:46:54.477Z"
   },
   {
    "duration": 71,
    "start_time": "2022-01-17T12:46:54.540Z"
   },
   {
    "duration": 10,
    "start_time": "2022-01-17T12:46:54.623Z"
   },
   {
    "duration": 6,
    "start_time": "2022-01-17T12:46:54.636Z"
   },
   {
    "duration": 11,
    "start_time": "2022-01-17T12:46:54.644Z"
   },
   {
    "duration": 96,
    "start_time": "2022-01-17T12:46:54.658Z"
   },
   {
    "duration": 77,
    "start_time": "2022-01-17T12:46:54.756Z"
   },
   {
    "duration": 34,
    "start_time": "2022-01-17T12:46:54.835Z"
   },
   {
    "duration": 12,
    "start_time": "2022-01-17T12:46:54.871Z"
   },
   {
    "duration": 5,
    "start_time": "2022-01-17T12:46:54.886Z"
   },
   {
    "duration": 250,
    "start_time": "2022-01-17T12:46:54.894Z"
   },
   {
    "duration": 32,
    "start_time": "2022-01-17T12:46:55.149Z"
   },
   {
    "duration": 54,
    "start_time": "2022-01-17T12:46:55.184Z"
   },
   {
    "duration": 35,
    "start_time": "2022-01-17T12:46:55.241Z"
   },
   {
    "duration": 47,
    "start_time": "2022-01-17T12:46:55.278Z"
   },
   {
    "duration": 498,
    "start_time": "2022-01-17T12:46:55.327Z"
   },
   {
    "duration": 15,
    "start_time": "2022-01-17T12:46:55.828Z"
   },
   {
    "duration": 559,
    "start_time": "2022-01-17T12:46:55.845Z"
   },
   {
    "duration": 26,
    "start_time": "2022-01-17T12:46:56.407Z"
   },
   {
    "duration": 555,
    "start_time": "2022-01-17T12:46:56.435Z"
   },
   {
    "duration": 6,
    "start_time": "2022-01-17T12:46:56.993Z"
   },
   {
    "duration": 22,
    "start_time": "2022-01-17T12:46:57.002Z"
   },
   {
    "duration": 10,
    "start_time": "2022-01-17T12:46:57.026Z"
   },
   {
    "duration": 14,
    "start_time": "2022-01-17T12:46:57.038Z"
   },
   {
    "duration": 13,
    "start_time": "2022-01-17T12:46:57.054Z"
   },
   {
    "duration": 1545,
    "start_time": "2022-01-17T12:48:19.290Z"
   },
   {
    "duration": 515,
    "start_time": "2022-01-17T12:48:20.837Z"
   },
   {
    "duration": 39,
    "start_time": "2022-01-17T12:48:21.355Z"
   },
   {
    "duration": 39,
    "start_time": "2022-01-17T12:48:21.397Z"
   },
   {
    "duration": 25,
    "start_time": "2022-01-17T12:48:21.439Z"
   },
   {
    "duration": 18,
    "start_time": "2022-01-17T12:48:21.467Z"
   },
   {
    "duration": 52,
    "start_time": "2022-01-17T12:48:21.488Z"
   },
   {
    "duration": 123,
    "start_time": "2022-01-17T12:48:21.545Z"
   },
   {
    "duration": 375,
    "start_time": "2022-01-17T12:48:21.671Z"
   },
   {
    "duration": 10,
    "start_time": "2022-01-17T12:48:22.050Z"
   },
   {
    "duration": 15,
    "start_time": "2022-01-17T12:48:22.063Z"
   },
   {
    "duration": 76,
    "start_time": "2022-01-17T12:48:22.080Z"
   },
   {
    "duration": 108,
    "start_time": "2022-01-17T12:48:22.159Z"
   },
   {
    "duration": 11,
    "start_time": "2022-01-17T12:48:22.269Z"
   },
   {
    "duration": 8,
    "start_time": "2022-01-17T12:48:22.283Z"
   },
   {
    "duration": 32,
    "start_time": "2022-01-17T12:48:22.293Z"
   },
   {
    "duration": 86,
    "start_time": "2022-01-17T12:48:22.329Z"
   },
   {
    "duration": 99,
    "start_time": "2022-01-17T12:48:22.424Z"
   },
   {
    "duration": 34,
    "start_time": "2022-01-17T12:48:22.526Z"
   },
   {
    "duration": 14,
    "start_time": "2022-01-17T12:48:22.563Z"
   },
   {
    "duration": 6,
    "start_time": "2022-01-17T12:48:22.579Z"
   },
   {
    "duration": 224,
    "start_time": "2022-01-17T12:48:22.623Z"
   },
   {
    "duration": 35,
    "start_time": "2022-01-17T12:48:22.852Z"
   },
   {
    "duration": 55,
    "start_time": "2022-01-17T12:48:22.890Z"
   },
   {
    "duration": 34,
    "start_time": "2022-01-17T12:48:22.948Z"
   },
   {
    "duration": 63,
    "start_time": "2022-01-17T12:48:22.985Z"
   },
   {
    "duration": 22,
    "start_time": "2022-01-17T12:48:23.050Z"
   },
   {
    "duration": 635,
    "start_time": "2022-01-17T12:48:23.074Z"
   },
   {
    "duration": 27,
    "start_time": "2022-01-17T12:48:23.712Z"
   },
   {
    "duration": 670,
    "start_time": "2022-01-17T12:48:23.742Z"
   },
   {
    "duration": 21,
    "start_time": "2022-01-17T12:48:24.415Z"
   },
   {
    "duration": 740,
    "start_time": "2022-01-17T12:48:24.440Z"
   },
   {
    "duration": 9,
    "start_time": "2022-01-17T12:48:25.182Z"
   },
   {
    "duration": 33,
    "start_time": "2022-01-17T12:48:25.194Z"
   },
   {
    "duration": 7,
    "start_time": "2022-01-17T12:48:25.230Z"
   },
   {
    "duration": 32,
    "start_time": "2022-01-17T12:48:25.241Z"
   },
   {
    "duration": 19,
    "start_time": "2022-01-17T12:48:25.277Z"
   },
   {
    "duration": -27541,
    "start_time": "2022-01-17T13:29:00.395Z"
   },
   {
    "duration": -195,
    "start_time": "2022-01-17T13:29:50.348Z"
   },
   {
    "duration": -214,
    "start_time": "2022-01-17T13:29:50.369Z"
   },
   {
    "duration": -215,
    "start_time": "2022-01-17T13:29:50.371Z"
   },
   {
    "duration": -215,
    "start_time": "2022-01-17T13:29:50.372Z"
   },
   {
    "duration": -215,
    "start_time": "2022-01-17T13:29:50.374Z"
   },
   {
    "duration": -215,
    "start_time": "2022-01-17T13:29:50.375Z"
   },
   {
    "duration": -216,
    "start_time": "2022-01-17T13:29:50.377Z"
   },
   {
    "duration": -155,
    "start_time": "2022-01-17T13:29:50.378Z"
   },
   {
    "duration": -158,
    "start_time": "2022-01-17T13:29:50.383Z"
   },
   {
    "duration": -159,
    "start_time": "2022-01-17T13:29:50.385Z"
   },
   {
    "duration": -159,
    "start_time": "2022-01-17T13:29:50.387Z"
   },
   {
    "duration": -158,
    "start_time": "2022-01-17T13:29:50.388Z"
   },
   {
    "duration": -158,
    "start_time": "2022-01-17T13:29:50.390Z"
   },
   {
    "duration": -157,
    "start_time": "2022-01-17T13:29:50.391Z"
   },
   {
    "duration": -158,
    "start_time": "2022-01-17T13:29:50.393Z"
   },
   {
    "duration": -163,
    "start_time": "2022-01-17T13:29:50.399Z"
   },
   {
    "duration": -163,
    "start_time": "2022-01-17T13:29:50.401Z"
   },
   {
    "duration": -164,
    "start_time": "2022-01-17T13:29:50.403Z"
   },
   {
    "duration": -164,
    "start_time": "2022-01-17T13:29:50.405Z"
   },
   {
    "duration": -164,
    "start_time": "2022-01-17T13:29:50.406Z"
   },
   {
    "duration": -164,
    "start_time": "2022-01-17T13:29:50.408Z"
   },
   {
    "duration": -164,
    "start_time": "2022-01-17T13:29:50.409Z"
   },
   {
    "duration": -164,
    "start_time": "2022-01-17T13:29:50.411Z"
   },
   {
    "duration": -164,
    "start_time": "2022-01-17T13:29:50.413Z"
   },
   {
    "duration": -167,
    "start_time": "2022-01-17T13:29:50.418Z"
   },
   {
    "duration": -170,
    "start_time": "2022-01-17T13:29:50.422Z"
   },
   {
    "duration": -170,
    "start_time": "2022-01-17T13:29:50.424Z"
   },
   {
    "duration": -170,
    "start_time": "2022-01-17T13:29:50.426Z"
   },
   {
    "duration": -170,
    "start_time": "2022-01-17T13:29:50.428Z"
   },
   {
    "duration": -175,
    "start_time": "2022-01-17T13:29:50.434Z"
   },
   {
    "duration": -203,
    "start_time": "2022-01-17T13:29:50.464Z"
   },
   {
    "duration": -146,
    "start_time": "2022-01-17T13:29:50.470Z"
   },
   {
    "duration": -147,
    "start_time": "2022-01-17T13:29:50.472Z"
   },
   {
    "duration": -147,
    "start_time": "2022-01-17T13:29:50.474Z"
   },
   {
    "duration": -147,
    "start_time": "2022-01-17T13:29:50.476Z"
   },
   {
    "duration": -149,
    "start_time": "2022-01-17T13:29:50.479Z"
   },
   {
    "duration": -153,
    "start_time": "2022-01-17T13:29:50.485Z"
   },
   {
    "duration": 1530,
    "start_time": "2022-01-17T13:30:08.587Z"
   },
   {
    "duration": 480,
    "start_time": "2022-01-17T13:30:10.120Z"
   },
   {
    "duration": 38,
    "start_time": "2022-01-17T13:30:10.603Z"
   },
   {
    "duration": 31,
    "start_time": "2022-01-17T13:30:10.643Z"
   },
   {
    "duration": 55,
    "start_time": "2022-01-17T13:30:10.677Z"
   },
   {
    "duration": 20,
    "start_time": "2022-01-17T13:30:10.734Z"
   },
   {
    "duration": 20,
    "start_time": "2022-01-17T13:30:10.759Z"
   },
   {
    "duration": 124,
    "start_time": "2022-01-17T13:30:10.783Z"
   },
   {
    "duration": 354,
    "start_time": "2022-01-17T13:30:10.910Z"
   },
   {
    "duration": 8,
    "start_time": "2022-01-17T13:30:11.267Z"
   },
   {
    "duration": 22,
    "start_time": "2022-01-17T13:30:11.278Z"
   },
   {
    "duration": 47,
    "start_time": "2022-01-17T13:30:11.302Z"
   },
   {
    "duration": 84,
    "start_time": "2022-01-17T13:30:11.351Z"
   },
   {
    "duration": 11,
    "start_time": "2022-01-17T13:30:11.437Z"
   },
   {
    "duration": 5,
    "start_time": "2022-01-17T13:30:11.450Z"
   },
   {
    "duration": 12,
    "start_time": "2022-01-17T13:30:11.458Z"
   },
   {
    "duration": 83,
    "start_time": "2022-01-17T13:30:11.472Z"
   },
   {
    "duration": 83,
    "start_time": "2022-01-17T13:30:11.557Z"
   },
   {
    "duration": 31,
    "start_time": "2022-01-17T13:30:11.642Z"
   },
   {
    "duration": 13,
    "start_time": "2022-01-17T13:30:11.676Z"
   },
   {
    "duration": 9,
    "start_time": "2022-01-17T13:30:11.691Z"
   },
   {
    "duration": 202,
    "start_time": "2022-01-17T13:30:11.724Z"
   },
   {
    "duration": 33,
    "start_time": "2022-01-17T13:30:11.932Z"
   },
   {
    "duration": 880,
    "start_time": "2022-01-17T13:30:11.969Z"
   },
   {
    "duration": -93,
    "start_time": "2022-01-17T13:30:12.945Z"
   },
   {
    "duration": -95,
    "start_time": "2022-01-17T13:30:12.948Z"
   },
   {
    "duration": -95,
    "start_time": "2022-01-17T13:30:12.949Z"
   },
   {
    "duration": -96,
    "start_time": "2022-01-17T13:30:12.951Z"
   },
   {
    "duration": -95,
    "start_time": "2022-01-17T13:30:12.952Z"
   },
   {
    "duration": -95,
    "start_time": "2022-01-17T13:30:12.953Z"
   },
   {
    "duration": -95,
    "start_time": "2022-01-17T13:30:12.955Z"
   },
   {
    "duration": -95,
    "start_time": "2022-01-17T13:30:12.956Z"
   },
   {
    "duration": -96,
    "start_time": "2022-01-17T13:30:12.958Z"
   },
   {
    "duration": -96,
    "start_time": "2022-01-17T13:30:12.959Z"
   },
   {
    "duration": -95,
    "start_time": "2022-01-17T13:30:12.960Z"
   },
   {
    "duration": -97,
    "start_time": "2022-01-17T13:30:12.963Z"
   },
   {
    "duration": -97,
    "start_time": "2022-01-17T13:30:12.964Z"
   },
   {
    "duration": 1500,
    "start_time": "2022-01-17T13:30:59.027Z"
   },
   {
    "duration": 507,
    "start_time": "2022-01-17T13:31:00.529Z"
   },
   {
    "duration": 39,
    "start_time": "2022-01-17T13:31:01.039Z"
   },
   {
    "duration": 47,
    "start_time": "2022-01-17T13:31:01.081Z"
   },
   {
    "duration": 27,
    "start_time": "2022-01-17T13:31:01.130Z"
   },
   {
    "duration": 27,
    "start_time": "2022-01-17T13:31:01.160Z"
   },
   {
    "duration": 58,
    "start_time": "2022-01-17T13:31:01.191Z"
   },
   {
    "duration": 169,
    "start_time": "2022-01-17T13:31:01.254Z"
   },
   {
    "duration": 554,
    "start_time": "2022-01-17T13:31:01.428Z"
   },
   {
    "duration": 10,
    "start_time": "2022-01-17T13:31:01.985Z"
   },
   {
    "duration": 26,
    "start_time": "2022-01-17T13:31:01.997Z"
   },
   {
    "duration": 35,
    "start_time": "2022-01-17T13:31:02.027Z"
   },
   {
    "duration": 103,
    "start_time": "2022-01-17T13:31:02.064Z"
   },
   {
    "duration": 11,
    "start_time": "2022-01-17T13:31:02.170Z"
   },
   {
    "duration": 19,
    "start_time": "2022-01-17T13:31:02.184Z"
   },
   {
    "duration": 20,
    "start_time": "2022-01-17T13:31:02.206Z"
   },
   {
    "duration": 70,
    "start_time": "2022-01-17T13:31:02.228Z"
   },
   {
    "duration": 108,
    "start_time": "2022-01-17T13:31:02.301Z"
   },
   {
    "duration": 55,
    "start_time": "2022-01-17T13:31:02.412Z"
   },
   {
    "duration": 16,
    "start_time": "2022-01-17T13:31:02.471Z"
   },
   {
    "duration": 33,
    "start_time": "2022-01-17T13:31:02.490Z"
   },
   {
    "duration": 214,
    "start_time": "2022-01-17T13:31:02.526Z"
   },
   {
    "duration": 35,
    "start_time": "2022-01-17T13:31:02.745Z"
   },
   {
    "duration": 1110,
    "start_time": "2022-01-17T13:31:02.784Z"
   },
   {
    "duration": -93,
    "start_time": "2022-01-17T13:31:03.990Z"
   },
   {
    "duration": -94,
    "start_time": "2022-01-17T13:31:03.993Z"
   },
   {
    "duration": -99,
    "start_time": "2022-01-17T13:31:04.000Z"
   },
   {
    "duration": -100,
    "start_time": "2022-01-17T13:31:04.003Z"
   },
   {
    "duration": -103,
    "start_time": "2022-01-17T13:31:04.008Z"
   },
   {
    "duration": -88,
    "start_time": "2022-01-17T13:31:04.012Z"
   },
   {
    "duration": -91,
    "start_time": "2022-01-17T13:31:04.017Z"
   },
   {
    "duration": -93,
    "start_time": "2022-01-17T13:31:04.021Z"
   },
   {
    "duration": -92,
    "start_time": "2022-01-17T13:31:04.023Z"
   },
   {
    "duration": -91,
    "start_time": "2022-01-17T13:31:04.025Z"
   },
   {
    "duration": -91,
    "start_time": "2022-01-17T13:31:04.027Z"
   },
   {
    "duration": -92,
    "start_time": "2022-01-17T13:31:04.030Z"
   },
   {
    "duration": -92,
    "start_time": "2022-01-17T13:31:04.032Z"
   },
   {
    "duration": 1591,
    "start_time": "2022-01-17T13:31:57.319Z"
   },
   {
    "duration": 520,
    "start_time": "2022-01-17T13:31:58.912Z"
   },
   {
    "duration": 77,
    "start_time": "2022-01-17T13:31:59.435Z"
   },
   {
    "duration": 57,
    "start_time": "2022-01-17T13:31:59.514Z"
   },
   {
    "duration": 50,
    "start_time": "2022-01-17T13:31:59.574Z"
   },
   {
    "duration": 17,
    "start_time": "2022-01-17T13:31:59.628Z"
   },
   {
    "duration": 22,
    "start_time": "2022-01-17T13:31:59.647Z"
   },
   {
    "duration": 104,
    "start_time": "2022-01-17T13:31:59.672Z"
   },
   {
    "duration": 483,
    "start_time": "2022-01-17T13:31:59.780Z"
   },
   {
    "duration": 63,
    "start_time": "2022-01-17T13:32:00.265Z"
   },
   {
    "duration": 36,
    "start_time": "2022-01-17T13:32:00.330Z"
   },
   {
    "duration": 43,
    "start_time": "2022-01-17T13:32:00.368Z"
   },
   {
    "duration": 67,
    "start_time": "2022-01-17T13:32:00.413Z"
   },
   {
    "duration": 11,
    "start_time": "2022-01-17T13:32:00.482Z"
   },
   {
    "duration": 12,
    "start_time": "2022-01-17T13:32:00.496Z"
   },
   {
    "duration": 19,
    "start_time": "2022-01-17T13:32:00.510Z"
   },
   {
    "duration": 78,
    "start_time": "2022-01-17T13:32:00.531Z"
   },
   {
    "duration": 79,
    "start_time": "2022-01-17T13:32:00.611Z"
   },
   {
    "duration": 49,
    "start_time": "2022-01-17T13:32:00.693Z"
   },
   {
    "duration": 9,
    "start_time": "2022-01-17T13:32:00.744Z"
   },
   {
    "duration": 22,
    "start_time": "2022-01-17T13:32:00.756Z"
   },
   {
    "duration": 218,
    "start_time": "2022-01-17T13:32:00.780Z"
   },
   {
    "duration": 44,
    "start_time": "2022-01-17T13:32:01.002Z"
   },
   {
    "duration": 58,
    "start_time": "2022-01-17T13:32:01.049Z"
   },
   {
    "duration": 878,
    "start_time": "2022-01-17T13:32:01.109Z"
   },
   {
    "duration": 53,
    "start_time": "2022-01-17T13:32:01.989Z"
   },
   {
    "duration": 21,
    "start_time": "2022-01-17T13:32:02.044Z"
   },
   {
    "duration": 604,
    "start_time": "2022-01-17T13:32:02.068Z"
   },
   {
    "duration": 15,
    "start_time": "2022-01-17T13:32:02.674Z"
   },
   {
    "duration": 510,
    "start_time": "2022-01-17T13:32:02.692Z"
   },
   {
    "duration": 29,
    "start_time": "2022-01-17T13:32:03.205Z"
   },
   {
    "duration": 660,
    "start_time": "2022-01-17T13:32:03.236Z"
   },
   {
    "duration": 24,
    "start_time": "2022-01-17T13:32:03.899Z"
   },
   {
    "duration": 7,
    "start_time": "2022-01-17T13:32:03.925Z"
   },
   {
    "duration": 9,
    "start_time": "2022-01-17T13:32:03.936Z"
   },
   {
    "duration": 15,
    "start_time": "2022-01-17T13:32:03.948Z"
   },
   {
    "duration": 57,
    "start_time": "2022-01-17T13:32:03.966Z"
   },
   {
    "duration": 1457,
    "start_time": "2022-01-17T13:33:52.942Z"
   },
   {
    "duration": 500,
    "start_time": "2022-01-17T13:33:54.401Z"
   },
   {
    "duration": 36,
    "start_time": "2022-01-17T13:33:54.904Z"
   },
   {
    "duration": 30,
    "start_time": "2022-01-17T13:33:54.943Z"
   },
   {
    "duration": 49,
    "start_time": "2022-01-17T13:33:54.975Z"
   },
   {
    "duration": 17,
    "start_time": "2022-01-17T13:33:55.026Z"
   },
   {
    "duration": 22,
    "start_time": "2022-01-17T13:33:55.046Z"
   },
   {
    "duration": 127,
    "start_time": "2022-01-17T13:33:55.072Z"
   },
   {
    "duration": 366,
    "start_time": "2022-01-17T13:33:55.202Z"
   },
   {
    "duration": 7,
    "start_time": "2022-01-17T13:33:55.571Z"
   },
   {
    "duration": 14,
    "start_time": "2022-01-17T13:33:55.581Z"
   },
   {
    "duration": 55,
    "start_time": "2022-01-17T13:33:55.598Z"
   },
   {
    "duration": 88,
    "start_time": "2022-01-17T13:33:55.656Z"
   },
   {
    "duration": 11,
    "start_time": "2022-01-17T13:33:55.746Z"
   },
   {
    "duration": 32,
    "start_time": "2022-01-17T13:33:55.759Z"
   },
   {
    "duration": 26,
    "start_time": "2022-01-17T13:33:55.794Z"
   },
   {
    "duration": 86,
    "start_time": "2022-01-17T13:33:55.822Z"
   },
   {
    "duration": 70,
    "start_time": "2022-01-17T13:33:55.910Z"
   },
   {
    "duration": 49,
    "start_time": "2022-01-17T13:33:55.982Z"
   },
   {
    "duration": 14,
    "start_time": "2022-01-17T13:33:56.033Z"
   },
   {
    "duration": 5,
    "start_time": "2022-01-17T13:33:56.049Z"
   },
   {
    "duration": 222,
    "start_time": "2022-01-17T13:33:56.056Z"
   },
   {
    "duration": 42,
    "start_time": "2022-01-17T13:33:56.283Z"
   },
   {
    "duration": 33,
    "start_time": "2022-01-17T13:33:56.328Z"
   },
   {
    "duration": 539,
    "start_time": "2022-01-17T13:33:56.364Z"
   },
   {
    "duration": 46,
    "start_time": "2022-01-17T13:33:56.906Z"
   },
   {
    "duration": 21,
    "start_time": "2022-01-17T13:33:56.955Z"
   },
   {
    "duration": 631,
    "start_time": "2022-01-17T13:33:56.979Z"
   },
   {
    "duration": 24,
    "start_time": "2022-01-17T13:33:57.612Z"
   },
   {
    "duration": 534,
    "start_time": "2022-01-17T13:33:57.639Z"
   },
   {
    "duration": 20,
    "start_time": "2022-01-17T13:33:58.176Z"
   },
   {
    "duration": 657,
    "start_time": "2022-01-17T13:33:58.198Z"
   },
   {
    "duration": 7,
    "start_time": "2022-01-17T13:33:58.858Z"
   },
   {
    "duration": 8,
    "start_time": "2022-01-17T13:33:58.867Z"
   },
   {
    "duration": 7,
    "start_time": "2022-01-17T13:33:58.878Z"
   },
   {
    "duration": 47,
    "start_time": "2022-01-17T13:33:58.887Z"
   },
   {
    "duration": 14,
    "start_time": "2022-01-17T13:33:58.936Z"
   },
   {
    "duration": 1453,
    "start_time": "2022-01-17T14:08:05.046Z"
   },
   {
    "duration": 497,
    "start_time": "2022-01-17T14:08:06.502Z"
   },
   {
    "duration": 40,
    "start_time": "2022-01-17T14:08:07.003Z"
   },
   {
    "duration": 238,
    "start_time": "2022-01-17T14:08:07.047Z"
   },
   {
    "duration": 282,
    "start_time": "2022-01-17T14:08:07.288Z"
   },
   {
    "duration": 383,
    "start_time": "2022-01-17T14:08:07.572Z"
   },
   {
    "duration": 235,
    "start_time": "2022-01-17T14:08:07.958Z"
   },
   {
    "duration": 286,
    "start_time": "2022-01-17T14:08:08.196Z"
   },
   {
    "duration": 481,
    "start_time": "2022-01-17T14:08:08.488Z"
   },
   {
    "duration": 10,
    "start_time": "2022-01-17T14:08:08.973Z"
   },
   {
    "duration": 188,
    "start_time": "2022-01-17T14:08:08.986Z"
   },
   {
    "duration": 179,
    "start_time": "2022-01-17T14:08:09.177Z"
   },
   {
    "duration": 230,
    "start_time": "2022-01-17T14:08:09.359Z"
   },
   {
    "duration": 128,
    "start_time": "2022-01-17T14:08:09.591Z"
   },
   {
    "duration": 205,
    "start_time": "2022-01-17T14:08:09.721Z"
   },
   {
    "duration": 213,
    "start_time": "2022-01-17T14:08:09.929Z"
   },
   {
    "duration": 275,
    "start_time": "2022-01-17T14:08:10.145Z"
   },
   {
    "duration": 156,
    "start_time": "2022-01-17T14:08:10.422Z"
   },
   {
    "duration": 189,
    "start_time": "2022-01-17T14:08:10.581Z"
   },
   {
    "duration": 151,
    "start_time": "2022-01-17T14:08:10.772Z"
   },
   {
    "duration": 174,
    "start_time": "2022-01-17T14:08:10.925Z"
   },
   {
    "duration": 383,
    "start_time": "2022-01-17T14:08:11.101Z"
   },
   {
    "duration": 80,
    "start_time": "2022-01-17T14:08:11.487Z"
   },
   {
    "duration": 316,
    "start_time": "2022-01-17T14:08:11.569Z"
   },
   {
    "duration": 679,
    "start_time": "2022-01-17T14:08:11.888Z"
   },
   {
    "duration": 15,
    "start_time": "2022-01-17T14:08:12.570Z"
   },
   {
    "duration": 1018,
    "start_time": "2022-01-17T14:08:12.592Z"
   },
   {
    "duration": 20,
    "start_time": "2022-01-17T14:08:13.614Z"
   },
   {
    "duration": 8975,
    "start_time": "2022-01-17T14:08:13.636Z"
   },
   {
    "duration": -95,
    "start_time": "2022-01-17T14:08:22.709Z"
   },
   {
    "duration": -96,
    "start_time": "2022-01-17T14:08:22.711Z"
   },
   {
    "duration": -90,
    "start_time": "2022-01-17T14:08:22.713Z"
   },
   {
    "duration": -89,
    "start_time": "2022-01-17T14:08:22.714Z"
   },
   {
    "duration": -90,
    "start_time": "2022-01-17T14:08:22.716Z"
   },
   {
    "duration": -133,
    "start_time": "2022-01-17T14:08:22.761Z"
   },
   {
    "duration": -134,
    "start_time": "2022-01-17T14:08:22.763Z"
   },
   {
    "duration": -134,
    "start_time": "2022-01-17T14:08:22.765Z"
   },
   {
    "duration": 1503,
    "start_time": "2022-01-17T14:09:11.101Z"
   },
   {
    "duration": 507,
    "start_time": "2022-01-17T14:09:12.606Z"
   },
   {
    "duration": 39,
    "start_time": "2022-01-17T14:09:13.116Z"
   },
   {
    "duration": 219,
    "start_time": "2022-01-17T14:09:13.157Z"
   },
   {
    "duration": 279,
    "start_time": "2022-01-17T14:09:13.379Z"
   },
   {
    "duration": 296,
    "start_time": "2022-01-17T14:09:13.661Z"
   },
   {
    "duration": 266,
    "start_time": "2022-01-17T14:09:13.960Z"
   },
   {
    "duration": 268,
    "start_time": "2022-01-17T14:09:14.230Z"
   },
   {
    "duration": 543,
    "start_time": "2022-01-17T14:09:14.501Z"
   },
   {
    "duration": 8,
    "start_time": "2022-01-17T14:09:15.046Z"
   },
   {
    "duration": 213,
    "start_time": "2022-01-17T14:09:15.057Z"
   },
   {
    "duration": 225,
    "start_time": "2022-01-17T14:09:15.273Z"
   },
   {
    "duration": 237,
    "start_time": "2022-01-17T14:09:15.500Z"
   },
   {
    "duration": 150,
    "start_time": "2022-01-17T14:09:15.739Z"
   },
   {
    "duration": 311,
    "start_time": "2022-01-17T14:09:15.892Z"
   },
   {
    "duration": 245,
    "start_time": "2022-01-17T14:09:16.205Z"
   },
   {
    "duration": 251,
    "start_time": "2022-01-17T14:09:16.453Z"
   },
   {
    "duration": 212,
    "start_time": "2022-01-17T14:09:16.707Z"
   },
   {
    "duration": 231,
    "start_time": "2022-01-17T14:09:16.921Z"
   },
   {
    "duration": 184,
    "start_time": "2022-01-17T14:09:17.154Z"
   },
   {
    "duration": 184,
    "start_time": "2022-01-17T14:09:17.340Z"
   },
   {
    "duration": 407,
    "start_time": "2022-01-17T14:09:17.526Z"
   },
   {
    "duration": 34,
    "start_time": "2022-01-17T14:09:17.938Z"
   },
   {
    "duration": 265,
    "start_time": "2022-01-17T14:09:17.976Z"
   },
   {
    "duration": 655,
    "start_time": "2022-01-17T14:09:18.244Z"
   },
   {
    "duration": 29,
    "start_time": "2022-01-17T14:09:18.902Z"
   },
   {
    "duration": 708,
    "start_time": "2022-01-17T14:09:18.934Z"
   },
   {
    "duration": 15,
    "start_time": "2022-01-17T14:09:19.645Z"
   },
   {
    "duration": 9066,
    "start_time": "2022-01-17T14:09:19.662Z"
   },
   {
    "duration": -91,
    "start_time": "2022-01-17T14:09:28.821Z"
   },
   {
    "duration": -94,
    "start_time": "2022-01-17T14:09:28.826Z"
   },
   {
    "duration": -96,
    "start_time": "2022-01-17T14:09:28.829Z"
   },
   {
    "duration": -100,
    "start_time": "2022-01-17T14:09:28.835Z"
   },
   {
    "duration": -101,
    "start_time": "2022-01-17T14:09:28.837Z"
   },
   {
    "duration": -101,
    "start_time": "2022-01-17T14:09:28.838Z"
   },
   {
    "duration": -101,
    "start_time": "2022-01-17T14:09:28.840Z"
   },
   {
    "duration": -102,
    "start_time": "2022-01-17T14:09:28.842Z"
   },
   {
    "duration": 1532,
    "start_time": "2022-01-17T14:15:10.471Z"
   },
   {
    "duration": 522,
    "start_time": "2022-01-17T14:15:12.007Z"
   },
   {
    "duration": 41,
    "start_time": "2022-01-17T14:15:12.532Z"
   },
   {
    "duration": 211,
    "start_time": "2022-01-17T14:15:12.576Z"
   },
   {
    "duration": 274,
    "start_time": "2022-01-17T14:15:12.790Z"
   },
   {
    "duration": 291,
    "start_time": "2022-01-17T14:15:13.067Z"
   },
   {
    "duration": 279,
    "start_time": "2022-01-17T14:15:13.361Z"
   },
   {
    "duration": 355,
    "start_time": "2022-01-17T14:15:13.643Z"
   },
   {
    "duration": 487,
    "start_time": "2022-01-17T14:15:14.002Z"
   },
   {
    "duration": 8,
    "start_time": "2022-01-17T14:15:14.493Z"
   },
   {
    "duration": 296,
    "start_time": "2022-01-17T14:15:14.523Z"
   },
   {
    "duration": 212,
    "start_time": "2022-01-17T14:15:14.822Z"
   },
   {
    "duration": 387,
    "start_time": "2022-01-17T14:15:15.038Z"
   },
   {
    "duration": 157,
    "start_time": "2022-01-17T14:15:15.429Z"
   },
   {
    "duration": 230,
    "start_time": "2022-01-17T14:15:15.589Z"
   },
   {
    "duration": 188,
    "start_time": "2022-01-17T14:15:15.821Z"
   },
   {
    "duration": 286,
    "start_time": "2022-01-17T14:15:16.011Z"
   },
   {
    "duration": 249,
    "start_time": "2022-01-17T14:15:16.299Z"
   },
   {
    "duration": 280,
    "start_time": "2022-01-17T14:15:16.552Z"
   },
   {
    "duration": 213,
    "start_time": "2022-01-17T14:15:16.835Z"
   },
   {
    "duration": 196,
    "start_time": "2022-01-17T14:15:17.050Z"
   },
   {
    "duration": 436,
    "start_time": "2022-01-17T14:15:17.248Z"
   },
   {
    "duration": 48,
    "start_time": "2022-01-17T14:15:17.687Z"
   },
   {
    "duration": 330,
    "start_time": "2022-01-17T14:15:17.738Z"
   },
   {
    "duration": 216,
    "start_time": "2022-01-17T14:15:18.071Z"
   },
   {
    "duration": 748,
    "start_time": "2022-01-17T14:15:18.290Z"
   },
   {
    "duration": 17,
    "start_time": "2022-01-17T14:15:19.043Z"
   },
   {
    "duration": 735,
    "start_time": "2022-01-17T14:15:19.063Z"
   },
   {
    "duration": 30,
    "start_time": "2022-01-17T14:15:19.801Z"
   },
   {
    "duration": 813,
    "start_time": "2022-01-17T14:15:19.834Z"
   },
   {
    "duration": 8,
    "start_time": "2022-01-17T14:15:20.651Z"
   },
   {
    "duration": 673,
    "start_time": "2022-01-17T14:15:20.663Z"
   },
   {
    "duration": -52,
    "start_time": "2022-01-17T14:15:21.390Z"
   },
   {
    "duration": -53,
    "start_time": "2022-01-17T14:15:21.393Z"
   },
   {
    "duration": -91,
    "start_time": "2022-01-17T14:15:21.433Z"
   },
   {
    "duration": -94,
    "start_time": "2022-01-17T14:15:21.438Z"
   },
   {
    "duration": 1519,
    "start_time": "2022-01-17T14:55:01.904Z"
   },
   {
    "duration": 507,
    "start_time": "2022-01-17T14:55:03.426Z"
   },
   {
    "duration": 39,
    "start_time": "2022-01-17T14:55:03.937Z"
   },
   {
    "duration": 188,
    "start_time": "2022-01-17T14:55:03.979Z"
   },
   {
    "duration": 186,
    "start_time": "2022-01-17T14:55:04.169Z"
   },
   {
    "duration": 216,
    "start_time": "2022-01-17T14:55:04.357Z"
   },
   {
    "duration": 185,
    "start_time": "2022-01-17T14:55:04.575Z"
   },
   {
    "duration": 274,
    "start_time": "2022-01-17T14:55:04.762Z"
   },
   {
    "duration": 428,
    "start_time": "2022-01-17T14:55:05.041Z"
   },
   {
    "duration": 8,
    "start_time": "2022-01-17T14:55:05.473Z"
   },
   {
    "duration": 196,
    "start_time": "2022-01-17T14:55:05.483Z"
   },
   {
    "duration": 202,
    "start_time": "2022-01-17T14:55:05.681Z"
   },
   {
    "duration": 233,
    "start_time": "2022-01-17T14:55:05.885Z"
   },
   {
    "duration": 164,
    "start_time": "2022-01-17T14:55:06.121Z"
   },
   {
    "duration": 171,
    "start_time": "2022-01-17T14:55:06.288Z"
   },
   {
    "duration": 190,
    "start_time": "2022-01-17T14:55:06.462Z"
   },
   {
    "duration": 215,
    "start_time": "2022-01-17T14:55:06.654Z"
   },
   {
    "duration": 168,
    "start_time": "2022-01-17T14:55:06.871Z"
   },
   {
    "duration": 102,
    "start_time": "2022-01-17T14:55:07.042Z"
   },
   {
    "duration": 140,
    "start_time": "2022-01-17T14:55:07.146Z"
   },
   {
    "duration": 240,
    "start_time": "2022-01-17T14:55:07.288Z"
   },
   {
    "duration": 431,
    "start_time": "2022-01-17T14:55:07.530Z"
   },
   {
    "duration": 31,
    "start_time": "2022-01-17T14:55:07.964Z"
   },
   {
    "duration": 206,
    "start_time": "2022-01-17T14:55:07.997Z"
   },
   {
    "duration": 163,
    "start_time": "2022-01-17T14:55:08.206Z"
   },
   {
    "duration": 740,
    "start_time": "2022-01-17T14:55:08.372Z"
   },
   {
    "duration": 20,
    "start_time": "2022-01-17T14:55:09.117Z"
   },
   {
    "duration": 928,
    "start_time": "2022-01-17T14:55:09.139Z"
   },
   {
    "duration": 16,
    "start_time": "2022-01-17T14:55:10.069Z"
   },
   {
    "duration": 828,
    "start_time": "2022-01-17T14:55:10.088Z"
   },
   {
    "duration": 8,
    "start_time": "2022-01-17T14:55:10.923Z"
   },
   {
    "duration": 253,
    "start_time": "2022-01-17T14:55:10.933Z"
   },
   {
    "duration": 638,
    "start_time": "2022-01-17T14:55:11.189Z"
   },
   {
    "duration": -48,
    "start_time": "2022-01-17T14:55:11.878Z"
   },
   {
    "duration": -88,
    "start_time": "2022-01-17T14:55:11.919Z"
   },
   {
    "duration": -88,
    "start_time": "2022-01-17T14:55:11.921Z"
   },
   {
    "duration": 1764,
    "start_time": "2022-01-17T14:55:57.511Z"
   },
   {
    "duration": 520,
    "start_time": "2022-01-17T14:55:59.278Z"
   },
   {
    "duration": 38,
    "start_time": "2022-01-17T14:55:59.801Z"
   },
   {
    "duration": 299,
    "start_time": "2022-01-17T14:55:59.842Z"
   },
   {
    "duration": 272,
    "start_time": "2022-01-17T14:56:00.143Z"
   },
   {
    "duration": 312,
    "start_time": "2022-01-17T14:56:00.417Z"
   },
   {
    "duration": 207,
    "start_time": "2022-01-17T14:56:00.732Z"
   },
   {
    "duration": 483,
    "start_time": "2022-01-17T14:56:00.942Z"
   },
   {
    "duration": 660,
    "start_time": "2022-01-17T14:56:01.430Z"
   },
   {
    "duration": 8,
    "start_time": "2022-01-17T14:56:02.093Z"
   },
   {
    "duration": 173,
    "start_time": "2022-01-17T14:56:02.104Z"
   },
   {
    "duration": 239,
    "start_time": "2022-01-17T14:56:02.280Z"
   },
   {
    "duration": 258,
    "start_time": "2022-01-17T14:56:02.522Z"
   },
   {
    "duration": 124,
    "start_time": "2022-01-17T14:56:02.783Z"
   },
   {
    "duration": 168,
    "start_time": "2022-01-17T14:56:02.910Z"
   },
   {
    "duration": 257,
    "start_time": "2022-01-17T14:56:03.080Z"
   },
   {
    "duration": 235,
    "start_time": "2022-01-17T14:56:03.340Z"
   },
   {
    "duration": 182,
    "start_time": "2022-01-17T14:56:03.578Z"
   },
   {
    "duration": 222,
    "start_time": "2022-01-17T14:56:03.764Z"
   },
   {
    "duration": 161,
    "start_time": "2022-01-17T14:56:03.988Z"
   },
   {
    "duration": 186,
    "start_time": "2022-01-17T14:56:04.152Z"
   },
   {
    "duration": 390,
    "start_time": "2022-01-17T14:56:04.341Z"
   },
   {
    "duration": 32,
    "start_time": "2022-01-17T14:56:04.734Z"
   },
   {
    "duration": 303,
    "start_time": "2022-01-17T14:56:04.769Z"
   },
   {
    "duration": 161,
    "start_time": "2022-01-17T14:56:05.074Z"
   },
   {
    "duration": 758,
    "start_time": "2022-01-17T14:56:05.237Z"
   },
   {
    "duration": 29,
    "start_time": "2022-01-17T14:56:06.001Z"
   },
   {
    "duration": 683,
    "start_time": "2022-01-17T14:56:06.033Z"
   },
   {
    "duration": 16,
    "start_time": "2022-01-17T14:56:06.722Z"
   },
   {
    "duration": 750,
    "start_time": "2022-01-17T14:56:06.741Z"
   },
   {
    "duration": 7,
    "start_time": "2022-01-17T14:56:07.493Z"
   },
   {
    "duration": 227,
    "start_time": "2022-01-17T14:56:07.502Z"
   },
   {
    "duration": 194,
    "start_time": "2022-01-17T14:56:07.732Z"
   },
   {
    "duration": 187,
    "start_time": "2022-01-17T14:56:07.929Z"
   },
   {
    "duration": 165,
    "start_time": "2022-01-17T14:56:08.119Z"
   },
   {
    "duration": 156,
    "start_time": "2022-01-17T14:56:08.287Z"
   },
   {
    "duration": 1504,
    "start_time": "2022-01-17T15:05:05.905Z"
   },
   {
    "duration": 492,
    "start_time": "2022-01-17T15:05:07.411Z"
   },
   {
    "duration": 41,
    "start_time": "2022-01-17T15:05:07.907Z"
   },
   {
    "duration": 199,
    "start_time": "2022-01-17T15:05:07.952Z"
   },
   {
    "duration": 173,
    "start_time": "2022-01-17T15:05:08.154Z"
   },
   {
    "duration": 194,
    "start_time": "2022-01-17T15:05:08.330Z"
   },
   {
    "duration": 185,
    "start_time": "2022-01-17T15:05:08.527Z"
   },
   {
    "duration": 320,
    "start_time": "2022-01-17T15:05:08.714Z"
   },
   {
    "duration": 462,
    "start_time": "2022-01-17T15:05:09.038Z"
   },
   {
    "duration": 23,
    "start_time": "2022-01-17T15:05:09.504Z"
   },
   {
    "duration": 251,
    "start_time": "2022-01-17T15:05:09.529Z"
   },
   {
    "duration": 220,
    "start_time": "2022-01-17T15:05:09.783Z"
   },
   {
    "duration": 357,
    "start_time": "2022-01-17T15:05:10.006Z"
   },
   {
    "duration": 165,
    "start_time": "2022-01-17T15:05:10.365Z"
   },
   {
    "duration": 296,
    "start_time": "2022-01-17T15:05:10.532Z"
   },
   {
    "duration": 236,
    "start_time": "2022-01-17T15:05:10.830Z"
   },
   {
    "duration": 273,
    "start_time": "2022-01-17T15:05:11.068Z"
   },
   {
    "duration": 197,
    "start_time": "2022-01-17T15:05:11.343Z"
   },
   {
    "duration": 143,
    "start_time": "2022-01-17T15:05:11.543Z"
   },
   {
    "duration": 179,
    "start_time": "2022-01-17T15:05:11.688Z"
   },
   {
    "duration": 171,
    "start_time": "2022-01-17T15:05:11.869Z"
   },
   {
    "duration": 481,
    "start_time": "2022-01-17T15:05:12.042Z"
   },
   {
    "duration": 87,
    "start_time": "2022-01-17T15:05:12.525Z"
   },
   {
    "duration": 214,
    "start_time": "2022-01-17T15:05:12.615Z"
   },
   {
    "duration": 205,
    "start_time": "2022-01-17T15:05:12.832Z"
   },
   {
    "duration": 222,
    "start_time": "2022-01-17T15:05:13.039Z"
   },
   {
    "duration": 207,
    "start_time": "2022-01-17T15:05:13.266Z"
   },
   {
    "duration": 697,
    "start_time": "2022-01-17T15:05:13.476Z"
   },
   {
    "duration": 6,
    "start_time": "2022-01-17T15:05:14.176Z"
   },
   {
    "duration": 238,
    "start_time": "2022-01-17T15:05:14.184Z"
   },
   {
    "duration": 207,
    "start_time": "2022-01-17T15:05:14.424Z"
   },
   {
    "duration": 734,
    "start_time": "2022-01-17T15:05:14.634Z"
   },
   {
    "duration": 7,
    "start_time": "2022-01-17T15:05:15.370Z"
   },
   {
    "duration": 190,
    "start_time": "2022-01-17T15:05:15.379Z"
   },
   {
    "duration": 193,
    "start_time": "2022-01-17T15:05:15.571Z"
   },
   {
    "duration": 748,
    "start_time": "2022-01-17T15:05:15.766Z"
   },
   {
    "duration": 9,
    "start_time": "2022-01-17T15:05:16.517Z"
   },
   {
    "duration": 226,
    "start_time": "2022-01-17T15:05:16.528Z"
   },
   {
    "duration": 227,
    "start_time": "2022-01-17T15:05:16.757Z"
   },
   {
    "duration": 199,
    "start_time": "2022-01-17T15:05:16.987Z"
   },
   {
    "duration": 223,
    "start_time": "2022-01-17T15:05:17.189Z"
   },
   {
    "duration": 276,
    "start_time": "2022-01-17T15:05:17.415Z"
   },
   {
    "duration": 242,
    "start_time": "2022-01-17T15:05:17.693Z"
   },
   {
    "duration": 1489,
    "start_time": "2022-01-17T15:08:16.772Z"
   },
   {
    "duration": 503,
    "start_time": "2022-01-17T15:08:18.264Z"
   },
   {
    "duration": 63,
    "start_time": "2022-01-17T15:08:18.772Z"
   },
   {
    "duration": 185,
    "start_time": "2022-01-17T15:08:18.838Z"
   },
   {
    "duration": 193,
    "start_time": "2022-01-17T15:08:19.026Z"
   },
   {
    "duration": 172,
    "start_time": "2022-01-17T15:08:19.221Z"
   },
   {
    "duration": 238,
    "start_time": "2022-01-17T15:08:19.396Z"
   },
   {
    "duration": 295,
    "start_time": "2022-01-17T15:08:19.638Z"
   },
   {
    "duration": 463,
    "start_time": "2022-01-17T15:08:19.936Z"
   },
   {
    "duration": 8,
    "start_time": "2022-01-17T15:08:20.402Z"
   },
   {
    "duration": 219,
    "start_time": "2022-01-17T15:08:20.423Z"
   },
   {
    "duration": 218,
    "start_time": "2022-01-17T15:08:20.646Z"
   },
   {
    "duration": 246,
    "start_time": "2022-01-17T15:08:20.868Z"
   },
   {
    "duration": 145,
    "start_time": "2022-01-17T15:08:21.118Z"
   },
   {
    "duration": 213,
    "start_time": "2022-01-17T15:08:21.267Z"
   },
   {
    "duration": 250,
    "start_time": "2022-01-17T15:08:21.483Z"
   },
   {
    "duration": 286,
    "start_time": "2022-01-17T15:08:21.737Z"
   },
   {
    "duration": 199,
    "start_time": "2022-01-17T15:08:22.026Z"
   },
   {
    "duration": 306,
    "start_time": "2022-01-17T15:08:22.228Z"
   },
   {
    "duration": 258,
    "start_time": "2022-01-17T15:08:22.538Z"
   },
   {
    "duration": 320,
    "start_time": "2022-01-17T15:08:22.799Z"
   },
   {
    "duration": 508,
    "start_time": "2022-01-17T15:08:23.121Z"
   },
   {
    "duration": 98,
    "start_time": "2022-01-17T15:08:23.634Z"
   },
   {
    "duration": 290,
    "start_time": "2022-01-17T15:08:23.736Z"
   },
   {
    "duration": 290,
    "start_time": "2022-01-17T15:08:24.028Z"
   },
   {
    "duration": 244,
    "start_time": "2022-01-17T15:08:24.320Z"
   },
   {
    "duration": 164,
    "start_time": "2022-01-17T15:08:24.566Z"
   },
   {
    "duration": 189,
    "start_time": "2022-01-17T15:08:24.733Z"
   },
   {
    "duration": 724,
    "start_time": "2022-01-17T15:08:24.925Z"
   },
   {
    "duration": 8,
    "start_time": "2022-01-17T15:08:25.653Z"
   },
   {
    "duration": 352,
    "start_time": "2022-01-17T15:08:25.663Z"
   },
   {
    "duration": 250,
    "start_time": "2022-01-17T15:08:26.017Z"
   },
   {
    "duration": 1153,
    "start_time": "2022-01-17T15:08:26.270Z"
   },
   {
    "duration": 10,
    "start_time": "2022-01-17T15:08:27.426Z"
   },
   {
    "duration": 315,
    "start_time": "2022-01-17T15:08:27.439Z"
   },
   {
    "duration": 223,
    "start_time": "2022-01-17T15:08:27.758Z"
   },
   {
    "duration": 946,
    "start_time": "2022-01-17T15:08:27.984Z"
   },
   {
    "duration": 5,
    "start_time": "2022-01-17T15:08:28.932Z"
   },
   {
    "duration": 321,
    "start_time": "2022-01-17T15:08:28.940Z"
   },
   {
    "duration": 190,
    "start_time": "2022-01-17T15:08:29.264Z"
   },
   {
    "duration": 210,
    "start_time": "2022-01-17T15:08:29.457Z"
   },
   {
    "duration": 229,
    "start_time": "2022-01-17T15:08:29.671Z"
   },
   {
    "duration": 190,
    "start_time": "2022-01-17T15:08:29.903Z"
   },
   {
    "duration": 228,
    "start_time": "2022-01-17T15:08:30.097Z"
   },
   {
    "duration": 1452,
    "start_time": "2022-01-17T15:09:38.531Z"
   },
   {
    "duration": 484,
    "start_time": "2022-01-17T15:09:39.986Z"
   },
   {
    "duration": 40,
    "start_time": "2022-01-17T15:09:40.473Z"
   },
   {
    "duration": 218,
    "start_time": "2022-01-17T15:09:40.516Z"
   },
   {
    "duration": 188,
    "start_time": "2022-01-17T15:09:40.737Z"
   },
   {
    "duration": 184,
    "start_time": "2022-01-17T15:09:40.927Z"
   },
   {
    "duration": 221,
    "start_time": "2022-01-17T15:09:41.114Z"
   },
   {
    "duration": 292,
    "start_time": "2022-01-17T15:09:41.337Z"
   },
   {
    "duration": 444,
    "start_time": "2022-01-17T15:09:41.633Z"
   },
   {
    "duration": 10,
    "start_time": "2022-01-17T15:09:42.080Z"
   },
   {
    "duration": 161,
    "start_time": "2022-01-17T15:09:42.093Z"
   },
   {
    "duration": 212,
    "start_time": "2022-01-17T15:09:42.258Z"
   },
   {
    "duration": 224,
    "start_time": "2022-01-17T15:09:42.472Z"
   },
   {
    "duration": 161,
    "start_time": "2022-01-17T15:09:42.699Z"
   },
   {
    "duration": 191,
    "start_time": "2022-01-17T15:09:42.862Z"
   },
   {
    "duration": 222,
    "start_time": "2022-01-17T15:09:43.056Z"
   },
   {
    "duration": 281,
    "start_time": "2022-01-17T15:09:43.281Z"
   },
   {
    "duration": 182,
    "start_time": "2022-01-17T15:09:43.565Z"
   },
   {
    "duration": 227,
    "start_time": "2022-01-17T15:09:43.750Z"
   },
   {
    "duration": 176,
    "start_time": "2022-01-17T15:09:43.980Z"
   },
   {
    "duration": 199,
    "start_time": "2022-01-17T15:09:44.158Z"
   },
   {
    "duration": 396,
    "start_time": "2022-01-17T15:09:44.360Z"
   },
   {
    "duration": 36,
    "start_time": "2022-01-17T15:09:44.759Z"
   },
   {
    "duration": 260,
    "start_time": "2022-01-17T15:09:44.798Z"
   },
   {
    "duration": 182,
    "start_time": "2022-01-17T15:09:45.060Z"
   },
   {
    "duration": 182,
    "start_time": "2022-01-17T15:09:45.244Z"
   },
   {
    "duration": 214,
    "start_time": "2022-01-17T15:09:45.432Z"
   },
   {
    "duration": 200,
    "start_time": "2022-01-17T15:09:45.648Z"
   },
   {
    "duration": 702,
    "start_time": "2022-01-17T15:09:45.850Z"
   },
   {
    "duration": 6,
    "start_time": "2022-01-17T15:09:46.556Z"
   },
   {
    "duration": 233,
    "start_time": "2022-01-17T15:09:46.564Z"
   },
   {
    "duration": 287,
    "start_time": "2022-01-17T15:09:46.799Z"
   },
   {
    "duration": 783,
    "start_time": "2022-01-17T15:09:47.088Z"
   },
   {
    "duration": 7,
    "start_time": "2022-01-17T15:09:47.874Z"
   },
   {
    "duration": 220,
    "start_time": "2022-01-17T15:09:47.884Z"
   },
   {
    "duration": 219,
    "start_time": "2022-01-17T15:09:48.106Z"
   },
   {
    "duration": 755,
    "start_time": "2022-01-17T15:09:48.327Z"
   },
   {
    "duration": 8,
    "start_time": "2022-01-17T15:09:49.084Z"
   },
   {
    "duration": 190,
    "start_time": "2022-01-17T15:09:49.095Z"
   },
   {
    "duration": 247,
    "start_time": "2022-01-17T15:09:49.287Z"
   },
   {
    "duration": 196,
    "start_time": "2022-01-17T15:09:49.537Z"
   },
   {
    "duration": 239,
    "start_time": "2022-01-17T15:09:49.736Z"
   },
   {
    "duration": 198,
    "start_time": "2022-01-17T15:09:49.977Z"
   },
   {
    "duration": 188,
    "start_time": "2022-01-17T15:09:50.178Z"
   },
   {
    "duration": 161,
    "start_time": "2022-01-17T18:36:22.192Z"
   },
   {
    "duration": 1074,
    "start_time": "2022-01-17T18:36:38.159Z"
   },
   {
    "duration": 385,
    "start_time": "2022-01-17T18:36:39.235Z"
   },
   {
    "duration": 29,
    "start_time": "2022-01-17T18:36:39.622Z"
   },
   {
    "duration": 22,
    "start_time": "2022-01-17T18:36:39.653Z"
   },
   {
    "duration": 18,
    "start_time": "2022-01-17T18:36:39.677Z"
   },
   {
    "duration": 10,
    "start_time": "2022-01-17T18:36:39.696Z"
   },
   {
    "duration": 13,
    "start_time": "2022-01-17T18:36:39.708Z"
   },
   {
    "duration": 88,
    "start_time": "2022-01-17T18:36:39.724Z"
   },
   {
    "duration": 249,
    "start_time": "2022-01-17T18:36:39.815Z"
   },
   {
    "duration": 6,
    "start_time": "2022-01-17T18:36:40.066Z"
   },
   {
    "duration": 18,
    "start_time": "2022-01-17T18:36:40.074Z"
   },
   {
    "duration": 23,
    "start_time": "2022-01-17T18:36:40.094Z"
   },
   {
    "duration": 57,
    "start_time": "2022-01-17T18:36:40.118Z"
   },
   {
    "duration": 7,
    "start_time": "2022-01-17T18:36:40.191Z"
   },
   {
    "duration": 3,
    "start_time": "2022-01-17T18:36:40.200Z"
   },
   {
    "duration": 9,
    "start_time": "2022-01-17T18:36:40.204Z"
   },
   {
    "duration": 50,
    "start_time": "2022-01-17T18:36:40.214Z"
   },
   {
    "duration": 64,
    "start_time": "2022-01-17T18:36:40.266Z"
   },
   {
    "duration": 19,
    "start_time": "2022-01-17T18:36:40.332Z"
   },
   {
    "duration": 6,
    "start_time": "2022-01-17T18:36:40.353Z"
   },
   {
    "duration": 3,
    "start_time": "2022-01-17T18:36:40.361Z"
   },
   {
    "duration": 150,
    "start_time": "2022-01-17T18:36:40.365Z"
   },
   {
    "duration": 23,
    "start_time": "2022-01-17T18:36:40.519Z"
   },
   {
    "duration": 21,
    "start_time": "2022-01-17T18:36:40.544Z"
   },
   {
    "duration": 24,
    "start_time": "2022-01-17T18:36:40.567Z"
   },
   {
    "duration": 4,
    "start_time": "2022-01-17T18:36:40.593Z"
   },
   {
    "duration": 21,
    "start_time": "2022-01-17T18:36:40.598Z"
   },
   {
    "duration": 16,
    "start_time": "2022-01-17T18:36:40.621Z"
   },
   {
    "duration": 360,
    "start_time": "2022-01-17T18:36:40.638Z"
   },
   {
    "duration": 5,
    "start_time": "2022-01-17T18:36:41.000Z"
   },
   {
    "duration": 9,
    "start_time": "2022-01-17T18:36:41.007Z"
   },
   {
    "duration": 11,
    "start_time": "2022-01-17T18:36:41.017Z"
   },
   {
    "duration": 350,
    "start_time": "2022-01-17T18:36:41.030Z"
   },
   {
    "duration": 10,
    "start_time": "2022-01-17T18:36:41.382Z"
   },
   {
    "duration": 9,
    "start_time": "2022-01-17T18:36:41.393Z"
   },
   {
    "duration": 8,
    "start_time": "2022-01-17T18:36:41.403Z"
   },
   {
    "duration": 406,
    "start_time": "2022-01-17T18:36:41.413Z"
   },
   {
    "duration": 6,
    "start_time": "2022-01-17T18:36:41.821Z"
   },
   {
    "duration": 5,
    "start_time": "2022-01-17T18:36:41.829Z"
   },
   {
    "duration": 5,
    "start_time": "2022-01-17T18:36:41.835Z"
   },
   {
    "duration": 6,
    "start_time": "2022-01-17T18:36:41.841Z"
   },
   {
    "duration": 52,
    "start_time": "2022-01-17T18:36:41.848Z"
   },
   {
    "duration": 8,
    "start_time": "2022-01-17T18:36:41.901Z"
   },
   {
    "duration": 9,
    "start_time": "2022-01-17T18:36:41.910Z"
   },
   {
    "duration": 291,
    "start_time": "2022-01-17T19:26:04.860Z"
   },
   {
    "duration": 289,
    "start_time": "2022-01-17T19:26:34.215Z"
   },
   {
    "duration": 219,
    "start_time": "2022-01-17T19:43:58.281Z"
   },
   {
    "duration": 130,
    "start_time": "2022-01-17T19:44:21.682Z"
   },
   {
    "duration": 131,
    "start_time": "2022-01-17T19:44:38.953Z"
   },
   {
    "duration": 132,
    "start_time": "2022-01-17T19:45:13.108Z"
   },
   {
    "duration": 248,
    "start_time": "2022-01-17T19:45:14.315Z"
   },
   {
    "duration": 1079,
    "start_time": "2022-01-17T19:45:24.043Z"
   },
   {
    "duration": 389,
    "start_time": "2022-01-17T19:45:25.124Z"
   },
   {
    "duration": 29,
    "start_time": "2022-01-17T19:45:25.515Z"
   },
   {
    "duration": 23,
    "start_time": "2022-01-17T19:45:25.545Z"
   },
   {
    "duration": 17,
    "start_time": "2022-01-17T19:45:25.569Z"
   },
   {
    "duration": 11,
    "start_time": "2022-01-17T19:45:25.591Z"
   },
   {
    "duration": 12,
    "start_time": "2022-01-17T19:45:25.603Z"
   },
   {
    "duration": 84,
    "start_time": "2022-01-17T19:45:25.617Z"
   },
   {
    "duration": 246,
    "start_time": "2022-01-17T19:45:25.703Z"
   },
   {
    "duration": 7,
    "start_time": "2022-01-17T19:45:25.950Z"
   },
   {
    "duration": 9,
    "start_time": "2022-01-17T19:45:25.959Z"
   },
   {
    "duration": 44,
    "start_time": "2022-01-17T19:45:25.969Z"
   },
   {
    "duration": 54,
    "start_time": "2022-01-17T19:45:26.014Z"
   },
   {
    "duration": 23,
    "start_time": "2022-01-17T19:45:26.069Z"
   },
   {
    "duration": 6,
    "start_time": "2022-01-17T19:45:26.093Z"
   },
   {
    "duration": 8,
    "start_time": "2022-01-17T19:45:26.100Z"
   },
   {
    "duration": 48,
    "start_time": "2022-01-17T19:45:26.110Z"
   },
   {
    "duration": 68,
    "start_time": "2022-01-17T19:45:26.160Z"
   },
   {
    "duration": 22,
    "start_time": "2022-01-17T19:45:26.230Z"
   },
   {
    "duration": 7,
    "start_time": "2022-01-17T19:45:26.254Z"
   },
   {
    "duration": 3,
    "start_time": "2022-01-17T19:45:26.263Z"
   },
   {
    "duration": 152,
    "start_time": "2022-01-17T19:45:26.268Z"
   },
   {
    "duration": 299,
    "start_time": "2022-01-17T19:45:26.423Z"
   },
   {
    "duration": 306,
    "start_time": "2022-01-17T19:45:26.724Z"
   },
   {
    "duration": 210,
    "start_time": "2022-01-17T19:45:27.032Z"
   },
   {
    "duration": 787,
    "start_time": "2022-01-17T19:45:26.457Z"
   },
   {
    "duration": 755,
    "start_time": "2022-01-17T19:45:26.490Z"
   },
   {
    "duration": 748,
    "start_time": "2022-01-17T19:45:26.498Z"
   },
   {
    "duration": 740,
    "start_time": "2022-01-17T19:45:26.507Z"
   },
   {
    "duration": 734,
    "start_time": "2022-01-17T19:45:26.515Z"
   },
   {
    "duration": 727,
    "start_time": "2022-01-17T19:45:26.523Z"
   },
   {
    "duration": 720,
    "start_time": "2022-01-17T19:45:26.531Z"
   },
   {
    "duration": 710,
    "start_time": "2022-01-17T19:45:26.543Z"
   },
   {
    "duration": 701,
    "start_time": "2022-01-17T19:45:26.553Z"
   },
   {
    "duration": 694,
    "start_time": "2022-01-17T19:45:26.561Z"
   },
   {
    "duration": 688,
    "start_time": "2022-01-17T19:45:26.568Z"
   },
   {
    "duration": 680,
    "start_time": "2022-01-17T19:45:26.578Z"
   },
   {
    "duration": 654,
    "start_time": "2022-01-17T19:45:26.605Z"
   },
   {
    "duration": 646,
    "start_time": "2022-01-17T19:45:26.614Z"
   },
   {
    "duration": 639,
    "start_time": "2022-01-17T19:45:26.623Z"
   },
   {
    "duration": 627,
    "start_time": "2022-01-17T19:45:26.635Z"
   },
   {
    "duration": 624,
    "start_time": "2022-01-17T19:45:26.640Z"
   },
   {
    "duration": 616,
    "start_time": "2022-01-17T19:45:26.649Z"
   },
   {
    "duration": 612,
    "start_time": "2022-01-17T19:45:26.654Z"
   },
   {
    "duration": 128,
    "start_time": "2022-01-17T19:46:00.251Z"
   },
   {
    "duration": 128,
    "start_time": "2022-01-17T19:46:08.840Z"
   },
   {
    "duration": 1081,
    "start_time": "2022-01-17T19:46:45.622Z"
   },
   {
    "duration": 387,
    "start_time": "2022-01-17T19:46:46.705Z"
   },
   {
    "duration": 29,
    "start_time": "2022-01-17T19:46:47.094Z"
   },
   {
    "duration": 22,
    "start_time": "2022-01-17T19:46:47.125Z"
   },
   {
    "duration": 44,
    "start_time": "2022-01-17T19:46:47.148Z"
   },
   {
    "duration": 11,
    "start_time": "2022-01-17T19:46:47.194Z"
   },
   {
    "duration": 17,
    "start_time": "2022-01-17T19:46:47.206Z"
   },
   {
    "duration": 87,
    "start_time": "2022-01-17T19:46:47.225Z"
   },
   {
    "duration": 246,
    "start_time": "2022-01-17T19:46:47.314Z"
   },
   {
    "duration": 7,
    "start_time": "2022-01-17T19:46:47.562Z"
   },
   {
    "duration": 23,
    "start_time": "2022-01-17T19:46:47.570Z"
   },
   {
    "duration": 28,
    "start_time": "2022-01-17T19:46:47.594Z"
   },
   {
    "duration": 55,
    "start_time": "2022-01-17T19:46:47.624Z"
   },
   {
    "duration": 16,
    "start_time": "2022-01-17T19:46:47.681Z"
   },
   {
    "duration": 6,
    "start_time": "2022-01-17T19:46:47.699Z"
   },
   {
    "duration": 7,
    "start_time": "2022-01-17T19:46:47.707Z"
   },
   {
    "duration": 54,
    "start_time": "2022-01-17T19:46:47.716Z"
   },
   {
    "duration": 68,
    "start_time": "2022-01-17T19:46:47.771Z"
   },
   {
    "duration": 22,
    "start_time": "2022-01-17T19:46:47.841Z"
   },
   {
    "duration": 28,
    "start_time": "2022-01-17T19:46:47.865Z"
   },
   {
    "duration": 4,
    "start_time": "2022-01-17T19:46:47.895Z"
   },
   {
    "duration": 132,
    "start_time": "2022-01-17T19:46:47.901Z"
   },
   {
    "duration": 310,
    "start_time": "2022-01-17T19:46:48.037Z"
   },
   {
    "duration": 318,
    "start_time": "2022-01-17T19:46:48.349Z"
   },
   {
    "duration": 345,
    "start_time": "2022-01-17T19:46:48.668Z"
   },
   {
    "duration": 634,
    "start_time": "2022-01-17T19:46:48.380Z"
   },
   {
    "duration": 626,
    "start_time": "2022-01-17T19:46:48.390Z"
   },
   {
    "duration": 618,
    "start_time": "2022-01-17T19:46:48.399Z"
   },
   {
    "duration": 611,
    "start_time": "2022-01-17T19:46:48.407Z"
   },
   {
    "duration": 584,
    "start_time": "2022-01-17T19:46:48.434Z"
   },
   {
    "duration": 577,
    "start_time": "2022-01-17T19:46:48.443Z"
   },
   {
    "duration": 569,
    "start_time": "2022-01-17T19:46:48.452Z"
   },
   {
    "duration": 559,
    "start_time": "2022-01-17T19:46:48.463Z"
   },
   {
    "duration": 552,
    "start_time": "2022-01-17T19:46:48.471Z"
   },
   {
    "duration": 544,
    "start_time": "2022-01-17T19:46:48.480Z"
   },
   {
    "duration": 536,
    "start_time": "2022-01-17T19:46:48.488Z"
   },
   {
    "duration": 528,
    "start_time": "2022-01-17T19:46:48.497Z"
   },
   {
    "duration": 521,
    "start_time": "2022-01-17T19:46:48.505Z"
   },
   {
    "duration": 513,
    "start_time": "2022-01-17T19:46:48.514Z"
   },
   {
    "duration": 507,
    "start_time": "2022-01-17T19:46:48.521Z"
   },
   {
    "duration": 479,
    "start_time": "2022-01-17T19:46:48.550Z"
   },
   {
    "duration": 470,
    "start_time": "2022-01-17T19:46:48.559Z"
   },
   {
    "duration": 460,
    "start_time": "2022-01-17T19:46:48.570Z"
   },
   {
    "duration": 1101,
    "start_time": "2022-01-17T19:47:09.821Z"
   },
   {
    "duration": 383,
    "start_time": "2022-01-17T19:47:10.925Z"
   },
   {
    "duration": 29,
    "start_time": "2022-01-17T19:47:11.310Z"
   },
   {
    "duration": 31,
    "start_time": "2022-01-17T19:47:11.342Z"
   },
   {
    "duration": 21,
    "start_time": "2022-01-17T19:47:11.375Z"
   },
   {
    "duration": 21,
    "start_time": "2022-01-17T19:47:11.398Z"
   },
   {
    "duration": 52,
    "start_time": "2022-01-17T19:47:11.423Z"
   },
   {
    "duration": 85,
    "start_time": "2022-01-17T19:47:11.477Z"
   },
   {
    "duration": 229,
    "start_time": "2022-01-17T19:47:11.564Z"
   },
   {
    "duration": 7,
    "start_time": "2022-01-17T19:47:11.795Z"
   },
   {
    "duration": 27,
    "start_time": "2022-01-17T19:47:11.804Z"
   },
   {
    "duration": 53,
    "start_time": "2022-01-17T19:47:11.833Z"
   },
   {
    "duration": 54,
    "start_time": "2022-01-17T19:47:11.888Z"
   },
   {
    "duration": 7,
    "start_time": "2022-01-17T19:47:11.944Z"
   },
   {
    "duration": 24,
    "start_time": "2022-01-17T19:47:11.952Z"
   },
   {
    "duration": 34,
    "start_time": "2022-01-17T19:47:11.977Z"
   },
   {
    "duration": 74,
    "start_time": "2022-01-17T19:47:12.012Z"
   },
   {
    "duration": 51,
    "start_time": "2022-01-17T19:47:12.088Z"
   },
   {
    "duration": 20,
    "start_time": "2022-01-17T19:47:12.141Z"
   },
   {
    "duration": 19,
    "start_time": "2022-01-17T19:47:12.163Z"
   },
   {
    "duration": 27,
    "start_time": "2022-01-17T19:47:12.191Z"
   },
   {
    "duration": 148,
    "start_time": "2022-01-17T19:47:12.220Z"
   },
   {
    "duration": 293,
    "start_time": "2022-01-17T19:47:12.373Z"
   },
   {
    "duration": 312,
    "start_time": "2022-01-17T19:47:12.668Z"
   },
   {
    "duration": 212,
    "start_time": "2022-01-17T19:47:12.982Z"
   },
   {
    "duration": 746,
    "start_time": "2022-01-17T19:47:12.449Z"
   },
   {
    "duration": 741,
    "start_time": "2022-01-17T19:47:12.455Z"
   },
   {
    "duration": 737,
    "start_time": "2022-01-17T19:47:12.460Z"
   },
   {
    "duration": 732,
    "start_time": "2022-01-17T19:47:12.466Z"
   },
   {
    "duration": 728,
    "start_time": "2022-01-17T19:47:12.471Z"
   },
   {
    "duration": 723,
    "start_time": "2022-01-17T19:47:12.476Z"
   },
   {
    "duration": 719,
    "start_time": "2022-01-17T19:47:12.481Z"
   },
   {
    "duration": 714,
    "start_time": "2022-01-17T19:47:12.487Z"
   },
   {
    "duration": 710,
    "start_time": "2022-01-17T19:47:12.492Z"
   },
   {
    "duration": 705,
    "start_time": "2022-01-17T19:47:12.498Z"
   },
   {
    "duration": 701,
    "start_time": "2022-01-17T19:47:12.503Z"
   },
   {
    "duration": 696,
    "start_time": "2022-01-17T19:47:12.509Z"
   },
   {
    "duration": 691,
    "start_time": "2022-01-17T19:47:12.515Z"
   },
   {
    "duration": 688,
    "start_time": "2022-01-17T19:47:12.519Z"
   },
   {
    "duration": 684,
    "start_time": "2022-01-17T19:47:12.524Z"
   },
   {
    "duration": 680,
    "start_time": "2022-01-17T19:47:12.529Z"
   },
   {
    "duration": 676,
    "start_time": "2022-01-17T19:47:12.534Z"
   },
   {
    "duration": 673,
    "start_time": "2022-01-17T19:47:12.538Z"
   },
   {
    "duration": 217,
    "start_time": "2022-01-17T19:47:25.589Z"
   },
   {
    "duration": 125,
    "start_time": "2022-01-17T19:47:28.266Z"
   },
   {
    "duration": 127,
    "start_time": "2022-01-17T19:47:29.858Z"
   },
   {
    "duration": 164,
    "start_time": "2022-01-17T19:48:13.653Z"
   },
   {
    "duration": 137,
    "start_time": "2022-01-17T19:48:16.754Z"
   },
   {
    "duration": 1134,
    "start_time": "2022-01-17T19:48:33.790Z"
   },
   {
    "duration": 410,
    "start_time": "2022-01-17T19:48:34.926Z"
   },
   {
    "duration": 31,
    "start_time": "2022-01-17T19:48:35.338Z"
   },
   {
    "duration": 24,
    "start_time": "2022-01-17T19:48:35.371Z"
   },
   {
    "duration": 22,
    "start_time": "2022-01-17T19:48:35.396Z"
   },
   {
    "duration": 10,
    "start_time": "2022-01-17T19:48:35.420Z"
   },
   {
    "duration": 17,
    "start_time": "2022-01-17T19:48:35.432Z"
   },
   {
    "duration": 99,
    "start_time": "2022-01-17T19:48:35.451Z"
   },
   {
    "duration": 241,
    "start_time": "2022-01-17T19:48:35.553Z"
   },
   {
    "duration": 6,
    "start_time": "2022-01-17T19:48:35.796Z"
   },
   {
    "duration": 8,
    "start_time": "2022-01-17T19:48:35.804Z"
   },
   {
    "duration": 25,
    "start_time": "2022-01-17T19:48:35.814Z"
   },
   {
    "duration": 71,
    "start_time": "2022-01-17T19:48:35.841Z"
   },
   {
    "duration": 6,
    "start_time": "2022-01-17T19:48:35.913Z"
   },
   {
    "duration": 10,
    "start_time": "2022-01-17T19:48:35.921Z"
   },
   {
    "duration": 17,
    "start_time": "2022-01-17T19:48:35.932Z"
   },
   {
    "duration": 51,
    "start_time": "2022-01-17T19:48:35.950Z"
   },
   {
    "duration": 48,
    "start_time": "2022-01-17T19:48:36.002Z"
   },
   {
    "duration": 20,
    "start_time": "2022-01-17T19:48:36.051Z"
   },
   {
    "duration": 22,
    "start_time": "2022-01-17T19:48:36.073Z"
   },
   {
    "duration": 3,
    "start_time": "2022-01-17T19:48:36.097Z"
   },
   {
    "duration": 132,
    "start_time": "2022-01-17T19:48:36.102Z"
   },
   {
    "duration": 288,
    "start_time": "2022-01-17T19:48:36.237Z"
   },
   {
    "duration": 338,
    "start_time": "2022-01-17T19:48:36.527Z"
   },
   {
    "duration": 261,
    "start_time": "2022-01-17T19:48:36.866Z"
   },
   {
    "duration": 793,
    "start_time": "2022-01-17T19:48:36.336Z"
   },
   {
    "duration": 789,
    "start_time": "2022-01-17T19:48:36.341Z"
   },
   {
    "duration": 786,
    "start_time": "2022-01-17T19:48:36.345Z"
   },
   {
    "duration": 771,
    "start_time": "2022-01-17T19:48:36.362Z"
   },
   {
    "duration": 766,
    "start_time": "2022-01-17T19:48:36.368Z"
   },
   {
    "duration": 761,
    "start_time": "2022-01-17T19:48:36.374Z"
   },
   {
    "duration": 758,
    "start_time": "2022-01-17T19:48:36.378Z"
   },
   {
    "duration": 753,
    "start_time": "2022-01-17T19:48:36.384Z"
   },
   {
    "duration": 750,
    "start_time": "2022-01-17T19:48:36.388Z"
   },
   {
    "duration": 746,
    "start_time": "2022-01-17T19:48:36.393Z"
   },
   {
    "duration": 742,
    "start_time": "2022-01-17T19:48:36.398Z"
   },
   {
    "duration": 738,
    "start_time": "2022-01-17T19:48:36.403Z"
   },
   {
    "duration": 736,
    "start_time": "2022-01-17T19:48:36.406Z"
   },
   {
    "duration": 734,
    "start_time": "2022-01-17T19:48:36.409Z"
   },
   {
    "duration": 732,
    "start_time": "2022-01-17T19:48:36.412Z"
   },
   {
    "duration": 730,
    "start_time": "2022-01-17T19:48:36.415Z"
   },
   {
    "duration": 729,
    "start_time": "2022-01-17T19:48:36.417Z"
   },
   {
    "duration": 727,
    "start_time": "2022-01-17T19:48:36.420Z"
   },
   {
    "duration": 127,
    "start_time": "2022-01-17T19:48:53.001Z"
   },
   {
    "duration": 123,
    "start_time": "2022-01-17T19:48:54.744Z"
   },
   {
    "duration": 1128,
    "start_time": "2022-01-17T19:49:16.372Z"
   },
   {
    "duration": 380,
    "start_time": "2022-01-17T19:49:17.502Z"
   },
   {
    "duration": 29,
    "start_time": "2022-01-17T19:49:17.884Z"
   },
   {
    "duration": 22,
    "start_time": "2022-01-17T19:49:17.915Z"
   },
   {
    "duration": 18,
    "start_time": "2022-01-17T19:49:17.939Z"
   },
   {
    "duration": 40,
    "start_time": "2022-01-17T19:49:17.959Z"
   },
   {
    "duration": 15,
    "start_time": "2022-01-17T19:49:18.002Z"
   },
   {
    "duration": 86,
    "start_time": "2022-01-17T19:49:18.019Z"
   },
   {
    "duration": 245,
    "start_time": "2022-01-17T19:49:18.107Z"
   },
   {
    "duration": 7,
    "start_time": "2022-01-17T19:49:18.353Z"
   },
   {
    "duration": 9,
    "start_time": "2022-01-17T19:49:18.361Z"
   },
   {
    "duration": 36,
    "start_time": "2022-01-17T19:49:18.372Z"
   },
   {
    "duration": 54,
    "start_time": "2022-01-17T19:49:18.409Z"
   },
   {
    "duration": 27,
    "start_time": "2022-01-17T19:49:18.465Z"
   },
   {
    "duration": 4,
    "start_time": "2022-01-17T19:49:18.494Z"
   },
   {
    "duration": 9,
    "start_time": "2022-01-17T19:49:18.500Z"
   },
   {
    "duration": 48,
    "start_time": "2022-01-17T19:49:18.510Z"
   },
   {
    "duration": 71,
    "start_time": "2022-01-17T19:49:18.560Z"
   },
   {
    "duration": 23,
    "start_time": "2022-01-17T19:49:18.633Z"
   },
   {
    "duration": 33,
    "start_time": "2022-01-17T19:49:18.658Z"
   },
   {
    "duration": 4,
    "start_time": "2022-01-17T19:49:18.694Z"
   },
   {
    "duration": 130,
    "start_time": "2022-01-17T19:49:18.700Z"
   },
   {
    "duration": 296,
    "start_time": "2022-01-17T19:49:18.834Z"
   },
   {
    "duration": 306,
    "start_time": "2022-01-17T19:49:19.132Z"
   },
   {
    "duration": 204,
    "start_time": "2022-01-17T19:49:19.440Z"
   },
   {
    "duration": 780,
    "start_time": "2022-01-17T19:49:18.867Z"
   },
   {
    "duration": 773,
    "start_time": "2022-01-17T19:49:18.875Z"
   },
   {
    "duration": 757,
    "start_time": "2022-01-17T19:49:18.893Z"
   },
   {
    "duration": 749,
    "start_time": "2022-01-17T19:49:18.902Z"
   },
   {
    "duration": 746,
    "start_time": "2022-01-17T19:49:18.907Z"
   },
   {
    "duration": 743,
    "start_time": "2022-01-17T19:49:18.911Z"
   },
   {
    "duration": 739,
    "start_time": "2022-01-17T19:49:18.917Z"
   },
   {
    "duration": 735,
    "start_time": "2022-01-17T19:49:18.922Z"
   },
   {
    "duration": 733,
    "start_time": "2022-01-17T19:49:18.926Z"
   },
   {
    "duration": 729,
    "start_time": "2022-01-17T19:49:18.931Z"
   },
   {
    "duration": 725,
    "start_time": "2022-01-17T19:49:18.936Z"
   },
   {
    "duration": 722,
    "start_time": "2022-01-17T19:49:18.941Z"
   },
   {
    "duration": 718,
    "start_time": "2022-01-17T19:49:18.946Z"
   },
   {
    "duration": 715,
    "start_time": "2022-01-17T19:49:18.950Z"
   },
   {
    "duration": 713,
    "start_time": "2022-01-17T19:49:18.953Z"
   },
   {
    "duration": 711,
    "start_time": "2022-01-17T19:49:18.956Z"
   },
   {
    "duration": 710,
    "start_time": "2022-01-17T19:49:18.958Z"
   },
   {
    "duration": 708,
    "start_time": "2022-01-17T19:49:18.961Z"
   },
   {
    "duration": 7,
    "start_time": "2022-01-17T19:50:53.346Z"
   },
   {
    "duration": 4,
    "start_time": "2022-01-17T19:50:55.543Z"
   },
   {
    "duration": 9,
    "start_time": "2022-01-17T19:50:58.688Z"
   },
   {
    "duration": 8,
    "start_time": "2022-01-17T19:51:06.021Z"
   },
   {
    "duration": 1088,
    "start_time": "2022-01-17T19:51:40.914Z"
   },
   {
    "duration": 384,
    "start_time": "2022-01-17T19:51:42.004Z"
   },
   {
    "duration": 30,
    "start_time": "2022-01-17T19:51:42.393Z"
   },
   {
    "duration": 22,
    "start_time": "2022-01-17T19:51:42.425Z"
   },
   {
    "duration": 43,
    "start_time": "2022-01-17T19:51:42.449Z"
   },
   {
    "duration": 12,
    "start_time": "2022-01-17T19:51:42.494Z"
   },
   {
    "duration": 12,
    "start_time": "2022-01-17T19:51:42.509Z"
   },
   {
    "duration": 97,
    "start_time": "2022-01-17T19:51:42.523Z"
   },
   {
    "duration": 235,
    "start_time": "2022-01-17T19:51:42.621Z"
   },
   {
    "duration": 6,
    "start_time": "2022-01-17T19:51:42.857Z"
   },
   {
    "duration": 9,
    "start_time": "2022-01-17T19:51:42.864Z"
   },
   {
    "duration": 41,
    "start_time": "2022-01-17T19:51:42.874Z"
   },
   {
    "duration": 54,
    "start_time": "2022-01-17T19:51:42.916Z"
   },
   {
    "duration": 23,
    "start_time": "2022-01-17T19:51:42.972Z"
   },
   {
    "duration": 4,
    "start_time": "2022-01-17T19:51:42.996Z"
   },
   {
    "duration": 10,
    "start_time": "2022-01-17T19:51:43.001Z"
   },
   {
    "duration": 49,
    "start_time": "2022-01-17T19:51:43.013Z"
   },
   {
    "duration": 73,
    "start_time": "2022-01-17T19:51:43.064Z"
   },
   {
    "duration": 20,
    "start_time": "2022-01-17T19:51:43.139Z"
   },
   {
    "duration": 6,
    "start_time": "2022-01-17T19:51:43.161Z"
   },
   {
    "duration": 4,
    "start_time": "2022-01-17T19:51:43.192Z"
   },
   {
    "duration": 132,
    "start_time": "2022-01-17T19:51:43.200Z"
   },
   {
    "duration": 308,
    "start_time": "2022-01-17T19:51:43.334Z"
   },
   {
    "duration": 306,
    "start_time": "2022-01-17T19:51:43.644Z"
   },
   {
    "duration": 8,
    "start_time": "2022-01-17T19:51:43.951Z"
   },
   {
    "duration": 7,
    "start_time": "2022-01-17T19:51:43.960Z"
   },
   {
    "duration": 9,
    "start_time": "2022-01-17T19:51:43.968Z"
   },
   {
    "duration": 7,
    "start_time": "2022-01-17T19:51:43.992Z"
   },
   {
    "duration": 13,
    "start_time": "2022-01-17T19:52:11.679Z"
   },
   {
    "duration": 9,
    "start_time": "2022-01-17T19:52:11.694Z"
   },
   {
    "duration": 8,
    "start_time": "2022-01-17T19:52:11.705Z"
   },
   {
    "duration": 27826,
    "start_time": "2022-01-17T19:52:11.716Z"
   },
   {
    "duration": 5,
    "start_time": "2022-01-17T19:52:39.544Z"
   },
   {
    "duration": 13,
    "start_time": "2022-01-17T19:52:39.551Z"
   },
   {
    "duration": 26,
    "start_time": "2022-01-17T19:52:39.566Z"
   },
   {
    "duration": 26707,
    "start_time": "2022-01-17T19:52:39.594Z"
   },
   {
    "duration": 6,
    "start_time": "2022-01-17T19:53:06.303Z"
   },
   {
    "duration": 12,
    "start_time": "2022-01-17T19:53:06.311Z"
   },
   {
    "duration": 5,
    "start_time": "2022-01-17T19:53:06.325Z"
   },
   {
    "duration": 6,
    "start_time": "2022-01-17T19:53:06.332Z"
   },
   {
    "duration": 54,
    "start_time": "2022-01-17T19:53:06.339Z"
   },
   {
    "duration": 9,
    "start_time": "2022-01-17T19:53:06.395Z"
   },
   {
    "duration": 16,
    "start_time": "2022-01-17T19:53:06.406Z"
   },
   {
    "duration": 1031,
    "start_time": "2022-01-17T19:53:32.900Z"
   },
   {
    "duration": 386,
    "start_time": "2022-01-17T19:53:33.933Z"
   },
   {
    "duration": 28,
    "start_time": "2022-01-17T19:53:34.321Z"
   },
   {
    "duration": 22,
    "start_time": "2022-01-17T19:53:34.351Z"
   },
   {
    "duration": 20,
    "start_time": "2022-01-17T19:53:34.375Z"
   },
   {
    "duration": 16,
    "start_time": "2022-01-17T19:53:34.396Z"
   },
   {
    "duration": 34,
    "start_time": "2022-01-17T19:53:34.414Z"
   },
   {
    "duration": 84,
    "start_time": "2022-01-17T19:53:34.451Z"
   },
   {
    "duration": 238,
    "start_time": "2022-01-17T19:53:34.538Z"
   },
   {
    "duration": 14,
    "start_time": "2022-01-17T19:53:34.777Z"
   },
   {
    "duration": 10,
    "start_time": "2022-01-17T19:53:34.793Z"
   },
   {
    "duration": 24,
    "start_time": "2022-01-17T19:53:34.805Z"
   },
   {
    "duration": 70,
    "start_time": "2022-01-17T19:53:34.831Z"
   },
   {
    "duration": 7,
    "start_time": "2022-01-17T19:53:34.902Z"
   },
   {
    "duration": 5,
    "start_time": "2022-01-17T19:53:34.911Z"
   },
   {
    "duration": 9,
    "start_time": "2022-01-17T19:53:34.917Z"
   },
   {
    "duration": 52,
    "start_time": "2022-01-17T19:53:34.927Z"
   },
   {
    "duration": 61,
    "start_time": "2022-01-17T19:53:34.981Z"
   },
   {
    "duration": 22,
    "start_time": "2022-01-17T19:53:35.043Z"
   },
   {
    "duration": 28,
    "start_time": "2022-01-17T19:53:35.067Z"
   },
   {
    "duration": 4,
    "start_time": "2022-01-17T19:53:35.097Z"
   },
   {
    "duration": 134,
    "start_time": "2022-01-17T19:53:35.102Z"
   },
   {
    "duration": 291,
    "start_time": "2022-01-17T19:53:35.239Z"
   },
   {
    "duration": 296,
    "start_time": "2022-01-17T19:53:35.531Z"
   },
   {
    "duration": 9,
    "start_time": "2022-01-17T19:53:35.828Z"
   },
   {
    "duration": 6,
    "start_time": "2022-01-17T19:53:35.840Z"
   },
   {
    "duration": 9,
    "start_time": "2022-01-17T19:53:35.848Z"
   },
   {
    "duration": 7,
    "start_time": "2022-01-17T19:53:35.858Z"
   },
   {
    "duration": 27157,
    "start_time": "2022-01-17T19:53:35.867Z"
   },
   {
    "duration": 6,
    "start_time": "2022-01-17T19:54:03.026Z"
   },
   {
    "duration": 29,
    "start_time": "2022-01-17T19:54:03.033Z"
   },
   {
    "duration": 26,
    "start_time": "2022-01-17T19:54:03.064Z"
   },
   {
    "duration": 1115,
    "start_time": "2022-01-17T19:54:24.889Z"
   },
   {
    "duration": 386,
    "start_time": "2022-01-17T19:54:26.006Z"
   },
   {
    "duration": 28,
    "start_time": "2022-01-17T19:54:26.394Z"
   },
   {
    "duration": 23,
    "start_time": "2022-01-17T19:54:26.424Z"
   },
   {
    "duration": 17,
    "start_time": "2022-01-17T19:54:26.449Z"
   },
   {
    "duration": 33,
    "start_time": "2022-01-17T19:54:26.468Z"
   },
   {
    "duration": 13,
    "start_time": "2022-01-17T19:54:26.502Z"
   },
   {
    "duration": 93,
    "start_time": "2022-01-17T19:54:26.517Z"
   },
   {
    "duration": 230,
    "start_time": "2022-01-17T19:54:26.613Z"
   },
   {
    "duration": 6,
    "start_time": "2022-01-17T19:54:26.845Z"
   },
   {
    "duration": 9,
    "start_time": "2022-01-17T19:54:26.853Z"
   },
   {
    "duration": 44,
    "start_time": "2022-01-17T19:54:26.864Z"
   },
   {
    "duration": 55,
    "start_time": "2022-01-17T19:54:26.910Z"
   },
   {
    "duration": 29,
    "start_time": "2022-01-17T19:54:26.967Z"
   },
   {
    "duration": 2,
    "start_time": "2022-01-17T19:54:26.998Z"
   },
   {
    "duration": 8,
    "start_time": "2022-01-17T19:54:27.002Z"
   },
   {
    "duration": 47,
    "start_time": "2022-01-17T19:54:27.011Z"
   },
   {
    "duration": 67,
    "start_time": "2022-01-17T19:54:27.060Z"
   },
   {
    "duration": 19,
    "start_time": "2022-01-17T19:54:27.128Z"
   },
   {
    "duration": 6,
    "start_time": "2022-01-17T19:54:27.149Z"
   },
   {
    "duration": 4,
    "start_time": "2022-01-17T19:54:27.156Z"
   },
   {
    "duration": 153,
    "start_time": "2022-01-17T19:54:27.161Z"
   },
   {
    "duration": 297,
    "start_time": "2022-01-17T19:54:27.317Z"
   },
   {
    "duration": 302,
    "start_time": "2022-01-17T19:54:27.617Z"
   },
   {
    "duration": 8,
    "start_time": "2022-01-17T19:54:27.921Z"
   },
   {
    "duration": 4,
    "start_time": "2022-01-17T19:54:27.930Z"
   },
   {
    "duration": 4,
    "start_time": "2022-01-17T19:54:27.936Z"
   },
   {
    "duration": 9,
    "start_time": "2022-01-17T19:54:27.942Z"
   },
   {
    "duration": 9,
    "start_time": "2022-01-17T19:54:27.953Z"
   },
   {
    "duration": 26735,
    "start_time": "2022-01-17T19:54:27.991Z"
   },
   {
    "duration": 6,
    "start_time": "2022-01-17T19:54:54.728Z"
   },
   {
    "duration": 8,
    "start_time": "2022-01-17T19:54:54.736Z"
   },
   {
    "duration": 10,
    "start_time": "2022-01-17T19:54:54.746Z"
   },
   {
    "duration": 27243,
    "start_time": "2022-01-17T19:54:54.758Z"
   },
   {
    "duration": 6,
    "start_time": "2022-01-17T19:55:22.002Z"
   },
   {
    "duration": 18,
    "start_time": "2022-01-17T19:55:22.010Z"
   },
   {
    "duration": 8,
    "start_time": "2022-01-17T19:55:22.029Z"
   },
   {
    "duration": 26185,
    "start_time": "2022-01-17T19:55:22.038Z"
   },
   {
    "duration": 8,
    "start_time": "2022-01-17T19:55:48.225Z"
   },
   {
    "duration": 6,
    "start_time": "2022-01-17T19:55:48.235Z"
   },
   {
    "duration": 8,
    "start_time": "2022-01-17T19:55:48.243Z"
   },
   {
    "duration": 6,
    "start_time": "2022-01-17T19:55:48.253Z"
   },
   {
    "duration": 62,
    "start_time": "2022-01-17T19:55:48.261Z"
   },
   {
    "duration": 11,
    "start_time": "2022-01-17T19:55:48.325Z"
   },
   {
    "duration": 10,
    "start_time": "2022-01-17T19:55:48.338Z"
   },
   {
    "duration": 1155,
    "start_time": "2022-01-17T20:00:33.377Z"
   },
   {
    "duration": 405,
    "start_time": "2022-01-17T20:00:34.534Z"
   },
   {
    "duration": 29,
    "start_time": "2022-01-17T20:00:34.941Z"
   },
   {
    "duration": 25,
    "start_time": "2022-01-17T20:00:34.971Z"
   },
   {
    "duration": 32,
    "start_time": "2022-01-17T20:00:34.998Z"
   },
   {
    "duration": 10,
    "start_time": "2022-01-17T20:00:35.031Z"
   },
   {
    "duration": 14,
    "start_time": "2022-01-17T20:00:35.043Z"
   },
   {
    "duration": 114,
    "start_time": "2022-01-17T20:00:35.060Z"
   },
   {
    "duration": 296,
    "start_time": "2022-01-17T20:00:35.176Z"
   },
   {
    "duration": 17,
    "start_time": "2022-01-17T20:00:35.474Z"
   },
   {
    "duration": 16,
    "start_time": "2022-01-17T20:00:35.494Z"
   },
   {
    "duration": 29,
    "start_time": "2022-01-17T20:00:35.513Z"
   },
   {
    "duration": 97,
    "start_time": "2022-01-17T20:00:35.543Z"
   },
   {
    "duration": 7,
    "start_time": "2022-01-17T20:00:35.642Z"
   },
   {
    "duration": 12,
    "start_time": "2022-01-17T20:00:35.650Z"
   },
   {
    "duration": 10,
    "start_time": "2022-01-17T20:00:35.663Z"
   },
   {
    "duration": 72,
    "start_time": "2022-01-17T20:00:35.674Z"
   },
   {
    "duration": 55,
    "start_time": "2022-01-17T20:00:35.748Z"
   },
   {
    "duration": 24,
    "start_time": "2022-01-17T20:00:35.805Z"
   },
   {
    "duration": 7,
    "start_time": "2022-01-17T20:00:35.831Z"
   },
   {
    "duration": 7,
    "start_time": "2022-01-17T20:00:35.839Z"
   },
   {
    "duration": 146,
    "start_time": "2022-01-17T20:00:35.847Z"
   },
   {
    "duration": 311,
    "start_time": "2022-01-17T20:00:35.998Z"
   },
   {
    "duration": 321,
    "start_time": "2022-01-17T20:00:36.312Z"
   },
   {
    "duration": 9,
    "start_time": "2022-01-17T20:00:36.634Z"
   },
   {
    "duration": 13,
    "start_time": "2022-01-17T20:00:36.644Z"
   },
   {
    "duration": 6,
    "start_time": "2022-01-17T20:00:36.658Z"
   },
   {
    "duration": 26,
    "start_time": "2022-01-17T20:00:36.666Z"
   },
   {
    "duration": 10,
    "start_time": "2022-01-17T20:00:36.694Z"
   },
   {
    "duration": 27525,
    "start_time": "2022-01-17T20:00:36.707Z"
   },
   {
    "duration": 6,
    "start_time": "2022-01-17T20:01:04.234Z"
   },
   {
    "duration": 10,
    "start_time": "2022-01-17T20:01:04.242Z"
   },
   {
    "duration": 7,
    "start_time": "2022-01-17T20:01:04.254Z"
   },
   {
    "duration": 27537,
    "start_time": "2022-01-17T20:01:04.263Z"
   },
   {
    "duration": 7,
    "start_time": "2022-01-17T20:01:31.802Z"
   },
   {
    "duration": 9,
    "start_time": "2022-01-17T20:01:31.811Z"
   },
   {
    "duration": 13,
    "start_time": "2022-01-17T20:01:31.822Z"
   },
   {
    "duration": 26375,
    "start_time": "2022-01-17T20:01:31.837Z"
   },
   {
    "duration": 7,
    "start_time": "2022-01-17T20:01:58.213Z"
   },
   {
    "duration": 6,
    "start_time": "2022-01-17T20:01:58.222Z"
   },
   {
    "duration": 7,
    "start_time": "2022-01-17T20:01:58.229Z"
   },
   {
    "duration": 5,
    "start_time": "2022-01-17T20:01:58.238Z"
   },
   {
    "duration": 54,
    "start_time": "2022-01-17T20:01:58.244Z"
   },
   {
    "duration": 9,
    "start_time": "2022-01-17T20:01:58.300Z"
   },
   {
    "duration": 11,
    "start_time": "2022-01-17T20:01:58.311Z"
   },
   {
    "duration": 1125,
    "start_time": "2022-01-17T20:04:16.983Z"
   },
   {
    "duration": 403,
    "start_time": "2022-01-17T20:04:18.110Z"
   },
   {
    "duration": 29,
    "start_time": "2022-01-17T20:04:18.515Z"
   },
   {
    "duration": 23,
    "start_time": "2022-01-17T20:04:18.546Z"
   },
   {
    "duration": 22,
    "start_time": "2022-01-17T20:04:18.570Z"
   },
   {
    "duration": 11,
    "start_time": "2022-01-17T20:04:18.594Z"
   },
   {
    "duration": 13,
    "start_time": "2022-01-17T20:04:18.607Z"
   },
   {
    "duration": 90,
    "start_time": "2022-01-17T20:04:18.621Z"
   },
   {
    "duration": 236,
    "start_time": "2022-01-17T20:04:18.714Z"
   },
   {
    "duration": 6,
    "start_time": "2022-01-17T20:04:18.952Z"
   },
   {
    "duration": 7,
    "start_time": "2022-01-17T20:04:18.960Z"
   },
   {
    "duration": 40,
    "start_time": "2022-01-17T20:04:18.969Z"
   },
   {
    "duration": 56,
    "start_time": "2022-01-17T20:04:19.010Z"
   },
   {
    "duration": 8,
    "start_time": "2022-01-17T20:04:19.067Z"
   },
   {
    "duration": 16,
    "start_time": "2022-01-17T20:04:19.076Z"
   },
   {
    "duration": 8,
    "start_time": "2022-01-17T20:04:19.094Z"
   },
   {
    "duration": 49,
    "start_time": "2022-01-17T20:04:19.103Z"
   },
   {
    "duration": 67,
    "start_time": "2022-01-17T20:04:19.154Z"
   },
   {
    "duration": 21,
    "start_time": "2022-01-17T20:04:19.223Z"
   },
   {
    "duration": 6,
    "start_time": "2022-01-17T20:04:19.246Z"
   },
   {
    "duration": 4,
    "start_time": "2022-01-17T20:04:19.254Z"
   },
   {
    "duration": 147,
    "start_time": "2022-01-17T20:04:19.260Z"
   },
   {
    "duration": 302,
    "start_time": "2022-01-17T20:04:19.409Z"
   },
   {
    "duration": 302,
    "start_time": "2022-01-17T20:04:19.713Z"
   },
   {
    "duration": 9,
    "start_time": "2022-01-17T20:04:20.016Z"
   },
   {
    "duration": 9,
    "start_time": "2022-01-17T20:04:20.027Z"
   },
   {
    "duration": 4,
    "start_time": "2022-01-17T20:04:20.039Z"
   },
   {
    "duration": 10,
    "start_time": "2022-01-17T20:04:20.044Z"
   },
   {
    "duration": 7,
    "start_time": "2022-01-17T20:04:20.055Z"
   },
   {
    "duration": 6,
    "start_time": "2022-01-17T20:04:47.191Z"
   },
   {
    "duration": 8,
    "start_time": "2022-01-17T20:04:47.198Z"
   },
   {
    "duration": 7,
    "start_time": "2022-01-17T20:04:47.208Z"
   },
   {
    "duration": 28489,
    "start_time": "2022-01-17T20:04:47.217Z"
   },
   {
    "duration": 6,
    "start_time": "2022-01-17T20:05:15.707Z"
   },
   {
    "duration": 8,
    "start_time": "2022-01-17T20:05:15.715Z"
   },
   {
    "duration": 9,
    "start_time": "2022-01-17T20:05:15.725Z"
   },
   {
    "duration": 27602,
    "start_time": "2022-01-17T20:05:15.735Z"
   },
   {
    "duration": 6,
    "start_time": "2022-01-17T20:05:43.340Z"
   },
   {
    "duration": 5,
    "start_time": "2022-01-17T20:05:43.348Z"
   },
   {
    "duration": 9,
    "start_time": "2022-01-17T20:05:43.355Z"
   },
   {
    "duration": 31,
    "start_time": "2022-01-17T20:05:43.366Z"
   },
   {
    "duration": 27,
    "start_time": "2022-01-17T20:05:43.399Z"
   },
   {
    "duration": 12,
    "start_time": "2022-01-17T20:05:43.428Z"
   },
   {
    "duration": 14,
    "start_time": "2022-01-17T20:05:43.442Z"
   },
   {
    "duration": 28541,
    "start_time": "2022-01-17T20:06:12.407Z"
   },
   {
    "duration": 28239,
    "start_time": "2022-01-17T20:19:59.515Z"
   },
   {
    "duration": 6,
    "start_time": "2022-01-17T20:48:06.856Z"
   },
   {
    "duration": 5,
    "start_time": "2022-01-17T20:48:11.786Z"
   },
   {
    "duration": 5,
    "start_time": "2022-01-17T20:51:04.886Z"
   },
   {
    "duration": 6,
    "start_time": "2022-01-17T20:51:07.660Z"
   },
   {
    "duration": 310,
    "start_time": "2022-01-17T20:53:49.081Z"
   },
   {
    "duration": 315,
    "start_time": "2022-01-17T20:53:58.069Z"
   },
   {
    "duration": 878,
    "start_time": "2022-01-17T20:55:31.768Z"
   },
   {
    "duration": 357,
    "start_time": "2022-01-17T20:55:34.705Z"
   },
   {
    "duration": 295,
    "start_time": "2022-01-17T20:55:42.104Z"
   },
   {
    "duration": 311,
    "start_time": "2022-01-17T20:56:17.453Z"
   },
   {
    "duration": 565,
    "start_time": "2022-01-17T20:56:47.364Z"
   },
   {
    "duration": 298,
    "start_time": "2022-01-17T20:56:54.952Z"
   },
   {
    "duration": 136,
    "start_time": "2022-01-17T21:01:13.746Z"
   },
   {
    "duration": 139,
    "start_time": "2022-01-17T21:01:16.232Z"
   },
   {
    "duration": 138,
    "start_time": "2022-01-17T21:01:17.431Z"
   },
   {
    "duration": 122,
    "start_time": "2022-01-17T21:01:18.499Z"
   },
   {
    "duration": 139,
    "start_time": "2022-01-17T21:01:20.192Z"
   },
   {
    "duration": 155,
    "start_time": "2022-01-17T21:01:20.966Z"
   },
   {
    "duration": 136,
    "start_time": "2022-01-17T21:01:21.996Z"
   },
   {
    "duration": 159,
    "start_time": "2022-01-17T21:01:22.941Z"
   },
   {
    "duration": 1541,
    "start_time": "2022-01-18T10:19:24.549Z"
   },
   {
    "duration": 485,
    "start_time": "2022-01-18T10:19:26.092Z"
   },
   {
    "duration": 38,
    "start_time": "2022-01-18T10:19:26.580Z"
   },
   {
    "duration": 30,
    "start_time": "2022-01-18T10:19:26.620Z"
   },
   {
    "duration": 25,
    "start_time": "2022-01-18T10:19:26.652Z"
   },
   {
    "duration": 16,
    "start_time": "2022-01-18T10:19:26.680Z"
   },
   {
    "duration": 20,
    "start_time": "2022-01-18T10:19:26.732Z"
   },
   {
    "duration": 115,
    "start_time": "2022-01-18T10:19:26.754Z"
   },
   {
    "duration": 353,
    "start_time": "2022-01-18T10:19:26.873Z"
   },
   {
    "duration": 8,
    "start_time": "2022-01-18T10:19:27.232Z"
   },
   {
    "duration": 13,
    "start_time": "2022-01-18T10:19:27.242Z"
   },
   {
    "duration": 35,
    "start_time": "2022-01-18T10:19:27.257Z"
   },
   {
    "duration": 96,
    "start_time": "2022-01-18T10:19:27.294Z"
   },
   {
    "duration": 9,
    "start_time": "2022-01-18T10:19:27.393Z"
   },
   {
    "duration": 7,
    "start_time": "2022-01-18T10:19:27.405Z"
   },
   {
    "duration": 27,
    "start_time": "2022-01-18T10:19:27.414Z"
   },
   {
    "duration": 62,
    "start_time": "2022-01-18T10:19:27.443Z"
   },
   {
    "duration": 86,
    "start_time": "2022-01-18T10:19:27.508Z"
   },
   {
    "duration": 48,
    "start_time": "2022-01-18T10:19:27.596Z"
   },
   {
    "duration": 12,
    "start_time": "2022-01-18T10:19:27.646Z"
   },
   {
    "duration": 5,
    "start_time": "2022-01-18T10:19:27.660Z"
   },
   {
    "duration": 237,
    "start_time": "2022-01-18T10:19:27.667Z"
   },
   {
    "duration": 463,
    "start_time": "2022-01-18T10:19:27.906Z"
   },
   {
    "duration": 463,
    "start_time": "2022-01-18T10:19:28.372Z"
   },
   {
    "duration": 10,
    "start_time": "2022-01-18T10:19:28.837Z"
   },
   {
    "duration": 9,
    "start_time": "2022-01-18T10:19:28.849Z"
   },
   {
    "duration": 5,
    "start_time": "2022-01-18T10:19:28.863Z"
   },
   {
    "duration": 11,
    "start_time": "2022-01-18T10:19:28.871Z"
   },
   {
    "duration": 9,
    "start_time": "2022-01-18T10:19:28.885Z"
   },
   {
    "duration": 42029,
    "start_time": "2022-01-18T10:19:28.896Z"
   },
   {
    "duration": 11,
    "start_time": "2022-01-18T10:20:10.932Z"
   },
   {
    "duration": 15,
    "start_time": "2022-01-18T10:20:10.945Z"
   },
   {
    "duration": 11,
    "start_time": "2022-01-18T10:20:10.963Z"
   },
   {
    "duration": 1494,
    "start_time": "2022-01-18T10:20:19.599Z"
   },
   {
    "duration": 479,
    "start_time": "2022-01-18T10:20:21.096Z"
   },
   {
    "duration": 37,
    "start_time": "2022-01-18T10:20:21.578Z"
   },
   {
    "duration": 31,
    "start_time": "2022-01-18T10:20:21.617Z"
   },
   {
    "duration": 28,
    "start_time": "2022-01-18T10:20:21.650Z"
   },
   {
    "duration": 15,
    "start_time": "2022-01-18T10:20:21.680Z"
   },
   {
    "duration": 20,
    "start_time": "2022-01-18T10:20:21.733Z"
   },
   {
    "duration": 124,
    "start_time": "2022-01-18T10:20:21.756Z"
   },
   {
    "duration": 379,
    "start_time": "2022-01-18T10:20:21.882Z"
   },
   {
    "duration": 10,
    "start_time": "2022-01-18T10:20:22.264Z"
   },
   {
    "duration": 15,
    "start_time": "2022-01-18T10:20:22.277Z"
   },
   {
    "duration": 67,
    "start_time": "2022-01-18T10:20:22.294Z"
   },
   {
    "duration": 91,
    "start_time": "2022-01-18T10:20:22.364Z"
   },
   {
    "duration": 9,
    "start_time": "2022-01-18T10:20:22.457Z"
   },
   {
    "duration": 8,
    "start_time": "2022-01-18T10:20:22.468Z"
   },
   {
    "duration": 14,
    "start_time": "2022-01-18T10:20:22.478Z"
   },
   {
    "duration": 87,
    "start_time": "2022-01-18T10:20:22.495Z"
   },
   {
    "duration": 90,
    "start_time": "2022-01-18T10:20:22.584Z"
   },
   {
    "duration": 55,
    "start_time": "2022-01-18T10:20:22.677Z"
   },
   {
    "duration": 14,
    "start_time": "2022-01-18T10:20:22.735Z"
   },
   {
    "duration": 5,
    "start_time": "2022-01-18T10:20:22.752Z"
   },
   {
    "duration": 244,
    "start_time": "2022-01-18T10:20:22.762Z"
   },
   {
    "duration": 461,
    "start_time": "2022-01-18T10:20:23.009Z"
   },
   {
    "duration": 483,
    "start_time": "2022-01-18T10:20:23.472Z"
   },
   {
    "duration": 11,
    "start_time": "2022-01-18T10:20:23.957Z"
   },
   {
    "duration": 11,
    "start_time": "2022-01-18T10:20:23.970Z"
   },
   {
    "duration": 8,
    "start_time": "2022-01-18T10:20:23.983Z"
   },
   {
    "duration": 39,
    "start_time": "2022-01-18T10:20:23.993Z"
   },
   {
    "duration": 11,
    "start_time": "2022-01-18T10:20:24.034Z"
   },
   {
    "duration": 40699,
    "start_time": "2022-01-18T10:20:24.047Z"
   },
   {
    "duration": 8,
    "start_time": "2022-01-18T10:21:04.748Z"
   },
   {
    "duration": 15,
    "start_time": "2022-01-18T10:21:04.758Z"
   },
   {
    "duration": 9,
    "start_time": "2022-01-18T10:21:04.775Z"
   },
   {
    "duration": 16959,
    "start_time": "2022-01-18T10:21:04.786Z"
   },
   {
    "duration": -128,
    "start_time": "2022-01-18T10:21:21.876Z"
   },
   {
    "duration": -129,
    "start_time": "2022-01-18T10:21:21.878Z"
   },
   {
    "duration": -130,
    "start_time": "2022-01-18T10:21:21.880Z"
   },
   {
    "duration": -130,
    "start_time": "2022-01-18T10:21:21.882Z"
   },
   {
    "duration": -131,
    "start_time": "2022-01-18T10:21:21.884Z"
   },
   {
    "duration": -132,
    "start_time": "2022-01-18T10:21:21.887Z"
   },
   {
    "duration": -132,
    "start_time": "2022-01-18T10:21:21.888Z"
   },
   {
    "duration": -134,
    "start_time": "2022-01-18T10:21:21.891Z"
   },
   {
    "duration": -133,
    "start_time": "2022-01-18T10:21:21.892Z"
   },
   {
    "duration": -134,
    "start_time": "2022-01-18T10:21:21.894Z"
   },
   {
    "duration": -135,
    "start_time": "2022-01-18T10:21:21.896Z"
   },
   {
    "duration": 1473,
    "start_time": "2022-01-18T10:22:40.617Z"
   },
   {
    "duration": 489,
    "start_time": "2022-01-18T10:22:42.092Z"
   },
   {
    "duration": 38,
    "start_time": "2022-01-18T10:22:42.584Z"
   },
   {
    "duration": 31,
    "start_time": "2022-01-18T10:22:42.625Z"
   },
   {
    "duration": 27,
    "start_time": "2022-01-18T10:22:42.659Z"
   },
   {
    "duration": 46,
    "start_time": "2022-01-18T10:22:42.688Z"
   },
   {
    "duration": 20,
    "start_time": "2022-01-18T10:22:42.736Z"
   },
   {
    "duration": 119,
    "start_time": "2022-01-18T10:22:42.759Z"
   },
   {
    "duration": 360,
    "start_time": "2022-01-18T10:22:42.881Z"
   },
   {
    "duration": 7,
    "start_time": "2022-01-18T10:22:43.244Z"
   },
   {
    "duration": 15,
    "start_time": "2022-01-18T10:22:43.253Z"
   },
   {
    "duration": 32,
    "start_time": "2022-01-18T10:22:43.271Z"
   },
   {
    "duration": 67,
    "start_time": "2022-01-18T10:22:43.333Z"
   },
   {
    "duration": 9,
    "start_time": "2022-01-18T10:22:43.402Z"
   },
   {
    "duration": 20,
    "start_time": "2022-01-18T10:22:43.414Z"
   },
   {
    "duration": 10,
    "start_time": "2022-01-18T10:22:43.436Z"
   },
   {
    "duration": 64,
    "start_time": "2022-01-18T10:22:43.448Z"
   },
   {
    "duration": 69,
    "start_time": "2022-01-18T10:22:43.533Z"
   },
   {
    "duration": 44,
    "start_time": "2022-01-18T10:22:43.604Z"
   },
   {
    "duration": 12,
    "start_time": "2022-01-18T10:22:43.650Z"
   },
   {
    "duration": 5,
    "start_time": "2022-01-18T10:22:43.664Z"
   },
   {
    "duration": 226,
    "start_time": "2022-01-18T10:22:43.672Z"
   },
   {
    "duration": 464,
    "start_time": "2022-01-18T10:22:43.903Z"
   },
   {
    "duration": 450,
    "start_time": "2022-01-18T10:22:44.371Z"
   },
   {
    "duration": 15,
    "start_time": "2022-01-18T10:22:44.823Z"
   },
   {
    "duration": 12,
    "start_time": "2022-01-18T10:22:44.840Z"
   },
   {
    "duration": 8,
    "start_time": "2022-01-18T10:22:44.855Z"
   },
   {
    "duration": 13,
    "start_time": "2022-01-18T10:22:44.865Z"
   },
   {
    "duration": 11,
    "start_time": "2022-01-18T10:22:44.881Z"
   },
   {
    "duration": 41269,
    "start_time": "2022-01-18T10:22:44.933Z"
   },
   {
    "duration": 29,
    "start_time": "2022-01-18T10:23:26.205Z"
   },
   {
    "duration": 11,
    "start_time": "2022-01-18T10:23:26.237Z"
   },
   {
    "duration": 13,
    "start_time": "2022-01-18T10:23:26.251Z"
   },
   {
    "duration": 17232,
    "start_time": "2022-01-18T10:23:26.266Z"
   },
   {
    "duration": -123,
    "start_time": "2022-01-18T10:23:43.624Z"
   },
   {
    "duration": -124,
    "start_time": "2022-01-18T10:23:43.626Z"
   },
   {
    "duration": -123,
    "start_time": "2022-01-18T10:23:43.627Z"
   },
   {
    "duration": -124,
    "start_time": "2022-01-18T10:23:43.629Z"
   },
   {
    "duration": -123,
    "start_time": "2022-01-18T10:23:43.630Z"
   },
   {
    "duration": -123,
    "start_time": "2022-01-18T10:23:43.631Z"
   },
   {
    "duration": -124,
    "start_time": "2022-01-18T10:23:43.633Z"
   },
   {
    "duration": -123,
    "start_time": "2022-01-18T10:23:43.634Z"
   },
   {
    "duration": -124,
    "start_time": "2022-01-18T10:23:43.636Z"
   },
   {
    "duration": -124,
    "start_time": "2022-01-18T10:23:43.637Z"
   },
   {
    "duration": -125,
    "start_time": "2022-01-18T10:23:43.639Z"
   },
   {
    "duration": 1439,
    "start_time": "2022-01-18T10:26:39.388Z"
   },
   {
    "duration": 493,
    "start_time": "2022-01-18T10:26:40.830Z"
   },
   {
    "duration": 39,
    "start_time": "2022-01-18T10:26:41.326Z"
   },
   {
    "duration": 28,
    "start_time": "2022-01-18T10:26:41.368Z"
   },
   {
    "duration": 49,
    "start_time": "2022-01-18T10:26:41.398Z"
   },
   {
    "duration": 16,
    "start_time": "2022-01-18T10:26:41.449Z"
   },
   {
    "duration": 20,
    "start_time": "2022-01-18T10:26:41.467Z"
   },
   {
    "duration": 132,
    "start_time": "2022-01-18T10:26:41.489Z"
   },
   {
    "duration": 350,
    "start_time": "2022-01-18T10:26:41.625Z"
   },
   {
    "duration": 8,
    "start_time": "2022-01-18T10:26:41.977Z"
   },
   {
    "duration": 14,
    "start_time": "2022-01-18T10:26:41.987Z"
   },
   {
    "duration": 56,
    "start_time": "2022-01-18T10:26:42.003Z"
   },
   {
    "duration": 82,
    "start_time": "2022-01-18T10:26:42.062Z"
   },
   {
    "duration": 10,
    "start_time": "2022-01-18T10:26:42.146Z"
   },
   {
    "duration": 8,
    "start_time": "2022-01-18T10:26:42.158Z"
   },
   {
    "duration": 10,
    "start_time": "2022-01-18T10:26:42.168Z"
   },
   {
    "duration": 93,
    "start_time": "2022-01-18T10:26:42.180Z"
   },
   {
    "duration": 73,
    "start_time": "2022-01-18T10:26:42.276Z"
   },
   {
    "duration": 30,
    "start_time": "2022-01-18T10:26:42.352Z"
   },
   {
    "duration": 11,
    "start_time": "2022-01-18T10:26:42.385Z"
   },
   {
    "duration": 5,
    "start_time": "2022-01-18T10:26:42.398Z"
   },
   {
    "duration": 210,
    "start_time": "2022-01-18T10:26:42.432Z"
   },
   {
    "duration": 462,
    "start_time": "2022-01-18T10:26:42.644Z"
   },
   {
    "duration": 465,
    "start_time": "2022-01-18T10:26:43.108Z"
   },
   {
    "duration": 11,
    "start_time": "2022-01-18T10:26:43.576Z"
   },
   {
    "duration": 7,
    "start_time": "2022-01-18T10:26:43.590Z"
   },
   {
    "duration": 5,
    "start_time": "2022-01-18T10:26:43.602Z"
   },
   {
    "duration": 10,
    "start_time": "2022-01-18T10:26:43.632Z"
   },
   {
    "duration": 10,
    "start_time": "2022-01-18T10:26:43.645Z"
   },
   {
    "duration": 41515,
    "start_time": "2022-01-18T10:26:43.658Z"
   },
   {
    "duration": 9,
    "start_time": "2022-01-18T10:27:25.175Z"
   },
   {
    "duration": 12,
    "start_time": "2022-01-18T10:27:25.186Z"
   },
   {
    "duration": 36,
    "start_time": "2022-01-18T10:27:25.201Z"
   },
   {
    "duration": 18036,
    "start_time": "2022-01-18T10:27:25.240Z"
   },
   {
    "duration": -145,
    "start_time": "2022-01-18T10:27:43.423Z"
   },
   {
    "duration": -146,
    "start_time": "2022-01-18T10:27:43.426Z"
   },
   {
    "duration": -148,
    "start_time": "2022-01-18T10:27:43.429Z"
   },
   {
    "duration": -147,
    "start_time": "2022-01-18T10:27:43.430Z"
   },
   {
    "duration": -147,
    "start_time": "2022-01-18T10:27:43.432Z"
   },
   {
    "duration": -147,
    "start_time": "2022-01-18T10:27:43.433Z"
   },
   {
    "duration": -147,
    "start_time": "2022-01-18T10:27:43.435Z"
   },
   {
    "duration": -146,
    "start_time": "2022-01-18T10:27:43.436Z"
   },
   {
    "duration": -146,
    "start_time": "2022-01-18T10:27:43.438Z"
   },
   {
    "duration": -147,
    "start_time": "2022-01-18T10:27:43.440Z"
   },
   {
    "duration": -147,
    "start_time": "2022-01-18T10:27:43.442Z"
   },
   {
    "duration": 1452,
    "start_time": "2022-01-18T10:29:14.546Z"
   },
   {
    "duration": 488,
    "start_time": "2022-01-18T10:29:16.001Z"
   },
   {
    "duration": 38,
    "start_time": "2022-01-18T10:29:16.492Z"
   },
   {
    "duration": 32,
    "start_time": "2022-01-18T10:29:16.532Z"
   },
   {
    "duration": 28,
    "start_time": "2022-01-18T10:29:16.567Z"
   },
   {
    "duration": 44,
    "start_time": "2022-01-18T10:29:16.598Z"
   },
   {
    "duration": 25,
    "start_time": "2022-01-18T10:29:16.644Z"
   },
   {
    "duration": 119,
    "start_time": "2022-01-18T10:29:16.672Z"
   },
   {
    "duration": 454,
    "start_time": "2022-01-18T10:29:16.794Z"
   },
   {
    "duration": 8,
    "start_time": "2022-01-18T10:29:17.251Z"
   },
   {
    "duration": 20,
    "start_time": "2022-01-18T10:29:17.261Z"
   },
   {
    "duration": 57,
    "start_time": "2022-01-18T10:29:17.284Z"
   },
   {
    "duration": 72,
    "start_time": "2022-01-18T10:29:17.343Z"
   },
   {
    "duration": 20,
    "start_time": "2022-01-18T10:29:17.417Z"
   },
   {
    "duration": 22,
    "start_time": "2022-01-18T10:29:17.439Z"
   },
   {
    "duration": 10,
    "start_time": "2022-01-18T10:29:17.463Z"
   },
   {
    "duration": 71,
    "start_time": "2022-01-18T10:29:17.476Z"
   },
   {
    "duration": 71,
    "start_time": "2022-01-18T10:29:17.549Z"
   },
   {
    "duration": 41,
    "start_time": "2022-01-18T10:29:17.623Z"
   },
   {
    "duration": 11,
    "start_time": "2022-01-18T10:29:17.666Z"
   },
   {
    "duration": 11,
    "start_time": "2022-01-18T10:29:17.680Z"
   },
   {
    "duration": 241,
    "start_time": "2022-01-18T10:29:17.694Z"
   },
   {
    "duration": 488,
    "start_time": "2022-01-18T10:29:17.940Z"
   },
   {
    "duration": 457,
    "start_time": "2022-01-18T10:29:18.433Z"
   },
   {
    "duration": 12,
    "start_time": "2022-01-18T10:29:18.893Z"
   },
   {
    "duration": 26,
    "start_time": "2022-01-18T10:29:18.907Z"
   },
   {
    "duration": 5,
    "start_time": "2022-01-18T10:29:18.935Z"
   },
   {
    "duration": 15,
    "start_time": "2022-01-18T10:29:18.942Z"
   },
   {
    "duration": 11,
    "start_time": "2022-01-18T10:29:18.959Z"
   },
   {
    "duration": 40773,
    "start_time": "2022-01-18T10:29:18.973Z"
   },
   {
    "duration": 8,
    "start_time": "2022-01-18T10:29:59.749Z"
   },
   {
    "duration": 17,
    "start_time": "2022-01-18T10:29:59.760Z"
   },
   {
    "duration": 13,
    "start_time": "2022-01-18T10:29:59.779Z"
   },
   {
    "duration": 16747,
    "start_time": "2022-01-18T10:29:59.795Z"
   },
   {
    "duration": -136,
    "start_time": "2022-01-18T10:30:16.682Z"
   },
   {
    "duration": -135,
    "start_time": "2022-01-18T10:30:16.683Z"
   },
   {
    "duration": -133,
    "start_time": "2022-01-18T10:30:16.684Z"
   },
   {
    "duration": -133,
    "start_time": "2022-01-18T10:30:16.686Z"
   },
   {
    "duration": -132,
    "start_time": "2022-01-18T10:30:16.687Z"
   },
   {
    "duration": -132,
    "start_time": "2022-01-18T10:30:16.689Z"
   },
   {
    "duration": -132,
    "start_time": "2022-01-18T10:30:16.691Z"
   },
   {
    "duration": -131,
    "start_time": "2022-01-18T10:30:16.692Z"
   },
   {
    "duration": -131,
    "start_time": "2022-01-18T10:30:16.694Z"
   },
   {
    "duration": -130,
    "start_time": "2022-01-18T10:30:16.695Z"
   },
   {
    "duration": -128,
    "start_time": "2022-01-18T10:30:16.696Z"
   },
   {
    "duration": 1563,
    "start_time": "2022-01-18T11:06:07.142Z"
   },
   {
    "duration": 506,
    "start_time": "2022-01-18T11:06:08.708Z"
   },
   {
    "duration": 39,
    "start_time": "2022-01-18T11:06:09.217Z"
   },
   {
    "duration": 31,
    "start_time": "2022-01-18T11:06:09.258Z"
   },
   {
    "duration": 54,
    "start_time": "2022-01-18T11:06:09.292Z"
   },
   {
    "duration": 16,
    "start_time": "2022-01-18T11:06:09.348Z"
   },
   {
    "duration": 19,
    "start_time": "2022-01-18T11:06:09.366Z"
   },
   {
    "duration": 133,
    "start_time": "2022-01-18T11:06:09.389Z"
   },
   {
    "duration": 383,
    "start_time": "2022-01-18T11:06:09.525Z"
   },
   {
    "duration": 8,
    "start_time": "2022-01-18T11:06:09.910Z"
   },
   {
    "duration": 24,
    "start_time": "2022-01-18T11:06:09.920Z"
   },
   {
    "duration": 35,
    "start_time": "2022-01-18T11:06:09.946Z"
   },
   {
    "duration": 100,
    "start_time": "2022-01-18T11:06:09.984Z"
   },
   {
    "duration": 10,
    "start_time": "2022-01-18T11:06:10.086Z"
   },
   {
    "duration": 8,
    "start_time": "2022-01-18T11:06:10.098Z"
   },
   {
    "duration": 27,
    "start_time": "2022-01-18T11:06:10.108Z"
   },
   {
    "duration": 71,
    "start_time": "2022-01-18T11:06:10.137Z"
   },
   {
    "duration": 83,
    "start_time": "2022-01-18T11:06:10.210Z"
   },
   {
    "duration": 44,
    "start_time": "2022-01-18T11:06:10.295Z"
   },
   {
    "duration": 11,
    "start_time": "2022-01-18T11:06:10.341Z"
   },
   {
    "duration": 5,
    "start_time": "2022-01-18T11:06:10.355Z"
   },
   {
    "duration": 226,
    "start_time": "2022-01-18T11:06:10.362Z"
   },
   {
    "duration": 464,
    "start_time": "2022-01-18T11:06:10.592Z"
   },
   {
    "duration": 568,
    "start_time": "2022-01-18T11:06:11.059Z"
   },
   {
    "duration": 10,
    "start_time": "2022-01-18T11:06:11.633Z"
   },
   {
    "duration": 7,
    "start_time": "2022-01-18T11:06:11.646Z"
   },
   {
    "duration": 9,
    "start_time": "2022-01-18T11:06:11.656Z"
   },
   {
    "duration": 12,
    "start_time": "2022-01-18T11:06:11.668Z"
   },
   {
    "duration": 9,
    "start_time": "2022-01-18T11:06:11.683Z"
   },
   {
    "duration": 762,
    "start_time": "2022-01-18T11:06:11.695Z"
   },
   {
    "duration": -30,
    "start_time": "2022-01-18T11:06:12.490Z"
   },
   {
    "duration": -33,
    "start_time": "2022-01-18T11:06:12.494Z"
   },
   {
    "duration": -38,
    "start_time": "2022-01-18T11:06:12.501Z"
   },
   {
    "duration": -39,
    "start_time": "2022-01-18T11:06:12.504Z"
   },
   {
    "duration": -40,
    "start_time": "2022-01-18T11:06:12.506Z"
   },
   {
    "duration": -72,
    "start_time": "2022-01-18T11:06:12.540Z"
   },
   {
    "duration": -73,
    "start_time": "2022-01-18T11:06:12.542Z"
   },
   {
    "duration": -73,
    "start_time": "2022-01-18T11:06:12.544Z"
   },
   {
    "duration": -76,
    "start_time": "2022-01-18T11:06:12.549Z"
   },
   {
    "duration": -78,
    "start_time": "2022-01-18T11:06:12.552Z"
   },
   {
    "duration": -79,
    "start_time": "2022-01-18T11:06:12.554Z"
   },
   {
    "duration": -79,
    "start_time": "2022-01-18T11:06:12.556Z"
   },
   {
    "duration": -79,
    "start_time": "2022-01-18T11:06:12.557Z"
   },
   {
    "duration": -79,
    "start_time": "2022-01-18T11:06:12.559Z"
   },
   {
    "duration": -80,
    "start_time": "2022-01-18T11:06:12.561Z"
   },
   {
    "duration": 1432,
    "start_time": "2022-01-18T11:07:01.075Z"
   },
   {
    "duration": 501,
    "start_time": "2022-01-18T11:07:02.511Z"
   },
   {
    "duration": 47,
    "start_time": "2022-01-18T11:07:03.015Z"
   },
   {
    "duration": 32,
    "start_time": "2022-01-18T11:07:03.065Z"
   },
   {
    "duration": 58,
    "start_time": "2022-01-18T11:07:03.100Z"
   },
   {
    "duration": 25,
    "start_time": "2022-01-18T11:07:03.162Z"
   },
   {
    "duration": 56,
    "start_time": "2022-01-18T11:07:03.189Z"
   },
   {
    "duration": 118,
    "start_time": "2022-01-18T11:07:03.247Z"
   },
   {
    "duration": 383,
    "start_time": "2022-01-18T11:07:03.369Z"
   },
   {
    "duration": 8,
    "start_time": "2022-01-18T11:07:03.756Z"
   },
   {
    "duration": 24,
    "start_time": "2022-01-18T11:07:03.766Z"
   },
   {
    "duration": 49,
    "start_time": "2022-01-18T11:07:03.793Z"
   },
   {
    "duration": 88,
    "start_time": "2022-01-18T11:07:03.844Z"
   },
   {
    "duration": 11,
    "start_time": "2022-01-18T11:07:03.935Z"
   },
   {
    "duration": 9,
    "start_time": "2022-01-18T11:07:03.949Z"
   },
   {
    "duration": 15,
    "start_time": "2022-01-18T11:07:03.960Z"
   },
   {
    "duration": 94,
    "start_time": "2022-01-18T11:07:03.977Z"
   },
   {
    "duration": 85,
    "start_time": "2022-01-18T11:07:04.074Z"
   },
   {
    "duration": 48,
    "start_time": "2022-01-18T11:07:04.161Z"
   },
   {
    "duration": 30,
    "start_time": "2022-01-18T11:07:04.212Z"
   },
   {
    "duration": 10,
    "start_time": "2022-01-18T11:07:04.244Z"
   },
   {
    "duration": 223,
    "start_time": "2022-01-18T11:07:04.256Z"
   },
   {
    "duration": 454,
    "start_time": "2022-01-18T11:07:04.481Z"
   },
   {
    "duration": 483,
    "start_time": "2022-01-18T11:07:04.937Z"
   },
   {
    "duration": 15,
    "start_time": "2022-01-18T11:07:05.423Z"
   },
   {
    "duration": 9,
    "start_time": "2022-01-18T11:07:05.441Z"
   },
   {
    "duration": 5,
    "start_time": "2022-01-18T11:07:05.456Z"
   },
   {
    "duration": 32,
    "start_time": "2022-01-18T11:07:05.464Z"
   },
   {
    "duration": 10,
    "start_time": "2022-01-18T11:07:05.499Z"
   },
   {
    "duration": 111,
    "start_time": "2022-01-18T11:07:05.512Z"
   },
   {
    "duration": -33,
    "start_time": "2022-01-18T11:07:05.658Z"
   },
   {
    "duration": -35,
    "start_time": "2022-01-18T11:07:05.662Z"
   },
   {
    "duration": -42,
    "start_time": "2022-01-18T11:07:05.670Z"
   },
   {
    "duration": -45,
    "start_time": "2022-01-18T11:07:05.675Z"
   },
   {
    "duration": -45,
    "start_time": "2022-01-18T11:07:05.676Z"
   },
   {
    "duration": -45,
    "start_time": "2022-01-18T11:07:05.678Z"
   },
   {
    "duration": -50,
    "start_time": "2022-01-18T11:07:05.684Z"
   },
   {
    "duration": -71,
    "start_time": "2022-01-18T11:07:05.706Z"
   },
   {
    "duration": -72,
    "start_time": "2022-01-18T11:07:05.708Z"
   },
   {
    "duration": -71,
    "start_time": "2022-01-18T11:07:05.709Z"
   },
   {
    "duration": -74,
    "start_time": "2022-01-18T11:07:05.713Z"
   },
   {
    "duration": -80,
    "start_time": "2022-01-18T11:07:05.720Z"
   },
   {
    "duration": -82,
    "start_time": "2022-01-18T11:07:05.723Z"
   },
   {
    "duration": -83,
    "start_time": "2022-01-18T11:07:05.726Z"
   },
   {
    "duration": -83,
    "start_time": "2022-01-18T11:07:05.727Z"
   },
   {
    "duration": 1490,
    "start_time": "2022-01-18T11:07:25.821Z"
   },
   {
    "duration": 532,
    "start_time": "2022-01-18T11:07:27.314Z"
   },
   {
    "duration": 40,
    "start_time": "2022-01-18T11:07:27.849Z"
   },
   {
    "duration": 42,
    "start_time": "2022-01-18T11:07:27.892Z"
   },
   {
    "duration": 26,
    "start_time": "2022-01-18T11:07:27.937Z"
   },
   {
    "duration": 23,
    "start_time": "2022-01-18T11:07:27.967Z"
   },
   {
    "duration": 57,
    "start_time": "2022-01-18T11:07:27.993Z"
   },
   {
    "duration": 116,
    "start_time": "2022-01-18T11:07:28.054Z"
   },
   {
    "duration": 367,
    "start_time": "2022-01-18T11:07:28.173Z"
   },
   {
    "duration": 8,
    "start_time": "2022-01-18T11:07:28.542Z"
   },
   {
    "duration": 13,
    "start_time": "2022-01-18T11:07:28.552Z"
   },
   {
    "duration": 68,
    "start_time": "2022-01-18T11:07:28.567Z"
   },
   {
    "duration": 70,
    "start_time": "2022-01-18T11:07:28.638Z"
   },
   {
    "duration": 30,
    "start_time": "2022-01-18T11:07:28.710Z"
   },
   {
    "duration": 24,
    "start_time": "2022-01-18T11:07:28.742Z"
   },
   {
    "duration": 24,
    "start_time": "2022-01-18T11:07:28.768Z"
   },
   {
    "duration": 81,
    "start_time": "2022-01-18T11:07:28.794Z"
   },
   {
    "duration": 81,
    "start_time": "2022-01-18T11:07:28.877Z"
   },
   {
    "duration": 31,
    "start_time": "2022-01-18T11:07:28.961Z"
   },
   {
    "duration": 12,
    "start_time": "2022-01-18T11:07:28.994Z"
   },
   {
    "duration": 6,
    "start_time": "2022-01-18T11:07:29.033Z"
   },
   {
    "duration": 242,
    "start_time": "2022-01-18T11:07:29.041Z"
   },
   {
    "duration": 468,
    "start_time": "2022-01-18T11:07:29.288Z"
   },
   {
    "duration": 480,
    "start_time": "2022-01-18T11:07:29.760Z"
   },
   {
    "duration": 14,
    "start_time": "2022-01-18T11:07:30.243Z"
   },
   {
    "duration": 7,
    "start_time": "2022-01-18T11:07:30.260Z"
   },
   {
    "duration": 12,
    "start_time": "2022-01-18T11:07:30.269Z"
   },
   {
    "duration": 26,
    "start_time": "2022-01-18T11:07:30.283Z"
   },
   {
    "duration": 25,
    "start_time": "2022-01-18T11:07:30.312Z"
   },
   {
    "duration": 1078,
    "start_time": "2022-01-18T11:07:30.339Z"
   },
   {
    "duration": -90,
    "start_time": "2022-01-18T11:07:31.509Z"
   },
   {
    "duration": -92,
    "start_time": "2022-01-18T11:07:31.512Z"
   },
   {
    "duration": -96,
    "start_time": "2022-01-18T11:07:31.518Z"
   },
   {
    "duration": -98,
    "start_time": "2022-01-18T11:07:31.521Z"
   },
   {
    "duration": -92,
    "start_time": "2022-01-18T11:07:31.524Z"
   },
   {
    "duration": -92,
    "start_time": "2022-01-18T11:07:31.526Z"
   },
   {
    "duration": -94,
    "start_time": "2022-01-18T11:07:31.529Z"
   },
   {
    "duration": -98,
    "start_time": "2022-01-18T11:07:31.534Z"
   },
   {
    "duration": -99,
    "start_time": "2022-01-18T11:07:31.537Z"
   },
   {
    "duration": -100,
    "start_time": "2022-01-18T11:07:31.539Z"
   },
   {
    "duration": -101,
    "start_time": "2022-01-18T11:07:31.541Z"
   },
   {
    "duration": -101,
    "start_time": "2022-01-18T11:07:31.542Z"
   },
   {
    "duration": -100,
    "start_time": "2022-01-18T11:07:31.544Z"
   },
   {
    "duration": -105,
    "start_time": "2022-01-18T11:07:31.550Z"
   },
   {
    "duration": -105,
    "start_time": "2022-01-18T11:07:31.552Z"
   },
   {
    "duration": 1451,
    "start_time": "2022-01-18T11:08:41.695Z"
   },
   {
    "duration": 509,
    "start_time": "2022-01-18T11:08:43.149Z"
   },
   {
    "duration": 38,
    "start_time": "2022-01-18T11:08:43.661Z"
   },
   {
    "duration": 31,
    "start_time": "2022-01-18T11:08:43.702Z"
   },
   {
    "duration": 24,
    "start_time": "2022-01-18T11:08:43.736Z"
   },
   {
    "duration": 15,
    "start_time": "2022-01-18T11:08:43.763Z"
   },
   {
    "duration": 54,
    "start_time": "2022-01-18T11:08:43.780Z"
   },
   {
    "duration": 108,
    "start_time": "2022-01-18T11:08:43.838Z"
   },
   {
    "duration": 370,
    "start_time": "2022-01-18T11:08:43.950Z"
   },
   {
    "duration": 13,
    "start_time": "2022-01-18T11:08:44.322Z"
   },
   {
    "duration": 42,
    "start_time": "2022-01-18T11:08:44.338Z"
   },
   {
    "duration": 33,
    "start_time": "2022-01-18T11:08:44.383Z"
   },
   {
    "duration": 78,
    "start_time": "2022-01-18T11:08:44.418Z"
   },
   {
    "duration": 10,
    "start_time": "2022-01-18T11:08:44.498Z"
   },
   {
    "duration": 22,
    "start_time": "2022-01-18T11:08:44.510Z"
   },
   {
    "duration": 9,
    "start_time": "2022-01-18T11:08:44.534Z"
   },
   {
    "duration": 70,
    "start_time": "2022-01-18T11:08:44.545Z"
   },
   {
    "duration": 87,
    "start_time": "2022-01-18T11:08:44.617Z"
   },
   {
    "duration": 47,
    "start_time": "2022-01-18T11:08:44.707Z"
   },
   {
    "duration": 12,
    "start_time": "2022-01-18T11:08:44.757Z"
   },
   {
    "duration": 6,
    "start_time": "2022-01-18T11:08:44.771Z"
   },
   {
    "duration": 224,
    "start_time": "2022-01-18T11:08:44.779Z"
   },
   {
    "duration": 468,
    "start_time": "2022-01-18T11:08:45.010Z"
   },
   {
    "duration": 455,
    "start_time": "2022-01-18T11:08:45.481Z"
   },
   {
    "duration": 10,
    "start_time": "2022-01-18T11:08:45.939Z"
   },
   {
    "duration": 9,
    "start_time": "2022-01-18T11:08:45.951Z"
   },
   {
    "duration": 9,
    "start_time": "2022-01-18T11:08:45.963Z"
   },
   {
    "duration": 14,
    "start_time": "2022-01-18T11:08:45.975Z"
   },
   {
    "duration": 43,
    "start_time": "2022-01-18T11:08:45.991Z"
   },
   {
    "duration": 1510,
    "start_time": "2022-01-18T11:09:21.696Z"
   },
   {
    "duration": 506,
    "start_time": "2022-01-18T11:09:23.209Z"
   },
   {
    "duration": 39,
    "start_time": "2022-01-18T11:09:23.718Z"
   },
   {
    "duration": 32,
    "start_time": "2022-01-18T11:09:23.761Z"
   },
   {
    "duration": 57,
    "start_time": "2022-01-18T11:09:23.796Z"
   },
   {
    "duration": 16,
    "start_time": "2022-01-18T11:09:23.856Z"
   },
   {
    "duration": 28,
    "start_time": "2022-01-18T11:09:23.874Z"
   },
   {
    "duration": 106,
    "start_time": "2022-01-18T11:09:23.935Z"
   },
   {
    "duration": 360,
    "start_time": "2022-01-18T11:09:24.044Z"
   },
   {
    "duration": 8,
    "start_time": "2022-01-18T11:09:24.406Z"
   },
   {
    "duration": 26,
    "start_time": "2022-01-18T11:09:24.416Z"
   },
   {
    "duration": 41,
    "start_time": "2022-01-18T11:09:24.445Z"
   },
   {
    "duration": 88,
    "start_time": "2022-01-18T11:09:24.489Z"
   },
   {
    "duration": 10,
    "start_time": "2022-01-18T11:09:24.580Z"
   },
   {
    "duration": 9,
    "start_time": "2022-01-18T11:09:24.592Z"
   },
   {
    "duration": 28,
    "start_time": "2022-01-18T11:09:24.604Z"
   },
   {
    "duration": 73,
    "start_time": "2022-01-18T11:09:24.635Z"
   },
   {
    "duration": 78,
    "start_time": "2022-01-18T11:09:24.711Z"
   },
   {
    "duration": 44,
    "start_time": "2022-01-18T11:09:24.792Z"
   },
   {
    "duration": 12,
    "start_time": "2022-01-18T11:09:24.838Z"
   },
   {
    "duration": 6,
    "start_time": "2022-01-18T11:09:24.853Z"
   },
   {
    "duration": 239,
    "start_time": "2022-01-18T11:09:24.861Z"
   },
   {
    "duration": 552,
    "start_time": "2022-01-18T11:09:25.105Z"
   },
   {
    "duration": 483,
    "start_time": "2022-01-18T11:09:25.661Z"
   },
   {
    "duration": 11,
    "start_time": "2022-01-18T11:09:26.146Z"
   },
   {
    "duration": 21,
    "start_time": "2022-01-18T11:09:26.160Z"
   },
   {
    "duration": 10,
    "start_time": "2022-01-18T11:09:26.184Z"
   },
   {
    "duration": 15,
    "start_time": "2022-01-18T11:09:26.197Z"
   },
   {
    "duration": 27,
    "start_time": "2022-01-18T11:09:26.214Z"
   },
   {
    "duration": 1535,
    "start_time": "2022-01-18T11:09:58.377Z"
   },
   {
    "duration": 526,
    "start_time": "2022-01-18T11:09:59.915Z"
   },
   {
    "duration": 41,
    "start_time": "2022-01-18T11:10:00.444Z"
   },
   {
    "duration": 45,
    "start_time": "2022-01-18T11:10:00.488Z"
   },
   {
    "duration": 30,
    "start_time": "2022-01-18T11:10:00.536Z"
   },
   {
    "duration": 29,
    "start_time": "2022-01-18T11:10:00.568Z"
   },
   {
    "duration": 43,
    "start_time": "2022-01-18T11:10:00.600Z"
   },
   {
    "duration": 126,
    "start_time": "2022-01-18T11:10:00.645Z"
   },
   {
    "duration": 457,
    "start_time": "2022-01-18T11:10:00.775Z"
   },
   {
    "duration": 8,
    "start_time": "2022-01-18T11:10:01.235Z"
   },
   {
    "duration": 41,
    "start_time": "2022-01-18T11:10:01.246Z"
   },
   {
    "duration": 70,
    "start_time": "2022-01-18T11:10:01.289Z"
   },
   {
    "duration": 92,
    "start_time": "2022-01-18T11:10:01.362Z"
   },
   {
    "duration": 10,
    "start_time": "2022-01-18T11:10:01.456Z"
   },
   {
    "duration": 33,
    "start_time": "2022-01-18T11:10:01.468Z"
   },
   {
    "duration": 25,
    "start_time": "2022-01-18T11:10:01.504Z"
   },
   {
    "duration": 98,
    "start_time": "2022-01-18T11:10:01.531Z"
   },
   {
    "duration": 73,
    "start_time": "2022-01-18T11:10:01.631Z"
   },
   {
    "duration": 55,
    "start_time": "2022-01-18T11:10:01.707Z"
   },
   {
    "duration": 42,
    "start_time": "2022-01-18T11:10:01.765Z"
   },
   {
    "duration": 9,
    "start_time": "2022-01-18T11:10:01.809Z"
   },
   {
    "duration": 229,
    "start_time": "2022-01-18T11:10:01.820Z"
   },
   {
    "duration": 450,
    "start_time": "2022-01-18T11:10:02.052Z"
   },
   {
    "duration": 466,
    "start_time": "2022-01-18T11:10:02.505Z"
   },
   {
    "duration": 10,
    "start_time": "2022-01-18T11:10:02.973Z"
   },
   {
    "duration": 9,
    "start_time": "2022-01-18T11:10:02.986Z"
   },
   {
    "duration": 13,
    "start_time": "2022-01-18T11:10:03.001Z"
   },
   {
    "duration": 10,
    "start_time": "2022-01-18T11:10:03.034Z"
   },
   {
    "duration": 16,
    "start_time": "2022-01-18T11:10:03.046Z"
   },
   {
    "duration": 41170,
    "start_time": "2022-01-18T11:10:03.065Z"
   },
   {
    "duration": 9,
    "start_time": "2022-01-18T11:10:44.237Z"
   },
   {
    "duration": 19,
    "start_time": "2022-01-18T11:10:44.249Z"
   },
   {
    "duration": 15,
    "start_time": "2022-01-18T11:10:44.270Z"
   },
   {
    "duration": 17490,
    "start_time": "2022-01-18T11:10:44.287Z"
   },
   {
    "duration": -126,
    "start_time": "2022-01-18T11:11:01.905Z"
   },
   {
    "duration": -127,
    "start_time": "2022-01-18T11:11:01.908Z"
   },
   {
    "duration": -128,
    "start_time": "2022-01-18T11:11:01.910Z"
   },
   {
    "duration": -127,
    "start_time": "2022-01-18T11:11:01.911Z"
   },
   {
    "duration": -128,
    "start_time": "2022-01-18T11:11:01.913Z"
   },
   {
    "duration": -129,
    "start_time": "2022-01-18T11:11:01.915Z"
   },
   {
    "duration": -128,
    "start_time": "2022-01-18T11:11:01.916Z"
   },
   {
    "duration": -129,
    "start_time": "2022-01-18T11:11:01.918Z"
   },
   {
    "duration": -129,
    "start_time": "2022-01-18T11:11:01.920Z"
   },
   {
    "duration": -128,
    "start_time": "2022-01-18T11:11:01.921Z"
   },
   {
    "duration": -128,
    "start_time": "2022-01-18T11:11:01.923Z"
   },
   {
    "duration": 1457,
    "start_time": "2022-01-18T11:15:54.867Z"
   },
   {
    "duration": 531,
    "start_time": "2022-01-18T11:15:56.326Z"
   },
   {
    "duration": 40,
    "start_time": "2022-01-18T11:15:56.860Z"
   },
   {
    "duration": 35,
    "start_time": "2022-01-18T11:15:56.903Z"
   },
   {
    "duration": 26,
    "start_time": "2022-01-18T11:15:56.941Z"
   },
   {
    "duration": 16,
    "start_time": "2022-01-18T11:15:56.970Z"
   },
   {
    "duration": 59,
    "start_time": "2022-01-18T11:15:56.988Z"
   },
   {
    "duration": 115,
    "start_time": "2022-01-18T11:15:57.050Z"
   },
   {
    "duration": 357,
    "start_time": "2022-01-18T11:15:57.168Z"
   },
   {
    "duration": 8,
    "start_time": "2022-01-18T11:15:57.532Z"
   },
   {
    "duration": 14,
    "start_time": "2022-01-18T11:15:57.542Z"
   },
   {
    "duration": 36,
    "start_time": "2022-01-18T11:15:57.558Z"
   },
   {
    "duration": 90,
    "start_time": "2022-01-18T11:15:57.597Z"
   },
   {
    "duration": 10,
    "start_time": "2022-01-18T11:15:57.689Z"
   },
   {
    "duration": 7,
    "start_time": "2022-01-18T11:15:57.702Z"
   },
   {
    "duration": 22,
    "start_time": "2022-01-18T11:15:57.711Z"
   },
   {
    "duration": 68,
    "start_time": "2022-01-18T11:15:57.736Z"
   },
   {
    "duration": 84,
    "start_time": "2022-01-18T11:15:57.806Z"
   },
   {
    "duration": 43,
    "start_time": "2022-01-18T11:15:57.892Z"
   },
   {
    "duration": 11,
    "start_time": "2022-01-18T11:15:57.938Z"
   },
   {
    "duration": 6,
    "start_time": "2022-01-18T11:15:57.951Z"
   },
   {
    "duration": 220,
    "start_time": "2022-01-18T11:15:57.959Z"
   },
   {
    "duration": 460,
    "start_time": "2022-01-18T11:15:58.184Z"
   },
   {
    "duration": 479,
    "start_time": "2022-01-18T11:15:58.648Z"
   },
   {
    "duration": 10,
    "start_time": "2022-01-18T11:15:59.133Z"
   },
   {
    "duration": 11,
    "start_time": "2022-01-18T11:15:59.145Z"
   },
   {
    "duration": 8,
    "start_time": "2022-01-18T11:15:59.158Z"
   },
   {
    "duration": 17,
    "start_time": "2022-01-18T11:15:59.168Z"
   },
   {
    "duration": 11,
    "start_time": "2022-01-18T11:15:59.187Z"
   },
   {
    "duration": 40807,
    "start_time": "2022-01-18T11:15:59.200Z"
   },
   {
    "duration": 10,
    "start_time": "2022-01-18T11:16:40.009Z"
   },
   {
    "duration": 13,
    "start_time": "2022-01-18T11:16:40.033Z"
   },
   {
    "duration": 9,
    "start_time": "2022-01-18T11:16:40.049Z"
   },
   {
    "duration": 41915,
    "start_time": "2022-01-18T11:16:40.060Z"
   },
   {
    "duration": 7,
    "start_time": "2022-01-18T11:17:21.978Z"
   },
   {
    "duration": 13,
    "start_time": "2022-01-18T11:17:21.988Z"
   },
   {
    "duration": 35,
    "start_time": "2022-01-18T11:17:22.003Z"
   },
   {
    "duration": 42993,
    "start_time": "2022-01-18T11:17:22.041Z"
   },
   {
    "duration": 8,
    "start_time": "2022-01-18T11:18:05.037Z"
   },
   {
    "duration": 7,
    "start_time": "2022-01-18T11:18:05.047Z"
   },
   {
    "duration": 9,
    "start_time": "2022-01-18T11:18:05.057Z"
   },
   {
    "duration": 8,
    "start_time": "2022-01-18T11:18:05.068Z"
   },
   {
    "duration": 80,
    "start_time": "2022-01-18T11:18:05.078Z"
   },
   {
    "duration": 12,
    "start_time": "2022-01-18T11:18:05.161Z"
   },
   {
    "duration": 14,
    "start_time": "2022-01-18T11:18:05.175Z"
   },
   {
    "duration": 1476,
    "start_time": "2022-01-18T11:31:45.945Z"
   },
   {
    "duration": 511,
    "start_time": "2022-01-18T11:31:47.424Z"
   },
   {
    "duration": 38,
    "start_time": "2022-01-18T11:31:47.938Z"
   },
   {
    "duration": 54,
    "start_time": "2022-01-18T11:31:47.979Z"
   },
   {
    "duration": 28,
    "start_time": "2022-01-18T11:31:48.035Z"
   },
   {
    "duration": 20,
    "start_time": "2022-01-18T11:31:48.066Z"
   },
   {
    "duration": 49,
    "start_time": "2022-01-18T11:31:48.088Z"
   },
   {
    "duration": 112,
    "start_time": "2022-01-18T11:31:48.141Z"
   },
   {
    "duration": 360,
    "start_time": "2022-01-18T11:31:48.256Z"
   },
   {
    "duration": 22,
    "start_time": "2022-01-18T11:31:48.619Z"
   },
   {
    "duration": 14,
    "start_time": "2022-01-18T11:31:48.644Z"
   },
   {
    "duration": 35,
    "start_time": "2022-01-18T11:31:48.661Z"
   },
   {
    "duration": 96,
    "start_time": "2022-01-18T11:31:48.698Z"
   },
   {
    "duration": 10,
    "start_time": "2022-01-18T11:31:48.797Z"
   },
   {
    "duration": 7,
    "start_time": "2022-01-18T11:31:48.809Z"
   },
   {
    "duration": 22,
    "start_time": "2022-01-18T11:31:48.818Z"
   },
   {
    "duration": 67,
    "start_time": "2022-01-18T11:31:48.842Z"
   },
   {
    "duration": 86,
    "start_time": "2022-01-18T11:31:48.911Z"
   },
   {
    "duration": 48,
    "start_time": "2022-01-18T11:31:48.999Z"
   },
   {
    "duration": 12,
    "start_time": "2022-01-18T11:31:49.050Z"
   },
   {
    "duration": 9,
    "start_time": "2022-01-18T11:31:49.064Z"
   },
   {
    "duration": 224,
    "start_time": "2022-01-18T11:31:49.075Z"
   },
   {
    "duration": 462,
    "start_time": "2022-01-18T11:31:49.304Z"
   },
   {
    "duration": 478,
    "start_time": "2022-01-18T11:31:49.769Z"
   },
   {
    "duration": 10,
    "start_time": "2022-01-18T11:31:50.250Z"
   },
   {
    "duration": 10,
    "start_time": "2022-01-18T11:31:50.262Z"
   },
   {
    "duration": 8,
    "start_time": "2022-01-18T11:31:50.274Z"
   },
   {
    "duration": 15,
    "start_time": "2022-01-18T11:31:50.285Z"
   },
   {
    "duration": 40,
    "start_time": "2022-01-18T11:31:50.302Z"
   },
   {
    "duration": 43634,
    "start_time": "2022-01-18T11:31:50.345Z"
   },
   {
    "duration": 9,
    "start_time": "2022-01-18T11:32:33.982Z"
   },
   {
    "duration": 10,
    "start_time": "2022-01-18T11:32:33.993Z"
   },
   {
    "duration": 11,
    "start_time": "2022-01-18T11:32:34.032Z"
   },
   {
    "duration": 41696,
    "start_time": "2022-01-18T11:32:34.046Z"
   },
   {
    "duration": 8,
    "start_time": "2022-01-18T11:33:15.744Z"
   },
   {
    "duration": 12,
    "start_time": "2022-01-18T11:33:15.754Z"
   },
   {
    "duration": 10,
    "start_time": "2022-01-18T11:33:15.769Z"
   },
   {
    "duration": 42953,
    "start_time": "2022-01-18T11:33:15.781Z"
   },
   {
    "duration": 9,
    "start_time": "2022-01-18T11:33:58.737Z"
   },
   {
    "duration": 12,
    "start_time": "2022-01-18T11:33:58.748Z"
   },
   {
    "duration": 21,
    "start_time": "2022-01-18T11:33:58.763Z"
   },
   {
    "duration": 10,
    "start_time": "2022-01-18T11:33:58.787Z"
   },
   {
    "duration": 58,
    "start_time": "2022-01-18T11:33:58.800Z"
   },
   {
    "duration": 14,
    "start_time": "2022-01-18T11:33:58.860Z"
   },
   {
    "duration": 14,
    "start_time": "2022-01-18T11:33:58.876Z"
   },
   {
    "duration": 1508,
    "start_time": "2022-01-18T11:40:38.803Z"
   },
   {
    "duration": 491,
    "start_time": "2022-01-18T11:40:40.314Z"
   },
   {
    "duration": 40,
    "start_time": "2022-01-18T11:40:40.808Z"
   },
   {
    "duration": 32,
    "start_time": "2022-01-18T11:40:40.851Z"
   },
   {
    "duration": 49,
    "start_time": "2022-01-18T11:40:40.885Z"
   },
   {
    "duration": 19,
    "start_time": "2022-01-18T11:40:40.936Z"
   },
   {
    "duration": 21,
    "start_time": "2022-01-18T11:40:40.958Z"
   },
   {
    "duration": 137,
    "start_time": "2022-01-18T11:40:40.985Z"
   },
   {
    "duration": 383,
    "start_time": "2022-01-18T11:40:41.134Z"
   },
   {
    "duration": 18,
    "start_time": "2022-01-18T11:40:41.520Z"
   },
   {
    "duration": 16,
    "start_time": "2022-01-18T11:40:41.541Z"
   },
   {
    "duration": 34,
    "start_time": "2022-01-18T11:40:41.559Z"
   },
   {
    "duration": 97,
    "start_time": "2022-01-18T11:40:41.596Z"
   },
   {
    "duration": 10,
    "start_time": "2022-01-18T11:40:41.696Z"
   },
   {
    "duration": 24,
    "start_time": "2022-01-18T11:40:41.708Z"
   },
   {
    "duration": 11,
    "start_time": "2022-01-18T11:40:41.734Z"
   },
   {
    "duration": 65,
    "start_time": "2022-01-18T11:40:41.748Z"
   },
   {
    "duration": 75,
    "start_time": "2022-01-18T11:40:41.815Z"
   },
   {
    "duration": 58,
    "start_time": "2022-01-18T11:40:41.892Z"
   },
   {
    "duration": 12,
    "start_time": "2022-01-18T11:40:41.952Z"
   },
   {
    "duration": 5,
    "start_time": "2022-01-18T11:40:41.967Z"
   },
   {
    "duration": 224,
    "start_time": "2022-01-18T11:40:41.975Z"
   },
   {
    "duration": 461,
    "start_time": "2022-01-18T11:40:42.204Z"
   },
   {
    "duration": 470,
    "start_time": "2022-01-18T11:40:42.667Z"
   },
   {
    "duration": 12,
    "start_time": "2022-01-18T11:40:43.139Z"
   },
   {
    "duration": 13,
    "start_time": "2022-01-18T11:40:43.153Z"
   },
   {
    "duration": 8,
    "start_time": "2022-01-18T11:40:43.168Z"
   },
   {
    "duration": 16,
    "start_time": "2022-01-18T11:40:43.178Z"
   },
   {
    "duration": 41,
    "start_time": "2022-01-18T11:40:43.196Z"
   },
   {
    "duration": 43234,
    "start_time": "2022-01-18T11:40:43.239Z"
   },
   {
    "duration": 8,
    "start_time": "2022-01-18T11:41:26.476Z"
   },
   {
    "duration": 15,
    "start_time": "2022-01-18T11:41:26.486Z"
   },
   {
    "duration": 37,
    "start_time": "2022-01-18T11:41:26.504Z"
   },
   {
    "duration": 42472,
    "start_time": "2022-01-18T11:41:26.543Z"
   },
   {
    "duration": 20,
    "start_time": "2022-01-18T11:42:09.018Z"
   },
   {
    "duration": 14,
    "start_time": "2022-01-18T11:42:09.041Z"
   },
   {
    "duration": 12,
    "start_time": "2022-01-18T11:42:09.057Z"
   },
   {
    "duration": 41790,
    "start_time": "2022-01-18T11:42:09.071Z"
   },
   {
    "duration": 9,
    "start_time": "2022-01-18T11:42:50.864Z"
   },
   {
    "duration": 6,
    "start_time": "2022-01-18T11:42:50.875Z"
   },
   {
    "duration": 6,
    "start_time": "2022-01-18T11:42:50.884Z"
   },
   {
    "duration": 44,
    "start_time": "2022-01-18T11:42:50.893Z"
   },
   {
    "duration": 35,
    "start_time": "2022-01-18T11:42:50.940Z"
   },
   {
    "duration": 15,
    "start_time": "2022-01-18T11:42:50.978Z"
   },
   {
    "duration": 48,
    "start_time": "2022-01-18T11:42:50.995Z"
   },
   {
    "duration": 1460,
    "start_time": "2022-01-18T11:49:09.656Z"
   },
   {
    "duration": 510,
    "start_time": "2022-01-18T11:49:11.119Z"
   },
   {
    "duration": 41,
    "start_time": "2022-01-18T11:49:11.633Z"
   },
   {
    "duration": 62,
    "start_time": "2022-01-18T11:49:11.678Z"
   },
   {
    "duration": 26,
    "start_time": "2022-01-18T11:49:11.743Z"
   },
   {
    "duration": 17,
    "start_time": "2022-01-18T11:49:11.772Z"
   },
   {
    "duration": 55,
    "start_time": "2022-01-18T11:49:11.792Z"
   },
   {
    "duration": 115,
    "start_time": "2022-01-18T11:49:11.852Z"
   },
   {
    "duration": 375,
    "start_time": "2022-01-18T11:49:11.971Z"
   },
   {
    "duration": 9,
    "start_time": "2022-01-18T11:49:12.348Z"
   },
   {
    "duration": 14,
    "start_time": "2022-01-18T11:49:12.359Z"
   },
   {
    "duration": 64,
    "start_time": "2022-01-18T11:49:12.375Z"
   },
   {
    "duration": 69,
    "start_time": "2022-01-18T11:49:12.441Z"
   },
   {
    "duration": 22,
    "start_time": "2022-01-18T11:49:12.512Z"
   },
   {
    "duration": 9,
    "start_time": "2022-01-18T11:49:12.537Z"
   },
   {
    "duration": 12,
    "start_time": "2022-01-18T11:49:12.548Z"
   },
   {
    "duration": 86,
    "start_time": "2022-01-18T11:49:12.562Z"
   },
   {
    "duration": 70,
    "start_time": "2022-01-18T11:49:12.651Z"
   },
   {
    "duration": 34,
    "start_time": "2022-01-18T11:49:12.733Z"
   },
   {
    "duration": 12,
    "start_time": "2022-01-18T11:49:12.769Z"
   },
   {
    "duration": 8,
    "start_time": "2022-01-18T11:49:12.783Z"
   },
   {
    "duration": 243,
    "start_time": "2022-01-18T11:49:12.793Z"
   },
   {
    "duration": 465,
    "start_time": "2022-01-18T11:49:13.041Z"
   },
   {
    "duration": 464,
    "start_time": "2022-01-18T11:49:13.509Z"
   },
   {
    "duration": 11,
    "start_time": "2022-01-18T11:49:13.976Z"
   },
   {
    "duration": 7,
    "start_time": "2022-01-18T11:49:13.989Z"
   },
   {
    "duration": 5,
    "start_time": "2022-01-18T11:49:13.999Z"
   },
   {
    "duration": 11,
    "start_time": "2022-01-18T11:49:14.033Z"
   },
   {
    "duration": 12,
    "start_time": "2022-01-18T11:49:14.046Z"
   },
   {
    "duration": 42194,
    "start_time": "2022-01-18T11:49:14.060Z"
   },
   {
    "duration": 8,
    "start_time": "2022-01-18T11:49:56.257Z"
   },
   {
    "duration": 11,
    "start_time": "2022-01-18T11:49:56.268Z"
   },
   {
    "duration": 13,
    "start_time": "2022-01-18T11:49:56.282Z"
   },
   {
    "duration": 1434,
    "start_time": "2022-01-18T11:50:29.692Z"
   },
   {
    "duration": 513,
    "start_time": "2022-01-18T11:50:31.129Z"
   },
   {
    "duration": 39,
    "start_time": "2022-01-18T11:50:31.645Z"
   },
   {
    "duration": 48,
    "start_time": "2022-01-18T11:50:31.687Z"
   },
   {
    "duration": 25,
    "start_time": "2022-01-18T11:50:31.738Z"
   },
   {
    "duration": 17,
    "start_time": "2022-01-18T11:50:31.766Z"
   },
   {
    "duration": 59,
    "start_time": "2022-01-18T11:50:31.786Z"
   },
   {
    "duration": 110,
    "start_time": "2022-01-18T11:50:31.847Z"
   },
   {
    "duration": 366,
    "start_time": "2022-01-18T11:50:31.961Z"
   },
   {
    "duration": 8,
    "start_time": "2022-01-18T11:50:32.333Z"
   },
   {
    "duration": 13,
    "start_time": "2022-01-18T11:50:32.344Z"
   },
   {
    "duration": 33,
    "start_time": "2022-01-18T11:50:32.359Z"
   },
   {
    "duration": 101,
    "start_time": "2022-01-18T11:50:32.395Z"
   },
   {
    "duration": 10,
    "start_time": "2022-01-18T11:50:32.498Z"
   },
   {
    "duration": 22,
    "start_time": "2022-01-18T11:50:32.510Z"
   },
   {
    "duration": 10,
    "start_time": "2022-01-18T11:50:32.534Z"
   },
   {
    "duration": 69,
    "start_time": "2022-01-18T11:50:32.546Z"
   },
   {
    "duration": 86,
    "start_time": "2022-01-18T11:50:32.617Z"
   },
   {
    "duration": 50,
    "start_time": "2022-01-18T11:50:32.705Z"
   },
   {
    "duration": 11,
    "start_time": "2022-01-18T11:50:32.757Z"
   },
   {
    "duration": 7,
    "start_time": "2022-01-18T11:50:32.771Z"
   },
   {
    "duration": 227,
    "start_time": "2022-01-18T11:50:32.780Z"
   },
   {
    "duration": 463,
    "start_time": "2022-01-18T11:50:33.009Z"
   },
   {
    "duration": 451,
    "start_time": "2022-01-18T11:50:33.475Z"
   },
   {
    "duration": 11,
    "start_time": "2022-01-18T11:50:33.932Z"
   },
   {
    "duration": 7,
    "start_time": "2022-01-18T11:50:33.945Z"
   },
   {
    "duration": 5,
    "start_time": "2022-01-18T11:50:33.958Z"
   },
   {
    "duration": 9,
    "start_time": "2022-01-18T11:50:33.966Z"
   },
   {
    "duration": 10,
    "start_time": "2022-01-18T11:50:33.978Z"
   },
   {
    "duration": 41559,
    "start_time": "2022-01-18T11:50:34.033Z"
   },
   {
    "duration": 9,
    "start_time": "2022-01-18T11:51:15.594Z"
   },
   {
    "duration": 32,
    "start_time": "2022-01-18T11:51:15.605Z"
   },
   {
    "duration": 12,
    "start_time": "2022-01-18T11:51:15.639Z"
   },
   {
    "duration": 44360,
    "start_time": "2022-01-18T11:51:15.653Z"
   },
   {
    "duration": 20,
    "start_time": "2022-01-18T11:52:00.016Z"
   },
   {
    "duration": 13,
    "start_time": "2022-01-18T11:52:00.038Z"
   },
   {
    "duration": 13,
    "start_time": "2022-01-18T11:52:00.053Z"
   },
   {
    "duration": 42523,
    "start_time": "2022-01-18T11:52:00.068Z"
   },
   {
    "duration": 8,
    "start_time": "2022-01-18T11:52:42.594Z"
   },
   {
    "duration": 30,
    "start_time": "2022-01-18T11:52:42.604Z"
   },
   {
    "duration": 7,
    "start_time": "2022-01-18T11:52:42.636Z"
   },
   {
    "duration": 7,
    "start_time": "2022-01-18T11:52:42.645Z"
   },
   {
    "duration": 36,
    "start_time": "2022-01-18T11:52:42.655Z"
   },
   {
    "duration": 49,
    "start_time": "2022-01-18T11:52:42.694Z"
   },
   {
    "duration": 14,
    "start_time": "2022-01-18T11:52:42.746Z"
   },
   {
    "duration": 1103,
    "start_time": "2022-01-21T13:14:50.565Z"
   },
   {
    "duration": 371,
    "start_time": "2022-01-21T13:14:51.670Z"
   },
   {
    "duration": 28,
    "start_time": "2022-01-21T13:14:52.043Z"
   },
   {
    "duration": 23,
    "start_time": "2022-01-21T13:14:52.073Z"
   },
   {
    "duration": 17,
    "start_time": "2022-01-21T13:14:52.097Z"
   },
   {
    "duration": 10,
    "start_time": "2022-01-21T13:14:52.116Z"
   },
   {
    "duration": 49,
    "start_time": "2022-01-21T13:14:52.128Z"
   },
   {
    "duration": 61,
    "start_time": "2022-01-21T13:14:52.179Z"
   },
   {
    "duration": 215,
    "start_time": "2022-01-21T13:14:52.242Z"
   },
   {
    "duration": 15,
    "start_time": "2022-01-21T13:14:52.459Z"
   },
   {
    "duration": 11,
    "start_time": "2022-01-21T13:14:52.476Z"
   },
   {
    "duration": 27,
    "start_time": "2022-01-21T13:14:52.489Z"
   },
   {
    "duration": 54,
    "start_time": "2022-01-21T13:14:52.517Z"
   },
   {
    "duration": 6,
    "start_time": "2022-01-21T13:14:52.573Z"
   },
   {
    "duration": 8,
    "start_time": "2022-01-21T13:14:52.581Z"
   },
   {
    "duration": 9,
    "start_time": "2022-01-21T13:14:52.590Z"
   },
   {
    "duration": 46,
    "start_time": "2022-01-21T13:14:52.600Z"
   },
   {
    "duration": 60,
    "start_time": "2022-01-21T13:14:52.648Z"
   },
   {
    "duration": 21,
    "start_time": "2022-01-21T13:14:52.710Z"
   },
   {
    "duration": 9,
    "start_time": "2022-01-21T13:14:52.732Z"
   },
   {
    "duration": 4,
    "start_time": "2022-01-21T13:14:52.742Z"
   },
   {
    "duration": 151,
    "start_time": "2022-01-21T13:14:52.748Z"
   },
   {
    "duration": 265,
    "start_time": "2022-01-21T13:14:52.903Z"
   },
   {
    "duration": 269,
    "start_time": "2022-01-21T13:14:53.170Z"
   },
   {
    "duration": 7,
    "start_time": "2022-01-21T13:14:53.440Z"
   },
   {
    "duration": 5,
    "start_time": "2022-01-21T13:14:53.449Z"
   },
   {
    "duration": 15,
    "start_time": "2022-01-21T13:14:53.456Z"
   },
   {
    "duration": 7,
    "start_time": "2022-01-21T13:14:53.473Z"
   },
   {
    "duration": 7,
    "start_time": "2022-01-21T13:14:53.481Z"
   },
   {
    "duration": 21892,
    "start_time": "2022-01-21T13:14:53.490Z"
   },
   {
    "duration": 6,
    "start_time": "2022-01-21T13:15:15.384Z"
   },
   {
    "duration": 17,
    "start_time": "2022-01-21T13:15:15.392Z"
   },
   {
    "duration": 9,
    "start_time": "2022-01-21T13:15:15.411Z"
   },
   {
    "duration": 23755,
    "start_time": "2022-01-21T13:15:15.422Z"
   },
   {
    "duration": 6,
    "start_time": "2022-01-21T13:15:39.178Z"
   },
   {
    "duration": 8,
    "start_time": "2022-01-21T13:15:39.185Z"
   },
   {
    "duration": 6,
    "start_time": "2022-01-21T13:15:39.194Z"
   },
   {
    "duration": 24190,
    "start_time": "2022-01-21T13:15:39.201Z"
   },
   {
    "duration": 7,
    "start_time": "2022-01-21T13:16:03.393Z"
   },
   {
    "duration": 4,
    "start_time": "2022-01-21T13:16:03.402Z"
   },
   {
    "duration": 7,
    "start_time": "2022-01-21T13:16:03.408Z"
   },
   {
    "duration": 17,
    "start_time": "2022-01-21T13:16:03.417Z"
   },
   {
    "duration": 43,
    "start_time": "2022-01-21T13:16:03.436Z"
   },
   {
    "duration": 10,
    "start_time": "2022-01-21T13:16:03.481Z"
   },
   {
    "duration": 9,
    "start_time": "2022-01-21T13:16:03.492Z"
   },
   {
    "duration": 8,
    "start_time": "2022-01-21T13:24:13.324Z"
   },
   {
    "duration": 32,
    "start_time": "2022-01-21T13:24:44.771Z"
   },
   {
    "duration": 6,
    "start_time": "2022-01-21T13:27:12.145Z"
   },
   {
    "duration": 43,
    "start_time": "2022-01-21T13:28:29.032Z"
   },
   {
    "duration": 6,
    "start_time": "2022-01-21T13:28:39.225Z"
   },
   {
    "duration": 5,
    "start_time": "2022-01-21T13:28:42.694Z"
   },
   {
    "duration": 31,
    "start_time": "2022-01-21T13:34:47.648Z"
   },
   {
    "duration": 2288,
    "start_time": "2022-01-21T13:41:17.298Z"
   },
   {
    "duration": 175,
    "start_time": "2022-01-21T13:41:24.692Z"
   },
   {
    "duration": 29,
    "start_time": "2022-01-21T13:42:11.375Z"
   },
   {
    "duration": 1148,
    "start_time": "2022-01-21T13:59:03.813Z"
   },
   {
    "duration": 465,
    "start_time": "2022-01-21T13:59:04.964Z"
   },
   {
    "duration": 34,
    "start_time": "2022-01-21T13:59:05.431Z"
   },
   {
    "duration": 57,
    "start_time": "2022-01-21T13:59:05.468Z"
   },
   {
    "duration": 36,
    "start_time": "2022-01-21T13:59:05.527Z"
   },
   {
    "duration": 67,
    "start_time": "2022-01-21T13:59:05.566Z"
   },
   {
    "duration": 45,
    "start_time": "2022-01-21T13:59:05.635Z"
   },
   {
    "duration": 108,
    "start_time": "2022-01-21T13:59:05.683Z"
   },
   {
    "duration": 243,
    "start_time": "2022-01-21T13:59:05.794Z"
   },
   {
    "duration": 5,
    "start_time": "2022-01-21T13:59:06.038Z"
   },
   {
    "duration": 46,
    "start_time": "2022-01-21T13:59:06.045Z"
   },
   {
    "duration": 84,
    "start_time": "2022-01-21T13:59:06.093Z"
   },
   {
    "duration": 126,
    "start_time": "2022-01-21T13:59:06.179Z"
   },
   {
    "duration": 7,
    "start_time": "2022-01-21T13:59:06.307Z"
   },
   {
    "duration": 49,
    "start_time": "2022-01-21T13:59:06.315Z"
   },
   {
    "duration": 72,
    "start_time": "2022-01-21T13:59:06.366Z"
   },
   {
    "duration": 93,
    "start_time": "2022-01-21T13:59:06.440Z"
   },
   {
    "duration": 96,
    "start_time": "2022-01-21T13:59:06.535Z"
   },
   {
    "duration": 51,
    "start_time": "2022-01-21T13:59:06.633Z"
   },
   {
    "duration": 50,
    "start_time": "2022-01-21T13:59:06.686Z"
   },
   {
    "duration": 38,
    "start_time": "2022-01-21T13:59:06.737Z"
   },
   {
    "duration": 280,
    "start_time": "2022-01-21T13:59:06.777Z"
   },
   {
    "duration": 333,
    "start_time": "2022-01-21T13:59:07.063Z"
   },
   {
    "duration": 313,
    "start_time": "2022-01-21T13:59:07.398Z"
   },
   {
    "duration": 9,
    "start_time": "2022-01-21T13:59:07.713Z"
   },
   {
    "duration": 71,
    "start_time": "2022-01-21T13:59:07.723Z"
   },
   {
    "duration": 57,
    "start_time": "2022-01-21T13:59:07.796Z"
   },
   {
    "duration": 84,
    "start_time": "2022-01-21T13:59:07.855Z"
   },
   {
    "duration": 91,
    "start_time": "2022-01-21T13:59:07.941Z"
   },
   {
    "duration": 25782,
    "start_time": "2022-01-21T13:59:08.034Z"
   },
   {
    "duration": 7,
    "start_time": "2022-01-21T13:59:33.819Z"
   },
   {
    "duration": 12,
    "start_time": "2022-01-21T13:59:33.828Z"
   },
   {
    "duration": 30,
    "start_time": "2022-01-21T13:59:33.841Z"
   },
   {
    "duration": 29350,
    "start_time": "2022-01-21T13:59:33.873Z"
   },
   {
    "duration": 6,
    "start_time": "2022-01-21T14:00:03.225Z"
   },
   {
    "duration": 69,
    "start_time": "2022-01-21T14:00:03.233Z"
   },
   {
    "duration": 33,
    "start_time": "2022-01-21T14:00:03.304Z"
   },
   {
    "duration": 30111,
    "start_time": "2022-01-21T14:00:03.339Z"
   },
   {
    "duration": 12,
    "start_time": "2022-01-21T14:00:33.452Z"
   },
   {
    "duration": 66,
    "start_time": "2022-01-21T14:00:33.466Z"
   },
   {
    "duration": 34,
    "start_time": "2022-01-21T14:00:33.534Z"
   },
   {
    "duration": 32,
    "start_time": "2022-01-21T14:00:33.571Z"
   },
   {
    "duration": 36,
    "start_time": "2022-01-21T14:00:33.605Z"
   },
   {
    "duration": 42,
    "start_time": "2022-01-21T14:00:33.643Z"
   },
   {
    "duration": 76,
    "start_time": "2022-01-21T14:00:33.687Z"
   },
   {
    "duration": 8,
    "start_time": "2022-01-21T14:39:06.681Z"
   },
   {
    "duration": 11,
    "start_time": "2022-01-21T14:39:10.591Z"
   },
   {
    "duration": 1304,
    "start_time": "2022-01-21T14:54:10.220Z"
   },
   {
    "duration": 491,
    "start_time": "2022-01-21T14:54:11.526Z"
   },
   {
    "duration": 32,
    "start_time": "2022-01-21T14:54:12.019Z"
   },
   {
    "duration": 67,
    "start_time": "2022-01-21T14:54:12.054Z"
   },
   {
    "duration": 92,
    "start_time": "2022-01-21T14:54:12.124Z"
   },
   {
    "duration": 56,
    "start_time": "2022-01-21T14:54:12.217Z"
   },
   {
    "duration": 84,
    "start_time": "2022-01-21T14:54:12.275Z"
   },
   {
    "duration": 167,
    "start_time": "2022-01-21T14:54:12.363Z"
   },
   {
    "duration": 282,
    "start_time": "2022-01-21T14:54:12.532Z"
   },
   {
    "duration": 9,
    "start_time": "2022-01-21T14:54:12.816Z"
   },
   {
    "duration": 32,
    "start_time": "2022-01-21T14:54:12.827Z"
   },
   {
    "duration": 78,
    "start_time": "2022-01-21T14:54:12.862Z"
   },
   {
    "duration": 141,
    "start_time": "2022-01-21T14:54:12.942Z"
   },
   {
    "duration": 20,
    "start_time": "2022-01-21T14:54:13.085Z"
   },
   {
    "duration": 53,
    "start_time": "2022-01-21T14:54:13.106Z"
   },
   {
    "duration": 78,
    "start_time": "2022-01-21T14:54:13.165Z"
   },
   {
    "duration": 106,
    "start_time": "2022-01-21T14:54:13.245Z"
   },
   {
    "duration": 64,
    "start_time": "2022-01-21T14:54:13.353Z"
   },
   {
    "duration": 73,
    "start_time": "2022-01-21T14:54:13.419Z"
   },
   {
    "duration": 39,
    "start_time": "2022-01-21T14:54:13.495Z"
   },
   {
    "duration": 407,
    "start_time": "2022-01-21T14:54:13.536Z"
   },
   {
    "duration": 1153,
    "start_time": "2022-01-21T14:54:12.793Z"
   },
   {
    "duration": 1146,
    "start_time": "2022-01-21T14:54:12.801Z"
   },
   {
    "duration": 1142,
    "start_time": "2022-01-21T14:54:12.806Z"
   },
   {
    "duration": 1135,
    "start_time": "2022-01-21T14:54:12.815Z"
   },
   {
    "duration": 1127,
    "start_time": "2022-01-21T14:54:12.824Z"
   },
   {
    "duration": 1121,
    "start_time": "2022-01-21T14:54:12.831Z"
   },
   {
    "duration": 1115,
    "start_time": "2022-01-21T14:54:12.838Z"
   },
   {
    "duration": 1111,
    "start_time": "2022-01-21T14:54:12.843Z"
   },
   {
    "duration": 1106,
    "start_time": "2022-01-21T14:54:12.849Z"
   },
   {
    "duration": 1103,
    "start_time": "2022-01-21T14:54:12.854Z"
   },
   {
    "duration": 1098,
    "start_time": "2022-01-21T14:54:12.860Z"
   },
   {
    "duration": 1093,
    "start_time": "2022-01-21T14:54:12.866Z"
   },
   {
    "duration": 1089,
    "start_time": "2022-01-21T14:54:12.871Z"
   },
   {
    "duration": 1082,
    "start_time": "2022-01-21T14:54:12.879Z"
   },
   {
    "duration": 1055,
    "start_time": "2022-01-21T14:54:12.907Z"
   },
   {
    "duration": 1049,
    "start_time": "2022-01-21T14:54:12.914Z"
   },
   {
    "duration": 1037,
    "start_time": "2022-01-21T14:54:12.930Z"
   },
   {
    "duration": 1021,
    "start_time": "2022-01-21T14:54:12.948Z"
   },
   {
    "duration": 1006,
    "start_time": "2022-01-21T14:54:12.964Z"
   },
   {
    "duration": 994,
    "start_time": "2022-01-21T14:54:12.978Z"
   },
   {
    "duration": 981,
    "start_time": "2022-01-21T14:54:12.992Z"
   },
   {
    "duration": 975,
    "start_time": "2022-01-21T14:54:13.000Z"
   },
   {
    "duration": 970,
    "start_time": "2022-01-21T14:54:13.006Z"
   },
   {
    "duration": 966,
    "start_time": "2022-01-21T14:54:13.014Z"
   },
   {
    "duration": 1175,
    "start_time": "2022-01-21T14:55:13.663Z"
   },
   {
    "duration": 577,
    "start_time": "2022-01-21T14:55:14.840Z"
   },
   {
    "duration": 67,
    "start_time": "2022-01-21T14:55:15.420Z"
   },
   {
    "duration": 84,
    "start_time": "2022-01-21T14:55:15.494Z"
   },
   {
    "duration": 108,
    "start_time": "2022-01-21T14:55:15.582Z"
   },
   {
    "duration": 64,
    "start_time": "2022-01-21T14:55:15.693Z"
   },
   {
    "duration": 30,
    "start_time": "2022-01-21T14:55:15.758Z"
   },
   {
    "duration": 92,
    "start_time": "2022-01-21T14:55:15.791Z"
   },
   {
    "duration": 238,
    "start_time": "2022-01-21T14:55:15.885Z"
   },
   {
    "duration": 10,
    "start_time": "2022-01-21T14:55:16.125Z"
   },
   {
    "duration": 9,
    "start_time": "2022-01-21T14:55:16.137Z"
   },
   {
    "duration": 40,
    "start_time": "2022-01-21T14:55:16.147Z"
   },
   {
    "duration": 72,
    "start_time": "2022-01-21T14:55:16.189Z"
   },
   {
    "duration": 12,
    "start_time": "2022-01-21T14:55:16.263Z"
   },
   {
    "duration": 9,
    "start_time": "2022-01-21T14:55:16.277Z"
   },
   {
    "duration": 10,
    "start_time": "2022-01-21T14:55:16.288Z"
   },
   {
    "duration": 72,
    "start_time": "2022-01-21T14:55:16.300Z"
   },
   {
    "duration": 54,
    "start_time": "2022-01-21T14:55:16.375Z"
   },
   {
    "duration": 38,
    "start_time": "2022-01-21T14:55:16.430Z"
   },
   {
    "duration": 9,
    "start_time": "2022-01-21T14:55:16.470Z"
   },
   {
    "duration": 10,
    "start_time": "2022-01-21T14:55:16.481Z"
   },
   {
    "duration": 149,
    "start_time": "2022-01-21T14:55:16.493Z"
   },
   {
    "duration": 319,
    "start_time": "2022-01-21T14:55:16.647Z"
   },
   {
    "duration": 328,
    "start_time": "2022-01-21T14:55:16.970Z"
   },
   {
    "duration": 9,
    "start_time": "2022-01-21T14:55:17.300Z"
   },
   {
    "duration": 15,
    "start_time": "2022-01-21T14:55:17.310Z"
   },
   {
    "duration": 11,
    "start_time": "2022-01-21T14:55:17.327Z"
   },
   {
    "duration": 20,
    "start_time": "2022-01-21T14:55:17.340Z"
   },
   {
    "duration": 10,
    "start_time": "2022-01-21T14:55:17.363Z"
   },
   {
    "duration": 26316,
    "start_time": "2022-01-21T14:55:17.375Z"
   },
   {
    "duration": 8,
    "start_time": "2022-01-21T14:55:43.693Z"
   },
   {
    "duration": 8,
    "start_time": "2022-01-21T14:55:43.703Z"
   },
   {
    "duration": 10,
    "start_time": "2022-01-21T14:55:43.713Z"
   },
   {
    "duration": 28738,
    "start_time": "2022-01-21T14:55:43.725Z"
   },
   {
    "duration": 9,
    "start_time": "2022-01-21T14:56:12.465Z"
   },
   {
    "duration": 9,
    "start_time": "2022-01-21T14:56:12.477Z"
   },
   {
    "duration": 9,
    "start_time": "2022-01-21T14:56:12.488Z"
   },
   {
    "duration": 30077,
    "start_time": "2022-01-21T14:56:12.499Z"
   },
   {
    "duration": 6,
    "start_time": "2022-01-21T14:56:42.579Z"
   },
   {
    "duration": 8,
    "start_time": "2022-01-21T14:56:42.587Z"
   },
   {
    "duration": 6,
    "start_time": "2022-01-21T14:56:42.597Z"
   },
   {
    "duration": 8,
    "start_time": "2022-01-21T14:56:42.605Z"
   },
   {
    "duration": 53,
    "start_time": "2022-01-21T14:56:42.615Z"
   },
   {
    "duration": 15,
    "start_time": "2022-01-21T14:56:42.670Z"
   },
   {
    "duration": 11,
    "start_time": "2022-01-21T14:56:42.687Z"
   },
   {
    "duration": 23593,
    "start_time": "2022-01-21T15:03:06.337Z"
   },
   {
    "duration": 452,
    "start_time": "2022-01-21T15:29:01.327Z"
   },
   {
    "duration": 322,
    "start_time": "2022-01-21T15:29:58.890Z"
   },
   {
    "duration": 335,
    "start_time": "2022-01-21T15:30:16.646Z"
   },
   {
    "duration": 335,
    "start_time": "2022-01-21T15:36:06.794Z"
   },
   {
    "duration": 339,
    "start_time": "2022-01-21T15:37:16.736Z"
   },
   {
    "duration": 12522,
    "start_time": "2022-01-21T15:44:47.849Z"
   },
   {
    "duration": 18346,
    "start_time": "2022-01-21T15:45:52.041Z"
   },
   {
    "duration": 539,
    "start_time": "2022-01-21T15:49:01.692Z"
   },
   {
    "duration": 335,
    "start_time": "2022-01-21T15:49:07.806Z"
   },
   {
    "duration": 93,
    "start_time": "2022-01-21T15:50:02.011Z"
   },
   {
    "duration": 95,
    "start_time": "2022-01-21T15:50:04.091Z"
   },
   {
    "duration": 301,
    "start_time": "2022-01-21T15:50:18.661Z"
   },
   {
    "duration": 303,
    "start_time": "2022-01-21T15:50:24.042Z"
   },
   {
    "duration": 612,
    "start_time": "2022-01-21T15:50:37.976Z"
   },
   {
    "duration": 326,
    "start_time": "2022-01-21T15:51:41.800Z"
   },
   {
    "duration": 312,
    "start_time": "2022-01-21T15:51:45.914Z"
   },
   {
    "duration": 411,
    "start_time": "2022-01-21T15:52:23.485Z"
   },
   {
    "duration": 352,
    "start_time": "2022-01-21T15:52:33.237Z"
   },
   {
    "duration": 412,
    "start_time": "2022-01-21T15:53:18.928Z"
   },
   {
    "duration": 347,
    "start_time": "2022-01-21T15:53:43.303Z"
   },
   {
    "duration": 365,
    "start_time": "2022-01-21T15:55:38.830Z"
   },
   {
    "duration": 340,
    "start_time": "2022-01-21T15:56:01.146Z"
   },
   {
    "duration": 403,
    "start_time": "2022-01-21T15:56:19.423Z"
   },
   {
    "duration": 629,
    "start_time": "2022-01-21T15:57:53.829Z"
   },
   {
    "duration": 368,
    "start_time": "2022-01-21T15:58:08.718Z"
   },
   {
    "duration": 397,
    "start_time": "2022-01-21T15:58:35.470Z"
   },
   {
    "duration": 78,
    "start_time": "2022-01-21T16:00:16.157Z"
   },
   {
    "duration": 85,
    "start_time": "2022-01-21T16:00:22.564Z"
   },
   {
    "duration": 99,
    "start_time": "2022-01-21T16:00:23.727Z"
   },
   {
    "duration": 434,
    "start_time": "2022-01-21T16:00:39.656Z"
   },
   {
    "duration": 408,
    "start_time": "2022-01-21T16:04:03.854Z"
   },
   {
    "duration": 388,
    "start_time": "2022-01-21T16:04:58.259Z"
   },
   {
    "duration": 376,
    "start_time": "2022-01-21T16:13:52.763Z"
   },
   {
    "duration": 406,
    "start_time": "2022-01-21T16:14:12.206Z"
   },
   {
    "duration": 351,
    "start_time": "2022-01-21T16:15:07.709Z"
   },
   {
    "duration": 349,
    "start_time": "2022-01-21T16:23:47.538Z"
   },
   {
    "duration": 305,
    "start_time": "2022-01-21T16:35:46.682Z"
   },
   {
    "duration": 289,
    "start_time": "2022-01-21T16:36:25.530Z"
   },
   {
    "duration": 301,
    "start_time": "2022-01-21T16:36:42.516Z"
   },
   {
    "duration": 279,
    "start_time": "2022-01-21T16:37:06.114Z"
   },
   {
    "duration": 286,
    "start_time": "2022-01-21T16:37:33.980Z"
   },
   {
    "duration": 310,
    "start_time": "2022-01-21T16:39:01.825Z"
   },
   {
    "duration": 520,
    "start_time": "2022-01-21T16:40:13.786Z"
   },
   {
    "duration": 224,
    "start_time": "2022-01-21T16:40:28.136Z"
   },
   {
    "duration": 231,
    "start_time": "2022-01-21T16:41:41.200Z"
   },
   {
    "duration": 224,
    "start_time": "2022-01-21T16:41:45.179Z"
   },
   {
    "duration": 211,
    "start_time": "2022-01-21T16:41:56.668Z"
   },
   {
    "duration": 237,
    "start_time": "2022-01-21T16:43:15.792Z"
   },
   {
    "duration": 552,
    "start_time": "2022-01-21T16:43:29.754Z"
   },
   {
    "duration": 69,
    "start_time": "2022-01-21T16:43:41.366Z"
   },
   {
    "duration": 225,
    "start_time": "2022-01-21T16:43:50.131Z"
   },
   {
    "duration": 407,
    "start_time": "2022-01-21T16:43:52.175Z"
   },
   {
    "duration": 217,
    "start_time": "2022-01-21T16:44:08.391Z"
   },
   {
    "duration": 1103,
    "start_time": "2022-01-21T16:44:24.007Z"
   },
   {
    "duration": 419,
    "start_time": "2022-01-21T16:44:25.112Z"
   },
   {
    "duration": 29,
    "start_time": "2022-01-21T16:44:25.533Z"
   },
   {
    "duration": 51,
    "start_time": "2022-01-21T16:44:25.564Z"
   },
   {
    "duration": 19,
    "start_time": "2022-01-21T16:44:25.617Z"
   },
   {
    "duration": 39,
    "start_time": "2022-01-21T16:44:25.638Z"
   },
   {
    "duration": 35,
    "start_time": "2022-01-21T16:44:25.678Z"
   },
   {
    "duration": 111,
    "start_time": "2022-01-21T16:44:25.715Z"
   },
   {
    "duration": 275,
    "start_time": "2022-01-21T16:44:25.828Z"
   },
   {
    "duration": 9,
    "start_time": "2022-01-21T16:44:26.105Z"
   },
   {
    "duration": 32,
    "start_time": "2022-01-21T16:44:26.116Z"
   },
   {
    "duration": 55,
    "start_time": "2022-01-21T16:44:26.150Z"
   },
   {
    "duration": 77,
    "start_time": "2022-01-21T16:44:26.207Z"
   },
   {
    "duration": 9,
    "start_time": "2022-01-21T16:44:26.286Z"
   },
   {
    "duration": 37,
    "start_time": "2022-01-21T16:44:26.297Z"
   },
   {
    "duration": 40,
    "start_time": "2022-01-21T16:44:26.336Z"
   },
   {
    "duration": 79,
    "start_time": "2022-01-21T16:44:26.378Z"
   },
   {
    "duration": 56,
    "start_time": "2022-01-21T16:44:26.458Z"
   },
   {
    "duration": 20,
    "start_time": "2022-01-21T16:44:26.516Z"
   },
   {
    "duration": 24,
    "start_time": "2022-01-21T16:44:26.538Z"
   },
   {
    "duration": 32,
    "start_time": "2022-01-21T16:44:26.563Z"
   },
   {
    "duration": 159,
    "start_time": "2022-01-21T16:44:26.597Z"
   },
   {
    "duration": 581,
    "start_time": "2022-01-21T16:44:26.760Z"
   },
   {
    "duration": 1242,
    "start_time": "2022-01-21T16:44:26.102Z"
   },
   {
    "duration": 1226,
    "start_time": "2022-01-21T16:44:26.118Z"
   },
   {
    "duration": 1209,
    "start_time": "2022-01-21T16:44:26.136Z"
   },
   {
    "duration": 1195,
    "start_time": "2022-01-21T16:44:26.151Z"
   },
   {
    "duration": 1179,
    "start_time": "2022-01-21T16:44:26.168Z"
   },
   {
    "duration": 1163,
    "start_time": "2022-01-21T16:44:26.185Z"
   },
   {
    "duration": 1159,
    "start_time": "2022-01-21T16:44:26.201Z"
   },
   {
    "duration": 1151,
    "start_time": "2022-01-21T16:44:26.210Z"
   },
   {
    "duration": 1135,
    "start_time": "2022-01-21T16:44:26.227Z"
   },
   {
    "duration": 1128,
    "start_time": "2022-01-21T16:44:26.235Z"
   },
   {
    "duration": 1113,
    "start_time": "2022-01-21T16:44:26.251Z"
   },
   {
    "duration": 1107,
    "start_time": "2022-01-21T16:44:26.258Z"
   },
   {
    "duration": 1099,
    "start_time": "2022-01-21T16:44:26.267Z"
   },
   {
    "duration": 1094,
    "start_time": "2022-01-21T16:44:26.273Z"
   },
   {
    "duration": 1085,
    "start_time": "2022-01-21T16:44:26.282Z"
   },
   {
    "duration": 1078,
    "start_time": "2022-01-21T16:44:26.290Z"
   },
   {
    "duration": 1069,
    "start_time": "2022-01-21T16:44:26.300Z"
   },
   {
    "duration": 1064,
    "start_time": "2022-01-21T16:44:26.306Z"
   },
   {
    "duration": 1056,
    "start_time": "2022-01-21T16:44:26.315Z"
   },
   {
    "duration": 1054,
    "start_time": "2022-01-21T16:44:26.318Z"
   },
   {
    "duration": 1044,
    "start_time": "2022-01-21T16:44:26.329Z"
   },
   {
    "duration": 1042,
    "start_time": "2022-01-21T16:44:26.332Z"
   },
   {
    "duration": 241,
    "start_time": "2022-01-21T16:44:34.027Z"
   },
   {
    "duration": 242,
    "start_time": "2022-01-21T16:44:56.476Z"
   },
   {
    "duration": 227,
    "start_time": "2022-01-21T16:45:11.786Z"
   },
   {
    "duration": 220,
    "start_time": "2022-01-21T16:45:12.882Z"
   },
   {
    "duration": 268,
    "start_time": "2022-01-21T16:45:19.015Z"
   },
   {
    "duration": 279,
    "start_time": "2022-01-21T16:45:43.672Z"
   },
   {
    "duration": 347,
    "start_time": "2022-01-21T16:45:57.819Z"
   },
   {
    "duration": 213,
    "start_time": "2022-01-21T16:46:10.892Z"
   },
   {
    "duration": 207,
    "start_time": "2022-01-21T16:46:23.792Z"
   },
   {
    "duration": 203,
    "start_time": "2022-01-21T16:46:24.976Z"
   },
   {
    "duration": 213,
    "start_time": "2022-01-21T16:46:51.646Z"
   },
   {
    "duration": 208,
    "start_time": "2022-01-21T16:46:53.232Z"
   },
   {
    "duration": 218,
    "start_time": "2022-01-21T16:50:13.799Z"
   },
   {
    "duration": 287,
    "start_time": "2022-01-21T16:50:15.605Z"
   },
   {
    "duration": 218,
    "start_time": "2022-01-21T16:51:07.028Z"
   },
   {
    "duration": 225,
    "start_time": "2022-01-21T16:51:08.138Z"
   },
   {
    "duration": 219,
    "start_time": "2022-01-21T16:52:13.058Z"
   },
   {
    "duration": 1276,
    "start_time": "2022-01-21T16:54:44.524Z"
   },
   {
    "duration": 249,
    "start_time": "2022-01-21T16:54:47.672Z"
   },
   {
    "duration": 220,
    "start_time": "2022-01-21T16:55:15.926Z"
   },
   {
    "duration": 272,
    "start_time": "2022-01-21T16:55:17.205Z"
   },
   {
    "duration": 307,
    "start_time": "2022-01-21T16:55:18.066Z"
   },
   {
    "duration": 1173,
    "start_time": "2022-01-21T16:55:24.625Z"
   },
   {
    "duration": 438,
    "start_time": "2022-01-21T16:55:25.800Z"
   },
   {
    "duration": 30,
    "start_time": "2022-01-21T16:55:26.240Z"
   },
   {
    "duration": 23,
    "start_time": "2022-01-21T16:55:26.272Z"
   },
   {
    "duration": 19,
    "start_time": "2022-01-21T16:55:26.297Z"
   },
   {
    "duration": 11,
    "start_time": "2022-01-21T16:55:26.317Z"
   },
   {
    "duration": 39,
    "start_time": "2022-01-21T16:55:26.330Z"
   },
   {
    "duration": 70,
    "start_time": "2022-01-21T16:55:26.371Z"
   },
   {
    "duration": 229,
    "start_time": "2022-01-21T16:55:26.460Z"
   },
   {
    "duration": 10,
    "start_time": "2022-01-21T16:55:26.691Z"
   },
   {
    "duration": 10,
    "start_time": "2022-01-21T16:55:26.702Z"
   },
   {
    "duration": 30,
    "start_time": "2022-01-21T16:55:26.713Z"
   },
   {
    "duration": 76,
    "start_time": "2022-01-21T16:55:26.745Z"
   },
   {
    "duration": 7,
    "start_time": "2022-01-21T16:55:26.823Z"
   },
   {
    "duration": 6,
    "start_time": "2022-01-21T16:55:26.832Z"
   },
   {
    "duration": 25,
    "start_time": "2022-01-21T16:55:26.839Z"
   },
   {
    "duration": 56,
    "start_time": "2022-01-21T16:55:26.866Z"
   },
   {
    "duration": 63,
    "start_time": "2022-01-21T16:55:26.924Z"
   },
   {
    "duration": 21,
    "start_time": "2022-01-21T16:55:26.989Z"
   },
   {
    "duration": 5,
    "start_time": "2022-01-21T16:55:27.012Z"
   },
   {
    "duration": 8,
    "start_time": "2022-01-21T16:55:27.019Z"
   },
   {
    "duration": 148,
    "start_time": "2022-01-21T16:55:27.029Z"
   },
   {
    "duration": 290,
    "start_time": "2022-01-21T16:55:27.179Z"
   },
   {
    "duration": 284,
    "start_time": "2022-01-21T16:55:27.471Z"
   },
   {
    "duration": 8,
    "start_time": "2022-01-21T16:55:27.757Z"
   },
   {
    "duration": 7,
    "start_time": "2022-01-21T16:55:27.766Z"
   },
   {
    "duration": 3,
    "start_time": "2022-01-21T16:55:27.777Z"
   },
   {
    "duration": 9,
    "start_time": "2022-01-21T16:55:27.782Z"
   },
   {
    "duration": 7,
    "start_time": "2022-01-21T16:55:27.793Z"
   },
   {
    "duration": 408,
    "start_time": "2022-01-21T16:55:27.801Z"
   },
   {
    "duration": 1236,
    "start_time": "2022-01-21T16:55:26.974Z"
   },
   {
    "duration": 1233,
    "start_time": "2022-01-21T16:55:26.979Z"
   },
   {
    "duration": 1230,
    "start_time": "2022-01-21T16:55:26.983Z"
   },
   {
    "duration": 1227,
    "start_time": "2022-01-21T16:55:26.987Z"
   },
   {
    "duration": 1224,
    "start_time": "2022-01-21T16:55:26.991Z"
   },
   {
    "duration": 1222,
    "start_time": "2022-01-21T16:55:26.994Z"
   },
   {
    "duration": 1219,
    "start_time": "2022-01-21T16:55:26.998Z"
   },
   {
    "duration": 1215,
    "start_time": "2022-01-21T16:55:27.002Z"
   },
   {
    "duration": 1213,
    "start_time": "2022-01-21T16:55:27.005Z"
   },
   {
    "duration": 1210,
    "start_time": "2022-01-21T16:55:27.009Z"
   },
   {
    "duration": 1208,
    "start_time": "2022-01-21T16:55:27.012Z"
   },
   {
    "duration": 1198,
    "start_time": "2022-01-21T16:55:27.023Z"
   },
   {
    "duration": 1196,
    "start_time": "2022-01-21T16:55:27.026Z"
   },
   {
    "duration": 1194,
    "start_time": "2022-01-21T16:55:27.029Z"
   },
   {
    "duration": 1193,
    "start_time": "2022-01-21T16:55:27.031Z"
   },
   {
    "duration": 625,
    "start_time": "2022-01-21T16:56:44.716Z"
   },
   {
    "duration": 547,
    "start_time": "2022-01-21T16:56:58.276Z"
   },
   {
    "duration": 320,
    "start_time": "2022-01-21T16:57:10.074Z"
   },
   {
    "duration": 382,
    "start_time": "2022-01-21T16:58:25.956Z"
   },
   {
    "duration": 332,
    "start_time": "2022-01-21T16:58:36.310Z"
   },
   {
    "duration": 558,
    "start_time": "2022-01-21T16:58:56.165Z"
   },
   {
    "duration": 433,
    "start_time": "2022-01-21T16:59:52.262Z"
   },
   {
    "duration": 360,
    "start_time": "2022-01-21T17:00:37.248Z"
   },
   {
    "duration": 678,
    "start_time": "2022-01-21T17:00:55.765Z"
   },
   {
    "duration": 543,
    "start_time": "2022-01-21T17:00:57.915Z"
   },
   {
    "duration": 342,
    "start_time": "2022-01-21T17:01:12.611Z"
   },
   {
    "duration": 482,
    "start_time": "2022-01-21T17:03:01.230Z"
   },
   {
    "duration": 209,
    "start_time": "2022-01-21T17:06:19.613Z"
   },
   {
    "duration": 432,
    "start_time": "2022-01-21T17:07:09.660Z"
   },
   {
    "duration": 434,
    "start_time": "2022-01-21T17:07:16.578Z"
   },
   {
    "duration": 352,
    "start_time": "2022-01-21T17:07:33.135Z"
   },
   {
    "duration": 213,
    "start_time": "2022-01-21T17:07:55.497Z"
   },
   {
    "duration": 289,
    "start_time": "2022-01-21T17:09:05.835Z"
   },
   {
    "duration": 284,
    "start_time": "2022-01-21T17:09:21.683Z"
   },
   {
    "duration": 419,
    "start_time": "2022-01-21T17:09:47.714Z"
   },
   {
    "duration": 448,
    "start_time": "2022-01-21T17:10:02.523Z"
   },
   {
    "duration": 71,
    "start_time": "2022-01-21T17:14:37.412Z"
   },
   {
    "duration": 216,
    "start_time": "2022-01-21T17:14:45.320Z"
   },
   {
    "duration": 282,
    "start_time": "2022-01-21T17:15:04.410Z"
   },
   {
    "duration": 224,
    "start_time": "2022-01-21T17:15:41.262Z"
   },
   {
    "duration": 336,
    "start_time": "2022-01-21T17:18:13.005Z"
   },
   {
    "duration": 267,
    "start_time": "2022-01-21T17:18:37.869Z"
   },
   {
    "duration": 358,
    "start_time": "2022-01-21T17:19:33.799Z"
   },
   {
    "duration": 666,
    "start_time": "2022-01-21T17:22:15.290Z"
   },
   {
    "duration": 581,
    "start_time": "2022-01-21T17:22:17.495Z"
   },
   {
    "duration": 578,
    "start_time": "2022-01-21T17:23:11.906Z"
   },
   {
    "duration": 381,
    "start_time": "2022-01-21T17:23:18.737Z"
   },
   {
    "duration": 223,
    "start_time": "2022-01-21T17:24:24.248Z"
   },
   {
    "duration": 455,
    "start_time": "2022-01-21T17:25:01.786Z"
   },
   {
    "duration": 225,
    "start_time": "2022-01-21T17:25:09.983Z"
   },
   {
    "duration": 408,
    "start_time": "2022-01-21T17:26:20.004Z"
   },
   {
    "duration": 526,
    "start_time": "2022-01-21T17:26:40.324Z"
   },
   {
    "duration": 472,
    "start_time": "2022-01-21T17:26:52.770Z"
   },
   {
    "duration": 265,
    "start_time": "2022-01-21T17:27:01.437Z"
   },
   {
    "duration": 260,
    "start_time": "2022-01-21T17:27:39.788Z"
   },
   {
    "duration": 257,
    "start_time": "2022-01-21T17:27:52.777Z"
   },
   {
    "duration": 121,
    "start_time": "2022-01-21T17:28:31.293Z"
   },
   {
    "duration": 68,
    "start_time": "2022-01-21T17:28:32.826Z"
   },
   {
    "duration": 261,
    "start_time": "2022-01-21T17:28:39.870Z"
   },
   {
    "duration": 257,
    "start_time": "2022-01-21T17:28:42.003Z"
   },
   {
    "duration": 258,
    "start_time": "2022-01-21T17:28:51.504Z"
   },
   {
    "duration": 281,
    "start_time": "2022-01-21T17:29:00.979Z"
   },
   {
    "duration": 255,
    "start_time": "2022-01-21T17:30:58.417Z"
   },
   {
    "duration": 32,
    "start_time": "2022-01-21T17:31:22.062Z"
   },
   {
    "duration": 441,
    "start_time": "2022-01-21T17:31:22.096Z"
   },
   {
    "duration": 27,
    "start_time": "2022-01-21T17:31:22.539Z"
   },
   {
    "duration": 37,
    "start_time": "2022-01-21T17:31:22.568Z"
   },
   {
    "duration": 36,
    "start_time": "2022-01-21T17:31:22.606Z"
   },
   {
    "duration": 38,
    "start_time": "2022-01-21T17:31:22.644Z"
   },
   {
    "duration": 38,
    "start_time": "2022-01-21T17:31:22.684Z"
   },
   {
    "duration": 84,
    "start_time": "2022-01-21T17:31:22.724Z"
   },
   {
    "duration": 275,
    "start_time": "2022-01-21T17:31:22.810Z"
   },
   {
    "duration": 5,
    "start_time": "2022-01-21T17:31:23.087Z"
   },
   {
    "duration": 44,
    "start_time": "2022-01-21T17:31:23.094Z"
   },
   {
    "duration": 53,
    "start_time": "2022-01-21T17:31:23.139Z"
   },
   {
    "duration": 84,
    "start_time": "2022-01-21T17:31:23.194Z"
   },
   {
    "duration": 9,
    "start_time": "2022-01-21T17:31:23.280Z"
   },
   {
    "duration": 32,
    "start_time": "2022-01-21T17:31:23.290Z"
   },
   {
    "duration": 32,
    "start_time": "2022-01-21T17:31:23.324Z"
   },
   {
    "duration": 70,
    "start_time": "2022-01-21T17:31:23.358Z"
   },
   {
    "duration": 56,
    "start_time": "2022-01-21T17:31:23.430Z"
   },
   {
    "duration": 22,
    "start_time": "2022-01-21T17:31:23.489Z"
   },
   {
    "duration": 16,
    "start_time": "2022-01-21T17:31:23.513Z"
   },
   {
    "duration": 52,
    "start_time": "2022-01-21T17:31:23.531Z"
   },
   {
    "duration": 189,
    "start_time": "2022-01-21T17:31:23.585Z"
   },
   {
    "duration": 283,
    "start_time": "2022-01-21T17:31:23.779Z"
   },
   {
    "duration": 300,
    "start_time": "2022-01-21T17:31:24.065Z"
   },
   {
    "duration": 8,
    "start_time": "2022-01-21T17:31:24.367Z"
   },
   {
    "duration": 36,
    "start_time": "2022-01-21T17:31:24.377Z"
   },
   {
    "duration": 32,
    "start_time": "2022-01-21T17:31:24.414Z"
   },
   {
    "duration": 38,
    "start_time": "2022-01-21T17:31:24.448Z"
   },
   {
    "duration": 37,
    "start_time": "2022-01-21T17:31:24.488Z"
   },
   {
    "duration": 436,
    "start_time": "2022-01-21T17:31:24.528Z"
   },
   {
    "duration": 6,
    "start_time": "2022-01-21T17:31:24.967Z"
   },
   {
    "duration": 37,
    "start_time": "2022-01-21T17:31:24.974Z"
   },
   {
    "duration": 40,
    "start_time": "2022-01-21T17:31:25.013Z"
   },
   {
    "duration": 358,
    "start_time": "2022-01-21T17:31:25.055Z"
   },
   {
    "duration": 6,
    "start_time": "2022-01-21T17:31:25.415Z"
   },
   {
    "duration": 34,
    "start_time": "2022-01-21T17:31:25.423Z"
   },
   {
    "duration": 28,
    "start_time": "2022-01-21T17:31:25.458Z"
   },
   {
    "duration": 398,
    "start_time": "2022-01-21T17:31:25.487Z"
   },
   {
    "duration": 8,
    "start_time": "2022-01-21T17:31:25.887Z"
   },
   {
    "duration": 57,
    "start_time": "2022-01-21T17:31:25.897Z"
   },
   {
    "duration": 36,
    "start_time": "2022-01-21T17:31:25.956Z"
   },
   {
    "duration": 43,
    "start_time": "2022-01-21T17:31:25.993Z"
   },
   {
    "duration": 60,
    "start_time": "2022-01-21T17:31:26.038Z"
   },
   {
    "duration": 26,
    "start_time": "2022-01-21T17:31:26.100Z"
   },
   {
    "duration": 36,
    "start_time": "2022-01-21T17:31:26.127Z"
   },
   {
    "duration": 6,
    "start_time": "2022-01-21T17:47:33.169Z"
   },
   {
    "duration": 6,
    "start_time": "2022-01-21T17:47:35.585Z"
   },
   {
    "duration": 6,
    "start_time": "2022-01-21T17:47:38.098Z"
   },
   {
    "duration": 5,
    "start_time": "2022-01-21T17:47:38.239Z"
   },
   {
    "duration": 6,
    "start_time": "2022-01-21T17:47:45.811Z"
   },
   {
    "duration": 11,
    "start_time": "2022-01-21T17:47:49.686Z"
   },
   {
    "duration": 10,
    "start_time": "2022-01-21T17:47:50.751Z"
   },
   {
    "duration": 29,
    "start_time": "2022-01-21T17:48:00.059Z"
   },
   {
    "duration": 10,
    "start_time": "2022-01-21T17:48:01.743Z"
   },
   {
    "duration": 10,
    "start_time": "2022-01-21T17:48:02.591Z"
   },
   {
    "duration": 10,
    "start_time": "2022-01-21T17:48:03.243Z"
   },
   {
    "duration": 3,
    "start_time": "2022-01-21T17:48:08.109Z"
   },
   {
    "duration": 2,
    "start_time": "2022-01-21T17:48:08.830Z"
   },
   {
    "duration": 5,
    "start_time": "2022-01-21T17:48:14.555Z"
   },
   {
    "duration": 5,
    "start_time": "2022-01-21T17:48:15.513Z"
   },
   {
    "duration": 10,
    "start_time": "2022-01-21T17:48:17.185Z"
   },
   {
    "duration": 11,
    "start_time": "2022-01-21T17:48:17.979Z"
   },
   {
    "duration": 21,
    "start_time": "2022-01-21T17:48:47.356Z"
   },
   {
    "duration": 10,
    "start_time": "2022-01-21T17:48:59.398Z"
   },
   {
    "duration": 11,
    "start_time": "2022-01-21T17:49:00.766Z"
   },
   {
    "duration": 11,
    "start_time": "2022-01-21T17:49:01.627Z"
   },
   {
    "duration": 1571,
    "start_time": "2022-01-21T17:49:31.186Z"
   },
   {
    "duration": 1047,
    "start_time": "2022-01-21T17:49:32.760Z"
   },
   {
    "duration": 29,
    "start_time": "2022-01-21T17:49:33.809Z"
   },
   {
    "duration": 22,
    "start_time": "2022-01-21T17:49:33.841Z"
   },
   {
    "duration": 21,
    "start_time": "2022-01-21T17:49:33.865Z"
   },
   {
    "duration": 12,
    "start_time": "2022-01-21T17:49:33.888Z"
   },
   {
    "duration": 14,
    "start_time": "2022-01-21T17:49:33.901Z"
   },
   {
    "duration": 99,
    "start_time": "2022-01-21T17:49:33.918Z"
   },
   {
    "duration": 292,
    "start_time": "2022-01-21T17:49:34.019Z"
   },
   {
    "duration": 9,
    "start_time": "2022-01-21T17:49:34.313Z"
   },
   {
    "duration": 12,
    "start_time": "2022-01-21T17:49:34.324Z"
   },
   {
    "duration": 42,
    "start_time": "2022-01-21T17:49:34.338Z"
   },
   {
    "duration": 61,
    "start_time": "2022-01-21T17:49:34.382Z"
   },
   {
    "duration": 16,
    "start_time": "2022-01-21T17:49:34.445Z"
   },
   {
    "duration": 5,
    "start_time": "2022-01-21T17:49:34.463Z"
   },
   {
    "duration": 10,
    "start_time": "2022-01-21T17:49:34.469Z"
   },
   {
    "duration": 60,
    "start_time": "2022-01-21T17:49:34.481Z"
   },
   {
    "duration": 62,
    "start_time": "2022-01-21T17:49:34.543Z"
   },
   {
    "duration": 23,
    "start_time": "2022-01-21T17:49:34.607Z"
   },
   {
    "duration": 28,
    "start_time": "2022-01-21T17:49:34.632Z"
   },
   {
    "duration": 5567,
    "start_time": "2022-01-21T17:49:34.662Z"
   },
   {
    "duration": 1264,
    "start_time": "2022-01-21T17:49:38.968Z"
   },
   {
    "duration": 1239,
    "start_time": "2022-01-21T17:49:38.994Z"
   },
   {
    "duration": 1208,
    "start_time": "2022-01-21T17:49:39.026Z"
   },
   {
    "duration": 1190,
    "start_time": "2022-01-21T17:49:39.045Z"
   },
   {
    "duration": 1177,
    "start_time": "2022-01-21T17:49:39.059Z"
   },
   {
    "duration": 1170,
    "start_time": "2022-01-21T17:49:39.067Z"
   },
   {
    "duration": 1149,
    "start_time": "2022-01-21T17:49:39.089Z"
   },
   {
    "duration": 1145,
    "start_time": "2022-01-21T17:49:39.094Z"
   },
   {
    "duration": 1137,
    "start_time": "2022-01-21T17:49:39.102Z"
   },
   {
    "duration": 1113,
    "start_time": "2022-01-21T17:49:39.128Z"
   },
   {
    "duration": 1102,
    "start_time": "2022-01-21T17:49:39.140Z"
   },
   {
    "duration": 1099,
    "start_time": "2022-01-21T17:49:39.144Z"
   },
   {
    "duration": 1096,
    "start_time": "2022-01-21T17:49:39.148Z"
   },
   {
    "duration": 1093,
    "start_time": "2022-01-21T17:49:39.152Z"
   },
   {
    "duration": 1090,
    "start_time": "2022-01-21T17:49:39.156Z"
   },
   {
    "duration": 1065,
    "start_time": "2022-01-21T17:49:39.181Z"
   },
   {
    "duration": 1063,
    "start_time": "2022-01-21T17:49:39.184Z"
   },
   {
    "duration": 1061,
    "start_time": "2022-01-21T17:49:39.187Z"
   },
   {
    "duration": 1058,
    "start_time": "2022-01-21T17:49:39.191Z"
   },
   {
    "duration": 1056,
    "start_time": "2022-01-21T17:49:39.194Z"
   },
   {
    "duration": 1053,
    "start_time": "2022-01-21T17:49:39.198Z"
   },
   {
    "duration": 1047,
    "start_time": "2022-01-21T17:49:39.205Z"
   },
   {
    "duration": 1037,
    "start_time": "2022-01-21T17:49:39.216Z"
   },
   {
    "duration": 1031,
    "start_time": "2022-01-21T17:49:39.223Z"
   },
   {
    "duration": 13,
    "start_time": "2022-01-21T17:50:25.048Z"
   },
   {
    "duration": 13,
    "start_time": "2022-01-21T17:51:42.984Z"
   },
   {
    "duration": 12,
    "start_time": "2022-01-21T17:51:43.696Z"
   },
   {
    "duration": 11,
    "start_time": "2022-01-21T17:51:44.258Z"
   },
   {
    "duration": 12,
    "start_time": "2022-01-21T17:51:45.088Z"
   },
   {
    "duration": 12,
    "start_time": "2022-01-21T17:51:45.736Z"
   },
   {
    "duration": 10,
    "start_time": "2022-01-21T17:51:46.682Z"
   },
   {
    "duration": 10,
    "start_time": "2022-01-21T17:51:47.656Z"
   },
   {
    "duration": 10,
    "start_time": "2022-01-21T17:51:48.386Z"
   },
   {
    "duration": 1203,
    "start_time": "2022-01-21T17:52:01.297Z"
   },
   {
    "duration": 420,
    "start_time": "2022-01-21T17:52:02.502Z"
   },
   {
    "duration": 29,
    "start_time": "2022-01-21T17:52:02.924Z"
   },
   {
    "duration": 78,
    "start_time": "2022-01-21T17:52:02.955Z"
   },
   {
    "duration": 31,
    "start_time": "2022-01-21T17:52:03.035Z"
   },
   {
    "duration": 21,
    "start_time": "2022-01-21T17:52:03.068Z"
   },
   {
    "duration": 42,
    "start_time": "2022-01-21T17:52:03.091Z"
   },
   {
    "duration": 100,
    "start_time": "2022-01-21T17:52:03.135Z"
   },
   {
    "duration": 271,
    "start_time": "2022-01-21T17:52:03.237Z"
   },
   {
    "duration": 10,
    "start_time": "2022-01-21T17:52:03.510Z"
   },
   {
    "duration": 59,
    "start_time": "2022-01-21T17:52:03.522Z"
   },
   {
    "duration": 50,
    "start_time": "2022-01-21T17:52:03.583Z"
   },
   {
    "duration": 77,
    "start_time": "2022-01-21T17:52:03.635Z"
   },
   {
    "duration": 8,
    "start_time": "2022-01-21T17:52:03.714Z"
   },
   {
    "duration": 36,
    "start_time": "2022-01-21T17:52:03.724Z"
   },
   {
    "duration": 41,
    "start_time": "2022-01-21T17:52:03.762Z"
   },
   {
    "duration": 82,
    "start_time": "2022-01-21T17:52:03.805Z"
   },
   {
    "duration": 54,
    "start_time": "2022-01-21T17:52:03.889Z"
   },
   {
    "duration": 33,
    "start_time": "2022-01-21T17:52:03.944Z"
   },
   {
    "duration": 42,
    "start_time": "2022-01-21T17:52:03.979Z"
   },
   {
    "duration": 5872,
    "start_time": "2022-01-21T17:52:04.023Z"
   },
   {
    "duration": 1259,
    "start_time": "2022-01-21T17:52:08.639Z"
   },
   {
    "duration": 1255,
    "start_time": "2022-01-21T17:52:08.644Z"
   },
   {
    "duration": 1242,
    "start_time": "2022-01-21T17:52:08.658Z"
   },
   {
    "duration": 1238,
    "start_time": "2022-01-21T17:52:08.662Z"
   },
   {
    "duration": 1230,
    "start_time": "2022-01-21T17:52:08.671Z"
   },
   {
    "duration": 1227,
    "start_time": "2022-01-21T17:52:08.675Z"
   },
   {
    "duration": 1226,
    "start_time": "2022-01-21T17:52:08.677Z"
   },
   {
    "duration": 1220,
    "start_time": "2022-01-21T17:52:08.683Z"
   },
   {
    "duration": 1209,
    "start_time": "2022-01-21T17:52:08.695Z"
   },
   {
    "duration": 1195,
    "start_time": "2022-01-21T17:52:08.710Z"
   },
   {
    "duration": 1192,
    "start_time": "2022-01-21T17:52:08.714Z"
   },
   {
    "duration": 1185,
    "start_time": "2022-01-21T17:52:08.722Z"
   },
   {
    "duration": 1182,
    "start_time": "2022-01-21T17:52:08.726Z"
   },
   {
    "duration": 1176,
    "start_time": "2022-01-21T17:52:08.733Z"
   },
   {
    "duration": 1172,
    "start_time": "2022-01-21T17:52:08.737Z"
   },
   {
    "duration": 1170,
    "start_time": "2022-01-21T17:52:08.740Z"
   },
   {
    "duration": 1167,
    "start_time": "2022-01-21T17:52:08.744Z"
   },
   {
    "duration": 1164,
    "start_time": "2022-01-21T17:52:08.748Z"
   },
   {
    "duration": 1161,
    "start_time": "2022-01-21T17:52:08.751Z"
   },
   {
    "duration": 1159,
    "start_time": "2022-01-21T17:52:08.754Z"
   },
   {
    "duration": 1157,
    "start_time": "2022-01-21T17:52:08.757Z"
   },
   {
    "duration": 1154,
    "start_time": "2022-01-21T17:52:08.761Z"
   },
   {
    "duration": 1152,
    "start_time": "2022-01-21T17:52:08.764Z"
   },
   {
    "duration": 1148,
    "start_time": "2022-01-21T17:52:08.768Z"
   },
   {
    "duration": 38,
    "start_time": "2022-01-21T17:52:38.065Z"
   },
   {
    "duration": 12,
    "start_time": "2022-01-21T17:53:17.900Z"
   },
   {
    "duration": 11,
    "start_time": "2022-01-21T17:53:17.982Z"
   },
   {
    "duration": 13,
    "start_time": "2022-01-21T17:53:20.630Z"
   },
   {
    "duration": 14,
    "start_time": "2022-01-21T17:53:22.037Z"
   },
   {
    "duration": 12,
    "start_time": "2022-01-21T17:53:23.101Z"
   },
   {
    "duration": 12,
    "start_time": "2022-01-21T17:53:28.374Z"
   },
   {
    "duration": 13,
    "start_time": "2022-01-21T17:53:29.096Z"
   },
   {
    "duration": 11,
    "start_time": "2022-01-21T17:53:39.768Z"
   },
   {
    "duration": 13,
    "start_time": "2022-01-21T17:53:40.793Z"
   },
   {
    "duration": 12,
    "start_time": "2022-01-21T17:53:41.406Z"
   },
   {
    "duration": 11,
    "start_time": "2022-01-21T17:53:41.986Z"
   },
   {
    "duration": 11,
    "start_time": "2022-01-21T17:53:42.582Z"
   },
   {
    "duration": 11,
    "start_time": "2022-01-21T17:53:43.192Z"
   },
   {
    "duration": 11,
    "start_time": "2022-01-21T17:53:44.183Z"
   },
   {
    "duration": 11,
    "start_time": "2022-01-21T17:53:45.062Z"
   },
   {
    "duration": 11,
    "start_time": "2022-01-21T17:53:52.465Z"
   },
   {
    "duration": 14,
    "start_time": "2022-01-21T17:54:04.333Z"
   },
   {
    "duration": 1213,
    "start_time": "2022-01-21T17:54:15.305Z"
   },
   {
    "duration": 557,
    "start_time": "2022-01-21T17:54:16.521Z"
   },
   {
    "duration": 29,
    "start_time": "2022-01-21T17:54:17.080Z"
   },
   {
    "duration": 23,
    "start_time": "2022-01-21T17:54:17.111Z"
   },
   {
    "duration": 26,
    "start_time": "2022-01-21T17:54:17.135Z"
   },
   {
    "duration": 11,
    "start_time": "2022-01-21T17:54:17.163Z"
   },
   {
    "duration": 13,
    "start_time": "2022-01-21T17:54:17.176Z"
   },
   {
    "duration": 96,
    "start_time": "2022-01-21T17:54:17.192Z"
   },
   {
    "duration": 274,
    "start_time": "2022-01-21T17:54:17.290Z"
   },
   {
    "duration": 15,
    "start_time": "2022-01-21T17:54:17.566Z"
   },
   {
    "duration": 8,
    "start_time": "2022-01-21T17:54:17.583Z"
   },
   {
    "duration": 25,
    "start_time": "2022-01-21T17:54:17.593Z"
   },
   {
    "duration": 84,
    "start_time": "2022-01-21T17:54:17.620Z"
   },
   {
    "duration": 7,
    "start_time": "2022-01-21T17:54:17.705Z"
   },
   {
    "duration": 9,
    "start_time": "2022-01-21T17:54:17.714Z"
   },
   {
    "duration": 7,
    "start_time": "2022-01-21T17:54:17.725Z"
   },
   {
    "duration": 64,
    "start_time": "2022-01-21T17:54:17.734Z"
   },
   {
    "duration": 53,
    "start_time": "2022-01-21T17:54:17.799Z"
   },
   {
    "duration": 24,
    "start_time": "2022-01-21T17:54:17.854Z"
   },
   {
    "duration": 5,
    "start_time": "2022-01-21T17:54:17.880Z"
   },
   {
    "duration": 6302,
    "start_time": "2022-01-21T17:54:17.887Z"
   },
   {
    "duration": 1261,
    "start_time": "2022-01-21T17:54:22.931Z"
   },
   {
    "duration": 1257,
    "start_time": "2022-01-21T17:54:22.936Z"
   },
   {
    "duration": 1254,
    "start_time": "2022-01-21T17:54:22.940Z"
   },
   {
    "duration": 1251,
    "start_time": "2022-01-21T17:54:22.944Z"
   },
   {
    "duration": 1247,
    "start_time": "2022-01-21T17:54:22.949Z"
   },
   {
    "duration": 1244,
    "start_time": "2022-01-21T17:54:22.953Z"
   },
   {
    "duration": 1240,
    "start_time": "2022-01-21T17:54:22.958Z"
   },
   {
    "duration": 1236,
    "start_time": "2022-01-21T17:54:22.963Z"
   },
   {
    "duration": 1233,
    "start_time": "2022-01-21T17:54:22.967Z"
   },
   {
    "duration": 1228,
    "start_time": "2022-01-21T17:54:22.973Z"
   },
   {
    "duration": 1225,
    "start_time": "2022-01-21T17:54:22.977Z"
   },
   {
    "duration": 1221,
    "start_time": "2022-01-21T17:54:22.982Z"
   },
   {
    "duration": 1218,
    "start_time": "2022-01-21T17:54:22.986Z"
   },
   {
    "duration": 1213,
    "start_time": "2022-01-21T17:54:22.992Z"
   },
   {
    "duration": 1210,
    "start_time": "2022-01-21T17:54:22.996Z"
   },
   {
    "duration": 1208,
    "start_time": "2022-01-21T17:54:22.999Z"
   },
   {
    "duration": 1206,
    "start_time": "2022-01-21T17:54:23.002Z"
   },
   {
    "duration": 1203,
    "start_time": "2022-01-21T17:54:23.006Z"
   },
   {
    "duration": 1200,
    "start_time": "2022-01-21T17:54:23.009Z"
   },
   {
    "duration": 1198,
    "start_time": "2022-01-21T17:54:23.012Z"
   },
   {
    "duration": 1196,
    "start_time": "2022-01-21T17:54:23.015Z"
   },
   {
    "duration": 1194,
    "start_time": "2022-01-21T17:54:23.018Z"
   },
   {
    "duration": 1192,
    "start_time": "2022-01-21T17:54:23.021Z"
   },
   {
    "duration": 1189,
    "start_time": "2022-01-21T17:54:23.025Z"
   },
   {
    "duration": 13,
    "start_time": "2022-01-21T17:54:51.249Z"
   },
   {
    "duration": 12,
    "start_time": "2022-01-21T17:54:52.472Z"
   },
   {
    "duration": 12,
    "start_time": "2022-01-21T17:54:53.082Z"
   },
   {
    "duration": 12,
    "start_time": "2022-01-21T17:54:53.608Z"
   },
   {
    "duration": 1255,
    "start_time": "2022-01-21T17:55:00.782Z"
   },
   {
    "duration": 438,
    "start_time": "2022-01-21T17:55:02.039Z"
   },
   {
    "duration": 30,
    "start_time": "2022-01-21T17:55:02.479Z"
   },
   {
    "duration": 28,
    "start_time": "2022-01-21T17:55:02.511Z"
   },
   {
    "duration": 36,
    "start_time": "2022-01-21T17:55:02.541Z"
   },
   {
    "duration": 21,
    "start_time": "2022-01-21T17:55:02.579Z"
   },
   {
    "duration": 38,
    "start_time": "2022-01-21T17:55:02.602Z"
   },
   {
    "duration": 84,
    "start_time": "2022-01-21T17:55:02.643Z"
   },
   {
    "duration": 274,
    "start_time": "2022-01-21T17:55:02.729Z"
   },
   {
    "duration": 15,
    "start_time": "2022-01-21T17:55:03.005Z"
   },
   {
    "duration": 15,
    "start_time": "2022-01-21T17:55:03.022Z"
   },
   {
    "duration": 41,
    "start_time": "2022-01-21T17:55:03.038Z"
   },
   {
    "duration": 65,
    "start_time": "2022-01-21T17:55:03.081Z"
   },
   {
    "duration": 19,
    "start_time": "2022-01-21T17:55:03.148Z"
   },
   {
    "duration": 13,
    "start_time": "2022-01-21T17:55:03.168Z"
   },
   {
    "duration": 23,
    "start_time": "2022-01-21T17:55:03.183Z"
   },
   {
    "duration": 71,
    "start_time": "2022-01-21T17:55:03.208Z"
   },
   {
    "duration": 79,
    "start_time": "2022-01-21T17:55:03.282Z"
   },
   {
    "duration": 33,
    "start_time": "2022-01-21T17:55:03.363Z"
   },
   {
    "duration": 8,
    "start_time": "2022-01-21T17:55:03.399Z"
   },
   {
    "duration": 5537,
    "start_time": "2022-01-21T17:55:03.409Z"
   },
   {
    "duration": 879,
    "start_time": "2022-01-21T17:55:08.069Z"
   },
   {
    "duration": 874,
    "start_time": "2022-01-21T17:55:08.075Z"
   },
   {
    "duration": 871,
    "start_time": "2022-01-21T17:55:08.079Z"
   },
   {
    "duration": 868,
    "start_time": "2022-01-21T17:55:08.083Z"
   },
   {
    "duration": 865,
    "start_time": "2022-01-21T17:55:08.087Z"
   },
   {
    "duration": 863,
    "start_time": "2022-01-21T17:55:08.090Z"
   },
   {
    "duration": 861,
    "start_time": "2022-01-21T17:55:08.093Z"
   },
   {
    "duration": 858,
    "start_time": "2022-01-21T17:55:08.097Z"
   },
   {
    "duration": 855,
    "start_time": "2022-01-21T17:55:08.101Z"
   },
   {
    "duration": 852,
    "start_time": "2022-01-21T17:55:08.105Z"
   },
   {
    "duration": 849,
    "start_time": "2022-01-21T17:55:08.109Z"
   },
   {
    "duration": 846,
    "start_time": "2022-01-21T17:55:08.113Z"
   },
   {
    "duration": 843,
    "start_time": "2022-01-21T17:55:08.117Z"
   },
   {
    "duration": 840,
    "start_time": "2022-01-21T17:55:08.121Z"
   },
   {
    "duration": 838,
    "start_time": "2022-01-21T17:55:08.124Z"
   },
   {
    "duration": 836,
    "start_time": "2022-01-21T17:55:08.127Z"
   },
   {
    "duration": 833,
    "start_time": "2022-01-21T17:55:08.131Z"
   },
   {
    "duration": 831,
    "start_time": "2022-01-21T17:55:08.134Z"
   },
   {
    "duration": 829,
    "start_time": "2022-01-21T17:55:08.137Z"
   },
   {
    "duration": 826,
    "start_time": "2022-01-21T17:55:08.141Z"
   },
   {
    "duration": 825,
    "start_time": "2022-01-21T17:55:08.144Z"
   },
   {
    "duration": 822,
    "start_time": "2022-01-21T17:55:08.148Z"
   },
   {
    "duration": 820,
    "start_time": "2022-01-21T17:55:08.151Z"
   },
   {
    "duration": 817,
    "start_time": "2022-01-21T17:55:08.155Z"
   },
   {
    "duration": 17,
    "start_time": "2022-01-21T17:56:01.744Z"
   },
   {
    "duration": 12,
    "start_time": "2022-01-21T17:56:13.906Z"
   },
   {
    "duration": 11,
    "start_time": "2022-01-21T17:56:14.714Z"
   },
   {
    "duration": 7046,
    "start_time": "2022-01-21T17:56:56.949Z"
   },
   {
    "duration": 4,
    "start_time": "2022-01-21T17:57:23.716Z"
   },
   {
    "duration": 4,
    "start_time": "2022-01-21T17:57:24.979Z"
   },
   {
    "duration": 1131,
    "start_time": "2022-01-21T18:15:34.277Z"
   },
   {
    "duration": 427,
    "start_time": "2022-01-21T18:15:35.410Z"
   },
   {
    "duration": 28,
    "start_time": "2022-01-21T18:15:35.839Z"
   },
   {
    "duration": 24,
    "start_time": "2022-01-21T18:15:35.869Z"
   },
   {
    "duration": 19,
    "start_time": "2022-01-21T18:15:35.894Z"
   },
   {
    "duration": 11,
    "start_time": "2022-01-21T18:15:35.914Z"
   },
   {
    "duration": 44,
    "start_time": "2022-01-21T18:15:35.926Z"
   },
   {
    "duration": 74,
    "start_time": "2022-01-21T18:15:35.972Z"
   },
   {
    "duration": 275,
    "start_time": "2022-01-21T18:15:36.048Z"
   },
   {
    "duration": 11,
    "start_time": "2022-01-21T18:15:36.324Z"
   },
   {
    "duration": 8,
    "start_time": "2022-01-21T18:15:36.336Z"
   },
   {
    "duration": 23,
    "start_time": "2022-01-21T18:15:36.360Z"
   },
   {
    "duration": 60,
    "start_time": "2022-01-21T18:15:36.385Z"
   },
   {
    "duration": 17,
    "start_time": "2022-01-21T18:15:36.446Z"
   },
   {
    "duration": 5,
    "start_time": "2022-01-21T18:15:36.465Z"
   },
   {
    "duration": 11,
    "start_time": "2022-01-21T18:15:36.472Z"
   },
   {
    "duration": 54,
    "start_time": "2022-01-21T18:15:36.485Z"
   },
   {
    "duration": 59,
    "start_time": "2022-01-21T18:15:36.541Z"
   },
   {
    "duration": 20,
    "start_time": "2022-01-21T18:15:36.602Z"
   },
   {
    "duration": 7,
    "start_time": "2022-01-21T18:15:36.624Z"
   },
   {
    "duration": 27,
    "start_time": "2022-01-21T18:15:36.633Z"
   },
   {
    "duration": 163,
    "start_time": "2022-01-21T18:15:36.663Z"
   },
   {
    "duration": 334,
    "start_time": "2022-01-21T18:15:36.831Z"
   },
   {
    "duration": 314,
    "start_time": "2022-01-21T18:15:37.167Z"
   },
   {
    "duration": 8,
    "start_time": "2022-01-21T18:15:37.483Z"
   },
   {
    "duration": 26,
    "start_time": "2022-01-21T18:15:37.492Z"
   },
   {
    "duration": 24,
    "start_time": "2022-01-21T18:15:37.520Z"
   },
   {
    "duration": 29,
    "start_time": "2022-01-21T18:15:37.546Z"
   },
   {
    "duration": 11,
    "start_time": "2022-01-21T18:15:37.577Z"
   },
   {
    "duration": 442,
    "start_time": "2022-01-21T18:15:37.590Z"
   },
   {
    "duration": 5,
    "start_time": "2022-01-21T18:15:38.034Z"
   },
   {
    "duration": 25,
    "start_time": "2022-01-21T18:15:38.041Z"
   },
   {
    "duration": 7,
    "start_time": "2022-01-21T18:15:38.068Z"
   },
   {
    "duration": 351,
    "start_time": "2022-01-21T18:15:38.076Z"
   },
   {
    "duration": 6,
    "start_time": "2022-01-21T18:15:38.429Z"
   },
   {
    "duration": 24,
    "start_time": "2022-01-21T18:15:38.437Z"
   },
   {
    "duration": 7,
    "start_time": "2022-01-21T18:15:38.463Z"
   },
   {
    "duration": 360,
    "start_time": "2022-01-21T18:15:38.472Z"
   },
   {
    "duration": 7,
    "start_time": "2022-01-21T18:15:38.834Z"
   },
   {
    "duration": 31,
    "start_time": "2022-01-21T18:15:38.843Z"
   },
   {
    "duration": 10,
    "start_time": "2022-01-21T18:15:38.877Z"
   },
   {
    "duration": 12,
    "start_time": "2022-01-21T18:15:38.889Z"
   },
   {
    "duration": 42,
    "start_time": "2022-01-21T18:15:38.903Z"
   },
   {
    "duration": 19,
    "start_time": "2022-01-21T18:15:38.947Z"
   },
   {
    "duration": 10,
    "start_time": "2022-01-21T18:15:38.968Z"
   },
   {
    "duration": 11,
    "start_time": "2022-01-21T18:19:00.255Z"
   },
   {
    "duration": 12,
    "start_time": "2022-01-21T18:19:00.993Z"
   },
   {
    "duration": 13,
    "start_time": "2022-01-21T18:19:01.945Z"
   },
   {
    "duration": 1106,
    "start_time": "2022-01-21T18:19:08.390Z"
   },
   {
    "duration": 413,
    "start_time": "2022-01-21T18:19:09.498Z"
   },
   {
    "duration": 30,
    "start_time": "2022-01-21T18:19:09.913Z"
   },
   {
    "duration": 22,
    "start_time": "2022-01-21T18:19:09.945Z"
   },
   {
    "duration": 24,
    "start_time": "2022-01-21T18:19:09.969Z"
   },
   {
    "duration": 20,
    "start_time": "2022-01-21T18:19:09.995Z"
   },
   {
    "duration": 31,
    "start_time": "2022-01-21T18:19:10.017Z"
   },
   {
    "duration": 85,
    "start_time": "2022-01-21T18:19:10.051Z"
   },
   {
    "duration": 255,
    "start_time": "2022-01-21T18:19:10.138Z"
   },
   {
    "duration": 15,
    "start_time": "2022-01-21T18:19:10.394Z"
   },
   {
    "duration": 38,
    "start_time": "2022-01-21T18:19:10.410Z"
   },
   {
    "duration": 43,
    "start_time": "2022-01-21T18:19:10.450Z"
   },
   {
    "duration": 73,
    "start_time": "2022-01-21T18:19:10.494Z"
   },
   {
    "duration": 7,
    "start_time": "2022-01-21T18:19:10.570Z"
   },
   {
    "duration": 25,
    "start_time": "2022-01-21T18:19:10.579Z"
   },
   {
    "duration": 28,
    "start_time": "2022-01-21T18:19:10.606Z"
   },
   {
    "duration": 90,
    "start_time": "2022-01-21T18:19:10.636Z"
   },
   {
    "duration": 53,
    "start_time": "2022-01-21T18:19:10.728Z"
   },
   {
    "duration": 24,
    "start_time": "2022-01-21T18:19:10.783Z"
   },
   {
    "duration": 7,
    "start_time": "2022-01-21T18:19:10.809Z"
   },
   {
    "duration": 21,
    "start_time": "2022-01-21T18:19:10.818Z"
   },
   {
    "duration": 134,
    "start_time": "2022-01-21T18:19:10.841Z"
   },
   {
    "duration": 297,
    "start_time": "2022-01-21T18:19:10.979Z"
   },
   {
    "duration": 314,
    "start_time": "2022-01-21T18:19:11.278Z"
   },
   {
    "duration": 9,
    "start_time": "2022-01-21T18:19:11.595Z"
   },
   {
    "duration": 22,
    "start_time": "2022-01-21T18:19:11.606Z"
   },
   {
    "duration": 27,
    "start_time": "2022-01-21T18:19:11.630Z"
   },
   {
    "duration": 20,
    "start_time": "2022-01-21T18:19:11.659Z"
   },
   {
    "duration": 43,
    "start_time": "2022-01-21T18:19:11.681Z"
   },
   {
    "duration": 456,
    "start_time": "2022-01-21T18:19:11.727Z"
   },
   {
    "duration": 6,
    "start_time": "2022-01-21T18:19:12.185Z"
   },
   {
    "duration": 26,
    "start_time": "2022-01-21T18:19:12.193Z"
   },
   {
    "duration": 22,
    "start_time": "2022-01-21T18:19:12.220Z"
   },
   {
    "duration": 340,
    "start_time": "2022-01-21T18:19:12.244Z"
   },
   {
    "duration": 6,
    "start_time": "2022-01-21T18:19:12.586Z"
   },
   {
    "duration": 8,
    "start_time": "2022-01-21T18:19:12.594Z"
   },
   {
    "duration": 11,
    "start_time": "2022-01-21T18:19:12.604Z"
   },
   {
    "duration": 355,
    "start_time": "2022-01-21T18:19:12.616Z"
   },
   {
    "duration": 7,
    "start_time": "2022-01-21T18:19:12.973Z"
   },
   {
    "duration": 4,
    "start_time": "2022-01-21T18:19:12.982Z"
   },
   {
    "duration": 6,
    "start_time": "2022-01-21T18:19:12.988Z"
   },
   {
    "duration": 7,
    "start_time": "2022-01-21T18:19:12.996Z"
   },
   {
    "duration": 40,
    "start_time": "2022-01-21T18:19:13.005Z"
   },
   {
    "duration": 10,
    "start_time": "2022-01-21T18:19:13.061Z"
   },
   {
    "duration": 23,
    "start_time": "2022-01-21T18:19:13.073Z"
   },
   {
    "duration": 4,
    "start_time": "2022-01-21T18:22:05.720Z"
   },
   {
    "duration": 4,
    "start_time": "2022-01-21T18:22:08.383Z"
   },
   {
    "duration": 1113,
    "start_time": "2022-01-21T18:22:14.778Z"
   },
   {
    "duration": 419,
    "start_time": "2022-01-21T18:22:15.893Z"
   },
   {
    "duration": 27,
    "start_time": "2022-01-21T18:22:16.314Z"
   },
   {
    "duration": 21,
    "start_time": "2022-01-21T18:22:16.343Z"
   },
   {
    "duration": 18,
    "start_time": "2022-01-21T18:22:16.366Z"
   },
   {
    "duration": 10,
    "start_time": "2022-01-21T18:22:16.385Z"
   },
   {
    "duration": 18,
    "start_time": "2022-01-21T18:22:16.396Z"
   },
   {
    "duration": 88,
    "start_time": "2022-01-21T18:22:16.415Z"
   },
   {
    "duration": 274,
    "start_time": "2022-01-21T18:22:16.506Z"
   },
   {
    "duration": 17,
    "start_time": "2022-01-21T18:22:16.783Z"
   },
   {
    "duration": 8,
    "start_time": "2022-01-21T18:22:16.802Z"
   },
   {
    "duration": 37,
    "start_time": "2022-01-21T18:22:16.812Z"
   },
   {
    "duration": 62,
    "start_time": "2022-01-21T18:22:16.851Z"
   },
   {
    "duration": 7,
    "start_time": "2022-01-21T18:22:16.914Z"
   },
   {
    "duration": 19,
    "start_time": "2022-01-21T18:22:16.922Z"
   },
   {
    "duration": 29,
    "start_time": "2022-01-21T18:22:16.943Z"
   },
   {
    "duration": 56,
    "start_time": "2022-01-21T18:22:16.973Z"
   },
   {
    "duration": 54,
    "start_time": "2022-01-21T18:22:17.031Z"
   },
   {
    "duration": 22,
    "start_time": "2022-01-21T18:22:17.087Z"
   },
   {
    "duration": 5,
    "start_time": "2022-01-21T18:22:17.111Z"
   },
   {
    "duration": 9,
    "start_time": "2022-01-21T18:22:17.118Z"
   },
   {
    "duration": 121,
    "start_time": "2022-01-21T18:22:17.129Z"
   },
   {
    "duration": 281,
    "start_time": "2022-01-21T18:22:17.252Z"
   },
   {
    "duration": 299,
    "start_time": "2022-01-21T18:22:17.535Z"
   },
   {
    "duration": 7,
    "start_time": "2022-01-21T18:22:17.836Z"
   },
   {
    "duration": 3,
    "start_time": "2022-01-21T18:22:17.845Z"
   },
   {
    "duration": 4,
    "start_time": "2022-01-21T18:22:17.862Z"
   },
   {
    "duration": 10,
    "start_time": "2022-01-21T18:22:17.867Z"
   },
   {
    "duration": 8,
    "start_time": "2022-01-21T18:22:17.878Z"
   },
   {
    "duration": 430,
    "start_time": "2022-01-21T18:22:17.887Z"
   },
   {
    "duration": 6,
    "start_time": "2022-01-21T18:22:18.319Z"
   },
   {
    "duration": 8,
    "start_time": "2022-01-21T18:22:18.327Z"
   },
   {
    "duration": 28,
    "start_time": "2022-01-21T18:22:18.336Z"
   },
   {
    "duration": 336,
    "start_time": "2022-01-21T18:22:18.365Z"
   },
   {
    "duration": 6,
    "start_time": "2022-01-21T18:22:18.704Z"
   },
   {
    "duration": 20,
    "start_time": "2022-01-21T18:22:18.711Z"
   },
   {
    "duration": 10,
    "start_time": "2022-01-21T18:22:18.733Z"
   },
   {
    "duration": 339,
    "start_time": "2022-01-21T18:22:18.745Z"
   },
   {
    "duration": 5,
    "start_time": "2022-01-21T18:22:19.086Z"
   },
   {
    "duration": 5,
    "start_time": "2022-01-21T18:22:19.093Z"
   },
   {
    "duration": 6,
    "start_time": "2022-01-21T18:22:19.100Z"
   },
   {
    "duration": 7,
    "start_time": "2022-01-21T18:22:19.108Z"
   },
   {
    "duration": 48,
    "start_time": "2022-01-21T18:22:19.117Z"
   },
   {
    "duration": 9,
    "start_time": "2022-01-21T18:22:19.167Z"
   },
   {
    "duration": 9,
    "start_time": "2022-01-21T18:22:19.178Z"
   },
   {
    "duration": 41,
    "start_time": "2022-01-21T18:23:14.774Z"
   },
   {
    "duration": 282,
    "start_time": "2022-01-21T18:23:46.300Z"
   },
   {
    "duration": 198,
    "start_time": "2022-01-21T18:23:48.342Z"
   },
   {
    "duration": 1231,
    "start_time": "2022-01-21T18:40:41.495Z"
   },
   {
    "duration": 433,
    "start_time": "2022-01-21T18:40:42.728Z"
   },
   {
    "duration": 29,
    "start_time": "2022-01-21T18:40:43.163Z"
   },
   {
    "duration": 41,
    "start_time": "2022-01-21T18:40:43.193Z"
   },
   {
    "duration": 29,
    "start_time": "2022-01-21T18:40:43.236Z"
   },
   {
    "duration": 28,
    "start_time": "2022-01-21T18:40:43.267Z"
   },
   {
    "duration": 36,
    "start_time": "2022-01-21T18:40:43.297Z"
   },
   {
    "duration": 89,
    "start_time": "2022-01-21T18:40:43.336Z"
   },
   {
    "duration": 277,
    "start_time": "2022-01-21T18:40:43.428Z"
   },
   {
    "duration": 16,
    "start_time": "2022-01-21T18:40:43.707Z"
   },
   {
    "duration": 43,
    "start_time": "2022-01-21T18:40:43.724Z"
   },
   {
    "duration": 35,
    "start_time": "2022-01-21T18:40:43.769Z"
   },
   {
    "duration": 63,
    "start_time": "2022-01-21T18:40:43.805Z"
   },
   {
    "duration": 7,
    "start_time": "2022-01-21T18:40:43.870Z"
   },
   {
    "duration": 16,
    "start_time": "2022-01-21T18:40:43.878Z"
   },
   {
    "duration": 32,
    "start_time": "2022-01-21T18:40:43.895Z"
   },
   {
    "duration": 61,
    "start_time": "2022-01-21T18:40:43.928Z"
   },
   {
    "duration": 52,
    "start_time": "2022-01-21T18:40:43.991Z"
   },
   {
    "duration": 34,
    "start_time": "2022-01-21T18:40:44.045Z"
   },
   {
    "duration": 33,
    "start_time": "2022-01-21T18:40:44.081Z"
   },
   {
    "duration": 26,
    "start_time": "2022-01-21T18:40:44.116Z"
   },
   {
    "duration": 102,
    "start_time": "2022-01-21T18:40:44.144Z"
   },
   {
    "duration": 1313,
    "start_time": "2022-01-21T18:40:42.936Z"
   },
   {
    "duration": 1308,
    "start_time": "2022-01-21T18:40:42.942Z"
   },
   {
    "duration": 1293,
    "start_time": "2022-01-21T18:40:42.958Z"
   },
   {
    "duration": 1288,
    "start_time": "2022-01-21T18:40:42.964Z"
   },
   {
    "duration": 1286,
    "start_time": "2022-01-21T18:40:42.968Z"
   },
   {
    "duration": 1282,
    "start_time": "2022-01-21T18:40:42.972Z"
   },
   {
    "duration": 1278,
    "start_time": "2022-01-21T18:40:42.978Z"
   },
   {
    "duration": 1274,
    "start_time": "2022-01-21T18:40:42.983Z"
   },
   {
    "duration": 1272,
    "start_time": "2022-01-21T18:40:42.986Z"
   },
   {
    "duration": 1271,
    "start_time": "2022-01-21T18:40:42.989Z"
   },
   {
    "duration": 1269,
    "start_time": "2022-01-21T18:40:42.992Z"
   },
   {
    "duration": 1266,
    "start_time": "2022-01-21T18:40:42.996Z"
   },
   {
    "duration": 1264,
    "start_time": "2022-01-21T18:40:42.999Z"
   },
   {
    "duration": 1261,
    "start_time": "2022-01-21T18:40:43.003Z"
   },
   {
    "duration": 1258,
    "start_time": "2022-01-21T18:40:43.007Z"
   },
   {
    "duration": 1255,
    "start_time": "2022-01-21T18:40:43.011Z"
   },
   {
    "duration": 1253,
    "start_time": "2022-01-21T18:40:43.014Z"
   },
   {
    "duration": 1250,
    "start_time": "2022-01-21T18:40:43.018Z"
   },
   {
    "duration": 1248,
    "start_time": "2022-01-21T18:40:43.021Z"
   },
   {
    "duration": 1246,
    "start_time": "2022-01-21T18:40:43.025Z"
   },
   {
    "duration": 1243,
    "start_time": "2022-01-21T18:40:43.029Z"
   },
   {
    "duration": 1241,
    "start_time": "2022-01-21T18:40:43.032Z"
   },
   {
    "duration": 1238,
    "start_time": "2022-01-21T18:40:43.036Z"
   },
   {
    "duration": 1235,
    "start_time": "2022-01-21T18:40:43.040Z"
   },
   {
    "duration": 1233,
    "start_time": "2022-01-21T18:40:43.043Z"
   },
   {
    "duration": 1251,
    "start_time": "2022-01-21T18:42:57.458Z"
   },
   {
    "duration": 413,
    "start_time": "2022-01-21T18:42:58.711Z"
   },
   {
    "duration": 29,
    "start_time": "2022-01-21T18:42:59.126Z"
   },
   {
    "duration": 25,
    "start_time": "2022-01-21T18:42:59.157Z"
   },
   {
    "duration": 20,
    "start_time": "2022-01-21T18:42:59.184Z"
   },
   {
    "duration": 11,
    "start_time": "2022-01-21T18:42:59.205Z"
   },
   {
    "duration": 16,
    "start_time": "2022-01-21T18:42:59.217Z"
   },
   {
    "duration": 72,
    "start_time": "2022-01-21T18:42:59.260Z"
   },
   {
    "duration": 291,
    "start_time": "2022-01-21T18:42:59.336Z"
   },
   {
    "duration": 18,
    "start_time": "2022-01-21T18:42:59.630Z"
   },
   {
    "duration": 23,
    "start_time": "2022-01-21T18:42:59.650Z"
   },
   {
    "duration": 40,
    "start_time": "2022-01-21T18:42:59.676Z"
   },
   {
    "duration": 62,
    "start_time": "2022-01-21T18:42:59.718Z"
   },
   {
    "duration": 7,
    "start_time": "2022-01-21T18:42:59.781Z"
   },
   {
    "duration": 44,
    "start_time": "2022-01-21T18:42:59.790Z"
   },
   {
    "duration": 34,
    "start_time": "2022-01-21T18:42:59.837Z"
   },
   {
    "duration": 60,
    "start_time": "2022-01-21T18:42:59.873Z"
   },
   {
    "duration": 54,
    "start_time": "2022-01-21T18:42:59.934Z"
   },
   {
    "duration": 24,
    "start_time": "2022-01-21T18:42:59.990Z"
   },
   {
    "duration": 7,
    "start_time": "2022-01-21T18:43:00.016Z"
   },
   {
    "duration": 30,
    "start_time": "2022-01-21T18:43:00.025Z"
   },
   {
    "duration": 188,
    "start_time": "2022-01-21T18:43:00.057Z"
   },
   {
    "duration": 406,
    "start_time": "2022-01-21T18:43:00.247Z"
   },
   {
    "duration": 419,
    "start_time": "2022-01-21T18:43:00.655Z"
   },
   {
    "duration": 10,
    "start_time": "2022-01-21T18:43:01.077Z"
   },
   {
    "duration": 40,
    "start_time": "2022-01-21T18:43:01.089Z"
   },
   {
    "duration": 32,
    "start_time": "2022-01-21T18:43:01.133Z"
   },
   {
    "duration": 98,
    "start_time": "2022-01-21T18:43:01.168Z"
   },
   {
    "duration": 63,
    "start_time": "2022-01-21T18:43:01.268Z"
   },
   {
    "duration": 552,
    "start_time": "2022-01-21T18:43:01.333Z"
   },
   {
    "duration": 8,
    "start_time": "2022-01-21T18:43:01.888Z"
   },
   {
    "duration": 24,
    "start_time": "2022-01-21T18:43:01.897Z"
   },
   {
    "duration": 36,
    "start_time": "2022-01-21T18:43:01.923Z"
   },
   {
    "duration": 567,
    "start_time": "2022-01-21T18:43:01.961Z"
   },
   {
    "duration": 6,
    "start_time": "2022-01-21T18:43:02.531Z"
   },
   {
    "duration": 40,
    "start_time": "2022-01-21T18:43:02.539Z"
   },
   {
    "duration": 34,
    "start_time": "2022-01-21T18:43:02.581Z"
   },
   {
    "duration": 435,
    "start_time": "2022-01-21T18:43:02.617Z"
   },
   {
    "duration": 12,
    "start_time": "2022-01-21T18:43:03.054Z"
   },
   {
    "duration": 31,
    "start_time": "2022-01-21T18:43:03.068Z"
   },
   {
    "duration": 39,
    "start_time": "2022-01-21T18:43:03.101Z"
   },
   {
    "duration": 34,
    "start_time": "2022-01-21T18:43:03.142Z"
   },
   {
    "duration": 46,
    "start_time": "2022-01-21T18:43:03.178Z"
   },
   {
    "duration": 17,
    "start_time": "2022-01-21T18:43:03.227Z"
   },
   {
    "duration": 24,
    "start_time": "2022-01-21T18:43:03.247Z"
   },
   {
    "duration": 1308,
    "start_time": "2022-01-21T18:51:00.636Z"
   },
   {
    "duration": 416,
    "start_time": "2022-01-21T18:51:01.946Z"
   },
   {
    "duration": 29,
    "start_time": "2022-01-21T18:51:02.365Z"
   },
   {
    "duration": 41,
    "start_time": "2022-01-21T18:51:02.396Z"
   },
   {
    "duration": 26,
    "start_time": "2022-01-21T18:51:02.439Z"
   },
   {
    "duration": 26,
    "start_time": "2022-01-21T18:51:02.468Z"
   },
   {
    "duration": 27,
    "start_time": "2022-01-21T18:51:02.496Z"
   },
   {
    "duration": 82,
    "start_time": "2022-01-21T18:51:02.526Z"
   },
   {
    "duration": 286,
    "start_time": "2022-01-21T18:51:02.611Z"
   },
   {
    "duration": 13,
    "start_time": "2022-01-21T18:51:02.900Z"
   },
   {
    "duration": 22,
    "start_time": "2022-01-21T18:51:02.914Z"
   },
   {
    "duration": 34,
    "start_time": "2022-01-21T18:51:02.938Z"
   },
   {
    "duration": 70,
    "start_time": "2022-01-21T18:51:02.974Z"
   },
   {
    "duration": 14,
    "start_time": "2022-01-21T18:51:03.046Z"
   },
   {
    "duration": 19,
    "start_time": "2022-01-21T18:51:03.062Z"
   },
   {
    "duration": 36,
    "start_time": "2022-01-21T18:51:03.083Z"
   },
   {
    "duration": 70,
    "start_time": "2022-01-21T18:51:03.121Z"
   },
   {
    "duration": 53,
    "start_time": "2022-01-21T18:51:03.193Z"
   },
   {
    "duration": 31,
    "start_time": "2022-01-21T18:51:03.248Z"
   },
   {
    "duration": 13,
    "start_time": "2022-01-21T18:51:03.281Z"
   },
   {
    "duration": 23,
    "start_time": "2022-01-21T18:51:03.295Z"
   },
   {
    "duration": 126,
    "start_time": "2022-01-21T18:51:03.320Z"
   },
   {
    "duration": 274,
    "start_time": "2022-01-21T18:51:03.450Z"
   },
   {
    "duration": 300,
    "start_time": "2022-01-21T18:51:03.726Z"
   },
   {
    "duration": 8,
    "start_time": "2022-01-21T18:51:04.028Z"
   },
   {
    "duration": 29,
    "start_time": "2022-01-21T18:51:04.038Z"
   },
   {
    "duration": 20,
    "start_time": "2022-01-21T18:51:04.069Z"
   },
   {
    "duration": 28,
    "start_time": "2022-01-21T18:51:04.091Z"
   },
   {
    "duration": 35,
    "start_time": "2022-01-21T18:51:04.121Z"
   },
   {
    "duration": 414,
    "start_time": "2022-01-21T18:51:04.157Z"
   },
   {
    "duration": 7,
    "start_time": "2022-01-21T18:51:04.573Z"
   },
   {
    "duration": 31,
    "start_time": "2022-01-21T18:51:04.582Z"
   },
   {
    "duration": 32,
    "start_time": "2022-01-21T18:51:04.615Z"
   },
   {
    "duration": 362,
    "start_time": "2022-01-21T18:51:04.649Z"
   },
   {
    "duration": 8,
    "start_time": "2022-01-21T18:51:05.013Z"
   },
   {
    "duration": 33,
    "start_time": "2022-01-21T18:51:05.023Z"
   },
   {
    "duration": 41,
    "start_time": "2022-01-21T18:51:05.058Z"
   },
   {
    "duration": 584,
    "start_time": "2022-01-21T18:51:05.101Z"
   },
   {
    "duration": 7,
    "start_time": "2022-01-21T18:51:05.687Z"
   },
   {
    "duration": 22,
    "start_time": "2022-01-21T18:51:05.696Z"
   },
   {
    "duration": 36,
    "start_time": "2022-01-21T18:51:05.719Z"
   },
   {
    "duration": 24,
    "start_time": "2022-01-21T18:51:05.757Z"
   },
   {
    "duration": 49,
    "start_time": "2022-01-21T18:51:05.783Z"
   },
   {
    "duration": 24,
    "start_time": "2022-01-21T18:51:05.833Z"
   },
   {
    "duration": 24,
    "start_time": "2022-01-21T18:51:05.859Z"
   },
   {
    "duration": 1195,
    "start_time": "2022-01-21T18:53:58.716Z"
   },
   {
    "duration": 428,
    "start_time": "2022-01-21T18:53:59.913Z"
   },
   {
    "duration": 30,
    "start_time": "2022-01-21T18:54:00.344Z"
   },
   {
    "duration": 24,
    "start_time": "2022-01-21T18:54:00.376Z"
   },
   {
    "duration": 18,
    "start_time": "2022-01-21T18:54:00.402Z"
   },
   {
    "duration": 11,
    "start_time": "2022-01-21T18:54:00.422Z"
   },
   {
    "duration": 13,
    "start_time": "2022-01-21T18:54:00.461Z"
   },
   {
    "duration": 96,
    "start_time": "2022-01-21T18:54:00.477Z"
   },
   {
    "duration": 286,
    "start_time": "2022-01-21T18:54:00.576Z"
   },
   {
    "duration": 16,
    "start_time": "2022-01-21T18:54:00.864Z"
   },
   {
    "duration": 12,
    "start_time": "2022-01-21T18:54:00.881Z"
   },
   {
    "duration": 32,
    "start_time": "2022-01-21T18:54:00.895Z"
   },
   {
    "duration": 85,
    "start_time": "2022-01-21T18:54:00.929Z"
   },
   {
    "duration": 7,
    "start_time": "2022-01-21T18:54:01.016Z"
   },
   {
    "duration": 17,
    "start_time": "2022-01-21T18:54:01.025Z"
   },
   {
    "duration": 26,
    "start_time": "2022-01-21T18:54:01.043Z"
   },
   {
    "duration": 62,
    "start_time": "2022-01-21T18:54:01.071Z"
   },
   {
    "duration": 50,
    "start_time": "2022-01-21T18:54:01.135Z"
   },
   {
    "duration": 20,
    "start_time": "2022-01-21T18:54:01.187Z"
   },
   {
    "duration": 5,
    "start_time": "2022-01-21T18:54:01.209Z"
   },
   {
    "duration": 11,
    "start_time": "2022-01-21T18:54:01.216Z"
   },
   {
    "duration": 125,
    "start_time": "2022-01-21T18:54:01.229Z"
   },
   {
    "duration": 304,
    "start_time": "2022-01-21T18:54:01.358Z"
   },
   {
    "duration": 307,
    "start_time": "2022-01-21T18:54:01.665Z"
   },
   {
    "duration": 8,
    "start_time": "2022-01-21T18:54:01.974Z"
   },
   {
    "duration": 13,
    "start_time": "2022-01-21T18:54:01.984Z"
   },
   {
    "duration": 6,
    "start_time": "2022-01-21T18:54:01.998Z"
   },
   {
    "duration": 15,
    "start_time": "2022-01-21T18:54:02.006Z"
   },
   {
    "duration": 8,
    "start_time": "2022-01-21T18:54:02.022Z"
   },
   {
    "duration": 446,
    "start_time": "2022-01-21T18:54:02.032Z"
   },
   {
    "duration": 6,
    "start_time": "2022-01-21T18:54:02.479Z"
   },
   {
    "duration": 10,
    "start_time": "2022-01-21T18:54:02.487Z"
   },
   {
    "duration": 10,
    "start_time": "2022-01-21T18:54:02.499Z"
   },
   {
    "duration": 374,
    "start_time": "2022-01-21T18:54:02.511Z"
   },
   {
    "duration": 6,
    "start_time": "2022-01-21T18:54:02.887Z"
   },
   {
    "duration": 9,
    "start_time": "2022-01-21T18:54:02.894Z"
   },
   {
    "duration": 10,
    "start_time": "2022-01-21T18:54:02.904Z"
   },
   {
    "duration": 372,
    "start_time": "2022-01-21T18:54:02.916Z"
   },
   {
    "duration": 6,
    "start_time": "2022-01-21T18:54:03.290Z"
   },
   {
    "duration": 21,
    "start_time": "2022-01-21T18:54:03.297Z"
   },
   {
    "duration": 18,
    "start_time": "2022-01-21T18:54:03.319Z"
   },
   {
    "duration": 21,
    "start_time": "2022-01-21T18:54:03.338Z"
   },
   {
    "duration": 39,
    "start_time": "2022-01-21T18:54:03.360Z"
   },
   {
    "duration": 28,
    "start_time": "2022-01-21T18:54:03.401Z"
   },
   {
    "duration": 27,
    "start_time": "2022-01-21T18:54:03.431Z"
   },
   {
    "duration": 1114,
    "start_time": "2022-01-22T11:52:15.622Z"
   },
   {
    "duration": 413,
    "start_time": "2022-01-22T11:52:16.738Z"
   },
   {
    "duration": 29,
    "start_time": "2022-01-22T11:52:17.153Z"
   },
   {
    "duration": 24,
    "start_time": "2022-01-22T11:52:17.184Z"
   },
   {
    "duration": 18,
    "start_time": "2022-01-22T11:52:17.209Z"
   },
   {
    "duration": 11,
    "start_time": "2022-01-22T11:52:17.229Z"
   },
   {
    "duration": 23,
    "start_time": "2022-01-22T11:52:17.242Z"
   },
   {
    "duration": 91,
    "start_time": "2022-01-22T11:52:17.268Z"
   },
   {
    "duration": 296,
    "start_time": "2022-01-22T11:52:17.361Z"
   },
   {
    "duration": 15,
    "start_time": "2022-01-22T11:52:17.660Z"
   },
   {
    "duration": 23,
    "start_time": "2022-01-22T11:52:17.677Z"
   },
   {
    "duration": 25,
    "start_time": "2022-01-22T11:52:17.702Z"
   },
   {
    "duration": 68,
    "start_time": "2022-01-22T11:52:17.729Z"
   },
   {
    "duration": 7,
    "start_time": "2022-01-22T11:52:17.799Z"
   },
   {
    "duration": 4,
    "start_time": "2022-01-22T11:52:17.808Z"
   },
   {
    "duration": 16,
    "start_time": "2022-01-22T11:52:17.813Z"
   },
   {
    "duration": 65,
    "start_time": "2022-01-22T11:52:17.831Z"
   },
   {
    "duration": 50,
    "start_time": "2022-01-22T11:52:17.898Z"
   },
   {
    "duration": 21,
    "start_time": "2022-01-22T11:52:17.950Z"
   },
   {
    "duration": 25,
    "start_time": "2022-01-22T11:52:17.973Z"
   },
   {
    "duration": 5,
    "start_time": "2022-01-22T11:52:18.000Z"
   },
   {
    "duration": 113,
    "start_time": "2022-01-22T11:52:18.007Z"
   },
   {
    "duration": 288,
    "start_time": "2022-01-22T11:52:18.124Z"
   },
   {
    "duration": 303,
    "start_time": "2022-01-22T11:52:18.414Z"
   },
   {
    "duration": 9,
    "start_time": "2022-01-22T11:52:18.719Z"
   },
   {
    "duration": 18,
    "start_time": "2022-01-22T11:52:18.730Z"
   },
   {
    "duration": 34,
    "start_time": "2022-01-22T11:52:18.750Z"
   },
   {
    "duration": 22,
    "start_time": "2022-01-22T11:52:18.786Z"
   },
   {
    "duration": 10,
    "start_time": "2022-01-22T11:52:18.810Z"
   },
   {
    "duration": 566,
    "start_time": "2022-01-22T11:52:18.822Z"
   },
   {
    "duration": 14,
    "start_time": "2022-01-22T11:52:19.402Z"
   },
   {
    "duration": 45,
    "start_time": "2022-01-22T11:52:19.419Z"
   },
   {
    "duration": 9,
    "start_time": "2022-01-22T11:52:19.466Z"
   },
   {
    "duration": 365,
    "start_time": "2022-01-22T11:52:19.477Z"
   },
   {
    "duration": 8,
    "start_time": "2022-01-22T11:52:19.843Z"
   },
   {
    "duration": 18,
    "start_time": "2022-01-22T11:52:19.852Z"
   },
   {
    "duration": 25,
    "start_time": "2022-01-22T11:52:19.872Z"
   },
   {
    "duration": 392,
    "start_time": "2022-01-22T11:52:19.899Z"
   },
   {
    "duration": 7,
    "start_time": "2022-01-22T11:52:20.293Z"
   },
   {
    "duration": 4,
    "start_time": "2022-01-22T11:52:20.302Z"
   },
   {
    "duration": 12,
    "start_time": "2022-01-22T11:52:20.308Z"
   },
   {
    "duration": 23,
    "start_time": "2022-01-22T11:52:20.322Z"
   },
   {
    "duration": 28,
    "start_time": "2022-01-22T11:52:20.347Z"
   },
   {
    "duration": 32,
    "start_time": "2022-01-22T11:52:20.378Z"
   },
   {
    "duration": 12,
    "start_time": "2022-01-22T11:52:20.412Z"
   },
   {
    "duration": 258,
    "start_time": "2022-01-22T11:54:17.444Z"
   },
   {
    "duration": 30,
    "start_time": "2022-01-22T12:07:41.259Z"
   },
   {
    "duration": 7,
    "start_time": "2022-01-22T12:10:10.425Z"
   },
   {
    "duration": 1373,
    "start_time": "2022-01-22T13:16:05.929Z"
   },
   {
    "duration": 519,
    "start_time": "2022-01-22T13:16:07.304Z"
   },
   {
    "duration": 41,
    "start_time": "2022-01-22T13:16:07.826Z"
   },
   {
    "duration": 30,
    "start_time": "2022-01-22T13:16:07.869Z"
   },
   {
    "duration": 24,
    "start_time": "2022-01-22T13:16:07.901Z"
   },
   {
    "duration": 12,
    "start_time": "2022-01-22T13:16:07.927Z"
   },
   {
    "duration": 40,
    "start_time": "2022-01-22T13:16:07.941Z"
   },
   {
    "duration": 98,
    "start_time": "2022-01-22T13:16:07.984Z"
   },
   {
    "duration": 358,
    "start_time": "2022-01-22T13:16:08.085Z"
   },
   {
    "duration": 12,
    "start_time": "2022-01-22T13:16:08.445Z"
   },
   {
    "duration": 22,
    "start_time": "2022-01-22T13:16:08.458Z"
   },
   {
    "duration": 27,
    "start_time": "2022-01-22T13:16:08.483Z"
   },
   {
    "duration": 86,
    "start_time": "2022-01-22T13:16:08.512Z"
   },
   {
    "duration": 9,
    "start_time": "2022-01-22T13:16:08.600Z"
   },
   {
    "duration": 5,
    "start_time": "2022-01-22T13:16:08.611Z"
   },
   {
    "duration": 7,
    "start_time": "2022-01-22T13:16:08.617Z"
   },
   {
    "duration": 76,
    "start_time": "2022-01-22T13:16:08.626Z"
   },
   {
    "duration": 68,
    "start_time": "2022-01-22T13:16:08.704Z"
   },
   {
    "duration": 28,
    "start_time": "2022-01-22T13:16:08.775Z"
   },
   {
    "duration": 9,
    "start_time": "2022-01-22T13:16:08.805Z"
   },
   {
    "duration": 4,
    "start_time": "2022-01-22T13:16:08.815Z"
   },
   {
    "duration": 149,
    "start_time": "2022-01-22T13:16:08.820Z"
   },
   {
    "duration": 268,
    "start_time": "2022-01-22T13:16:08.973Z"
   },
   {
    "duration": 272,
    "start_time": "2022-01-22T13:16:09.243Z"
   },
   {
    "duration": 8,
    "start_time": "2022-01-22T13:16:09.516Z"
   },
   {
    "duration": 4,
    "start_time": "2022-01-22T13:16:09.525Z"
   },
   {
    "duration": 4,
    "start_time": "2022-01-22T13:16:09.531Z"
   },
   {
    "duration": 8,
    "start_time": "2022-01-22T13:16:09.536Z"
   },
   {
    "duration": 7,
    "start_time": "2022-01-22T13:16:09.571Z"
   },
   {
    "duration": 525,
    "start_time": "2022-01-22T13:16:09.580Z"
   },
   {
    "duration": 7,
    "start_time": "2022-01-22T13:16:10.107Z"
   },
   {
    "duration": 9,
    "start_time": "2022-01-22T13:16:10.115Z"
   },
   {
    "duration": 7,
    "start_time": "2022-01-22T13:16:10.126Z"
   },
   {
    "duration": 487,
    "start_time": "2022-01-22T13:16:10.135Z"
   },
   {
    "duration": 7,
    "start_time": "2022-01-22T13:16:10.624Z"
   },
   {
    "duration": 9,
    "start_time": "2022-01-22T13:16:10.633Z"
   },
   {
    "duration": 30,
    "start_time": "2022-01-22T13:16:10.643Z"
   },
   {
    "duration": 463,
    "start_time": "2022-01-22T13:16:10.674Z"
   },
   {
    "duration": 7,
    "start_time": "2022-01-22T13:16:11.139Z"
   },
   {
    "duration": 4,
    "start_time": "2022-01-22T13:16:11.148Z"
   },
   {
    "duration": 4,
    "start_time": "2022-01-22T13:16:11.172Z"
   },
   {
    "duration": 8,
    "start_time": "2022-01-22T13:16:11.178Z"
   },
   {
    "duration": 23,
    "start_time": "2022-01-22T13:16:11.187Z"
   },
   {
    "duration": 9,
    "start_time": "2022-01-22T13:16:11.212Z"
   },
   {
    "duration": 8,
    "start_time": "2022-01-22T13:16:11.223Z"
   },
   {
    "duration": 1296,
    "start_time": "2022-01-22T13:17:21.284Z"
   },
   {
    "duration": 407,
    "start_time": "2022-01-22T13:17:22.582Z"
   },
   {
    "duration": 29,
    "start_time": "2022-01-22T13:17:22.991Z"
   },
   {
    "duration": 23,
    "start_time": "2022-01-22T13:17:23.022Z"
   },
   {
    "duration": 26,
    "start_time": "2022-01-22T13:17:23.047Z"
   },
   {
    "duration": 14,
    "start_time": "2022-01-22T13:17:23.075Z"
   },
   {
    "duration": 15,
    "start_time": "2022-01-22T13:17:23.091Z"
   },
   {
    "duration": 136,
    "start_time": "2022-01-22T13:17:23.109Z"
   },
   {
    "duration": 413,
    "start_time": "2022-01-22T13:17:23.248Z"
   },
   {
    "duration": 25,
    "start_time": "2022-01-22T13:17:23.664Z"
   },
   {
    "duration": 12,
    "start_time": "2022-01-22T13:17:23.691Z"
   },
   {
    "duration": 28,
    "start_time": "2022-01-22T13:17:23.705Z"
   },
   {
    "duration": 98,
    "start_time": "2022-01-22T13:17:23.735Z"
   },
   {
    "duration": 8,
    "start_time": "2022-01-22T13:17:23.835Z"
   },
   {
    "duration": 3,
    "start_time": "2022-01-22T13:17:23.846Z"
   },
   {
    "duration": 21,
    "start_time": "2022-01-22T13:17:23.851Z"
   },
   {
    "duration": 65,
    "start_time": "2022-01-22T13:17:23.874Z"
   },
   {
    "duration": 84,
    "start_time": "2022-01-22T13:17:23.941Z"
   },
   {
    "duration": 31,
    "start_time": "2022-01-22T13:17:24.027Z"
   },
   {
    "duration": 11,
    "start_time": "2022-01-22T13:17:24.071Z"
   },
   {
    "duration": 4,
    "start_time": "2022-01-22T13:17:24.084Z"
   },
   {
    "duration": 183,
    "start_time": "2022-01-22T13:17:24.090Z"
   },
   {
    "duration": 394,
    "start_time": "2022-01-22T13:17:24.278Z"
   },
   {
    "duration": 413,
    "start_time": "2022-01-22T13:17:24.674Z"
   },
   {
    "duration": 9,
    "start_time": "2022-01-22T13:17:25.089Z"
   },
   {
    "duration": 5,
    "start_time": "2022-01-22T13:17:25.100Z"
   },
   {
    "duration": 4,
    "start_time": "2022-01-22T13:17:25.107Z"
   },
   {
    "duration": 8,
    "start_time": "2022-01-22T13:17:25.113Z"
   },
   {
    "duration": 7,
    "start_time": "2022-01-22T13:17:25.123Z"
   },
   {
    "duration": 417,
    "start_time": "2022-01-22T13:17:25.132Z"
   },
   {
    "duration": 7,
    "start_time": "2022-01-22T13:17:25.551Z"
   },
   {
    "duration": 20,
    "start_time": "2022-01-22T13:17:25.559Z"
   },
   {
    "duration": 8,
    "start_time": "2022-01-22T13:17:25.580Z"
   },
   {
    "duration": 355,
    "start_time": "2022-01-22T13:17:25.590Z"
   },
   {
    "duration": 6,
    "start_time": "2022-01-22T13:17:25.947Z"
   },
   {
    "duration": 21,
    "start_time": "2022-01-22T13:17:25.955Z"
   },
   {
    "duration": 8,
    "start_time": "2022-01-22T13:17:25.977Z"
   },
   {
    "duration": 351,
    "start_time": "2022-01-22T13:17:25.987Z"
   },
   {
    "duration": 6,
    "start_time": "2022-01-22T13:17:26.340Z"
   },
   {
    "duration": 24,
    "start_time": "2022-01-22T13:17:26.348Z"
   },
   {
    "duration": 5,
    "start_time": "2022-01-22T13:17:26.373Z"
   },
   {
    "duration": 6,
    "start_time": "2022-01-22T13:17:26.380Z"
   },
   {
    "duration": 35,
    "start_time": "2022-01-22T13:17:26.388Z"
   },
   {
    "duration": 13,
    "start_time": "2022-01-22T13:17:26.425Z"
   },
   {
    "duration": 13,
    "start_time": "2022-01-22T13:17:26.472Z"
   },
   {
    "duration": 1149,
    "start_time": "2022-01-22T13:21:07.532Z"
   },
   {
    "duration": 384,
    "start_time": "2022-01-22T13:21:08.683Z"
   },
   {
    "duration": 26,
    "start_time": "2022-01-22T13:21:09.069Z"
   },
   {
    "duration": 20,
    "start_time": "2022-01-22T13:21:09.097Z"
   },
   {
    "duration": 16,
    "start_time": "2022-01-22T13:21:09.118Z"
   },
   {
    "duration": 8,
    "start_time": "2022-01-22T13:21:09.136Z"
   },
   {
    "duration": 34,
    "start_time": "2022-01-22T13:21:09.146Z"
   },
   {
    "duration": 64,
    "start_time": "2022-01-22T13:21:09.183Z"
   },
   {
    "duration": 267,
    "start_time": "2022-01-22T13:21:09.249Z"
   },
   {
    "duration": 9,
    "start_time": "2022-01-22T13:21:09.517Z"
   },
   {
    "duration": 88,
    "start_time": "2022-01-22T13:21:09.527Z"
   },
   {
    "duration": -4186,
    "start_time": "2022-01-22T13:21:13.803Z"
   },
   {
    "duration": -4194,
    "start_time": "2022-01-22T13:21:13.812Z"
   },
   {
    "duration": -4199,
    "start_time": "2022-01-22T13:21:13.818Z"
   },
   {
    "duration": -4204,
    "start_time": "2022-01-22T13:21:13.824Z"
   },
   {
    "duration": -4209,
    "start_time": "2022-01-22T13:21:13.830Z"
   },
   {
    "duration": -4216,
    "start_time": "2022-01-22T13:21:13.837Z"
   },
   {
    "duration": -4232,
    "start_time": "2022-01-22T13:21:13.854Z"
   },
   {
    "duration": -4237,
    "start_time": "2022-01-22T13:21:13.860Z"
   },
   {
    "duration": -4243,
    "start_time": "2022-01-22T13:21:13.867Z"
   },
   {
    "duration": -4250,
    "start_time": "2022-01-22T13:21:13.875Z"
   },
   {
    "duration": -4281,
    "start_time": "2022-01-22T13:21:13.907Z"
   },
   {
    "duration": -4290,
    "start_time": "2022-01-22T13:21:13.917Z"
   },
   {
    "duration": -4295,
    "start_time": "2022-01-22T13:21:13.923Z"
   },
   {
    "duration": -4302,
    "start_time": "2022-01-22T13:21:13.931Z"
   },
   {
    "duration": -4309,
    "start_time": "2022-01-22T13:21:13.939Z"
   },
   {
    "duration": -4316,
    "start_time": "2022-01-22T13:21:13.947Z"
   },
   {
    "duration": -4322,
    "start_time": "2022-01-22T13:21:13.954Z"
   },
   {
    "duration": -4328,
    "start_time": "2022-01-22T13:21:13.960Z"
   },
   {
    "duration": -4334,
    "start_time": "2022-01-22T13:21:13.967Z"
   },
   {
    "duration": -4340,
    "start_time": "2022-01-22T13:21:13.974Z"
   },
   {
    "duration": -4345,
    "start_time": "2022-01-22T13:21:13.980Z"
   },
   {
    "duration": -4351,
    "start_time": "2022-01-22T13:21:13.987Z"
   },
   {
    "duration": -4357,
    "start_time": "2022-01-22T13:21:13.994Z"
   },
   {
    "duration": -4362,
    "start_time": "2022-01-22T13:21:13.999Z"
   },
   {
    "duration": -4379,
    "start_time": "2022-01-22T13:21:14.017Z"
   },
   {
    "duration": -4386,
    "start_time": "2022-01-22T13:21:14.025Z"
   },
   {
    "duration": -4391,
    "start_time": "2022-01-22T13:21:14.031Z"
   },
   {
    "duration": -4399,
    "start_time": "2022-01-22T13:21:14.040Z"
   },
   {
    "duration": -4404,
    "start_time": "2022-01-22T13:21:14.046Z"
   },
   {
    "duration": -4411,
    "start_time": "2022-01-22T13:21:14.053Z"
   },
   {
    "duration": -4415,
    "start_time": "2022-01-22T13:21:14.058Z"
   },
   {
    "duration": -4422,
    "start_time": "2022-01-22T13:21:14.066Z"
   },
   {
    "duration": -4429,
    "start_time": "2022-01-22T13:21:14.074Z"
   },
   {
    "duration": -4432,
    "start_time": "2022-01-22T13:21:14.078Z"
   },
   {
    "duration": -4435,
    "start_time": "2022-01-22T13:21:14.082Z"
   },
   {
    "duration": 1124,
    "start_time": "2022-01-22T13:21:44.557Z"
   },
   {
    "duration": 389,
    "start_time": "2022-01-22T13:21:45.683Z"
   },
   {
    "duration": 29,
    "start_time": "2022-01-22T13:21:46.074Z"
   },
   {
    "duration": 22,
    "start_time": "2022-01-22T13:21:46.104Z"
   },
   {
    "duration": 18,
    "start_time": "2022-01-22T13:21:46.128Z"
   },
   {
    "duration": 12,
    "start_time": "2022-01-22T13:21:46.173Z"
   },
   {
    "duration": 13,
    "start_time": "2022-01-22T13:21:46.187Z"
   },
   {
    "duration": 91,
    "start_time": "2022-01-22T13:21:46.202Z"
   },
   {
    "duration": 262,
    "start_time": "2022-01-22T13:21:46.296Z"
   },
   {
    "duration": 14,
    "start_time": "2022-01-22T13:21:46.560Z"
   },
   {
    "duration": 86,
    "start_time": "2022-01-22T13:21:46.576Z"
   },
   {
    "duration": -4189,
    "start_time": "2022-01-22T13:21:50.853Z"
   },
   {
    "duration": -4191,
    "start_time": "2022-01-22T13:21:50.857Z"
   },
   {
    "duration": -4196,
    "start_time": "2022-01-22T13:21:50.863Z"
   },
   {
    "duration": -4208,
    "start_time": "2022-01-22T13:21:50.876Z"
   },
   {
    "duration": -4211,
    "start_time": "2022-01-22T13:21:50.881Z"
   },
   {
    "duration": -4214,
    "start_time": "2022-01-22T13:21:50.885Z"
   },
   {
    "duration": -4216,
    "start_time": "2022-01-22T13:21:50.889Z"
   },
   {
    "duration": -4219,
    "start_time": "2022-01-22T13:21:50.893Z"
   },
   {
    "duration": -4223,
    "start_time": "2022-01-22T13:21:50.898Z"
   },
   {
    "duration": -4227,
    "start_time": "2022-01-22T13:21:50.903Z"
   },
   {
    "duration": -4234,
    "start_time": "2022-01-22T13:21:50.912Z"
   },
   {
    "duration": -4237,
    "start_time": "2022-01-22T13:21:50.916Z"
   },
   {
    "duration": -4258,
    "start_time": "2022-01-22T13:21:50.939Z"
   },
   {
    "duration": -4264,
    "start_time": "2022-01-22T13:21:50.946Z"
   },
   {
    "duration": -4269,
    "start_time": "2022-01-22T13:21:50.952Z"
   },
   {
    "duration": -4271,
    "start_time": "2022-01-22T13:21:50.956Z"
   },
   {
    "duration": -4275,
    "start_time": "2022-01-22T13:21:50.961Z"
   },
   {
    "duration": -4278,
    "start_time": "2022-01-22T13:21:50.965Z"
   },
   {
    "duration": -4282,
    "start_time": "2022-01-22T13:21:50.970Z"
   },
   {
    "duration": -4286,
    "start_time": "2022-01-22T13:21:50.975Z"
   },
   {
    "duration": -4292,
    "start_time": "2022-01-22T13:21:50.981Z"
   },
   {
    "duration": -4296,
    "start_time": "2022-01-22T13:21:50.986Z"
   },
   {
    "duration": -4299,
    "start_time": "2022-01-22T13:21:50.990Z"
   },
   {
    "duration": -4306,
    "start_time": "2022-01-22T13:21:50.998Z"
   },
   {
    "duration": -4309,
    "start_time": "2022-01-22T13:21:51.002Z"
   },
   {
    "duration": -4313,
    "start_time": "2022-01-22T13:21:51.007Z"
   },
   {
    "duration": -4317,
    "start_time": "2022-01-22T13:21:51.012Z"
   },
   {
    "duration": -4320,
    "start_time": "2022-01-22T13:21:51.016Z"
   },
   {
    "duration": -4325,
    "start_time": "2022-01-22T13:21:51.022Z"
   },
   {
    "duration": -4328,
    "start_time": "2022-01-22T13:21:51.026Z"
   },
   {
    "duration": -4331,
    "start_time": "2022-01-22T13:21:51.030Z"
   },
   {
    "duration": -4335,
    "start_time": "2022-01-22T13:21:51.034Z"
   },
   {
    "duration": -4347,
    "start_time": "2022-01-22T13:21:51.047Z"
   },
   {
    "duration": -4350,
    "start_time": "2022-01-22T13:21:51.051Z"
   },
   {
    "duration": -4353,
    "start_time": "2022-01-22T13:21:51.055Z"
   },
   {
    "duration": 1074,
    "start_time": "2022-01-22T13:37:26.314Z"
   },
   {
    "duration": 371,
    "start_time": "2022-01-22T13:37:27.390Z"
   },
   {
    "duration": 28,
    "start_time": "2022-01-22T13:37:27.763Z"
   },
   {
    "duration": 20,
    "start_time": "2022-01-22T13:37:27.793Z"
   },
   {
    "duration": 18,
    "start_time": "2022-01-22T13:37:27.815Z"
   },
   {
    "duration": 10,
    "start_time": "2022-01-22T13:37:27.835Z"
   },
   {
    "duration": 36,
    "start_time": "2022-01-22T13:37:27.846Z"
   },
   {
    "duration": 62,
    "start_time": "2022-01-22T13:37:27.884Z"
   },
   {
    "duration": 287,
    "start_time": "2022-01-22T13:37:27.948Z"
   },
   {
    "duration": 9,
    "start_time": "2022-01-22T13:37:28.237Z"
   },
   {
    "duration": 7,
    "start_time": "2022-01-22T13:37:28.248Z"
   },
   {
    "duration": 34,
    "start_time": "2022-01-22T13:37:28.257Z"
   },
   {
    "duration": 55,
    "start_time": "2022-01-22T13:37:28.293Z"
   },
   {
    "duration": 24,
    "start_time": "2022-01-22T13:37:28.349Z"
   },
   {
    "duration": 4,
    "start_time": "2022-01-22T13:37:28.375Z"
   },
   {
    "duration": 8,
    "start_time": "2022-01-22T13:37:28.381Z"
   },
   {
    "duration": 49,
    "start_time": "2022-01-22T13:37:28.390Z"
   },
   {
    "duration": 69,
    "start_time": "2022-01-22T13:37:28.441Z"
   },
   {
    "duration": 19,
    "start_time": "2022-01-22T13:37:28.511Z"
   },
   {
    "duration": 8,
    "start_time": "2022-01-22T13:37:28.532Z"
   },
   {
    "duration": 3,
    "start_time": "2022-01-22T13:37:28.542Z"
   },
   {
    "duration": 141,
    "start_time": "2022-01-22T13:37:28.546Z"
   },
   {
    "duration": 274,
    "start_time": "2022-01-22T13:37:28.690Z"
   },
   {
    "duration": 275,
    "start_time": "2022-01-22T13:37:28.966Z"
   },
   {
    "duration": 7,
    "start_time": "2022-01-22T13:37:29.243Z"
   },
   {
    "duration": 20,
    "start_time": "2022-01-22T13:37:29.252Z"
   },
   {
    "duration": 10,
    "start_time": "2022-01-22T13:37:29.274Z"
   },
   {
    "duration": 21,
    "start_time": "2022-01-22T13:37:29.285Z"
   },
   {
    "duration": 8,
    "start_time": "2022-01-22T13:37:29.307Z"
   },
   {
    "duration": 385,
    "start_time": "2022-01-22T13:37:29.316Z"
   },
   {
    "duration": 6,
    "start_time": "2022-01-22T13:37:29.703Z"
   },
   {
    "duration": 7,
    "start_time": "2022-01-22T13:37:29.710Z"
   },
   {
    "duration": 10,
    "start_time": "2022-01-22T13:37:29.719Z"
   },
   {
    "duration": 349,
    "start_time": "2022-01-22T13:37:29.730Z"
   },
   {
    "duration": 6,
    "start_time": "2022-01-22T13:37:30.080Z"
   },
   {
    "duration": 9,
    "start_time": "2022-01-22T13:37:30.087Z"
   },
   {
    "duration": 8,
    "start_time": "2022-01-22T13:37:30.097Z"
   },
   {
    "duration": 355,
    "start_time": "2022-01-22T13:37:30.106Z"
   },
   {
    "duration": 11,
    "start_time": "2022-01-22T13:37:30.463Z"
   },
   {
    "duration": 5,
    "start_time": "2022-01-22T13:37:30.476Z"
   },
   {
    "duration": 11,
    "start_time": "2022-01-22T13:37:30.483Z"
   },
   {
    "duration": 9,
    "start_time": "2022-01-22T13:37:30.495Z"
   },
   {
    "duration": 25,
    "start_time": "2022-01-22T13:37:30.506Z"
   },
   {
    "duration": 10,
    "start_time": "2022-01-22T13:37:30.533Z"
   },
   {
    "duration": 35,
    "start_time": "2022-01-22T13:37:30.544Z"
   },
   {
    "duration": 1055,
    "start_time": "2022-01-22T13:55:56.317Z"
   },
   {
    "duration": 377,
    "start_time": "2022-01-22T13:55:57.373Z"
   },
   {
    "duration": 26,
    "start_time": "2022-01-22T13:55:57.752Z"
   },
   {
    "duration": 21,
    "start_time": "2022-01-22T13:55:57.779Z"
   },
   {
    "duration": 27,
    "start_time": "2022-01-22T13:55:57.802Z"
   },
   {
    "duration": 11,
    "start_time": "2022-01-22T13:55:57.831Z"
   },
   {
    "duration": 33,
    "start_time": "2022-01-22T13:55:57.844Z"
   },
   {
    "duration": 62,
    "start_time": "2022-01-22T13:55:57.879Z"
   },
   {
    "duration": 287,
    "start_time": "2022-01-22T13:55:57.944Z"
   },
   {
    "duration": 9,
    "start_time": "2022-01-22T13:55:58.233Z"
   },
   {
    "duration": 8,
    "start_time": "2022-01-22T13:55:58.243Z"
   },
   {
    "duration": 36,
    "start_time": "2022-01-22T13:55:58.252Z"
   },
   {
    "duration": 52,
    "start_time": "2022-01-22T13:55:58.289Z"
   },
   {
    "duration": 7,
    "start_time": "2022-01-22T13:55:58.342Z"
   },
   {
    "duration": 21,
    "start_time": "2022-01-22T13:55:58.351Z"
   },
   {
    "duration": 6,
    "start_time": "2022-01-22T13:55:58.373Z"
   },
   {
    "duration": 46,
    "start_time": "2022-01-22T13:55:58.381Z"
   },
   {
    "duration": 67,
    "start_time": "2022-01-22T13:55:58.428Z"
   },
   {
    "duration": 20,
    "start_time": "2022-01-22T13:55:58.497Z"
   },
   {
    "duration": 8,
    "start_time": "2022-01-22T13:55:58.519Z"
   },
   {
    "duration": 5,
    "start_time": "2022-01-22T13:55:58.529Z"
   },
   {
    "duration": 145,
    "start_time": "2022-01-22T13:55:58.536Z"
   },
   {
    "duration": 271,
    "start_time": "2022-01-22T13:55:58.683Z"
   },
   {
    "duration": 281,
    "start_time": "2022-01-22T13:55:58.956Z"
   },
   {
    "duration": 10,
    "start_time": "2022-01-22T13:55:59.239Z"
   },
   {
    "duration": 5,
    "start_time": "2022-01-22T13:55:59.251Z"
   },
   {
    "duration": 3,
    "start_time": "2022-01-22T13:55:59.274Z"
   },
   {
    "duration": 7,
    "start_time": "2022-01-22T13:55:59.279Z"
   },
   {
    "duration": 8,
    "start_time": "2022-01-22T13:55:59.288Z"
   },
   {
    "duration": 402,
    "start_time": "2022-01-22T13:55:59.297Z"
   },
   {
    "duration": 5,
    "start_time": "2022-01-22T13:55:59.701Z"
   },
   {
    "duration": 7,
    "start_time": "2022-01-22T13:55:59.707Z"
   },
   {
    "duration": 8,
    "start_time": "2022-01-22T13:55:59.716Z"
   },
   {
    "duration": 358,
    "start_time": "2022-01-22T13:55:59.725Z"
   },
   {
    "duration": 7,
    "start_time": "2022-01-22T13:56:00.084Z"
   },
   {
    "duration": 9,
    "start_time": "2022-01-22T13:56:00.093Z"
   },
   {
    "duration": 8,
    "start_time": "2022-01-22T13:56:00.104Z"
   },
   {
    "duration": 358,
    "start_time": "2022-01-22T13:56:00.114Z"
   },
   {
    "duration": 6,
    "start_time": "2022-01-22T13:56:00.474Z"
   },
   {
    "duration": 5,
    "start_time": "2022-01-22T13:56:00.481Z"
   },
   {
    "duration": 6,
    "start_time": "2022-01-22T13:56:00.487Z"
   },
   {
    "duration": 7,
    "start_time": "2022-01-22T13:56:00.494Z"
   },
   {
    "duration": 25,
    "start_time": "2022-01-22T13:56:00.502Z"
   },
   {
    "duration": 9,
    "start_time": "2022-01-22T13:56:00.529Z"
   },
   {
    "duration": 10,
    "start_time": "2022-01-22T13:56:00.572Z"
   },
   {
    "duration": 1144,
    "start_time": "2022-01-22T13:57:00.839Z"
   },
   {
    "duration": 391,
    "start_time": "2022-01-22T13:57:01.985Z"
   },
   {
    "duration": 34,
    "start_time": "2022-01-22T13:57:02.378Z"
   },
   {
    "duration": 22,
    "start_time": "2022-01-22T13:57:02.414Z"
   },
   {
    "duration": 38,
    "start_time": "2022-01-22T13:57:02.438Z"
   },
   {
    "duration": 10,
    "start_time": "2022-01-22T13:57:02.477Z"
   },
   {
    "duration": 16,
    "start_time": "2022-01-22T13:57:02.489Z"
   },
   {
    "duration": 116,
    "start_time": "2022-01-22T13:57:02.511Z"
   },
   {
    "duration": 374,
    "start_time": "2022-01-22T13:57:02.630Z"
   },
   {
    "duration": 12,
    "start_time": "2022-01-22T13:57:03.006Z"
   },
   {
    "duration": 11,
    "start_time": "2022-01-22T13:57:03.020Z"
   },
   {
    "duration": 53,
    "start_time": "2022-01-22T13:57:03.032Z"
   },
   {
    "duration": 59,
    "start_time": "2022-01-22T13:57:03.087Z"
   },
   {
    "duration": 7,
    "start_time": "2022-01-22T13:57:03.148Z"
   },
   {
    "duration": 3,
    "start_time": "2022-01-22T13:57:03.172Z"
   },
   {
    "duration": 7,
    "start_time": "2022-01-22T13:57:03.177Z"
   },
   {
    "duration": 48,
    "start_time": "2022-01-22T13:57:03.185Z"
   },
   {
    "duration": 72,
    "start_time": "2022-01-22T13:57:03.234Z"
   },
   {
    "duration": 24,
    "start_time": "2022-01-22T13:57:03.307Z"
   },
   {
    "duration": 16,
    "start_time": "2022-01-22T13:57:03.333Z"
   },
   {
    "duration": 3,
    "start_time": "2022-01-22T13:57:03.350Z"
   },
   {
    "duration": 139,
    "start_time": "2022-01-22T13:57:03.355Z"
   },
   {
    "duration": 284,
    "start_time": "2022-01-22T13:57:03.497Z"
   },
   {
    "duration": 320,
    "start_time": "2022-01-22T13:57:03.784Z"
   },
   {
    "duration": 8,
    "start_time": "2022-01-22T13:57:04.106Z"
   },
   {
    "duration": 7,
    "start_time": "2022-01-22T13:57:04.116Z"
   },
   {
    "duration": 4,
    "start_time": "2022-01-22T13:57:04.124Z"
   },
   {
    "duration": 8,
    "start_time": "2022-01-22T13:57:04.130Z"
   },
   {
    "duration": 36,
    "start_time": "2022-01-22T13:57:04.140Z"
   },
   {
    "duration": 395,
    "start_time": "2022-01-22T13:57:04.178Z"
   },
   {
    "duration": 6,
    "start_time": "2022-01-22T13:57:04.575Z"
   },
   {
    "duration": 7,
    "start_time": "2022-01-22T13:57:04.583Z"
   },
   {
    "duration": 7,
    "start_time": "2022-01-22T13:57:04.592Z"
   },
   {
    "duration": 506,
    "start_time": "2022-01-22T13:57:04.600Z"
   },
   {
    "duration": 6,
    "start_time": "2022-01-22T13:57:05.108Z"
   },
   {
    "duration": 11,
    "start_time": "2022-01-22T13:57:05.116Z"
   },
   {
    "duration": 10,
    "start_time": "2022-01-22T13:57:05.128Z"
   },
   {
    "duration": 368,
    "start_time": "2022-01-22T13:57:05.140Z"
   },
   {
    "duration": 5,
    "start_time": "2022-01-22T13:57:05.510Z"
   },
   {
    "duration": 4,
    "start_time": "2022-01-22T13:57:05.517Z"
   },
   {
    "duration": 6,
    "start_time": "2022-01-22T13:57:05.523Z"
   },
   {
    "duration": 9,
    "start_time": "2022-01-22T13:57:05.531Z"
   },
   {
    "duration": 49,
    "start_time": "2022-01-22T13:57:05.541Z"
   },
   {
    "duration": 10,
    "start_time": "2022-01-22T13:57:05.592Z"
   },
   {
    "duration": 9,
    "start_time": "2022-01-22T13:57:05.604Z"
   },
   {
    "duration": 1652,
    "start_time": "2022-01-22T20:00:27.530Z"
   },
   {
    "duration": 562,
    "start_time": "2022-01-22T20:00:29.185Z"
   },
   {
    "duration": 49,
    "start_time": "2022-01-22T20:00:29.750Z"
   },
   {
    "duration": 32,
    "start_time": "2022-01-22T20:00:29.802Z"
   },
   {
    "duration": 58,
    "start_time": "2022-01-22T20:00:29.837Z"
   },
   {
    "duration": 17,
    "start_time": "2022-01-22T20:00:29.898Z"
   },
   {
    "duration": 61,
    "start_time": "2022-01-22T20:00:29.917Z"
   },
   {
    "duration": 136,
    "start_time": "2022-01-22T20:00:29.985Z"
   },
   {
    "duration": 495,
    "start_time": "2022-01-22T20:00:30.125Z"
   },
   {
    "duration": 17,
    "start_time": "2022-01-22T20:00:30.623Z"
   },
   {
    "duration": 41,
    "start_time": "2022-01-22T20:00:30.643Z"
   },
   {
    "duration": 48,
    "start_time": "2022-01-22T20:00:30.686Z"
   },
   {
    "duration": 110,
    "start_time": "2022-01-22T20:00:30.736Z"
   },
   {
    "duration": 11,
    "start_time": "2022-01-22T20:00:30.848Z"
   },
   {
    "duration": 28,
    "start_time": "2022-01-22T20:00:30.862Z"
   },
   {
    "duration": 22,
    "start_time": "2022-01-22T20:00:30.893Z"
   },
   {
    "duration": 108,
    "start_time": "2022-01-22T20:00:30.918Z"
   },
   {
    "duration": 93,
    "start_time": "2022-01-22T20:00:31.029Z"
   },
   {
    "duration": 35,
    "start_time": "2022-01-22T20:00:31.125Z"
   },
   {
    "duration": 29,
    "start_time": "2022-01-22T20:00:31.163Z"
   },
   {
    "duration": 7,
    "start_time": "2022-01-22T20:00:31.195Z"
   },
   {
    "duration": 315,
    "start_time": "2022-01-22T20:00:31.204Z"
   },
   {
    "duration": 537,
    "start_time": "2022-01-22T20:00:31.528Z"
   },
   {
    "duration": 557,
    "start_time": "2022-01-22T20:00:32.071Z"
   },
   {
    "duration": 11,
    "start_time": "2022-01-22T20:00:32.631Z"
   },
   {
    "duration": 31,
    "start_time": "2022-01-22T20:00:32.645Z"
   },
   {
    "duration": 8,
    "start_time": "2022-01-22T20:00:32.679Z"
   },
   {
    "duration": 14,
    "start_time": "2022-01-22T20:00:32.690Z"
   },
   {
    "duration": 11,
    "start_time": "2022-01-22T20:00:32.706Z"
   },
   {
    "duration": 766,
    "start_time": "2022-01-22T20:00:32.720Z"
   },
   {
    "duration": 10,
    "start_time": "2022-01-22T20:00:33.490Z"
   },
   {
    "duration": 15,
    "start_time": "2022-01-22T20:00:33.503Z"
   },
   {
    "duration": 11,
    "start_time": "2022-01-22T20:00:33.522Z"
   },
   {
    "duration": 700,
    "start_time": "2022-01-22T20:00:33.536Z"
   },
   {
    "duration": 9,
    "start_time": "2022-01-22T20:00:34.238Z"
   },
   {
    "duration": 29,
    "start_time": "2022-01-22T20:00:34.249Z"
   },
   {
    "duration": 21,
    "start_time": "2022-01-22T20:00:34.280Z"
   },
   {
    "duration": 678,
    "start_time": "2022-01-22T20:00:34.304Z"
   },
   {
    "duration": 12,
    "start_time": "2022-01-22T20:00:34.986Z"
   },
   {
    "duration": 6,
    "start_time": "2022-01-22T20:00:35.002Z"
   },
   {
    "duration": 7,
    "start_time": "2022-01-22T20:00:35.011Z"
   },
   {
    "duration": 56,
    "start_time": "2022-01-22T20:00:35.021Z"
   },
   {
    "duration": 44,
    "start_time": "2022-01-22T20:00:35.081Z"
   },
   {
    "duration": 56,
    "start_time": "2022-01-22T20:00:35.128Z"
   },
   {
    "duration": 23,
    "start_time": "2022-01-22T20:00:35.188Z"
   },
   {
    "duration": 9,
    "start_time": "2022-01-22T20:16:45.782Z"
   }
  ],
  "kernelspec": {
   "display_name": "Python 3 (ipykernel)",
   "language": "python",
   "name": "python3"
  },
  "language_info": {
   "codemirror_mode": {
    "name": "ipython",
    "version": 3
   },
   "file_extension": ".py",
   "mimetype": "text/x-python",
   "name": "python",
   "nbconvert_exporter": "python",
   "pygments_lexer": "ipython3",
   "version": "3.8.10"
  },
  "toc": {
   "base_numbering": 1,
   "nav_menu": {},
   "number_sections": true,
   "sideBar": true,
   "skip_h1_title": true,
   "title_cell": "Table of Contents",
   "title_sidebar": "Contents",
   "toc_cell": false,
   "toc_position": {},
   "toc_section_display": true,
   "toc_window_display": false
  }
 },
 "nbformat": 4,
 "nbformat_minor": 2
}
