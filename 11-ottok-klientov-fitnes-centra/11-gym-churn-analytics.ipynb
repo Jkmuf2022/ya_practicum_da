{
 "cells": [
  {
   "cell_type": "markdown",
   "metadata": {},
   "source": [
    "# Прогнозирование оттока клиентов для сети фитнес-центров"
   ]
  },
  {
   "cell_type": "markdown",
   "metadata": {},
   "source": [
    " Для прогнозирования и предупреждения оттока посетителей сети фитнес-центров формулируем задачи проекта:  \n",
    " \n",
    "- сформировать типичные портреты клиентов: выявить свойста наиболее  ярких групп посетителей;  \n",
    "- выявить основные признаки, влияющие на отток;  \n",
    "- сформулировать основные выводы и разработать рекомендации по повышению качества работы с клиентами: \n",
    "\n",
    "1) выделить целевые группы клиентов;  \n",
    "2) сформулировать меры по снижению оттока;  \n",
    "3) определить другие особенности взаимодействия с клиентами."
   ]
  },
  {
   "cell_type": "markdown",
   "metadata": {},
   "source": [
    "**Данные таблицы содержат следующие признаки:**\n",
    "\n",
    "'gender' — пол;    \n",
    "'Near_Location' — дальность проживания или работы клиентов, отноительно фитнес-центра;  \n",
    "'Partner' — сотрудник компании-партнёра клуба (со скидкой на абонемент);  \n",
    "Promo_friends — использование промо-код от знакомого при оплате первого абонемента;  \n",
    "'Phone' — наличие номера телефона;  \n",
    "'Age' — возраст;  \n",
    "'Lifetime' — время с момента первого обращения в фитнес-центр (в месяцах)\n",
    "\n",
    "\n",
    "**Информация на основе журнала посещений, покупок и информация о текущем статусе абонемента клиента:** \n",
    "\n",
    "'Contract_period' — длительность текущего действующего абонемента (месяц, 6 месяцев, год);  \n",
    "'Month_to_end_contract' — срок до окончания  абонемента (в месяцах);  \n",
    "'Group_visits' — факт посещения групповых занятий;  \n",
    "'Avg_class_frequency_total' — средняя частота посещений в неделю с начала действия абонемента;  \n",
    "'Avg_class_frequency_current_month' — средняя частота посещений в неделю за предыдущий месяц;  \n",
    "'Avg_additional_charges_total' — суммарная выручка от дополнительных услуг фитнес-центра: кафе, спорттовары, косметический и массажный салон.  \n",
    "'Churn' — факт оттока в текущем месяце."
   ]
  },
  {
   "cell_type": "markdown",
   "metadata": {},
   "source": [
    "# Предобработка и обзор данных"
   ]
  },
  {
   "cell_type": "code",
   "execution_count": 1,
   "metadata": {},
   "outputs": [],
   "source": [
    "import pandas as pd\n",
    "import seaborn as sns\n",
    "sns.set(style=\"darkgrid\")\n",
    "import matplotlib.pyplot as plt"
   ]
  },
  {
   "cell_type": "code",
   "execution_count": 2,
   "metadata": {},
   "outputs": [],
   "source": [
    "from sklearn.model_selection import train_test_split\n",
    "from sklearn.preprocessing import StandardScaler\n",
    "\n",
    "# модели\n",
    "from sklearn.linear_model import LogisticRegression\n",
    "from sklearn.ensemble import RandomForestClassifier\n",
    "# кластеризация\n",
    "from sklearn.cluster import KMeans\n",
    "from scipy.cluster.hierarchy import dendrogram, linkage\n",
    "# метрики\n",
    "from sklearn.metrics import accuracy_score, precision_score, recall_score\n",
    "\n",
    "import warnings\n",
    "warnings.filterwarnings('ignore')\n",
    "\n",
    "pd.options.display.float_format = '{:,.2f}'.format"
   ]
  },
  {
   "cell_type": "code",
   "execution_count": 3,
   "metadata": {},
   "outputs": [],
   "source": [
    "gym_df= pd.read_csv('/datasets/gym_churn.csv')"
   ]
  },
  {
   "cell_type": "code",
   "execution_count": 4,
   "metadata": {},
   "outputs": [
    {
     "data": {
      "text/html": [
       "<div>\n",
       "<style scoped>\n",
       "    .dataframe tbody tr th:only-of-type {\n",
       "        vertical-align: middle;\n",
       "    }\n",
       "\n",
       "    .dataframe tbody tr th {\n",
       "        vertical-align: top;\n",
       "    }\n",
       "\n",
       "    .dataframe thead th {\n",
       "        text-align: right;\n",
       "    }\n",
       "</style>\n",
       "<table border=\"1\" class=\"dataframe\">\n",
       "  <thead>\n",
       "    <tr style=\"text-align: right;\">\n",
       "      <th></th>\n",
       "      <th>gender</th>\n",
       "      <th>Near_Location</th>\n",
       "      <th>Partner</th>\n",
       "      <th>Promo_friends</th>\n",
       "      <th>Phone</th>\n",
       "      <th>Contract_period</th>\n",
       "      <th>Group_visits</th>\n",
       "      <th>Age</th>\n",
       "      <th>Avg_additional_charges_total</th>\n",
       "      <th>Month_to_end_contract</th>\n",
       "      <th>Lifetime</th>\n",
       "      <th>Avg_class_frequency_total</th>\n",
       "      <th>Avg_class_frequency_current_month</th>\n",
       "      <th>Churn</th>\n",
       "    </tr>\n",
       "  </thead>\n",
       "  <tbody>\n",
       "    <tr>\n",
       "      <th>0</th>\n",
       "      <td>1</td>\n",
       "      <td>1</td>\n",
       "      <td>1</td>\n",
       "      <td>1</td>\n",
       "      <td>0</td>\n",
       "      <td>6</td>\n",
       "      <td>1</td>\n",
       "      <td>29</td>\n",
       "      <td>14.23</td>\n",
       "      <td>5.00</td>\n",
       "      <td>3</td>\n",
       "      <td>0.02</td>\n",
       "      <td>0.00</td>\n",
       "      <td>0</td>\n",
       "    </tr>\n",
       "    <tr>\n",
       "      <th>1</th>\n",
       "      <td>0</td>\n",
       "      <td>1</td>\n",
       "      <td>0</td>\n",
       "      <td>0</td>\n",
       "      <td>1</td>\n",
       "      <td>12</td>\n",
       "      <td>1</td>\n",
       "      <td>31</td>\n",
       "      <td>113.20</td>\n",
       "      <td>12.00</td>\n",
       "      <td>7</td>\n",
       "      <td>1.92</td>\n",
       "      <td>1.91</td>\n",
       "      <td>0</td>\n",
       "    </tr>\n",
       "    <tr>\n",
       "      <th>2</th>\n",
       "      <td>0</td>\n",
       "      <td>1</td>\n",
       "      <td>1</td>\n",
       "      <td>0</td>\n",
       "      <td>1</td>\n",
       "      <td>1</td>\n",
       "      <td>0</td>\n",
       "      <td>28</td>\n",
       "      <td>129.45</td>\n",
       "      <td>1.00</td>\n",
       "      <td>2</td>\n",
       "      <td>1.86</td>\n",
       "      <td>1.74</td>\n",
       "      <td>0</td>\n",
       "    </tr>\n",
       "    <tr>\n",
       "      <th>3</th>\n",
       "      <td>0</td>\n",
       "      <td>1</td>\n",
       "      <td>1</td>\n",
       "      <td>1</td>\n",
       "      <td>1</td>\n",
       "      <td>12</td>\n",
       "      <td>1</td>\n",
       "      <td>33</td>\n",
       "      <td>62.67</td>\n",
       "      <td>12.00</td>\n",
       "      <td>2</td>\n",
       "      <td>3.21</td>\n",
       "      <td>3.36</td>\n",
       "      <td>0</td>\n",
       "    </tr>\n",
       "    <tr>\n",
       "      <th>4</th>\n",
       "      <td>1</td>\n",
       "      <td>1</td>\n",
       "      <td>1</td>\n",
       "      <td>1</td>\n",
       "      <td>1</td>\n",
       "      <td>1</td>\n",
       "      <td>0</td>\n",
       "      <td>26</td>\n",
       "      <td>198.36</td>\n",
       "      <td>1.00</td>\n",
       "      <td>3</td>\n",
       "      <td>1.11</td>\n",
       "      <td>1.12</td>\n",
       "      <td>0</td>\n",
       "    </tr>\n",
       "  </tbody>\n",
       "</table>\n",
       "</div>"
      ],
      "text/plain": [
       "   gender  Near_Location  Partner  Promo_friends  Phone  Contract_period  \\\n",
       "0       1              1        1              1      0                6   \n",
       "1       0              1        0              0      1               12   \n",
       "2       0              1        1              0      1                1   \n",
       "3       0              1        1              1      1               12   \n",
       "4       1              1        1              1      1                1   \n",
       "\n",
       "   Group_visits  Age  Avg_additional_charges_total  Month_to_end_contract  \\\n",
       "0             1   29                         14.23                   5.00   \n",
       "1             1   31                        113.20                  12.00   \n",
       "2             0   28                        129.45                   1.00   \n",
       "3             1   33                         62.67                  12.00   \n",
       "4             0   26                        198.36                   1.00   \n",
       "\n",
       "   Lifetime  Avg_class_frequency_total  Avg_class_frequency_current_month  \\\n",
       "0         3                       0.02                               0.00   \n",
       "1         7                       1.92                               1.91   \n",
       "2         2                       1.86                               1.74   \n",
       "3         2                       3.21                               3.36   \n",
       "4         3                       1.11                               1.12   \n",
       "\n",
       "   Churn  \n",
       "0      0  \n",
       "1      0  \n",
       "2      0  \n",
       "3      0  \n",
       "4      0  "
      ]
     },
     "metadata": {},
     "output_type": "display_data"
    },
    {
     "name": "stdout",
     "output_type": "stream",
     "text": [
      "*********************************************\n",
      "<class 'pandas.core.frame.DataFrame'>\n",
      "RangeIndex: 4000 entries, 0 to 3999\n",
      "Data columns (total 14 columns):\n",
      " #   Column                             Non-Null Count  Dtype  \n",
      "---  ------                             --------------  -----  \n",
      " 0   gender                             4000 non-null   int64  \n",
      " 1   near_location                      4000 non-null   int64  \n",
      " 2   partner                            4000 non-null   int64  \n",
      " 3   promo_friends                      4000 non-null   int64  \n",
      " 4   phone                              4000 non-null   int64  \n",
      " 5   contract_period                    4000 non-null   int64  \n",
      " 6   group_visits                       4000 non-null   int64  \n",
      " 7   age                                4000 non-null   int64  \n",
      " 8   avg_additional_charges_total       4000 non-null   float64\n",
      " 9   month_to_end_contract              4000 non-null   float64\n",
      " 10  lifetime                           4000 non-null   int64  \n",
      " 11  avg_class_frequency_total          4000 non-null   float64\n",
      " 12  avg_class_frequency_current_month  4000 non-null   float64\n",
      " 13  churn                              4000 non-null   int64  \n",
      "dtypes: float64(4), int64(10)\n",
      "memory usage: 437.6 KB\n",
      "*********************************************\n",
      "Количество дубликатов: 0\n",
      "*********************************************\n",
      "Количество пропусков:\n"
     ]
    },
    {
     "data": {
      "text/plain": [
       "gender                               0\n",
       "near_location                        0\n",
       "partner                              0\n",
       "promo_friends                        0\n",
       "phone                                0\n",
       "contract_period                      0\n",
       "group_visits                         0\n",
       "age                                  0\n",
       "avg_additional_charges_total         0\n",
       "month_to_end_contract                0\n",
       "lifetime                             0\n",
       "avg_class_frequency_total            0\n",
       "avg_class_frequency_current_month    0\n",
       "churn                                0\n",
       "dtype: int64"
      ]
     },
     "metadata": {},
     "output_type": "display_data"
    }
   ],
   "source": [
    "def function(gym_df):\n",
    "    display(gym_df.head())\n",
    "    print('*'*45)\n",
    "    gym_df.columns = [x.lower() for x in gym_df.columns.values]\n",
    "    gym_df.info()\n",
    "    print('*'*45)\n",
    "    print('Количество дубликатов:', gym_df.duplicated().sum())\n",
    "    print('*'*45)\n",
    "    print('Количество пропусков:')\n",
    "    display(gym_df.isna().sum())\n",
    "           \n",
    "function(gym_df)"
   ]
  },
  {
   "cell_type": "markdown",
   "metadata": {},
   "source": [
    "Пропусков и дубликатов не обнаружено, единственное изменение- привели заголовки столбцов к нижнему регистру."
   ]
  },
  {
   "cell_type": "markdown",
   "metadata": {},
   "source": [
    "## Исследовательский анализ данных (EDA)"
   ]
  },
  {
   "cell_type": "code",
   "execution_count": 5,
   "metadata": {
    "scrolled": true
   },
   "outputs": [
    {
     "data": {
      "text/html": [
       "<div>\n",
       "<style scoped>\n",
       "    .dataframe tbody tr th:only-of-type {\n",
       "        vertical-align: middle;\n",
       "    }\n",
       "\n",
       "    .dataframe tbody tr th {\n",
       "        vertical-align: top;\n",
       "    }\n",
       "\n",
       "    .dataframe thead th {\n",
       "        text-align: right;\n",
       "    }\n",
       "</style>\n",
       "<table border=\"1\" class=\"dataframe\">\n",
       "  <thead>\n",
       "    <tr style=\"text-align: right;\">\n",
       "      <th></th>\n",
       "      <th>gender</th>\n",
       "      <th>near_location</th>\n",
       "      <th>partner</th>\n",
       "      <th>promo_friends</th>\n",
       "      <th>phone</th>\n",
       "      <th>contract_period</th>\n",
       "      <th>group_visits</th>\n",
       "      <th>age</th>\n",
       "      <th>avg_additional_charges_total</th>\n",
       "      <th>month_to_end_contract</th>\n",
       "      <th>lifetime</th>\n",
       "      <th>avg_class_frequency_total</th>\n",
       "      <th>avg_class_frequency_current_month</th>\n",
       "      <th>churn</th>\n",
       "    </tr>\n",
       "  </thead>\n",
       "  <tbody>\n",
       "    <tr>\n",
       "      <th>count</th>\n",
       "      <td>4,000.00</td>\n",
       "      <td>4,000.00</td>\n",
       "      <td>4,000.00</td>\n",
       "      <td>4,000.00</td>\n",
       "      <td>4,000.00</td>\n",
       "      <td>4,000.00</td>\n",
       "      <td>4,000.00</td>\n",
       "      <td>4,000.00</td>\n",
       "      <td>4,000.00</td>\n",
       "      <td>4,000.00</td>\n",
       "      <td>4,000.00</td>\n",
       "      <td>4,000.00</td>\n",
       "      <td>4,000.00</td>\n",
       "      <td>4,000.00</td>\n",
       "    </tr>\n",
       "    <tr>\n",
       "      <th>mean</th>\n",
       "      <td>0.51</td>\n",
       "      <td>0.85</td>\n",
       "      <td>0.49</td>\n",
       "      <td>0.31</td>\n",
       "      <td>0.90</td>\n",
       "      <td>4.68</td>\n",
       "      <td>0.41</td>\n",
       "      <td>29.18</td>\n",
       "      <td>146.94</td>\n",
       "      <td>4.32</td>\n",
       "      <td>3.72</td>\n",
       "      <td>1.88</td>\n",
       "      <td>1.77</td>\n",
       "      <td>0.27</td>\n",
       "    </tr>\n",
       "    <tr>\n",
       "      <th>std</th>\n",
       "      <td>0.50</td>\n",
       "      <td>0.36</td>\n",
       "      <td>0.50</td>\n",
       "      <td>0.46</td>\n",
       "      <td>0.30</td>\n",
       "      <td>4.55</td>\n",
       "      <td>0.49</td>\n",
       "      <td>3.26</td>\n",
       "      <td>96.36</td>\n",
       "      <td>4.19</td>\n",
       "      <td>3.75</td>\n",
       "      <td>0.97</td>\n",
       "      <td>1.05</td>\n",
       "      <td>0.44</td>\n",
       "    </tr>\n",
       "    <tr>\n",
       "      <th>min</th>\n",
       "      <td>0.00</td>\n",
       "      <td>0.00</td>\n",
       "      <td>0.00</td>\n",
       "      <td>0.00</td>\n",
       "      <td>0.00</td>\n",
       "      <td>1.00</td>\n",
       "      <td>0.00</td>\n",
       "      <td>18.00</td>\n",
       "      <td>0.15</td>\n",
       "      <td>1.00</td>\n",
       "      <td>0.00</td>\n",
       "      <td>0.00</td>\n",
       "      <td>0.00</td>\n",
       "      <td>0.00</td>\n",
       "    </tr>\n",
       "    <tr>\n",
       "      <th>25%</th>\n",
       "      <td>0.00</td>\n",
       "      <td>1.00</td>\n",
       "      <td>0.00</td>\n",
       "      <td>0.00</td>\n",
       "      <td>1.00</td>\n",
       "      <td>1.00</td>\n",
       "      <td>0.00</td>\n",
       "      <td>27.00</td>\n",
       "      <td>68.87</td>\n",
       "      <td>1.00</td>\n",
       "      <td>1.00</td>\n",
       "      <td>1.18</td>\n",
       "      <td>0.96</td>\n",
       "      <td>0.00</td>\n",
       "    </tr>\n",
       "    <tr>\n",
       "      <th>50%</th>\n",
       "      <td>1.00</td>\n",
       "      <td>1.00</td>\n",
       "      <td>0.00</td>\n",
       "      <td>0.00</td>\n",
       "      <td>1.00</td>\n",
       "      <td>1.00</td>\n",
       "      <td>0.00</td>\n",
       "      <td>29.00</td>\n",
       "      <td>136.22</td>\n",
       "      <td>1.00</td>\n",
       "      <td>3.00</td>\n",
       "      <td>1.83</td>\n",
       "      <td>1.72</td>\n",
       "      <td>0.00</td>\n",
       "    </tr>\n",
       "    <tr>\n",
       "      <th>75%</th>\n",
       "      <td>1.00</td>\n",
       "      <td>1.00</td>\n",
       "      <td>1.00</td>\n",
       "      <td>1.00</td>\n",
       "      <td>1.00</td>\n",
       "      <td>6.00</td>\n",
       "      <td>1.00</td>\n",
       "      <td>31.00</td>\n",
       "      <td>210.95</td>\n",
       "      <td>6.00</td>\n",
       "      <td>5.00</td>\n",
       "      <td>2.54</td>\n",
       "      <td>2.51</td>\n",
       "      <td>1.00</td>\n",
       "    </tr>\n",
       "    <tr>\n",
       "      <th>max</th>\n",
       "      <td>1.00</td>\n",
       "      <td>1.00</td>\n",
       "      <td>1.00</td>\n",
       "      <td>1.00</td>\n",
       "      <td>1.00</td>\n",
       "      <td>12.00</td>\n",
       "      <td>1.00</td>\n",
       "      <td>41.00</td>\n",
       "      <td>552.59</td>\n",
       "      <td>12.00</td>\n",
       "      <td>31.00</td>\n",
       "      <td>6.02</td>\n",
       "      <td>6.15</td>\n",
       "      <td>1.00</td>\n",
       "    </tr>\n",
       "  </tbody>\n",
       "</table>\n",
       "</div>"
      ],
      "text/plain": [
       "        gender  near_location  partner  promo_friends    phone  \\\n",
       "count 4,000.00       4,000.00 4,000.00       4,000.00 4,000.00   \n",
       "mean      0.51           0.85     0.49           0.31     0.90   \n",
       "std       0.50           0.36     0.50           0.46     0.30   \n",
       "min       0.00           0.00     0.00           0.00     0.00   \n",
       "25%       0.00           1.00     0.00           0.00     1.00   \n",
       "50%       1.00           1.00     0.00           0.00     1.00   \n",
       "75%       1.00           1.00     1.00           1.00     1.00   \n",
       "max       1.00           1.00     1.00           1.00     1.00   \n",
       "\n",
       "       contract_period  group_visits      age  avg_additional_charges_total  \\\n",
       "count         4,000.00      4,000.00 4,000.00                      4,000.00   \n",
       "mean              4.68          0.41    29.18                        146.94   \n",
       "std               4.55          0.49     3.26                         96.36   \n",
       "min               1.00          0.00    18.00                          0.15   \n",
       "25%               1.00          0.00    27.00                         68.87   \n",
       "50%               1.00          0.00    29.00                        136.22   \n",
       "75%               6.00          1.00    31.00                        210.95   \n",
       "max              12.00          1.00    41.00                        552.59   \n",
       "\n",
       "       month_to_end_contract  lifetime  avg_class_frequency_total  \\\n",
       "count               4,000.00  4,000.00                   4,000.00   \n",
       "mean                    4.32      3.72                       1.88   \n",
       "std                     4.19      3.75                       0.97   \n",
       "min                     1.00      0.00                       0.00   \n",
       "25%                     1.00      1.00                       1.18   \n",
       "50%                     1.00      3.00                       1.83   \n",
       "75%                     6.00      5.00                       2.54   \n",
       "max                    12.00     31.00                       6.02   \n",
       "\n",
       "       avg_class_frequency_current_month    churn  \n",
       "count                           4,000.00 4,000.00  \n",
       "mean                                1.77     0.27  \n",
       "std                                 1.05     0.44  \n",
       "min                                 0.00     0.00  \n",
       "25%                                 0.96     0.00  \n",
       "50%                                 1.72     0.00  \n",
       "75%                                 2.51     1.00  \n",
       "max                                 6.15     1.00  "
      ]
     },
     "metadata": {},
     "output_type": "display_data"
    }
   ],
   "source": [
    " display(gym_df.describe())"
   ]
  },
  {
   "cell_type": "markdown",
   "metadata": {},
   "source": [
    "Отдельно взглянем на распределение по времени действия абонементов:"
   ]
  },
  {
   "cell_type": "code",
   "execution_count": 6,
   "metadata": {
    "scrolled": true
   },
   "outputs": [
    {
     "data": {
      "text/plain": [
       "1    0.55\n",
       "12   0.24\n",
       "6    0.21\n",
       "Name: contract_period, dtype: float64"
      ]
     },
     "execution_count": 6,
     "metadata": {},
     "output_type": "execute_result"
    }
   ],
   "source": [
    "gym_df['contract_period'].value_counts(normalize = True)"
   ]
  },
  {
   "cell_type": "markdown",
   "metadata": {},
   "source": [
    "## Cредние значения признаков в двух группах — тех, кто ушел в отток и тех, кто остался (groupby() метод):"
   ]
  },
  {
   "cell_type": "markdown",
   "metadata": {},
   "source": [
    "Посмотрим на цифру оттока посетителей в целом:"
   ]
  },
  {
   "cell_type": "code",
   "execution_count": 7,
   "metadata": {},
   "outputs": [
    {
     "data": {
      "text/plain": [
       "churn\n",
       "0    2939\n",
       "1    1061\n",
       "Name: gender, dtype: int64"
      ]
     },
     "metadata": {},
     "output_type": "display_data"
    }
   ],
   "source": [
    "display(gym_df.groupby('churn')['gender'].agg('count'))"
   ]
  },
  {
   "cell_type": "markdown",
   "metadata": {},
   "source": [
    "Сумма ушедших в отток клиентов 1061 человек, постоянные клиенты - 2939 человек."
   ]
  },
  {
   "cell_type": "code",
   "execution_count": 8,
   "metadata": {
    "scrolled": true
   },
   "outputs": [
    {
     "data": {
      "text/html": [
       "<div>\n",
       "<style scoped>\n",
       "    .dataframe tbody tr th:only-of-type {\n",
       "        vertical-align: middle;\n",
       "    }\n",
       "\n",
       "    .dataframe tbody tr th {\n",
       "        vertical-align: top;\n",
       "    }\n",
       "\n",
       "    .dataframe thead th {\n",
       "        text-align: right;\n",
       "    }\n",
       "</style>\n",
       "<table border=\"1\" class=\"dataframe\">\n",
       "  <thead>\n",
       "    <tr style=\"text-align: right;\">\n",
       "      <th>churn</th>\n",
       "      <th>0</th>\n",
       "      <th>1</th>\n",
       "    </tr>\n",
       "  </thead>\n",
       "  <tbody>\n",
       "    <tr>\n",
       "      <th>gender</th>\n",
       "      <td>0.51</td>\n",
       "      <td>0.51</td>\n",
       "    </tr>\n",
       "    <tr>\n",
       "      <th>near_location</th>\n",
       "      <td>0.87</td>\n",
       "      <td>0.77</td>\n",
       "    </tr>\n",
       "    <tr>\n",
       "      <th>partner</th>\n",
       "      <td>0.53</td>\n",
       "      <td>0.36</td>\n",
       "    </tr>\n",
       "    <tr>\n",
       "      <th>promo_friends</th>\n",
       "      <td>0.35</td>\n",
       "      <td>0.18</td>\n",
       "    </tr>\n",
       "    <tr>\n",
       "      <th>phone</th>\n",
       "      <td>0.90</td>\n",
       "      <td>0.90</td>\n",
       "    </tr>\n",
       "    <tr>\n",
       "      <th>contract_period</th>\n",
       "      <td>5.75</td>\n",
       "      <td>1.73</td>\n",
       "    </tr>\n",
       "    <tr>\n",
       "      <th>group_visits</th>\n",
       "      <td>0.46</td>\n",
       "      <td>0.27</td>\n",
       "    </tr>\n",
       "    <tr>\n",
       "      <th>age</th>\n",
       "      <td>29.98</td>\n",
       "      <td>26.99</td>\n",
       "    </tr>\n",
       "    <tr>\n",
       "      <th>avg_additional_charges_total</th>\n",
       "      <td>158.45</td>\n",
       "      <td>115.08</td>\n",
       "    </tr>\n",
       "    <tr>\n",
       "      <th>month_to_end_contract</th>\n",
       "      <td>5.28</td>\n",
       "      <td>1.66</td>\n",
       "    </tr>\n",
       "    <tr>\n",
       "      <th>lifetime</th>\n",
       "      <td>4.71</td>\n",
       "      <td>0.99</td>\n",
       "    </tr>\n",
       "    <tr>\n",
       "      <th>avg_class_frequency_total</th>\n",
       "      <td>2.02</td>\n",
       "      <td>1.47</td>\n",
       "    </tr>\n",
       "    <tr>\n",
       "      <th>avg_class_frequency_current_month</th>\n",
       "      <td>2.03</td>\n",
       "      <td>1.04</td>\n",
       "    </tr>\n",
       "  </tbody>\n",
       "</table>\n",
       "</div>"
      ],
      "text/plain": [
       "churn                                  0      1\n",
       "gender                              0.51   0.51\n",
       "near_location                       0.87   0.77\n",
       "partner                             0.53   0.36\n",
       "promo_friends                       0.35   0.18\n",
       "phone                               0.90   0.90\n",
       "contract_period                     5.75   1.73\n",
       "group_visits                        0.46   0.27\n",
       "age                                29.98  26.99\n",
       "avg_additional_charges_total      158.45 115.08\n",
       "month_to_end_contract               5.28   1.66\n",
       "lifetime                            4.71   0.99\n",
       "avg_class_frequency_total           2.02   1.47\n",
       "avg_class_frequency_current_month   2.03   1.04"
      ]
     },
     "execution_count": 8,
     "metadata": {},
     "output_type": "execute_result"
    }
   ],
   "source": [
    "churn_group = gym_df.groupby('churn').mean().transpose()\n",
    "churn_group"
   ]
  },
  {
   "cell_type": "markdown",
   "metadata": {},
   "source": [
    "**Признаки клиентов, которые остаются по данным groupby():**\n",
    "\n",
    "- мужчин и женщин в обеих группах поровну;\n",
    "- 76% жили или работали поблизости с  фитнес-центром, а 18% пришли по рекомендации;  \n",
    "- контактный телефон есть у 90% в обеих группах;  \n",
    "- среди тех, кто ушел, только 26% посещали групповые занятие, а среди тех, кто остался, таких 46%;  \n",
    "- у ушедших клиентов контракт на 1-2 месяца, у постоянных- 5-6 месяцев;  \n",
    "- возраст практически одинаковый в обеих группах (27-30 лет);\n",
    "- траты на дополнительные услуги фитнес-центра среди ушедших примерно 115 у.е, а среди оставшихся - 158 у.е.,то есть больше;  \n",
    "- судя по лайфтайму среди ушедших клиентов, который меньше 1 месяца, люди не заинтересовались клубом с первых дней;  - средняя частота посещений в неделю за предыдущий месяц у тех, кто остался, 2 раза в неделю), тогда как у ушедших- 1 раз в неделю.\n",
    "\n",
    "**Портрет постоянного клиента:**  \n",
    "- проживает/работает поблизости\n",
    "- сотрудник партнерских-компаний    \n",
    "- пришел по рекомендации  \n",
    "- более полугода в клубе  \n",
    "- посещает групповые занятия  \n",
    "- возраст 27-30 лет  \n",
    "- допускает траты на доп.услуги  \n",
    "- посещает фитнес от 2-х раз в неделю."
   ]
  },
  {
   "cell_type": "markdown",
   "metadata": {},
   "source": [
    "## Cтолбчатые гистограммы и распределения признаков для тех, кто ушёл и тех, кто остался."
   ]
  },
  {
   "cell_type": "code",
   "execution_count": 9,
   "metadata": {
    "scrolled": true
   },
   "outputs": [
    {
     "data": {
      "image/png": "[encoded data removed]",
      "text/plain": [
       "<Figure size 432x288 with 1 Axes>"
      ]
     },
     "metadata": {},
     "output_type": "display_data"
    },
    {
     "data": {
      "text/plain": [
       "<Figure size 360x360 with 0 Axes>"
      ]
     },
     "metadata": {},
     "output_type": "display_data"
    },
    {
     "data": {
      "image/png": "[encoded data removed]",
      "text/plain": [
       "<Figure size 432x288 with 1 Axes>"
      ]
     },
     "metadata": {},
     "output_type": "display_data"
    },
    {
     "data": {
      "image/png": "[encoded data removed]",
      "text/plain": [
       "<Figure size 432x288 with 1 Axes>"
      ]
     },
     "metadata": {},
     "output_type": "display_data"
    },
    {
     "data": {
      "text/plain": [
       "<Figure size 360x360 with 0 Axes>"
      ]
     },
     "metadata": {},
     "output_type": "display_data"
    },
    {
     "data": {
      "image/png": "[encoded data removed]",
      "text/plain": [
       "<Figure size 432x288 with 1 Axes>"
      ]
     },
     "metadata": {},
     "output_type": "display_data"
    },
    {
     "data": {
      "image/png": "[encoded data removed]",
      "text/plain": [
       "<Figure size 432x288 with 1 Axes>"
      ]
     },
     "metadata": {},
     "output_type": "display_data"
    },
    {
     "data": {
      "text/plain": [
       "<Figure size 360x360 with 0 Axes>"
      ]
     },
     "metadata": {},
     "output_type": "display_data"
    },
    {
     "data": {
      "image/png": "[encoded data removed]",
      "text/plain": [
       "<Figure size 432x288 with 1 Axes>"
      ]
     },
     "metadata": {},
     "output_type": "display_data"
    },
    {
     "data": {
      "image/png": "[encoded data removed]",
      "text/plain": [
       "<Figure size 432x288 with 1 Axes>"
      ]
     },
     "metadata": {},
     "output_type": "display_data"
    },
    {
     "data": {
      "text/plain": [
       "<Figure size 360x360 with 0 Axes>"
      ]
     },
     "metadata": {},
     "output_type": "display_data"
    },
    {
     "data": {
      "image/png": "[encoded data removed]",
      "text/plain": [
       "<Figure size 432x288 with 1 Axes>"
      ]
     },
     "metadata": {},
     "output_type": "display_data"
    },
    {
     "data": {
      "image/png": "[encoded data removed]",
      "text/plain": [
       "<Figure size 432x288 with 1 Axes>"
      ]
     },
     "metadata": {},
     "output_type": "display_data"
    },
    {
     "data": {
      "text/plain": [
       "<Figure size 360x360 with 0 Axes>"
      ]
     },
     "metadata": {},
     "output_type": "display_data"
    },
    {
     "data": {
      "image/png": "[encoded data removed]",
      "text/plain": [
       "<Figure size 432x288 with 1 Axes>"
      ]
     },
     "metadata": {},
     "output_type": "display_data"
    },
    {
     "data": {
      "image/png": "[encoded data removed]",
      "text/plain": [
       "<Figure size 432x288 with 1 Axes>"
      ]
     },
     "metadata": {},
     "output_type": "display_data"
    },
    {
     "data": {
      "text/plain": [
       "<Figure size 360x360 with 0 Axes>"
      ]
     },
     "metadata": {},
     "output_type": "display_data"
    },
    {
     "data": {
      "image/png": "[encoded data removed]",
      "text/plain": [
       "<Figure size 432x288 with 1 Axes>"
      ]
     },
     "metadata": {},
     "output_type": "display_data"
    },
    {
     "data": {
      "image/png": "[encoded data removed]",
      "text/plain": [
       "<Figure size 432x288 with 1 Axes>"
      ]
     },
     "metadata": {},
     "output_type": "display_data"
    },
    {
     "data": {
      "text/plain": [
       "<Figure size 360x360 with 0 Axes>"
      ]
     },
     "metadata": {},
     "output_type": "display_data"
    },
    {
     "data": {
      "image/png": "[encoded data removed]",
      "text/plain": [
       "<Figure size 432x288 with 1 Axes>"
      ]
     },
     "metadata": {},
     "output_type": "display_data"
    },
    {
     "data": {
      "image/png": "[encoded data removed]",
      "text/plain": [
       "<Figure size 432x288 with 1 Axes>"
      ]
     },
     "metadata": {},
     "output_type": "display_data"
    },
    {
     "data": {
      "text/plain": [
       "<Figure size 360x360 with 0 Axes>"
      ]
     },
     "metadata": {},
     "output_type": "display_data"
    },
    {
     "data": {
      "image/png": "[encoded data removed]",
      "text/plain": [
       "<Figure size 432x288 with 1 Axes>"
      ]
     },
     "metadata": {},
     "output_type": "display_data"
    },
    {
     "data": {
      "image/png": "[encoded data removed]",
      "text/plain": [
       "<Figure size 432x288 with 1 Axes>"
      ]
     },
     "metadata": {},
     "output_type": "display_data"
    },
    {
     "data": {
      "text/plain": [
       "<Figure size 360x360 with 0 Axes>"
      ]
     },
     "metadata": {},
     "output_type": "display_data"
    },
    {
     "data": {
      "image/png": "[encoded data removed]",
      "text/plain": [
       "<Figure size 432x288 with 1 Axes>"
      ]
     },
     "metadata": {},
     "output_type": "display_data"
    },
    {
     "data": {
      "image/png": "[encoded data removed]",
      "text/plain": [
       "<Figure size 432x288 with 1 Axes>"
      ]
     },
     "metadata": {},
     "output_type": "display_data"
    },
    {
     "data": {
      "text/plain": [
       "<Figure size 360x360 with 0 Axes>"
      ]
     },
     "metadata": {},
     "output_type": "display_data"
    },
    {
     "data": {
      "image/png": "[encoded data removed]",
      "text/plain": [
       "<Figure size 432x288 with 1 Axes>"
      ]
     },
     "metadata": {},
     "output_type": "display_data"
    },
    {
     "data": {
      "image/png": "[encoded data removed]",
      "text/plain": [
       "<Figure size 432x288 with 1 Axes>"
      ]
     },
     "metadata": {},
     "output_type": "display_data"
    },
    {
     "data": {
      "text/plain": [
       "<Figure size 360x360 with 0 Axes>"
      ]
     },
     "metadata": {},
     "output_type": "display_data"
    },
    {
     "data": {
      "image/png": "[encoded data removed]",
      "text/plain": [
       "<Figure size 432x288 with 1 Axes>"
      ]
     },
     "metadata": {},
     "output_type": "display_data"
    },
    {
     "data": {
      "image/png": "[encoded data removed]",
      "text/plain": [
       "<Figure size 432x288 with 1 Axes>"
      ]
     },
     "metadata": {},
     "output_type": "display_data"
    },
    {
     "data": {
      "text/plain": [
       "<Figure size 360x360 with 0 Axes>"
      ]
     },
     "metadata": {},
     "output_type": "display_data"
    },
    {
     "data": {
      "image/png": "[encoded data removed]",
      "text/plain": [
       "<Figure size 432x288 with 1 Axes>"
      ]
     },
     "metadata": {},
     "output_type": "display_data"
    },
    {
     "data": {
      "image/png": "[encoded data removed]",
      "text/plain": [
       "<Figure size 432x288 with 1 Axes>"
      ]
     },
     "metadata": {},
     "output_type": "display_data"
    },
    {
     "data": {
      "text/plain": [
       "<Figure size 360x360 with 0 Axes>"
      ]
     },
     "metadata": {},
     "output_type": "display_data"
    },
    {
     "data": {
      "image/png": "[encoded data removed]",
      "text/plain": [
       "<Figure size 432x288 with 1 Axes>"
      ]
     },
     "metadata": {},
     "output_type": "display_data"
    },
    {
     "data": {
      "image/png": "[encoded data removed]",
      "text/plain": [
       "<Figure size 432x288 with 1 Axes>"
      ]
     },
     "metadata": {},
     "output_type": "display_data"
    },
    {
     "data": {
      "text/plain": [
       "<Figure size 360x360 with 0 Axes>"
      ]
     },
     "metadata": {},
     "output_type": "display_data"
    },
    {
     "data": {
      "image/png": "[encoded data removed]",
      "text/plain": [
       "<Figure size 432x288 with 1 Axes>"
      ]
     },
     "metadata": {},
     "output_type": "display_data"
    }
   ],
   "source": [
    "for column in gym_df.columns:\n",
    "    fig, ax = plt.subplots()\n",
    "    sns.histplot(gym_df[gym_df['churn'] == 0][column], ax=ax)\n",
    "    sns.histplot(gym_df[gym_df['churn'] == 1][column], ax=ax, color='green')\n",
    "    plt.figure(figsize=(5, 5))\n",
    "    ax.set_title(column)\n",
    "    ax.set_ylabel(\"Отток\")\n",
    "    ax.set_xlabel(\"\")\n",
    "    plt.show()\n",
    "    \n",
    "    fig, ax = plt.subplots()\n",
    "    sns.boxplot(x = 'churn', y = column, data = gym_df)\n",
    "    ax.set_title(column)\n",
    "    ax.set_ylabel(\"Отток\")\n",
    "    ax.set_xlabel(\"\")\n",
    "    plt.show()"
   ]
  },
  {
   "cell_type": "markdown",
   "metadata": {},
   "source": [
    "### Матрица корреляций "
   ]
  },
  {
   "cell_type": "code",
   "execution_count": 10,
   "metadata": {
    "scrolled": false
   },
   "outputs": [
    {
     "data": {
      "image/png": "[encoded data removed]",
      "text/plain": [
       "<Figure size 1008x720 with 2 Axes>"
      ]
     },
     "metadata": {},
     "output_type": "display_data"
    }
   ],
   "source": [
    "corr = gym_df.corr()\n",
    "plt.figure(figsize=(14, 10))\n",
    "sns.heatmap(corr, annot = True, fmt = '0.2f', linewidths=.5)\n",
    "plt.title('Матрица корреляций')\n",
    "plt.show()"
   ]
  },
  {
   "cell_type": "markdown",
   "metadata": {},
   "source": [
    "Вывод:\n",
    "чем больше партнеров и ближе к дому клуб, тем выше показатель рекомендации,что неудивительно.\n",
    "В свою очередь наличие друзей также положительно влияют на длительность действующего абонемента.\n",
    "\n",
    "Пол и наличие телефона в анкете никак не влияют на отток посетителей.\n",
    "Выводы метода groupby() подтверждаются графиками."
   ]
  },
  {
   "cell_type": "markdown",
   "metadata": {},
   "source": [
    "## Модель прогнозирования оттока клиентов"
   ]
  },
  {
   "cell_type": "markdown",
   "metadata": {},
   "source": [
    "Построим модель бинарной классификации клиентов, где целевой признак — факт оттока клиента в следующем месяце:"
   ]
  },
  {
   "cell_type": "markdown",
   "metadata": {},
   "source": [
    "### Разбиваем данные на обучающую и валидационную выборку функцией train_test_split()"
   ]
  },
  {
   "cell_type": "code",
   "execution_count": 12,
   "metadata": {},
   "outputs": [],
   "source": [
    "# разделяем данные на признаки (матрица X) и целевую переменную (y)\n",
    "X = gym_df.drop('churn', axis=1)\n",
    "y = gym_df['churn']\n",
    "\n",
    "# разделяем модель на обучающую и валидационную выборку\n",
    "X_train, X_test, y_train, y_test = train_test_split(X, y, test_size=0.2, random_state=0, stratify = y)\n",
    "\n",
    "#создадим объект класса StandardScaler и применим его к обучающей выборке\n",
    "scaler = StandardScaler()\n",
    "scaler.fit(X_train)\n",
    "X_train_st = scaler.transform(X_train)\n",
    "\n",
    "#применяем стандартизацию к матрице признаков для тестовой выборки\n",
    "X_test_st = scaler.transform(X_test)"
   ]
  },
  {
   "cell_type": "markdown",
   "metadata": {},
   "source": [
    "###  Обучаем модель на train-выборке двумя способами:\n",
    "- логистической регрессией,\n",
    "- случайным лесом."
   ]
  },
  {
   "cell_type": "code",
   "execution_count": 13,
   "metadata": {},
   "outputs": [],
   "source": [
    "#логистическая регрессия\n",
    "model = LogisticRegression(random_state=0)\n",
    "model.fit(X_train, y_train)\n",
    "predictions = model.predict(X_test)\n",
    "probabilities =  model.predict_proba(X_test)[:,1]"
   ]
  },
  {
   "cell_type": "code",
   "execution_count": 14,
   "metadata": {},
   "outputs": [],
   "source": [
    "# модель случайного леса\n",
    "rf_model = RandomForestClassifier(n_estimators = 100, random_state = 0) \n",
    "rf_model.fit(X_train_st, y_train)\n",
    "rf_predictions = rf_model.predict(X_test_st) \n",
    "rf_probabilities = rf_model.predict_proba(X_test_st)[:,1]"
   ]
  },
  {
   "cell_type": "markdown",
   "metadata": {},
   "source": [
    "### Результаты метрики accuracy, precision и recall для логистической регрессии:"
   ]
  },
  {
   "cell_type": "code",
   "execution_count": 15,
   "metadata": {},
   "outputs": [
    {
     "name": "stdout",
     "output_type": "stream",
     "text": [
      "Доля правильных ответов - Accuracy: 0.92\n",
      "Точность - Precision: 0.89\n",
      "Полнота - Recall: 0.82\n"
     ]
    }
   ],
   "source": [
    "print('Доля правильных ответов - Accuracy: {:.2f}'.format(accuracy_score(y_test, predictions)))\n",
    "print('Точность - Precision: {:.2f}'.format(precision_score(y_test, predictions)))\n",
    "print('Полнота - Recall: {:.2f}'.format(recall_score(y_test, predictions)))"
   ]
  },
  {
   "cell_type": "markdown",
   "metadata": {},
   "source": [
    "### Результаты метрики accuracy, precision и recall для случайного леса:"
   ]
  },
  {
   "cell_type": "code",
   "execution_count": 16,
   "metadata": {},
   "outputs": [
    {
     "name": "stdout",
     "output_type": "stream",
     "text": [
      "Доля правильных ответов - Accuracy: 0.92\n",
      "Точность - Precision: 0.88\n",
      "Полнота - Recall: 0.83\n"
     ]
    }
   ],
   "source": [
    "print('Доля правильных ответов - Accuracy: {:.2f}'.format(accuracy_score(y_test, rf_predictions)))\n",
    "print('Точность - Precision: {:.2f}'.format(precision_score(y_test, rf_predictions)))\n",
    "print('Полнота - Recall: {:.2f}'.format(recall_score(y_test, rf_predictions)))"
   ]
  },
  {
   "cell_type": "markdown",
   "metadata": {},
   "source": [
    "Обе модели показывают неплохую долю правильных ответов: 92%. Точность ответов у случайного леса ниже (88%), по сравнению с логистической регрессией (89%), полнота у случайного леса немного выше (83%), чем у логистической регрессии(82%).  \n",
    "\n",
    "ВЫВОД: в общем обе модели показывают довольно хорошую точность, полнота у \"случайного леса\" несколько выше, зато точность лучше у логистической регрессии."
   ]
  },
  {
   "cell_type": "markdown",
   "metadata": {},
   "source": [
    "## Создаем кластеризацию клиентов"
   ]
  },
  {
   "cell_type": "code",
   "execution_count": 17,
   "metadata": {},
   "outputs": [],
   "source": [
    "# стандартизируем данные\n",
    "df_sс = gym_df.drop(['churn'], axis=1)\n",
    "df_columns_list = df_sс.columns\n",
    "df_sс = StandardScaler().fit_transform(df_sс)\n",
    "df_sс = pd.DataFrame(df_sс, columns = df_columns_list).astype('float64')\n",
    "linked = linkage(df_sс, method = 'ward')"
   ]
  },
  {
   "cell_type": "code",
   "execution_count": 18,
   "metadata": {},
   "outputs": [
    {
     "data": {
      "image/png": "[encoded data removed]",
      "text/plain": [
       "<Figure size 1080x720 with 1 Axes>"
      ]
     },
     "metadata": {},
     "output_type": "display_data"
    }
   ],
   "source": [
    "#дендрограмма\n",
    "plt.figure(figsize=(15, 10))  \n",
    "dendrogram(linked, orientation='top')\n",
    "plt.title('Кластеры пользователей')\n",
    "plt.show() "
   ]
  },
  {
   "cell_type": "markdown",
   "metadata": {},
   "source": [
    "По Дендрограмме видно, что можно выделить 4 кластера клиентов, хотя визуально один из них почти равен трём другим вместе взятым. По условию, поделим выборку на 5 кластеров в дальнейшем."
   ]
  },
  {
   "cell_type": "markdown",
   "metadata": {},
   "source": [
    "### Обучим модель кластеризации на основании алгоритма K-Means и спрогнозируем кластеры клиентов. Число кластеров  n=5."
   ]
  },
  {
   "cell_type": "code",
   "execution_count": 19,
   "metadata": {},
   "outputs": [
    {
     "data": {
      "text/plain": [
       "3    1262\n",
       "0    1010\n",
       "4     838\n",
       "2     505\n",
       "1     385\n",
       "Name: cluster, dtype: int64"
      ]
     },
     "execution_count": 19,
     "metadata": {},
     "output_type": "execute_result"
    }
   ],
   "source": [
    "km = KMeans(n_clusters = 5, random_state=0)\n",
    "labels = km.fit_predict(df_sс)\n",
    "gym_df['cluster'] = labels\n",
    "gym_df.cluster.value_counts()"
   ]
  },
  {
   "cell_type": "code",
   "execution_count": 20,
   "metadata": {
    "scrolled": true
   },
   "outputs": [
    {
     "data": {
      "text/html": [
       "<div>\n",
       "<style scoped>\n",
       "    .dataframe tbody tr th:only-of-type {\n",
       "        vertical-align: middle;\n",
       "    }\n",
       "\n",
       "    .dataframe tbody tr th {\n",
       "        vertical-align: top;\n",
       "    }\n",
       "\n",
       "    .dataframe thead th {\n",
       "        text-align: right;\n",
       "    }\n",
       "</style>\n",
       "<table border=\"1\" class=\"dataframe\">\n",
       "  <thead>\n",
       "    <tr style=\"text-align: right;\">\n",
       "      <th>cluster</th>\n",
       "      <th>0</th>\n",
       "      <th>1</th>\n",
       "      <th>2</th>\n",
       "      <th>3</th>\n",
       "      <th>4</th>\n",
       "    </tr>\n",
       "  </thead>\n",
       "  <tbody>\n",
       "    <tr>\n",
       "      <th>gender</th>\n",
       "      <td>0.50</td>\n",
       "      <td>0.52</td>\n",
       "      <td>0.50</td>\n",
       "      <td>0.49</td>\n",
       "      <td>0.56</td>\n",
       "    </tr>\n",
       "    <tr>\n",
       "      <th>near_location</th>\n",
       "      <td>0.96</td>\n",
       "      <td>0.86</td>\n",
       "      <td>0.00</td>\n",
       "      <td>1.00</td>\n",
       "      <td>0.98</td>\n",
       "    </tr>\n",
       "    <tr>\n",
       "      <th>partner</th>\n",
       "      <td>0.78</td>\n",
       "      <td>0.47</td>\n",
       "      <td>0.46</td>\n",
       "      <td>0.35</td>\n",
       "      <td>0.36</td>\n",
       "    </tr>\n",
       "    <tr>\n",
       "      <th>promo_friends</th>\n",
       "      <td>0.57</td>\n",
       "      <td>0.31</td>\n",
       "      <td>0.08</td>\n",
       "      <td>0.24</td>\n",
       "      <td>0.23</td>\n",
       "    </tr>\n",
       "    <tr>\n",
       "      <th>phone</th>\n",
       "      <td>1.00</td>\n",
       "      <td>0.00</td>\n",
       "      <td>1.00</td>\n",
       "      <td>1.00</td>\n",
       "      <td>1.00</td>\n",
       "    </tr>\n",
       "    <tr>\n",
       "      <th>contract_period</th>\n",
       "      <td>10.89</td>\n",
       "      <td>4.79</td>\n",
       "      <td>2.35</td>\n",
       "      <td>1.95</td>\n",
       "      <td>2.67</td>\n",
       "    </tr>\n",
       "    <tr>\n",
       "      <th>group_visits</th>\n",
       "      <td>0.54</td>\n",
       "      <td>0.43</td>\n",
       "      <td>0.22</td>\n",
       "      <td>0.34</td>\n",
       "      <td>0.47</td>\n",
       "    </tr>\n",
       "    <tr>\n",
       "      <th>age</th>\n",
       "      <td>29.98</td>\n",
       "      <td>29.30</td>\n",
       "      <td>28.48</td>\n",
       "      <td>28.17</td>\n",
       "      <td>30.13</td>\n",
       "    </tr>\n",
       "    <tr>\n",
       "      <th>avg_additional_charges_total</th>\n",
       "      <td>160.76</td>\n",
       "      <td>143.96</td>\n",
       "      <td>135.46</td>\n",
       "      <td>131.62</td>\n",
       "      <td>161.66</td>\n",
       "    </tr>\n",
       "    <tr>\n",
       "      <th>month_to_end_contract</th>\n",
       "      <td>9.95</td>\n",
       "      <td>4.48</td>\n",
       "      <td>2.20</td>\n",
       "      <td>1.86</td>\n",
       "      <td>2.46</td>\n",
       "    </tr>\n",
       "    <tr>\n",
       "      <th>lifetime</th>\n",
       "      <td>4.74</td>\n",
       "      <td>3.92</td>\n",
       "      <td>2.81</td>\n",
       "      <td>2.44</td>\n",
       "      <td>4.90</td>\n",
       "    </tr>\n",
       "    <tr>\n",
       "      <th>avg_class_frequency_total</th>\n",
       "      <td>1.98</td>\n",
       "      <td>1.85</td>\n",
       "      <td>1.66</td>\n",
       "      <td>1.25</td>\n",
       "      <td>2.85</td>\n",
       "    </tr>\n",
       "    <tr>\n",
       "      <th>avg_class_frequency_current_month</th>\n",
       "      <td>1.97</td>\n",
       "      <td>1.72</td>\n",
       "      <td>1.48</td>\n",
       "      <td>1.01</td>\n",
       "      <td>2.85</td>\n",
       "    </tr>\n",
       "    <tr>\n",
       "      <th>churn</th>\n",
       "      <td>0.03</td>\n",
       "      <td>0.27</td>\n",
       "      <td>0.44</td>\n",
       "      <td>0.51</td>\n",
       "      <td>0.07</td>\n",
       "    </tr>\n",
       "  </tbody>\n",
       "</table>\n",
       "</div>"
      ],
      "text/plain": [
       "cluster                                0      1      2      3      4\n",
       "gender                              0.50   0.52   0.50   0.49   0.56\n",
       "near_location                       0.96   0.86   0.00   1.00   0.98\n",
       "partner                             0.78   0.47   0.46   0.35   0.36\n",
       "promo_friends                       0.57   0.31   0.08   0.24   0.23\n",
       "phone                               1.00   0.00   1.00   1.00   1.00\n",
       "contract_period                    10.89   4.79   2.35   1.95   2.67\n",
       "group_visits                        0.54   0.43   0.22   0.34   0.47\n",
       "age                                29.98  29.30  28.48  28.17  30.13\n",
       "avg_additional_charges_total      160.76 143.96 135.46 131.62 161.66\n",
       "month_to_end_contract               9.95   4.48   2.20   1.86   2.46\n",
       "lifetime                            4.74   3.92   2.81   2.44   4.90\n",
       "avg_class_frequency_total           1.98   1.85   1.66   1.25   2.85\n",
       "avg_class_frequency_current_month   1.97   1.72   1.48   1.01   2.85\n",
       "churn                               0.03   0.27   0.44   0.51   0.07"
      ]
     },
     "execution_count": 20,
     "metadata": {},
     "output_type": "execute_result"
    }
   ],
   "source": [
    "gym_df.groupby('cluster').mean().T"
   ]
  },
  {
   "cell_type": "markdown",
   "metadata": {},
   "source": [
    "**Вывод по характерным признакам кластеров:**\n",
    "\n",
    "**Кластер 0:**\n",
    "\"partner\" - высокая доля 78%,\n",
    "\"promo_friends\" - много по сравнению с другими кластерами (57% против 8-31%) \"contract_period\" - большой, 11 месяцев, \"month_to_end_contract\" - аналогично продолжительный, 10 месяцев.\n",
    "Это те клиенты, кто купил абонемент на год по рекомендациям друзей или компании-партнера, не так давно- 1-2 месяца назад, отток клиентов самый маленький. Вероятно, этот кластер состоит в основном из постоянных клиентов.\n",
    "\n",
    "**Кластер 1:**\n",
    "\"phone\" = 0, но \"near_location\"- 86%, противоречивый кластер.47% - сотрудники компании-партнёров. Однако отток таких клиенов не маленький - 27%\n",
    "\n",
    "**Кластер 2:**\n",
    "Это те клиенты, кто живет не близко и в основном пришел без рекомендации, мало склонен к групповым занятиям, \"promo_friends\" = 8%, \"group_visits\" = 22%. Среди них довольно приличный отток - 44%.\n",
    "\n",
    "**Кластер 3:**\n",
    "\"Сhurn\" - 51%, самый большой процент оттока.Клиенты кластера живут/работают около клуба. Большинство  не сотрудники компании-партнёров и не использовали рекомендации друзей. Они редко посещают групповые занятия, по сравнению с другими немного тратят на доп. услуги (~131 у.е.), у них скоро закончится контракт (примерно через 2 месяца), при этом они начали заниматься недавно.\n",
    "\n",
    "**Кластер 4:**\n",
    "В кластере собраны клиенты, обитающие поблизости от клуба, пришедшие самостоятельно, с хорошей активностью (47%)посещают групповые занятия. Средний возраст - 30 лет, на дополнительные услуги тратят больше всех (161 у.е.), до прекращения контракта у них осталось ~ 3 месяца. Средняя частота посещений в неделю за все время с начала действия абонемента ~ 2 раза в неделю,это хороший показатель. Отток таких клиентов совсем небольшой -7%."
   ]
  },
  {
   "cell_type": "markdown",
   "metadata": {},
   "source": [
    "**ВЫВОДЫ:**  \n",
    "Самыми постоянными клиентами являются люди из кластеров 0,4. В зоне риска по оттоку кластеры 2,3. Посетители из 1 кластера склонны покидать клуб, но могут стать постоянными."
   ]
  },
  {
   "cell_type": "markdown",
   "metadata": {},
   "source": [
    "## Распределение признаков для кластеров "
   ]
  },
  {
   "cell_type": "code",
   "execution_count": 21,
   "metadata": {},
   "outputs": [],
   "source": [
    "features = gym_df.groupby('cluster').agg('mean').reset_index()"
   ]
  },
  {
   "cell_type": "code",
   "execution_count": 22,
   "metadata": {
    "scrolled": true
   },
   "outputs": [
    {
     "data": {
      "image/png": "[encoded data removed]",
      "text/plain": [
       "<Figure size 864x360 with 1 Axes>"
      ]
     },
     "metadata": {},
     "output_type": "display_data"
    },
    {
     "data": {
      "image/png": "[encoded data removed]",
      "text/plain": [
       "<Figure size 864x360 with 1 Axes>"
      ]
     },
     "metadata": {},
     "output_type": "display_data"
    },
    {
     "data": {
      "image/png": "[encoded data removed]",
      "text/plain": [
       "<Figure size 864x360 with 1 Axes>"
      ]
     },
     "metadata": {},
     "output_type": "display_data"
    },
    {
     "data": {
      "image/png": "[encoded data removed]",
      "text/plain": [
       "<Figure size 864x360 with 1 Axes>"
      ]
     },
     "metadata": {},
     "output_type": "display_data"
    },
    {
     "data": {
      "image/png": "[encoded data removed]",
      "text/plain": [
       "<Figure size 864x360 with 1 Axes>"
      ]
     },
     "metadata": {},
     "output_type": "display_data"
    },
    {
     "data": {
      "image/png": "[encoded data removed]",
      "text/plain": [
       "<Figure size 864x360 with 1 Axes>"
      ]
     },
     "metadata": {},
     "output_type": "display_data"
    },
    {
     "data": {
      "image/png": "[encoded data removed]",
      "text/plain": [
       "<Figure size 864x360 with 1 Axes>"
      ]
     },
     "metadata": {},
     "output_type": "display_data"
    },
    {
     "data": {
      "image/png": "[encoded data removed]",
      "text/plain": [
       "<Figure size 864x360 with 1 Axes>"
      ]
     },
     "metadata": {},
     "output_type": "display_data"
    },
    {
     "data": {
      "image/png": "[encoded data removed]",
      "text/plain": [
       "<Figure size 864x360 with 1 Axes>"
      ]
     },
     "metadata": {},
     "output_type": "display_data"
    },
    {
     "data": {
      "image/png": "[encoded data removed]",
      "text/plain": [
       "<Figure size 864x360 with 1 Axes>"
      ]
     },
     "metadata": {},
     "output_type": "display_data"
    },
    {
     "data": {
      "image/png": "[encoded data removed]",
      "text/plain": [
       "<Figure size 864x360 with 1 Axes>"
      ]
     },
     "metadata": {},
     "output_type": "display_data"
    },
    {
     "data": {
      "image/png": "[encoded data removed]",
      "text/plain": [
       "<Figure size 864x360 with 1 Axes>"
      ]
     },
     "metadata": {},
     "output_type": "display_data"
    },
    {
     "data": {
      "image/png": "[encoded data removed]",
      "text/plain": [
       "<Figure size 864x360 with 1 Axes>"
      ]
     },
     "metadata": {},
     "output_type": "display_data"
    },
    {
     "data": {
      "image/png": "[encoded data removed]",
      "text/plain": [
       "<Figure size 864x360 with 1 Axes>"
      ]
     },
     "metadata": {},
     "output_type": "display_data"
    },
    {
     "data": {
      "image/png": "[encoded data removed]",
      "text/plain": [
       "<Figure size 864x360 with 1 Axes>"
      ]
     },
     "metadata": {},
     "output_type": "display_data"
    }
   ],
   "source": [
    "for f in features:\n",
    "    g = sns.displot(gym_df, x=gym_df[f], hue='cluster', palette=\"tab10\", kind='hist' ) \n",
    "    plt.title(f'Признак - {f}')\n",
    "    plt.ylabel(\"Кол-во клиентов\")\n",
    "    plt.xlabel(\"\")\n",
    "    g.fig.set_figwidth(12)\n",
    "    g.fig.set_figheight(5)\n",
    "    g.fig.patch.set_linewidth(5)"
   ]
  },
  {
   "cell_type": "markdown",
   "metadata": {},
   "source": [
    "### Доли оттока в кластерах"
   ]
  },
  {
   "cell_type": "code",
   "execution_count": 23,
   "metadata": {
    "scrolled": true
   },
   "outputs": [
    {
     "data": {
      "text/plain": [
       "cluster\n",
       "0   0.03\n",
       "1   0.27\n",
       "2   0.44\n",
       "3   0.51\n",
       "4   0.07\n",
       "Name: churn, dtype: float64"
      ]
     },
     "execution_count": 23,
     "metadata": {},
     "output_type": "execute_result"
    }
   ],
   "source": [
    "#посчитаем долю оттока\n",
    "gym_df.groupby(['cluster']).mean()['churn']"
   ]
  },
  {
   "cell_type": "markdown",
   "metadata": {},
   "source": [
    "# Выводы и рекомендации:"
   ]
  },
  {
   "cell_type": "markdown",
   "metadata": {},
   "source": [
    "Саме важные характеристики, делящие посетитлей клуба на кластеры, следующие:\n",
    "\n",
    "- признак 'near_location' (проживание или работа в районе, где находится фитнес-центр),    \n",
    "- признак 'promo_friends' (факт первоначальной записи в рамках акции «приведи друга»),  \n",
    "- признак 'group_visits' (факт посещения групповых занятий),  \n",
    "- признак 'lifetime' (время с момента первого обращения в фитнес-центр).\n",
    "\n",
    "**Рекомендации для групп посетителей из кластеров 0 и 4 (с самым меньшим оттоком):**\n",
    "\n",
    "По сути кластеры отличаются друг от друга тем,что из 4 кластера не пользовались скидками рекомендаций или компаний-партнеров, но купили абонемент на меньший срок, чем 0 кластер. В остальном посетители из обоих кластеров часто ходят на групповые занятия, тратятся на экстра-услуги, а это значит, что программы клуба им подходят. \n",
    "\n",
    "Для них имеет смысл поощрать постоянство скидками на приобретение годовых абонементов, а так же предложить скидку (или сделать какую-то из платных услуг в подарок)за рекомендацию клуба своим друзьям.\n",
    "\n",
    "Некоторые фитнес-центры так же предлагают 1 бесплатный гостевой визит друга постоянным посетителям, а так же организуют специальные мероприятия (мастер-классы, флеш-мобы) для давних посетителей клуба.\n",
    "\n",
    "**Рекомендации для посетителей из кластера 1 (с оттоком 27%):**\n",
    "Это люди,находящиеся рядом, пользующиеся скидками, взявшие абонемент на 1 месяц, чтобы посмотреть клуб. Этим клиентам явно сразу не нравятся групповые программы или тренажерный зал, дополнительные траты их не очень интересуют. \n",
    "\n",
    "В данном случае необходимо смотреть групповые программы, работоспособность и количество тренажеров, подход тренеров к новым посетителям, изучить негативные отзывы на популярных источниках. Необходимо понимать конкретные причины ухода.\n",
    "\n",
    "**Рекомендации для посетителей из кластера 2 (с оттоком 44%):**\n",
    "Основная особенность кластера- люди не работают или живут рядом, и у многих скидка от партнерских компаний.Видимо она довольно приличная, если они всё же тратят время на дорогу, чтобы посетить клуб. Экстра-услуги их не очень интересуют, поэтому здесь надо дополнительно смотреть, что не устраивает в групповых программах. Возможно, неудобное время, с учетом дороги, так же стоило бы изучить какие групповые занятия более популярны, а какие менее, чтобы скорректировать расписание или работу тренеров.\n",
    "\n",
    "Также,если мы видим, что партнерская программа работает, имеет смысл расширять количество партнёров.\n",
    "\n",
    "**Рекомендации для посетителей из кластера 3 (с самым большим оттоком 51%):**\n",
    "\n",
    "Клиенты живут рядом, пользуются скидками, экстра-услуги их мало интересуют, контракт у них на непродолжительное время.\n",
    "\n",
    "Не стоит забывать, что есть довольно большая категория людей, которые хотят начать заниматься, но, посетив одно-два занятия, перестают. Именно по этой причине основная масса фитнес-клубов продаёт абонементы на срок не менее, чем  год и делает акции на них перед летним сезоном, для желающих подтянуть форму) Тем не менее, шансов сделать таких посетителей постоянными, мало у любого клуба.\n",
    "\n",
    "В любом случае, так как группа многочисленная, жалко её потерять, и тут также актуально дополнительное изучение программ и отзывов, как и для 1 кластера.\n"
   ]
  }
 ],
 "metadata": {
  "ExecuteTimeLog": [
   {
    "duration": 47,
    "start_time": "2022-05-03T15:31:05.005Z"
   },
   {
    "duration": 90,
    "start_time": "2022-05-03T15:31:38.113Z"
   },
   {
    "duration": 6,
    "start_time": "2022-05-03T15:31:46.222Z"
   },
   {
    "duration": 96,
    "start_time": "2022-05-03T15:31:52.919Z"
   },
   {
    "duration": 378,
    "start_time": "2022-05-03T15:32:02.740Z"
   },
   {
    "duration": 35,
    "start_time": "2022-05-03T15:32:04.495Z"
   },
   {
    "duration": 62,
    "start_time": "2022-05-03T15:35:23.986Z"
   },
   {
    "duration": 62,
    "start_time": "2022-05-03T15:37:21.175Z"
   },
   {
    "duration": 98,
    "start_time": "2022-05-03T15:37:40.775Z"
   },
   {
    "duration": 69,
    "start_time": "2022-05-03T15:37:50.204Z"
   },
   {
    "duration": 32,
    "start_time": "2022-05-03T15:52:58.592Z"
   },
   {
    "duration": 12,
    "start_time": "2022-05-03T15:53:01.336Z"
   },
   {
    "duration": 1262,
    "start_time": "2022-05-03T15:53:07.161Z"
   },
   {
    "duration": 16,
    "start_time": "2022-05-03T15:53:08.425Z"
   },
   {
    "duration": 100,
    "start_time": "2022-05-03T15:53:08.443Z"
   },
   {
    "duration": 69,
    "start_time": "2022-05-03T15:53:20.137Z"
   },
   {
    "duration": 60,
    "start_time": "2022-05-03T15:53:56.218Z"
   },
   {
    "duration": 60,
    "start_time": "2022-05-03T15:54:04.293Z"
   },
   {
    "duration": 1391,
    "start_time": "2022-05-03T15:54:13.300Z"
   },
   {
    "duration": 16,
    "start_time": "2022-05-03T15:54:14.693Z"
   },
   {
    "duration": 69,
    "start_time": "2022-05-03T15:54:14.710Z"
   },
   {
    "duration": 68,
    "start_time": "2022-05-03T15:55:20.495Z"
   },
   {
    "duration": 66,
    "start_time": "2022-05-03T15:55:27.287Z"
   },
   {
    "duration": 1106,
    "start_time": "2022-05-03T15:55:42.757Z"
   },
   {
    "duration": 16,
    "start_time": "2022-05-03T15:55:43.865Z"
   },
   {
    "duration": 76,
    "start_time": "2022-05-03T15:55:43.883Z"
   },
   {
    "duration": 1188,
    "start_time": "2022-05-03T16:01:07.208Z"
   },
   {
    "duration": 17,
    "start_time": "2022-05-03T16:01:08.398Z"
   },
   {
    "duration": 72,
    "start_time": "2022-05-03T16:01:08.417Z"
   },
   {
    "duration": 1422,
    "start_time": "2022-05-03T18:22:04.497Z"
   },
   {
    "duration": 16,
    "start_time": "2022-05-03T18:22:05.921Z"
   },
   {
    "duration": 33,
    "start_time": "2022-05-03T18:22:05.938Z"
   },
   {
    "duration": 60,
    "start_time": "2022-05-03T18:22:05.972Z"
   },
   {
    "duration": 1389,
    "start_time": "2022-05-03T18:37:17.606Z"
   },
   {
    "duration": 15,
    "start_time": "2022-05-03T18:37:18.997Z"
   },
   {
    "duration": 32,
    "start_time": "2022-05-03T18:37:19.014Z"
   },
   {
    "duration": 38,
    "start_time": "2022-05-03T18:37:19.048Z"
   },
   {
    "duration": 1676,
    "start_time": "2022-05-03T18:40:00.029Z"
   },
   {
    "duration": 26,
    "start_time": "2022-05-03T18:40:01.708Z"
   },
   {
    "duration": 46,
    "start_time": "2022-05-03T18:40:01.736Z"
   },
   {
    "duration": 76,
    "start_time": "2022-05-03T18:40:01.785Z"
   },
   {
    "duration": 11,
    "start_time": "2022-05-03T19:55:01.653Z"
   },
   {
    "duration": 105,
    "start_time": "2022-05-03T19:56:10.376Z"
   },
   {
    "duration": 1437,
    "start_time": "2022-05-03T19:56:21.838Z"
   },
   {
    "duration": 25,
    "start_time": "2022-05-03T19:56:23.277Z"
   },
   {
    "duration": 30,
    "start_time": "2022-05-03T19:56:23.304Z"
   },
   {
    "duration": 36,
    "start_time": "2022-05-03T19:56:23.336Z"
   },
   {
    "duration": 135,
    "start_time": "2022-05-03T19:56:23.374Z"
   },
   {
    "duration": 11,
    "start_time": "2022-05-03T19:57:01.455Z"
   },
   {
    "duration": 15,
    "start_time": "2022-05-03T19:57:29.708Z"
   },
   {
    "duration": 12,
    "start_time": "2022-05-03T19:57:37.432Z"
   },
   {
    "duration": 11,
    "start_time": "2022-05-03T19:57:46.412Z"
   },
   {
    "duration": 250,
    "start_time": "2022-05-03T20:40:17.996Z"
   },
   {
    "duration": 2451,
    "start_time": "2022-05-03T20:47:39.991Z"
   },
   {
    "duration": 1618,
    "start_time": "2022-05-03T20:52:35.010Z"
   },
   {
    "duration": 596,
    "start_time": "2022-05-03T20:53:40.274Z"
   },
   {
    "duration": 1326,
    "start_time": "2022-05-03T20:54:44.270Z"
   },
   {
    "duration": 1299,
    "start_time": "2022-05-03T20:55:06.635Z"
   },
   {
    "duration": 2605,
    "start_time": "2022-05-04T10:12:28.902Z"
   },
   {
    "duration": 21,
    "start_time": "2022-05-04T10:12:31.510Z"
   },
   {
    "duration": 60,
    "start_time": "2022-05-04T10:12:31.534Z"
   },
   {
    "duration": 77,
    "start_time": "2022-05-04T10:12:31.597Z"
   },
   {
    "duration": 15,
    "start_time": "2022-05-04T10:12:31.677Z"
   },
   {
    "duration": 459,
    "start_time": "2022-05-04T10:12:31.695Z"
   },
   {
    "duration": 4026,
    "start_time": "2022-05-04T10:12:32.156Z"
   },
   {
    "duration": 2829,
    "start_time": "2022-05-04T10:12:36.184Z"
   },
   {
    "duration": 973,
    "start_time": "2022-05-04T10:12:39.015Z"
   },
   {
    "duration": 2205,
    "start_time": "2022-05-04T10:12:39.991Z"
   },
   {
    "duration": 9,
    "start_time": "2022-05-04T10:12:42.198Z"
   },
   {
    "duration": 164,
    "start_time": "2022-05-04T10:12:42.209Z"
   },
   {
    "duration": 1990,
    "start_time": "2022-05-04T10:13:57.224Z"
   },
   {
    "duration": 25,
    "start_time": "2022-05-04T10:13:59.217Z"
   },
   {
    "duration": 48,
    "start_time": "2022-05-04T10:13:59.244Z"
   },
   {
    "duration": 80,
    "start_time": "2022-05-04T10:13:59.295Z"
   },
   {
    "duration": 14,
    "start_time": "2022-05-04T10:13:59.377Z"
   },
   {
    "duration": 461,
    "start_time": "2022-05-04T10:13:59.393Z"
   },
   {
    "duration": 4076,
    "start_time": "2022-05-04T10:13:59.856Z"
   },
   {
    "duration": 2838,
    "start_time": "2022-05-04T10:14:03.934Z"
   },
   {
    "duration": 999,
    "start_time": "2022-05-04T10:14:06.774Z"
   },
   {
    "duration": 2148,
    "start_time": "2022-05-04T10:14:07.776Z"
   },
   {
    "duration": 9,
    "start_time": "2022-05-04T10:14:09.927Z"
   },
   {
    "duration": 1374,
    "start_time": "2022-05-04T10:14:09.938Z"
   },
   {
    "duration": 2085,
    "start_time": "2022-05-04T10:15:30.255Z"
   },
   {
    "duration": 24,
    "start_time": "2022-05-04T10:15:32.343Z"
   },
   {
    "duration": 45,
    "start_time": "2022-05-04T10:15:32.370Z"
   },
   {
    "duration": 88,
    "start_time": "2022-05-04T10:15:32.418Z"
   },
   {
    "duration": 17,
    "start_time": "2022-05-04T10:15:32.508Z"
   },
   {
    "duration": 491,
    "start_time": "2022-05-04T10:15:32.528Z"
   },
   {
    "duration": 4385,
    "start_time": "2022-05-04T10:15:33.021Z"
   },
   {
    "duration": 2843,
    "start_time": "2022-05-04T10:15:37.408Z"
   },
   {
    "duration": 1000,
    "start_time": "2022-05-04T10:15:40.254Z"
   },
   {
    "duration": 2112,
    "start_time": "2022-05-04T10:15:41.257Z"
   },
   {
    "duration": 9,
    "start_time": "2022-05-04T10:15:43.371Z"
   },
   {
    "duration": 2373,
    "start_time": "2022-05-04T10:15:43.382Z"
   },
   {
    "duration": 2058,
    "start_time": "2022-05-04T10:29:34.927Z"
   },
   {
    "duration": 22,
    "start_time": "2022-05-04T10:29:36.988Z"
   },
   {
    "duration": 52,
    "start_time": "2022-05-04T10:29:37.031Z"
   },
   {
    "duration": 87,
    "start_time": "2022-05-04T10:29:37.086Z"
   },
   {
    "duration": 16,
    "start_time": "2022-05-04T10:29:37.176Z"
   },
   {
    "duration": 477,
    "start_time": "2022-05-04T10:29:37.194Z"
   },
   {
    "duration": 4893,
    "start_time": "2022-05-04T10:29:37.673Z"
   },
   {
    "duration": 3064,
    "start_time": "2022-05-04T10:29:42.569Z"
   },
   {
    "duration": 1057,
    "start_time": "2022-05-04T10:29:45.635Z"
   },
   {
    "duration": 2254,
    "start_time": "2022-05-04T10:29:46.694Z"
   },
   {
    "duration": 9,
    "start_time": "2022-05-04T10:29:48.951Z"
   },
   {
    "duration": 790,
    "start_time": "2022-05-04T10:29:48.963Z"
   },
   {
    "duration": 703,
    "start_time": "2022-05-04T10:29:49.756Z"
   },
   {
    "duration": 12,
    "start_time": "2022-05-04T10:29:50.464Z"
   },
   {
    "duration": 18,
    "start_time": "2022-05-04T10:29:50.478Z"
   },
   {
    "duration": 2010,
    "start_time": "2022-05-04T10:35:48.523Z"
   },
   {
    "duration": 33,
    "start_time": "2022-05-04T10:35:50.536Z"
   },
   {
    "duration": 47,
    "start_time": "2022-05-04T10:35:50.571Z"
   },
   {
    "duration": 76,
    "start_time": "2022-05-04T10:35:50.621Z"
   },
   {
    "duration": 16,
    "start_time": "2022-05-04T10:35:50.700Z"
   },
   {
    "duration": 477,
    "start_time": "2022-05-04T10:35:50.718Z"
   },
   {
    "duration": 3927,
    "start_time": "2022-05-04T10:35:51.198Z"
   },
   {
    "duration": 2779,
    "start_time": "2022-05-04T10:35:55.127Z"
   },
   {
    "duration": 993,
    "start_time": "2022-05-04T10:35:57.908Z"
   },
   {
    "duration": 2126,
    "start_time": "2022-05-04T10:35:58.903Z"
   },
   {
    "duration": 11,
    "start_time": "2022-05-04T10:36:01.032Z"
   },
   {
    "duration": 1113,
    "start_time": "2022-05-04T10:36:01.045Z"
   },
   {
    "duration": 604,
    "start_time": "2022-05-04T10:36:02.255Z"
   },
   {
    "duration": 12,
    "start_time": "2022-05-04T10:36:02.863Z"
   },
   {
    "duration": 12,
    "start_time": "2022-05-04T10:36:02.878Z"
   },
   {
    "duration": 2013,
    "start_time": "2022-05-04T11:06:34.470Z"
   },
   {
    "duration": 20,
    "start_time": "2022-05-04T11:06:36.486Z"
   },
   {
    "duration": 59,
    "start_time": "2022-05-04T11:06:36.509Z"
   },
   {
    "duration": 58,
    "start_time": "2022-05-04T11:06:36.572Z"
   },
   {
    "duration": 15,
    "start_time": "2022-05-04T11:06:36.652Z"
   },
   {
    "duration": 455,
    "start_time": "2022-05-04T11:06:36.670Z"
   },
   {
    "duration": 4015,
    "start_time": "2022-05-04T11:06:37.127Z"
   },
   {
    "duration": 2890,
    "start_time": "2022-05-04T11:06:41.144Z"
   },
   {
    "duration": 986,
    "start_time": "2022-05-04T11:06:44.036Z"
   },
   {
    "duration": 2155,
    "start_time": "2022-05-04T11:06:45.025Z"
   },
   {
    "duration": 13,
    "start_time": "2022-05-04T11:06:47.183Z"
   },
   {
    "duration": 862,
    "start_time": "2022-05-04T11:06:47.199Z"
   },
   {
    "duration": 971,
    "start_time": "2022-05-04T11:06:48.065Z"
   },
   {
    "duration": 19,
    "start_time": "2022-05-04T11:06:49.039Z"
   },
   {
    "duration": 10,
    "start_time": "2022-05-04T11:06:49.062Z"
   },
   {
    "duration": 797,
    "start_time": "2022-05-04T11:06:49.074Z"
   },
   {
    "duration": 2557,
    "start_time": "2022-05-04T11:07:23.767Z"
   },
   {
    "duration": 34,
    "start_time": "2022-05-04T11:07:26.327Z"
   },
   {
    "duration": 67,
    "start_time": "2022-05-04T11:07:26.363Z"
   },
   {
    "duration": 61,
    "start_time": "2022-05-04T11:07:26.452Z"
   },
   {
    "duration": 15,
    "start_time": "2022-05-04T11:07:26.515Z"
   },
   {
    "duration": 503,
    "start_time": "2022-05-04T11:07:26.553Z"
   },
   {
    "duration": 4487,
    "start_time": "2022-05-04T11:07:27.059Z"
   },
   {
    "duration": 4054,
    "start_time": "2022-05-04T11:07:31.552Z"
   },
   {
    "duration": 1556,
    "start_time": "2022-05-04T11:07:35.609Z"
   },
   {
    "duration": 3270,
    "start_time": "2022-05-04T11:07:37.170Z"
   },
   {
    "duration": 13,
    "start_time": "2022-05-04T11:07:40.443Z"
   },
   {
    "duration": 895,
    "start_time": "2022-05-04T11:07:40.458Z"
   },
   {
    "duration": 904,
    "start_time": "2022-05-04T11:07:41.356Z"
   },
   {
    "duration": 13,
    "start_time": "2022-05-04T11:07:42.263Z"
   },
   {
    "duration": 13,
    "start_time": "2022-05-04T11:07:42.279Z"
   },
   {
    "duration": 1201,
    "start_time": "2022-05-04T11:07:42.295Z"
   },
   {
    "duration": 182022,
    "start_time": "2022-05-04T11:07:43.498Z"
   },
   {
    "duration": 2043,
    "start_time": "2022-05-04T11:14:14.946Z"
   },
   {
    "duration": 20,
    "start_time": "2022-05-04T11:14:16.991Z"
   },
   {
    "duration": 58,
    "start_time": "2022-05-04T11:14:17.017Z"
   },
   {
    "duration": 77,
    "start_time": "2022-05-04T11:14:17.077Z"
   },
   {
    "duration": 15,
    "start_time": "2022-05-04T11:14:17.156Z"
   },
   {
    "duration": 476,
    "start_time": "2022-05-04T11:14:17.173Z"
   },
   {
    "duration": 4276,
    "start_time": "2022-05-04T11:14:17.652Z"
   },
   {
    "duration": 2840,
    "start_time": "2022-05-04T11:14:21.931Z"
   },
   {
    "duration": 1007,
    "start_time": "2022-05-04T11:14:24.774Z"
   },
   {
    "duration": 2261,
    "start_time": "2022-05-04T11:14:25.784Z"
   },
   {
    "duration": 11,
    "start_time": "2022-05-04T11:14:28.047Z"
   },
   {
    "duration": 993,
    "start_time": "2022-05-04T11:14:28.060Z"
   },
   {
    "duration": 664,
    "start_time": "2022-05-04T11:14:29.056Z"
   },
   {
    "duration": 11,
    "start_time": "2022-05-04T11:14:29.723Z"
   },
   {
    "duration": 12,
    "start_time": "2022-05-04T11:14:29.753Z"
   },
   {
    "duration": 845,
    "start_time": "2022-05-04T11:14:29.767Z"
   },
   {
    "duration": 2012,
    "start_time": "2022-05-04T11:16:15.294Z"
   },
   {
    "duration": 24,
    "start_time": "2022-05-04T11:16:17.309Z"
   },
   {
    "duration": 52,
    "start_time": "2022-05-04T11:16:17.335Z"
   },
   {
    "duration": 78,
    "start_time": "2022-05-04T11:16:17.390Z"
   },
   {
    "duration": 15,
    "start_time": "2022-05-04T11:16:17.471Z"
   },
   {
    "duration": 471,
    "start_time": "2022-05-04T11:16:17.488Z"
   },
   {
    "duration": 4232,
    "start_time": "2022-05-04T11:16:17.962Z"
   },
   {
    "duration": 2941,
    "start_time": "2022-05-04T11:16:22.196Z"
   },
   {
    "duration": 1081,
    "start_time": "2022-05-04T11:16:25.139Z"
   },
   {
    "duration": 2314,
    "start_time": "2022-05-04T11:16:26.223Z"
   },
   {
    "duration": 10,
    "start_time": "2022-05-04T11:16:28.540Z"
   },
   {
    "duration": 1100,
    "start_time": "2022-05-04T11:16:28.552Z"
   },
   {
    "duration": 728,
    "start_time": "2022-05-04T11:16:29.656Z"
   },
   {
    "duration": 11,
    "start_time": "2022-05-04T11:16:30.386Z"
   },
   {
    "duration": 27,
    "start_time": "2022-05-04T11:16:30.399Z"
   },
   {
    "duration": 851,
    "start_time": "2022-05-04T11:16:30.428Z"
   },
   {
    "duration": 166089,
    "start_time": "2022-05-04T11:16:31.282Z"
   },
   {
    "duration": 1986,
    "start_time": "2022-05-04T11:39:01.435Z"
   },
   {
    "duration": 23,
    "start_time": "2022-05-04T11:39:03.424Z"
   },
   {
    "duration": 44,
    "start_time": "2022-05-04T11:39:03.449Z"
   },
   {
    "duration": 84,
    "start_time": "2022-05-04T11:39:03.496Z"
   },
   {
    "duration": 16,
    "start_time": "2022-05-04T11:39:03.583Z"
   },
   {
    "duration": 453,
    "start_time": "2022-05-04T11:39:03.601Z"
   },
   {
    "duration": 4452,
    "start_time": "2022-05-04T11:39:04.057Z"
   },
   {
    "duration": 2757,
    "start_time": "2022-05-04T11:39:08.511Z"
   },
   {
    "duration": 965,
    "start_time": "2022-05-04T11:39:11.270Z"
   },
   {
    "duration": 2337,
    "start_time": "2022-05-04T11:39:12.239Z"
   },
   {
    "duration": 8,
    "start_time": "2022-05-04T11:39:14.579Z"
   },
   {
    "duration": 1063,
    "start_time": "2022-05-04T11:39:14.590Z"
   },
   {
    "duration": 687,
    "start_time": "2022-05-04T11:39:15.656Z"
   },
   {
    "duration": 14,
    "start_time": "2022-05-04T11:39:16.345Z"
   },
   {
    "duration": 10,
    "start_time": "2022-05-04T11:39:16.361Z"
   },
   {
    "duration": 802,
    "start_time": "2022-05-04T11:39:16.373Z"
   },
   {
    "duration": 163600,
    "start_time": "2022-05-04T11:39:17.177Z"
   },
   {
    "duration": 1777,
    "start_time": "2022-05-04T11:42:00.779Z"
   },
   {
    "duration": 19,
    "start_time": "2022-05-04T11:42:02.558Z"
   },
   {
    "duration": 2122,
    "start_time": "2022-05-04T13:07:37.268Z"
   },
   {
    "duration": 20,
    "start_time": "2022-05-04T13:07:39.393Z"
   },
   {
    "duration": 60,
    "start_time": "2022-05-04T13:07:39.416Z"
   },
   {
    "duration": 81,
    "start_time": "2022-05-04T13:07:39.479Z"
   },
   {
    "duration": 17,
    "start_time": "2022-05-04T13:07:39.562Z"
   },
   {
    "duration": 456,
    "start_time": "2022-05-04T13:07:39.581Z"
   },
   {
    "duration": 4035,
    "start_time": "2022-05-04T13:07:40.039Z"
   },
   {
    "duration": 2832,
    "start_time": "2022-05-04T13:07:44.077Z"
   },
   {
    "duration": 1014,
    "start_time": "2022-05-04T13:07:46.912Z"
   },
   {
    "duration": 2168,
    "start_time": "2022-05-04T13:07:47.929Z"
   },
   {
    "duration": 18,
    "start_time": "2022-05-04T13:07:50.099Z"
   },
   {
    "duration": 1032,
    "start_time": "2022-05-04T13:07:50.120Z"
   },
   {
    "duration": 605,
    "start_time": "2022-05-04T13:07:51.160Z"
   },
   {
    "duration": 11,
    "start_time": "2022-05-04T13:07:51.768Z"
   },
   {
    "duration": 10,
    "start_time": "2022-05-04T13:07:51.782Z"
   },
   {
    "duration": 838,
    "start_time": "2022-05-04T13:07:51.794Z"
   },
   {
    "duration": 165102,
    "start_time": "2022-05-04T13:07:52.634Z"
   },
   {
    "duration": 1717,
    "start_time": "2022-05-04T13:10:37.739Z"
   },
   {
    "duration": 17,
    "start_time": "2022-05-04T13:10:39.458Z"
   },
   {
    "duration": 2212,
    "start_time": "2022-05-04T14:26:50.174Z"
   },
   {
    "duration": 20,
    "start_time": "2022-05-04T14:26:52.388Z"
   },
   {
    "duration": 60,
    "start_time": "2022-05-04T14:26:52.410Z"
   },
   {
    "duration": 105,
    "start_time": "2022-05-04T14:26:52.474Z"
   },
   {
    "duration": 17,
    "start_time": "2022-05-04T14:26:52.581Z"
   },
   {
    "duration": 479,
    "start_time": "2022-05-04T14:26:52.601Z"
   },
   {
    "duration": 4015,
    "start_time": "2022-05-04T14:26:53.082Z"
   },
   {
    "duration": 2813,
    "start_time": "2022-05-04T14:26:57.100Z"
   },
   {
    "duration": 1114,
    "start_time": "2022-05-04T14:26:59.916Z"
   },
   {
    "duration": 2212,
    "start_time": "2022-05-04T14:27:01.036Z"
   },
   {
    "duration": 21,
    "start_time": "2022-05-04T14:27:03.251Z"
   },
   {
    "duration": 1088,
    "start_time": "2022-05-04T14:27:03.274Z"
   },
   {
    "duration": 605,
    "start_time": "2022-05-04T14:27:04.454Z"
   },
   {
    "duration": 11,
    "start_time": "2022-05-04T14:27:05.061Z"
   },
   {
    "duration": 36,
    "start_time": "2022-05-04T14:27:05.073Z"
   },
   {
    "duration": 825,
    "start_time": "2022-05-04T14:27:05.111Z"
   },
   {
    "duration": 158291,
    "start_time": "2022-05-04T14:27:05.938Z"
   },
   {
    "duration": 1827,
    "start_time": "2022-05-04T14:29:44.231Z"
   },
   {
    "duration": 17,
    "start_time": "2022-05-04T14:29:46.060Z"
   },
   {
    "duration": 214,
    "start_time": "2022-05-04T14:29:46.080Z"
   },
   {
    "duration": 2004,
    "start_time": "2022-05-04T14:33:47.165Z"
   },
   {
    "duration": 20,
    "start_time": "2022-05-04T14:33:49.172Z"
   },
   {
    "duration": 60,
    "start_time": "2022-05-04T14:33:49.194Z"
   },
   {
    "duration": 60,
    "start_time": "2022-05-04T14:33:49.257Z"
   },
   {
    "duration": 39,
    "start_time": "2022-05-04T14:33:49.319Z"
   },
   {
    "duration": 451,
    "start_time": "2022-05-04T14:33:49.360Z"
   },
   {
    "duration": 4042,
    "start_time": "2022-05-04T14:33:49.814Z"
   },
   {
    "duration": 2891,
    "start_time": "2022-05-04T14:33:53.858Z"
   },
   {
    "duration": 1020,
    "start_time": "2022-05-04T14:33:56.751Z"
   },
   {
    "duration": 2129,
    "start_time": "2022-05-04T14:33:57.775Z"
   },
   {
    "duration": 19,
    "start_time": "2022-05-04T14:33:59.907Z"
   },
   {
    "duration": 1034,
    "start_time": "2022-05-04T14:33:59.928Z"
   },
   {
    "duration": 624,
    "start_time": "2022-05-04T14:34:01.054Z"
   },
   {
    "duration": 11,
    "start_time": "2022-05-04T14:34:01.681Z"
   },
   {
    "duration": 20,
    "start_time": "2022-05-04T14:34:01.694Z"
   },
   {
    "duration": 842,
    "start_time": "2022-05-04T14:34:01.716Z"
   },
   {
    "duration": 157972,
    "start_time": "2022-05-04T14:34:02.560Z"
   },
   {
    "duration": 1822,
    "start_time": "2022-05-04T14:36:40.535Z"
   },
   {
    "duration": 18,
    "start_time": "2022-05-04T14:36:42.359Z"
   },
   {
    "duration": 188,
    "start_time": "2022-05-04T14:36:42.379Z"
   },
   {
    "duration": 2044,
    "start_time": "2022-05-04T14:41:22.841Z"
   },
   {
    "duration": 26,
    "start_time": "2022-05-04T14:41:24.888Z"
   },
   {
    "duration": 57,
    "start_time": "2022-05-04T14:41:24.916Z"
   },
   {
    "duration": 81,
    "start_time": "2022-05-04T14:41:24.977Z"
   },
   {
    "duration": 17,
    "start_time": "2022-05-04T14:41:25.060Z"
   },
   {
    "duration": 499,
    "start_time": "2022-05-04T14:41:25.080Z"
   },
   {
    "duration": 4361,
    "start_time": "2022-05-04T14:41:25.583Z"
   },
   {
    "duration": 3969,
    "start_time": "2022-05-04T14:41:29.952Z"
   },
   {
    "duration": 1137,
    "start_time": "2022-05-04T14:41:33.924Z"
   },
   {
    "duration": 3220,
    "start_time": "2022-05-04T14:41:35.065Z"
   },
   {
    "duration": 27,
    "start_time": "2022-05-04T14:41:38.287Z"
   },
   {
    "duration": 837,
    "start_time": "2022-05-04T14:41:38.316Z"
   },
   {
    "duration": 648,
    "start_time": "2022-05-04T14:41:39.155Z"
   },
   {
    "duration": 13,
    "start_time": "2022-05-04T14:41:39.806Z"
   },
   {
    "duration": 36,
    "start_time": "2022-05-04T14:41:39.822Z"
   },
   {
    "duration": 1028,
    "start_time": "2022-05-04T14:41:39.861Z"
   },
   {
    "duration": 168572,
    "start_time": "2022-05-04T14:41:40.892Z"
   },
   {
    "duration": 1699,
    "start_time": "2022-05-04T14:44:29.466Z"
   },
   {
    "duration": 19,
    "start_time": "2022-05-04T14:44:31.167Z"
   },
   {
    "duration": 14,
    "start_time": "2022-05-04T14:44:31.188Z"
   },
   {
    "duration": 21987,
    "start_time": "2022-05-04T14:44:31.205Z"
   },
   {
    "duration": 2129,
    "start_time": "2022-05-04T15:08:06.464Z"
   },
   {
    "duration": 28,
    "start_time": "2022-05-04T15:08:08.596Z"
   },
   {
    "duration": 56,
    "start_time": "2022-05-04T15:08:08.626Z"
   },
   {
    "duration": 83,
    "start_time": "2022-05-04T15:08:08.685Z"
   },
   {
    "duration": 19,
    "start_time": "2022-05-04T15:08:08.770Z"
   },
   {
    "duration": 500,
    "start_time": "2022-05-04T15:08:08.792Z"
   },
   {
    "duration": 4484,
    "start_time": "2022-05-04T15:08:09.295Z"
   },
   {
    "duration": 3049,
    "start_time": "2022-05-04T15:08:13.782Z"
   },
   {
    "duration": 1053,
    "start_time": "2022-05-04T15:08:16.833Z"
   },
   {
    "duration": 2239,
    "start_time": "2022-05-04T15:08:17.889Z"
   },
   {
    "duration": 19,
    "start_time": "2022-05-04T15:08:20.131Z"
   },
   {
    "duration": 512,
    "start_time": "2022-05-04T15:08:20.152Z"
   },
   {
    "duration": 718,
    "start_time": "2022-05-04T15:08:20.668Z"
   },
   {
    "duration": 13,
    "start_time": "2022-05-04T15:08:21.388Z"
   },
   {
    "duration": 12,
    "start_time": "2022-05-04T15:08:21.403Z"
   },
   {
    "duration": 868,
    "start_time": "2022-05-04T15:08:21.417Z"
   },
   {
    "duration": 203642,
    "start_time": "2022-05-04T15:08:22.287Z"
   },
   {
    "duration": 2031,
    "start_time": "2022-05-04T15:11:45.932Z"
   },
   {
    "duration": 18,
    "start_time": "2022-05-04T15:11:47.965Z"
   },
   {
    "duration": 10,
    "start_time": "2022-05-04T15:11:47.985Z"
   },
   {
    "duration": 22038,
    "start_time": "2022-05-04T15:11:47.998Z"
   },
   {
    "duration": 2940,
    "start_time": "2022-05-04T15:17:22.267Z"
   },
   {
    "duration": 30,
    "start_time": "2022-05-04T15:17:25.210Z"
   },
   {
    "duration": 75,
    "start_time": "2022-05-04T15:17:25.243Z"
   },
   {
    "duration": 115,
    "start_time": "2022-05-04T15:17:25.323Z"
   },
   {
    "duration": 16,
    "start_time": "2022-05-04T15:17:25.451Z"
   },
   {
    "duration": 500,
    "start_time": "2022-05-04T15:17:25.469Z"
   },
   {
    "duration": 6421,
    "start_time": "2022-05-04T15:17:25.972Z"
   },
   {
    "duration": 4415,
    "start_time": "2022-05-04T15:17:32.396Z"
   },
   {
    "duration": 1617,
    "start_time": "2022-05-04T15:17:36.814Z"
   },
   {
    "duration": 3449,
    "start_time": "2022-05-04T15:17:38.436Z"
   },
   {
    "duration": 27,
    "start_time": "2022-05-04T15:17:41.887Z"
   },
   {
    "duration": 1346,
    "start_time": "2022-05-04T15:17:41.917Z"
   },
   {
    "duration": 951,
    "start_time": "2022-05-04T15:17:43.266Z"
   },
   {
    "duration": 14,
    "start_time": "2022-05-04T15:17:44.220Z"
   },
   {
    "duration": 12,
    "start_time": "2022-05-04T15:17:44.251Z"
   },
   {
    "duration": 854,
    "start_time": "2022-05-04T15:17:44.266Z"
   },
   {
    "duration": 164344,
    "start_time": "2022-05-04T15:17:45.123Z"
   },
   {
    "duration": 1489,
    "start_time": "2022-05-04T15:20:29.470Z"
   },
   {
    "duration": 104,
    "start_time": "2022-05-04T15:20:30.962Z"
   },
   {
    "duration": 11,
    "start_time": "2022-05-04T15:20:31.069Z"
   },
   {
    "duration": 16986,
    "start_time": "2022-05-04T15:20:31.082Z"
   },
   {
    "duration": 11,
    "start_time": "2022-05-04T15:20:48.071Z"
   },
   {
    "duration": 2201,
    "start_time": "2022-05-04T15:46:23.536Z"
   },
   {
    "duration": 25,
    "start_time": "2022-05-04T15:46:25.739Z"
   },
   {
    "duration": 50,
    "start_time": "2022-05-04T15:46:25.766Z"
   },
   {
    "duration": 87,
    "start_time": "2022-05-04T15:46:25.819Z"
   },
   {
    "duration": 17,
    "start_time": "2022-05-04T15:46:25.908Z"
   },
   {
    "duration": 701,
    "start_time": "2022-05-04T15:46:25.951Z"
   },
   {
    "duration": 6567,
    "start_time": "2022-05-04T15:46:26.655Z"
   },
   {
    "duration": 3054,
    "start_time": "2022-05-04T15:46:33.225Z"
   },
   {
    "duration": 1062,
    "start_time": "2022-05-04T15:46:36.281Z"
   },
   {
    "duration": 2890,
    "start_time": "2022-05-04T15:46:37.347Z"
   },
   {
    "duration": 27,
    "start_time": "2022-05-04T15:46:40.240Z"
   },
   {
    "duration": 1191,
    "start_time": "2022-05-04T15:46:40.271Z"
   },
   {
    "duration": 909,
    "start_time": "2022-05-04T15:46:41.466Z"
   },
   {
    "duration": 11,
    "start_time": "2022-05-04T15:46:42.377Z"
   },
   {
    "duration": 11,
    "start_time": "2022-05-04T15:46:42.390Z"
   },
   {
    "duration": 949,
    "start_time": "2022-05-04T15:46:42.404Z"
   },
   {
    "duration": 203898,
    "start_time": "2022-05-04T15:46:43.356Z"
   },
   {
    "duration": 2012,
    "start_time": "2022-05-04T15:50:07.256Z"
   },
   {
    "duration": 17,
    "start_time": "2022-05-04T15:50:09.271Z"
   },
   {
    "duration": 10,
    "start_time": "2022-05-04T15:50:09.291Z"
   },
   {
    "duration": 18439,
    "start_time": "2022-05-04T15:50:09.303Z"
   },
   {
    "duration": 208,
    "start_time": "2022-05-04T15:50:27.744Z"
   },
   {
    "duration": 2444,
    "start_time": "2022-05-04T16:00:53.356Z"
   },
   {
    "duration": 29,
    "start_time": "2022-05-04T16:00:55.804Z"
   },
   {
    "duration": 77,
    "start_time": "2022-05-04T16:00:55.836Z"
   },
   {
    "duration": 103,
    "start_time": "2022-05-04T16:00:55.917Z"
   },
   {
    "duration": 34,
    "start_time": "2022-05-04T16:00:56.022Z"
   },
   {
    "duration": 494,
    "start_time": "2022-05-04T16:00:56.060Z"
   },
   {
    "duration": 4478,
    "start_time": "2022-05-04T16:00:56.557Z"
   },
   {
    "duration": 3116,
    "start_time": "2022-05-04T16:01:01.038Z"
   },
   {
    "duration": 1056,
    "start_time": "2022-05-04T16:01:04.157Z"
   },
   {
    "duration": 2246,
    "start_time": "2022-05-04T16:01:05.219Z"
   },
   {
    "duration": 20,
    "start_time": "2022-05-04T16:01:07.467Z"
   },
   {
    "duration": 769,
    "start_time": "2022-05-04T16:01:07.490Z"
   },
   {
    "duration": 711,
    "start_time": "2022-05-04T16:01:08.263Z"
   },
   {
    "duration": 12,
    "start_time": "2022-05-04T16:01:08.976Z"
   },
   {
    "duration": 13,
    "start_time": "2022-05-04T16:01:08.991Z"
   },
   {
    "duration": 876,
    "start_time": "2022-05-04T16:01:09.007Z"
   },
   {
    "duration": 170544,
    "start_time": "2022-05-04T16:01:09.886Z"
   },
   {
    "duration": 1934,
    "start_time": "2022-05-04T16:04:00.433Z"
   },
   {
    "duration": 20,
    "start_time": "2022-05-04T16:04:02.369Z"
   },
   {
    "duration": 10,
    "start_time": "2022-05-04T16:04:02.391Z"
   },
   {
    "duration": 17099,
    "start_time": "2022-05-04T16:04:02.404Z"
   },
   {
    "duration": 6,
    "start_time": "2022-05-04T16:04:19.505Z"
   },
   {
    "duration": 2143,
    "start_time": "2022-05-04T16:07:02.513Z"
   },
   {
    "duration": 31,
    "start_time": "2022-05-04T16:07:04.660Z"
   },
   {
    "duration": 71,
    "start_time": "2022-05-04T16:07:04.693Z"
   },
   {
    "duration": 103,
    "start_time": "2022-05-04T16:07:04.767Z"
   },
   {
    "duration": 22,
    "start_time": "2022-05-04T16:07:04.875Z"
   },
   {
    "duration": 701,
    "start_time": "2022-05-04T16:07:04.900Z"
   },
   {
    "duration": 4343,
    "start_time": "2022-05-04T16:07:05.603Z"
   },
   {
    "duration": 3201,
    "start_time": "2022-05-04T16:07:09.952Z"
   },
   {
    "duration": 1056,
    "start_time": "2022-05-04T16:07:13.155Z"
   },
   {
    "duration": 2272,
    "start_time": "2022-05-04T16:07:14.213Z"
   },
   {
    "duration": 19,
    "start_time": "2022-05-04T16:07:16.487Z"
   },
   {
    "duration": 1052,
    "start_time": "2022-05-04T16:07:16.509Z"
   },
   {
    "duration": 625,
    "start_time": "2022-05-04T16:07:17.654Z"
   },
   {
    "duration": 11,
    "start_time": "2022-05-04T16:07:18.283Z"
   },
   {
    "duration": 11,
    "start_time": "2022-05-04T16:07:18.296Z"
   },
   {
    "duration": 854,
    "start_time": "2022-05-04T16:07:18.309Z"
   },
   {
    "duration": 169282,
    "start_time": "2022-05-04T16:07:19.166Z"
   },
   {
    "duration": 1100,
    "start_time": "2022-05-04T16:10:08.452Z"
   },
   {
    "duration": 20,
    "start_time": "2022-05-04T16:10:09.554Z"
   },
   {
    "duration": 9,
    "start_time": "2022-05-04T16:10:09.577Z"
   },
   {
    "duration": 16910,
    "start_time": "2022-05-04T16:10:09.588Z"
   },
   {
    "duration": 6,
    "start_time": "2022-05-04T16:10:26.500Z"
   },
   {
    "duration": 5949,
    "start_time": "2022-05-05T08:41:50.697Z"
   },
   {
    "duration": 38,
    "start_time": "2022-05-05T08:41:56.650Z"
   },
   {
    "duration": 62,
    "start_time": "2022-05-05T08:41:56.690Z"
   },
   {
    "duration": 99,
    "start_time": "2022-05-05T08:41:56.755Z"
   },
   {
    "duration": 35,
    "start_time": "2022-05-05T08:41:56.857Z"
   },
   {
    "duration": 450,
    "start_time": "2022-05-05T08:41:56.895Z"
   },
   {
    "duration": 3902,
    "start_time": "2022-05-05T08:41:57.347Z"
   },
   {
    "duration": 2963,
    "start_time": "2022-05-05T08:42:01.252Z"
   },
   {
    "duration": 956,
    "start_time": "2022-05-05T08:42:04.218Z"
   },
   {
    "duration": 2079,
    "start_time": "2022-05-05T08:42:05.179Z"
   },
   {
    "duration": 19,
    "start_time": "2022-05-05T08:42:07.260Z"
   },
   {
    "duration": 1113,
    "start_time": "2022-05-05T08:42:07.281Z"
   },
   {
    "duration": 595,
    "start_time": "2022-05-05T08:42:08.398Z"
   },
   {
    "duration": 11,
    "start_time": "2022-05-05T08:42:08.995Z"
   },
   {
    "duration": 15,
    "start_time": "2022-05-05T08:42:09.008Z"
   },
   {
    "duration": 786,
    "start_time": "2022-05-05T08:42:09.025Z"
   },
   {
    "duration": 150061,
    "start_time": "2022-05-05T08:42:09.814Z"
   },
   {
    "duration": 1823,
    "start_time": "2022-05-05T08:44:39.877Z"
   },
   {
    "duration": 20,
    "start_time": "2022-05-05T08:44:41.703Z"
   },
   {
    "duration": 11,
    "start_time": "2022-05-05T08:44:41.726Z"
   },
   {
    "duration": 16285,
    "start_time": "2022-05-05T08:44:41.739Z"
   },
   {
    "duration": 187,
    "start_time": "2022-05-05T08:44:58.027Z"
   },
   {
    "duration": 2103,
    "start_time": "2022-05-05T08:49:30.672Z"
   },
   {
    "duration": 27,
    "start_time": "2022-05-05T08:49:32.778Z"
   },
   {
    "duration": 49,
    "start_time": "2022-05-05T08:49:32.807Z"
   },
   {
    "duration": 84,
    "start_time": "2022-05-05T08:49:32.859Z"
   },
   {
    "duration": 16,
    "start_time": "2022-05-05T08:49:32.945Z"
   },
   {
    "duration": 475,
    "start_time": "2022-05-05T08:49:32.964Z"
   },
   {
    "duration": 5581,
    "start_time": "2022-05-05T08:49:33.441Z"
   },
   {
    "duration": 3639,
    "start_time": "2022-05-05T08:49:39.025Z"
   },
   {
    "duration": 1436,
    "start_time": "2022-05-05T08:49:42.666Z"
   },
   {
    "duration": 2903,
    "start_time": "2022-05-05T08:49:44.107Z"
   },
   {
    "duration": 24,
    "start_time": "2022-05-05T08:49:47.013Z"
   },
   {
    "duration": 1170,
    "start_time": "2022-05-05T08:49:47.040Z"
   },
   {
    "duration": 587,
    "start_time": "2022-05-05T08:49:48.292Z"
   },
   {
    "duration": 15,
    "start_time": "2022-05-05T08:49:48.882Z"
   },
   {
    "duration": 10,
    "start_time": "2022-05-05T08:49:48.899Z"
   },
   {
    "duration": 815,
    "start_time": "2022-05-05T08:49:48.911Z"
   },
   {
    "duration": 154242,
    "start_time": "2022-05-05T08:49:49.728Z"
   },
   {
    "duration": 1835,
    "start_time": "2022-05-05T08:52:23.973Z"
   },
   {
    "duration": 22,
    "start_time": "2022-05-05T08:52:25.810Z"
   },
   {
    "duration": 8,
    "start_time": "2022-05-05T08:52:25.834Z"
   },
   {
    "duration": 18738,
    "start_time": "2022-05-05T08:52:25.844Z"
   },
   {
    "duration": 169,
    "start_time": "2022-05-05T08:52:44.585Z"
   },
   {
    "duration": 2392,
    "start_time": "2022-05-05T08:57:35.571Z"
   },
   {
    "duration": 25,
    "start_time": "2022-05-05T08:57:37.966Z"
   },
   {
    "duration": 44,
    "start_time": "2022-05-05T08:57:37.994Z"
   },
   {
    "duration": 75,
    "start_time": "2022-05-05T08:57:38.041Z"
   },
   {
    "duration": 14,
    "start_time": "2022-05-05T08:57:38.118Z"
   },
   {
    "duration": 476,
    "start_time": "2022-05-05T08:57:38.133Z"
   },
   {
    "duration": 3930,
    "start_time": "2022-05-05T08:57:38.612Z"
   },
   {
    "duration": 2765,
    "start_time": "2022-05-05T08:57:42.545Z"
   },
   {
    "duration": 1003,
    "start_time": "2022-05-05T08:57:45.312Z"
   },
   {
    "duration": 2431,
    "start_time": "2022-05-05T08:57:46.319Z"
   },
   {
    "duration": 17,
    "start_time": "2022-05-05T08:57:48.753Z"
   },
   {
    "duration": 727,
    "start_time": "2022-05-05T08:57:48.772Z"
   },
   {
    "duration": 673,
    "start_time": "2022-05-05T08:57:49.502Z"
   },
   {
    "duration": 19,
    "start_time": "2022-05-05T08:57:50.177Z"
   },
   {
    "duration": 11,
    "start_time": "2022-05-05T08:57:50.198Z"
   },
   {
    "duration": 790,
    "start_time": "2022-05-05T08:57:50.211Z"
   },
   {
    "duration": 186754,
    "start_time": "2022-05-05T08:57:51.003Z"
   },
   {
    "duration": 1948,
    "start_time": "2022-05-05T09:00:57.759Z"
   },
   {
    "duration": 17,
    "start_time": "2022-05-05T09:00:59.710Z"
   },
   {
    "duration": 13,
    "start_time": "2022-05-05T09:00:59.730Z"
   },
   {
    "duration": 17750,
    "start_time": "2022-05-05T09:00:59.745Z"
   },
   {
    "duration": 185,
    "start_time": "2022-05-05T09:01:17.498Z"
   },
   {
    "duration": 2657,
    "start_time": "2022-05-05T09:02:28.029Z"
   },
   {
    "duration": 27,
    "start_time": "2022-05-05T09:02:30.688Z"
   },
   {
    "duration": 48,
    "start_time": "2022-05-05T09:02:30.718Z"
   },
   {
    "duration": 80,
    "start_time": "2022-05-05T09:02:30.770Z"
   },
   {
    "duration": 41,
    "start_time": "2022-05-05T09:02:30.852Z"
   },
   {
    "duration": 460,
    "start_time": "2022-05-05T09:02:30.896Z"
   },
   {
    "duration": 4188,
    "start_time": "2022-05-05T09:02:31.359Z"
   },
   {
    "duration": 3074,
    "start_time": "2022-05-05T09:02:35.549Z"
   },
   {
    "duration": 1013,
    "start_time": "2022-05-05T09:02:38.626Z"
   },
   {
    "duration": 2169,
    "start_time": "2022-05-05T09:02:39.644Z"
   },
   {
    "duration": 22,
    "start_time": "2022-05-05T09:02:41.816Z"
   },
   {
    "duration": 1064,
    "start_time": "2022-05-05T09:02:41.840Z"
   },
   {
    "duration": 963,
    "start_time": "2022-05-05T09:02:42.908Z"
   },
   {
    "duration": 23,
    "start_time": "2022-05-05T09:02:43.874Z"
   },
   {
    "duration": 15,
    "start_time": "2022-05-05T09:02:43.899Z"
   },
   {
    "duration": 1310,
    "start_time": "2022-05-05T09:02:43.917Z"
   },
   {
    "duration": 2271,
    "start_time": "2022-05-05T09:05:10.011Z"
   },
   {
    "duration": 27,
    "start_time": "2022-05-05T09:05:12.284Z"
   },
   {
    "duration": 49,
    "start_time": "2022-05-05T09:05:12.314Z"
   },
   {
    "duration": 76,
    "start_time": "2022-05-05T09:05:12.366Z"
   },
   {
    "duration": 17,
    "start_time": "2022-05-05T09:05:12.444Z"
   },
   {
    "duration": 466,
    "start_time": "2022-05-05T09:05:12.464Z"
   },
   {
    "duration": 5688,
    "start_time": "2022-05-05T09:05:12.933Z"
   },
   {
    "duration": 3471,
    "start_time": "2022-05-05T09:05:18.624Z"
   },
   {
    "duration": 1086,
    "start_time": "2022-05-05T09:05:22.097Z"
   },
   {
    "duration": 2091,
    "start_time": "2022-05-05T09:05:23.195Z"
   },
   {
    "duration": 19,
    "start_time": "2022-05-05T09:05:25.288Z"
   },
   {
    "duration": 1389,
    "start_time": "2022-05-05T09:05:25.310Z"
   },
   {
    "duration": 674,
    "start_time": "2022-05-05T09:05:26.703Z"
   },
   {
    "duration": 16,
    "start_time": "2022-05-05T09:05:27.379Z"
   },
   {
    "duration": 10,
    "start_time": "2022-05-05T09:05:27.397Z"
   },
   {
    "duration": 771,
    "start_time": "2022-05-05T09:05:27.409Z"
   },
   {
    "duration": 1960,
    "start_time": "2022-05-05T09:08:12.617Z"
   },
   {
    "duration": 38,
    "start_time": "2022-05-05T09:08:14.580Z"
   },
   {
    "duration": 50,
    "start_time": "2022-05-05T09:08:14.620Z"
   },
   {
    "duration": 72,
    "start_time": "2022-05-05T09:08:14.673Z"
   },
   {
    "duration": 15,
    "start_time": "2022-05-05T09:08:14.747Z"
   },
   {
    "duration": 455,
    "start_time": "2022-05-05T09:08:14.764Z"
   },
   {
    "duration": 4105,
    "start_time": "2022-05-05T09:08:15.221Z"
   },
   {
    "duration": 2922,
    "start_time": "2022-05-05T09:08:19.328Z"
   },
   {
    "duration": 1049,
    "start_time": "2022-05-05T09:08:22.253Z"
   },
   {
    "duration": 2092,
    "start_time": "2022-05-05T09:08:23.306Z"
   },
   {
    "duration": 19,
    "start_time": "2022-05-05T09:08:25.400Z"
   },
   {
    "duration": 673,
    "start_time": "2022-05-05T09:08:25.421Z"
   },
   {
    "duration": 856,
    "start_time": "2022-05-05T09:08:26.098Z"
   },
   {
    "duration": 13,
    "start_time": "2022-05-05T09:08:26.957Z"
   },
   {
    "duration": 27,
    "start_time": "2022-05-05T09:08:26.972Z"
   },
   {
    "duration": 1133,
    "start_time": "2022-05-05T09:08:27.001Z"
   },
   {
    "duration": 174751,
    "start_time": "2022-05-05T09:08:28.136Z"
   },
   {
    "duration": 1910,
    "start_time": "2022-05-05T09:11:22.893Z"
   },
   {
    "duration": 18,
    "start_time": "2022-05-05T09:11:24.806Z"
   },
   {
    "duration": 9,
    "start_time": "2022-05-05T09:11:24.826Z"
   },
   {
    "duration": 16271,
    "start_time": "2022-05-05T09:11:24.837Z"
   },
   {
    "duration": 13,
    "start_time": "2022-05-05T09:11:41.111Z"
   },
   {
    "duration": 2064,
    "start_time": "2022-05-05T10:22:59.602Z"
   },
   {
    "duration": 37,
    "start_time": "2022-05-05T10:23:01.669Z"
   },
   {
    "duration": 48,
    "start_time": "2022-05-05T10:23:01.709Z"
   },
   {
    "duration": 7,
    "start_time": "2022-05-05T10:23:01.760Z"
   },
   {
    "duration": 59,
    "start_time": "2022-05-05T10:23:01.793Z"
   },
   {
    "duration": 40,
    "start_time": "2022-05-05T10:23:01.854Z"
   },
   {
    "duration": 490,
    "start_time": "2022-05-05T10:23:01.896Z"
   },
   {
    "duration": 4034,
    "start_time": "2022-05-05T10:23:02.389Z"
   },
   {
    "duration": 2922,
    "start_time": "2022-05-05T10:23:06.425Z"
   },
   {
    "duration": 994,
    "start_time": "2022-05-05T10:23:09.352Z"
   },
   {
    "duration": 2186,
    "start_time": "2022-05-05T10:23:10.348Z"
   },
   {
    "duration": 22,
    "start_time": "2022-05-05T10:23:12.537Z"
   },
   {
    "duration": 1831,
    "start_time": "2022-05-05T10:23:12.561Z"
   },
   {
    "duration": 600,
    "start_time": "2022-05-05T10:23:14.396Z"
   },
   {
    "duration": 12,
    "start_time": "2022-05-05T10:23:14.998Z"
   },
   {
    "duration": 19,
    "start_time": "2022-05-05T10:23:15.013Z"
   },
   {
    "duration": 1046,
    "start_time": "2022-05-05T10:23:15.035Z"
   },
   {
    "duration": 2409,
    "start_time": "2022-05-05T10:23:45.710Z"
   },
   {
    "duration": 26,
    "start_time": "2022-05-05T10:23:48.122Z"
   },
   {
    "duration": 55,
    "start_time": "2022-05-05T10:23:48.150Z"
   },
   {
    "duration": 9,
    "start_time": "2022-05-05T10:23:48.208Z"
   },
   {
    "duration": 81,
    "start_time": "2022-05-05T10:23:48.219Z"
   },
   {
    "duration": 16,
    "start_time": "2022-05-05T10:23:48.302Z"
   },
   {
    "duration": 438,
    "start_time": "2022-05-05T10:23:48.320Z"
   },
   {
    "duration": 3919,
    "start_time": "2022-05-05T10:23:48.760Z"
   },
   {
    "duration": 2739,
    "start_time": "2022-05-05T10:23:52.681Z"
   },
   {
    "duration": 973,
    "start_time": "2022-05-05T10:23:55.423Z"
   },
   {
    "duration": 2004,
    "start_time": "2022-05-05T10:23:56.398Z"
   },
   {
    "duration": 20,
    "start_time": "2022-05-05T10:23:58.404Z"
   },
   {
    "duration": 1771,
    "start_time": "2022-05-05T10:23:58.427Z"
   },
   {
    "duration": 683,
    "start_time": "2022-05-05T10:24:00.202Z"
   },
   {
    "duration": 12,
    "start_time": "2022-05-05T10:24:00.888Z"
   },
   {
    "duration": 15,
    "start_time": "2022-05-05T10:24:00.903Z"
   },
   {
    "duration": 814,
    "start_time": "2022-05-05T10:24:00.920Z"
   },
   {
    "duration": 154959,
    "start_time": "2022-05-05T10:24:01.736Z"
   },
   {
    "duration": 1801,
    "start_time": "2022-05-05T10:26:36.697Z"
   },
   {
    "duration": 18,
    "start_time": "2022-05-05T10:26:38.500Z"
   },
   {
    "duration": 12,
    "start_time": "2022-05-05T10:26:38.520Z"
   },
   {
    "duration": 15776,
    "start_time": "2022-05-05T10:26:38.534Z"
   },
   {
    "duration": 11,
    "start_time": "2022-05-05T10:26:54.312Z"
   },
   {
    "duration": 2498,
    "start_time": "2022-05-05T10:30:51.550Z"
   },
   {
    "duration": 26,
    "start_time": "2022-05-05T10:30:54.051Z"
   },
   {
    "duration": 51,
    "start_time": "2022-05-05T10:30:54.079Z"
   },
   {
    "duration": 88,
    "start_time": "2022-05-05T10:30:54.133Z"
   },
   {
    "duration": 10,
    "start_time": "2022-05-05T10:30:54.223Z"
   },
   {
    "duration": 17,
    "start_time": "2022-05-05T10:30:54.235Z"
   },
   {
    "duration": 469,
    "start_time": "2022-05-05T10:30:54.255Z"
   },
   {
    "duration": 4138,
    "start_time": "2022-05-05T10:30:54.726Z"
   },
   {
    "duration": 3016,
    "start_time": "2022-05-05T10:30:58.867Z"
   },
   {
    "duration": 1008,
    "start_time": "2022-05-05T10:31:01.887Z"
   },
   {
    "duration": 2457,
    "start_time": "2022-05-05T10:31:02.897Z"
   },
   {
    "duration": 19,
    "start_time": "2022-05-05T10:31:05.356Z"
   },
   {
    "duration": 2117,
    "start_time": "2022-05-05T10:31:05.377Z"
   },
   {
    "duration": 591,
    "start_time": "2022-05-05T10:31:07.499Z"
   },
   {
    "duration": 11,
    "start_time": "2022-05-05T10:31:08.093Z"
   },
   {
    "duration": 10,
    "start_time": "2022-05-05T10:31:08.106Z"
   },
   {
    "duration": 822,
    "start_time": "2022-05-05T10:31:08.119Z"
   },
   {
    "duration": 165037,
    "start_time": "2022-05-05T10:31:08.944Z"
   },
   {
    "duration": 1821,
    "start_time": "2022-05-05T10:33:53.983Z"
   },
   {
    "duration": 19,
    "start_time": "2022-05-05T10:33:55.806Z"
   },
   {
    "duration": 9,
    "start_time": "2022-05-05T10:33:55.827Z"
   },
   {
    "duration": 16862,
    "start_time": "2022-05-05T10:33:55.838Z"
   },
   {
    "duration": 11,
    "start_time": "2022-05-05T10:34:12.702Z"
   },
   {
    "duration": 2149,
    "start_time": "2022-05-05T11:33:39.709Z"
   },
   {
    "duration": 37,
    "start_time": "2022-05-05T11:33:41.863Z"
   },
   {
    "duration": 52,
    "start_time": "2022-05-05T11:33:41.902Z"
   },
   {
    "duration": 82,
    "start_time": "2022-05-05T11:33:41.959Z"
   },
   {
    "duration": 13,
    "start_time": "2022-05-05T11:33:42.043Z"
   },
   {
    "duration": 41,
    "start_time": "2022-05-05T11:33:42.059Z"
   },
   {
    "duration": 458,
    "start_time": "2022-05-05T11:33:42.103Z"
   },
   {
    "duration": 6088,
    "start_time": "2022-05-05T11:33:42.563Z"
   },
   {
    "duration": 4212,
    "start_time": "2022-05-05T11:33:48.654Z"
   },
   {
    "duration": 1476,
    "start_time": "2022-05-05T11:33:52.872Z"
   },
   {
    "duration": 3550,
    "start_time": "2022-05-05T11:33:54.352Z"
   },
   {
    "duration": 19,
    "start_time": "2022-05-05T11:33:57.904Z"
   },
   {
    "duration": 675,
    "start_time": "2022-05-05T11:33:57.926Z"
   },
   {
    "duration": 702,
    "start_time": "2022-05-05T11:33:58.604Z"
   },
   {
    "duration": 16,
    "start_time": "2022-05-05T11:33:59.309Z"
   },
   {
    "duration": 15,
    "start_time": "2022-05-05T11:33:59.328Z"
   },
   {
    "duration": 1470,
    "start_time": "2022-05-05T11:33:59.346Z"
   },
   {
    "duration": 2257,
    "start_time": "2022-05-05T11:34:26.293Z"
   },
   {
    "duration": 34,
    "start_time": "2022-05-05T11:34:28.554Z"
   },
   {
    "duration": 80,
    "start_time": "2022-05-05T11:34:28.591Z"
   },
   {
    "duration": 80,
    "start_time": "2022-05-05T11:34:28.675Z"
   },
   {
    "duration": 39,
    "start_time": "2022-05-05T11:34:28.757Z"
   },
   {
    "duration": 17,
    "start_time": "2022-05-05T11:34:28.799Z"
   },
   {
    "duration": 490,
    "start_time": "2022-05-05T11:34:28.819Z"
   },
   {
    "duration": 5936,
    "start_time": "2022-05-05T11:34:29.313Z"
   },
   {
    "duration": 3119,
    "start_time": "2022-05-05T11:34:35.251Z"
   },
   {
    "duration": 1086,
    "start_time": "2022-05-05T11:34:38.374Z"
   },
   {
    "duration": 2492,
    "start_time": "2022-05-05T11:34:39.462Z"
   },
   {
    "duration": 26,
    "start_time": "2022-05-05T11:34:41.958Z"
   },
   {
    "duration": 2810,
    "start_time": "2022-05-05T11:34:41.987Z"
   },
   {
    "duration": 621,
    "start_time": "2022-05-05T11:34:44.802Z"
   },
   {
    "duration": 13,
    "start_time": "2022-05-05T11:34:45.426Z"
   },
   {
    "duration": 13,
    "start_time": "2022-05-05T11:34:45.442Z"
   },
   {
    "duration": 980,
    "start_time": "2022-05-05T11:34:45.457Z"
   },
   {
    "duration": 191721,
    "start_time": "2022-05-05T11:34:46.440Z"
   },
   {
    "duration": 1749,
    "start_time": "2022-05-05T11:37:58.163Z"
   },
   {
    "duration": 25,
    "start_time": "2022-05-05T11:37:59.915Z"
   },
   {
    "duration": 11,
    "start_time": "2022-05-05T11:37:59.944Z"
   },
   {
    "duration": 18957,
    "start_time": "2022-05-05T11:37:59.958Z"
   },
   {
    "duration": 18,
    "start_time": "2022-05-05T11:38:18.917Z"
   },
   {
    "duration": 2275,
    "start_time": "2022-05-05T12:31:43.437Z"
   },
   {
    "duration": 28,
    "start_time": "2022-05-05T12:31:45.716Z"
   },
   {
    "duration": 61,
    "start_time": "2022-05-05T12:31:45.748Z"
   },
   {
    "duration": 82,
    "start_time": "2022-05-05T12:31:45.813Z"
   },
   {
    "duration": 10,
    "start_time": "2022-05-05T12:31:45.897Z"
   },
   {
    "duration": 10,
    "start_time": "2022-05-05T12:31:45.909Z"
   },
   {
    "duration": 17,
    "start_time": "2022-05-05T12:31:45.921Z"
   },
   {
    "duration": 496,
    "start_time": "2022-05-05T12:31:45.940Z"
   },
   {
    "duration": 4160,
    "start_time": "2022-05-05T12:31:46.439Z"
   },
   {
    "duration": 2872,
    "start_time": "2022-05-05T12:31:50.602Z"
   },
   {
    "duration": 1017,
    "start_time": "2022-05-05T12:31:53.476Z"
   },
   {
    "duration": 2135,
    "start_time": "2022-05-05T12:31:54.495Z"
   },
   {
    "duration": 20,
    "start_time": "2022-05-05T12:31:56.632Z"
   },
   {
    "duration": 654,
    "start_time": "2022-05-05T12:31:56.654Z"
   },
   {
    "duration": 866,
    "start_time": "2022-05-05T12:31:57.400Z"
   },
   {
    "duration": 31,
    "start_time": "2022-05-05T12:31:58.269Z"
   },
   {
    "duration": 12,
    "start_time": "2022-05-05T12:31:58.302Z"
   },
   {
    "duration": 906,
    "start_time": "2022-05-05T12:31:58.317Z"
   },
   {
    "duration": 159221,
    "start_time": "2022-05-05T12:31:59.226Z"
   },
   {
    "duration": 1963,
    "start_time": "2022-05-05T12:34:38.449Z"
   },
   {
    "duration": 24,
    "start_time": "2022-05-05T12:34:40.415Z"
   },
   {
    "duration": 12,
    "start_time": "2022-05-05T12:34:40.442Z"
   },
   {
    "duration": 24633,
    "start_time": "2022-05-05T12:34:40.458Z"
   },
   {
    "duration": 16,
    "start_time": "2022-05-05T12:35:05.095Z"
   },
   {
    "duration": 2324,
    "start_time": "2022-05-05T13:01:13.512Z"
   },
   {
    "duration": 26,
    "start_time": "2022-05-05T13:01:15.839Z"
   },
   {
    "duration": 58,
    "start_time": "2022-05-05T13:01:15.867Z"
   },
   {
    "duration": 85,
    "start_time": "2022-05-05T13:01:15.928Z"
   },
   {
    "duration": 13,
    "start_time": "2022-05-05T13:01:16.016Z"
   },
   {
    "duration": 10,
    "start_time": "2022-05-05T13:01:16.033Z"
   },
   {
    "duration": 51,
    "start_time": "2022-05-05T13:01:16.045Z"
   },
   {
    "duration": 4195,
    "start_time": "2022-05-05T13:01:16.098Z"
   },
   {
    "duration": 2417,
    "start_time": "2022-05-05T13:01:20.295Z"
   },
   {
    "duration": 1492,
    "start_time": "2022-05-05T13:01:22.717Z"
   },
   {
    "duration": 2215,
    "start_time": "2022-05-05T13:01:24.211Z"
   },
   {
    "duration": 29,
    "start_time": "2022-05-05T13:01:26.430Z"
   },
   {
    "duration": 1031,
    "start_time": "2022-05-05T13:01:26.463Z"
   },
   {
    "duration": 816,
    "start_time": "2022-05-05T13:01:27.498Z"
   },
   {
    "duration": 12,
    "start_time": "2022-05-05T13:01:28.317Z"
   },
   {
    "duration": 13,
    "start_time": "2022-05-05T13:01:28.332Z"
   },
   {
    "duration": 952,
    "start_time": "2022-05-05T13:01:28.347Z"
   },
   {
    "duration": 177644,
    "start_time": "2022-05-05T13:01:29.301Z"
   },
   {
    "duration": 1372,
    "start_time": "2022-05-05T13:04:26.948Z"
   },
   {
    "duration": 26,
    "start_time": "2022-05-05T13:04:28.406Z"
   },
   {
    "duration": 9,
    "start_time": "2022-05-05T13:04:28.434Z"
   },
   {
    "duration": 18089,
    "start_time": "2022-05-05T13:04:28.445Z"
   },
   {
    "duration": 12,
    "start_time": "2022-05-05T13:04:46.536Z"
   },
   {
    "duration": 2093,
    "start_time": "2022-05-05T13:52:24.492Z"
   },
   {
    "duration": 34,
    "start_time": "2022-05-05T13:52:26.588Z"
   },
   {
    "duration": 47,
    "start_time": "2022-05-05T13:52:26.624Z"
   },
   {
    "duration": 76,
    "start_time": "2022-05-05T13:52:26.674Z"
   },
   {
    "duration": 10,
    "start_time": "2022-05-05T13:52:26.752Z"
   },
   {
    "duration": 30,
    "start_time": "2022-05-05T13:52:26.765Z"
   },
   {
    "duration": 22,
    "start_time": "2022-05-05T13:52:26.800Z"
   },
   {
    "duration": 4201,
    "start_time": "2022-05-05T13:52:26.824Z"
   },
   {
    "duration": 2476,
    "start_time": "2022-05-05T13:52:31.027Z"
   },
   {
    "duration": 609,
    "start_time": "2022-05-05T13:52:33.507Z"
   },
   {
    "duration": 0,
    "start_time": "2022-05-05T13:52:34.118Z"
   },
   {
    "duration": 0,
    "start_time": "2022-05-05T13:52:34.120Z"
   },
   {
    "duration": 0,
    "start_time": "2022-05-05T13:52:34.122Z"
   },
   {
    "duration": 0,
    "start_time": "2022-05-05T13:52:34.123Z"
   },
   {
    "duration": 0,
    "start_time": "2022-05-05T13:52:34.125Z"
   },
   {
    "duration": 0,
    "start_time": "2022-05-05T13:52:34.126Z"
   },
   {
    "duration": 0,
    "start_time": "2022-05-05T13:52:34.127Z"
   },
   {
    "duration": 0,
    "start_time": "2022-05-05T13:52:34.129Z"
   },
   {
    "duration": 0,
    "start_time": "2022-05-05T13:52:34.130Z"
   },
   {
    "duration": 0,
    "start_time": "2022-05-05T13:52:34.131Z"
   },
   {
    "duration": 0,
    "start_time": "2022-05-05T13:52:34.133Z"
   },
   {
    "duration": 0,
    "start_time": "2022-05-05T13:52:34.134Z"
   },
   {
    "duration": 0,
    "start_time": "2022-05-05T13:52:34.136Z"
   },
   {
    "duration": 0,
    "start_time": "2022-05-05T13:52:34.137Z"
   },
   {
    "duration": 2112,
    "start_time": "2022-05-05T13:53:03.308Z"
   },
   {
    "duration": 26,
    "start_time": "2022-05-05T13:53:05.423Z"
   },
   {
    "duration": 50,
    "start_time": "2022-05-05T13:53:05.451Z"
   },
   {
    "duration": 58,
    "start_time": "2022-05-05T13:53:05.504Z"
   },
   {
    "duration": 35,
    "start_time": "2022-05-05T13:53:05.565Z"
   },
   {
    "duration": 9,
    "start_time": "2022-05-05T13:53:05.603Z"
   },
   {
    "duration": 15,
    "start_time": "2022-05-05T13:53:05.614Z"
   },
   {
    "duration": 4028,
    "start_time": "2022-05-05T13:53:05.631Z"
   },
   {
    "duration": 2394,
    "start_time": "2022-05-05T13:53:09.662Z"
   },
   {
    "duration": 6924,
    "start_time": "2022-05-05T13:53:12.059Z"
   },
   {
    "duration": 1015,
    "start_time": "2022-05-05T13:53:18.986Z"
   },
   {
    "duration": 2130,
    "start_time": "2022-05-05T13:53:20.004Z"
   },
   {
    "duration": 20,
    "start_time": "2022-05-05T13:53:22.137Z"
   },
   {
    "duration": 3745,
    "start_time": "2022-05-05T13:53:22.161Z"
   },
   {
    "duration": 744,
    "start_time": "2022-05-05T13:53:25.909Z"
   },
   {
    "duration": 13,
    "start_time": "2022-05-05T13:53:26.655Z"
   },
   {
    "duration": 26,
    "start_time": "2022-05-05T13:53:26.671Z"
   },
   {
    "duration": 846,
    "start_time": "2022-05-05T13:53:26.700Z"
   },
   {
    "duration": 2637,
    "start_time": "2022-05-05T13:56:13.929Z"
   },
   {
    "duration": 33,
    "start_time": "2022-05-05T13:56:16.570Z"
   },
   {
    "duration": 61,
    "start_time": "2022-05-05T13:56:16.606Z"
   },
   {
    "duration": 83,
    "start_time": "2022-05-05T13:56:16.670Z"
   },
   {
    "duration": 10,
    "start_time": "2022-05-05T13:56:16.755Z"
   },
   {
    "duration": 37,
    "start_time": "2022-05-05T13:56:16.767Z"
   },
   {
    "duration": 23,
    "start_time": "2022-05-05T13:56:16.807Z"
   },
   {
    "duration": 5479,
    "start_time": "2022-05-05T13:56:16.834Z"
   },
   {
    "duration": 2745,
    "start_time": "2022-05-05T13:56:22.315Z"
   },
   {
    "duration": 8020,
    "start_time": "2022-05-05T13:56:25.064Z"
   },
   {
    "duration": 1576,
    "start_time": "2022-05-05T13:56:33.087Z"
   },
   {
    "duration": 2420,
    "start_time": "2022-05-05T13:56:34.666Z"
   },
   {
    "duration": 36,
    "start_time": "2022-05-05T13:56:37.088Z"
   },
   {
    "duration": 3083,
    "start_time": "2022-05-05T13:56:37.127Z"
   },
   {
    "duration": 758,
    "start_time": "2022-05-05T13:56:40.214Z"
   },
   {
    "duration": 11,
    "start_time": "2022-05-05T13:56:40.974Z"
   },
   {
    "duration": 19,
    "start_time": "2022-05-05T13:56:40.988Z"
   },
   {
    "duration": 869,
    "start_time": "2022-05-05T13:56:41.012Z"
   },
   {
    "duration": 181521,
    "start_time": "2022-05-05T13:56:41.884Z"
   },
   {
    "duration": 1606,
    "start_time": "2022-05-05T13:59:43.408Z"
   },
   {
    "duration": 21,
    "start_time": "2022-05-05T13:59:45.016Z"
   },
   {
    "duration": 11,
    "start_time": "2022-05-05T13:59:45.040Z"
   },
   {
    "duration": 19733,
    "start_time": "2022-05-05T13:59:45.054Z"
   },
   {
    "duration": 15,
    "start_time": "2022-05-05T14:00:04.794Z"
   },
   {
    "duration": 2055,
    "start_time": "2022-05-05T14:12:14.139Z"
   },
   {
    "duration": 741,
    "start_time": "2022-05-05T14:12:16.197Z"
   },
   {
    "duration": 29,
    "start_time": "2022-05-05T14:12:16.941Z"
   },
   {
    "duration": 63,
    "start_time": "2022-05-05T14:12:16.973Z"
   },
   {
    "duration": 136,
    "start_time": "2022-05-05T14:12:17.040Z"
   },
   {
    "duration": 30,
    "start_time": "2022-05-05T14:12:17.180Z"
   },
   {
    "duration": 21,
    "start_time": "2022-05-05T14:12:17.214Z"
   },
   {
    "duration": 23,
    "start_time": "2022-05-05T14:12:17.238Z"
   },
   {
    "duration": 3874,
    "start_time": "2022-05-05T14:12:17.264Z"
   },
   {
    "duration": 10590,
    "start_time": "2022-05-05T14:12:21.141Z"
   },
   {
    "duration": 1231,
    "start_time": "2022-05-05T14:12:31.734Z"
   },
   {
    "duration": 2547,
    "start_time": "2022-05-05T14:12:32.968Z"
   },
   {
    "duration": 20,
    "start_time": "2022-05-05T14:12:35.524Z"
   },
   {
    "duration": 3354,
    "start_time": "2022-05-05T14:12:35.547Z"
   },
   {
    "duration": 645,
    "start_time": "2022-05-05T14:12:38.904Z"
   },
   {
    "duration": 11,
    "start_time": "2022-05-05T14:12:39.552Z"
   },
   {
    "duration": 47,
    "start_time": "2022-05-05T14:12:39.566Z"
   },
   {
    "duration": 918,
    "start_time": "2022-05-05T14:12:39.616Z"
   },
   {
    "duration": 189185,
    "start_time": "2022-05-05T14:12:40.537Z"
   },
   {
    "duration": 1173,
    "start_time": "2022-05-05T14:15:49.725Z"
   },
   {
    "duration": 123,
    "start_time": "2022-05-05T14:15:50.901Z"
   },
   {
    "duration": 9,
    "start_time": "2022-05-05T14:15:51.027Z"
   },
   {
    "duration": 20988,
    "start_time": "2022-05-05T14:15:51.038Z"
   },
   {
    "duration": 11,
    "start_time": "2022-05-05T14:16:12.030Z"
   },
   {
    "duration": 1778,
    "start_time": "2022-05-05T14:17:38.820Z"
   },
   {
    "duration": 684,
    "start_time": "2022-05-05T14:17:40.603Z"
   },
   {
    "duration": 44,
    "start_time": "2022-05-05T14:17:41.290Z"
   },
   {
    "duration": 48,
    "start_time": "2022-05-05T14:17:41.336Z"
   },
   {
    "duration": 72,
    "start_time": "2022-05-05T14:17:41.388Z"
   },
   {
    "duration": 10,
    "start_time": "2022-05-05T14:17:41.462Z"
   },
   {
    "duration": 28,
    "start_time": "2022-05-05T14:17:41.474Z"
   },
   {
    "duration": 20,
    "start_time": "2022-05-05T14:17:41.510Z"
   },
   {
    "duration": 2989,
    "start_time": "2022-05-05T14:17:41.533Z"
   },
   {
    "duration": 14589,
    "start_time": "2022-05-05T14:17:44.526Z"
   },
   {
    "duration": 1256,
    "start_time": "2022-05-05T14:17:59.117Z"
   },
   {
    "duration": 2615,
    "start_time": "2022-05-05T14:18:00.375Z"
   },
   {
    "duration": 26,
    "start_time": "2022-05-05T14:18:02.994Z"
   },
   {
    "duration": 3909,
    "start_time": "2022-05-05T14:18:03.026Z"
   },
   {
    "duration": 650,
    "start_time": "2022-05-05T14:18:07.013Z"
   },
   {
    "duration": 28,
    "start_time": "2022-05-05T14:18:07.665Z"
   },
   {
    "duration": 11,
    "start_time": "2022-05-05T14:18:07.697Z"
   },
   {
    "duration": 941,
    "start_time": "2022-05-05T14:18:07.711Z"
   },
   {
    "duration": 1818,
    "start_time": "2022-05-05T14:19:54.779Z"
   },
   {
    "duration": 647,
    "start_time": "2022-05-05T14:19:56.601Z"
   },
   {
    "duration": 26,
    "start_time": "2022-05-05T14:19:57.251Z"
   },
   {
    "duration": 69,
    "start_time": "2022-05-05T14:19:57.281Z"
   },
   {
    "duration": 92,
    "start_time": "2022-05-05T14:19:57.353Z"
   },
   {
    "duration": 11,
    "start_time": "2022-05-05T14:19:57.447Z"
   },
   {
    "duration": 11,
    "start_time": "2022-05-05T14:19:57.460Z"
   },
   {
    "duration": 51,
    "start_time": "2022-05-05T14:19:57.474Z"
   },
   {
    "duration": 9045,
    "start_time": "2022-05-05T14:19:57.528Z"
   },
   {
    "duration": 3348,
    "start_time": "2022-05-05T14:20:06.578Z"
   },
   {
    "duration": 20,
    "start_time": "2022-05-05T14:20:09.929Z"
   },
   {
    "duration": 3463,
    "start_time": "2022-05-05T14:20:09.952Z"
   },
   {
    "duration": 759,
    "start_time": "2022-05-05T14:20:13.420Z"
   },
   {
    "duration": 23,
    "start_time": "2022-05-05T14:20:14.181Z"
   },
   {
    "duration": 33,
    "start_time": "2022-05-05T14:20:14.207Z"
   },
   {
    "duration": 1043,
    "start_time": "2022-05-05T14:20:14.243Z"
   },
   {
    "duration": 189240,
    "start_time": "2022-05-05T14:20:15.289Z"
   },
   {
    "duration": 1764,
    "start_time": "2022-05-05T14:23:24.532Z"
   },
   {
    "duration": 26,
    "start_time": "2022-05-05T14:23:26.299Z"
   },
   {
    "duration": 14,
    "start_time": "2022-05-05T14:23:26.328Z"
   },
   {
    "duration": 22484,
    "start_time": "2022-05-05T14:23:26.345Z"
   },
   {
    "duration": 12,
    "start_time": "2022-05-05T14:23:48.831Z"
   },
   {
    "duration": 1647,
    "start_time": "2022-05-05T14:25:57.546Z"
   },
   {
    "duration": 640,
    "start_time": "2022-05-05T14:25:59.196Z"
   },
   {
    "duration": 34,
    "start_time": "2022-05-05T14:25:59.839Z"
   },
   {
    "duration": 62,
    "start_time": "2022-05-05T14:25:59.876Z"
   },
   {
    "duration": 74,
    "start_time": "2022-05-05T14:25:59.940Z"
   },
   {
    "duration": 13,
    "start_time": "2022-05-05T14:26:00.017Z"
   },
   {
    "duration": 10,
    "start_time": "2022-05-05T14:26:00.034Z"
   },
   {
    "duration": 64,
    "start_time": "2022-05-05T14:26:00.047Z"
   },
   {
    "duration": 8973,
    "start_time": "2022-05-05T14:26:00.114Z"
   },
   {
    "duration": 2466,
    "start_time": "2022-05-05T14:26:09.096Z"
   },
   {
    "duration": 22,
    "start_time": "2022-05-05T14:26:11.565Z"
   },
   {
    "duration": 3020,
    "start_time": "2022-05-05T14:26:11.589Z"
   },
   {
    "duration": 714,
    "start_time": "2022-05-05T14:26:14.612Z"
   },
   {
    "duration": 12,
    "start_time": "2022-05-05T14:26:15.329Z"
   },
   {
    "duration": 12,
    "start_time": "2022-05-05T14:26:15.344Z"
   },
   {
    "duration": 911,
    "start_time": "2022-05-05T14:26:15.358Z"
   },
   {
    "duration": 195705,
    "start_time": "2022-05-05T14:26:16.272Z"
   },
   {
    "duration": 1814,
    "start_time": "2022-05-05T14:29:31.980Z"
   },
   {
    "duration": 21,
    "start_time": "2022-05-05T14:29:33.801Z"
   },
   {
    "duration": 11,
    "start_time": "2022-05-05T14:29:33.824Z"
   },
   {
    "duration": 19514,
    "start_time": "2022-05-05T14:29:33.838Z"
   },
   {
    "duration": 3268,
    "start_time": "2022-05-05T14:29:53.355Z"
   },
   {
    "duration": 11,
    "start_time": "2022-05-05T14:29:56.626Z"
   },
   {
    "duration": 2134,
    "start_time": "2022-05-05T14:52:06.703Z"
   },
   {
    "duration": 869,
    "start_time": "2022-05-05T14:52:08.841Z"
   },
   {
    "duration": 49,
    "start_time": "2022-05-05T14:52:09.714Z"
   },
   {
    "duration": 47,
    "start_time": "2022-05-05T14:52:09.767Z"
   },
   {
    "duration": 85,
    "start_time": "2022-05-05T14:52:09.817Z"
   },
   {
    "duration": 12,
    "start_time": "2022-05-05T14:52:09.904Z"
   },
   {
    "duration": 15,
    "start_time": "2022-05-05T14:52:09.918Z"
   },
   {
    "duration": 21,
    "start_time": "2022-05-05T14:52:09.935Z"
   },
   {
    "duration": 8404,
    "start_time": "2022-05-05T14:52:09.958Z"
   },
   {
    "duration": 2109,
    "start_time": "2022-05-05T14:52:18.365Z"
   },
   {
    "duration": 21,
    "start_time": "2022-05-05T14:52:20.476Z"
   },
   {
    "duration": 1003,
    "start_time": "2022-05-05T14:52:20.499Z"
   },
   {
    "duration": 644,
    "start_time": "2022-05-05T14:52:21.602Z"
   },
   {
    "duration": 11,
    "start_time": "2022-05-05T14:52:22.248Z"
   },
   {
    "duration": 12,
    "start_time": "2022-05-05T14:52:22.262Z"
   },
   {
    "duration": 1020,
    "start_time": "2022-05-05T14:52:22.276Z"
   },
   {
    "duration": 160294,
    "start_time": "2022-05-05T14:52:23.299Z"
   },
   {
    "duration": 1810,
    "start_time": "2022-05-05T14:55:03.595Z"
   },
   {
    "duration": 17,
    "start_time": "2022-05-05T14:55:05.408Z"
   },
   {
    "duration": 9,
    "start_time": "2022-05-05T14:55:05.427Z"
   },
   {
    "duration": 19177,
    "start_time": "2022-05-05T14:55:05.438Z"
   },
   {
    "duration": 169,
    "start_time": "2022-05-05T14:55:24.618Z"
   },
   {
    "duration": 0,
    "start_time": "2022-05-05T14:55:24.789Z"
   },
   {
    "duration": 1701,
    "start_time": "2022-05-05T14:56:00.592Z"
   },
   {
    "duration": 539,
    "start_time": "2022-05-05T14:56:02.296Z"
   },
   {
    "duration": 27,
    "start_time": "2022-05-05T14:56:02.837Z"
   },
   {
    "duration": 49,
    "start_time": "2022-05-05T14:56:02.867Z"
   },
   {
    "duration": 82,
    "start_time": "2022-05-05T14:56:02.919Z"
   },
   {
    "duration": 11,
    "start_time": "2022-05-05T14:56:03.003Z"
   },
   {
    "duration": 11,
    "start_time": "2022-05-05T14:56:03.016Z"
   },
   {
    "duration": 15,
    "start_time": "2022-05-05T14:56:03.030Z"
   },
   {
    "duration": 9120,
    "start_time": "2022-05-05T14:56:03.047Z"
   },
   {
    "duration": 3583,
    "start_time": "2022-05-05T14:56:12.171Z"
   },
   {
    "duration": 28,
    "start_time": "2022-05-05T14:56:15.757Z"
   },
   {
    "duration": 907,
    "start_time": "2022-05-05T14:56:15.792Z"
   },
   {
    "duration": 940,
    "start_time": "2022-05-05T14:56:16.703Z"
   },
   {
    "duration": 16,
    "start_time": "2022-05-05T14:56:17.650Z"
   },
   {
    "duration": 34,
    "start_time": "2022-05-05T14:56:17.670Z"
   },
   {
    "duration": 1543,
    "start_time": "2022-05-05T14:56:17.708Z"
   },
   {
    "duration": 2187,
    "start_time": "2022-05-05T14:58:38.781Z"
   },
   {
    "duration": 838,
    "start_time": "2022-05-05T14:58:40.971Z"
   },
   {
    "duration": 39,
    "start_time": "2022-05-05T14:58:41.813Z"
   },
   {
    "duration": 81,
    "start_time": "2022-05-05T14:58:41.857Z"
   },
   {
    "duration": 128,
    "start_time": "2022-05-05T14:58:41.942Z"
   },
   {
    "duration": 21,
    "start_time": "2022-05-05T14:58:42.074Z"
   },
   {
    "duration": 11,
    "start_time": "2022-05-05T14:58:42.098Z"
   },
   {
    "duration": 22,
    "start_time": "2022-05-05T14:58:42.112Z"
   },
   {
    "duration": 8863,
    "start_time": "2022-05-05T14:58:42.138Z"
   },
   {
    "duration": 2369,
    "start_time": "2022-05-05T14:58:51.005Z"
   },
   {
    "duration": 21,
    "start_time": "2022-05-05T14:58:53.377Z"
   },
   {
    "duration": 694,
    "start_time": "2022-05-05T14:58:53.400Z"
   },
   {
    "duration": 746,
    "start_time": "2022-05-05T14:58:54.097Z"
   },
   {
    "duration": 14,
    "start_time": "2022-05-05T14:58:54.847Z"
   },
   {
    "duration": 36,
    "start_time": "2022-05-05T14:58:54.864Z"
   },
   {
    "duration": 851,
    "start_time": "2022-05-05T14:58:54.902Z"
   },
   {
    "duration": 5,
    "start_time": "2022-05-05T14:58:55.755Z"
   },
   {
    "duration": 1832,
    "start_time": "2022-05-05T14:58:55.763Z"
   },
   {
    "duration": 20,
    "start_time": "2022-05-05T14:58:57.598Z"
   },
   {
    "duration": 9,
    "start_time": "2022-05-05T14:58:57.621Z"
   },
   {
    "duration": 19260,
    "start_time": "2022-05-05T14:58:57.633Z"
   },
   {
    "duration": 1216,
    "start_time": "2022-05-05T14:59:16.896Z"
   },
   {
    "duration": 0,
    "start_time": "2022-05-05T14:59:18.115Z"
   },
   {
    "duration": 2248,
    "start_time": "2022-05-05T15:21:55.606Z"
   },
   {
    "duration": 783,
    "start_time": "2022-05-05T15:21:57.859Z"
   },
   {
    "duration": 48,
    "start_time": "2022-05-05T15:21:58.648Z"
   },
   {
    "duration": 95,
    "start_time": "2022-05-05T15:21:58.700Z"
   },
   {
    "duration": 67,
    "start_time": "2022-05-05T15:21:58.798Z"
   },
   {
    "duration": 13,
    "start_time": "2022-05-05T15:21:58.892Z"
   },
   {
    "duration": 12,
    "start_time": "2022-05-05T15:21:58.908Z"
   },
   {
    "duration": 25,
    "start_time": "2022-05-05T15:21:58.923Z"
   },
   {
    "duration": 8631,
    "start_time": "2022-05-05T15:21:58.951Z"
   },
   {
    "duration": 2394,
    "start_time": "2022-05-05T15:22:07.592Z"
   },
   {
    "duration": 19,
    "start_time": "2022-05-05T15:22:09.990Z"
   },
   {
    "duration": 1994,
    "start_time": "2022-05-05T15:22:10.012Z"
   },
   {
    "duration": 986,
    "start_time": "2022-05-05T15:22:12.008Z"
   },
   {
    "duration": 14,
    "start_time": "2022-05-05T15:22:12.997Z"
   },
   {
    "duration": 14,
    "start_time": "2022-05-05T15:22:13.013Z"
   },
   {
    "duration": 836,
    "start_time": "2022-05-05T15:22:13.030Z"
   },
   {
    "duration": 3,
    "start_time": "2022-05-05T15:22:13.868Z"
   },
   {
    "duration": 1941,
    "start_time": "2022-05-05T15:22:13.874Z"
   },
   {
    "duration": 23,
    "start_time": "2022-05-05T15:22:15.818Z"
   },
   {
    "duration": 11,
    "start_time": "2022-05-05T15:22:15.843Z"
   },
   {
    "duration": 25109,
    "start_time": "2022-05-05T15:22:15.857Z"
   },
   {
    "duration": 31,
    "start_time": "2022-05-05T15:22:40.970Z"
   },
   {
    "duration": 1475,
    "start_time": "2022-05-05T15:40:57.018Z"
   },
   {
    "duration": 623,
    "start_time": "2022-05-05T15:40:58.496Z"
   },
   {
    "duration": 27,
    "start_time": "2022-05-05T15:40:59.121Z"
   },
   {
    "duration": 60,
    "start_time": "2022-05-05T15:40:59.151Z"
   },
   {
    "duration": 80,
    "start_time": "2022-05-05T15:40:59.214Z"
   },
   {
    "duration": 11,
    "start_time": "2022-05-05T15:40:59.297Z"
   },
   {
    "duration": 8,
    "start_time": "2022-05-05T15:40:59.311Z"
   },
   {
    "duration": 16,
    "start_time": "2022-05-05T15:40:59.322Z"
   },
   {
    "duration": 7693,
    "start_time": "2022-05-05T15:40:59.341Z"
   },
   {
    "duration": 2180,
    "start_time": "2022-05-05T15:41:07.038Z"
   },
   {
    "duration": 22,
    "start_time": "2022-05-05T15:41:09.221Z"
   },
   {
    "duration": 960,
    "start_time": "2022-05-05T15:41:09.245Z"
   },
   {
    "duration": 587,
    "start_time": "2022-05-05T15:41:10.295Z"
   },
   {
    "duration": 16,
    "start_time": "2022-05-05T15:41:10.884Z"
   },
   {
    "duration": 9,
    "start_time": "2022-05-05T15:41:10.903Z"
   },
   {
    "duration": 806,
    "start_time": "2022-05-05T15:41:10.914Z"
   },
   {
    "duration": 3,
    "start_time": "2022-05-05T15:41:11.722Z"
   },
   {
    "duration": 1869,
    "start_time": "2022-05-05T15:41:11.727Z"
   },
   {
    "duration": 17,
    "start_time": "2022-05-05T15:41:13.598Z"
   },
   {
    "duration": 8,
    "start_time": "2022-05-05T15:41:13.617Z"
   },
   {
    "duration": 18724,
    "start_time": "2022-05-05T15:41:13.628Z"
   },
   {
    "duration": 12,
    "start_time": "2022-05-05T15:41:32.354Z"
   },
   {
    "duration": 52,
    "start_time": "2022-05-05T22:02:53.259Z"
   },
   {
    "duration": 1397,
    "start_time": "2022-05-05T22:03:00.870Z"
   },
   {
    "duration": 394,
    "start_time": "2022-05-05T22:03:02.270Z"
   },
   {
    "duration": 23,
    "start_time": "2022-05-05T22:03:02.666Z"
   },
   {
    "duration": 32,
    "start_time": "2022-05-05T22:03:02.692Z"
   },
   {
    "duration": 39,
    "start_time": "2022-05-05T22:03:02.726Z"
   },
   {
    "duration": 7,
    "start_time": "2022-05-05T22:03:02.767Z"
   },
   {
    "duration": 6,
    "start_time": "2022-05-05T22:03:02.776Z"
   },
   {
    "duration": 40,
    "start_time": "2022-05-05T22:03:02.784Z"
   },
   {
    "duration": 6713,
    "start_time": "2022-05-05T22:03:02.826Z"
   },
   {
    "duration": 1465,
    "start_time": "2022-05-05T22:03:09.542Z"
   },
   {
    "duration": 15,
    "start_time": "2022-05-05T22:03:11.009Z"
   },
   {
    "duration": 1598,
    "start_time": "2022-05-05T22:03:11.026Z"
   },
   {
    "duration": 504,
    "start_time": "2022-05-05T22:03:12.627Z"
   },
   {
    "duration": 8,
    "start_time": "2022-05-05T22:03:13.133Z"
   },
   {
    "duration": 8,
    "start_time": "2022-05-05T22:03:13.142Z"
   },
   {
    "duration": 596,
    "start_time": "2022-05-05T22:03:13.151Z"
   },
   {
    "duration": 3,
    "start_time": "2022-05-05T22:03:13.749Z"
   },
   {
    "duration": 1472,
    "start_time": "2022-05-05T22:03:13.753Z"
   },
   {
    "duration": 104,
    "start_time": "2022-05-05T22:03:15.227Z"
   },
   {
    "duration": 7,
    "start_time": "2022-05-05T22:03:15.333Z"
   },
   {
    "duration": 12861,
    "start_time": "2022-05-05T22:03:15.342Z"
   },
   {
    "duration": 8,
    "start_time": "2022-05-05T22:03:28.205Z"
   },
   {
    "duration": 1395,
    "start_time": "2022-05-05T22:04:29.402Z"
   },
   {
    "duration": 406,
    "start_time": "2022-05-05T22:04:30.799Z"
   },
   {
    "duration": 23,
    "start_time": "2022-05-05T22:04:31.206Z"
   },
   {
    "duration": 31,
    "start_time": "2022-05-05T22:04:31.231Z"
   },
   {
    "duration": 60,
    "start_time": "2022-05-05T22:04:31.263Z"
   },
   {
    "duration": 8,
    "start_time": "2022-05-05T22:04:31.324Z"
   },
   {
    "duration": 7,
    "start_time": "2022-05-05T22:04:31.334Z"
   },
   {
    "duration": 13,
    "start_time": "2022-05-05T22:04:31.343Z"
   },
   {
    "duration": 4841,
    "start_time": "2022-05-05T22:04:31.358Z"
   },
   {
    "duration": 1405,
    "start_time": "2022-05-05T22:04:36.202Z"
   },
   {
    "duration": 14,
    "start_time": "2022-05-05T22:04:37.608Z"
   },
   {
    "duration": 706,
    "start_time": "2022-05-05T22:04:37.623Z"
   },
   {
    "duration": 460,
    "start_time": "2022-05-05T22:04:38.422Z"
   },
   {
    "duration": 8,
    "start_time": "2022-05-05T22:04:38.884Z"
   },
   {
    "duration": 20,
    "start_time": "2022-05-05T22:04:38.893Z"
   },
   {
    "duration": 566,
    "start_time": "2022-05-05T22:04:38.914Z"
   },
   {
    "duration": 3,
    "start_time": "2022-05-05T22:04:39.481Z"
   },
   {
    "duration": 1441,
    "start_time": "2022-05-05T22:04:39.485Z"
   },
   {
    "duration": 11,
    "start_time": "2022-05-05T22:04:40.928Z"
   },
   {
    "duration": 8,
    "start_time": "2022-05-05T22:04:40.941Z"
   },
   {
    "duration": 12296,
    "start_time": "2022-05-05T22:04:40.950Z"
   },
   {
    "duration": 9,
    "start_time": "2022-05-05T22:04:53.248Z"
   },
   {
    "duration": 1476,
    "start_time": "2022-05-05T22:08:22.440Z"
   },
   {
    "duration": 1525,
    "start_time": "2022-05-05T22:08:24.414Z"
   },
   {
    "duration": 1666,
    "start_time": "2022-05-05T22:08:27.972Z"
   },
   {
    "duration": 1483,
    "start_time": "2022-05-05T22:08:31.791Z"
   },
   {
    "duration": 109,
    "start_time": "2022-05-06T14:47:27.709Z"
   },
   {
    "duration": 1150,
    "start_time": "2022-05-06T14:47:36.339Z"
   },
   {
    "duration": 399,
    "start_time": "2022-05-06T14:47:37.493Z"
   },
   {
    "duration": 17,
    "start_time": "2022-05-06T14:47:37.895Z"
   },
   {
    "duration": 31,
    "start_time": "2022-05-06T14:47:37.915Z"
   },
   {
    "duration": 59,
    "start_time": "2022-05-06T14:47:37.948Z"
   },
   {
    "duration": 8,
    "start_time": "2022-05-06T14:47:38.009Z"
   },
   {
    "duration": 7,
    "start_time": "2022-05-06T14:47:38.019Z"
   },
   {
    "duration": 13,
    "start_time": "2022-05-06T14:47:38.028Z"
   },
   {
    "duration": 4814,
    "start_time": "2022-05-06T14:47:38.043Z"
   },
   {
    "duration": 1422,
    "start_time": "2022-05-06T14:47:42.859Z"
   },
   {
    "duration": 13,
    "start_time": "2022-05-06T14:47:44.283Z"
   },
   {
    "duration": 980,
    "start_time": "2022-05-06T14:47:44.298Z"
   },
   {
    "duration": 553,
    "start_time": "2022-05-06T14:47:45.280Z"
   },
   {
    "duration": 8,
    "start_time": "2022-05-06T14:47:45.834Z"
   },
   {
    "duration": 7,
    "start_time": "2022-05-06T14:47:45.844Z"
   },
   {
    "duration": 611,
    "start_time": "2022-05-06T14:47:45.853Z"
   },
   {
    "duration": 2,
    "start_time": "2022-05-06T14:47:46.466Z"
   },
   {
    "duration": 1507,
    "start_time": "2022-05-06T14:47:46.473Z"
   },
   {
    "duration": 102,
    "start_time": "2022-05-06T14:47:47.983Z"
   },
   {
    "duration": 7,
    "start_time": "2022-05-06T14:47:48.087Z"
   },
   {
    "duration": 12629,
    "start_time": "2022-05-06T14:47:48.096Z"
   },
   {
    "duration": 8,
    "start_time": "2022-05-06T14:48:00.728Z"
   },
   {
    "duration": 596,
    "start_time": "2022-05-06T14:49:07.907Z"
   },
   {
    "duration": 119,
    "start_time": "2022-05-06T14:49:08.505Z"
   },
   {
    "duration": 0,
    "start_time": "2022-05-06T14:49:08.625Z"
   },
   {
    "duration": 13,
    "start_time": "2022-05-06T14:49:08.643Z"
   },
   {
    "duration": 7,
    "start_time": "2022-05-06T14:49:09.202Z"
   },
   {
    "duration": 12718,
    "start_time": "2022-05-06T14:49:09.355Z"
   },
   {
    "duration": 9,
    "start_time": "2022-05-06T14:49:22.076Z"
   },
   {
    "duration": 110966,
    "start_time": "2022-05-06T14:55:53.582Z"
   },
   {
    "duration": 1427,
    "start_time": "2022-05-06T14:57:44.550Z"
   },
   {
    "duration": 13,
    "start_time": "2022-05-06T14:57:45.979Z"
   },
   {
    "duration": 6,
    "start_time": "2022-05-06T14:57:45.994Z"
   },
   {
    "duration": 12936,
    "start_time": "2022-05-06T14:57:46.002Z"
   },
   {
    "duration": 9,
    "start_time": "2022-05-06T14:57:58.941Z"
   },
   {
    "duration": 136,
    "start_time": "2022-05-07T07:10:52.497Z"
   },
   {
    "duration": 1994,
    "start_time": "2022-05-07T12:37:05.384Z"
   },
   {
    "duration": 630,
    "start_time": "2022-05-07T12:37:07.381Z"
   },
   {
    "duration": 39,
    "start_time": "2022-05-07T12:37:08.014Z"
   },
   {
    "duration": 46,
    "start_time": "2022-05-07T12:37:08.057Z"
   },
   {
    "duration": 63,
    "start_time": "2022-05-07T12:37:08.105Z"
   },
   {
    "duration": 10,
    "start_time": "2022-05-07T12:37:08.170Z"
   },
   {
    "duration": 8,
    "start_time": "2022-05-07T12:37:08.183Z"
   },
   {
    "duration": 37,
    "start_time": "2022-05-07T12:37:08.193Z"
   },
   {
    "duration": 7562,
    "start_time": "2022-05-07T12:37:08.233Z"
   },
   {
    "duration": 1521,
    "start_time": "2022-05-07T12:37:15.798Z"
   },
   {
    "duration": 14,
    "start_time": "2022-05-07T12:37:17.322Z"
   },
   {
    "duration": 790,
    "start_time": "2022-05-07T12:37:17.338Z"
   },
   {
    "duration": 577,
    "start_time": "2022-05-07T12:37:18.131Z"
   },
   {
    "duration": 14,
    "start_time": "2022-05-07T12:37:18.709Z"
   },
   {
    "duration": 9,
    "start_time": "2022-05-07T12:37:18.726Z"
   },
   {
    "duration": 607,
    "start_time": "2022-05-07T12:37:18.737Z"
   },
   {
    "duration": 117887,
    "start_time": "2022-05-07T12:37:19.346Z"
   },
   {
    "duration": 1896,
    "start_time": "2022-05-07T12:39:17.235Z"
   },
   {
    "duration": 13,
    "start_time": "2022-05-07T12:39:19.133Z"
   },
   {
    "duration": 8,
    "start_time": "2022-05-07T12:39:19.147Z"
   },
   {
    "duration": 15302,
    "start_time": "2022-05-07T12:39:19.156Z"
   },
   {
    "duration": 13,
    "start_time": "2022-05-07T12:39:34.461Z"
   },
   {
    "duration": 138,
    "start_time": "2022-05-07T12:51:15.985Z"
   },
   {
    "duration": 1290,
    "start_time": "2022-05-07T12:51:22.704Z"
   },
   {
    "duration": 420,
    "start_time": "2022-05-07T12:51:23.996Z"
   },
   {
    "duration": 22,
    "start_time": "2022-05-07T12:51:24.418Z"
   },
   {
    "duration": 33,
    "start_time": "2022-05-07T12:51:24.442Z"
   },
   {
    "duration": 57,
    "start_time": "2022-05-07T12:51:24.477Z"
   },
   {
    "duration": 8,
    "start_time": "2022-05-07T12:51:24.536Z"
   },
   {
    "duration": 6,
    "start_time": "2022-05-07T12:51:24.546Z"
   },
   {
    "duration": 11,
    "start_time": "2022-05-07T12:51:24.554Z"
   },
   {
    "duration": 4683,
    "start_time": "2022-05-07T12:51:24.567Z"
   },
   {
    "duration": 1382,
    "start_time": "2022-05-07T12:51:29.253Z"
   },
   {
    "duration": 119,
    "start_time": "2022-05-07T12:51:30.637Z"
   },
   {
    "duration": 0,
    "start_time": "2022-05-07T12:51:30.759Z"
   },
   {
    "duration": 0,
    "start_time": "2022-05-07T12:51:30.760Z"
   },
   {
    "duration": 0,
    "start_time": "2022-05-07T12:51:30.762Z"
   },
   {
    "duration": 0,
    "start_time": "2022-05-07T12:51:30.763Z"
   },
   {
    "duration": 0,
    "start_time": "2022-05-07T12:51:30.765Z"
   },
   {
    "duration": 0,
    "start_time": "2022-05-07T12:51:30.766Z"
   },
   {
    "duration": 0,
    "start_time": "2022-05-07T12:51:30.768Z"
   },
   {
    "duration": 0,
    "start_time": "2022-05-07T12:51:30.770Z"
   },
   {
    "duration": 0,
    "start_time": "2022-05-07T12:51:30.771Z"
   },
   {
    "duration": 0,
    "start_time": "2022-05-07T12:51:30.773Z"
   },
   {
    "duration": 0,
    "start_time": "2022-05-07T12:51:30.774Z"
   },
   {
    "duration": 15,
    "start_time": "2022-05-07T12:51:56.103Z"
   },
   {
    "duration": 904,
    "start_time": "2022-05-07T12:52:02.836Z"
   },
   {
    "duration": 394,
    "start_time": "2022-05-07T12:52:04.065Z"
   },
   {
    "duration": 12,
    "start_time": "2022-05-07T12:52:09.624Z"
   },
   {
    "duration": 9,
    "start_time": "2022-05-07T12:52:11.369Z"
   },
   {
    "duration": 0,
    "start_time": "2022-05-07T14:11:24.970Z"
   },
   {
    "duration": 1305,
    "start_time": "2022-05-07T14:11:34.765Z"
   },
   {
    "duration": 420,
    "start_time": "2022-05-07T14:11:36.073Z"
   },
   {
    "duration": 23,
    "start_time": "2022-05-07T14:11:36.495Z"
   },
   {
    "duration": 33,
    "start_time": "2022-05-07T14:11:36.520Z"
   },
   {
    "duration": 43,
    "start_time": "2022-05-07T14:11:36.555Z"
   },
   {
    "duration": 23,
    "start_time": "2022-05-07T14:11:36.600Z"
   },
   {
    "duration": 7,
    "start_time": "2022-05-07T14:11:36.625Z"
   },
   {
    "duration": 29,
    "start_time": "2022-05-07T14:11:36.633Z"
   },
   {
    "duration": 4911,
    "start_time": "2022-05-07T14:11:36.664Z"
   },
   {
    "duration": 1489,
    "start_time": "2022-05-07T14:11:41.578Z"
   },
   {
    "duration": 2890,
    "start_time": "2022-05-07T14:11:43.069Z"
   },
   {
    "duration": 0,
    "start_time": "2022-05-07T14:11:45.961Z"
   },
   {
    "duration": 0,
    "start_time": "2022-05-07T14:11:45.963Z"
   },
   {
    "duration": 0,
    "start_time": "2022-05-07T14:11:45.963Z"
   },
   {
    "duration": 0,
    "start_time": "2022-05-07T14:11:45.964Z"
   },
   {
    "duration": 0,
    "start_time": "2022-05-07T14:11:45.966Z"
   },
   {
    "duration": 0,
    "start_time": "2022-05-07T14:11:45.967Z"
   },
   {
    "duration": 0,
    "start_time": "2022-05-07T14:11:45.968Z"
   },
   {
    "duration": 0,
    "start_time": "2022-05-07T14:11:45.969Z"
   },
   {
    "duration": 0,
    "start_time": "2022-05-07T14:11:45.971Z"
   },
   {
    "duration": 0,
    "start_time": "2022-05-07T14:11:45.972Z"
   },
   {
    "duration": 0,
    "start_time": "2022-05-07T14:11:45.973Z"
   },
   {
    "duration": 0,
    "start_time": "2022-05-07T14:11:45.974Z"
   },
   {
    "duration": 0,
    "start_time": "2022-05-07T14:12:06.138Z"
   },
   {
    "duration": 1252,
    "start_time": "2022-05-07T14:12:12.943Z"
   },
   {
    "duration": 423,
    "start_time": "2022-05-07T14:12:14.197Z"
   },
   {
    "duration": 23,
    "start_time": "2022-05-07T14:12:14.622Z"
   },
   {
    "duration": 34,
    "start_time": "2022-05-07T14:12:14.647Z"
   },
   {
    "duration": 63,
    "start_time": "2022-05-07T14:12:14.683Z"
   },
   {
    "duration": 7,
    "start_time": "2022-05-07T14:12:14.748Z"
   },
   {
    "duration": 9,
    "start_time": "2022-05-07T14:12:14.757Z"
   },
   {
    "duration": 12,
    "start_time": "2022-05-07T14:12:14.768Z"
   },
   {
    "duration": 6163,
    "start_time": "2022-05-07T14:12:14.781Z"
   },
   {
    "duration": 2151,
    "start_time": "2022-05-07T14:12:20.948Z"
   },
   {
    "duration": 8,
    "start_time": "2022-05-07T14:12:23.101Z"
   },
   {
    "duration": 35,
    "start_time": "2022-05-07T14:12:23.111Z"
   },
   {
    "duration": 680,
    "start_time": "2022-05-07T14:12:23.148Z"
   },
   {
    "duration": 549,
    "start_time": "2022-05-07T14:12:23.830Z"
   },
   {
    "duration": 10,
    "start_time": "2022-05-07T14:12:24.382Z"
   },
   {
    "duration": 28,
    "start_time": "2022-05-07T14:12:24.395Z"
   },
   {
    "duration": 682,
    "start_time": "2022-05-07T14:12:24.425Z"
   },
   {
    "duration": 104262,
    "start_time": "2022-05-07T14:12:25.109Z"
   },
   {
    "duration": 1452,
    "start_time": "2022-05-07T14:14:09.373Z"
   },
   {
    "duration": 13,
    "start_time": "2022-05-07T14:14:10.827Z"
   },
   {
    "duration": 17,
    "start_time": "2022-05-07T14:14:10.841Z"
   },
   {
    "duration": 11280,
    "start_time": "2022-05-07T14:14:10.859Z"
   },
   {
    "duration": 8,
    "start_time": "2022-05-07T14:14:22.141Z"
   },
   {
    "duration": 1531,
    "start_time": "2022-05-07T14:20:15.051Z"
   },
   {
    "duration": 507,
    "start_time": "2022-05-07T14:20:16.585Z"
   },
   {
    "duration": 34,
    "start_time": "2022-05-07T14:20:17.094Z"
   },
   {
    "duration": 33,
    "start_time": "2022-05-07T14:20:17.131Z"
   },
   {
    "duration": 61,
    "start_time": "2022-05-07T14:20:17.166Z"
   },
   {
    "duration": 8,
    "start_time": "2022-05-07T14:20:17.229Z"
   },
   {
    "duration": 7,
    "start_time": "2022-05-07T14:20:17.238Z"
   },
   {
    "duration": 11,
    "start_time": "2022-05-07T14:20:17.246Z"
   },
   {
    "duration": 4929,
    "start_time": "2022-05-07T14:20:17.259Z"
   },
   {
    "duration": 1428,
    "start_time": "2022-05-07T14:20:22.191Z"
   },
   {
    "duration": 6,
    "start_time": "2022-05-07T14:20:23.621Z"
   },
   {
    "duration": 31,
    "start_time": "2022-05-07T14:20:23.629Z"
   },
   {
    "duration": 3860,
    "start_time": "2022-05-07T14:20:23.662Z"
   },
   {
    "duration": 383,
    "start_time": "2022-05-07T14:20:27.525Z"
   },
   {
    "duration": 12,
    "start_time": "2022-05-07T14:20:27.910Z"
   },
   {
    "duration": 8,
    "start_time": "2022-05-07T14:20:27.924Z"
   },
   {
    "duration": 622,
    "start_time": "2022-05-07T14:20:27.934Z"
   },
   {
    "duration": 109483,
    "start_time": "2022-05-07T14:20:28.558Z"
   },
   {
    "duration": 1894,
    "start_time": "2022-05-07T14:22:18.043Z"
   },
   {
    "duration": 16,
    "start_time": "2022-05-07T14:22:20.024Z"
   },
   {
    "duration": 9,
    "start_time": "2022-05-07T14:22:20.042Z"
   },
   {
    "duration": 11424,
    "start_time": "2022-05-07T14:22:20.053Z"
   },
   {
    "duration": 9,
    "start_time": "2022-05-07T14:22:31.479Z"
   },
   {
    "duration": 1731,
    "start_time": "2022-05-07T15:00:31.010Z"
   },
   {
    "duration": 551,
    "start_time": "2022-05-07T15:00:32.744Z"
   },
   {
    "duration": 28,
    "start_time": "2022-05-07T15:00:33.298Z"
   },
   {
    "duration": 49,
    "start_time": "2022-05-07T15:00:33.329Z"
   },
   {
    "duration": 79,
    "start_time": "2022-05-07T15:00:33.380Z"
   },
   {
    "duration": 10,
    "start_time": "2022-05-07T15:00:33.461Z"
   },
   {
    "duration": 7,
    "start_time": "2022-05-07T15:00:33.473Z"
   },
   {
    "duration": 12,
    "start_time": "2022-05-07T15:00:33.482Z"
   },
   {
    "duration": 5630,
    "start_time": "2022-05-07T15:00:33.496Z"
   },
   {
    "duration": 2249,
    "start_time": "2022-05-07T15:00:39.130Z"
   },
   {
    "duration": 2,
    "start_time": "2022-05-07T15:00:41.382Z"
   },
   {
    "duration": 22,
    "start_time": "2022-05-07T15:00:41.386Z"
   },
   {
    "duration": 717,
    "start_time": "2022-05-07T15:00:41.410Z"
   },
   {
    "duration": 553,
    "start_time": "2022-05-07T15:00:42.129Z"
   },
   {
    "duration": 8,
    "start_time": "2022-05-07T15:00:42.684Z"
   },
   {
    "duration": 8,
    "start_time": "2022-05-07T15:00:42.693Z"
   },
   {
    "duration": 613,
    "start_time": "2022-05-07T15:00:42.703Z"
   },
   {
    "duration": 104107,
    "start_time": "2022-05-07T15:00:43.322Z"
   },
   {
    "duration": 1295,
    "start_time": "2022-05-07T15:02:27.431Z"
   },
   {
    "duration": 99,
    "start_time": "2022-05-07T15:02:28.728Z"
   },
   {
    "duration": 9,
    "start_time": "2022-05-07T15:02:28.828Z"
   },
   {
    "duration": 13251,
    "start_time": "2022-05-07T15:02:28.838Z"
   },
   {
    "duration": 9,
    "start_time": "2022-05-07T15:02:42.092Z"
   },
   {
    "duration": 0,
    "start_time": "2022-05-07T15:02:42.334Z"
   },
   {
    "duration": 1248,
    "start_time": "2022-05-07T15:10:31.069Z"
   },
   {
    "duration": 399,
    "start_time": "2022-05-07T15:10:32.319Z"
   },
   {
    "duration": 34,
    "start_time": "2022-05-07T15:10:32.720Z"
   },
   {
    "duration": 33,
    "start_time": "2022-05-07T15:10:32.756Z"
   },
   {
    "duration": 50,
    "start_time": "2022-05-07T15:10:32.792Z"
   },
   {
    "duration": 8,
    "start_time": "2022-05-07T15:10:32.844Z"
   },
   {
    "duration": 7,
    "start_time": "2022-05-07T15:10:32.855Z"
   },
   {
    "duration": 20,
    "start_time": "2022-05-07T15:10:32.864Z"
   },
   {
    "duration": 4810,
    "start_time": "2022-05-07T15:10:32.887Z"
   },
   {
    "duration": 1420,
    "start_time": "2022-05-07T15:10:37.699Z"
   },
   {
    "duration": 2,
    "start_time": "2022-05-07T15:10:39.121Z"
   },
   {
    "duration": 14,
    "start_time": "2022-05-07T15:10:39.125Z"
   },
   {
    "duration": 684,
    "start_time": "2022-05-07T15:10:39.141Z"
   },
   {
    "duration": 570,
    "start_time": "2022-05-07T15:10:39.829Z"
   },
   {
    "duration": 8,
    "start_time": "2022-05-07T15:10:40.401Z"
   },
   {
    "duration": 17,
    "start_time": "2022-05-07T15:10:40.411Z"
   },
   {
    "duration": 607,
    "start_time": "2022-05-07T15:10:40.429Z"
   },
   {
    "duration": 104544,
    "start_time": "2022-05-07T15:10:41.038Z"
   },
   {
    "duration": 1441,
    "start_time": "2022-05-07T15:12:25.584Z"
   },
   {
    "duration": 96,
    "start_time": "2022-05-07T15:12:27.028Z"
   },
   {
    "duration": 7,
    "start_time": "2022-05-07T15:12:27.126Z"
   },
   {
    "duration": 12738,
    "start_time": "2022-05-07T15:12:27.134Z"
   },
   {
    "duration": 9,
    "start_time": "2022-05-07T15:12:39.874Z"
   },
   {
    "duration": 184,
    "start_time": "2022-05-08T09:51:19.860Z"
   },
   {
    "duration": 41,
    "start_time": "2022-05-08T10:07:53.862Z"
   },
   {
    "duration": 2,
    "start_time": "2022-05-08T10:07:59.769Z"
   }
  ],
  "celltoolbar": "Необработанный формат ячейки",
  "kernelspec": {
   "display_name": "Python 3 (ipykernel)",
   "language": "python",
   "name": "python3"
  },
  "language_info": {
   "codemirror_mode": {
    "name": "ipython",
    "version": 3
   },
   "file_extension": ".py",
   "mimetype": "text/x-python",
   "name": "python",
   "nbconvert_exporter": "python",
   "pygments_lexer": "ipython3",
   "version": "3.8.10"
  },
  "toc": {
   "base_numbering": 1,
   "nav_menu": {},
   "number_sections": true,
   "sideBar": true,
   "skip_h1_title": true,
   "title_cell": "Table of Contents",
   "title_sidebar": "Contents",
   "toc_cell": false,
   "toc_position": {},
   "toc_section_display": true,
   "toc_window_display": false
  }
 },
 "nbformat": 4,
 "nbformat_minor": 2
}
