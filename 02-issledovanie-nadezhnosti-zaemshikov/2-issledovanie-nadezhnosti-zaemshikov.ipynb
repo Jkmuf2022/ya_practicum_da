{
 "cells": [
  {
   "cell_type": "markdown",
   "metadata": {},
   "source": [
    "# Исследование надёжности заёмщиков\n",
    "\n",
    "Заказчик — кредитный отдел банка. Нужно разобраться, влияет ли семейное положение и количество детей клиента на факт погашения кредита в срок. Входные данные от банка — статистика о платёжеспособности клиентов.\n",
    "\n",
    "Результаты исследования будут учтены при построении модели **кредитного скоринга** — специальной системы, которая оценивает способность потенциального заёмщика вернуть кредит банку."
   ]
  },
  {
   "cell_type": "markdown",
   "metadata": {},
   "source": [
    "##  Открываем файл с данными для изучения общей информации"
   ]
  },
  {
   "cell_type": "code",
   "execution_count": 1,
   "metadata": {},
   "outputs": [],
   "source": [
    "import pandas as pd\n",
    "from pymystem3 import Mystem"
   ]
  },
  {
   "cell_type": "code",
   "execution_count": 2,
   "metadata": {},
   "outputs": [],
   "source": [
    "df = pd.read_csv('/datasets/data.csv')"
   ]
  },
  {
   "cell_type": "code",
   "execution_count": 3,
   "metadata": {},
   "outputs": [
    {
     "name": "stdout",
     "output_type": "stream",
     "text": [
      "<class 'pandas.core.frame.DataFrame'>\n",
      "RangeIndex: 21525 entries, 0 to 21524\n",
      "Data columns (total 12 columns):\n",
      " #   Column            Non-Null Count  Dtype  \n",
      "---  ------            --------------  -----  \n",
      " 0   children          21525 non-null  int64  \n",
      " 1   days_employed     19351 non-null  float64\n",
      " 2   dob_years         21525 non-null  int64  \n",
      " 3   education         21525 non-null  object \n",
      " 4   education_id      21525 non-null  int64  \n",
      " 5   family_status     21525 non-null  object \n",
      " 6   family_status_id  21525 non-null  int64  \n",
      " 7   gender            21525 non-null  object \n",
      " 8   income_type       21525 non-null  object \n",
      " 9   debt              21525 non-null  int64  \n",
      " 10  total_income      19351 non-null  float64\n",
      " 11  purpose           21525 non-null  object \n",
      "dtypes: float64(2), int64(5), object(5)\n",
      "memory usage: 2.0+ MB\n"
     ]
    },
    {
     "data": {
      "text/html": [
       "<div>\n",
       "<style scoped>\n",
       "    .dataframe tbody tr th:only-of-type {\n",
       "        vertical-align: middle;\n",
       "    }\n",
       "\n",
       "    .dataframe tbody tr th {\n",
       "        vertical-align: top;\n",
       "    }\n",
       "\n",
       "    .dataframe thead th {\n",
       "        text-align: right;\n",
       "    }\n",
       "</style>\n",
       "<table border=\"1\" class=\"dataframe\">\n",
       "  <thead>\n",
       "    <tr style=\"text-align: right;\">\n",
       "      <th></th>\n",
       "      <th>children</th>\n",
       "      <th>days_employed</th>\n",
       "      <th>dob_years</th>\n",
       "      <th>education</th>\n",
       "      <th>education_id</th>\n",
       "      <th>family_status</th>\n",
       "      <th>family_status_id</th>\n",
       "      <th>gender</th>\n",
       "      <th>income_type</th>\n",
       "      <th>debt</th>\n",
       "      <th>total_income</th>\n",
       "      <th>purpose</th>\n",
       "    </tr>\n",
       "  </thead>\n",
       "  <tbody>\n",
       "    <tr>\n",
       "      <th>0</th>\n",
       "      <td>1</td>\n",
       "      <td>-8437.673028</td>\n",
       "      <td>42</td>\n",
       "      <td>высшее</td>\n",
       "      <td>0</td>\n",
       "      <td>женат / замужем</td>\n",
       "      <td>0</td>\n",
       "      <td>F</td>\n",
       "      <td>сотрудник</td>\n",
       "      <td>0</td>\n",
       "      <td>253875.639453</td>\n",
       "      <td>покупка жилья</td>\n",
       "    </tr>\n",
       "    <tr>\n",
       "      <th>1</th>\n",
       "      <td>1</td>\n",
       "      <td>-4024.803754</td>\n",
       "      <td>36</td>\n",
       "      <td>среднее</td>\n",
       "      <td>1</td>\n",
       "      <td>женат / замужем</td>\n",
       "      <td>0</td>\n",
       "      <td>F</td>\n",
       "      <td>сотрудник</td>\n",
       "      <td>0</td>\n",
       "      <td>112080.014102</td>\n",
       "      <td>приобретение автомобиля</td>\n",
       "    </tr>\n",
       "    <tr>\n",
       "      <th>2</th>\n",
       "      <td>0</td>\n",
       "      <td>-5623.422610</td>\n",
       "      <td>33</td>\n",
       "      <td>Среднее</td>\n",
       "      <td>1</td>\n",
       "      <td>женат / замужем</td>\n",
       "      <td>0</td>\n",
       "      <td>M</td>\n",
       "      <td>сотрудник</td>\n",
       "      <td>0</td>\n",
       "      <td>145885.952297</td>\n",
       "      <td>покупка жилья</td>\n",
       "    </tr>\n",
       "    <tr>\n",
       "      <th>3</th>\n",
       "      <td>3</td>\n",
       "      <td>-4124.747207</td>\n",
       "      <td>32</td>\n",
       "      <td>среднее</td>\n",
       "      <td>1</td>\n",
       "      <td>женат / замужем</td>\n",
       "      <td>0</td>\n",
       "      <td>M</td>\n",
       "      <td>сотрудник</td>\n",
       "      <td>0</td>\n",
       "      <td>267628.550329</td>\n",
       "      <td>дополнительное образование</td>\n",
       "    </tr>\n",
       "    <tr>\n",
       "      <th>4</th>\n",
       "      <td>0</td>\n",
       "      <td>340266.072047</td>\n",
       "      <td>53</td>\n",
       "      <td>среднее</td>\n",
       "      <td>1</td>\n",
       "      <td>гражданский брак</td>\n",
       "      <td>1</td>\n",
       "      <td>F</td>\n",
       "      <td>пенсионер</td>\n",
       "      <td>0</td>\n",
       "      <td>158616.077870</td>\n",
       "      <td>сыграть свадьбу</td>\n",
       "    </tr>\n",
       "    <tr>\n",
       "      <th>5</th>\n",
       "      <td>0</td>\n",
       "      <td>-926.185831</td>\n",
       "      <td>27</td>\n",
       "      <td>высшее</td>\n",
       "      <td>0</td>\n",
       "      <td>гражданский брак</td>\n",
       "      <td>1</td>\n",
       "      <td>M</td>\n",
       "      <td>компаньон</td>\n",
       "      <td>0</td>\n",
       "      <td>255763.565419</td>\n",
       "      <td>покупка жилья</td>\n",
       "    </tr>\n",
       "    <tr>\n",
       "      <th>6</th>\n",
       "      <td>0</td>\n",
       "      <td>-2879.202052</td>\n",
       "      <td>43</td>\n",
       "      <td>высшее</td>\n",
       "      <td>0</td>\n",
       "      <td>женат / замужем</td>\n",
       "      <td>0</td>\n",
       "      <td>F</td>\n",
       "      <td>компаньон</td>\n",
       "      <td>0</td>\n",
       "      <td>240525.971920</td>\n",
       "      <td>операции с жильем</td>\n",
       "    </tr>\n",
       "    <tr>\n",
       "      <th>7</th>\n",
       "      <td>0</td>\n",
       "      <td>-152.779569</td>\n",
       "      <td>50</td>\n",
       "      <td>СРЕДНЕЕ</td>\n",
       "      <td>1</td>\n",
       "      <td>женат / замужем</td>\n",
       "      <td>0</td>\n",
       "      <td>M</td>\n",
       "      <td>сотрудник</td>\n",
       "      <td>0</td>\n",
       "      <td>135823.934197</td>\n",
       "      <td>образование</td>\n",
       "    </tr>\n",
       "    <tr>\n",
       "      <th>8</th>\n",
       "      <td>2</td>\n",
       "      <td>-6929.865299</td>\n",
       "      <td>35</td>\n",
       "      <td>ВЫСШЕЕ</td>\n",
       "      <td>0</td>\n",
       "      <td>гражданский брак</td>\n",
       "      <td>1</td>\n",
       "      <td>F</td>\n",
       "      <td>сотрудник</td>\n",
       "      <td>0</td>\n",
       "      <td>95856.832424</td>\n",
       "      <td>на проведение свадьбы</td>\n",
       "    </tr>\n",
       "    <tr>\n",
       "      <th>9</th>\n",
       "      <td>0</td>\n",
       "      <td>-2188.756445</td>\n",
       "      <td>41</td>\n",
       "      <td>среднее</td>\n",
       "      <td>1</td>\n",
       "      <td>женат / замужем</td>\n",
       "      <td>0</td>\n",
       "      <td>M</td>\n",
       "      <td>сотрудник</td>\n",
       "      <td>0</td>\n",
       "      <td>144425.938277</td>\n",
       "      <td>покупка жилья для семьи</td>\n",
       "    </tr>\n",
       "    <tr>\n",
       "      <th>10</th>\n",
       "      <td>2</td>\n",
       "      <td>-4171.483647</td>\n",
       "      <td>36</td>\n",
       "      <td>высшее</td>\n",
       "      <td>0</td>\n",
       "      <td>женат / замужем</td>\n",
       "      <td>0</td>\n",
       "      <td>M</td>\n",
       "      <td>компаньон</td>\n",
       "      <td>0</td>\n",
       "      <td>113943.491460</td>\n",
       "      <td>покупка недвижимости</td>\n",
       "    </tr>\n",
       "    <tr>\n",
       "      <th>11</th>\n",
       "      <td>0</td>\n",
       "      <td>-792.701887</td>\n",
       "      <td>40</td>\n",
       "      <td>среднее</td>\n",
       "      <td>1</td>\n",
       "      <td>женат / замужем</td>\n",
       "      <td>0</td>\n",
       "      <td>F</td>\n",
       "      <td>сотрудник</td>\n",
       "      <td>0</td>\n",
       "      <td>77069.234271</td>\n",
       "      <td>покупка коммерческой недвижимости</td>\n",
       "    </tr>\n",
       "    <tr>\n",
       "      <th>12</th>\n",
       "      <td>0</td>\n",
       "      <td>NaN</td>\n",
       "      <td>65</td>\n",
       "      <td>среднее</td>\n",
       "      <td>1</td>\n",
       "      <td>гражданский брак</td>\n",
       "      <td>1</td>\n",
       "      <td>M</td>\n",
       "      <td>пенсионер</td>\n",
       "      <td>0</td>\n",
       "      <td>NaN</td>\n",
       "      <td>сыграть свадьбу</td>\n",
       "    </tr>\n",
       "    <tr>\n",
       "      <th>13</th>\n",
       "      <td>0</td>\n",
       "      <td>-1846.641941</td>\n",
       "      <td>54</td>\n",
       "      <td>неоконченное высшее</td>\n",
       "      <td>2</td>\n",
       "      <td>женат / замужем</td>\n",
       "      <td>0</td>\n",
       "      <td>F</td>\n",
       "      <td>сотрудник</td>\n",
       "      <td>0</td>\n",
       "      <td>130458.228857</td>\n",
       "      <td>приобретение автомобиля</td>\n",
       "    </tr>\n",
       "    <tr>\n",
       "      <th>14</th>\n",
       "      <td>0</td>\n",
       "      <td>-1844.956182</td>\n",
       "      <td>56</td>\n",
       "      <td>высшее</td>\n",
       "      <td>0</td>\n",
       "      <td>гражданский брак</td>\n",
       "      <td>1</td>\n",
       "      <td>F</td>\n",
       "      <td>компаньон</td>\n",
       "      <td>1</td>\n",
       "      <td>165127.911772</td>\n",
       "      <td>покупка жилой недвижимости</td>\n",
       "    </tr>\n",
       "    <tr>\n",
       "      <th>15</th>\n",
       "      <td>1</td>\n",
       "      <td>-972.364419</td>\n",
       "      <td>26</td>\n",
       "      <td>среднее</td>\n",
       "      <td>1</td>\n",
       "      <td>женат / замужем</td>\n",
       "      <td>0</td>\n",
       "      <td>F</td>\n",
       "      <td>сотрудник</td>\n",
       "      <td>0</td>\n",
       "      <td>116820.904450</td>\n",
       "      <td>строительство собственной недвижимости</td>\n",
       "    </tr>\n",
       "    <tr>\n",
       "      <th>16</th>\n",
       "      <td>0</td>\n",
       "      <td>-1719.934226</td>\n",
       "      <td>35</td>\n",
       "      <td>среднее</td>\n",
       "      <td>1</td>\n",
       "      <td>женат / замужем</td>\n",
       "      <td>0</td>\n",
       "      <td>F</td>\n",
       "      <td>сотрудник</td>\n",
       "      <td>0</td>\n",
       "      <td>289202.704229</td>\n",
       "      <td>недвижимость</td>\n",
       "    </tr>\n",
       "    <tr>\n",
       "      <th>17</th>\n",
       "      <td>0</td>\n",
       "      <td>-2369.999720</td>\n",
       "      <td>33</td>\n",
       "      <td>высшее</td>\n",
       "      <td>0</td>\n",
       "      <td>гражданский брак</td>\n",
       "      <td>1</td>\n",
       "      <td>M</td>\n",
       "      <td>сотрудник</td>\n",
       "      <td>0</td>\n",
       "      <td>90410.586745</td>\n",
       "      <td>строительство недвижимости</td>\n",
       "    </tr>\n",
       "    <tr>\n",
       "      <th>18</th>\n",
       "      <td>0</td>\n",
       "      <td>400281.136913</td>\n",
       "      <td>53</td>\n",
       "      <td>среднее</td>\n",
       "      <td>1</td>\n",
       "      <td>вдовец / вдова</td>\n",
       "      <td>2</td>\n",
       "      <td>F</td>\n",
       "      <td>пенсионер</td>\n",
       "      <td>0</td>\n",
       "      <td>56823.777243</td>\n",
       "      <td>на покупку подержанного автомобиля</td>\n",
       "    </tr>\n",
       "    <tr>\n",
       "      <th>19</th>\n",
       "      <td>0</td>\n",
       "      <td>-10038.818549</td>\n",
       "      <td>48</td>\n",
       "      <td>СРЕДНЕЕ</td>\n",
       "      <td>1</td>\n",
       "      <td>в разводе</td>\n",
       "      <td>3</td>\n",
       "      <td>F</td>\n",
       "      <td>сотрудник</td>\n",
       "      <td>0</td>\n",
       "      <td>242831.107982</td>\n",
       "      <td>на покупку своего автомобиля</td>\n",
       "    </tr>\n",
       "  </tbody>\n",
       "</table>\n",
       "</div>"
      ],
      "text/plain": [
       "    children  days_employed  dob_years            education  education_id  \\\n",
       "0          1   -8437.673028         42               высшее             0   \n",
       "1          1   -4024.803754         36              среднее             1   \n",
       "2          0   -5623.422610         33              Среднее             1   \n",
       "3          3   -4124.747207         32              среднее             1   \n",
       "4          0  340266.072047         53              среднее             1   \n",
       "5          0    -926.185831         27               высшее             0   \n",
       "6          0   -2879.202052         43               высшее             0   \n",
       "7          0    -152.779569         50              СРЕДНЕЕ             1   \n",
       "8          2   -6929.865299         35               ВЫСШЕЕ             0   \n",
       "9          0   -2188.756445         41              среднее             1   \n",
       "10         2   -4171.483647         36               высшее             0   \n",
       "11         0    -792.701887         40              среднее             1   \n",
       "12         0            NaN         65              среднее             1   \n",
       "13         0   -1846.641941         54  неоконченное высшее             2   \n",
       "14         0   -1844.956182         56               высшее             0   \n",
       "15         1    -972.364419         26              среднее             1   \n",
       "16         0   -1719.934226         35              среднее             1   \n",
       "17         0   -2369.999720         33               высшее             0   \n",
       "18         0  400281.136913         53              среднее             1   \n",
       "19         0  -10038.818549         48              СРЕДНЕЕ             1   \n",
       "\n",
       "       family_status  family_status_id gender income_type  debt  \\\n",
       "0    женат / замужем                 0      F   сотрудник     0   \n",
       "1    женат / замужем                 0      F   сотрудник     0   \n",
       "2    женат / замужем                 0      M   сотрудник     0   \n",
       "3    женат / замужем                 0      M   сотрудник     0   \n",
       "4   гражданский брак                 1      F   пенсионер     0   \n",
       "5   гражданский брак                 1      M   компаньон     0   \n",
       "6    женат / замужем                 0      F   компаньон     0   \n",
       "7    женат / замужем                 0      M   сотрудник     0   \n",
       "8   гражданский брак                 1      F   сотрудник     0   \n",
       "9    женат / замужем                 0      M   сотрудник     0   \n",
       "10   женат / замужем                 0      M   компаньон     0   \n",
       "11   женат / замужем                 0      F   сотрудник     0   \n",
       "12  гражданский брак                 1      M   пенсионер     0   \n",
       "13   женат / замужем                 0      F   сотрудник     0   \n",
       "14  гражданский брак                 1      F   компаньон     1   \n",
       "15   женат / замужем                 0      F   сотрудник     0   \n",
       "16   женат / замужем                 0      F   сотрудник     0   \n",
       "17  гражданский брак                 1      M   сотрудник     0   \n",
       "18    вдовец / вдова                 2      F   пенсионер     0   \n",
       "19         в разводе                 3      F   сотрудник     0   \n",
       "\n",
       "     total_income                                 purpose  \n",
       "0   253875.639453                           покупка жилья  \n",
       "1   112080.014102                 приобретение автомобиля  \n",
       "2   145885.952297                           покупка жилья  \n",
       "3   267628.550329              дополнительное образование  \n",
       "4   158616.077870                         сыграть свадьбу  \n",
       "5   255763.565419                           покупка жилья  \n",
       "6   240525.971920                       операции с жильем  \n",
       "7   135823.934197                             образование  \n",
       "8    95856.832424                   на проведение свадьбы  \n",
       "9   144425.938277                 покупка жилья для семьи  \n",
       "10  113943.491460                    покупка недвижимости  \n",
       "11   77069.234271       покупка коммерческой недвижимости  \n",
       "12            NaN                         сыграть свадьбу  \n",
       "13  130458.228857                 приобретение автомобиля  \n",
       "14  165127.911772              покупка жилой недвижимости  \n",
       "15  116820.904450  строительство собственной недвижимости  \n",
       "16  289202.704229                            недвижимость  \n",
       "17   90410.586745              строительство недвижимости  \n",
       "18   56823.777243      на покупку подержанного автомобиля  \n",
       "19  242831.107982            на покупку своего автомобиля  "
      ]
     },
     "execution_count": 3,
     "metadata": {},
     "output_type": "execute_result"
    }
   ],
   "source": [
    "df.info()\n",
    "df.head(20)"
   ]
  },
  {
   "cell_type": "markdown",
   "metadata": {},
   "source": [
    "**Вывод**"
   ]
  },
  {
   "cell_type": "markdown",
   "metadata": {},
   "source": [
    "Вывод по таблице:\n",
    "1) метод info() показывает, что есть пропуски в столбцах days_employed и total_income (возможно, в строках с одним индексом). В days_employed в основном отрицательные значения, возможно это ошибка, так как есть и положительные. В итоговых задачах нет вопроса о зависимости выплаты кредита от стажа работы, поэтому колонку решено удалить. В столбце total_income можно заменить пропуски средними арифметическими значениями, так как удаление их исказит расчёты.  \n",
    "\n",
    "2) с типами данных нет особых наблюдений, хотя тип float не так уж необходим, пожалуй,стоит привести их к целому значению.  \n",
    "\n",
    "3) в столбце education значения нужно привести к нижнему регистру."
   ]
  },
  {
   "cell_type": "markdown",
   "metadata": {},
   "source": [
    "## Предобработка данных"
   ]
  },
  {
   "cell_type": "markdown",
   "metadata": {},
   "source": [
    "### Обработка пропусков"
   ]
  },
  {
   "cell_type": "code",
   "execution_count": 4,
   "metadata": {},
   "outputs": [
    {
     "data": {
      "text/plain": [
       "children            0\n",
       "dob_years           0\n",
       "education           0\n",
       "education_id        0\n",
       "family_status       0\n",
       "family_status_id    0\n",
       "gender              0\n",
       "income_type         0\n",
       "debt                0\n",
       "total_income        0\n",
       "purpose             0\n",
       "dtype: int64"
      ]
     },
     "metadata": {},
     "output_type": "display_data"
    },
    {
     "data": {
      "text/plain": [
       "F    14236\n",
       "M     7288\n",
       "Name: gender, dtype: int64"
      ]
     },
     "metadata": {},
     "output_type": "display_data"
    }
   ],
   "source": [
    "#df[(df['total_income'].isnull() == True) & (df['days_employed'].isnull() == True)].info()\n",
    "# строки те же самые\n",
    "\n",
    "del df['days_employed']# удален столбец \n",
    "df.columns # проверка столбцов таблицы\n",
    "\n",
    "df[df['total_income'].isnull()].count()# количество пропущенных значений NaN \n",
    "income_type_transform = df.groupby('income_type')['total_income'].transform('mean')\n",
    "income_type_mean = df.groupby('income_type')['total_income'].mean()\n",
    "df['total_income'].fillna(income_type_transform, inplace=True)#замена NaN в столбце средними значениями \n",
    "display(df.isna().sum())# проверка количества пропусков\n",
    "\n",
    "#df['gender'].value_counts()\n",
    "df = df.drop(df[df['gender']=='XNA'].index) #удаление в столбце значение XNA\n",
    "display(df['gender'].value_counts())\n",
    "\n",
    "#df['dob_years'].mean() # замена возраста 0 на среднее значение по столбцу\n",
    "df['dob_years'] = df['dob_years'].replace(0, 43.29337979094077)\n",
    "#df['dob_years'][df['dob_years'] == 0].count()# проверка результата\n",
    "#df['dob_years'].min()\n"
   ]
  },
  {
   "cell_type": "markdown",
   "metadata": {},
   "source": [
    "**Вывод**"
   ]
  },
  {
   "cell_type": "markdown",
   "metadata": {},
   "source": [
    "Пропуски в столбце total_income заполнены средними значениями методом fillna.Обнаружено значение XNA в столбце gender и удалено методом drop. В столбце age нулевой возраст замещен на средний методом replace."
   ]
  },
  {
   "cell_type": "markdown",
   "metadata": {},
   "source": [
    "### Замена типа данных"
   ]
  },
  {
   "cell_type": "code",
   "execution_count": 5,
   "metadata": {},
   "outputs": [
    {
     "name": "stdout",
     "output_type": "stream",
     "text": [
      "<class 'pandas.core.frame.DataFrame'>\n",
      "Int64Index: 21524 entries, 0 to 21524\n",
      "Data columns (total 11 columns):\n",
      " #   Column            Non-Null Count  Dtype \n",
      "---  ------            --------------  ----- \n",
      " 0   children          21524 non-null  int64 \n",
      " 1   dob_years         21524 non-null  int64 \n",
      " 2   education         21524 non-null  object\n",
      " 3   education_id      21524 non-null  int64 \n",
      " 4   family_status     21524 non-null  object\n",
      " 5   family_status_id  21524 non-null  int64 \n",
      " 6   gender            21524 non-null  object\n",
      " 7   income_type       21524 non-null  object\n",
      " 8   debt              21524 non-null  int64 \n",
      " 9   total_income      21524 non-null  int64 \n",
      " 10  purpose           21524 non-null  object\n",
      "dtypes: int64(6), object(5)\n",
      "memory usage: 2.0+ MB\n"
     ]
    },
    {
     "data": {
      "text/plain": [
       "None"
      ]
     },
     "metadata": {},
     "output_type": "display_data"
    }
   ],
   "source": [
    "df['total_income'] = df['total_income'].astype('int64')\n",
    "df['dob_years'] = df['dob_years'].astype('int64')#замена float на int\n",
    "display(df.info())"
   ]
  },
  {
   "cell_type": "markdown",
   "metadata": {},
   "source": [
    "**Вывод**"
   ]
  },
  {
   "cell_type": "markdown",
   "metadata": {},
   "source": [
    "Замещаем данные float в столбце total_income на int методом astype, чтобы было удобнее воспринимать данные в таблице. "
   ]
  },
  {
   "cell_type": "markdown",
   "metadata": {},
   "source": [
    "### Обработка дубликатов"
   ]
  },
  {
   "cell_type": "code",
   "execution_count": 6,
   "metadata": {},
   "outputs": [
    {
     "data": {
      "text/plain": [
       "71"
      ]
     },
     "metadata": {},
     "output_type": "display_data"
    },
    {
     "data": {
      "text/plain": [
       "0"
      ]
     },
     "metadata": {},
     "output_type": "display_data"
    }
   ],
   "source": [
    "#df['education'].value_counts() # количество дубликатов значений в столбце \n",
    "df['education'] = df['education'].str.lower()# приводим значения в столбце к нижнему регистру\n",
    "df['education'].value_counts() # значения в столбце не повторяются\n",
    "\n",
    "display(df.duplicated().sum())# количество дубликатов 71\n",
    "df = df.drop_duplicates().reset_index(drop = True)# удаление дубликатов\n",
    "display(df.duplicated().sum())# 0 -теперь дубликаты убраны"
   ]
  },
  {
   "cell_type": "markdown",
   "metadata": {},
   "source": [
    "**Вывод**"
   ]
  },
  {
   "cell_type": "markdown",
   "metadata": {},
   "source": [
    "Необходимо обратить внимание на заполнения ячеек с уровнем образования клиентов. Ошибки \"среднее\", \"Среднее\" или \"СРЕДНЕЕ\" могли возникнуть из-за возможного заполнения разными людьми вручную. Для поиска дубликатов используется метод value_counts, sum, для удаления - drop_duplicates."
   ]
  },
  {
   "cell_type": "markdown",
   "metadata": {},
   "source": [
    "### Лемматизация"
   ]
  },
  {
   "cell_type": "code",
   "execution_count": 7,
   "metadata": {},
   "outputs": [
    {
     "ename": "TypeError",
     "evalue": "unhashable type: 'list'",
     "output_type": "error",
     "traceback": [
      "\u001b[0;31m---------------------------------------------------------------------------\u001b[0m",
      "\u001b[0;31mTypeError\u001b[0m                                 Traceback (most recent call last)",
      "\u001b[0;32mpandas/_libs/hashtable_class_helper.pxi\u001b[0m in \u001b[0;36mpandas._libs.hashtable.PyObjectHashTable.map_locations\u001b[0;34m()\u001b[0m\n",
      "\u001b[0;31mTypeError\u001b[0m: unhashable type: 'list'"
     ]
    },
    {
     "name": "stderr",
     "output_type": "stream",
     "text": [
      "Exception ignored in: 'pandas._libs.index.IndexEngine._call_map_locations'\n",
      "Traceback (most recent call last):\n",
      "  File \"pandas/_libs/hashtable_class_helper.pxi\", line 4588, in pandas._libs.hashtable.PyObjectHashTable.map_locations\n",
      "TypeError: unhashable type: 'list'\n"
     ]
    },
    {
     "data": {
      "text/plain": [
       "[автомобиль, \\n]                                          972\n",
       "[свадьба, \\n]                                             791\n",
       "[на,  , проведение,  , свадьба, \\n]                       768\n",
       "[сыграть,  , свадьба, \\n]                                 765\n",
       "[операция,  , с,  , недвижимость, \\n]                     675\n",
       "[покупка,  , коммерческий,  , недвижимость, \\n]           661\n",
       "[операция,  , с,  , жилье, \\n]                            652\n",
       "[покупка,  , жилье,  , для,  , сдача, \\n]                 651\n",
       "[операция,  , с,  , коммерческий,  , недвижимость, \\n]    650\n",
       "[покупка,  , жилье, \\n]                                   646\n",
       "[жилье, \\n]                                               646\n",
       "[покупка,  , жилье,  , для,  , семья, \\n]                 638\n",
       "[строительство,  , собственный,  , недвижимость, \\n]      635\n",
       "[недвижимость, \\n]                                        633\n",
       "[операция,  , со,  , свой,  , недвижимость, \\n]           627\n",
       "[строительство,  , жилой,  , недвижимость, \\n]            624\n",
       "[покупка,  , свой,  , жилье, \\n]                          620\n",
       "[покупка,  , недвижимость, \\n]                            620\n",
       "[строительство,  , недвижимость, \\n]                      619\n",
       "[ремонт,  , жилье, \\n]                                    607\n",
       "[покупка,  , жилой,  , недвижимость, \\n]                  606\n",
       "[на,  , покупка,  , свой,  , автомобиль, \\n]              505\n",
       "[заниматься,  , высокий,  , образование, \\n]              496\n",
       "[сделка,  , с,  , подержанный,  , автомобиль, \\n]         486\n",
       "[на,  , покупка,  , подержать,  , автомобиль, \\n]         478\n",
       "[свой,  , автомобиль, \\n]                                 478\n",
       "[на,  , покупка,  , автомобиль, \\n]                       471\n",
       "[приобретение,  , автомобиль, \\n]                         461\n",
       "[дополнительный,  , образование, \\n]                      460\n",
       "[сделка,  , с,  , автомобиль, \\n]                         455\n",
       "[высокий,  , образование, \\n]                             452\n",
       "[образование, \\n]                                         447\n",
       "[получение,  , дополнительный,  , образование, \\n]        446\n",
       "[получение,  , образование, \\n]                           442\n",
       "[профильный,  , образование, \\n]                          436\n",
       "[получение,  , высокий,  , образование, \\n]               426\n",
       "[заниматься,  , образование, \\n]                          408\n",
       "Name: purpose_lem, dtype: int64"
      ]
     },
     "execution_count": 7,
     "metadata": {},
     "output_type": "execute_result"
    }
   ],
   "source": [
    "m = Mystem()\n",
    "\n",
    "def lemma_column(row):\n",
    "    lemmas = m.lemmatize(row)                     \n",
    "    return lemmas\n",
    "\n",
    "df['purpose_lem'] = df['purpose'].apply(lemma_column)\n",
    "#display(df.head(20))\n",
    "df['purpose_lem'].value_counts()"
   ]
  },
  {
   "cell_type": "markdown",
   "metadata": {},
   "source": [
    "**Вывод**"
   ]
  },
  {
   "cell_type": "markdown",
   "metadata": {},
   "source": [
    "Создан отдельный столбец 'purpose_lem' для удобства чтения информации. Из общего количества можно сделать вывод, что есть 4 основные группы целей для оформления кредита: свадьба, покупка недвижимости, покупка автомобиля, образование."
   ]
  },
  {
   "cell_type": "markdown",
   "metadata": {},
   "source": [
    "### Категоризация данных"
   ]
  },
  {
   "cell_type": "code",
   "execution_count": 8,
   "metadata": {},
   "outputs": [
    {
     "data": {
      "text/plain": [
       "0        (202417.0, 2265604.0]\n",
       "1         (107620.0, 151876.0]\n",
       "2         (107620.0, 151876.0]\n",
       "3        (202417.0, 2265604.0]\n",
       "4         (151876.0, 202417.0]\n",
       "                 ...          \n",
       "21448    (202417.0, 2265604.0]\n",
       "21449     (151876.0, 202417.0]\n",
       "21450    (20666.999, 107620.0]\n",
       "21451    (202417.0, 2265604.0]\n",
       "21452    (20666.999, 107620.0]\n",
       "Name: total_income, Length: 21453, dtype: category\n",
       "Categories (4, interval[float64]): [(20666.999, 107620.0] < (107620.0, 151876.0] < (151876.0, 202417.0] < (202417.0, 2265604.0]]"
      ]
     },
     "metadata": {},
     "output_type": "display_data"
    },
    {
     "data": {
      "text/html": [
       "<div>\n",
       "<style scoped>\n",
       "    .dataframe tbody tr th:only-of-type {\n",
       "        vertical-align: middle;\n",
       "    }\n",
       "\n",
       "    .dataframe tbody tr th {\n",
       "        vertical-align: top;\n",
       "    }\n",
       "\n",
       "    .dataframe thead th {\n",
       "        text-align: right;\n",
       "    }\n",
       "</style>\n",
       "<table border=\"1\" class=\"dataframe\">\n",
       "  <thead>\n",
       "    <tr style=\"text-align: right;\">\n",
       "      <th></th>\n",
       "      <th>children</th>\n",
       "      <th>dob_years</th>\n",
       "      <th>education</th>\n",
       "      <th>education_id</th>\n",
       "      <th>family_status</th>\n",
       "      <th>family_status_id</th>\n",
       "      <th>gender</th>\n",
       "      <th>income_type</th>\n",
       "      <th>debt</th>\n",
       "      <th>total_income</th>\n",
       "      <th>purpose</th>\n",
       "      <th>purpose_lem</th>\n",
       "      <th>purpose_id</th>\n",
       "      <th>total_income_id</th>\n",
       "    </tr>\n",
       "  </thead>\n",
       "  <tbody>\n",
       "    <tr>\n",
       "      <th>0</th>\n",
       "      <td>1</td>\n",
       "      <td>42</td>\n",
       "      <td>высшее</td>\n",
       "      <td>0</td>\n",
       "      <td>женат / замужем</td>\n",
       "      <td>0</td>\n",
       "      <td>F</td>\n",
       "      <td>сотрудник</td>\n",
       "      <td>0</td>\n",
       "      <td>253875</td>\n",
       "      <td>покупка жилья</td>\n",
       "      <td>[покупка,  , жилье, \\n]</td>\n",
       "      <td>недвижимость</td>\n",
       "      <td>высокий</td>\n",
       "    </tr>\n",
       "    <tr>\n",
       "      <th>1</th>\n",
       "      <td>1</td>\n",
       "      <td>36</td>\n",
       "      <td>среднее</td>\n",
       "      <td>1</td>\n",
       "      <td>женат / замужем</td>\n",
       "      <td>0</td>\n",
       "      <td>F</td>\n",
       "      <td>сотрудник</td>\n",
       "      <td>0</td>\n",
       "      <td>112080</td>\n",
       "      <td>приобретение автомобиля</td>\n",
       "      <td>[приобретение,  , автомобиль, \\n]</td>\n",
       "      <td>авто</td>\n",
       "      <td>средний</td>\n",
       "    </tr>\n",
       "    <tr>\n",
       "      <th>2</th>\n",
       "      <td>0</td>\n",
       "      <td>33</td>\n",
       "      <td>среднее</td>\n",
       "      <td>1</td>\n",
       "      <td>женат / замужем</td>\n",
       "      <td>0</td>\n",
       "      <td>M</td>\n",
       "      <td>сотрудник</td>\n",
       "      <td>0</td>\n",
       "      <td>145885</td>\n",
       "      <td>покупка жилья</td>\n",
       "      <td>[покупка,  , жилье, \\n]</td>\n",
       "      <td>недвижимость</td>\n",
       "      <td>средний</td>\n",
       "    </tr>\n",
       "    <tr>\n",
       "      <th>3</th>\n",
       "      <td>3</td>\n",
       "      <td>32</td>\n",
       "      <td>среднее</td>\n",
       "      <td>1</td>\n",
       "      <td>женат / замужем</td>\n",
       "      <td>0</td>\n",
       "      <td>M</td>\n",
       "      <td>сотрудник</td>\n",
       "      <td>0</td>\n",
       "      <td>267628</td>\n",
       "      <td>дополнительное образование</td>\n",
       "      <td>[дополнительный,  , образование, \\n]</td>\n",
       "      <td>образование</td>\n",
       "      <td>высокий</td>\n",
       "    </tr>\n",
       "    <tr>\n",
       "      <th>4</th>\n",
       "      <td>0</td>\n",
       "      <td>53</td>\n",
       "      <td>среднее</td>\n",
       "      <td>1</td>\n",
       "      <td>гражданский брак</td>\n",
       "      <td>1</td>\n",
       "      <td>F</td>\n",
       "      <td>пенсионер</td>\n",
       "      <td>0</td>\n",
       "      <td>158616</td>\n",
       "      <td>сыграть свадьбу</td>\n",
       "      <td>[сыграть,  , свадьба, \\n]</td>\n",
       "      <td>свадьба</td>\n",
       "      <td>выше среднего</td>\n",
       "    </tr>\n",
       "    <tr>\n",
       "      <th>...</th>\n",
       "      <td>...</td>\n",
       "      <td>...</td>\n",
       "      <td>...</td>\n",
       "      <td>...</td>\n",
       "      <td>...</td>\n",
       "      <td>...</td>\n",
       "      <td>...</td>\n",
       "      <td>...</td>\n",
       "      <td>...</td>\n",
       "      <td>...</td>\n",
       "      <td>...</td>\n",
       "      <td>...</td>\n",
       "      <td>...</td>\n",
       "      <td>...</td>\n",
       "    </tr>\n",
       "    <tr>\n",
       "      <th>21448</th>\n",
       "      <td>1</td>\n",
       "      <td>43</td>\n",
       "      <td>среднее</td>\n",
       "      <td>1</td>\n",
       "      <td>гражданский брак</td>\n",
       "      <td>1</td>\n",
       "      <td>F</td>\n",
       "      <td>компаньон</td>\n",
       "      <td>0</td>\n",
       "      <td>224791</td>\n",
       "      <td>операции с жильем</td>\n",
       "      <td>[операция,  , с,  , жилье, \\n]</td>\n",
       "      <td>недвижимость</td>\n",
       "      <td>высокий</td>\n",
       "    </tr>\n",
       "    <tr>\n",
       "      <th>21449</th>\n",
       "      <td>0</td>\n",
       "      <td>67</td>\n",
       "      <td>среднее</td>\n",
       "      <td>1</td>\n",
       "      <td>женат / замужем</td>\n",
       "      <td>0</td>\n",
       "      <td>F</td>\n",
       "      <td>пенсионер</td>\n",
       "      <td>0</td>\n",
       "      <td>155999</td>\n",
       "      <td>сделка с автомобилем</td>\n",
       "      <td>[сделка,  , с,  , автомобиль, \\n]</td>\n",
       "      <td>авто</td>\n",
       "      <td>выше среднего</td>\n",
       "    </tr>\n",
       "    <tr>\n",
       "      <th>21450</th>\n",
       "      <td>1</td>\n",
       "      <td>38</td>\n",
       "      <td>среднее</td>\n",
       "      <td>1</td>\n",
       "      <td>гражданский брак</td>\n",
       "      <td>1</td>\n",
       "      <td>M</td>\n",
       "      <td>сотрудник</td>\n",
       "      <td>1</td>\n",
       "      <td>89672</td>\n",
       "      <td>недвижимость</td>\n",
       "      <td>[недвижимость, \\n]</td>\n",
       "      <td>недвижимость</td>\n",
       "      <td>низкий</td>\n",
       "    </tr>\n",
       "    <tr>\n",
       "      <th>21451</th>\n",
       "      <td>3</td>\n",
       "      <td>38</td>\n",
       "      <td>среднее</td>\n",
       "      <td>1</td>\n",
       "      <td>женат / замужем</td>\n",
       "      <td>0</td>\n",
       "      <td>M</td>\n",
       "      <td>сотрудник</td>\n",
       "      <td>1</td>\n",
       "      <td>244093</td>\n",
       "      <td>на покупку своего автомобиля</td>\n",
       "      <td>[на,  , покупка,  , свой,  , автомобиль, \\n]</td>\n",
       "      <td>авто</td>\n",
       "      <td>высокий</td>\n",
       "    </tr>\n",
       "    <tr>\n",
       "      <th>21452</th>\n",
       "      <td>2</td>\n",
       "      <td>40</td>\n",
       "      <td>среднее</td>\n",
       "      <td>1</td>\n",
       "      <td>женат / замужем</td>\n",
       "      <td>0</td>\n",
       "      <td>F</td>\n",
       "      <td>сотрудник</td>\n",
       "      <td>0</td>\n",
       "      <td>82047</td>\n",
       "      <td>на покупку автомобиля</td>\n",
       "      <td>[на,  , покупка,  , автомобиль, \\n]</td>\n",
       "      <td>авто</td>\n",
       "      <td>низкий</td>\n",
       "    </tr>\n",
       "  </tbody>\n",
       "</table>\n",
       "<p>21453 rows × 14 columns</p>\n",
       "</div>"
      ],
      "text/plain": [
       "       children  dob_years education  education_id     family_status  \\\n",
       "0             1         42    высшее             0   женат / замужем   \n",
       "1             1         36   среднее             1   женат / замужем   \n",
       "2             0         33   среднее             1   женат / замужем   \n",
       "3             3         32   среднее             1   женат / замужем   \n",
       "4             0         53   среднее             1  гражданский брак   \n",
       "...         ...        ...       ...           ...               ...   \n",
       "21448         1         43   среднее             1  гражданский брак   \n",
       "21449         0         67   среднее             1   женат / замужем   \n",
       "21450         1         38   среднее             1  гражданский брак   \n",
       "21451         3         38   среднее             1   женат / замужем   \n",
       "21452         2         40   среднее             1   женат / замужем   \n",
       "\n",
       "       family_status_id gender income_type  debt  total_income  \\\n",
       "0                     0      F   сотрудник     0        253875   \n",
       "1                     0      F   сотрудник     0        112080   \n",
       "2                     0      M   сотрудник     0        145885   \n",
       "3                     0      M   сотрудник     0        267628   \n",
       "4                     1      F   пенсионер     0        158616   \n",
       "...                 ...    ...         ...   ...           ...   \n",
       "21448                 1      F   компаньон     0        224791   \n",
       "21449                 0      F   пенсионер     0        155999   \n",
       "21450                 1      M   сотрудник     1         89672   \n",
       "21451                 0      M   сотрудник     1        244093   \n",
       "21452                 0      F   сотрудник     0         82047   \n",
       "\n",
       "                            purpose  \\\n",
       "0                     покупка жилья   \n",
       "1           приобретение автомобиля   \n",
       "2                     покупка жилья   \n",
       "3        дополнительное образование   \n",
       "4                   сыграть свадьбу   \n",
       "...                             ...   \n",
       "21448             операции с жильем   \n",
       "21449          сделка с автомобилем   \n",
       "21450                  недвижимость   \n",
       "21451  на покупку своего автомобиля   \n",
       "21452         на покупку автомобиля   \n",
       "\n",
       "                                        purpose_lem    purpose_id  \\\n",
       "0                           [покупка,  , жилье, \\n]  недвижимость   \n",
       "1                 [приобретение,  , автомобиль, \\n]          авто   \n",
       "2                           [покупка,  , жилье, \\n]  недвижимость   \n",
       "3              [дополнительный,  , образование, \\n]   образование   \n",
       "4                         [сыграть,  , свадьба, \\n]       свадьба   \n",
       "...                                             ...           ...   \n",
       "21448                [операция,  , с,  , жилье, \\n]  недвижимость   \n",
       "21449             [сделка,  , с,  , автомобиль, \\n]          авто   \n",
       "21450                            [недвижимость, \\n]  недвижимость   \n",
       "21451  [на,  , покупка,  , свой,  , автомобиль, \\n]          авто   \n",
       "21452           [на,  , покупка,  , автомобиль, \\n]          авто   \n",
       "\n",
       "      total_income_id  \n",
       "0             высокий  \n",
       "1             средний  \n",
       "2             средний  \n",
       "3             высокий  \n",
       "4       выше среднего  \n",
       "...               ...  \n",
       "21448         высокий  \n",
       "21449   выше среднего  \n",
       "21450          низкий  \n",
       "21451         высокий  \n",
       "21452          низкий  \n",
       "\n",
       "[21453 rows x 14 columns]"
      ]
     },
     "metadata": {},
     "output_type": "display_data"
    }
   ],
   "source": [
    "# функция для категорий по целям кредита\n",
    "def replace_target(row):\n",
    "    if 'свадьба' in row:\n",
    "        return 'свадьба'\n",
    "    if 'автомобиль' in row:\n",
    "        return 'авто'\n",
    "    if 'недвижимость' in row or 'жилье' in row:\n",
    "        return 'недвижимость'\n",
    "    if 'образование' in row:\n",
    "        return 'образование'\n",
    "    \n",
    "    \n",
    "#отдельный столбец, для удобства дальнейшего анализа   \n",
    "df['purpose_id'] = df['purpose_lem'].apply(replace_target)\n",
    "df['purpose_id'].value_counts()\n",
    "\n",
    "\n",
    "display(pd.qcut(df['total_income'], q=4))#разбиваем уровень дохода по квантилям\n",
    "\n",
    "def replace_income(total_income):\n",
    "    if 20666 <= total_income <= 107620:\n",
    "        return 'низкий'\n",
    "    if 107620 <= total_income <= 151876:\n",
    "        return 'средний'\n",
    "    if 151876 <= total_income <= 202417:\n",
    "        return 'выше среднего'\n",
    "    if 202417 <= total_income <= 2265604:\n",
    "        return 'высокий'\n",
    "    if total_income > 2265604:\n",
    "        return 'очень высокий'\n",
    "    \n",
    "     \n",
    "df['total_income_id'] = df['total_income'].apply(replace_income)\n",
    "\n",
    "# функция для категоризации по детям: 1 — дети есть, 0 — детей нет.\n",
    "def determine_children(children):\n",
    "    if children > 0: \n",
    "        return 1\n",
    "    else: \n",
    "        return 0\n",
    "\n",
    "\n",
    "display(df)"
   ]
  },
  {
   "cell_type": "markdown",
   "metadata": {},
   "source": [
    "**Вывод**"
   ]
  },
  {
   "cell_type": "markdown",
   "metadata": {},
   "source": [
    "Категоризация сделана по целям кредита, уровню дохода и наличию детей, для последующей формулировки ответов на поставленные вопросы."
   ]
  },
  {
   "cell_type": "markdown",
   "metadata": {},
   "source": [
    "##  Есть ли зависимость между наличием детей и возвратом кредита в срок?"
   ]
  },
  {
   "cell_type": "code",
   "execution_count": 9,
   "metadata": {},
   "outputs": [
    {
     "data": {
      "text/plain": [
       "0    14090\n",
       "1     4855\n",
       "2     2128\n",
       "3      330\n",
       "4       41\n",
       "5        9\n",
       "Name: children, dtype: int64"
      ]
     },
     "metadata": {},
     "output_type": "display_data"
    },
    {
     "data": {
      "text/html": [
       "<div>\n",
       "<style scoped>\n",
       "    .dataframe tbody tr th:only-of-type {\n",
       "        vertical-align: middle;\n",
       "    }\n",
       "\n",
       "    .dataframe tbody tr th {\n",
       "        vertical-align: top;\n",
       "    }\n",
       "\n",
       "    .dataframe thead th {\n",
       "        text-align: right;\n",
       "    }\n",
       "</style>\n",
       "<table border=\"1\" class=\"dataframe\">\n",
       "  <thead>\n",
       "    <tr style=\"text-align: right;\">\n",
       "      <th></th>\n",
       "      <th>debt</th>\n",
       "    </tr>\n",
       "    <tr>\n",
       "      <th>child_sub</th>\n",
       "      <th></th>\n",
       "    </tr>\n",
       "  </thead>\n",
       "  <tbody>\n",
       "    <tr>\n",
       "      <th>0</th>\n",
       "      <td>0.075444</td>\n",
       "    </tr>\n",
       "    <tr>\n",
       "      <th>1</th>\n",
       "      <td>0.092082</td>\n",
       "    </tr>\n",
       "  </tbody>\n",
       "</table>\n",
       "</div>"
      ],
      "text/plain": [
       "               debt\n",
       "child_sub          \n",
       "0          0.075444\n",
       "1          0.092082"
      ]
     },
     "execution_count": 9,
     "metadata": {},
     "output_type": "execute_result"
    }
   ],
   "source": [
    "#df['children'].unique() # посмотрим, какое количество детей представлено в строках\n",
    "df['children'] = df['children'].replace(-1,1) # заменяем явно некорректные значения в столбце: -1 на 1\n",
    "df['children'] = df['children'].replace(20,2) # заменяем возможную ошибку 20 на 2\n",
    "display(df['children'].value_counts())# проверяем, теперь данные исправлены\n",
    "\n",
    "df['child_sub'] = df['children'].apply(determine_children)\n",
    "\n",
    "ch = df.pivot_table(index = ['child_sub'], values = 'debt')\n",
    "ch.head(10)"
   ]
  },
  {
   "cell_type": "markdown",
   "metadata": {},
   "source": [
    "**Вывод**"
   ]
  },
  {
   "cell_type": "markdown",
   "metadata": {},
   "source": [
    "Небольшой, но перевес обязательности в пользу клиентов без детей. Причиной, возможно, могут быть внезапные расходы, связанные с ними."
   ]
  },
  {
   "cell_type": "markdown",
   "metadata": {},
   "source": [
    "- Есть ли зависимость между семейным положением и возвратом кредита в срок?"
   ]
  },
  {
   "cell_type": "code",
   "execution_count": 10,
   "metadata": {},
   "outputs": [
    {
     "data": {
      "text/html": [
       "<div>\n",
       "<style scoped>\n",
       "    .dataframe tbody tr th:only-of-type {\n",
       "        vertical-align: middle;\n",
       "    }\n",
       "\n",
       "    .dataframe tbody tr th {\n",
       "        vertical-align: top;\n",
       "    }\n",
       "\n",
       "    .dataframe thead th {\n",
       "        text-align: right;\n",
       "    }\n",
       "</style>\n",
       "<table border=\"1\" class=\"dataframe\">\n",
       "  <thead>\n",
       "    <tr style=\"text-align: right;\">\n",
       "      <th></th>\n",
       "      <th>debt</th>\n",
       "    </tr>\n",
       "    <tr>\n",
       "      <th>family_status</th>\n",
       "      <th></th>\n",
       "    </tr>\n",
       "  </thead>\n",
       "  <tbody>\n",
       "    <tr>\n",
       "      <th>Не женат / не замужем</th>\n",
       "      <td>0.097509</td>\n",
       "    </tr>\n",
       "    <tr>\n",
       "      <th>гражданский брак</th>\n",
       "      <td>0.093494</td>\n",
       "    </tr>\n",
       "    <tr>\n",
       "      <th>женат / замужем</th>\n",
       "      <td>0.075452</td>\n",
       "    </tr>\n",
       "    <tr>\n",
       "      <th>в разводе</th>\n",
       "      <td>0.071130</td>\n",
       "    </tr>\n",
       "    <tr>\n",
       "      <th>вдовец / вдова</th>\n",
       "      <td>0.065693</td>\n",
       "    </tr>\n",
       "  </tbody>\n",
       "</table>\n",
       "</div>"
      ],
      "text/plain": [
       "                           debt\n",
       "family_status                  \n",
       "Не женат / не замужем  0.097509\n",
       "гражданский брак       0.093494\n",
       "женат / замужем        0.075452\n",
       "в разводе              0.071130\n",
       "вдовец / вдова         0.065693"
      ]
     },
     "execution_count": 10,
     "metadata": {},
     "output_type": "execute_result"
    }
   ],
   "source": [
    "fs = df.pivot_table(index = ['family_status'], values='debt', aggfunc = 'count')\n",
    "sum_fs = df.pivot_table(index = ['family_status'], values='debt', aggfunc = 'sum')\n",
    "debt_fs = sum_fs / fs\n",
    "debt_fs.sort_values(by ='debt', ascending = False)\n",
    "#print(df['family_status'].value_counts())"
   ]
  },
  {
   "cell_type": "markdown",
   "metadata": {},
   "source": [
    "**Вывод**"
   ]
  },
  {
   "cell_type": "markdown",
   "metadata": {},
   "source": [
    "Исходя из данных, люди, бывшие и находящиеся в официальном браке, самые обязательные. Тут может быть несколько причин. Возможно люди, состоящие в брачных отношениях (или бывшие в них)более ответственны. Возможно у них другие цели кредита, скорее всего чаще их цель - ипотека, по которой, как мы видим из данных этой же таблице более низкие долговые показатели. У тех, кто пока не состоял в отношениях, цели скорее всего личные, а они, с точки зрения долга, менее возвратные."
   ]
  },
  {
   "cell_type": "markdown",
   "metadata": {},
   "source": [
    "##  Есть ли зависимость между уровнем дохода и возвратом кредита в срок?"
   ]
  },
  {
   "cell_type": "code",
   "execution_count": 11,
   "metadata": {},
   "outputs": [
    {
     "data": {
      "text/html": [
       "<div>\n",
       "<style scoped>\n",
       "    .dataframe tbody tr th:only-of-type {\n",
       "        vertical-align: middle;\n",
       "    }\n",
       "\n",
       "    .dataframe tbody tr th {\n",
       "        vertical-align: top;\n",
       "    }\n",
       "\n",
       "    .dataframe thead th {\n",
       "        text-align: right;\n",
       "    }\n",
       "</style>\n",
       "<table border=\"1\" class=\"dataframe\">\n",
       "  <thead>\n",
       "    <tr style=\"text-align: right;\">\n",
       "      <th></th>\n",
       "      <th>debt</th>\n",
       "    </tr>\n",
       "    <tr>\n",
       "      <th>total_income_id</th>\n",
       "      <th></th>\n",
       "    </tr>\n",
       "  </thead>\n",
       "  <tbody>\n",
       "    <tr>\n",
       "      <th>средний</th>\n",
       "      <td>0.088570</td>\n",
       "    </tr>\n",
       "    <tr>\n",
       "      <th>выше среднего</th>\n",
       "      <td>0.084909</td>\n",
       "    </tr>\n",
       "    <tr>\n",
       "      <th>низкий</th>\n",
       "      <td>0.079605</td>\n",
       "    </tr>\n",
       "    <tr>\n",
       "      <th>высокий</th>\n",
       "      <td>0.070293</td>\n",
       "    </tr>\n",
       "  </tbody>\n",
       "</table>\n",
       "</div>"
      ],
      "text/plain": [
       "                     debt\n",
       "total_income_id          \n",
       "средний          0.088570\n",
       "выше среднего    0.084909\n",
       "низкий           0.079605\n",
       "высокий          0.070293"
      ]
     },
     "execution_count": 11,
     "metadata": {},
     "output_type": "execute_result"
    }
   ],
   "source": [
    "inc = df.pivot_table(index = 'total_income_id', values='debt', aggfunc = 'count')\n",
    "inc_sum = df.pivot_table(index = 'total_income_id', values='debt', aggfunc = 'sum')\n",
    "total_income_debt = inc_sum / inc\n",
    "total_income_debt.sort_values(by ='debt', ascending = False)"
   ]
  },
  {
   "cell_type": "markdown",
   "metadata": {},
   "source": [
    "**Вывод**"
   ]
  },
  {
   "cell_type": "markdown",
   "metadata": {},
   "source": [
    "Как ни странно, люди с низким доходом наиболее обязательны, по сравнению с людьми у кого доход высокий или выше среднего. Для людей с низким доходом вероятно важна хорошая кредитная история и, кроме того, с низким доходом сложнее выплачивать пенни за просрочку по процентам, а люди с очень высоким доходом не имеют причин для задержек."
   ]
  },
  {
   "cell_type": "markdown",
   "metadata": {},
   "source": [
    "## Как разные цели кредита влияют на его возврат в срок?"
   ]
  },
  {
   "cell_type": "code",
   "execution_count": 12,
   "metadata": {},
   "outputs": [
    {
     "data": {
      "text/plain": [
       "purpose_id\n",
       "авто            0.093590\n",
       "недвижимость    0.072340\n",
       "образование     0.092200\n",
       "свадьба         0.080034\n",
       "dtype: float64"
      ]
     },
     "metadata": {},
     "output_type": "display_data"
    }
   ],
   "source": [
    "purpose_group = df.groupby('purpose_id').agg({'debt':['sum','count']})\n",
    "conversion = purpose_group['debt']['sum'] / purpose_group['debt']['count']\n",
    "display(conversion)"
   ]
  },
  {
   "cell_type": "markdown",
   "metadata": {},
   "source": [
    "**Вывод**"
   ]
  },
  {
   "cell_type": "markdown",
   "metadata": {},
   "source": [
    "Больше всего просрочек у кредитов на автомобиль и образование, их доля 0.092 и 0.093.\n",
    "Кредит на личные цели и кредит на недвижимось имеют меньше просрочек. Возможно, в покупке автомобиля больше спонтанности, поэтому заемщики могут неверно оценить свои возможности.Человек, выбирая ипотеку, лучше оценивает перспективу, так как срок платежа очень большой. Помимио прочего, недвижимость можно продать на определенном этапе не теряя в цене и компенсируя проценты, в отличие от автомобиля, который падает в цене или приобретения образовательных услуг, которые не возмещаются."
   ]
  },
  {
   "cell_type": "markdown",
   "metadata": {},
   "source": [
    "## Общий вывод"
   ]
  },
  {
   "cell_type": "markdown",
   "metadata": {},
   "source": [
    "Из полученных данных можно сделать вывод, что самыми надежными заемщиками являются люди, которые берут ипотеку, с низким или очень высоким уровнем заработка, без детей, состоящие или бывшие в официальном браке."
   ]
  }
 ],
 "metadata": {
  "ExecuteTimeLog": [
   {
    "duration": 690,
    "start_time": "2021-12-04T16:36:36.710Z"
   },
   {
    "duration": 66,
    "start_time": "2021-12-04T16:45:25.674Z"
   },
   {
    "duration": 87,
    "start_time": "2021-12-04T17:02:29.466Z"
   },
   {
    "duration": 56,
    "start_time": "2021-12-04T17:02:42.545Z"
   },
   {
    "duration": 56,
    "start_time": "2021-12-04T17:08:32.457Z"
   },
   {
    "duration": 9,
    "start_time": "2021-12-04T17:09:30.517Z"
   },
   {
    "duration": 8,
    "start_time": "2021-12-04T17:09:48.055Z"
   },
   {
    "duration": 7,
    "start_time": "2021-12-04T17:09:50.489Z"
   },
   {
    "duration": 7,
    "start_time": "2021-12-04T17:09:50.616Z"
   },
   {
    "duration": 7,
    "start_time": "2021-12-04T17:09:52.362Z"
   },
   {
    "duration": 7,
    "start_time": "2021-12-04T17:10:27.052Z"
   },
   {
    "duration": 7,
    "start_time": "2021-12-04T17:10:28.265Z"
   },
   {
    "duration": 358,
    "start_time": "2021-12-04T17:24:43.277Z"
   },
   {
    "duration": 8,
    "start_time": "2021-12-04T17:25:43.715Z"
   },
   {
    "duration": 12,
    "start_time": "2021-12-04T17:27:43.514Z"
   },
   {
    "duration": 10,
    "start_time": "2021-12-04T17:28:01.455Z"
   },
   {
    "duration": 7,
    "start_time": "2021-12-04T17:28:20.854Z"
   },
   {
    "duration": 8,
    "start_time": "2021-12-04T17:28:47.522Z"
   },
   {
    "duration": 8,
    "start_time": "2021-12-04T17:30:12.042Z"
   },
   {
    "duration": 8,
    "start_time": "2021-12-04T18:40:43.965Z"
   },
   {
    "duration": 7,
    "start_time": "2021-12-04T18:41:12.376Z"
   },
   {
    "duration": 7,
    "start_time": "2021-12-04T18:42:06.854Z"
   },
   {
    "duration": 8,
    "start_time": "2021-12-04T18:42:28.201Z"
   },
   {
    "duration": 7,
    "start_time": "2021-12-04T18:45:41.802Z"
   },
   {
    "duration": 2216,
    "start_time": "2021-12-05T17:43:08.553Z"
   },
   {
    "duration": 422,
    "start_time": "2021-12-05T17:43:22.668Z"
   },
   {
    "duration": 103,
    "start_time": "2021-12-05T17:43:38.997Z"
   },
   {
    "duration": 485,
    "start_time": "2021-12-05T18:45:15.002Z"
   },
   {
    "duration": 877,
    "start_time": "2021-12-05T18:45:17.837Z"
   },
   {
    "duration": 719,
    "start_time": "2021-12-05T18:45:27.038Z"
   },
   {
    "duration": 583,
    "start_time": "2021-12-05T18:45:38.044Z"
   },
   {
    "duration": 14,
    "start_time": "2021-12-05T18:45:57.117Z"
   },
   {
    "duration": 815,
    "start_time": "2021-12-06T09:48:02.662Z"
   },
   {
    "duration": 4,
    "start_time": "2021-12-06T09:48:03.479Z"
   },
   {
    "duration": 818,
    "start_time": "2021-12-06T09:49:30.530Z"
   },
   {
    "duration": 4,
    "start_time": "2021-12-06T09:49:31.350Z"
   },
   {
    "duration": 825,
    "start_time": "2021-12-06T09:51:41.043Z"
   },
   {
    "duration": 6,
    "start_time": "2021-12-06T09:51:41.870Z"
   },
   {
    "duration": 825,
    "start_time": "2021-12-06T09:54:43.810Z"
   },
   {
    "duration": 13,
    "start_time": "2021-12-06T09:54:44.638Z"
   },
   {
    "duration": 760,
    "start_time": "2021-12-06T09:55:41.652Z"
   },
   {
    "duration": 13,
    "start_time": "2021-12-06T09:55:42.414Z"
   },
   {
    "duration": 832,
    "start_time": "2021-12-06T09:56:40.913Z"
   },
   {
    "duration": 13,
    "start_time": "2021-12-06T09:56:41.748Z"
   },
   {
    "duration": 878,
    "start_time": "2021-12-06T11:11:27.178Z"
   },
   {
    "duration": 5,
    "start_time": "2021-12-06T11:11:28.059Z"
   },
   {
    "duration": 875,
    "start_time": "2021-12-06T11:46:47.522Z"
   },
   {
    "duration": 418,
    "start_time": "2021-12-06T11:46:48.401Z"
   },
   {
    "duration": 845,
    "start_time": "2021-12-06T11:47:03.551Z"
   },
   {
    "duration": 20,
    "start_time": "2021-12-06T11:47:04.399Z"
   },
   {
    "duration": 847,
    "start_time": "2021-12-06T13:05:02.853Z"
   },
   {
    "duration": 395,
    "start_time": "2021-12-06T13:05:03.703Z"
   },
   {
    "duration": -10,
    "start_time": "2021-12-06T13:05:04.110Z"
   },
   {
    "duration": 863,
    "start_time": "2021-12-06T13:06:12.527Z"
   },
   {
    "duration": 26,
    "start_time": "2021-12-06T13:06:13.392Z"
   },
   {
    "duration": 416,
    "start_time": "2021-12-06T13:06:13.421Z"
   },
   {
    "duration": 858,
    "start_time": "2021-12-06T13:12:16.334Z"
   },
   {
    "duration": 7924,
    "start_time": "2021-12-06T13:12:17.195Z"
   },
   {
    "duration": -100,
    "start_time": "2021-12-06T13:12:25.223Z"
   },
   {
    "duration": 895,
    "start_time": "2021-12-06T13:13:37.236Z"
   },
   {
    "duration": 13,
    "start_time": "2021-12-06T13:13:38.134Z"
   },
   {
    "duration": 24,
    "start_time": "2021-12-06T13:13:38.150Z"
   },
   {
    "duration": 859,
    "start_time": "2021-12-06T13:23:16.059Z"
   },
   {
    "duration": 15,
    "start_time": "2021-12-06T13:23:16.921Z"
   },
   {
    "duration": 32,
    "start_time": "2021-12-06T13:23:16.940Z"
   },
   {
    "duration": 990,
    "start_time": "2021-12-06T14:40:08.413Z"
   },
   {
    "duration": 41,
    "start_time": "2021-12-06T14:40:09.406Z"
   },
   {
    "duration": 682,
    "start_time": "2021-12-06T14:40:09.451Z"
   },
   {
    "duration": 1045,
    "start_time": "2021-12-06T14:40:36.607Z"
   },
   {
    "duration": 30,
    "start_time": "2021-12-06T14:40:37.656Z"
   },
   {
    "duration": 72,
    "start_time": "2021-12-06T14:40:37.689Z"
   },
   {
    "duration": 631,
    "start_time": "2021-12-06T19:03:45.538Z"
   },
   {
    "duration": 18,
    "start_time": "2021-12-06T19:03:46.170Z"
   },
   {
    "duration": 13,
    "start_time": "2021-12-06T19:03:46.192Z"
   },
   {
    "duration": 257,
    "start_time": "2021-12-06T19:03:46.207Z"
   },
   {
    "duration": 621,
    "start_time": "2021-12-06T19:04:05.746Z"
   },
   {
    "duration": 18,
    "start_time": "2021-12-06T19:04:06.369Z"
   },
   {
    "duration": 31,
    "start_time": "2021-12-06T19:04:06.389Z"
   },
   {
    "duration": 37,
    "start_time": "2021-12-06T19:04:06.422Z"
   },
   {
    "duration": 651,
    "start_time": "2021-12-06T19:07:13.178Z"
   },
   {
    "duration": 19,
    "start_time": "2021-12-06T19:07:13.832Z"
   },
   {
    "duration": 13,
    "start_time": "2021-12-06T19:07:13.853Z"
   },
   {
    "duration": 61,
    "start_time": "2021-12-06T19:07:13.868Z"
   },
   {
    "duration": 19,
    "start_time": "2021-12-06T19:16:55.813Z"
   },
   {
    "duration": 9,
    "start_time": "2021-12-06T19:18:04.738Z"
   },
   {
    "duration": 7,
    "start_time": "2021-12-06T19:18:06.692Z"
   },
   {
    "duration": 7,
    "start_time": "2021-12-06T19:18:07.938Z"
   },
   {
    "duration": 9,
    "start_time": "2021-12-06T19:18:30.764Z"
   },
   {
    "duration": 9,
    "start_time": "2021-12-06T19:18:41.780Z"
   },
   {
    "duration": 8,
    "start_time": "2021-12-06T19:21:16.885Z"
   },
   {
    "duration": 8,
    "start_time": "2021-12-06T19:22:17.676Z"
   },
   {
    "duration": 8,
    "start_time": "2021-12-06T19:22:18.443Z"
   },
   {
    "duration": 8,
    "start_time": "2021-12-06T19:22:19.146Z"
   },
   {
    "duration": 8,
    "start_time": "2021-12-06T19:22:19.585Z"
   },
   {
    "duration": 8,
    "start_time": "2021-12-06T19:22:20.221Z"
   },
   {
    "duration": 9,
    "start_time": "2021-12-06T19:23:07.220Z"
   },
   {
    "duration": 607,
    "start_time": "2021-12-06T19:24:56.324Z"
   },
   {
    "duration": 20,
    "start_time": "2021-12-06T19:24:56.933Z"
   },
   {
    "duration": 34,
    "start_time": "2021-12-06T19:24:56.957Z"
   },
   {
    "duration": 10,
    "start_time": "2021-12-06T19:24:56.994Z"
   },
   {
    "duration": 505,
    "start_time": "2021-12-06T19:42:19.680Z"
   },
   {
    "duration": 4237,
    "start_time": "2021-12-06T19:55:16.109Z"
   },
   {
    "duration": 184,
    "start_time": "2021-12-06T19:56:15.472Z"
   },
   {
    "duration": 495,
    "start_time": "2021-12-06T19:56:51.953Z"
   },
   {
    "duration": 193,
    "start_time": "2021-12-06T19:56:54.164Z"
   },
   {
    "duration": 187,
    "start_time": "2021-12-06T19:57:08.989Z"
   },
   {
    "duration": 37,
    "start_time": "2021-12-06T19:57:34.474Z"
   },
   {
    "duration": 4488,
    "start_time": "2021-12-06T19:58:18.015Z"
   },
   {
    "duration": 41,
    "start_time": "2021-12-06T20:00:16.674Z"
   },
   {
    "duration": 666,
    "start_time": "2021-12-07T12:13:44.282Z"
   },
   {
    "duration": 49,
    "start_time": "2021-12-07T12:13:44.949Z"
   },
   {
    "duration": 12,
    "start_time": "2021-12-07T12:13:44.999Z"
   },
   {
    "duration": 45,
    "start_time": "2021-12-07T12:13:45.013Z"
   },
   {
    "duration": 579,
    "start_time": "2021-12-07T12:21:08.756Z"
   },
   {
    "duration": 38,
    "start_time": "2021-12-07T12:21:09.337Z"
   },
   {
    "duration": 26,
    "start_time": "2021-12-07T12:21:09.377Z"
   },
   {
    "duration": 41,
    "start_time": "2021-12-07T12:21:09.405Z"
   },
   {
    "duration": 8,
    "start_time": "2021-12-07T12:21:09.448Z"
   },
   {
    "duration": 637,
    "start_time": "2021-12-07T12:25:19.271Z"
   },
   {
    "duration": 35,
    "start_time": "2021-12-07T12:25:19.910Z"
   },
   {
    "duration": 11,
    "start_time": "2021-12-07T12:25:19.947Z"
   },
   {
    "duration": 63,
    "start_time": "2021-12-07T12:25:19.959Z"
   },
   {
    "duration": 223,
    "start_time": "2021-12-07T12:25:20.024Z"
   },
   {
    "duration": 609,
    "start_time": "2021-12-07T12:27:00.548Z"
   },
   {
    "duration": 45,
    "start_time": "2021-12-07T12:27:01.159Z"
   },
   {
    "duration": 13,
    "start_time": "2021-12-07T12:27:01.207Z"
   },
   {
    "duration": 72,
    "start_time": "2021-12-07T12:27:01.222Z"
   },
   {
    "duration": 258,
    "start_time": "2021-12-07T12:27:01.296Z"
   },
   {
    "duration": 652,
    "start_time": "2021-12-07T13:05:39.580Z"
   },
   {
    "duration": 39,
    "start_time": "2021-12-07T13:05:40.233Z"
   },
   {
    "duration": 14,
    "start_time": "2021-12-07T13:05:40.290Z"
   },
   {
    "duration": 43,
    "start_time": "2021-12-07T13:05:40.306Z"
   },
   {
    "duration": 221,
    "start_time": "2021-12-07T13:05:40.351Z"
   },
   {
    "duration": 602,
    "start_time": "2021-12-07T13:41:13.424Z"
   },
   {
    "duration": 36,
    "start_time": "2021-12-07T13:41:14.028Z"
   },
   {
    "duration": 28,
    "start_time": "2021-12-07T13:41:14.066Z"
   },
   {
    "duration": 40,
    "start_time": "2021-12-07T13:41:14.095Z"
   },
   {
    "duration": 228,
    "start_time": "2021-12-07T13:41:14.137Z"
   },
   {
    "duration": 600,
    "start_time": "2021-12-07T13:41:29.425Z"
   },
   {
    "duration": 39,
    "start_time": "2021-12-07T13:41:30.027Z"
   },
   {
    "duration": 34,
    "start_time": "2021-12-07T13:41:30.068Z"
   },
   {
    "duration": 41,
    "start_time": "2021-12-07T13:41:30.104Z"
   },
   {
    "duration": 7,
    "start_time": "2021-12-07T13:41:30.147Z"
   },
   {
    "duration": 776,
    "start_time": "2021-12-07T18:36:08.983Z"
   },
   {
    "duration": 938,
    "start_time": "2021-12-07T18:40:04.295Z"
   },
   {
    "duration": 686,
    "start_time": "2021-12-07T18:41:05.852Z"
   },
   {
    "duration": 111,
    "start_time": "2021-12-07T18:41:26.559Z"
   },
   {
    "duration": 573,
    "start_time": "2021-12-07T18:41:46.574Z"
   },
   {
    "duration": 583,
    "start_time": "2021-12-07T18:42:04.357Z"
   },
   {
    "duration": 825,
    "start_time": "2021-12-07T18:42:26.306Z"
   },
   {
    "duration": 400,
    "start_time": "2021-12-07T18:42:32.134Z"
   },
   {
    "duration": 4,
    "start_time": "2021-12-07T18:45:07.449Z"
   },
   {
    "duration": 7,
    "start_time": "2021-12-07T18:45:29.423Z"
   },
   {
    "duration": -166,
    "start_time": "2021-12-07T18:46:23.220Z"
   },
   {
    "duration": -181,
    "start_time": "2021-12-07T18:46:23.236Z"
   },
   {
    "duration": -196,
    "start_time": "2021-12-07T18:46:23.252Z"
   },
   {
    "duration": -202,
    "start_time": "2021-12-07T18:46:23.259Z"
   },
   {
    "duration": -210,
    "start_time": "2021-12-07T18:46:23.268Z"
   },
   {
    "duration": 3,
    "start_time": "2021-12-07T18:47:18.157Z"
   },
   {
    "duration": 5,
    "start_time": "2021-12-07T18:47:41.852Z"
   },
   {
    "duration": 4,
    "start_time": "2021-12-07T18:47:42.627Z"
   },
   {
    "duration": 8,
    "start_time": "2021-12-07T18:47:43.224Z"
   },
   {
    "duration": 110,
    "start_time": "2021-12-07T18:47:52.540Z"
   },
   {
    "duration": 9759,
    "start_time": "2021-12-07T18:48:02.950Z"
   },
   {
    "duration": 740,
    "start_time": "2021-12-07T18:48:53.639Z"
   },
   {
    "duration": 57,
    "start_time": "2021-12-07T18:48:54.381Z"
   },
   {
    "duration": 15,
    "start_time": "2021-12-07T18:48:54.440Z"
   },
   {
    "duration": 75,
    "start_time": "2021-12-07T18:48:54.457Z"
   },
   {
    "duration": 1660,
    "start_time": "2021-12-07T18:48:54.534Z"
   },
   {
    "duration": 799,
    "start_time": "2021-12-07T18:50:22.747Z"
   },
   {
    "duration": 46,
    "start_time": "2021-12-07T18:50:23.548Z"
   },
   {
    "duration": 23,
    "start_time": "2021-12-07T18:50:23.607Z"
   },
   {
    "duration": 49,
    "start_time": "2021-12-07T18:50:23.632Z"
   },
   {
    "duration": 5244,
    "start_time": "2021-12-07T18:50:23.682Z"
   },
   {
    "duration": 5568,
    "start_time": "2021-12-07T18:50:58.589Z"
   },
   {
    "duration": 4907,
    "start_time": "2021-12-07T18:52:19.443Z"
   },
   {
    "duration": 119,
    "start_time": "2021-12-07T18:58:55.160Z"
   },
   {
    "duration": 109,
    "start_time": "2021-12-07T18:59:04.878Z"
   },
   {
    "duration": 814,
    "start_time": "2021-12-07T18:59:11.223Z"
   },
   {
    "duration": 835,
    "start_time": "2021-12-07T19:00:49.178Z"
   },
   {
    "duration": 1183,
    "start_time": "2021-12-07T19:01:15.357Z"
   },
   {
    "duration": 115,
    "start_time": "2021-12-07T19:02:03.324Z"
   },
   {
    "duration": 141,
    "start_time": "2021-12-07T19:02:25.729Z"
   },
   {
    "duration": 129,
    "start_time": "2021-12-07T19:02:46.290Z"
   },
   {
    "duration": 163,
    "start_time": "2021-12-07T19:03:02.004Z"
   },
   {
    "duration": 126,
    "start_time": "2021-12-07T19:03:08.608Z"
   },
   {
    "duration": 119,
    "start_time": "2021-12-07T19:03:11.225Z"
   },
   {
    "duration": 4227,
    "start_time": "2021-12-07T19:10:37.264Z"
   },
   {
    "duration": 4441,
    "start_time": "2021-12-07T19:10:46.690Z"
   },
   {
    "duration": 735,
    "start_time": "2021-12-07T19:10:58.420Z"
   },
   {
    "duration": 52,
    "start_time": "2021-12-07T19:10:59.156Z"
   },
   {
    "duration": 13,
    "start_time": "2021-12-07T19:10:59.210Z"
   },
   {
    "duration": 50,
    "start_time": "2021-12-07T19:10:59.225Z"
   },
   {
    "duration": 4973,
    "start_time": "2021-12-07T19:10:59.277Z"
   },
   {
    "duration": 4563,
    "start_time": "2021-12-07T19:12:20.931Z"
   },
   {
    "duration": 4553,
    "start_time": "2021-12-07T19:12:29.308Z"
   },
   {
    "duration": 4719,
    "start_time": "2021-12-07T19:14:02.441Z"
   },
   {
    "duration": 4955,
    "start_time": "2021-12-07T19:18:09.639Z"
   },
   {
    "duration": 5201,
    "start_time": "2021-12-07T19:18:15.383Z"
   },
   {
    "duration": 804,
    "start_time": "2021-12-08T11:38:57.547Z"
   },
   {
    "duration": 75,
    "start_time": "2021-12-08T11:38:58.353Z"
   },
   {
    "duration": 18,
    "start_time": "2021-12-08T11:38:58.431Z"
   },
   {
    "duration": 83,
    "start_time": "2021-12-08T11:38:58.452Z"
   },
   {
    "duration": 6534,
    "start_time": "2021-12-08T11:38:58.537Z"
   },
   {
    "duration": 884,
    "start_time": "2021-12-08T11:41:28.998Z"
   },
   {
    "duration": 80,
    "start_time": "2021-12-08T11:41:29.885Z"
   },
   {
    "duration": 23,
    "start_time": "2021-12-08T11:41:29.969Z"
   },
   {
    "duration": 98,
    "start_time": "2021-12-08T11:41:29.995Z"
   },
   {
    "duration": 5570,
    "start_time": "2021-12-08T11:41:30.095Z"
   },
   {
    "duration": 853,
    "start_time": "2021-12-08T11:41:51.025Z"
   },
   {
    "duration": 70,
    "start_time": "2021-12-08T11:41:51.881Z"
   },
   {
    "duration": 18,
    "start_time": "2021-12-08T11:41:51.954Z"
   },
   {
    "duration": 95,
    "start_time": "2021-12-08T11:41:51.974Z"
   },
   {
    "duration": 5095,
    "start_time": "2021-12-08T11:41:52.071Z"
   },
   {
    "duration": 959,
    "start_time": "2021-12-08T11:42:47.401Z"
   },
   {
    "duration": 70,
    "start_time": "2021-12-08T11:42:48.363Z"
   },
   {
    "duration": 18,
    "start_time": "2021-12-08T11:42:48.435Z"
   },
   {
    "duration": 94,
    "start_time": "2021-12-08T11:42:48.456Z"
   },
   {
    "duration": 5173,
    "start_time": "2021-12-08T11:42:48.552Z"
   },
   {
    "duration": 1535,
    "start_time": "2021-12-08T11:58:24.689Z"
   },
   {
    "duration": 98,
    "start_time": "2021-12-08T11:58:26.227Z"
   },
   {
    "duration": 22,
    "start_time": "2021-12-08T11:58:26.329Z"
   },
   {
    "duration": 103,
    "start_time": "2021-12-08T11:58:26.356Z"
   },
   {
    "duration": 5573,
    "start_time": "2021-12-08T11:58:26.462Z"
   },
   {
    "duration": 793,
    "start_time": "2021-12-08T11:59:38.148Z"
   },
   {
    "duration": 101,
    "start_time": "2021-12-08T11:59:38.944Z"
   },
   {
    "duration": 25,
    "start_time": "2021-12-08T11:59:39.048Z"
   },
   {
    "duration": 112,
    "start_time": "2021-12-08T11:59:39.076Z"
   },
   {
    "duration": 5605,
    "start_time": "2021-12-08T11:59:39.191Z"
   },
   {
    "duration": 963,
    "start_time": "2021-12-08T12:02:09.333Z"
   },
   {
    "duration": 90,
    "start_time": "2021-12-08T12:02:10.298Z"
   },
   {
    "duration": 40,
    "start_time": "2021-12-08T12:02:10.392Z"
   },
   {
    "duration": 106,
    "start_time": "2021-12-08T12:02:10.436Z"
   },
   {
    "duration": 6139,
    "start_time": "2021-12-08T12:02:10.545Z"
   },
   {
    "duration": 854,
    "start_time": "2021-12-08T12:02:51.193Z"
   },
   {
    "duration": 75,
    "start_time": "2021-12-08T12:02:52.050Z"
   },
   {
    "duration": 18,
    "start_time": "2021-12-08T12:02:52.128Z"
   },
   {
    "duration": 116,
    "start_time": "2021-12-08T12:02:52.149Z"
   },
   {
    "duration": 5312,
    "start_time": "2021-12-08T12:02:52.268Z"
   },
   {
    "duration": 862,
    "start_time": "2021-12-09T09:54:33.391Z"
   },
   {
    "duration": 536,
    "start_time": "2021-12-09T09:54:34.256Z"
   },
   {
    "duration": -32,
    "start_time": "2021-12-09T09:54:34.827Z"
   },
   {
    "duration": -31,
    "start_time": "2021-12-09T09:54:34.828Z"
   },
   {
    "duration": -39,
    "start_time": "2021-12-09T09:54:34.837Z"
   },
   {
    "duration": 1149,
    "start_time": "2021-12-09T09:55:14.866Z"
   },
   {
    "duration": 562,
    "start_time": "2021-12-09T09:55:16.018Z"
   },
   {
    "duration": -77,
    "start_time": "2021-12-09T09:55:16.659Z"
   },
   {
    "duration": -81,
    "start_time": "2021-12-09T09:55:16.665Z"
   },
   {
    "duration": -82,
    "start_time": "2021-12-09T09:55:16.667Z"
   },
   {
    "duration": 858,
    "start_time": "2021-12-09T09:56:03.262Z"
   },
   {
    "duration": 526,
    "start_time": "2021-12-09T09:56:04.122Z"
   },
   {
    "duration": -47,
    "start_time": "2021-12-09T09:56:04.698Z"
   },
   {
    "duration": -49,
    "start_time": "2021-12-09T09:56:04.701Z"
   },
   {
    "duration": -50,
    "start_time": "2021-12-09T09:56:04.703Z"
   },
   {
    "duration": 849,
    "start_time": "2021-12-09T09:56:53.774Z"
   },
   {
    "duration": 62,
    "start_time": "2021-12-09T09:56:54.625Z"
   },
   {
    "duration": 17,
    "start_time": "2021-12-09T09:56:54.690Z"
   },
   {
    "duration": 85,
    "start_time": "2021-12-09T09:56:54.709Z"
   },
   {
    "duration": 4780,
    "start_time": "2021-12-09T09:56:54.797Z"
   },
   {
    "duration": 911,
    "start_time": "2021-12-09T10:04:00.940Z"
   },
   {
    "duration": 49,
    "start_time": "2021-12-09T10:04:01.853Z"
   },
   {
    "duration": 18,
    "start_time": "2021-12-09T10:04:01.904Z"
   },
   {
    "duration": 91,
    "start_time": "2021-12-09T10:04:01.925Z"
   },
   {
    "duration": 5020,
    "start_time": "2021-12-09T10:04:02.018Z"
   },
   {
    "duration": 886,
    "start_time": "2021-12-09T10:24:49.994Z"
   },
   {
    "duration": 50,
    "start_time": "2021-12-09T10:24:50.883Z"
   },
   {
    "duration": 40,
    "start_time": "2021-12-09T10:24:50.935Z"
   },
   {
    "duration": 86,
    "start_time": "2021-12-09T10:24:50.978Z"
   },
   {
    "duration": 4839,
    "start_time": "2021-12-09T10:24:51.067Z"
   },
   {
    "duration": 1032,
    "start_time": "2021-12-09T10:33:09.979Z"
   },
   {
    "duration": 64,
    "start_time": "2021-12-09T10:33:11.014Z"
   },
   {
    "duration": 19,
    "start_time": "2021-12-09T10:33:11.081Z"
   },
   {
    "duration": 98,
    "start_time": "2021-12-09T10:33:11.102Z"
   },
   {
    "duration": 5150,
    "start_time": "2021-12-09T10:33:11.203Z"
   },
   {
    "duration": 98,
    "start_time": "2021-12-09T10:33:16.361Z"
   },
   {
    "duration": 885,
    "start_time": "2021-12-09T11:14:36.606Z"
   },
   {
    "duration": 66,
    "start_time": "2021-12-09T11:14:37.493Z"
   },
   {
    "duration": 18,
    "start_time": "2021-12-09T11:14:37.562Z"
   },
   {
    "duration": 90,
    "start_time": "2021-12-09T11:14:37.582Z"
   },
   {
    "duration": 5875,
    "start_time": "2021-12-09T11:14:37.675Z"
   },
   {
    "duration": 89,
    "start_time": "2021-12-09T11:14:43.553Z"
   },
   {
    "duration": 8,
    "start_time": "2021-12-09T11:14:43.660Z"
   },
   {
    "duration": 865,
    "start_time": "2021-12-09T13:04:38.583Z"
   },
   {
    "duration": 52,
    "start_time": "2021-12-09T13:04:39.451Z"
   },
   {
    "duration": 19,
    "start_time": "2021-12-09T13:04:39.505Z"
   },
   {
    "duration": 91,
    "start_time": "2021-12-09T13:04:39.526Z"
   },
   {
    "duration": 5043,
    "start_time": "2021-12-09T13:04:39.620Z"
   },
   {
    "duration": 84,
    "start_time": "2021-12-09T13:04:44.666Z"
   },
   {
    "duration": 6,
    "start_time": "2021-12-09T13:04:44.760Z"
   },
   {
    "duration": 1140,
    "start_time": "2021-12-09T13:07:07.384Z"
   },
   {
    "duration": 75,
    "start_time": "2021-12-09T13:07:08.527Z"
   },
   {
    "duration": 25,
    "start_time": "2021-12-09T13:07:08.606Z"
   },
   {
    "duration": 124,
    "start_time": "2021-12-09T13:07:08.635Z"
   },
   {
    "duration": 5360,
    "start_time": "2021-12-09T13:07:08.762Z"
   },
   {
    "duration": 131,
    "start_time": "2021-12-09T13:07:14.125Z"
   },
   {
    "duration": 8,
    "start_time": "2021-12-09T13:07:14.259Z"
   },
   {
    "duration": 1032,
    "start_time": "2021-12-09T13:07:38.632Z"
   },
   {
    "duration": 45,
    "start_time": "2021-12-09T13:07:39.667Z"
   },
   {
    "duration": 19,
    "start_time": "2021-12-09T13:07:39.715Z"
   },
   {
    "duration": 69,
    "start_time": "2021-12-09T13:07:39.761Z"
   },
   {
    "duration": 5419,
    "start_time": "2021-12-09T13:07:39.833Z"
   },
   {
    "duration": 74,
    "start_time": "2021-12-09T13:07:45.260Z"
   },
   {
    "duration": 27,
    "start_time": "2021-12-09T13:07:45.338Z"
   },
   {
    "duration": 939,
    "start_time": "2021-12-09T13:23:10.285Z"
   },
   {
    "duration": 65,
    "start_time": "2021-12-09T13:23:11.227Z"
   },
   {
    "duration": 19,
    "start_time": "2021-12-09T13:23:11.295Z"
   },
   {
    "duration": 81,
    "start_time": "2021-12-09T13:23:11.317Z"
   },
   {
    "duration": 5372,
    "start_time": "2021-12-09T13:23:11.400Z"
   },
   {
    "duration": 88,
    "start_time": "2021-12-09T13:23:16.775Z"
   },
   {
    "duration": 11,
    "start_time": "2021-12-09T13:23:16.865Z"
   },
   {
    "duration": 892,
    "start_time": "2021-12-09T13:35:01.305Z"
   },
   {
    "duration": 64,
    "start_time": "2021-12-09T13:35:02.200Z"
   },
   {
    "duration": 18,
    "start_time": "2021-12-09T13:35:02.266Z"
   },
   {
    "duration": 96,
    "start_time": "2021-12-09T13:35:02.287Z"
   },
   {
    "duration": 5765,
    "start_time": "2021-12-09T13:35:02.385Z"
   },
   {
    "duration": 81,
    "start_time": "2021-12-09T13:35:08.159Z"
   },
   {
    "duration": 53,
    "start_time": "2021-12-09T13:35:08.260Z"
   },
   {
    "duration": 834,
    "start_time": "2021-12-09T14:10:27.494Z"
   },
   {
    "duration": 54,
    "start_time": "2021-12-09T14:10:28.331Z"
   },
   {
    "duration": 17,
    "start_time": "2021-12-09T14:10:28.388Z"
   },
   {
    "duration": 85,
    "start_time": "2021-12-09T14:10:28.408Z"
   },
   {
    "duration": 5291,
    "start_time": "2021-12-09T14:10:28.496Z"
   },
   {
    "duration": 89,
    "start_time": "2021-12-09T14:10:33.790Z"
   },
   {
    "duration": 54,
    "start_time": "2021-12-09T14:10:33.882Z"
   },
   {
    "duration": 58,
    "start_time": "2021-12-09T14:10:33.940Z"
   },
   {
    "duration": 515,
    "start_time": "2021-12-09T14:10:34.000Z"
   },
   {
    "duration": -156,
    "start_time": "2021-12-09T14:10:34.674Z"
   },
   {
    "duration": 882,
    "start_time": "2021-12-09T14:17:19.817Z"
   },
   {
    "duration": 57,
    "start_time": "2021-12-09T14:17:20.702Z"
   },
   {
    "duration": 18,
    "start_time": "2021-12-09T14:17:20.762Z"
   },
   {
    "duration": 84,
    "start_time": "2021-12-09T14:17:20.783Z"
   },
   {
    "duration": 4972,
    "start_time": "2021-12-09T14:17:20.869Z"
   },
   {
    "duration": 163,
    "start_time": "2021-12-09T14:17:25.844Z"
   },
   {
    "duration": -32,
    "start_time": "2021-12-09T14:17:26.042Z"
   },
   {
    "duration": -32,
    "start_time": "2021-12-09T14:17:26.044Z"
   },
   {
    "duration": -33,
    "start_time": "2021-12-09T14:17:26.046Z"
   },
   {
    "duration": -40,
    "start_time": "2021-12-09T14:17:26.055Z"
   },
   {
    "duration": 895,
    "start_time": "2021-12-09T14:18:10.416Z"
   },
   {
    "duration": 62,
    "start_time": "2021-12-09T14:18:11.313Z"
   },
   {
    "duration": 18,
    "start_time": "2021-12-09T14:18:11.378Z"
   },
   {
    "duration": 91,
    "start_time": "2021-12-09T14:18:11.399Z"
   },
   {
    "duration": 5256,
    "start_time": "2021-12-09T14:18:11.492Z"
   },
   {
    "duration": 136,
    "start_time": "2021-12-09T14:18:16.750Z"
   },
   {
    "duration": -43,
    "start_time": "2021-12-09T14:18:16.932Z"
   },
   {
    "duration": -43,
    "start_time": "2021-12-09T14:18:16.934Z"
   },
   {
    "duration": -44,
    "start_time": "2021-12-09T14:18:16.936Z"
   },
   {
    "duration": -44,
    "start_time": "2021-12-09T14:18:16.937Z"
   },
   {
    "duration": 1124,
    "start_time": "2021-12-09T14:18:56.771Z"
   },
   {
    "duration": 79,
    "start_time": "2021-12-09T14:18:57.899Z"
   },
   {
    "duration": 26,
    "start_time": "2021-12-09T14:18:57.982Z"
   },
   {
    "duration": 91,
    "start_time": "2021-12-09T14:18:58.012Z"
   },
   {
    "duration": 5401,
    "start_time": "2021-12-09T14:18:58.106Z"
   },
   {
    "duration": 80,
    "start_time": "2021-12-09T14:19:03.510Z"
   },
   {
    "duration": 47,
    "start_time": "2021-12-09T14:19:03.593Z"
   },
   {
    "duration": 41,
    "start_time": "2021-12-09T14:19:03.660Z"
   },
   {
    "duration": 54,
    "start_time": "2021-12-09T14:19:03.705Z"
   },
   {
    "duration": 499,
    "start_time": "2021-12-09T14:19:03.763Z"
   },
   {
    "duration": 1121,
    "start_time": "2021-12-09T14:20:11.576Z"
   },
   {
    "duration": 67,
    "start_time": "2021-12-09T14:20:12.701Z"
   },
   {
    "duration": 21,
    "start_time": "2021-12-09T14:20:12.772Z"
   },
   {
    "duration": 101,
    "start_time": "2021-12-09T14:20:12.797Z"
   },
   {
    "duration": 4865,
    "start_time": "2021-12-09T14:20:12.901Z"
   },
   {
    "duration": 71,
    "start_time": "2021-12-09T14:20:17.769Z"
   },
   {
    "duration": 47,
    "start_time": "2021-12-09T14:20:17.859Z"
   },
   {
    "duration": 58,
    "start_time": "2021-12-09T14:20:17.909Z"
   },
   {
    "duration": 32,
    "start_time": "2021-12-09T14:20:17.970Z"
   },
   {
    "duration": 31,
    "start_time": "2021-12-09T14:20:18.004Z"
   },
   {
    "duration": 881,
    "start_time": "2021-12-10T16:57:36.016Z"
   },
   {
    "duration": 52,
    "start_time": "2021-12-10T16:57:36.900Z"
   },
   {
    "duration": 19,
    "start_time": "2021-12-10T16:57:36.955Z"
   },
   {
    "duration": 103,
    "start_time": "2021-12-10T16:57:36.978Z"
   },
   {
    "duration": 4612,
    "start_time": "2021-12-10T16:57:37.083Z"
   },
   {
    "duration": 82,
    "start_time": "2021-12-10T16:57:41.697Z"
   },
   {
    "duration": 74,
    "start_time": "2021-12-10T16:57:41.781Z"
   },
   {
    "duration": 39,
    "start_time": "2021-12-10T16:57:41.858Z"
   },
   {
    "duration": 46,
    "start_time": "2021-12-10T16:57:41.900Z"
   },
   {
    "duration": 33,
    "start_time": "2021-12-10T16:57:41.948Z"
   },
   {
    "duration": 857,
    "start_time": "2021-12-10T17:04:32.918Z"
   },
   {
    "duration": 47,
    "start_time": "2021-12-10T17:04:33.777Z"
   },
   {
    "duration": 17,
    "start_time": "2021-12-10T17:04:33.827Z"
   },
   {
    "duration": 92,
    "start_time": "2021-12-10T17:04:33.847Z"
   },
   {
    "duration": 4447,
    "start_time": "2021-12-10T17:04:33.942Z"
   },
   {
    "duration": 78,
    "start_time": "2021-12-10T17:04:38.392Z"
   },
   {
    "duration": 65,
    "start_time": "2021-12-10T17:04:38.473Z"
   },
   {
    "duration": 39,
    "start_time": "2021-12-10T17:04:38.541Z"
   },
   {
    "duration": 59,
    "start_time": "2021-12-10T17:04:38.582Z"
   },
   {
    "duration": 30,
    "start_time": "2021-12-10T17:04:38.643Z"
   },
   {
    "duration": 902,
    "start_time": "2021-12-10T17:07:15.392Z"
   },
   {
    "duration": 53,
    "start_time": "2021-12-10T17:07:16.296Z"
   },
   {
    "duration": 18,
    "start_time": "2021-12-10T17:07:16.355Z"
   },
   {
    "duration": 98,
    "start_time": "2021-12-10T17:07:16.375Z"
   },
   {
    "duration": 4586,
    "start_time": "2021-12-10T17:07:16.476Z"
   },
   {
    "duration": 78,
    "start_time": "2021-12-10T17:07:21.065Z"
   },
   {
    "duration": 48,
    "start_time": "2021-12-10T17:07:21.146Z"
   },
   {
    "duration": 38,
    "start_time": "2021-12-10T17:07:21.217Z"
   },
   {
    "duration": 34,
    "start_time": "2021-12-10T17:07:21.257Z"
   },
   {
    "duration": 51,
    "start_time": "2021-12-10T17:07:21.293Z"
   },
   {
    "duration": 880,
    "start_time": "2021-12-10T17:14:59.308Z"
   },
   {
    "duration": 51,
    "start_time": "2021-12-10T17:15:00.191Z"
   },
   {
    "duration": 18,
    "start_time": "2021-12-10T17:15:00.245Z"
   },
   {
    "duration": 87,
    "start_time": "2021-12-10T17:15:00.265Z"
   },
   {
    "duration": 4719,
    "start_time": "2021-12-10T17:15:00.355Z"
   },
   {
    "duration": 87,
    "start_time": "2021-12-10T17:15:05.078Z"
   },
   {
    "duration": 72,
    "start_time": "2021-12-10T17:15:05.168Z"
   },
   {
    "duration": 39,
    "start_time": "2021-12-10T17:15:05.245Z"
   },
   {
    "duration": 53,
    "start_time": "2021-12-10T17:15:05.287Z"
   },
   {
    "duration": 31,
    "start_time": "2021-12-10T17:15:05.342Z"
   },
   {
    "duration": 69,
    "start_time": "2021-12-10T17:24:00.057Z"
   },
   {
    "duration": 842,
    "start_time": "2021-12-10T17:33:24.576Z"
   },
   {
    "duration": 42,
    "start_time": "2021-12-10T17:33:25.421Z"
   },
   {
    "duration": 17,
    "start_time": "2021-12-10T17:33:25.465Z"
   },
   {
    "duration": 109,
    "start_time": "2021-12-10T17:33:25.485Z"
   },
   {
    "duration": 4534,
    "start_time": "2021-12-10T17:33:25.597Z"
   },
   {
    "duration": 131,
    "start_time": "2021-12-10T17:33:30.134Z"
   },
   {
    "duration": 165,
    "start_time": "2021-12-10T17:33:30.103Z"
   },
   {
    "duration": 154,
    "start_time": "2021-12-10T17:33:30.115Z"
   },
   {
    "duration": 153,
    "start_time": "2021-12-10T17:33:30.118Z"
   },
   {
    "duration": 150,
    "start_time": "2021-12-10T17:33:30.122Z"
   },
   {
    "duration": 864,
    "start_time": "2021-12-10T17:35:12.410Z"
   },
   {
    "duration": 52,
    "start_time": "2021-12-10T17:35:13.277Z"
   },
   {
    "duration": 17,
    "start_time": "2021-12-10T17:35:13.332Z"
   },
   {
    "duration": 88,
    "start_time": "2021-12-10T17:35:13.352Z"
   },
   {
    "duration": 4528,
    "start_time": "2021-12-10T17:35:13.442Z"
   },
   {
    "duration": 81,
    "start_time": "2021-12-10T17:35:17.973Z"
   },
   {
    "duration": 70,
    "start_time": "2021-12-10T17:35:18.057Z"
   },
   {
    "duration": 39,
    "start_time": "2021-12-10T17:35:18.129Z"
   },
   {
    "duration": 47,
    "start_time": "2021-12-10T17:35:18.171Z"
   },
   {
    "duration": 32,
    "start_time": "2021-12-10T17:35:18.221Z"
   },
   {
    "duration": 831,
    "start_time": "2021-12-10T17:45:46.725Z"
   },
   {
    "duration": 41,
    "start_time": "2021-12-10T17:45:47.559Z"
   },
   {
    "duration": 28,
    "start_time": "2021-12-10T17:45:47.603Z"
   },
   {
    "duration": 62,
    "start_time": "2021-12-10T17:45:47.633Z"
   },
   {
    "duration": 4531,
    "start_time": "2021-12-10T17:45:47.718Z"
   },
   {
    "duration": 84,
    "start_time": "2021-12-10T17:45:52.251Z"
   },
   {
    "duration": 48,
    "start_time": "2021-12-10T17:45:52.337Z"
   },
   {
    "duration": 58,
    "start_time": "2021-12-10T17:45:52.388Z"
   },
   {
    "duration": 34,
    "start_time": "2021-12-10T17:45:52.448Z"
   },
   {
    "duration": 56,
    "start_time": "2021-12-10T17:45:52.485Z"
   },
   {
    "duration": 101,
    "start_time": "2021-12-10T17:48:26.491Z"
   },
   {
    "duration": 867,
    "start_time": "2021-12-10T17:49:06.324Z"
   },
   {
    "duration": 49,
    "start_time": "2021-12-10T17:49:07.193Z"
   },
   {
    "duration": 18,
    "start_time": "2021-12-10T17:49:07.245Z"
   },
   {
    "duration": 87,
    "start_time": "2021-12-10T17:49:07.265Z"
   },
   {
    "duration": 4505,
    "start_time": "2021-12-10T17:49:07.354Z"
   },
   {
    "duration": 109,
    "start_time": "2021-12-10T17:49:11.862Z"
   },
   {
    "duration": 187,
    "start_time": "2021-12-10T17:49:11.787Z"
   },
   {
    "duration": 180,
    "start_time": "2021-12-10T17:49:11.796Z"
   },
   {
    "duration": 174,
    "start_time": "2021-12-10T17:49:11.803Z"
   },
   {
    "duration": 168,
    "start_time": "2021-12-10T17:49:11.811Z"
   },
   {
    "duration": 843,
    "start_time": "2021-12-10T17:49:40.667Z"
   },
   {
    "duration": 41,
    "start_time": "2021-12-10T17:49:41.512Z"
   },
   {
    "duration": 17,
    "start_time": "2021-12-10T17:49:41.556Z"
   },
   {
    "duration": 90,
    "start_time": "2021-12-10T17:49:41.576Z"
   },
   {
    "duration": 4654,
    "start_time": "2021-12-10T17:49:41.668Z"
   },
   {
    "duration": 364,
    "start_time": "2021-12-10T17:49:46.324Z"
   },
   {
    "duration": 121,
    "start_time": "2021-12-10T17:49:46.570Z"
   },
   {
    "duration": 116,
    "start_time": "2021-12-10T17:49:46.576Z"
   },
   {
    "duration": 114,
    "start_time": "2021-12-10T17:49:46.580Z"
   },
   {
    "duration": 112,
    "start_time": "2021-12-10T17:49:46.583Z"
   },
   {
    "duration": 818,
    "start_time": "2021-12-10T17:50:35.948Z"
   },
   {
    "duration": 53,
    "start_time": "2021-12-10T17:50:36.768Z"
   },
   {
    "duration": 16,
    "start_time": "2021-12-10T17:50:36.824Z"
   },
   {
    "duration": 84,
    "start_time": "2021-12-10T17:50:36.843Z"
   },
   {
    "duration": 4614,
    "start_time": "2021-12-10T17:50:36.929Z"
   },
   {
    "duration": 87,
    "start_time": "2021-12-10T17:50:41.546Z"
   },
   {
    "duration": 50,
    "start_time": "2021-12-10T17:50:41.635Z"
   },
   {
    "duration": 74,
    "start_time": "2021-12-10T17:50:41.688Z"
   },
   {
    "duration": 33,
    "start_time": "2021-12-10T17:50:41.765Z"
   },
   {
    "duration": 42,
    "start_time": "2021-12-10T17:50:41.800Z"
   },
   {
    "duration": 827,
    "start_time": "2021-12-10T17:55:10.244Z"
   },
   {
    "duration": 60,
    "start_time": "2021-12-10T17:55:11.074Z"
   },
   {
    "duration": 20,
    "start_time": "2021-12-10T17:55:11.137Z"
   },
   {
    "duration": 64,
    "start_time": "2021-12-10T17:55:12.252Z"
   },
   {
    "duration": 4515,
    "start_time": "2021-12-10T17:55:12.319Z"
   },
   {
    "duration": 85,
    "start_time": "2021-12-10T17:55:16.837Z"
   },
   {
    "duration": 48,
    "start_time": "2021-12-10T17:55:16.924Z"
   },
   {
    "duration": 63,
    "start_time": "2021-12-10T17:55:16.974Z"
   },
   {
    "duration": 32,
    "start_time": "2021-12-10T17:55:17.039Z"
   },
   {
    "duration": 52,
    "start_time": "2021-12-10T17:55:17.075Z"
   },
   {
    "duration": 853,
    "start_time": "2021-12-10T17:58:35.877Z"
   },
   {
    "duration": 42,
    "start_time": "2021-12-10T17:58:36.732Z"
   },
   {
    "duration": 40,
    "start_time": "2021-12-10T17:58:36.777Z"
   },
   {
    "duration": 97,
    "start_time": "2021-12-10T17:58:36.820Z"
   },
   {
    "duration": 4563,
    "start_time": "2021-12-10T17:58:36.919Z"
   },
   {
    "duration": 86,
    "start_time": "2021-12-10T17:58:41.485Z"
   },
   {
    "duration": 67,
    "start_time": "2021-12-10T17:58:41.574Z"
   },
   {
    "duration": 37,
    "start_time": "2021-12-10T17:58:41.644Z"
   },
   {
    "duration": 49,
    "start_time": "2021-12-10T17:58:41.683Z"
   },
   {
    "duration": 32,
    "start_time": "2021-12-10T17:58:41.734Z"
   },
   {
    "duration": 107,
    "start_time": "2021-12-10T18:00:02.666Z"
   },
   {
    "duration": 54,
    "start_time": "2021-12-10T18:00:02.775Z"
   },
   {
    "duration": 18,
    "start_time": "2021-12-10T18:00:02.831Z"
   },
   {
    "duration": 108,
    "start_time": "2021-12-10T18:00:02.851Z"
   },
   {
    "duration": 4764,
    "start_time": "2021-12-10T18:00:02.962Z"
   },
   {
    "duration": 70,
    "start_time": "2021-12-10T18:00:07.729Z"
   },
   {
    "duration": 46,
    "start_time": "2021-12-10T18:00:07.818Z"
   },
   {
    "duration": 57,
    "start_time": "2021-12-10T18:00:07.866Z"
   },
   {
    "duration": 33,
    "start_time": "2021-12-10T18:00:07.926Z"
   },
   {
    "duration": 56,
    "start_time": "2021-12-10T18:00:07.962Z"
   },
   {
    "duration": 2605,
    "start_time": "2021-12-10T18:05:21.998Z"
   },
   {
    "duration": 3389,
    "start_time": "2021-12-10T18:06:06.323Z"
   },
   {
    "duration": 2330,
    "start_time": "2021-12-10T18:06:34.825Z"
   },
   {
    "duration": 834,
    "start_time": "2021-12-10T18:06:52.556Z"
   },
   {
    "duration": 51,
    "start_time": "2021-12-10T18:06:53.393Z"
   },
   {
    "duration": 20,
    "start_time": "2021-12-10T18:06:53.448Z"
   },
   {
    "duration": 119,
    "start_time": "2021-12-10T18:06:53.471Z"
   },
   {
    "duration": 4704,
    "start_time": "2021-12-10T18:06:53.593Z"
   },
   {
    "duration": 82,
    "start_time": "2021-12-10T18:06:58.300Z"
   },
   {
    "duration": 66,
    "start_time": "2021-12-10T18:06:58.385Z"
   },
   {
    "duration": 38,
    "start_time": "2021-12-10T18:06:58.455Z"
   },
   {
    "duration": 49,
    "start_time": "2021-12-10T18:06:58.495Z"
   },
   {
    "duration": 32,
    "start_time": "2021-12-10T18:06:58.546Z"
   },
   {
    "duration": 2173,
    "start_time": "2021-12-10T18:07:14.688Z"
   },
   {
    "duration": 2123,
    "start_time": "2021-12-10T18:07:38.355Z"
   },
   {
    "duration": 832,
    "start_time": "2021-12-10T18:07:48.442Z"
   },
   {
    "duration": 56,
    "start_time": "2021-12-10T18:07:49.277Z"
   },
   {
    "duration": 18,
    "start_time": "2021-12-10T18:07:49.335Z"
   },
   {
    "duration": 104,
    "start_time": "2021-12-10T18:07:49.355Z"
   },
   {
    "duration": 4990,
    "start_time": "2021-12-10T18:07:49.461Z"
   },
   {
    "duration": 90,
    "start_time": "2021-12-10T18:07:54.453Z"
   },
   {
    "duration": 48,
    "start_time": "2021-12-10T18:07:54.546Z"
   },
   {
    "duration": 56,
    "start_time": "2021-12-10T18:07:54.597Z"
   },
   {
    "duration": 35,
    "start_time": "2021-12-10T18:07:54.656Z"
   },
   {
    "duration": 34,
    "start_time": "2021-12-10T18:07:54.718Z"
   },
   {
    "duration": 891,
    "start_time": "2021-12-10T18:13:05.517Z"
   },
   {
    "duration": 46,
    "start_time": "2021-12-10T18:13:06.411Z"
   },
   {
    "duration": 18,
    "start_time": "2021-12-10T18:13:06.460Z"
   },
   {
    "duration": 113,
    "start_time": "2021-12-10T18:13:06.481Z"
   },
   {
    "duration": 4813,
    "start_time": "2021-12-10T18:13:06.596Z"
   },
   {
    "duration": 70,
    "start_time": "2021-12-10T18:13:11.417Z"
   },
   {
    "duration": 67,
    "start_time": "2021-12-10T18:13:11.490Z"
   },
   {
    "duration": 62,
    "start_time": "2021-12-10T18:13:11.561Z"
   },
   {
    "duration": 32,
    "start_time": "2021-12-10T18:13:11.625Z"
   },
   {
    "duration": 59,
    "start_time": "2021-12-10T18:13:11.659Z"
   },
   {
    "duration": 863,
    "start_time": "2021-12-10T18:18:50.307Z"
   },
   {
    "duration": 56,
    "start_time": "2021-12-10T18:18:51.172Z"
   },
   {
    "duration": 17,
    "start_time": "2021-12-10T18:18:51.231Z"
   },
   {
    "duration": 105,
    "start_time": "2021-12-10T18:18:51.251Z"
   },
   {
    "duration": 4859,
    "start_time": "2021-12-10T18:18:51.358Z"
   },
   {
    "duration": 129,
    "start_time": "2021-12-10T18:18:56.221Z"
   },
   {
    "duration": 83,
    "start_time": "2021-12-10T18:18:56.353Z"
   },
   {
    "duration": 54,
    "start_time": "2021-12-10T18:18:56.441Z"
   },
   {
    "duration": 61,
    "start_time": "2021-12-10T18:18:56.499Z"
   },
   {
    "duration": 68,
    "start_time": "2021-12-10T18:18:56.563Z"
   },
   {
    "duration": 10638,
    "start_time": "2021-12-10T18:34:47.870Z"
   },
   {
    "duration": 913,
    "start_time": "2021-12-10T18:35:01.167Z"
   },
   {
    "duration": 46,
    "start_time": "2021-12-10T18:35:02.083Z"
   },
   {
    "duration": 18,
    "start_time": "2021-12-10T18:35:02.132Z"
   },
   {
    "duration": 91,
    "start_time": "2021-12-10T18:35:02.152Z"
   },
   {
    "duration": 5204,
    "start_time": "2021-12-10T18:35:02.245Z"
   },
   {
    "duration": 106,
    "start_time": "2021-12-10T18:35:07.452Z"
   },
   {
    "duration": 64,
    "start_time": "2021-12-10T18:35:07.561Z"
   },
   {
    "duration": 8810,
    "start_time": "2021-12-10T18:35:07.629Z"
   },
   {
    "duration": -220,
    "start_time": "2021-12-10T18:35:16.662Z"
   },
   {
    "duration": -232,
    "start_time": "2021-12-10T18:35:16.676Z"
   },
   {
    "duration": 103,
    "start_time": "2021-12-10T18:36:09.629Z"
   },
   {
    "duration": 46,
    "start_time": "2021-12-10T18:36:09.735Z"
   },
   {
    "duration": 50,
    "start_time": "2021-12-10T18:36:09.784Z"
   },
   {
    "duration": 204,
    "start_time": "2021-12-10T18:36:09.837Z"
   },
   {
    "duration": 4500,
    "start_time": "2021-12-10T18:36:10.044Z"
   },
   {
    "duration": 84,
    "start_time": "2021-12-10T18:36:14.546Z"
   },
   {
    "duration": 47,
    "start_time": "2021-12-10T18:36:14.632Z"
   },
   {
    "duration": 58,
    "start_time": "2021-12-10T18:36:14.681Z"
   },
   {
    "duration": 33,
    "start_time": "2021-12-10T18:36:14.741Z"
   },
   {
    "duration": 56,
    "start_time": "2021-12-10T18:36:14.776Z"
   },
   {
    "duration": 994,
    "start_time": "2021-12-10T18:46:32.705Z"
   },
   {
    "duration": 50,
    "start_time": "2021-12-10T18:46:33.702Z"
   },
   {
    "duration": 20,
    "start_time": "2021-12-10T18:46:33.755Z"
   },
   {
    "duration": 104,
    "start_time": "2021-12-10T18:46:33.778Z"
   },
   {
    "duration": 4523,
    "start_time": "2021-12-10T18:46:33.884Z"
   },
   {
    "duration": 85,
    "start_time": "2021-12-10T18:46:38.418Z"
   },
   {
    "duration": 47,
    "start_time": "2021-12-10T18:46:38.517Z"
   },
   {
    "duration": 64,
    "start_time": "2021-12-10T18:46:38.568Z"
   },
   {
    "duration": 33,
    "start_time": "2021-12-10T18:46:38.635Z"
   },
   {
    "duration": 50,
    "start_time": "2021-12-10T18:46:38.671Z"
   },
   {
    "duration": 884,
    "start_time": "2021-12-10T18:56:15.642Z"
   },
   {
    "duration": 42,
    "start_time": "2021-12-10T18:56:16.533Z"
   },
   {
    "duration": 47,
    "start_time": "2021-12-10T18:56:16.578Z"
   },
   {
    "duration": 104,
    "start_time": "2021-12-10T18:56:16.627Z"
   },
   {
    "duration": 4506,
    "start_time": "2021-12-10T18:56:16.734Z"
   },
   {
    "duration": 90,
    "start_time": "2021-12-10T18:56:21.242Z"
   },
   {
    "duration": 46,
    "start_time": "2021-12-10T18:56:21.335Z"
   },
   {
    "duration": 59,
    "start_time": "2021-12-10T18:56:21.383Z"
   },
   {
    "duration": 33,
    "start_time": "2021-12-10T18:56:21.445Z"
   },
   {
    "duration": 50,
    "start_time": "2021-12-10T18:56:21.480Z"
   },
   {
    "duration": 897,
    "start_time": "2021-12-10T18:58:19.797Z"
   },
   {
    "duration": 55,
    "start_time": "2021-12-10T18:58:20.697Z"
   },
   {
    "duration": 17,
    "start_time": "2021-12-10T18:58:20.756Z"
   },
   {
    "duration": 110,
    "start_time": "2021-12-10T18:58:20.775Z"
   },
   {
    "duration": 4649,
    "start_time": "2021-12-10T18:58:20.887Z"
   },
   {
    "duration": 87,
    "start_time": "2021-12-10T18:58:25.538Z"
   },
   {
    "duration": 48,
    "start_time": "2021-12-10T18:58:25.628Z"
   },
   {
    "duration": 65,
    "start_time": "2021-12-10T18:58:25.679Z"
   },
   {
    "duration": 32,
    "start_time": "2021-12-10T18:58:25.748Z"
   },
   {
    "duration": 49,
    "start_time": "2021-12-10T18:58:25.782Z"
   },
   {
    "duration": 846,
    "start_time": "2021-12-10T19:33:33.959Z"
   },
   {
    "duration": 47,
    "start_time": "2021-12-10T19:33:34.808Z"
   },
   {
    "duration": 17,
    "start_time": "2021-12-10T19:33:34.858Z"
   },
   {
    "duration": 166,
    "start_time": "2021-12-10T19:33:34.879Z"
   },
   {
    "duration": 4748,
    "start_time": "2021-12-10T19:33:35.048Z"
   },
   {
    "duration": 78,
    "start_time": "2021-12-10T19:33:39.798Z"
   },
   {
    "duration": 65,
    "start_time": "2021-12-10T19:33:39.878Z"
   },
   {
    "duration": 409,
    "start_time": "2021-12-10T19:33:39.946Z"
   },
   {
    "duration": 185,
    "start_time": "2021-12-10T19:33:40.173Z"
   },
   {
    "duration": 178,
    "start_time": "2021-12-10T19:33:40.181Z"
   },
   {
    "duration": 40,
    "start_time": "2021-12-10T19:34:08.575Z"
   },
   {
    "duration": 328,
    "start_time": "2021-12-10T19:43:56.901Z"
   },
   {
    "duration": 237,
    "start_time": "2021-12-10T19:44:29.445Z"
   },
   {
    "duration": 108,
    "start_time": "2021-12-10T19:44:37.717Z"
   },
   {
    "duration": 297,
    "start_time": "2021-12-10T19:46:29.940Z"
   },
   {
    "duration": 16,
    "start_time": "2021-12-10T19:46:48.182Z"
   },
   {
    "duration": 14,
    "start_time": "2021-12-10T19:46:57.040Z"
   },
   {
    "duration": 14,
    "start_time": "2021-12-10T19:46:58.475Z"
   },
   {
    "duration": 865,
    "start_time": "2021-12-10T19:47:06.520Z"
   },
   {
    "duration": 52,
    "start_time": "2021-12-10T19:47:07.387Z"
   },
   {
    "duration": 19,
    "start_time": "2021-12-10T19:47:07.442Z"
   },
   {
    "duration": 109,
    "start_time": "2021-12-10T19:47:07.463Z"
   },
   {
    "duration": 4622,
    "start_time": "2021-12-10T19:47:07.575Z"
   },
   {
    "duration": 82,
    "start_time": "2021-12-10T19:47:12.200Z"
   },
   {
    "duration": 74,
    "start_time": "2021-12-10T19:47:12.285Z"
   },
   {
    "duration": 15,
    "start_time": "2021-12-10T19:47:12.362Z"
   },
   {
    "duration": 433,
    "start_time": "2021-12-10T19:47:12.380Z"
   },
   {
    "duration": 188,
    "start_time": "2021-12-10T19:47:12.627Z"
   },
   {
    "duration": 19,
    "start_time": "2021-12-10T19:47:32.486Z"
   },
   {
    "duration": 764,
    "start_time": "2021-12-10T20:04:46.841Z"
   },
   {
    "duration": 804,
    "start_time": "2021-12-10T20:05:36.333Z"
   },
   {
    "duration": 755,
    "start_time": "2021-12-10T20:08:11.629Z"
   },
   {
    "duration": 742,
    "start_time": "2021-12-10T20:10:36.412Z"
   },
   {
    "duration": 759,
    "start_time": "2021-12-10T20:11:03.009Z"
   },
   {
    "duration": 746,
    "start_time": "2021-12-10T20:11:07.153Z"
   },
   {
    "duration": 309,
    "start_time": "2021-12-10T20:11:39.991Z"
   },
   {
    "duration": 20,
    "start_time": "2021-12-10T20:12:17.698Z"
   },
   {
    "duration": 19,
    "start_time": "2021-12-10T20:17:21.150Z"
   },
   {
    "duration": 279,
    "start_time": "2021-12-10T20:18:44.210Z"
   },
   {
    "duration": 20,
    "start_time": "2021-12-10T20:19:29.113Z"
   },
   {
    "duration": 20,
    "start_time": "2021-12-10T20:21:23.598Z"
   },
   {
    "duration": 20,
    "start_time": "2021-12-10T20:22:12.387Z"
   },
   {
    "duration": 35,
    "start_time": "2021-12-10T20:23:07.827Z"
   },
   {
    "duration": 20,
    "start_time": "2021-12-10T20:23:57.852Z"
   },
   {
    "duration": 114,
    "start_time": "2021-12-10T20:35:03.356Z"
   },
   {
    "duration": 93,
    "start_time": "2021-12-10T20:35:31.416Z"
   },
   {
    "duration": 403,
    "start_time": "2021-12-10T20:36:31.612Z"
   },
   {
    "duration": 29,
    "start_time": "2021-12-10T20:36:43.256Z"
   },
   {
    "duration": 310,
    "start_time": "2021-12-10T20:37:50.129Z"
   },
   {
    "duration": 1143,
    "start_time": "2021-12-10T20:38:13.657Z"
   },
   {
    "duration": 386,
    "start_time": "2021-12-10T20:38:20.120Z"
   },
   {
    "duration": 20,
    "start_time": "2021-12-10T20:38:26.779Z"
   },
   {
    "duration": 328,
    "start_time": "2021-12-10T20:44:59.281Z"
   },
   {
    "duration": 22,
    "start_time": "2021-12-10T20:45:19.900Z"
   },
   {
    "duration": 294,
    "start_time": "2021-12-10T21:06:12.500Z"
   },
   {
    "duration": 626,
    "start_time": "2021-12-10T21:06:21.205Z"
   },
   {
    "duration": 18,
    "start_time": "2021-12-10T21:06:32.316Z"
   },
   {
    "duration": 17,
    "start_time": "2021-12-10T21:08:07.671Z"
   },
   {
    "duration": 17,
    "start_time": "2021-12-10T21:08:08.451Z"
   },
   {
    "duration": 813,
    "start_time": "2021-12-10T21:27:45.756Z"
   },
   {
    "duration": 54,
    "start_time": "2021-12-10T21:27:46.572Z"
   },
   {
    "duration": 18,
    "start_time": "2021-12-10T21:27:46.629Z"
   },
   {
    "duration": 108,
    "start_time": "2021-12-10T21:27:46.650Z"
   },
   {
    "duration": 4502,
    "start_time": "2021-12-10T21:27:46.761Z"
   },
   {
    "duration": 78,
    "start_time": "2021-12-10T21:27:51.265Z"
   },
   {
    "duration": 45,
    "start_time": "2021-12-10T21:27:51.346Z"
   },
   {
    "duration": 41,
    "start_time": "2021-12-10T21:27:51.394Z"
   },
   {
    "duration": 18,
    "start_time": "2021-12-10T21:27:51.438Z"
   },
   {
    "duration": 22,
    "start_time": "2021-12-10T21:27:51.458Z"
   },
   {
    "duration": 669,
    "start_time": "2021-12-11T20:32:39.723Z"
   },
   {
    "duration": 29,
    "start_time": "2021-12-11T20:32:40.394Z"
   },
   {
    "duration": 25,
    "start_time": "2021-12-11T20:32:40.425Z"
   },
   {
    "duration": 55,
    "start_time": "2021-12-11T20:32:40.451Z"
   },
   {
    "duration": 3485,
    "start_time": "2021-12-11T20:32:40.508Z"
   },
   {
    "duration": 55,
    "start_time": "2021-12-11T20:32:43.995Z"
   },
   {
    "duration": 30,
    "start_time": "2021-12-11T20:32:44.052Z"
   },
   {
    "duration": 13,
    "start_time": "2021-12-11T20:32:44.084Z"
   },
   {
    "duration": 12,
    "start_time": "2021-12-11T20:32:44.099Z"
   },
   {
    "duration": 45,
    "start_time": "2021-12-11T20:32:44.113Z"
   },
   {
    "duration": 5,
    "start_time": "2021-12-11T20:52:32.254Z"
   },
   {
    "duration": 5,
    "start_time": "2021-12-11T20:53:23.318Z"
   },
   {
    "duration": 8,
    "start_time": "2021-12-11T20:54:06.040Z"
   },
   {
    "duration": 781,
    "start_time": "2021-12-12T10:23:19.522Z"
   },
   {
    "duration": 32,
    "start_time": "2021-12-12T10:23:20.305Z"
   },
   {
    "duration": 10963,
    "start_time": "2021-12-12T10:23:20.339Z"
   },
   {
    "duration": 376,
    "start_time": "2021-12-12T10:23:30.928Z"
   },
   {
    "duration": 374,
    "start_time": "2021-12-12T10:23:30.931Z"
   },
   {
    "duration": 370,
    "start_time": "2021-12-12T10:23:30.936Z"
   },
   {
    "duration": 368,
    "start_time": "2021-12-12T10:23:30.939Z"
   },
   {
    "duration": 366,
    "start_time": "2021-12-12T10:23:30.942Z"
   },
   {
    "duration": 364,
    "start_time": "2021-12-12T10:23:30.945Z"
   },
   {
    "duration": 359,
    "start_time": "2021-12-12T10:23:30.950Z"
   },
   {
    "duration": 16,
    "start_time": "2021-12-12T10:24:03.126Z"
   },
   {
    "duration": 14,
    "start_time": "2021-12-12T10:51:30.447Z"
   },
   {
    "duration": 15,
    "start_time": "2021-12-12T11:05:49.221Z"
   },
   {
    "duration": 18,
    "start_time": "2021-12-12T11:06:01.847Z"
   },
   {
    "duration": 15,
    "start_time": "2021-12-12T11:06:02.849Z"
   },
   {
    "duration": 14,
    "start_time": "2021-12-12T11:06:03.649Z"
   },
   {
    "duration": 426,
    "start_time": "2021-12-13T12:54:17.775Z"
   },
   {
    "duration": 351,
    "start_time": "2021-12-13T12:54:21.975Z"
   },
   {
    "duration": 660,
    "start_time": "2021-12-13T12:54:36.156Z"
   },
   {
    "duration": 28,
    "start_time": "2021-12-13T12:54:36.818Z"
   },
   {
    "duration": 13,
    "start_time": "2021-12-13T12:54:36.849Z"
   },
   {
    "duration": 72,
    "start_time": "2021-12-13T12:54:36.863Z"
   },
   {
    "duration": 3519,
    "start_time": "2021-12-13T12:54:36.936Z"
   },
   {
    "duration": 59,
    "start_time": "2021-12-13T12:54:40.456Z"
   },
   {
    "duration": 30,
    "start_time": "2021-12-13T12:54:40.516Z"
   },
   {
    "duration": 12,
    "start_time": "2021-12-13T12:54:40.548Z"
   },
   {
    "duration": 12,
    "start_time": "2021-12-13T12:54:40.561Z"
   },
   {
    "duration": 44,
    "start_time": "2021-12-13T12:54:40.574Z"
   },
   {
    "duration": 648,
    "start_time": "2021-12-13T13:25:21.954Z"
   },
   {
    "duration": 30,
    "start_time": "2021-12-13T13:25:22.604Z"
   },
   {
    "duration": 13,
    "start_time": "2021-12-13T13:25:22.639Z"
   },
   {
    "duration": 80,
    "start_time": "2021-12-13T13:25:22.654Z"
   },
   {
    "duration": 3704,
    "start_time": "2021-12-13T13:25:22.736Z"
   },
   {
    "duration": 54,
    "start_time": "2021-12-13T13:25:26.442Z"
   },
   {
    "duration": 38,
    "start_time": "2021-12-13T13:25:26.498Z"
   },
   {
    "duration": 14,
    "start_time": "2021-12-13T13:25:26.538Z"
   },
   {
    "duration": 12,
    "start_time": "2021-12-13T13:25:26.554Z"
   },
   {
    "duration": 45,
    "start_time": "2021-12-13T13:25:26.568Z"
   },
   {
    "duration": 88,
    "start_time": "2021-12-13T13:26:21.954Z"
   },
   {
    "duration": 30,
    "start_time": "2021-12-13T13:26:22.044Z"
   },
   {
    "duration": 31,
    "start_time": "2021-12-13T13:26:22.076Z"
   },
   {
    "duration": 57,
    "start_time": "2021-12-13T13:26:22.109Z"
   },
   {
    "duration": 3792,
    "start_time": "2021-12-13T13:26:22.168Z"
   },
   {
    "duration": 47,
    "start_time": "2021-12-13T13:26:25.962Z"
   },
   {
    "duration": 41,
    "start_time": "2021-12-13T13:26:26.011Z"
   },
   {
    "duration": 19,
    "start_time": "2021-12-13T13:26:26.054Z"
   },
   {
    "duration": 41,
    "start_time": "2021-12-13T13:26:26.075Z"
   },
   {
    "duration": 16,
    "start_time": "2021-12-13T13:26:26.124Z"
   },
   {
    "duration": 679,
    "start_time": "2021-12-13T13:32:11.738Z"
   },
   {
    "duration": 31,
    "start_time": "2021-12-13T13:32:12.419Z"
   },
   {
    "duration": 15,
    "start_time": "2021-12-13T13:32:12.452Z"
   },
   {
    "duration": 85,
    "start_time": "2021-12-13T13:32:12.469Z"
   },
   {
    "duration": 3832,
    "start_time": "2021-12-13T13:32:12.556Z"
   },
   {
    "duration": 57,
    "start_time": "2021-12-13T13:32:16.390Z"
   },
   {
    "duration": 35,
    "start_time": "2021-12-13T13:32:16.450Z"
   },
   {
    "duration": 32,
    "start_time": "2021-12-13T13:32:16.487Z"
   },
   {
    "duration": 13,
    "start_time": "2021-12-13T13:32:16.521Z"
   },
   {
    "duration": 25,
    "start_time": "2021-12-13T13:32:16.536Z"
   },
   {
    "duration": 679,
    "start_time": "2021-12-13T13:32:58.840Z"
   },
   {
    "duration": 32,
    "start_time": "2021-12-13T13:32:59.521Z"
   },
   {
    "duration": 15,
    "start_time": "2021-12-13T13:32:59.555Z"
   },
   {
    "duration": 84,
    "start_time": "2021-12-13T13:32:59.573Z"
   },
   {
    "duration": 3858,
    "start_time": "2021-12-13T13:32:59.659Z"
   },
   {
    "duration": 39,
    "start_time": "2021-12-13T13:33:03.520Z"
   },
   {
    "duration": 61,
    "start_time": "2021-12-13T13:33:03.561Z"
   },
   {
    "duration": 14,
    "start_time": "2021-12-13T13:33:03.624Z"
   },
   {
    "duration": 14,
    "start_time": "2021-12-13T13:33:03.640Z"
   },
   {
    "duration": 30,
    "start_time": "2021-12-13T13:33:03.655Z"
   },
   {
    "duration": 16,
    "start_time": "2021-12-13T13:36:41.872Z"
   },
   {
    "duration": 711,
    "start_time": "2021-12-13T13:39:05.000Z"
   },
   {
    "duration": 33,
    "start_time": "2021-12-13T13:39:05.713Z"
   },
   {
    "duration": 14,
    "start_time": "2021-12-13T13:39:05.748Z"
   },
   {
    "duration": 80,
    "start_time": "2021-12-13T13:39:05.764Z"
   },
   {
    "duration": 3632,
    "start_time": "2021-12-13T13:39:05.845Z"
   },
   {
    "duration": 51,
    "start_time": "2021-12-13T13:39:09.479Z"
   },
   {
    "duration": 34,
    "start_time": "2021-12-13T13:39:09.531Z"
   },
   {
    "duration": 14,
    "start_time": "2021-12-13T13:39:09.567Z"
   },
   {
    "duration": 34,
    "start_time": "2021-12-13T13:39:09.582Z"
   },
   {
    "duration": 16,
    "start_time": "2021-12-13T13:39:09.618Z"
   },
   {
    "duration": 717,
    "start_time": "2021-12-13T13:41:59.998Z"
   },
   {
    "duration": 32,
    "start_time": "2021-12-13T13:42:00.717Z"
   },
   {
    "duration": 14,
    "start_time": "2021-12-13T13:42:00.751Z"
   },
   {
    "duration": 83,
    "start_time": "2021-12-13T13:42:00.767Z"
   },
   {
    "duration": 3897,
    "start_time": "2021-12-13T13:42:00.852Z"
   },
   {
    "duration": 64,
    "start_time": "2021-12-13T13:42:04.751Z"
   },
   {
    "duration": 31,
    "start_time": "2021-12-13T13:42:04.817Z"
   },
   {
    "duration": 13,
    "start_time": "2021-12-13T13:42:04.850Z"
   },
   {
    "duration": 12,
    "start_time": "2021-12-13T13:42:04.864Z"
   },
   {
    "duration": 16,
    "start_time": "2021-12-13T13:42:04.907Z"
   },
   {
    "duration": 26,
    "start_time": "2021-12-13T14:10:21.509Z"
   },
   {
    "duration": 20,
    "start_time": "2021-12-13T14:18:39.018Z"
   },
   {
    "duration": 20,
    "start_time": "2021-12-13T14:18:41.835Z"
   },
   {
    "duration": 714,
    "start_time": "2021-12-13T14:18:48.490Z"
   },
   {
    "duration": 31,
    "start_time": "2021-12-13T14:18:49.206Z"
   },
   {
    "duration": 14,
    "start_time": "2021-12-13T14:18:49.239Z"
   },
   {
    "duration": 76,
    "start_time": "2021-12-13T14:18:49.254Z"
   },
   {
    "duration": 3793,
    "start_time": "2021-12-13T14:18:49.332Z"
   },
   {
    "duration": 54,
    "start_time": "2021-12-13T14:18:53.127Z"
   },
   {
    "duration": 49,
    "start_time": "2021-12-13T14:18:53.183Z"
   },
   {
    "duration": 26,
    "start_time": "2021-12-13T14:18:53.234Z"
   },
   {
    "duration": 18,
    "start_time": "2021-12-13T14:18:53.262Z"
   },
   {
    "duration": 28,
    "start_time": "2021-12-13T14:18:53.282Z"
   },
   {
    "duration": 23,
    "start_time": "2021-12-13T14:19:16.197Z"
   },
   {
    "duration": 714,
    "start_time": "2021-12-13T14:35:35.618Z"
   },
   {
    "duration": 32,
    "start_time": "2021-12-13T14:35:36.334Z"
   },
   {
    "duration": 14,
    "start_time": "2021-12-13T14:35:36.368Z"
   },
   {
    "duration": 73,
    "start_time": "2021-12-13T14:35:36.384Z"
   },
   {
    "duration": 3736,
    "start_time": "2021-12-13T14:35:36.459Z"
   },
   {
    "duration": 57,
    "start_time": "2021-12-13T14:35:40.206Z"
   },
   {
    "duration": 52,
    "start_time": "2021-12-13T14:35:40.265Z"
   },
   {
    "duration": 26,
    "start_time": "2021-12-13T14:35:40.319Z"
   },
   {
    "duration": 21,
    "start_time": "2021-12-13T14:35:40.347Z"
   },
   {
    "duration": 12,
    "start_time": "2021-12-13T14:35:40.369Z"
   },
   {
    "duration": 695,
    "start_time": "2021-12-13T14:38:03.318Z"
   },
   {
    "duration": 32,
    "start_time": "2021-12-13T14:38:04.015Z"
   },
   {
    "duration": 14,
    "start_time": "2021-12-13T14:38:04.051Z"
   },
   {
    "duration": 75,
    "start_time": "2021-12-13T14:38:04.066Z"
   },
   {
    "duration": 3801,
    "start_time": "2021-12-13T14:38:04.143Z"
   },
   {
    "duration": 73,
    "start_time": "2021-12-13T14:38:07.946Z"
   },
   {
    "duration": 34,
    "start_time": "2021-12-13T14:38:08.022Z"
   },
   {
    "duration": 27,
    "start_time": "2021-12-13T14:38:08.057Z"
   },
   {
    "duration": 41,
    "start_time": "2021-12-13T14:38:08.086Z"
   },
   {
    "duration": 12,
    "start_time": "2021-12-13T14:38:08.129Z"
   },
   {
    "duration": 761,
    "start_time": "2021-12-13T14:39:22.194Z"
   },
   {
    "duration": 33,
    "start_time": "2021-12-13T14:39:22.957Z"
   },
   {
    "duration": 19,
    "start_time": "2021-12-13T14:39:22.993Z"
   },
   {
    "duration": 61,
    "start_time": "2021-12-13T14:39:23.015Z"
   },
   {
    "duration": 3864,
    "start_time": "2021-12-13T14:39:23.078Z"
   },
   {
    "duration": 72,
    "start_time": "2021-12-13T14:39:26.944Z"
   },
   {
    "duration": 36,
    "start_time": "2021-12-13T14:39:27.018Z"
   },
   {
    "duration": 29,
    "start_time": "2021-12-13T14:39:27.057Z"
   },
   {
    "duration": 39,
    "start_time": "2021-12-13T14:39:27.088Z"
   },
   {
    "duration": 12,
    "start_time": "2021-12-13T14:39:27.129Z"
   },
   {
    "duration": 812,
    "start_time": "2021-12-13T20:00:52.373Z"
   },
   {
    "duration": 54,
    "start_time": "2021-12-13T20:00:53.188Z"
   },
   {
    "duration": 367,
    "start_time": "2021-12-13T20:00:53.245Z"
   },
   {
    "duration": 332,
    "start_time": "2021-12-13T20:00:53.615Z"
   },
   {
    "duration": 5120,
    "start_time": "2021-12-13T20:00:53.950Z"
   },
   {
    "duration": 96,
    "start_time": "2021-12-13T20:00:59.073Z"
   },
   {
    "duration": 300,
    "start_time": "2021-12-13T20:00:59.172Z"
   },
   {
    "duration": 1276,
    "start_time": "2021-12-13T20:00:59.476Z"
   },
   {
    "duration": 789,
    "start_time": "2021-12-13T20:01:00.755Z"
   },
   {
    "duration": 551,
    "start_time": "2021-12-13T20:01:01.547Z"
   },
   {
    "duration": 9571,
    "start_time": "2021-12-13T20:02:25.902Z"
   },
   {
    "duration": 18,
    "start_time": "2021-12-13T20:02:36.894Z"
   },
   {
    "duration": 13,
    "start_time": "2021-12-13T20:02:47.353Z"
   },
   {
    "duration": 140,
    "start_time": "2021-12-13T20:02:55.687Z"
   },
   {
    "duration": 91,
    "start_time": "2021-12-13T20:04:34.457Z"
   },
   {
    "duration": 592,
    "start_time": "2022-04-13T08:28:21.881Z"
   },
   {
    "duration": 39,
    "start_time": "2022-04-13T08:28:22.475Z"
   },
   {
    "duration": 57,
    "start_time": "2022-04-13T08:28:22.515Z"
   },
   {
    "duration": 107,
    "start_time": "2022-04-13T08:28:22.575Z"
   },
   {
    "duration": 5616,
    "start_time": "2022-04-13T08:28:22.684Z"
   },
   {
    "duration": 76,
    "start_time": "2022-04-13T08:28:28.302Z"
   },
   {
    "duration": 37,
    "start_time": "2022-04-13T08:28:28.380Z"
   },
   {
    "duration": 47,
    "start_time": "2022-04-13T08:28:28.419Z"
   },
   {
    "duration": 23,
    "start_time": "2022-04-13T08:28:28.467Z"
   },
   {
    "duration": 13,
    "start_time": "2022-04-13T08:28:28.493Z"
   },
   {
    "duration": 484,
    "start_time": "2022-04-13T08:49:46.192Z"
   },
   {
    "duration": 71,
    "start_time": "2022-04-13T08:49:46.678Z"
   },
   {
    "duration": 40,
    "start_time": "2022-04-13T08:49:46.751Z"
   },
   {
    "duration": 60,
    "start_time": "2022-04-13T08:49:46.793Z"
   },
   {
    "duration": 21,
    "start_time": "2022-04-13T08:49:46.855Z"
   },
   {
    "duration": 121,
    "start_time": "2022-04-13T08:49:46.878Z"
   },
   {
    "duration": 5642,
    "start_time": "2022-04-13T08:49:47.002Z"
   },
   {
    "duration": 61,
    "start_time": "2022-04-13T08:49:52.647Z"
   },
   {
    "duration": 57,
    "start_time": "2022-04-13T08:49:52.711Z"
   },
   {
    "duration": 27,
    "start_time": "2022-04-13T08:49:52.771Z"
   },
   {
    "duration": 54,
    "start_time": "2022-04-13T08:49:52.800Z"
   },
   {
    "duration": 15,
    "start_time": "2022-04-13T08:49:52.857Z"
   },
   {
    "duration": 427,
    "start_time": "2022-04-13T08:50:44.083Z"
   },
   {
    "duration": 68,
    "start_time": "2022-04-13T08:50:44.512Z"
   },
   {
    "duration": 39,
    "start_time": "2022-04-13T08:50:44.582Z"
   },
   {
    "duration": 41,
    "start_time": "2022-04-13T08:50:44.635Z"
   },
   {
    "duration": 19,
    "start_time": "2022-04-13T08:50:44.678Z"
   },
   {
    "duration": 94,
    "start_time": "2022-04-13T08:50:44.699Z"
   },
   {
    "duration": 4966,
    "start_time": "2022-04-13T08:50:44.794Z"
   },
   {
    "duration": 61,
    "start_time": "2022-04-13T08:50:49.762Z"
   },
   {
    "duration": 37,
    "start_time": "2022-04-13T08:50:49.825Z"
   },
   {
    "duration": 27,
    "start_time": "2022-04-13T08:50:49.865Z"
   },
   {
    "duration": 56,
    "start_time": "2022-04-13T08:50:49.894Z"
   },
   {
    "duration": 14,
    "start_time": "2022-04-13T08:50:49.952Z"
   },
   {
    "duration": 404,
    "start_time": "2022-04-13T08:52:16.171Z"
   },
   {
    "duration": 70,
    "start_time": "2022-04-13T08:52:16.577Z"
   },
   {
    "duration": 38,
    "start_time": "2022-04-13T08:52:16.649Z"
   },
   {
    "duration": 57,
    "start_time": "2022-04-13T08:52:16.690Z"
   },
   {
    "duration": 21,
    "start_time": "2022-04-13T08:52:16.749Z"
   },
   {
    "duration": 94,
    "start_time": "2022-04-13T08:52:16.772Z"
   },
   {
    "duration": 4837,
    "start_time": "2022-04-13T08:52:16.869Z"
   },
   {
    "duration": 63,
    "start_time": "2022-04-13T08:52:21.708Z"
   },
   {
    "duration": 36,
    "start_time": "2022-04-13T08:52:21.773Z"
   },
   {
    "duration": 44,
    "start_time": "2022-04-13T08:52:21.812Z"
   },
   {
    "duration": 24,
    "start_time": "2022-04-13T08:52:21.857Z"
   },
   {
    "duration": 12,
    "start_time": "2022-04-13T08:52:21.883Z"
   },
   {
    "duration": 504,
    "start_time": "2022-04-13T08:56:08.840Z"
   },
   {
    "duration": 0,
    "start_time": "2022-04-13T08:56:09.346Z"
   },
   {
    "duration": 0,
    "start_time": "2022-04-13T08:56:09.348Z"
   },
   {
    "duration": 0,
    "start_time": "2022-04-13T08:56:09.350Z"
   },
   {
    "duration": 0,
    "start_time": "2022-04-13T08:56:09.351Z"
   },
   {
    "duration": 0,
    "start_time": "2022-04-13T08:56:09.353Z"
   },
   {
    "duration": 0,
    "start_time": "2022-04-13T08:56:09.354Z"
   },
   {
    "duration": 0,
    "start_time": "2022-04-13T08:56:09.356Z"
   },
   {
    "duration": 0,
    "start_time": "2022-04-13T08:56:09.357Z"
   },
   {
    "duration": 0,
    "start_time": "2022-04-13T08:56:09.358Z"
   },
   {
    "duration": 0,
    "start_time": "2022-04-13T08:56:09.359Z"
   },
   {
    "duration": 0,
    "start_time": "2022-04-13T08:56:09.360Z"
   },
   {
    "duration": 540,
    "start_time": "2022-04-13T08:56:42.988Z"
   },
   {
    "duration": 0,
    "start_time": "2022-04-13T08:56:43.534Z"
   },
   {
    "duration": 0,
    "start_time": "2022-04-13T08:56:43.537Z"
   },
   {
    "duration": 0,
    "start_time": "2022-04-13T08:56:43.538Z"
   },
   {
    "duration": 0,
    "start_time": "2022-04-13T08:56:43.540Z"
   },
   {
    "duration": 0,
    "start_time": "2022-04-13T08:56:43.542Z"
   },
   {
    "duration": 0,
    "start_time": "2022-04-13T08:56:43.544Z"
   },
   {
    "duration": 0,
    "start_time": "2022-04-13T08:56:43.545Z"
   },
   {
    "duration": 0,
    "start_time": "2022-04-13T08:56:43.547Z"
   },
   {
    "duration": 0,
    "start_time": "2022-04-13T08:56:43.549Z"
   },
   {
    "duration": 0,
    "start_time": "2022-04-13T08:56:43.550Z"
   },
   {
    "duration": 0,
    "start_time": "2022-04-13T08:56:43.552Z"
   },
   {
    "duration": 423,
    "start_time": "2022-04-13T08:57:02.260Z"
   },
   {
    "duration": 81,
    "start_time": "2022-04-13T08:57:02.686Z"
   },
   {
    "duration": 42,
    "start_time": "2022-04-13T08:57:02.769Z"
   },
   {
    "duration": 66,
    "start_time": "2022-04-13T08:57:02.813Z"
   },
   {
    "duration": 21,
    "start_time": "2022-04-13T08:57:02.883Z"
   },
   {
    "duration": 80,
    "start_time": "2022-04-13T08:57:02.933Z"
   },
   {
    "duration": 5665,
    "start_time": "2022-04-13T08:57:03.015Z"
   },
   {
    "duration": 62,
    "start_time": "2022-04-13T08:57:08.683Z"
   },
   {
    "duration": 52,
    "start_time": "2022-04-13T08:57:08.747Z"
   },
   {
    "duration": 47,
    "start_time": "2022-04-13T08:57:08.801Z"
   },
   {
    "duration": 24,
    "start_time": "2022-04-13T08:57:08.850Z"
   },
   {
    "duration": 13,
    "start_time": "2022-04-13T08:57:08.876Z"
   }
  ],
  "kernelspec": {
   "display_name": "Python 3 (ipykernel)",
   "language": "python",
   "name": "python3"
  },
  "language_info": {
   "codemirror_mode": {
    "name": "ipython",
    "version": 3
   },
   "file_extension": ".py",
   "mimetype": "text/x-python",
   "name": "python",
   "nbconvert_exporter": "python",
   "pygments_lexer": "ipython3",
   "version": "3.8.10"
  },
  "toc": {
   "base_numbering": 1,
   "nav_menu": {},
   "number_sections": true,
   "sideBar": true,
   "skip_h1_title": true,
   "title_cell": "Table of Contents",
   "title_sidebar": "Contents",
   "toc_cell": false,
   "toc_position": {},
   "toc_section_display": true,
   "toc_window_display": false
  }
 },
 "nbformat": 4,
 "nbformat_minor": 2
}
