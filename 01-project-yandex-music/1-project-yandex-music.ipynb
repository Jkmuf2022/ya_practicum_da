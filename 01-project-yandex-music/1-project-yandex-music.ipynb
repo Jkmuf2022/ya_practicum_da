{
 "cells": [
  {
   "cell_type": "markdown",
   "metadata": {
    "id": "E0vqbgi9ay0H"
   },
   "source": [
    "# Сравнение поведения пользователей Яндекс.Музыка"
   ]
  },
  {
   "cell_type": "markdown",
   "metadata": {
    "id": "VUC88oWjTJw2"
   },
   "source": [
    "Сравнение поведение пользователей Москвы и Петербурга в приложении Яндекс.Музыка\n",
    "\n",
    "**Цель исследования** — три гипотезы:\n",
    "1. Активность пользователей зависит от дня недели. Причём в Москве и Петербурге это проявляется по-разному.\n",
    "2. В понедельник утром в Москве преобладают одни жанры, а в Петербурге — другие. Так же и вечером пятницы преобладают разные жанры — в зависимости от города. \n",
    "3. Москва и Петербург предпочитают разные жанры музыки. В Москве чаще слушают поп-музыку, в Петербурге — русский рэп.\n",
    "\n",
    "**Ход исследования**\n",
    "\n",
    "Данные о поведении пользователей получены из файла `yandex_music_project.csv`. О качестве данных ничего не известно. Поэтому перед проверкой гипотез понадобится обзор данных. \n",
    "\n",
    "Проверим данные на ошибки и оценим их влияние на исследование. Затем, на этапе предобработки поищем возможность исправить самые критичные ошибки данных.\n",
    " \n",
    "Таким образом, исследование пройдёт в три этапа:\n",
    " 1. Обзор данных.\n",
    " 2. Предобработка данных.\n",
    " 3. Проверка гипотез."
   ]
  },
  {
   "cell_type": "markdown",
   "metadata": {
    "id": "Ml1hmfXC_Zcs"
   },
   "source": [
    "## Обзор данных"
   ]
  },
  {
   "cell_type": "code",
   "execution_count": 1,
   "metadata": {
    "id": "AXN7PHPN_Zcs"
   },
   "outputs": [],
   "source": [
    "import pandas as pd# импорт библиотеки pandas"
   ]
  },
  {
   "cell_type": "code",
   "execution_count": 2,
   "metadata": {
    "id": "fFVu7vqh_Zct"
   },
   "outputs": [],
   "source": [
    "df=pd.read_csv('/datasets/yandex_music_project.csv')# чтение файла с данными и сохранение в df"
   ]
  },
  {
   "cell_type": "code",
   "execution_count": 3,
   "metadata": {
    "id": "oWTVX3gW_Zct"
   },
   "outputs": [
    {
     "data": {
      "text/html": [
       "<div>\n",
       "<style scoped>\n",
       "    .dataframe tbody tr th:only-of-type {\n",
       "        vertical-align: middle;\n",
       "    }\n",
       "\n",
       "    .dataframe tbody tr th {\n",
       "        vertical-align: top;\n",
       "    }\n",
       "\n",
       "    .dataframe thead th {\n",
       "        text-align: right;\n",
       "    }\n",
       "</style>\n",
       "<table border=\"1\" class=\"dataframe\">\n",
       "  <thead>\n",
       "    <tr style=\"text-align: right;\">\n",
       "      <th></th>\n",
       "      <th>userID</th>\n",
       "      <th>Track</th>\n",
       "      <th>artist</th>\n",
       "      <th>genre</th>\n",
       "      <th>City</th>\n",
       "      <th>time</th>\n",
       "      <th>Day</th>\n",
       "    </tr>\n",
       "  </thead>\n",
       "  <tbody>\n",
       "    <tr>\n",
       "      <td>0</td>\n",
       "      <td>FFB692EC</td>\n",
       "      <td>Kamigata To Boots</td>\n",
       "      <td>The Mass Missile</td>\n",
       "      <td>rock</td>\n",
       "      <td>Saint-Petersburg</td>\n",
       "      <td>20:28:33</td>\n",
       "      <td>Wednesday</td>\n",
       "    </tr>\n",
       "    <tr>\n",
       "      <td>1</td>\n",
       "      <td>55204538</td>\n",
       "      <td>Delayed Because of Accident</td>\n",
       "      <td>Andreas Rönnberg</td>\n",
       "      <td>rock</td>\n",
       "      <td>Moscow</td>\n",
       "      <td>14:07:09</td>\n",
       "      <td>Friday</td>\n",
       "    </tr>\n",
       "    <tr>\n",
       "      <td>2</td>\n",
       "      <td>20EC38</td>\n",
       "      <td>Funiculì funiculà</td>\n",
       "      <td>Mario Lanza</td>\n",
       "      <td>pop</td>\n",
       "      <td>Saint-Petersburg</td>\n",
       "      <td>20:58:07</td>\n",
       "      <td>Wednesday</td>\n",
       "    </tr>\n",
       "    <tr>\n",
       "      <td>3</td>\n",
       "      <td>A3DD03C9</td>\n",
       "      <td>Dragons in the Sunset</td>\n",
       "      <td>Fire + Ice</td>\n",
       "      <td>folk</td>\n",
       "      <td>Saint-Petersburg</td>\n",
       "      <td>08:37:09</td>\n",
       "      <td>Monday</td>\n",
       "    </tr>\n",
       "    <tr>\n",
       "      <td>4</td>\n",
       "      <td>E2DC1FAE</td>\n",
       "      <td>Soul People</td>\n",
       "      <td>Space Echo</td>\n",
       "      <td>dance</td>\n",
       "      <td>Moscow</td>\n",
       "      <td>08:34:34</td>\n",
       "      <td>Monday</td>\n",
       "    </tr>\n",
       "    <tr>\n",
       "      <td>5</td>\n",
       "      <td>842029A1</td>\n",
       "      <td>Преданная</td>\n",
       "      <td>IMPERVTOR</td>\n",
       "      <td>rusrap</td>\n",
       "      <td>Saint-Petersburg</td>\n",
       "      <td>13:09:41</td>\n",
       "      <td>Friday</td>\n",
       "    </tr>\n",
       "    <tr>\n",
       "      <td>6</td>\n",
       "      <td>4CB90AA5</td>\n",
       "      <td>True</td>\n",
       "      <td>Roman Messer</td>\n",
       "      <td>dance</td>\n",
       "      <td>Moscow</td>\n",
       "      <td>13:00:07</td>\n",
       "      <td>Wednesday</td>\n",
       "    </tr>\n",
       "    <tr>\n",
       "      <td>7</td>\n",
       "      <td>F03E1C1F</td>\n",
       "      <td>Feeling This Way</td>\n",
       "      <td>Polina Griffith</td>\n",
       "      <td>dance</td>\n",
       "      <td>Moscow</td>\n",
       "      <td>20:47:49</td>\n",
       "      <td>Wednesday</td>\n",
       "    </tr>\n",
       "    <tr>\n",
       "      <td>8</td>\n",
       "      <td>8FA1D3BE</td>\n",
       "      <td>И вновь продолжается бой</td>\n",
       "      <td>NaN</td>\n",
       "      <td>ruspop</td>\n",
       "      <td>Moscow</td>\n",
       "      <td>09:17:40</td>\n",
       "      <td>Friday</td>\n",
       "    </tr>\n",
       "    <tr>\n",
       "      <td>9</td>\n",
       "      <td>E772D5C0</td>\n",
       "      <td>Pessimist</td>\n",
       "      <td>NaN</td>\n",
       "      <td>dance</td>\n",
       "      <td>Saint-Petersburg</td>\n",
       "      <td>21:20:49</td>\n",
       "      <td>Wednesday</td>\n",
       "    </tr>\n",
       "  </tbody>\n",
       "</table>\n",
       "</div>"
      ],
      "text/plain": [
       "     userID                        Track            artist   genre  \\\n",
       "0  FFB692EC            Kamigata To Boots  The Mass Missile    rock   \n",
       "1  55204538  Delayed Because of Accident  Andreas Rönnberg    rock   \n",
       "2    20EC38            Funiculì funiculà       Mario Lanza     pop   \n",
       "3  A3DD03C9        Dragons in the Sunset        Fire + Ice    folk   \n",
       "4  E2DC1FAE                  Soul People        Space Echo   dance   \n",
       "5  842029A1                    Преданная         IMPERVTOR  rusrap   \n",
       "6  4CB90AA5                         True      Roman Messer   dance   \n",
       "7  F03E1C1F             Feeling This Way   Polina Griffith   dance   \n",
       "8  8FA1D3BE     И вновь продолжается бой               NaN  ruspop   \n",
       "9  E772D5C0                    Pessimist               NaN   dance   \n",
       "\n",
       "             City        time        Day  \n",
       "0  Saint-Petersburg  20:28:33  Wednesday  \n",
       "1            Moscow  14:07:09     Friday  \n",
       "2  Saint-Petersburg  20:58:07  Wednesday  \n",
       "3  Saint-Petersburg  08:37:09     Monday  \n",
       "4            Moscow  08:34:34     Monday  \n",
       "5  Saint-Petersburg  13:09:41     Friday  \n",
       "6            Moscow  13:00:07  Wednesday  \n",
       "7            Moscow  20:47:49  Wednesday  \n",
       "8            Moscow  09:17:40     Friday  \n",
       "9  Saint-Petersburg  21:20:49  Wednesday  "
      ]
     },
     "execution_count": 3,
     "metadata": {},
     "output_type": "execute_result"
    }
   ],
   "source": [
    "df.head(10)# получение первых 10 строк таблицы df"
   ]
  },
  {
   "cell_type": "markdown",
   "metadata": {
    "id": "EO73Kwic_Zct"
   },
   "source": [
    "Посмотрим общую информацию о таблице:"
   ]
  },
  {
   "cell_type": "code",
   "execution_count": 4,
   "metadata": {
    "id": "DSf2kIb-_Zct"
   },
   "outputs": [
    {
     "name": "stdout",
     "output_type": "stream",
     "text": [
      "<class 'pandas.core.frame.DataFrame'>\n",
      "RangeIndex: 65079 entries, 0 to 65078\n",
      "Data columns (total 7 columns):\n",
      "  userID    65079 non-null object\n",
      "Track       63848 non-null object\n",
      "artist      57876 non-null object\n",
      "genre       63881 non-null object\n",
      "  City      65079 non-null object\n",
      "time        65079 non-null object\n",
      "Day         65079 non-null object\n",
      "dtypes: object(7)\n",
      "memory usage: 3.5+ MB\n"
     ]
    }
   ],
   "source": [
    "df.info()# получение общей информации о данных в таблице df"
   ]
  },
  {
   "cell_type": "markdown",
   "metadata": {
    "id": "TaQ2Iwbr_Zct"
   },
   "source": [
    "Итак, в таблице семь столбцов. Тип данных во всех столбцах — `object`.\n",
    "\n",
    "Согласно документации к данным:\n",
    "* `userID` — идентификатор пользователя;\n",
    "* `Track` — название трека;  \n",
    "* `artist` — имя исполнителя;\n",
    "* `genre` — название жанра;\n",
    "* `City` — город пользователя;\n",
    "* `time` — время начала прослушивания;\n",
    "* `Day` — день недели.\n",
    "\n",
    "В названиях колонок видны три нарушения стиля:\n",
    "1. Строчные буквы сочетаются с прописными.\n",
    "2. Встречаются пробелы.\n",
    "3. Не используется змеиный регистр.\n",
    "\n",
    "Количество значений в столбцах различается. Значит, в данных есть пропущенные значения."
   ]
  },
  {
   "cell_type": "markdown",
   "metadata": {
    "id": "MCB6-dXG_Zct"
   },
   "source": [
    "**Выводы**\n",
    "\n",
    "В каждой строке таблицы — данные о прослушанном треке. Часть колонок описывает саму композицию: название, исполнителя и жанр. Остальные данные рассказывают о пользователе: из какого он города, когда он слушал музыку. \n",
    "\n",
    "Предварительно можно утверждать, что, данных достаточно для проверки гипотез. Но встречаются пропуски в данных, а в названиях колонок — расхождения с хорошим стилем.\n",
    "\n",
    "Чтобы двигаться дальше, нужно устранить проблемы в данных."
   ]
  },
  {
   "cell_type": "markdown",
   "metadata": {
    "id": "SjYF6Ub9_Zct"
   },
   "source": [
    "## Предобработка данных\n",
    "Исправьте стиль в заголовках столбцов, исключите пропуски. Затем проверьте данные на дубликаты."
   ]
  },
  {
   "cell_type": "markdown",
   "metadata": {
    "id": "dIaKXr29_Zct"
   },
   "source": [
    "### Стиль заголовков\n",
    "Выведием на экран названия столбцов:"
   ]
  },
  {
   "cell_type": "code",
   "execution_count": 5,
   "metadata": {
    "id": "oKOTdF_Q_Zct"
   },
   "outputs": [
    {
     "data": {
      "text/plain": [
       "Index(['  userID', 'Track', 'artist', 'genre', '  City  ', 'time', 'Day'], dtype='object')"
      ]
     },
     "execution_count": 5,
     "metadata": {},
     "output_type": "execute_result"
    }
   ],
   "source": [
    "df.columns# перечень названий столбцов таблицы df"
   ]
  },
  {
   "cell_type": "markdown",
   "metadata": {
    "id": "zj5534cv_Zct"
   },
   "source": [
    "Приводим названия в соответствие с хорошим стилем:\n",
    "* несколько слов в названии запишем в «змеином_регистре»,\n",
    "* все символы сделаем строчными,\n",
    "* устраним пробелы.\n",
    "\n",
    "Для этого переименуем колонки:\n",
    "* `'  userID'` → `'user_id'`;\n",
    "* `'Track'` → `'track'`;\n",
    "* `'  City  '` → `'city'`;\n",
    "* `'Day'` → `'day'`."
   ]
  },
  {
   "cell_type": "code",
   "execution_count": 6,
   "metadata": {
    "id": "ISlFqs5y_Zct"
   },
   "outputs": [],
   "source": [
    "df = df.rename(columns={\n",
    "    '  userID': 'user_id',\n",
    "    'Track': 'track',\n",
    "    '  City  ': 'city',\n",
    "    'Day': 'day'\n",
    "})"
   ]
  },
  {
   "cell_type": "markdown",
   "metadata": {
    "id": "1dqbh00J_Zct"
   },
   "source": [
    "Проверяем результат:"
   ]
  },
  {
   "cell_type": "code",
   "execution_count": 7,
   "metadata": {
    "id": "d4NOAmTW_Zct"
   },
   "outputs": [
    {
     "data": {
      "text/plain": [
       "Index(['user_id', 'track', 'artist', 'genre', 'city', 'time', 'day'], dtype='object')"
      ]
     },
     "execution_count": 7,
     "metadata": {},
     "output_type": "execute_result"
    }
   ],
   "source": [
    "df.columns\n",
    "# переименование столбцов# проверка результатов - перечень названий столбцов"
   ]
  },
  {
   "cell_type": "markdown",
   "metadata": {
    "id": "5ISfbcfY_Zct"
   },
   "source": [
    "### Пропуски значений\n",
    "Посчитаем, сколько в таблице пропущенных значений. Для этого достаточно двух методов `pandas`:"
   ]
  },
  {
   "cell_type": "code",
   "execution_count": 8,
   "metadata": {
    "id": "RskX29qr_Zct"
   },
   "outputs": [
    {
     "data": {
      "text/plain": [
       "user_id       0\n",
       "track      1231\n",
       "artist     7203\n",
       "genre      1198\n",
       "city          0\n",
       "time          0\n",
       "day           0\n",
       "dtype: int64"
      ]
     },
     "execution_count": 8,
     "metadata": {},
     "output_type": "execute_result"
    }
   ],
   "source": [
    "df.isna().sum()# подсчёт пропусков"
   ]
  },
  {
   "cell_type": "markdown",
   "metadata": {
    "id": "qubhgnlO_Zct"
   },
   "source": [
    "Не все пропущенные значения влияют на исследование. Так в `track` и `artist` пропуски не важны для вашей работы. Достаточно заменить их явными обозначениями.\n",
    "\n",
    "Но пропуски в `genre` могут помешать сравнению музыкальных вкусов в Москве и Санкт-Петербурге. На практике было бы правильно установить причину пропусков и восстановить данные. Такой возможности нет в учебном проекте. Придётся:\n",
    "* заполнить и эти пропуски явными обозначениями,\n",
    "* оценить, насколько они повредят расчётам. "
   ]
  },
  {
   "cell_type": "markdown",
   "metadata": {
    "id": "fSv2laPA_Zct"
   },
   "source": [
    "Заменим пропущенные значения в столбцах `track`, `artist` и `genre` на строку `'unknown'`. Для этого создадим список `columns_to_replace`, переберем его элементы циклом `for` и для каждого столбца выполним замену пропущенных значений:"
   ]
  },
  {
   "cell_type": "code",
   "execution_count": 9,
   "metadata": {
    "id": "KplB5qWs_Zct"
   },
   "outputs": [],
   "source": [
    "# перебор названий столбцов в цикле и замена пропущенных значений на 'unknown'\n",
    "columns_to_replace = ['track','artist','genre']\n",
    "for column in columns_to_replace:\n",
    "    df[column] = df[column].fillna('unknown')"
   ]
  },
  {
   "cell_type": "markdown",
   "metadata": {
    "id": "Ilsm-MZo_Zct"
   },
   "source": [
    "Ещё раз посчитаем пропущенные значения:"
   ]
  },
  {
   "cell_type": "code",
   "execution_count": 10,
   "metadata": {
    "id": "Tq4nYRX4_Zct"
   },
   "outputs": [
    {
     "data": {
      "text/plain": [
       "user_id    0\n",
       "track      0\n",
       "artist     0\n",
       "genre      0\n",
       "city       0\n",
       "time       0\n",
       "day        0\n",
       "dtype: int64"
      ]
     },
     "execution_count": 10,
     "metadata": {},
     "output_type": "execute_result"
    }
   ],
   "source": [
    "df.isna().sum()# подсчёт пропусков"
   ]
  },
  {
   "cell_type": "markdown",
   "metadata": {
    "id": "BWKRtBJ3_Zct"
   },
   "source": [
    "### Дубликаты\n",
    "Посчитайте явные дубликаты в таблице:"
   ]
  },
  {
   "cell_type": "code",
   "execution_count": 11,
   "metadata": {
    "id": "36eES_S0_Zct"
   },
   "outputs": [
    {
     "data": {
      "text/plain": [
       "3826"
      ]
     },
     "execution_count": 11,
     "metadata": {},
     "output_type": "execute_result"
    }
   ],
   "source": [
    "df.duplicated().sum()# подсчёт явных дубликатов"
   ]
  },
  {
   "cell_type": "markdown",
   "metadata": {
    "id": "Ot25h6XR_Zct"
   },
   "source": [
    "Удаляем явные дубликаты:"
   ]
  },
  {
   "cell_type": "code",
   "execution_count": 12,
   "metadata": {
    "id": "exFHq6tt_Zct"
   },
   "outputs": [],
   "source": [
    "df=df.drop_duplicates().reset_index(drop=True)# удаление явных дубликатов (с удалением старых индексов и формированием новых)"
   ]
  },
  {
   "cell_type": "markdown",
   "metadata": {
    "id": "Im2YwBEG_Zct"
   },
   "source": [
    "Ещё раз посчитаем явные дубликаты в таблице — убедимся, что полностью от них избавились:"
   ]
  },
  {
   "cell_type": "code",
   "execution_count": 13,
   "metadata": {
    "id": "-8PuNWQ0_Zct"
   },
   "outputs": [
    {
     "data": {
      "text/plain": [
       "0"
      ]
     },
     "execution_count": 13,
     "metadata": {},
     "output_type": "execute_result"
    }
   ],
   "source": [
    "df.duplicated().sum()# проверка на отсутствие дубликатов"
   ]
  },
  {
   "cell_type": "markdown",
   "metadata": {
    "id": "QlFBsxAr_Zct"
   },
   "source": [
    "Теперь избавимся от неявных дубликатов в колонке `genre`."
   ]
  },
  {
   "cell_type": "code",
   "execution_count": 14,
   "metadata": {
    "id": "JIUcqzZN_Zct"
   },
   "outputs": [
    {
     "data": {
      "text/plain": [
       "array(['acid', 'acoustic', 'action', 'adult', 'africa', 'afrikaans',\n",
       "       'alternative', 'alternativepunk', 'ambient', 'americana',\n",
       "       'animated', 'anime', 'arabesk', 'arabic', 'arena',\n",
       "       'argentinetango', 'art', 'audiobook', 'author', 'avantgarde',\n",
       "       'axé', 'baile', 'balkan', 'beats', 'bigroom', 'black', 'bluegrass',\n",
       "       'blues', 'bollywood', 'bossa', 'brazilian', 'breakbeat', 'breaks',\n",
       "       'broadway', 'cantautori', 'cantopop', 'canzone', 'caribbean',\n",
       "       'caucasian', 'celtic', 'chamber', 'chanson', 'children', 'chill',\n",
       "       'chinese', 'choral', 'christian', 'christmas', 'classical',\n",
       "       'classicmetal', 'club', 'colombian', 'comedy', 'conjazz',\n",
       "       'contemporary', 'country', 'cuban', 'dance', 'dancehall',\n",
       "       'dancepop', 'dark', 'death', 'deep', 'deutschrock', 'deutschspr',\n",
       "       'dirty', 'disco', 'dnb', 'documentary', 'downbeat', 'downtempo',\n",
       "       'drum', 'dub', 'dubstep', 'eastern', 'easy', 'electronic',\n",
       "       'electropop', 'emo', 'entehno', 'epicmetal', 'estrada', 'ethnic',\n",
       "       'eurofolk', 'european', 'experimental', 'extrememetal', 'fado',\n",
       "       'fairytail', 'film', 'fitness', 'flamenco', 'folk', 'folklore',\n",
       "       'folkmetal', 'folkrock', 'folktronica', 'forró', 'frankreich',\n",
       "       'französisch', 'french', 'funk', 'future', 'gangsta', 'garage',\n",
       "       'german', 'ghazal', 'gitarre', 'glitch', 'gospel', 'gothic',\n",
       "       'grime', 'grunge', 'gypsy', 'handsup', \"hard'n'heavy\", 'hardcore',\n",
       "       'hardstyle', 'hardtechno', 'hip', 'hip-hop', 'hiphop',\n",
       "       'historisch', 'holiday', 'hop', 'horror', 'house', 'hymn', 'idm',\n",
       "       'independent', 'indian', 'indie', 'indipop', 'industrial',\n",
       "       'inspirational', 'instrumental', 'international', 'irish', 'jam',\n",
       "       'japanese', 'jazz', 'jewish', 'jpop', 'jungle', 'k-pop',\n",
       "       'karadeniz', 'karaoke', 'kayokyoku', 'korean', 'laiko', 'latin',\n",
       "       'latino', 'leftfield', 'local', 'lounge', 'loungeelectronic',\n",
       "       'lovers', 'malaysian', 'mandopop', 'marschmusik', 'meditative',\n",
       "       'mediterranean', 'melodic', 'metal', 'metalcore', 'mexican',\n",
       "       'middle', 'minimal', 'miscellaneous', 'modern', 'mood', 'mpb',\n",
       "       'muslim', 'native', 'neoklassik', 'neue', 'new', 'newage',\n",
       "       'newwave', 'nu', 'nujazz', 'numetal', 'oceania', 'old', 'opera',\n",
       "       'orchestral', 'other', 'piano', 'podcasts', 'pop', 'popdance',\n",
       "       'popelectronic', 'popeurodance', 'poprussian', 'post',\n",
       "       'posthardcore', 'postrock', 'power', 'progmetal', 'progressive',\n",
       "       'psychedelic', 'punjabi', 'punk', 'quebecois', 'ragga', 'ram',\n",
       "       'rancheras', 'rap', 'rave', 'reggae', 'reggaeton', 'regional',\n",
       "       'relax', 'religious', 'retro', 'rhythm', 'rnb', 'rnr', 'rock',\n",
       "       'rockabilly', 'rockalternative', 'rockindie', 'rockother',\n",
       "       'romance', 'roots', 'ruspop', 'rusrap', 'rusrock', 'russian',\n",
       "       'salsa', 'samba', 'scenic', 'schlager', 'self', 'sertanejo',\n",
       "       'shanson', 'shoegazing', 'showtunes', 'singer', 'ska', 'skarock',\n",
       "       'slow', 'smooth', 'soft', 'soul', 'soulful', 'sound', 'soundtrack',\n",
       "       'southern', 'specialty', 'speech', 'spiritual', 'sport',\n",
       "       'stonerrock', 'surf', 'swing', 'synthpop', 'synthrock',\n",
       "       'sängerportrait', 'tango', 'tanzorchester', 'taraftar', 'tatar',\n",
       "       'tech', 'techno', 'teen', 'thrash', 'top', 'traditional',\n",
       "       'tradjazz', 'trance', 'tribal', 'trip', 'triphop', 'tropical',\n",
       "       'türk', 'türkçe', 'ukrrock', 'unknown', 'urban', 'uzbek',\n",
       "       'variété', 'vi', 'videogame', 'vocal', 'western', 'world',\n",
       "       'worldbeat', 'ïîï', 'электроника'], dtype=object)"
      ]
     },
     "execution_count": 14,
     "metadata": {},
     "output_type": "execute_result"
    }
   ],
   "source": [
    "# Просмотр уникальных названий жанров\n",
    "df['genre'].sort_values().unique()"
   ]
  },
  {
   "cell_type": "markdown",
   "metadata": {
    "id": "qej-Qmuo_Zct"
   },
   "source": [
    "В списке видим неявные дубликаты названия `hiphop`:\n",
    "* *hip*,\n",
    "* *hop*,\n",
    "* *hip-hop*.\n",
    "\n",
    "Чтобы очистить от них таблицу, напишем функцию `replace_wrong_genres()` с двумя параметрами: \n",
    "* `wrong_genres` — список дубликатов,\n",
    "* `correct_genre` — строка с правильным значением.\n",
    "\n",
    "Функция должна исправить колонку `genre` в таблице `df`: заменить каждое значение из списка `wrong_genres` на значение из `correct_genre`."
   ]
  },
  {
   "cell_type": "code",
   "execution_count": 15,
   "metadata": {
    "id": "ErNDkmns_Zct"
   },
   "outputs": [],
   "source": [
    "#Функция для замены неявных дубликатов\n",
    "def replace_wrong_genres(wrong_genres, correct_genre):\n",
    "    for wrong_genre in wrong_genres:\n",
    "        df['genre'] = df['genre'].replace(wrong_genre, correct_genre)"
   ]
  },
  {
   "cell_type": "code",
   "execution_count": 16,
   "metadata": {
    "id": "YN5i2hpmSo09"
   },
   "outputs": [],
   "source": [
    "# Устранение неявных дубликатов\n",
    "duplicates = ['hip', 'hop', 'hip-hop']\n",
    "genre = 'hiphop'\n",
    "replace_wrong_genres(duplicates, genre)"
   ]
  },
  {
   "cell_type": "code",
   "execution_count": 17,
   "metadata": {
    "id": "wvixALnFG15m",
    "scrolled": false
   },
   "outputs": [
    {
     "data": {
      "text/plain": [
       "array(['rock', 'pop', 'folk', 'dance', 'rusrap', 'ruspop', 'world',\n",
       "       'electronic', 'unknown', 'alternative', 'children', 'rnb',\n",
       "       'hiphop', 'jazz', 'postrock', 'latin', 'classical', 'metal',\n",
       "       'reggae', 'tatar', 'blues', 'instrumental', 'rusrock', 'dnb',\n",
       "       'türk', 'post', 'country', 'psychedelic', 'conjazz', 'indie',\n",
       "       'posthardcore', 'local', 'avantgarde', 'punk', 'videogame',\n",
       "       'techno', 'house', 'christmas', 'melodic', 'caucasian',\n",
       "       'reggaeton', 'soundtrack', 'singer', 'ska', 'shanson', 'ambient',\n",
       "       'film', 'western', 'rap', 'beats', \"hard'n'heavy\", 'progmetal',\n",
       "       'minimal', 'contemporary', 'new', 'soul', 'holiday', 'german',\n",
       "       'tropical', 'fairytail', 'spiritual', 'urban', 'gospel', 'nujazz',\n",
       "       'folkmetal', 'trance', 'miscellaneous', 'anime', 'hardcore',\n",
       "       'progressive', 'chanson', 'numetal', 'vocal', 'estrada', 'russian',\n",
       "       'classicmetal', 'dubstep', 'club', 'deep', 'southern', 'black',\n",
       "       'folkrock', 'fitness', 'french', 'disco', 'religious', 'drum',\n",
       "       'extrememetal', 'türkçe', 'experimental', 'easy', 'metalcore',\n",
       "       'modern', 'argentinetango', 'old', 'breaks', 'eurofolk',\n",
       "       'stonerrock', 'industrial', 'funk', 'jpop', 'middle', 'variété',\n",
       "       'other', 'adult', 'christian', 'gothic', 'international', 'muslim',\n",
       "       'relax', 'schlager', 'caribbean', 'ukrrock', 'nu', 'breakbeat',\n",
       "       'comedy', 'chill', 'newage', 'specialty', 'uzbek', 'k-pop',\n",
       "       'balkan', 'chinese', 'meditative', 'dub', 'power', 'death',\n",
       "       'grime', 'arabesk', 'romance', 'flamenco', 'leftfield', 'european',\n",
       "       'tech', 'newwave', 'dancehall', 'mpb', 'piano', 'top', 'bigroom',\n",
       "       'opera', 'celtic', 'tradjazz', 'acoustic', 'epicmetal',\n",
       "       'historisch', 'downbeat', 'downtempo', 'africa', 'audiobook',\n",
       "       'jewish', 'sängerportrait', 'deutschrock', 'eastern', 'action',\n",
       "       'future', 'electropop', 'folklore', 'bollywood', 'marschmusik',\n",
       "       'rnr', 'karaoke', 'indian', 'rancheras', 'электроника',\n",
       "       'afrikaans', 'tango', 'rhythm', 'sound', 'deutschspr', 'trip',\n",
       "       'lovers', 'choral', 'dancepop', 'podcasts', 'retro', 'smooth',\n",
       "       'mexican', 'brazilian', 'ïîï', 'mood', 'surf', 'author', 'gangsta',\n",
       "       'triphop', 'inspirational', 'idm', 'ethnic', 'bluegrass',\n",
       "       'broadway', 'animated', 'americana', 'karadeniz', 'rockabilly',\n",
       "       'colombian', 'self', 'synthrock', 'sertanejo', 'japanese',\n",
       "       'canzone', 'swing', 'lounge', 'sport', 'korean', 'ragga',\n",
       "       'traditional', 'gitarre', 'frankreich', 'alternativepunk', 'emo',\n",
       "       'laiko', 'cantopop', 'glitch', 'documentary', 'rockalternative',\n",
       "       'thrash', 'hymn', 'oceania', 'rockother', 'popeurodance', 'dark',\n",
       "       'vi', 'grunge', 'hardstyle', 'samba', 'garage', 'soft', 'art',\n",
       "       'folktronica', 'entehno', 'mediterranean', 'chamber', 'cuban',\n",
       "       'taraftar', 'rockindie', 'gypsy', 'hardtechno', 'shoegazing',\n",
       "       'skarock', 'bossa', 'salsa', 'latino', 'worldbeat', 'malaysian',\n",
       "       'baile', 'ghazal', 'loungeelectronic', 'arabic', 'popelectronic',\n",
       "       'acid', 'kayokyoku', 'neoklassik', 'tribal', 'tanzorchester',\n",
       "       'native', 'independent', 'cantautori', 'handsup', 'poprussian',\n",
       "       'punjabi', 'synthpop', 'rave', 'französisch', 'quebecois',\n",
       "       'speech', 'soulful', 'teen', 'jam', 'ram', 'horror', 'scenic',\n",
       "       'orchestral', 'neue', 'roots', 'slow', 'jungle', 'indipop', 'axé',\n",
       "       'fado', 'showtunes', 'arena', 'irish', 'mandopop', 'forró',\n",
       "       'popdance', 'dirty', 'regional'], dtype=object)"
      ]
     },
     "metadata": {},
     "output_type": "display_data"
    }
   ],
   "source": [
    "# Проверка на неявные дубликаты\n",
    "display(df['genre'].unique())"
   ]
  },
  {
   "cell_type": "markdown",
   "metadata": {
    "id": "jz6a9-7HQUDd"
   },
   "source": [
    "**Выводы**\n",
    "\n",
    "Предобработка обнаружила три проблемы в данных:\n",
    "\n",
    "- нарушения в стиле заголовков,\n",
    "- пропущенные значения,\n",
    "- дубликаты — явные и неявные.\n",
    "\n",
    "Исправили заголовки, чтобы упростить работу с таблицей. Без дубликатов исследование станет более точным.\n",
    "\n",
    "Пропущенные значения вы заменили на `'unknown'`. Ещё предстоит увидеть, не повредят ли исследованию пропуски в колонке `genre`.\n",
    "\n",
    "Теперь можно перейти к проверке гипотез. "
   ]
  },
  {
   "cell_type": "markdown",
   "metadata": {
    "id": "WttZHXH0SqKk"
   },
   "source": [
    "## Проверка гипотез"
   ]
  },
  {
   "cell_type": "markdown",
   "metadata": {
    "id": "Im936VVi_Zcu"
   },
   "source": [
    "### Сравнение поведения пользователей двух столиц"
   ]
  },
  {
   "cell_type": "markdown",
   "metadata": {
    "id": "nwt_MuaL_Zcu"
   },
   "source": [
    "Первая гипотеза утверждает, что пользователи по-разному слушают музыку в Москве и Санкт-Петербурге. Проверим это предположение по данным о трёх днях недели — понедельнике, среде и пятнице. Для этого:\n",
    "\n",
    "* Разделим пользователей Москвы и Санкт-Петербурга\n",
    "* Сравним, сколько треков послушала каждая группа пользователей в понедельник, среду и пятницу.\n"
   ]
  },
  {
   "cell_type": "code",
   "execution_count": 18,
   "metadata": {
    "id": "0_Qs96oh_Zcu"
   },
   "outputs": [
    {
     "data": {
      "text/plain": [
       "city\n",
       "Moscow              42741\n",
       "Saint-Petersburg    18512\n",
       "Name: genre, dtype: int64"
      ]
     },
     "metadata": {},
     "output_type": "display_data"
    }
   ],
   "source": [
    "display(df.groupby('city')['genre'].count())\n",
    "# Подсчёт прослушиваний в каждом городе"
   ]
  },
  {
   "cell_type": "markdown",
   "metadata": {
    "id": "dzli3w8o_Zcu"
   },
   "source": [
    "В Москве прослушиваний больше, чем в Петербурге. Из этого не следует, что московские пользователи чаще слушают музыку. Просто самих пользователей в Москве больше.\n",
    "\n",
    "Теперь сгруппируем данные по дню недели и подсчитаем прослушивания в понедельник, среду и пятницу. "
   ]
  },
  {
   "cell_type": "code",
   "execution_count": 19,
   "metadata": {
    "id": "uZMKjiJz_Zcu"
   },
   "outputs": [
    {
     "data": {
      "text/plain": [
       "day\n",
       "Friday       21840\n",
       "Monday       21354\n",
       "Wednesday    18059\n",
       "Name: genre, dtype: int64"
      ]
     },
     "execution_count": 19,
     "metadata": {},
     "output_type": "execute_result"
    }
   ],
   "source": [
    "(df.groupby('day')['genre'].count())# Подсчёт прослушиваний в каждый из трёх дней"
   ]
  },
  {
   "cell_type": "markdown",
   "metadata": {
    "id": "cC2tNrlL_Zcu"
   },
   "source": [
    "В среднем пользователи из двух городов менее активны по средам. Но картина может измениться, если рассмотреть каждый город в отдельности."
   ]
  },
  {
   "cell_type": "markdown",
   "metadata": {
    "id": "POzs8bGa_Zcu"
   },
   "source": [
    "Теперь напишем функцию, которая объединит два эти расчёта.\n",
    "\n",
    "Создайте функцию `number_tracks()`, которая посчитает прослушивания для заданного дня и города. Ей понадобятся два параметра:\n",
    "* день недели,\n",
    "* название города.\n",
    "\n",
    "В функции сохраним в переменную строки исходной таблицы, у которых значение:\n",
    "  * в колонке `day` равно параметру `day`,\n",
    "  * в колонке `city` равно параметру `city`.\n",
    "\n",
    "Для этого применим последовательную фильтрацию с логической индексацией.\n",
    "\n",
    "Затем посчитаем значения в столбце `user_id` получившейся таблицы. "
   ]
  },
  {
   "cell_type": "code",
   "execution_count": 20,
   "metadata": {
    "id": "Nz3GdQB1_Zcu"
   },
   "outputs": [],
   "source": [
    "# создание функции number_tracks()\n",
    "\n",
    "def number_tracks(day, city):\n",
    "    track_list = df[df['day'] == day] \n",
    "    track_list = track_list[track_list['city'] == city]\n",
    "    track_list_count = track_list['user_id'].count()\n",
    "    \n",
    "    return track_list_count"
   ]
  },
  {
   "cell_type": "markdown",
   "metadata": {
    "id": "ytf7xFrFJQ2r"
   },
   "source": [
    "Вызовем `number_tracks()` шесть раз, меняя значение параметров — так, чтобы получить данные для каждого города в каждый из трёх дней."
   ]
  },
  {
   "cell_type": "code",
   "execution_count": 21,
   "metadata": {
    "id": "rJcRATNQ_Zcu"
   },
   "outputs": [
    {
     "data": {
      "text/plain": [
       "15740"
      ]
     },
     "execution_count": 21,
     "metadata": {},
     "output_type": "execute_result"
    }
   ],
   "source": [
    "number_tracks('Monday', 'Moscow')# количество прослушиваний в Москве по понедельникам"
   ]
  },
  {
   "cell_type": "code",
   "execution_count": 22,
   "metadata": {
    "id": "hq_ncZ5T_Zcu"
   },
   "outputs": [
    {
     "data": {
      "text/plain": [
       "5614"
      ]
     },
     "execution_count": 22,
     "metadata": {},
     "output_type": "execute_result"
    }
   ],
   "source": [
    "number_tracks('Monday', 'Saint-Petersburg')# количество прослушиваний в Санкт-Петербурге по понедельникам"
   ]
  },
  {
   "cell_type": "code",
   "execution_count": 23,
   "metadata": {
    "id": "_NTy2VPU_Zcu"
   },
   "outputs": [
    {
     "data": {
      "text/plain": [
       "11056"
      ]
     },
     "execution_count": 23,
     "metadata": {},
     "output_type": "execute_result"
    }
   ],
   "source": [
    "number_tracks('Wednesday', 'Moscow')# количество прослушиваний в Москве по средам"
   ]
  },
  {
   "cell_type": "code",
   "execution_count": 24,
   "metadata": {
    "id": "j2y3TAwo_Zcu"
   },
   "outputs": [
    {
     "data": {
      "text/plain": [
       "7003"
      ]
     },
     "execution_count": 24,
     "metadata": {},
     "output_type": "execute_result"
    }
   ],
   "source": [
    "number_tracks('Wednesday', 'Saint-Petersburg')#количество прослушиваний в Санкт-Петербурге по средам"
   ]
  },
  {
   "cell_type": "code",
   "execution_count": 25,
   "metadata": {
    "id": "vYDw5u_K_Zcu"
   },
   "outputs": [
    {
     "data": {
      "text/plain": [
       "15945"
      ]
     },
     "execution_count": 25,
     "metadata": {},
     "output_type": "execute_result"
    }
   ],
   "source": [
    "number_tracks('Friday', 'Moscow')# количество прослушиваний в Москве по пятницам"
   ]
  },
  {
   "cell_type": "code",
   "execution_count": 26,
   "metadata": {
    "id": "8_yzFtW3_Zcu"
   },
   "outputs": [
    {
     "data": {
      "text/plain": [
       "5895"
      ]
     },
     "execution_count": 26,
     "metadata": {},
     "output_type": "execute_result"
    }
   ],
   "source": [
    "number_tracks('Friday', 'Saint-Petersburg')# количество прослушиваний в Санкт-Петербурге по пятницам"
   ]
  },
  {
   "cell_type": "markdown",
   "metadata": {
    "id": "7QXffbO-_Zcu"
   },
   "source": [
    "Создадим c помощью конструктора `pd.DataFrame` таблицу, где\n",
    "* названия колонок — `['city', 'monday', 'wednesday', 'friday']`;\n",
    "* данные — результаты `number_tracks`."
   ]
  },
  {
   "cell_type": "code",
   "execution_count": 27,
   "metadata": {
    "id": "APAcLpOr_Zcu"
   },
   "outputs": [
    {
     "data": {
      "text/html": [
       "<div>\n",
       "<style scoped>\n",
       "    .dataframe tbody tr th:only-of-type {\n",
       "        vertical-align: middle;\n",
       "    }\n",
       "\n",
       "    .dataframe tbody tr th {\n",
       "        vertical-align: top;\n",
       "    }\n",
       "\n",
       "    .dataframe thead th {\n",
       "        text-align: right;\n",
       "    }\n",
       "</style>\n",
       "<table border=\"1\" class=\"dataframe\">\n",
       "  <thead>\n",
       "    <tr style=\"text-align: right;\">\n",
       "      <th></th>\n",
       "      <th>city</th>\n",
       "      <th>monday</th>\n",
       "      <th>wednesday</th>\n",
       "      <th>friday</th>\n",
       "    </tr>\n",
       "  </thead>\n",
       "  <tbody>\n",
       "    <tr>\n",
       "      <td>0</td>\n",
       "      <td>Moscow</td>\n",
       "      <td>15740</td>\n",
       "      <td>11056</td>\n",
       "      <td>15945</td>\n",
       "    </tr>\n",
       "    <tr>\n",
       "      <td>1</td>\n",
       "      <td>Saint-Petersburg</td>\n",
       "      <td>5614</td>\n",
       "      <td>7003</td>\n",
       "      <td>5895</td>\n",
       "    </tr>\n",
       "  </tbody>\n",
       "</table>\n",
       "</div>"
      ],
      "text/plain": [
       "               city  monday  wednesday  friday\n",
       "0            Moscow   15740      11056   15945\n",
       "1  Saint-Petersburg    5614       7003    5895"
      ]
     },
     "metadata": {},
     "output_type": "display_data"
    }
   ],
   "source": [
    "# Таблица с результатами\n",
    "data = [\n",
    "    ['Moscow', 15740, 11056, 15945],\n",
    "    ['Saint-Petersburg', 5614, 7003, 5895]\n",
    "]\n",
    "columns = ['city','monday','wednesday','friday']\n",
    "music_city_table = pd.DataFrame(data = data, columns = columns)\n",
    "display(music_city_table)"
   ]
  },
  {
   "cell_type": "markdown",
   "metadata": {
    "id": "-EgPIHYu_Zcu"
   },
   "source": [
    "**Выводы**\n",
    "\n",
    "Данные показывают разницу поведения пользователей:\n",
    "\n",
    "- В Москве пик прослушиваний приходится на понедельник и пятницу, а в среду заметен спад.\n",
    "- В Петербурге, наоборот, больше слушают музыку по средам. Активность в понедельник и пятницу здесь почти в равной мере уступает среде.\n",
    "\n",
    "Значит, данные говорят в пользу первой гипотезы."
   ]
  },
  {
   "cell_type": "markdown",
   "metadata": {
    "id": "atZAxtq4_Zcu"
   },
   "source": [
    "### Музыка в начале и в конце недели"
   ]
  },
  {
   "cell_type": "markdown",
   "metadata": {
    "id": "eXrQqXFH_Zcu"
   },
   "source": [
    "Согласно второй гипотезе, утром в понедельник в Москве преобладают одни жанры, а в Петербурге — другие. Так же и вечером пятницы преобладают разные жанры — в зависимости от города."
   ]
  },
  {
   "cell_type": "markdown",
   "metadata": {
    "id": "S8UcW6Hw_Zcu"
   },
   "source": [
    "Сохраним таблицы с данными в две переменные:\n",
    "* по Москве — в `moscow_general`;\n",
    "* по Санкт-Петербургу — в `spb_general`."
   ]
  },
  {
   "cell_type": "code",
   "execution_count": 28,
   "metadata": {
    "id": "qeaFfM_P_Zcu"
   },
   "outputs": [],
   "source": [
    "# получение таблицы moscow_general из тех строк таблицы df, \n",
    "# для которых значение в столбце 'city' равно 'Moscow'\n",
    "moscow_general = df[df['city'] == 'Moscow']"
   ]
  },
  {
   "cell_type": "code",
   "execution_count": 29,
   "metadata": {
    "id": "ORaVRKto_Zcu"
   },
   "outputs": [],
   "source": [
    "# получение таблицы spb_general из тех строк таблицы df,\n",
    "# для которых значение в столбце 'city' равно 'Saint-Petersburg'\n",
    "spb_general = df[df['city'] == 'Saint-Petersburg']"
   ]
  },
  {
   "cell_type": "markdown",
   "metadata": {
    "id": "MEJV-CX2_Zcu"
   },
   "source": [
    "Создадим функцию `genre_weekday()` с четырьмя параметрами:\n",
    "* таблица (датафрейм) с данными,\n",
    "* день недели,\n",
    "* начальная временная метка в формате 'hh:mm', \n",
    "* последняя временная метка в формате 'hh:mm'.\n",
    "\n",
    "Функция должна вернуть информацию о топ-10 жанров тех треков, которые прослушивали в указанный день, в промежутке между двумя отметками времени."
   ]
  },
  {
   "cell_type": "code",
   "execution_count": 30,
   "metadata": {
    "id": "laJT9BYl_Zcu"
   },
   "outputs": [],
   "source": [
    "def genre_weekday(table, day, time1, time2):\n",
    "    genre_df = table[table['day'] == day] \n",
    "    genre_df = genre_df[genre_df['time'] > time1]\n",
    "    genre_df = genre_df[genre_df['time'] < time2]\n",
    "    \n",
    "    genre_df_count = genre_df.groupby('genre')['genre'].count()\n",
    "    genre_df_sorted = genre_df_count.sort_values(ascending=False)\n",
    "    \n",
    "    return genre_df_sorted.head(10)"
   ]
  },
  {
   "cell_type": "markdown",
   "metadata": {
    "id": "la2s2_PF_Zcu"
   },
   "source": [
    "Cравним результаты функции `genre_weekday()` для Москвы и Санкт-Петербурга в понедельник утром (с 7:00 до 11:00) и в пятницу вечером (с 17:00 до 23:00):"
   ]
  },
  {
   "cell_type": "code",
   "execution_count": 31,
   "metadata": {
    "id": "yz7itPUQ_Zcu"
   },
   "outputs": [
    {
     "data": {
      "text/plain": [
       "genre\n",
       "pop            781\n",
       "dance          549\n",
       "electronic     480\n",
       "rock           474\n",
       "hiphop         286\n",
       "ruspop         186\n",
       "world          181\n",
       "rusrap         175\n",
       "alternative    164\n",
       "unknown        161\n",
       "Name: genre, dtype: int64"
      ]
     },
     "execution_count": 31,
     "metadata": {},
     "output_type": "execute_result"
    }
   ],
   "source": [
    "# вызов функции для утра понедельника в Москве\n",
    "#(вместо df — таблица moscow_general)\n",
    "# объекты, хранящие время, являются строками и сравниваются как строки\n",
    "# пример вызова: genre_weekday(moscow_general, 'Monday', '07:00', '11:00')\n",
    "genre_weekday(moscow_general, 'Monday', '07:00:00', '11:00:00')"
   ]
  },
  {
   "cell_type": "code",
   "execution_count": 32,
   "metadata": {
    "id": "kwUcHPdy_Zcu"
   },
   "outputs": [
    {
     "data": {
      "text/plain": [
       "genre\n",
       "pop            218\n",
       "dance          182\n",
       "rock           162\n",
       "electronic     147\n",
       "hiphop          80\n",
       "ruspop          64\n",
       "alternative     58\n",
       "rusrap          55\n",
       "jazz            44\n",
       "classical       40\n",
       "Name: genre, dtype: int64"
      ]
     },
     "execution_count": 32,
     "metadata": {},
     "output_type": "execute_result"
    }
   ],
   "source": [
    "# вызов функции для утра понедельника в Петербурге (вместо df — таблица spb_general)\n",
    "genre_weekday(spb_general, 'Monday', '07:00:00', '11:00:00')"
   ]
  },
  {
   "cell_type": "code",
   "execution_count": 33,
   "metadata": {
    "id": "EzXVRE1o_Zcu"
   },
   "outputs": [
    {
     "data": {
      "text/plain": [
       "genre\n",
       "pop            713\n",
       "rock           517\n",
       "dance          495\n",
       "electronic     482\n",
       "hiphop         273\n",
       "world          208\n",
       "ruspop         170\n",
       "alternative    163\n",
       "classical      163\n",
       "rusrap         142\n",
       "Name: genre, dtype: int64"
      ]
     },
     "execution_count": 33,
     "metadata": {},
     "output_type": "execute_result"
    }
   ],
   "source": [
    "genre_weekday(moscow_general, 'Friday', '17:00:00', '23:00:00')# вызов функции для вечера пятницы в Москве"
   ]
  },
  {
   "cell_type": "code",
   "execution_count": 34,
   "metadata": {
    "id": "JZaEKu5v_Zcu"
   },
   "outputs": [
    {
     "data": {
      "text/plain": [
       "genre\n",
       "pop            256\n",
       "rock           216\n",
       "electronic     216\n",
       "dance          210\n",
       "hiphop          97\n",
       "alternative     63\n",
       "jazz            61\n",
       "classical       60\n",
       "rusrap          59\n",
       "world           54\n",
       "Name: genre, dtype: int64"
      ]
     },
     "execution_count": 34,
     "metadata": {},
     "output_type": "execute_result"
    }
   ],
   "source": [
    "genre_weekday(spb_general, 'Friday', '17:00:00', '23:00:00')# вызов функции для вечера пятницы в Петербурге"
   ]
  },
  {
   "cell_type": "markdown",
   "metadata": {
    "id": "wrCe4MNX_Zcu"
   },
   "source": [
    "**Выводы**\n",
    "\n",
    "Если сравнить топ-10 жанров в понедельник утром, можно сделать такие выводы:\n",
    "\n",
    "1. В Москве и Петербурге слушают похожую музыку. Единственное отличие — в московский рейтинг вошёл жанр “world”, а в петербургский — джаз и классика.\n",
    "\n",
    "2. В Москве пропущенных значений оказалось так много, что значение `'unknown'` заняло десятое место среди самых популярных жанров. Значит, пропущенные значения занимают существенную долю в данных и подвергают сомнению  достоверность исследования.\n",
    "\n",
    "Вечер пятницы не меняет эту картину. Некоторые жанры поднимаются немного выше, другие спускаются, но в целом топ-10 остаётся тем же самым.\n",
    "\n",
    "Таким образом, вторая гипотеза подтвердилась лишь частично:\n",
    "* Пользователи слушают похожую музыку в начале недели и в конце.\n",
    "* Разница между Москвой и Петербургом не слишком выражена. В Москве чаще слушают русскую популярную музыку, в Петербурге — джаз.\n",
    "\n",
    "Тем не менее пропуски в данных ставят под сомнение этот результат. В Москве их так много, что рейтинг топ-10 мог бы выглядеть иначе, если бы не утерянные  данные о жанрах."
   ]
  },
  {
   "cell_type": "markdown",
   "metadata": {
    "id": "JolODAqr_Zcu"
   },
   "source": [
    "### Жанровые предпочтения в Москве и Петербурге\n",
    "\n",
    "Гипотеза: Петербург — столица рэпа, музыку этого жанра там слушают чаще, чем в Москве.  А Москва — город контрастов, в котором, тем не менее, преобладает поп-музыка."
   ]
  },
  {
   "cell_type": "markdown",
   "metadata": {
    "id": "DlegSvaT_Zcu"
   },
   "source": [
    "Сгруппируем таблицу `moscow_general` по жанру и посчитаем прослушивания треков каждого жанра методом `count()`. Затем отсортируем результат в порядке убывания и сохраните его в таблице `moscow_genres`."
   ]
  },
  {
   "cell_type": "code",
   "execution_count": 35,
   "metadata": {
    "id": "r19lIPke_Zcu"
   },
   "outputs": [],
   "source": [
    "# одной строкой: группировка таблицы moscow_general по столбцу 'genre', \n",
    "# подсчёт числа значений 'genre' в этой группировке методом count(), \n",
    "# сортировка получившегося Series в порядке убывания и сохранение в moscow_genres\n",
    "moscow_genres = moscow_general.groupby('genre')['genre'].count().sort_values(ascending = False)"
   ]
  },
  {
   "cell_type": "code",
   "execution_count": 36,
   "metadata": {
    "id": "WhCSooF8_Zcv"
   },
   "outputs": [
    {
     "data": {
      "text/plain": [
       "genre\n",
       "pop            5892\n",
       "dance          4435\n",
       "rock           3965\n",
       "electronic     3786\n",
       "hiphop         2096\n",
       "classical      1616\n",
       "world          1432\n",
       "alternative    1379\n",
       "ruspop         1372\n",
       "rusrap         1161\n",
       "Name: genre, dtype: int64"
      ]
     },
     "execution_count": 36,
     "metadata": {},
     "output_type": "execute_result"
    }
   ],
   "source": [
    "moscow_genres.head(10)# просмотр первых 10 строк moscow_genres"
   ]
  },
  {
   "cell_type": "markdown",
   "metadata": {
    "id": "cnPG2vnN_Zcv"
   },
   "source": [
    "Теперь повторим то же и для Петербурга.\n",
    "\n",
    "Сгруппируем таблицу `spb_general` по жанру. Посчитаем прослушивания треков каждого жанра. Результат отсортируем в порядке убывания и сохраним в таблице `spb_genres`:\n"
   ]
  },
  {
   "cell_type": "code",
   "execution_count": 37,
   "metadata": {
    "id": "gluLIpE7_Zcv"
   },
   "outputs": [],
   "source": [
    "# одной строкой: группировка таблицы spb_general по столбцу 'genre', \n",
    "# подсчёт числа значений 'genre' в этой группировке методом count(), \n",
    "# сортировка получившегося Series в порядке убывания и сохранение в spb_genres\n",
    "spb_genres = spb_general.groupby('genre')['genre'].count().sort_values(ascending = False)"
   ]
  },
  {
   "cell_type": "code",
   "execution_count": 38,
   "metadata": {
    "id": "uaGJHjVU_Zcv"
   },
   "outputs": [
    {
     "data": {
      "text/plain": [
       "genre\n",
       "pop            2431\n",
       "dance          1932\n",
       "rock           1879\n",
       "electronic     1736\n",
       "hiphop          960\n",
       "alternative     649\n",
       "classical       646\n",
       "rusrap          564\n",
       "ruspop          538\n",
       "world           515\n",
       "Name: genre, dtype: int64"
      ]
     },
     "execution_count": 38,
     "metadata": {},
     "output_type": "execute_result"
    }
   ],
   "source": [
    "spb_genres.head(10)# просмотр первых 10 строк spb_genres"
   ]
  },
  {
   "cell_type": "markdown",
   "metadata": {
    "id": "RY51YJYu_Zcv"
   },
   "source": [
    "**Выводы**"
   ]
  },
  {
   "cell_type": "markdown",
   "metadata": {
    "id": "nVhnJEm__Zcv"
   },
   "source": [
    "Гипотеза частично подтвердилась:\n",
    "* Поп-музыка — самый популярный жанр в Москве, как и предполагала гипотеза. Более того, в топ-10 жанров встречается близкий жанр — русская популярная музыка.\n",
    "* Вопреки ожиданиям, рэп одинаково популярен в Москве и Петербурге. \n"
   ]
  },
  {
   "cell_type": "markdown",
   "metadata": {
    "id": "ykKQ0N65_Zcv"
   },
   "source": [
    "## Итоги исследования"
   ]
  },
  {
   "cell_type": "markdown",
   "metadata": {
    "id": "tjUwbHb3_Zcv"
   },
   "source": [
    "Мы проверили три гипотезы и установили:\n",
    "\n",
    "1. День недели по-разному влияет на активность пользователей в Москве и Петербурге. \n",
    "\n",
    "Первая гипотеза полностью подтвердилась.\n",
    "\n",
    "2. Музыкальные предпочтения не сильно меняются в течение недели — будь то Москва или Петербург. Небольшие различия заметны в начале недели, по понедельникам:\n",
    "* в Москве слушают музыку жанра “world”,\n",
    "* в Петербурге — джаз и классику.\n",
    "\n",
    "Таким образом, вторая гипотеза подтвердилась лишь отчасти. Этот результат мог оказаться иным, если бы не пропуски в данных.\n",
    "\n",
    "3. Во вкусах пользователей Москвы и Петербурга больше общего чем различий. Вопреки ожиданиям, предпочтения жанров в Петербурге напоминают московские.\n",
    "\n",
    "Третья гипотеза не подтвердилась. Если различия в предпочтениях и существуют, на основной массе пользователей они незаметны.\n",
    "\n",
    "**На практике исследования содержат проверки статистических гипотез.**\n",
    "Из данных одного сервиса не всегда можно сделать вывод обо всех жителях города.\n",
    "Проверки статистических гипотез покажут, насколько они достоверны, исходя из имеющихся данных. \n",
    "С методами проверок гипотез вы ещё познакомитесь в следующих темах."
   ]
  }
 ],
 "metadata": {
  "ExecuteTimeLog": [
   {
    "duration": 3,
    "start_time": "2021-11-25T08:41:37.022Z"
   },
   {
    "duration": 4,
    "start_time": "2021-11-25T08:41:42.470Z"
   },
   {
    "duration": 3,
    "start_time": "2021-11-25T08:42:50.795Z"
   },
   {
    "duration": 97,
    "start_time": "2021-11-25T08:43:48.936Z"
   },
   {
    "duration": 3,
    "start_time": "2021-11-25T08:43:51.359Z"
   },
   {
    "duration": 5,
    "start_time": "2021-11-25T08:43:52.754Z"
   },
   {
    "duration": 367,
    "start_time": "2021-11-25T08:48:23.101Z"
   },
   {
    "duration": 4,
    "start_time": "2021-11-25T08:53:00.840Z"
   },
   {
    "duration": 4,
    "start_time": "2021-11-25T08:53:03.009Z"
   },
   {
    "duration": 4,
    "start_time": "2021-11-25T08:53:04.097Z"
   },
   {
    "duration": 4,
    "start_time": "2021-11-25T08:53:10.104Z"
   },
   {
    "duration": 192,
    "start_time": "2021-11-25T08:53:14.967Z"
   },
   {
    "duration": 4,
    "start_time": "2021-11-25T08:53:38.658Z"
   },
   {
    "duration": 24,
    "start_time": "2021-11-25T08:54:14.558Z"
   },
   {
    "duration": 39,
    "start_time": "2021-11-25T08:54:41.853Z"
   },
   {
    "duration": 395,
    "start_time": "2021-11-25T14:29:04.421Z"
   },
   {
    "duration": 290,
    "start_time": "2021-11-25T14:30:48.071Z"
   },
   {
    "duration": 272,
    "start_time": "2021-11-25T14:31:18.288Z"
   },
   {
    "duration": 331,
    "start_time": "2021-11-25T14:32:25.273Z"
   },
   {
    "duration": 348,
    "start_time": "2021-11-25T14:39:37.708Z"
   },
   {
    "duration": 288,
    "start_time": "2021-11-25T14:47:10.019Z"
   },
   {
    "duration": 296,
    "start_time": "2021-11-25T14:47:11.272Z"
   },
   {
    "duration": 394,
    "start_time": "2021-11-25T15:11:33.917Z"
   },
   {
    "duration": 1129,
    "start_time": "2021-11-25T15:11:53.421Z"
   },
   {
    "duration": 4,
    "start_time": "2021-11-25T15:12:02.285Z"
   },
   {
    "duration": 7,
    "start_time": "2021-11-25T15:12:03.143Z"
   },
   {
    "duration": 234,
    "start_time": "2021-11-25T15:14:30.423Z"
   },
   {
    "duration": 280,
    "start_time": "2021-11-25T15:14:32.142Z"
   },
   {
    "duration": 203,
    "start_time": "2021-11-25T15:14:34.781Z"
   },
   {
    "duration": 59,
    "start_time": "2021-11-25T15:14:41.888Z"
   },
   {
    "duration": 4,
    "start_time": "2021-11-25T15:28:44.973Z"
   },
   {
    "duration": 3,
    "start_time": "2021-11-25T15:28:46.619Z"
   },
   {
    "duration": 4,
    "start_time": "2021-11-25T15:28:47.765Z"
   },
   {
    "duration": 4,
    "start_time": "2021-11-25T15:28:58.574Z"
   },
   {
    "duration": 4,
    "start_time": "2021-11-25T15:28:58.804Z"
   },
   {
    "duration": 4,
    "start_time": "2021-11-25T15:28:59.332Z"
   },
   {
    "duration": 4,
    "start_time": "2021-11-25T15:29:02.064Z"
   },
   {
    "duration": 4,
    "start_time": "2021-11-25T15:29:03.600Z"
   },
   {
    "duration": 4,
    "start_time": "2021-11-25T15:29:09.085Z"
   },
   {
    "duration": 3,
    "start_time": "2021-11-25T15:29:34.947Z"
   },
   {
    "duration": 4,
    "start_time": "2021-11-25T15:29:35.640Z"
   },
   {
    "duration": 3,
    "start_time": "2021-11-25T15:29:36.187Z"
   },
   {
    "duration": 3,
    "start_time": "2021-11-25T15:29:43.009Z"
   },
   {
    "duration": 4,
    "start_time": "2021-11-25T15:29:43.618Z"
   },
   {
    "duration": 4,
    "start_time": "2021-11-25T15:29:43.885Z"
   },
   {
    "duration": 4,
    "start_time": "2021-11-25T15:29:49.688Z"
   },
   {
    "duration": 4,
    "start_time": "2021-11-25T15:29:50.431Z"
   },
   {
    "duration": 4,
    "start_time": "2021-11-25T15:29:51.011Z"
   },
   {
    "duration": 4,
    "start_time": "2021-11-25T15:29:51.399Z"
   },
   {
    "duration": 4,
    "start_time": "2021-11-25T15:29:51.859Z"
   },
   {
    "duration": 14,
    "start_time": "2021-11-25T15:30:22.521Z"
   },
   {
    "duration": 7,
    "start_time": "2021-11-25T15:35:46.558Z"
   },
   {
    "duration": 6,
    "start_time": "2021-11-25T15:36:27.486Z"
   },
   {
    "duration": 30,
    "start_time": "2021-11-25T15:39:46.871Z"
   },
   {
    "duration": 20,
    "start_time": "2021-11-25T15:40:44.484Z"
   },
   {
    "duration": 19,
    "start_time": "2021-11-25T15:41:03.452Z"
   },
   {
    "duration": 5,
    "start_time": "2021-11-25T15:43:04.215Z"
   },
   {
    "duration": 21,
    "start_time": "2021-11-25T15:43:28.959Z"
   },
   {
    "duration": 24,
    "start_time": "2021-11-25T15:45:41.375Z"
   },
   {
    "duration": 5,
    "start_time": "2021-11-25T15:45:42.950Z"
   },
   {
    "duration": 6,
    "start_time": "2021-11-25T15:46:09.760Z"
   },
   {
    "duration": 21,
    "start_time": "2021-11-25T15:46:38.992Z"
   },
   {
    "duration": 7,
    "start_time": "2021-11-25T15:46:41.044Z"
   },
   {
    "duration": 424,
    "start_time": "2021-11-25T15:47:23.462Z"
   },
   {
    "duration": 5,
    "start_time": "2021-11-25T15:47:34.275Z"
   },
   {
    "duration": 16,
    "start_time": "2021-11-25T15:47:46.668Z"
   },
   {
    "duration": 20,
    "start_time": "2021-11-25T15:47:48.722Z"
   },
   {
    "duration": 6,
    "start_time": "2021-11-25T15:47:49.312Z"
   },
   {
    "duration": 7,
    "start_time": "2021-11-25T15:48:39.323Z"
   },
   {
    "duration": 20,
    "start_time": "2021-11-25T15:49:39.562Z"
   },
   {
    "duration": 29,
    "start_time": "2021-11-25T15:49:41.372Z"
   },
   {
    "duration": 5,
    "start_time": "2021-11-25T15:49:42.365Z"
   },
   {
    "duration": 7,
    "start_time": "2021-11-25T15:50:47.929Z"
   },
   {
    "duration": 20,
    "start_time": "2021-11-25T15:50:54.636Z"
   },
   {
    "duration": 5,
    "start_time": "2021-11-25T15:50:57.040Z"
   },
   {
    "duration": 24,
    "start_time": "2021-11-25T15:51:31.562Z"
   },
   {
    "duration": 7,
    "start_time": "2021-11-25T15:51:33.310Z"
   },
   {
    "duration": 5,
    "start_time": "2021-11-25T15:51:57.495Z"
   },
   {
    "duration": 6,
    "start_time": "2021-11-25T15:51:59.008Z"
   },
   {
    "duration": 29,
    "start_time": "2021-11-25T15:53:04.813Z"
   },
   {
    "duration": 5,
    "start_time": "2021-11-25T15:53:08.541Z"
   },
   {
    "duration": 5,
    "start_time": "2021-11-25T15:53:20.352Z"
   },
   {
    "duration": 6,
    "start_time": "2021-11-25T15:53:24.779Z"
   },
   {
    "duration": 6,
    "start_time": "2021-11-25T15:53:33.956Z"
   },
   {
    "duration": 6,
    "start_time": "2021-11-25T15:53:34.915Z"
   },
   {
    "duration": 19,
    "start_time": "2021-11-25T15:53:46.151Z"
   },
   {
    "duration": 6,
    "start_time": "2021-11-25T15:53:48.770Z"
   },
   {
    "duration": 7,
    "start_time": "2021-11-25T15:55:14.736Z"
   },
   {
    "duration": 6,
    "start_time": "2021-11-25T16:20:11.993Z"
   },
   {
    "duration": 18,
    "start_time": "2021-11-25T16:20:14.786Z"
   },
   {
    "duration": 6,
    "start_time": "2021-11-25T16:20:20.346Z"
   },
   {
    "duration": 12,
    "start_time": "2021-11-25T16:20:53.581Z"
   },
   {
    "duration": 6,
    "start_time": "2021-11-25T16:20:55.211Z"
   },
   {
    "duration": 30,
    "start_time": "2021-11-25T16:28:38.948Z"
   },
   {
    "duration": 19,
    "start_time": "2021-11-25T16:35:00.396Z"
   },
   {
    "duration": 296,
    "start_time": "2021-11-25T16:52:39.651Z"
   },
   {
    "duration": 290,
    "start_time": "2021-11-25T16:53:00.397Z"
   },
   {
    "duration": 290,
    "start_time": "2021-11-25T16:53:17.087Z"
   },
   {
    "duration": 790,
    "start_time": "2021-11-25T16:54:11.152Z"
   },
   {
    "duration": 205,
    "start_time": "2021-11-25T16:58:13.517Z"
   },
   {
    "duration": 192,
    "start_time": "2021-11-25T16:58:21.616Z"
   },
   {
    "duration": 10056,
    "start_time": "2021-11-25T16:58:41.838Z"
   },
   {
    "duration": 207,
    "start_time": "2021-11-25T16:59:13.493Z"
   },
   {
    "duration": 9484,
    "start_time": "2021-11-25T16:59:18.465Z"
   },
   {
    "duration": 187,
    "start_time": "2021-11-25T17:02:06.520Z"
   },
   {
    "duration": 194,
    "start_time": "2021-11-25T17:02:34.221Z"
   },
   {
    "duration": 9621,
    "start_time": "2021-11-25T17:03:00.308Z"
   },
   {
    "duration": 357,
    "start_time": "2021-11-25T17:03:57.657Z"
   },
   {
    "duration": 409,
    "start_time": "2021-11-25T17:04:19.849Z"
   },
   {
    "duration": 409,
    "start_time": "2021-11-25T17:04:44.400Z"
   },
   {
    "duration": 8294,
    "start_time": "2021-11-25T17:05:48.783Z"
   },
   {
    "duration": 222,
    "start_time": "2021-11-25T17:06:10.994Z"
   },
   {
    "duration": 206,
    "start_time": "2021-11-25T17:06:21.508Z"
   },
   {
    "duration": 336,
    "start_time": "2021-11-25T17:18:29.987Z"
   },
   {
    "duration": 198,
    "start_time": "2021-11-25T17:18:59.327Z"
   },
   {
    "duration": 334,
    "start_time": "2021-11-25T17:19:02.088Z"
   },
   {
    "duration": 27,
    "start_time": "2021-11-25T17:20:02.864Z"
   },
   {
    "duration": 21,
    "start_time": "2021-11-25T17:20:05.264Z"
   },
   {
    "duration": 19,
    "start_time": "2021-11-25T17:20:57.928Z"
   },
   {
    "duration": 29,
    "start_time": "2021-11-25T17:22:24.259Z"
   },
   {
    "duration": 66,
    "start_time": "2021-11-25T17:24:18.592Z"
   },
   {
    "duration": 45,
    "start_time": "2021-11-25T17:27:49.293Z"
   },
   {
    "duration": 51,
    "start_time": "2021-11-25T17:28:58.994Z"
   },
   {
    "duration": 52,
    "start_time": "2021-11-25T17:29:08.692Z"
   },
   {
    "duration": 58,
    "start_time": "2021-11-25T17:29:09.978Z"
   },
   {
    "duration": 62,
    "start_time": "2021-11-25T17:29:44.939Z"
   },
   {
    "duration": 409,
    "start_time": "2021-11-25T17:39:46.684Z"
   },
   {
    "duration": 339,
    "start_time": "2021-11-25T17:45:01.333Z"
   },
   {
    "duration": 353,
    "start_time": "2021-11-25T17:47:18.400Z"
   },
   {
    "duration": 424,
    "start_time": "2021-11-25T17:47:43.624Z"
   },
   {
    "duration": 342,
    "start_time": "2021-11-25T17:50:32.824Z"
   },
   {
    "duration": 373,
    "start_time": "2021-11-25T17:51:17.795Z"
   },
   {
    "duration": 54,
    "start_time": "2021-11-25T17:52:14.739Z"
   },
   {
    "duration": 116,
    "start_time": "2021-11-25T18:09:50.327Z"
   },
   {
    "duration": 96,
    "start_time": "2021-11-25T18:10:15.331Z"
   },
   {
    "duration": 99,
    "start_time": "2021-11-25T18:11:09.264Z"
   },
   {
    "duration": 4,
    "start_time": "2021-11-25T18:12:17.700Z"
   },
   {
    "duration": 112,
    "start_time": "2021-11-25T18:12:21.517Z"
   },
   {
    "duration": 234,
    "start_time": "2021-11-25T18:12:43.224Z"
   },
   {
    "duration": 7,
    "start_time": "2021-11-25T18:13:42.643Z"
   },
   {
    "duration": 9,
    "start_time": "2021-11-25T18:17:45.768Z"
   },
   {
    "duration": 5,
    "start_time": "2021-11-25T18:19:22.306Z"
   },
   {
    "duration": 8278,
    "start_time": "2021-11-25T18:19:24.287Z"
   },
   {
    "duration": 236,
    "start_time": "2021-11-25T18:19:43.913Z"
   },
   {
    "duration": 9,
    "start_time": "2021-11-25T18:19:52.221Z"
   },
   {
    "duration": 101,
    "start_time": "2021-11-25T18:20:08.478Z"
   },
   {
    "duration": 90,
    "start_time": "2021-11-25T18:20:16.868Z"
   },
   {
    "duration": 434,
    "start_time": "2021-11-25T18:20:29.464Z"
   },
   {
    "duration": 181,
    "start_time": "2021-11-25T18:20:48.887Z"
   },
   {
    "duration": 96,
    "start_time": "2021-11-25T18:20:57.927Z"
   },
   {
    "duration": 105,
    "start_time": "2021-11-25T18:21:06.458Z"
   },
   {
    "duration": 217,
    "start_time": "2021-11-25T18:22:01.535Z"
   },
   {
    "duration": 226,
    "start_time": "2021-11-25T18:22:24.696Z"
   },
   {
    "duration": 9,
    "start_time": "2021-11-25T18:22:34.247Z"
   },
   {
    "duration": 201,
    "start_time": "2021-11-25T18:23:18.894Z"
   },
   {
    "duration": 13,
    "start_time": "2021-11-25T18:23:24.984Z"
   },
   {
    "duration": 243,
    "start_time": "2021-11-25T18:25:24.710Z"
   },
   {
    "duration": 5,
    "start_time": "2021-11-25T18:25:43.807Z"
   },
   {
    "duration": 8707,
    "start_time": "2021-11-25T18:25:56.903Z"
   },
   {
    "duration": 243,
    "start_time": "2021-11-25T18:26:58.973Z"
   },
   {
    "duration": 219,
    "start_time": "2021-11-25T18:26:59.000Z"
   },
   {
    "duration": 9,
    "start_time": "2021-11-25T18:27:01.615Z"
   },
   {
    "duration": 4,
    "start_time": "2021-11-25T18:27:32.232Z"
   },
   {
    "duration": 7902,
    "start_time": "2021-11-25T18:27:34.352Z"
   },
   {
    "duration": 4,
    "start_time": "2021-11-25T18:29:08.321Z"
   },
   {
    "duration": 4,
    "start_time": "2021-11-25T18:29:09.564Z"
   },
   {
    "duration": 245,
    "start_time": "2021-11-25T18:29:38.905Z"
   },
   {
    "duration": -4697,
    "start_time": "2021-11-25T18:31:41.875Z"
   },
   {
    "duration": 234,
    "start_time": "2021-11-25T18:32:15.590Z"
   },
   {
    "duration": 214,
    "start_time": "2021-11-25T18:32:26.137Z"
   },
   {
    "duration": 240,
    "start_time": "2021-11-25T18:32:35.329Z"
   },
   {
    "duration": 7406,
    "start_time": "2021-11-25T18:32:39.572Z"
   },
   {
    "duration": 5,
    "start_time": "2021-11-25T18:37:06.788Z"
   },
   {
    "duration": 14,
    "start_time": "2021-11-25T18:37:15.496Z"
   },
   {
    "duration": 14,
    "start_time": "2021-11-25T18:37:19.032Z"
   },
   {
    "duration": 4,
    "start_time": "2021-11-25T18:37:23.623Z"
   },
   {
    "duration": 13,
    "start_time": "2021-11-25T18:37:25.180Z"
   },
   {
    "duration": 12,
    "start_time": "2021-11-25T18:37:29.756Z"
   },
   {
    "duration": 291,
    "start_time": "2021-11-25T19:09:41.014Z"
   },
   {
    "duration": 303,
    "start_time": "2021-11-25T19:15:23.389Z"
   },
   {
    "duration": 293,
    "start_time": "2021-11-25T19:15:41.404Z"
   },
   {
    "duration": 15,
    "start_time": "2021-11-25T19:16:47.775Z"
   },
   {
    "duration": 195,
    "start_time": "2021-11-25T19:17:08.795Z"
   },
   {
    "duration": 15,
    "start_time": "2021-11-25T19:17:10.784Z"
   },
   {
    "duration": 260,
    "start_time": "2021-11-25T19:33:07.829Z"
   },
   {
    "duration": 255,
    "start_time": "2021-11-25T19:34:27.051Z"
   },
   {
    "duration": 7910,
    "start_time": "2021-11-25T19:34:27.362Z"
   },
   {
    "duration": 315,
    "start_time": "2021-11-25T20:04:48.121Z"
   },
   {
    "duration": 287,
    "start_time": "2021-11-25T20:09:44.151Z"
   },
   {
    "duration": 307,
    "start_time": "2021-11-25T20:09:47.479Z"
   },
   {
    "duration": 314,
    "start_time": "2021-11-25T20:09:49.394Z"
   },
   {
    "duration": 315,
    "start_time": "2021-11-25T20:12:38.393Z"
   },
   {
    "duration": 292,
    "start_time": "2021-11-25T20:13:09.299Z"
   },
   {
    "duration": 264,
    "start_time": "2021-11-25T20:16:39.275Z"
   },
   {
    "duration": 349,
    "start_time": "2021-11-25T20:50:03.660Z"
   },
   {
    "duration": 388,
    "start_time": "2021-11-25T21:09:01.504Z"
   },
   {
    "duration": 337,
    "start_time": "2021-11-25T21:14:47.254Z"
   },
   {
    "duration": 389,
    "start_time": "2021-11-25T21:16:53.615Z"
   },
   {
    "duration": 401,
    "start_time": "2021-11-25T21:17:44.713Z"
   },
   {
    "duration": 424,
    "start_time": "2021-11-25T21:17:48.009Z"
   },
   {
    "duration": 1168,
    "start_time": "2021-11-25T21:18:00.502Z"
   },
   {
    "duration": 1566,
    "start_time": "2021-11-25T21:20:31.838Z"
   },
   {
    "duration": 352,
    "start_time": "2021-11-25T21:20:59.789Z"
   },
   {
    "duration": 323,
    "start_time": "2021-11-25T21:21:12.849Z"
   },
   {
    "duration": 363,
    "start_time": "2021-11-25T21:21:48.573Z"
   },
   {
    "duration": 210,
    "start_time": "2021-11-26T04:49:59.674Z"
   },
   {
    "duration": 180,
    "start_time": "2021-11-26T04:51:30.754Z"
   },
   {
    "duration": 500,
    "start_time": "2021-11-26T04:51:35.239Z"
   },
   {
    "duration": 223,
    "start_time": "2021-11-26T04:51:37.874Z"
   },
   {
    "duration": 3,
    "start_time": "2021-11-26T04:51:51.579Z"
   },
   {
    "duration": 3,
    "start_time": "2021-11-26T04:51:54.147Z"
   },
   {
    "duration": 142,
    "start_time": "2021-11-26T04:52:00.022Z"
   },
   {
    "duration": 154,
    "start_time": "2021-11-26T04:52:02.467Z"
   },
   {
    "duration": 177,
    "start_time": "2021-11-26T04:52:13.964Z"
   },
   {
    "duration": 181,
    "start_time": "2021-11-26T04:54:08.225Z"
   },
   {
    "duration": 457,
    "start_time": "2021-11-26T04:55:43.871Z"
   },
   {
    "duration": 166,
    "start_time": "2021-11-26T04:55:50.948Z"
   },
   {
    "duration": 458,
    "start_time": "2021-11-26T04:55:59.186Z"
   },
   {
    "duration": 163,
    "start_time": "2021-11-26T04:56:23.147Z"
   },
   {
    "duration": 729,
    "start_time": "2021-11-26T04:56:39.096Z"
   },
   {
    "duration": 162,
    "start_time": "2021-11-26T04:56:56.653Z"
   },
   {
    "duration": 167,
    "start_time": "2021-11-26T04:58:48.626Z"
   },
   {
    "duration": 182,
    "start_time": "2021-11-26T05:12:26.507Z"
   },
   {
    "duration": 167,
    "start_time": "2021-11-26T05:16:28.561Z"
   },
   {
    "duration": 680,
    "start_time": "2021-11-26T05:16:46.992Z"
   },
   {
    "duration": 199,
    "start_time": "2021-11-26T05:16:48.924Z"
   },
   {
    "duration": 163,
    "start_time": "2021-11-26T05:17:07.939Z"
   },
   {
    "duration": 172,
    "start_time": "2021-11-26T05:17:23.311Z"
   },
   {
    "duration": 166,
    "start_time": "2021-11-26T05:17:25.240Z"
   },
   {
    "duration": 238,
    "start_time": "2021-11-26T05:17:32.408Z"
   },
   {
    "duration": 11,
    "start_time": "2021-11-26T05:17:57.723Z"
   },
   {
    "duration": 169,
    "start_time": "2021-11-26T05:19:10.376Z"
   },
   {
    "duration": 176,
    "start_time": "2021-11-26T05:21:09.185Z"
   },
   {
    "duration": 176,
    "start_time": "2021-11-26T05:34:16.046Z"
   },
   {
    "duration": 171,
    "start_time": "2021-11-26T05:34:31.511Z"
   },
   {
    "duration": 169,
    "start_time": "2021-11-26T05:35:09.016Z"
   },
   {
    "duration": 174,
    "start_time": "2021-11-26T05:36:15.508Z"
   },
   {
    "duration": 180,
    "start_time": "2021-11-26T05:36:53.402Z"
   },
   {
    "duration": 166,
    "start_time": "2021-11-26T05:42:26.476Z"
   },
   {
    "duration": 3,
    "start_time": "2021-11-26T05:42:59.213Z"
   },
   {
    "duration": 4,
    "start_time": "2021-11-26T05:43:00.890Z"
   },
   {
    "duration": 4,
    "start_time": "2021-11-26T05:43:02.394Z"
   },
   {
    "duration": 4,
    "start_time": "2021-11-26T05:43:03.530Z"
   },
   {
    "duration": 4,
    "start_time": "2021-11-26T05:43:04.119Z"
   },
   {
    "duration": 4,
    "start_time": "2021-11-26T05:43:04.729Z"
   },
   {
    "duration": 5,
    "start_time": "2021-11-26T05:43:22.471Z"
   },
   {
    "duration": 170,
    "start_time": "2021-11-26T05:43:34.975Z"
   },
   {
    "duration": 174,
    "start_time": "2021-11-26T05:55:14.730Z"
   },
   {
    "duration": 225,
    "start_time": "2021-11-26T05:55:23.582Z"
   },
   {
    "duration": 59,
    "start_time": "2021-11-26T05:55:25.982Z"
   },
   {
    "duration": 198,
    "start_time": "2021-11-26T05:57:12.836Z"
   },
   {
    "duration": 181,
    "start_time": "2021-11-26T05:57:36.053Z"
   },
   {
    "duration": 181,
    "start_time": "2021-11-26T05:57:49.291Z"
   },
   {
    "duration": 169,
    "start_time": "2021-11-26T05:57:55.022Z"
   },
   {
    "duration": 129,
    "start_time": "2021-11-26T05:58:17.169Z"
   },
   {
    "duration": 134,
    "start_time": "2021-11-26T05:58:19.713Z"
   },
   {
    "duration": 131,
    "start_time": "2021-11-26T05:58:20.802Z"
   },
   {
    "duration": 128,
    "start_time": "2021-11-26T05:58:22.130Z"
   },
   {
    "duration": 2,
    "start_time": "2021-11-26T05:58:24.235Z"
   },
   {
    "duration": 3,
    "start_time": "2021-11-26T05:59:06.356Z"
   },
   {
    "duration": 185,
    "start_time": "2021-11-26T05:59:11.856Z"
   },
   {
    "duration": 171,
    "start_time": "2021-11-26T05:59:20.988Z"
   },
   {
    "duration": 179,
    "start_time": "2021-11-26T06:12:05.704Z"
   },
   {
    "duration": 169,
    "start_time": "2021-11-26T06:12:25.345Z"
   },
   {
    "duration": 173,
    "start_time": "2021-11-26T06:14:04.060Z"
   },
   {
    "duration": 131,
    "start_time": "2021-11-26T06:14:16.521Z"
   },
   {
    "duration": 12,
    "start_time": "2021-11-26T06:14:18.018Z"
   },
   {
    "duration": 132,
    "start_time": "2021-11-26T06:14:19.693Z"
   },
   {
    "duration": 134,
    "start_time": "2021-11-26T06:14:20.597Z"
   },
   {
    "duration": 2,
    "start_time": "2021-11-26T06:14:22.289Z"
   },
   {
    "duration": 174,
    "start_time": "2021-11-26T06:14:24.247Z"
   },
   {
    "duration": 176,
    "start_time": "2021-11-26T06:15:56.433Z"
   },
   {
    "duration": 216,
    "start_time": "2021-11-26T06:55:15.198Z"
   },
   {
    "duration": 202,
    "start_time": "2021-11-26T06:55:29.457Z"
   },
   {
    "duration": 194,
    "start_time": "2021-11-26T06:55:45.981Z"
   },
   {
    "duration": 16,
    "start_time": "2021-11-26T06:57:54.549Z"
   },
   {
    "duration": 12,
    "start_time": "2021-11-26T06:57:58.068Z"
   },
   {
    "duration": 172,
    "start_time": "2021-11-26T07:00:04.301Z"
   },
   {
    "duration": 172,
    "start_time": "2021-11-26T07:00:15.707Z"
   },
   {
    "duration": 218,
    "start_time": "2021-11-26T07:02:29.585Z"
   },
   {
    "duration": 179,
    "start_time": "2021-11-26T07:04:10.852Z"
   },
   {
    "duration": 4,
    "start_time": "2021-11-26T07:05:57.408Z"
   },
   {
    "duration": 11,
    "start_time": "2021-11-26T07:06:34.304Z"
   },
   {
    "duration": 4,
    "start_time": "2021-11-26T07:06:36.427Z"
   },
   {
    "duration": 5,
    "start_time": "2021-11-26T07:06:37.348Z"
   },
   {
    "duration": 17,
    "start_time": "2021-11-26T07:06:44.876Z"
   },
   {
    "duration": 174,
    "start_time": "2021-11-26T07:06:46.396Z"
   },
   {
    "duration": 7,
    "start_time": "2021-11-26T07:07:16.523Z"
   },
   {
    "duration": 10,
    "start_time": "2021-11-26T07:07:18.490Z"
   },
   {
    "duration": 4,
    "start_time": "2021-11-26T07:07:19.983Z"
   },
   {
    "duration": 508,
    "start_time": "2021-11-26T07:08:04.383Z"
   },
   {
    "duration": 172,
    "start_time": "2021-11-26T07:08:06.565Z"
   },
   {
    "duration": 326,
    "start_time": "2021-11-26T07:12:38.397Z"
   },
   {
    "duration": 7,
    "start_time": "2021-11-26T07:17:06.455Z"
   },
   {
    "duration": 197,
    "start_time": "2021-11-26T07:20:24.419Z"
   },
   {
    "duration": 190,
    "start_time": "2021-11-26T07:20:25.256Z"
   },
   {
    "duration": 183,
    "start_time": "2021-11-26T07:20:46.351Z"
   },
   {
    "duration": 182,
    "start_time": "2021-11-26T07:22:45.246Z"
   },
   {
    "duration": 4,
    "start_time": "2021-11-26T07:23:20.788Z"
   },
   {
    "duration": 11,
    "start_time": "2021-11-26T07:23:24.467Z"
   },
   {
    "duration": 8,
    "start_time": "2021-11-26T07:23:26.148Z"
   },
   {
    "duration": 3,
    "start_time": "2021-11-26T07:23:27.851Z"
   },
   {
    "duration": 182,
    "start_time": "2021-11-26T07:23:35.445Z"
   },
   {
    "duration": 175,
    "start_time": "2021-11-26T07:23:46.252Z"
   },
   {
    "duration": 191,
    "start_time": "2021-11-26T07:24:23.064Z"
   },
   {
    "duration": 165,
    "start_time": "2021-11-26T07:24:24.754Z"
   },
   {
    "duration": 8,
    "start_time": "2021-11-26T07:28:03.970Z"
   },
   {
    "duration": 4,
    "start_time": "2021-11-26T07:28:10.672Z"
   },
   {
    "duration": 11,
    "start_time": "2021-11-26T07:28:14.612Z"
   },
   {
    "duration": 4,
    "start_time": "2021-11-26T07:28:16.339Z"
   },
   {
    "duration": 187,
    "start_time": "2021-11-26T07:28:32.941Z"
   },
   {
    "duration": 188,
    "start_time": "2021-11-26T07:28:37.341Z"
   },
   {
    "duration": 166,
    "start_time": "2021-11-26T07:28:45.363Z"
   },
   {
    "duration": 183,
    "start_time": "2021-11-26T07:30:08.500Z"
   },
   {
    "duration": 7,
    "start_time": "2021-11-26T07:31:36.126Z"
   },
   {
    "duration": 15,
    "start_time": "2021-11-26T07:32:18.273Z"
   },
   {
    "duration": 170,
    "start_time": "2021-11-26T07:32:25.077Z"
   },
   {
    "duration": 543,
    "start_time": "2021-11-26T07:32:26.087Z"
   },
   {
    "duration": 177,
    "start_time": "2021-11-26T07:32:28.028Z"
   },
   {
    "duration": 7,
    "start_time": "2021-11-26T07:34:34.856Z"
   },
   {
    "duration": 171,
    "start_time": "2021-11-26T07:34:41.698Z"
   },
   {
    "duration": 171,
    "start_time": "2021-11-26T07:34:42.795Z"
   },
   {
    "duration": 7,
    "start_time": "2021-11-26T07:35:24.758Z"
   },
   {
    "duration": 3,
    "start_time": "2021-11-26T07:35:33.904Z"
   },
   {
    "duration": 134,
    "start_time": "2021-11-26T07:35:34.770Z"
   },
   {
    "duration": 11,
    "start_time": "2021-11-26T07:35:35.847Z"
   },
   {
    "duration": 24,
    "start_time": "2021-11-26T07:35:41.010Z"
   },
   {
    "duration": 10,
    "start_time": "2021-11-26T07:35:46.275Z"
   },
   {
    "duration": 22,
    "start_time": "2021-11-26T07:35:50.079Z"
   },
   {
    "duration": 3,
    "start_time": "2021-11-26T07:35:51.413Z"
   },
   {
    "duration": 4,
    "start_time": "2021-11-26T07:36:16.628Z"
   },
   {
    "duration": 4,
    "start_time": "2021-11-26T07:36:20.850Z"
   },
   {
    "duration": 207,
    "start_time": "2021-11-26T07:38:11.978Z"
   },
   {
    "duration": 539,
    "start_time": "2021-11-26T07:38:19.103Z"
   },
   {
    "duration": 134,
    "start_time": "2021-11-26T07:38:20.408Z"
   },
   {
    "duration": 15,
    "start_time": "2021-11-26T07:38:21.778Z"
   },
   {
    "duration": 25,
    "start_time": "2021-11-26T07:38:26.984Z"
   },
   {
    "duration": 4,
    "start_time": "2021-11-26T07:38:32.983Z"
   },
   {
    "duration": 19,
    "start_time": "2021-11-26T07:38:35.355Z"
   },
   {
    "duration": 4,
    "start_time": "2021-11-26T07:38:37.150Z"
   },
   {
    "duration": 4,
    "start_time": "2021-11-26T07:38:38.173Z"
   },
   {
    "duration": 4,
    "start_time": "2021-11-26T07:39:10.842Z"
   },
   {
    "duration": 19,
    "start_time": "2021-11-26T07:39:12.945Z"
   },
   {
    "duration": 15,
    "start_time": "2021-11-26T07:39:13.954Z"
   },
   {
    "duration": 134,
    "start_time": "2021-11-26T07:39:19.538Z"
   },
   {
    "duration": 144,
    "start_time": "2021-11-26T07:39:20.600Z"
   },
   {
    "duration": 10,
    "start_time": "2021-11-26T07:39:22.094Z"
   },
   {
    "duration": 11,
    "start_time": "2021-11-26T07:39:22.876Z"
   },
   {
    "duration": 25,
    "start_time": "2021-11-26T07:39:27.233Z"
   },
   {
    "duration": 8,
    "start_time": "2021-11-26T07:39:32.604Z"
   },
   {
    "duration": 16,
    "start_time": "2021-11-26T07:39:34.541Z"
   },
   {
    "duration": 14,
    "start_time": "2021-11-26T07:39:35.885Z"
   },
   {
    "duration": 4,
    "start_time": "2021-11-26T07:39:39.910Z"
   },
   {
    "duration": 47,
    "start_time": "2021-11-26T07:40:00.694Z"
   },
   {
    "duration": 51,
    "start_time": "2021-11-26T07:40:03.742Z"
   },
   {
    "duration": 49,
    "start_time": "2021-11-26T07:40:05.340Z"
   },
   {
    "duration": 517,
    "start_time": "2021-11-26T07:40:28.332Z"
   },
   {
    "duration": 135,
    "start_time": "2021-11-26T07:40:29.721Z"
   },
   {
    "duration": 17,
    "start_time": "2021-11-26T07:40:31.562Z"
   },
   {
    "duration": 24,
    "start_time": "2021-11-26T07:40:33.294Z"
   },
   {
    "duration": 10,
    "start_time": "2021-11-26T07:40:36.351Z"
   },
   {
    "duration": 19,
    "start_time": "2021-11-26T07:40:36.901Z"
   },
   {
    "duration": 5,
    "start_time": "2021-11-26T07:40:38.087Z"
   },
   {
    "duration": 19,
    "start_time": "2021-11-26T07:40:39.527Z"
   },
   {
    "duration": 16,
    "start_time": "2021-11-26T07:40:41.457Z"
   },
   {
    "duration": 19,
    "start_time": "2021-11-26T07:40:42.611Z"
   },
   {
    "duration": 45,
    "start_time": "2021-11-26T07:40:43.703Z"
   },
   {
    "duration": 52,
    "start_time": "2021-11-26T07:40:44.640Z"
   },
   {
    "duration": 38,
    "start_time": "2021-11-26T07:40:45.417Z"
   },
   {
    "duration": 46,
    "start_time": "2021-11-26T07:40:46.392Z"
   },
   {
    "duration": 2,
    "start_time": "2021-11-26T07:40:46.965Z"
   },
   {
    "duration": 245,
    "start_time": "2021-11-26T07:40:47.586Z"
   },
   {
    "duration": 6,
    "start_time": "2021-11-26T07:40:48.034Z"
   },
   {
    "duration": 173,
    "start_time": "2021-11-26T07:40:49.991Z"
   },
   {
    "duration": 518,
    "start_time": "2021-11-26T07:45:41.958Z"
   },
   {
    "duration": 136,
    "start_time": "2021-11-26T07:45:43.652Z"
   },
   {
    "duration": 17,
    "start_time": "2021-11-26T07:45:46.191Z"
   },
   {
    "duration": 10,
    "start_time": "2021-11-26T07:46:04.641Z"
   },
   {
    "duration": 5,
    "start_time": "2021-11-26T07:46:14.227Z"
   },
   {
    "duration": 4,
    "start_time": "2021-11-26T07:46:20.988Z"
   },
   {
    "duration": 16,
    "start_time": "2021-11-26T07:46:44.932Z"
   },
   {
    "duration": 17,
    "start_time": "2021-11-26T07:49:20.943Z"
   },
   {
    "duration": 19,
    "start_time": "2021-11-26T07:49:27.558Z"
   },
   {
    "duration": 16,
    "start_time": "2021-11-26T07:49:29.472Z"
   },
   {
    "duration": 16,
    "start_time": "2021-11-26T07:49:30.747Z"
   },
   {
    "duration": 2,
    "start_time": "2021-11-26T07:49:41.473Z"
   },
   {
    "duration": 136,
    "start_time": "2021-11-26T07:49:43.171Z"
   },
   {
    "duration": 10,
    "start_time": "2021-11-26T07:49:44.806Z"
   },
   {
    "duration": 8,
    "start_time": "2021-11-26T07:49:52.743Z"
   },
   {
    "duration": 18,
    "start_time": "2021-11-26T07:49:56.620Z"
   },
   {
    "duration": 15,
    "start_time": "2021-11-26T07:49:58.065Z"
   },
   {
    "duration": 221,
    "start_time": "2021-11-26T07:52:43.394Z"
   },
   {
    "duration": 4,
    "start_time": "2021-11-26T07:53:12.864Z"
   },
   {
    "duration": 13,
    "start_time": "2021-11-26T07:53:16.401Z"
   },
   {
    "duration": 17,
    "start_time": "2021-11-26T07:53:21.987Z"
   },
   {
    "duration": 18,
    "start_time": "2021-11-26T07:53:23.788Z"
   },
   {
    "duration": 3,
    "start_time": "2021-11-26T07:53:40.049Z"
   },
   {
    "duration": 126,
    "start_time": "2021-11-26T07:53:41.783Z"
   },
   {
    "duration": 10,
    "start_time": "2021-11-26T07:53:43.472Z"
   },
   {
    "duration": 23,
    "start_time": "2021-11-26T07:53:47.993Z"
   },
   {
    "duration": 5,
    "start_time": "2021-11-26T07:53:52.729Z"
   },
   {
    "duration": 15,
    "start_time": "2021-11-26T07:53:59.411Z"
   },
   {
    "duration": 13,
    "start_time": "2021-11-26T07:54:00.788Z"
   },
   {
    "duration": 19,
    "start_time": "2021-11-26T07:54:09.313Z"
   },
   {
    "duration": 17,
    "start_time": "2021-11-26T07:54:10.374Z"
   },
   {
    "duration": 25,
    "start_time": "2021-11-26T07:54:14.149Z"
   },
   {
    "duration": 56,
    "start_time": "2021-11-26T07:54:16.365Z"
   },
   {
    "duration": 68,
    "start_time": "2021-11-26T07:54:18.599Z"
   },
   {
    "duration": 51,
    "start_time": "2021-11-26T07:54:24.279Z"
   },
   {
    "duration": 4,
    "start_time": "2021-11-26T07:54:30.535Z"
   },
   {
    "duration": 186,
    "start_time": "2021-11-26T07:54:31.746Z"
   },
   {
    "duration": 6,
    "start_time": "2021-11-26T07:54:41.593Z"
   },
   {
    "duration": 186,
    "start_time": "2021-11-26T07:54:47.713Z"
   },
   {
    "duration": 168,
    "start_time": "2021-11-26T07:54:48.850Z"
   },
   {
    "duration": 175,
    "start_time": "2021-11-26T07:54:49.765Z"
   },
   {
    "duration": 168,
    "start_time": "2021-11-26T07:56:11.991Z"
   },
   {
    "duration": 174,
    "start_time": "2021-11-26T07:56:13.107Z"
   },
   {
    "duration": 5,
    "start_time": "2021-11-26T07:59:47.957Z"
   },
   {
    "duration": 21,
    "start_time": "2021-11-26T07:59:50.584Z"
   },
   {
    "duration": 13,
    "start_time": "2021-11-26T07:59:52.074Z"
   },
   {
    "duration": 6,
    "start_time": "2021-11-26T08:00:07.277Z"
   },
   {
    "duration": 256,
    "start_time": "2021-11-26T08:00:13.202Z"
   },
   {
    "duration": 2,
    "start_time": "2021-11-26T08:01:11.550Z"
   },
   {
    "duration": 131,
    "start_time": "2021-11-26T08:01:12.257Z"
   },
   {
    "duration": 10,
    "start_time": "2021-11-26T08:01:13.347Z"
   },
   {
    "duration": 24,
    "start_time": "2021-11-26T08:01:16.335Z"
   },
   {
    "duration": 4,
    "start_time": "2021-11-26T08:01:20.869Z"
   },
   {
    "duration": 21,
    "start_time": "2021-11-26T08:01:25.280Z"
   },
   {
    "duration": 13,
    "start_time": "2021-11-26T08:01:26.576Z"
   },
   {
    "duration": 33,
    "start_time": "2021-11-26T08:01:38.103Z"
   },
   {
    "duration": 16,
    "start_time": "2021-11-26T08:01:39.848Z"
   },
   {
    "duration": 22,
    "start_time": "2021-11-26T08:01:43.629Z"
   },
   {
    "duration": 54,
    "start_time": "2021-11-26T08:01:44.979Z"
   },
   {
    "duration": 61,
    "start_time": "2021-11-26T08:01:48.625Z"
   },
   {
    "duration": 49,
    "start_time": "2021-11-26T08:01:49.586Z"
   },
   {
    "duration": 51,
    "start_time": "2021-11-26T08:01:53.560Z"
   },
   {
    "duration": 3,
    "start_time": "2021-11-26T08:01:58.472Z"
   },
   {
    "duration": 182,
    "start_time": "2021-11-26T08:02:00.050Z"
   },
   {
    "duration": 7,
    "start_time": "2021-11-26T08:02:14.927Z"
   },
   {
    "duration": 177,
    "start_time": "2021-11-26T08:02:20.128Z"
   },
   {
    "duration": 4,
    "start_time": "2021-11-26T08:03:58.540Z"
   },
   {
    "duration": 4,
    "start_time": "2021-11-26T08:03:59.901Z"
   },
   {
    "duration": 4,
    "start_time": "2021-11-26T08:04:00.570Z"
   },
   {
    "duration": 24,
    "start_time": "2021-11-26T08:04:02.631Z"
   },
   {
    "duration": 14,
    "start_time": "2021-11-26T08:04:05.270Z"
   },
   {
    "duration": 4,
    "start_time": "2021-11-26T08:04:24.115Z"
   },
   {
    "duration": 208,
    "start_time": "2021-11-26T08:04:33.526Z"
   },
   {
    "duration": 536,
    "start_time": "2021-11-26T08:04:57.410Z"
   },
   {
    "duration": 131,
    "start_time": "2021-11-26T08:04:58.597Z"
   },
   {
    "duration": 18,
    "start_time": "2021-11-26T08:05:00.037Z"
   },
   {
    "duration": 24,
    "start_time": "2021-11-26T08:05:08.408Z"
   },
   {
    "duration": 5,
    "start_time": "2021-11-26T08:05:20.907Z"
   },
   {
    "duration": 22,
    "start_time": "2021-11-26T08:05:28.670Z"
   },
   {
    "duration": 12,
    "start_time": "2021-11-26T08:05:31.079Z"
   },
   {
    "duration": 22,
    "start_time": "2021-11-26T08:05:38.370Z"
   },
   {
    "duration": 16,
    "start_time": "2021-11-26T08:05:44.545Z"
   },
   {
    "duration": 22,
    "start_time": "2021-11-26T08:05:49.692Z"
   },
   {
    "duration": 51,
    "start_time": "2021-11-26T08:05:51.577Z"
   },
   {
    "duration": 67,
    "start_time": "2021-11-26T08:05:55.690Z"
   },
   {
    "duration": 51,
    "start_time": "2021-11-26T08:05:57.521Z"
   },
   {
    "duration": 48,
    "start_time": "2021-11-26T08:06:01.312Z"
   },
   {
    "duration": 3,
    "start_time": "2021-11-26T08:06:06.084Z"
   },
   {
    "duration": 189,
    "start_time": "2021-11-26T08:06:07.340Z"
   },
   {
    "duration": 7,
    "start_time": "2021-11-26T08:06:22.733Z"
   },
   {
    "duration": 183,
    "start_time": "2021-11-26T08:06:28.981Z"
   },
   {
    "duration": 1247,
    "start_time": "2021-11-26T08:10:20.263Z"
   },
   {
    "duration": 4,
    "start_time": "2021-11-26T08:10:28.471Z"
   },
   {
    "duration": 13,
    "start_time": "2021-11-26T08:10:42.155Z"
   },
   {
    "duration": 1346,
    "start_time": "2021-11-26T08:12:18.760Z"
   },
   {
    "duration": 1255,
    "start_time": "2021-11-26T08:12:28.307Z"
   },
   {
    "duration": 1256,
    "start_time": "2021-11-26T08:14:25.087Z"
   },
   {
    "duration": 552,
    "start_time": "2021-11-26T08:14:27.486Z"
   },
   {
    "duration": 178,
    "start_time": "2021-11-26T08:14:44.383Z"
   },
   {
    "duration": 135,
    "start_time": "2021-11-26T08:15:17.960Z"
   },
   {
    "duration": 10,
    "start_time": "2021-11-26T08:15:19.030Z"
   },
   {
    "duration": 23,
    "start_time": "2021-11-26T08:15:21.308Z"
   },
   {
    "duration": 4,
    "start_time": "2021-11-26T08:15:28.857Z"
   },
   {
    "duration": 549,
    "start_time": "2021-11-26T08:15:35.401Z"
   },
   {
    "duration": 12,
    "start_time": "2021-11-26T08:15:42.223Z"
   },
   {
    "duration": 4171,
    "start_time": "2021-11-26T08:15:47.597Z"
   },
   {
    "duration": 50,
    "start_time": "2021-11-26T08:15:52.740Z"
   },
   {
    "duration": 3,
    "start_time": "2021-11-26T08:15:56.597Z"
   },
   {
    "duration": 168,
    "start_time": "2021-11-26T08:15:57.716Z"
   },
   {
    "duration": 7,
    "start_time": "2021-11-26T08:16:03.500Z"
   },
   {
    "duration": 178,
    "start_time": "2021-11-26T08:16:10.827Z"
   },
   {
    "duration": 201,
    "start_time": "2021-11-26T08:19:13.900Z"
   },
   {
    "duration": 168,
    "start_time": "2021-11-26T08:19:20.741Z"
   },
   {
    "duration": 182,
    "start_time": "2021-11-26T08:19:30.146Z"
   },
   {
    "duration": 217,
    "start_time": "2021-11-26T08:20:10.190Z"
   },
   {
    "duration": 168,
    "start_time": "2021-11-26T08:20:12.369Z"
   },
   {
    "duration": 184,
    "start_time": "2021-11-26T08:20:20.227Z"
   },
   {
    "duration": 552,
    "start_time": "2021-11-26T08:20:29.862Z"
   },
   {
    "duration": 560,
    "start_time": "2021-11-26T08:20:38.482Z"
   },
   {
    "duration": 130,
    "start_time": "2021-11-26T08:20:40.738Z"
   },
   {
    "duration": 17,
    "start_time": "2021-11-26T08:20:42.317Z"
   },
   {
    "duration": 27,
    "start_time": "2021-11-26T08:20:46.832Z"
   },
   {
    "duration": 4,
    "start_time": "2021-11-26T08:20:53.468Z"
   },
   {
    "duration": 1320,
    "start_time": "2021-11-26T08:20:57.943Z"
   },
   {
    "duration": 23,
    "start_time": "2021-11-26T08:21:26.832Z"
   },
   {
    "duration": 14,
    "start_time": "2021-11-26T08:21:29.091Z"
   },
   {
    "duration": 23,
    "start_time": "2021-11-26T08:21:36.719Z"
   },
   {
    "duration": 17,
    "start_time": "2021-11-26T08:21:41.608Z"
   },
   {
    "duration": 23,
    "start_time": "2021-11-26T08:21:45.006Z"
   },
   {
    "duration": 22,
    "start_time": "2021-11-26T08:21:45.092Z"
   },
   {
    "duration": 54,
    "start_time": "2021-11-26T08:21:50.877Z"
   },
   {
    "duration": 69,
    "start_time": "2021-11-26T08:21:53.623Z"
   },
   {
    "duration": 54,
    "start_time": "2021-11-26T08:21:56.497Z"
   },
   {
    "duration": 47,
    "start_time": "2021-11-26T08:22:00.876Z"
   },
   {
    "duration": 3,
    "start_time": "2021-11-26T08:22:06.815Z"
   },
   {
    "duration": 174,
    "start_time": "2021-11-26T08:22:12.993Z"
   },
   {
    "duration": 9,
    "start_time": "2021-11-26T08:22:40.437Z"
   },
   {
    "duration": 6,
    "start_time": "2021-11-26T08:22:50.103Z"
   },
   {
    "duration": 169,
    "start_time": "2021-11-26T08:23:02.269Z"
   },
   {
    "duration": 15,
    "start_time": "2021-11-26T08:24:51.163Z"
   },
   {
    "duration": 170,
    "start_time": "2021-11-26T08:24:58.415Z"
   },
   {
    "duration": 549,
    "start_time": "2021-11-26T08:29:06.296Z"
   },
   {
    "duration": 532,
    "start_time": "2021-11-26T08:29:06.314Z"
   },
   {
    "duration": 520,
    "start_time": "2021-11-26T08:29:06.326Z"
   },
   {
    "duration": 509,
    "start_time": "2021-11-26T08:29:06.338Z"
   },
   {
    "duration": 506,
    "start_time": "2021-11-26T08:29:06.342Z"
   },
   {
    "duration": 500,
    "start_time": "2021-11-26T08:29:06.349Z"
   },
   {
    "duration": 497,
    "start_time": "2021-11-26T08:29:06.353Z"
   },
   {
    "duration": 494,
    "start_time": "2021-11-26T08:29:06.356Z"
   },
   {
    "duration": 489,
    "start_time": "2021-11-26T08:29:06.362Z"
   },
   {
    "duration": 486,
    "start_time": "2021-11-26T08:29:06.366Z"
   },
   {
    "duration": 483,
    "start_time": "2021-11-26T08:29:06.370Z"
   },
   {
    "duration": 480,
    "start_time": "2021-11-26T08:29:06.374Z"
   },
   {
    "duration": 476,
    "start_time": "2021-11-26T08:29:06.378Z"
   },
   {
    "duration": 472,
    "start_time": "2021-11-26T08:29:06.383Z"
   },
   {
    "duration": 470,
    "start_time": "2021-11-26T08:29:06.386Z"
   },
   {
    "duration": 467,
    "start_time": "2021-11-26T08:29:06.391Z"
   },
   {
    "duration": 463,
    "start_time": "2021-11-26T08:29:06.395Z"
   },
   {
    "duration": 460,
    "start_time": "2021-11-26T08:29:06.399Z"
   },
   {
    "duration": 458,
    "start_time": "2021-11-26T08:29:06.402Z"
   },
   {
    "duration": 456,
    "start_time": "2021-11-26T08:29:06.405Z"
   },
   {
    "duration": 453,
    "start_time": "2021-11-26T08:29:06.409Z"
   },
   {
    "duration": 448,
    "start_time": "2021-11-26T08:29:06.414Z"
   },
   {
    "duration": 446,
    "start_time": "2021-11-26T08:29:06.417Z"
   },
   {
    "duration": 442,
    "start_time": "2021-11-26T08:29:06.422Z"
   },
   {
    "duration": 440,
    "start_time": "2021-11-26T08:29:06.425Z"
   },
   {
    "duration": 430,
    "start_time": "2021-11-26T08:29:06.436Z"
   },
   {
    "duration": 452,
    "start_time": "2021-11-26T08:29:06.439Z"
   },
   {
    "duration": 449,
    "start_time": "2021-11-26T08:29:06.443Z"
   },
   {
    "duration": 444,
    "start_time": "2021-11-26T08:29:06.449Z"
   },
   {
    "duration": 440,
    "start_time": "2021-11-26T08:29:06.454Z"
   },
   {
    "duration": 439,
    "start_time": "2021-11-26T08:29:06.457Z"
   },
   {
    "duration": 435,
    "start_time": "2021-11-26T08:29:06.462Z"
   },
   {
    "duration": 431,
    "start_time": "2021-11-26T08:29:06.467Z"
   },
   {
    "duration": 426,
    "start_time": "2021-11-26T08:29:06.473Z"
   },
   {
    "duration": 420,
    "start_time": "2021-11-26T08:29:06.480Z"
   },
   {
    "duration": 416,
    "start_time": "2021-11-26T08:29:06.485Z"
   },
   {
    "duration": 412,
    "start_time": "2021-11-26T08:29:06.490Z"
   },
   {
    "duration": 407,
    "start_time": "2021-11-26T08:29:06.496Z"
   },
   {
    "duration": 3,
    "start_time": "2021-11-26T08:29:20.047Z"
   },
   {
    "duration": 127,
    "start_time": "2021-11-26T08:29:23.544Z"
   },
   {
    "duration": 10,
    "start_time": "2021-11-26T08:29:25.330Z"
   },
   {
    "duration": 23,
    "start_time": "2021-11-26T08:29:29.913Z"
   },
   {
    "duration": 4,
    "start_time": "2021-11-26T08:29:35.016Z"
   },
   {
    "duration": 19,
    "start_time": "2021-11-26T08:29:38.033Z"
   },
   {
    "duration": 13,
    "start_time": "2021-11-26T08:29:41.387Z"
   },
   {
    "duration": 21,
    "start_time": "2021-11-26T08:29:45.249Z"
   },
   {
    "duration": 16,
    "start_time": "2021-11-26T08:29:48.405Z"
   },
   {
    "duration": 23,
    "start_time": "2021-11-26T08:29:51.376Z"
   },
   {
    "duration": 53,
    "start_time": "2021-11-26T08:29:53.413Z"
   },
   {
    "duration": 54,
    "start_time": "2021-11-26T08:29:56.701Z"
   },
   {
    "duration": 49,
    "start_time": "2021-11-26T08:29:58.674Z"
   },
   {
    "duration": 48,
    "start_time": "2021-11-26T08:30:00.440Z"
   },
   {
    "duration": 3,
    "start_time": "2021-11-26T08:30:04.686Z"
   },
   {
    "duration": 10,
    "start_time": "2021-11-26T08:30:06.201Z"
   },
   {
    "duration": 16,
    "start_time": "2021-11-26T08:30:10.148Z"
   },
   {
    "duration": 170,
    "start_time": "2021-11-26T08:30:18.739Z"
   },
   {
    "duration": 320,
    "start_time": "2021-11-26T08:35:26.155Z"
   },
   {
    "duration": 547,
    "start_time": "2021-11-26T08:35:29.488Z"
   },
   {
    "duration": 14,
    "start_time": "2021-11-26T08:35:32.612Z"
   },
   {
    "duration": 29,
    "start_time": "2021-11-26T08:35:37.953Z"
   },
   {
    "duration": 20,
    "start_time": "2021-11-26T08:35:43.236Z"
   },
   {
    "duration": 29,
    "start_time": "2021-11-26T08:35:44.451Z"
   },
   {
    "duration": 61,
    "start_time": "2021-11-26T08:35:49.274Z"
   },
   {
    "duration": 69,
    "start_time": "2021-11-26T08:35:50.243Z"
   },
   {
    "duration": 60,
    "start_time": "2021-11-26T08:35:51.789Z"
   },
   {
    "duration": 43,
    "start_time": "2021-11-26T08:35:53.045Z"
   },
   {
    "duration": 3,
    "start_time": "2021-11-26T08:35:58.525Z"
   },
   {
    "duration": 10,
    "start_time": "2021-11-26T08:35:59.697Z"
   },
   {
    "duration": 16,
    "start_time": "2021-11-26T08:36:04.021Z"
   },
   {
    "duration": 179,
    "start_time": "2021-11-26T08:36:10.291Z"
   },
   {
    "duration": 1263,
    "start_time": "2021-11-26T08:36:17.356Z"
   },
   {
    "duration": 502,
    "start_time": "2021-11-26T08:36:32.540Z"
   },
   {
    "duration": 131,
    "start_time": "2021-11-26T08:36:33.768Z"
   },
   {
    "duration": 16,
    "start_time": "2021-11-26T08:36:35.467Z"
   },
   {
    "duration": 23,
    "start_time": "2021-11-26T08:36:38.916Z"
   },
   {
    "duration": 4,
    "start_time": "2021-11-26T08:36:44.196Z"
   },
   {
    "duration": 1341,
    "start_time": "2021-11-26T08:36:48.179Z"
   },
   {
    "duration": 154,
    "start_time": "2021-11-26T08:40:54.186Z"
   },
   {
    "duration": 159,
    "start_time": "2021-11-26T08:40:59.859Z"
   },
   {
    "duration": 533,
    "start_time": "2021-11-26T08:41:08.236Z"
   },
   {
    "duration": 128,
    "start_time": "2021-11-26T08:41:08.770Z"
   },
   {
    "duration": 16,
    "start_time": "2021-11-26T08:41:08.900Z"
   },
   {
    "duration": 40,
    "start_time": "2021-11-26T08:41:08.918Z"
   },
   {
    "duration": 15,
    "start_time": "2021-11-26T08:41:08.959Z"
   },
   {
    "duration": 165,
    "start_time": "2021-11-26T08:41:08.975Z"
   },
   {
    "duration": 12,
    "start_time": "2021-11-26T08:41:09.141Z"
   },
   {
    "duration": 39,
    "start_time": "2021-11-26T08:41:09.155Z"
   },
   {
    "duration": 25,
    "start_time": "2021-11-26T08:41:09.196Z"
   },
   {
    "duration": 33,
    "start_time": "2021-11-26T08:41:09.223Z"
   },
   {
    "duration": 67,
    "start_time": "2021-11-26T08:41:09.258Z"
   },
   {
    "duration": 72,
    "start_time": "2021-11-26T08:41:09.326Z"
   },
   {
    "duration": 47,
    "start_time": "2021-11-26T08:41:09.400Z"
   },
   {
    "duration": 60,
    "start_time": "2021-11-26T08:41:09.448Z"
   },
   {
    "duration": 3,
    "start_time": "2021-11-26T08:41:09.509Z"
   },
   {
    "duration": 15,
    "start_time": "2021-11-26T08:41:09.514Z"
   },
   {
    "duration": 15,
    "start_time": "2021-11-26T08:41:09.530Z"
   },
   {
    "duration": 229,
    "start_time": "2021-11-26T08:41:09.546Z"
   },
   {
    "duration": 311,
    "start_time": "2021-11-26T08:41:09.466Z"
   },
   {
    "duration": 309,
    "start_time": "2021-11-26T08:41:09.469Z"
   },
   {
    "duration": 305,
    "start_time": "2021-11-26T08:41:09.474Z"
   },
   {
    "duration": 302,
    "start_time": "2021-11-26T08:41:09.478Z"
   },
   {
    "duration": 298,
    "start_time": "2021-11-26T08:41:09.483Z"
   },
   {
    "duration": 295,
    "start_time": "2021-11-26T08:41:09.487Z"
   },
   {
    "duration": 292,
    "start_time": "2021-11-26T08:41:09.491Z"
   },
   {
    "duration": 286,
    "start_time": "2021-11-26T08:41:09.498Z"
   },
   {
    "duration": 281,
    "start_time": "2021-11-26T08:41:09.504Z"
   },
   {
    "duration": 279,
    "start_time": "2021-11-26T08:41:09.507Z"
   },
   {
    "duration": 252,
    "start_time": "2021-11-26T08:41:09.535Z"
   },
   {
    "duration": 247,
    "start_time": "2021-11-26T08:41:09.541Z"
   },
   {
    "duration": 244,
    "start_time": "2021-11-26T08:41:09.545Z"
   },
   {
    "duration": 238,
    "start_time": "2021-11-26T08:41:09.551Z"
   },
   {
    "duration": 235,
    "start_time": "2021-11-26T08:41:09.555Z"
   },
   {
    "duration": 232,
    "start_time": "2021-11-26T08:41:09.559Z"
   },
   {
    "duration": 227,
    "start_time": "2021-11-26T08:41:09.565Z"
   },
   {
    "duration": 223,
    "start_time": "2021-11-26T08:41:09.570Z"
   },
   {
    "duration": 221,
    "start_time": "2021-11-26T08:41:09.573Z"
   },
   {
    "duration": 218,
    "start_time": "2021-11-26T08:41:09.577Z"
   },
   {
    "duration": 3,
    "start_time": "2021-11-26T08:41:26.756Z"
   },
   {
    "duration": 146,
    "start_time": "2021-11-26T08:41:28.006Z"
   },
   {
    "duration": 11,
    "start_time": "2021-11-26T08:41:30.697Z"
   },
   {
    "duration": 23,
    "start_time": "2021-11-26T08:41:33.509Z"
   },
   {
    "duration": 4,
    "start_time": "2021-11-26T08:41:37.256Z"
   },
   {
    "duration": 155,
    "start_time": "2021-11-26T08:41:40.191Z"
   },
   {
    "duration": 13,
    "start_time": "2021-11-26T08:41:42.714Z"
   },
   {
    "duration": 22,
    "start_time": "2021-11-26T08:41:45.643Z"
   },
   {
    "duration": 17,
    "start_time": "2021-11-26T08:41:48.748Z"
   },
   {
    "duration": 22,
    "start_time": "2021-11-26T08:41:51.713Z"
   },
   {
    "duration": 54,
    "start_time": "2021-11-26T08:41:54.242Z"
   },
   {
    "duration": 57,
    "start_time": "2021-11-26T08:41:56.809Z"
   },
   {
    "duration": 49,
    "start_time": "2021-11-26T08:41:59.298Z"
   },
   {
    "duration": 48,
    "start_time": "2021-11-26T08:42:01.848Z"
   },
   {
    "duration": 3,
    "start_time": "2021-11-26T08:42:05.934Z"
   },
   {
    "duration": 9,
    "start_time": "2021-11-26T08:42:09.180Z"
   },
   {
    "duration": 16,
    "start_time": "2021-11-26T08:42:12.051Z"
   },
   {
    "duration": 177,
    "start_time": "2021-11-26T08:42:18.204Z"
   },
   {
    "duration": 11,
    "start_time": "2021-11-26T08:46:58.020Z"
   },
   {
    "duration": 9,
    "start_time": "2021-11-26T08:47:35.410Z"
   },
   {
    "duration": 11,
    "start_time": "2021-11-26T08:47:37.065Z"
   },
   {
    "duration": 459,
    "start_time": "2021-11-26T11:00:02.803Z"
   },
   {
    "duration": 339,
    "start_time": "2021-11-26T11:00:31.594Z"
   },
   {
    "duration": 331,
    "start_time": "2021-11-26T11:01:10.666Z"
   },
   {
    "duration": 806,
    "start_time": "2021-11-26T11:01:24.882Z"
   },
   {
    "duration": 186,
    "start_time": "2021-11-26T11:01:25.690Z"
   },
   {
    "duration": 31,
    "start_time": "2021-11-26T11:01:25.878Z"
   },
   {
    "duration": 35,
    "start_time": "2021-11-26T11:01:25.911Z"
   },
   {
    "duration": 6,
    "start_time": "2021-11-26T11:01:25.948Z"
   },
   {
    "duration": 247,
    "start_time": "2021-11-26T11:01:25.956Z"
   },
   {
    "duration": 19,
    "start_time": "2021-11-26T11:01:26.206Z"
   },
   {
    "duration": 33,
    "start_time": "2021-11-26T11:01:26.229Z"
   },
   {
    "duration": 54,
    "start_time": "2021-11-26T11:01:26.265Z"
   },
   {
    "duration": 31,
    "start_time": "2021-11-26T11:01:26.322Z"
   },
   {
    "duration": 113,
    "start_time": "2021-11-26T11:01:26.355Z"
   },
   {
    "duration": 116,
    "start_time": "2021-11-26T11:01:26.470Z"
   },
   {
    "duration": 85,
    "start_time": "2021-11-26T11:01:26.588Z"
   },
   {
    "duration": 90,
    "start_time": "2021-11-26T11:01:26.676Z"
   },
   {
    "duration": 5,
    "start_time": "2021-11-26T11:01:26.768Z"
   },
   {
    "duration": 36,
    "start_time": "2021-11-26T11:01:26.775Z"
   },
   {
    "duration": 24,
    "start_time": "2021-11-26T11:01:26.814Z"
   },
   {
    "duration": 14,
    "start_time": "2021-11-26T11:01:26.841Z"
   },
   {
    "duration": 15,
    "start_time": "2021-11-26T11:01:26.900Z"
   },
   {
    "duration": 3,
    "start_time": "2021-11-26T11:01:26.917Z"
   },
   {
    "duration": 12,
    "start_time": "2021-11-26T11:01:26.923Z"
   },
   {
    "duration": 6,
    "start_time": "2021-11-26T11:01:26.937Z"
   },
   {
    "duration": 5,
    "start_time": "2021-11-26T11:01:26.948Z"
   },
   {
    "duration": 48,
    "start_time": "2021-11-26T11:01:26.955Z"
   },
   {
    "duration": 7,
    "start_time": "2021-11-26T11:01:27.006Z"
   },
   {
    "duration": 13,
    "start_time": "2021-11-26T11:01:27.015Z"
   },
   {
    "duration": 6,
    "start_time": "2021-11-26T11:01:27.031Z"
   },
   {
    "duration": 10,
    "start_time": "2021-11-26T11:01:27.039Z"
   },
   {
    "duration": 10,
    "start_time": "2021-11-26T11:01:27.051Z"
   },
   {
    "duration": 37,
    "start_time": "2021-11-26T11:01:27.063Z"
   },
   {
    "duration": 9,
    "start_time": "2021-11-26T11:01:27.103Z"
   },
   {
    "duration": 8,
    "start_time": "2021-11-26T11:01:27.115Z"
   },
   {
    "duration": 16,
    "start_time": "2021-11-26T11:01:27.125Z"
   },
   {
    "duration": 9,
    "start_time": "2021-11-26T11:01:27.144Z"
   },
   {
    "duration": 13,
    "start_time": "2021-11-26T11:01:27.155Z"
   },
   {
    "duration": 9,
    "start_time": "2021-11-26T11:01:27.170Z"
   },
   {
    "duration": 24,
    "start_time": "2021-11-26T11:01:27.181Z"
   },
   {
    "duration": 8,
    "start_time": "2021-11-26T11:01:27.207Z"
   },
   {
    "duration": 3,
    "start_time": "2021-11-26T11:01:36.560Z"
   },
   {
    "duration": 195,
    "start_time": "2021-11-26T11:01:37.638Z"
   },
   {
    "duration": 15,
    "start_time": "2021-11-26T11:01:38.979Z"
   },
   {
    "duration": 16,
    "start_time": "2021-11-26T11:01:40.118Z"
   },
   {
    "duration": 15,
    "start_time": "2021-11-26T11:01:41.265Z"
   },
   {
    "duration": 6,
    "start_time": "2021-11-26T11:01:50.123Z"
   },
   {
    "duration": 255,
    "start_time": "2021-11-26T11:01:52.084Z"
   },
   {
    "duration": 228,
    "start_time": "2021-11-26T11:02:04.476Z"
   },
   {
    "duration": 220,
    "start_time": "2021-11-26T11:02:16.684Z"
   },
   {
    "duration": 21,
    "start_time": "2021-11-26T11:02:21.380Z"
   },
   {
    "duration": 15,
    "start_time": "2021-11-26T11:02:35.972Z"
   },
   {
    "duration": 118,
    "start_time": "2021-11-26T11:36:30.240Z"
   },
   {
    "duration": 109,
    "start_time": "2021-11-26T11:37:19.553Z"
   },
   {
    "duration": 1006,
    "start_time": "2021-11-26T16:25:58.419Z"
   },
   {
    "duration": 267,
    "start_time": "2021-11-26T16:25:59.428Z"
   },
   {
    "duration": 40,
    "start_time": "2021-11-26T16:25:59.699Z"
   },
   {
    "duration": 57,
    "start_time": "2021-11-26T16:25:59.743Z"
   },
   {
    "duration": 29,
    "start_time": "2021-11-26T16:25:59.803Z"
   },
   {
    "duration": 327,
    "start_time": "2021-11-26T16:25:59.835Z"
   },
   {
    "duration": 20,
    "start_time": "2021-11-26T16:26:00.165Z"
   },
   {
    "duration": 52,
    "start_time": "2021-11-26T16:26:00.188Z"
   },
   {
    "duration": 23,
    "start_time": "2021-11-26T16:26:00.244Z"
   },
   {
    "duration": 38,
    "start_time": "2021-11-26T16:26:00.269Z"
   },
   {
    "duration": 91,
    "start_time": "2021-11-26T16:26:00.330Z"
   },
   {
    "duration": 114,
    "start_time": "2021-11-26T16:26:00.428Z"
   },
   {
    "duration": 95,
    "start_time": "2021-11-26T16:26:00.544Z"
   },
   {
    "duration": 74,
    "start_time": "2021-11-26T16:26:00.641Z"
   },
   {
    "duration": 13,
    "start_time": "2021-11-26T16:26:00.717Z"
   },
   {
    "duration": 26,
    "start_time": "2021-11-26T16:26:00.733Z"
   },
   {
    "duration": 44,
    "start_time": "2021-11-26T16:26:00.762Z"
   },
   {
    "duration": 34,
    "start_time": "2021-11-26T16:26:00.809Z"
   },
   {
    "duration": 36,
    "start_time": "2021-11-26T16:26:00.846Z"
   },
   {
    "duration": 120,
    "start_time": "2021-11-26T16:26:00.885Z"
   },
   {
    "duration": 103,
    "start_time": "2021-11-26T16:26:00.905Z"
   },
   {
    "duration": 93,
    "start_time": "2021-11-26T16:26:00.917Z"
   },
   {
    "duration": 80,
    "start_time": "2021-11-26T16:26:00.933Z"
   },
   {
    "duration": 68,
    "start_time": "2021-11-26T16:26:00.947Z"
   },
   {
    "duration": 63,
    "start_time": "2021-11-26T16:26:00.954Z"
   },
   {
    "duration": 55,
    "start_time": "2021-11-26T16:26:00.964Z"
   },
   {
    "duration": 4,
    "start_time": "2021-11-26T16:26:01.017Z"
   },
   {
    "duration": -5,
    "start_time": "2021-11-26T16:26:01.028Z"
   },
   {
    "duration": -10,
    "start_time": "2021-11-26T16:26:01.035Z"
   },
   {
    "duration": -15,
    "start_time": "2021-11-26T16:26:01.043Z"
   },
   {
    "duration": -20,
    "start_time": "2021-11-26T16:26:01.050Z"
   },
   {
    "duration": -23,
    "start_time": "2021-11-26T16:26:01.055Z"
   },
   {
    "duration": -28,
    "start_time": "2021-11-26T16:26:01.063Z"
   },
   {
    "duration": -31,
    "start_time": "2021-11-26T16:26:01.068Z"
   },
   {
    "duration": -33,
    "start_time": "2021-11-26T16:26:01.072Z"
   },
   {
    "duration": -36,
    "start_time": "2021-11-26T16:26:01.077Z"
   },
   {
    "duration": -39,
    "start_time": "2021-11-26T16:26:01.082Z"
   },
   {
    "duration": -41,
    "start_time": "2021-11-26T16:26:01.086Z"
   },
   {
    "duration": 84,
    "start_time": "2021-11-26T16:47:01.407Z"
   },
   {
    "duration": 88,
    "start_time": "2021-11-26T16:47:14.793Z"
   },
   {
    "duration": 87,
    "start_time": "2021-11-26T16:47:39.294Z"
   },
   {
    "duration": 126,
    "start_time": "2021-11-26T16:53:10.405Z"
   },
   {
    "duration": 74,
    "start_time": "2021-11-26T16:53:28.553Z"
   },
   {
    "duration": 79,
    "start_time": "2021-11-26T16:57:04.113Z"
   },
   {
    "duration": 108,
    "start_time": "2021-11-26T17:05:15.974Z"
   },
   {
    "duration": 589,
    "start_time": "2021-11-26T17:12:03.940Z"
   },
   {
    "duration": 164,
    "start_time": "2021-11-26T17:20:07.959Z"
   },
   {
    "duration": 479,
    "start_time": "2021-11-26T17:20:09.683Z"
   },
   {
    "duration": 593,
    "start_time": "2021-11-26T17:22:38.549Z"
   },
   {
    "duration": 480,
    "start_time": "2021-11-26T17:24:29.472Z"
   },
   {
    "duration": 479,
    "start_time": "2021-11-26T17:24:41.824Z"
   },
   {
    "duration": 507,
    "start_time": "2021-11-26T17:24:44.125Z"
   },
   {
    "duration": 922,
    "start_time": "2021-11-26T17:25:04.952Z"
   },
   {
    "duration": 180,
    "start_time": "2021-11-26T17:25:07.279Z"
   },
   {
    "duration": 27,
    "start_time": "2021-11-26T17:25:09.306Z"
   },
   {
    "duration": 33,
    "start_time": "2021-11-26T17:25:13.026Z"
   },
   {
    "duration": 5,
    "start_time": "2021-11-26T17:25:18.754Z"
   },
   {
    "duration": 225,
    "start_time": "2021-11-26T17:25:20.459Z"
   },
   {
    "duration": 19,
    "start_time": "2021-11-26T17:25:24.079Z"
   },
   {
    "duration": 32,
    "start_time": "2021-11-26T17:25:29.119Z"
   },
   {
    "duration": 23,
    "start_time": "2021-11-26T17:25:32.788Z"
   },
   {
    "duration": 31,
    "start_time": "2021-11-26T17:25:36.057Z"
   },
   {
    "duration": 82,
    "start_time": "2021-11-26T17:25:38.239Z"
   },
   {
    "duration": 101,
    "start_time": "2021-11-26T17:25:41.300Z"
   },
   {
    "duration": 75,
    "start_time": "2021-11-26T17:25:42.978Z"
   },
   {
    "duration": 75,
    "start_time": "2021-11-26T17:25:46.143Z"
   },
   {
    "duration": 4,
    "start_time": "2021-11-26T17:25:50.794Z"
   },
   {
    "duration": 14,
    "start_time": "2021-11-26T17:25:53.872Z"
   },
   {
    "duration": 25,
    "start_time": "2021-11-26T17:25:55.289Z"
   },
   {
    "duration": 14,
    "start_time": "2021-11-26T17:26:02.126Z"
   },
   {
    "duration": 15,
    "start_time": "2021-11-26T17:26:05.530Z"
   },
   {
    "duration": 581,
    "start_time": "2021-11-26T17:26:09.628Z"
   },
   {
    "duration": 484,
    "start_time": "2021-11-26T17:26:29.271Z"
   },
   {
    "duration": 472,
    "start_time": "2021-11-26T17:27:51.667Z"
   },
   {
    "duration": 6,
    "start_time": "2021-11-26T17:29:23.835Z"
   },
   {
    "duration": 6,
    "start_time": "2021-11-26T17:29:53.423Z"
   },
   {
    "duration": 122,
    "start_time": "2021-11-26T17:30:00.896Z"
   },
   {
    "duration": 100,
    "start_time": "2021-11-26T17:30:08.468Z"
   },
   {
    "duration": 407,
    "start_time": "2021-11-26T17:30:20.075Z"
   },
   {
    "duration": 6,
    "start_time": "2021-11-26T17:30:29.743Z"
   },
   {
    "duration": 5,
    "start_time": "2021-11-26T17:30:33.378Z"
   },
   {
    "duration": 4,
    "start_time": "2021-11-26T17:30:43.334Z"
   },
   {
    "duration": 5,
    "start_time": "2021-11-26T17:30:44.470Z"
   },
   {
    "duration": 5,
    "start_time": "2021-11-26T17:30:45.256Z"
   },
   {
    "duration": 5,
    "start_time": "2021-11-26T17:30:45.806Z"
   },
   {
    "duration": 5,
    "start_time": "2021-11-26T17:30:46.721Z"
   },
   {
    "duration": 4,
    "start_time": "2021-11-26T17:30:50.983Z"
   },
   {
    "duration": 5,
    "start_time": "2021-11-26T17:30:53.937Z"
   },
   {
    "duration": 30,
    "start_time": "2021-11-26T17:32:35.856Z"
   },
   {
    "duration": 24,
    "start_time": "2021-11-26T17:33:20.880Z"
   },
   {
    "duration": 3,
    "start_time": "2021-11-26T17:33:43.708Z"
   },
   {
    "duration": 25,
    "start_time": "2021-11-26T17:33:52.699Z"
   },
   {
    "duration": 119,
    "start_time": "2021-11-26T17:34:23.939Z"
   },
   {
    "duration": 85,
    "start_time": "2021-11-26T17:34:30.342Z"
   },
   {
    "duration": 75,
    "start_time": "2021-11-26T17:34:31.376Z"
   },
   {
    "duration": 95,
    "start_time": "2021-11-26T17:34:42.039Z"
   },
   {
    "duration": 23,
    "start_time": "2021-11-26T17:34:52.988Z"
   },
   {
    "duration": 30,
    "start_time": "2021-11-26T17:35:15.535Z"
   },
   {
    "duration": 24,
    "start_time": "2021-11-26T17:35:34.314Z"
   },
   {
    "duration": 6,
    "start_time": "2021-11-26T17:41:22.739Z"
   },
   {
    "duration": 6,
    "start_time": "2021-11-26T17:41:26.626Z"
   },
   {
    "duration": 6,
    "start_time": "2021-11-26T17:43:48.493Z"
   },
   {
    "duration": 6,
    "start_time": "2021-11-26T17:43:51.894Z"
   },
   {
    "duration": 6,
    "start_time": "2021-11-26T17:43:53.321Z"
   },
   {
    "duration": 6,
    "start_time": "2021-11-26T17:43:55.956Z"
   },
   {
    "duration": 6,
    "start_time": "2021-11-26T17:43:58.270Z"
   },
   {
    "duration": 5,
    "start_time": "2021-11-26T17:43:59.098Z"
   },
   {
    "duration": 16,
    "start_time": "2021-11-26T17:54:20.870Z"
   },
   {
    "duration": 13,
    "start_time": "2021-11-26T17:54:38.636Z"
   },
   {
    "duration": 13,
    "start_time": "2021-11-26T17:54:58.867Z"
   },
   {
    "duration": 20,
    "start_time": "2021-11-26T17:55:00.721Z"
   },
   {
    "duration": 5,
    "start_time": "2021-11-26T18:11:27.001Z"
   },
   {
    "duration": 6,
    "start_time": "2021-11-26T18:11:30.399Z"
   },
   {
    "duration": 6,
    "start_time": "2021-11-26T18:16:07.649Z"
   },
   {
    "duration": 7,
    "start_time": "2021-11-26T18:16:08.426Z"
   },
   {
    "duration": 20,
    "start_time": "2021-11-26T18:18:12.827Z"
   },
   {
    "duration": 540,
    "start_time": "2021-11-26T18:21:24.028Z"
   },
   {
    "duration": 6,
    "start_time": "2021-11-26T18:23:26.825Z"
   },
   {
    "duration": 5,
    "start_time": "2021-11-26T18:23:27.648Z"
   },
   {
    "duration": 6,
    "start_time": "2021-11-26T18:24:00.239Z"
   },
   {
    "duration": 534,
    "start_time": "2021-11-26T18:24:06.046Z"
   },
   {
    "duration": 496,
    "start_time": "2021-11-26T18:24:07.163Z"
   },
   {
    "duration": 495,
    "start_time": "2021-11-26T18:24:08.171Z"
   },
   {
    "duration": 523,
    "start_time": "2021-11-26T18:24:09.477Z"
   },
   {
    "duration": 6,
    "start_time": "2021-11-26T18:26:04.346Z"
   },
   {
    "duration": 6,
    "start_time": "2021-11-26T18:26:05.026Z"
   },
   {
    "duration": 568,
    "start_time": "2021-11-26T18:26:10.473Z"
   },
   {
    "duration": 540,
    "start_time": "2021-11-26T18:26:11.445Z"
   },
   {
    "duration": 489,
    "start_time": "2021-11-26T18:26:13.275Z"
   },
   {
    "duration": 5,
    "start_time": "2021-11-26T18:26:49.937Z"
   },
   {
    "duration": 511,
    "start_time": "2021-11-26T18:26:54.607Z"
   },
   {
    "duration": 12,
    "start_time": "2021-11-26T18:27:59.225Z"
   },
   {
    "duration": 6,
    "start_time": "2021-11-26T18:28:00.407Z"
   },
   {
    "duration": 21,
    "start_time": "2021-11-26T18:28:15.351Z"
   },
   {
    "duration": 6,
    "start_time": "2021-11-26T18:28:26.175Z"
   },
   {
    "duration": 16,
    "start_time": "2021-11-26T18:28:43.655Z"
   },
   {
    "duration": 13,
    "start_time": "2021-11-26T18:28:45.828Z"
   },
   {
    "duration": 13,
    "start_time": "2021-11-26T18:28:46.782Z"
   },
   {
    "duration": 14,
    "start_time": "2021-11-26T18:28:47.654Z"
   },
   {
    "duration": 13,
    "start_time": "2021-11-26T18:28:49.472Z"
   },
   {
    "duration": -93,
    "start_time": "2021-11-26T18:28:58.574Z"
   },
   {
    "duration": -94,
    "start_time": "2021-11-26T18:28:58.577Z"
   },
   {
    "duration": -96,
    "start_time": "2021-11-26T18:28:58.581Z"
   },
   {
    "duration": -97,
    "start_time": "2021-11-26T18:28:58.584Z"
   },
   {
    "duration": -100,
    "start_time": "2021-11-26T18:28:58.589Z"
   },
   {
    "duration": -101,
    "start_time": "2021-11-26T18:28:58.592Z"
   },
   {
    "duration": -101,
    "start_time": "2021-11-26T18:28:58.595Z"
   },
   {
    "duration": -104,
    "start_time": "2021-11-26T18:28:58.599Z"
   },
   {
    "duration": -107,
    "start_time": "2021-11-26T18:28:58.604Z"
   },
   {
    "duration": -118,
    "start_time": "2021-11-26T18:28:58.617Z"
   },
   {
    "duration": -120,
    "start_time": "2021-11-26T18:28:58.622Z"
   },
   {
    "duration": -121,
    "start_time": "2021-11-26T18:28:58.625Z"
   },
   {
    "duration": -122,
    "start_time": "2021-11-26T18:28:58.628Z"
   },
   {
    "duration": -126,
    "start_time": "2021-11-26T18:28:58.633Z"
   },
   {
    "duration": -132,
    "start_time": "2021-11-26T18:28:58.640Z"
   },
   {
    "duration": -133,
    "start_time": "2021-11-26T18:28:58.643Z"
   },
   {
    "duration": -135,
    "start_time": "2021-11-26T18:28:58.646Z"
   },
   {
    "duration": -137,
    "start_time": "2021-11-26T18:28:58.649Z"
   },
   {
    "duration": -143,
    "start_time": "2021-11-26T18:28:58.656Z"
   },
   {
    "duration": 4,
    "start_time": "2021-11-26T18:28:58.529Z"
   },
   {
    "duration": 468,
    "start_time": "2021-11-26T18:28:58.536Z"
   },
   {
    "duration": -108,
    "start_time": "2021-11-26T18:28:59.116Z"
   },
   {
    "duration": -117,
    "start_time": "2021-11-26T18:28:59.126Z"
   },
   {
    "duration": -125,
    "start_time": "2021-11-26T18:28:59.136Z"
   },
   {
    "duration": -132,
    "start_time": "2021-11-26T18:28:59.146Z"
   },
   {
    "duration": -141,
    "start_time": "2021-11-26T18:28:59.157Z"
   },
   {
    "duration": -149,
    "start_time": "2021-11-26T18:28:59.167Z"
   },
   {
    "duration": -171,
    "start_time": "2021-11-26T18:28:59.191Z"
   },
   {
    "duration": -180,
    "start_time": "2021-11-26T18:28:59.203Z"
   },
   {
    "duration": -188,
    "start_time": "2021-11-26T18:28:59.213Z"
   },
   {
    "duration": -200,
    "start_time": "2021-11-26T18:28:59.227Z"
   },
   {
    "duration": -208,
    "start_time": "2021-11-26T18:28:59.237Z"
   },
   {
    "duration": -215,
    "start_time": "2021-11-26T18:28:59.246Z"
   },
   {
    "duration": -224,
    "start_time": "2021-11-26T18:28:59.257Z"
   },
   {
    "duration": -228,
    "start_time": "2021-11-26T18:28:59.264Z"
   },
   {
    "duration": -232,
    "start_time": "2021-11-26T18:28:59.270Z"
   },
   {
    "duration": -238,
    "start_time": "2021-11-26T18:28:59.277Z"
   },
   {
    "duration": -242,
    "start_time": "2021-11-26T18:28:59.283Z"
   },
   {
    "duration": 227,
    "start_time": "2021-11-26T18:29:21.042Z"
   },
   {
    "duration": 5,
    "start_time": "2021-11-26T18:29:27.447Z"
   },
   {
    "duration": 272,
    "start_time": "2021-11-26T18:29:46.648Z"
   },
   {
    "duration": 245,
    "start_time": "2021-11-26T18:29:54.413Z"
   },
   {
    "duration": 243,
    "start_time": "2021-11-26T18:29:55.631Z"
   },
   {
    "duration": 219,
    "start_time": "2021-11-26T18:29:56.360Z"
   },
   {
    "duration": 740,
    "start_time": "2021-11-26T18:30:05.105Z"
   },
   {
    "duration": 187,
    "start_time": "2021-11-26T18:30:06.299Z"
   },
   {
    "duration": 26,
    "start_time": "2021-11-26T18:30:08.202Z"
   },
   {
    "duration": 32,
    "start_time": "2021-11-26T18:30:12.495Z"
   },
   {
    "duration": 6,
    "start_time": "2021-11-26T18:30:17.776Z"
   },
   {
    "duration": 229,
    "start_time": "2021-11-26T18:30:19.369Z"
   },
   {
    "duration": 20,
    "start_time": "2021-11-26T18:30:23.001Z"
   },
   {
    "duration": 31,
    "start_time": "2021-11-26T18:30:30.121Z"
   },
   {
    "duration": 22,
    "start_time": "2021-11-26T18:30:34.158Z"
   },
   {
    "duration": 31,
    "start_time": "2021-11-26T18:30:35.913Z"
   },
   {
    "duration": 90,
    "start_time": "2021-11-26T18:30:38.715Z"
   },
   {
    "duration": 104,
    "start_time": "2021-11-26T18:30:41.037Z"
   },
   {
    "duration": 80,
    "start_time": "2021-11-26T18:30:44.099Z"
   },
   {
    "duration": 73,
    "start_time": "2021-11-26T18:30:45.762Z"
   },
   {
    "duration": 5,
    "start_time": "2021-11-26T18:30:50.688Z"
   },
   {
    "duration": 14,
    "start_time": "2021-11-26T18:30:53.321Z"
   },
   {
    "duration": 15,
    "start_time": "2021-11-26T18:31:01.038Z"
   },
   {
    "duration": 16,
    "start_time": "2021-11-26T18:31:02.672Z"
   },
   {
    "duration": 5,
    "start_time": "2021-11-26T18:31:05.850Z"
   },
   {
    "duration": 29,
    "start_time": "2021-11-26T18:31:16.266Z"
   },
   {
    "duration": 24,
    "start_time": "2021-11-26T18:31:20.812Z"
   },
   {
    "duration": 25,
    "start_time": "2021-11-26T18:31:22.421Z"
   },
   {
    "duration": 24,
    "start_time": "2021-11-26T18:31:26.887Z"
   },
   {
    "duration": 29,
    "start_time": "2021-11-26T18:31:28.333Z"
   },
   {
    "duration": 24,
    "start_time": "2021-11-26T18:31:30.489Z"
   },
   {
    "duration": 5,
    "start_time": "2021-11-26T18:31:34.133Z"
   },
   {
    "duration": 6,
    "start_time": "2021-11-26T18:31:35.701Z"
   },
   {
    "duration": 23,
    "start_time": "2021-11-26T18:31:48.999Z"
   },
   {
    "duration": 15,
    "start_time": "2021-11-26T18:32:05.371Z"
   },
   {
    "duration": 17,
    "start_time": "2021-11-26T18:32:06.342Z"
   },
   {
    "duration": 13,
    "start_time": "2021-11-26T18:32:08.087Z"
   },
   {
    "duration": 6,
    "start_time": "2021-11-26T18:32:11.897Z"
   },
   {
    "duration": 581,
    "start_time": "2021-11-26T18:32:15.482Z"
   },
   {
    "duration": 529,
    "start_time": "2021-11-26T18:32:16.398Z"
   },
   {
    "duration": 482,
    "start_time": "2021-11-26T18:32:17.761Z"
   },
   {
    "duration": 471,
    "start_time": "2021-11-26T18:32:18.587Z"
   },
   {
    "duration": 476,
    "start_time": "2021-11-26T18:32:42.266Z"
   },
   {
    "duration": 564,
    "start_time": "2021-11-26T18:32:43.331Z"
   },
   {
    "duration": 5,
    "start_time": "2021-11-26T18:33:43.667Z"
   },
   {
    "duration": 5,
    "start_time": "2021-11-26T18:33:53.000Z"
   },
   {
    "duration": 6,
    "start_time": "2021-11-26T18:33:53.766Z"
   },
   {
    "duration": 5,
    "start_time": "2021-11-26T18:33:55.358Z"
   },
   {
    "duration": 508,
    "start_time": "2021-11-26T18:34:39.556Z"
   },
   {
    "duration": 9,
    "start_time": "2021-11-26T18:38:23.502Z"
   },
   {
    "duration": 5,
    "start_time": "2021-11-26T18:38:24.903Z"
   },
   {
    "duration": 547,
    "start_time": "2021-11-26T18:38:29.926Z"
   },
   {
    "duration": 487,
    "start_time": "2021-11-26T18:38:31.055Z"
   },
   {
    "duration": 755,
    "start_time": "2021-11-26T18:38:40.120Z"
   },
   {
    "duration": 192,
    "start_time": "2021-11-26T18:38:40.877Z"
   },
   {
    "duration": 27,
    "start_time": "2021-11-26T18:38:41.071Z"
   },
   {
    "duration": 47,
    "start_time": "2021-11-26T18:38:41.101Z"
   },
   {
    "duration": 6,
    "start_time": "2021-11-26T18:38:41.150Z"
   },
   {
    "duration": 231,
    "start_time": "2021-11-26T18:38:41.158Z"
   },
   {
    "duration": 38,
    "start_time": "2021-11-26T18:38:41.392Z"
   },
   {
    "duration": 31,
    "start_time": "2021-11-26T18:38:41.435Z"
   },
   {
    "duration": 24,
    "start_time": "2021-11-26T18:38:41.469Z"
   },
   {
    "duration": 55,
    "start_time": "2021-11-26T18:38:41.495Z"
   },
   {
    "duration": 100,
    "start_time": "2021-11-26T18:38:41.553Z"
   },
   {
    "duration": 117,
    "start_time": "2021-11-26T18:38:41.656Z"
   },
   {
    "duration": 85,
    "start_time": "2021-11-26T18:38:41.776Z"
   },
   {
    "duration": 82,
    "start_time": "2021-11-26T18:38:41.863Z"
   },
   {
    "duration": 4,
    "start_time": "2021-11-26T18:38:41.947Z"
   },
   {
    "duration": 25,
    "start_time": "2021-11-26T18:38:41.954Z"
   },
   {
    "duration": 25,
    "start_time": "2021-11-26T18:38:41.982Z"
   },
   {
    "duration": 14,
    "start_time": "2021-11-26T18:38:42.029Z"
   },
   {
    "duration": 14,
    "start_time": "2021-11-26T18:38:42.046Z"
   },
   {
    "duration": 5,
    "start_time": "2021-11-26T18:38:42.062Z"
   },
   {
    "duration": 70,
    "start_time": "2021-11-26T18:38:42.069Z"
   },
   {
    "duration": 25,
    "start_time": "2021-11-26T18:38:42.141Z"
   },
   {
    "duration": 29,
    "start_time": "2021-11-26T18:38:42.171Z"
   },
   {
    "duration": 47,
    "start_time": "2021-11-26T18:38:42.202Z"
   },
   {
    "duration": 29,
    "start_time": "2021-11-26T18:38:42.252Z"
   },
   {
    "duration": 54,
    "start_time": "2021-11-26T18:38:42.284Z"
   },
   {
    "duration": 5,
    "start_time": "2021-11-26T18:38:42.341Z"
   },
   {
    "duration": 20,
    "start_time": "2021-11-26T18:38:42.348Z"
   },
   {
    "duration": 13,
    "start_time": "2021-11-26T18:38:42.371Z"
   },
   {
    "duration": 5,
    "start_time": "2021-11-26T18:38:42.387Z"
   },
   {
    "duration": 619,
    "start_time": "2021-11-26T18:38:42.394Z"
   },
   {
    "duration": -369,
    "start_time": "2021-11-26T18:38:43.385Z"
   },
   {
    "duration": -380,
    "start_time": "2021-11-26T18:38:43.397Z"
   },
   {
    "duration": -397,
    "start_time": "2021-11-26T18:38:43.416Z"
   },
   {
    "duration": -410,
    "start_time": "2021-11-26T18:38:43.430Z"
   },
   {
    "duration": -423,
    "start_time": "2021-11-26T18:38:43.445Z"
   },
   {
    "duration": -431,
    "start_time": "2021-11-26T18:38:43.455Z"
   },
   {
    "duration": -480,
    "start_time": "2021-11-26T18:38:43.505Z"
   },
   {
    "duration": 7,
    "start_time": "2021-11-26T18:38:53.460Z"
   },
   {
    "duration": 5,
    "start_time": "2021-11-26T18:38:54.252Z"
   },
   {
    "duration": 473,
    "start_time": "2021-11-26T18:38:57.604Z"
   },
   {
    "duration": 556,
    "start_time": "2021-11-26T18:38:58.646Z"
   },
   {
    "duration": 489,
    "start_time": "2021-11-26T18:38:59.526Z"
   },
   {
    "duration": -481,
    "start_time": "2021-11-26T18:39:01.177Z"
   },
   {
    "duration": 6,
    "start_time": "2021-11-26T18:39:14.759Z"
   },
   {
    "duration": 5,
    "start_time": "2021-11-26T18:39:15.507Z"
   },
   {
    "duration": 5,
    "start_time": "2021-11-26T18:39:16.358Z"
   },
   {
    "duration": 3,
    "start_time": "2021-11-26T18:40:07.867Z"
   },
   {
    "duration": 196,
    "start_time": "2021-11-26T18:40:09.332Z"
   },
   {
    "duration": 16,
    "start_time": "2021-11-26T18:40:10.611Z"
   },
   {
    "duration": 23,
    "start_time": "2021-11-26T18:40:11.459Z"
   },
   {
    "duration": 16,
    "start_time": "2021-11-26T18:40:12.213Z"
   },
   {
    "duration": 34,
    "start_time": "2021-11-26T18:40:14.413Z"
   },
   {
    "duration": 6,
    "start_time": "2021-11-26T18:40:20.917Z"
   },
   {
    "duration": 223,
    "start_time": "2021-11-26T18:40:22.583Z"
   },
   {
    "duration": 21,
    "start_time": "2021-11-26T18:40:25.874Z"
   },
   {
    "duration": 31,
    "start_time": "2021-11-26T18:40:29.121Z"
   },
   {
    "duration": 23,
    "start_time": "2021-11-26T18:40:32.354Z"
   },
   {
    "duration": 31,
    "start_time": "2021-11-26T18:40:33.885Z"
   },
   {
    "duration": 81,
    "start_time": "2021-11-26T18:40:36.643Z"
   },
   {
    "duration": 91,
    "start_time": "2021-11-26T18:40:37.744Z"
   },
   {
    "duration": 77,
    "start_time": "2021-11-26T18:40:39.232Z"
   },
   {
    "duration": 75,
    "start_time": "2021-11-26T18:40:44.659Z"
   },
   {
    "duration": 4,
    "start_time": "2021-11-26T18:40:49.637Z"
   },
   {
    "duration": 14,
    "start_time": "2021-11-26T18:40:50.819Z"
   },
   {
    "duration": 24,
    "start_time": "2021-11-26T18:40:54.000Z"
   },
   {
    "duration": 15,
    "start_time": "2021-11-26T18:41:01.115Z"
   },
   {
    "duration": 16,
    "start_time": "2021-11-26T18:41:02.487Z"
   },
   {
    "duration": 5,
    "start_time": "2021-11-26T18:41:05.873Z"
   },
   {
    "duration": 31,
    "start_time": "2021-11-26T18:41:10.939Z"
   },
   {
    "duration": 23,
    "start_time": "2021-11-26T18:41:12.839Z"
   },
   {
    "duration": 24,
    "start_time": "2021-11-26T18:41:15.641Z"
   },
   {
    "duration": 22,
    "start_time": "2021-11-26T18:41:16.707Z"
   },
   {
    "duration": 27,
    "start_time": "2021-11-26T18:41:19.657Z"
   },
   {
    "duration": 24,
    "start_time": "2021-11-26T18:41:20.901Z"
   },
   {
    "duration": 6,
    "start_time": "2021-11-26T18:41:24.127Z"
   },
   {
    "duration": 17,
    "start_time": "2021-11-26T18:41:29.694Z"
   },
   {
    "duration": 16,
    "start_time": "2021-11-26T18:41:34.268Z"
   },
   {
    "duration": 6,
    "start_time": "2021-11-26T18:41:36.037Z"
   },
   {
    "duration": 470,
    "start_time": "2021-11-26T18:41:39.518Z"
   },
   {
    "duration": 476,
    "start_time": "2021-11-26T18:46:57.643Z"
   },
   {
    "duration": 537,
    "start_time": "2021-11-26T18:47:03.508Z"
   },
   {
    "duration": 486,
    "start_time": "2021-11-26T18:47:08.892Z"
   },
   {
    "duration": 7,
    "start_time": "2021-11-26T18:48:16.900Z"
   },
   {
    "duration": 201,
    "start_time": "2021-11-26T18:48:22.431Z"
   },
   {
    "duration": 505,
    "start_time": "2021-11-26T18:48:23.794Z"
   },
   {
    "duration": 265,
    "start_time": "2021-11-26T18:54:23.889Z"
   },
   {
    "duration": 256,
    "start_time": "2021-11-26T18:54:25.855Z"
   },
   {
    "duration": 12,
    "start_time": "2021-11-26T18:54:43.324Z"
   },
   {
    "duration": 12,
    "start_time": "2021-11-26T18:54:44.450Z"
   },
   {
    "duration": 7,
    "start_time": "2021-11-26T18:54:45.950Z"
   },
   {
    "duration": 243,
    "start_time": "2021-11-26T18:56:37.681Z"
   },
   {
    "duration": 246,
    "start_time": "2021-11-26T18:57:00.025Z"
   },
   {
    "duration": 1044,
    "start_time": "2021-11-26T18:57:01.586Z"
   },
   {
    "duration": 254,
    "start_time": "2021-11-26T18:57:25.362Z"
   },
   {
    "duration": 237,
    "start_time": "2021-11-26T18:57:27.162Z"
   },
   {
    "duration": 8,
    "start_time": "2021-11-26T18:57:49.216Z"
   },
   {
    "duration": 7,
    "start_time": "2021-11-26T18:57:51.577Z"
   },
   {
    "duration": 5,
    "start_time": "2021-11-26T18:59:18.022Z"
   },
   {
    "duration": -36,
    "start_time": "2021-11-26T18:59:24.645Z"
   },
   {
    "duration": 540,
    "start_time": "2021-11-26T18:59:25.713Z"
   },
   {
    "duration": 751,
    "start_time": "2021-11-26T18:59:51.047Z"
   },
   {
    "duration": 193,
    "start_time": "2021-11-26T18:59:51.801Z"
   },
   {
    "duration": 33,
    "start_time": "2021-11-26T18:59:51.997Z"
   },
   {
    "duration": 36,
    "start_time": "2021-11-26T18:59:52.034Z"
   },
   {
    "duration": 7,
    "start_time": "2021-11-26T18:59:52.073Z"
   },
   {
    "duration": 257,
    "start_time": "2021-11-26T18:59:52.083Z"
   },
   {
    "duration": 20,
    "start_time": "2021-11-26T18:59:52.343Z"
   },
   {
    "duration": 31,
    "start_time": "2021-11-26T18:59:52.366Z"
   },
   {
    "duration": 23,
    "start_time": "2021-11-26T18:59:52.429Z"
   },
   {
    "duration": 40,
    "start_time": "2021-11-26T18:59:52.455Z"
   },
   {
    "duration": 104,
    "start_time": "2021-11-26T18:59:52.498Z"
   },
   {
    "duration": 110,
    "start_time": "2021-11-26T18:59:52.604Z"
   },
   {
    "duration": 88,
    "start_time": "2021-11-26T18:59:52.717Z"
   },
   {
    "duration": 89,
    "start_time": "2021-11-26T18:59:52.807Z"
   },
   {
    "duration": 4,
    "start_time": "2021-11-26T18:59:52.898Z"
   },
   {
    "duration": 36,
    "start_time": "2021-11-26T18:59:52.904Z"
   },
   {
    "duration": 25,
    "start_time": "2021-11-26T18:59:52.943Z"
   },
   {
    "duration": 14,
    "start_time": "2021-11-26T18:59:52.971Z"
   },
   {
    "duration": 53,
    "start_time": "2021-11-26T18:59:52.987Z"
   },
   {
    "duration": 5,
    "start_time": "2021-11-26T18:59:53.042Z"
   },
   {
    "duration": 35,
    "start_time": "2021-11-26T18:59:53.049Z"
   },
   {
    "duration": 48,
    "start_time": "2021-11-26T18:59:53.086Z"
   },
   {
    "duration": 26,
    "start_time": "2021-11-26T18:59:53.138Z"
   },
   {
    "duration": 24,
    "start_time": "2021-11-26T18:59:53.167Z"
   },
   {
    "duration": 53,
    "start_time": "2021-11-26T18:59:53.193Z"
   },
   {
    "duration": 26,
    "start_time": "2021-11-26T18:59:53.249Z"
   },
   {
    "duration": 6,
    "start_time": "2021-11-26T18:59:53.277Z"
   },
   {
    "duration": 48,
    "start_time": "2021-11-26T18:59:53.285Z"
   },
   {
    "duration": 13,
    "start_time": "2021-11-26T18:59:53.335Z"
   },
   {
    "duration": 5,
    "start_time": "2021-11-26T18:59:53.351Z"
   },
   {
    "duration": 614,
    "start_time": "2021-11-26T18:59:53.359Z"
   },
   {
    "duration": 19,
    "start_time": "2021-11-26T18:59:53.957Z"
   },
   {
    "duration": -6,
    "start_time": "2021-11-26T18:59:53.983Z"
   },
   {
    "duration": -18,
    "start_time": "2021-11-26T18:59:53.996Z"
   },
   {
    "duration": -30,
    "start_time": "2021-11-26T18:59:54.010Z"
   },
   {
    "duration": -36,
    "start_time": "2021-11-26T18:59:54.018Z"
   },
   {
    "duration": -43,
    "start_time": "2021-11-26T18:59:54.027Z"
   },
   {
    "duration": -48,
    "start_time": "2021-11-26T18:59:54.035Z"
   },
   {
    "duration": 7,
    "start_time": "2021-11-26T19:01:01.327Z"
   },
   {
    "duration": 17,
    "start_time": "2021-11-26T19:01:08.413Z"
   },
   {
    "duration": 14,
    "start_time": "2021-11-26T19:01:13.027Z"
   },
   {
    "duration": 6,
    "start_time": "2021-11-26T19:02:13.418Z"
   },
   {
    "duration": 6,
    "start_time": "2021-11-26T19:02:14.187Z"
   },
   {
    "duration": 6,
    "start_time": "2021-11-26T19:02:14.727Z"
   },
   {
    "duration": 6,
    "start_time": "2021-11-26T19:02:15.088Z"
   },
   {
    "duration": 8,
    "start_time": "2021-11-26T19:02:15.609Z"
   },
   {
    "duration": 472,
    "start_time": "2021-11-26T19:02:49.130Z"
   },
   {
    "duration": 625,
    "start_time": "2021-11-26T19:02:51.138Z"
   },
   {
    "duration": 462,
    "start_time": "2021-11-26T19:02:53.851Z"
   },
   {
    "duration": 9,
    "start_time": "2021-11-26T19:04:10.721Z"
   },
   {
    "duration": 6,
    "start_time": "2021-11-26T19:04:28.652Z"
   },
   {
    "duration": 6,
    "start_time": "2021-11-26T19:06:01.208Z"
   },
   {
    "duration": 6,
    "start_time": "2021-11-26T19:06:14.121Z"
   },
   {
    "duration": 16,
    "start_time": "2021-11-26T19:06:18.190Z"
   },
   {
    "duration": 13,
    "start_time": "2021-11-26T19:06:19.401Z"
   },
   {
    "duration": 6,
    "start_time": "2021-11-26T19:06:22.594Z"
   },
   {
    "duration": 499,
    "start_time": "2021-11-26T19:06:27.512Z"
   },
   {
    "duration": 1033,
    "start_time": "2021-11-26T19:06:29.264Z"
   },
   {
    "duration": 6,
    "start_time": "2021-11-26T19:07:06.283Z"
   },
   {
    "duration": 6,
    "start_time": "2021-11-26T19:10:53.269Z"
   },
   {
    "duration": 6,
    "start_time": "2021-11-26T19:10:54.543Z"
   },
   {
    "duration": 17,
    "start_time": "2021-11-26T19:10:59.504Z"
   },
   {
    "duration": 15,
    "start_time": "2021-11-26T19:11:00.874Z"
   },
   {
    "duration": 6,
    "start_time": "2021-11-26T19:11:02.367Z"
   },
   {
    "duration": 221,
    "start_time": "2021-11-26T19:11:14.474Z"
   },
   {
    "duration": 509,
    "start_time": "2021-11-26T19:11:15.670Z"
   },
   {
    "duration": 6,
    "start_time": "2021-11-26T19:13:45.603Z"
   },
   {
    "duration": 738,
    "start_time": "2021-11-26T19:20:41.077Z"
   },
   {
    "duration": 200,
    "start_time": "2021-11-26T19:20:41.818Z"
   },
   {
    "duration": 35,
    "start_time": "2021-11-26T19:20:42.021Z"
   },
   {
    "duration": 36,
    "start_time": "2021-11-26T19:20:42.059Z"
   },
   {
    "duration": 42,
    "start_time": "2021-11-26T19:20:42.097Z"
   },
   {
    "duration": 246,
    "start_time": "2021-11-26T19:20:42.143Z"
   },
   {
    "duration": 39,
    "start_time": "2021-11-26T19:20:42.392Z"
   },
   {
    "duration": 37,
    "start_time": "2021-11-26T19:20:42.435Z"
   },
   {
    "duration": 23,
    "start_time": "2021-11-26T19:20:42.475Z"
   },
   {
    "duration": 38,
    "start_time": "2021-11-26T19:20:42.530Z"
   },
   {
    "duration": 112,
    "start_time": "2021-11-26T19:20:42.571Z"
   },
   {
    "duration": 114,
    "start_time": "2021-11-26T19:20:42.685Z"
   },
   {
    "duration": 87,
    "start_time": "2021-11-26T19:20:42.801Z"
   },
   {
    "duration": 86,
    "start_time": "2021-11-26T19:20:42.890Z"
   },
   {
    "duration": 4,
    "start_time": "2021-11-26T19:20:42.978Z"
   },
   {
    "duration": 25,
    "start_time": "2021-11-26T19:20:42.984Z"
   },
   {
    "duration": 21,
    "start_time": "2021-11-26T19:20:43.012Z"
   },
   {
    "duration": 21,
    "start_time": "2021-11-26T19:20:43.036Z"
   },
   {
    "duration": 16,
    "start_time": "2021-11-26T19:20:43.059Z"
   },
   {
    "duration": 5,
    "start_time": "2021-11-26T19:20:43.078Z"
   },
   {
    "duration": 81,
    "start_time": "2021-11-26T19:20:43.086Z"
   },
   {
    "duration": 23,
    "start_time": "2021-11-26T19:20:43.170Z"
   },
   {
    "duration": 59,
    "start_time": "2021-11-26T19:20:43.198Z"
   },
   {
    "duration": 22,
    "start_time": "2021-11-26T19:20:43.260Z"
   },
   {
    "duration": 62,
    "start_time": "2021-11-26T19:20:43.285Z"
   },
   {
    "duration": 24,
    "start_time": "2021-11-26T19:20:43.349Z"
   },
   {
    "duration": 6,
    "start_time": "2021-11-26T19:20:43.375Z"
   },
   {
    "duration": 26,
    "start_time": "2021-11-26T19:20:43.384Z"
   },
   {
    "duration": 18,
    "start_time": "2021-11-26T19:20:43.433Z"
   },
   {
    "duration": 5,
    "start_time": "2021-11-26T19:20:43.454Z"
   },
   {
    "duration": 658,
    "start_time": "2021-11-26T19:20:43.462Z"
   },
   {
    "duration": -386,
    "start_time": "2021-11-26T19:20:44.508Z"
   },
   {
    "duration": -394,
    "start_time": "2021-11-26T19:20:44.518Z"
   },
   {
    "duration": -402,
    "start_time": "2021-11-26T19:20:44.527Z"
   },
   {
    "duration": -409,
    "start_time": "2021-11-26T19:20:44.536Z"
   },
   {
    "duration": -414,
    "start_time": "2021-11-26T19:20:44.543Z"
   },
   {
    "duration": -418,
    "start_time": "2021-11-26T19:20:44.549Z"
   },
   {
    "duration": -422,
    "start_time": "2021-11-26T19:20:44.556Z"
   },
   {
    "duration": 25,
    "start_time": "2021-11-26T19:23:31.116Z"
   },
   {
    "duration": 14,
    "start_time": "2021-11-26T19:23:32.798Z"
   },
   {
    "duration": 518,
    "start_time": "2021-11-26T19:23:48.954Z"
   },
   {
    "duration": 11,
    "start_time": "2021-11-26T19:27:10.334Z"
   },
   {
    "duration": 7,
    "start_time": "2021-11-26T19:27:13.068Z"
   },
   {
    "duration": 720,
    "start_time": "2021-11-27T06:17:09.118Z"
   },
   {
    "duration": 187,
    "start_time": "2021-11-27T06:17:09.841Z"
   },
   {
    "duration": 28,
    "start_time": "2021-11-27T06:17:10.031Z"
   },
   {
    "duration": 48,
    "start_time": "2021-11-27T06:17:10.063Z"
   },
   {
    "duration": 6,
    "start_time": "2021-11-27T06:17:10.114Z"
   },
   {
    "duration": 246,
    "start_time": "2021-11-27T06:17:10.123Z"
   },
   {
    "duration": 29,
    "start_time": "2021-11-27T06:17:10.371Z"
   },
   {
    "duration": 31,
    "start_time": "2021-11-27T06:17:10.405Z"
   },
   {
    "duration": 57,
    "start_time": "2021-11-27T06:17:10.440Z"
   },
   {
    "duration": 32,
    "start_time": "2021-11-27T06:17:10.499Z"
   },
   {
    "duration": 113,
    "start_time": "2021-11-27T06:17:10.534Z"
   },
   {
    "duration": 149,
    "start_time": "2021-11-27T06:17:10.650Z"
   },
   {
    "duration": 89,
    "start_time": "2021-11-27T06:17:10.802Z"
   },
   {
    "duration": 73,
    "start_time": "2021-11-27T06:17:10.893Z"
   },
   {
    "duration": 4,
    "start_time": "2021-11-27T06:17:10.982Z"
   },
   {
    "duration": 23,
    "start_time": "2021-11-27T06:17:10.988Z"
   },
   {
    "duration": 9,
    "start_time": "2021-11-27T06:17:11.013Z"
   },
   {
    "duration": 13,
    "start_time": "2021-11-27T06:17:11.025Z"
   },
   {
    "duration": 52,
    "start_time": "2021-11-27T06:17:11.040Z"
   },
   {
    "duration": 4,
    "start_time": "2021-11-27T06:17:11.095Z"
   },
   {
    "duration": 35,
    "start_time": "2021-11-27T06:17:11.102Z"
   },
   {
    "duration": 55,
    "start_time": "2021-11-27T06:17:11.140Z"
   },
   {
    "duration": 24,
    "start_time": "2021-11-27T06:17:11.199Z"
   },
   {
    "duration": 22,
    "start_time": "2021-11-27T06:17:11.225Z"
   },
   {
    "duration": 27,
    "start_time": "2021-11-27T06:17:11.282Z"
   },
   {
    "duration": 23,
    "start_time": "2021-11-27T06:17:11.311Z"
   },
   {
    "duration": 6,
    "start_time": "2021-11-27T06:17:11.336Z"
   },
   {
    "duration": 45,
    "start_time": "2021-11-27T06:17:11.344Z"
   },
   {
    "duration": 12,
    "start_time": "2021-11-27T06:17:11.392Z"
   },
   {
    "duration": 7,
    "start_time": "2021-11-27T06:17:11.406Z"
   },
   {
    "duration": 679,
    "start_time": "2021-11-27T06:17:11.415Z"
   },
   {
    "duration": 680,
    "start_time": "2021-11-27T06:17:11.416Z"
   },
   {
    "duration": 671,
    "start_time": "2021-11-27T06:17:11.427Z"
   },
   {
    "duration": 662,
    "start_time": "2021-11-27T06:17:11.437Z"
   },
   {
    "duration": 653,
    "start_time": "2021-11-27T06:17:11.447Z"
   },
   {
    "duration": 646,
    "start_time": "2021-11-27T06:17:11.455Z"
   },
   {
    "duration": 637,
    "start_time": "2021-11-27T06:17:11.465Z"
   },
   {
    "duration": 630,
    "start_time": "2021-11-27T06:17:11.474Z"
   },
   {
    "duration": 6,
    "start_time": "2021-11-27T06:17:54.316Z"
   },
   {
    "duration": 18,
    "start_time": "2021-11-27T06:18:04.266Z"
   },
   {
    "duration": 13,
    "start_time": "2021-11-27T06:18:05.771Z"
   },
   {
    "duration": 5,
    "start_time": "2021-11-27T06:18:12.717Z"
   },
   {
    "duration": 6,
    "start_time": "2021-11-27T06:18:13.588Z"
   },
   {
    "duration": 6,
    "start_time": "2021-11-27T06:22:10.712Z"
   },
   {
    "duration": 300,
    "start_time": "2021-11-27T06:24:44.857Z"
   },
   {
    "duration": 437,
    "start_time": "2021-11-27T06:25:45.697Z"
   },
   {
    "duration": 861,
    "start_time": "2021-11-27T06:25:58.938Z"
   },
   {
    "duration": 709,
    "start_time": "2021-11-27T06:26:00.699Z"
   },
   {
    "duration": 1058,
    "start_time": "2021-11-27T06:26:03.591Z"
   },
   {
    "duration": 6,
    "start_time": "2021-11-27T06:37:12.333Z"
   },
   {
    "duration": 679,
    "start_time": "2021-11-27T06:37:21.154Z"
   },
   {
    "duration": 552,
    "start_time": "2021-11-27T06:37:23.442Z"
   },
   {
    "duration": 591,
    "start_time": "2021-11-27T06:37:24.439Z"
   },
   {
    "duration": 741,
    "start_time": "2021-11-27T06:37:53.005Z"
   },
   {
    "duration": 196,
    "start_time": "2021-11-27T06:37:53.750Z"
   },
   {
    "duration": 38,
    "start_time": "2021-11-27T06:37:53.949Z"
   },
   {
    "duration": 33,
    "start_time": "2021-11-27T06:37:53.990Z"
   },
   {
    "duration": 6,
    "start_time": "2021-11-27T06:37:54.026Z"
   },
   {
    "duration": 251,
    "start_time": "2021-11-27T06:37:54.035Z"
   },
   {
    "duration": 20,
    "start_time": "2021-11-27T06:37:54.289Z"
   },
   {
    "duration": 30,
    "start_time": "2021-11-27T06:37:54.313Z"
   },
   {
    "duration": 52,
    "start_time": "2021-11-27T06:37:54.346Z"
   },
   {
    "duration": 31,
    "start_time": "2021-11-27T06:37:54.401Z"
   },
   {
    "duration": 112,
    "start_time": "2021-11-27T06:37:54.435Z"
   },
   {
    "duration": 114,
    "start_time": "2021-11-27T06:37:54.549Z"
   },
   {
    "duration": 81,
    "start_time": "2021-11-27T06:37:54.666Z"
   },
   {
    "duration": 89,
    "start_time": "2021-11-27T06:37:54.749Z"
   },
   {
    "duration": 5,
    "start_time": "2021-11-27T06:37:54.840Z"
   },
   {
    "duration": 21,
    "start_time": "2021-11-27T06:37:54.847Z"
   },
   {
    "duration": 18,
    "start_time": "2021-11-27T06:37:54.870Z"
   },
   {
    "duration": 15,
    "start_time": "2021-11-27T06:37:54.890Z"
   },
   {
    "duration": 17,
    "start_time": "2021-11-27T06:37:54.907Z"
   },
   {
    "duration": 4,
    "start_time": "2021-11-27T06:37:54.926Z"
   },
   {
    "duration": 69,
    "start_time": "2021-11-27T06:37:54.933Z"
   },
   {
    "duration": 25,
    "start_time": "2021-11-27T06:37:55.004Z"
   },
   {
    "duration": 54,
    "start_time": "2021-11-27T06:37:55.033Z"
   },
   {
    "duration": 25,
    "start_time": "2021-11-27T06:37:55.089Z"
   },
   {
    "duration": 29,
    "start_time": "2021-11-27T06:37:55.116Z"
   },
   {
    "duration": 50,
    "start_time": "2021-11-27T06:37:55.147Z"
   },
   {
    "duration": 6,
    "start_time": "2021-11-27T06:37:55.200Z"
   },
   {
    "duration": 20,
    "start_time": "2021-11-27T06:37:55.208Z"
   },
   {
    "duration": 13,
    "start_time": "2021-11-27T06:37:55.231Z"
   },
   {
    "duration": 39,
    "start_time": "2021-11-27T06:37:55.246Z"
   },
   {
    "duration": 685,
    "start_time": "2021-11-27T06:37:55.287Z"
   },
   {
    "duration": 702,
    "start_time": "2021-11-27T06:37:55.273Z"
   },
   {
    "duration": 699,
    "start_time": "2021-11-27T06:37:55.277Z"
   },
   {
    "duration": 692,
    "start_time": "2021-11-27T06:37:55.285Z"
   },
   {
    "duration": 689,
    "start_time": "2021-11-27T06:37:55.289Z"
   },
   {
    "duration": 688,
    "start_time": "2021-11-27T06:37:55.292Z"
   },
   {
    "duration": 685,
    "start_time": "2021-11-27T06:37:55.296Z"
   },
   {
    "duration": 683,
    "start_time": "2021-11-27T06:37:55.299Z"
   },
   {
    "duration": 6,
    "start_time": "2021-11-27T06:38:12.785Z"
   },
   {
    "duration": 587,
    "start_time": "2021-11-27T06:38:19.297Z"
   },
   {
    "duration": 717,
    "start_time": "2021-11-27T06:38:20.787Z"
   },
   {
    "duration": 602,
    "start_time": "2021-11-27T06:38:43.398Z"
   },
   {
    "duration": 10,
    "start_time": "2021-11-27T06:42:19.912Z"
   },
   {
    "duration": 8,
    "start_time": "2021-11-27T06:42:19.958Z"
   },
   {
    "duration": 6,
    "start_time": "2021-11-27T06:42:20.735Z"
   },
   {
    "duration": 612,
    "start_time": "2021-11-27T06:42:23.056Z"
   },
   {
    "duration": 8,
    "start_time": "2021-11-27T06:43:09.072Z"
   },
   {
    "duration": 27,
    "start_time": "2021-11-27T06:43:16.418Z"
   },
   {
    "duration": 17,
    "start_time": "2021-11-27T06:44:57.605Z"
   },
   {
    "duration": 24,
    "start_time": "2021-11-27T06:45:07.481Z"
   },
   {
    "duration": 18,
    "start_time": "2021-11-27T06:45:15.427Z"
   },
   {
    "duration": 842,
    "start_time": "2021-11-27T11:27:58.705Z"
   },
   {
    "duration": 194,
    "start_time": "2021-11-27T11:27:59.550Z"
   },
   {
    "duration": 26,
    "start_time": "2021-11-27T11:27:59.747Z"
   },
   {
    "duration": 54,
    "start_time": "2021-11-27T11:27:59.775Z"
   },
   {
    "duration": 6,
    "start_time": "2021-11-27T11:27:59.831Z"
   },
   {
    "duration": 247,
    "start_time": "2021-11-27T11:27:59.839Z"
   },
   {
    "duration": 21,
    "start_time": "2021-11-27T11:28:00.088Z"
   },
   {
    "duration": 31,
    "start_time": "2021-11-27T11:28:00.132Z"
   },
   {
    "duration": 31,
    "start_time": "2021-11-27T11:28:00.167Z"
   },
   {
    "duration": 51,
    "start_time": "2021-11-27T11:28:00.201Z"
   },
   {
    "duration": 113,
    "start_time": "2021-11-27T11:28:00.255Z"
   },
   {
    "duration": 114,
    "start_time": "2021-11-27T11:28:00.370Z"
   },
   {
    "duration": 95,
    "start_time": "2021-11-27T11:28:00.486Z"
   },
   {
    "duration": 90,
    "start_time": "2021-11-27T11:28:00.584Z"
   },
   {
    "duration": 5,
    "start_time": "2021-11-27T11:28:00.677Z"
   },
   {
    "duration": 29,
    "start_time": "2021-11-27T11:28:00.685Z"
   },
   {
    "duration": 24,
    "start_time": "2021-11-27T11:28:00.717Z"
   },
   {
    "duration": 16,
    "start_time": "2021-11-27T11:28:00.744Z"
   },
   {
    "duration": 15,
    "start_time": "2021-11-27T11:28:00.763Z"
   },
   {
    "duration": 8,
    "start_time": "2021-11-27T11:28:00.780Z"
   },
   {
    "duration": 71,
    "start_time": "2021-11-27T11:28:00.790Z"
   },
   {
    "duration": 26,
    "start_time": "2021-11-27T11:28:00.864Z"
   },
   {
    "duration": 27,
    "start_time": "2021-11-27T11:28:00.929Z"
   },
   {
    "duration": 26,
    "start_time": "2021-11-27T11:28:00.960Z"
   },
   {
    "duration": 64,
    "start_time": "2021-11-27T11:28:00.988Z"
   },
   {
    "duration": 26,
    "start_time": "2021-11-27T11:28:01.054Z"
   },
   {
    "duration": 6,
    "start_time": "2021-11-27T11:28:01.082Z"
   },
   {
    "duration": 50,
    "start_time": "2021-11-27T11:28:01.090Z"
   },
   {
    "duration": 19,
    "start_time": "2021-11-27T11:28:01.142Z"
   },
   {
    "duration": 11,
    "start_time": "2021-11-27T11:28:01.163Z"
   },
   {
    "duration": 56,
    "start_time": "2021-11-27T11:28:01.176Z"
   },
   {
    "duration": 26,
    "start_time": "2021-11-27T11:28:01.234Z"
   },
   {
    "duration": 23,
    "start_time": "2021-11-27T11:28:01.263Z"
   },
   {
    "duration": 54,
    "start_time": "2021-11-27T11:28:01.289Z"
   },
   {
    "duration": 16,
    "start_time": "2021-11-27T11:28:01.346Z"
   },
   {
    "duration": 9,
    "start_time": "2021-11-27T11:28:01.365Z"
   },
   {
    "duration": 28,
    "start_time": "2021-11-27T11:28:01.378Z"
   },
   {
    "duration": 25,
    "start_time": "2021-11-27T11:28:01.408Z"
   },
   {
    "duration": 10,
    "start_time": "2021-11-27T11:57:10.754Z"
   },
   {
    "duration": 5,
    "start_time": "2021-11-27T11:58:29.388Z"
   },
   {
    "duration": 418,
    "start_time": "2021-11-27T11:58:42.804Z"
   },
   {
    "duration": 792,
    "start_time": "2021-11-27T12:27:09.100Z"
   },
   {
    "duration": 199,
    "start_time": "2021-11-27T12:27:09.895Z"
   },
   {
    "duration": 32,
    "start_time": "2021-11-27T12:27:10.097Z"
   },
   {
    "duration": 32,
    "start_time": "2021-11-27T12:27:10.131Z"
   },
   {
    "duration": 6,
    "start_time": "2021-11-27T12:27:10.166Z"
   },
   {
    "duration": 337,
    "start_time": "2021-11-27T12:27:10.175Z"
   },
   {
    "duration": 36,
    "start_time": "2021-11-27T12:27:10.515Z"
   },
   {
    "duration": 31,
    "start_time": "2021-11-27T12:27:10.555Z"
   },
   {
    "duration": 55,
    "start_time": "2021-11-27T12:27:10.589Z"
   },
   {
    "duration": 34,
    "start_time": "2021-11-27T12:27:10.647Z"
   },
   {
    "duration": 124,
    "start_time": "2021-11-27T12:27:10.684Z"
   },
   {
    "duration": 126,
    "start_time": "2021-11-27T12:27:10.811Z"
   },
   {
    "duration": 95,
    "start_time": "2021-11-27T12:27:10.940Z"
   },
   {
    "duration": 91,
    "start_time": "2021-11-27T12:27:11.038Z"
   },
   {
    "duration": 5,
    "start_time": "2021-11-27T12:27:11.132Z"
   },
   {
    "duration": 20,
    "start_time": "2021-11-27T12:27:11.140Z"
   },
   {
    "duration": 13,
    "start_time": "2021-11-27T12:27:11.163Z"
   },
   {
    "duration": 16,
    "start_time": "2021-11-27T12:27:11.179Z"
   },
   {
    "duration": 20,
    "start_time": "2021-11-27T12:27:11.231Z"
   },
   {
    "duration": 6,
    "start_time": "2021-11-27T12:27:11.254Z"
   },
   {
    "duration": 70,
    "start_time": "2021-11-27T12:27:11.262Z"
   },
   {
    "duration": 35,
    "start_time": "2021-11-27T12:27:11.335Z"
   },
   {
    "duration": 66,
    "start_time": "2021-11-27T12:27:11.378Z"
   },
   {
    "duration": 38,
    "start_time": "2021-11-27T12:27:11.447Z"
   },
   {
    "duration": 61,
    "start_time": "2021-11-27T12:27:11.488Z"
   },
   {
    "duration": 35,
    "start_time": "2021-11-27T12:27:11.552Z"
   },
   {
    "duration": 12,
    "start_time": "2021-11-27T12:27:11.589Z"
   },
   {
    "duration": 45,
    "start_time": "2021-11-27T12:27:11.604Z"
   },
   {
    "duration": 24,
    "start_time": "2021-11-27T12:27:11.653Z"
   },
   {
    "duration": 20,
    "start_time": "2021-11-27T12:27:11.679Z"
   },
   {
    "duration": 56,
    "start_time": "2021-11-27T12:27:11.701Z"
   },
   {
    "duration": 22,
    "start_time": "2021-11-27T12:27:11.759Z"
   },
   {
    "duration": 48,
    "start_time": "2021-11-27T12:27:11.783Z"
   },
   {
    "duration": 23,
    "start_time": "2021-11-27T12:27:11.834Z"
   },
   {
    "duration": 16,
    "start_time": "2021-11-27T12:27:11.860Z"
   },
   {
    "duration": 6,
    "start_time": "2021-11-27T12:27:11.879Z"
   },
   {
    "duration": 47,
    "start_time": "2021-11-27T12:27:11.888Z"
   },
   {
    "duration": 8,
    "start_time": "2021-11-27T12:27:11.938Z"
   },
   {
    "duration": 809,
    "start_time": "2021-11-27T15:02:47.809Z"
   },
   {
    "duration": 209,
    "start_time": "2021-11-27T15:02:48.621Z"
   },
   {
    "duration": 34,
    "start_time": "2021-11-27T15:02:48.833Z"
   },
   {
    "duration": 33,
    "start_time": "2021-11-27T15:02:48.870Z"
   },
   {
    "duration": 5,
    "start_time": "2021-11-27T15:02:48.905Z"
   },
   {
    "duration": 259,
    "start_time": "2021-11-27T15:02:48.913Z"
   },
   {
    "duration": 21,
    "start_time": "2021-11-27T15:02:49.174Z"
   },
   {
    "duration": 31,
    "start_time": "2021-11-27T15:02:49.199Z"
   },
   {
    "duration": 55,
    "start_time": "2021-11-27T15:02:49.233Z"
   },
   {
    "duration": 32,
    "start_time": "2021-11-27T15:02:49.290Z"
   },
   {
    "duration": 114,
    "start_time": "2021-11-27T15:02:49.325Z"
   },
   {
    "duration": 117,
    "start_time": "2021-11-27T15:02:49.442Z"
   },
   {
    "duration": 77,
    "start_time": "2021-11-27T15:02:49.562Z"
   },
   {
    "duration": 91,
    "start_time": "2021-11-27T15:02:49.642Z"
   },
   {
    "duration": 4,
    "start_time": "2021-11-27T15:02:49.736Z"
   },
   {
    "duration": 34,
    "start_time": "2021-11-27T15:02:49.743Z"
   },
   {
    "duration": 10,
    "start_time": "2021-11-27T15:02:49.780Z"
   },
   {
    "duration": 15,
    "start_time": "2021-11-27T15:02:49.792Z"
   },
   {
    "duration": 14,
    "start_time": "2021-11-27T15:02:49.810Z"
   },
   {
    "duration": 4,
    "start_time": "2021-11-27T15:02:50.118Z"
   },
   {
    "duration": 54,
    "start_time": "2021-11-27T15:02:50.125Z"
   },
   {
    "duration": 34,
    "start_time": "2021-11-27T15:02:50.183Z"
   },
   {
    "duration": 50,
    "start_time": "2021-11-27T15:02:50.219Z"
   },
   {
    "duration": 23,
    "start_time": "2021-11-27T15:02:50.271Z"
   },
   {
    "duration": 30,
    "start_time": "2021-11-27T15:02:50.296Z"
   },
   {
    "duration": 53,
    "start_time": "2021-11-27T15:02:50.328Z"
   },
   {
    "duration": 6,
    "start_time": "2021-11-27T15:02:50.383Z"
   },
   {
    "duration": 20,
    "start_time": "2021-11-27T15:02:50.396Z"
   },
   {
    "duration": 15,
    "start_time": "2021-11-27T15:02:50.419Z"
   },
   {
    "duration": 6,
    "start_time": "2021-11-27T15:02:50.467Z"
   },
   {
    "duration": 33,
    "start_time": "2021-11-27T15:02:50.476Z"
   },
   {
    "duration": 20,
    "start_time": "2021-11-27T15:02:50.512Z"
   },
   {
    "duration": 50,
    "start_time": "2021-11-27T15:02:50.535Z"
   },
   {
    "duration": 19,
    "start_time": "2021-11-27T15:02:50.588Z"
   },
   {
    "duration": 13,
    "start_time": "2021-11-27T15:02:50.610Z"
   },
   {
    "duration": 45,
    "start_time": "2021-11-27T15:02:50.625Z"
   },
   {
    "duration": 22,
    "start_time": "2021-11-27T15:02:50.673Z"
   },
   {
    "duration": 9,
    "start_time": "2021-11-27T15:02:50.698Z"
   },
   {
    "duration": 1276,
    "start_time": "2021-11-27T15:08:31.266Z"
   },
   {
    "duration": 192,
    "start_time": "2021-11-27T15:08:32.545Z"
   },
   {
    "duration": 35,
    "start_time": "2021-11-27T15:08:32.741Z"
   },
   {
    "duration": 35,
    "start_time": "2021-11-27T15:08:32.779Z"
   },
   {
    "duration": 6,
    "start_time": "2021-11-27T15:08:32.816Z"
   },
   {
    "duration": 76,
    "start_time": "2021-11-27T15:08:32.824Z"
   },
   {
    "duration": 5,
    "start_time": "2021-11-27T15:08:32.902Z"
   },
   {
    "duration": 32,
    "start_time": "2021-11-27T15:08:32.910Z"
   },
   {
    "duration": 44,
    "start_time": "2021-11-27T15:08:32.945Z"
   },
   {
    "duration": 30,
    "start_time": "2021-11-27T15:08:32.992Z"
   },
   {
    "duration": 119,
    "start_time": "2021-11-27T15:08:33.024Z"
   },
   {
    "duration": 118,
    "start_time": "2021-11-27T15:08:33.145Z"
   },
   {
    "duration": 85,
    "start_time": "2021-11-27T15:08:33.266Z"
   },
   {
    "duration": 95,
    "start_time": "2021-11-27T15:08:33.366Z"
   },
   {
    "duration": 5,
    "start_time": "2021-11-27T15:08:33.467Z"
   },
   {
    "duration": 24,
    "start_time": "2021-11-27T15:08:33.474Z"
   },
   {
    "duration": 10,
    "start_time": "2021-11-27T15:08:33.501Z"
   },
   {
    "duration": 53,
    "start_time": "2021-11-27T15:08:33.514Z"
   },
   {
    "duration": 22,
    "start_time": "2021-11-27T15:08:33.570Z"
   },
   {
    "duration": 5,
    "start_time": "2021-11-27T15:08:37.932Z"
   },
   {
    "duration": 41,
    "start_time": "2021-11-27T15:08:37.940Z"
   },
   {
    "duration": 24,
    "start_time": "2021-11-27T15:08:37.984Z"
   },
   {
    "duration": 27,
    "start_time": "2021-11-27T15:08:38.011Z"
   },
   {
    "duration": 49,
    "start_time": "2021-11-27T15:08:38.040Z"
   },
   {
    "duration": 30,
    "start_time": "2021-11-27T15:08:38.092Z"
   },
   {
    "duration": 57,
    "start_time": "2021-11-27T15:08:38.124Z"
   },
   {
    "duration": 6,
    "start_time": "2021-11-27T15:08:38.184Z"
   },
   {
    "duration": 23,
    "start_time": "2021-11-27T15:08:38.194Z"
   },
   {
    "duration": 13,
    "start_time": "2021-11-27T15:08:38.221Z"
   },
   {
    "duration": 30,
    "start_time": "2021-11-27T15:08:38.237Z"
   },
   {
    "duration": 27,
    "start_time": "2021-11-27T15:08:38.270Z"
   },
   {
    "duration": 18,
    "start_time": "2021-11-27T15:08:38.300Z"
   },
   {
    "duration": 55,
    "start_time": "2021-11-27T15:08:38.321Z"
   },
   {
    "duration": 17,
    "start_time": "2021-11-27T15:08:38.379Z"
   },
   {
    "duration": 12,
    "start_time": "2021-11-27T15:08:38.398Z"
   },
   {
    "duration": 7,
    "start_time": "2021-11-27T15:08:38.412Z"
   },
   {
    "duration": 50,
    "start_time": "2021-11-27T15:08:38.422Z"
   },
   {
    "duration": 8,
    "start_time": "2021-11-27T15:08:38.474Z"
   },
   {
    "duration": 751,
    "start_time": "2021-11-27T15:19:35.862Z"
   },
   {
    "duration": 191,
    "start_time": "2021-11-27T15:19:36.615Z"
   },
   {
    "duration": 26,
    "start_time": "2021-11-27T15:19:36.809Z"
   },
   {
    "duration": 51,
    "start_time": "2021-11-27T15:19:36.838Z"
   },
   {
    "duration": 5,
    "start_time": "2021-11-27T15:19:36.891Z"
   },
   {
    "duration": 41,
    "start_time": "2021-11-27T15:19:36.898Z"
   },
   {
    "duration": 27,
    "start_time": "2021-11-27T15:19:36.941Z"
   },
   {
    "duration": 33,
    "start_time": "2021-11-27T15:19:36.973Z"
   },
   {
    "duration": 26,
    "start_time": "2021-11-27T15:19:37.010Z"
   },
   {
    "duration": 33,
    "start_time": "2021-11-27T15:19:37.068Z"
   },
   {
    "duration": 115,
    "start_time": "2021-11-27T15:19:37.103Z"
   },
   {
    "duration": 116,
    "start_time": "2021-11-27T15:19:37.220Z"
   },
   {
    "duration": 89,
    "start_time": "2021-11-27T15:19:37.338Z"
   },
   {
    "duration": 82,
    "start_time": "2021-11-27T15:19:37.429Z"
   },
   {
    "duration": 4,
    "start_time": "2021-11-27T15:19:37.513Z"
   },
   {
    "duration": 21,
    "start_time": "2021-11-27T15:19:37.519Z"
   },
   {
    "duration": 26,
    "start_time": "2021-11-27T15:19:37.543Z"
   },
   {
    "duration": 14,
    "start_time": "2021-11-27T15:19:37.571Z"
   },
   {
    "duration": 15,
    "start_time": "2021-11-27T15:19:37.588Z"
   },
   {
    "duration": 5,
    "start_time": "2021-11-27T15:19:38.080Z"
   },
   {
    "duration": 37,
    "start_time": "2021-11-27T15:19:38.088Z"
   },
   {
    "duration": 23,
    "start_time": "2021-11-27T15:19:38.128Z"
   },
   {
    "duration": 33,
    "start_time": "2021-11-27T15:19:38.154Z"
   },
   {
    "duration": 22,
    "start_time": "2021-11-27T15:19:38.190Z"
   },
   {
    "duration": 59,
    "start_time": "2021-11-27T15:19:38.215Z"
   },
   {
    "duration": 24,
    "start_time": "2021-11-27T15:19:38.277Z"
   },
   {
    "duration": 7,
    "start_time": "2021-11-27T15:19:38.304Z"
   },
   {
    "duration": 54,
    "start_time": "2021-11-27T15:19:38.316Z"
   },
   {
    "duration": 15,
    "start_time": "2021-11-27T15:19:38.373Z"
   },
   {
    "duration": 7,
    "start_time": "2021-11-27T15:19:38.391Z"
   },
   {
    "duration": 43,
    "start_time": "2021-11-27T15:19:38.401Z"
   },
   {
    "duration": 36,
    "start_time": "2021-11-27T15:19:38.447Z"
   },
   {
    "duration": 25,
    "start_time": "2021-11-27T15:19:38.486Z"
   },
   {
    "duration": 55,
    "start_time": "2021-11-27T15:19:38.513Z"
   },
   {
    "duration": 12,
    "start_time": "2021-11-27T15:19:38.571Z"
   },
   {
    "duration": 7,
    "start_time": "2021-11-27T15:19:38.586Z"
   },
   {
    "duration": 11,
    "start_time": "2021-11-27T15:19:38.596Z"
   },
   {
    "duration": 6,
    "start_time": "2021-11-27T15:19:38.610Z"
   },
   {
    "duration": 725,
    "start_time": "2021-11-27T15:21:14.087Z"
   },
   {
    "duration": 194,
    "start_time": "2021-11-27T15:21:14.814Z"
   },
   {
    "duration": 25,
    "start_time": "2021-11-27T15:21:15.011Z"
   },
   {
    "duration": 49,
    "start_time": "2021-11-27T15:21:15.039Z"
   },
   {
    "duration": 5,
    "start_time": "2021-11-27T15:21:15.091Z"
   },
   {
    "duration": 43,
    "start_time": "2021-11-27T15:21:15.098Z"
   },
   {
    "duration": 5,
    "start_time": "2021-11-27T15:21:15.168Z"
   },
   {
    "duration": 31,
    "start_time": "2021-11-27T15:21:15.177Z"
   },
   {
    "duration": 23,
    "start_time": "2021-11-27T15:21:15.211Z"
   },
   {
    "duration": 59,
    "start_time": "2021-11-27T15:21:15.236Z"
   },
   {
    "duration": 105,
    "start_time": "2021-11-27T15:21:15.298Z"
   },
   {
    "duration": 110,
    "start_time": "2021-11-27T15:21:15.405Z"
   },
   {
    "duration": 88,
    "start_time": "2021-11-27T15:21:15.518Z"
   },
   {
    "duration": 90,
    "start_time": "2021-11-27T15:21:15.609Z"
   },
   {
    "duration": 5,
    "start_time": "2021-11-27T15:21:15.702Z"
   },
   {
    "duration": 17,
    "start_time": "2021-11-27T15:21:15.710Z"
   },
   {
    "duration": 39,
    "start_time": "2021-11-27T15:21:15.730Z"
   },
   {
    "duration": 14,
    "start_time": "2021-11-27T15:21:15.771Z"
   },
   {
    "duration": 14,
    "start_time": "2021-11-27T15:21:15.787Z"
   },
   {
    "duration": 5,
    "start_time": "2021-11-27T15:21:16.354Z"
   },
   {
    "duration": 35,
    "start_time": "2021-11-27T15:21:16.362Z"
   },
   {
    "duration": 22,
    "start_time": "2021-11-27T15:21:16.401Z"
   },
   {
    "duration": 46,
    "start_time": "2021-11-27T15:21:16.427Z"
   },
   {
    "duration": 20,
    "start_time": "2021-11-27T15:21:16.476Z"
   },
   {
    "duration": 24,
    "start_time": "2021-11-27T15:21:16.500Z"
   },
   {
    "duration": 54,
    "start_time": "2021-11-27T15:21:16.526Z"
   },
   {
    "duration": 8,
    "start_time": "2021-11-27T15:21:16.583Z"
   },
   {
    "duration": 17,
    "start_time": "2021-11-27T15:21:16.594Z"
   },
   {
    "duration": 12,
    "start_time": "2021-11-27T15:21:16.614Z"
   },
   {
    "duration": 41,
    "start_time": "2021-11-27T15:21:16.628Z"
   },
   {
    "duration": 36,
    "start_time": "2021-11-27T15:21:16.671Z"
   },
   {
    "duration": 17,
    "start_time": "2021-11-27T15:21:16.709Z"
   },
   {
    "duration": 48,
    "start_time": "2021-11-27T15:21:16.729Z"
   },
   {
    "duration": 16,
    "start_time": "2021-11-27T15:21:16.780Z"
   },
   {
    "duration": 10,
    "start_time": "2021-11-27T15:21:16.798Z"
   },
   {
    "duration": 6,
    "start_time": "2021-11-27T15:21:16.811Z"
   },
   {
    "duration": 51,
    "start_time": "2021-11-27T15:21:16.819Z"
   },
   {
    "duration": 7,
    "start_time": "2021-11-27T15:21:16.873Z"
   },
   {
    "duration": 983,
    "start_time": "2021-11-27T15:22:59.776Z"
   },
   {
    "duration": 193,
    "start_time": "2021-11-27T15:23:00.762Z"
   },
   {
    "duration": 25,
    "start_time": "2021-11-27T15:23:00.958Z"
   },
   {
    "duration": 48,
    "start_time": "2021-11-27T15:23:00.986Z"
   },
   {
    "duration": 11,
    "start_time": "2021-11-27T15:23:01.037Z"
   },
   {
    "duration": 58,
    "start_time": "2021-11-27T15:23:01.051Z"
   },
   {
    "duration": 10,
    "start_time": "2021-11-27T15:23:01.112Z"
   },
   {
    "duration": 52,
    "start_time": "2021-11-27T15:23:01.126Z"
   },
   {
    "duration": 23,
    "start_time": "2021-11-27T15:23:01.181Z"
   },
   {
    "duration": 31,
    "start_time": "2021-11-27T15:23:01.207Z"
   },
   {
    "duration": 110,
    "start_time": "2021-11-27T15:23:01.240Z"
   },
   {
    "duration": 111,
    "start_time": "2021-11-27T15:23:01.367Z"
   },
   {
    "duration": 90,
    "start_time": "2021-11-27T15:23:01.481Z"
   },
   {
    "duration": 76,
    "start_time": "2021-11-27T15:23:01.573Z"
   },
   {
    "duration": 17,
    "start_time": "2021-11-27T15:23:01.651Z"
   },
   {
    "duration": 36,
    "start_time": "2021-11-27T15:23:01.671Z"
   },
   {
    "duration": 19,
    "start_time": "2021-11-27T15:23:01.710Z"
   },
   {
    "duration": 24,
    "start_time": "2021-11-27T15:23:01.732Z"
   },
   {
    "duration": 22,
    "start_time": "2021-11-27T15:23:01.759Z"
   },
   {
    "duration": 4,
    "start_time": "2021-11-27T15:23:01.999Z"
   },
   {
    "duration": 35,
    "start_time": "2021-11-27T15:23:02.007Z"
   },
   {
    "duration": 22,
    "start_time": "2021-11-27T15:23:02.046Z"
   },
   {
    "duration": 24,
    "start_time": "2021-11-27T15:23:02.072Z"
   },
   {
    "duration": 23,
    "start_time": "2021-11-27T15:23:02.099Z"
   },
   {
    "duration": 61,
    "start_time": "2021-11-27T15:23:02.125Z"
   },
   {
    "duration": 21,
    "start_time": "2021-11-27T15:23:02.189Z"
   },
   {
    "duration": 16,
    "start_time": "2021-11-27T15:23:02.213Z"
   },
   {
    "duration": 23,
    "start_time": "2021-11-27T15:23:02.267Z"
   },
   {
    "duration": 29,
    "start_time": "2021-11-27T15:23:02.294Z"
   },
   {
    "duration": 15,
    "start_time": "2021-11-27T15:23:02.333Z"
   },
   {
    "duration": 52,
    "start_time": "2021-11-27T15:23:02.352Z"
   },
   {
    "duration": 17,
    "start_time": "2021-11-27T15:23:02.406Z"
   },
   {
    "duration": 46,
    "start_time": "2021-11-27T15:23:02.426Z"
   },
   {
    "duration": 18,
    "start_time": "2021-11-27T15:23:02.475Z"
   },
   {
    "duration": 10,
    "start_time": "2021-11-27T15:23:02.495Z"
   },
   {
    "duration": 7,
    "start_time": "2021-11-27T15:23:02.507Z"
   },
   {
    "duration": 21,
    "start_time": "2021-11-27T15:23:02.517Z"
   },
   {
    "duration": 7,
    "start_time": "2021-11-27T15:23:02.568Z"
   },
   {
    "duration": 742,
    "start_time": "2021-11-27T15:30:14.383Z"
   },
   {
    "duration": 196,
    "start_time": "2021-11-27T15:30:15.128Z"
   },
   {
    "duration": 27,
    "start_time": "2021-11-27T15:30:15.327Z"
   },
   {
    "duration": 34,
    "start_time": "2021-11-27T15:30:15.367Z"
   },
   {
    "duration": 6,
    "start_time": "2021-11-27T15:30:15.404Z"
   },
   {
    "duration": 74,
    "start_time": "2021-11-27T15:30:15.413Z"
   },
   {
    "duration": 5,
    "start_time": "2021-11-27T15:30:15.490Z"
   },
   {
    "duration": 35,
    "start_time": "2021-11-27T15:30:15.499Z"
   },
   {
    "duration": 46,
    "start_time": "2021-11-27T15:30:15.537Z"
   },
   {
    "duration": 31,
    "start_time": "2021-11-27T15:30:15.586Z"
   },
   {
    "duration": 117,
    "start_time": "2021-11-27T15:30:15.619Z"
   },
   {
    "duration": 107,
    "start_time": "2021-11-27T15:30:15.738Z"
   },
   {
    "duration": 79,
    "start_time": "2021-11-27T15:30:15.848Z"
   },
   {
    "duration": 3658,
    "start_time": "2021-11-27T15:30:15.929Z"
   },
   {
    "duration": 1291,
    "start_time": "2021-11-27T15:30:18.299Z"
   },
   {
    "duration": 1284,
    "start_time": "2021-11-27T15:30:18.308Z"
   },
   {
    "duration": 1277,
    "start_time": "2021-11-27T15:30:18.317Z"
   },
   {
    "duration": 1270,
    "start_time": "2021-11-27T15:30:18.327Z"
   },
   {
    "duration": 1261,
    "start_time": "2021-11-27T15:30:18.338Z"
   },
   {
    "duration": 1254,
    "start_time": "2021-11-27T15:30:18.348Z"
   },
   {
    "duration": 1250,
    "start_time": "2021-11-27T15:30:18.354Z"
   },
   {
    "duration": 1247,
    "start_time": "2021-11-27T15:30:18.359Z"
   },
   {
    "duration": 1245,
    "start_time": "2021-11-27T15:30:18.364Z"
   },
   {
    "duration": 1243,
    "start_time": "2021-11-27T15:30:18.368Z"
   },
   {
    "duration": 1240,
    "start_time": "2021-11-27T15:30:18.373Z"
   },
   {
    "duration": 1237,
    "start_time": "2021-11-27T15:30:18.377Z"
   },
   {
    "duration": 1233,
    "start_time": "2021-11-27T15:30:18.382Z"
   },
   {
    "duration": 1230,
    "start_time": "2021-11-27T15:30:18.386Z"
   },
   {
    "duration": 1221,
    "start_time": "2021-11-27T15:30:18.397Z"
   },
   {
    "duration": 1218,
    "start_time": "2021-11-27T15:30:18.401Z"
   },
   {
    "duration": 1215,
    "start_time": "2021-11-27T15:30:18.405Z"
   },
   {
    "duration": 1211,
    "start_time": "2021-11-27T15:30:18.410Z"
   },
   {
    "duration": 1209,
    "start_time": "2021-11-27T15:30:18.414Z"
   },
   {
    "duration": 1207,
    "start_time": "2021-11-27T15:30:18.417Z"
   },
   {
    "duration": 1204,
    "start_time": "2021-11-27T15:30:18.422Z"
   },
   {
    "duration": 1242,
    "start_time": "2021-11-27T15:30:18.425Z"
   },
   {
    "duration": 1239,
    "start_time": "2021-11-27T15:30:18.430Z"
   },
   {
    "duration": 1237,
    "start_time": "2021-11-27T15:30:18.433Z"
   },
   {
    "duration": 774,
    "start_time": "2021-11-27T15:53:49.467Z"
   },
   {
    "duration": 193,
    "start_time": "2021-11-27T15:53:50.243Z"
   },
   {
    "duration": 35,
    "start_time": "2021-11-27T15:53:50.439Z"
   },
   {
    "duration": 37,
    "start_time": "2021-11-27T15:53:50.477Z"
   },
   {
    "duration": 7,
    "start_time": "2021-11-27T15:53:50.516Z"
   },
   {
    "duration": 62,
    "start_time": "2021-11-27T15:53:50.525Z"
   },
   {
    "duration": 8,
    "start_time": "2021-11-27T15:53:50.590Z"
   },
   {
    "duration": 43,
    "start_time": "2021-11-27T15:53:50.601Z"
   },
   {
    "duration": 36,
    "start_time": "2021-11-27T15:53:50.647Z"
   },
   {
    "duration": 33,
    "start_time": "2021-11-27T15:53:50.685Z"
   },
   {
    "duration": 109,
    "start_time": "2021-11-27T15:53:50.720Z"
   },
   {
    "duration": 114,
    "start_time": "2021-11-27T15:53:50.831Z"
   },
   {
    "duration": 87,
    "start_time": "2021-11-27T15:53:50.947Z"
   },
   {
    "duration": 87,
    "start_time": "2021-11-27T15:53:51.036Z"
   },
   {
    "duration": 4,
    "start_time": "2021-11-27T15:53:51.125Z"
   },
   {
    "duration": 23,
    "start_time": "2021-11-27T15:53:51.131Z"
   },
   {
    "duration": 9,
    "start_time": "2021-11-27T15:53:51.167Z"
   },
   {
    "duration": 14,
    "start_time": "2021-11-27T15:53:51.178Z"
   },
   {
    "duration": 15,
    "start_time": "2021-11-27T15:53:51.194Z"
   },
   {
    "duration": 4,
    "start_time": "2021-11-27T15:53:51.709Z"
   },
   {
    "duration": 30,
    "start_time": "2021-11-27T15:53:51.716Z"
   },
   {
    "duration": 22,
    "start_time": "2021-11-27T15:53:51.749Z"
   },
   {
    "duration": 21,
    "start_time": "2021-11-27T15:53:51.774Z"
   },
   {
    "duration": 21,
    "start_time": "2021-11-27T15:53:51.797Z"
   },
   {
    "duration": 62,
    "start_time": "2021-11-27T15:53:51.820Z"
   },
   {
    "duration": 22,
    "start_time": "2021-11-27T15:53:51.884Z"
   },
   {
    "duration": 12,
    "start_time": "2021-11-27T15:53:51.909Z"
   },
   {
    "duration": 42,
    "start_time": "2021-11-27T15:53:51.925Z"
   },
   {
    "duration": 14,
    "start_time": "2021-11-27T15:53:51.970Z"
   },
   {
    "duration": 6,
    "start_time": "2021-11-27T15:53:51.987Z"
   },
   {
    "duration": 36,
    "start_time": "2021-11-27T15:53:51.996Z"
   },
   {
    "duration": 43,
    "start_time": "2021-11-27T15:53:52.034Z"
   },
   {
    "duration": 25,
    "start_time": "2021-11-27T15:53:52.080Z"
   },
   {
    "duration": 18,
    "start_time": "2021-11-27T15:53:52.107Z"
   },
   {
    "duration": 45,
    "start_time": "2021-11-27T15:53:52.127Z"
   },
   {
    "duration": 7,
    "start_time": "2021-11-27T15:53:52.174Z"
   },
   {
    "duration": 12,
    "start_time": "2021-11-27T15:53:52.183Z"
   },
   {
    "duration": 7,
    "start_time": "2021-11-27T15:53:52.197Z"
   },
   {
    "duration": 783,
    "start_time": "2021-11-27T16:27:54.887Z"
   },
   {
    "duration": 199,
    "start_time": "2021-11-27T16:27:55.673Z"
   },
   {
    "duration": 27,
    "start_time": "2021-11-27T16:27:55.875Z"
   },
   {
    "duration": 66,
    "start_time": "2021-11-27T16:27:55.906Z"
   },
   {
    "duration": 6,
    "start_time": "2021-11-27T16:27:55.975Z"
   },
   {
    "duration": 47,
    "start_time": "2021-11-27T16:27:55.984Z"
   },
   {
    "duration": 33,
    "start_time": "2021-11-27T16:27:56.034Z"
   },
   {
    "duration": 31,
    "start_time": "2021-11-27T16:27:56.071Z"
   },
   {
    "duration": 30,
    "start_time": "2021-11-27T16:27:56.105Z"
   },
   {
    "duration": 55,
    "start_time": "2021-11-27T16:27:56.137Z"
   },
   {
    "duration": 104,
    "start_time": "2021-11-27T16:27:56.195Z"
   },
   {
    "duration": 112,
    "start_time": "2021-11-27T16:27:56.301Z"
   },
   {
    "duration": 92,
    "start_time": "2021-11-27T16:27:56.415Z"
   },
   {
    "duration": 85,
    "start_time": "2021-11-27T16:27:56.510Z"
   },
   {
    "duration": 4,
    "start_time": "2021-11-27T16:27:56.598Z"
   },
   {
    "duration": 15,
    "start_time": "2021-11-27T16:27:56.605Z"
   },
   {
    "duration": 9,
    "start_time": "2021-11-27T16:27:56.623Z"
   },
   {
    "duration": 44,
    "start_time": "2021-11-27T16:27:56.635Z"
   },
   {
    "duration": 15,
    "start_time": "2021-11-27T16:27:56.681Z"
   },
   {
    "duration": 5,
    "start_time": "2021-11-27T16:27:57.264Z"
   },
   {
    "duration": 28,
    "start_time": "2021-11-27T16:27:57.272Z"
   },
   {
    "duration": 20,
    "start_time": "2021-11-27T16:27:57.303Z"
   },
   {
    "duration": 45,
    "start_time": "2021-11-27T16:27:57.326Z"
   },
   {
    "duration": 20,
    "start_time": "2021-11-27T16:27:57.373Z"
   },
   {
    "duration": 23,
    "start_time": "2021-11-27T16:27:57.395Z"
   },
   {
    "duration": 57,
    "start_time": "2021-11-27T16:27:57.420Z"
   },
   {
    "duration": 11,
    "start_time": "2021-11-27T16:27:57.480Z"
   },
   {
    "duration": 18,
    "start_time": "2021-11-27T16:27:57.495Z"
   },
   {
    "duration": 13,
    "start_time": "2021-11-27T16:27:57.516Z"
   },
   {
    "duration": 40,
    "start_time": "2021-11-27T16:27:57.531Z"
   },
   {
    "duration": 33,
    "start_time": "2021-11-27T16:27:57.573Z"
   },
   {
    "duration": 16,
    "start_time": "2021-11-27T16:27:57.608Z"
   },
   {
    "duration": 52,
    "start_time": "2021-11-27T16:27:57.627Z"
   },
   {
    "duration": 19,
    "start_time": "2021-11-27T16:27:57.682Z"
   },
   {
    "duration": 12,
    "start_time": "2021-11-27T16:27:57.704Z"
   },
   {
    "duration": 6,
    "start_time": "2021-11-27T16:27:57.719Z"
   },
   {
    "duration": 8,
    "start_time": "2021-11-27T16:27:57.768Z"
   },
   {
    "duration": 6,
    "start_time": "2021-11-27T16:27:57.778Z"
   },
   {
    "duration": 116,
    "start_time": "2021-11-27T16:27:57.786Z"
   },
   {
    "duration": 716,
    "start_time": "2021-11-27T16:35:21.607Z"
   },
   {
    "duration": 194,
    "start_time": "2021-11-27T16:35:22.326Z"
   },
   {
    "duration": 25,
    "start_time": "2021-11-27T16:35:22.524Z"
   },
   {
    "duration": 44,
    "start_time": "2021-11-27T16:35:22.552Z"
   },
   {
    "duration": 5,
    "start_time": "2021-11-27T16:35:22.599Z"
   },
   {
    "duration": 28,
    "start_time": "2021-11-27T16:35:22.607Z"
   },
   {
    "duration": 35,
    "start_time": "2021-11-27T16:35:22.637Z"
   },
   {
    "duration": 34,
    "start_time": "2021-11-27T16:35:22.675Z"
   },
   {
    "duration": 23,
    "start_time": "2021-11-27T16:35:22.713Z"
   },
   {
    "duration": 30,
    "start_time": "2021-11-27T16:35:22.769Z"
   },
   {
    "duration": 101,
    "start_time": "2021-11-27T16:35:22.801Z"
   },
   {
    "duration": 112,
    "start_time": "2021-11-27T16:35:22.905Z"
   },
   {
    "duration": 87,
    "start_time": "2021-11-27T16:35:23.019Z"
   },
   {
    "duration": 87,
    "start_time": "2021-11-27T16:35:23.108Z"
   },
   {
    "duration": 4,
    "start_time": "2021-11-27T16:35:23.197Z"
   },
   {
    "duration": 20,
    "start_time": "2021-11-27T16:35:23.203Z"
   },
   {
    "duration": 9,
    "start_time": "2021-11-27T16:35:23.226Z"
   },
   {
    "duration": 35,
    "start_time": "2021-11-27T16:35:23.237Z"
   },
   {
    "duration": 14,
    "start_time": "2021-11-27T16:35:23.274Z"
   },
   {
    "duration": 5,
    "start_time": "2021-11-27T16:35:25.023Z"
   },
   {
    "duration": 29,
    "start_time": "2021-11-27T16:35:25.031Z"
   },
   {
    "duration": 21,
    "start_time": "2021-11-27T16:35:25.063Z"
   },
   {
    "duration": 20,
    "start_time": "2021-11-27T16:35:25.086Z"
   },
   {
    "duration": 19,
    "start_time": "2021-11-27T16:35:25.108Z"
   },
   {
    "duration": 57,
    "start_time": "2021-11-27T16:35:25.130Z"
   },
   {
    "duration": 20,
    "start_time": "2021-11-27T16:35:25.189Z"
   },
   {
    "duration": 11,
    "start_time": "2021-11-27T16:35:25.212Z"
   },
   {
    "duration": 51,
    "start_time": "2021-11-27T16:35:25.226Z"
   },
   {
    "duration": 13,
    "start_time": "2021-11-27T16:35:25.280Z"
   },
   {
    "duration": 6,
    "start_time": "2021-11-27T16:35:25.295Z"
   },
   {
    "duration": 36,
    "start_time": "2021-11-27T16:35:25.303Z"
   },
   {
    "duration": 18,
    "start_time": "2021-11-27T16:35:25.366Z"
   },
   {
    "duration": 23,
    "start_time": "2021-11-27T16:35:25.386Z"
   },
   {
    "duration": 16,
    "start_time": "2021-11-27T16:35:25.412Z"
   },
   {
    "duration": 38,
    "start_time": "2021-11-27T16:35:25.431Z"
   },
   {
    "duration": 6,
    "start_time": "2021-11-27T16:35:25.472Z"
   },
   {
    "duration": 10,
    "start_time": "2021-11-27T16:35:25.480Z"
   },
   {
    "duration": 7,
    "start_time": "2021-11-27T16:35:25.492Z"
   },
   {
    "duration": 79,
    "start_time": "2021-11-28T08:47:50.629Z"
   },
   {
    "duration": 257,
    "start_time": "2021-11-28T08:47:58.827Z"
   },
   {
    "duration": 532,
    "start_time": "2021-11-28T08:48:09.137Z"
   },
   {
    "duration": 116,
    "start_time": "2021-11-28T08:48:09.671Z"
   },
   {
    "duration": 14,
    "start_time": "2021-11-28T08:48:09.789Z"
   },
   {
    "duration": 21,
    "start_time": "2021-11-28T08:48:09.805Z"
   },
   {
    "duration": 3,
    "start_time": "2021-11-28T08:48:09.828Z"
   },
   {
    "duration": 17,
    "start_time": "2021-11-28T08:48:09.832Z"
   },
   {
    "duration": 3,
    "start_time": "2021-11-28T08:48:09.851Z"
   },
   {
    "duration": 43,
    "start_time": "2021-11-28T08:48:09.856Z"
   },
   {
    "duration": 14,
    "start_time": "2021-11-28T08:48:09.901Z"
   },
   {
    "duration": 18,
    "start_time": "2021-11-28T08:48:09.916Z"
   },
   {
    "duration": 61,
    "start_time": "2021-11-28T08:48:09.936Z"
   },
   {
    "duration": 62,
    "start_time": "2021-11-28T08:48:09.999Z"
   },
   {
    "duration": 58,
    "start_time": "2021-11-28T08:48:10.063Z"
   },
   {
    "duration": 244,
    "start_time": "2021-11-28T08:48:12.218Z"
   },
   {
    "duration": 35,
    "start_time": "2021-11-28T08:48:23.486Z"
   },
   {
    "duration": 542,
    "start_time": "2021-11-28T09:12:41.795Z"
   },
   {
    "duration": 115,
    "start_time": "2021-11-28T09:12:42.338Z"
   },
   {
    "duration": 14,
    "start_time": "2021-11-28T09:12:42.455Z"
   },
   {
    "duration": 22,
    "start_time": "2021-11-28T09:12:42.471Z"
   },
   {
    "duration": 7,
    "start_time": "2021-11-28T09:12:42.494Z"
   },
   {
    "duration": 18,
    "start_time": "2021-11-28T09:12:42.502Z"
   },
   {
    "duration": 3,
    "start_time": "2021-11-28T09:12:42.521Z"
   },
   {
    "duration": 20,
    "start_time": "2021-11-28T09:12:42.526Z"
   },
   {
    "duration": 14,
    "start_time": "2021-11-28T09:12:42.548Z"
   },
   {
    "duration": 38,
    "start_time": "2021-11-28T09:12:42.563Z"
   },
   {
    "duration": 50,
    "start_time": "2021-11-28T09:12:42.603Z"
   },
   {
    "duration": 72,
    "start_time": "2021-11-28T09:12:42.654Z"
   },
   {
    "duration": 44,
    "start_time": "2021-11-28T09:12:42.727Z"
   },
   {
    "duration": 53,
    "start_time": "2021-11-28T09:12:42.772Z"
   },
   {
    "duration": 3,
    "start_time": "2021-11-28T09:12:42.827Z"
   },
   {
    "duration": 12,
    "start_time": "2021-11-28T09:12:42.831Z"
   },
   {
    "duration": 5,
    "start_time": "2021-11-28T09:12:42.845Z"
   },
   {
    "duration": 10,
    "start_time": "2021-11-28T09:12:42.851Z"
   },
   {
    "duration": 29,
    "start_time": "2021-11-28T09:12:42.862Z"
   },
   {
    "duration": 3,
    "start_time": "2021-11-28T09:12:42.892Z"
   },
   {
    "duration": 17,
    "start_time": "2021-11-28T09:12:42.896Z"
   },
   {
    "duration": 11,
    "start_time": "2021-11-28T09:12:42.915Z"
   },
   {
    "duration": 12,
    "start_time": "2021-11-28T09:12:42.929Z"
   },
   {
    "duration": 11,
    "start_time": "2021-11-28T09:12:42.942Z"
   },
   {
    "duration": 43,
    "start_time": "2021-11-28T09:12:42.954Z"
   },
   {
    "duration": 13,
    "start_time": "2021-11-28T09:12:42.998Z"
   },
   {
    "duration": 7,
    "start_time": "2021-11-28T09:12:43.012Z"
   },
   {
    "duration": 13,
    "start_time": "2021-11-28T09:12:43.020Z"
   },
   {
    "duration": 8,
    "start_time": "2021-11-28T09:12:43.035Z"
   },
   {
    "duration": 4,
    "start_time": "2021-11-28T09:12:43.045Z"
   },
   {
    "duration": 42,
    "start_time": "2021-11-28T09:12:43.050Z"
   },
   {
    "duration": 11,
    "start_time": "2021-11-28T09:12:43.093Z"
   },
   {
    "duration": 14,
    "start_time": "2021-11-28T09:12:43.105Z"
   },
   {
    "duration": 10,
    "start_time": "2021-11-28T09:12:43.120Z"
   },
   {
    "duration": 6,
    "start_time": "2021-11-28T09:12:43.132Z"
   },
   {
    "duration": 4,
    "start_time": "2021-11-28T09:12:43.139Z"
   },
   {
    "duration": 11,
    "start_time": "2021-11-28T09:12:43.144Z"
   },
   {
    "duration": 33,
    "start_time": "2021-11-28T09:12:43.156Z"
   },
   {
    "duration": 345,
    "start_time": "2021-11-28T12:34:22.217Z"
   },
   {
    "duration": 277,
    "start_time": "2021-11-28T12:34:33.332Z"
   },
   {
    "duration": 253,
    "start_time": "2021-11-28T12:35:04.019Z"
   },
   {
    "duration": 284,
    "start_time": "2021-11-28T12:37:05.424Z"
   },
   {
    "duration": 297,
    "start_time": "2021-11-28T12:38:45.398Z"
   },
   {
    "duration": 298,
    "start_time": "2021-11-28T12:50:47.895Z"
   },
   {
    "duration": 757,
    "start_time": "2021-11-28T12:51:37.724Z"
   },
   {
    "duration": 187,
    "start_time": "2021-11-28T12:51:38.484Z"
   },
   {
    "duration": 27,
    "start_time": "2021-11-28T12:51:38.674Z"
   },
   {
    "duration": 35,
    "start_time": "2021-11-28T12:51:38.703Z"
   },
   {
    "duration": 30,
    "start_time": "2021-11-28T12:51:38.741Z"
   },
   {
    "duration": 28,
    "start_time": "2021-11-28T12:51:38.774Z"
   },
   {
    "duration": 15,
    "start_time": "2021-11-28T12:51:38.805Z"
   },
   {
    "duration": 55,
    "start_time": "2021-11-28T12:51:38.824Z"
   },
   {
    "duration": 28,
    "start_time": "2021-11-28T12:51:38.883Z"
   },
   {
    "duration": 33,
    "start_time": "2021-11-28T12:51:38.914Z"
   },
   {
    "duration": 98,
    "start_time": "2021-11-28T12:51:38.968Z"
   },
   {
    "duration": 111,
    "start_time": "2021-11-28T12:51:39.069Z"
   },
   {
    "duration": 90,
    "start_time": "2021-11-28T12:51:39.183Z"
   },
   {
    "duration": 4,
    "start_time": "2021-11-28T12:51:39.275Z"
   },
   {
    "duration": 20,
    "start_time": "2021-11-28T12:51:39.282Z"
   },
   {
    "duration": 12,
    "start_time": "2021-11-28T12:51:39.305Z"
   },
   {
    "duration": 49,
    "start_time": "2021-11-28T12:51:39.319Z"
   },
   {
    "duration": 15,
    "start_time": "2021-11-28T12:51:39.371Z"
   },
   {
    "duration": 5,
    "start_time": "2021-11-28T12:51:39.388Z"
   },
   {
    "duration": 38,
    "start_time": "2021-11-28T12:51:39.395Z"
   },
   {
    "duration": 48,
    "start_time": "2021-11-28T12:51:39.435Z"
   },
   {
    "duration": 20,
    "start_time": "2021-11-28T12:51:39.485Z"
   },
   {
    "duration": 19,
    "start_time": "2021-11-28T12:51:39.510Z"
   },
   {
    "duration": 55,
    "start_time": "2021-11-28T12:51:39.531Z"
   },
   {
    "duration": 20,
    "start_time": "2021-11-28T12:51:39.588Z"
   },
   {
    "duration": 11,
    "start_time": "2021-11-28T12:51:39.611Z"
   },
   {
    "duration": 54,
    "start_time": "2021-11-28T12:51:39.625Z"
   },
   {
    "duration": 13,
    "start_time": "2021-11-28T12:51:39.681Z"
   },
   {
    "duration": 6,
    "start_time": "2021-11-28T12:51:39.696Z"
   },
   {
    "duration": 31,
    "start_time": "2021-11-28T12:51:39.704Z"
   },
   {
    "duration": 42,
    "start_time": "2021-11-28T12:51:39.737Z"
   },
   {
    "duration": 21,
    "start_time": "2021-11-28T12:51:39.782Z"
   },
   {
    "duration": 16,
    "start_time": "2021-11-28T12:51:39.805Z"
   },
   {
    "duration": 43,
    "start_time": "2021-11-28T12:51:39.823Z"
   },
   {
    "duration": 6,
    "start_time": "2021-11-28T12:51:39.869Z"
   },
   {
    "duration": 10,
    "start_time": "2021-11-28T12:51:39.877Z"
   },
   {
    "duration": 7,
    "start_time": "2021-11-28T12:51:39.889Z"
   },
   {
    "duration": 748,
    "start_time": "2021-11-28T12:53:05.903Z"
   },
   {
    "duration": 182,
    "start_time": "2021-11-28T12:53:06.653Z"
   },
   {
    "duration": 33,
    "start_time": "2021-11-28T12:53:06.839Z"
   },
   {
    "duration": 33,
    "start_time": "2021-11-28T12:53:06.875Z"
   },
   {
    "duration": 5,
    "start_time": "2021-11-28T12:53:06.911Z"
   },
   {
    "duration": 60,
    "start_time": "2021-11-28T12:53:06.919Z"
   },
   {
    "duration": 8,
    "start_time": "2021-11-28T12:53:06.982Z"
   },
   {
    "duration": 32,
    "start_time": "2021-11-28T12:53:06.994Z"
   },
   {
    "duration": 52,
    "start_time": "2021-11-28T12:53:07.029Z"
   },
   {
    "duration": 31,
    "start_time": "2021-11-28T12:53:07.083Z"
   },
   {
    "duration": 108,
    "start_time": "2021-11-28T12:53:07.117Z"
   },
   {
    "duration": 113,
    "start_time": "2021-11-28T12:53:07.227Z"
   },
   {
    "duration": 83,
    "start_time": "2021-11-28T12:53:07.343Z"
   },
   {
    "duration": 4,
    "start_time": "2021-11-28T12:53:07.429Z"
   },
   {
    "duration": 32,
    "start_time": "2021-11-28T12:53:07.435Z"
   },
   {
    "duration": 9,
    "start_time": "2021-11-28T12:53:07.470Z"
   },
   {
    "duration": 15,
    "start_time": "2021-11-28T12:53:07.481Z"
   },
   {
    "duration": 16,
    "start_time": "2021-11-28T12:53:07.498Z"
   },
   {
    "duration": 5,
    "start_time": "2021-11-28T12:53:07.517Z"
   },
   {
    "duration": 64,
    "start_time": "2021-11-28T12:53:07.525Z"
   },
   {
    "duration": 22,
    "start_time": "2021-11-28T12:53:07.592Z"
   },
   {
    "duration": 59,
    "start_time": "2021-11-28T12:53:07.617Z"
   },
   {
    "duration": 19,
    "start_time": "2021-11-28T12:53:07.683Z"
   },
   {
    "duration": 21,
    "start_time": "2021-11-28T12:53:07.705Z"
   },
   {
    "duration": 59,
    "start_time": "2021-11-28T12:53:07.729Z"
   },
   {
    "duration": 13,
    "start_time": "2021-11-28T12:53:07.791Z"
   },
   {
    "duration": 18,
    "start_time": "2021-11-28T12:53:07.807Z"
   },
   {
    "duration": 52,
    "start_time": "2021-11-28T12:53:07.827Z"
   },
   {
    "duration": 6,
    "start_time": "2021-11-28T12:53:07.881Z"
   },
   {
    "duration": 32,
    "start_time": "2021-11-28T12:53:07.890Z"
   },
   {
    "duration": 53,
    "start_time": "2021-11-28T12:53:07.925Z"
   },
   {
    "duration": 24,
    "start_time": "2021-11-28T12:53:07.981Z"
   },
   {
    "duration": 18,
    "start_time": "2021-11-28T12:53:08.008Z"
   },
   {
    "duration": 45,
    "start_time": "2021-11-28T12:53:08.029Z"
   },
   {
    "duration": 8,
    "start_time": "2021-11-28T12:53:08.077Z"
   },
   {
    "duration": 16,
    "start_time": "2021-11-28T12:53:08.087Z"
   },
   {
    "duration": 7,
    "start_time": "2021-11-28T12:53:08.105Z"
   },
   {
    "duration": 15,
    "start_time": "2021-11-28T12:54:28.871Z"
   },
   {
    "duration": 14,
    "start_time": "2021-11-28T12:54:31.652Z"
   },
   {
    "duration": 14,
    "start_time": "2021-11-28T12:54:32.463Z"
   },
   {
    "duration": 4,
    "start_time": "2021-11-28T12:54:36.040Z"
   },
   {
    "duration": 5,
    "start_time": "2021-11-28T12:54:36.712Z"
   },
   {
    "duration": 5,
    "start_time": "2021-11-28T12:54:37.411Z"
   },
   {
    "duration": 14,
    "start_time": "2021-11-28T12:56:33.339Z"
   },
   {
    "duration": 15,
    "start_time": "2021-11-28T12:56:34.612Z"
   },
   {
    "duration": 14,
    "start_time": "2021-11-28T12:56:35.321Z"
   },
   {
    "duration": 761,
    "start_time": "2021-11-28T12:57:41.401Z"
   },
   {
    "duration": 224,
    "start_time": "2021-11-28T12:57:42.165Z"
   },
   {
    "duration": 30,
    "start_time": "2021-11-28T12:57:42.393Z"
   },
   {
    "duration": 66,
    "start_time": "2021-11-28T12:57:42.427Z"
   },
   {
    "duration": 7,
    "start_time": "2021-11-28T12:57:42.496Z"
   },
   {
    "duration": 65,
    "start_time": "2021-11-28T12:57:42.507Z"
   },
   {
    "duration": 8,
    "start_time": "2021-11-28T12:57:42.575Z"
   },
   {
    "duration": 34,
    "start_time": "2021-11-28T12:57:42.588Z"
   },
   {
    "duration": 56,
    "start_time": "2021-11-28T12:57:42.625Z"
   },
   {
    "duration": 32,
    "start_time": "2021-11-28T12:57:42.683Z"
   },
   {
    "duration": 118,
    "start_time": "2021-11-28T12:57:42.718Z"
   },
   {
    "duration": 125,
    "start_time": "2021-11-28T12:57:42.839Z"
   },
   {
    "duration": 85,
    "start_time": "2021-11-28T12:57:42.969Z"
   },
   {
    "duration": 4,
    "start_time": "2021-11-28T12:57:43.068Z"
   },
   {
    "duration": 17,
    "start_time": "2021-11-28T12:57:43.076Z"
   },
   {
    "duration": 15,
    "start_time": "2021-11-28T12:57:43.095Z"
   },
   {
    "duration": 15,
    "start_time": "2021-11-28T12:57:43.113Z"
   },
   {
    "duration": 54,
    "start_time": "2021-11-28T12:57:43.132Z"
   },
   {
    "duration": 5,
    "start_time": "2021-11-28T12:57:43.189Z"
   },
   {
    "duration": 28,
    "start_time": "2021-11-28T12:57:43.197Z"
   },
   {
    "duration": 48,
    "start_time": "2021-11-28T12:57:43.228Z"
   },
   {
    "duration": 21,
    "start_time": "2021-11-28T12:57:43.279Z"
   },
   {
    "duration": 21,
    "start_time": "2021-11-28T12:57:43.306Z"
   },
   {
    "duration": 56,
    "start_time": "2021-11-28T12:57:43.330Z"
   },
   {
    "duration": 23,
    "start_time": "2021-11-28T12:57:43.390Z"
   },
   {
    "duration": 13,
    "start_time": "2021-11-28T12:57:43.416Z"
   },
   {
    "duration": 19,
    "start_time": "2021-11-28T12:57:43.468Z"
   },
   {
    "duration": 16,
    "start_time": "2021-11-28T12:57:43.490Z"
   },
   {
    "duration": 8,
    "start_time": "2021-11-28T12:57:43.508Z"
   },
   {
    "duration": 79,
    "start_time": "2021-11-28T12:57:43.519Z"
   },
   {
    "duration": 25,
    "start_time": "2021-11-28T12:57:43.601Z"
   },
   {
    "duration": 62,
    "start_time": "2021-11-28T12:57:43.629Z"
   },
   {
    "duration": 25,
    "start_time": "2021-11-28T12:57:43.694Z"
   },
   {
    "duration": 16,
    "start_time": "2021-11-28T12:57:43.722Z"
   },
   {
    "duration": 8,
    "start_time": "2021-11-28T12:57:43.769Z"
   },
   {
    "duration": 40,
    "start_time": "2021-11-28T12:57:43.780Z"
   },
   {
    "duration": 9,
    "start_time": "2021-11-28T12:57:43.823Z"
   },
   {
    "duration": 757,
    "start_time": "2021-11-28T13:09:17.398Z"
   },
   {
    "duration": 195,
    "start_time": "2021-11-28T13:09:18.158Z"
   },
   {
    "duration": 37,
    "start_time": "2021-11-28T13:09:18.356Z"
   },
   {
    "duration": 44,
    "start_time": "2021-11-28T13:09:18.397Z"
   },
   {
    "duration": 27,
    "start_time": "2021-11-28T13:09:18.443Z"
   },
   {
    "duration": 33,
    "start_time": "2021-11-28T13:09:18.473Z"
   },
   {
    "duration": 6,
    "start_time": "2021-11-28T13:09:18.509Z"
   },
   {
    "duration": 73,
    "start_time": "2021-11-28T13:09:18.519Z"
   },
   {
    "duration": 24,
    "start_time": "2021-11-28T13:09:18.597Z"
   },
   {
    "duration": 48,
    "start_time": "2021-11-28T13:09:18.624Z"
   },
   {
    "duration": 105,
    "start_time": "2021-11-28T13:09:18.675Z"
   },
   {
    "duration": 112,
    "start_time": "2021-11-28T13:09:18.782Z"
   },
   {
    "duration": 90,
    "start_time": "2021-11-28T13:09:18.896Z"
   },
   {
    "duration": 4,
    "start_time": "2021-11-28T13:09:18.989Z"
   },
   {
    "duration": 21,
    "start_time": "2021-11-28T13:09:18.995Z"
   },
   {
    "duration": 13,
    "start_time": "2021-11-28T13:09:19.018Z"
   },
   {
    "duration": 39,
    "start_time": "2021-11-28T13:09:19.034Z"
   },
   {
    "duration": 13,
    "start_time": "2021-11-28T13:09:19.076Z"
   },
   {
    "duration": 4,
    "start_time": "2021-11-28T13:09:19.092Z"
   },
   {
    "duration": 28,
    "start_time": "2021-11-28T13:09:19.099Z"
   },
   {
    "duration": 53,
    "start_time": "2021-11-28T13:09:19.129Z"
   },
   {
    "duration": 22,
    "start_time": "2021-11-28T13:09:19.185Z"
   },
   {
    "duration": 19,
    "start_time": "2021-11-28T13:09:19.212Z"
   },
   {
    "duration": 23,
    "start_time": "2021-11-28T13:09:19.266Z"
   },
   {
    "duration": 20,
    "start_time": "2021-11-28T13:09:19.292Z"
   },
   {
    "duration": 12,
    "start_time": "2021-11-28T13:09:19.314Z"
   },
   {
    "duration": 49,
    "start_time": "2021-11-28T13:09:19.329Z"
   },
   {
    "duration": 13,
    "start_time": "2021-11-28T13:09:19.380Z"
   },
   {
    "duration": 6,
    "start_time": "2021-11-28T13:09:19.395Z"
   },
   {
    "duration": 34,
    "start_time": "2021-11-28T13:09:19.403Z"
   },
   {
    "duration": 17,
    "start_time": "2021-11-28T13:09:19.468Z"
   },
   {
    "duration": 22,
    "start_time": "2021-11-28T13:09:19.488Z"
   },
   {
    "duration": 17,
    "start_time": "2021-11-28T13:09:19.512Z"
   },
   {
    "duration": 11,
    "start_time": "2021-11-28T13:09:19.568Z"
   },
   {
    "duration": 7,
    "start_time": "2021-11-28T13:09:19.582Z"
   },
   {
    "duration": 11,
    "start_time": "2021-11-28T13:09:19.592Z"
   },
   {
    "duration": 6,
    "start_time": "2021-11-28T13:09:19.606Z"
   },
   {
    "duration": 782,
    "start_time": "2021-11-28T13:18:02.099Z"
   },
   {
    "duration": 198,
    "start_time": "2021-11-28T13:18:02.884Z"
   },
   {
    "duration": 28,
    "start_time": "2021-11-28T13:18:03.085Z"
   },
   {
    "duration": 52,
    "start_time": "2021-11-28T13:18:03.115Z"
   },
   {
    "duration": 17,
    "start_time": "2021-11-28T13:18:03.169Z"
   },
   {
    "duration": 38,
    "start_time": "2021-11-28T13:18:03.188Z"
   },
   {
    "duration": 12,
    "start_time": "2021-11-28T13:18:03.229Z"
   },
   {
    "duration": 43,
    "start_time": "2021-11-28T13:18:03.246Z"
   },
   {
    "duration": 28,
    "start_time": "2021-11-28T13:18:03.292Z"
   },
   {
    "duration": 49,
    "start_time": "2021-11-28T13:18:03.322Z"
   },
   {
    "duration": 121,
    "start_time": "2021-11-28T13:18:03.373Z"
   },
   {
    "duration": 127,
    "start_time": "2021-11-28T13:18:03.496Z"
   },
   {
    "duration": 100,
    "start_time": "2021-11-28T13:18:03.626Z"
   },
   {
    "duration": 4,
    "start_time": "2021-11-28T13:18:03.729Z"
   },
   {
    "duration": 32,
    "start_time": "2021-11-28T13:18:03.735Z"
   },
   {
    "duration": 16,
    "start_time": "2021-11-28T13:18:03.770Z"
   },
   {
    "duration": 16,
    "start_time": "2021-11-28T13:18:03.788Z"
   },
   {
    "duration": 22,
    "start_time": "2021-11-28T13:18:03.806Z"
   },
   {
    "duration": 4,
    "start_time": "2021-11-28T13:18:03.831Z"
   },
   {
    "duration": 49,
    "start_time": "2021-11-28T13:18:03.838Z"
   },
   {
    "duration": 19,
    "start_time": "2021-11-28T13:18:03.890Z"
   },
   {
    "duration": 20,
    "start_time": "2021-11-28T13:18:03.912Z"
   },
   {
    "duration": 20,
    "start_time": "2021-11-28T13:18:03.970Z"
   },
   {
    "duration": 29,
    "start_time": "2021-11-28T13:18:03.993Z"
   },
   {
    "duration": 42,
    "start_time": "2021-11-28T13:18:04.025Z"
   },
   {
    "duration": 12,
    "start_time": "2021-11-28T13:18:04.070Z"
   },
   {
    "duration": 27,
    "start_time": "2021-11-28T13:18:04.084Z"
   },
   {
    "duration": 16,
    "start_time": "2021-11-28T13:18:04.113Z"
   },
   {
    "duration": 13,
    "start_time": "2021-11-28T13:18:04.131Z"
   },
   {
    "duration": 45,
    "start_time": "2021-11-28T13:18:04.147Z"
   },
   {
    "duration": 17,
    "start_time": "2021-11-28T13:18:04.195Z"
   },
   {
    "duration": 29,
    "start_time": "2021-11-28T13:18:04.215Z"
   },
   {
    "duration": 36,
    "start_time": "2021-11-28T13:18:04.246Z"
   },
   {
    "duration": 11,
    "start_time": "2021-11-28T13:18:04.284Z"
   },
   {
    "duration": 15,
    "start_time": "2021-11-28T13:18:04.298Z"
   },
   {
    "duration": 21,
    "start_time": "2021-11-28T13:18:04.316Z"
   },
   {
    "duration": 29,
    "start_time": "2021-11-28T13:18:04.340Z"
   },
   {
    "duration": 9,
    "start_time": "2021-11-28T13:21:31.516Z"
   },
   {
    "duration": 228,
    "start_time": "2021-11-28T13:21:31.528Z"
   },
   {
    "duration": 25,
    "start_time": "2021-11-28T13:21:31.759Z"
   },
   {
    "duration": 35,
    "start_time": "2021-11-28T13:21:31.787Z"
   },
   {
    "duration": 5,
    "start_time": "2021-11-28T13:21:31.824Z"
   },
   {
    "duration": 55,
    "start_time": "2021-11-28T13:21:31.832Z"
   },
   {
    "duration": 7,
    "start_time": "2021-11-28T13:21:31.890Z"
   },
   {
    "duration": 43,
    "start_time": "2021-11-28T13:21:31.899Z"
   },
   {
    "duration": 50,
    "start_time": "2021-11-28T13:21:31.944Z"
   },
   {
    "duration": 34,
    "start_time": "2021-11-28T13:21:31.996Z"
   },
   {
    "duration": 122,
    "start_time": "2021-11-28T13:21:32.033Z"
   },
   {
    "duration": 115,
    "start_time": "2021-11-28T13:21:32.157Z"
   },
   {
    "duration": 104,
    "start_time": "2021-11-28T13:21:32.276Z"
   },
   {
    "duration": 4,
    "start_time": "2021-11-28T13:21:32.384Z"
   },
   {
    "duration": 18,
    "start_time": "2021-11-28T13:21:32.392Z"
   },
   {
    "duration": 11,
    "start_time": "2021-11-28T13:21:32.413Z"
   },
   {
    "duration": 44,
    "start_time": "2021-11-28T13:21:32.426Z"
   },
   {
    "duration": 21,
    "start_time": "2021-11-28T13:21:32.473Z"
   },
   {
    "duration": 4,
    "start_time": "2021-11-28T13:21:32.496Z"
   },
   {
    "duration": 25,
    "start_time": "2021-11-28T13:21:32.503Z"
   },
   {
    "duration": 61,
    "start_time": "2021-11-28T13:21:32.531Z"
   },
   {
    "duration": 21,
    "start_time": "2021-11-28T13:21:32.594Z"
   },
   {
    "duration": 20,
    "start_time": "2021-11-28T13:21:32.617Z"
   },
   {
    "duration": 30,
    "start_time": "2021-11-28T13:21:32.669Z"
   },
   {
    "duration": 23,
    "start_time": "2021-11-28T13:21:32.702Z"
   },
   {
    "duration": 47,
    "start_time": "2021-11-28T13:21:32.728Z"
   },
   {
    "duration": 23,
    "start_time": "2021-11-28T13:21:32.778Z"
   },
   {
    "duration": 13,
    "start_time": "2021-11-28T13:21:32.803Z"
   },
   {
    "duration": 5,
    "start_time": "2021-11-28T13:21:32.819Z"
   },
   {
    "duration": 77,
    "start_time": "2021-11-28T13:21:32.827Z"
   },
   {
    "duration": 19,
    "start_time": "2021-11-28T13:21:32.912Z"
   },
   {
    "duration": 53,
    "start_time": "2021-11-28T13:21:32.934Z"
   },
   {
    "duration": 19,
    "start_time": "2021-11-28T13:21:32.989Z"
   },
   {
    "duration": 11,
    "start_time": "2021-11-28T13:21:33.010Z"
   },
   {
    "duration": 7,
    "start_time": "2021-11-28T13:21:33.024Z"
   },
   {
    "duration": 46,
    "start_time": "2021-11-28T13:21:33.033Z"
   },
   {
    "duration": 13,
    "start_time": "2021-11-28T13:21:33.081Z"
   },
   {
    "duration": 742,
    "start_time": "2021-11-28T13:23:58.908Z"
   },
   {
    "duration": 197,
    "start_time": "2021-11-28T13:23:59.653Z"
   },
   {
    "duration": 27,
    "start_time": "2021-11-28T13:23:59.852Z"
   },
   {
    "duration": 33,
    "start_time": "2021-11-28T13:23:59.882Z"
   },
   {
    "duration": 5,
    "start_time": "2021-11-28T13:23:59.917Z"
   },
   {
    "duration": 37,
    "start_time": "2021-11-28T13:23:59.925Z"
   },
   {
    "duration": 14,
    "start_time": "2021-11-28T13:23:59.964Z"
   },
   {
    "duration": 44,
    "start_time": "2021-11-28T13:23:59.982Z"
   },
   {
    "duration": 25,
    "start_time": "2021-11-28T13:24:00.029Z"
   },
   {
    "duration": 35,
    "start_time": "2021-11-28T13:24:00.057Z"
   },
   {
    "duration": 96,
    "start_time": "2021-11-28T13:24:00.095Z"
   },
   {
    "duration": 100,
    "start_time": "2021-11-28T13:24:00.193Z"
   },
   {
    "duration": 85,
    "start_time": "2021-11-28T13:24:00.295Z"
   },
   {
    "duration": 4,
    "start_time": "2021-11-28T13:24:00.382Z"
   },
   {
    "duration": 24,
    "start_time": "2021-11-28T13:24:00.388Z"
   },
   {
    "duration": 22,
    "start_time": "2021-11-28T13:24:00.414Z"
   },
   {
    "duration": 23,
    "start_time": "2021-11-28T13:24:00.439Z"
   },
   {
    "duration": 28,
    "start_time": "2021-11-28T13:24:00.467Z"
   },
   {
    "duration": 7,
    "start_time": "2021-11-28T13:24:00.497Z"
   },
   {
    "duration": 85,
    "start_time": "2021-11-28T13:24:00.506Z"
   },
   {
    "duration": 31,
    "start_time": "2021-11-28T13:24:00.593Z"
   },
   {
    "duration": 22,
    "start_time": "2021-11-28T13:24:00.666Z"
   },
   {
    "duration": 23,
    "start_time": "2021-11-28T13:24:00.694Z"
   },
   {
    "duration": 65,
    "start_time": "2021-11-28T13:24:00.720Z"
   },
   {
    "duration": 91,
    "start_time": "2021-11-28T13:24:00.788Z"
   },
   {
    "duration": 13,
    "start_time": "2021-11-28T13:24:00.882Z"
   },
   {
    "duration": 79,
    "start_time": "2021-11-28T13:24:00.897Z"
   },
   {
    "duration": 30,
    "start_time": "2021-11-28T13:24:00.979Z"
   },
   {
    "duration": 56,
    "start_time": "2021-11-28T13:24:01.011Z"
   },
   {
    "duration": 81,
    "start_time": "2021-11-28T13:24:01.070Z"
   },
   {
    "duration": 28,
    "start_time": "2021-11-28T13:24:01.154Z"
   },
   {
    "duration": 33,
    "start_time": "2021-11-28T13:24:01.185Z"
   },
   {
    "duration": 17,
    "start_time": "2021-11-28T13:24:01.220Z"
   },
   {
    "duration": 36,
    "start_time": "2021-11-28T13:24:01.240Z"
   },
   {
    "duration": 34,
    "start_time": "2021-11-28T13:24:01.278Z"
   },
   {
    "duration": 30,
    "start_time": "2021-11-28T13:24:01.314Z"
   },
   {
    "duration": 13,
    "start_time": "2021-11-28T13:24:01.347Z"
   },
   {
    "duration": 814,
    "start_time": "2021-11-28T13:25:30.636Z"
   },
   {
    "duration": 215,
    "start_time": "2021-11-28T13:25:31.453Z"
   },
   {
    "duration": 32,
    "start_time": "2021-11-28T13:25:31.672Z"
   },
   {
    "duration": 38,
    "start_time": "2021-11-28T13:25:31.708Z"
   },
   {
    "duration": 8,
    "start_time": "2021-11-28T13:25:31.767Z"
   },
   {
    "duration": 31,
    "start_time": "2021-11-28T13:25:31.778Z"
   },
   {
    "duration": 7,
    "start_time": "2021-11-28T13:25:31.812Z"
   },
   {
    "duration": 72,
    "start_time": "2021-11-28T13:25:31.825Z"
   },
   {
    "duration": 24,
    "start_time": "2021-11-28T13:25:31.901Z"
   },
   {
    "duration": 62,
    "start_time": "2021-11-28T13:25:31.927Z"
   },
   {
    "duration": 112,
    "start_time": "2021-11-28T13:25:31.992Z"
   },
   {
    "duration": 125,
    "start_time": "2021-11-28T13:25:32.107Z"
   },
   {
    "duration": 100,
    "start_time": "2021-11-28T13:25:32.235Z"
   },
   {
    "duration": 4,
    "start_time": "2021-11-28T13:25:32.338Z"
   },
   {
    "duration": 35,
    "start_time": "2021-11-28T13:25:32.344Z"
   },
   {
    "duration": 13,
    "start_time": "2021-11-28T13:25:32.383Z"
   },
   {
    "duration": 16,
    "start_time": "2021-11-28T13:25:32.399Z"
   },
   {
    "duration": 14,
    "start_time": "2021-11-28T13:25:32.417Z"
   },
   {
    "duration": 7,
    "start_time": "2021-11-28T13:25:32.469Z"
   },
   {
    "duration": 31,
    "start_time": "2021-11-28T13:25:32.480Z"
   },
   {
    "duration": 22,
    "start_time": "2021-11-28T13:25:32.513Z"
   },
   {
    "duration": 28,
    "start_time": "2021-11-28T13:25:32.567Z"
   },
   {
    "duration": 20,
    "start_time": "2021-11-28T13:25:32.601Z"
   },
   {
    "duration": 61,
    "start_time": "2021-11-28T13:25:32.624Z"
   },
   {
    "duration": 24,
    "start_time": "2021-11-28T13:25:32.688Z"
   },
   {
    "duration": 12,
    "start_time": "2021-11-28T13:25:32.715Z"
   },
   {
    "duration": 53,
    "start_time": "2021-11-28T13:25:32.730Z"
   },
   {
    "duration": 15,
    "start_time": "2021-11-28T13:25:32.785Z"
   },
   {
    "duration": 6,
    "start_time": "2021-11-28T13:25:32.802Z"
   },
   {
    "duration": 59,
    "start_time": "2021-11-28T13:25:32.810Z"
   },
   {
    "duration": 25,
    "start_time": "2021-11-28T13:25:32.871Z"
   },
   {
    "duration": 25,
    "start_time": "2021-11-28T13:25:32.899Z"
   },
   {
    "duration": 52,
    "start_time": "2021-11-28T13:25:32.926Z"
   },
   {
    "duration": 13,
    "start_time": "2021-11-28T13:25:32.982Z"
   },
   {
    "duration": 6,
    "start_time": "2021-11-28T13:25:32.998Z"
   },
   {
    "duration": 16,
    "start_time": "2021-11-28T13:25:33.006Z"
   },
   {
    "duration": 8,
    "start_time": "2021-11-28T13:25:33.024Z"
   },
   {
    "duration": 794,
    "start_time": "2021-11-28T13:27:17.099Z"
   },
   {
    "duration": 210,
    "start_time": "2021-11-28T13:27:17.896Z"
   },
   {
    "duration": 27,
    "start_time": "2021-11-28T13:27:18.109Z"
   },
   {
    "duration": 57,
    "start_time": "2021-11-28T13:27:18.138Z"
   },
   {
    "duration": 26,
    "start_time": "2021-11-28T13:27:18.197Z"
   },
   {
    "duration": 34,
    "start_time": "2021-11-28T13:27:18.226Z"
   },
   {
    "duration": 18,
    "start_time": "2021-11-28T13:27:18.263Z"
   },
   {
    "duration": 37,
    "start_time": "2021-11-28T13:27:18.287Z"
   },
   {
    "duration": 44,
    "start_time": "2021-11-28T13:27:18.329Z"
   },
   {
    "duration": 41,
    "start_time": "2021-11-28T13:27:18.376Z"
   },
   {
    "duration": 137,
    "start_time": "2021-11-28T13:27:18.419Z"
   },
   {
    "duration": 132,
    "start_time": "2021-11-28T13:27:18.559Z"
   },
   {
    "duration": 99,
    "start_time": "2021-11-28T13:27:18.693Z"
   },
   {
    "duration": 4,
    "start_time": "2021-11-28T13:27:18.794Z"
   },
   {
    "duration": 18,
    "start_time": "2021-11-28T13:27:18.800Z"
   },
   {
    "duration": 9,
    "start_time": "2021-11-28T13:27:18.820Z"
   },
   {
    "duration": 46,
    "start_time": "2021-11-28T13:27:18.832Z"
   },
   {
    "duration": 18,
    "start_time": "2021-11-28T13:27:18.881Z"
   },
   {
    "duration": 5,
    "start_time": "2021-11-28T13:27:18.901Z"
   },
   {
    "duration": 61,
    "start_time": "2021-11-28T13:27:18.908Z"
   },
   {
    "duration": 29,
    "start_time": "2021-11-28T13:27:18.971Z"
   },
   {
    "duration": 22,
    "start_time": "2021-11-28T13:27:19.002Z"
   },
   {
    "duration": 57,
    "start_time": "2021-11-28T13:27:19.029Z"
   },
   {
    "duration": 24,
    "start_time": "2021-11-28T13:27:19.089Z"
   },
   {
    "duration": 21,
    "start_time": "2021-11-28T13:27:19.116Z"
   },
   {
    "duration": 41,
    "start_time": "2021-11-28T13:27:19.139Z"
   },
   {
    "duration": 24,
    "start_time": "2021-11-28T13:27:19.183Z"
   },
   {
    "duration": 12,
    "start_time": "2021-11-28T13:27:19.209Z"
   },
   {
    "duration": 5,
    "start_time": "2021-11-28T13:27:19.224Z"
   },
   {
    "duration": 36,
    "start_time": "2021-11-28T13:27:19.267Z"
   },
   {
    "duration": 18,
    "start_time": "2021-11-28T13:27:19.305Z"
   },
   {
    "duration": 62,
    "start_time": "2021-11-28T13:27:19.326Z"
   },
   {
    "duration": 19,
    "start_time": "2021-11-28T13:27:19.391Z"
   },
   {
    "duration": 11,
    "start_time": "2021-11-28T13:27:19.413Z"
   },
   {
    "duration": 6,
    "start_time": "2021-11-28T13:27:19.427Z"
   },
   {
    "duration": 36,
    "start_time": "2021-11-28T13:27:19.436Z"
   },
   {
    "duration": 10,
    "start_time": "2021-11-28T13:27:19.475Z"
   },
   {
    "duration": 843,
    "start_time": "2021-11-28T13:30:40.932Z"
   },
   {
    "duration": 203,
    "start_time": "2021-11-28T13:30:41.778Z"
   },
   {
    "duration": 26,
    "start_time": "2021-11-28T13:30:41.985Z"
   },
   {
    "duration": 57,
    "start_time": "2021-11-28T13:30:42.014Z"
   },
   {
    "duration": 6,
    "start_time": "2021-11-28T13:30:42.073Z"
   },
   {
    "duration": 32,
    "start_time": "2021-11-28T13:30:42.081Z"
   },
   {
    "duration": 9,
    "start_time": "2021-11-28T13:30:42.116Z"
   },
   {
    "duration": 64,
    "start_time": "2021-11-28T13:30:42.128Z"
   },
   {
    "duration": 23,
    "start_time": "2021-11-28T13:30:42.195Z"
   },
   {
    "duration": 52,
    "start_time": "2021-11-28T13:30:42.220Z"
   },
   {
    "duration": 113,
    "start_time": "2021-11-28T13:30:42.275Z"
   },
   {
    "duration": 120,
    "start_time": "2021-11-28T13:30:42.391Z"
   },
   {
    "duration": 95,
    "start_time": "2021-11-28T13:30:42.514Z"
   },
   {
    "duration": 4,
    "start_time": "2021-11-28T13:30:42.611Z"
   },
   {
    "duration": 17,
    "start_time": "2021-11-28T13:30:42.617Z"
   },
   {
    "duration": 31,
    "start_time": "2021-11-28T13:30:42.637Z"
   },
   {
    "duration": 14,
    "start_time": "2021-11-28T13:30:42.671Z"
   },
   {
    "duration": 15,
    "start_time": "2021-11-28T13:30:42.687Z"
   },
   {
    "duration": 5,
    "start_time": "2021-11-28T13:30:42.705Z"
   },
   {
    "duration": 62,
    "start_time": "2021-11-28T13:30:42.713Z"
   },
   {
    "duration": 25,
    "start_time": "2021-11-28T13:30:42.777Z"
   },
   {
    "duration": 22,
    "start_time": "2021-11-28T13:30:42.804Z"
   },
   {
    "duration": 53,
    "start_time": "2021-11-28T13:30:42.833Z"
   },
   {
    "duration": 25,
    "start_time": "2021-11-28T13:30:42.890Z"
   },
   {
    "duration": 59,
    "start_time": "2021-11-28T13:30:42.919Z"
   },
   {
    "duration": 13,
    "start_time": "2021-11-28T13:30:42.980Z"
   },
   {
    "duration": 17,
    "start_time": "2021-11-28T13:30:42.996Z"
   },
   {
    "duration": 15,
    "start_time": "2021-11-28T13:30:43.016Z"
   },
   {
    "duration": 8,
    "start_time": "2021-11-28T13:30:43.068Z"
   },
   {
    "duration": 37,
    "start_time": "2021-11-28T13:30:43.078Z"
   },
   {
    "duration": 17,
    "start_time": "2021-11-28T13:30:43.117Z"
   },
   {
    "duration": 48,
    "start_time": "2021-11-28T13:30:43.136Z"
   },
   {
    "duration": 18,
    "start_time": "2021-11-28T13:30:43.187Z"
   },
   {
    "duration": 12,
    "start_time": "2021-11-28T13:30:43.207Z"
   },
   {
    "duration": 10,
    "start_time": "2021-11-28T13:30:43.221Z"
   },
   {
    "duration": 8,
    "start_time": "2021-11-28T13:30:43.268Z"
   },
   {
    "duration": 6,
    "start_time": "2021-11-28T13:30:43.279Z"
   },
   {
    "duration": 640,
    "start_time": "2021-11-28T18:47:37.073Z"
   },
   {
    "duration": 148,
    "start_time": "2021-11-28T18:47:37.715Z"
   },
   {
    "duration": 18,
    "start_time": "2021-11-28T18:47:37.865Z"
   },
   {
    "duration": 34,
    "start_time": "2021-11-28T18:47:37.886Z"
   },
   {
    "duration": 4,
    "start_time": "2021-11-28T18:47:37.923Z"
   },
   {
    "duration": 22,
    "start_time": "2021-11-28T18:47:37.929Z"
   },
   {
    "duration": 5,
    "start_time": "2021-11-28T18:47:37.952Z"
   },
   {
    "duration": 56,
    "start_time": "2021-11-28T18:47:37.960Z"
   },
   {
    "duration": 20,
    "start_time": "2021-11-28T18:47:38.018Z"
   },
   {
    "duration": 25,
    "start_time": "2021-11-28T18:47:38.040Z"
   },
   {
    "duration": 88,
    "start_time": "2021-11-28T18:47:38.067Z"
   },
   {
    "duration": 82,
    "start_time": "2021-11-28T18:47:38.157Z"
   },
   {
    "duration": 52,
    "start_time": "2021-11-28T18:47:38.241Z"
   },
   {
    "duration": 318,
    "start_time": "2021-11-28T18:47:40.330Z"
   },
   {
    "duration": 247,
    "start_time": "2021-11-28T18:48:21.770Z"
   },
   {
    "duration": 41,
    "start_time": "2021-11-28T18:48:28.160Z"
   },
   {
    "duration": 40,
    "start_time": "2021-11-28T18:48:41.659Z"
   },
   {
    "duration": 268,
    "start_time": "2021-11-28T18:54:45.229Z"
   },
   {
    "duration": 41,
    "start_time": "2021-11-28T18:54:49.746Z"
   },
   {
    "duration": 253,
    "start_time": "2021-11-28T18:54:55.800Z"
   },
   {
    "duration": 55,
    "start_time": "2021-11-28T18:55:05.092Z"
   },
   {
    "duration": 561,
    "start_time": "2021-11-28T19:02:59.143Z"
   },
   {
    "duration": 134,
    "start_time": "2021-11-28T19:02:59.706Z"
   },
   {
    "duration": 16,
    "start_time": "2021-11-28T19:02:59.844Z"
   },
   {
    "duration": 26,
    "start_time": "2021-11-28T19:02:59.861Z"
   },
   {
    "duration": 4,
    "start_time": "2021-11-28T19:02:59.889Z"
   },
   {
    "duration": 21,
    "start_time": "2021-11-28T19:02:59.907Z"
   },
   {
    "duration": 5,
    "start_time": "2021-11-28T19:02:59.931Z"
   },
   {
    "duration": 29,
    "start_time": "2021-11-28T19:02:59.938Z"
   },
   {
    "duration": 47,
    "start_time": "2021-11-28T19:02:59.969Z"
   },
   {
    "duration": 26,
    "start_time": "2021-11-28T19:03:00.017Z"
   },
   {
    "duration": 70,
    "start_time": "2021-11-28T19:03:00.045Z"
   },
   {
    "duration": 70,
    "start_time": "2021-11-28T19:03:00.117Z"
   },
   {
    "duration": 60,
    "start_time": "2021-11-28T19:03:00.188Z"
   },
   {
    "duration": 3,
    "start_time": "2021-11-28T19:03:00.250Z"
   },
   {
    "duration": 31,
    "start_time": "2021-11-28T19:03:00.254Z"
   },
   {
    "duration": 15,
    "start_time": "2021-11-28T19:03:00.287Z"
   },
   {
    "duration": 38,
    "start_time": "2021-11-28T19:03:00.304Z"
   },
   {
    "duration": 40,
    "start_time": "2021-11-28T19:03:00.344Z"
   },
   {
    "duration": 36,
    "start_time": "2021-11-28T19:03:00.386Z"
   },
   {
    "duration": 30,
    "start_time": "2021-11-28T19:03:00.423Z"
   },
   {
    "duration": 18,
    "start_time": "2021-11-28T19:03:00.454Z"
   },
   {
    "duration": 38,
    "start_time": "2021-11-28T19:03:00.475Z"
   },
   {
    "duration": 32,
    "start_time": "2021-11-28T19:03:00.515Z"
   },
   {
    "duration": 18,
    "start_time": "2021-11-28T19:03:00.549Z"
   },
   {
    "duration": 17,
    "start_time": "2021-11-28T19:03:00.569Z"
   },
   {
    "duration": 18,
    "start_time": "2021-11-28T19:03:00.588Z"
   },
   {
    "duration": 12,
    "start_time": "2021-11-28T19:03:00.608Z"
   },
   {
    "duration": 13,
    "start_time": "2021-11-28T19:03:00.622Z"
   },
   {
    "duration": 4,
    "start_time": "2021-11-28T19:03:00.636Z"
   },
   {
    "duration": 34,
    "start_time": "2021-11-28T19:03:00.642Z"
   },
   {
    "duration": 12,
    "start_time": "2021-11-28T19:03:00.678Z"
   },
   {
    "duration": 28,
    "start_time": "2021-11-28T19:03:00.691Z"
   },
   {
    "duration": 25,
    "start_time": "2021-11-28T19:03:00.721Z"
   },
   {
    "duration": 26,
    "start_time": "2021-11-28T19:03:00.747Z"
   },
   {
    "duration": 4,
    "start_time": "2021-11-28T19:03:00.775Z"
   },
   {
    "duration": 22,
    "start_time": "2021-11-28T19:03:00.781Z"
   },
   {
    "duration": 14,
    "start_time": "2021-11-28T19:03:00.805Z"
   },
   {
    "duration": 634,
    "start_time": "2021-11-28T19:04:30.430Z"
   },
   {
    "duration": 147,
    "start_time": "2021-11-28T19:04:31.066Z"
   },
   {
    "duration": 17,
    "start_time": "2021-11-28T19:04:31.216Z"
   },
   {
    "duration": 42,
    "start_time": "2021-11-28T19:04:31.235Z"
   },
   {
    "duration": 8,
    "start_time": "2021-11-28T19:04:31.279Z"
   },
   {
    "duration": 28,
    "start_time": "2021-11-28T19:04:31.288Z"
   },
   {
    "duration": 10,
    "start_time": "2021-11-28T19:04:31.318Z"
   },
   {
    "duration": 28,
    "start_time": "2021-11-28T19:04:31.331Z"
   },
   {
    "duration": 23,
    "start_time": "2021-11-28T19:04:31.362Z"
   },
   {
    "duration": 31,
    "start_time": "2021-11-28T19:04:31.387Z"
   },
   {
    "duration": 64,
    "start_time": "2021-11-28T19:04:31.420Z"
   },
   {
    "duration": 78,
    "start_time": "2021-11-28T19:04:31.485Z"
   },
   {
    "duration": 62,
    "start_time": "2021-11-28T19:04:31.565Z"
   },
   {
    "duration": 2,
    "start_time": "2021-11-28T19:04:31.629Z"
   },
   {
    "duration": 14,
    "start_time": "2021-11-28T19:04:31.633Z"
   },
   {
    "duration": 6,
    "start_time": "2021-11-28T19:04:31.649Z"
   },
   {
    "duration": 10,
    "start_time": "2021-11-28T19:04:31.657Z"
   },
   {
    "duration": 11,
    "start_time": "2021-11-28T19:04:31.668Z"
   },
   {
    "duration": 28,
    "start_time": "2021-11-28T19:04:31.680Z"
   },
   {
    "duration": 21,
    "start_time": "2021-11-28T19:04:31.710Z"
   },
   {
    "duration": 14,
    "start_time": "2021-11-28T19:04:31.733Z"
   },
   {
    "duration": 18,
    "start_time": "2021-11-28T19:04:31.748Z"
   },
   {
    "duration": 14,
    "start_time": "2021-11-28T19:04:31.767Z"
   },
   {
    "duration": 37,
    "start_time": "2021-11-28T19:04:31.782Z"
   },
   {
    "duration": 28,
    "start_time": "2021-11-28T19:04:31.820Z"
   },
   {
    "duration": 8,
    "start_time": "2021-11-28T19:04:31.852Z"
   },
   {
    "duration": 44,
    "start_time": "2021-11-28T19:04:31.862Z"
   },
   {
    "duration": 24,
    "start_time": "2021-11-28T19:04:31.908Z"
   },
   {
    "duration": 11,
    "start_time": "2021-11-28T19:04:31.934Z"
   },
   {
    "duration": 43,
    "start_time": "2021-11-28T19:04:31.947Z"
   },
   {
    "duration": 15,
    "start_time": "2021-11-28T19:04:31.992Z"
   },
   {
    "duration": 17,
    "start_time": "2021-11-28T19:04:32.008Z"
   },
   {
    "duration": 12,
    "start_time": "2021-11-28T19:04:32.027Z"
   },
   {
    "duration": 8,
    "start_time": "2021-11-28T19:04:32.041Z"
   },
   {
    "duration": 6,
    "start_time": "2021-11-28T19:04:32.051Z"
   },
   {
    "duration": 19,
    "start_time": "2021-11-28T19:04:32.059Z"
   },
   {
    "duration": 7,
    "start_time": "2021-11-28T19:04:32.080Z"
   },
   {
    "duration": 785,
    "start_time": "2021-11-29T09:27:24.084Z"
   },
   {
    "duration": 188,
    "start_time": "2021-11-29T09:27:24.872Z"
   },
   {
    "duration": 30,
    "start_time": "2021-11-29T09:27:25.064Z"
   },
   {
    "duration": 31,
    "start_time": "2021-11-29T09:27:25.097Z"
   },
   {
    "duration": 31,
    "start_time": "2021-11-29T09:27:25.131Z"
   },
   {
    "duration": 28,
    "start_time": "2021-11-29T09:27:25.165Z"
   },
   {
    "duration": 6,
    "start_time": "2021-11-29T09:27:25.195Z"
   },
   {
    "duration": 60,
    "start_time": "2021-11-29T09:27:25.205Z"
   },
   {
    "duration": 21,
    "start_time": "2021-11-29T09:27:25.268Z"
   },
   {
    "duration": 28,
    "start_time": "2021-11-29T09:27:25.291Z"
   },
   {
    "duration": 113,
    "start_time": "2021-11-29T09:27:25.321Z"
   },
   {
    "duration": 108,
    "start_time": "2021-11-29T09:27:25.436Z"
   },
   {
    "duration": 77,
    "start_time": "2021-11-29T09:27:25.547Z"
   },
   {
    "duration": 4,
    "start_time": "2021-11-29T09:27:25.626Z"
   },
   {
    "duration": 37,
    "start_time": "2021-11-29T09:27:25.632Z"
   },
   {
    "duration": 10,
    "start_time": "2021-11-29T09:27:25.671Z"
   },
   {
    "duration": 16,
    "start_time": "2021-11-29T09:27:25.683Z"
   },
   {
    "duration": 13,
    "start_time": "2021-11-29T09:27:25.702Z"
   },
   {
    "duration": 5,
    "start_time": "2021-11-29T09:27:25.717Z"
   },
   {
    "duration": 60,
    "start_time": "2021-11-29T09:27:25.724Z"
   },
   {
    "duration": 23,
    "start_time": "2021-11-29T09:27:25.787Z"
   },
   {
    "duration": 49,
    "start_time": "2021-11-29T09:27:25.813Z"
   },
   {
    "duration": 20,
    "start_time": "2021-11-29T09:27:25.867Z"
   },
   {
    "duration": 22,
    "start_time": "2021-11-29T09:27:25.889Z"
   },
   {
    "duration": 56,
    "start_time": "2021-11-29T09:27:25.914Z"
   },
   {
    "duration": 13,
    "start_time": "2021-11-29T09:27:25.972Z"
   },
   {
    "duration": 15,
    "start_time": "2021-11-29T09:27:25.988Z"
   },
   {
    "duration": 12,
    "start_time": "2021-11-29T09:27:26.005Z"
   },
   {
    "duration": 6,
    "start_time": "2021-11-29T09:27:26.019Z"
   },
   {
    "duration": 25,
    "start_time": "2021-11-29T09:27:26.060Z"
   },
   {
    "duration": 18,
    "start_time": "2021-11-29T09:27:26.087Z"
   },
   {
    "duration": 55,
    "start_time": "2021-11-29T09:27:26.107Z"
   },
   {
    "duration": 15,
    "start_time": "2021-11-29T09:27:26.165Z"
   },
   {
    "duration": 10,
    "start_time": "2021-11-29T09:27:26.183Z"
   },
   {
    "duration": 6,
    "start_time": "2021-11-29T09:27:26.196Z"
   },
   {
    "duration": 10,
    "start_time": "2021-11-29T09:27:26.204Z"
   },
   {
    "duration": 47,
    "start_time": "2021-11-29T09:27:26.216Z"
   },
   {
    "duration": 738,
    "start_time": "2021-11-29T09:39:17.113Z"
   },
   {
    "duration": 188,
    "start_time": "2021-11-29T09:39:17.853Z"
   },
   {
    "duration": 25,
    "start_time": "2021-11-29T09:39:18.044Z"
   },
   {
    "duration": 34,
    "start_time": "2021-11-29T09:39:18.072Z"
   },
   {
    "duration": 5,
    "start_time": "2021-11-29T09:39:18.109Z"
   },
   {
    "duration": 56,
    "start_time": "2021-11-29T09:39:18.118Z"
   },
   {
    "duration": 6,
    "start_time": "2021-11-29T09:39:18.177Z"
   },
   {
    "duration": 32,
    "start_time": "2021-11-29T09:39:18.189Z"
   },
   {
    "duration": 25,
    "start_time": "2021-11-29T09:39:18.261Z"
   },
   {
    "duration": 32,
    "start_time": "2021-11-29T09:39:18.289Z"
   },
   {
    "duration": 115,
    "start_time": "2021-11-29T09:39:18.324Z"
   },
   {
    "duration": 120,
    "start_time": "2021-11-29T09:39:18.442Z"
   },
   {
    "duration": 94,
    "start_time": "2021-11-29T09:39:18.565Z"
   },
   {
    "duration": 5,
    "start_time": "2021-11-29T09:39:18.662Z"
   },
   {
    "duration": 18,
    "start_time": "2021-11-29T09:39:18.669Z"
   },
   {
    "duration": 13,
    "start_time": "2021-11-29T09:39:18.690Z"
   },
   {
    "duration": 54,
    "start_time": "2021-11-29T09:39:18.706Z"
   },
   {
    "duration": 17,
    "start_time": "2021-11-29T09:39:18.763Z"
   },
   {
    "duration": 5,
    "start_time": "2021-11-29T09:39:18.783Z"
   },
   {
    "duration": 26,
    "start_time": "2021-11-29T09:39:18.791Z"
   },
   {
    "duration": 58,
    "start_time": "2021-11-29T09:39:18.820Z"
   },
   {
    "duration": 20,
    "start_time": "2021-11-29T09:39:18.880Z"
   },
   {
    "duration": 18,
    "start_time": "2021-11-29T09:39:18.904Z"
   },
   {
    "duration": 56,
    "start_time": "2021-11-29T09:39:18.924Z"
   },
   {
    "duration": 21,
    "start_time": "2021-11-29T09:39:18.982Z"
   },
   {
    "duration": 12,
    "start_time": "2021-11-29T09:39:19.005Z"
   },
   {
    "duration": 48,
    "start_time": "2021-11-29T09:39:19.019Z"
   },
   {
    "duration": 14,
    "start_time": "2021-11-29T09:39:19.070Z"
   },
   {
    "duration": 11,
    "start_time": "2021-11-29T09:39:19.086Z"
   },
   {
    "duration": 32,
    "start_time": "2021-11-29T09:39:19.100Z"
   },
   {
    "duration": 34,
    "start_time": "2021-11-29T09:39:19.135Z"
   },
   {
    "duration": 22,
    "start_time": "2021-11-29T09:39:19.171Z"
   },
   {
    "duration": 15,
    "start_time": "2021-11-29T09:39:19.196Z"
   },
   {
    "duration": 16,
    "start_time": "2021-11-29T09:39:19.213Z"
   },
   {
    "duration": 7,
    "start_time": "2021-11-29T09:39:19.259Z"
   },
   {
    "duration": 14,
    "start_time": "2021-11-29T09:39:19.268Z"
   },
   {
    "duration": 6,
    "start_time": "2021-11-29T09:39:19.285Z"
   },
   {
    "duration": 903,
    "start_time": "2021-11-29T10:00:10.825Z"
   },
   {
    "duration": 192,
    "start_time": "2021-11-29T10:00:11.731Z"
   },
   {
    "duration": 39,
    "start_time": "2021-11-29T10:00:11.927Z"
   },
   {
    "duration": 34,
    "start_time": "2021-11-29T10:00:11.969Z"
   },
   {
    "duration": 6,
    "start_time": "2021-11-29T10:00:12.005Z"
   },
   {
    "duration": 56,
    "start_time": "2021-11-29T10:00:12.013Z"
   },
   {
    "duration": 8,
    "start_time": "2021-11-29T10:00:12.072Z"
   },
   {
    "duration": 30,
    "start_time": "2021-11-29T10:00:12.084Z"
   },
   {
    "duration": 42,
    "start_time": "2021-11-29T10:00:12.117Z"
   },
   {
    "duration": 32,
    "start_time": "2021-11-29T10:00:12.162Z"
   },
   {
    "duration": 103,
    "start_time": "2021-11-29T10:00:12.196Z"
   },
   {
    "duration": 111,
    "start_time": "2021-11-29T10:00:12.301Z"
   },
   {
    "duration": 83,
    "start_time": "2021-11-29T10:00:12.415Z"
   },
   {
    "duration": 5,
    "start_time": "2021-11-29T10:00:12.500Z"
   },
   {
    "duration": 16,
    "start_time": "2021-11-29T10:00:12.508Z"
   },
   {
    "duration": 36,
    "start_time": "2021-11-29T10:00:12.527Z"
   },
   {
    "duration": 13,
    "start_time": "2021-11-29T10:00:12.566Z"
   },
   {
    "duration": 15,
    "start_time": "2021-11-29T10:00:12.583Z"
   },
   {
    "duration": 5,
    "start_time": "2021-11-29T10:00:12.602Z"
   },
   {
    "duration": 72,
    "start_time": "2021-11-29T10:00:12.610Z"
   },
   {
    "duration": 23,
    "start_time": "2021-11-29T10:00:12.685Z"
   },
   {
    "duration": 51,
    "start_time": "2021-11-29T10:00:12.711Z"
   },
   {
    "duration": 19,
    "start_time": "2021-11-29T10:00:12.766Z"
   },
   {
    "duration": 22,
    "start_time": "2021-11-29T10:00:12.787Z"
   },
   {
    "duration": 49,
    "start_time": "2021-11-29T10:00:12.811Z"
   },
   {
    "duration": 12,
    "start_time": "2021-11-29T10:00:12.863Z"
   },
   {
    "duration": 16,
    "start_time": "2021-11-29T10:00:12.877Z"
   },
   {
    "duration": 11,
    "start_time": "2021-11-29T10:00:12.895Z"
   },
   {
    "duration": 6,
    "start_time": "2021-11-29T10:00:12.909Z"
   },
   {
    "duration": 63,
    "start_time": "2021-11-29T10:00:12.917Z"
   },
   {
    "duration": 16,
    "start_time": "2021-11-29T10:00:12.982Z"
   },
   {
    "duration": 28,
    "start_time": "2021-11-29T10:00:13.000Z"
   },
   {
    "duration": 42,
    "start_time": "2021-11-29T10:00:13.030Z"
   },
   {
    "duration": 11,
    "start_time": "2021-11-29T10:00:13.074Z"
   },
   {
    "duration": 6,
    "start_time": "2021-11-29T10:00:13.088Z"
   },
   {
    "duration": 12,
    "start_time": "2021-11-29T10:00:13.096Z"
   },
   {
    "duration": 6,
    "start_time": "2021-11-29T10:00:13.111Z"
   },
   {
    "duration": 523,
    "start_time": "2021-11-29T16:57:21.531Z"
   },
   {
    "duration": 127,
    "start_time": "2021-11-29T16:57:22.056Z"
   },
   {
    "duration": 17,
    "start_time": "2021-11-29T16:57:22.185Z"
   },
   {
    "duration": 24,
    "start_time": "2021-11-29T16:57:22.204Z"
   },
   {
    "duration": 5,
    "start_time": "2021-11-29T16:57:22.230Z"
   },
   {
    "duration": 23,
    "start_time": "2021-11-29T16:57:22.237Z"
   },
   {
    "duration": 30,
    "start_time": "2021-11-29T16:57:22.262Z"
   },
   {
    "duration": 33,
    "start_time": "2021-11-29T16:57:22.295Z"
   },
   {
    "duration": 18,
    "start_time": "2021-11-29T16:57:22.330Z"
   },
   {
    "duration": 25,
    "start_time": "2021-11-29T16:57:22.349Z"
   },
   {
    "duration": 58,
    "start_time": "2021-11-29T16:57:22.391Z"
   },
   {
    "duration": 86,
    "start_time": "2021-11-29T16:57:22.450Z"
   },
   {
    "duration": 57,
    "start_time": "2021-11-29T16:57:22.538Z"
   },
   {
    "duration": 42,
    "start_time": "2021-11-29T16:57:31.836Z"
   },
   {
    "duration": 533,
    "start_time": "2021-11-29T17:13:41.207Z"
   },
   {
    "duration": 136,
    "start_time": "2021-11-29T17:13:41.742Z"
   },
   {
    "duration": 17,
    "start_time": "2021-11-29T17:13:41.890Z"
   },
   {
    "duration": 25,
    "start_time": "2021-11-29T17:13:41.909Z"
   },
   {
    "duration": 5,
    "start_time": "2021-11-29T17:13:41.935Z"
   },
   {
    "duration": 26,
    "start_time": "2021-11-29T17:13:41.941Z"
   },
   {
    "duration": 24,
    "start_time": "2021-11-29T17:13:41.970Z"
   },
   {
    "duration": 23,
    "start_time": "2021-11-29T17:13:41.996Z"
   },
   {
    "duration": 28,
    "start_time": "2021-11-29T17:13:42.022Z"
   },
   {
    "duration": 43,
    "start_time": "2021-11-29T17:13:42.052Z"
   },
   {
    "duration": 57,
    "start_time": "2021-11-29T17:13:42.096Z"
   },
   {
    "duration": 84,
    "start_time": "2021-11-29T17:13:42.154Z"
   },
   {
    "duration": 61,
    "start_time": "2021-11-29T17:13:42.240Z"
   },
   {
    "duration": 43,
    "start_time": "2021-11-29T17:13:42.302Z"
   },
   {
    "duration": 2,
    "start_time": "2021-11-29T17:13:42.347Z"
   },
   {
    "duration": 12,
    "start_time": "2021-11-29T17:13:42.351Z"
   },
   {
    "duration": 29,
    "start_time": "2021-11-29T17:13:42.365Z"
   },
   {
    "duration": 9,
    "start_time": "2021-11-29T17:13:42.396Z"
   },
   {
    "duration": 10,
    "start_time": "2021-11-29T17:13:42.407Z"
   },
   {
    "duration": 3,
    "start_time": "2021-11-29T17:13:42.418Z"
   },
   {
    "duration": 18,
    "start_time": "2021-11-29T17:13:42.423Z"
   },
   {
    "duration": 54,
    "start_time": "2021-11-29T17:13:42.445Z"
   },
   {
    "duration": 14,
    "start_time": "2021-11-29T17:13:42.501Z"
   },
   {
    "duration": 13,
    "start_time": "2021-11-29T17:13:42.516Z"
   },
   {
    "duration": 15,
    "start_time": "2021-11-29T17:13:42.530Z"
   },
   {
    "duration": 46,
    "start_time": "2021-11-29T17:13:42.546Z"
   },
   {
    "duration": 9,
    "start_time": "2021-11-29T17:13:42.594Z"
   },
   {
    "duration": 11,
    "start_time": "2021-11-29T17:13:42.605Z"
   },
   {
    "duration": 8,
    "start_time": "2021-11-29T17:13:42.618Z"
   },
   {
    "duration": 4,
    "start_time": "2021-11-29T17:13:42.628Z"
   },
   {
    "duration": 22,
    "start_time": "2021-11-29T17:13:42.633Z"
   },
   {
    "duration": 42,
    "start_time": "2021-11-29T17:13:42.657Z"
   },
   {
    "duration": 15,
    "start_time": "2021-11-29T17:13:42.701Z"
   },
   {
    "duration": 11,
    "start_time": "2021-11-29T17:13:42.718Z"
   },
   {
    "duration": 7,
    "start_time": "2021-11-29T17:13:42.730Z"
   },
   {
    "duration": 5,
    "start_time": "2021-11-29T17:13:42.738Z"
   },
   {
    "duration": 8,
    "start_time": "2021-11-29T17:13:42.744Z"
   },
   {
    "duration": 41,
    "start_time": "2021-11-29T17:13:42.753Z"
   },
   {
    "duration": 534,
    "start_time": "2021-11-29T21:25:23.718Z"
   },
   {
    "duration": 134,
    "start_time": "2021-11-29T21:25:24.253Z"
   },
   {
    "duration": 22,
    "start_time": "2021-11-29T21:25:24.389Z"
   },
   {
    "duration": 22,
    "start_time": "2021-11-29T21:25:24.413Z"
   },
   {
    "duration": 4,
    "start_time": "2021-11-29T21:25:24.437Z"
   },
   {
    "duration": 20,
    "start_time": "2021-11-29T21:25:24.443Z"
   },
   {
    "duration": 32,
    "start_time": "2021-11-29T21:25:24.465Z"
   },
   {
    "duration": 25,
    "start_time": "2021-11-29T21:25:24.500Z"
   },
   {
    "duration": 21,
    "start_time": "2021-11-29T21:25:24.527Z"
   },
   {
    "duration": 21,
    "start_time": "2021-11-29T21:25:24.550Z"
   },
   {
    "duration": 76,
    "start_time": "2021-11-29T21:25:24.573Z"
   },
   {
    "duration": 81,
    "start_time": "2021-11-29T21:25:24.651Z"
   },
   {
    "duration": 49,
    "start_time": "2021-11-29T21:25:24.733Z"
   },
   {
    "duration": 295,
    "start_time": "2021-11-29T21:25:24.792Z"
   },
   {
    "duration": 156,
    "start_time": "2021-11-29T21:25:24.933Z"
   },
   {
    "duration": 156,
    "start_time": "2021-11-29T21:25:24.935Z"
   },
   {
    "duration": 155,
    "start_time": "2021-11-29T21:25:24.936Z"
   },
   {
    "duration": 153,
    "start_time": "2021-11-29T21:25:24.939Z"
   },
   {
    "duration": 153,
    "start_time": "2021-11-29T21:25:24.941Z"
   },
   {
    "duration": 151,
    "start_time": "2021-11-29T21:25:24.944Z"
   },
   {
    "duration": 150,
    "start_time": "2021-11-29T21:25:24.946Z"
   },
   {
    "duration": 149,
    "start_time": "2021-11-29T21:25:24.948Z"
   },
   {
    "duration": 145,
    "start_time": "2021-11-29T21:25:24.953Z"
   },
   {
    "duration": 142,
    "start_time": "2021-11-29T21:25:24.956Z"
   },
   {
    "duration": 144,
    "start_time": "2021-11-29T21:25:24.958Z"
   },
   {
    "duration": 144,
    "start_time": "2021-11-29T21:25:24.960Z"
   },
   {
    "duration": 144,
    "start_time": "2021-11-29T21:25:24.962Z"
   },
   {
    "duration": 143,
    "start_time": "2021-11-29T21:25:24.964Z"
   },
   {
    "duration": 142,
    "start_time": "2021-11-29T21:25:24.966Z"
   },
   {
    "duration": 141,
    "start_time": "2021-11-29T21:25:24.968Z"
   },
   {
    "duration": 140,
    "start_time": "2021-11-29T21:25:24.970Z"
   },
   {
    "duration": 139,
    "start_time": "2021-11-29T21:25:24.972Z"
   },
   {
    "duration": 138,
    "start_time": "2021-11-29T21:25:24.974Z"
   },
   {
    "duration": 137,
    "start_time": "2021-11-29T21:25:24.976Z"
   },
   {
    "duration": 132,
    "start_time": "2021-11-29T21:25:24.982Z"
   },
   {
    "duration": 131,
    "start_time": "2021-11-29T21:25:24.984Z"
   },
   {
    "duration": 130,
    "start_time": "2021-11-29T21:25:24.986Z"
   },
   {
    "duration": 129,
    "start_time": "2021-11-29T21:25:24.988Z"
   },
   {
    "duration": 563,
    "start_time": "2021-11-29T21:26:15.916Z"
   },
   {
    "duration": 136,
    "start_time": "2021-11-29T21:26:16.480Z"
   },
   {
    "duration": 15,
    "start_time": "2021-11-29T21:26:16.620Z"
   },
   {
    "duration": 37,
    "start_time": "2021-11-29T21:26:16.637Z"
   },
   {
    "duration": 27,
    "start_time": "2021-11-29T21:26:16.676Z"
   },
   {
    "duration": 27,
    "start_time": "2021-11-29T21:26:16.705Z"
   },
   {
    "duration": 4,
    "start_time": "2021-11-29T21:26:16.734Z"
   },
   {
    "duration": 25,
    "start_time": "2021-11-29T21:26:16.740Z"
   },
   {
    "duration": 20,
    "start_time": "2021-11-29T21:26:16.766Z"
   },
   {
    "duration": 28,
    "start_time": "2021-11-29T21:26:16.788Z"
   },
   {
    "duration": 57,
    "start_time": "2021-11-29T21:26:16.818Z"
   },
   {
    "duration": 78,
    "start_time": "2021-11-29T21:26:16.877Z"
   },
   {
    "duration": 53,
    "start_time": "2021-11-29T21:26:16.957Z"
   },
   {
    "duration": 38,
    "start_time": "2021-11-29T21:26:17.011Z"
   },
   {
    "duration": 3,
    "start_time": "2021-11-29T21:26:17.050Z"
   },
   {
    "duration": 15,
    "start_time": "2021-11-29T21:26:17.054Z"
   },
   {
    "duration": 30,
    "start_time": "2021-11-29T21:26:17.071Z"
   },
   {
    "duration": 10,
    "start_time": "2021-11-29T21:26:17.103Z"
   },
   {
    "duration": 10,
    "start_time": "2021-11-29T21:26:17.114Z"
   },
   {
    "duration": 3,
    "start_time": "2021-11-29T21:26:17.125Z"
   },
   {
    "duration": 20,
    "start_time": "2021-11-29T21:26:17.130Z"
   },
   {
    "duration": 12,
    "start_time": "2021-11-29T21:26:17.153Z"
   },
   {
    "duration": 44,
    "start_time": "2021-11-29T21:26:17.166Z"
   },
   {
    "duration": 12,
    "start_time": "2021-11-29T21:26:17.211Z"
   },
   {
    "duration": 15,
    "start_time": "2021-11-29T21:26:17.225Z"
   },
   {
    "duration": 15,
    "start_time": "2021-11-29T21:26:17.242Z"
   },
   {
    "duration": 41,
    "start_time": "2021-11-29T21:26:17.259Z"
   },
   {
    "duration": 11,
    "start_time": "2021-11-29T21:26:17.302Z"
   },
   {
    "duration": 9,
    "start_time": "2021-11-29T21:26:17.315Z"
   },
   {
    "duration": 5,
    "start_time": "2021-11-29T21:26:17.325Z"
   },
   {
    "duration": 30,
    "start_time": "2021-11-29T21:26:17.331Z"
   },
   {
    "duration": 16,
    "start_time": "2021-11-29T21:26:17.363Z"
   },
   {
    "duration": 18,
    "start_time": "2021-11-29T21:26:17.404Z"
   },
   {
    "duration": 12,
    "start_time": "2021-11-29T21:26:17.423Z"
   },
   {
    "duration": 8,
    "start_time": "2021-11-29T21:26:17.437Z"
   },
   {
    "duration": 7,
    "start_time": "2021-11-29T21:26:17.446Z"
   },
   {
    "duration": 22,
    "start_time": "2021-11-29T21:26:17.454Z"
   },
   {
    "duration": 31,
    "start_time": "2021-11-29T21:26:17.477Z"
   },
   {
    "duration": 596,
    "start_time": "2021-11-29T21:26:57.849Z"
   },
   {
    "duration": 131,
    "start_time": "2021-11-29T21:26:58.447Z"
   },
   {
    "duration": 18,
    "start_time": "2021-11-29T21:26:58.580Z"
   },
   {
    "duration": 27,
    "start_time": "2021-11-29T21:26:58.601Z"
   },
   {
    "duration": 5,
    "start_time": "2021-11-29T21:26:58.630Z"
   },
   {
    "duration": 22,
    "start_time": "2021-11-29T21:26:58.636Z"
   },
   {
    "duration": 4,
    "start_time": "2021-11-29T21:26:58.660Z"
   },
   {
    "duration": 31,
    "start_time": "2021-11-29T21:26:58.693Z"
   },
   {
    "duration": 16,
    "start_time": "2021-11-29T21:26:58.726Z"
   },
   {
    "duration": 21,
    "start_time": "2021-11-29T21:26:58.744Z"
   },
   {
    "duration": 81,
    "start_time": "2021-11-29T21:26:58.766Z"
   },
   {
    "duration": 70,
    "start_time": "2021-11-29T21:26:58.849Z"
   },
   {
    "duration": 47,
    "start_time": "2021-11-29T21:26:58.921Z"
   },
   {
    "duration": 56,
    "start_time": "2021-11-29T21:26:58.970Z"
   },
   {
    "duration": 2,
    "start_time": "2021-11-29T21:26:59.028Z"
   },
   {
    "duration": 10,
    "start_time": "2021-11-29T21:26:59.032Z"
   },
   {
    "duration": 6,
    "start_time": "2021-11-29T21:26:59.044Z"
   },
   {
    "duration": 10,
    "start_time": "2021-11-29T21:26:59.051Z"
   },
   {
    "duration": 40,
    "start_time": "2021-11-29T21:26:59.063Z"
   },
   {
    "duration": 4,
    "start_time": "2021-11-29T21:26:59.105Z"
   },
   {
    "duration": 24,
    "start_time": "2021-11-29T21:26:59.110Z"
   },
   {
    "duration": 12,
    "start_time": "2021-11-29T21:26:59.136Z"
   },
   {
    "duration": 12,
    "start_time": "2021-11-29T21:26:59.151Z"
   },
   {
    "duration": 40,
    "start_time": "2021-11-29T21:26:59.165Z"
   },
   {
    "duration": 14,
    "start_time": "2021-11-29T21:26:59.207Z"
   },
   {
    "duration": 13,
    "start_time": "2021-11-29T21:26:59.223Z"
   },
   {
    "duration": 7,
    "start_time": "2021-11-29T21:26:59.237Z"
   },
   {
    "duration": 13,
    "start_time": "2021-11-29T21:26:59.246Z"
   },
   {
    "duration": 8,
    "start_time": "2021-11-29T21:26:59.260Z"
   },
   {
    "duration": 32,
    "start_time": "2021-11-29T21:26:59.269Z"
   },
   {
    "duration": 22,
    "start_time": "2021-11-29T21:26:59.303Z"
   },
   {
    "duration": 12,
    "start_time": "2021-11-29T21:26:59.327Z"
   },
   {
    "duration": 16,
    "start_time": "2021-11-29T21:26:59.341Z"
   },
   {
    "duration": 36,
    "start_time": "2021-11-29T21:26:59.359Z"
   },
   {
    "duration": 10,
    "start_time": "2021-11-29T21:26:59.397Z"
   },
   {
    "duration": 7,
    "start_time": "2021-11-29T21:26:59.409Z"
   },
   {
    "duration": 9,
    "start_time": "2021-11-29T21:26:59.417Z"
   },
   {
    "duration": 6,
    "start_time": "2021-11-29T21:26:59.428Z"
   }
  ],
  "colab": {
   "collapsed_sections": [
    "E0vqbgi9ay0H",
    "VUC88oWjTJw2"
   ],
   "name": "yandex_music_project_2021.2.ipynb",
   "provenance": []
  },
  "kernelspec": {
   "display_name": "Python 3 (ipykernel)",
   "language": "python",
   "name": "python3"
  },
  "language_info": {
   "codemirror_mode": {
    "name": "ipython",
    "version": 3
   },
   "file_extension": ".py",
   "mimetype": "text/x-python",
   "name": "python",
   "nbconvert_exporter": "python",
   "pygments_lexer": "ipython3",
   "version": "3.8.10"
  },
  "toc": {
   "base_numbering": 1,
   "nav_menu": {},
   "number_sections": true,
   "sideBar": true,
   "skip_h1_title": true,
   "title_cell": "Table of Contents",
   "title_sidebar": "Contents",
   "toc_cell": false,
   "toc_position": {},
   "toc_section_display": true,
   "toc_window_display": true
  }
 },
 "nbformat": 4,
 "nbformat_minor": 1
}
