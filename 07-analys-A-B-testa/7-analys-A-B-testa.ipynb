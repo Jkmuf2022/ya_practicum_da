{
 "cells": [
  {
   "cell_type": "markdown",
   "metadata": {},
   "source": [
    "# Проект приоритизация гипотез. Анализ A/B-теста."
   ]
  },
  {
   "cell_type": "markdown",
   "metadata": {},
   "source": [
    "В данном проекте предстоит проанализировать датасет интернет-магазина. Совместно с отделом маркетинга подготовлен список гипотез для увеличения выручки.\n",
    "\n",
    "В файле 9 гипотез по увеличению выручки интернет-магазина с указанными параметрами Reach, Impact, Confidence, Effort.\n",
    "\n",
    "Задача проекта исследовать результаты А/В теста и принять нужное решение по результатам:\n",
    "1. Остановить тест, зафиксировать победу одной из групп. \n",
    "2. Остановить тест, зафиксировать отсутствие различий между группами. \n",
    "3. Продолжить тест."
   ]
  },
  {
   "cell_type": "markdown",
   "metadata": {},
   "source": [
    "##  Исследование данных."
   ]
  },
  {
   "cell_type": "code",
   "execution_count": 1,
   "metadata": {},
   "outputs": [
    {
     "ename": "ModuleNotFoundError",
     "evalue": "No module named 'statsmodels'",
     "output_type": "error",
     "traceback": [
      "\u001b[0;31m---------------------------------------------------------------------------\u001b[0m",
      "\u001b[0;31mModuleNotFoundError\u001b[0m                       Traceback (most recent call last)",
      "Input \u001b[0;32mIn [1]\u001b[0m, in \u001b[0;36m<cell line: 11>\u001b[0;34m()\u001b[0m\n\u001b[1;32m      8\u001b[0m \u001b[38;5;28;01mfrom\u001b[39;00m \u001b[38;5;21;01mdatetime\u001b[39;00m \u001b[38;5;28;01mimport\u001b[39;00m timedelta\n\u001b[1;32m      9\u001b[0m \u001b[38;5;28;01mimport\u001b[39;00m \u001b[38;5;21;01mdatetime\u001b[39;00m \u001b[38;5;28;01mas\u001b[39;00m \u001b[38;5;21;01mdt\u001b[39;00m\n\u001b[0;32m---> 11\u001b[0m \u001b[38;5;28;01mfrom\u001b[39;00m \u001b[38;5;21;01mstatsmodels\u001b[39;00m\u001b[38;5;21;01m.\u001b[39;00m\u001b[38;5;21;01mstats\u001b[39;00m\u001b[38;5;21;01m.\u001b[39;00m\u001b[38;5;21;01mproportion\u001b[39;00m \u001b[38;5;28;01mimport\u001b[39;00m proportions_ztest\n\u001b[1;32m     12\u001b[0m \u001b[38;5;28;01mimport\u001b[39;00m \u001b[38;5;21;01mwarnings\u001b[39;00m\n\u001b[1;32m     14\u001b[0m warnings\u001b[38;5;241m.\u001b[39mfilterwarnings(\u001b[38;5;124m'\u001b[39m\u001b[38;5;124mignore\u001b[39m\u001b[38;5;124m'\u001b[39m)\n",
      "\u001b[0;31mModuleNotFoundError\u001b[0m: No module named 'statsmodels'"
     ]
    }
   ],
   "source": [
    "import pandas as pd\n",
    "import numpy as np\n",
    "from matplotlib import pyplot as plt\n",
    "\n",
    "import math\n",
    "from scipy import stats\n",
    "\n",
    "from datetime import timedelta\n",
    "import datetime as dt\n",
    "\n",
    "from statsmodels.stats.proportion import proportions_ztest\n",
    "import warnings\n",
    "\n",
    "warnings.filterwarnings('ignore')\n",
    "\n",
    "from pandas.plotting import register_matplotlib_converters\n",
    "register_matplotlib_converters()"
   ]
  },
  {
   "cell_type": "code",
   "execution_count": null,
   "metadata": {},
   "outputs": [],
   "source": [
    "hypothesis = pd.read_csv('/datasets/hypothesis.csv', sep=',')"
   ]
  },
  {
   "cell_type": "code",
   "execution_count": null,
   "metadata": {},
   "outputs": [],
   "source": [
    "hypothesis.columns = [x.lower() for x in hypothesis.columns.values]\n",
    "display(hypothesis)"
   ]
  },
  {
   "cell_type": "markdown",
   "metadata": {},
   "source": [
    "###  Фреймворк ICE"
   ]
  },
  {
   "cell_type": "code",
   "execution_count": null,
   "metadata": {},
   "outputs": [],
   "source": [
    "hypothesis['ICE'] = (hypothesis['impact']*hypothesis['confidence']/hypothesis['efforts']).round(2)\n",
    "pd.set_option('display.max_colwidth', 500)\n",
    "hypothesis[['hypothesis', 'ICE']].sort_values(by='ICE',ascending=False)"
   ]
  },
  {
   "cell_type": "markdown",
   "metadata": {},
   "source": [
    "###  Фреймворк RICE"
   ]
  },
  {
   "cell_type": "code",
   "execution_count": null,
   "metadata": {},
   "outputs": [],
   "source": [
    "hypothesis['RICE'] =(hypothesis['reach']*hypothesis['impact']*hypothesis['confidence'])/hypothesis['efforts']\n",
    "pd.set_option('display.max_colwidth', 500)\n",
    "hypothesis[['hypothesis', 'RICE','reach']].sort_values(by='RICE', ascending=False)"
   ]
  },
  {
   "cell_type": "code",
   "execution_count": null,
   "metadata": {},
   "outputs": [],
   "source": [
    "hypothesis[['hypothesis', 'ICE', 'RICE']]"
   ]
  },
  {
   "cell_type": "markdown",
   "metadata": {},
   "source": [
    "Приоритеты по гипотезам ICE и RICE отличаются,так как количество пользователей, которых она затрагивает в Reach (скольких пользователей затронет изменение, которое мы хотим внести), разное. В связи с этим есть смысл в первую очередь рассмотреть гипотезы 7 и 2."
   ]
  },
  {
   "cell_type": "markdown",
   "metadata": {},
   "source": [
    "## Анализ A/B-теста. Предобработка данных."
   ]
  },
  {
   "cell_type": "markdown",
   "metadata": {},
   "source": [
    "Посмотрим результаты А/В тестов"
   ]
  },
  {
   "cell_type": "code",
   "execution_count": null,
   "metadata": {},
   "outputs": [],
   "source": [
    "visitors = pd.read_csv('/datasets/visitors.csv', sep=',')\n",
    "orders = pd.read_csv('/datasets/orders.csv', sep=',')"
   ]
  },
  {
   "cell_type": "code",
   "execution_count": null,
   "metadata": {
    "scrolled": true
   },
   "outputs": [],
   "source": [
    "visitors.info()"
   ]
  },
  {
   "cell_type": "code",
   "execution_count": null,
   "metadata": {},
   "outputs": [],
   "source": [
    "visitors.head()"
   ]
  },
  {
   "cell_type": "markdown",
   "metadata": {},
   "source": [
    "Переведём столбец date в формат datetime"
   ]
  },
  {
   "cell_type": "code",
   "execution_count": null,
   "metadata": {},
   "outputs": [],
   "source": [
    "visitors['date'] = visitors['date'].map(\n",
    "      lambda x: dt.datetime.strptime(x, '%Y-%m-%d')\n",
    ")"
   ]
  },
  {
   "cell_type": "code",
   "execution_count": null,
   "metadata": {},
   "outputs": [],
   "source": [
    "visitors['visitors'].describe()"
   ]
  },
  {
   "cell_type": "markdown",
   "metadata": {},
   "source": [
    "В таблице visitors 62 строки,среднее и медиана близки по цифрам (607 и 624 соответственно)."
   ]
  },
  {
   "cell_type": "code",
   "execution_count": null,
   "metadata": {},
   "outputs": [],
   "source": [
    "visitors['date'].describe()"
   ]
  },
  {
   "cell_type": "markdown",
   "metadata": {},
   "source": [
    "В группах А и В 31 уникальных значений в каждой группе, данные предоставлены за август 2019 года."
   ]
  },
  {
   "cell_type": "code",
   "execution_count": null,
   "metadata": {},
   "outputs": [],
   "source": [
    "visitors['group'].value_counts()"
   ]
  },
  {
   "cell_type": "markdown",
   "metadata": {},
   "source": [
    "Пользователей в группа А и В равное количество-31."
   ]
  },
  {
   "cell_type": "code",
   "execution_count": null,
   "metadata": {},
   "outputs": [],
   "source": [
    "display(visitors.duplicated().sum())"
   ]
  },
  {
   "cell_type": "markdown",
   "metadata": {},
   "source": [
    "Дубликатов нет.  \n",
    "\n",
    "Посмотрим на данные в таблице orders."
   ]
  },
  {
   "cell_type": "code",
   "execution_count": null,
   "metadata": {},
   "outputs": [],
   "source": [
    "orders.info()"
   ]
  },
  {
   "cell_type": "code",
   "execution_count": null,
   "metadata": {},
   "outputs": [],
   "source": [
    "orders.head()"
   ]
  },
  {
   "cell_type": "markdown",
   "metadata": {},
   "source": [
    "Так же переведем столбец в datetime, а так же перименуем столбцы transactionId и visitorId"
   ]
  },
  {
   "cell_type": "code",
   "execution_count": null,
   "metadata": {},
   "outputs": [],
   "source": [
    "orders['date'] = orders['date'].map(\n",
    "    lambda x: dt.datetime.strptime(x, '%Y-%m-%d')\n",
    ")"
   ]
  },
  {
   "cell_type": "code",
   "execution_count": null,
   "metadata": {},
   "outputs": [],
   "source": [
    "orders = orders.rename(columns={\"transactionId\": \"orderId\", \"visitorId\": \"userId\"})"
   ]
  },
  {
   "cell_type": "markdown",
   "metadata": {},
   "source": [
    "Посмторим данные по столбцам"
   ]
  },
  {
   "cell_type": "code",
   "execution_count": null,
   "metadata": {},
   "outputs": [],
   "source": [
    "orders[\"date\"].describe()"
   ]
  },
  {
   "cell_type": "markdown",
   "metadata": {},
   "source": [
    "В таблице заказы за август 2019 года. Датасет содержит 1197 строк, из них уникальных - 31. Больше всего заказов (48) сделано 2019-08-05."
   ]
  },
  {
   "cell_type": "code",
   "execution_count": null,
   "metadata": {},
   "outputs": [],
   "source": [
    "orders['userId'].value_counts()"
   ]
  },
  {
   "cell_type": "code",
   "execution_count": null,
   "metadata": {},
   "outputs": [],
   "source": [
    "display(orders.duplicated().sum())"
   ]
  },
  {
   "cell_type": "code",
   "execution_count": null,
   "metadata": {},
   "outputs": [],
   "source": [
    "orders_visitors = orders.pivot_table(index='userId', values='group', aggfunc='nunique')\n",
    "orders_visitors.columns = ['count', 'columns']\n",
    "orders_visitors.reset_index()\n",
    "orders_visitors.query('count > 1').count()"
   ]
  },
  {
   "cell_type": "code",
   "execution_count": null,
   "metadata": {},
   "outputs": [],
   "source": [
    "duplicates_users = np.intersect1d(orders.query('group == \"A\"')['userId'].unique(), \n",
    "                   orders.query('group == \"B\"')['userId'].unique())\n",
    "orders[~orders['userId'].isin(duplicates_users)]\n",
    "display(duplicates_users)"
   ]
  },
  {
   "cell_type": "markdown",
   "metadata": {},
   "source": [
    "58 пользователей оказались в обеих группах. \n",
    "Данные готовы к анализу, дубликатов нет, тип столбцов date изменили на datetime.\n",
    "\n",
    "ОБЩИЙ ИТОГ:\n",
    "Таблица с гипотезами оставлена без изменений,так как данные корректны. В датафреймах с заказами и посетителями изменен тип столбца с датой. Диапазон (август 2019) дат в таблицах заказов и посетителей совпадают."
   ]
  },
  {
   "cell_type": "markdown",
   "metadata": {},
   "source": [
    "### График кумулятивной выручки по группам"
   ]
  },
  {
   "cell_type": "code",
   "execution_count": null,
   "metadata": {},
   "outputs": [],
   "source": [
    "# создаем массив уникальных пар значений дат и групп теста\n",
    "datesGroups = orders[['date','group']].drop_duplicates()\n",
    "\n",
    "# получаем агрегированные кумулятивные по дням данные о заказах \n",
    "ordersAggregated = datesGroups.apply(lambda x: orders[np.logical_and(orders['date'] <= x['date'], orders['group'] == x['group'])].agg({'date' : 'max', 'group' : 'max', 'orderId' : 'nunique', 'userId' : 'nunique', 'revenue' : 'sum'}), axis=1).sort_values(by=['date','group'])\n",
    "\n",
    "# получаем агрегированные кумулятивные по дням данные о посетителях интернет-магазина \n",
    "visitorsAggregated = datesGroups.apply(lambda x: visitors[np.logical_and(visitors['date'] <= x['date'], visitors['group'] == x['group'])].agg({'date' : 'max', 'group' : 'max', 'visitors' : 'sum'}), axis=1).sort_values(by=['date','group'])\n",
    "\n",
    "# объединяем кумулятивные данные в одной таблице и присваиваем ее столбцам понятные названия\n",
    "cumulativeData = ordersAggregated.merge(visitorsAggregated, left_on=['date', 'group'], right_on=['date', 'group'])\n",
    "cumulativeData.columns = ['date', 'group', 'orders', 'buyers', 'revenue', 'visitors']\n",
    "\n",
    "print(cumulativeData.head(5))"
   ]
  },
  {
   "cell_type": "code",
   "execution_count": null,
   "metadata": {},
   "outputs": [],
   "source": [
    "# датафрейм с кумулятивным количеством заказов и кумулятивной выручкой по дням в группе А\n",
    "cumulativeRevenueA = cumulativeData[cumulativeData['group']=='A'][['date','revenue', 'orders']]\n",
    "\n",
    "# датафрейм с кумулятивным количеством заказов и кумулятивной выручкой по дням в группе B\n",
    "cumulativeRevenueB = cumulativeData[cumulativeData['group']=='B'][['date','revenue', 'orders']]\n",
    "\n",
    "plt.figure(figsize=(15,5))\n",
    "# график выручки группы А\n",
    "plt.plot(cumulativeRevenueA['date'], cumulativeRevenueA['revenue'], label='A')\n",
    "# график выручки группы B\n",
    "plt.plot(cumulativeRevenueB['date'], cumulativeRevenueB['revenue'], label='B')\n",
    "\n",
    "plt.legend()\n",
    "plt.grid()\n",
    "plt.title('Кумулятивная выручка по группам')\n",
    "plt.xlabel('Дата, день')\n",
    "plt.ylabel('Выручка, руб')\n",
    "plt.show()"
   ]
  },
  {
   "cell_type": "markdown",
   "metadata": {},
   "source": [
    "Выручка в обеих группах равномерно увеличиваетсся, однако группа В лидирует, после 17.08.2019 года она резко вырастает, возможно заказы стали дороже или их стало больше. Нужно посмотреть, что именно произошло.   \n",
    "\n",
    "Посмотрим на заказы с 1.08 по 21.08:"
   ]
  },
  {
   "cell_type": "code",
   "execution_count": null,
   "metadata": {},
   "outputs": [],
   "source": [
    "cumulativeRevenueB.query(' \"2019-08-17\" <= date <= \"2019-08-21\" ')"
   ]
  },
  {
   "cell_type": "markdown",
   "metadata": {},
   "source": [
    "Видим, что количество заказов в пределах одних цифр, то есть количество сильно не менялось."
   ]
  },
  {
   "cell_type": "code",
   "execution_count": null,
   "metadata": {},
   "outputs": [],
   "source": [
    "display('Медианное значение заказов 19.08.2019 =',orders.query(' date == \"2019-08-19\" ')['revenue'].median())\n",
    "orders.query(' date == \"2019-08-19\" ').sort_values(by='revenue', ascending=False).head(8)"
   ]
  },
  {
   "cell_type": "markdown",
   "metadata": {},
   "source": [
    "Видим,что заказ с номером 425 явно больше остальных сумм -1294500 рублей против 17000-44000 рублей. То есть можно сказать,что рост на графике продиктован случайностью."
   ]
  },
  {
   "cell_type": "markdown",
   "metadata": {},
   "source": [
    "###  График кумулятивного среднего чека по группам. "
   ]
  },
  {
   "cell_type": "code",
   "execution_count": null,
   "metadata": {
    "scrolled": true
   },
   "outputs": [],
   "source": [
    "plt.figure(figsize=(15,5))\n",
    "\n",
    "plt.plot(cumulativeRevenueA['date'], cumulativeRevenueA['revenue']/cumulativeRevenueA['orders'], label='A')\n",
    "plt.plot(cumulativeRevenueB['date'], cumulativeRevenueB['revenue']/cumulativeRevenueB['orders'], label='B')\n",
    "\n",
    "plt.grid()\n",
    "plt.title('Кумулятивный средний чек по группам')\n",
    "plt.xlabel('Дата, день')\n",
    "plt.ylabel('Средний чек, руб')\n",
    "plt.legend() \n",
    "plt.show()"
   ]
  },
  {
   "cell_type": "markdown",
   "metadata": {},
   "source": [
    "Есть схожесть с графиком кум.выручки. В первой половине в группе \"B\" чек преимущественно больше, но есть даты где и наоборот, чек больше в \"A\" , например,  начало 1 августа и 12-14 августа. Потом чек группы \"B\" стабильно больше, вмесе с тем на графике видно сильное влияние на средний чек заказа 425, но после него (19 августа) средний чек в \"B\" постепенно пошел вниз, в то время как в \"A\" он с 18 августа постепенно растет."
   ]
  },
  {
   "cell_type": "markdown",
   "metadata": {},
   "source": [
    "###  График относительного изменения кумулятивного среднего чека группы B к группе A."
   ]
  },
  {
   "cell_type": "code",
   "execution_count": null,
   "metadata": {},
   "outputs": [],
   "source": [
    "# собираем данные в одном датафрейме\n",
    "mergedCumulativeRevenue = cumulativeRevenueA.merge(cumulativeRevenueB, left_on='date', right_on='date', how='left', suffixes=['A', 'B'])\n",
    "\n",
    "plt.figure(figsize=(15,5))\n",
    "plt.grid()\n",
    "# cтроим отношение средних чеков\n",
    "plt.plot(mergedCumulativeRevenue['date'], (mergedCumulativeRevenue['revenueB']/mergedCumulativeRevenue['ordersB'])/(mergedCumulativeRevenue['revenueA']/mergedCumulativeRevenue['ordersA'])-1)\n",
    "\n",
    "# добавляем ось X\n",
    "plt.axhline(y=0, color='black', linestyle='--')\n",
    "\n",
    "plt.title('Относительное изменение кумулятивного среднего чека группы B к группе A')\n",
    "plt.xlabel('Дата, день')\n",
    "plt.ylabel('Отношение средних чеков')\n",
    "plt.show()"
   ]
  },
  {
   "cell_type": "markdown",
   "metadata": {},
   "source": [
    "Поскольку этот график является производным предыдущих, то и выводы по большей части аналогичные. Опять же здесь хорошо видно, что 19 августа был сильный всплеск (рост) за счет заказа 425 с аномально высокой стоимостью, а в последующие дни средний чек \"B\" также постепенно снижается."
   ]
  },
  {
   "cell_type": "markdown",
   "metadata": {},
   "source": [
    "###  График кумулятивной конверсии по группам."
   ]
  },
  {
   "cell_type": "code",
   "execution_count": null,
   "metadata": {},
   "outputs": [],
   "source": [
    "# считаем кумулятивную конверсию\n",
    "cumulativeData['conversion'] = cumulativeData['orders']/cumulativeData['visitors']\n",
    "\n",
    "# отделяем данные по группе A\n",
    "cumulativeDataA = cumulativeData[cumulativeData['group']=='A']\n",
    "\n",
    "# отделяем данные по группе B\n",
    "cumulativeDataB = cumulativeData[cumulativeData['group']=='B']\n",
    "\n",
    "# строим графики\n",
    "plt.figure(figsize=(15,5))\n",
    "plt.grid()\n",
    "plt.plot(cumulativeDataA['date'], cumulativeDataA['conversion'], label='A')\n",
    "plt.plot(cumulativeDataB['date'], cumulativeDataB['conversion'], label='B')\n",
    "plt.legend()\n",
    "plt.title(\"Кумулятивная конверсия по группам\")\n",
    "plt.xlabel('Дата, день')\n",
    "plt.ylabel('Конверсия')\n",
    " \n",
    "# задаем масштаб осей\n",
    "plt.axis(['2019-08-01', '2019-08-31', 0.028, 0.04])\n",
    "\n",
    "plt.show()"
   ]
  },
  {
   "cell_type": "markdown",
   "metadata": {},
   "source": [
    "Группы росли равномерно, но после 05-08-2019 конверсия группы В вырвалась вперёд и зафиксировалась, а конверсия группы А просела и также зафиксировалась."
   ]
  },
  {
   "cell_type": "markdown",
   "metadata": {},
   "source": [
    "### График относительного изменения кумулятивной конверсии группы B к группе A. "
   ]
  },
  {
   "cell_type": "code",
   "execution_count": null,
   "metadata": {},
   "outputs": [],
   "source": [
    "mergedCumulativeConversions = cumulativeDataA[['date','conversion']].merge(cumulativeDataB[['date','conversion']], left_on='date', right_on='date', how='left', suffixes=['A', 'B'])\n",
    "\n",
    "plt.figure(figsize=(15,5))\n",
    "plt.grid()\n",
    "plt.plot(mergedCumulativeConversions['date'], mergedCumulativeConversions['conversionB']/mergedCumulativeConversions['conversionA']-1, label=\"Относительный прирост конверсии группы B относительно группы A\")\n",
    "plt.legend()\n",
    "plt.xlabel('Дата, день')\n",
    "plt.ylabel('Значение прироста')\n",
    "\n",
    "#Добавим пунктирную линию оси X чёрного цвета ('black') со значением оси Y = 0 методом plt.axhline(). \n",
    "plt.axhline(y=0, color='black', linestyle='--')\n",
    "#И несколько линий оси X серого цвета ('grey')\n",
    "plt.axhline(y=0.1, color='grey', linestyle='--')\n",
    "plt.axhline(y=0.21, color='grey', linestyle='--')\n",
    "plt.axhline(y=0.057, color='grey', linestyle='--')\n",
    "\n",
    "plt.show()"
   ]
  },
  {
   "cell_type": "markdown",
   "metadata": {},
   "source": [
    "В начале теста группа B проигрывала группе A, затем вырвалась резко вперёд 2 августа, а потом упала вновь 3 августа. Затем она начала расти до 15 августа (прирост 20%), после чего стала немного падать до 0.1, но все равно выигрывает по сравнению с группой А. Начиная с 6 августа группа \"B\" лидировала до конца периода; её конверсия росла до 15 августа и разница с \"A\" на максимуме составила 21%, затем пошло постепенное снижение отностельной конверсии до 10%-14%."
   ]
  },
  {
   "cell_type": "markdown",
   "metadata": {},
   "source": [
    "### Точечный график количества заказов по пользователям."
   ]
  },
  {
   "cell_type": "code",
   "execution_count": null,
   "metadata": {},
   "outputs": [],
   "source": [
    "ordersByUsers = (\n",
    "    orders.drop(['group', 'revenue', 'date'], axis=1)\n",
    "    .groupby('userId', as_index=False)\n",
    "    .agg({'orderId': pd.Series.nunique})\n",
    ")\n",
    "\n",
    "ordersByUsers.columns = ['userId', 'orders']\n",
    "\n",
    "ordersByUsers.sort_values(by='orders', ascending=False).head(10)"
   ]
  },
  {
   "cell_type": "code",
   "execution_count": null,
   "metadata": {},
   "outputs": [],
   "source": [
    "# серия из чисел от 0 до количества наблюдений \n",
    "x_values = pd.Series(range(0, len(ordersByUsers)))\n",
    "\n",
    "plt.figure(figsize=(15,5))\n",
    "plt.grid()\n",
    "plt.scatter(x_values, ordersByUsers['orders'], alpha=0.5) \n",
    "\n",
    "plt.title('Распределение числа заказов по пользователям')\n",
    "plt.xlabel('Число пользователей, чел')\n",
    "plt.ylabel('Число заказов, шт')\n",
    "plt.show()"
   ]
  },
  {
   "cell_type": "markdown",
   "metadata": {},
   "source": [
    "Больше всего пользователей сделали 1 заказ, но много пользователей с 2-4 заказами. Их точная доля не ясна — непонятно, считать их аномалиями или нет, нужно посмотреть процентили(95 и 99)."
   ]
  },
  {
   "cell_type": "markdown",
   "metadata": {},
   "source": [
    "### 95-й и 99-й перцентили количества заказов на пользователя. Выбераем границу для определения аномальных пользователей."
   ]
  },
  {
   "cell_type": "code",
   "execution_count": null,
   "metadata": {},
   "outputs": [],
   "source": [
    "np.percentile(ordersByUsers['orders'], [95, 99])"
   ]
  },
  {
   "cell_type": "markdown",
   "metadata": {},
   "source": [
    "Не более 5% пользователей совершали больше двух заказов. И не более 1% пользователей - больше четырех заказов."
   ]
  },
  {
   "cell_type": "markdown",
   "metadata": {},
   "source": [
    "###  Точечный график стоимостей заказов. "
   ]
  },
  {
   "cell_type": "code",
   "execution_count": null,
   "metadata": {},
   "outputs": [],
   "source": [
    "x_values = pd.Series(range(0, len(orders['revenue'])))\n",
    "\n",
    "plt.figure(figsize=(15,5))\n",
    "plt.grid()\n",
    "plt.scatter(x_values, orders['revenue'], alpha=0.5) \n",
    "\n",
    "plt.title('Распределение стоимости заказов')\n",
    "plt.xlabel('Число пользователей, чел')\n",
    "plt.ylabel('Стоимость заказов, руб')\n",
    "plt.show()"
   ]
  },
  {
   "cell_type": "markdown",
   "metadata": {},
   "source": [
    "График не наглядный, сделаем меньше область анализа, хотя тут хорошо видно аномальный заказ 425 на 1,3 млн.рублей и еще один на ~200000 рублей. Предположение о том,что на резкий скачок в графиках выручки и среднего чека повлияли более дорогие заказы, подтвердилось."
   ]
  },
  {
   "cell_type": "code",
   "execution_count": null,
   "metadata": {},
   "outputs": [],
   "source": [
    "usual_orders = orders[orders['revenue']<=200000]['revenue']\n",
    "xn_values = pd.Series(range(0,len(usual_orders)))\n",
    "plt.figure(figsize=(15,5))\n",
    "plt.grid()\n",
    "plt.title('График стоимостей заказов')\n",
    "plt.scatter(xn_values, usual_orders, alpha=0.5);"
   ]
  },
  {
   "cell_type": "markdown",
   "metadata": {},
   "source": [
    "В основном заказы в районе стоимoсти 20000 рублей, иногда встречаются заказы в среднем до 100000 рублей.  \n",
    "Чтобы найти более точную границу аномальных заказов рассчитаем процентили."
   ]
  },
  {
   "cell_type": "markdown",
   "metadata": {},
   "source": [
    "###   95-й и 99-й перцентили стоимости заказов."
   ]
  },
  {
   "cell_type": "code",
   "execution_count": null,
   "metadata": {},
   "outputs": [],
   "source": [
    "np.percentile(orders['revenue'], [95, 99])"
   ]
  },
  {
   "cell_type": "markdown",
   "metadata": {},
   "source": [
    "Не более, чем у 5% заказов чек дороже 28000. И не больше, чем у 1% заказов чек дороже 58233 т.р.,  установим эту цифру в качестве границы для аномалий."
   ]
  },
  {
   "cell_type": "markdown",
   "metadata": {},
   "source": [
    "###   Cтатистическая значимость различий в конверсии между группами по «сырым» данным."
   ]
  },
  {
   "cell_type": "markdown",
   "metadata": {},
   "source": [
    "Соберем все данные по заказам и визитам, добавим кумулятивные показатели в одну таблицу. Для этого сделаем несколько таблиц и объединим их:"
   ]
  },
  {
   "cell_type": "code",
   "execution_count": null,
   "metadata": {},
   "outputs": [],
   "source": [
    "visitorsADaily = visitors[visitors['group']=='A'][['date', 'visitors']]\n",
    "visitorsADaily.columns = ['date', 'visitorsPerDateA']\n",
    "\n",
    "visitorsACummulative = visitorsADaily.apply(lambda x: visitorsADaily[visitorsADaily['date'] <= x['date']]. \\\n",
    "                                            agg({'date' : 'max', 'visitorsPerDateA' : 'sum'}), axis=1)\n",
    "visitorsACummulative.columns = ['date', 'visitorsCummulativeA']\n",
    "\n",
    "visitorsBDaily = visitors[visitors['group']=='B'][['date', 'visitors']]\n",
    "visitorsBDaily.columns = ['date', 'visitorsPerDateB']\n",
    "\n",
    "visitorsBCummulative = visitorsBDaily.apply(lambda x: visitorsBDaily[visitorsBDaily['date'] <= x['date']]. \\\n",
    "                                            agg({'date' : 'max', 'visitorsPerDateB' : 'sum'}), axis=1)\n",
    "visitorsBCummulative.columns = ['date', 'visitorsCummulativeB']\n",
    "\n",
    "\n",
    "ordersADaily = orders[orders['group']=='A'][['date', 'orderId', 'userId', 'revenue']]\\\n",
    "    .groupby('date', as_index=False)\\\n",
    "    .agg({'orderId' : pd.Series.nunique, 'revenue' : 'sum'})\n",
    "ordersADaily.columns = ['date', 'ordersPerDateA', 'revenuePerDateA']\n",
    "\n",
    "ordersACummulative = ordersADaily.apply(\n",
    "    lambda x: \\\n",
    "        ordersADaily[ordersADaily['date'] <= x['date']]\\\n",
    "            .agg({\n",
    "                'date' : 'max',\n",
    "                'ordersPerDateA' : 'sum',\n",
    "                'revenuePerDateA' : 'sum'}), axis=1).sort_values(by=['date'])\n",
    "ordersACummulative.columns = ['date', 'ordersCummulativeA', 'revenueCummulativeA']\n",
    "\n",
    "ordersBDaily = orders[orders['group']=='B'][['date', 'orderId', 'userId', 'revenue']]\\\n",
    "    .groupby('date', as_index=False)\\\n",
    "    .agg({'orderId' : pd.Series.nunique, 'revenue' : 'sum'})\n",
    "ordersBDaily.columns = ['date', 'ordersPerDateB', 'revenuePerDateB']\n",
    "\n",
    "ordersBCummulative = ordersBDaily.apply(\n",
    "    lambda x: \\\n",
    "        ordersBDaily[ordersBDaily['date'] <= x['date']]\\\n",
    "            .agg({\n",
    "                'date' : 'max',\n",
    "                'ordersPerDateB' : 'sum',\n",
    "                'revenuePerDateB' : 'sum'}), axis=1).sort_values(by=['date'])\n",
    "ordersBCummulative.columns = ['date', 'ordersCummulativeB', 'revenueCummulativeB']"
   ]
  },
  {
   "cell_type": "code",
   "execution_count": null,
   "metadata": {},
   "outputs": [],
   "source": [
    "data = ordersADaily.merge(ordersBDaily, left_on='date', right_on='date', how='left')\\\n",
    "    .merge(ordersACummulative, left_on='date', right_on='date', how='left')\\\n",
    "    .merge(ordersBCummulative, left_on='date', right_on='date', how='left')\\\n",
    "    .merge(visitorsADaily, left_on='date', right_on='date', how='left')\\\n",
    "    .merge(visitorsBDaily, left_on='date', right_on='date', how='left')\\\n",
    "    .merge(visitorsACummulative, left_on='date', right_on='date', how='left')\\\n",
    "    .merge(visitorsBCummulative, left_on='date', right_on='date', how='left')\n",
    "data.sample(3)"
   ]
  },
  {
   "cell_type": "code",
   "execution_count": null,
   "metadata": {},
   "outputs": [],
   "source": [
    "ordersByUsersA = (\n",
    "    orders[orders['group'] == 'A']\n",
    "    .groupby('userId', as_index=False)\n",
    "    .agg({'orderId': pd.Series.nunique})\n",
    ")\n",
    "ordersByUsersA.columns = ['userId', 'orders']\n",
    "\n",
    "\n",
    "ordersByUsersB = (\n",
    "    orders[orders['group'] == 'B']\n",
    "    .groupby('userId', as_index=False)\n",
    "    .agg({'orderId': pd.Series.nunique})\n",
    ")\n",
    "ordersByUsersB.columns = ['userId', 'orders'] \n",
    "ordersByUsersB.head()\n",
    "\n",
    "sampleA = pd.concat(\n",
    "    [\n",
    "        ordersByUsersA['orders'],\n",
    "        pd.Series(\n",
    "            0,\n",
    "            index=np.arange(\n",
    "                data['visitorsPerDateA'].sum() - len(ordersByUsersA['orders'])\n",
    "            ),\n",
    "            name='orders',\n",
    "        ),\n",
    "    ],\n",
    "    axis=0,\n",
    ")\n",
    "sampleA.count()\n",
    "\n",
    "sampleB = pd.concat(\n",
    "    [\n",
    "        ordersByUsersB['orders'],\n",
    "        pd.Series(\n",
    "            0,\n",
    "            index=np.arange(\n",
    "                data['visitorsPerDateB'].sum() - len(ordersByUsersB['orders'])\n",
    "            ),\n",
    "            name='orders',\n",
    "        ),\n",
    "    ],\n",
    "    axis=0,\n",
    ")\n",
    "sampleB.count()\n",
    "\n",
    "\n",
    "\n",
    "display('p-value = {0:.3f}'.format(stats.mannwhitneyu(sampleA, sampleB, alternative = 'two-sided')[1]))\n",
    "display(\"alpha =\",0.05)\n",
    "display('Относительный прирост конверсии группы B = {0:.3f}'.format(sampleB.mean()/sampleA.mean()-1)) "
   ]
  },
  {
   "cell_type": "markdown",
   "metadata": {},
   "source": [
    " p-value 0.017 < 0.05. То есть, нулевую гипотезу, что статистически значимых различий в конверсии между группами нет, отвергаем. По «сырым» данным различия в конверсии групп A и B есть. Относительное преимущество группы \"B\" над \"A\" равен 13.8% ."
   ]
  },
  {
   "cell_type": "markdown",
   "metadata": {},
   "source": [
    "### Статистическая значимость различий в среднем чеке заказа между группами по «сырым» данным."
   ]
  },
  {
   "cell_type": "code",
   "execution_count": null,
   "metadata": {},
   "outputs": [],
   "source": [
    "display('alpha =',0.05)\n",
    "display('p-value = {0:.3f}'.format(stats.mannwhitneyu(orders[orders['group']=='A']['revenue'], orders[orders['group']=='B']['revenue'], alternative = 'two-sided')[1]))\n",
    "display('Относительный прирост среднего чека группы B к среднему чеку группы А до очистки данных: = {0:.3f}'.format(orders[orders['group']=='B']['revenue'].mean()/orders[orders['group']=='A']['revenue'].mean()-1)) "
   ]
  },
  {
   "cell_type": "markdown",
   "metadata": {},
   "source": [
    "P-value больше 0.05, это говорит нам о том, что статистически значимых различий в среднем чеке заказа между группами по «сырым» данным нет, а различие между чеками 25.9% в пользу группы B."
   ]
  },
  {
   "cell_type": "markdown",
   "metadata": {},
   "source": [
    "### Cтатистическая значимость различий в конверсии между группами по «очищенным» данным."
   ]
  },
  {
   "cell_type": "markdown",
   "metadata": {},
   "source": [
    "В предыдущих пунктах мы приняли за аномальных пользователей тех, кто совершил 3 и больше заказов или совершил заказ дороже 58233.2 рублей. Сделаем срезы пользователей с числом заказов больше 2  и пользователей, совершивших заказы дороже 58233.2. Объединим их в одной таблице. Узнаем, сколько всего отличающихся пользователей методом shape()."
   ]
  },
  {
   "cell_type": "code",
   "execution_count": null,
   "metadata": {},
   "outputs": [],
   "source": [
    "usersWithManyOrders = pd.concat([ordersByUsersA[ordersByUsersA['orders'] > 2]['userId'], ordersByUsersB[ordersByUsersB['orders'] > 2]['userId']], axis = 0)\n",
    "usersWithExpensiveOrders = orders[orders['revenue'] > 58233.2]['userId']\n",
    "abnormalUsers = pd.concat([usersWithManyOrders, usersWithExpensiveOrders], axis = 0).drop_duplicates().sort_values()\n",
    "display(abnormalUsers.head(5)) "
   ]
  },
  {
   "cell_type": "code",
   "execution_count": null,
   "metadata": {},
   "outputs": [],
   "source": [
    "display('Всего отличающихся пользователей',len(abnormalUsers))"
   ]
  },
  {
   "cell_type": "code",
   "execution_count": null,
   "metadata": {},
   "outputs": [],
   "source": [
    "sampleAFiltered = pd.concat(\n",
    "    [\n",
    "        ordersByUsersA[\n",
    "            np.logical_not(ordersByUsersA['userId'].isin(abnormalUsers))\n",
    "        ]['orders'],\n",
    "        pd.Series(\n",
    "            0,\n",
    "            index=np.arange(\n",
    "                data['visitorsPerDateA'].sum() - len(ordersByUsersA['orders'])\n",
    "            ),\n",
    "            name='orders',\n",
    "        ),\n",
    "    ],\n",
    "    axis=0,\n",
    ")\n",
    "\n",
    "sampleBFiltered = pd.concat(\n",
    "    [\n",
    "        ordersByUsersB[\n",
    "            np.logical_not(ordersByUsersB['userId'].isin(abnormalUsers))\n",
    "        ]['orders'],\n",
    "        pd.Series(\n",
    "            0,\n",
    "            index=np.arange(\n",
    "                data['visitorsPerDateB'].sum() - len(ordersByUsersB['orders'])\n",
    "            ),\n",
    "            name='orders',\n",
    "        ),\n",
    "    ],\n",
    "    axis=0,\n",
    ") "
   ]
  },
  {
   "cell_type": "markdown",
   "metadata": {},
   "source": [
    "За нулевую гипотезу возьмём что: \"статистически значимых различий в конверсии между группами нет\".  \n",
    "Альтернативная гипотеза: статистически значимые различия есть."
   ]
  },
  {
   "cell_type": "code",
   "execution_count": null,
   "metadata": {},
   "outputs": [],
   "source": [
    "display('alpha =',0.05)\n",
    "display('p-value = {0:.3f}'.format(stats.mannwhitneyu(sampleAFiltered, sampleBFiltered, alternative = 'two-sided')[1]))\n",
    "display('Относительный прирост среднего чека группы B к среднему чеку группы А после очистки данных: = {0:.3f}'.format(sampleBFiltered.mean()/sampleAFiltered.mean()-1)) "
   ]
  },
  {
   "cell_type": "markdown",
   "metadata": {},
   "source": [
    "p-value 0.01 < 0.05. Нулевую гипотезу о том, что статистически значимых различий в конверсии между группами нет, отвергаем. Это значит, что и по «очищенным» данным различия в конверсии групп A и B есть. Относительный выигрыш группы \"B\" над \"A\" равен 17,4% (выше, чем с «сырыми» данными - 13.8%)"
   ]
  },
  {
   "cell_type": "markdown",
   "metadata": {},
   "source": [
    "###  Статистическая значимость различий в среднем чеке заказа между группами по «очищенным» данным."
   ]
  },
  {
   "cell_type": "markdown",
   "metadata": {},
   "source": [
    "За нулевую гипотезу возьмём что: \"статистически значимых различий в средних чеках между группами нет\".  \n",
    "Альтернативная гипотеза: статистически значимые различия есть."
   ]
  },
  {
   "cell_type": "code",
   "execution_count": null,
   "metadata": {},
   "outputs": [],
   "source": [
    "display(\"alpha =\",0.05)\n",
    "display(\"p-value = {0:.3f}\".format(stats.mannwhitneyu(\n",
    "    orders[np.logical_and(\n",
    "        orders['group']=='A',\n",
    "        np.logical_not(orders['userId'].isin(abnormalUsers)))]['revenue'],\n",
    "    orders[np.logical_and(\n",
    "        orders['group']=='B',\n",
    "        np.logical_not(orders['userId'].isin(abnormalUsers)))]['revenue'], alternative = 'two-sided')[1]))\n",
    "\n",
    "display(\"Относительный показатель 'B' и 'A' = {0:.3f}\".format(\n",
    "    orders[np.logical_and(orders['group']=='B',np.logical_not(orders['userId'].isin(abnormalUsers)))]['revenue'].mean()/\n",
    "    orders[np.logical_and(\n",
    "        orders['group']=='A',\n",
    "        np.logical_not(orders['userId'].isin(abnormalUsers)))]['revenue'].mean() - 1)) "
   ]
  },
  {
   "cell_type": "markdown",
   "metadata": {},
   "source": [
    "P-value значительно больше 0.05. Значит, причин отвергать нулевую гипотезу и считать, что в среднем чеке есть различия,тоже нет, как и с \"сырыми\" данными. Однако средний чек группы B оказался незначительно (на 2%) ниже среднего чека группы A, в то время как по \"сырым\" данным, он был больше аж на ~26%, - и всё это из-за одного аномального заказа 425 на 1,3 млн."
   ]
  },
  {
   "cell_type": "markdown",
   "metadata": {},
   "source": [
    "#  Решение по результатам теста."
   ]
  },
  {
   "cell_type": "markdown",
   "metadata": {},
   "source": [
    "По результатам тестирования было выявлено, что по \"сырым\" и по \"очищенным\" данным различия в конверсиях групп A и B есть. Относительный выигрыш группы \"B\" над \"A\" равен 17,4% по \"очищенным\" и 13.8% по \"сырым\" данным.\n",
    "\n",
    "Оказалось, что и по \"сырым\" и по \"очищенным\" данным различия в средних чеках групп A и B отстутствуют, несмотря на то, что средний чек группы B оказался незначительно (на 2%) ниже среднего чека группы A по \"очищенным\" данным, в то время как по \"сырым\" данным, он был больше где-то на 26%, всё это из-за одного аномального заказа 425 на 1,3 млн. Аномальный заказ убрали из выборки и чеки сравнялись.\n",
    "\n",
    "Здесь можно принять решение остановить тестирование и констатировать преимущество группы B, так как группа B значительно  эффективнее группы A по конверсии, хотя по среднему чеку группы примерно равны. "
   ]
  }
 ],
 "metadata": {
  "ExecuteTimeLog": [
   {
    "duration": 326,
    "start_time": "2022-03-08T17:31:31.248Z"
   },
   {
    "duration": 770,
    "start_time": "2022-03-08T17:31:35.399Z"
   },
   {
    "duration": 20,
    "start_time": "2022-03-08T17:31:37.709Z"
   },
   {
    "duration": 22,
    "start_time": "2022-03-08T17:31:38.651Z"
   },
   {
    "duration": 12,
    "start_time": "2022-03-08T17:55:42.790Z"
   },
   {
    "duration": 99,
    "start_time": "2022-03-08T17:56:01.708Z"
   },
   {
    "duration": 674,
    "start_time": "2022-03-08T18:00:44.280Z"
   },
   {
    "duration": 20,
    "start_time": "2022-03-08T18:00:44.957Z"
   },
   {
    "duration": 24,
    "start_time": "2022-03-08T18:00:44.981Z"
   },
   {
    "duration": 109,
    "start_time": "2022-03-08T18:00:45.008Z"
   },
   {
    "duration": 1868,
    "start_time": "2022-03-08T18:00:43.253Z"
   },
   {
    "duration": 93,
    "start_time": "2022-03-08T18:03:48.536Z"
   },
   {
    "duration": 108,
    "start_time": "2022-03-08T18:04:00.155Z"
   },
   {
    "duration": 20,
    "start_time": "2022-03-08T18:06:15.509Z"
   },
   {
    "duration": 16,
    "start_time": "2022-03-08T18:06:36.580Z"
   },
   {
    "duration": 1858,
    "start_time": "2022-03-08T18:53:28.513Z"
   },
   {
    "duration": 352,
    "start_time": "2022-03-08T18:53:32.138Z"
   },
   {
    "duration": 706,
    "start_time": "2022-03-08T18:53:55.152Z"
   },
   {
    "duration": 90,
    "start_time": "2022-03-08T18:53:55.860Z"
   },
   {
    "duration": 22,
    "start_time": "2022-03-08T18:53:55.953Z"
   },
   {
    "duration": 16,
    "start_time": "2022-03-08T18:53:55.977Z"
   },
   {
    "duration": 15,
    "start_time": "2022-03-08T18:53:55.996Z"
   },
   {
    "duration": 13,
    "start_time": "2022-03-08T18:53:56.033Z"
   },
   {
    "duration": 19,
    "start_time": "2022-03-08T18:54:14.646Z"
   },
   {
    "duration": 120,
    "start_time": "2022-03-08T19:20:01.104Z"
   },
   {
    "duration": 1403,
    "start_time": "2022-03-08T19:20:11.849Z"
   },
   {
    "duration": 69,
    "start_time": "2022-03-08T19:20:13.255Z"
   },
   {
    "duration": 16,
    "start_time": "2022-03-08T19:20:13.327Z"
   },
   {
    "duration": 16,
    "start_time": "2022-03-08T19:20:13.345Z"
   },
   {
    "duration": 15,
    "start_time": "2022-03-08T19:20:13.363Z"
   },
   {
    "duration": 321,
    "start_time": "2022-03-08T19:20:13.381Z"
   },
   {
    "duration": 2003,
    "start_time": "2022-03-08T19:20:11.701Z"
   },
   {
    "duration": 2022,
    "start_time": "2022-03-08T19:20:22.689Z"
   },
   {
    "duration": 113,
    "start_time": "2022-03-08T19:20:26.329Z"
   },
   {
    "duration": 1491,
    "start_time": "2022-03-08T19:21:49.781Z"
   },
   {
    "duration": 14,
    "start_time": "2022-03-08T19:22:24.703Z"
   },
   {
    "duration": 1365,
    "start_time": "2022-03-08T19:27:21.991Z"
   },
   {
    "duration": 9,
    "start_time": "2022-03-08T19:27:50.033Z"
   },
   {
    "duration": 8,
    "start_time": "2022-03-08T19:33:38.416Z"
   },
   {
    "duration": 12,
    "start_time": "2022-03-08T19:36:00.354Z"
   },
   {
    "duration": 2277,
    "start_time": "2022-03-08T19:36:19.211Z"
   },
   {
    "duration": 2824,
    "start_time": "2022-03-08T19:36:22.428Z"
   },
   {
    "duration": 1402,
    "start_time": "2022-03-08T19:36:46.098Z"
   },
   {
    "duration": 68,
    "start_time": "2022-03-08T19:36:47.503Z"
   },
   {
    "duration": 18,
    "start_time": "2022-03-08T19:36:47.574Z"
   },
   {
    "duration": 10,
    "start_time": "2022-03-08T19:36:47.596Z"
   },
   {
    "duration": 10,
    "start_time": "2022-03-08T19:36:47.609Z"
   },
   {
    "duration": 18,
    "start_time": "2022-03-08T19:36:47.622Z"
   },
   {
    "duration": 18,
    "start_time": "2022-03-08T19:36:47.643Z"
   },
   {
    "duration": 1633,
    "start_time": "2022-03-08T19:36:47.664Z"
   },
   {
    "duration": 1942,
    "start_time": "2022-03-08T19:36:47.359Z"
   },
   {
    "duration": 8,
    "start_time": "2022-03-08T20:02:43.926Z"
   },
   {
    "duration": 10,
    "start_time": "2022-03-08T20:03:02.204Z"
   },
   {
    "duration": 1459,
    "start_time": "2022-03-08T20:10:36.294Z"
   },
   {
    "duration": 20,
    "start_time": "2022-03-08T20:10:37.755Z"
   },
   {
    "duration": 16,
    "start_time": "2022-03-08T20:10:37.779Z"
   },
   {
    "duration": 39,
    "start_time": "2022-03-08T20:10:37.798Z"
   },
   {
    "duration": 17,
    "start_time": "2022-03-08T20:10:37.840Z"
   },
   {
    "duration": 58,
    "start_time": "2022-03-08T20:10:37.860Z"
   },
   {
    "duration": 10,
    "start_time": "2022-03-08T20:10:37.921Z"
   },
   {
    "duration": 12,
    "start_time": "2022-03-08T20:10:37.934Z"
   },
   {
    "duration": 644,
    "start_time": "2022-03-08T20:17:14.974Z"
   },
   {
    "duration": 52,
    "start_time": "2022-03-08T20:17:44.576Z"
   },
   {
    "duration": 38,
    "start_time": "2022-03-08T20:25:15.104Z"
   },
   {
    "duration": 1240,
    "start_time": "2022-03-09T18:19:25.603Z"
   },
   {
    "duration": 14,
    "start_time": "2022-03-09T18:19:26.846Z"
   },
   {
    "duration": 24,
    "start_time": "2022-03-09T18:19:26.863Z"
   },
   {
    "duration": 19,
    "start_time": "2022-03-09T18:19:26.892Z"
   },
   {
    "duration": 15,
    "start_time": "2022-03-09T18:19:26.914Z"
   },
   {
    "duration": 32,
    "start_time": "2022-03-09T18:19:26.931Z"
   },
   {
    "duration": 22,
    "start_time": "2022-03-09T18:19:26.966Z"
   },
   {
    "duration": 8,
    "start_time": "2022-03-09T18:19:26.992Z"
   },
   {
    "duration": 13,
    "start_time": "2022-03-09T18:19:27.003Z"
   },
   {
    "duration": 11,
    "start_time": "2022-03-09T18:22:39.431Z"
   },
   {
    "duration": 9,
    "start_time": "2022-03-09T18:27:00.851Z"
   },
   {
    "duration": 12,
    "start_time": "2022-03-09T18:40:10.916Z"
   },
   {
    "duration": 4,
    "start_time": "2022-03-09T18:46:25.043Z"
   },
   {
    "duration": 6056,
    "start_time": "2022-03-09T18:46:25.139Z"
   },
   {
    "duration": -132,
    "start_time": "2022-03-09T18:46:53.128Z"
   },
   {
    "duration": 1296,
    "start_time": "2022-03-09T18:47:01.842Z"
   },
   {
    "duration": 20,
    "start_time": "2022-03-09T18:47:03.142Z"
   },
   {
    "duration": 22,
    "start_time": "2022-03-09T18:47:03.166Z"
   },
   {
    "duration": 17,
    "start_time": "2022-03-09T18:47:03.192Z"
   },
   {
    "duration": 17,
    "start_time": "2022-03-09T18:47:03.213Z"
   },
   {
    "duration": 51,
    "start_time": "2022-03-09T18:47:03.232Z"
   },
   {
    "duration": 8,
    "start_time": "2022-03-09T18:47:03.285Z"
   },
   {
    "duration": 9,
    "start_time": "2022-03-09T18:47:03.297Z"
   },
   {
    "duration": 15,
    "start_time": "2022-03-09T18:47:03.308Z"
   },
   {
    "duration": 8,
    "start_time": "2022-03-09T18:47:03.326Z"
   },
   {
    "duration": 10,
    "start_time": "2022-03-09T18:47:03.336Z"
   },
   {
    "duration": 43,
    "start_time": "2022-03-09T18:47:03.348Z"
   },
   {
    "duration": 19,
    "start_time": "2022-03-09T18:47:03.394Z"
   },
   {
    "duration": 9,
    "start_time": "2022-03-09T18:47:03.415Z"
   },
   {
    "duration": 11,
    "start_time": "2022-03-09T18:47:03.426Z"
   },
   {
    "duration": 44,
    "start_time": "2022-03-09T18:47:03.440Z"
   },
   {
    "duration": 8,
    "start_time": "2022-03-09T18:47:53.007Z"
   },
   {
    "duration": 9,
    "start_time": "2022-03-09T18:48:32.146Z"
   },
   {
    "duration": 6,
    "start_time": "2022-03-09T18:48:58.833Z"
   },
   {
    "duration": 11,
    "start_time": "2022-03-09T18:49:50.898Z"
   },
   {
    "duration": 6,
    "start_time": "2022-03-09T18:49:56.324Z"
   },
   {
    "duration": 6,
    "start_time": "2022-03-09T18:49:56.401Z"
   },
   {
    "duration": 9,
    "start_time": "2022-03-09T18:59:47.198Z"
   },
   {
    "duration": 10,
    "start_time": "2022-03-09T18:59:47.293Z"
   },
   {
    "duration": 9,
    "start_time": "2022-03-09T19:06:26.721Z"
   },
   {
    "duration": 390,
    "start_time": "2022-03-09T19:14:01.178Z"
   },
   {
    "duration": 200,
    "start_time": "2022-03-09T19:14:03.217Z"
   },
   {
    "duration": 8,
    "start_time": "2022-03-09T19:14:44.156Z"
   },
   {
    "duration": 263,
    "start_time": "2022-03-09T19:14:45.265Z"
   },
   {
    "duration": 8,
    "start_time": "2022-03-09T19:14:47.423Z"
   },
   {
    "duration": 276,
    "start_time": "2022-03-09T19:14:48.452Z"
   },
   {
    "duration": 570,
    "start_time": "2022-03-09T19:18:11.495Z"
   },
   {
    "duration": 314,
    "start_time": "2022-03-09T19:18:53.495Z"
   },
   {
    "duration": 307,
    "start_time": "2022-03-09T19:18:55.234Z"
   },
   {
    "duration": 318,
    "start_time": "2022-03-09T19:18:55.982Z"
   },
   {
    "duration": 453,
    "start_time": "2022-03-09T19:22:11.437Z"
   },
   {
    "duration": 432,
    "start_time": "2022-03-09T19:44:09.574Z"
   },
   {
    "duration": 405,
    "start_time": "2022-03-09T19:48:06.886Z"
   },
   {
    "duration": 572,
    "start_time": "2022-03-09T19:49:05.936Z"
   },
   {
    "duration": 361,
    "start_time": "2022-03-09T19:51:59.867Z"
   },
   {
    "duration": 332,
    "start_time": "2022-03-09T19:52:56.331Z"
   },
   {
    "duration": 439,
    "start_time": "2022-03-09T20:00:43.925Z"
   },
   {
    "duration": 237,
    "start_time": "2022-03-09T20:07:52.620Z"
   },
   {
    "duration": 386,
    "start_time": "2022-03-09T20:08:19.482Z"
   },
   {
    "duration": 7,
    "start_time": "2022-03-09T20:16:28.816Z"
   },
   {
    "duration": -88,
    "start_time": "2022-03-09T20:18:53.156Z"
   },
   {
    "duration": 6,
    "start_time": "2022-03-09T20:19:17.995Z"
   },
   {
    "duration": 452,
    "start_time": "2022-03-09T20:25:36.770Z"
   },
   {
    "duration": 6,
    "start_time": "2022-03-09T20:38:27.518Z"
   },
   {
    "duration": 6,
    "start_time": "2022-03-09T20:38:44.320Z"
   },
   {
    "duration": 7,
    "start_time": "2022-03-09T20:38:45.864Z"
   },
   {
    "duration": 7,
    "start_time": "2022-03-09T20:39:01.946Z"
   },
   {
    "duration": 379,
    "start_time": "2022-03-10T19:32:53.462Z"
   },
   {
    "duration": 133,
    "start_time": "2022-03-10T19:33:18.129Z"
   },
   {
    "duration": 104,
    "start_time": "2022-03-10T19:33:18.159Z"
   },
   {
    "duration": 93,
    "start_time": "2022-03-10T19:33:18.171Z"
   },
   {
    "duration": 88,
    "start_time": "2022-03-10T19:33:18.178Z"
   },
   {
    "duration": 80,
    "start_time": "2022-03-10T19:33:18.188Z"
   },
   {
    "duration": 73,
    "start_time": "2022-03-10T19:33:18.197Z"
   },
   {
    "duration": 64,
    "start_time": "2022-03-10T19:33:18.208Z"
   },
   {
    "duration": 56,
    "start_time": "2022-03-10T19:33:18.217Z"
   },
   {
    "duration": 45,
    "start_time": "2022-03-10T19:33:18.230Z"
   },
   {
    "duration": 38,
    "start_time": "2022-03-10T19:33:18.238Z"
   },
   {
    "duration": 31,
    "start_time": "2022-03-10T19:33:18.247Z"
   },
   {
    "duration": 8,
    "start_time": "2022-03-10T19:33:18.271Z"
   },
   {
    "duration": 1,
    "start_time": "2022-03-10T19:33:18.280Z"
   },
   {
    "duration": -7,
    "start_time": "2022-03-10T19:33:18.289Z"
   },
   {
    "duration": -14,
    "start_time": "2022-03-10T19:33:18.298Z"
   },
   {
    "duration": -20,
    "start_time": "2022-03-10T19:33:18.305Z"
   },
   {
    "duration": -28,
    "start_time": "2022-03-10T19:33:18.314Z"
   },
   {
    "duration": -34,
    "start_time": "2022-03-10T19:33:18.322Z"
   },
   {
    "duration": -41,
    "start_time": "2022-03-10T19:33:18.330Z"
   },
   {
    "duration": -46,
    "start_time": "2022-03-10T19:33:18.338Z"
   },
   {
    "duration": -55,
    "start_time": "2022-03-10T19:33:18.348Z"
   },
   {
    "duration": -60,
    "start_time": "2022-03-10T19:33:18.355Z"
   },
   {
    "duration": -68,
    "start_time": "2022-03-10T19:33:18.365Z"
   },
   {
    "duration": -92,
    "start_time": "2022-03-10T19:33:18.390Z"
   },
   {
    "duration": -100,
    "start_time": "2022-03-10T19:33:18.400Z"
   },
   {
    "duration": -110,
    "start_time": "2022-03-10T19:33:18.411Z"
   },
   {
    "duration": -119,
    "start_time": "2022-03-10T19:33:18.422Z"
   },
   {
    "duration": -126,
    "start_time": "2022-03-10T19:33:18.430Z"
   },
   {
    "duration": -133,
    "start_time": "2022-03-10T19:33:18.438Z"
   },
   {
    "duration": -139,
    "start_time": "2022-03-10T19:33:18.446Z"
   },
   {
    "duration": 317,
    "start_time": "2022-03-10T19:33:19.721Z"
   },
   {
    "duration": 1420,
    "start_time": "2022-03-10T19:35:39.032Z"
   },
   {
    "duration": 20,
    "start_time": "2022-03-10T19:35:40.455Z"
   },
   {
    "duration": 33,
    "start_time": "2022-03-10T19:35:40.478Z"
   },
   {
    "duration": 24,
    "start_time": "2022-03-10T19:35:40.514Z"
   },
   {
    "duration": 17,
    "start_time": "2022-03-10T19:35:40.540Z"
   },
   {
    "duration": 47,
    "start_time": "2022-03-10T19:35:40.559Z"
   },
   {
    "duration": 18,
    "start_time": "2022-03-10T19:35:40.608Z"
   },
   {
    "duration": 20,
    "start_time": "2022-03-10T19:35:40.630Z"
   },
   {
    "duration": 31,
    "start_time": "2022-03-10T19:35:40.653Z"
   },
   {
    "duration": 15,
    "start_time": "2022-03-10T19:35:40.687Z"
   },
   {
    "duration": 23,
    "start_time": "2022-03-10T19:35:40.704Z"
   },
   {
    "duration": 46,
    "start_time": "2022-03-10T19:35:40.729Z"
   },
   {
    "duration": 27,
    "start_time": "2022-03-10T19:35:40.777Z"
   },
   {
    "duration": 18,
    "start_time": "2022-03-10T19:35:40.806Z"
   },
   {
    "duration": 12,
    "start_time": "2022-03-10T19:35:40.827Z"
   },
   {
    "duration": 6,
    "start_time": "2022-03-10T19:35:40.841Z"
   },
   {
    "duration": 27,
    "start_time": "2022-03-10T19:35:40.850Z"
   },
   {
    "duration": 9,
    "start_time": "2022-03-10T19:35:40.880Z"
   },
   {
    "duration": 610,
    "start_time": "2022-03-10T19:35:40.891Z"
   },
   {
    "duration": 519,
    "start_time": "2022-03-10T19:35:41.504Z"
   },
   {
    "duration": 453,
    "start_time": "2022-03-10T19:35:42.025Z"
   },
   {
    "duration": 542,
    "start_time": "2022-03-10T19:35:42.480Z"
   },
   {
    "duration": 355,
    "start_time": "2022-03-10T19:35:43.026Z"
   },
   {
    "duration": 435,
    "start_time": "2022-03-10T19:35:43.383Z"
   },
   {
    "duration": 218,
    "start_time": "2022-03-10T19:35:43.820Z"
   },
   {
    "duration": 421,
    "start_time": "2022-03-10T19:35:44.040Z"
   },
   {
    "duration": 14,
    "start_time": "2022-03-10T19:35:44.463Z"
   },
   {
    "duration": 414,
    "start_time": "2022-03-10T19:35:44.479Z"
   },
   {
    "duration": 8,
    "start_time": "2022-03-10T19:35:44.896Z"
   },
   {
    "duration": 486,
    "start_time": "2022-03-10T19:35:44.907Z"
   },
   {
    "duration": 14,
    "start_time": "2022-03-10T19:37:00.646Z"
   },
   {
    "duration": 18,
    "start_time": "2022-03-10T19:46:25.246Z"
   },
   {
    "duration": 577,
    "start_time": "2022-03-10T19:50:44.608Z"
   },
   {
    "duration": 20,
    "start_time": "2022-03-10T19:50:50.875Z"
   },
   {
    "duration": 20,
    "start_time": "2022-03-10T19:50:51.029Z"
   },
   {
    "duration": 584,
    "start_time": "2022-03-10T19:50:52.154Z"
   },
   {
    "duration": 329,
    "start_time": "2022-03-10T19:50:54.380Z"
   },
   {
    "duration": 413,
    "start_time": "2022-03-10T19:51:32.823Z"
   },
   {
    "duration": 315,
    "start_time": "2022-03-10T19:51:52.435Z"
   },
   {
    "duration": 19,
    "start_time": "2022-03-10T19:54:45.826Z"
   },
   {
    "duration": 5,
    "start_time": "2022-03-10T19:54:47.691Z"
   },
   {
    "duration": 583,
    "start_time": "2022-03-10T20:23:18.773Z"
   },
   {
    "duration": 297,
    "start_time": "2022-03-10T20:23:24.784Z"
   },
   {
    "duration": 7993,
    "start_time": "2022-03-10T20:25:50.342Z"
   },
   {
    "duration": 8136,
    "start_time": "2022-03-10T20:26:39.023Z"
   },
   {
    "duration": 339,
    "start_time": "2022-03-10T20:28:46.357Z"
   },
   {
    "duration": 331,
    "start_time": "2022-03-10T20:31:41.515Z"
   },
   {
    "duration": 135,
    "start_time": "2022-03-10T20:32:45.762Z"
   },
   {
    "duration": 441,
    "start_time": "2022-03-10T20:32:47.218Z"
   },
   {
    "duration": 1470,
    "start_time": "2022-03-10T20:32:56.096Z"
   },
   {
    "duration": 13,
    "start_time": "2022-03-10T20:32:57.569Z"
   },
   {
    "duration": 18,
    "start_time": "2022-03-10T20:32:57.586Z"
   },
   {
    "duration": 18,
    "start_time": "2022-03-10T20:32:57.608Z"
   },
   {
    "duration": 15,
    "start_time": "2022-03-10T20:32:57.628Z"
   },
   {
    "duration": 31,
    "start_time": "2022-03-10T20:32:57.674Z"
   },
   {
    "duration": 9,
    "start_time": "2022-03-10T20:32:57.707Z"
   },
   {
    "duration": 8,
    "start_time": "2022-03-10T20:32:57.720Z"
   },
   {
    "duration": 12,
    "start_time": "2022-03-10T20:32:57.731Z"
   },
   {
    "duration": 31,
    "start_time": "2022-03-10T20:32:57.745Z"
   },
   {
    "duration": 15,
    "start_time": "2022-03-10T20:32:57.779Z"
   },
   {
    "duration": 13,
    "start_time": "2022-03-10T20:32:57.797Z"
   },
   {
    "duration": 22,
    "start_time": "2022-03-10T20:32:57.813Z"
   },
   {
    "duration": 36,
    "start_time": "2022-03-10T20:32:57.838Z"
   },
   {
    "duration": 11,
    "start_time": "2022-03-10T20:32:57.877Z"
   },
   {
    "duration": 10,
    "start_time": "2022-03-10T20:32:57.891Z"
   },
   {
    "duration": 9,
    "start_time": "2022-03-10T20:32:57.903Z"
   },
   {
    "duration": 10,
    "start_time": "2022-03-10T20:32:57.914Z"
   },
   {
    "duration": 612,
    "start_time": "2022-03-10T20:32:57.928Z"
   },
   {
    "duration": 480,
    "start_time": "2022-03-10T20:32:58.542Z"
   },
   {
    "duration": 632,
    "start_time": "2022-03-10T20:32:59.026Z"
   },
   {
    "duration": 635,
    "start_time": "2022-03-10T20:32:59.661Z"
   },
   {
    "duration": 362,
    "start_time": "2022-03-10T20:33:00.302Z"
   },
   {
    "duration": 435,
    "start_time": "2022-03-10T20:33:00.675Z"
   },
   {
    "duration": 208,
    "start_time": "2022-03-10T20:33:01.112Z"
   },
   {
    "duration": 562,
    "start_time": "2022-03-10T20:33:01.322Z"
   },
   {
    "duration": 9,
    "start_time": "2022-03-10T20:33:01.888Z"
   },
   {
    "duration": 635,
    "start_time": "2022-03-10T20:33:01.900Z"
   },
   {
    "duration": 8,
    "start_time": "2022-03-10T20:33:02.539Z"
   },
   {
    "duration": 48,
    "start_time": "2022-03-10T20:33:02.550Z"
   },
   {
    "duration": 23,
    "start_time": "2022-03-10T20:33:02.600Z"
   },
   {
    "duration": 4,
    "start_time": "2022-03-10T20:33:02.626Z"
   },
   {
    "duration": 158,
    "start_time": "2022-03-10T20:33:02.633Z"
   },
   {
    "duration": 442,
    "start_time": "2022-03-10T20:33:02.793Z"
   },
   {
    "duration": 350,
    "start_time": "2022-03-10T20:33:02.888Z"
   },
   {
    "duration": 338,
    "start_time": "2022-03-10T20:33:02.901Z"
   },
   {
    "duration": 104,
    "start_time": "2022-03-10T20:33:34.424Z"
   },
   {
    "duration": 144,
    "start_time": "2022-03-10T20:33:36.272Z"
   },
   {
    "duration": 1399,
    "start_time": "2022-03-10T20:33:42.410Z"
   },
   {
    "duration": 13,
    "start_time": "2022-03-10T20:33:43.812Z"
   },
   {
    "duration": 19,
    "start_time": "2022-03-10T20:33:43.828Z"
   },
   {
    "duration": 33,
    "start_time": "2022-03-10T20:33:43.850Z"
   },
   {
    "duration": 16,
    "start_time": "2022-03-10T20:33:43.885Z"
   },
   {
    "duration": 31,
    "start_time": "2022-03-10T20:33:43.903Z"
   },
   {
    "duration": 10,
    "start_time": "2022-03-10T20:33:43.936Z"
   },
   {
    "duration": 23,
    "start_time": "2022-03-10T20:33:43.950Z"
   },
   {
    "duration": 11,
    "start_time": "2022-03-10T20:33:43.977Z"
   },
   {
    "duration": 8,
    "start_time": "2022-03-10T20:33:43.991Z"
   },
   {
    "duration": 9,
    "start_time": "2022-03-10T20:33:44.001Z"
   },
   {
    "duration": 12,
    "start_time": "2022-03-10T20:33:44.013Z"
   },
   {
    "duration": 62,
    "start_time": "2022-03-10T20:33:44.027Z"
   },
   {
    "duration": 6,
    "start_time": "2022-03-10T20:33:44.092Z"
   },
   {
    "duration": 10,
    "start_time": "2022-03-10T20:33:44.101Z"
   },
   {
    "duration": 5,
    "start_time": "2022-03-10T20:33:44.114Z"
   },
   {
    "duration": 8,
    "start_time": "2022-03-10T20:33:44.122Z"
   },
   {
    "duration": 45,
    "start_time": "2022-03-10T20:33:44.133Z"
   },
   {
    "duration": 936,
    "start_time": "2022-03-10T20:33:44.180Z"
   },
   {
    "duration": 687,
    "start_time": "2022-03-10T20:33:45.119Z"
   },
   {
    "duration": 710,
    "start_time": "2022-03-10T20:33:45.809Z"
   },
   {
    "duration": 586,
    "start_time": "2022-03-10T20:33:46.523Z"
   },
   {
    "duration": 359,
    "start_time": "2022-03-10T20:33:47.114Z"
   },
   {
    "duration": 439,
    "start_time": "2022-03-10T20:33:47.476Z"
   },
   {
    "duration": 196,
    "start_time": "2022-03-10T20:33:47.917Z"
   },
   {
    "duration": 400,
    "start_time": "2022-03-10T20:33:48.116Z"
   },
   {
    "duration": 7,
    "start_time": "2022-03-10T20:33:48.518Z"
   },
   {
    "duration": 466,
    "start_time": "2022-03-10T20:33:48.527Z"
   },
   {
    "duration": 9,
    "start_time": "2022-03-10T20:33:48.996Z"
   },
   {
    "duration": 23,
    "start_time": "2022-03-10T20:33:49.008Z"
   },
   {
    "duration": 57,
    "start_time": "2022-03-10T20:33:49.034Z"
   },
   {
    "duration": 5,
    "start_time": "2022-03-10T20:33:49.094Z"
   },
   {
    "duration": 122,
    "start_time": "2022-03-10T20:33:49.103Z"
   },
   {
    "duration": 156,
    "start_time": "2022-03-10T20:33:49.228Z"
   },
   {
    "duration": 9,
    "start_time": "2022-03-10T20:33:49.386Z"
   },
   {
    "duration": 8,
    "start_time": "2022-03-10T20:33:49.398Z"
   },
   {
    "duration": 11,
    "start_time": "2022-03-10T20:33:49.409Z"
   },
   {
    "duration": 109,
    "start_time": "2022-03-10T20:33:58.710Z"
   },
   {
    "duration": 125,
    "start_time": "2022-03-10T20:34:00.306Z"
   },
   {
    "duration": 10,
    "start_time": "2022-03-10T20:34:01.804Z"
   },
   {
    "duration": 6,
    "start_time": "2022-03-10T20:34:04.529Z"
   },
   {
    "duration": 12,
    "start_time": "2022-03-10T20:34:07.716Z"
   },
   {
    "duration": 443,
    "start_time": "2022-03-10T20:34:51.978Z"
   },
   {
    "duration": 2003,
    "start_time": "2022-03-10T20:36:53.274Z"
   },
   {
    "duration": 17,
    "start_time": "2022-03-10T20:36:55.281Z"
   },
   {
    "duration": 35,
    "start_time": "2022-03-10T20:36:55.302Z"
   },
   {
    "duration": 36,
    "start_time": "2022-03-10T20:36:55.341Z"
   },
   {
    "duration": 23,
    "start_time": "2022-03-10T20:36:55.380Z"
   },
   {
    "duration": 43,
    "start_time": "2022-03-10T20:36:55.407Z"
   },
   {
    "duration": 12,
    "start_time": "2022-03-10T20:36:55.453Z"
   },
   {
    "duration": 15,
    "start_time": "2022-03-10T20:36:55.476Z"
   },
   {
    "duration": 24,
    "start_time": "2022-03-10T20:36:55.494Z"
   },
   {
    "duration": 29,
    "start_time": "2022-03-10T20:36:55.520Z"
   },
   {
    "duration": 17,
    "start_time": "2022-03-10T20:36:55.551Z"
   },
   {
    "duration": 39,
    "start_time": "2022-03-10T20:36:55.570Z"
   },
   {
    "duration": 47,
    "start_time": "2022-03-10T20:36:55.611Z"
   },
   {
    "duration": 19,
    "start_time": "2022-03-10T20:36:55.661Z"
   },
   {
    "duration": 31,
    "start_time": "2022-03-10T20:36:55.682Z"
   },
   {
    "duration": 16,
    "start_time": "2022-03-10T20:36:55.716Z"
   },
   {
    "duration": 35,
    "start_time": "2022-03-10T20:36:55.735Z"
   },
   {
    "duration": 27,
    "start_time": "2022-03-10T20:36:55.773Z"
   },
   {
    "duration": 601,
    "start_time": "2022-03-10T20:36:55.803Z"
   },
   {
    "duration": 476,
    "start_time": "2022-03-10T20:36:56.407Z"
   },
   {
    "duration": 463,
    "start_time": "2022-03-10T20:36:56.886Z"
   },
   {
    "duration": 567,
    "start_time": "2022-03-10T20:36:57.352Z"
   },
   {
    "duration": 356,
    "start_time": "2022-03-10T20:36:57.924Z"
   },
   {
    "duration": 434,
    "start_time": "2022-03-10T20:36:58.283Z"
   },
   {
    "duration": 241,
    "start_time": "2022-03-10T20:36:58.720Z"
   },
   {
    "duration": 412,
    "start_time": "2022-03-10T20:36:58.973Z"
   },
   {
    "duration": 7,
    "start_time": "2022-03-10T20:36:59.388Z"
   },
   {
    "duration": 518,
    "start_time": "2022-03-10T20:36:59.398Z"
   },
   {
    "duration": 8,
    "start_time": "2022-03-10T20:36:59.919Z"
   },
   {
    "duration": 28,
    "start_time": "2022-03-10T20:36:59.930Z"
   },
   {
    "duration": 22,
    "start_time": "2022-03-10T20:36:59.974Z"
   },
   {
    "duration": 22,
    "start_time": "2022-03-10T20:36:59.999Z"
   },
   {
    "duration": 120,
    "start_time": "2022-03-10T20:37:00.024Z"
   },
   {
    "duration": 148,
    "start_time": "2022-03-10T20:37:00.147Z"
   },
   {
    "duration": 10,
    "start_time": "2022-03-10T20:37:00.298Z"
   },
   {
    "duration": 25,
    "start_time": "2022-03-10T20:37:00.310Z"
   },
   {
    "duration": 20,
    "start_time": "2022-03-10T20:37:00.338Z"
   },
   {
    "duration": 621,
    "start_time": "2022-03-10T20:37:00.361Z"
   },
   {
    "duration": 388,
    "start_time": "2022-03-10T20:40:40.446Z"
   },
   {
    "duration": 320,
    "start_time": "2022-03-10T20:41:03.519Z"
   },
   {
    "duration": 109,
    "start_time": "2022-03-10T20:44:16.291Z"
   },
   {
    "duration": 118,
    "start_time": "2022-03-10T20:44:35.706Z"
   },
   {
    "duration": 120,
    "start_time": "2022-03-10T20:44:44.670Z"
   },
   {
    "duration": 105,
    "start_time": "2022-03-10T20:44:46.355Z"
   },
   {
    "duration": 110,
    "start_time": "2022-03-10T20:45:19.999Z"
   },
   {
    "duration": 99,
    "start_time": "2022-03-10T20:45:22.660Z"
   },
   {
    "duration": 302,
    "start_time": "2022-03-12T09:21:01.297Z"
   },
   {
    "duration": 1059,
    "start_time": "2022-03-12T09:21:19.784Z"
   },
   {
    "duration": 12,
    "start_time": "2022-03-12T09:21:20.845Z"
   },
   {
    "duration": 12,
    "start_time": "2022-03-12T09:21:20.859Z"
   },
   {
    "duration": 15,
    "start_time": "2022-03-12T09:21:20.873Z"
   },
   {
    "duration": 13,
    "start_time": "2022-03-12T09:21:20.889Z"
   },
   {
    "duration": 35,
    "start_time": "2022-03-12T09:21:20.904Z"
   },
   {
    "duration": 7,
    "start_time": "2022-03-12T09:21:20.940Z"
   },
   {
    "duration": 16,
    "start_time": "2022-03-12T09:21:20.949Z"
   },
   {
    "duration": 11,
    "start_time": "2022-03-12T09:21:20.967Z"
   },
   {
    "duration": 6,
    "start_time": "2022-03-12T09:21:20.979Z"
   },
   {
    "duration": 9,
    "start_time": "2022-03-12T09:21:20.986Z"
   },
   {
    "duration": 9,
    "start_time": "2022-03-12T09:21:20.996Z"
   },
   {
    "duration": 12,
    "start_time": "2022-03-12T09:21:21.007Z"
   },
   {
    "duration": 8,
    "start_time": "2022-03-12T09:21:21.021Z"
   },
   {
    "duration": 28,
    "start_time": "2022-03-12T09:21:21.031Z"
   },
   {
    "duration": 6,
    "start_time": "2022-03-12T09:21:21.061Z"
   },
   {
    "duration": 4,
    "start_time": "2022-03-12T09:21:21.069Z"
   },
   {
    "duration": 9,
    "start_time": "2022-03-12T09:21:21.074Z"
   },
   {
    "duration": 5,
    "start_time": "2022-03-12T09:21:21.084Z"
   },
   {
    "duration": 380,
    "start_time": "2022-03-12T09:21:21.091Z"
   },
   {
    "duration": 326,
    "start_time": "2022-03-12T09:21:21.473Z"
   },
   {
    "duration": 305,
    "start_time": "2022-03-12T09:21:21.801Z"
   },
   {
    "duration": 390,
    "start_time": "2022-03-12T09:21:22.110Z"
   },
   {
    "duration": 246,
    "start_time": "2022-03-12T09:21:22.502Z"
   },
   {
    "duration": 359,
    "start_time": "2022-03-12T09:21:22.750Z"
   },
   {
    "duration": 110,
    "start_time": "2022-03-12T09:21:23.111Z"
   },
   {
    "duration": 296,
    "start_time": "2022-03-12T09:21:23.222Z"
   },
   {
    "duration": 5,
    "start_time": "2022-03-12T09:21:23.519Z"
   },
   {
    "duration": 343,
    "start_time": "2022-03-12T09:21:23.525Z"
   },
   {
    "duration": 4,
    "start_time": "2022-03-12T09:21:23.870Z"
   },
   {
    "duration": 26,
    "start_time": "2022-03-12T09:21:23.876Z"
   },
   {
    "duration": 42,
    "start_time": "2022-03-12T09:21:23.904Z"
   },
   {
    "duration": 26,
    "start_time": "2022-03-12T09:21:23.948Z"
   },
   {
    "duration": 64,
    "start_time": "2022-03-12T09:21:23.975Z"
   },
   {
    "duration": 67,
    "start_time": "2022-03-12T09:21:24.041Z"
   },
   {
    "duration": 22,
    "start_time": "2022-03-12T09:21:24.110Z"
   },
   {
    "duration": 21,
    "start_time": "2022-03-12T09:21:24.133Z"
   },
   {
    "duration": 15,
    "start_time": "2022-03-12T09:21:24.155Z"
   },
   {
    "duration": 103,
    "start_time": "2022-03-12T09:21:24.172Z"
   },
   {
    "duration": 7,
    "start_time": "2022-03-12T09:27:29.517Z"
   },
   {
    "duration": 8,
    "start_time": "2022-03-12T09:27:50.174Z"
   },
   {
    "duration": 95,
    "start_time": "2022-03-12T09:28:02.576Z"
   },
   {
    "duration": 6,
    "start_time": "2022-03-12T09:28:19.639Z"
   },
   {
    "duration": 8,
    "start_time": "2022-03-12T09:36:28.040Z"
   },
   {
    "duration": 8,
    "start_time": "2022-03-12T09:40:25.937Z"
   },
   {
    "duration": 5,
    "start_time": "2022-03-12T09:43:54.932Z"
   },
   {
    "duration": 1105,
    "start_time": "2022-03-12T09:45:21.653Z"
   },
   {
    "duration": 1105,
    "start_time": "2022-03-12T09:45:29.649Z"
   },
   {
    "duration": 13,
    "start_time": "2022-03-12T09:45:30.760Z"
   },
   {
    "duration": 44,
    "start_time": "2022-03-12T09:45:30.775Z"
   },
   {
    "duration": 44,
    "start_time": "2022-03-12T09:45:30.821Z"
   },
   {
    "duration": 27,
    "start_time": "2022-03-12T09:45:30.867Z"
   },
   {
    "duration": 47,
    "start_time": "2022-03-12T09:45:30.896Z"
   },
   {
    "duration": 15,
    "start_time": "2022-03-12T09:45:30.944Z"
   },
   {
    "duration": 18,
    "start_time": "2022-03-12T09:45:30.962Z"
   },
   {
    "duration": 35,
    "start_time": "2022-03-12T09:45:30.982Z"
   },
   {
    "duration": 24,
    "start_time": "2022-03-12T09:45:31.018Z"
   },
   {
    "duration": 23,
    "start_time": "2022-03-12T09:45:31.044Z"
   },
   {
    "duration": 30,
    "start_time": "2022-03-12T09:45:31.068Z"
   },
   {
    "duration": 26,
    "start_time": "2022-03-12T09:45:31.099Z"
   },
   {
    "duration": 92,
    "start_time": "2022-03-12T09:45:31.127Z"
   },
   {
    "duration": 175,
    "start_time": "2022-03-12T09:45:31.046Z"
   },
   {
    "duration": 172,
    "start_time": "2022-03-12T09:45:31.050Z"
   },
   {
    "duration": 167,
    "start_time": "2022-03-12T09:45:31.056Z"
   },
   {
    "duration": 164,
    "start_time": "2022-03-12T09:45:31.060Z"
   },
   {
    "duration": 162,
    "start_time": "2022-03-12T09:45:31.063Z"
   },
   {
    "duration": 158,
    "start_time": "2022-03-12T09:45:31.068Z"
   },
   {
    "duration": 156,
    "start_time": "2022-03-12T09:45:31.071Z"
   },
   {
    "duration": 154,
    "start_time": "2022-03-12T09:45:31.074Z"
   },
   {
    "duration": 151,
    "start_time": "2022-03-12T09:45:31.078Z"
   },
   {
    "duration": 149,
    "start_time": "2022-03-12T09:45:31.081Z"
   },
   {
    "duration": 148,
    "start_time": "2022-03-12T09:45:31.084Z"
   },
   {
    "duration": 146,
    "start_time": "2022-03-12T09:45:31.087Z"
   },
   {
    "duration": 144,
    "start_time": "2022-03-12T09:45:31.090Z"
   },
   {
    "duration": 141,
    "start_time": "2022-03-12T09:45:31.094Z"
   },
   {
    "duration": 140,
    "start_time": "2022-03-12T09:45:31.096Z"
   },
   {
    "duration": 137,
    "start_time": "2022-03-12T09:45:31.100Z"
   },
   {
    "duration": 134,
    "start_time": "2022-03-12T09:45:31.104Z"
   },
   {
    "duration": 132,
    "start_time": "2022-03-12T09:45:31.107Z"
   },
   {
    "duration": 130,
    "start_time": "2022-03-12T09:45:31.110Z"
   },
   {
    "duration": 127,
    "start_time": "2022-03-12T09:45:31.114Z"
   },
   {
    "duration": 125,
    "start_time": "2022-03-12T09:45:31.117Z"
   },
   {
    "duration": 123,
    "start_time": "2022-03-12T09:45:31.120Z"
   },
   {
    "duration": 121,
    "start_time": "2022-03-12T09:45:31.123Z"
   },
   {
    "duration": 118,
    "start_time": "2022-03-12T09:45:31.127Z"
   },
   {
    "duration": 93,
    "start_time": "2022-03-12T09:45:31.153Z"
   },
   {
    "duration": 88,
    "start_time": "2022-03-12T09:45:31.159Z"
   },
   {
    "duration": 85,
    "start_time": "2022-03-12T09:45:31.163Z"
   },
   {
    "duration": 1032,
    "start_time": "2022-03-12T09:46:02.120Z"
   },
   {
    "duration": 11,
    "start_time": "2022-03-12T09:46:03.154Z"
   },
   {
    "duration": 13,
    "start_time": "2022-03-12T09:46:03.166Z"
   },
   {
    "duration": 12,
    "start_time": "2022-03-12T09:46:03.181Z"
   },
   {
    "duration": 10,
    "start_time": "2022-03-12T09:46:03.194Z"
   },
   {
    "duration": 30,
    "start_time": "2022-03-12T09:46:03.205Z"
   },
   {
    "duration": 6,
    "start_time": "2022-03-12T09:46:03.236Z"
   },
   {
    "duration": 15,
    "start_time": "2022-03-12T09:46:03.244Z"
   },
   {
    "duration": 4,
    "start_time": "2022-03-12T09:46:03.261Z"
   },
   {
    "duration": 8,
    "start_time": "2022-03-12T09:46:03.266Z"
   },
   {
    "duration": 8,
    "start_time": "2022-03-12T09:46:03.275Z"
   },
   {
    "duration": 5,
    "start_time": "2022-03-12T09:46:03.284Z"
   },
   {
    "duration": 5,
    "start_time": "2022-03-12T09:46:03.291Z"
   },
   {
    "duration": 5,
    "start_time": "2022-03-12T09:46:03.298Z"
   },
   {
    "duration": 7,
    "start_time": "2022-03-12T09:46:03.305Z"
   },
   {
    "duration": 52,
    "start_time": "2022-03-12T09:46:03.313Z"
   },
   {
    "duration": 5,
    "start_time": "2022-03-12T09:46:03.366Z"
   },
   {
    "duration": 10,
    "start_time": "2022-03-12T09:46:03.372Z"
   },
   {
    "duration": 5,
    "start_time": "2022-03-12T09:46:03.384Z"
   },
   {
    "duration": 6,
    "start_time": "2022-03-12T09:46:03.391Z"
   },
   {
    "duration": 394,
    "start_time": "2022-03-12T09:46:03.399Z"
   },
   {
    "duration": 308,
    "start_time": "2022-03-12T09:46:03.795Z"
   },
   {
    "duration": 306,
    "start_time": "2022-03-12T09:46:04.106Z"
   },
   {
    "duration": 419,
    "start_time": "2022-03-12T09:46:04.414Z"
   },
   {
    "duration": 248,
    "start_time": "2022-03-12T09:46:04.835Z"
   },
   {
    "duration": 322,
    "start_time": "2022-03-12T09:46:05.085Z"
   },
   {
    "duration": 128,
    "start_time": "2022-03-12T09:46:05.409Z"
   },
   {
    "duration": 350,
    "start_time": "2022-03-12T09:46:05.538Z"
   },
   {
    "duration": 5,
    "start_time": "2022-03-12T09:46:05.889Z"
   },
   {
    "duration": 314,
    "start_time": "2022-03-12T09:46:05.896Z"
   },
   {
    "duration": 5,
    "start_time": "2022-03-12T09:46:06.212Z"
   },
   {
    "duration": 15,
    "start_time": "2022-03-12T09:46:06.219Z"
   },
   {
    "duration": 35,
    "start_time": "2022-03-12T09:46:06.237Z"
   },
   {
    "duration": 4,
    "start_time": "2022-03-12T09:46:06.274Z"
   },
   {
    "duration": 87,
    "start_time": "2022-03-12T09:46:06.280Z"
   },
   {
    "duration": 65,
    "start_time": "2022-03-12T09:46:06.368Z"
   },
   {
    "duration": 24,
    "start_time": "2022-03-12T09:46:06.435Z"
   },
   {
    "duration": 5,
    "start_time": "2022-03-12T09:46:06.461Z"
   },
   {
    "duration": 8,
    "start_time": "2022-03-12T09:46:06.468Z"
   },
   {
    "duration": 76,
    "start_time": "2022-03-12T09:46:06.477Z"
   },
   {
    "duration": 388,
    "start_time": "2022-03-12T09:52:55.608Z"
   },
   {
    "duration": 223,
    "start_time": "2022-03-12T09:53:13.894Z"
   },
   {
    "duration": 206,
    "start_time": "2022-03-12T09:53:17.446Z"
   },
   {
    "duration": 215,
    "start_time": "2022-03-12T09:53:26.960Z"
   },
   {
    "duration": 249,
    "start_time": "2022-03-12T09:53:56.800Z"
   },
   {
    "duration": 223,
    "start_time": "2022-03-12T09:56:58.080Z"
   },
   {
    "duration": 249,
    "start_time": "2022-03-12T09:57:06.272Z"
   },
   {
    "duration": 11,
    "start_time": "2022-03-12T09:57:35.841Z"
   },
   {
    "duration": 11,
    "start_time": "2022-03-12T09:58:03.979Z"
   },
   {
    "duration": 11,
    "start_time": "2022-03-12T09:58:41.183Z"
   },
   {
    "duration": 10,
    "start_time": "2022-03-12T10:00:11.930Z"
   },
   {
    "duration": 338,
    "start_time": "2022-03-12T10:12:52.696Z"
   },
   {
    "duration": 296,
    "start_time": "2022-03-12T10:14:04.643Z"
   },
   {
    "duration": 290,
    "start_time": "2022-03-12T10:15:03.838Z"
   },
   {
    "duration": 293,
    "start_time": "2022-03-12T10:15:27.737Z"
   },
   {
    "duration": 10,
    "start_time": "2022-03-12T10:19:49.414Z"
   },
   {
    "duration": 16,
    "start_time": "2022-03-12T10:21:13.320Z"
   },
   {
    "duration": 15,
    "start_time": "2022-03-12T10:21:57.435Z"
   },
   {
    "duration": 421,
    "start_time": "2022-03-12T10:26:39.124Z"
   },
   {
    "duration": 288,
    "start_time": "2022-03-12T10:27:02.830Z"
   },
   {
    "duration": 401,
    "start_time": "2022-03-12T10:33:25.740Z"
   },
   {
    "duration": 311,
    "start_time": "2022-03-12T10:37:20.653Z"
   },
   {
    "duration": 276,
    "start_time": "2022-03-12T10:37:54.358Z"
   },
   {
    "duration": 386,
    "start_time": "2022-03-12T10:44:47.976Z"
   },
   {
    "duration": 458,
    "start_time": "2022-03-12T10:47:09.436Z"
   },
   {
    "duration": 366,
    "start_time": "2022-03-12T10:49:45.233Z"
   },
   {
    "duration": 362,
    "start_time": "2022-03-12T10:50:19.375Z"
   },
   {
    "duration": 354,
    "start_time": "2022-03-12T11:00:36.314Z"
   },
   {
    "duration": 356,
    "start_time": "2022-03-12T11:01:21.318Z"
   },
   {
    "duration": 471,
    "start_time": "2022-03-12T11:04:49.589Z"
   },
   {
    "duration": 358,
    "start_time": "2022-03-12T11:05:04.418Z"
   },
   {
    "duration": 11,
    "start_time": "2022-03-12T11:25:27.709Z"
   },
   {
    "duration": 250,
    "start_time": "2022-03-12T11:26:59.568Z"
   },
   {
    "duration": 368,
    "start_time": "2022-03-12T11:27:13.289Z"
   },
   {
    "duration": 365,
    "start_time": "2022-03-12T11:27:13.293Z"
   },
   {
    "duration": 359,
    "start_time": "2022-03-12T11:27:13.300Z"
   },
   {
    "duration": 354,
    "start_time": "2022-03-12T11:27:13.306Z"
   },
   {
    "duration": 351,
    "start_time": "2022-03-12T11:27:13.310Z"
   },
   {
    "duration": 347,
    "start_time": "2022-03-12T11:27:13.315Z"
   },
   {
    "duration": 343,
    "start_time": "2022-03-12T11:27:13.320Z"
   },
   {
    "duration": 331,
    "start_time": "2022-03-12T11:27:13.333Z"
   },
   {
    "duration": 327,
    "start_time": "2022-03-12T11:27:13.338Z"
   },
   {
    "duration": 324,
    "start_time": "2022-03-12T11:27:13.342Z"
   },
   {
    "duration": 320,
    "start_time": "2022-03-12T11:27:13.347Z"
   },
   {
    "duration": 318,
    "start_time": "2022-03-12T11:27:13.350Z"
   },
   {
    "duration": 314,
    "start_time": "2022-03-12T11:27:13.356Z"
   },
   {
    "duration": 312,
    "start_time": "2022-03-12T11:27:13.359Z"
   },
   {
    "duration": 309,
    "start_time": "2022-03-12T11:27:13.363Z"
   },
   {
    "duration": 307,
    "start_time": "2022-03-12T11:27:13.366Z"
   },
   {
    "duration": 304,
    "start_time": "2022-03-12T11:27:13.370Z"
   },
   {
    "duration": 302,
    "start_time": "2022-03-12T11:27:13.373Z"
   },
   {
    "duration": 299,
    "start_time": "2022-03-12T11:27:13.377Z"
   },
   {
    "duration": 298,
    "start_time": "2022-03-12T11:27:13.379Z"
   },
   {
    "duration": 295,
    "start_time": "2022-03-12T11:27:13.383Z"
   },
   {
    "duration": 292,
    "start_time": "2022-03-12T11:27:13.387Z"
   },
   {
    "duration": 288,
    "start_time": "2022-03-12T11:27:13.392Z"
   },
   {
    "duration": 286,
    "start_time": "2022-03-12T11:27:13.395Z"
   },
   {
    "duration": 284,
    "start_time": "2022-03-12T11:27:13.398Z"
   },
   {
    "duration": 282,
    "start_time": "2022-03-12T11:27:13.402Z"
   },
   {
    "duration": 280,
    "start_time": "2022-03-12T11:27:13.405Z"
   },
   {
    "duration": 278,
    "start_time": "2022-03-12T11:27:13.408Z"
   },
   {
    "duration": 275,
    "start_time": "2022-03-12T11:27:13.412Z"
   },
   {
    "duration": 272,
    "start_time": "2022-03-12T11:27:13.416Z"
   },
   {
    "duration": 270,
    "start_time": "2022-03-12T11:27:13.420Z"
   },
   {
    "duration": 271,
    "start_time": "2022-03-12T11:27:13.424Z"
   },
   {
    "duration": 269,
    "start_time": "2022-03-12T11:27:13.427Z"
   },
   {
    "duration": 253,
    "start_time": "2022-03-12T11:27:13.444Z"
   },
   {
    "duration": 310,
    "start_time": "2022-03-12T11:27:13.449Z"
   },
   {
    "duration": 306,
    "start_time": "2022-03-12T11:27:13.454Z"
   },
   {
    "duration": 303,
    "start_time": "2022-03-12T11:27:13.458Z"
   },
   {
    "duration": 301,
    "start_time": "2022-03-12T11:27:13.461Z"
   },
   {
    "duration": 299,
    "start_time": "2022-03-12T11:27:13.464Z"
   },
   {
    "duration": 297,
    "start_time": "2022-03-12T11:27:13.467Z"
   },
   {
    "duration": 294,
    "start_time": "2022-03-12T11:27:13.471Z"
   },
   {
    "duration": 293,
    "start_time": "2022-03-12T11:27:13.474Z"
   },
   {
    "duration": 289,
    "start_time": "2022-03-12T11:27:13.478Z"
   },
   {
    "duration": 288,
    "start_time": "2022-03-12T11:27:13.481Z"
   },
   {
    "duration": 1120,
    "start_time": "2022-03-12T11:27:36.957Z"
   },
   {
    "duration": 11,
    "start_time": "2022-03-12T11:27:38.078Z"
   },
   {
    "duration": 301,
    "start_time": "2022-03-12T11:27:38.091Z"
   },
   {
    "duration": 370,
    "start_time": "2022-03-12T11:27:38.025Z"
   },
   {
    "duration": 361,
    "start_time": "2022-03-12T11:27:38.035Z"
   },
   {
    "duration": 353,
    "start_time": "2022-03-12T11:27:38.044Z"
   },
   {
    "duration": 345,
    "start_time": "2022-03-12T11:27:38.054Z"
   },
   {
    "duration": 337,
    "start_time": "2022-03-12T11:27:38.063Z"
   },
   {
    "duration": 328,
    "start_time": "2022-03-12T11:27:38.073Z"
   },
   {
    "duration": 324,
    "start_time": "2022-03-12T11:27:38.078Z"
   },
   {
    "duration": 288,
    "start_time": "2022-03-12T11:27:38.115Z"
   },
   {
    "duration": 281,
    "start_time": "2022-03-12T11:27:38.123Z"
   },
   {
    "duration": 276,
    "start_time": "2022-03-12T11:27:38.129Z"
   },
   {
    "duration": 273,
    "start_time": "2022-03-12T11:27:38.134Z"
   },
   {
    "duration": 264,
    "start_time": "2022-03-12T11:27:38.144Z"
   },
   {
    "duration": 260,
    "start_time": "2022-03-12T11:27:38.149Z"
   },
   {
    "duration": 255,
    "start_time": "2022-03-12T11:27:38.155Z"
   },
   {
    "duration": 251,
    "start_time": "2022-03-12T11:27:38.160Z"
   },
   {
    "duration": 243,
    "start_time": "2022-03-12T11:27:38.169Z"
   },
   {
    "duration": 238,
    "start_time": "2022-03-12T11:27:38.175Z"
   },
   {
    "duration": 232,
    "start_time": "2022-03-12T11:27:38.182Z"
   },
   {
    "duration": 222,
    "start_time": "2022-03-12T11:27:38.193Z"
   },
   {
    "duration": 218,
    "start_time": "2022-03-12T11:27:38.198Z"
   },
   {
    "duration": 215,
    "start_time": "2022-03-12T11:27:38.202Z"
   },
   {
    "duration": 213,
    "start_time": "2022-03-12T11:27:38.205Z"
   },
   {
    "duration": 210,
    "start_time": "2022-03-12T11:27:38.209Z"
   },
   {
    "duration": 199,
    "start_time": "2022-03-12T11:27:38.221Z"
   },
   {
    "duration": 196,
    "start_time": "2022-03-12T11:27:38.225Z"
   },
   {
    "duration": 194,
    "start_time": "2022-03-12T11:27:38.228Z"
   },
   {
    "duration": 192,
    "start_time": "2022-03-12T11:27:38.231Z"
   },
   {
    "duration": 188,
    "start_time": "2022-03-12T11:27:38.236Z"
   },
   {
    "duration": 185,
    "start_time": "2022-03-12T11:27:38.240Z"
   },
   {
    "duration": 183,
    "start_time": "2022-03-12T11:27:38.243Z"
   },
   {
    "duration": 181,
    "start_time": "2022-03-12T11:27:38.246Z"
   },
   {
    "duration": 178,
    "start_time": "2022-03-12T11:27:38.250Z"
   },
   {
    "duration": 175,
    "start_time": "2022-03-12T11:27:38.254Z"
   },
   {
    "duration": 173,
    "start_time": "2022-03-12T11:27:38.257Z"
   },
   {
    "duration": 169,
    "start_time": "2022-03-12T11:27:38.262Z"
   },
   {
    "duration": 164,
    "start_time": "2022-03-12T11:27:38.268Z"
   },
   {
    "duration": 160,
    "start_time": "2022-03-12T11:27:38.273Z"
   },
   {
    "duration": 155,
    "start_time": "2022-03-12T11:27:38.279Z"
   },
   {
    "duration": 150,
    "start_time": "2022-03-12T11:27:38.284Z"
   },
   {
    "duration": 147,
    "start_time": "2022-03-12T11:27:38.288Z"
   },
   {
    "duration": 145,
    "start_time": "2022-03-12T11:27:38.291Z"
   },
   {
    "duration": 11,
    "start_time": "2022-03-12T11:28:01.455Z"
   },
   {
    "duration": 13,
    "start_time": "2022-03-12T11:28:06.233Z"
   },
   {
    "duration": 12,
    "start_time": "2022-03-12T11:28:10.021Z"
   },
   {
    "duration": 1058,
    "start_time": "2022-03-12T11:28:18.995Z"
   },
   {
    "duration": 15,
    "start_time": "2022-03-12T11:28:20.055Z"
   },
   {
    "duration": 12,
    "start_time": "2022-03-12T11:28:20.077Z"
   },
   {
    "duration": 13,
    "start_time": "2022-03-12T11:28:20.091Z"
   },
   {
    "duration": 12,
    "start_time": "2022-03-12T11:28:20.105Z"
   },
   {
    "duration": 31,
    "start_time": "2022-03-12T11:28:20.119Z"
   },
   {
    "duration": 13,
    "start_time": "2022-03-12T11:28:20.152Z"
   },
   {
    "duration": 11,
    "start_time": "2022-03-12T11:28:20.170Z"
   },
   {
    "duration": 5,
    "start_time": "2022-03-12T11:28:20.183Z"
   },
   {
    "duration": 12,
    "start_time": "2022-03-12T11:28:20.190Z"
   },
   {
    "duration": 8,
    "start_time": "2022-03-12T11:28:20.203Z"
   },
   {
    "duration": 7,
    "start_time": "2022-03-12T11:28:20.214Z"
   },
   {
    "duration": 41,
    "start_time": "2022-03-12T11:28:20.222Z"
   },
   {
    "duration": 7,
    "start_time": "2022-03-12T11:28:20.265Z"
   },
   {
    "duration": 11,
    "start_time": "2022-03-12T11:28:20.274Z"
   },
   {
    "duration": 15,
    "start_time": "2022-03-12T11:28:20.287Z"
   },
   {
    "duration": 6,
    "start_time": "2022-03-12T11:28:20.303Z"
   },
   {
    "duration": 10,
    "start_time": "2022-03-12T11:28:20.311Z"
   },
   {
    "duration": 37,
    "start_time": "2022-03-12T11:28:20.323Z"
   },
   {
    "duration": 7,
    "start_time": "2022-03-12T11:28:20.361Z"
   },
   {
    "duration": 359,
    "start_time": "2022-03-12T11:28:20.370Z"
   },
   {
    "duration": 336,
    "start_time": "2022-03-12T11:28:20.731Z"
   },
   {
    "duration": 16,
    "start_time": "2022-03-12T11:28:21.070Z"
   },
   {
    "duration": 17,
    "start_time": "2022-03-12T11:28:21.089Z"
   },
   {
    "duration": 333,
    "start_time": "2022-03-12T11:28:21.107Z"
   },
   {
    "duration": 435,
    "start_time": "2022-03-12T11:28:21.445Z"
   },
   {
    "duration": 309,
    "start_time": "2022-03-12T11:28:21.883Z"
   },
   {
    "duration": 438,
    "start_time": "2022-03-12T11:28:22.194Z"
   },
   {
    "duration": 118,
    "start_time": "2022-03-12T11:28:22.634Z"
   },
   {
    "duration": 414,
    "start_time": "2022-03-12T11:28:22.754Z"
   },
   {
    "duration": 7,
    "start_time": "2022-03-12T11:28:23.170Z"
   },
   {
    "duration": 401,
    "start_time": "2022-03-12T11:28:23.178Z"
   },
   {
    "duration": 400,
    "start_time": "2022-03-12T11:28:23.581Z"
   },
   {
    "duration": 5,
    "start_time": "2022-03-12T11:28:23.983Z"
   },
   {
    "duration": 271,
    "start_time": "2022-03-12T11:28:23.990Z"
   },
   {
    "duration": 15,
    "start_time": "2022-03-12T11:28:24.263Z"
   },
   {
    "duration": 14,
    "start_time": "2022-03-12T11:28:24.280Z"
   },
   {
    "duration": 3,
    "start_time": "2022-03-12T11:28:24.296Z"
   },
   {
    "duration": 97,
    "start_time": "2022-03-12T11:28:24.302Z"
   },
   {
    "duration": 86,
    "start_time": "2022-03-12T11:28:24.400Z"
   },
   {
    "duration": 7,
    "start_time": "2022-03-12T11:28:24.487Z"
   },
   {
    "duration": 7,
    "start_time": "2022-03-12T11:28:24.496Z"
   },
   {
    "duration": 9,
    "start_time": "2022-03-12T11:28:24.505Z"
   },
   {
    "duration": 74,
    "start_time": "2022-03-12T11:28:24.515Z"
   },
   {
    "duration": 31,
    "start_time": "2022-03-12T11:29:56.499Z"
   },
   {
    "duration": 327,
    "start_time": "2022-03-12T11:30:33.881Z"
   },
   {
    "duration": 406,
    "start_time": "2022-03-12T11:34:17.466Z"
   },
   {
    "duration": 378,
    "start_time": "2022-03-12T11:35:09.514Z"
   },
   {
    "duration": -45,
    "start_time": "2022-03-12T11:37:24.491Z"
   },
   {
    "duration": -61,
    "start_time": "2022-03-12T11:37:24.508Z"
   },
   {
    "duration": -87,
    "start_time": "2022-03-12T11:37:24.535Z"
   },
   {
    "duration": -93,
    "start_time": "2022-03-12T11:37:24.542Z"
   },
   {
    "duration": -99,
    "start_time": "2022-03-12T11:37:24.548Z"
   },
   {
    "duration": -103,
    "start_time": "2022-03-12T11:37:24.553Z"
   },
   {
    "duration": -109,
    "start_time": "2022-03-12T11:37:24.560Z"
   },
   {
    "duration": -113,
    "start_time": "2022-03-12T11:37:24.565Z"
   },
   {
    "duration": -118,
    "start_time": "2022-03-12T11:37:24.571Z"
   },
   {
    "duration": -123,
    "start_time": "2022-03-12T11:37:24.577Z"
   },
   {
    "duration": -129,
    "start_time": "2022-03-12T11:37:24.583Z"
   },
   {
    "duration": -135,
    "start_time": "2022-03-12T11:37:24.590Z"
   },
   {
    "duration": -140,
    "start_time": "2022-03-12T11:37:24.596Z"
   },
   {
    "duration": -144,
    "start_time": "2022-03-12T11:37:24.601Z"
   },
   {
    "duration": -149,
    "start_time": "2022-03-12T11:37:24.607Z"
   },
   {
    "duration": -153,
    "start_time": "2022-03-12T11:37:24.612Z"
   },
   {
    "duration": -159,
    "start_time": "2022-03-12T11:37:24.618Z"
   },
   {
    "duration": -164,
    "start_time": "2022-03-12T11:37:24.624Z"
   },
   {
    "duration": -169,
    "start_time": "2022-03-12T11:37:24.630Z"
   },
   {
    "duration": -188,
    "start_time": "2022-03-12T11:37:24.650Z"
   },
   {
    "duration": -194,
    "start_time": "2022-03-12T11:37:24.657Z"
   },
   {
    "duration": -199,
    "start_time": "2022-03-12T11:37:24.663Z"
   },
   {
    "duration": -204,
    "start_time": "2022-03-12T11:37:24.669Z"
   },
   {
    "duration": -209,
    "start_time": "2022-03-12T11:37:24.675Z"
   },
   {
    "duration": -214,
    "start_time": "2022-03-12T11:37:24.681Z"
   },
   {
    "duration": -218,
    "start_time": "2022-03-12T11:37:24.686Z"
   },
   {
    "duration": -225,
    "start_time": "2022-03-12T11:37:24.693Z"
   },
   {
    "duration": -230,
    "start_time": "2022-03-12T11:37:24.699Z"
   },
   {
    "duration": -236,
    "start_time": "2022-03-12T11:37:24.706Z"
   },
   {
    "duration": -240,
    "start_time": "2022-03-12T11:37:24.711Z"
   },
   {
    "duration": -246,
    "start_time": "2022-03-12T11:37:24.718Z"
   },
   {
    "duration": -250,
    "start_time": "2022-03-12T11:37:24.723Z"
   },
   {
    "duration": -256,
    "start_time": "2022-03-12T11:37:24.730Z"
   },
   {
    "duration": -260,
    "start_time": "2022-03-12T11:37:24.735Z"
   },
   {
    "duration": -265,
    "start_time": "2022-03-12T11:37:24.741Z"
   },
   {
    "duration": -270,
    "start_time": "2022-03-12T11:37:24.747Z"
   },
   {
    "duration": -291,
    "start_time": "2022-03-12T11:37:24.769Z"
   },
   {
    "duration": -298,
    "start_time": "2022-03-12T11:37:24.776Z"
   },
   {
    "duration": -303,
    "start_time": "2022-03-12T11:37:24.782Z"
   },
   {
    "duration": -309,
    "start_time": "2022-03-12T11:37:24.789Z"
   },
   {
    "duration": -314,
    "start_time": "2022-03-12T11:37:24.795Z"
   },
   {
    "duration": -319,
    "start_time": "2022-03-12T11:37:24.801Z"
   },
   {
    "duration": -325,
    "start_time": "2022-03-12T11:37:24.808Z"
   },
   {
    "duration": -329,
    "start_time": "2022-03-12T11:37:24.813Z"
   },
   {
    "duration": -334,
    "start_time": "2022-03-12T11:37:24.819Z"
   },
   {
    "duration": 124,
    "start_time": "2022-03-12T11:37:33.341Z"
   },
   {
    "duration": 467,
    "start_time": "2022-03-12T11:44:23.178Z"
   },
   {
    "duration": 452,
    "start_time": "2022-03-12T11:44:53.171Z"
   },
   {
    "duration": 132,
    "start_time": "2022-03-12T11:46:04.766Z"
   },
   {
    "duration": 95,
    "start_time": "2022-03-12T11:46:34.691Z"
   },
   {
    "duration": 123,
    "start_time": "2022-03-12T11:46:56.212Z"
   },
   {
    "duration": 160,
    "start_time": "2022-03-12T11:47:25.691Z"
   },
   {
    "duration": 156,
    "start_time": "2022-03-12T11:47:37.683Z"
   },
   {
    "duration": 11,
    "start_time": "2022-03-12T11:49:26.137Z"
   },
   {
    "duration": 134,
    "start_time": "2022-03-12T11:49:54.425Z"
   },
   {
    "duration": 12,
    "start_time": "2022-03-12T11:51:14.153Z"
   },
   {
    "duration": 109,
    "start_time": "2022-03-12T11:52:04.880Z"
   },
   {
    "duration": 71,
    "start_time": "2022-03-12T11:52:38.117Z"
   },
   {
    "duration": 12,
    "start_time": "2022-03-12T11:53:25.280Z"
   },
   {
    "duration": 1050,
    "start_time": "2022-03-12T11:55:41.612Z"
   },
   {
    "duration": 17,
    "start_time": "2022-03-12T11:55:42.664Z"
   },
   {
    "duration": 23,
    "start_time": "2022-03-12T11:55:42.684Z"
   },
   {
    "duration": 30,
    "start_time": "2022-03-12T11:55:42.709Z"
   },
   {
    "duration": 31,
    "start_time": "2022-03-12T11:55:42.741Z"
   },
   {
    "duration": 36,
    "start_time": "2022-03-12T11:55:42.775Z"
   },
   {
    "duration": 15,
    "start_time": "2022-03-12T11:55:42.813Z"
   },
   {
    "duration": 22,
    "start_time": "2022-03-12T11:55:42.830Z"
   },
   {
    "duration": 22,
    "start_time": "2022-03-12T11:55:42.854Z"
   },
   {
    "duration": 29,
    "start_time": "2022-03-12T11:55:42.878Z"
   },
   {
    "duration": 22,
    "start_time": "2022-03-12T11:55:42.909Z"
   },
   {
    "duration": 14,
    "start_time": "2022-03-12T11:55:42.932Z"
   },
   {
    "duration": 16,
    "start_time": "2022-03-12T11:55:42.947Z"
   },
   {
    "duration": 18,
    "start_time": "2022-03-12T11:55:42.964Z"
   },
   {
    "duration": 16,
    "start_time": "2022-03-12T11:55:42.984Z"
   },
   {
    "duration": 31,
    "start_time": "2022-03-12T11:55:43.001Z"
   },
   {
    "duration": 10,
    "start_time": "2022-03-12T11:55:43.034Z"
   },
   {
    "duration": 20,
    "start_time": "2022-03-12T11:55:43.046Z"
   },
   {
    "duration": 12,
    "start_time": "2022-03-12T11:55:43.068Z"
   },
   {
    "duration": 25,
    "start_time": "2022-03-12T11:55:43.081Z"
   },
   {
    "duration": 330,
    "start_time": "2022-03-12T11:55:43.107Z"
   },
   {
    "duration": 307,
    "start_time": "2022-03-12T11:55:43.438Z"
   },
   {
    "duration": 18,
    "start_time": "2022-03-12T11:55:43.746Z"
   },
   {
    "duration": 29,
    "start_time": "2022-03-12T11:55:43.765Z"
   },
   {
    "duration": 279,
    "start_time": "2022-03-12T11:55:43.795Z"
   },
   {
    "duration": 383,
    "start_time": "2022-03-12T11:55:44.076Z"
   },
   {
    "duration": 283,
    "start_time": "2022-03-12T11:55:44.462Z"
   },
   {
    "duration": 413,
    "start_time": "2022-03-12T11:55:44.748Z"
   },
   {
    "duration": 125,
    "start_time": "2022-03-12T11:55:45.163Z"
   },
   {
    "duration": 351,
    "start_time": "2022-03-12T11:55:45.290Z"
   },
   {
    "duration": 5,
    "start_time": "2022-03-12T11:55:45.643Z"
   },
   {
    "duration": 395,
    "start_time": "2022-03-12T11:55:45.649Z"
   },
   {
    "duration": 390,
    "start_time": "2022-03-12T11:55:46.046Z"
   },
   {
    "duration": 5,
    "start_time": "2022-03-12T11:55:46.437Z"
   },
   {
    "duration": 339,
    "start_time": "2022-03-12T11:55:46.444Z"
   },
   {
    "duration": 31,
    "start_time": "2022-03-12T11:55:46.784Z"
   },
   {
    "duration": 137,
    "start_time": "2022-03-12T11:55:46.816Z"
   },
   {
    "duration": 10,
    "start_time": "2022-03-12T11:55:46.959Z"
   },
   {
    "duration": 56,
    "start_time": "2022-03-12T11:55:46.971Z"
   },
   {
    "duration": 87,
    "start_time": "2022-03-12T11:55:47.029Z"
   },
   {
    "duration": 7,
    "start_time": "2022-03-12T11:55:47.118Z"
   },
   {
    "duration": 32,
    "start_time": "2022-03-12T11:55:47.127Z"
   },
   {
    "duration": 8,
    "start_time": "2022-03-12T11:55:47.161Z"
   },
   {
    "duration": 73,
    "start_time": "2022-03-12T11:55:47.171Z"
   },
   {
    "duration": 317,
    "start_time": "2022-03-12T11:59:50.648Z"
   },
   {
    "duration": 1071,
    "start_time": "2022-03-12T11:59:56.885Z"
   },
   {
    "duration": 11,
    "start_time": "2022-03-12T11:59:57.958Z"
   },
   {
    "duration": 21,
    "start_time": "2022-03-12T11:59:57.971Z"
   },
   {
    "duration": 14,
    "start_time": "2022-03-12T11:59:57.994Z"
   },
   {
    "duration": 11,
    "start_time": "2022-03-12T11:59:58.010Z"
   },
   {
    "duration": 28,
    "start_time": "2022-03-12T11:59:58.023Z"
   },
   {
    "duration": 6,
    "start_time": "2022-03-12T11:59:58.053Z"
   },
   {
    "duration": 9,
    "start_time": "2022-03-12T11:59:58.061Z"
   },
   {
    "duration": 23,
    "start_time": "2022-03-12T11:59:58.072Z"
   },
   {
    "duration": 9,
    "start_time": "2022-03-12T11:59:58.097Z"
   },
   {
    "duration": 9,
    "start_time": "2022-03-12T11:59:58.108Z"
   },
   {
    "duration": 7,
    "start_time": "2022-03-12T11:59:58.119Z"
   },
   {
    "duration": 7,
    "start_time": "2022-03-12T11:59:58.128Z"
   },
   {
    "duration": 27,
    "start_time": "2022-03-12T11:59:58.137Z"
   },
   {
    "duration": 10,
    "start_time": "2022-03-12T11:59:58.165Z"
   },
   {
    "duration": 15,
    "start_time": "2022-03-12T11:59:58.176Z"
   },
   {
    "duration": 5,
    "start_time": "2022-03-12T11:59:58.192Z"
   },
   {
    "duration": 9,
    "start_time": "2022-03-12T11:59:58.199Z"
   },
   {
    "duration": 6,
    "start_time": "2022-03-12T11:59:58.209Z"
   },
   {
    "duration": 5,
    "start_time": "2022-03-12T11:59:58.217Z"
   },
   {
    "duration": 406,
    "start_time": "2022-03-12T11:59:58.224Z"
   },
   {
    "duration": 302,
    "start_time": "2022-03-12T11:59:58.632Z"
   },
   {
    "duration": 9,
    "start_time": "2022-03-12T11:59:58.938Z"
   },
   {
    "duration": 26,
    "start_time": "2022-03-12T11:59:58.949Z"
   },
   {
    "duration": 290,
    "start_time": "2022-03-12T11:59:58.977Z"
   },
   {
    "duration": 396,
    "start_time": "2022-03-12T11:59:59.269Z"
   },
   {
    "duration": 287,
    "start_time": "2022-03-12T11:59:59.666Z"
   },
   {
    "duration": 416,
    "start_time": "2022-03-12T11:59:59.958Z"
   },
   {
    "duration": 129,
    "start_time": "2022-03-12T12:00:00.376Z"
   },
   {
    "duration": 347,
    "start_time": "2022-03-12T12:00:00.506Z"
   },
   {
    "duration": 5,
    "start_time": "2022-03-12T12:00:00.859Z"
   },
   {
    "duration": 422,
    "start_time": "2022-03-12T12:00:00.866Z"
   },
   {
    "duration": 373,
    "start_time": "2022-03-12T12:00:01.290Z"
   },
   {
    "duration": 4,
    "start_time": "2022-03-12T12:00:01.665Z"
   },
   {
    "duration": 340,
    "start_time": "2022-03-12T12:00:01.671Z"
   },
   {
    "duration": 31,
    "start_time": "2022-03-12T12:00:02.013Z"
   },
   {
    "duration": 145,
    "start_time": "2022-03-12T12:00:02.046Z"
   },
   {
    "duration": 10,
    "start_time": "2022-03-12T12:00:02.192Z"
   },
   {
    "duration": 6483,
    "start_time": "2022-03-12T12:00:02.204Z"
   },
   {
    "duration": 274,
    "start_time": "2022-03-12T12:00:20.463Z"
   },
   {
    "duration": 11,
    "start_time": "2022-03-12T12:00:43.048Z"
   },
   {
    "duration": 10,
    "start_time": "2022-03-12T12:01:32.102Z"
   },
   {
    "duration": 5,
    "start_time": "2022-03-12T12:01:33.736Z"
   },
   {
    "duration": 5,
    "start_time": "2022-03-12T12:02:02.051Z"
   },
   {
    "duration": 4,
    "start_time": "2022-03-12T12:02:19.144Z"
   },
   {
    "duration": 4,
    "start_time": "2022-03-12T12:02:25.902Z"
   },
   {
    "duration": 5,
    "start_time": "2022-03-12T12:02:27.210Z"
   },
   {
    "duration": 12,
    "start_time": "2022-03-12T12:02:29.727Z"
   },
   {
    "duration": 9,
    "start_time": "2022-03-12T12:08:56.113Z"
   },
   {
    "duration": 9,
    "start_time": "2022-03-12T12:08:58.894Z"
   },
   {
    "duration": 11,
    "start_time": "2022-03-12T12:09:15.462Z"
   },
   {
    "duration": 11,
    "start_time": "2022-03-12T12:09:30.172Z"
   },
   {
    "duration": 10,
    "start_time": "2022-03-12T12:09:36.865Z"
   },
   {
    "duration": 10,
    "start_time": "2022-03-12T12:10:34.588Z"
   },
   {
    "duration": 11,
    "start_time": "2022-03-12T12:11:44.392Z"
   },
   {
    "duration": 12,
    "start_time": "2022-03-12T12:11:44.460Z"
   },
   {
    "duration": 220,
    "start_time": "2022-03-12T12:19:09.917Z"
   },
   {
    "duration": 214,
    "start_time": "2022-03-12T12:19:21.590Z"
   },
   {
    "duration": 209,
    "start_time": "2022-03-12T12:19:31.954Z"
   },
   {
    "duration": 16,
    "start_time": "2022-03-12T12:19:37.667Z"
   },
   {
    "duration": 1053,
    "start_time": "2022-03-12T12:30:34.499Z"
   },
   {
    "duration": 12,
    "start_time": "2022-03-12T12:30:35.553Z"
   },
   {
    "duration": 12,
    "start_time": "2022-03-12T12:30:35.568Z"
   },
   {
    "duration": 12,
    "start_time": "2022-03-12T12:30:35.582Z"
   },
   {
    "duration": 13,
    "start_time": "2022-03-12T12:30:35.596Z"
   },
   {
    "duration": 28,
    "start_time": "2022-03-12T12:30:35.611Z"
   },
   {
    "duration": 19,
    "start_time": "2022-03-12T12:30:35.640Z"
   },
   {
    "duration": 9,
    "start_time": "2022-03-12T12:30:35.662Z"
   },
   {
    "duration": 7,
    "start_time": "2022-03-12T12:30:35.673Z"
   },
   {
    "duration": 14,
    "start_time": "2022-03-12T12:30:35.681Z"
   },
   {
    "duration": 10,
    "start_time": "2022-03-12T12:30:35.696Z"
   },
   {
    "duration": 20,
    "start_time": "2022-03-12T12:30:35.708Z"
   },
   {
    "duration": 6,
    "start_time": "2022-03-12T12:30:35.730Z"
   },
   {
    "duration": 21,
    "start_time": "2022-03-12T12:30:35.738Z"
   },
   {
    "duration": 8,
    "start_time": "2022-03-12T12:30:35.761Z"
   },
   {
    "duration": 16,
    "start_time": "2022-03-12T12:30:35.771Z"
   },
   {
    "duration": 6,
    "start_time": "2022-03-12T12:30:35.788Z"
   },
   {
    "duration": 9,
    "start_time": "2022-03-12T12:30:35.795Z"
   },
   {
    "duration": 6,
    "start_time": "2022-03-12T12:30:35.806Z"
   },
   {
    "duration": 5,
    "start_time": "2022-03-12T12:30:35.813Z"
   },
   {
    "duration": 346,
    "start_time": "2022-03-12T12:30:35.860Z"
   },
   {
    "duration": 301,
    "start_time": "2022-03-12T12:30:36.208Z"
   },
   {
    "duration": 11,
    "start_time": "2022-03-12T12:30:36.512Z"
   },
   {
    "duration": 37,
    "start_time": "2022-03-12T12:30:36.525Z"
   },
   {
    "duration": 287,
    "start_time": "2022-03-12T12:30:36.564Z"
   },
   {
    "duration": 402,
    "start_time": "2022-03-12T12:30:36.852Z"
   },
   {
    "duration": 306,
    "start_time": "2022-03-12T12:30:37.256Z"
   },
   {
    "duration": 398,
    "start_time": "2022-03-12T12:30:37.564Z"
   },
   {
    "duration": 132,
    "start_time": "2022-03-12T12:30:37.964Z"
   },
   {
    "duration": 350,
    "start_time": "2022-03-12T12:30:38.098Z"
   },
   {
    "duration": 10,
    "start_time": "2022-03-12T12:30:38.450Z"
   },
   {
    "duration": 387,
    "start_time": "2022-03-12T12:30:38.462Z"
   },
   {
    "duration": 388,
    "start_time": "2022-03-12T12:30:38.852Z"
   },
   {
    "duration": 6,
    "start_time": "2022-03-12T12:30:39.243Z"
   },
   {
    "duration": 326,
    "start_time": "2022-03-12T12:30:39.251Z"
   },
   {
    "duration": 30,
    "start_time": "2022-03-12T12:30:39.578Z"
   },
   {
    "duration": 150,
    "start_time": "2022-03-12T12:30:39.609Z"
   },
   {
    "duration": 9,
    "start_time": "2022-03-12T12:30:39.761Z"
   },
   {
    "duration": 9,
    "start_time": "2022-03-12T12:30:39.772Z"
   },
   {
    "duration": 7,
    "start_time": "2022-03-12T12:30:39.782Z"
   },
   {
    "duration": 8,
    "start_time": "2022-03-12T12:30:39.791Z"
   },
   {
    "duration": 9,
    "start_time": "2022-03-12T12:30:39.800Z"
   },
   {
    "duration": 57,
    "start_time": "2022-03-12T12:30:39.810Z"
   },
   {
    "duration": 1082,
    "start_time": "2022-03-12T12:49:47.290Z"
   },
   {
    "duration": 12,
    "start_time": "2022-03-12T12:49:48.373Z"
   },
   {
    "duration": 14,
    "start_time": "2022-03-12T12:49:48.387Z"
   },
   {
    "duration": 14,
    "start_time": "2022-03-12T12:49:48.403Z"
   },
   {
    "duration": 12,
    "start_time": "2022-03-12T12:49:48.419Z"
   },
   {
    "duration": 29,
    "start_time": "2022-03-12T12:49:48.432Z"
   },
   {
    "duration": 6,
    "start_time": "2022-03-12T12:49:48.463Z"
   },
   {
    "duration": 8,
    "start_time": "2022-03-12T12:49:48.472Z"
   },
   {
    "duration": 5,
    "start_time": "2022-03-12T12:49:48.482Z"
   },
   {
    "duration": 9,
    "start_time": "2022-03-12T12:49:48.489Z"
   },
   {
    "duration": 9,
    "start_time": "2022-03-12T12:49:48.499Z"
   },
   {
    "duration": 9,
    "start_time": "2022-03-12T12:49:48.510Z"
   },
   {
    "duration": 39,
    "start_time": "2022-03-12T12:49:48.520Z"
   },
   {
    "duration": 6,
    "start_time": "2022-03-12T12:49:48.561Z"
   },
   {
    "duration": 8,
    "start_time": "2022-03-12T12:49:48.569Z"
   },
   {
    "duration": 12,
    "start_time": "2022-03-12T12:49:48.579Z"
   },
   {
    "duration": 7,
    "start_time": "2022-03-12T12:49:48.593Z"
   },
   {
    "duration": 14,
    "start_time": "2022-03-12T12:49:48.602Z"
   },
   {
    "duration": 7,
    "start_time": "2022-03-12T12:49:48.618Z"
   },
   {
    "duration": 33,
    "start_time": "2022-03-12T12:49:48.627Z"
   },
   {
    "duration": 349,
    "start_time": "2022-03-12T12:49:48.662Z"
   },
   {
    "duration": 302,
    "start_time": "2022-03-12T12:49:49.013Z"
   },
   {
    "duration": 10,
    "start_time": "2022-03-12T12:49:49.319Z"
   },
   {
    "duration": 38,
    "start_time": "2022-03-12T12:49:49.331Z"
   },
   {
    "duration": 295,
    "start_time": "2022-03-12T12:49:49.371Z"
   },
   {
    "duration": 397,
    "start_time": "2022-03-12T12:49:49.668Z"
   },
   {
    "duration": 292,
    "start_time": "2022-03-12T12:49:50.067Z"
   },
   {
    "duration": 428,
    "start_time": "2022-03-12T12:49:50.360Z"
   },
   {
    "duration": 111,
    "start_time": "2022-03-12T12:49:50.790Z"
   },
   {
    "duration": 363,
    "start_time": "2022-03-12T12:49:50.902Z"
   },
   {
    "duration": 4,
    "start_time": "2022-03-12T12:49:51.267Z"
   },
   {
    "duration": 404,
    "start_time": "2022-03-12T12:49:51.272Z"
   },
   {
    "duration": 385,
    "start_time": "2022-03-12T12:49:51.678Z"
   },
   {
    "duration": 6,
    "start_time": "2022-03-12T12:49:52.065Z"
   },
   {
    "duration": 330,
    "start_time": "2022-03-12T12:49:52.073Z"
   },
   {
    "duration": 31,
    "start_time": "2022-03-12T12:49:52.405Z"
   },
   {
    "duration": 176,
    "start_time": "2022-03-12T12:49:52.438Z"
   },
   {
    "duration": 13,
    "start_time": "2022-03-12T12:49:52.617Z"
   },
   {
    "duration": 32,
    "start_time": "2022-03-12T12:49:52.631Z"
   },
   {
    "duration": 6,
    "start_time": "2022-03-12T12:49:52.665Z"
   },
   {
    "duration": 27,
    "start_time": "2022-03-12T12:49:52.673Z"
   },
   {
    "duration": 17,
    "start_time": "2022-03-12T12:49:52.702Z"
   },
   {
    "duration": 16,
    "start_time": "2022-03-12T12:49:52.721Z"
   },
   {
    "duration": 1091,
    "start_time": "2022-03-12T12:54:08.860Z"
   },
   {
    "duration": 16,
    "start_time": "2022-03-12T12:54:09.952Z"
   },
   {
    "duration": 13,
    "start_time": "2022-03-12T12:54:09.973Z"
   },
   {
    "duration": 13,
    "start_time": "2022-03-12T12:54:09.988Z"
   },
   {
    "duration": 13,
    "start_time": "2022-03-12T12:54:10.003Z"
   },
   {
    "duration": 29,
    "start_time": "2022-03-12T12:54:10.018Z"
   },
   {
    "duration": 14,
    "start_time": "2022-03-12T12:54:10.050Z"
   },
   {
    "duration": 9,
    "start_time": "2022-03-12T12:54:10.067Z"
   },
   {
    "duration": 8,
    "start_time": "2022-03-12T12:54:10.078Z"
   },
   {
    "duration": 9,
    "start_time": "2022-03-12T12:54:10.088Z"
   },
   {
    "duration": 7,
    "start_time": "2022-03-12T12:54:10.099Z"
   },
   {
    "duration": 12,
    "start_time": "2022-03-12T12:54:10.108Z"
   },
   {
    "duration": 41,
    "start_time": "2022-03-12T12:54:10.122Z"
   },
   {
    "duration": 9,
    "start_time": "2022-03-12T12:54:10.165Z"
   },
   {
    "duration": 9,
    "start_time": "2022-03-12T12:54:10.176Z"
   },
   {
    "duration": 13,
    "start_time": "2022-03-12T12:54:10.187Z"
   },
   {
    "duration": 4,
    "start_time": "2022-03-12T12:54:10.202Z"
   },
   {
    "duration": 8,
    "start_time": "2022-03-12T12:54:10.208Z"
   },
   {
    "duration": 42,
    "start_time": "2022-03-12T12:54:10.218Z"
   },
   {
    "duration": 6,
    "start_time": "2022-03-12T12:54:10.262Z"
   },
   {
    "duration": 351,
    "start_time": "2022-03-12T12:54:10.270Z"
   },
   {
    "duration": 305,
    "start_time": "2022-03-12T12:54:10.624Z"
   },
   {
    "duration": 10,
    "start_time": "2022-03-12T12:54:10.931Z"
   },
   {
    "duration": 31,
    "start_time": "2022-03-12T12:54:10.942Z"
   },
   {
    "duration": 291,
    "start_time": "2022-03-12T12:54:10.975Z"
   },
   {
    "duration": 411,
    "start_time": "2022-03-12T12:54:11.268Z"
   },
   {
    "duration": 298,
    "start_time": "2022-03-12T12:54:11.681Z"
   },
   {
    "duration": 409,
    "start_time": "2022-03-12T12:54:11.981Z"
   },
   {
    "duration": 140,
    "start_time": "2022-03-12T12:54:12.392Z"
   },
   {
    "duration": 402,
    "start_time": "2022-03-12T12:54:12.535Z"
   },
   {
    "duration": 6,
    "start_time": "2022-03-12T12:54:12.939Z"
   },
   {
    "duration": 408,
    "start_time": "2022-03-12T12:54:12.947Z"
   },
   {
    "duration": 392,
    "start_time": "2022-03-12T12:54:13.358Z"
   },
   {
    "duration": 10,
    "start_time": "2022-03-12T12:54:13.752Z"
   },
   {
    "duration": 346,
    "start_time": "2022-03-12T12:54:13.764Z"
   },
   {
    "duration": 33,
    "start_time": "2022-03-12T12:54:14.111Z"
   },
   {
    "duration": 148,
    "start_time": "2022-03-12T12:54:14.146Z"
   },
   {
    "duration": 14,
    "start_time": "2022-03-12T12:54:14.295Z"
   },
   {
    "duration": 9,
    "start_time": "2022-03-12T12:54:14.311Z"
   },
   {
    "duration": 38,
    "start_time": "2022-03-12T12:54:14.322Z"
   },
   {
    "duration": 8,
    "start_time": "2022-03-12T12:54:14.362Z"
   },
   {
    "duration": 11,
    "start_time": "2022-03-12T12:54:14.372Z"
   },
   {
    "duration": 18,
    "start_time": "2022-03-12T12:54:14.384Z"
   },
   {
    "duration": 174,
    "start_time": "2022-03-13T16:14:17.312Z"
   },
   {
    "duration": 969,
    "start_time": "2022-03-13T16:14:25.650Z"
   },
   {
    "duration": 19,
    "start_time": "2022-03-13T16:14:26.621Z"
   },
   {
    "duration": 13,
    "start_time": "2022-03-13T16:14:26.643Z"
   },
   {
    "duration": 13,
    "start_time": "2022-03-13T16:14:26.658Z"
   },
   {
    "duration": 13,
    "start_time": "2022-03-13T16:14:26.674Z"
   },
   {
    "duration": 43,
    "start_time": "2022-03-13T16:14:26.689Z"
   },
   {
    "duration": 6,
    "start_time": "2022-03-13T16:14:26.734Z"
   },
   {
    "duration": 9,
    "start_time": "2022-03-13T16:14:26.743Z"
   },
   {
    "duration": 7,
    "start_time": "2022-03-13T16:14:26.753Z"
   },
   {
    "duration": 11,
    "start_time": "2022-03-13T16:14:26.761Z"
   },
   {
    "duration": 10,
    "start_time": "2022-03-13T16:14:26.773Z"
   },
   {
    "duration": 7,
    "start_time": "2022-03-13T16:14:26.784Z"
   },
   {
    "duration": 7,
    "start_time": "2022-03-13T16:14:26.792Z"
   },
   {
    "duration": 6,
    "start_time": "2022-03-13T16:14:26.833Z"
   },
   {
    "duration": 7,
    "start_time": "2022-03-13T16:14:26.841Z"
   },
   {
    "duration": 12,
    "start_time": "2022-03-13T16:14:26.850Z"
   },
   {
    "duration": 5,
    "start_time": "2022-03-13T16:14:26.864Z"
   },
   {
    "duration": 11,
    "start_time": "2022-03-13T16:14:26.871Z"
   },
   {
    "duration": 8,
    "start_time": "2022-03-13T16:14:26.883Z"
   },
   {
    "duration": 5,
    "start_time": "2022-03-13T16:14:26.893Z"
   },
   {
    "duration": 18,
    "start_time": "2022-03-13T16:14:26.933Z"
   },
   {
    "duration": 407,
    "start_time": "2022-03-13T16:14:26.953Z"
   },
   {
    "duration": 294,
    "start_time": "2022-03-13T16:14:27.363Z"
   },
   {
    "duration": 10,
    "start_time": "2022-03-13T16:14:27.659Z"
   },
   {
    "duration": 20,
    "start_time": "2022-03-13T16:14:27.671Z"
   },
   {
    "duration": 289,
    "start_time": "2022-03-13T16:14:27.693Z"
   },
   {
    "duration": 352,
    "start_time": "2022-03-13T16:14:27.983Z"
   },
   {
    "duration": 273,
    "start_time": "2022-03-13T16:14:28.337Z"
   },
   {
    "duration": 389,
    "start_time": "2022-03-13T16:14:28.612Z"
   },
   {
    "duration": 140,
    "start_time": "2022-03-13T16:14:29.003Z"
   },
   {
    "duration": 337,
    "start_time": "2022-03-13T16:14:29.146Z"
   },
   {
    "duration": 5,
    "start_time": "2022-03-13T16:14:29.485Z"
   },
   {
    "duration": 369,
    "start_time": "2022-03-13T16:14:29.492Z"
   },
   {
    "duration": 400,
    "start_time": "2022-03-13T16:14:29.863Z"
   },
   {
    "duration": 6,
    "start_time": "2022-03-13T16:14:30.265Z"
   },
   {
    "duration": 326,
    "start_time": "2022-03-13T16:14:30.273Z"
   },
   {
    "duration": 43,
    "start_time": "2022-03-13T16:14:30.601Z"
   },
   {
    "duration": 136,
    "start_time": "2022-03-13T16:14:30.646Z"
   },
   {
    "duration": 16,
    "start_time": "2022-03-13T16:14:30.784Z"
   },
   {
    "duration": 39,
    "start_time": "2022-03-13T16:14:30.802Z"
   },
   {
    "duration": 12,
    "start_time": "2022-03-13T16:14:30.843Z"
   },
   {
    "duration": 7,
    "start_time": "2022-03-13T16:14:30.857Z"
   },
   {
    "duration": 15,
    "start_time": "2022-03-13T16:14:30.865Z"
   },
   {
    "duration": 51,
    "start_time": "2022-03-13T16:14:30.882Z"
   },
   {
    "duration": 15,
    "start_time": "2022-03-13T16:23:21.153Z"
   },
   {
    "duration": 15,
    "start_time": "2022-03-13T16:24:21.175Z"
   },
   {
    "duration": 1012,
    "start_time": "2022-03-13T16:25:44.531Z"
   },
   {
    "duration": 12,
    "start_time": "2022-03-13T16:25:45.545Z"
   },
   {
    "duration": 19,
    "start_time": "2022-03-13T16:25:45.559Z"
   },
   {
    "duration": 11,
    "start_time": "2022-03-13T16:25:45.580Z"
   },
   {
    "duration": 11,
    "start_time": "2022-03-13T16:25:45.592Z"
   },
   {
    "duration": 50,
    "start_time": "2022-03-13T16:25:45.604Z"
   },
   {
    "duration": 6,
    "start_time": "2022-03-13T16:25:45.656Z"
   },
   {
    "duration": 9,
    "start_time": "2022-03-13T16:25:45.664Z"
   },
   {
    "duration": 4,
    "start_time": "2022-03-13T16:25:45.676Z"
   },
   {
    "duration": 8,
    "start_time": "2022-03-13T16:25:45.682Z"
   },
   {
    "duration": 7,
    "start_time": "2022-03-13T16:25:45.691Z"
   },
   {
    "duration": 6,
    "start_time": "2022-03-13T16:25:45.699Z"
   },
   {
    "duration": 30,
    "start_time": "2022-03-13T16:25:45.707Z"
   },
   {
    "duration": 9,
    "start_time": "2022-03-13T16:25:45.738Z"
   },
   {
    "duration": 9,
    "start_time": "2022-03-13T16:25:45.749Z"
   },
   {
    "duration": 13,
    "start_time": "2022-03-13T16:25:45.759Z"
   },
   {
    "duration": 6,
    "start_time": "2022-03-13T16:25:45.773Z"
   },
   {
    "duration": 9,
    "start_time": "2022-03-13T16:25:45.780Z"
   },
   {
    "duration": 7,
    "start_time": "2022-03-13T16:25:45.791Z"
   },
   {
    "duration": 5,
    "start_time": "2022-03-13T16:25:45.833Z"
   },
   {
    "duration": 18,
    "start_time": "2022-03-13T16:25:45.840Z"
   },
   {
    "duration": 341,
    "start_time": "2022-03-13T16:25:45.859Z"
   },
   {
    "duration": 287,
    "start_time": "2022-03-13T16:25:46.202Z"
   },
   {
    "duration": 10,
    "start_time": "2022-03-13T16:25:46.491Z"
   },
   {
    "duration": 43,
    "start_time": "2022-03-13T16:25:46.502Z"
   },
   {
    "duration": 262,
    "start_time": "2022-03-13T16:25:46.546Z"
   },
   {
    "duration": 385,
    "start_time": "2022-03-13T16:25:46.811Z"
   },
   {
    "duration": 257,
    "start_time": "2022-03-13T16:25:47.198Z"
   },
   {
    "duration": 359,
    "start_time": "2022-03-13T16:25:47.457Z"
   },
   {
    "duration": 152,
    "start_time": "2022-03-13T16:25:47.817Z"
   },
   {
    "duration": 320,
    "start_time": "2022-03-13T16:25:47.971Z"
   },
   {
    "duration": 5,
    "start_time": "2022-03-13T16:25:48.292Z"
   },
   {
    "duration": 384,
    "start_time": "2022-03-13T16:25:48.298Z"
   },
   {
    "duration": 357,
    "start_time": "2022-03-13T16:25:48.684Z"
   },
   {
    "duration": 6,
    "start_time": "2022-03-13T16:25:49.043Z"
   },
   {
    "duration": 337,
    "start_time": "2022-03-13T16:25:49.050Z"
   },
   {
    "duration": 29,
    "start_time": "2022-03-13T16:25:49.388Z"
   },
   {
    "duration": 139,
    "start_time": "2022-03-13T16:25:49.419Z"
   },
   {
    "duration": 12,
    "start_time": "2022-03-13T16:25:49.560Z"
   },
   {
    "duration": 9,
    "start_time": "2022-03-13T16:25:49.573Z"
   },
   {
    "duration": 8,
    "start_time": "2022-03-13T16:25:49.583Z"
   },
   {
    "duration": 45,
    "start_time": "2022-03-13T16:25:49.592Z"
   },
   {
    "duration": 10,
    "start_time": "2022-03-13T16:25:49.639Z"
   },
   {
    "duration": 18,
    "start_time": "2022-03-13T16:25:49.650Z"
   },
   {
    "duration": 9,
    "start_time": "2022-03-13T16:27:38.181Z"
   },
   {
    "duration": 10,
    "start_time": "2022-03-13T16:28:07.835Z"
   },
   {
    "duration": 15,
    "start_time": "2022-03-13T16:30:46.643Z"
   },
   {
    "duration": 977,
    "start_time": "2022-03-13T16:54:08.759Z"
   },
   {
    "duration": 18,
    "start_time": "2022-03-13T16:54:09.738Z"
   },
   {
    "duration": 15,
    "start_time": "2022-03-13T16:54:09.758Z"
   },
   {
    "duration": 11,
    "start_time": "2022-03-13T16:54:09.775Z"
   },
   {
    "duration": 257,
    "start_time": "2022-03-13T16:54:09.788Z"
   },
   {
    "duration": 338,
    "start_time": "2022-03-13T16:54:09.710Z"
   },
   {
    "duration": 329,
    "start_time": "2022-03-13T16:54:09.721Z"
   },
   {
    "duration": 319,
    "start_time": "2022-03-13T16:54:09.732Z"
   },
   {
    "duration": 307,
    "start_time": "2022-03-13T16:54:09.745Z"
   },
   {
    "duration": 297,
    "start_time": "2022-03-13T16:54:09.757Z"
   },
   {
    "duration": 285,
    "start_time": "2022-03-13T16:54:09.770Z"
   },
   {
    "duration": 266,
    "start_time": "2022-03-13T16:54:09.791Z"
   },
   {
    "duration": 260,
    "start_time": "2022-03-13T16:54:09.798Z"
   },
   {
    "duration": 253,
    "start_time": "2022-03-13T16:54:09.807Z"
   },
   {
    "duration": 247,
    "start_time": "2022-03-13T16:54:09.814Z"
   },
   {
    "duration": 241,
    "start_time": "2022-03-13T16:54:09.821Z"
   },
   {
    "duration": 235,
    "start_time": "2022-03-13T16:54:09.828Z"
   },
   {
    "duration": 224,
    "start_time": "2022-03-13T16:54:09.840Z"
   },
   {
    "duration": 218,
    "start_time": "2022-03-13T16:54:09.847Z"
   },
   {
    "duration": 208,
    "start_time": "2022-03-13T16:54:09.858Z"
   },
   {
    "duration": 201,
    "start_time": "2022-03-13T16:54:09.866Z"
   },
   {
    "duration": 195,
    "start_time": "2022-03-13T16:54:09.873Z"
   },
   {
    "duration": 190,
    "start_time": "2022-03-13T16:54:09.879Z"
   },
   {
    "duration": 173,
    "start_time": "2022-03-13T16:54:09.897Z"
   },
   {
    "duration": 167,
    "start_time": "2022-03-13T16:54:09.904Z"
   },
   {
    "duration": 161,
    "start_time": "2022-03-13T16:54:09.911Z"
   },
   {
    "duration": 156,
    "start_time": "2022-03-13T16:54:09.917Z"
   },
   {
    "duration": 149,
    "start_time": "2022-03-13T16:54:09.925Z"
   },
   {
    "duration": 141,
    "start_time": "2022-03-13T16:54:09.933Z"
   },
   {
    "duration": 131,
    "start_time": "2022-03-13T16:54:09.945Z"
   },
   {
    "duration": 125,
    "start_time": "2022-03-13T16:54:09.952Z"
   },
   {
    "duration": 120,
    "start_time": "2022-03-13T16:54:09.958Z"
   },
   {
    "duration": 114,
    "start_time": "2022-03-13T16:54:09.965Z"
   },
   {
    "duration": 108,
    "start_time": "2022-03-13T16:54:09.972Z"
   },
   {
    "duration": 103,
    "start_time": "2022-03-13T16:54:09.978Z"
   },
   {
    "duration": 99,
    "start_time": "2022-03-13T16:54:09.983Z"
   },
   {
    "duration": 96,
    "start_time": "2022-03-13T16:54:09.987Z"
   },
   {
    "duration": 91,
    "start_time": "2022-03-13T16:54:09.993Z"
   },
   {
    "duration": 81,
    "start_time": "2022-03-13T16:54:10.004Z"
   },
   {
    "duration": 77,
    "start_time": "2022-03-13T16:54:10.009Z"
   },
   {
    "duration": 119,
    "start_time": "2022-03-13T16:54:10.013Z"
   },
   {
    "duration": 115,
    "start_time": "2022-03-13T16:54:10.018Z"
   },
   {
    "duration": 111,
    "start_time": "2022-03-13T16:54:10.023Z"
   },
   {
    "duration": 106,
    "start_time": "2022-03-13T16:54:10.029Z"
   },
   {
    "duration": 101,
    "start_time": "2022-03-13T16:54:10.035Z"
   },
   {
    "duration": 94,
    "start_time": "2022-03-13T16:54:10.043Z"
   },
   {
    "duration": 118,
    "start_time": "2022-03-13T16:58:46.486Z"
   },
   {
    "duration": 971,
    "start_time": "2022-03-13T17:01:38.137Z"
   },
   {
    "duration": 17,
    "start_time": "2022-03-13T17:01:39.110Z"
   },
   {
    "duration": 12,
    "start_time": "2022-03-13T17:01:39.129Z"
   },
   {
    "duration": 11,
    "start_time": "2022-03-13T17:01:39.143Z"
   },
   {
    "duration": 11,
    "start_time": "2022-03-13T17:01:39.156Z"
   },
   {
    "duration": 9,
    "start_time": "2022-03-13T17:01:39.169Z"
   },
   {
    "duration": 29,
    "start_time": "2022-03-13T17:01:39.180Z"
   },
   {
    "duration": 25,
    "start_time": "2022-03-13T17:01:39.212Z"
   },
   {
    "duration": 9,
    "start_time": "2022-03-13T17:01:39.239Z"
   },
   {
    "duration": 6,
    "start_time": "2022-03-13T17:01:39.250Z"
   },
   {
    "duration": 9,
    "start_time": "2022-03-13T17:01:39.258Z"
   },
   {
    "duration": 10,
    "start_time": "2022-03-13T17:01:39.269Z"
   },
   {
    "duration": 5,
    "start_time": "2022-03-13T17:01:39.281Z"
   },
   {
    "duration": 46,
    "start_time": "2022-03-13T17:01:39.288Z"
   },
   {
    "duration": 6,
    "start_time": "2022-03-13T17:01:39.336Z"
   },
   {
    "duration": 11,
    "start_time": "2022-03-13T17:01:39.343Z"
   },
   {
    "duration": 13,
    "start_time": "2022-03-13T17:01:39.356Z"
   },
   {
    "duration": 5,
    "start_time": "2022-03-13T17:01:39.370Z"
   },
   {
    "duration": 9,
    "start_time": "2022-03-13T17:01:39.376Z"
   },
   {
    "duration": 48,
    "start_time": "2022-03-13T17:01:39.387Z"
   },
   {
    "duration": 6,
    "start_time": "2022-03-13T17:01:39.437Z"
   },
   {
    "duration": 14,
    "start_time": "2022-03-13T17:01:39.444Z"
   },
   {
    "duration": 340,
    "start_time": "2022-03-13T17:01:39.461Z"
   },
   {
    "duration": 289,
    "start_time": "2022-03-13T17:01:39.803Z"
   },
   {
    "duration": 10,
    "start_time": "2022-03-13T17:01:40.094Z"
   },
   {
    "duration": 39,
    "start_time": "2022-03-13T17:01:40.105Z"
   },
   {
    "duration": 258,
    "start_time": "2022-03-13T17:01:40.146Z"
   },
   {
    "duration": 413,
    "start_time": "2022-03-13T17:01:40.406Z"
   },
   {
    "duration": 255,
    "start_time": "2022-03-13T17:01:40.821Z"
   },
   {
    "duration": 366,
    "start_time": "2022-03-13T17:01:41.078Z"
   },
   {
    "duration": 130,
    "start_time": "2022-03-13T17:01:41.445Z"
   },
   {
    "duration": 313,
    "start_time": "2022-03-13T17:01:41.576Z"
   },
   {
    "duration": 4,
    "start_time": "2022-03-13T17:01:41.891Z"
   },
   {
    "duration": 373,
    "start_time": "2022-03-13T17:01:41.897Z"
   },
   {
    "duration": 332,
    "start_time": "2022-03-13T17:01:42.272Z"
   },
   {
    "duration": 5,
    "start_time": "2022-03-13T17:01:42.606Z"
   },
   {
    "duration": 344,
    "start_time": "2022-03-13T17:01:42.612Z"
   },
   {
    "duration": 32,
    "start_time": "2022-03-13T17:01:42.958Z"
   },
   {
    "duration": 157,
    "start_time": "2022-03-13T17:01:42.991Z"
   },
   {
    "duration": 11,
    "start_time": "2022-03-13T17:01:43.150Z"
   },
   {
    "duration": 9,
    "start_time": "2022-03-13T17:01:43.163Z"
   },
   {
    "duration": 9,
    "start_time": "2022-03-13T17:01:43.173Z"
   },
   {
    "duration": 52,
    "start_time": "2022-03-13T17:01:43.184Z"
   },
   {
    "duration": 10,
    "start_time": "2022-03-13T17:01:43.238Z"
   },
   {
    "duration": 17,
    "start_time": "2022-03-13T17:01:43.250Z"
   },
   {
    "duration": 38,
    "start_time": "2022-03-13T17:01:43.268Z"
   },
   {
    "duration": 1011,
    "start_time": "2022-03-13T17:02:13.409Z"
   },
   {
    "duration": 13,
    "start_time": "2022-03-13T17:02:14.422Z"
   },
   {
    "duration": 14,
    "start_time": "2022-03-13T17:02:14.436Z"
   },
   {
    "duration": 11,
    "start_time": "2022-03-13T17:02:14.452Z"
   },
   {
    "duration": 11,
    "start_time": "2022-03-13T17:02:14.465Z"
   },
   {
    "duration": 10,
    "start_time": "2022-03-13T17:02:14.477Z"
   },
   {
    "duration": 31,
    "start_time": "2022-03-13T17:02:14.488Z"
   },
   {
    "duration": 16,
    "start_time": "2022-03-13T17:02:14.522Z"
   },
   {
    "duration": 12,
    "start_time": "2022-03-13T17:02:14.541Z"
   },
   {
    "duration": 14,
    "start_time": "2022-03-13T17:02:14.555Z"
   },
   {
    "duration": 10,
    "start_time": "2022-03-13T17:02:14.570Z"
   },
   {
    "duration": 8,
    "start_time": "2022-03-13T17:02:14.581Z"
   },
   {
    "duration": 6,
    "start_time": "2022-03-13T17:02:14.591Z"
   },
   {
    "duration": 36,
    "start_time": "2022-03-13T17:02:14.599Z"
   },
   {
    "duration": 11,
    "start_time": "2022-03-13T17:02:14.636Z"
   },
   {
    "duration": 18,
    "start_time": "2022-03-13T17:02:14.649Z"
   },
   {
    "duration": 15,
    "start_time": "2022-03-13T17:02:14.668Z"
   },
   {
    "duration": 9,
    "start_time": "2022-03-13T17:02:14.684Z"
   },
   {
    "duration": 19,
    "start_time": "2022-03-13T17:02:14.695Z"
   },
   {
    "duration": 22,
    "start_time": "2022-03-13T17:02:14.715Z"
   },
   {
    "duration": 8,
    "start_time": "2022-03-13T17:02:14.738Z"
   },
   {
    "duration": 16,
    "start_time": "2022-03-13T17:02:14.747Z"
   },
   {
    "duration": 353,
    "start_time": "2022-03-13T17:02:14.767Z"
   },
   {
    "duration": 275,
    "start_time": "2022-03-13T17:02:15.122Z"
   },
   {
    "duration": 11,
    "start_time": "2022-03-13T17:02:15.399Z"
   },
   {
    "duration": 33,
    "start_time": "2022-03-13T17:02:15.411Z"
   },
   {
    "duration": 264,
    "start_time": "2022-03-13T17:02:15.445Z"
   },
   {
    "duration": 393,
    "start_time": "2022-03-13T17:02:15.710Z"
   },
   {
    "duration": 255,
    "start_time": "2022-03-13T17:02:16.105Z"
   },
   {
    "duration": 375,
    "start_time": "2022-03-13T17:02:16.361Z"
   },
   {
    "duration": 124,
    "start_time": "2022-03-13T17:02:16.738Z"
   },
   {
    "duration": 352,
    "start_time": "2022-03-13T17:02:16.864Z"
   },
   {
    "duration": 15,
    "start_time": "2022-03-13T17:02:17.217Z"
   },
   {
    "duration": 375,
    "start_time": "2022-03-13T17:02:17.234Z"
   },
   {
    "duration": 527,
    "start_time": "2022-03-13T17:02:17.611Z"
   },
   {
    "duration": 5,
    "start_time": "2022-03-13T17:02:18.139Z"
   },
   {
    "duration": 382,
    "start_time": "2022-03-13T17:02:18.145Z"
   },
   {
    "duration": 29,
    "start_time": "2022-03-13T17:02:18.529Z"
   },
   {
    "duration": 148,
    "start_time": "2022-03-13T17:02:18.559Z"
   },
   {
    "duration": 33,
    "start_time": "2022-03-13T17:02:18.710Z"
   },
   {
    "duration": 12,
    "start_time": "2022-03-13T17:02:18.745Z"
   },
   {
    "duration": 29,
    "start_time": "2022-03-13T17:02:18.759Z"
   },
   {
    "duration": 12,
    "start_time": "2022-03-13T17:02:18.790Z"
   },
   {
    "duration": 41,
    "start_time": "2022-03-13T17:02:18.803Z"
   },
   {
    "duration": 23,
    "start_time": "2022-03-13T17:02:18.846Z"
   },
   {
    "duration": 39,
    "start_time": "2022-03-13T17:02:18.871Z"
   },
   {
    "duration": 994,
    "start_time": "2022-03-13T17:05:44.977Z"
   },
   {
    "duration": 11,
    "start_time": "2022-03-13T17:05:45.973Z"
   },
   {
    "duration": 13,
    "start_time": "2022-03-13T17:05:45.986Z"
   },
   {
    "duration": 13,
    "start_time": "2022-03-13T17:05:46.001Z"
   },
   {
    "duration": 27,
    "start_time": "2022-03-13T17:05:46.015Z"
   },
   {
    "duration": 12,
    "start_time": "2022-03-13T17:05:46.045Z"
   },
   {
    "duration": 29,
    "start_time": "2022-03-13T17:05:46.059Z"
   },
   {
    "duration": 8,
    "start_time": "2022-03-13T17:05:46.089Z"
   },
   {
    "duration": 8,
    "start_time": "2022-03-13T17:05:46.099Z"
   },
   {
    "duration": 31,
    "start_time": "2022-03-13T17:05:46.109Z"
   },
   {
    "duration": 10,
    "start_time": "2022-03-13T17:05:46.141Z"
   },
   {
    "duration": 9,
    "start_time": "2022-03-13T17:05:46.153Z"
   },
   {
    "duration": 8,
    "start_time": "2022-03-13T17:05:46.164Z"
   },
   {
    "duration": 6,
    "start_time": "2022-03-13T17:05:46.173Z"
   },
   {
    "duration": 8,
    "start_time": "2022-03-13T17:05:46.181Z"
   },
   {
    "duration": 49,
    "start_time": "2022-03-13T17:05:46.191Z"
   },
   {
    "duration": 14,
    "start_time": "2022-03-13T17:05:46.242Z"
   },
   {
    "duration": 9,
    "start_time": "2022-03-13T17:05:46.257Z"
   },
   {
    "duration": 12,
    "start_time": "2022-03-13T17:05:46.268Z"
   },
   {
    "duration": 15,
    "start_time": "2022-03-13T17:05:46.281Z"
   },
   {
    "duration": 38,
    "start_time": "2022-03-13T17:05:46.298Z"
   },
   {
    "duration": 18,
    "start_time": "2022-03-13T17:05:46.338Z"
   },
   {
    "duration": 367,
    "start_time": "2022-03-13T17:05:46.358Z"
   },
   {
    "duration": 279,
    "start_time": "2022-03-13T17:05:46.726Z"
   },
   {
    "duration": 10,
    "start_time": "2022-03-13T17:05:47.006Z"
   },
   {
    "duration": 26,
    "start_time": "2022-03-13T17:05:47.017Z"
   },
   {
    "duration": 267,
    "start_time": "2022-03-13T17:05:47.046Z"
   },
   {
    "duration": 403,
    "start_time": "2022-03-13T17:05:47.315Z"
   },
   {
    "duration": 254,
    "start_time": "2022-03-13T17:05:47.719Z"
   },
   {
    "duration": 346,
    "start_time": "2022-03-13T17:05:47.975Z"
   },
   {
    "duration": 142,
    "start_time": "2022-03-13T17:05:48.323Z"
   },
   {
    "duration": 350,
    "start_time": "2022-03-13T17:05:48.467Z"
   },
   {
    "duration": 5,
    "start_time": "2022-03-13T17:05:48.819Z"
   },
   {
    "duration": 376,
    "start_time": "2022-03-13T17:05:48.833Z"
   },
   {
    "duration": 384,
    "start_time": "2022-03-13T17:05:49.211Z"
   },
   {
    "duration": 6,
    "start_time": "2022-03-13T17:05:49.597Z"
   },
   {
    "duration": 323,
    "start_time": "2022-03-13T17:05:49.605Z"
   },
   {
    "duration": 32,
    "start_time": "2022-03-13T17:05:49.930Z"
   },
   {
    "duration": 140,
    "start_time": "2022-03-13T17:05:49.963Z"
   },
   {
    "duration": 32,
    "start_time": "2022-03-13T17:05:50.104Z"
   },
   {
    "duration": 9,
    "start_time": "2022-03-13T17:05:50.138Z"
   },
   {
    "duration": 10,
    "start_time": "2022-03-13T17:05:50.148Z"
   },
   {
    "duration": 8,
    "start_time": "2022-03-13T17:05:50.160Z"
   },
   {
    "duration": 11,
    "start_time": "2022-03-13T17:05:50.169Z"
   },
   {
    "duration": 57,
    "start_time": "2022-03-13T17:05:50.181Z"
   },
   {
    "duration": 371,
    "start_time": "2022-03-13T17:17:12.337Z"
   },
   {
    "duration": 3063,
    "start_time": "2022-03-13T17:17:49.822Z"
   },
   {
    "duration": 408,
    "start_time": "2022-03-13T17:20:23.422Z"
   },
   {
    "duration": 137,
    "start_time": "2022-03-13T17:21:55.588Z"
   },
   {
    "duration": 128,
    "start_time": "2022-03-13T17:22:04.027Z"
   },
   {
    "duration": 343,
    "start_time": "2022-03-13T17:22:13.958Z"
   },
   {
    "duration": 334,
    "start_time": "2022-03-13T17:22:13.968Z"
   },
   {
    "duration": 328,
    "start_time": "2022-03-13T17:22:13.975Z"
   },
   {
    "duration": 319,
    "start_time": "2022-03-13T17:22:13.985Z"
   },
   {
    "duration": 312,
    "start_time": "2022-03-13T17:22:13.993Z"
   },
   {
    "duration": 301,
    "start_time": "2022-03-13T17:22:14.005Z"
   },
   {
    "duration": 293,
    "start_time": "2022-03-13T17:22:14.014Z"
   },
   {
    "duration": 281,
    "start_time": "2022-03-13T17:22:14.027Z"
   },
   {
    "duration": 271,
    "start_time": "2022-03-13T17:22:14.038Z"
   },
   {
    "duration": 237,
    "start_time": "2022-03-13T17:22:14.073Z"
   },
   {
    "duration": 222,
    "start_time": "2022-03-13T17:22:14.089Z"
   },
   {
    "duration": 210,
    "start_time": "2022-03-13T17:22:14.102Z"
   },
   {
    "duration": 199,
    "start_time": "2022-03-13T17:22:14.113Z"
   },
   {
    "duration": 189,
    "start_time": "2022-03-13T17:22:14.124Z"
   },
   {
    "duration": 178,
    "start_time": "2022-03-13T17:22:14.136Z"
   },
   {
    "duration": 170,
    "start_time": "2022-03-13T17:22:14.144Z"
   },
   {
    "duration": 161,
    "start_time": "2022-03-13T17:22:14.154Z"
   },
   {
    "duration": 153,
    "start_time": "2022-03-13T17:22:14.162Z"
   },
   {
    "duration": 151,
    "start_time": "2022-03-13T17:22:14.182Z"
   },
   {
    "duration": 144,
    "start_time": "2022-03-13T17:22:14.190Z"
   },
   {
    "duration": 136,
    "start_time": "2022-03-13T17:22:14.199Z"
   },
   {
    "duration": 128,
    "start_time": "2022-03-13T17:22:14.207Z"
   },
   {
    "duration": 119,
    "start_time": "2022-03-13T17:22:14.217Z"
   },
   {
    "duration": 112,
    "start_time": "2022-03-13T17:22:14.225Z"
   },
   {
    "duration": 105,
    "start_time": "2022-03-13T17:22:14.233Z"
   },
   {
    "duration": 98,
    "start_time": "2022-03-13T17:22:14.241Z"
   },
   {
    "duration": 93,
    "start_time": "2022-03-13T17:22:14.247Z"
   },
   {
    "duration": 89,
    "start_time": "2022-03-13T17:22:14.252Z"
   },
   {
    "duration": 85,
    "start_time": "2022-03-13T17:22:14.257Z"
   },
   {
    "duration": 81,
    "start_time": "2022-03-13T17:22:14.262Z"
   },
   {
    "duration": 78,
    "start_time": "2022-03-13T17:22:14.266Z"
   },
   {
    "duration": 75,
    "start_time": "2022-03-13T17:22:14.270Z"
   },
   {
    "duration": 53,
    "start_time": "2022-03-13T17:22:14.293Z"
   },
   {
    "duration": 49,
    "start_time": "2022-03-13T17:22:14.298Z"
   },
   {
    "duration": 45,
    "start_time": "2022-03-13T17:22:14.303Z"
   },
   {
    "duration": 40,
    "start_time": "2022-03-13T17:22:14.308Z"
   },
   {
    "duration": 37,
    "start_time": "2022-03-13T17:22:14.312Z"
   },
   {
    "duration": 33,
    "start_time": "2022-03-13T17:22:14.317Z"
   },
   {
    "duration": 30,
    "start_time": "2022-03-13T17:22:14.321Z"
   },
   {
    "duration": 26,
    "start_time": "2022-03-13T17:22:14.326Z"
   },
   {
    "duration": 26,
    "start_time": "2022-03-13T17:22:14.329Z"
   },
   {
    "duration": 16,
    "start_time": "2022-03-13T17:22:14.339Z"
   },
   {
    "duration": 13,
    "start_time": "2022-03-13T17:22:14.343Z"
   },
   {
    "duration": 9,
    "start_time": "2022-03-13T17:22:14.348Z"
   },
   {
    "duration": 7,
    "start_time": "2022-03-13T17:22:14.352Z"
   },
   {
    "duration": -7,
    "start_time": "2022-03-13T17:22:14.367Z"
   },
   {
    "duration": 170,
    "start_time": "2022-03-13T17:22:38.223Z"
   },
   {
    "duration": 1071,
    "start_time": "2022-03-13T17:22:45.250Z"
   },
   {
    "duration": 12,
    "start_time": "2022-03-13T17:22:46.323Z"
   },
   {
    "duration": 13,
    "start_time": "2022-03-13T17:22:46.337Z"
   },
   {
    "duration": 11,
    "start_time": "2022-03-13T17:22:46.351Z"
   },
   {
    "duration": 11,
    "start_time": "2022-03-13T17:22:46.364Z"
   },
   {
    "duration": 11,
    "start_time": "2022-03-13T17:22:46.377Z"
   },
   {
    "duration": 68,
    "start_time": "2022-03-13T17:22:46.389Z"
   },
   {
    "duration": 7,
    "start_time": "2022-03-13T17:22:46.460Z"
   },
   {
    "duration": 10,
    "start_time": "2022-03-13T17:22:46.469Z"
   },
   {
    "duration": 9,
    "start_time": "2022-03-13T17:22:46.480Z"
   },
   {
    "duration": 9,
    "start_time": "2022-03-13T17:22:46.490Z"
   },
   {
    "duration": 8,
    "start_time": "2022-03-13T17:22:46.532Z"
   },
   {
    "duration": 7,
    "start_time": "2022-03-13T17:22:46.542Z"
   },
   {
    "duration": 5,
    "start_time": "2022-03-13T17:22:46.550Z"
   },
   {
    "duration": 7,
    "start_time": "2022-03-13T17:22:46.557Z"
   },
   {
    "duration": 11,
    "start_time": "2022-03-13T17:22:46.565Z"
   },
   {
    "duration": 13,
    "start_time": "2022-03-13T17:22:46.577Z"
   },
   {
    "duration": 48,
    "start_time": "2022-03-13T17:22:46.591Z"
   },
   {
    "duration": 22,
    "start_time": "2022-03-13T17:22:46.641Z"
   },
   {
    "duration": 12,
    "start_time": "2022-03-13T17:22:46.665Z"
   },
   {
    "duration": 13,
    "start_time": "2022-03-13T17:22:46.680Z"
   },
   {
    "duration": 52,
    "start_time": "2022-03-13T17:22:46.695Z"
   },
   {
    "duration": 201,
    "start_time": "2022-03-13T17:22:46.750Z"
   },
   {
    "duration": 90,
    "start_time": "2022-03-13T17:22:46.864Z"
   },
   {
    "duration": 86,
    "start_time": "2022-03-13T17:22:46.869Z"
   },
   {
    "duration": 82,
    "start_time": "2022-03-13T17:22:46.874Z"
   },
   {
    "duration": 79,
    "start_time": "2022-03-13T17:22:46.878Z"
   },
   {
    "duration": 76,
    "start_time": "2022-03-13T17:22:46.882Z"
   },
   {
    "duration": 72,
    "start_time": "2022-03-13T17:22:46.887Z"
   },
   {
    "duration": 68,
    "start_time": "2022-03-13T17:22:46.893Z"
   },
   {
    "duration": 65,
    "start_time": "2022-03-13T17:22:46.897Z"
   },
   {
    "duration": 62,
    "start_time": "2022-03-13T17:22:46.901Z"
   },
   {
    "duration": 58,
    "start_time": "2022-03-13T17:22:46.905Z"
   },
   {
    "duration": 55,
    "start_time": "2022-03-13T17:22:46.909Z"
   },
   {
    "duration": 51,
    "start_time": "2022-03-13T17:22:46.913Z"
   },
   {
    "duration": 48,
    "start_time": "2022-03-13T17:22:46.917Z"
   },
   {
    "duration": 44,
    "start_time": "2022-03-13T17:22:46.921Z"
   },
   {
    "duration": 41,
    "start_time": "2022-03-13T17:22:46.925Z"
   },
   {
    "duration": 38,
    "start_time": "2022-03-13T17:22:46.929Z"
   },
   {
    "duration": 34,
    "start_time": "2022-03-13T17:22:46.933Z"
   },
   {
    "duration": 30,
    "start_time": "2022-03-13T17:22:46.938Z"
   },
   {
    "duration": 26,
    "start_time": "2022-03-13T17:22:46.942Z"
   },
   {
    "duration": 13,
    "start_time": "2022-03-13T17:22:46.956Z"
   },
   {
    "duration": 8,
    "start_time": "2022-03-13T17:22:46.961Z"
   },
   {
    "duration": 3,
    "start_time": "2022-03-13T17:22:46.967Z"
   },
   {
    "duration": -2,
    "start_time": "2022-03-13T17:22:46.972Z"
   },
   {
    "duration": 145,
    "start_time": "2022-03-13T17:26:18.634Z"
   },
   {
    "duration": 142,
    "start_time": "2022-03-13T17:26:20.975Z"
   },
   {
    "duration": 42,
    "start_time": "2022-03-13T17:26:43.566Z"
   },
   {
    "duration": 40,
    "start_time": "2022-03-13T17:26:45.603Z"
   },
   {
    "duration": 11,
    "start_time": "2022-03-13T17:26:49.560Z"
   }
  ],
  "kernelspec": {
   "display_name": "Python 3 (ipykernel)",
   "language": "python",
   "name": "python3"
  },
  "language_info": {
   "codemirror_mode": {
    "name": "ipython",
    "version": 3
   },
   "file_extension": ".py",
   "mimetype": "text/x-python",
   "name": "python",
   "nbconvert_exporter": "python",
   "pygments_lexer": "ipython3",
   "version": "3.8.10"
  },
  "toc": {
   "base_numbering": 1,
   "nav_menu": {},
   "number_sections": true,
   "sideBar": true,
   "skip_h1_title": true,
   "title_cell": "Table of Contents",
   "title_sidebar": "Contents",
   "toc_cell": false,
   "toc_position": {},
   "toc_section_display": true,
   "toc_window_display": false
  }
 },
 "nbformat": 4,
 "nbformat_minor": 2
}
